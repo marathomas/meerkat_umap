{
 "cells": [
  {
   "cell_type": "markdown",
   "metadata": {
    "id": "ObimIqrg4wDd"
   },
   "source": [
    "# Prepare datasets"
   ]
  },
  {
   "cell_type": "markdown",
   "metadata": {
    "id": "TecLeuUBRC57"
   },
   "source": [
    "### Installing and loading libraries"
   ]
  },
  {
   "cell_type": "code",
   "execution_count": 11,
   "metadata": {
    "colab": {
     "base_uri": "https://localhost:8080/"
    },
    "executionInfo": {
     "elapsed": 12387,
     "status": "ok",
     "timestamp": 1606227412255,
     "user": {
      "displayName": "Mara Thomas",
      "photoUrl": "",
      "userId": "08285540157542181220"
     },
     "user_tz": -60
    },
    "id": "0F5vdvXWeeZn",
    "outputId": "0822902b-a218-4952-ec42-0ad699fc8a2a"
   },
   "outputs": [],
   "source": [
    "import os\n",
    "import pandas as pd\n",
    "import sys\n",
    "import re\n",
    "import json\n",
    "import librosa\n",
    "import librosa.display\n",
    "from IPython.display import Audio\n",
    "import numpy as np\n",
    "from pathlib import Path\n",
    "import matplotlib.pyplot as plt\n",
    "import glob\n",
    "from pandas.core.common import flatten\n",
    "import shutil\n",
    "import pickle\n",
    "import seaborn as sns"
   ]
  },
  {
   "cell_type": "markdown",
   "metadata": {
    "id": "rFQH__8fWc2D"
   },
   "source": [
    "### Setting constants"
   ]
  },
  {
   "cell_type": "markdown",
   "metadata": {
    "id": "kHkKwuIE5KRM"
   },
   "source": [
    "Setting project, input and output folders."
   ]
  },
  {
   "cell_type": "code",
   "execution_count": 30,
   "metadata": {},
   "outputs": [],
   "source": [
    "wd = os.getcwd()\n",
    "DATA = os.path.join(os.path.sep, str(Path(wd).parents[0]), \"data\", \"processed\")\n",
    "FIGURES = os.path.join(os.path.sep, str(Path(wd).parents[0]), \"reports\", \"figures\")\n",
    "DF = os.path.join(os.path.sep, DATA, \"meerkat_full_specs.pkl\")"
   ]
  },
  {
   "cell_type": "markdown",
   "metadata": {
    "id": "IjtDjnHLt4ET"
   },
   "source": [
    "## Processing files"
   ]
  },
  {
   "cell_type": "markdown",
   "metadata": {
    "id": "8GcTYb6E_GOg"
   },
   "source": [
    "Reading in labelfile"
   ]
  },
  {
   "cell_type": "code",
   "execution_count": 31,
   "metadata": {
    "id": "jQVZb9G3_BWa"
   },
   "outputs": [],
   "source": [
    "df = pd.read_pickle(DF)"
   ]
  },
  {
   "cell_type": "code",
   "execution_count": 14,
   "metadata": {},
   "outputs": [
    {
     "data": {
      "text/html": [
       "<div>\n",
       "<style scoped>\n",
       "    .dataframe tbody tr th:only-of-type {\n",
       "        vertical-align: middle;\n",
       "    }\n",
       "\n",
       "    .dataframe tbody tr th {\n",
       "        vertical-align: top;\n",
       "    }\n",
       "\n",
       "    .dataframe thead th {\n",
       "        text-align: right;\n",
       "    }\n",
       "</style>\n",
       "<table border=\"1\" class=\"dataframe\">\n",
       "  <thead>\n",
       "    <tr style=\"text-align: right;\">\n",
       "      <th></th>\n",
       "      <th>Name</th>\n",
       "      <th>Start</th>\n",
       "      <th>Duration</th>\n",
       "      <th>Time Format</th>\n",
       "      <th>Type</th>\n",
       "      <th>Description</th>\n",
       "      <th>start_s</th>\n",
       "      <th>duration_s</th>\n",
       "      <th>stop_s</th>\n",
       "      <th>date</th>\n",
       "      <th>...</th>\n",
       "      <th>raw_audio</th>\n",
       "      <th>spectrograms</th>\n",
       "      <th>denoised_spectrograms</th>\n",
       "      <th>stretched_spectrograms</th>\n",
       "      <th>stretched_denoised_spectrograms</th>\n",
       "      <th>stretched_mfccs</th>\n",
       "      <th>mfccs</th>\n",
       "      <th>zmfccs</th>\n",
       "      <th>freq_spectrograms</th>\n",
       "      <th>ampli_spectrograms</th>\n",
       "    </tr>\n",
       "  </thead>\n",
       "  <tbody>\n",
       "    <tr>\n",
       "      <th>0</th>\n",
       "      <td>CCX</td>\n",
       "      <td>1:00:06.330</td>\n",
       "      <td>0:00.138</td>\n",
       "      <td>decimal</td>\n",
       "      <td>Cue</td>\n",
       "      <td>NaN</td>\n",
       "      <td>3606.330</td>\n",
       "      <td>0.138</td>\n",
       "      <td>3606.468</td>\n",
       "      <td>2017-08-23</td>\n",
       "      <td>...</td>\n",
       "      <td>[0.07421875, -0.0390625, 0.046875, -0.04882812...</td>\n",
       "      <td>[[-17.126005, -17.478065, -18.361465, -18.6122...</td>\n",
       "      <td>[[12.465506, 13.172077, 15.100151, 18.702147, ...</td>\n",
       "      <td>[[-17.091763, -17.201288, -17.301771, -17.3925...</td>\n",
       "      <td>[[12.4655075, 12.577885, 12.783957, 13.024706,...</td>\n",
       "      <td>[[-185.60631, -186.9563, -188.32121, -189.7049...</td>\n",
       "      <td>[[-185.82288, -190.79483, -206.11852, -224.361...</td>\n",
       "      <td>[[0.64984345, 0.0813487, -1.670769, -3.7566311...</td>\n",
       "      <td>[[-9.4241905, -10.012363, -11.753595, -16.4784...</td>\n",
       "      <td>[[1.9310296, 1.8045973, 1.4767897, 0.85718805,...</td>\n",
       "    </tr>\n",
       "    <tr>\n",
       "      <th>1</th>\n",
       "      <td>CC</td>\n",
       "      <td>1:00:15.043</td>\n",
       "      <td>0:00.083</td>\n",
       "      <td>decimal</td>\n",
       "      <td>Cue</td>\n",
       "      <td>NaN</td>\n",
       "      <td>3615.043</td>\n",
       "      <td>0.083</td>\n",
       "      <td>3615.126</td>\n",
       "      <td>2017-08-23</td>\n",
       "      <td>...</td>\n",
       "      <td>[0.00390625, -0.009765625, -0.005859375, -0.00...</td>\n",
       "      <td>[[-4.711441, -5.041479, -4.9103146, -4.332323,...</td>\n",
       "      <td>[[19.45323, 19.491451, 20.794704, 22.801003, 2...</td>\n",
       "      <td>[[-4.7003555, -4.754673, -4.8091774, -4.863870...</td>\n",
       "      <td>[[19.45323, 19.338696, 19.290312, 19.339138, 1...</td>\n",
       "      <td>[[-150.67801, -151.27452, -151.76613, -152.187...</td>\n",
       "      <td>[[-150.74812, -153.35846, -158.54785, -159.267...</td>\n",
       "      <td>[[-1.5349202, -1.8745539, -2.5497582, -2.64339...</td>\n",
       "      <td>[[0.0, -0.09533405, -0.80149007, -2.549852, -4...</td>\n",
       "      <td>[[1.6543101, 1.6362522, 1.50849, 1.2334579, 0....</td>\n",
       "    </tr>\n",
       "    <tr>\n",
       "      <th>2</th>\n",
       "      <td>CC</td>\n",
       "      <td>1:00:35.627</td>\n",
       "      <td>0:00.191</td>\n",
       "      <td>decimal</td>\n",
       "      <td>Cue</td>\n",
       "      <td>NaN</td>\n",
       "      <td>3635.627</td>\n",
       "      <td>0.191</td>\n",
       "      <td>3635.818</td>\n",
       "      <td>2017-08-23</td>\n",
       "      <td>...</td>\n",
       "      <td>[-0.021484375, -0.01953125, -0.015625, -0.0253...</td>\n",
       "      <td>[[-2.0994568, -2.1183338, -2.4481869, -2.52930...</td>\n",
       "      <td>[[26.603214, 23.59336, 22.140139, 22.74288, 25...</td>\n",
       "      <td>[[-2.0606213, -2.0682697, -2.0753784, -2.12830...</td>\n",
       "      <td>[[26.603214, 25.222303, 24.038933, 23.166643, ...</td>\n",
       "      <td>[[-181.93117, -178.50516, -174.7108, -170.6093...</td>\n",
       "      <td>[[-182.17676, -172.59605, -161.6688, -155.9510...</td>\n",
       "      <td>[[-2.5395038, -1.3634436, -0.022088198, 0.6797...</td>\n",
       "      <td>[[-1.0441284, -1.0946293, -1.0754423, -0.78855...</td>\n",
       "      <td>[[2.7437742, 2.7278676, 2.7339003, 2.8257058, ...</td>\n",
       "    </tr>\n",
       "    <tr>\n",
       "      <th>3</th>\n",
       "      <td>CCX</td>\n",
       "      <td>1:00:39.664</td>\n",
       "      <td>0:00.136</td>\n",
       "      <td>decimal</td>\n",
       "      <td>Cue</td>\n",
       "      <td>NaN</td>\n",
       "      <td>3639.664</td>\n",
       "      <td>0.136</td>\n",
       "      <td>3639.800</td>\n",
       "      <td>2017-08-23</td>\n",
       "      <td>...</td>\n",
       "      <td>[-0.07421875, -0.091796875, -0.0703125, -0.093...</td>\n",
       "      <td>[[-2.4227839, -2.4676123, -1.3817182, -9.53674...</td>\n",
       "      <td>[[23.318436, 20.742912, 18.633371, 18.164673, ...</td>\n",
       "      <td>[[-2.4120007, -2.476612, -2.5023413, -2.488493...</td>\n",
       "      <td>[[23.318434, 22.743534, 21.944828, 21.31356, 2...</td>\n",
       "      <td>[[-154.5513, -150.79512, -146.91171, -143.0723...</td>\n",
       "      <td>[[-154.6195, -140.60776, -124.37303, -115.0430...</td>\n",
       "      <td>[[2.0452976, 3.630285, 5.4667325, 6.5221295, 7...</td>\n",
       "      <td>[[-27.228294, -16.333782, -5.389242, -1.448949...</td>\n",
       "      <td>[[0.2154943, 0.755373, 2.663106, 4.191824, 4.8...</td>\n",
       "    </tr>\n",
       "    <tr>\n",
       "      <th>4</th>\n",
       "      <td>CCX</td>\n",
       "      <td>1:00:47.877</td>\n",
       "      <td>0:00.245</td>\n",
       "      <td>decimal</td>\n",
       "      <td>Cue</td>\n",
       "      <td>NaN</td>\n",
       "      <td>3647.877</td>\n",
       "      <td>0.245</td>\n",
       "      <td>3648.122</td>\n",
       "      <td>2017-08-23</td>\n",
       "      <td>...</td>\n",
       "      <td>[0.01171875, 0.009765625, 0.015625, 0.015625, ...</td>\n",
       "      <td>[[-5.4007053, -4.486309, -2.7787685, -1.670370...</td>\n",
       "      <td>[[23.325747, 20.218807, 19.160906, 20.009195, ...</td>\n",
       "      <td>[[-5.3896008, -4.9296455, -4.492592, -3.631031...</td>\n",
       "      <td>[[23.325747, 21.436737, 20.242142, 19.67776, 1...</td>\n",
       "      <td>[[-169.82608, -158.66393, -148.64128, -139.718...</td>\n",
       "      <td>[[-169.8963, -148.33084, -131.75185, -129.3352...</td>\n",
       "      <td>[[-7.9856367, -4.902093, -2.5315387, -2.186000...</td>\n",
       "      <td>[[-2.652066, -2.3365288, -1.7130461, -1.354436...</td>\n",
       "      <td>[[1.4038293, 1.4557647, 1.5641029, 1.6300306, ...</td>\n",
       "    </tr>\n",
       "    <tr>\n",
       "      <th>...</th>\n",
       "      <td>...</td>\n",
       "      <td>...</td>\n",
       "      <td>...</td>\n",
       "      <td>...</td>\n",
       "      <td>...</td>\n",
       "      <td>...</td>\n",
       "      <td>...</td>\n",
       "      <td>...</td>\n",
       "      <td>...</td>\n",
       "      <td>...</td>\n",
       "      <td>...</td>\n",
       "      <td>...</td>\n",
       "      <td>...</td>\n",
       "      <td>...</td>\n",
       "      <td>...</td>\n",
       "      <td>...</td>\n",
       "      <td>...</td>\n",
       "      <td>...</td>\n",
       "      <td>...</td>\n",
       "      <td>...</td>\n",
       "      <td>...</td>\n",
       "    </tr>\n",
       "    <tr>\n",
       "      <th>34950</th>\n",
       "      <td>SN</td>\n",
       "      <td>12:51.564</td>\n",
       "      <td>0:00.068</td>\n",
       "      <td>decimal</td>\n",
       "      <td>Cue</td>\n",
       "      <td>NaN</td>\n",
       "      <td>771.564</td>\n",
       "      <td>0.068</td>\n",
       "      <td>771.632</td>\n",
       "      <td>2017-08-25</td>\n",
       "      <td>...</td>\n",
       "      <td>[0.0023468733, 0.0020455122, 0.0016012192, 0.0...</td>\n",
       "      <td>[[-38.084805, -30.097816, -22.465376, -17.8102...</td>\n",
       "      <td>[[4.691105, 12.5629425, 20.171873, 24.800337, ...</td>\n",
       "      <td>[[-38.03222, -36.853714, -35.597187, -34.37663...</td>\n",
       "      <td>[[4.6911087, 6.0039177, 7.320339, 8.4627495, 9...</td>\n",
       "      <td>[[-274.09872, -271.28076, -269.03833, -267.125...</td>\n",
       "      <td>[[-274.4313, -261.09323, -253.72101, -248.9891...</td>\n",
       "      <td>[[-3.0215883, -1.9987001, -1.4333298, -1.07044...</td>\n",
       "      <td>[[-28.700651, -23.888939, -16.93663, -12.18484...</td>\n",
       "      <td>[[0.37727737, 0.65651757, 1.461712, 2.5261028,...</td>\n",
       "    </tr>\n",
       "    <tr>\n",
       "      <th>34951</th>\n",
       "      <td>CC</td>\n",
       "      <td>12:52.519</td>\n",
       "      <td>0:00.177</td>\n",
       "      <td>decimal</td>\n",
       "      <td>Cue</td>\n",
       "      <td>NaN</td>\n",
       "      <td>772.519</td>\n",
       "      <td>0.177</td>\n",
       "      <td>772.696</td>\n",
       "      <td>2017-08-25</td>\n",
       "      <td>...</td>\n",
       "      <td>[-0.008834124, -0.007942915, -0.0056328773, -0...</td>\n",
       "      <td>[[-26.457554, -25.234201, -23.882341, -23.8769...</td>\n",
       "      <td>[[8.7887, 6.309675, 5.5037003, 4.5300198, 4.46...</td>\n",
       "      <td>[[-26.445816, -26.003864, -25.57129, -25.13412...</td>\n",
       "      <td>[[8.788696, 7.574909, 6.9319725, 6.348732, 6.4...</td>\n",
       "      <td>[[-223.33301, -215.659, -208.6839, -202.2871, ...</td>\n",
       "      <td>[[-223.40724, -203.57841, -187.13678, -181.501...</td>\n",
       "      <td>[[-2.3814602, -0.5728735, 0.9267707, 1.4407414...</td>\n",
       "      <td>[[-45.48104, -37.9191, -25.940166, -22.618704,...</td>\n",
       "      <td>[[0.09411094, 0.2247693, 0.8926554, 1.3084494,...</td>\n",
       "    </tr>\n",
       "    <tr>\n",
       "      <th>34952</th>\n",
       "      <td>CC NONFOC (PET)?</td>\n",
       "      <td>12:55.351</td>\n",
       "      <td>0:00.242</td>\n",
       "      <td>decimal</td>\n",
       "      <td>Cue</td>\n",
       "      <td>NaN</td>\n",
       "      <td>775.351</td>\n",
       "      <td>0.242</td>\n",
       "      <td>775.593</td>\n",
       "      <td>2017-08-25</td>\n",
       "      <td>...</td>\n",
       "      <td>[0.007486105, 0.0077137947, 0.008238196, 0.008...</td>\n",
       "      <td>[[-12.730614, -13.146336, -13.787934, -13.1471...</td>\n",
       "      <td>[[18.039675, 15.942657, 14.442115, 14.000688, ...</td>\n",
       "      <td>[[-12.628135, -12.827202, -13.030286, -13.3321...</td>\n",
       "      <td>[[18.039677, 17.29964, 16.055775, 14.961818, 1...</td>\n",
       "      <td>[[-194.56168, -191.65753, -187.86865, -183.410...</td>\n",
       "      <td>[[-195.20981, -188.25278, -178.89505, -172.073...</td>\n",
       "      <td>[[-6.3275948, -5.5820465, -4.5792227, -3.84823...</td>\n",
       "      <td>[[-4.6859827, -5.174016, -7.0958643, -12.69175...</td>\n",
       "      <td>[[3.7761645, 3.569844, 2.8612568, 1.5023187, 0...</td>\n",
       "    </tr>\n",
       "    <tr>\n",
       "      <th>34953</th>\n",
       "      <td>CC NONFOC (PET)</td>\n",
       "      <td>13:00.884</td>\n",
       "      <td>0:00.315</td>\n",
       "      <td>decimal</td>\n",
       "      <td>Cue</td>\n",
       "      <td>NaN</td>\n",
       "      <td>780.884</td>\n",
       "      <td>0.315</td>\n",
       "      <td>781.199</td>\n",
       "      <td>2017-08-25</td>\n",
       "      <td>...</td>\n",
       "      <td>[0.026504517, 0.027039051, 0.02674079, 0.02602...</td>\n",
       "      <td>[[-6.9171033, -6.6591825, -4.268449, -1.341229...</td>\n",
       "      <td>[[31.692707, 32.61761, 35.286263, 38.357986, 4...</td>\n",
       "      <td>[[-6.7279444, -6.597023, -5.84091, -4.3334055,...</td>\n",
       "      <td>[[31.692707, 32.193604, 33.583138, 35.051785, ...</td>\n",
       "      <td>[[-243.44995, -241.2422, -238.75139, -236.8755...</td>\n",
       "      <td>[[-244.6463, -240.54454, -237.6976, -241.64673...</td>\n",
       "      <td>[[-2.1847577, -1.690828, -1.3479961, -1.823548...</td>\n",
       "      <td>[[-2.1476192, -4.4239197, -19.409954, -5.78559...</td>\n",
       "      <td>[[10.215957, 7.8607507, 1.4001104, 6.7201695, ...</td>\n",
       "    </tr>\n",
       "    <tr>\n",
       "      <th>34954</th>\n",
       "      <td>CC</td>\n",
       "      <td>13:32.832</td>\n",
       "      <td>0:00.167</td>\n",
       "      <td>decimal</td>\n",
       "      <td>Cue</td>\n",
       "      <td>NaN</td>\n",
       "      <td>812.832</td>\n",
       "      <td>0.167</td>\n",
       "      <td>812.999</td>\n",
       "      <td>2017-08-25</td>\n",
       "      <td>...</td>\n",
       "      <td>[-0.00050497055, -3.385544e-05, 0.0007289648, ...</td>\n",
       "      <td>[[-25.694021, -22.987696, -20.001873, -18.8458...</td>\n",
       "      <td>[[17.462095, 19.55367, 19.672424, 21.518757, 1...</td>\n",
       "      <td>[[-25.6658, -24.697351, -23.794052, -22.953194...</td>\n",
       "      <td>[[17.462095, 18.328619, 19.02953, 19.554985, 1...</td>\n",
       "      <td>[[-260.78067, -259.45786, -257.84012, -255.999...</td>\n",
       "      <td>[[-260.95914, -256.19656, -246.99927, -235.603...</td>\n",
       "      <td>[[-5.056468, -4.6756763, -3.9403021, -3.029171...</td>\n",
       "      <td>[[-16.428352, -17.57064, -21.345413, -32.03649...</td>\n",
       "      <td>[[3.0601518, 2.6830494, 1.7373607, 0.5073831, ...</td>\n",
       "    </tr>\n",
       "  </tbody>\n",
       "</table>\n",
       "<p>34955 rows × 34 columns</p>\n",
       "</div>"
      ],
      "text/plain": [
       "                   Name        Start  Duration Time Format Type Description  \\\n",
       "0                   CCX  1:00:06.330  0:00.138     decimal  Cue         NaN   \n",
       "1                    CC  1:00:15.043  0:00.083     decimal  Cue         NaN   \n",
       "2                    CC  1:00:35.627  0:00.191     decimal  Cue         NaN   \n",
       "3                   CCX  1:00:39.664  0:00.136     decimal  Cue         NaN   \n",
       "4                   CCX  1:00:47.877  0:00.245     decimal  Cue         NaN   \n",
       "...                 ...          ...       ...         ...  ...         ...   \n",
       "34950                SN    12:51.564  0:00.068     decimal  Cue         NaN   \n",
       "34951                CC    12:52.519  0:00.177     decimal  Cue         NaN   \n",
       "34952  CC NONFOC (PET)?    12:55.351  0:00.242     decimal  Cue         NaN   \n",
       "34953   CC NONFOC (PET)    13:00.884  0:00.315     decimal  Cue         NaN   \n",
       "34954                CC    13:32.832  0:00.167     decimal  Cue         NaN   \n",
       "\n",
       "        start_s  duration_s    stop_s        date  ...  \\\n",
       "0      3606.330       0.138  3606.468  2017-08-23  ...   \n",
       "1      3615.043       0.083  3615.126  2017-08-23  ...   \n",
       "2      3635.627       0.191  3635.818  2017-08-23  ...   \n",
       "3      3639.664       0.136  3639.800  2017-08-23  ...   \n",
       "4      3647.877       0.245  3648.122  2017-08-23  ...   \n",
       "...         ...         ...       ...         ...  ...   \n",
       "34950   771.564       0.068   771.632  2017-08-25  ...   \n",
       "34951   772.519       0.177   772.696  2017-08-25  ...   \n",
       "34952   775.351       0.242   775.593  2017-08-25  ...   \n",
       "34953   780.884       0.315   781.199  2017-08-25  ...   \n",
       "34954   812.832       0.167   812.999  2017-08-25  ...   \n",
       "\n",
       "                                               raw_audio  \\\n",
       "0      [0.07421875, -0.0390625, 0.046875, -0.04882812...   \n",
       "1      [0.00390625, -0.009765625, -0.005859375, -0.00...   \n",
       "2      [-0.021484375, -0.01953125, -0.015625, -0.0253...   \n",
       "3      [-0.07421875, -0.091796875, -0.0703125, -0.093...   \n",
       "4      [0.01171875, 0.009765625, 0.015625, 0.015625, ...   \n",
       "...                                                  ...   \n",
       "34950  [0.0023468733, 0.0020455122, 0.0016012192, 0.0...   \n",
       "34951  [-0.008834124, -0.007942915, -0.0056328773, -0...   \n",
       "34952  [0.007486105, 0.0077137947, 0.008238196, 0.008...   \n",
       "34953  [0.026504517, 0.027039051, 0.02674079, 0.02602...   \n",
       "34954  [-0.00050497055, -3.385544e-05, 0.0007289648, ...   \n",
       "\n",
       "                                            spectrograms  \\\n",
       "0      [[-17.126005, -17.478065, -18.361465, -18.6122...   \n",
       "1      [[-4.711441, -5.041479, -4.9103146, -4.332323,...   \n",
       "2      [[-2.0994568, -2.1183338, -2.4481869, -2.52930...   \n",
       "3      [[-2.4227839, -2.4676123, -1.3817182, -9.53674...   \n",
       "4      [[-5.4007053, -4.486309, -2.7787685, -1.670370...   \n",
       "...                                                  ...   \n",
       "34950  [[-38.084805, -30.097816, -22.465376, -17.8102...   \n",
       "34951  [[-26.457554, -25.234201, -23.882341, -23.8769...   \n",
       "34952  [[-12.730614, -13.146336, -13.787934, -13.1471...   \n",
       "34953  [[-6.9171033, -6.6591825, -4.268449, -1.341229...   \n",
       "34954  [[-25.694021, -22.987696, -20.001873, -18.8458...   \n",
       "\n",
       "                                   denoised_spectrograms  \\\n",
       "0      [[12.465506, 13.172077, 15.100151, 18.702147, ...   \n",
       "1      [[19.45323, 19.491451, 20.794704, 22.801003, 2...   \n",
       "2      [[26.603214, 23.59336, 22.140139, 22.74288, 25...   \n",
       "3      [[23.318436, 20.742912, 18.633371, 18.164673, ...   \n",
       "4      [[23.325747, 20.218807, 19.160906, 20.009195, ...   \n",
       "...                                                  ...   \n",
       "34950  [[4.691105, 12.5629425, 20.171873, 24.800337, ...   \n",
       "34951  [[8.7887, 6.309675, 5.5037003, 4.5300198, 4.46...   \n",
       "34952  [[18.039675, 15.942657, 14.442115, 14.000688, ...   \n",
       "34953  [[31.692707, 32.61761, 35.286263, 38.357986, 4...   \n",
       "34954  [[17.462095, 19.55367, 19.672424, 21.518757, 1...   \n",
       "\n",
       "                                  stretched_spectrograms  \\\n",
       "0      [[-17.091763, -17.201288, -17.301771, -17.3925...   \n",
       "1      [[-4.7003555, -4.754673, -4.8091774, -4.863870...   \n",
       "2      [[-2.0606213, -2.0682697, -2.0753784, -2.12830...   \n",
       "3      [[-2.4120007, -2.476612, -2.5023413, -2.488493...   \n",
       "4      [[-5.3896008, -4.9296455, -4.492592, -3.631031...   \n",
       "...                                                  ...   \n",
       "34950  [[-38.03222, -36.853714, -35.597187, -34.37663...   \n",
       "34951  [[-26.445816, -26.003864, -25.57129, -25.13412...   \n",
       "34952  [[-12.628135, -12.827202, -13.030286, -13.3321...   \n",
       "34953  [[-6.7279444, -6.597023, -5.84091, -4.3334055,...   \n",
       "34954  [[-25.6658, -24.697351, -23.794052, -22.953194...   \n",
       "\n",
       "                         stretched_denoised_spectrograms  \\\n",
       "0      [[12.4655075, 12.577885, 12.783957, 13.024706,...   \n",
       "1      [[19.45323, 19.338696, 19.290312, 19.339138, 1...   \n",
       "2      [[26.603214, 25.222303, 24.038933, 23.166643, ...   \n",
       "3      [[23.318434, 22.743534, 21.944828, 21.31356, 2...   \n",
       "4      [[23.325747, 21.436737, 20.242142, 19.67776, 1...   \n",
       "...                                                  ...   \n",
       "34950  [[4.6911087, 6.0039177, 7.320339, 8.4627495, 9...   \n",
       "34951  [[8.788696, 7.574909, 6.9319725, 6.348732, 6.4...   \n",
       "34952  [[18.039677, 17.29964, 16.055775, 14.961818, 1...   \n",
       "34953  [[31.692707, 32.193604, 33.583138, 35.051785, ...   \n",
       "34954  [[17.462095, 18.328619, 19.02953, 19.554985, 1...   \n",
       "\n",
       "                                         stretched_mfccs  \\\n",
       "0      [[-185.60631, -186.9563, -188.32121, -189.7049...   \n",
       "1      [[-150.67801, -151.27452, -151.76613, -152.187...   \n",
       "2      [[-181.93117, -178.50516, -174.7108, -170.6093...   \n",
       "3      [[-154.5513, -150.79512, -146.91171, -143.0723...   \n",
       "4      [[-169.82608, -158.66393, -148.64128, -139.718...   \n",
       "...                                                  ...   \n",
       "34950  [[-274.09872, -271.28076, -269.03833, -267.125...   \n",
       "34951  [[-223.33301, -215.659, -208.6839, -202.2871, ...   \n",
       "34952  [[-194.56168, -191.65753, -187.86865, -183.410...   \n",
       "34953  [[-243.44995, -241.2422, -238.75139, -236.8755...   \n",
       "34954  [[-260.78067, -259.45786, -257.84012, -255.999...   \n",
       "\n",
       "                                                   mfccs  \\\n",
       "0      [[-185.82288, -190.79483, -206.11852, -224.361...   \n",
       "1      [[-150.74812, -153.35846, -158.54785, -159.267...   \n",
       "2      [[-182.17676, -172.59605, -161.6688, -155.9510...   \n",
       "3      [[-154.6195, -140.60776, -124.37303, -115.0430...   \n",
       "4      [[-169.8963, -148.33084, -131.75185, -129.3352...   \n",
       "...                                                  ...   \n",
       "34950  [[-274.4313, -261.09323, -253.72101, -248.9891...   \n",
       "34951  [[-223.40724, -203.57841, -187.13678, -181.501...   \n",
       "34952  [[-195.20981, -188.25278, -178.89505, -172.073...   \n",
       "34953  [[-244.6463, -240.54454, -237.6976, -241.64673...   \n",
       "34954  [[-260.95914, -256.19656, -246.99927, -235.603...   \n",
       "\n",
       "                                                  zmfccs  \\\n",
       "0      [[0.64984345, 0.0813487, -1.670769, -3.7566311...   \n",
       "1      [[-1.5349202, -1.8745539, -2.5497582, -2.64339...   \n",
       "2      [[-2.5395038, -1.3634436, -0.022088198, 0.6797...   \n",
       "3      [[2.0452976, 3.630285, 5.4667325, 6.5221295, 7...   \n",
       "4      [[-7.9856367, -4.902093, -2.5315387, -2.186000...   \n",
       "...                                                  ...   \n",
       "34950  [[-3.0215883, -1.9987001, -1.4333298, -1.07044...   \n",
       "34951  [[-2.3814602, -0.5728735, 0.9267707, 1.4407414...   \n",
       "34952  [[-6.3275948, -5.5820465, -4.5792227, -3.84823...   \n",
       "34953  [[-2.1847577, -1.690828, -1.3479961, -1.823548...   \n",
       "34954  [[-5.056468, -4.6756763, -3.9403021, -3.029171...   \n",
       "\n",
       "                                       freq_spectrograms  \\\n",
       "0      [[-9.4241905, -10.012363, -11.753595, -16.4784...   \n",
       "1      [[0.0, -0.09533405, -0.80149007, -2.549852, -4...   \n",
       "2      [[-1.0441284, -1.0946293, -1.0754423, -0.78855...   \n",
       "3      [[-27.228294, -16.333782, -5.389242, -1.448949...   \n",
       "4      [[-2.652066, -2.3365288, -1.7130461, -1.354436...   \n",
       "...                                                  ...   \n",
       "34950  [[-28.700651, -23.888939, -16.93663, -12.18484...   \n",
       "34951  [[-45.48104, -37.9191, -25.940166, -22.618704,...   \n",
       "34952  [[-4.6859827, -5.174016, -7.0958643, -12.69175...   \n",
       "34953  [[-2.1476192, -4.4239197, -19.409954, -5.78559...   \n",
       "34954  [[-16.428352, -17.57064, -21.345413, -32.03649...   \n",
       "\n",
       "                                      ampli_spectrograms  \n",
       "0      [[1.9310296, 1.8045973, 1.4767897, 0.85718805,...  \n",
       "1      [[1.6543101, 1.6362522, 1.50849, 1.2334579, 0....  \n",
       "2      [[2.7437742, 2.7278676, 2.7339003, 2.8257058, ...  \n",
       "3      [[0.2154943, 0.755373, 2.663106, 4.191824, 4.8...  \n",
       "4      [[1.4038293, 1.4557647, 1.5641029, 1.6300306, ...  \n",
       "...                                                  ...  \n",
       "34950  [[0.37727737, 0.65651757, 1.461712, 2.5261028,...  \n",
       "34951  [[0.09411094, 0.2247693, 0.8926554, 1.3084494,...  \n",
       "34952  [[3.7761645, 3.569844, 2.8612568, 1.5023187, 0...  \n",
       "34953  [[10.215957, 7.8607507, 1.4001104, 6.7201695, ...  \n",
       "34954  [[3.0601518, 2.6830494, 1.7373607, 0.5073831, ...  \n",
       "\n",
       "[34955 rows x 34 columns]"
      ]
     },
     "execution_count": 14,
     "metadata": {},
     "output_type": "execute_result"
    }
   ],
   "source": [
    "df"
   ]
  },
  {
   "cell_type": "markdown",
   "metadata": {
    "id": "0WMR5FiGjSsF"
   },
   "source": [
    "### Clean dataset \n",
    "\n",
    "#### Removing unsure, uncertain, hybrid calls etc)"
   ]
  },
  {
   "cell_type": "code",
   "execution_count": 35,
   "metadata": {},
   "outputs": [
    {
     "name": "stdout",
     "output_type": "stream",
     "text": [
      "Full:  (34955, 34)\n",
      "Removed unsure:  (34776, 34)\n",
      "Removed uncertain:  (34058, 34)\n",
      "Removed nonfocal:  (26226, 34)\n",
      "Removed noisy:  (23187, 34)\n",
      "Removed hybrids:  (22141, 34)\n"
     ]
    }
   ],
   "source": [
    "print(\"Full: \", df.shape)\n",
    "df = df.loc[df['unsure_call']==0]\n",
    "print(\"Removed unsure: \", df.shape)\n",
    "df = df.loc[df['certain_yn']==\"y\"]\n",
    "print(\"Removed uncertain: \",df.shape)\n",
    "df = df.loc[df['nonfocal_yn']==\"n\"]\n",
    "print(\"Removed nonfocal: \",df.shape)\n",
    "df = df.loc[df['noisy']==0]\n",
    "print(\"Removed noisy: \",df.shape)\n",
    "df = df.loc[df.call_lable != 'fu/hyb',:]\n",
    "print(\"Removed hybrids: \",df.shape)"
   ]
  },
  {
   "cell_type": "markdown",
   "metadata": {
    "id": "0WMR5FiGjSsF"
   },
   "source": [
    "#### Removing extremely short and extremely long calls"
   ]
  },
  {
   "cell_type": "code",
   "execution_count": 36,
   "metadata": {},
   "outputs": [
    {
     "data": {
      "image/png": "[encoded data removed]",
      "text/plain": [
       "<Figure size 432x288 with 1 Axes>"
      ]
     },
     "metadata": {
      "needs_background": "light"
     },
     "output_type": "display_data"
    }
   ],
   "source": [
    "n, bins, pathes = plt.hist(df['duration_s'], bins=100)\n",
    "plt.xlabel(\"Duration in s\")\n",
    "plt.ylabel(\"N. of calls\")\n",
    "plt.savefig(os.path.join(os.path.sep,FIGURES,'duration_hist.png'))"
   ]
  },
  {
   "cell_type": "code",
   "execution_count": 37,
   "metadata": {},
   "outputs": [],
   "source": [
    "MAX_DURATION = 0.5\n",
    "MIN_DURATION = 0.05"
   ]
  },
  {
   "cell_type": "code",
   "execution_count": 38,
   "metadata": {},
   "outputs": [
    {
     "name": "stdout",
     "output_type": "stream",
     "text": [
      "0.01273655209791789\n",
      "282\n"
     ]
    },
    {
     "data": {
      "text/plain": [
       "(21859, 34)"
      ]
     },
     "execution_count": 38,
     "metadata": {},
     "output_type": "execute_result"
    }
   ],
   "source": [
    "print(df[df['duration_s']>MAX_DURATION].shape[0]/df.shape[0])\n",
    "print(df[df['duration_s']>MAX_DURATION].shape[0])\n",
    "\n",
    "df = df.loc[df['duration_s'] <= MAX_DURATION]\n",
    "df.shape"
   ]
  },
  {
   "cell_type": "code",
   "execution_count": 39,
   "metadata": {},
   "outputs": [
    {
     "name": "stdout",
     "output_type": "stream",
     "text": [
      "0.09776293517544261\n",
      "2137\n"
     ]
    },
    {
     "data": {
      "text/plain": [
       "(19722, 34)"
      ]
     },
     "execution_count": 39,
     "metadata": {},
     "output_type": "execute_result"
    }
   ],
   "source": [
    "print(df[df['duration_s']<MIN_DURATION].shape[0]/df.shape[0]) # % of calls < 0.5s --> 9.4 %\n",
    "print(df[df['duration_s']<MIN_DURATION].shape[0])\n",
    "\n",
    "df = df.loc[df['duration_s'] >= MIN_DURATION]\n",
    "df.shape"
   ]
  },
  {
   "cell_type": "markdown",
   "metadata": {},
   "source": [
    "### Inspect class frequencies"
   ]
  },
  {
   "cell_type": "code",
   "execution_count": 40,
   "metadata": {},
   "outputs": [
    {
     "name": "stdout",
     "output_type": "stream",
     "text": [
      "Saved as:  /home/mthomas/Documents/MPI_work/projects/meerkat/meerkat_umap_pv/reports/figures/labelcounts_full.png\n"
     ]
    },
    {
     "data": {
      "image/png": "[encoded data removed]",
      "text/plain": [
       "<Figure size 432x288 with 1 Axes>"
      ]
     },
     "metadata": {
      "needs_background": "light"
     },
     "output_type": "display_data"
    }
   ],
   "source": [
    "dftype='full'\n",
    "\n",
    "labelcounts = pd.DataFrame(df['call_lable'].value_counts())\n",
    "labelcounts.sort_index(inplace=True)\n",
    "pal = sns.color_palette(\"Set2\", n_colors=len(labelcounts.index))\n",
    "plt.barh(labelcounts.index, labelcounts.call_lable.values, color = pal)\n",
    "\n",
    "for index, value in enumerate(labelcounts.call_lable.values):\n",
    "    plt.text(value, index, str(value))\n",
    "\n",
    "plt.title(dftype.capitalize()+' dataset (N='+str(df.shape[0])+')')\n",
    "plt.ylabel('Labels')\n",
    "plt.xlabel('Frequencies')\n",
    "plt.xlim(0,21500)\n",
    "#plt.show()\n",
    "outpath = os.path.join(os.path.sep, FIGURES, \"labelcounts_\"+dftype+\".png\")\n",
    "plt.savefig(outpath, facecolor='w')\n",
    "print(\"Saved as: \", outpath)"
   ]
  },
  {
   "cell_type": "markdown",
   "metadata": {},
   "source": [
    "Quite heavy overrepresentation of cc calls."
   ]
  },
  {
   "cell_type": "code",
   "execution_count": 41,
   "metadata": {},
   "outputs": [],
   "source": [
    "df.to_pickle(os.path.join(os.path.sep, DATA, \"df_focal_full.pkl\"))"
   ]
  },
  {
   "cell_type": "markdown",
   "metadata": {},
   "source": [
    "#### Create a cc reduced dataset"
   ]
  },
  {
   "cell_type": "code",
   "execution_count": 42,
   "metadata": {},
   "outputs": [],
   "source": [
    "wo_cc_df = df[df.call_lable != 'cc']\n",
    "cc_df = df[df.call_lable == 'cc']\n",
    "cc_subset = cc_df.sample(frac=0.1, replace=False, random_state=1)\n",
    "df = pd.concat((wo_cc_df, cc_subset), ignore_index=False, axis=0)\n",
    "\n",
    "dftype='reduced'"
   ]
  },
  {
   "cell_type": "code",
   "execution_count": 43,
   "metadata": {},
   "outputs": [
    {
     "name": "stdout",
     "output_type": "stream",
     "text": [
      "Saved as:  /home/mthomas/Documents/MPI_work/projects/meerkat/meerkat_umap_pv/reports/figures/labelcounts_reduced.png\n"
     ]
    },
    {
     "data": {
      "image/png": "[encoded data removed]",
      "text/plain": [
       "<Figure size 432x288 with 1 Axes>"
      ]
     },
     "metadata": {
      "needs_background": "light"
     },
     "output_type": "display_data"
    }
   ],
   "source": [
    "labelcounts = pd.DataFrame(df['call_lable'].value_counts())\n",
    "labelcounts.sort_index(inplace=True)\n",
    "pal = sns.color_palette(\"Set2\", n_colors=len(labelcounts.index))\n",
    "plt.barh(labelcounts.index, labelcounts.call_lable.values, color = pal)\n",
    "\n",
    "for index, value in enumerate(labelcounts.call_lable.values):\n",
    "    plt.text(value, index, str(value))\n",
    "\n",
    "plt.title(dftype.capitalize()+' dataset (N='+str(df.shape[0])+')')\n",
    "plt.ylabel('Labels')\n",
    "plt.xlabel('Frequencies')\n",
    "plt.xlim(0,21500)\n",
    "#plt.show()\n",
    "outpath = os.path.join(os.path.sep, FIGURES, \"labelcounts_\"+dftype+\".png\")\n",
    "plt.savefig(outpath, facecolor='w')\n",
    "print(\"Saved as: \", outpath)"
   ]
  },
  {
   "cell_type": "code",
   "execution_count": 44,
   "metadata": {},
   "outputs": [],
   "source": [
    "df.to_pickle(os.path.join(os.path.sep, DATA, \"df_focal_reduced.pkl\"))"
   ]
  },
  {
   "cell_type": "markdown",
   "metadata": {},
   "source": [
    "#### Create a completely balanced dataset"
   ]
  },
  {
   "cell_type": "code",
   "execution_count": 45,
   "metadata": {},
   "outputs": [
    {
     "name": "stdout",
     "output_type": "stream",
     "text": [
      "sn : 1855 : 0.08840970350404313\n",
      "cc : 1477 : 0.11103588354773189\n",
      "soc : 1154 : 0.14211438474870017\n",
      "mo : 759 : 0.2160737812911726\n",
      "al : 646 : 0.25386996904024767\n",
      "agg : 375 : 0.43733333333333335\n",
      "ld : 164 : 1.0\n"
     ]
    }
   ],
   "source": [
    "labelcounts = pd.DataFrame(df['call_lable'].value_counts())\n",
    "class_size = np.min(labelcounts.call_lable.values)\n",
    "\n",
    "subsets = []\n",
    "for label, num in zip(labelcounts.index, labelcounts.call_lable.values):\n",
    "    print(label, \":\", num, \":\", class_size/num)\n",
    "    subsets.append(df[df.call_lable == label].sample(frac=(class_size/num), replace=False, random_state=1))\n",
    "\n",
    "df = pd.concat(subsets, axis=0)\n",
    "dftype = 'balanced'"
   ]
  },
  {
   "cell_type": "code",
   "execution_count": 46,
   "metadata": {},
   "outputs": [
    {
     "name": "stdout",
     "output_type": "stream",
     "text": [
      "Saved as:  /home/mthomas/Documents/MPI_work/projects/meerkat/meerkat_umap_pv/reports/figures/labelcounts_balanced.png\n"
     ]
    },
    {
     "data": {
      "image/png": "[encoded data removed]",
      "text/plain": [
       "<Figure size 432x288 with 1 Axes>"
      ]
     },
     "metadata": {
      "needs_background": "light"
     },
     "output_type": "display_data"
    }
   ],
   "source": [
    "labelcounts = pd.DataFrame(df['call_lable'].value_counts())\n",
    "labelcounts.sort_index(inplace=True)\n",
    "pal = sns.color_palette(\"Set2\", n_colors=len(labelcounts.index))\n",
    "plt.barh(labelcounts.index, labelcounts.call_lable.values, color = pal)\n",
    "\n",
    "for index, value in enumerate(labelcounts.call_lable.values):\n",
    "    plt.text(value, index, str(value))\n",
    "\n",
    "plt.title(dftype.capitalize()+' dataset (N='+str(df.shape[0])+')')\n",
    "plt.ylabel('Labels')\n",
    "plt.xlabel('Frequencies')\n",
    "plt.xlim(0,21500)\n",
    "#plt.show()\n",
    "outpath = os.path.join(os.path.sep, FIGURES, \"labelcounts_\"+dftype+\".png\")\n",
    "plt.savefig(outpath, facecolor='w')\n",
    "print(\"Saved as: \", outpath)"
   ]
  },
  {
   "cell_type": "code",
   "execution_count": 47,
   "metadata": {},
   "outputs": [],
   "source": [
    "df.to_pickle(os.path.join(os.path.sep, DATA, \"df_focal_balanced.pkl\"))"
   ]
  }
 ],
 "metadata": {
  "colab": {
   "authorship_tag": "ABX9TyM3m5TY5s3swxy7IlwW5eKr",
   "collapsed_sections": [
    "esZjhqJM8d09"
   ],
   "mount_file_id": "1jjQYd-4PmOwBo0wd9ypz2eU6vvFHJ1gV",
   "name": "01_meerkat_audio_to_df.ipynb",
   "provenance": [
    {
     "file_id": "124n_3kPigqSAruudn6PKtKARZqNZOyeu",
     "timestamp": 1591815571002
    }
   ],
   "toc_visible": true
  },
  "kernelspec": {
   "display_name": "Python 3",
   "language": "python",
   "name": "python3"
  },
  "language_info": {
   "codemirror_mode": {
    "name": "ipython",
    "version": 3
   },
   "file_extension": ".py",
   "mimetype": "text/x-python",
   "name": "python",
   "nbconvert_exporter": "python",
   "pygments_lexer": "ipython3",
   "version": "3.7.10"
  },
  "widgets": {
   "application/vnd.jupyter.widget-state+json": {
    "07d8cf04c68c4613b318f999d6ca8553": {
     "model_module": "@jupyter-widgets/base",
     "model_name": "LayoutModel",
     "state": {
      "_model_module": "@jupyter-widgets/base",
      "_model_module_version": "1.2.0",
      "_model_name": "LayoutModel",
      "_view_count": null,
      "_view_module": "@jupyter-widgets/base",
      "_view_module_version": "1.2.0",
      "_view_name": "LayoutView",
      "align_content": null,
      "align_items": null,
      "align_self": null,
      "border": null,
      "bottom": null,
      "display": null,
      "flex": null,
      "flex_flow": null,
      "grid_area": null,
      "grid_auto_columns": null,
      "grid_auto_flow": null,
      "grid_auto_rows": null,
      "grid_column": null,
      "grid_gap": null,
      "grid_row": null,
      "grid_template_areas": null,
      "grid_template_columns": null,
      "grid_template_rows": null,
      "height": null,
      "justify_content": null,
      "justify_items": null,
      "left": null,
      "margin": null,
      "max_height": null,
      "max_width": null,
      "min_height": null,
      "min_width": null,
      "object_fit": null,
      "object_position": null,
      "order": null,
      "overflow": null,
      "overflow_x": null,
      "overflow_y": null,
      "padding": null,
      "right": null,
      "top": null,
      "visibility": null,
      "width": null
     }
    },
    "13c2ac37be5045e19f25a7b4151ee032": {
     "model_module": "@jupyter-widgets/controls",
     "model_name": "ProgressStyleModel",
     "state": {
      "_model_module": "@jupyter-widgets/controls",
      "_model_module_version": "1.5.0",
      "_model_name": "ProgressStyleModel",
      "_view_count": null,
      "_view_module": "@jupyter-widgets/base",
      "_view_module_version": "1.2.0",
      "_view_name": "StyleView",
      "bar_color": null,
      "description_width": "initial"
     }
    },
    "23e14c405bef4ab99e97ea5c68b84fd1": {
     "model_module": "@jupyter-widgets/controls",
     "model_name": "HBoxModel",
     "state": {
      "_dom_classes": [],
      "_model_module": "@jupyter-widgets/controls",
      "_model_module_version": "1.5.0",
      "_model_name": "HBoxModel",
      "_view_count": null,
      "_view_module": "@jupyter-widgets/controls",
      "_view_module_version": "1.5.0",
      "_view_name": "HBoxView",
      "box_style": "",
      "children": [
       "IPY_MODEL_ec8ef59d7f48423588c9d9eea9633b76",
       "IPY_MODEL_b910c1c8e7c94eb498f9879168d7ff23"
      ],
      "layout": "IPY_MODEL_7d8d6be168c84e509a28660682a5686b"
     }
    },
    "489b6def7a764745b61f1ebb9195a60d": {
     "model_module": "@jupyter-widgets/base",
     "model_name": "LayoutModel",
     "state": {
      "_model_module": "@jupyter-widgets/base",
      "_model_module_version": "1.2.0",
      "_model_name": "LayoutModel",
      "_view_count": null,
      "_view_module": "@jupyter-widgets/base",
      "_view_module_version": "1.2.0",
      "_view_name": "LayoutView",
      "align_content": null,
      "align_items": null,
      "align_self": null,
      "border": null,
      "bottom": null,
      "display": null,
      "flex": null,
      "flex_flow": null,
      "grid_area": null,
      "grid_auto_columns": null,
      "grid_auto_flow": null,
      "grid_auto_rows": null,
      "grid_column": null,
      "grid_gap": null,
      "grid_row": null,
      "grid_template_areas": null,
      "grid_template_columns": null,
      "grid_template_rows": null,
      "height": null,
      "justify_content": null,
      "justify_items": null,
      "left": null,
      "margin": null,
      "max_height": null,
      "max_width": null,
      "min_height": null,
      "min_width": null,
      "object_fit": null,
      "object_position": null,
      "order": null,
      "overflow": null,
      "overflow_x": null,
      "overflow_y": null,
      "padding": null,
      "right": null,
      "top": null,
      "visibility": null,
      "width": null
     }
    },
    "7d8d6be168c84e509a28660682a5686b": {
     "model_module": "@jupyter-widgets/base",
     "model_name": "LayoutModel",
     "state": {
      "_model_module": "@jupyter-widgets/base",
      "_model_module_version": "1.2.0",
      "_model_name": "LayoutModel",
      "_view_count": null,
      "_view_module": "@jupyter-widgets/base",
      "_view_module_version": "1.2.0",
      "_view_name": "LayoutView",
      "align_content": null,
      "align_items": null,
      "align_self": null,
      "border": null,
      "bottom": null,
      "display": null,
      "flex": null,
      "flex_flow": null,
      "grid_area": null,
      "grid_auto_columns": null,
      "grid_auto_flow": null,
      "grid_auto_rows": null,
      "grid_column": null,
      "grid_gap": null,
      "grid_row": null,
      "grid_template_areas": null,
      "grid_template_columns": null,
      "grid_template_rows": null,
      "height": null,
      "justify_content": null,
      "justify_items": null,
      "left": null,
      "margin": null,
      "max_height": null,
      "max_width": null,
      "min_height": null,
      "min_width": null,
      "object_fit": null,
      "object_position": null,
      "order": null,
      "overflow": null,
      "overflow_x": null,
      "overflow_y": null,
      "padding": null,
      "right": null,
      "top": null,
      "visibility": null,
      "width": null
     }
    },
    "b910c1c8e7c94eb498f9879168d7ff23": {
     "model_module": "@jupyter-widgets/controls",
     "model_name": "HTMLModel",
     "state": {
      "_dom_classes": [],
      "_model_module": "@jupyter-widgets/controls",
      "_model_module_version": "1.5.0",
      "_model_name": "HTMLModel",
      "_view_count": null,
      "_view_module": "@jupyter-widgets/controls",
      "_view_module_version": "1.5.0",
      "_view_name": "HTMLView",
      "description": "",
      "description_tooltip": null,
      "layout": "IPY_MODEL_489b6def7a764745b61f1ebb9195a60d",
      "placeholder": "​",
      "style": "IPY_MODEL_ba4982e241414610b9662c4a67f2c170",
      "value": " 49/? [00:00&lt;00:00, 999.54it/s]"
     }
    },
    "ba4982e241414610b9662c4a67f2c170": {
     "model_module": "@jupyter-widgets/controls",
     "model_name": "DescriptionStyleModel",
     "state": {
      "_model_module": "@jupyter-widgets/controls",
      "_model_module_version": "1.5.0",
      "_model_name": "DescriptionStyleModel",
      "_view_count": null,
      "_view_module": "@jupyter-widgets/base",
      "_view_module_version": "1.2.0",
      "_view_name": "StyleView",
      "description_width": ""
     }
    },
    "ec8ef59d7f48423588c9d9eea9633b76": {
     "model_module": "@jupyter-widgets/controls",
     "model_name": "FloatProgressModel",
     "state": {
      "_dom_classes": [],
      "_model_module": "@jupyter-widgets/controls",
      "_model_module_version": "1.5.0",
      "_model_name": "FloatProgressModel",
      "_view_count": null,
      "_view_module": "@jupyter-widgets/controls",
      "_view_module_version": "1.5.0",
      "_view_name": "ProgressView",
      "bar_style": "success",
      "description": "",
      "description_tooltip": null,
      "layout": "IPY_MODEL_07d8cf04c68c4613b318f999d6ca8553",
      "max": 1,
      "min": 0,
      "orientation": "horizontal",
      "style": "IPY_MODEL_13c2ac37be5045e19f25a7b4151ee032",
      "value": 1
     }
    }
   }
  }
 },
 "nbformat": 4,
 "nbformat_minor": 4
}
