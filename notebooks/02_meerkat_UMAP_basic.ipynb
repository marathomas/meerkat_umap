{
 "cells": [
  {
   "cell_type": "markdown",
   "metadata": {},
   "source": [
    "# UMAP "
   ]
  },
  {
   "cell_type": "markdown",
   "metadata": {
    "id": "TecLeuUBRC57"
   },
   "source": [
    "### Installing and loading libraries"
   ]
  },
  {
   "cell_type": "code",
   "execution_count": 1,
   "metadata": {},
   "outputs": [],
   "source": [
    "import os\n",
    "import pandas as pd\n",
    "import sys\n",
    "import numpy as np\n",
    "from pandas.core.common import flatten\n",
    "import pickle\n",
    "import umap\n",
    "from pathlib import Path\n",
    "import datetime\n",
    "import scipy\n",
    "import matplotlib.pyplot as plt\n",
    "import seaborn as sns\n",
    "import matplotlib\n",
    "import librosa.display"
   ]
  },
  {
   "cell_type": "code",
   "execution_count": 2,
   "metadata": {},
   "outputs": [],
   "source": [
    "from plot_functions import umap_2Dplot, mara_3Dplot, plotly_viz\n",
    "from preprocessing_functions import pad_spectro, calc_zscore"
   ]
  },
  {
   "cell_type": "markdown",
   "metadata": {
    "id": "rFQH__8fWc2D"
   },
   "source": [
    "### Setting constants"
   ]
  },
  {
   "cell_type": "markdown",
   "metadata": {
    "id": "kHkKwuIE5KRM"
   },
   "source": [
    "Setting project, input and output folders."
   ]
  },
  {
   "cell_type": "code",
   "execution_count": 3,
   "metadata": {
    "executionInfo": {
     "elapsed": 1124,
     "status": "ok",
     "timestamp": 1619436346672,
     "user": {
      "displayName": "Mara Thomas",
      "photoUrl": "",
      "userId": "08285540157542181220"
     },
     "user_tz": -120
    },
    "id": "CF038oa81Ggw"
   },
   "outputs": [],
   "source": [
    "wd = os.getcwd()\n",
    "\n",
    "DATA = os.path.join(os.path.sep, str(Path(wd).parents[0]), \"data\", \"processed\")\n",
    "FIGURES = os.path.join(os.path.sep, str(Path(wd).parents[0]), \"reports\", \"figures\")\n",
    "\n",
    "DF_DICT = {}\n",
    "for dftype in ['full', 'reduced', 'balanced']:\n",
    "    DF_DICT[dftype] = os.path.join(os.path.sep, DATA, \"df_focal_\"+dftype+\".pkl\")"
   ]
  },
  {
   "cell_type": "code",
   "execution_count": 40,
   "metadata": {},
   "outputs": [],
   "source": [
    "LOAD_EXISTING = True # load existing embedding"
   ]
  },
  {
   "cell_type": "markdown",
   "metadata": {
    "id": "MyQPSudhQYvR"
   },
   "source": [
    "# UMAP projection"
   ]
  },
  {
   "cell_type": "markdown",
   "metadata": {
    "id": "S3NQY9XfHJrh"
   },
   "source": [
    "### Choose dataset"
   ]
  },
  {
   "cell_type": "code",
   "execution_count": 55,
   "metadata": {
    "colab": {
     "base_uri": "https://localhost:8080/"
    },
    "executionInfo": {
     "elapsed": 16950,
     "status": "ok",
     "timestamp": 1619436370242,
     "user": {
      "displayName": "Mara Thomas",
      "photoUrl": "",
      "userId": "08285540157542181220"
     },
     "user_tz": -120
    },
    "id": "0HafbyJwjOeO",
    "outputId": "b311a172-d1fc-4863-e666-6edf48fbf976"
   },
   "outputs": [
    {
     "data": {
      "text/plain": [
       "(1148, 29)"
      ]
     },
     "execution_count": 55,
     "metadata": {},
     "output_type": "execute_result"
    }
   ],
   "source": [
    "dftype='full'\n",
    "dftype='reduced'\n",
    "dftype='balanced'\n",
    "\n",
    "spec_df = pd.read_pickle(DF_DICT[dftype])\n",
    "spec_df.shape"
   ]
  },
  {
   "cell_type": "markdown",
   "metadata": {},
   "source": [
    "### Choose feature"
   ]
  },
  {
   "cell_type": "code",
   "execution_count": 56,
   "metadata": {
    "colab": {
     "base_uri": "https://localhost:8080/"
    },
    "executionInfo": {
     "elapsed": 673,
     "status": "ok",
     "timestamp": 1619436411034,
     "user": {
      "displayName": "Mara Thomas",
      "photoUrl": "",
      "userId": "08285540157542181220"
     },
     "user_tz": -120
    },
    "id": "0BAxka6eecOH",
    "outputId": "7d486f5d-fb7f-4577-f8b6-e0f9ebfff245"
   },
   "outputs": [
    {
     "data": {
      "text/plain": [
       "(1148, 5320)"
      ]
     },
     "execution_count": 56,
     "metadata": {},
     "output_type": "execute_result"
    }
   ],
   "source": [
    "specs = spec_df.spectrograms.copy()\n",
    "\n",
    "# normalize feature\n",
    "specs = [calc_zscore(x) for x in specs] \n",
    "\n",
    "# pad feature\n",
    "maxlen= np.max([spec.shape[1] for spec in specs])\n",
    "flattened_specs = [pad_spectro(spec, maxlen).flatten() for spec in specs]\n",
    "data = np.asarray(flattened_specs)\n",
    "data.shape"
   ]
  },
  {
   "cell_type": "markdown",
   "metadata": {},
   "source": [
    "## Run UMAP"
   ]
  },
  {
   "cell_type": "code",
   "execution_count": 57,
   "metadata": {},
   "outputs": [
    {
     "name": "stdout",
     "output_type": "stream",
     "text": [
      "/home/mthomas/Documents/MPI_work/projects/meerkat/meerkat_umap_pv/data/processed/basic_UMAP_balanced_default_params.csv\n",
      "File already exists\n"
     ]
    }
   ],
   "source": [
    "embedding_filename = os.path.join(os.path.sep, DATA,'basic_UMAP_'+dftype+'_default_params.csv')\n",
    "print(embedding_filename)\n",
    "if (LOAD_EXISTING and os.path.isfile(embedding_filename)):\n",
    "    embedding = np.loadtxt(embedding_filename, delimiter=\";\")\n",
    "    print(\"File already exists\")\n",
    "else:\n",
    "    reducer = umap.UMAP(n_components=3, min_dist = 0, random_state=2204)\n",
    "    embedding = reducer.fit_transform(data)\n",
    "    np.savetxt(embedding_filename, delimiter=\";\")"
   ]
  },
  {
   "cell_type": "code",
   "execution_count": 7,
   "metadata": {},
   "outputs": [],
   "source": [
    "reducer2D = umap.UMAP(n_components = 2, min_dist = 0, random_state=2204)\n",
    "embedding2D = reducer2D.fit_transform(data) "
   ]
  },
  {
   "cell_type": "markdown",
   "metadata": {
    "id": "rg7m_Aw3-HQD"
   },
   "source": [
    "## Visualization"
   ]
  },
  {
   "cell_type": "code",
   "execution_count": 58,
   "metadata": {},
   "outputs": [],
   "source": [
    "labels = spec_df.call_lable.values\n",
    "pal=\"Set2\""
   ]
  },
  {
   "cell_type": "markdown",
   "metadata": {
    "id": "9hkybUO5-MkR"
   },
   "source": [
    "### 2D Plots"
   ]
  },
  {
   "cell_type": "code",
   "execution_count": 11,
   "metadata": {},
   "outputs": [
    {
     "name": "stdout",
     "output_type": "stream",
     "text": [
      "/home/mthomas/Documents/MPI_work/projects/meerkat/meerkat_umap_pv/reports/figures/UMAP_2D_plot_balanced_nolegend.jpg\n"
     ]
    },
    {
     "data": {
      "image/png": "[encoded data removed]",
      "text/plain": [
       "<Figure size 432x432 with 1 Axes>"
      ]
     },
     "metadata": {
      "needs_background": "light"
     },
     "output_type": "display_data"
    }
   ],
   "source": [
    "outname = os.path.join(os.path.sep, FIGURES, 'UMAP_2D_plot_'+dftype+'_nolegend.jpg')\n",
    "print(outname)\n",
    "umap_2Dplot(embedding2D[:,0], embedding2D[:,1], labels, pal, outname=outname, showlegend=False)"
   ]
  },
  {
   "cell_type": "markdown",
   "metadata": {},
   "source": [
    "### 3D Plot"
   ]
  },
  {
   "cell_type": "markdown",
   "metadata": {
    "id": "4lhV-gXx-bbg"
   },
   "source": [
    "#### Matplotlib "
   ]
  },
  {
   "cell_type": "code",
   "execution_count": 37,
   "metadata": {},
   "outputs": [
    {
     "name": "stdout",
     "output_type": "stream",
     "text": [
      "/home/mthomas/Documents/MPI_work/projects/meerkat/meerkat_umap_pv/reports/figures/UMAP_3D_plot_reduced_nolegend.jpg\n"
     ]
    },
    {
     "data": {
      "image/png": "[encoded data removed]",
      "text/plain": [
       "<Figure size 720x720 with 1 Axes>"
      ]
     },
     "metadata": {
      "needs_background": "light"
     },
     "output_type": "display_data"
    }
   ],
   "source": [
    "outname = os.path.join(os.path.sep, FIGURES, 'UMAP_3D_plot_'+dftype+'_nolegend.jpg')\n",
    "print(outname)\n",
    "\n",
    "mara_3Dplot(embedding[:,0],\n",
    "            embedding[:,1],\n",
    "            embedding[:,2],\n",
    "            labels,\n",
    "            pal,\n",
    "            outname,\n",
    "            showlegend=False)"
   ]
  },
  {
   "cell_type": "markdown",
   "metadata": {},
   "source": [
    "#### Plotly"
   ]
  },
  {
   "cell_type": "code",
   "execution_count": 13,
   "metadata": {},
   "outputs": [],
   "source": [
    "#plotly_viz(embedding[:,0],\n",
    "#           embedding[:,1],\n",
    "#           embedding[:,2],\n",
    "#           labels,\n",
    "#           pal)"
   ]
  },
  {
   "cell_type": "markdown",
   "metadata": {
    "id": "oeR2CKtT41AJ"
   },
   "source": [
    "# Embedding evaluation"
   ]
  },
  {
   "cell_type": "markdown",
   "metadata": {
    "id": "2gf79_IXiZ3P"
   },
   "source": [
    "Evaluate the embedding based on calltype labels of nearest neighbors."
   ]
  },
  {
   "cell_type": "code",
   "execution_count": 52,
   "metadata": {},
   "outputs": [],
   "source": [
    "from evaluation_functions import nn"
   ]
  },
  {
   "cell_type": "code",
   "execution_count": 60,
   "metadata": {},
   "outputs": [],
   "source": [
    "nn_stats = nn(embedding, np.asarray(labels), k=5)"
   ]
  },
  {
   "cell_type": "markdown",
   "metadata": {
    "id": "lLJHjfVlgwk7"
   },
   "source": [
    "## Calculate metrics"
   ]
  },
  {
   "cell_type": "code",
   "execution_count": 61,
   "metadata": {
    "colab": {
     "base_uri": "https://localhost:8080/"
    },
    "executionInfo": {
     "elapsed": 1122,
     "status": "ok",
     "timestamp": 1619436634949,
     "user": {
      "displayName": "Mara Thomas",
      "photoUrl": "",
      "userId": "08285540157542181220"
     },
     "user_tz": -120
    },
    "id": "A2LXr4e6htLT",
    "outputId": "3f4c493e-2632-482c-a7d3-44ba94b0b5b4"
   },
   "outputs": [
    {
     "name": "stdout",
     "output_type": "stream",
     "text": [
      "Log final metric (unweighted): 61.63763066202091\n",
      "Abs final metric (unweighted): 2.0878095014523903\n"
     ]
    }
   ],
   "source": [
    "print(\"Log final metric (unweighted):\",nn_stats.get_S())\n",
    "print(\"Abs final metric (unweighted):\",nn_stats.get_Snorm())"
   ]
  },
  {
   "cell_type": "code",
   "execution_count": 18,
   "metadata": {},
   "outputs": [
    {
     "name": "stdout",
     "output_type": "stream",
     "text": [
      "/home/mthomas/Documents/MPI_work/projects/meerkat/meerkat_umap_pv/reports/figures/heatS_UMAP_balanced.png\n"
     ]
    },
    {
     "data": {
      "image/png": "[encoded data removed]",
      "text/plain": [
       "<Figure size 432x432 with 1 Axes>"
      ]
     },
     "metadata": {
      "needs_background": "light"
     },
     "output_type": "display_data"
    }
   ],
   "source": [
    "outname = os.path.join(os.path.sep, FIGURES, 'heatS_UMAP_'+dftype+'.png')\n",
    "print(outname)\n",
    "\n",
    "nn_stats.plot_heat_S(outname=outname)"
   ]
  },
  {
   "cell_type": "code",
   "execution_count": 19,
   "metadata": {},
   "outputs": [
    {
     "name": "stdout",
     "output_type": "stream",
     "text": [
      "/home/mthomas/Documents/MPI_work/projects/meerkat/meerkat_umap_pv/reports/figures/heatSnorm_UMAP_balanced.png\n"
     ]
    },
    {
     "data": {
      "image/png": "[encoded data removed]",
      "text/plain": [
       "<Figure size 432x432 with 1 Axes>"
      ]
     },
     "metadata": {
      "needs_background": "light"
     },
     "output_type": "display_data"
    }
   ],
   "source": [
    "outname = os.path.join(os.path.sep, FIGURES, 'heatSnorm_UMAP_'+dftype+'.png')\n",
    "print(outname)\n",
    "\n",
    "nn_stats.plot_heat_Snorm(outname=outname)"
   ]
  },
  {
   "cell_type": "code",
   "execution_count": 20,
   "metadata": {},
   "outputs": [
    {
     "name": "stdout",
     "output_type": "stream",
     "text": [
      "/home/mthomas/Documents/MPI_work/projects/meerkat/meerkat_umap_pv/reports/figures/heatfold_UMAP_balanced.png\n"
     ]
    },
    {
     "data": {
      "image/png": "[encoded data removed]",
      "text/plain": [
       "<Figure size 432x432 with 1 Axes>"
      ]
     },
     "metadata": {
      "needs_background": "light"
     },
     "output_type": "display_data"
    }
   ],
   "source": [
    "outname = os.path.join(os.path.sep, FIGURES, 'heatfold_UMAP_'+dftype+'.png')\n",
    "print(outname)\n",
    "\n",
    "nn_stats.plot_heat_fold(outname=outname)"
   ]
  },
  {
   "cell_type": "markdown",
   "metadata": {},
   "source": [
    "# Within vs. outside distances"
   ]
  },
  {
   "cell_type": "code",
   "execution_count": 21,
   "metadata": {},
   "outputs": [],
   "source": [
    "from scipy.spatial.distance import pdist, squareform"
   ]
  },
  {
   "cell_type": "code",
   "execution_count": 22,
   "metadata": {},
   "outputs": [],
   "source": [
    "labels = spec_df.call_lable.values\n",
    "calltypes = sorted(list(set(labels)))"
   ]
  },
  {
   "cell_type": "code",
   "execution_count": 23,
   "metadata": {},
   "outputs": [],
   "source": [
    "distmat_embedded = squareform(pdist(embedding, metric='euclidean'))"
   ]
  },
  {
   "cell_type": "code",
   "execution_count": 24,
   "metadata": {},
   "outputs": [],
   "source": [
    "labels = np.asarray(labels)\n",
    "\n",
    "self_dists={}\n",
    "other_dists={}\n",
    "\n",
    "for calltype in calltypes:\n",
    "    x=distmat_embedded[np.where(labels==calltype)]\n",
    "    x = np.transpose(x)  \n",
    "    y = x[np.where(labels==calltype)]\n",
    "   \n",
    "    self_dists[calltype] = y[np.triu_indices(n=y.shape[0], m=y.shape[1],k = 1)]\n",
    "    y = x[np.where(labels!=calltype)]\n",
    "    other_dists[calltype] = y[np.triu_indices(n=y.shape[0], m=y.shape[1], k = 1)]"
   ]
  },
  {
   "cell_type": "code",
   "execution_count": 25,
   "metadata": {
    "colab": {
     "base_uri": "https://localhost:8080/",
     "height": 585
    },
    "executionInfo": {
     "elapsed": 16271,
     "status": "ok",
     "timestamp": 1604079181581,
     "user": {
      "displayName": "Mara Thomas",
      "photoUrl": "",
      "userId": "08285540157542181220"
     },
     "user_tz": -60
    },
    "id": "PIXn2UM8dTzu",
    "outputId": "72c15bf9-3078-4a6b-fea9-9bceed9a2e07"
   },
   "outputs": [
    {
     "name": "stdout",
     "output_type": "stream",
     "text": [
      "/home/mthomas/Documents/MPI_work/projects/meerkat/meerkat_umap_pv/reports/figures/2021-06-11_distanceswithinwithout_balanced.jpg\n"
     ]
    },
    {
     "data": {
      "image/png": "[encoded data removed]",
      "text/plain": [
       "<Figure size 576x576 with 7 Axes>"
      ]
     },
     "metadata": {
      "needs_background": "light"
     },
     "output_type": "display_data"
    }
   ],
   "source": [
    "plt.figure(figsize=(8, 8))\n",
    "i=1\n",
    "\n",
    "xmin=0\n",
    "xmax=12\n",
    "nbins=50\n",
    "    \n",
    "for calltype in calltypes:\n",
    "    \n",
    "    plt.subplot(4, 2, i)\n",
    "    n, bins, patches = plt.hist(x=self_dists[calltype], label=\"within\", density=True,\n",
    "                              bins=np.linspace(xmin, xmax, nbins), color='green',\n",
    "                              alpha=0.5, rwidth=0.85)\n",
    "    \n",
    "    plt.vlines(x=np.mean(self_dists[calltype]),ymin=0,ymax=0.5,color='green', linestyles='dotted')\n",
    "\n",
    "    n, bins, patches = plt.hist(x=other_dists[calltype], label=\"outside\", density=True,\n",
    "                              bins=np.linspace(xmin, xmax, nbins), color='red',\n",
    "                              alpha=0.5, rwidth=0.85)\n",
    "  \n",
    "    plt.vlines(x=np.mean(other_dists[calltype]),ymin=0,ymax=0.5,color='red', linestyles='dotted')\n",
    "  \n",
    "    s, pval = scipy.stats.ttest_ind(self_dists[calltype],other_dists[calltype])\n",
    "\n",
    "    if pval<0.01:\n",
    "        pval = \"p<0.01\"\n",
    "    else:\n",
    "        pval = \"p=\"+str(round(pval,2))\n",
    "\n",
    "    plt.legend()\n",
    "    plt.grid(axis='y', alpha=0.75)\n",
    "    #plt.title(calltype+\" (\"+pval+\")\")\n",
    "    plt.title(calltype)\n",
    "    plt.xlim(xmin,xmax)\n",
    "    plt.ylim(0, 0.5)\n",
    "    if i==len(calltypes):      \n",
    "        plt.ylabel('Density')\n",
    "        plt.xlabel('Euclidean distance in UMAP space')\n",
    "\n",
    "    i=i+1\n",
    "\n",
    "plt.tight_layout()\n",
    "outname=os.path.join(os.path.sep, FIGURES, 'distanceswithinwithout_'+dftype+'.jpg')\n",
    "print(outname)\n",
    "plt.savefig(outname, facecolor=\"white\")"
   ]
  },
  {
   "cell_type": "markdown",
   "metadata": {
    "id": "KKaN7EzHUivZ"
   },
   "source": [
    "## Silhouette Plot"
   ]
  },
  {
   "cell_type": "code",
   "execution_count": 26,
   "metadata": {
    "id": "M8LZrp5yVZzJ"
   },
   "outputs": [],
   "source": [
    "from sklearn.metrics import silhouette_samples, silhouette_score"
   ]
  },
  {
   "cell_type": "code",
   "execution_count": 27,
   "metadata": {},
   "outputs": [],
   "source": [
    "umap_df = spec_df"
   ]
  },
  {
   "cell_type": "code",
   "execution_count": 28,
   "metadata": {},
   "outputs": [
    {
     "data": {
      "text/plain": [
       "(1148, 3)"
      ]
     },
     "execution_count": 28,
     "metadata": {},
     "output_type": "execute_result"
    }
   ],
   "source": [
    "embedding.shape"
   ]
  },
  {
   "cell_type": "code",
   "execution_count": 29,
   "metadata": {
    "colab": {
     "base_uri": "https://localhost:8080/",
     "height": 457
    },
    "executionInfo": {
     "elapsed": 13909,
     "status": "ok",
     "timestamp": 1618998915474,
     "user": {
      "displayName": "Mara Thomas",
      "photoUrl": "",
      "userId": "08285540157542181220"
     },
     "user_tz": -120
    },
    "id": "9QEHB2D0R2tn",
    "outputId": "19f70976-5f5f-43f1-99f6-050f1a46b438"
   },
   "outputs": [
    {
     "name": "stdout",
     "output_type": "stream",
     "text": [
      "/home/mthomas/Documents/MPI_work/projects/meerkat/meerkat_umap_pv/reports/figures/2021-06-11_UMAP_silhouette_balanced.jpg\n"
     ]
    },
    {
     "data": {
      "image/png": "[encoded data removed]",
      "text/plain": [
       "<Figure size 648x504 with 1 Axes>"
      ]
     },
     "metadata": {
      "needs_background": "light"
     },
     "output_type": "display_data"
    }
   ],
   "source": [
    "labels = umap_df.call_lable\n",
    "labeltypes = sorted(list(set(labels)))\n",
    "n_clusters = len(labeltypes)\n",
    "\n",
    "# Create a subplot with 1 row and 2 columns\n",
    "fig, ax1 = plt.subplots(1, 1)\n",
    "fig.set_size_inches(9, 7)\n",
    "\n",
    "ax1.set_xlim([-1, 1])\n",
    "\n",
    "ax1.set_ylim([0, embedding.shape[0] + (n_clusters + 1) * 10])\n",
    "#cluster_labels = umap_df['HDBSCAN']\n",
    "cluster_labels = labels\n",
    "silhouette_avg = silhouette_score(embedding, cluster_labels)\n",
    "\n",
    "\n",
    "# Compute the silhouette scores for each sample\n",
    "sample_silhouette_values = silhouette_samples(embedding, cluster_labels)\n",
    "y_lower = 10\n",
    "\n",
    "pal = sns.color_palette(\"Set2\", n_colors=len(labeltypes))\n",
    "color_dict = dict(zip(labeltypes, pal))\n",
    "\n",
    "\n",
    "for i, cluster_label in enumerate(labeltypes):\n",
    "    ith_cluster_silhouette_values = sample_silhouette_values[cluster_labels == cluster_label]\n",
    "    ith_cluster_silhouette_values.sort()\n",
    "    \n",
    "    size_cluster_i = ith_cluster_silhouette_values.shape[0]\n",
    "    y_upper = y_lower + size_cluster_i\n",
    "    \n",
    "    ax1.fill_betweenx(np.arange(y_lower, y_upper),\n",
    "                    0, ith_cluster_silhouette_values,\n",
    "                    facecolor=color_dict[cluster_label], edgecolor=color_dict[cluster_label], alpha=0.7)\n",
    "    \n",
    "    ax1.text(-0.05, y_lower + 0.5 * size_cluster_i, cluster_label)\n",
    "\n",
    "    # Compute the new y_lower for next plot\n",
    "    y_lower = y_upper + 10  # 10 for the 0 samples\n",
    "\n",
    "ax1.set_title(\"Silhouette plot for manual labels in 3D UMAP space\")\n",
    "ax1.set_xlabel(\"Silhouette value\")\n",
    "ax1.set_ylabel(\"Cluster label\")\n",
    "\n",
    "# The vertical line for average silhouette score of all the values\n",
    "ax1.axvline(x=silhouette_avg, color=\"red\", linestyle=\"--\")\n",
    "\n",
    "outname = os.path.join(os.path.sep, FIGURES, 'UMAP_silhouette_'+dftype+'.jpg')\n",
    "print(outname)\n",
    "plt.savefig(outname, facecolor=\"white\")"
   ]
  },
  {
   "cell_type": "code",
   "execution_count": 28,
   "metadata": {
    "colab": {
     "base_uri": "https://localhost:8080/",
     "height": 33
    },
    "executionInfo": {
     "elapsed": 9495,
     "status": "ok",
     "timestamp": 1604231583685,
     "user": {
      "displayName": "Mara Thomas",
      "photoUrl": "",
      "userId": "08285540157542181220"
     },
     "user_tz": -60
    },
    "id": "YZsvDBr9pyfU",
    "outputId": "08f995d8-aa90-4f7e-f38f-86197f706eb4"
   },
   "outputs": [
    {
     "name": "stdout",
     "output_type": "stream",
     "text": [
      "0.5665629860031104\n"
     ]
    }
   ],
   "source": [
    "# Original % with pos scores\n",
    "sample_silhouette_values = silhouette_samples(data, cluster_labels)\n",
    "print(sample_silhouette_values[sample_silhouette_values>0].shape[0]/sample_silhouette_values.shape[0])"
   ]
  },
  {
   "cell_type": "code",
   "execution_count": 29,
   "metadata": {
    "colab": {
     "base_uri": "https://localhost:8080/",
     "height": 33
    },
    "executionInfo": {
     "elapsed": 1412,
     "status": "ok",
     "timestamp": 1604231601260,
     "user": {
      "displayName": "Mara Thomas",
      "photoUrl": "",
      "userId": "08285540157542181220"
     },
     "user_tz": -60
    },
    "id": "dGrmdu7_pzg0",
    "outputId": "05dab2b7-6407-4f66-cedb-f8f7069ff924"
   },
   "outputs": [
    {
     "name": "stdout",
     "output_type": "stream",
     "text": [
      "0.7227060653188181\n"
     ]
    }
   ],
   "source": [
    "# UMAP % with pos scores\n",
    "sample_silhouette_values = silhouette_samples(embedding, cluster_labels)\n",
    "print(sample_silhouette_values[sample_silhouette_values>0].shape[0]/sample_silhouette_values.shape[0])"
   ]
  },
  {
   "cell_type": "markdown",
   "metadata": {
    "id": "0jsfUCMiprCm"
   },
   "source": [
    "Sil scores and % with negative scores as unweighted average per class"
   ]
  },
  {
   "cell_type": "code",
   "execution_count": 30,
   "metadata": {
    "colab": {
     "base_uri": "https://localhost:8080/",
     "height": 245
    },
    "executionInfo": {
     "elapsed": 19072,
     "status": "ok",
     "timestamp": 1604231477570,
     "user": {
      "displayName": "Mara Thomas",
      "photoUrl": "",
      "userId": "08285540157542181220"
     },
     "user_tz": -60
    },
    "id": "QTI8wkL4WWER",
    "outputId": "d1b62c75-f4d7-4083-b964-918410694eb2"
   },
   "outputs": [
    {
     "name": "stdout",
     "output_type": "stream",
     "text": [
      "agg :  0.0\n",
      "al :  49.22600619195047\n",
      "cc :  92.0785375761679\n",
      "ld :  26.21951219512195\n",
      "mo :  72.85902503293808\n",
      "sn :  94.39353099730458\n",
      "soc :  53.89948006932409\n"
     ]
    }
   ],
   "source": [
    "labeltypes = sorted(list(set(labels)))\n",
    "n_clusters = len(labeltypes)\n",
    "\n",
    "prop_pos_dict_UMAP = {}\n",
    "sil_UMAP ={}\n",
    "\n",
    "#cluster_labels = umap_df['HDBSCAN']\n",
    "cluster_labels = labels\n",
    "silhouette_avg = silhouette_score(embedding, cluster_labels)\n",
    "\n",
    "# Compute the silhouette scores for each sample\n",
    "sample_silhouette_values = silhouette_samples(embedding, cluster_labels)\n",
    "\n",
    "\n",
    "for i, cluster_label in enumerate(labeltypes):\n",
    "    ith_cluster_silhouette_values = sample_silhouette_values[cluster_labels == cluster_label]\n",
    "    pos_vals = ith_cluster_silhouette_values[ith_cluster_silhouette_values>0]\n",
    "    print(cluster_label, \": \", pos_vals.shape[0]/ith_cluster_silhouette_values.shape[0]*100)\n",
    "    prop_pos_dict_UMAP[cluster_label] = pos_vals.shape[0]/ith_cluster_silhouette_values.shape[0]*100\n",
    "    sil_UMAP[cluster_label] = np.mean(ith_cluster_silhouette_values)\n"
   ]
  },
  {
   "cell_type": "markdown",
   "metadata": {
    "id": "Ag2lZXkNupz0"
   },
   "source": [
    "## How many dimensions?"
   ]
  },
  {
   "cell_type": "markdown",
   "metadata": {
    "id": "XIGIcDCqusG3"
   },
   "source": [
    "Evaluate, how many dimensions are best for the embedding."
   ]
  },
  {
   "cell_type": "code",
   "execution_count": 32,
   "metadata": {},
   "outputs": [],
   "source": [
    "specs = spec_df.denoised_spectrograms.copy()\n",
    "# normalize feature\n",
    "specs = [calc_zscore(x) for x in specs] \n",
    "# pad feature\n",
    "maxlen= np.max([spec.shape[1] for spec in specs])\n",
    "flattened_specs = [pad_spectro(spec, maxlen).flatten() for spec in specs]\n",
    "data = np.asarray(flattened_specs)\n",
    "data.shape\n",
    "\n",
    "embeddings = {}\n",
    "for n_dims in range(1,11):\n",
    "    reducer = umap.UMAP(n_components = n_dims, min_dist = 0, metric='euclidean', random_state=2204)\n",
    "    embeddings[n_dims] = reducer.fit_transform(data)    "
   ]
  },
  {
   "cell_type": "code",
   "execution_count": 33,
   "metadata": {
    "colab": {
     "base_uri": "https://localhost:8080/",
     "height": 163
    },
    "executionInfo": {
     "elapsed": 12891,
     "status": "ok",
     "timestamp": 1603784567285,
     "user": {
      "displayName": "Mara Thomas",
      "photoUrl": "",
      "userId": "08285540157542181220"
     },
     "user_tz": -60
    },
    "id": "HZChCp0su8ri",
    "outputId": "2d8b4893-5391-4990-d7d9-1b495b90d7b7"
   },
   "outputs": [
    {
     "name": "stdout",
     "output_type": "stream",
     "text": [
      "53.12653699833821\n",
      "60.16721465425428\n",
      "62.86065563813761\n",
      "63.774428388864706\n",
      "63.90020006772353\n",
      "63.339635059559846\n",
      "63.68077434125937\n",
      "63.76823437168046\n",
      "63.46266574754633\n",
      "63.622721378310494\n"
     ]
    }
   ],
   "source": [
    "labels = spec_df.call_lable.values\n",
    "calltypes = sorted(list(set(labels)))\n",
    "k=5\n",
    "dims_tab = np.zeros((10,1))\n",
    "\n",
    "for n_dims in range(1,11):\n",
    "    nn_stats = nn(embeddings[n_dims], labels, k=k)\n",
    "    stats_tab = nn_stats.get_statstab()\n",
    "    mean_metric = np.mean(np.diagonal(stats_tab.iloc[:-1,]))\n",
    "    print(mean_metric)\n",
    "    dims_tab[n_dims-1,:] = mean_metric"
   ]
  },
  {
   "cell_type": "code",
   "execution_count": 60,
   "metadata": {},
   "outputs": [
    {
     "data": {
      "image/png": "[encoded data removed]",
      "text/plain": [
       "<Figure size 432x288 with 1 Axes>"
      ]
     },
     "metadata": {
      "needs_background": "light"
     },
     "output_type": "display_data"
    }
   ],
   "source": [
    "x = np.arange(1,11,1)\n",
    "y = dims_tab[:,0]\n",
    "plt.plot(x,y, marker='o', markersize=4)\n",
    "plt.xlabel(\"N_components\")\n",
    "plt.ylabel(\"Embedding score S\")\n",
    "plt.xticks(np.arange(0, 11, step=1))\n",
    "plt.savefig(os.path.join(os.path.sep,FIGURES,'n_dims.png'), facecolor=\"white\")"
   ]
  },
  {
   "cell_type": "markdown",
   "metadata": {},
   "source": [
    "Note that this is different than doing UMAP with n=10 components and then selection only the first x dimensions in UMAP space!"
   ]
  },
  {
   "cell_type": "markdown",
   "metadata": {
    "id": "QM1NGDB6mHJH"
   },
   "source": [
    "# Graph from embedding evaluation"
   ]
  },
  {
   "cell_type": "markdown",
   "metadata": {
    "id": "Pj_6QhGD2bzO"
   },
   "source": [
    "Resource: https://en.it1352.com/article/d096c1eadbb84c19b038eb9648153346.html"
   ]
  },
  {
   "cell_type": "code",
   "execution_count": 36,
   "metadata": {
    "colab": {
     "base_uri": "https://localhost:8080/",
     "height": 248
    },
    "executionInfo": {
     "elapsed": 583,
     "status": "ok",
     "timestamp": 1603440408111,
     "user": {
      "displayName": "Mara Thomas",
      "photoUrl": "",
      "userId": "08285540157542181220"
     },
     "user_tz": -120
    },
    "id": "ebzKq6pqmKWH",
    "outputId": "924a2465-20d6-441c-c331-671c7405b95e"
   },
   "outputs": [
    {
     "data": {
      "text/html": [
       "<div>\n",
       "<style scoped>\n",
       "    .dataframe tbody tr th:only-of-type {\n",
       "        vertical-align: middle;\n",
       "    }\n",
       "\n",
       "    .dataframe tbody tr th {\n",
       "        vertical-align: top;\n",
       "    }\n",
       "\n",
       "    .dataframe thead th {\n",
       "        text-align: right;\n",
       "    }\n",
       "</style>\n",
       "<table border=\"1\" class=\"dataframe\">\n",
       "  <thead>\n",
       "    <tr style=\"text-align: right;\">\n",
       "      <th></th>\n",
       "      <th>agg</th>\n",
       "      <th>al</th>\n",
       "      <th>cc</th>\n",
       "      <th>ld</th>\n",
       "      <th>mo</th>\n",
       "      <th>sn</th>\n",
       "      <th>soc</th>\n",
       "    </tr>\n",
       "  </thead>\n",
       "  <tbody>\n",
       "    <tr>\n",
       "      <th>agg</th>\n",
       "      <td>2.972015</td>\n",
       "      <td>-1.885037</td>\n",
       "      <td>-1.064025</td>\n",
       "      <td>-3.257696</td>\n",
       "      <td>-3.790028</td>\n",
       "      <td>-3.653011</td>\n",
       "      <td>1.048444</td>\n",
       "    </tr>\n",
       "    <tr>\n",
       "      <th>al</th>\n",
       "      <td>-1.448938</td>\n",
       "      <td>2.763803</td>\n",
       "      <td>-1.529545</td>\n",
       "      <td>-0.691842</td>\n",
       "      <td>-0.212728</td>\n",
       "      <td>-2.340357</td>\n",
       "      <td>-2.091680</td>\n",
       "    </tr>\n",
       "    <tr>\n",
       "      <th>cc</th>\n",
       "      <td>-1.057039</td>\n",
       "      <td>-1.740754</td>\n",
       "      <td>1.751800</td>\n",
       "      <td>-1.972369</td>\n",
       "      <td>-2.790455</td>\n",
       "      <td>-3.114468</td>\n",
       "      <td>-0.687458</td>\n",
       "    </tr>\n",
       "    <tr>\n",
       "      <th>ld</th>\n",
       "      <td>-3.257696</td>\n",
       "      <td>-0.609380</td>\n",
       "      <td>-1.407584</td>\n",
       "      <td>3.388358</td>\n",
       "      <td>1.942326</td>\n",
       "      <td>-4.078726</td>\n",
       "      <td>-0.791914</td>\n",
       "    </tr>\n",
       "    <tr>\n",
       "      <th>mo</th>\n",
       "      <td>-3.620103</td>\n",
       "      <td>-0.212728</td>\n",
       "      <td>-2.463955</td>\n",
       "      <td>1.641572</td>\n",
       "      <td>2.612196</td>\n",
       "      <td>-3.213842</td>\n",
       "      <td>-2.378286</td>\n",
       "    </tr>\n",
       "    <tr>\n",
       "      <th>sn</th>\n",
       "      <td>-3.653011</td>\n",
       "      <td>-2.471601</td>\n",
       "      <td>-3.150092</td>\n",
       "      <td>-4.564152</td>\n",
       "      <td>-3.355018</td>\n",
       "      <td>1.676145</td>\n",
       "      <td>-3.415554</td>\n",
       "    </tr>\n",
       "    <tr>\n",
       "      <th>soc</th>\n",
       "      <td>1.035953</td>\n",
       "      <td>-2.410959</td>\n",
       "      <td>-0.528286</td>\n",
       "      <td>-0.406889</td>\n",
       "      <td>-2.324246</td>\n",
       "      <td>-3.258013</td>\n",
       "      <td>1.809971</td>\n",
       "    </tr>\n",
       "  </tbody>\n",
       "</table>\n",
       "</div>"
      ],
      "text/plain": [
       "          agg        al        cc        ld        mo        sn       soc\n",
       "agg  2.972015 -1.885037 -1.064025 -3.257696 -3.790028 -3.653011  1.048444\n",
       "al  -1.448938  2.763803 -1.529545 -0.691842 -0.212728 -2.340357 -2.091680\n",
       "cc  -1.057039 -1.740754  1.751800 -1.972369 -2.790455 -3.114468 -0.687458\n",
       "ld  -3.257696 -0.609380 -1.407584  3.388358  1.942326 -4.078726 -0.791914\n",
       "mo  -3.620103 -0.212728 -2.463955  1.641572  2.612196 -3.213842 -2.378286\n",
       "sn  -3.653011 -2.471601 -3.150092 -4.564152 -3.355018  1.676145 -3.415554\n",
       "soc  1.035953 -2.410959 -0.528286 -0.406889 -2.324246 -3.258013  1.809971"
      ]
     },
     "execution_count": 36,
     "metadata": {},
     "output_type": "execute_result"
    }
   ],
   "source": [
    "nn_stats = nn(embedding, labels, k=k)\n",
    "stats_tab_norm = nn_stats.get_statstabnorm()\n",
    "stats_tab_norm"
   ]
  },
  {
   "cell_type": "code",
   "execution_count": 37,
   "metadata": {
    "id": "VFiUp8HMn-yw"
   },
   "outputs": [],
   "source": [
    "import networkx as nx\n",
    "import string\n",
    "import pygraphviz"
   ]
  },
  {
   "cell_type": "code",
   "execution_count": 38,
   "metadata": {
    "id": "gyPrvJLKpyM_"
   },
   "outputs": [],
   "source": [
    "sim_mat = np.asarray(stats_tab_norm).copy()\n",
    "\n",
    "for i in range(sim_mat.shape[0]):\n",
    "    for j in range(i,sim_mat.shape[0]):\n",
    "        if i!=j:\n",
    "            sim_mat[i,j] = np.mean((sim_mat[i,j], sim_mat[j,i]))\n",
    "            sim_mat[j,i] = sim_mat[i,j]\n",
    "        else:\n",
    "            sim_mat[i,j] = 0"
   ]
  },
  {
   "cell_type": "code",
   "execution_count": 39,
   "metadata": {
    "colab": {
     "base_uri": "https://localhost:8080/",
     "height": 248
    },
    "executionInfo": {
     "elapsed": 596,
     "status": "ok",
     "timestamp": 1603440949007,
     "user": {
      "displayName": "Mara Thomas",
      "photoUrl": "",
      "userId": "08285540157542181220"
     },
     "user_tz": -120
    },
    "id": "R4EKzztaqapi",
    "outputId": "69e5ca34-2cd2-4f56-ea04-d50b3efb1d31"
   },
   "outputs": [
    {
     "data": {
      "text/html": [
       "<div>\n",
       "<style scoped>\n",
       "    .dataframe tbody tr th:only-of-type {\n",
       "        vertical-align: middle;\n",
       "    }\n",
       "\n",
       "    .dataframe tbody tr th {\n",
       "        vertical-align: top;\n",
       "    }\n",
       "\n",
       "    .dataframe thead th {\n",
       "        text-align: right;\n",
       "    }\n",
       "</style>\n",
       "<table border=\"1\" class=\"dataframe\">\n",
       "  <thead>\n",
       "    <tr style=\"text-align: right;\">\n",
       "      <th></th>\n",
       "      <th>0</th>\n",
       "      <th>1</th>\n",
       "      <th>2</th>\n",
       "      <th>3</th>\n",
       "      <th>4</th>\n",
       "      <th>5</th>\n",
       "      <th>6</th>\n",
       "    </tr>\n",
       "  </thead>\n",
       "  <tbody>\n",
       "    <tr>\n",
       "      <th>0</th>\n",
       "      <td>0.000000</td>\n",
       "      <td>-1.666987</td>\n",
       "      <td>-1.060532</td>\n",
       "      <td>-3.257696</td>\n",
       "      <td>-3.705065</td>\n",
       "      <td>-3.653011</td>\n",
       "      <td>1.042199</td>\n",
       "    </tr>\n",
       "    <tr>\n",
       "      <th>1</th>\n",
       "      <td>-1.666987</td>\n",
       "      <td>0.000000</td>\n",
       "      <td>-1.635149</td>\n",
       "      <td>-0.650611</td>\n",
       "      <td>-0.212728</td>\n",
       "      <td>-2.405979</td>\n",
       "      <td>-2.251319</td>\n",
       "    </tr>\n",
       "    <tr>\n",
       "      <th>2</th>\n",
       "      <td>-1.060532</td>\n",
       "      <td>-1.635149</td>\n",
       "      <td>0.000000</td>\n",
       "      <td>-1.689976</td>\n",
       "      <td>-2.627205</td>\n",
       "      <td>-3.132280</td>\n",
       "      <td>-0.607872</td>\n",
       "    </tr>\n",
       "    <tr>\n",
       "      <th>3</th>\n",
       "      <td>-3.257696</td>\n",
       "      <td>-0.650611</td>\n",
       "      <td>-1.689976</td>\n",
       "      <td>0.000000</td>\n",
       "      <td>1.791949</td>\n",
       "      <td>-4.321439</td>\n",
       "      <td>-0.599401</td>\n",
       "    </tr>\n",
       "    <tr>\n",
       "      <th>4</th>\n",
       "      <td>-3.705065</td>\n",
       "      <td>-0.212728</td>\n",
       "      <td>-2.627205</td>\n",
       "      <td>1.791949</td>\n",
       "      <td>0.000000</td>\n",
       "      <td>-3.284430</td>\n",
       "      <td>-2.351266</td>\n",
       "    </tr>\n",
       "    <tr>\n",
       "      <th>5</th>\n",
       "      <td>-3.653011</td>\n",
       "      <td>-2.405979</td>\n",
       "      <td>-3.132280</td>\n",
       "      <td>-4.321439</td>\n",
       "      <td>-3.284430</td>\n",
       "      <td>0.000000</td>\n",
       "      <td>-3.336783</td>\n",
       "    </tr>\n",
       "    <tr>\n",
       "      <th>6</th>\n",
       "      <td>1.042199</td>\n",
       "      <td>-2.251319</td>\n",
       "      <td>-0.607872</td>\n",
       "      <td>-0.599401</td>\n",
       "      <td>-2.351266</td>\n",
       "      <td>-3.336783</td>\n",
       "      <td>0.000000</td>\n",
       "    </tr>\n",
       "  </tbody>\n",
       "</table>\n",
       "</div>"
      ],
      "text/plain": [
       "          0         1         2         3         4         5         6\n",
       "0  0.000000 -1.666987 -1.060532 -3.257696 -3.705065 -3.653011  1.042199\n",
       "1 -1.666987  0.000000 -1.635149 -0.650611 -0.212728 -2.405979 -2.251319\n",
       "2 -1.060532 -1.635149  0.000000 -1.689976 -2.627205 -3.132280 -0.607872\n",
       "3 -3.257696 -0.650611 -1.689976  0.000000  1.791949 -4.321439 -0.599401\n",
       "4 -3.705065 -0.212728 -2.627205  1.791949  0.000000 -3.284430 -2.351266\n",
       "5 -3.653011 -2.405979 -3.132280 -4.321439 -3.284430  0.000000 -3.336783\n",
       "6  1.042199 -2.251319 -0.607872 -0.599401 -2.351266 -3.336783  0.000000"
      ]
     },
     "execution_count": 39,
     "metadata": {},
     "output_type": "execute_result"
    }
   ],
   "source": [
    "pd.DataFrame(sim_mat)"
   ]
  },
  {
   "cell_type": "code",
   "execution_count": 40,
   "metadata": {
    "id": "36KW8PYpxDm-"
   },
   "outputs": [],
   "source": [
    "dist_mat = sim_mat*(-1)\n",
    "dist_mat = np.interp(dist_mat, (dist_mat.min(), dist_mat.max()), (1, 10))"
   ]
  },
  {
   "cell_type": "code",
   "execution_count": 41,
   "metadata": {
    "id": "WEq5_JwyxpH3"
   },
   "outputs": [],
   "source": [
    "for i in range(dist_mat.shape[0]):\n",
    "    dist_mat[i,i] = 0"
   ]
  },
  {
   "cell_type": "code",
   "execution_count": 42,
   "metadata": {
    "colab": {
     "base_uri": "https://localhost:8080/",
     "height": 248
    },
    "executionInfo": {
     "elapsed": 734,
     "status": "ok",
     "timestamp": 1603440976774,
     "user": {
      "displayName": "Mara Thomas",
      "photoUrl": "",
      "userId": "08285540157542181220"
     },
     "user_tz": -120
    },
    "id": "GBYWz2VRwOEm",
    "outputId": "2932eff9-0529-47e3-f8d9-2e186b00a119"
   },
   "outputs": [
    {
     "data": {
      "text/html": [
       "<div>\n",
       "<style scoped>\n",
       "    .dataframe tbody tr th:only-of-type {\n",
       "        vertical-align: middle;\n",
       "    }\n",
       "\n",
       "    .dataframe tbody tr th {\n",
       "        vertical-align: top;\n",
       "    }\n",
       "\n",
       "    .dataframe thead th {\n",
       "        text-align: right;\n",
       "    }\n",
       "</style>\n",
       "<table border=\"1\" class=\"dataframe\">\n",
       "  <thead>\n",
       "    <tr style=\"text-align: right;\">\n",
       "      <th></th>\n",
       "      <th>agg</th>\n",
       "      <th>al</th>\n",
       "      <th>cc</th>\n",
       "      <th>ld</th>\n",
       "      <th>mo</th>\n",
       "      <th>sn</th>\n",
       "      <th>soc</th>\n",
       "    </tr>\n",
       "  </thead>\n",
       "  <tbody>\n",
       "    <tr>\n",
       "      <th>agg</th>\n",
       "      <td>0.000000</td>\n",
       "      <td>6.092172</td>\n",
       "      <td>5.199362</td>\n",
       "      <td>8.433980</td>\n",
       "      <td>9.092588</td>\n",
       "      <td>9.015954</td>\n",
       "      <td>2.103766</td>\n",
       "    </tr>\n",
       "    <tr>\n",
       "      <th>al</th>\n",
       "      <td>6.092172</td>\n",
       "      <td>0.000000</td>\n",
       "      <td>6.045301</td>\n",
       "      <td>4.595885</td>\n",
       "      <td>3.951242</td>\n",
       "      <td>7.180101</td>\n",
       "      <td>6.952414</td>\n",
       "    </tr>\n",
       "    <tr>\n",
       "      <th>cc</th>\n",
       "      <td>5.199362</td>\n",
       "      <td>6.045301</td>\n",
       "      <td>0.000000</td>\n",
       "      <td>6.126016</td>\n",
       "      <td>7.505784</td>\n",
       "      <td>8.249345</td>\n",
       "      <td>4.532965</td>\n",
       "    </tr>\n",
       "    <tr>\n",
       "      <th>ld</th>\n",
       "      <td>8.433980</td>\n",
       "      <td>4.595885</td>\n",
       "      <td>6.126016</td>\n",
       "      <td>0.000000</td>\n",
       "      <td>1.000000</td>\n",
       "      <td>10.000000</td>\n",
       "      <td>4.520495</td>\n",
       "    </tr>\n",
       "    <tr>\n",
       "      <th>mo</th>\n",
       "      <td>9.092588</td>\n",
       "      <td>3.951242</td>\n",
       "      <td>7.505784</td>\n",
       "      <td>1.000000</td>\n",
       "      <td>0.000000</td>\n",
       "      <td>8.473337</td>\n",
       "      <td>7.099553</td>\n",
       "    </tr>\n",
       "    <tr>\n",
       "      <th>sn</th>\n",
       "      <td>9.015954</td>\n",
       "      <td>7.180101</td>\n",
       "      <td>8.249345</td>\n",
       "      <td>10.000000</td>\n",
       "      <td>8.473337</td>\n",
       "      <td>0.000000</td>\n",
       "      <td>8.550410</td>\n",
       "    </tr>\n",
       "    <tr>\n",
       "      <th>soc</th>\n",
       "      <td>2.103766</td>\n",
       "      <td>6.952414</td>\n",
       "      <td>4.532965</td>\n",
       "      <td>4.520495</td>\n",
       "      <td>7.099553</td>\n",
       "      <td>8.550410</td>\n",
       "      <td>0.000000</td>\n",
       "    </tr>\n",
       "  </tbody>\n",
       "</table>\n",
       "</div>"
      ],
      "text/plain": [
       "          agg        al        cc         ld        mo         sn       soc\n",
       "agg  0.000000  6.092172  5.199362   8.433980  9.092588   9.015954  2.103766\n",
       "al   6.092172  0.000000  6.045301   4.595885  3.951242   7.180101  6.952414\n",
       "cc   5.199362  6.045301  0.000000   6.126016  7.505784   8.249345  4.532965\n",
       "ld   8.433980  4.595885  6.126016   0.000000  1.000000  10.000000  4.520495\n",
       "mo   9.092588  3.951242  7.505784   1.000000  0.000000   8.473337  7.099553\n",
       "sn   9.015954  7.180101  8.249345  10.000000  8.473337   0.000000  8.550410\n",
       "soc  2.103766  6.952414  4.532965   4.520495  7.099553   8.550410  0.000000"
      ]
     },
     "execution_count": 42,
     "metadata": {},
     "output_type": "execute_result"
    }
   ],
   "source": [
    "pd.DataFrame(dist_mat, columns=calltypes, index=calltypes)"
   ]
  },
  {
   "cell_type": "code",
   "execution_count": 51,
   "metadata": {
    "id": "PNqFaTdPtpa-"
   },
   "outputs": [],
   "source": [
    "dt = [('len', float)]\n",
    "A = dist_mat\n",
    "\n",
    "A = A.view(dt)\n",
    "\n",
    "G = nx.from_numpy_matrix(A)\n",
    "G = nx.relabel_nodes(G, dict(zip(range(len(G.nodes())),calltypes))) \n",
    "\n",
    "G = nx.drawing.nx_agraph.to_agraph(G)\n",
    "\n",
    "G.node_attr.update(color=\"#bec1d4\", style=\"filled\", shape='circle', fontsize='20')\n",
    "G.edge_attr.update(color=\"blue\", width=\"2.0\")\n",
    "\n",
    "G.draw(os.path.join(os.path.sep,FIGURES,'simgraph.png'), format='png', prog='neato')"
   ]
  },
  {
   "cell_type": "markdown",
   "metadata": {
    "id": "B2Wzw7w74lUG"
   },
   "source": [
    "# Make interactive plot df"
   ]
  },
  {
   "cell_type": "code",
   "execution_count": null,
   "metadata": {
    "colab": {
     "base_uri": "https://localhost:8080/",
     "height": 133
    },
    "executionInfo": {
     "elapsed": 1160,
     "status": "ok",
     "timestamp": 1600791394990,
     "user": {
      "displayName": "Mara Thomas",
      "photoUrl": "",
      "userId": "08285540157542181220"
     },
     "user_tz": -120
    },
    "id": "YZo1cEF227YF",
    "outputId": "299c799c-6bba-4c87-eb3f-a61f43d0f901"
   },
   "outputs": [
    {
     "data": {
      "text/html": [
       "<div>\n",
       "<style scoped>\n",
       "    .dataframe tbody tr th:only-of-type {\n",
       "        vertical-align: middle;\n",
       "    }\n",
       "\n",
       "    .dataframe tbody tr th {\n",
       "        vertical-align: top;\n",
       "    }\n",
       "\n",
       "    .dataframe thead th {\n",
       "        text-align: right;\n",
       "    }\n",
       "</style>\n",
       "<table border=\"1\" class=\"dataframe\">\n",
       "  <thead>\n",
       "    <tr style=\"text-align: right;\">\n",
       "      <th></th>\n",
       "      <th>UMAP0</th>\n",
       "      <th>UMAP1</th>\n",
       "      <th>UMAP2</th>\n",
       "      <th>UMAP3</th>\n",
       "      <th>UMAP4</th>\n",
       "      <th>UMAP5</th>\n",
       "      <th>UMAP6</th>\n",
       "      <th>UMAP7</th>\n",
       "      <th>UMAP8</th>\n",
       "      <th>UMAP9</th>\n",
       "      <th>UMAPindex_id</th>\n",
       "    </tr>\n",
       "  </thead>\n",
       "  <tbody>\n",
       "    <tr>\n",
       "      <th>0</th>\n",
       "      <td>5.299764</td>\n",
       "      <td>6.417554</td>\n",
       "      <td>4.202350</td>\n",
       "      <td>7.906916</td>\n",
       "      <td>5.890747</td>\n",
       "      <td>5.762173</td>\n",
       "      <td>7.925637</td>\n",
       "      <td>2.581645</td>\n",
       "      <td>3.845777</td>\n",
       "      <td>2.846862</td>\n",
       "      <td>1598</td>\n",
       "    </tr>\n",
       "    <tr>\n",
       "      <th>1</th>\n",
       "      <td>6.663779</td>\n",
       "      <td>7.219666</td>\n",
       "      <td>3.152430</td>\n",
       "      <td>7.098815</td>\n",
       "      <td>5.258693</td>\n",
       "      <td>6.454947</td>\n",
       "      <td>8.047126</td>\n",
       "      <td>2.527444</td>\n",
       "      <td>4.023995</td>\n",
       "      <td>2.729822</td>\n",
       "      <td>1599</td>\n",
       "    </tr>\n",
       "    <tr>\n",
       "      <th>2</th>\n",
       "      <td>6.665429</td>\n",
       "      <td>6.820063</td>\n",
       "      <td>4.278993</td>\n",
       "      <td>6.828559</td>\n",
       "      <td>4.940083</td>\n",
       "      <td>5.939328</td>\n",
       "      <td>8.093526</td>\n",
       "      <td>3.022829</td>\n",
       "      <td>4.242816</td>\n",
       "      <td>2.590861</td>\n",
       "      <td>1600</td>\n",
       "    </tr>\n",
       "  </tbody>\n",
       "</table>\n",
       "</div>"
      ],
      "text/plain": [
       "      UMAP0     UMAP1     UMAP2  ...     UMAP8     UMAP9  UMAPindex_id\n",
       "0  5.299764  6.417554  4.202350  ...  3.845777  2.846862          1598\n",
       "1  6.663779  7.219666  3.152430  ...  4.023995  2.729822          1599\n",
       "2  6.665429  6.820063  4.278993  ...  4.242816  2.590861          1600\n",
       "\n",
       "[3 rows x 11 columns]"
      ]
     },
     "execution_count": 28,
     "metadata": {
      "tags": []
     },
     "output_type": "execute_result"
    }
   ],
   "source": [
    "embedding.head(3)"
   ]
  },
  {
   "cell_type": "code",
   "execution_count": null,
   "metadata": {
    "colab": {
     "base_uri": "https://localhost:8080/",
     "height": 66
    },
    "executionInfo": {
     "elapsed": 587,
     "status": "ok",
     "timestamp": 1600846455212,
     "user": {
      "displayName": "Mara Thomas",
      "photoUrl": "",
      "userId": "08285540157542181220"
     },
     "user_tz": -120
    },
    "id": "lWp7TcQJ3DBU",
    "outputId": "c3fb60cd-4b86-42f4-f7b2-d915df0e49e3"
   },
   "outputs": [
    {
     "data": {
      "text/plain": [
       "Index(['UMAP0', 'UMAP1', 'UMAP2', 'UMAP3', 'UMAP4', 'UMAP5', 'UMAP6', 'UMAP7',\n",
       "       'UMAP8', 'UMAP9', 'UMAPindex_id'],\n",
       "      dtype='object')"
      ]
     },
     "execution_count": 5,
     "metadata": {
      "tags": []
     },
     "output_type": "execute_result"
    }
   ],
   "source": [
    "embedding.columns = ['UMAP'+str(col) for col in embedding.columns]\n",
    "embedding.columns"
   ]
  },
  {
   "cell_type": "code",
   "execution_count": null,
   "metadata": {
    "colab": {
     "base_uri": "https://localhost:8080/",
     "height": 167
    },
    "executionInfo": {
     "elapsed": 664,
     "status": "ok",
     "timestamp": 1600846457986,
     "user": {
      "displayName": "Mara Thomas",
      "photoUrl": "",
      "userId": "08285540157542181220"
     },
     "user_tz": -120
    },
    "id": "O_VgcXgs3k-v",
    "outputId": "88f29eb8-d0c5-405c-9e29-c11a57f891db"
   },
   "outputs": [
    {
     "name": "stderr",
     "output_type": "stream",
     "text": [
      "/usr/local/lib/python3.6/dist-packages/ipykernel_launcher.py:2: SettingWithCopyWarning:\n",
      "\n",
      "\n",
      "A value is trying to be set on a copy of a slice from a DataFrame.\n",
      "Try using .loc[row_indexer,col_indexer] = value instead\n",
      "\n",
      "See the caveats in the documentation: https://pandas.pydata.org/pandas-docs/stable/user_guide/indexing.html#returning-a-view-versus-a-copy\n",
      "\n"
     ]
    }
   ],
   "source": [
    "for col in embedding.columns:\n",
    "  spec_df[col] = embedding[col].values"
   ]
  },
  {
   "cell_type": "code",
   "execution_count": null,
   "metadata": {
    "colab": {
     "base_uri": "https://localhost:8080/",
     "height": 348
    },
    "executionInfo": {
     "elapsed": 1730,
     "status": "ok",
     "timestamp": 1600846464085,
     "user": {
      "displayName": "Mara Thomas",
      "photoUrl": "",
      "userId": "08285540157542181220"
     },
     "user_tz": -120
    },
    "id": "UIcD7N0o3tAC",
    "outputId": "7e90dab1-6815-4a05-9a8f-f55f0cde0be1"
   },
   "outputs": [
    {
     "data": {
      "text/html": [
       "<div>\n",
       "<style scoped>\n",
       "    .dataframe tbody tr th:only-of-type {\n",
       "        vertical-align: middle;\n",
       "    }\n",
       "\n",
       "    .dataframe tbody tr th {\n",
       "        vertical-align: top;\n",
       "    }\n",
       "\n",
       "    .dataframe thead th {\n",
       "        text-align: right;\n",
       "    }\n",
       "</style>\n",
       "<table border=\"1\" class=\"dataframe\">\n",
       "  <thead>\n",
       "    <tr style=\"text-align: right;\">\n",
       "      <th></th>\n",
       "      <th>Name</th>\n",
       "      <th>Start</th>\n",
       "      <th>Duration</th>\n",
       "      <th>Time Format</th>\n",
       "      <th>Type</th>\n",
       "      <th>Description</th>\n",
       "      <th>call_yn</th>\n",
       "      <th>start_s</th>\n",
       "      <th>duration_s</th>\n",
       "      <th>stop_s</th>\n",
       "      <th>date</th>\n",
       "      <th>samplerate_hz</th>\n",
       "      <th>indv</th>\n",
       "      <th>original_wav</th>\n",
       "      <th>bout_number</th>\n",
       "      <th>call_lable</th>\n",
       "      <th>raw_audio</th>\n",
       "      <th>spectrograms</th>\n",
       "      <th>mfccs</th>\n",
       "      <th>mfcc_deltas</th>\n",
       "      <th>mfcc_deltadeltas</th>\n",
       "      <th>soundfoc_yn</th>\n",
       "      <th>stretched_spectrograms</th>\n",
       "      <th>stretched_mfccs</th>\n",
       "      <th>stretched_mfcc_deltas</th>\n",
       "      <th>stretched_mfcc_deltadeltas</th>\n",
       "      <th>denoised_spectrograms</th>\n",
       "      <th>denoised_stretched_spectrograms</th>\n",
       "      <th>denoised_mfccs</th>\n",
       "      <th>denoised_stretched_mfccs</th>\n",
       "      <th>denoised_mfcc_deltas</th>\n",
       "      <th>denoised_stretched_mfcc_deltas</th>\n",
       "      <th>certain_yn</th>\n",
       "      <th>index_id</th>\n",
       "      <th>nonfocal_yn</th>\n",
       "      <th>UMAP0</th>\n",
       "      <th>UMAP1</th>\n",
       "      <th>UMAP2</th>\n",
       "      <th>UMAP3</th>\n",
       "      <th>UMAP4</th>\n",
       "      <th>UMAP5</th>\n",
       "      <th>UMAP6</th>\n",
       "      <th>UMAP7</th>\n",
       "      <th>UMAP8</th>\n",
       "      <th>UMAP9</th>\n",
       "      <th>UMAPindex_id</th>\n",
       "    </tr>\n",
       "  </thead>\n",
       "  <tbody>\n",
       "    <tr>\n",
       "      <th>1598</th>\n",
       "      <td>ALARM</td>\n",
       "      <td>1:10:56.215</td>\n",
       "      <td>0:00.178</td>\n",
       "      <td>decimal</td>\n",
       "      <td>Cue</td>\n",
       "      <td>NaN</td>\n",
       "      <td>y</td>\n",
       "      <td>4256.215</td>\n",
       "      <td>0.178</td>\n",
       "      <td>4256.393</td>\n",
       "      <td>2017-08-23</td>\n",
       "      <td>8000</td>\n",
       "      <td>HMB</td>\n",
       "      <td>/content/drive/My Drive/meerkat/in_wavs/HM_HMB...</td>\n",
       "      <td>36</td>\n",
       "      <td>al</td>\n",
       "      <td>[0.0, 0.001953125, 0.001953125, 0.0, -0.001953...</td>\n",
       "      <td>[[-7.209921, -5.1646175, -3.098959, -2.4054718...</td>\n",
       "      <td>[[-191.47098, -187.8111, -185.9428, -190.7444,...</td>\n",
       "      <td>[[-0.20289917, -0.20289917, -0.20289917, -0.20...</td>\n",
       "      <td>[[0.52968067, 0.52968067, 0.52968067, 0.529680...</td>\n",
       "      <td>n</td>\n",
       "      <td>[[-7.011978, -9.6945915, -19.352905, -4.998459...</td>\n",
       "      <td>[[-298.56454, -287.705, -251.56706, -233.63583...</td>\n",
       "      <td>[[8.501973, 8.501973, 8.501973, 8.501973, 8.50...</td>\n",
       "      <td>[[-4.471219, -4.471219, -4.471219, -4.471219, ...</td>\n",
       "      <td>[[25.639555, 26.477575, 27.715773, 28.758339, ...</td>\n",
       "      <td>[[42.728127, 36.027912, 21.339691, 33.3617, 33...</td>\n",
       "      <td>[[16.28734, 12.311697, 8.946664, 6.3528423, 1....</td>\n",
       "      <td>[[16.01946, 1.4694939, 5.795529, 8.975101, 7.6...</td>\n",
       "      <td>[[-0.61669123, -0.61669123, -0.61669123, -0.61...</td>\n",
       "      <td>[[-1.8924303, -1.8924303, -1.8924303, -1.89243...</td>\n",
       "      <td>y</td>\n",
       "      <td>1598</td>\n",
       "      <td>n</td>\n",
       "      <td>5.299764</td>\n",
       "      <td>6.417554</td>\n",
       "      <td>4.202350</td>\n",
       "      <td>7.906916</td>\n",
       "      <td>5.890747</td>\n",
       "      <td>5.762173</td>\n",
       "      <td>7.925637</td>\n",
       "      <td>2.581645</td>\n",
       "      <td>3.845777</td>\n",
       "      <td>2.846862</td>\n",
       "      <td>1598</td>\n",
       "    </tr>\n",
       "    <tr>\n",
       "      <th>1599</th>\n",
       "      <td>ALARM</td>\n",
       "      <td>1:12:04.643</td>\n",
       "      <td>0:00.317</td>\n",
       "      <td>decimal</td>\n",
       "      <td>Cue</td>\n",
       "      <td>NaN</td>\n",
       "      <td>y</td>\n",
       "      <td>4324.643</td>\n",
       "      <td>0.317</td>\n",
       "      <td>4324.960</td>\n",
       "      <td>2017-08-23</td>\n",
       "      <td>8000</td>\n",
       "      <td>HMB</td>\n",
       "      <td>/content/drive/My Drive/meerkat/in_wavs/HM_HMB...</td>\n",
       "      <td>37</td>\n",
       "      <td>al</td>\n",
       "      <td>[-0.001953125, 0.0, -0.001953125, 0.001953125,...</td>\n",
       "      <td>[[-21.059677, -20.16883, -20.029144, -18.70754...</td>\n",
       "      <td>[[-202.54906, -200.67754, -198.63663, -195.151...</td>\n",
       "      <td>[[2.8926115, 2.8926115, 2.8926115, 2.8926115, ...</td>\n",
       "      <td>[[0.34753123, 0.34753123, 0.34753123, 0.347531...</td>\n",
       "      <td>n</td>\n",
       "      <td>[[-20.856384, -25.17736, -22.190731, -18.3026,...</td>\n",
       "      <td>[[-309.39282, -302.25238, -261.8284, -244.5711...</td>\n",
       "      <td>[[9.903481, 9.903481, 9.903481, 9.903481, 9.90...</td>\n",
       "      <td>[[-5.0388603, -5.0388603, -5.0388603, -5.03886...</td>\n",
       "      <td>[[10.762169, 11.25013, 11.792789, 12.15715, 16...</td>\n",
       "      <td>[[31.449883, 24.311474, 19.03553, 20.888477, 1...</td>\n",
       "      <td>[[-1.2900445, -1.9665908, 2.6229572, 0.0544083...</td>\n",
       "      <td>[[21.421076, 10.742476, -1.0906525, 3.2950172,...</td>\n",
       "      <td>[[0.75837135, 0.75837135, 0.75837135, 0.758371...</td>\n",
       "      <td>[[-2.5341513, -2.5341513, -2.5341513, -2.53415...</td>\n",
       "      <td>y</td>\n",
       "      <td>1599</td>\n",
       "      <td>n</td>\n",
       "      <td>6.663779</td>\n",
       "      <td>7.219666</td>\n",
       "      <td>3.152430</td>\n",
       "      <td>7.098815</td>\n",
       "      <td>5.258693</td>\n",
       "      <td>6.454947</td>\n",
       "      <td>8.047126</td>\n",
       "      <td>2.527444</td>\n",
       "      <td>4.023995</td>\n",
       "      <td>2.729822</td>\n",
       "      <td>1599</td>\n",
       "    </tr>\n",
       "    <tr>\n",
       "      <th>1600</th>\n",
       "      <td>ALARM</td>\n",
       "      <td>1:12:15.132</td>\n",
       "      <td>0:00.192</td>\n",
       "      <td>decimal</td>\n",
       "      <td>Cue</td>\n",
       "      <td>NaN</td>\n",
       "      <td>y</td>\n",
       "      <td>4335.132</td>\n",
       "      <td>0.192</td>\n",
       "      <td>4335.324</td>\n",
       "      <td>2017-08-23</td>\n",
       "      <td>8000</td>\n",
       "      <td>HMB</td>\n",
       "      <td>/content/drive/My Drive/meerkat/in_wavs/HM_HMB...</td>\n",
       "      <td>38</td>\n",
       "      <td>al</td>\n",
       "      <td>[0.005859375, 0.005859375, 0.0078125, 0.005859...</td>\n",
       "      <td>[[-13.698711, -14.600319, -16.215317, -15.7289...</td>\n",
       "      <td>[[-228.33861, -223.5106, -216.6013, -210.05571...</td>\n",
       "      <td>[[5.747422, 5.747422, 5.747422, 5.747422, 5.74...</td>\n",
       "      <td>[[-0.56166244, -0.56166244, -0.56166244, -0.56...</td>\n",
       "      <td>n</td>\n",
       "      <td>[[-18.871624, -18.160267, -16.079659, -15.3467...</td>\n",
       "      <td>[[-332.1619, -317.1976, -282.9387, -259.3602, ...</td>\n",
       "      <td>[[8.739941, 8.739941, 8.739941, 8.739941, 8.73...</td>\n",
       "      <td>[[-4.272333, -4.272333, -4.272333, -4.272333, ...</td>\n",
       "      <td>[[24.188335, 22.856678, 18.059265, 18.200275, ...</td>\n",
       "      <td>[[34.815525, 32.16957, 28.692219, 25.785461, 2...</td>\n",
       "      <td>[[11.280135, 13.388241, 0.17019328, 4.531397, ...</td>\n",
       "      <td>[[7.3854628, 1.116233, 0.22352138, 0.7825685, ...</td>\n",
       "      <td>[[0.3497859, 0.3497859, 0.3497859, 0.3497859, ...</td>\n",
       "      <td>[[-0.8115787, -0.8115787, -0.8115787, -0.81157...</td>\n",
       "      <td>y</td>\n",
       "      <td>1600</td>\n",
       "      <td>n</td>\n",
       "      <td>6.665429</td>\n",
       "      <td>6.820063</td>\n",
       "      <td>4.278993</td>\n",
       "      <td>6.828559</td>\n",
       "      <td>4.940083</td>\n",
       "      <td>5.939328</td>\n",
       "      <td>8.093526</td>\n",
       "      <td>3.022829</td>\n",
       "      <td>4.242816</td>\n",
       "      <td>2.590861</td>\n",
       "      <td>1600</td>\n",
       "    </tr>\n",
       "  </tbody>\n",
       "</table>\n",
       "</div>"
      ],
      "text/plain": [
       "       Name        Start  Duration  ...     UMAP8     UMAP9 UMAPindex_id\n",
       "1598  ALARM  1:10:56.215  0:00.178  ...  3.845777  2.846862         1598\n",
       "1599  ALARM  1:12:04.643  0:00.317  ...  4.023995  2.729822         1599\n",
       "1600  ALARM  1:12:15.132  0:00.192  ...  4.242816  2.590861         1600\n",
       "\n",
       "[3 rows x 46 columns]"
      ]
     },
     "execution_count": 7,
     "metadata": {
      "tags": []
     },
     "output_type": "execute_result"
    }
   ],
   "source": [
    "spec_df.head(3)"
   ]
  },
  {
   "cell_type": "code",
   "execution_count": null,
   "metadata": {
    "id": "ANh-G_WbVGv6"
   },
   "outputs": [],
   "source": [
    "# Add metadata"
   ]
  },
  {
   "cell_type": "code",
   "execution_count": null,
   "metadata": {
    "colab": {
     "base_uri": "https://localhost:8080/",
     "height": 163
    },
    "executionInfo": {
     "elapsed": 1308,
     "status": "ok",
     "timestamp": 1600846469849,
     "user": {
      "displayName": "Mara Thomas",
      "photoUrl": "",
      "userId": "08285540157542181220"
     },
     "user_tz": -120
    },
    "id": "im4abiqgVILH",
    "outputId": "19bdd742-1e7e-4cc8-cbdc-f706bff3bc39"
   },
   "outputs": [
    {
     "name": "stdout",
     "output_type": "stream",
     "text": [
      "HMB is actually  VCVM001\n",
      "HRT not in dyemarks\n",
      "HTB is actually  VHMF001\n",
      "LT is actually  VHMF031\n",
      "PET not in dyemarks\n",
      "RT is actually  VHMF030\n",
      "VHMM002 not in dyemarks\n",
      "VHMM003 not in dyemarks\n",
      "VLF206 not in dyemarks\n"
     ]
    }
   ],
   "source": [
    "sorted(list(set(spec_df['indv'])))\n",
    "meerkat_info = pd.read_csv(PROJECT_PATH+'Meerkat_info.csv', sep=\";\")\n",
    "\n",
    "meerkat_names = meerkat_info['Code']\n",
    "\n",
    "labelsep = re.compile('[\\+\\s]') # Match ? * ! %\n",
    "meerkat_dyemarks = [labelsep.sub('', i) for i in list(meerkat_info['Dye mark'])]\n",
    "meerkat_info['Dye mark'] = meerkat_dyemarks\n",
    "\n",
    "\n",
    "meerkat_dict = meerkat_info.drop(columns=['Code', 'Name']).T\n",
    "meerkat_dict.columns = meerkat_names\n",
    "meerkat_dict = meerkat_dict.to_dict()\n",
    "\n",
    "for ind in sorted(list(set(spec_df['indv']))):\n",
    "  if (not ind in meerkat_dict.keys()):\n",
    "    if ind in meerkat_dyemarks:\n",
    "      ind_row = meerkat_info[meerkat_info['Dye mark']== ind]\n",
    "      ind_code = meerkat_info[meerkat_info['Dye mark'] == ind].Code.values[0]\n",
    "      if(ind_code in meerkat_dict.keys()):\n",
    "        meerkat_dict[ind] = meerkat_dict[ind_code]\n",
    "        print(ind, \"is actually \", ind_code)\n",
    "    else:\n",
    "      print(ind, \"not in dyemarks\")"
   ]
  },
  {
   "cell_type": "code",
   "execution_count": null,
   "metadata": {
    "id": "5zc7MO5oVUF5"
   },
   "outputs": [],
   "source": [
    "meerkat_dict['PET'] = meerkat_dict['VCVM001']\n",
    "meerkat_dict['VLF206'] = {'DOB': '21.08.2013', \n",
    "                          'Dye mark': 'RCRSTBL', \n",
    "                          'Sex': 'F', \n",
    "                          'Status': 'Adult'\n",
    "                          }\n",
    "meerkat_dict['VHMM002'] = {'DOB': '27.10.16', \n",
    "                          'Dye mark': 'HRT', \n",
    "                          'Sex': 'M', \n",
    "                          'Status': 'Dominant'\n",
    "                          }\n",
    "\n",
    "meerkat_dict['VHMM003'] = {'DOB': '27.10.16', \n",
    "                          'Dye mark': 'HLT', \n",
    "                          'Sex': 'M', \n",
    "                          'Status': 'Adult'\n",
    "                          }\n",
    "for ind in sorted(list(set(spec_df['indv']))):\n",
    "  if (not ind in meerkat_dict.keys()):\n",
    "    meerkat_dict[ind] = {'DOB': 'NA', \n",
    "                         'Dye mark': 'NA', \n",
    "                         'Sex': 'NA', \n",
    "                         'Status':'NA'}"
   ]
  },
  {
   "cell_type": "code",
   "execution_count": null,
   "metadata": {
    "colab": {
     "base_uri": "https://localhost:8080/",
     "height": 297
    },
    "executionInfo": {
     "elapsed": 595,
     "status": "ok",
     "timestamp": 1600846476541,
     "user": {
      "displayName": "Mara Thomas",
      "photoUrl": "",
      "userId": "08285540157542181220"
     },
     "user_tz": -120
    },
    "id": "X7BOArnQVc58",
    "outputId": "162059c6-cde8-4cf4-d30c-d159154c777a"
   },
   "outputs": [
    {
     "name": "stderr",
     "output_type": "stream",
     "text": [
      "/usr/local/lib/python3.6/dist-packages/ipykernel_launcher.py:2: SettingWithCopyWarning:\n",
      "\n",
      "\n",
      "A value is trying to be set on a copy of a slice from a DataFrame.\n",
      "Try using .loc[row_indexer,col_indexer] = value instead\n",
      "\n",
      "See the caveats in the documentation: https://pandas.pydata.org/pandas-docs/stable/user_guide/indexing.html#returning-a-view-versus-a-copy\n",
      "\n",
      "/usr/local/lib/python3.6/dist-packages/ipykernel_launcher.py:4: SettingWithCopyWarning:\n",
      "\n",
      "\n",
      "A value is trying to be set on a copy of a slice from a DataFrame.\n",
      "Try using .loc[row_indexer,col_indexer] = value instead\n",
      "\n",
      "See the caveats in the documentation: https://pandas.pydata.org/pandas-docs/stable/user_guide/indexing.html#returning-a-view-versus-a-copy\n",
      "\n"
     ]
    }
   ],
   "source": [
    "sex = [meerkat_dict[ind]['Sex'] for ind in spec_df['indv']]\n",
    "spec_df['Sex'] = sex\n",
    "status = [meerkat_dict[ind]['Status'] for ind in spec_df['indv']]\n",
    "spec_df['status'] = status"
   ]
  },
  {
   "cell_type": "code",
   "execution_count": null,
   "metadata": {
    "colab": {
     "base_uri": "https://localhost:8080/",
     "height": 167
    },
    "executionInfo": {
     "elapsed": 524,
     "status": "ok",
     "timestamp": 1600846481473,
     "user": {
      "displayName": "Mara Thomas",
      "photoUrl": "",
      "userId": "08285540157542181220"
     },
     "user_tz": -120
    },
    "id": "9EkrRFNmIA3C",
    "outputId": "2a3cf606-7e0c-4bff-c2e9-bde6f7a43b9c"
   },
   "outputs": [
    {
     "name": "stderr",
     "output_type": "stream",
     "text": [
      "/usr/local/lib/python3.6/dist-packages/ipykernel_launcher.py:2: SettingWithCopyWarning:\n",
      "\n",
      "\n",
      "A value is trying to be set on a copy of a slice from a DataFrame.\n",
      "Try using .loc[row_indexer,col_indexer] = value instead\n",
      "\n",
      "See the caveats in the documentation: https://pandas.pydata.org/pandas-docs/stable/user_guide/indexing.html#returning-a-view-versus-a-copy\n",
      "\n"
     ]
    }
   ],
   "source": [
    "filename = [os.path.basename(wav_path) for wav_path in spec_df['original_wav']]\n",
    "spec_df['filename'] = filename"
   ]
  },
  {
   "cell_type": "code",
   "execution_count": null,
   "metadata": {
    "colab": {
     "base_uri": "https://localhost:8080/",
     "height": 520
    },
    "executionInfo": {
     "elapsed": 1814,
     "status": "ok",
     "timestamp": 1600846547830,
     "user": {
      "displayName": "Mara Thomas",
      "photoUrl": "",
      "userId": "08285540157542181220"
     },
     "user_tz": -120
    },
    "id": "sakhK1et4s0D",
    "outputId": "9eac243a-4b73-410f-a6c1-582b58ea3be9"
   },
   "outputs": [
    {
     "data": {
      "text/html": [
       "<div>\n",
       "<style scoped>\n",
       "    .dataframe tbody tr th:only-of-type {\n",
       "        vertical-align: middle;\n",
       "    }\n",
       "\n",
       "    .dataframe tbody tr th {\n",
       "        vertical-align: top;\n",
       "    }\n",
       "\n",
       "    .dataframe thead th {\n",
       "        text-align: right;\n",
       "    }\n",
       "</style>\n",
       "<table border=\"1\" class=\"dataframe\">\n",
       "  <thead>\n",
       "    <tr style=\"text-align: right;\">\n",
       "      <th></th>\n",
       "      <th>Name</th>\n",
       "      <th>Start</th>\n",
       "      <th>Duration</th>\n",
       "      <th>Time Format</th>\n",
       "      <th>Type</th>\n",
       "      <th>Description</th>\n",
       "      <th>call_yn</th>\n",
       "      <th>start_s</th>\n",
       "      <th>duration_s</th>\n",
       "      <th>stop_s</th>\n",
       "      <th>date</th>\n",
       "      <th>samplerate_hz</th>\n",
       "      <th>indv</th>\n",
       "      <th>original_wav</th>\n",
       "      <th>bout_number</th>\n",
       "      <th>call_lable</th>\n",
       "      <th>raw_audio</th>\n",
       "      <th>spectrograms</th>\n",
       "      <th>mfccs</th>\n",
       "      <th>mfcc_deltas</th>\n",
       "      <th>mfcc_deltadeltas</th>\n",
       "      <th>soundfoc_yn</th>\n",
       "      <th>stretched_spectrograms</th>\n",
       "      <th>stretched_mfccs</th>\n",
       "      <th>stretched_mfcc_deltas</th>\n",
       "      <th>stretched_mfcc_deltadeltas</th>\n",
       "      <th>denoised_spectrograms</th>\n",
       "      <th>denoised_stretched_spectrograms</th>\n",
       "      <th>denoised_mfccs</th>\n",
       "      <th>denoised_stretched_mfccs</th>\n",
       "      <th>denoised_mfcc_deltas</th>\n",
       "      <th>denoised_stretched_mfcc_deltas</th>\n",
       "      <th>certain_yn</th>\n",
       "      <th>index_id</th>\n",
       "      <th>nonfocal_yn</th>\n",
       "      <th>UMAP0</th>\n",
       "      <th>UMAP1</th>\n",
       "      <th>UMAP2</th>\n",
       "      <th>UMAP3</th>\n",
       "      <th>UMAP4</th>\n",
       "      <th>UMAP5</th>\n",
       "      <th>UMAP6</th>\n",
       "      <th>UMAP7</th>\n",
       "      <th>UMAP8</th>\n",
       "      <th>UMAP9</th>\n",
       "      <th>UMAPindex_id</th>\n",
       "      <th>Sex</th>\n",
       "      <th>status</th>\n",
       "      <th>filename</th>\n",
       "    </tr>\n",
       "  </thead>\n",
       "  <tbody>\n",
       "    <tr>\n",
       "      <th>1598</th>\n",
       "      <td>ALARM</td>\n",
       "      <td>1:10:56.215</td>\n",
       "      <td>0:00.178</td>\n",
       "      <td>decimal</td>\n",
       "      <td>Cue</td>\n",
       "      <td>NaN</td>\n",
       "      <td>y</td>\n",
       "      <td>4256.215</td>\n",
       "      <td>0.178</td>\n",
       "      <td>4256.393</td>\n",
       "      <td>2017-08-23</td>\n",
       "      <td>8000</td>\n",
       "      <td>HMB</td>\n",
       "      <td>/content/drive/My Drive/meerkat/in_wavs/HM_HMB...</td>\n",
       "      <td>36</td>\n",
       "      <td>al</td>\n",
       "      <td>[0.0, 0.001953125, 0.001953125, 0.0, -0.001953...</td>\n",
       "      <td>[[-7.209921, -5.1646175, -3.098959, -2.4054718...</td>\n",
       "      <td>[[-191.47098, -187.8111, -185.9428, -190.7444,...</td>\n",
       "      <td>[[-0.20289917, -0.20289917, -0.20289917, -0.20...</td>\n",
       "      <td>[[0.52968067, 0.52968067, 0.52968067, 0.529680...</td>\n",
       "      <td>n</td>\n",
       "      <td>[[-7.011978, -9.6945915, -19.352905, -4.998459...</td>\n",
       "      <td>[[-298.56454, -287.705, -251.56706, -233.63583...</td>\n",
       "      <td>[[8.501973, 8.501973, 8.501973, 8.501973, 8.50...</td>\n",
       "      <td>[[-4.471219, -4.471219, -4.471219, -4.471219, ...</td>\n",
       "      <td>[[25.639555, 26.477575, 27.715773, 28.758339, ...</td>\n",
       "      <td>[[42.728127, 36.027912, 21.339691, 33.3617, 33...</td>\n",
       "      <td>[[16.28734, 12.311697, 8.946664, 6.3528423, 1....</td>\n",
       "      <td>[[16.01946, 1.4694939, 5.795529, 8.975101, 7.6...</td>\n",
       "      <td>[[-0.61669123, -0.61669123, -0.61669123, -0.61...</td>\n",
       "      <td>[[-1.8924303, -1.8924303, -1.8924303, -1.89243...</td>\n",
       "      <td>y</td>\n",
       "      <td>1598</td>\n",
       "      <td>n</td>\n",
       "      <td>5.299764</td>\n",
       "      <td>6.417554</td>\n",
       "      <td>4.202350</td>\n",
       "      <td>7.906916</td>\n",
       "      <td>5.890747</td>\n",
       "      <td>5.762173</td>\n",
       "      <td>7.925637</td>\n",
       "      <td>2.581645</td>\n",
       "      <td>3.845777</td>\n",
       "      <td>2.846862</td>\n",
       "      <td>1598</td>\n",
       "      <td>M</td>\n",
       "      <td>Dominant</td>\n",
       "      <td>HM_HMB_R11_AUDIO_file_4_(2017_08_23-06_44_59)_...</td>\n",
       "    </tr>\n",
       "    <tr>\n",
       "      <th>1599</th>\n",
       "      <td>ALARM</td>\n",
       "      <td>1:12:04.643</td>\n",
       "      <td>0:00.317</td>\n",
       "      <td>decimal</td>\n",
       "      <td>Cue</td>\n",
       "      <td>NaN</td>\n",
       "      <td>y</td>\n",
       "      <td>4324.643</td>\n",
       "      <td>0.317</td>\n",
       "      <td>4324.960</td>\n",
       "      <td>2017-08-23</td>\n",
       "      <td>8000</td>\n",
       "      <td>HMB</td>\n",
       "      <td>/content/drive/My Drive/meerkat/in_wavs/HM_HMB...</td>\n",
       "      <td>37</td>\n",
       "      <td>al</td>\n",
       "      <td>[-0.001953125, 0.0, -0.001953125, 0.001953125,...</td>\n",
       "      <td>[[-21.059677, -20.16883, -20.029144, -18.70754...</td>\n",
       "      <td>[[-202.54906, -200.67754, -198.63663, -195.151...</td>\n",
       "      <td>[[2.8926115, 2.8926115, 2.8926115, 2.8926115, ...</td>\n",
       "      <td>[[0.34753123, 0.34753123, 0.34753123, 0.347531...</td>\n",
       "      <td>n</td>\n",
       "      <td>[[-20.856384, -25.17736, -22.190731, -18.3026,...</td>\n",
       "      <td>[[-309.39282, -302.25238, -261.8284, -244.5711...</td>\n",
       "      <td>[[9.903481, 9.903481, 9.903481, 9.903481, 9.90...</td>\n",
       "      <td>[[-5.0388603, -5.0388603, -5.0388603, -5.03886...</td>\n",
       "      <td>[[10.762169, 11.25013, 11.792789, 12.15715, 16...</td>\n",
       "      <td>[[31.449883, 24.311474, 19.03553, 20.888477, 1...</td>\n",
       "      <td>[[-1.2900445, -1.9665908, 2.6229572, 0.0544083...</td>\n",
       "      <td>[[21.421076, 10.742476, -1.0906525, 3.2950172,...</td>\n",
       "      <td>[[0.75837135, 0.75837135, 0.75837135, 0.758371...</td>\n",
       "      <td>[[-2.5341513, -2.5341513, -2.5341513, -2.53415...</td>\n",
       "      <td>y</td>\n",
       "      <td>1599</td>\n",
       "      <td>n</td>\n",
       "      <td>6.663779</td>\n",
       "      <td>7.219666</td>\n",
       "      <td>3.152430</td>\n",
       "      <td>7.098815</td>\n",
       "      <td>5.258693</td>\n",
       "      <td>6.454947</td>\n",
       "      <td>8.047126</td>\n",
       "      <td>2.527444</td>\n",
       "      <td>4.023995</td>\n",
       "      <td>2.729822</td>\n",
       "      <td>1599</td>\n",
       "      <td>M</td>\n",
       "      <td>Dominant</td>\n",
       "      <td>HM_HMB_R11_AUDIO_file_4_(2017_08_23-06_44_59)_...</td>\n",
       "    </tr>\n",
       "    <tr>\n",
       "      <th>1600</th>\n",
       "      <td>ALARM</td>\n",
       "      <td>1:12:15.132</td>\n",
       "      <td>0:00.192</td>\n",
       "      <td>decimal</td>\n",
       "      <td>Cue</td>\n",
       "      <td>NaN</td>\n",
       "      <td>y</td>\n",
       "      <td>4335.132</td>\n",
       "      <td>0.192</td>\n",
       "      <td>4335.324</td>\n",
       "      <td>2017-08-23</td>\n",
       "      <td>8000</td>\n",
       "      <td>HMB</td>\n",
       "      <td>/content/drive/My Drive/meerkat/in_wavs/HM_HMB...</td>\n",
       "      <td>38</td>\n",
       "      <td>al</td>\n",
       "      <td>[0.005859375, 0.005859375, 0.0078125, 0.005859...</td>\n",
       "      <td>[[-13.698711, -14.600319, -16.215317, -15.7289...</td>\n",
       "      <td>[[-228.33861, -223.5106, -216.6013, -210.05571...</td>\n",
       "      <td>[[5.747422, 5.747422, 5.747422, 5.747422, 5.74...</td>\n",
       "      <td>[[-0.56166244, -0.56166244, -0.56166244, -0.56...</td>\n",
       "      <td>n</td>\n",
       "      <td>[[-18.871624, -18.160267, -16.079659, -15.3467...</td>\n",
       "      <td>[[-332.1619, -317.1976, -282.9387, -259.3602, ...</td>\n",
       "      <td>[[8.739941, 8.739941, 8.739941, 8.739941, 8.73...</td>\n",
       "      <td>[[-4.272333, -4.272333, -4.272333, -4.272333, ...</td>\n",
       "      <td>[[24.188335, 22.856678, 18.059265, 18.200275, ...</td>\n",
       "      <td>[[34.815525, 32.16957, 28.692219, 25.785461, 2...</td>\n",
       "      <td>[[11.280135, 13.388241, 0.17019328, 4.531397, ...</td>\n",
       "      <td>[[7.3854628, 1.116233, 0.22352138, 0.7825685, ...</td>\n",
       "      <td>[[0.3497859, 0.3497859, 0.3497859, 0.3497859, ...</td>\n",
       "      <td>[[-0.8115787, -0.8115787, -0.8115787, -0.81157...</td>\n",
       "      <td>y</td>\n",
       "      <td>1600</td>\n",
       "      <td>n</td>\n",
       "      <td>6.665429</td>\n",
       "      <td>6.820063</td>\n",
       "      <td>4.278993</td>\n",
       "      <td>6.828559</td>\n",
       "      <td>4.940083</td>\n",
       "      <td>5.939328</td>\n",
       "      <td>8.093526</td>\n",
       "      <td>3.022829</td>\n",
       "      <td>4.242816</td>\n",
       "      <td>2.590861</td>\n",
       "      <td>1600</td>\n",
       "      <td>M</td>\n",
       "      <td>Dominant</td>\n",
       "      <td>HM_HMB_R11_AUDIO_file_4_(2017_08_23-06_44_59)_...</td>\n",
       "    </tr>\n",
       "    <tr>\n",
       "      <th>1601</th>\n",
       "      <td>ALARM</td>\n",
       "      <td>1:12:15.427</td>\n",
       "      <td>0:00.134</td>\n",
       "      <td>decimal</td>\n",
       "      <td>Cue</td>\n",
       "      <td>NaN</td>\n",
       "      <td>y</td>\n",
       "      <td>4335.427</td>\n",
       "      <td>0.134</td>\n",
       "      <td>4335.561</td>\n",
       "      <td>2017-08-23</td>\n",
       "      <td>8000</td>\n",
       "      <td>HMB</td>\n",
       "      <td>/content/drive/My Drive/meerkat/in_wavs/HM_HMB...</td>\n",
       "      <td>39</td>\n",
       "      <td>al</td>\n",
       "      <td>[0.001953125, 0.00390625, 0.00390625, 0.003906...</td>\n",
       "      <td>[[-15.611752, -15.137981, -14.848536, -16.0097...</td>\n",
       "      <td>[[-230.35304, -216.11613, -199.99393, -189.522...</td>\n",
       "      <td>[[6.846904, 6.846904, 6.846904, 6.846904, 6.84...</td>\n",
       "      <td>[[-2.0848703, -2.0848703, -2.0848703, -2.08487...</td>\n",
       "      <td>n</td>\n",
       "      <td>[[-16.879604, -17.779907, -17.648483, -17.0208...</td>\n",
       "      <td>[[-315.81796, -300.22, -276.8199, -251.16718, ...</td>\n",
       "      <td>[[9.787533, 9.787533, 9.787533, 9.787533, 9.78...</td>\n",
       "      <td>[[-3.4126015, -3.4126015, -3.4126015, -3.41260...</td>\n",
       "      <td>[[20.75996, 18.54282, 15.484863, 12.944105, 11...</td>\n",
       "      <td>[[32.35832, 27.98457, 24.143658, 22.213814, 23...</td>\n",
       "      <td>[[-0.3181482, -3.1000419, -8.148677, -6.402059...</td>\n",
       "      <td>[[-4.41004, -10.78007, -12.503192, -3.0252318,...</td>\n",
       "      <td>[[4.3150344, 4.3150344, 4.3150344, 4.3150344, ...</td>\n",
       "      <td>[[0.7744208, 0.7744208, 0.7744208, 0.7744208, ...</td>\n",
       "      <td>y</td>\n",
       "      <td>1601</td>\n",
       "      <td>n</td>\n",
       "      <td>6.488270</td>\n",
       "      <td>7.500552</td>\n",
       "      <td>3.221153</td>\n",
       "      <td>6.946888</td>\n",
       "      <td>5.286870</td>\n",
       "      <td>6.592058</td>\n",
       "      <td>8.064628</td>\n",
       "      <td>2.565979</td>\n",
       "      <td>4.022411</td>\n",
       "      <td>2.766559</td>\n",
       "      <td>1601</td>\n",
       "      <td>M</td>\n",
       "      <td>Dominant</td>\n",
       "      <td>HM_HMB_R11_AUDIO_file_4_(2017_08_23-06_44_59)_...</td>\n",
       "    </tr>\n",
       "    <tr>\n",
       "      <th>1602</th>\n",
       "      <td>ALARM</td>\n",
       "      <td>1:12:39.271</td>\n",
       "      <td>0:00.134</td>\n",
       "      <td>decimal</td>\n",
       "      <td>Cue</td>\n",
       "      <td>NaN</td>\n",
       "      <td>y</td>\n",
       "      <td>4359.271</td>\n",
       "      <td>0.134</td>\n",
       "      <td>4359.405</td>\n",
       "      <td>2017-08-23</td>\n",
       "      <td>8000</td>\n",
       "      <td>HMB</td>\n",
       "      <td>/content/drive/My Drive/meerkat/in_wavs/HM_HMB...</td>\n",
       "      <td>40</td>\n",
       "      <td>al</td>\n",
       "      <td>[0.001953125, 0.00390625, 0.00390625, 0.005859...</td>\n",
       "      <td>[[-11.4867115, -11.426096, -10.972593, -9.5077...</td>\n",
       "      <td>[[-180.7772, -178.56482, -174.8746, -168.41911...</td>\n",
       "      <td>[[3.2042587, 3.2042587, 3.2042587, 3.2042587, ...</td>\n",
       "      <td>[[-0.7518996, -0.7518996, -0.7518996, -0.75189...</td>\n",
       "      <td>n</td>\n",
       "      <td>[[-15.415966, -14.917778, -15.417007, -15.3739...</td>\n",
       "      <td>[[-301.92737, -285.3287, -251.98529, -226.7163...</td>\n",
       "      <td>[[9.258978, 9.258978, 9.258978, 9.258978, 9.25...</td>\n",
       "      <td>[[-4.475003, -4.475003, -4.475003, -4.475003, ...</td>\n",
       "      <td>[[18.888021, 18.482176, 19.525608, 20.244438, ...</td>\n",
       "      <td>[[34.405964, 30.294983, 24.630646, 18.549877, ...</td>\n",
       "      <td>[[11.329471, 10.59169, 18.012941, 19.750383, 2...</td>\n",
       "      <td>[[13.1742, 0.62189484, 1.2983024, -12.163329, ...</td>\n",
       "      <td>[[-0.5529207, -0.5529207, -0.5529207, -0.55292...</td>\n",
       "      <td>[[-0.77605456, -0.77605456, -0.77605456, -0.77...</td>\n",
       "      <td>y</td>\n",
       "      <td>1602</td>\n",
       "      <td>n</td>\n",
       "      <td>6.717881</td>\n",
       "      <td>7.241799</td>\n",
       "      <td>2.998840</td>\n",
       "      <td>7.525402</td>\n",
       "      <td>5.613215</td>\n",
       "      <td>6.446883</td>\n",
       "      <td>8.015794</td>\n",
       "      <td>2.388643</td>\n",
       "      <td>3.939341</td>\n",
       "      <td>2.841877</td>\n",
       "      <td>1602</td>\n",
       "      <td>M</td>\n",
       "      <td>Dominant</td>\n",
       "      <td>HM_HMB_R11_AUDIO_file_4_(2017_08_23-06_44_59)_...</td>\n",
       "    </tr>\n",
       "  </tbody>\n",
       "</table>\n",
       "</div>"
      ],
      "text/plain": [
       "       Name  ...                                           filename\n",
       "1598  ALARM  ...  HM_HMB_R11_AUDIO_file_4_(2017_08_23-06_44_59)_...\n",
       "1599  ALARM  ...  HM_HMB_R11_AUDIO_file_4_(2017_08_23-06_44_59)_...\n",
       "1600  ALARM  ...  HM_HMB_R11_AUDIO_file_4_(2017_08_23-06_44_59)_...\n",
       "1601  ALARM  ...  HM_HMB_R11_AUDIO_file_4_(2017_08_23-06_44_59)_...\n",
       "1602  ALARM  ...  HM_HMB_R11_AUDIO_file_4_(2017_08_23-06_44_59)_...\n",
       "\n",
       "[5 rows x 49 columns]"
      ]
     },
     "execution_count": 13,
     "metadata": {
      "tags": []
     },
     "output_type": "execute_result"
    }
   ],
   "source": [
    "spec_df.head(5)"
   ]
  },
  {
   "cell_type": "code",
   "execution_count": null,
   "metadata": {
    "id": "YQTAvVJ56IRF"
   },
   "outputs": [],
   "source": [
    "filename = [x[:-4] for x in filename]"
   ]
  },
  {
   "cell_type": "code",
   "execution_count": null,
   "metadata": {
    "id": "IS5Fdqb75Oao"
   },
   "outputs": [],
   "source": [
    "filename_1 = [x[0:30] for x in filename]\n",
    "filename_2 = [x[30:60] if len(x)>60 else x[30:] for x in filename]\n",
    "filename_3 = [x[60:] if len(x)>60 else '' for x in filename]"
   ]
  },
  {
   "cell_type": "code",
   "execution_count": null,
   "metadata": {
    "id": "vIAyorUv6Bos"
   },
   "outputs": [],
   "source": [
    "spec_df['fn_1'] = filename_1\n",
    "spec_df['fn_2'] = filename_2\n",
    "spec_df['fn_3'] = filename_3"
   ]
  },
  {
   "cell_type": "code",
   "execution_count": null,
   "metadata": {
    "id": "SpvO_WY25MGW"
   },
   "outputs": [],
   "source": [
    "plot_df = spec_df[['Name', 'call_lable', 'indv', 'raw_audio', \n",
    "                   'denoised_spectrograms','duration_s', 'samplerate_hz', \n",
    "                  'UMAP0', 'UMAP1', 'UMAP2', 'index_id', 'Sex', 'status', 'Start', 'fn_1',\n",
    "                   'fn_2', 'fn_3']]"
   ]
  },
  {
   "cell_type": "code",
   "execution_count": null,
   "metadata": {
    "id": "juLnJhbPPtrT"
   },
   "outputs": [],
   "source": [
    "plot_df = plot_df.drop(columns=['denoised_spectrograms'])"
   ]
  },
  {
   "cell_type": "code",
   "execution_count": null,
   "metadata": {
    "colab": {
     "base_uri": "https://localhost:8080/",
     "height": 316
    },
    "executionInfo": {
     "elapsed": 679,
     "status": "ok",
     "timestamp": 1600852561955,
     "user": {
      "displayName": "Mara Thomas",
      "photoUrl": "",
      "userId": "08285540157542181220"
     },
     "user_tz": -120
    },
    "id": "tumT7aYm6_Vv",
    "outputId": "2b009833-cbdc-461a-da4b-1492971e9b8f"
   },
   "outputs": [
    {
     "data": {
      "text/html": [
       "<div>\n",
       "<style scoped>\n",
       "    .dataframe tbody tr th:only-of-type {\n",
       "        vertical-align: middle;\n",
       "    }\n",
       "\n",
       "    .dataframe tbody tr th {\n",
       "        vertical-align: top;\n",
       "    }\n",
       "\n",
       "    .dataframe thead th {\n",
       "        text-align: right;\n",
       "    }\n",
       "</style>\n",
       "<table border=\"1\" class=\"dataframe\">\n",
       "  <thead>\n",
       "    <tr style=\"text-align: right;\">\n",
       "      <th></th>\n",
       "      <th>Name</th>\n",
       "      <th>call_lable</th>\n",
       "      <th>indv</th>\n",
       "      <th>raw_audio</th>\n",
       "      <th>duration_s</th>\n",
       "      <th>samplerate_hz</th>\n",
       "      <th>UMAP0</th>\n",
       "      <th>UMAP1</th>\n",
       "      <th>UMAP2</th>\n",
       "      <th>index_id</th>\n",
       "      <th>Sex</th>\n",
       "      <th>status</th>\n",
       "      <th>Start</th>\n",
       "      <th>fn_1</th>\n",
       "      <th>fn_2</th>\n",
       "      <th>fn_3</th>\n",
       "      <th>HDBSCAN</th>\n",
       "    </tr>\n",
       "  </thead>\n",
       "  <tbody>\n",
       "    <tr>\n",
       "      <th>1598</th>\n",
       "      <td>ALARM</td>\n",
       "      <td>al</td>\n",
       "      <td>HMB</td>\n",
       "      <td>[0.0, 0.001953125, 0.001953125, 0.0, -0.001953...</td>\n",
       "      <td>0.178</td>\n",
       "      <td>8000</td>\n",
       "      <td>5.299764</td>\n",
       "      <td>6.417554</td>\n",
       "      <td>4.202350</td>\n",
       "      <td>1598</td>\n",
       "      <td>M</td>\n",
       "      <td>Dominant</td>\n",
       "      <td>1:10:56.215</td>\n",
       "      <td>HM_HMB_R11_AUDIO_file_4_(2017_</td>\n",
       "      <td>08_23-06_44_59)_ASWMUX221163</td>\n",
       "      <td></td>\n",
       "      <td>-1</td>\n",
       "    </tr>\n",
       "    <tr>\n",
       "      <th>1599</th>\n",
       "      <td>ALARM</td>\n",
       "      <td>al</td>\n",
       "      <td>HMB</td>\n",
       "      <td>[-0.001953125, 0.0, -0.001953125, 0.001953125,...</td>\n",
       "      <td>0.317</td>\n",
       "      <td>8000</td>\n",
       "      <td>6.663779</td>\n",
       "      <td>7.219666</td>\n",
       "      <td>3.152430</td>\n",
       "      <td>1599</td>\n",
       "      <td>M</td>\n",
       "      <td>Dominant</td>\n",
       "      <td>1:12:04.643</td>\n",
       "      <td>HM_HMB_R11_AUDIO_file_4_(2017_</td>\n",
       "      <td>08_23-06_44_59)_ASWMUX221163</td>\n",
       "      <td></td>\n",
       "      <td>-1</td>\n",
       "    </tr>\n",
       "    <tr>\n",
       "      <th>1600</th>\n",
       "      <td>ALARM</td>\n",
       "      <td>al</td>\n",
       "      <td>HMB</td>\n",
       "      <td>[0.005859375, 0.005859375, 0.0078125, 0.005859...</td>\n",
       "      <td>0.192</td>\n",
       "      <td>8000</td>\n",
       "      <td>6.665429</td>\n",
       "      <td>6.820063</td>\n",
       "      <td>4.278993</td>\n",
       "      <td>1600</td>\n",
       "      <td>M</td>\n",
       "      <td>Dominant</td>\n",
       "      <td>1:12:15.132</td>\n",
       "      <td>HM_HMB_R11_AUDIO_file_4_(2017_</td>\n",
       "      <td>08_23-06_44_59)_ASWMUX221163</td>\n",
       "      <td></td>\n",
       "      <td>5</td>\n",
       "    </tr>\n",
       "  </tbody>\n",
       "</table>\n",
       "</div>"
      ],
      "text/plain": [
       "       Name call_lable indv  ...                          fn_2  fn_3  HDBSCAN\n",
       "1598  ALARM         al  HMB  ...  08_23-06_44_59)_ASWMUX221163             -1\n",
       "1599  ALARM         al  HMB  ...  08_23-06_44_59)_ASWMUX221163             -1\n",
       "1600  ALARM         al  HMB  ...  08_23-06_44_59)_ASWMUX221163              5\n",
       "\n",
       "[3 rows x 17 columns]"
      ]
     },
     "execution_count": 39,
     "metadata": {
      "tags": []
     },
     "output_type": "execute_result"
    }
   ],
   "source": [
    "plot_df.head(3)"
   ]
  },
  {
   "cell_type": "code",
   "execution_count": null,
   "metadata": {
    "id": "RxNcSuHQ7Oj2"
   },
   "outputs": [],
   "source": [
    "os.system('pip install hdbscan')\n",
    "import hdbscan"
   ]
  },
  {
   "cell_type": "code",
   "execution_count": null,
   "metadata": {
    "colab": {
     "base_uri": "https://localhost:8080/",
     "height": 33
    },
    "executionInfo": {
     "elapsed": 596,
     "status": "ok",
     "timestamp": 1600847038704,
     "user": {
      "displayName": "Mara Thomas",
      "photoUrl": "",
      "userId": "08285540157542181220"
     },
     "user_tz": -120
    },
    "id": "tTWFSLdm7nb5",
    "outputId": "e59b9995-fe41-4131-a54a-fe6ca5a809cf"
   },
   "outputs": [
    {
     "data": {
      "text/plain": [
       "(6687, 10)"
      ]
     },
     "execution_count": 30,
     "metadata": {
      "tags": []
     },
     "output_type": "execute_result"
    }
   ],
   "source": [
    "cluster_df = np.asarray(embedding.iloc[:,0:10])\n",
    "cluster_df.shape"
   ]
  },
  {
   "cell_type": "code",
   "execution_count": null,
   "metadata": {
    "colab": {
     "base_uri": "https://localhost:8080/",
     "height": 66
    },
    "executionInfo": {
     "elapsed": 808,
     "status": "ok",
     "timestamp": 1600847041654,
     "user": {
      "displayName": "Mara Thomas",
      "photoUrl": "",
      "userId": "08285540157542181220"
     },
     "user_tz": -120
    },
    "id": "AT0E7ffl7J9O",
    "outputId": "c6f81dec-5144-4ce9-c2e8-7e615d173bb7"
   },
   "outputs": [
    {
     "name": "stdout",
     "output_type": "stream",
     "text": [
      "Total:  6687\n",
      "Number of classes:  13\n",
      "Unassigned:  3167 ( 0.4736055032151937 )\n"
     ]
    }
   ],
   "source": [
    "# Cannot set the number of desired clusters in HDBSCAN, thus select min_samples\n",
    "# so that I hopefully get a similar number of clusters as in original dataset.\n",
    "\n",
    "# https://hdbscan.readthedocs.io/en/0.8.6/api.html\n",
    "HDBSCAN = hdbscan.HDBSCAN(\n",
    "    min_cluster_size=66, #20, # the smallest size we would expect a cluster to be (10 % of dataset size))\n",
    "    #min_samples=10, # 15, # larger values = more conservative clustering # 10\n",
    "    cluster_selection_method='leaf'\n",
    ")\n",
    "HDBSCAN.fit(cluster_df);\n",
    "\n",
    "print(\"Total: \", len(HDBSCAN.labels_))\n",
    "print(\"Number of classes: \",np.max(HDBSCAN.labels_)+1)\n",
    "print(\"Unassigned: \",sum(HDBSCAN.labels_==-1), \"(\", sum(HDBSCAN.labels_==-1)/len(HDBSCAN.labels_), \")\")"
   ]
  },
  {
   "cell_type": "code",
   "execution_count": null,
   "metadata": {
    "id": "zcub6mk48zgO"
   },
   "outputs": [],
   "source": [
    "#plot_df['HDBSCAN'] = HDBSCAN.labels_\n",
    "\n",
    "plot_df.to_pickle(DATA+'2020_09_20_interactive_plot_focal_meta')"
   ]
  },
  {
   "cell_type": "code",
   "execution_count": null,
   "metadata": {
    "id": "TKDZo6I0Qw8p"
   },
   "outputs": [],
   "source": [
    "plot_df.iloc[:3000,].to_pickle(DATA+'2020_09_20_interactive_plot_focal_meta_1')\n",
    "plot_df.iloc[3000:,].to_pickle(DATA+'2020_09_20_interactive_plot_focal_meta_2')"
   ]
  },
  {
   "cell_type": "markdown",
   "metadata": {
    "id": "U1E6KSJ8Es8m"
   },
   "source": [
    "# Visualize example nearest neighbors"
   ]
  },
  {
   "cell_type": "code",
   "execution_count": 52,
   "metadata": {
    "id": "xau2ayEPLdqr"
   },
   "outputs": [],
   "source": [
    "import random\n",
    "import scipy\n",
    "from sklearn.neighbors import NearestNeighbors"
   ]
  },
  {
   "cell_type": "code",
   "execution_count": 53,
   "metadata": {
    "id": "8p_HtvtiHodl"
   },
   "outputs": [],
   "source": [
    "knn=5\n",
    "n_examples=3\n",
    "# Find k nearest neighbors\n",
    "nbrs = NearestNeighbors(metric='euclidean',n_neighbors=knn+1, algorithm='brute').fit(embedding)\n",
    "distances, indices = nbrs.kneighbors(embedding)\n",
    "\n",
    "# need to remove the first neighbor, because that is the datapoint itself\n",
    "indices = indices[:,1:]  \n",
    "distances = distances[:,1:]"
   ]
  },
  {
   "cell_type": "code",
   "execution_count": 54,
   "metadata": {
    "id": "DFyZlxMhHqyW"
   },
   "outputs": [],
   "source": [
    "calltypes = sorted(list(set(spec_df['call_lable'])))\n",
    "labels = spec_df.call_lable.values\n",
    "names = spec_df.Name.values"
   ]
  },
  {
   "cell_type": "code",
   "execution_count": 59,
   "metadata": {
    "colab": {
     "base_uri": "https://localhost:8080/",
     "height": 1000
    },
    "executionInfo": {
     "elapsed": 22579,
     "status": "ok",
     "timestamp": 1600760328849,
     "user": {
      "displayName": "Mara Thomas",
      "photoUrl": "",
      "userId": "08285540157542181220"
     },
     "user_tz": -120
    },
    "id": "ynG9wHYMEu_2",
    "outputId": "bfbaf1d2-5800-4f31-c9bf-640d69fba2d0"
   },
   "outputs": [],
   "source": [
    "# make plots\n",
    "\n",
    "for calltype in calltypes:\n",
    "\n",
    "    fig = plt.figure(figsize=(14,6))\n",
    "    fig_name = 'NN_Viz_denoised_'+calltype\n",
    "    k=1\n",
    "    call_indices = np.asarray(np.where(labels==calltype))[0]\n",
    "\n",
    "    # randomly choose 3\n",
    "    example_indices = random.sample(list(call_indices), n_examples)\n",
    "\n",
    "    for i,ind in enumerate(example_indices):\n",
    "        img_of_interest = spec_df.iloc[ind,:].denoised_spectrograms\n",
    "        embedding_of_interest = embedding[ind,:]\n",
    "        plt.subplot(n_examples, knn+1, k)\n",
    "        #librosa.display.specshow(np.transpose(spec))\n",
    "        plt.imshow(img_of_interest, interpolation='nearest', origin='lower', aspect='equal') \n",
    "        plt.title(calltype+' : 0')\n",
    "        k=k+1\n",
    "\n",
    "        nearest_neighbors = indices[ind]\n",
    "        for neighbor in nearest_neighbors:\n",
    "            neighbor_label = names[neighbor]\n",
    "            neighbor_embedding = embedding[neighbor,:]\n",
    "            dist_to_original = scipy.spatial.distance.euclidean(embedding_of_interest, neighbor_embedding)\n",
    "            neighbor_img = spec_df.iloc[neighbor,:].denoised_spectrograms\n",
    "            plt.subplot(n_examples, knn+1, k)\n",
    "            #librosa.display.specshow(np.transpose(spec))\n",
    "            plt.imshow(neighbor_img, interpolation='nearest', origin='lower', aspect='equal') \n",
    "            plt.title(neighbor_label+' : '+str(round(dist_to_original, 2)))\n",
    "            k=k+1\n",
    "        \n",
    "    plt.tight_layout() \n",
    "    plt.savefig(os.path.join(os.path.sep,FIGURES,fig_name), facecolor=\"white\")\n",
    "    plt.close()"
   ]
  },
  {
   "cell_type": "markdown",
   "metadata": {
    "id": "Y_4HWoR-m_Kj"
   },
   "source": [
    "# Files for Frants 2"
   ]
  },
  {
   "cell_type": "code",
   "execution_count": null,
   "metadata": {
    "id": "PKl_f1VNmmIC"
   },
   "outputs": [],
   "source": [
    "files = os.listdir(DATA+'frants/')"
   ]
  },
  {
   "cell_type": "code",
   "execution_count": null,
   "metadata": {
    "id": "EbmNpMEgqqjH"
   },
   "outputs": [],
   "source": [
    "os.chdir(PROJECT_PATH)\n",
    "MEERKAT_CHANNEL = json.load(open(\"meerkat_channel.json\"))"
   ]
  },
  {
   "cell_type": "code",
   "execution_count": null,
   "metadata": {
    "id": "Dli0i-dUmtCq"
   },
   "outputs": [],
   "source": [
    "files = os.listdir(DATA+'frants/')\n",
    "fileIDs = [int(x.split('_')[0]) for x in files]"
   ]
  },
  {
   "cell_type": "code",
   "execution_count": null,
   "metadata": {
    "id": "9c-ZRKwApNf3"
   },
   "outputs": [],
   "source": [
    "def get_audio(wav_loc, start_s, duration_s):\n",
    "    # SOUNDFOCs are stereo\n",
    "    if \"SOUNDFOC\" in wav_loc:\n",
    "        data, rate = librosa.load(wav_loc, offset=start_s, duration=duration_s, sr=None, mono=False)\n",
    "        data = np.asfortranarray(data[MEERKAT_CHANNEL[wav_loc],:])\n",
    "    else:\n",
    "        data, rate = librosa.load(wav_loc, offset=start_s, duration=duration_s, sr=None)\n",
    "\n",
    "    if np.issubdtype(type(data[0]), np.integer):\n",
    "        data = int16_to_float32(data)\n",
    "    \n",
    "    return data"
   ]
  },
  {
   "cell_type": "code",
   "execution_count": null,
   "metadata": {
    "id": "o-nJP2bFm-NG"
   },
   "outputs": [],
   "source": [
    "for fileID, filename in zip(fileIDs, files):\n",
    "    sr = df.loc[df['index_id']==fileID,'samplerate_hz'].values[0]\n",
    "    dur = df.loc[df['index_id']==fileID,'duration_s'].values[0]\n",
    "    offset = df.loc[df['index_id']==fileID,'start_s'].values[0]\n",
    "    wav_loc = df.loc[df['index_id']==fileID,'original_wav'].values[0]\n",
    "\n",
    "    # add padding\n",
    "    dur = dur+0.2\n",
    "    offset = offset-0.1\n",
    "\n",
    "    y = get_audio(wav_loc, offset, dur)\n",
    "    librosa.output.write_wav(DATA+'frants_padded/padded_'+filename, y, sr, norm=False)"
   ]
  },
  {
   "cell_type": "code",
   "execution_count": null,
   "metadata": {
    "colab": {
     "base_uri": "https://localhost:8080/",
     "height": 348
    },
    "executionInfo": {
     "elapsed": 1712,
     "status": "ok",
     "timestamp": 1600791789335,
     "user": {
      "displayName": "Mara Thomas",
      "photoUrl": "",
      "userId": "08285540157542181220"
     },
     "user_tz": -120
    },
    "id": "otPmI1SToCkl",
    "outputId": "91a0c807-328e-4597-b5fd-47ba2173709d"
   },
   "outputs": [
    {
     "data": {
      "text/html": [
       "<div>\n",
       "<style scoped>\n",
       "    .dataframe tbody tr th:only-of-type {\n",
       "        vertical-align: middle;\n",
       "    }\n",
       "\n",
       "    .dataframe tbody tr th {\n",
       "        vertical-align: top;\n",
       "    }\n",
       "\n",
       "    .dataframe thead th {\n",
       "        text-align: right;\n",
       "    }\n",
       "</style>\n",
       "<table border=\"1\" class=\"dataframe\">\n",
       "  <thead>\n",
       "    <tr style=\"text-align: right;\">\n",
       "      <th></th>\n",
       "      <th>Name</th>\n",
       "      <th>Start</th>\n",
       "      <th>Duration</th>\n",
       "      <th>Time Format</th>\n",
       "      <th>Type</th>\n",
       "      <th>Description</th>\n",
       "      <th>call_yn</th>\n",
       "      <th>start_s</th>\n",
       "      <th>duration_s</th>\n",
       "      <th>stop_s</th>\n",
       "      <th>date</th>\n",
       "      <th>samplerate_hz</th>\n",
       "      <th>indv</th>\n",
       "      <th>original_wav</th>\n",
       "      <th>bout_number</th>\n",
       "      <th>call_lable</th>\n",
       "      <th>raw_audio</th>\n",
       "      <th>spectrograms</th>\n",
       "      <th>mfccs</th>\n",
       "      <th>mfcc_deltas</th>\n",
       "      <th>mfcc_deltadeltas</th>\n",
       "      <th>soundfoc_yn</th>\n",
       "      <th>stretched_spectrograms</th>\n",
       "      <th>stretched_mfccs</th>\n",
       "      <th>stretched_mfcc_deltas</th>\n",
       "      <th>stretched_mfcc_deltadeltas</th>\n",
       "      <th>denoised_spectrograms</th>\n",
       "      <th>denoised_stretched_spectrograms</th>\n",
       "      <th>denoised_mfccs</th>\n",
       "      <th>denoised_stretched_mfccs</th>\n",
       "      <th>denoised_mfcc_deltas</th>\n",
       "      <th>denoised_stretched_mfcc_deltas</th>\n",
       "      <th>certain_yn</th>\n",
       "      <th>index_id</th>\n",
       "      <th>nonfocal_yn</th>\n",
       "      <th>UMAP0</th>\n",
       "      <th>UMAP1</th>\n",
       "      <th>UMAP2</th>\n",
       "      <th>UMAP3</th>\n",
       "      <th>UMAP4</th>\n",
       "      <th>UMAP5</th>\n",
       "      <th>UMAP6</th>\n",
       "      <th>UMAP7</th>\n",
       "      <th>UMAP8</th>\n",
       "      <th>UMAP9</th>\n",
       "      <th>UMAPindex_id</th>\n",
       "      <th>Sex</th>\n",
       "      <th>status</th>\n",
       "      <th>filename</th>\n",
       "    </tr>\n",
       "  </thead>\n",
       "  <tbody>\n",
       "    <tr>\n",
       "      <th>1598</th>\n",
       "      <td>ALARM</td>\n",
       "      <td>1:10:56.215</td>\n",
       "      <td>0:00.178</td>\n",
       "      <td>decimal</td>\n",
       "      <td>Cue</td>\n",
       "      <td>NaN</td>\n",
       "      <td>y</td>\n",
       "      <td>4256.215</td>\n",
       "      <td>0.178</td>\n",
       "      <td>4256.393</td>\n",
       "      <td>2017-08-23</td>\n",
       "      <td>8000</td>\n",
       "      <td>HMB</td>\n",
       "      <td>/content/drive/My Drive/meerkat/in_wavs/HM_HMB...</td>\n",
       "      <td>36</td>\n",
       "      <td>al</td>\n",
       "      <td>[0.0, 0.001953125, 0.001953125, 0.0, -0.001953...</td>\n",
       "      <td>[[-7.209921, -5.1646175, -3.098959, -2.4054718...</td>\n",
       "      <td>[[-191.47098, -187.8111, -185.9428, -190.7444,...</td>\n",
       "      <td>[[-0.20289917, -0.20289917, -0.20289917, -0.20...</td>\n",
       "      <td>[[0.52968067, 0.52968067, 0.52968067, 0.529680...</td>\n",
       "      <td>n</td>\n",
       "      <td>[[-7.011978, -9.6945915, -19.352905, -4.998459...</td>\n",
       "      <td>[[-298.56454, -287.705, -251.56706, -233.63583...</td>\n",
       "      <td>[[8.501973, 8.501973, 8.501973, 8.501973, 8.50...</td>\n",
       "      <td>[[-4.471219, -4.471219, -4.471219, -4.471219, ...</td>\n",
       "      <td>[[25.639555, 26.477575, 27.715773, 28.758339, ...</td>\n",
       "      <td>[[42.728127, 36.027912, 21.339691, 33.3617, 33...</td>\n",
       "      <td>[[16.28734, 12.311697, 8.946664, 6.3528423, 1....</td>\n",
       "      <td>[[16.01946, 1.4694939, 5.795529, 8.975101, 7.6...</td>\n",
       "      <td>[[-0.61669123, -0.61669123, -0.61669123, -0.61...</td>\n",
       "      <td>[[-1.8924303, -1.8924303, -1.8924303, -1.89243...</td>\n",
       "      <td>y</td>\n",
       "      <td>1598</td>\n",
       "      <td>n</td>\n",
       "      <td>5.299764</td>\n",
       "      <td>6.417554</td>\n",
       "      <td>4.202350</td>\n",
       "      <td>7.906916</td>\n",
       "      <td>5.890747</td>\n",
       "      <td>5.762173</td>\n",
       "      <td>7.925637</td>\n",
       "      <td>2.581645</td>\n",
       "      <td>3.845777</td>\n",
       "      <td>2.846862</td>\n",
       "      <td>1598</td>\n",
       "      <td>M</td>\n",
       "      <td>Dominant</td>\n",
       "      <td>HM_HMB_R11_AUDIO_file_4_(2017_08_23-06_44_59)_...</td>\n",
       "    </tr>\n",
       "    <tr>\n",
       "      <th>1599</th>\n",
       "      <td>ALARM</td>\n",
       "      <td>1:12:04.643</td>\n",
       "      <td>0:00.317</td>\n",
       "      <td>decimal</td>\n",
       "      <td>Cue</td>\n",
       "      <td>NaN</td>\n",
       "      <td>y</td>\n",
       "      <td>4324.643</td>\n",
       "      <td>0.317</td>\n",
       "      <td>4324.960</td>\n",
       "      <td>2017-08-23</td>\n",
       "      <td>8000</td>\n",
       "      <td>HMB</td>\n",
       "      <td>/content/drive/My Drive/meerkat/in_wavs/HM_HMB...</td>\n",
       "      <td>37</td>\n",
       "      <td>al</td>\n",
       "      <td>[-0.001953125, 0.0, -0.001953125, 0.001953125,...</td>\n",
       "      <td>[[-21.059677, -20.16883, -20.029144, -18.70754...</td>\n",
       "      <td>[[-202.54906, -200.67754, -198.63663, -195.151...</td>\n",
       "      <td>[[2.8926115, 2.8926115, 2.8926115, 2.8926115, ...</td>\n",
       "      <td>[[0.34753123, 0.34753123, 0.34753123, 0.347531...</td>\n",
       "      <td>n</td>\n",
       "      <td>[[-20.856384, -25.17736, -22.190731, -18.3026,...</td>\n",
       "      <td>[[-309.39282, -302.25238, -261.8284, -244.5711...</td>\n",
       "      <td>[[9.903481, 9.903481, 9.903481, 9.903481, 9.90...</td>\n",
       "      <td>[[-5.0388603, -5.0388603, -5.0388603, -5.03886...</td>\n",
       "      <td>[[10.762169, 11.25013, 11.792789, 12.15715, 16...</td>\n",
       "      <td>[[31.449883, 24.311474, 19.03553, 20.888477, 1...</td>\n",
       "      <td>[[-1.2900445, -1.9665908, 2.6229572, 0.0544083...</td>\n",
       "      <td>[[21.421076, 10.742476, -1.0906525, 3.2950172,...</td>\n",
       "      <td>[[0.75837135, 0.75837135, 0.75837135, 0.758371...</td>\n",
       "      <td>[[-2.5341513, -2.5341513, -2.5341513, -2.53415...</td>\n",
       "      <td>y</td>\n",
       "      <td>1599</td>\n",
       "      <td>n</td>\n",
       "      <td>6.663779</td>\n",
       "      <td>7.219666</td>\n",
       "      <td>3.152430</td>\n",
       "      <td>7.098815</td>\n",
       "      <td>5.258693</td>\n",
       "      <td>6.454947</td>\n",
       "      <td>8.047126</td>\n",
       "      <td>2.527444</td>\n",
       "      <td>4.023995</td>\n",
       "      <td>2.729822</td>\n",
       "      <td>1599</td>\n",
       "      <td>M</td>\n",
       "      <td>Dominant</td>\n",
       "      <td>HM_HMB_R11_AUDIO_file_4_(2017_08_23-06_44_59)_...</td>\n",
       "    </tr>\n",
       "    <tr>\n",
       "      <th>1600</th>\n",
       "      <td>ALARM</td>\n",
       "      <td>1:12:15.132</td>\n",
       "      <td>0:00.192</td>\n",
       "      <td>decimal</td>\n",
       "      <td>Cue</td>\n",
       "      <td>NaN</td>\n",
       "      <td>y</td>\n",
       "      <td>4335.132</td>\n",
       "      <td>0.192</td>\n",
       "      <td>4335.324</td>\n",
       "      <td>2017-08-23</td>\n",
       "      <td>8000</td>\n",
       "      <td>HMB</td>\n",
       "      <td>/content/drive/My Drive/meerkat/in_wavs/HM_HMB...</td>\n",
       "      <td>38</td>\n",
       "      <td>al</td>\n",
       "      <td>[0.005859375, 0.005859375, 0.0078125, 0.005859...</td>\n",
       "      <td>[[-13.698711, -14.600319, -16.215317, -15.7289...</td>\n",
       "      <td>[[-228.33861, -223.5106, -216.6013, -210.05571...</td>\n",
       "      <td>[[5.747422, 5.747422, 5.747422, 5.747422, 5.74...</td>\n",
       "      <td>[[-0.56166244, -0.56166244, -0.56166244, -0.56...</td>\n",
       "      <td>n</td>\n",
       "      <td>[[-18.871624, -18.160267, -16.079659, -15.3467...</td>\n",
       "      <td>[[-332.1619, -317.1976, -282.9387, -259.3602, ...</td>\n",
       "      <td>[[8.739941, 8.739941, 8.739941, 8.739941, 8.73...</td>\n",
       "      <td>[[-4.272333, -4.272333, -4.272333, -4.272333, ...</td>\n",
       "      <td>[[24.188335, 22.856678, 18.059265, 18.200275, ...</td>\n",
       "      <td>[[34.815525, 32.16957, 28.692219, 25.785461, 2...</td>\n",
       "      <td>[[11.280135, 13.388241, 0.17019328, 4.531397, ...</td>\n",
       "      <td>[[7.3854628, 1.116233, 0.22352138, 0.7825685, ...</td>\n",
       "      <td>[[0.3497859, 0.3497859, 0.3497859, 0.3497859, ...</td>\n",
       "      <td>[[-0.8115787, -0.8115787, -0.8115787, -0.81157...</td>\n",
       "      <td>y</td>\n",
       "      <td>1600</td>\n",
       "      <td>n</td>\n",
       "      <td>6.665429</td>\n",
       "      <td>6.820063</td>\n",
       "      <td>4.278993</td>\n",
       "      <td>6.828559</td>\n",
       "      <td>4.940083</td>\n",
       "      <td>5.939328</td>\n",
       "      <td>8.093526</td>\n",
       "      <td>3.022829</td>\n",
       "      <td>4.242816</td>\n",
       "      <td>2.590861</td>\n",
       "      <td>1600</td>\n",
       "      <td>M</td>\n",
       "      <td>Dominant</td>\n",
       "      <td>HM_HMB_R11_AUDIO_file_4_(2017_08_23-06_44_59)_...</td>\n",
       "    </tr>\n",
       "  </tbody>\n",
       "</table>\n",
       "</div>"
      ],
      "text/plain": [
       "       Name  ...                                           filename\n",
       "1598  ALARM  ...  HM_HMB_R11_AUDIO_file_4_(2017_08_23-06_44_59)_...\n",
       "1599  ALARM  ...  HM_HMB_R11_AUDIO_file_4_(2017_08_23-06_44_59)_...\n",
       "1600  ALARM  ...  HM_HMB_R11_AUDIO_file_4_(2017_08_23-06_44_59)_...\n",
       "\n",
       "[3 rows x 49 columns]"
      ]
     },
     "execution_count": 48,
     "metadata": {
      "tags": []
     },
     "output_type": "execute_result"
    }
   ],
   "source": [
    "spec_df.head(3)"
   ]
  },
  {
   "cell_type": "markdown",
   "metadata": {
    "id": "24KwUtADprcN"
   },
   "source": [
    "# Visualize preprocessing steps"
   ]
  },
  {
   "cell_type": "code",
   "execution_count": 152,
   "metadata": {
    "colab": {
     "base_uri": "https://localhost:8080/",
     "height": 441
    },
    "executionInfo": {
     "elapsed": 5651,
     "status": "ok",
     "timestamp": 1618902316022,
     "user": {
      "displayName": "Mara Thomas",
      "photoUrl": "",
      "userId": "08285540157542181220"
     },
     "user_tz": -120
    },
    "id": "VMrJ0AzNEldY",
    "outputId": "dd610f5d-59f7-40ad-b9c0-d29335a24fee"
   },
   "outputs": [
    {
     "name": "stdout",
     "output_type": "stream",
     "text": [
      "/home/mthomas/Documents/MPI_work/projects/meerkat/meerkat_umap_pv/reports/figures/preprocessing_examples_mara.png\n"
     ]
    },
    {
     "data": {
      "image/png": "[encoded data removed]",
      "text/plain": [
       "<Figure size 720x432 with 30 Axes>"
      ]
     },
     "metadata": {
      "needs_background": "light"
     },
     "output_type": "display_data"
    }
   ],
   "source": [
    "N_MELS = 40\n",
    "MEL_BINS_REMOVED_UPPER = 5\n",
    "MEL_BINS_REMOVED_LOWER = 5\n",
    "\n",
    "# make plots\n",
    "calltypes = sorted(list(set(spec_df.call_lable.values)))\n",
    "\n",
    "fig = plt.figure(figsize=(10,6))\n",
    "fig_name = 'preprocessing_examples_mara.png'\n",
    "\n",
    "fig.suptitle('Preprocessing steps', fontsize=16)\n",
    "k=1\n",
    "\n",
    "# randomly choose 4\n",
    "examples = spec_df.sample(n=6, random_state=1)\n",
    "examples.reset_index(inplace=True)\n",
    "ori_specs = examples.denoised_spectrograms\n",
    "\n",
    "\n",
    "# original\n",
    "\n",
    "specs = ori_specs\n",
    "vmin = np.min([np.min(x) for x in specs])\n",
    "vmax = np.max([np.max(x) for x in specs])\n",
    "\n",
    "for i in range(examples.shape[0]):\n",
    "    spec = specs[i]\n",
    "    plt.subplot(5, 6, k)\n",
    "    #librosa.display.specshow(spec, y_axis='mel', fmin=0, fmax=4000)\n",
    "    plt.imshow(spec, interpolation='nearest', origin='lower', aspect='equal', norm=None,vmin=vmin, vmax=vmax)\n",
    "    if i==0: plt.ylabel('none', rotation=0, labelpad=30)\n",
    "    plt.title(\"Example \"+str(i+1))\n",
    "    k=k+1\n",
    "\n",
    "# z-score\n",
    "specs = ori_specs.copy()\n",
    "#specs = [x[MEL_BINS_REMOVED_LOWER:(N_MELS-MEL_BINS_REMOVED_UPPER),:] for x in specs]\n",
    "specs = [calc_zscore(s) for s in specs]\n",
    "#vmin = np.min([np.min(x) for x in specs])\n",
    "#vmax = np.max([np.max(x) for x in specs])\n",
    "for i in range(examples.shape[0]):\n",
    "    spec = specs[i]\n",
    "    plt.subplot(5, 6, k)\n",
    "    plt.imshow(spec, interpolation='nearest', origin='lower', aspect='equal')\n",
    "    if i==0: plt.ylabel('zs', rotation=0, labelpad=30)\n",
    "    k=k+1\n",
    "\n",
    "# cut\n",
    "for i in range(examples.shape[0]):\n",
    "    spec = ori_specs[i]\n",
    "    spec = spec[MEL_BINS_REMOVED_LOWER:(N_MELS-MEL_BINS_REMOVED_UPPER),:]\n",
    "    spec = calc_zscore(spec)\n",
    "    plt.subplot(5, 6, k)\n",
    "    plt.imshow(spec, interpolation='nearest', origin='lower', aspect='equal') \n",
    "    if i==0: plt.ylabel('zs-cu', rotation=0, labelpad=30)\n",
    "    k=k+1\n",
    "\n",
    "# floor\n",
    "for i in range(examples.shape[0]):\n",
    "    spec = ori_specs[i]\n",
    "    spec = spec[MEL_BINS_REMOVED_LOWER:(N_MELS-MEL_BINS_REMOVED_UPPER),:]\n",
    "    spec = calc_zscore(spec)\n",
    "    spec = np.where(spec < 0, 0, spec)\n",
    "    plt.subplot(5, 6, k)\n",
    "    plt.imshow(spec, interpolation='nearest', origin='lower', aspect='equal') \n",
    "    if i==0: plt.ylabel('zs-cu-fl', rotation=0, labelpad=30)\n",
    "    k=k+1\n",
    "\n",
    "# ceiling\n",
    "for i in range(examples.shape[0]):\n",
    "    spec = ori_specs[i]\n",
    "\n",
    "    spec = spec[MEL_BINS_REMOVED_LOWER:(N_MELS-MEL_BINS_REMOVED_UPPER),:]\n",
    "    spec = calc_zscore(spec)\n",
    "    spec = np.where(spec < 0, 0, spec)\n",
    "    spec = np.where(spec > 3, 3, spec)\n",
    "    plt.subplot(5, 6, k)\n",
    "    plt.imshow(spec, interpolation='nearest', origin='lower', aspect='equal') \n",
    "    if i==0: plt.ylabel('zs-cu-fl-ce', rotation=0, labelpad=30)\n",
    "    k=k+1\n",
    "\n",
    "plt.tight_layout()\n",
    "outname= os.path.join(os.path.sep,FIGURES,fig_name)\n",
    "print(outname)\n",
    "plt.savefig(outname)"
   ]
  },
  {
   "cell_type": "code",
   "execution_count": null,
   "metadata": {},
   "outputs": [],
   "source": []
  }
 ],
 "metadata": {
  "colab": {
   "authorship_tag": "ABX9TyOlogUpiSqeBEdXaAXhNMmA",
   "collapsed_sections": [],
   "mount_file_id": "1_Zm2IiXkB3gnAOqU9ce0xipGJFysPzyE",
   "name": "02_meerkat_UMAP_projections.ipynb",
   "provenance": [
    {
     "file_id": "124n_3kPigqSAruudn6PKtKARZqNZOyeu",
     "timestamp": 1591815571002
    }
   ],
   "toc_visible": true
  },
  "kernelspec": {
   "display_name": "Python 3",
   "language": "python",
   "name": "python3"
  },
  "language_info": {
   "codemirror_mode": {
    "name": "ipython",
    "version": 3
   },
   "file_extension": ".py",
   "mimetype": "text/x-python",
   "name": "python",
   "nbconvert_exporter": "python",
   "pygments_lexer": "ipython3",
   "version": "3.7.10"
  }
 },
 "nbformat": 4,
 "nbformat_minor": 4
}
