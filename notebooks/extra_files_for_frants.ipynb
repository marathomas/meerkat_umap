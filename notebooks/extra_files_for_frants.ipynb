{
 "cells": [
  {
   "cell_type": "code",
   "execution_count": 1,
   "id": "c4171b82-1203-47ad-8206-be56a769343f",
   "metadata": {},
   "outputs": [],
   "source": [
    "import os\n",
    "import pandas as pd\n",
    "import sys\n",
    "import numpy as np\n",
    "from pandas.core.common import flatten\n",
    "import pickle\n",
    "from pathlib import Path\n",
    "import librosa\n",
    "import json\n",
    "import soundfile as sf"
   ]
  },
  {
   "cell_type": "code",
   "execution_count": 2,
   "id": "60224c7d-a6cc-48eb-9f8d-fc6fc4caacbc",
   "metadata": {},
   "outputs": [],
   "source": [
    "wd = os.getcwd()\n",
    "DATA = os.path.join(os.path.sep, str(Path(wd).parents[0]), \"data\", \"processed\")\n",
    "FIGURES = os.path.join(os.path.sep, str(Path(wd).parents[0]), \"reports\", \"figures\", \"hybfu\")\n",
    "AUDIO_IN = os.path.join(os.path.sep, str(Path(wd).parents[0]), \"data\", \"raw\", \"in_wavs\")\n",
    "MEERKAT_CHANNEL = json.load(open(os.path.join(os.path.sep, str(Path(wd).parents[0]), \"data\", \"raw\", \"meerkat_channel.json\")))\n",
    "DF = os.path.join(os.path.sep, DATA, \"df_focal_reduced.pkl\")"
   ]
  },
  {
   "cell_type": "code",
   "execution_count": 3,
   "id": "b66e0079-58bb-4ab4-980f-5bce47c3e62f",
   "metadata": {},
   "outputs": [
    {
     "name": "stdout",
     "output_type": "stream",
     "text": [
      "Directory already present\n"
     ]
    }
   ],
   "source": [
    "FRANTS = os.path.join(os.path.sep, str(Path(wd).parents[0]), \"data\", \"frants\")\n",
    "\n",
    "if (not os.path.isdir(FRANTS)):\n",
    "    os.mkdir(FRANTS)\n",
    "    print(\"Generated directory at: \",FRANTS)\n",
    "else:\n",
    "    print(\"Directory already present\")"
   ]
  },
  {
   "cell_type": "code",
   "execution_count": 4,
   "id": "5e5692b0-2310-470b-8288-6e7a64d4be86",
   "metadata": {},
   "outputs": [],
   "source": [
    "# Read file"
   ]
  },
  {
   "cell_type": "code",
   "execution_count": 5,
   "id": "21d4e018-3370-462b-a2a9-6c871b81500c",
   "metadata": {},
   "outputs": [
    {
     "data": {
      "text/plain": [
       "(6430, 34)"
      ]
     },
     "execution_count": 5,
     "metadata": {},
     "output_type": "execute_result"
    }
   ],
   "source": [
    "df = pd.read_pickle(DF)\n",
    "df.shape"
   ]
  },
  {
   "cell_type": "code",
   "execution_count": 6,
   "id": "62c8c889-c8e9-4f75-ba5e-3131c03a82ac",
   "metadata": {},
   "outputs": [],
   "source": [
    "files = os.listdir(FRANTS)"
   ]
  },
  {
   "cell_type": "code",
   "execution_count": 37,
   "id": "8b73c1dc-410c-48c2-b4b2-b80737a2e826",
   "metadata": {},
   "outputs": [],
   "source": [
    "fileIDs = df.callID.values\n",
    "#fileIDs[0:10]\n",
    "#files = os.listdir(DATA+'frants/')\n",
    "#fileIDs = df.callID"
   ]
  },
  {
   "cell_type": "code",
   "execution_count": 25,
   "id": "4d694fe2-3dbf-4d2a-bfae-896b849b5809",
   "metadata": {},
   "outputs": [
    {
     "data": {
      "text/plain": [
       "array(['HM_HMB_R11_AUDIO_file_4_(2017_08_23-06_44_59)_ASWMUX221163___1:12:04.643',\n",
       "       'HM_HMB_R11_AUDIO_file_4_(2017_08_23-06_44_59)_ASWMUX221163___1:12:15.132',\n",
       "       'HM_HMB_R11_AUDIO_file_4_(2017_08_23-06_44_59)_ASWMUX221163___1:12:15.427',\n",
       "       'HM_HMB_R11_AUDIO_file_4_(2017_08_23-06_44_59)_ASWMUX221163___1:12:39.271',\n",
       "       'HM_HMB_R11_AUDIO_file_4_(2017_08_23-06_44_59)_ASWMUX221163___1:13:17.280',\n",
       "       'HM_HMB_R11_AUDIO_file_4_(2017_08_23-06_44_59)_ASWMUX221163___1:13:45.675',\n",
       "       'HM_HMB_R11_AUDIO_file_4_(2017_08_23-06_44_59)_ASWMUX221163___1:23:38.212',\n",
       "       'HM_HMB_R11_AUDIO_file_4_(2017_08_23-06_44_59)_ASWMUX221163___1:23:40.769',\n",
       "       'HM_HMB_R11_AUDIO_file_4_(2017_08_23-06_44_59)_ASWMUX221163___1:23:40.997'],\n",
       "      dtype=object)"
      ]
     },
     "execution_count": 25,
     "metadata": {},
     "output_type": "execute_result"
    }
   ],
   "source": [
    "fileIDs"
   ]
  },
  {
   "cell_type": "code",
   "execution_count": 32,
   "id": "d08925a9-64a1-4a0c-88b4-14f0ac4f5f0a",
   "metadata": {},
   "outputs": [],
   "source": [
    "def get_audio(wav_loc, start_s, duration_s):\n",
    "    if \"SOUNDFOC\" in wav_loc:\n",
    "        #print(\"soundfoc: \", wav_loc)\n",
    "        data, rate = librosa.load(wav_loc, offset=start_s, duration=duration_s, sr=None, mono=False)\n",
    "        wav_filename = os.path.basename(wav_loc)\n",
    "        if wav_filename in MEERKAT_CHANNEL.keys():\n",
    "            channel = MEERKAT_CHANNEL[wav_filename]\n",
    "        else:\n",
    "            channel = 0\n",
    "        data = np.asfortranarray(data[channel,:])\n",
    "        #data = np.asfortranarray(data[MEERKAT_CHANNEL[wav_loc],:])\n",
    "    else:\n",
    "        #print(\"no soundfoc: \", wav_loc)\n",
    "        data, rate = librosa.load(wav_loc, offset=start_s, duration=duration_s, sr=None)\n",
    "        #print(data)\n",
    "    \n",
    "    if np.issubdtype(type(data[0]), np.integer):\n",
    "        data = int16_to_float32(data)\n",
    "        \n",
    "    return data"
   ]
  },
  {
   "cell_type": "code",
   "execution_count": 9,
   "id": "0b8ddf2a-e5a5-459b-8aed-2cb0e29e6d75",
   "metadata": {},
   "outputs": [],
   "source": [
    "import soundfile as sf"
   ]
  },
  {
   "cell_type": "code",
   "execution_count": 38,
   "id": "f07d43eb-c00d-42c9-bed0-879a6f46fbdd",
   "metadata": {},
   "outputs": [],
   "source": [
    "ys=[]\n",
    "for fileID in fileIDs:\n",
    "    filename = fileID+'.wav'\n",
    "    \n",
    "    sr = df.loc[df['callID']==fileID,'samplerate_hz'].values[0]\n",
    "    dur = df.loc[df['callID']==fileID,'duration_s'].values[0]\n",
    "    offset = df.loc[df['callID']==fileID,'start_s'].values[0]\n",
    "    wav_loc = df.loc[df['callID']==fileID,'original_wav'].values[0]\n",
    "\n",
    "  # add padding\n",
    "    dur = dur+0.2\n",
    "    offset = offset-0.1\n",
    "\n",
    "    y = get_audio(wav_loc, offset, dur)\n",
    "    \n",
    "    #librosa.write_wav(os.path.join(os.path.sep,FRANTS,filename), y, sr, norm=False)\n",
    "    #y = df.loc[df['callID']==fileID,'raw_audio'].values[0]\n",
    "\n",
    "    # Write out audio as 24bit PCM WAV\n",
    "    sf.write(os.path.join(os.path.sep,FRANTS,filename), y, sr, subtype='PCM_24')"
   ]
  },
  {
   "cell_type": "code",
   "execution_count": 39,
   "id": "d57a427d-1048-4c82-9362-617443b34a80",
   "metadata": {},
   "outputs": [
    {
     "name": "stdout",
     "output_type": "stream",
     "text": [
      "6428\n"
     ]
    }
   ],
   "source": [
    "generated = os.listdir(FRANTS)\n",
    "print(len(generated))"
   ]
  },
  {
   "cell_type": "code",
   "execution_count": 46,
   "id": "ba61eaed-0631-48a0-bb70-b787940cde49",
   "metadata": {},
   "outputs": [
    {
     "data": {
      "text/plain": [
       "[]"
      ]
     },
     "execution_count": 46,
     "metadata": {},
     "output_type": "execute_result"
    }
   ],
   "source": [
    "generated_ids = [x[:-4] for x in generated]\n",
    "all_ids = list(df.callID.values)\n",
    "\n",
    "# in all_ids, but not generated:\n",
    "list(set(all_ids)-set(generated_ids))"
   ]
  },
  {
   "cell_type": "code",
   "execution_count": 47,
   "id": "0fa1458d-5d7c-4147-bb84-d68ee0f5949d",
   "metadata": {},
   "outputs": [
    {
     "data": {
      "text/plain": [
       "[]"
      ]
     },
     "execution_count": 47,
     "metadata": {},
     "output_type": "execute_result"
    }
   ],
   "source": [
    "list(set(generated_ids)-set(all_ids))"
   ]
  },
  {
   "cell_type": "code",
   "execution_count": 48,
   "id": "fcf469e0-39ab-40fa-8fc8-31394679ce50",
   "metadata": {},
   "outputs": [
    {
     "data": {
      "text/plain": [
       "6428"
      ]
     },
     "execution_count": 48,
     "metadata": {},
     "output_type": "execute_result"
    }
   ],
   "source": [
    "len(set(all_ids))"
   ]
  },
  {
   "cell_type": "code",
   "execution_count": null,
   "id": "fb07d536-77e3-429b-b4e2-23964f817bd2",
   "metadata": {},
   "outputs": [],
   "source": [
    "# shit, callID is not unique!"
   ]
  },
  {
   "cell_type": "code",
   "execution_count": 49,
   "id": "3a01caf0-be77-4d88-a2f0-c2dd72aa691c",
   "metadata": {},
   "outputs": [],
   "source": [
    "import collections"
   ]
  },
  {
   "cell_type": "code",
   "execution_count": 50,
   "id": "b23fe2e7-5dc0-482b-9df6-43fc73269599",
   "metadata": {},
   "outputs": [
    {
     "name": "stdout",
     "output_type": "stream",
     "text": [
      "['HM_LT_R09_20170903-20170908_file_2_(2017_09_03-05_44_59)_ASWMUX221110___1:14:11.469', 'HM_PET_R11_20170903-20170908_file_3_(2017_09_04-05_44_59)_ASWMUX221163___19:03.754']\n"
     ]
    }
   ],
   "source": [
    "print([item for item, count in collections.Counter(all_ids).items() if count>1])"
   ]
  },
  {
   "cell_type": "code",
   "execution_count": 51,
   "id": "141720aa-75a0-431b-874e-4d0e686a3cee",
   "metadata": {},
   "outputs": [
    {
     "data": {
      "text/html": [
       "<div>\n",
       "<style scoped>\n",
       "    .dataframe tbody tr th:only-of-type {\n",
       "        vertical-align: middle;\n",
       "    }\n",
       "\n",
       "    .dataframe tbody tr th {\n",
       "        vertical-align: top;\n",
       "    }\n",
       "\n",
       "    .dataframe thead th {\n",
       "        text-align: right;\n",
       "    }\n",
       "</style>\n",
       "<table border=\"1\" class=\"dataframe\">\n",
       "  <thead>\n",
       "    <tr style=\"text-align: right;\">\n",
       "      <th></th>\n",
       "      <th>Name</th>\n",
       "      <th>Start</th>\n",
       "      <th>Duration</th>\n",
       "      <th>Time Format</th>\n",
       "      <th>Type</th>\n",
       "      <th>Description</th>\n",
       "      <th>start_s</th>\n",
       "      <th>duration_s</th>\n",
       "      <th>stop_s</th>\n",
       "      <th>date</th>\n",
       "      <th>...</th>\n",
       "      <th>raw_audio</th>\n",
       "      <th>spectrograms</th>\n",
       "      <th>denoised_spectrograms</th>\n",
       "      <th>stretched_spectrograms</th>\n",
       "      <th>stretched_denoised_spectrograms</th>\n",
       "      <th>stretched_mfccs</th>\n",
       "      <th>mfccs</th>\n",
       "      <th>zmfccs</th>\n",
       "      <th>freq_spectrograms</th>\n",
       "      <th>ampli_spectrograms</th>\n",
       "    </tr>\n",
       "  </thead>\n",
       "  <tbody>\n",
       "    <tr>\n",
       "      <th>8440</th>\n",
       "      <td>ALARM</td>\n",
       "      <td>1:14:11.469</td>\n",
       "      <td>0:00.132</td>\n",
       "      <td>decimal</td>\n",
       "      <td>Cue</td>\n",
       "      <td>NaN</td>\n",
       "      <td>4451.469</td>\n",
       "      <td>0.132</td>\n",
       "      <td>4451.601</td>\n",
       "      <td>2017-09-03</td>\n",
       "      <td>...</td>\n",
       "      <td>[-0.0234375, -0.044921875, -0.044921875, -0.03...</td>\n",
       "      <td>[[-4.8763523, -4.3278656, -3.4910812, -3.86334...</td>\n",
       "      <td>[[15.797497, 16.119806, 19.83519, 24.304077, 2...</td>\n",
       "      <td>[[-4.873928, -4.741518, -4.5996056, -4.4492283...</td>\n",
       "      <td>[[15.797497, 16.228107, 16.25417, 16.167095, 1...</td>\n",
       "      <td>[[-130.82164, -131.24345, -131.66933, -132.133...</td>\n",
       "      <td>[[-130.83699, -132.54517, -143.4861, -161.7499...</td>\n",
       "      <td>[[3.959618, 3.7962391, 2.7497873, 1.0029402, 0...</td>\n",
       "      <td>[[-24.602575, -17.309608, -10.6869, -6.1829586...</td>\n",
       "      <td>[[0.09142631, 0.21169937, 0.45379004, 0.762170...</td>\n",
       "    </tr>\n",
       "    <tr>\n",
       "      <th>8441</th>\n",
       "      <td>ALARM</td>\n",
       "      <td>1:14:11.469</td>\n",
       "      <td>0:00.132</td>\n",
       "      <td>decimal</td>\n",
       "      <td>Cue</td>\n",
       "      <td>NaN</td>\n",
       "      <td>4451.469</td>\n",
       "      <td>0.132</td>\n",
       "      <td>4451.601</td>\n",
       "      <td>2017-09-03</td>\n",
       "      <td>...</td>\n",
       "      <td>[-0.0234375, -0.044921875, -0.044921875, -0.03...</td>\n",
       "      <td>[[-4.8763523, -4.3278656, -3.4910812, -3.86334...</td>\n",
       "      <td>[[15.797497, 16.119806, 19.83519, 24.304077, 2...</td>\n",
       "      <td>[[-4.873928, -4.741518, -4.5996056, -4.4492283...</td>\n",
       "      <td>[[15.797497, 16.228107, 16.25417, 16.167095, 1...</td>\n",
       "      <td>[[-130.82164, -131.24345, -131.66933, -132.133...</td>\n",
       "      <td>[[-130.83699, -132.54517, -143.4861, -161.7499...</td>\n",
       "      <td>[[3.959618, 3.7962391, 2.7497873, 1.0029402, 0...</td>\n",
       "      <td>[[-24.602575, -17.309608, -10.6869, -6.1829586...</td>\n",
       "      <td>[[0.09142631, 0.21169937, 0.45379004, 0.762170...</td>\n",
       "    </tr>\n",
       "  </tbody>\n",
       "</table>\n",
       "<p>2 rows × 34 columns</p>\n",
       "</div>"
      ],
      "text/plain": [
       "       Name        Start  Duration Time Format Type Description   start_s  \\\n",
       "8440  ALARM  1:14:11.469  0:00.132     decimal  Cue         NaN  4451.469   \n",
       "8441  ALARM  1:14:11.469  0:00.132     decimal  Cue         NaN  4451.469   \n",
       "\n",
       "      duration_s    stop_s        date  ...  \\\n",
       "8440       0.132  4451.601  2017-09-03  ...   \n",
       "8441       0.132  4451.601  2017-09-03  ...   \n",
       "\n",
       "                                              raw_audio  \\\n",
       "8440  [-0.0234375, -0.044921875, -0.044921875, -0.03...   \n",
       "8441  [-0.0234375, -0.044921875, -0.044921875, -0.03...   \n",
       "\n",
       "                                           spectrograms  \\\n",
       "8440  [[-4.8763523, -4.3278656, -3.4910812, -3.86334...   \n",
       "8441  [[-4.8763523, -4.3278656, -3.4910812, -3.86334...   \n",
       "\n",
       "                                  denoised_spectrograms  \\\n",
       "8440  [[15.797497, 16.119806, 19.83519, 24.304077, 2...   \n",
       "8441  [[15.797497, 16.119806, 19.83519, 24.304077, 2...   \n",
       "\n",
       "                                 stretched_spectrograms  \\\n",
       "8440  [[-4.873928, -4.741518, -4.5996056, -4.4492283...   \n",
       "8441  [[-4.873928, -4.741518, -4.5996056, -4.4492283...   \n",
       "\n",
       "                        stretched_denoised_spectrograms  \\\n",
       "8440  [[15.797497, 16.228107, 16.25417, 16.167095, 1...   \n",
       "8441  [[15.797497, 16.228107, 16.25417, 16.167095, 1...   \n",
       "\n",
       "                                        stretched_mfccs  \\\n",
       "8440  [[-130.82164, -131.24345, -131.66933, -132.133...   \n",
       "8441  [[-130.82164, -131.24345, -131.66933, -132.133...   \n",
       "\n",
       "                                                  mfccs  \\\n",
       "8440  [[-130.83699, -132.54517, -143.4861, -161.7499...   \n",
       "8441  [[-130.83699, -132.54517, -143.4861, -161.7499...   \n",
       "\n",
       "                                                 zmfccs  \\\n",
       "8440  [[3.959618, 3.7962391, 2.7497873, 1.0029402, 0...   \n",
       "8441  [[3.959618, 3.7962391, 2.7497873, 1.0029402, 0...   \n",
       "\n",
       "                                      freq_spectrograms  \\\n",
       "8440  [[-24.602575, -17.309608, -10.6869, -6.1829586...   \n",
       "8441  [[-24.602575, -17.309608, -10.6869, -6.1829586...   \n",
       "\n",
       "                                     ampli_spectrograms  \n",
       "8440  [[0.09142631, 0.21169937, 0.45379004, 0.762170...  \n",
       "8441  [[0.09142631, 0.21169937, 0.45379004, 0.762170...  \n",
       "\n",
       "[2 rows x 34 columns]"
      ]
     },
     "execution_count": 51,
     "metadata": {},
     "output_type": "execute_result"
    }
   ],
   "source": [
    "df.loc[df.callID=='HM_LT_R09_20170903-20170908_file_2_(2017_09_03-05_44_59)_ASWMUX221110___1:14:11.469',:]"
   ]
  },
  {
   "cell_type": "code",
   "execution_count": 52,
   "id": "fd2f2736-20c0-4545-9b62-0ed767994de7",
   "metadata": {},
   "outputs": [
    {
     "data": {
      "text/html": [
       "<div>\n",
       "<style scoped>\n",
       "    .dataframe tbody tr th:only-of-type {\n",
       "        vertical-align: middle;\n",
       "    }\n",
       "\n",
       "    .dataframe tbody tr th {\n",
       "        vertical-align: top;\n",
       "    }\n",
       "\n",
       "    .dataframe thead th {\n",
       "        text-align: right;\n",
       "    }\n",
       "</style>\n",
       "<table border=\"1\" class=\"dataframe\">\n",
       "  <thead>\n",
       "    <tr style=\"text-align: right;\">\n",
       "      <th></th>\n",
       "      <th>Name</th>\n",
       "      <th>Start</th>\n",
       "      <th>Duration</th>\n",
       "      <th>Time Format</th>\n",
       "      <th>Type</th>\n",
       "      <th>Description</th>\n",
       "      <th>start_s</th>\n",
       "      <th>duration_s</th>\n",
       "      <th>stop_s</th>\n",
       "      <th>date</th>\n",
       "      <th>...</th>\n",
       "      <th>raw_audio</th>\n",
       "      <th>spectrograms</th>\n",
       "      <th>denoised_spectrograms</th>\n",
       "      <th>stretched_spectrograms</th>\n",
       "      <th>stretched_denoised_spectrograms</th>\n",
       "      <th>stretched_mfccs</th>\n",
       "      <th>mfccs</th>\n",
       "      <th>zmfccs</th>\n",
       "      <th>freq_spectrograms</th>\n",
       "      <th>ampli_spectrograms</th>\n",
       "    </tr>\n",
       "  </thead>\n",
       "  <tbody>\n",
       "    <tr>\n",
       "      <th>10996</th>\n",
       "      <td>SN</td>\n",
       "      <td>19:03.754</td>\n",
       "      <td>0:00.128</td>\n",
       "      <td>decimal</td>\n",
       "      <td>Cue</td>\n",
       "      <td>NaN</td>\n",
       "      <td>1143.754</td>\n",
       "      <td>0.128</td>\n",
       "      <td>1143.882</td>\n",
       "      <td>2017-09-04</td>\n",
       "      <td>...</td>\n",
       "      <td>[-0.001953125, -0.00390625, -0.001953125, -0.0...</td>\n",
       "      <td>[[-1.922924, -1.2751312, -0.22265244, -0.27465...</td>\n",
       "      <td>[[16.243113, 16.48788, 17.131502, 18.442152, 1...</td>\n",
       "      <td>[[-1.8889809, -1.7258148, -1.5605278, -1.39357...</td>\n",
       "      <td>[[16.243113, 16.356424, 16.460875, 16.470005, ...</td>\n",
       "      <td>[[-117.239296, -116.48058, -115.54472, -114.46...</td>\n",
       "      <td>[[-117.45398, -113.59075, -111.453995, -116.60...</td>\n",
       "      <td>[[0.47103828, 1.1792225, 1.5709221, 0.6275647,...</td>\n",
       "      <td>[[-0.027219772, 0.0, -0.1610446, -0.71172285, ...</td>\n",
       "      <td>[[0.4165816, 0.41788912, 0.41021243, 0.3850126...</td>\n",
       "    </tr>\n",
       "    <tr>\n",
       "      <th>10995</th>\n",
       "      <td>Marker 78</td>\n",
       "      <td>19:03.754</td>\n",
       "      <td>0:00.128</td>\n",
       "      <td>decimal</td>\n",
       "      <td>Cue</td>\n",
       "      <td>NaN</td>\n",
       "      <td>1143.754</td>\n",
       "      <td>0.128</td>\n",
       "      <td>1143.882</td>\n",
       "      <td>2017-09-04</td>\n",
       "      <td>...</td>\n",
       "      <td>[-0.001953125, -0.00390625, -0.001953125, -0.0...</td>\n",
       "      <td>[[-1.922924, -1.2751312, -0.22265244, -0.27465...</td>\n",
       "      <td>[[16.243113, 16.48788, 17.131502, 18.442152, 1...</td>\n",
       "      <td>[[-1.8889809, -1.7258148, -1.5605278, -1.39357...</td>\n",
       "      <td>[[16.243113, 16.356424, 16.460875, 16.470005, ...</td>\n",
       "      <td>[[-117.239296, -116.48058, -115.54472, -114.46...</td>\n",
       "      <td>[[-117.45398, -113.59075, -111.453995, -116.60...</td>\n",
       "      <td>[[0.47103828, 1.1792225, 1.5709221, 0.6275647,...</td>\n",
       "      <td>[[-0.027219772, 0.0, -0.1610446, -0.71172285, ...</td>\n",
       "      <td>[[0.4165816, 0.41788912, 0.41021243, 0.3850126...</td>\n",
       "    </tr>\n",
       "  </tbody>\n",
       "</table>\n",
       "<p>2 rows × 34 columns</p>\n",
       "</div>"
      ],
      "text/plain": [
       "            Name      Start  Duration Time Format Type Description   start_s  \\\n",
       "10996         SN  19:03.754  0:00.128     decimal  Cue         NaN  1143.754   \n",
       "10995  Marker 78  19:03.754  0:00.128     decimal  Cue         NaN  1143.754   \n",
       "\n",
       "       duration_s    stop_s        date  ...  \\\n",
       "10996       0.128  1143.882  2017-09-04  ...   \n",
       "10995       0.128  1143.882  2017-09-04  ...   \n",
       "\n",
       "                                               raw_audio  \\\n",
       "10996  [-0.001953125, -0.00390625, -0.001953125, -0.0...   \n",
       "10995  [-0.001953125, -0.00390625, -0.001953125, -0.0...   \n",
       "\n",
       "                                            spectrograms  \\\n",
       "10996  [[-1.922924, -1.2751312, -0.22265244, -0.27465...   \n",
       "10995  [[-1.922924, -1.2751312, -0.22265244, -0.27465...   \n",
       "\n",
       "                                   denoised_spectrograms  \\\n",
       "10996  [[16.243113, 16.48788, 17.131502, 18.442152, 1...   \n",
       "10995  [[16.243113, 16.48788, 17.131502, 18.442152, 1...   \n",
       "\n",
       "                                  stretched_spectrograms  \\\n",
       "10996  [[-1.8889809, -1.7258148, -1.5605278, -1.39357...   \n",
       "10995  [[-1.8889809, -1.7258148, -1.5605278, -1.39357...   \n",
       "\n",
       "                         stretched_denoised_spectrograms  \\\n",
       "10996  [[16.243113, 16.356424, 16.460875, 16.470005, ...   \n",
       "10995  [[16.243113, 16.356424, 16.460875, 16.470005, ...   \n",
       "\n",
       "                                         stretched_mfccs  \\\n",
       "10996  [[-117.239296, -116.48058, -115.54472, -114.46...   \n",
       "10995  [[-117.239296, -116.48058, -115.54472, -114.46...   \n",
       "\n",
       "                                                   mfccs  \\\n",
       "10996  [[-117.45398, -113.59075, -111.453995, -116.60...   \n",
       "10995  [[-117.45398, -113.59075, -111.453995, -116.60...   \n",
       "\n",
       "                                                  zmfccs  \\\n",
       "10996  [[0.47103828, 1.1792225, 1.5709221, 0.6275647,...   \n",
       "10995  [[0.47103828, 1.1792225, 1.5709221, 0.6275647,...   \n",
       "\n",
       "                                       freq_spectrograms  \\\n",
       "10996  [[-0.027219772, 0.0, -0.1610446, -0.71172285, ...   \n",
       "10995  [[-0.027219772, 0.0, -0.1610446, -0.71172285, ...   \n",
       "\n",
       "                                      ampli_spectrograms  \n",
       "10996  [[0.4165816, 0.41788912, 0.41021243, 0.3850126...  \n",
       "10995  [[0.4165816, 0.41788912, 0.41021243, 0.3850126...  \n",
       "\n",
       "[2 rows x 34 columns]"
      ]
     },
     "execution_count": 52,
     "metadata": {},
     "output_type": "execute_result"
    }
   ],
   "source": [
    "df.loc[df.callID=='HM_PET_R11_20170903-20170908_file_3_(2017_09_04-05_44_59)_ASWMUX221163___19:03.754',:]"
   ]
  },
  {
   "cell_type": "code",
   "execution_count": null,
   "id": "7f1b2a71-a18d-4953-9bf4-2d6be2ac5d2f",
   "metadata": {},
   "outputs": [],
   "source": []
  }
 ],
 "metadata": {
  "kernelspec": {
   "display_name": "Python 3",
   "language": "python",
   "name": "python3"
  },
  "language_info": {
   "codemirror_mode": {
    "name": "ipython",
    "version": 3
   },
   "file_extension": ".py",
   "mimetype": "text/x-python",
   "name": "python",
   "nbconvert_exporter": "python",
   "pygments_lexer": "ipython3",
   "version": "3.7.10"
  }
 },
 "nbformat": 4,
 "nbformat_minor": 5
}
