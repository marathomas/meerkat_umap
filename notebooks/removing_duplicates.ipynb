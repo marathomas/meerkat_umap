{
 "cells": [
  {
   "cell_type": "markdown",
   "id": "21191def-6c19-4250-995b-74f128c0fbe1",
   "metadata": {},
   "source": [
    "# Remove duplicate rows"
   ]
  },
  {
   "cell_type": "code",
   "execution_count": 10,
   "id": "ddd8ee3f-8686-459b-873d-ba761b386537",
   "metadata": {},
   "outputs": [],
   "source": [
    "import os\n",
    "import pandas as pd\n",
    "import sys\n",
    "import re\n",
    "import json\n",
    "import librosa\n",
    "import librosa.display\n",
    "from IPython.display import Audio\n",
    "import numpy as np\n",
    "from pathlib import Path\n",
    "import matplotlib.pyplot as plt\n",
    "import glob\n",
    "from pandas.core.common import flatten\n",
    "import shutil\n",
    "import pickle\n",
    "import seaborn as sns\n",
    "import collections"
   ]
  },
  {
   "cell_type": "code",
   "execution_count": 2,
   "id": "b579a1d2-319b-4253-96c8-1c894b642a7b",
   "metadata": {},
   "outputs": [],
   "source": [
    "wd = os.getcwd()\n",
    "\n",
    "DATA = os.path.join(os.path.sep, str(Path(wd).parents[0]), \"data\", \"processed\")\n",
    "FIGURES = os.path.join(os.path.sep, str(Path(wd).parents[0]), \"reports\", \"figures\")\n",
    "\n",
    "DF_DICT = {}\n",
    "for dftype in ['full', 'reduced', 'balanced']:\n",
    "    DF_DICT[dftype] = os.path.join(os.path.sep, DATA, \"df_focal_\"+dftype+\".pkl\")"
   ]
  },
  {
   "cell_type": "code",
   "execution_count": 8,
   "id": "482c5493-e3be-4ac9-b0fc-05207ba75b7d",
   "metadata": {},
   "outputs": [
    {
     "name": "stdout",
     "output_type": "stream",
     "text": [
      "full\n",
      "6  duplicates found and removed\n",
      "reduced\n",
      "2  duplicates found and removed\n",
      "balanced\n",
      "0  duplicates found and removed\n"
     ]
    }
   ],
   "source": [
    "for dftype in ['full', 'reduced', 'balanced']:\n",
    "    print(dftype)\n",
    "    df = pd.read_pickle(DF_DICT[dftype])\n",
    "\n",
    "    all_ids = list(df.callID.values)\n",
    "    duplics = [item for item, count in collections.Counter(all_ids).items() if count>1]\n",
    "    \n",
    "    #df[df['callID'].isin(duplics)].sort_values(by=['callID'])\n",
    "    \n",
    "    df = df.drop_duplicates(subset='callID', keep=\"last\")\n",
    "    \n",
    "    df.to_pickle(DF_DICT[dftype])\n",
    "    print(len(duplics), \" duplicates found and removed\")"
   ]
  },
  {
   "cell_type": "markdown",
   "id": "6d56ae3d-5eef-4c4f-bced-ae1c9217b5f3",
   "metadata": {},
   "source": [
    "## Re-do updated class frequency plots"
   ]
  },
  {
   "cell_type": "code",
   "execution_count": 11,
   "id": "81c0dae9-132b-46ee-8d63-fc1788dfacd7",
   "metadata": {},
   "outputs": [
    {
     "name": "stdout",
     "output_type": "stream",
     "text": [
      "Saved as:  /home/mthomas/Documents/MPI_work/projects/meerkat/meerkat_umap_pv/reports/figures/labelcounts_full.png\n"
     ]
    },
    {
     "data": {
      "image/png": "[encoded data removed]",
      "text/plain": [
       "<Figure size 432x288 with 1 Axes>"
      ]
     },
     "metadata": {
      "needs_background": "light"
     },
     "output_type": "display_data"
    }
   ],
   "source": [
    "dftype='full'\n",
    "\n",
    "df = pd.read_pickle(DF_DICT[dftype])\n",
    "labelcounts = pd.DataFrame(df['call_lable'].value_counts())\n",
    "labelcounts.sort_index(inplace=True)\n",
    "pal = sns.color_palette(\"Set2\", n_colors=len(labelcounts.index))\n",
    "plt.barh(labelcounts.index, labelcounts.call_lable.values, color = pal)\n",
    "\n",
    "for index, value in enumerate(labelcounts.call_lable.values):\n",
    "    plt.text(value, index, str(value))\n",
    "\n",
    "plt.title(dftype.capitalize()+' dataset (N='+str(df.shape[0])+')')\n",
    "plt.ylabel('Labels')\n",
    "plt.xlabel('Frequencies')\n",
    "plt.xlim(0,21500)\n",
    "#plt.show()\n",
    "outpath = os.path.join(os.path.sep, FIGURES, \"labelcounts_\"+dftype+\".png\")\n",
    "plt.savefig(outpath, facecolor='w')\n",
    "print(\"Saved as: \", outpath)"
   ]
  },
  {
   "cell_type": "code",
   "execution_count": 12,
   "id": "d3a1c7b3-fc28-47e4-bd66-a72555cf21c1",
   "metadata": {},
   "outputs": [
    {
     "name": "stdout",
     "output_type": "stream",
     "text": [
      "Saved as:  /home/mthomas/Documents/MPI_work/projects/meerkat/meerkat_umap_pv/reports/figures/new_labelcounts_reduced.png\n"
     ]
    },
    {
     "data": {
      "image/png": "[encoded data removed]",
      "text/plain": [
       "<Figure size 432x288 with 1 Axes>"
      ]
     },
     "metadata": {
      "needs_background": "light"
     },
     "output_type": "display_data"
    }
   ],
   "source": [
    "dftype='reduced'\n",
    "\n",
    "df = pd.read_pickle(DF_DICT[dftype])\n",
    "\n",
    "labelcounts = pd.DataFrame(df['call_lable'].value_counts())\n",
    "labelcounts.sort_index(inplace=True, ascending=False)\n",
    "pal = sns.color_palette(\"Set2\", n_colors=len(labelcounts.index))\n",
    "plt.barh(labelcounts.index, labelcounts.call_lable.values, color = pal)\n",
    "\n",
    "for index, value in enumerate(labelcounts.call_lable.values):\n",
    "    plt.text(value, index, str(value))\n",
    "\n",
    "plt.title(dftype.capitalize()+' dataset (N='+str(df.shape[0])+')')\n",
    "plt.ylabel('Labels')\n",
    "plt.xlabel('Frequencies')\n",
    "plt.xlim(0,21500)\n",
    "outpath = os.path.join(os.path.sep, FIGURES, \"labelcounts_\"+dftype+\".png\")\n",
    "\n",
    "plt.xlim(0,2200)\n",
    "outpath = os.path.join(os.path.sep, FIGURES, \"new_labelcounts_\"+dftype+\".png\")\n",
    "\n",
    "plt.savefig(outpath, facecolor='w')\n",
    "print(\"Saved as: \", outpath)"
   ]
  },
  {
   "cell_type": "code",
   "execution_count": null,
   "id": "df224bd7-6b0b-46d5-807c-106f1ae47cdf",
   "metadata": {},
   "outputs": [],
   "source": []
  }
 ],
 "metadata": {
  "kernelspec": {
   "display_name": "Python 3",
   "language": "python",
   "name": "python3"
  },
  "language_info": {
   "codemirror_mode": {
    "name": "ipython",
    "version": 3
   },
   "file_extension": ".py",
   "mimetype": "text/x-python",
   "name": "python",
   "nbconvert_exporter": "python",
   "pygments_lexer": "ipython3",
   "version": "3.7.10"
  }
 },
 "nbformat": 4,
 "nbformat_minor": 5
}
