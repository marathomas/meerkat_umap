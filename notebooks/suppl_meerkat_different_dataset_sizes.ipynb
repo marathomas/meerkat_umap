{
 "cells": [
  {
   "cell_type": "markdown",
   "metadata": {
    "id": "OPESAyt6xV_D"
   },
   "source": [
    "# Test effect of different sample sizes"
   ]
  },
  {
   "cell_type": "code",
   "execution_count": 1,
   "metadata": {
    "executionInfo": {
     "elapsed": 5457,
     "status": "ok",
     "timestamp": 1604234524869,
     "user": {
      "displayName": "Mara Thomas",
      "photoUrl": "",
      "userId": "08285540157542181220"
     },
     "user_tz": -60
    },
    "id": "uD5MIfl5xuQE"
   },
   "outputs": [],
   "source": [
    "import os\n",
    "import pandas as pd\n",
    "import sys\n",
    "import numpy as np\n",
    "import statistics\n",
    "import matplotlib.pyplot as plt\n",
    "import pickle\n",
    "from matplotlib.legend import Legend\n",
    "from matplotlib import gridspec\n",
    "import matplotlib\n",
    "import seaborn as sns\n",
    "import umap\n",
    "from pathlib import Path"
   ]
  },
  {
   "cell_type": "code",
   "execution_count": 2,
   "metadata": {},
   "outputs": [],
   "source": [
    "from evaluation_functions import nn, sil\n",
    "from preprocessing_functions import calc_zscore, create_padded_data"
   ]
  },
  {
   "cell_type": "code",
   "execution_count": 3,
   "metadata": {
    "executionInfo": {
     "elapsed": 1124,
     "status": "ok",
     "timestamp": 1619436346672,
     "user": {
      "displayName": "Mara Thomas",
      "photoUrl": "",
      "userId": "08285540157542181220"
     },
     "user_tz": -120
    },
    "id": "CF038oa81Ggw"
   },
   "outputs": [
    {
     "name": "stdout",
     "output_type": "stream",
     "text": [
      "Directory already present\n"
     ]
    }
   ],
   "source": [
    "wd = os.getcwd()\n",
    "\n",
    "DATA = os.path.join(os.path.sep, str(Path(wd).parents[0]), \"data\", \"processed\")\n",
    "FIGURES = os.path.join(os.path.sep, str(Path(wd).parents[0]), \"reports\", \"figures\", \"sample_sizes\")\n",
    "\n",
    "if (not os.path.isdir(FIGURES)):\n",
    "    os.mkdir(FIGURES)\n",
    "    print(\"Generated directory at: \",FIGURES)\n",
    "else:\n",
    "    print(\"Directory already present\")"
   ]
  },
  {
   "cell_type": "code",
   "execution_count": 4,
   "metadata": {},
   "outputs": [
    {
     "data": {
      "text/plain": [
       "(1148, 34)"
      ]
     },
     "execution_count": 4,
     "metadata": {},
     "output_type": "execute_result"
    }
   ],
   "source": [
    "dftype = \"balanced\"\n",
    "spec_df = pd.read_pickle(os.path.join(os.path.sep, DATA, 'df_focal_'+dftype+'.pkl'))\n",
    "spec_df.shape"
   ]
  },
  {
   "cell_type": "markdown",
   "metadata": {
    "id": "27EAa-u56YGZ"
   },
   "source": [
    "## Loop"
   ]
  },
  {
   "cell_type": "code",
   "execution_count": 6,
   "metadata": {
    "executionInfo": {
     "elapsed": 765,
     "status": "ok",
     "timestamp": 1604234564373,
     "user": {
      "displayName": "Mara Thomas",
      "photoUrl": "",
      "userId": "08285540157542181220"
     },
     "user_tz": -60
    },
    "id": "JxjzFDlz0a4B"
   },
   "outputs": [],
   "source": [
    "class_tab_dict = {}"
   ]
  },
  {
   "cell_type": "code",
   "execution_count": 7,
   "metadata": {
    "colab": {
     "base_uri": "https://localhost:8080/",
     "height": 1000
    },
    "executionInfo": {
     "elapsed": 129711,
     "status": "ok",
     "timestamp": 1604234742874,
     "user": {
      "displayName": "Mara Thomas",
      "photoUrl": "",
      "userId": "08285540157542181220"
     },
     "user_tz": -60
    },
    "id": "61Q50zuY15RY",
    "outputId": "81beabe4-268b-4077-c1ef-3bd050db1f1a"
   },
   "outputs": [],
   "source": [
    "k=5\n",
    "n_times = 5\n",
    "class_sizes = [10,20,30,50,75,100,140,160]\n",
    "\n",
    "n_class_table = np.zeros((len(class_sizes)*n_times,2+7+7+1))\n",
    "\n",
    "for i, class_size in enumerate(class_sizes*n_times):\n",
    "    \n",
    "    #print('Processing N=',class_size)\n",
    "    \n",
    "    df = spec_df.copy()\n",
    "    \n",
    "    labelcounts = pd.DataFrame(df['call_lable'].value_counts())\n",
    "    subsets = []\n",
    "    for label in labelcounts.index:\n",
    "        subsets.append(df[df.call_lable == label].sample(n=class_size, replace=False))##, random_state=2204))\n",
    "    df = pd.concat(subsets, axis=0)\n",
    "    df.reset_index(inplace=True)\n",
    "    #print(df.shape)\n",
    "\n",
    "    # UMAP\n",
    "    specs = df.spectrograms # now 2D arrays n_mels+time_frames(varying)\n",
    "    specs = [calc_zscore(s) for s in specs]\n",
    "    data = create_padded_data(specs)\n",
    "    \n",
    "    #print(\"Running UMAP...\")\n",
    "    \n",
    "    reducer = umap.UMAP(low_memory=True, n_components = 3, min_dist=0, random_state=2204)\n",
    "    embedding = reducer.fit_transform(data)\n",
    "    \n",
    "    #print(\"Evaluating...\")\n",
    "    \n",
    "    # EVAL\n",
    "    labels = df.call_lable.values\n",
    "    calltypes = sorted(list(set(labels)))\n",
    "\n",
    "    nn_stats = nn(embedding, labels, k)\n",
    "    n_class_table[i,0] = nn_stats.get_Snorm()\n",
    "    n_class_table[i,1] = nn_stats.get_S()\n",
    "\n",
    "    n_class_table[i,2:9] = nn_stats.get_ownclass_Snorm() \n",
    "    n_class_table[i,9:16] = nn_stats.get_ownclass_S()\n",
    "\n",
    "    sil_stats = sil(embedding, labels)\n",
    "    n_class_table[i,16] = sil_stats.get_avrg_score()\n",
    "\n",
    "\n",
    "    #print(\"Snorm:\",round(n_class_table[i,0],4))\n",
    "    #print(\"S:\",round(n_class_table[i,1],4))\n",
    "    #print(\"SIL:\", round(silhouette_avg))\n"
   ]
  },
  {
   "cell_type": "code",
   "execution_count": 8,
   "metadata": {
    "executionInfo": {
     "elapsed": 623,
     "status": "ok",
     "timestamp": 1604234747150,
     "user": {
      "displayName": "Mara Thomas",
      "photoUrl": "",
      "userId": "08285540157542181220"
     },
     "user_tz": -60
    },
    "id": "yTCmpYNGOXhr"
   },
   "outputs": [],
   "source": [
    "n_class_table_df = pd.DataFrame(n_class_table)\n",
    "n_class_table_df['N per class'] = class_sizes*n_times\n",
    "\n",
    "class_tab_dict['balanced_means'] = n_class_table_df.groupby('N per class').mean()\n",
    "class_tab_dict['balanced_stds'] = n_class_table_df.groupby('N per class').std()"
   ]
  },
  {
   "cell_type": "markdown",
   "metadata": {
    "id": "Kgx8EHyVzpdP"
   },
   "source": [
    "## Viz"
   ]
  },
  {
   "cell_type": "code",
   "execution_count": 9,
   "metadata": {
    "executionInfo": {
     "elapsed": 630,
     "status": "ok",
     "timestamp": 1603833341921,
     "user": {
      "displayName": "Mara Thomas",
      "photoUrl": "",
      "userId": "08285540157542181220"
     },
     "user_tz": -60
    },
    "id": "7HkIkYqCrBzb"
   },
   "outputs": [],
   "source": [
    "# with error bars\n",
    "dftype = 'balanced'\n",
    "#dftype = 'reduced'\n",
    "\n",
    "plot_type = 'norm'\n",
    "plot_type = 'abs'\n",
    "\n",
    "if dftype=='balanced':\n",
    "    plot_x_lab = \"N per class\"\n",
    "    means_df = class_tab_dict['balanced_means']\n",
    "    stds_df = class_tab_dict['balanced_stds']\n",
    "    xax = class_sizes\n",
    "else:\n",
    "    plot_x_lab = \"N total\"\n",
    "    means_df = class_tab_dict['reduced_means']\n",
    "    stds_df = class_tab_dict['reduced_stds']\n",
    "    xax = [x*df_focal.shape[0] for x in fracts]\n",
    "\n",
    "if plot_type=='norm':\n",
    "    from_c = 2\n",
    "    to_c = 9\n",
    "    mean_c = 0\n",
    "    mean_ylab = \"Embedding score Snorm\"\n",
    "    all_ylab = \"Same-class neighborhood probability Pnorm\"\n",
    "    plot_ylim_l = -0.5\n",
    "    plot_ylim_u = 3\n",
    "else:\n",
    "    from_c = 9\n",
    "    to_c = 16\n",
    "    mean_c = 1\n",
    "    mean_ylab = \"Embedding score S\"\n",
    "    all_ylab = \"Same-class neighborhood probability P\"\n",
    "    plot_ylim_l = 0\n",
    "    plot_ylim_u = 100"
   ]
  },
  {
   "cell_type": "code",
   "execution_count": 10,
   "metadata": {
    "executionInfo": {
     "elapsed": 693,
     "status": "ok",
     "timestamp": 1603833375708,
     "user": {
      "displayName": "Mara Thomas",
      "photoUrl": "",
      "userId": "08285540157542181220"
     },
     "user_tz": -60
    },
    "id": "WmWRp2Ib6q-g"
   },
   "outputs": [],
   "source": [
    "dftype = dftype+'mod'"
   ]
  },
  {
   "cell_type": "code",
   "execution_count": 28,
   "metadata": {
    "colab": {
     "base_uri": "https://localhost:8080/",
     "height": 337
    },
    "executionInfo": {
     "elapsed": 1551,
     "status": "ok",
     "timestamp": 1603833380659,
     "user": {
      "displayName": "Mara Thomas",
      "photoUrl": "",
      "userId": "08285540157542181220"
     },
     "user_tz": -60
    },
    "id": "jo5jIHyQtfCB",
    "outputId": "0aafd5ab-a44e-4570-f469-52f24eba4d04"
   },
   "outputs": [
    {
     "data": {
      "image/png": "[encoded data removed]",
      "text/plain": [
       "<Figure size 1008x360 with 2 Axes>"
      ]
     },
     "metadata": {
      "needs_background": "light"
     },
     "output_type": "display_data"
    }
   ],
   "source": [
    "# with error bars\n",
    "plt.figure(figsize=(14,5))\n",
    "\n",
    "plt.subplot(1, 2, 1)\n",
    "#fig = plt.figure(figsize= (7, 8))\n",
    "sub_table = np.asarray(means_df.iloc[:,from_c:to_c])\n",
    "sub_table_stds = np.asarray(stds_df.iloc[:,from_c:to_c])\n",
    "\n",
    "pal = sns.color_palette(\"Set2\", n_colors=len(calltypes))\n",
    "color_dict = dict(zip(calltypes, pal))\n",
    "\n",
    "plt.plot(xax, means_df.iloc[:,mean_c], marker='o',linewidth=2, markersize=4, color = 'black',label='mean')\n",
    "plt.errorbar(xax, means_df.iloc[:,mean_c], yerr=sub_table_stds[:,1], capsize=5,color='black')\n",
    "\n",
    "#lgd = plt.legend(bbox_to_anchor=(1.2, 0.86), loc='right')\n",
    "\n",
    "plt.ylim(plot_ylim_l,plot_ylim_u)\n",
    "plt.ylabel(mean_ylab)\n",
    "plt.xlabel(plot_x_lab)\n",
    "\n",
    "\n",
    "plt.subplot(1, 2, 2)\n",
    "#fig = plt.figure(figsize= (7, 8))\n",
    "sub_table = np.asarray(means_df.iloc[:,from_c:to_c])\n",
    "sub_table_stds = np.asarray(stds_df.iloc[:,from_c:to_c])\n",
    "\n",
    "pal = sns.color_palette(\"Set2\", n_colors=len(calltypes))\n",
    "color_dict = dict(zip(calltypes, pal))\n",
    "\n",
    "\n",
    "for i,call_type in enumerate(calltypes):\n",
    "    plt.plot(xax, sub_table[:,i], marker='o',linewidth=2, markersize=4, color = color_dict[call_type],label=call_type)\n",
    "    plt.errorbar(xax, sub_table[:,i], yerr=sub_table_stds[:,i], capsize=5, color = color_dict[call_type])\n",
    "\n",
    "lgd = plt.legend(bbox_to_anchor=(1.2, 0.8), loc='right')\n",
    "\n",
    "plt.ylim(plot_ylim_l,plot_ylim_u)\n",
    "plt.ylabel(all_ylab)\n",
    "plt.xlabel(plot_x_lab)\n",
    "\n",
    "plt.figtext(0.01,1.05, \"A\", size=20, weight='bold')\n",
    "plt.figtext(0.47,1.05, \"B\", size=20, weight='bold')\n",
    "\n",
    "plt.tight_layout()\n",
    "plt.savefig(os.path.join(os.path.sep,FIGURES,'samplesizes'+str(n_times)+'_times_'+plot_type+'_'+dftype+'.png'), bbox_inches='tight', facecolor=\"white\")\n",
    "#plt.savefig(os.path.join(os.path.sep,FIGURES,'samplesizes'+str(n_times)+'_times_'+plot_type+'_'+dftype+'.png'), bbox_extra_artists=(lgd,), bbox_inches='tight', facecolor=\"white\")"
   ]
  },
  {
   "cell_type": "markdown",
   "metadata": {
    "id": "Iq_iEB25CYsv"
   },
   "source": [
    "# For imbalanced"
   ]
  },
  {
   "cell_type": "code",
   "execution_count": 5,
   "metadata": {},
   "outputs": [
    {
     "data": {
      "text/plain": [
       "(6428, 34)"
      ]
     },
     "execution_count": 5,
     "metadata": {},
     "output_type": "execute_result"
    }
   ],
   "source": [
    "dftype = \"reduced\"\n",
    "spec_df = pd.read_pickle(os.path.join(os.path.sep, DATA, 'df_focal_'+dftype+'.pkl'))\n",
    "spec_df.shape"
   ]
  },
  {
   "cell_type": "code",
   "execution_count": 7,
   "metadata": {
    "colab": {
     "base_uri": "https://localhost:8080/",
     "height": 1000
    },
    "executionInfo": {
     "elapsed": 629630,
     "status": "ok",
     "timestamp": 1603832104590,
     "user": {
      "displayName": "Mara Thomas",
      "photoUrl": "",
      "userId": "08285540157542181220"
     },
     "user_tz": -60
    },
    "id": "UAnzG2VUCZ84",
    "outputId": "b74dffa8-c338-441b-86a0-9f25f5f703d2"
   },
   "outputs": [
    {
     "name": "stdout",
     "output_type": "stream",
     "text": [
      "Processing N= 0.01\n",
      "Processing N= 0.02\n",
      "Processing N= 0.05\n",
      "Processing N= 0.1\n",
      "Processing N= 0.2\n",
      "Processing N= 0.3\n",
      "Processing N= 0.5\n",
      "Processing N= 1\n",
      "Processing N= 0.01\n",
      "Processing N= 0.02\n",
      "Processing N= 0.05\n",
      "Processing N= 0.1\n",
      "Processing N= 0.2\n",
      "Processing N= 0.3\n",
      "Processing N= 0.5\n",
      "Processing N= 1\n",
      "Processing N= 0.01\n",
      "Processing N= 0.02\n",
      "Processing N= 0.05\n",
      "Processing N= 0.1\n",
      "Processing N= 0.2\n",
      "Processing N= 0.3\n",
      "Processing N= 0.5\n",
      "Processing N= 1\n",
      "Processing N= 0.01\n",
      "Processing N= 0.02\n",
      "Processing N= 0.05\n",
      "Processing N= 0.1\n",
      "Processing N= 0.2\n",
      "Processing N= 0.3\n",
      "Processing N= 0.5\n",
      "Processing N= 1\n",
      "Processing N= 0.01\n",
      "Processing N= 0.02\n",
      "Processing N= 0.05\n",
      "Processing N= 0.1\n",
      "Processing N= 0.2\n",
      "Processing N= 0.3\n",
      "Processing N= 0.5\n",
      "Processing N= 1\n"
     ]
    }
   ],
   "source": [
    "k=5\n",
    "n_times = 5\n",
    "fracts = [0.01, 0.02,0.05,0.1,0.2,0.3,0.5,1]\n",
    "n_fract_table = np.zeros((len(fracts)*n_times,2+7+7))\n",
    "\n",
    "for i, fract in enumerate(fracts*n_times):\n",
    "    \n",
    "    print('Processing N=',fract)\n",
    "\n",
    "    # subset spec_df\n",
    "    labelcounts = pd.DataFrame(spec_df['call_lable'].value_counts())\n",
    "    subsets = []\n",
    "    for label in labelcounts.index:\n",
    "        subsets.append(spec_df[spec_df.call_lable == label].sample(frac=fract, replace=False)) #, random_state=2204))\n",
    "    \n",
    "    df = pd.concat(subsets, axis=0)\n",
    "\n",
    "    # UMAP\n",
    "    specs = [calc_zscore(s) for s in df.spectrograms]\n",
    "    data = create_padded_data(specs)\n",
    "    \n",
    "    reducer = umap.UMAP(low_memory=True, n_components = 3, min_dist=0, random_state=2204)\n",
    "    embedding = reducer.fit_transform(data)\n",
    "\n",
    "    # EVAL\n",
    "    labels = df.call_lable.values\n",
    "    calltypes = sorted(list(set(labels)))\n",
    "    \n",
    "    nn_stats = nn(embedding, labels, k)\n",
    "    \n",
    "    n_fract_table[i,0] = nn_stats.get_Snorm()\n",
    "    n_fract_table[i,1] = nn_stats.get_S()\n",
    "\n",
    "    n_fract_table[i,2:9] = nn_stats.get_ownclass_Snorm()\n",
    "    n_fract_table[i,9:16] = nn_stats.get_ownclass_S()"
   ]
  },
  {
   "cell_type": "code",
   "execution_count": 9,
   "metadata": {
    "executionInfo": {
     "elapsed": 656,
     "status": "ok",
     "timestamp": 1603832562410,
     "user": {
      "displayName": "Mara Thomas",
      "photoUrl": "",
      "userId": "08285540157542181220"
     },
     "user_tz": -60
    },
    "id": "3JXPTX9lv6kZ"
   },
   "outputs": [],
   "source": [
    "n_fract_table_df = pd.DataFrame(n_fract_table)\n",
    "n_fract_table_df['N per class'] = fracts*n_times\n",
    "class_tab_dict = {}\n",
    "class_tab_dict['reduced_means'] = n_fract_table_df.groupby('N per class').mean()\n",
    "class_tab_dict['reduced_stds'] = n_fract_table_df.groupby('N per class').std()"
   ]
  },
  {
   "cell_type": "code",
   "execution_count": 10,
   "metadata": {
    "executionInfo": {
     "elapsed": 630,
     "status": "ok",
     "timestamp": 1603833341921,
     "user": {
      "displayName": "Mara Thomas",
      "photoUrl": "",
      "userId": "08285540157542181220"
     },
     "user_tz": -60
    },
    "id": "7HkIkYqCrBzb"
   },
   "outputs": [],
   "source": [
    "# with error bars\n",
    "#dftype = 'balanced'\n",
    "dftype = 'reduced'\n",
    "\n",
    "plot_type = 'norm'\n",
    "plot_type = 'abs'\n",
    "\n",
    "if dftype=='balanced':\n",
    "    plot_x_lab = \"N per class\"\n",
    "    means_df = class_tab_dict['balanced_means']\n",
    "    stds_df = class_tab_dict['balanced_stds']\n",
    "    xax = class_sizes\n",
    "else:\n",
    "    plot_x_lab = \"N total\"\n",
    "    means_df = class_tab_dict['reduced_means']\n",
    "    stds_df = class_tab_dict['reduced_stds']\n",
    "    xax = [x*spec_df.shape[0] for x in fracts]\n",
    "\n",
    "if plot_type=='norm':\n",
    "    from_c = 2\n",
    "    to_c = 9\n",
    "    mean_c = 0\n",
    "    mean_ylab = \"Embedding score Snorm\"\n",
    "    all_ylab = \"Same-class neighborhood probability Pnorm\"\n",
    "    plot_ylim_l = -0.5\n",
    "    plot_ylim_u = 3\n",
    "else:\n",
    "    from_c = 9\n",
    "    to_c = 16\n",
    "    mean_c = 1\n",
    "    mean_ylab = \"Embedding score S\"\n",
    "    all_ylab = \"Same-class neighborhood probability P\"\n",
    "    plot_ylim_l = 0\n",
    "    plot_ylim_u = 100"
   ]
  },
  {
   "cell_type": "code",
   "execution_count": 11,
   "metadata": {
    "colab": {
     "base_uri": "https://localhost:8080/",
     "height": 337
    },
    "executionInfo": {
     "elapsed": 1551,
     "status": "ok",
     "timestamp": 1603833380659,
     "user": {
      "displayName": "Mara Thomas",
      "photoUrl": "",
      "userId": "08285540157542181220"
     },
     "user_tz": -60
    },
    "id": "jo5jIHyQtfCB",
    "outputId": "0aafd5ab-a44e-4570-f469-52f24eba4d04"
   },
   "outputs": [
    {
     "data": {
      "image/png": "[encoded data removed]",
      "text/plain": [
       "<Figure size 1008x360 with 2 Axes>"
      ]
     },
     "metadata": {
      "needs_background": "light"
     },
     "output_type": "display_data"
    }
   ],
   "source": [
    "# with error bars\n",
    "plt.figure(figsize=(14,5))\n",
    "\n",
    "plt.subplot(1, 2, 1)\n",
    "#fig = plt.figure(figsize= (7, 8))\n",
    "\n",
    "sub_table = np.asarray(means_df.iloc[:,from_c:to_c])\n",
    "sub_table_stds = np.asarray(stds_df.iloc[:,from_c:to_c])\n",
    "\n",
    "pal = sns.color_palette(\"Set2\", n_colors=len(calltypes))\n",
    "color_dict = dict(zip(calltypes, pal))\n",
    "\n",
    "plt.plot(xax, means_df.iloc[:,mean_c], marker='o',linewidth=2, markersize=4, color = 'black',label='mean')\n",
    "plt.errorbar(xax, means_df.iloc[:,mean_c], yerr=sub_table_stds[:,1], capsize=5,color='black')\n",
    "\n",
    "#lgd = plt.legend(bbox_to_anchor=(1.2, 0.86), loc='right')\n",
    "\n",
    "plt.ylim(plot_ylim_l,plot_ylim_u)\n",
    "plt.ylabel(mean_ylab)\n",
    "plt.xlabel(plot_x_lab)\n",
    "\n",
    "\n",
    "plt.subplot(1, 2, 2)\n",
    "#fig = plt.figure(figsize= (7, 8))\n",
    "sub_table = np.asarray(means_df.iloc[:,from_c:to_c])\n",
    "sub_table_stds = np.asarray(stds_df.iloc[:,from_c:to_c])\n",
    "\n",
    "pal = sns.color_palette(\"Set2\", n_colors=len(calltypes))\n",
    "color_dict = dict(zip(calltypes, pal))\n",
    "\n",
    "\n",
    "for i,call_type in enumerate(calltypes):\n",
    "    plt.plot(xax, sub_table[:,i], marker='o',linewidth=2, markersize=4, color = color_dict[call_type],label=call_type)\n",
    "    plt.errorbar(xax, sub_table[:,i], yerr=sub_table_stds[:,i], capsize=5, color = color_dict[call_type])\n",
    "\n",
    "lgd = plt.legend(bbox_to_anchor=(1.2, 0.8), loc='right')\n",
    "\n",
    "plt.ylim(plot_ylim_l,plot_ylim_u)\n",
    "plt.ylabel(all_ylab)\n",
    "plt.xlabel(plot_x_lab)\n",
    "\n",
    "plt.figtext(0.01,1.05, \"A\", size=20, weight='bold')\n",
    "plt.figtext(0.47,1.05, \"B\", size=20, weight='bold')\n",
    "\n",
    "plt.tight_layout()\n",
    "\n",
    "plt.savefig(os.path.join(os.path.sep,FIGURES,'samplesizes'+str(n_times)+'_times_'+plot_type+'_'+dftype+'.png'), bbox_inches='tight', facecolor=\"white\")"
   ]
  },
  {
   "cell_type": "code",
   "execution_count": null,
   "metadata": {},
   "outputs": [],
   "source": []
  }
 ],
 "metadata": {
  "colab": {
   "authorship_tag": "ABX9TyPNF7/nu9ke2cXq87zPwtxB",
   "collapsed_sections": [],
   "name": "08_meerkat_different_dataset_sizes.ipynb",
   "provenance": [],
   "toc_visible": true
  },
  "kernelspec": {
   "display_name": "Python 3",
   "language": "python",
   "name": "python3"
  },
  "language_info": {
   "codemirror_mode": {
    "name": "ipython",
    "version": 3
   },
   "file_extension": ".py",
   "mimetype": "text/x-python",
   "name": "python",
   "nbconvert_exporter": "python",
   "pygments_lexer": "ipython3",
   "version": "3.7.10"
  }
 },
 "nbformat": 4,
 "nbformat_minor": 4
}
