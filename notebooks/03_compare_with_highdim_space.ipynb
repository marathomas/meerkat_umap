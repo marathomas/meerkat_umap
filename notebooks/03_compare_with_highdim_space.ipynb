{
 "cells": [
  {
   "cell_type": "markdown",
   "id": "bb185bcc-55a7-4910-8fd7-e150b8b8036f",
   "metadata": {},
   "source": [
    "# Compare latent space to high-dimensional space"
   ]
  },
  {
   "cell_type": "code",
   "execution_count": 2,
   "id": "3cb530f1-6951-4db1-b337-c01a0a3042b9",
   "metadata": {},
   "outputs": [],
   "source": [
    "import os\n",
    "import pandas as pd\n",
    "import sys\n",
    "import numpy as np\n",
    "from pandas.core.common import flatten\n",
    "import pickle\n",
    "import umap\n",
    "from pathlib import Path\n",
    "import datetime\n",
    "import scipy\n",
    "import matplotlib.pyplot as plt\n",
    "import seaborn as sns\n",
    "import matplotlib"
   ]
  },
  {
   "cell_type": "code",
   "execution_count": 3,
   "id": "956edaaf-6121-4ab7-bcce-70b7c6e94138",
   "metadata": {},
   "outputs": [],
   "source": [
    "from preprocessing_functions import pad_spectro, calc_zscore, create_padded_data\n",
    "from evaluation_functions import get_knn, make_nn_stats_dict, make_statstabs"
   ]
  },
  {
   "cell_type": "code",
   "execution_count": 4,
   "id": "c7b3fade-caed-41be-a214-a1497a8ba7ec",
   "metadata": {},
   "outputs": [],
   "source": [
    "wd = os.getcwd()\n",
    "\n",
    "DATA = os.path.join(os.path.sep, str(Path(wd).parents[0]), \"data\", \"processed\")\n",
    "FIGURES = os.path.join(os.path.sep, str(Path(wd).parents[0]), \"reports\", \"figures\")"
   ]
  },
  {
   "cell_type": "code",
   "execution_count": 5,
   "id": "a0e82c2c-5d6a-4dc7-bc95-0abe1e575438",
   "metadata": {},
   "outputs": [],
   "source": [
    "dftype = \"reduced\"\n",
    "spec_df = pd.read_pickle(os.path.join(os.path.sep, DATA, \"df_focal_\"+dftype+\".pkl\"))\n",
    "\n",
    "labels = spec_df.call_lable.values\n",
    "calltypes = sorted(list(set(labels)))\n",
    "\n",
    "specs = spec_df.spectrograms\n",
    "specs = [calc_zscore(x) for x in specs]\n",
    "original_embedding = create_padded_data(specs)"
   ]
  },
  {
   "cell_type": "markdown",
   "id": "fd4c4c5c-a1f8-4823-b650-c23faf2086a1",
   "metadata": {},
   "source": [
    "## Compare embedding score S for different k's"
   ]
  },
  {
   "cell_type": "code",
   "execution_count": 20,
   "id": "2892a9f0-1e74-422b-87e4-1a008aeb5ac8",
   "metadata": {},
   "outputs": [],
   "source": [
    "# Make 5 UMAPs\n",
    "\n",
    "n_times=5\n",
    "embeddings_dict={}\n",
    "for i in range(n_times):\n",
    "    reducer = umap.UMAP(min_dist=0, metric= \"euclidean\", n_components = 3)\n",
    "    embeddings_dict[i] = reducer.fit_transform(original_embedding)\n",
    "  "
   ]
  },
  {
   "cell_type": "code",
   "execution_count": 30,
   "id": "f8331a54-1006-4888-91ef-cd19a8a4b9e5",
   "metadata": {},
   "outputs": [],
   "source": [
    "# UMAP space\n",
    "\n",
    "#ks = [1,3,5,8,10,15,20,30,40]\n",
    "ks = [1,3,5,8,10,15,20,30,40,50,100,200]\n",
    "\n",
    "metrics_tab = np.zeros((len(ks)*n_times,2))\n",
    "\n",
    "i=0\n",
    "for embedding in embeddings_dict.values():\n",
    "    indices, distances = get_knn(np.max(np.asarray(ks)),embedding)\n",
    "    for k_num,k in enumerate(ks):\n",
    "        these_indices = [x[0:k] for x in indices]\n",
    "        nn_stats_dict = make_nn_stats_dict(calltypes, labels, these_indices)\n",
    "        stats_tab, stats_tab_norm = make_statstabs(nn_stats_dict, calltypes, labels, k)\n",
    "\n",
    "        metrics_tab[i,0] = np.mean(np.diagonal(stats_tab.iloc[:-1,]))\n",
    "        metrics_tab[i,1] = np.mean(np.diagonal(stats_tab_norm))\n",
    "        i+=1\n",
    "        \n",
    "metrics_tab_df = pd.DataFrame(metrics_tab)\n",
    "metrics_tab_df['k'] = ks*n_times\n",
    "metrics_tab_df.columns = ['S', 'Snorm', 'k']\n",
    "\n",
    "means_df = metrics_tab_df.groupby('k').mean()\n",
    "stds_df = metrics_tab_df.groupby('k').std()\n",
    "\n",
    "\n",
    "# Original space\n",
    "\n",
    "metrics_tab_f = np.zeros((len(ks),2))\n",
    "\n",
    "indices, distances = get_knn(np.max(np.asarray(ks)),original_embedding)\n",
    "\n",
    "for k_num,k in enumerate(ks):\n",
    "    these_indices = [x[0:k] for x in indices]\n",
    "    nn_stats_dict = make_nn_stats_dict(calltypes, labels, these_indices)\n",
    "    stats_tab, stats_tab_norm = make_statstabs(nn_stats_dict, calltypes, labels,k)\n",
    "\n",
    "    metrics_tab_f[k_num,0] = np.mean(np.diagonal(stats_tab.iloc[:-1,]))\n",
    "    metrics_tab_f[k_num,1] = np.mean(np.diagonal(stats_tab_norm))\n",
    "\n",
    "metrics_tab_f_df = pd.DataFrame(metrics_tab_f)\n",
    "metrics_tab_f_df['k'] = ks\n",
    "metrics_tab_f_df.columns = ['S', 'Snorm', 'k']"
   ]
  },
  {
   "cell_type": "code",
   "execution_count": 31,
   "id": "4a301ea8-7eb9-46ab-8fc3-d641df9e7293",
   "metadata": {},
   "outputs": [],
   "source": [
    "# Original space\n",
    "\n",
    "metrics_tab_f = np.zeros((len(ks),2))\n",
    "\n",
    "indices, distances = get_knn(np.max(np.asarray(ks)),original_embedding)\n",
    "\n",
    "for k_num,k in enumerate(ks):\n",
    "    these_indices = [x[0:k] for x in indices]\n",
    "    nn_stats_dict = make_nn_stats_dict(calltypes, labels, these_indices)\n",
    "    stats_tab, stats_tab_norm = make_statstabs(nn_stats_dict, calltypes, labels,k)\n",
    "\n",
    "    metrics_tab_f[k_num,0] = np.mean(np.diagonal(stats_tab.iloc[:-1,]))\n",
    "    metrics_tab_f[k_num,1] = np.mean(np.diagonal(stats_tab_norm))\n",
    "\n",
    "metrics_tab_f_df = pd.DataFrame(metrics_tab_f)\n",
    "metrics_tab_f_df['k'] = ks\n",
    "metrics_tab_f_df.columns = ['S', 'Snorm', 'k']"
   ]
  },
  {
   "cell_type": "code",
   "execution_count": 36,
   "id": "a3c905de-e5e3-4084-893a-64d5d90a1a43",
   "metadata": {},
   "outputs": [
    {
     "data": {
      "text/html": [
       "<div>\n",
       "<style scoped>\n",
       "    .dataframe tbody tr th:only-of-type {\n",
       "        vertical-align: middle;\n",
       "    }\n",
       "\n",
       "    .dataframe tbody tr th {\n",
       "        vertical-align: top;\n",
       "    }\n",
       "\n",
       "    .dataframe thead th {\n",
       "        text-align: right;\n",
       "    }\n",
       "</style>\n",
       "<table border=\"1\" class=\"dataframe\">\n",
       "  <thead>\n",
       "    <tr style=\"text-align: right;\">\n",
       "      <th></th>\n",
       "      <th>S</th>\n",
       "      <th>Snorm</th>\n",
       "      <th>k</th>\n",
       "    </tr>\n",
       "  </thead>\n",
       "  <tbody>\n",
       "    <tr>\n",
       "      <th>0</th>\n",
       "      <td>70.685514</td>\n",
       "      <td>2.607156</td>\n",
       "      <td>1</td>\n",
       "    </tr>\n",
       "    <tr>\n",
       "      <th>1</th>\n",
       "      <td>67.492631</td>\n",
       "      <td>2.511618</td>\n",
       "      <td>3</td>\n",
       "    </tr>\n",
       "    <tr>\n",
       "      <th>2</th>\n",
       "      <td>65.586885</td>\n",
       "      <td>2.451023</td>\n",
       "      <td>5</td>\n",
       "    </tr>\n",
       "    <tr>\n",
       "      <th>3</th>\n",
       "      <td>63.885232</td>\n",
       "      <td>2.400733</td>\n",
       "      <td>8</td>\n",
       "    </tr>\n",
       "    <tr>\n",
       "      <th>4</th>\n",
       "      <td>62.943168</td>\n",
       "      <td>2.369164</td>\n",
       "      <td>10</td>\n",
       "    </tr>\n",
       "    <tr>\n",
       "      <th>5</th>\n",
       "      <td>60.973041</td>\n",
       "      <td>2.303188</td>\n",
       "      <td>15</td>\n",
       "    </tr>\n",
       "    <tr>\n",
       "      <th>6</th>\n",
       "      <td>59.706087</td>\n",
       "      <td>2.262391</td>\n",
       "      <td>20</td>\n",
       "    </tr>\n",
       "    <tr>\n",
       "      <th>7</th>\n",
       "      <td>57.469740</td>\n",
       "      <td>2.182281</td>\n",
       "      <td>30</td>\n",
       "    </tr>\n",
       "    <tr>\n",
       "      <th>8</th>\n",
       "      <td>55.728498</td>\n",
       "      <td>2.119245</td>\n",
       "      <td>40</td>\n",
       "    </tr>\n",
       "    <tr>\n",
       "      <th>9</th>\n",
       "      <td>54.406875</td>\n",
       "      <td>2.067839</td>\n",
       "      <td>50</td>\n",
       "    </tr>\n",
       "    <tr>\n",
       "      <th>10</th>\n",
       "      <td>49.712937</td>\n",
       "      <td>1.881365</td>\n",
       "      <td>100</td>\n",
       "    </tr>\n",
       "    <tr>\n",
       "      <th>11</th>\n",
       "      <td>43.885293</td>\n",
       "      <td>1.620473</td>\n",
       "      <td>200</td>\n",
       "    </tr>\n",
       "  </tbody>\n",
       "</table>\n",
       "</div>"
      ],
      "text/plain": [
       "            S     Snorm    k\n",
       "0   70.685514  2.607156    1\n",
       "1   67.492631  2.511618    3\n",
       "2   65.586885  2.451023    5\n",
       "3   63.885232  2.400733    8\n",
       "4   62.943168  2.369164   10\n",
       "5   60.973041  2.303188   15\n",
       "6   59.706087  2.262391   20\n",
       "7   57.469740  2.182281   30\n",
       "8   55.728498  2.119245   40\n",
       "9   54.406875  2.067839   50\n",
       "10  49.712937  1.881365  100\n",
       "11  43.885293  1.620473  200"
      ]
     },
     "execution_count": 36,
     "metadata": {},
     "output_type": "execute_result"
    }
   ],
   "source": [
    "metrics_tab_f_df"
   ]
  },
  {
   "cell_type": "code",
   "execution_count": 37,
   "id": "557aa96f-5eb9-4968-953e-74f9cf1f874e",
   "metadata": {},
   "outputs": [
    {
     "data": {
      "text/html": [
       "<div>\n",
       "<style scoped>\n",
       "    .dataframe tbody tr th:only-of-type {\n",
       "        vertical-align: middle;\n",
       "    }\n",
       "\n",
       "    .dataframe tbody tr th {\n",
       "        vertical-align: top;\n",
       "    }\n",
       "\n",
       "    .dataframe thead th {\n",
       "        text-align: right;\n",
       "    }\n",
       "</style>\n",
       "<table border=\"1\" class=\"dataframe\">\n",
       "  <thead>\n",
       "    <tr style=\"text-align: right;\">\n",
       "      <th></th>\n",
       "      <th>S</th>\n",
       "      <th>Snorm</th>\n",
       "    </tr>\n",
       "    <tr>\n",
       "      <th>k</th>\n",
       "      <th></th>\n",
       "      <th></th>\n",
       "    </tr>\n",
       "  </thead>\n",
       "  <tbody>\n",
       "    <tr>\n",
       "      <th>1</th>\n",
       "      <td>63.842204</td>\n",
       "      <td>2.420716</td>\n",
       "    </tr>\n",
       "    <tr>\n",
       "      <th>3</th>\n",
       "      <td>62.344555</td>\n",
       "      <td>2.372834</td>\n",
       "    </tr>\n",
       "    <tr>\n",
       "      <th>5</th>\n",
       "      <td>61.605483</td>\n",
       "      <td>2.347721</td>\n",
       "    </tr>\n",
       "    <tr>\n",
       "      <th>8</th>\n",
       "      <td>60.591908</td>\n",
       "      <td>2.311939</td>\n",
       "    </tr>\n",
       "    <tr>\n",
       "      <th>10</th>\n",
       "      <td>60.121462</td>\n",
       "      <td>2.295688</td>\n",
       "    </tr>\n",
       "    <tr>\n",
       "      <th>15</th>\n",
       "      <td>59.270318</td>\n",
       "      <td>2.264199</td>\n",
       "    </tr>\n",
       "    <tr>\n",
       "      <th>20</th>\n",
       "      <td>58.597530</td>\n",
       "      <td>2.237855</td>\n",
       "    </tr>\n",
       "    <tr>\n",
       "      <th>30</th>\n",
       "      <td>57.394609</td>\n",
       "      <td>2.199427</td>\n",
       "    </tr>\n",
       "    <tr>\n",
       "      <th>40</th>\n",
       "      <td>56.457747</td>\n",
       "      <td>2.166019</td>\n",
       "    </tr>\n",
       "    <tr>\n",
       "      <th>50</th>\n",
       "      <td>55.646798</td>\n",
       "      <td>2.137310</td>\n",
       "    </tr>\n",
       "    <tr>\n",
       "      <th>100</th>\n",
       "      <td>53.457422</td>\n",
       "      <td>2.051293</td>\n",
       "    </tr>\n",
       "    <tr>\n",
       "      <th>200</th>\n",
       "      <td>50.978618</td>\n",
       "      <td>1.949191</td>\n",
       "    </tr>\n",
       "  </tbody>\n",
       "</table>\n",
       "</div>"
      ],
      "text/plain": [
       "             S     Snorm\n",
       "k                       \n",
       "1    63.842204  2.420716\n",
       "3    62.344555  2.372834\n",
       "5    61.605483  2.347721\n",
       "8    60.591908  2.311939\n",
       "10   60.121462  2.295688\n",
       "15   59.270318  2.264199\n",
       "20   58.597530  2.237855\n",
       "30   57.394609  2.199427\n",
       "40   56.457747  2.166019\n",
       "50   55.646798  2.137310\n",
       "100  53.457422  2.051293\n",
       "200  50.978618  1.949191"
      ]
     },
     "execution_count": 37,
     "metadata": {},
     "output_type": "execute_result"
    }
   ],
   "source": [
    "means_df"
   ]
  },
  {
   "cell_type": "code",
   "execution_count": 35,
   "id": "0f50665a-a989-468d-aaa1-2eabc41f86d1",
   "metadata": {},
   "outputs": [
    {
     "name": "stdout",
     "output_type": "stream",
     "text": [
      "/home/mthomas/Documents/MPI_work/projects/meerkat/meerkat_umap_pv/reports/figures/2021-07-08_comparison_to_original.jpg\n"
     ]
    },
    {
     "data": {
      "image/png": "[encoded data removed]",
      "text/plain": [
       "<Figure size 432x288 with 1 Axes>"
      ]
     },
     "metadata": {
      "needs_background": "light"
     },
     "output_type": "display_data"
    }
   ],
   "source": [
    "var ='S'\n",
    "\n",
    "plt.plot(ks, metrics_tab_f_df[var], marker='o',linewidth=2, markersize=4, color ='red',label='Original')\n",
    "\n",
    "plt.plot(ks, means_df[var], color = 'red', marker='o', linestyle='dotted', linewidth=2, markersize=4,label='UMAP')\n",
    "plt.errorbar(ks, means_df[var], yerr=stds_df[var], linestyle='dotted', capsize=5, color = 'red')\n",
    "\n",
    "\n",
    "plt.legend(numpoints=2)\n",
    "\n",
    "plt.ylabel('Embedding score '+var)\n",
    "plt.xlabel('K nearest neighbors')\n",
    "plt.ylim(40,72)\n",
    "outname=os.path.join(os.path.sep, FIGURES, datetime.datetime.today().strftime('%Y-%m-%d')+'_comparison_to_original.jpg')\n",
    "print(outname)\n",
    "plt.savefig(outname)"
   ]
  },
  {
   "cell_type": "markdown",
   "id": "b2321981-1715-45d2-a56d-ca0691afcd84",
   "metadata": {},
   "source": [
    "## Original space evaluation matrix"
   ]
  },
  {
   "cell_type": "code",
   "execution_count": 7,
   "id": "ee7ab519-14e6-4543-a0ad-13467dc6e5e9",
   "metadata": {},
   "outputs": [],
   "source": [
    "from evaluation_functions import nn, sil"
   ]
  },
  {
   "cell_type": "code",
   "execution_count": 8,
   "id": "d4d2f69d-d06a-4d34-8aed-f324e2ddc575",
   "metadata": {},
   "outputs": [],
   "source": [
    "nn_stats = nn(original_embedding, np.asarray(labels), k=5)"
   ]
  },
  {
   "cell_type": "code",
   "execution_count": 12,
   "id": "725ad04b-9141-4df5-9d33-7ab933ac9bd0",
   "metadata": {},
   "outputs": [
    {
     "name": "stdout",
     "output_type": "stream",
     "text": [
      "Log final metric (unweighted): 65.58688511753121\n",
      "Abs final metric (unweighted): 2.4510227163786245\n"
     ]
    }
   ],
   "source": [
    "print(\"Log final metric (unweighted):\",nn_stats.get_S())\n",
    "print(\"Abs final metric (unweighted):\",nn_stats.get_Snorm())"
   ]
  },
  {
   "cell_type": "code",
   "execution_count": 11,
   "id": "2a3e7395-9fc1-48c1-a8dd-659361d2a434",
   "metadata": {},
   "outputs": [
    {
     "name": "stdout",
     "output_type": "stream",
     "text": [
      "/home/mthomas/Documents/MPI_work/projects/meerkat/meerkat_umap_pv/reports/figures/heatS_UMAP_reduced_original.png\n"
     ]
    },
    {
     "data": {
      "image/png": "[encoded data removed]",
      "text/plain": [
       "<Figure size 432x432 with 1 Axes>"
      ]
     },
     "metadata": {
      "needs_background": "light"
     },
     "output_type": "display_data"
    }
   ],
   "source": [
    "outname = os.path.join(os.path.sep, FIGURES, 'heatS_UMAP_'+dftype+'_original.png')\n",
    "print(outname)\n",
    "nn_stats.plot_heat_S(outname=outname)"
   ]
  },
  {
   "cell_type": "code",
   "execution_count": 13,
   "id": "e7f36d1b-5ad3-4047-a720-4383e114eff8",
   "metadata": {},
   "outputs": [
    {
     "name": "stdout",
     "output_type": "stream",
     "text": [
      "/home/mthomas/Documents/MPI_work/projects/meerkat/meerkat_umap_pv/reports/figures/heatSnorm_UMAP_reduced_original.png\n"
     ]
    },
    {
     "data": {
      "image/png": "[encoded data removed]",
      "text/plain": [
       "<Figure size 432x432 with 1 Axes>"
      ]
     },
     "metadata": {
      "needs_background": "light"
     },
     "output_type": "display_data"
    }
   ],
   "source": [
    "outname = os.path.join(os.path.sep, FIGURES, 'heatSnorm_UMAP_'+dftype+'_original.png')\n",
    "print(outname)\n",
    "nn_stats.plot_heat_Snorm(outname=outname)"
   ]
  },
  {
   "cell_type": "markdown",
   "id": "d414ba66-2ddb-4cf1-9319-1ad9b87bf06c",
   "metadata": {},
   "source": [
    "## Original space Silhouette plot"
   ]
  },
  {
   "cell_type": "code",
   "execution_count": 38,
   "id": "a527d9e7-e92d-474b-a939-6a5d9d70f123",
   "metadata": {},
   "outputs": [],
   "source": [
    "sil_stats = sil(original_embedding, labels)"
   ]
  },
  {
   "cell_type": "code",
   "execution_count": 39,
   "id": "24b0e0e2-bef8-4822-bcc5-c7ca39501a6f",
   "metadata": {},
   "outputs": [
    {
     "name": "stdout",
     "output_type": "stream",
     "text": [
      "/home/mthomas/Documents/MPI_work/projects/meerkat/meerkat_umap_pv/reports/figures/silplot_UMAP_reduced_original.png\n"
     ]
    },
    {
     "data": {
      "image/png": "[encoded data removed]",
      "text/plain": [
       "<Figure size 648x504 with 1 Axes>"
      ]
     },
     "metadata": {
      "needs_background": "light"
     },
     "output_type": "display_data"
    }
   ],
   "source": [
    "outname = os.path.join(os.path.sep, FIGURES, 'silplot_UMAP_'+dftype+'_original.png')\n",
    "\n",
    "print(outname)\n",
    "sil_stats.plot_sil(outname=outname)"
   ]
  },
  {
   "cell_type": "code",
   "execution_count": 40,
   "id": "ee9f06ee-4954-4922-b8cf-e9f7cf900f66",
   "metadata": {},
   "outputs": [
    {
     "data": {
      "text/plain": [
       "0.0298155402510341"
      ]
     },
     "execution_count": 40,
     "metadata": {},
     "output_type": "execute_result"
    }
   ],
   "source": [
    "sil_stats.get_avrg_score()"
   ]
  },
  {
   "cell_type": "markdown",
   "id": "486a683f-bc71-4281-8c42-fff86de22b14",
   "metadata": {},
   "source": [
    "## Original space between and within distances"
   ]
  },
  {
   "cell_type": "code",
   "execution_count": 5,
   "id": "721e7e80-d7f8-4ad7-a9f9-95d1125bffd7",
   "metadata": {},
   "outputs": [],
   "source": [
    "from scipy.spatial.distance import pdist, squareform"
   ]
  },
  {
   "cell_type": "code",
   "execution_count": 6,
   "id": "bd0b5e39-9ef9-4ba0-94ef-40c15727505b",
   "metadata": {},
   "outputs": [],
   "source": [
    "distmat_original = squareform(pdist(original_embedding, metric='euclidean'))\n",
    "labels = np.asarray(labels)\n",
    "\n",
    "self_dists={}\n",
    "other_dists={}\n",
    "\n",
    "for calltype in calltypes:\n",
    "    x=distmat_original[np.where(labels==calltype)]\n",
    "    x = np.transpose(x)  \n",
    "    y = x[np.where(labels==calltype)]\n",
    "   \n",
    "    self_dists[calltype] = y[np.triu_indices(n=y.shape[0], m=y.shape[1],k = 1)]\n",
    "    y = x[np.where(labels!=calltype)]\n",
    "    other_dists[calltype] = y[np.triu_indices(n=y.shape[0], m=y.shape[1], k = 1)]"
   ]
  },
  {
   "cell_type": "code",
   "execution_count": 63,
   "id": "9c90250b-882b-4e33-a76f-fadd8c833ff8",
   "metadata": {},
   "outputs": [
    {
     "name": "stdout",
     "output_type": "stream",
     "text": [
      "/home/mthomas/Documents/MPI_work/projects/meerkat/meerkat_umap_pv/reports/figures/2021-06-08_distanceswithinwithout_reduced_original.jpg\n"
     ]
    },
    {
     "data": {
      "image/png": "[encoded data removed]",
      "text/plain": [
       "<Figure size 576x576 with 7 Axes>"
      ]
     },
     "metadata": {
      "needs_background": "light"
     },
     "output_type": "display_data"
    }
   ],
   "source": [
    "plt.figure(figsize=(8, 8))\n",
    "i=1\n",
    "\n",
    "xmin=20\n",
    "xmax=90\n",
    "nbins=50\n",
    "    \n",
    "for calltype in calltypes:\n",
    "    \n",
    "    plt.subplot(4, 2, i)\n",
    "    n, bins, patches = plt.hist(x=self_dists[calltype], label=\"within\", density=True,\n",
    "                              #bins='auto', color='green',\n",
    "                              bins=np.linspace(xmin, xmax, nbins), color='green',\n",
    "                              alpha=0.5, rwidth=0.85)\n",
    "    \n",
    "    plt.vlines(x=np.mean(self_dists[calltype]),ymin=0,ymax=0.5,color='green', linestyles='dotted')\n",
    "\n",
    "    n, bins, patches = plt.hist(x=other_dists[calltype], label=\"outside\", density=True,\n",
    "                              bins=np.linspace(xmin, xmax, nbins), color='red',\n",
    "                              #bins='auto', color='red',\n",
    "                              alpha=0.5, rwidth=0.85)\n",
    "  \n",
    "    plt.vlines(x=np.mean(other_dists[calltype]),ymin=0,ymax=0.5,color='red', linestyles='dotted')\n",
    "  \n",
    "    s, pval = scipy.stats.ttest_ind(self_dists[calltype],other_dists[calltype])\n",
    "\n",
    "    if pval<0.01:\n",
    "        pval = \"p<0.01\"\n",
    "    else:\n",
    "        pval = \"p=\"+str(round(pval,2))\n",
    "\n",
    "    plt.legend()\n",
    "    plt.grid(axis='y', alpha=0.75)\n",
    "    #plt.title(calltype+\" (\"+pval+\")\")\n",
    "    plt.title(calltype)\n",
    "    #plt.xlim(xmin,xmax)\n",
    "    plt.ylim(0, 0.2)\n",
    "    if i==len(calltypes):      \n",
    "        plt.ylabel('Density')\n",
    "        plt.xlabel('Euclidean distance in original space')\n",
    "\n",
    "    i=i+1\n",
    "\n",
    "plt.tight_layout()\n",
    "outname=os.path.join(os.path.sep, FIGURES, 'distanceswithinwithout_reduced_original.jpg')\n",
    "print(outname)\n",
    "plt.savefig(outname)"
   ]
  },
  {
   "cell_type": "code",
   "execution_count": 1,
   "id": "9b74eceb-a57b-4697-a80a-921ad93de3df",
   "metadata": {},
   "outputs": [],
   "source": [
    "# Nearest neighbor preservation"
   ]
  },
  {
   "cell_type": "code",
   "execution_count": 7,
   "id": "d3ce3bfc-bda2-474f-8d6e-af37e5d77ffc",
   "metadata": {},
   "outputs": [],
   "source": [
    "from evaluation_functions import get_knn"
   ]
  },
  {
   "cell_type": "code",
   "execution_count": 6,
   "id": "caf2cee5-ded5-4810-80a6-40fa20feea5e",
   "metadata": {},
   "outputs": [
    {
     "name": "stdout",
     "output_type": "stream",
     "text": [
      "/home/mthomas/Documents/MPI_work/projects/meerkat/meerkat_umap_pv/data/processed/basic_UMAP_3D_reduced_default_params.csv\n"
     ]
    }
   ],
   "source": [
    "embedding_filename = os.path.join(os.path.sep, DATA,'basic_UMAP_3D_'+dftype+'_default_params.csv')\n",
    "print(embedding_filename)\n",
    "embedding = np.loadtxt(embedding_filename, delimiter=\";\")"
   ]
  },
  {
   "cell_type": "code",
   "execution_count": 30,
   "id": "9f597860-72ed-4be9-aeb4-6ad21c16385f",
   "metadata": {},
   "outputs": [],
   "source": [
    "k=10\n",
    "indices, distances = get_knn(k,embedding)\n",
    "indices_original, distance_original = get_knn(k, original_embedding)"
   ]
  },
  {
   "cell_type": "code",
   "execution_count": 11,
   "id": "a1a57b5b-b8a1-4554-ad94-c892d00ab30a",
   "metadata": {},
   "outputs": [
    {
     "data": {
      "text/plain": [
       "(6430, 5)"
      ]
     },
     "execution_count": 11,
     "metadata": {},
     "output_type": "execute_result"
    }
   ],
   "source": [
    "indices.shape"
   ]
  },
  {
   "cell_type": "code",
   "execution_count": 12,
   "id": "394b9fd4-3f5a-4e0a-adc7-3a9528b505a6",
   "metadata": {},
   "outputs": [
    {
     "data": {
      "text/plain": [
       "(6430, 5)"
      ]
     },
     "execution_count": 12,
     "metadata": {},
     "output_type": "execute_result"
    }
   ],
   "source": [
    "indices_original.shape"
   ]
  },
  {
   "cell_type": "code",
   "execution_count": 13,
   "id": "3ed1cddd-b4dd-4850-a919-a60bcbe41d87",
   "metadata": {},
   "outputs": [
    {
     "data": {
      "text/plain": [
       "2083"
      ]
     },
     "execution_count": 13,
     "metadata": {},
     "output_type": "execute_result"
    }
   ],
   "source": [
    "np.sum(indices == indices_original)"
   ]
  },
  {
   "cell_type": "code",
   "execution_count": 32,
   "id": "1b12ce62-9f93-4e11-b9c0-5a94f8473056",
   "metadata": {},
   "outputs": [
    {
     "name": "stdout",
     "output_type": "stream",
     "text": [
      "1 :  971 / 5459\n",
      "1 :  0.1510108864696734\n",
      "2 :  2642 / 10218\n",
      "2 :  0.20544323483670296\n",
      "3 :  4455 / 14835\n",
      "3 :  0.23094867807153965\n",
      "4 :  6344 / 19376\n",
      "4 :  0.24665629860031105\n",
      "5 :  8325 / 23825\n",
      "5 :  0.25894245723172626\n",
      "6 :  10366 / 28214\n",
      "6 :  0.26868843960601346\n",
      "7 :  12432 / 32578\n",
      "7 :  0.27620528771384134\n",
      "8 :  14508 / 36932\n",
      "8 :  0.28203732503888024\n",
      "9 :  16721 / 41149\n",
      "9 :  0.288940729220667\n",
      "10 :  18922 / 45378\n",
      "10 :  0.2942768273716952\n",
      "15 :  29942 / 66508\n",
      "15 :  0.310440642820114\n",
      "20 :  41009 / 87591\n",
      "20 :  0.31888802488335927\n",
      "30 :  64039 / 128861\n",
      "30 :  0.3319803006739243\n"
     ]
    }
   ],
   "source": [
    "for k in [1,2,3,4,5,6,7,8,9,10,15,20,30]:\n",
    "    indices, distances = get_knn(k,embedding)\n",
    "    indices_original, distance_original = get_knn(k, original_embedding)\n",
    "\n",
    "    count_agree = 0\n",
    "    count_disagree = 0\n",
    "\n",
    "    for i in range(indices_original.shape[0]):\n",
    "        for j in range(indices_original.shape[1]):\n",
    "            if (indices_original[i,j] in indices[i,:]):\n",
    "                count_agree += 1\n",
    "            else:\n",
    "                count_disagree += 1\n",
    "    \n",
    "    print(k, \": \", count_agree, \"/\", count_disagree)\n",
    "    print(k, \": \", count_agree/(count_agree+count_disagree))    "
   ]
  },
  {
   "cell_type": "code",
   "execution_count": 34,
   "id": "3a11078f-74ed-4e1e-a49b-688fed55df58",
   "metadata": {},
   "outputs": [
    {
     "name": "stdout",
     "output_type": "stream",
     "text": [
      "50 :  112385 / 209115\n",
      "50 :  0.34956454121306374\n",
      "100 :  245670 / 397330\n",
      "100 :  0.38206842923794715\n"
     ]
    }
   ],
   "source": [
    "for k in [50,100]:\n",
    "    indices, distances = get_knn(k,embedding)\n",
    "    indices_original, distance_original = get_knn(k, original_embedding)\n",
    "\n",
    "    count_agree = 0\n",
    "    count_disagree = 0\n",
    "\n",
    "    for i in range(indices_original.shape[0]):\n",
    "        for j in range(indices_original.shape[1]):\n",
    "            if (indices_original[i,j] in indices[i,:]):\n",
    "                count_agree += 1\n",
    "            else:\n",
    "                count_disagree += 1\n",
    "    \n",
    "    print(k, \": \", count_agree, \"/\", count_disagree)\n",
    "    print(k, \": \", count_agree/(count_agree+count_disagree))    "
   ]
  },
  {
   "cell_type": "code",
   "execution_count": 36,
   "id": "258c1785-4cad-4bbc-a69d-c9638efaa7d5",
   "metadata": {},
   "outputs": [
    {
     "name": "stdout",
     "output_type": "stream",
     "text": [
      "1 :  1678 / 4752\n",
      "1 :  0.2609642301710731\n",
      "2 :  4248 / 8612\n",
      "2 :  0.33032659409020215\n",
      "3 :  6972 / 12318\n",
      "3 :  0.3614307931570762\n",
      "4 :  9771 / 15949\n",
      "4 :  0.37989891135303266\n",
      "5 :  12743 / 19407\n",
      "5 :  0.3963608087091757\n",
      "6 :  15723 / 22857\n",
      "6 :  0.40754276827371694\n",
      "7 :  18790 / 26220\n",
      "7 :  0.417462786047545\n",
      "8 :  21919 / 29521\n",
      "8 :  0.4261080870917574\n",
      "9 :  24959 / 32911\n",
      "9 :  0.43129428028339384\n",
      "10 :  28034 / 36266\n",
      "10 :  0.4359875583203732\n",
      "15 :  43745 / 52705\n",
      "15 :  0.45355106272680146\n",
      "20 :  59504 / 69096\n",
      "20 :  0.462706065318818\n",
      "30 :  93004 / 99896\n",
      "30 :  0.48213582166925867\n",
      "50 :  163994 / 157506\n",
      "50 :  0.510090202177294\n",
      "100 :  355155 / 287845\n",
      "100 :  0.5523405909797823\n"
     ]
    }
   ],
   "source": [
    "for k in [1,2,3,4,5,6,7,8,9,10,15,20,30, 50, 100]:\n",
    "    indices, distances = get_knn(k*2,embedding)\n",
    "    indices_original, distance_original = get_knn(k, original_embedding)\n",
    "\n",
    "    count_agree = 0\n",
    "    count_disagree = 0\n",
    "\n",
    "    for i in range(indices_original.shape[0]):\n",
    "        for j in range(indices_original.shape[1]):\n",
    "            if (indices_original[i,j] in indices[i,:]):\n",
    "                count_agree += 1\n",
    "            else:\n",
    "                count_disagree += 1\n",
    "    \n",
    "    print(k, \": \", count_agree, \"/\", count_disagree)\n",
    "    print(k, \": \", count_agree/(k*original_embedding.shape[0]))  "
   ]
  },
  {
   "cell_type": "code",
   "execution_count": null,
   "id": "f24b78c1-7a1f-4bbf-889e-74af2bd1593c",
   "metadata": {},
   "outputs": [],
   "source": []
  }
 ],
 "metadata": {
  "kernelspec": {
   "display_name": "Python 3",
   "language": "python",
   "name": "python3"
  },
  "language_info": {
   "codemirror_mode": {
    "name": "ipython",
    "version": 3
   },
   "file_extension": ".py",
   "mimetype": "text/x-python",
   "name": "python",
   "nbconvert_exporter": "python",
   "pygments_lexer": "ipython3",
   "version": "3.7.10"
  }
 },
 "nbformat": 4,
 "nbformat_minor": 5
}
