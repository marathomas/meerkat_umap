{
 "cells": [
  {
   "cell_type": "markdown",
   "id": "01b8abf2",
   "metadata": {},
   "source": [
    "# Calculate UMAP embeddings with different parameters"
   ]
  },
  {
   "cell_type": "code",
   "execution_count": 1,
   "id": "8d7c0634",
   "metadata": {},
   "outputs": [],
   "source": [
    "import os\n",
    "import pandas as pd\n",
    "import sys\n",
    "import numpy as np\n",
    "from pandas.core.common import flatten\n",
    "import pickle\n",
    "import umap\n",
    "from scipy.stats import zscore\n",
    "from pathlib import Path"
   ]
  },
  {
   "cell_type": "code",
   "execution_count": 2,
   "id": "fc828ddd",
   "metadata": {},
   "outputs": [],
   "source": [
    "wd = os.getcwd()\n",
    "\n",
    "DF = os.path.join(os.path.sep, str(Path(wd).parents[0]), \"data\", \"processed\", \"df_focal_reduced.pkl\")\n",
    "OUT_COORDS = os.path.join(os.path.sep, str(Path(wd).parents[0]), \"data\", \"interim\", \"parameter_search\", \"umap_coords\")\n",
    "OUT_EVALS = os.path.join(os.path.sep, str(Path(wd).parents[0]), \"data\", \"interim\", \"parameter_search\", \"umap_evals\")"
   ]
  },
  {
   "cell_type": "code",
   "execution_count": 3,
   "id": "2f1eac5e",
   "metadata": {},
   "outputs": [
    {
     "data": {
      "text/plain": [
       "(6430, 28)"
      ]
     },
     "execution_count": 3,
     "metadata": {},
     "output_type": "execute_result"
    }
   ],
   "source": [
    "spec_df = pd.read_pickle(DF)\n",
    "spec_df.shape"
   ]
  },
  {
   "cell_type": "markdown",
   "id": "396545a2",
   "metadata": {},
   "source": [
    "## Functions"
   ]
  },
  {
   "cell_type": "code",
   "execution_count": 4,
   "id": "438ee331",
   "metadata": {},
   "outputs": [],
   "source": [
    "def set_defaults():\n",
    "    global input_type\n",
    "    global preprocess_type \n",
    "    global metric_type\n",
    "    global duration_method\n",
    "    global min_dist\n",
    "    global spread\n",
    "    global n_neighbors\n",
    "    global n_comps    \n",
    "    \n",
    "    input_type = 'melspecs'\n",
    "    preprocess_type = 'zs'\n",
    "    metric_type = 'manhattan'\n",
    "    duration_method = 'pad'\n",
    "    min_dist = 0\n",
    "    spread = 1\n",
    "    n_neighbors=15\n",
    "    n_comps = 5"
   ]
  },
  {
   "cell_type": "code",
   "execution_count": 5,
   "id": "9e5d6ca8",
   "metadata": {},
   "outputs": [],
   "source": [
    "def get_param_string():\n",
    "    param_combi = \"_\".join([str(x) for x in [preprocess_type, metric_type, duration_method,\n",
    "                                         min_dist, spread, n_neighbors, n_comps, input_type]])\n",
    "    return param_combi"
   ]
  },
  {
   "cell_type": "code",
   "execution_count": 6,
   "id": "941699ae",
   "metadata": {},
   "outputs": [],
   "source": [
    "def calc_umap(data, outname, metric='manhattan', min_dist=0, spread=1, n_neighbors=15, n_comps=5,n=5):\n",
    "    \n",
    "    for i in range(n):\n",
    "        reducer = umap.UMAP(n_components = n_comps, \n",
    "                            min_dist=min_dist,\n",
    "                            spread=spread,\n",
    "                            n_neighbors=n_neighbors,\n",
    "                            metric=metric)\n",
    "\n",
    "        embedding = reducer.fit_transform(data) \n",
    "        np.savetxt(outname+'_'+str(i)+'.csv', embedding, delimiter=\";\")   "
   ]
  },
  {
   "cell_type": "code",
   "execution_count": 7,
   "id": "5b14e0d1",
   "metadata": {},
   "outputs": [],
   "source": [
    "# Function that pads a spectrogram with zeros to a certain length\n",
    "# Input: spectrogram (2D np array)\n",
    "#        maximal length (Integer)\n",
    "# Output: Padded spectrogram (2D np array)\n",
    "\n",
    "def pad_spectro(spec,maxlen):\n",
    "    padding = maxlen - spec.shape[1]\n",
    "    z = np.zeros((spec.shape[0],padding))\n",
    "    padded_spec=np.append(spec, z, axis=1)\n",
    "    return padded_spec\n",
    "\n",
    "def create_padded_data(specs):\n",
    "    maxlen= np.max([spec.shape[1] for spec in specs])\n",
    "    flattened_specs = [pad_spectro(spec, maxlen).flatten() for spec in specs]\n",
    "    data = np.asarray(flattened_specs)\n",
    "    return data"
   ]
  },
  {
   "cell_type": "markdown",
   "id": "3c3a746c",
   "metadata": {},
   "source": [
    "# Different input types"
   ]
  },
  {
   "cell_type": "code",
   "execution_count": 202,
   "id": "2215b4ae",
   "metadata": {},
   "outputs": [],
   "source": [
    "set_defaults()\n",
    "\n",
    "input_types = ['amplispecs', 'freqspecs', 'melspecs', 'mfccs']\n",
    "input_dict = dict(zip(input_types, ['ampli_spectrograms', 'freq_spectrograms', 'spectrograms','mfccs']))"
   ]
  },
  {
   "cell_type": "code",
   "execution_count": 203,
   "id": "6765af0c",
   "metadata": {},
   "outputs": [
    {
     "name": "stdout",
     "output_type": "stream",
     "text": [
      "/home/mthomas/Documents/MPI_work/projects/meerkat/meerkat_umap/meerkat_umap/data/interim/parameter_search/umap_coords/zs_manhattan_pad_0_1_15_5_amplispecs\n",
      "/home/mthomas/Documents/MPI_work/projects/meerkat/meerkat_umap/meerkat_umap/data/interim/parameter_search/umap_coords/zs_manhattan_pad_0_1_15_5_freqspecs\n",
      "/home/mthomas/Documents/MPI_work/projects/meerkat/meerkat_umap/meerkat_umap/data/interim/parameter_search/umap_coords/zs_manhattan_pad_0_1_15_5_melspecs\n",
      "/home/mthomas/Documents/MPI_work/projects/meerkat/meerkat_umap/meerkat_umap/data/interim/parameter_search/umap_coords/zs_manhattan_pad_0_1_15_5_mfccs\n"
     ]
    }
   ],
   "source": [
    "for input_type in input_types:\n",
    "    \n",
    "    specs = spec_df[input_dict[input_type]]\n",
    "    specs = [calc_zscore(s) for s in specs]\n",
    "    data = create_padded_data(specs)\n",
    "    \n",
    "    outname = os.path.join(os.path.sep, OUT_COORDS, get_param_string())\n",
    "    print(outname)\n",
    "    calc_umap(data, outname)"
   ]
  },
  {
   "cell_type": "markdown",
   "id": "f1b8aab1",
   "metadata": {},
   "source": [
    "## Different preprocessing steps"
   ]
  },
  {
   "cell_type": "code",
   "execution_count": 8,
   "id": "6f53b572",
   "metadata": {},
   "outputs": [],
   "source": [
    "import numba\n",
    "from numba import jit\n",
    "\n",
    "MEL_BINS_REMOVED_LOWER = 5\n",
    "MEL_BINS_REMOVED_UPPER = 5\n",
    "N_MELS = 40\n",
    "\n",
    "@jit(nopython=True)\n",
    "def calc_zscore(spec):\n",
    "    mn = np.mean(spec)\n",
    "    std = np.std(spec)\n",
    "    for i in range(spec.shape[0]):\n",
    "        for j in range(spec.shape[1]):\n",
    "            spec[i,j] = (spec[i,j]-mn)/std\n",
    "    return spec\n",
    "\n",
    "@jit(nopython=True)\n",
    "def preprocess_spec_numba_fl(spec):\n",
    "    \n",
    "    spec = spec[MEL_BINS_REMOVED_LOWER:(N_MELS-MEL_BINS_REMOVED_UPPER),:]\n",
    "    spec = calc_zscore(spec)\n",
    "    spec = np.where(spec < 0, 0, spec)\n",
    "    \n",
    "    return spec\n",
    "\n",
    "@jit(nopython=True)\n",
    "def preprocess_spec_numba(spec):\n",
    "    \n",
    "    spec = spec[MEL_BINS_REMOVED_LOWER:(N_MELS-MEL_BINS_REMOVED_UPPER),:]\n",
    "    spec = calc_zscore(spec)\n",
    "    spec = np.where(spec > 3, 3, spec)\n",
    "    spec = np.where(spec < 0, 0, spec)\n",
    "    \n",
    "    return spec"
   ]
  },
  {
   "cell_type": "code",
   "execution_count": 42,
   "id": "e2a8caac",
   "metadata": {},
   "outputs": [],
   "source": [
    "specs = spec_df.spectrograms\n",
    "\n",
    "preprocessed_specs = {'no': specs,\n",
    "                     'zs' : [calc_zscore(s) for s in specs],\n",
    "                     'zs-cu': [calc_zscore(s[MEL_BINS_REMOVED_LOWER:(N_MELS-MEL_BINS_REMOVED_UPPER),:]) for s in specs],\n",
    "                     'zs-cu-fl': [preprocess_spec_numba_fl(s) for s in specs],\n",
    "                     'zs-cu-fl-ce': [preprocess_spec_numba(s) for s in specs]}\n",
    "preprocess_types = list(preprocessed_specs.keys())"
   ]
  },
  {
   "cell_type": "code",
   "execution_count": 43,
   "id": "4a755b13",
   "metadata": {},
   "outputs": [
    {
     "name": "stdout",
     "output_type": "stream",
     "text": [
      "/home/mthomas/Documents/MPI_work/projects/meerkat/meerkat_umap/meerkat_umap/data/interim/parameter_search/umap_coords/no_euclidean_pad_0_1_15_5\n",
      "/home/mthomas/Documents/MPI_work/projects/meerkat/meerkat_umap/meerkat_umap/data/interim/parameter_search/umap_coords/zs_euclidean_pad_0_1_15_5\n",
      "/home/mthomas/Documents/MPI_work/projects/meerkat/meerkat_umap/meerkat_umap/data/interim/parameter_search/umap_coords/zs-cu_euclidean_pad_0_1_15_5\n",
      "/home/mthomas/Documents/MPI_work/projects/meerkat/meerkat_umap/meerkat_umap/data/interim/parameter_search/umap_coords/zs-cu-fl_euclidean_pad_0_1_15_5\n",
      "/home/mthomas/Documents/MPI_work/projects/meerkat/meerkat_umap/meerkat_umap/data/interim/parameter_search/umap_coords/zs-cu-fl-ce_euclidean_pad_0_1_15_5\n"
     ]
    }
   ],
   "source": [
    "set_defaults()\n",
    "\n",
    "for preprocess_type in preprocess_types:\n",
    "    specs = preprocessed_specs[preprocess_type]\n",
    "    data = create_padded_data(specs)\n",
    "    \n",
    "    outname = os.path.join(os.path.sep, OUT_COORDS, get_param_string())\n",
    "    print(outname)\n",
    "    calc_umap(data, outname)"
   ]
  },
  {
   "cell_type": "markdown",
   "id": "27a34fc8",
   "metadata": {},
   "source": [
    "## Different ways to deal with variable duration"
   ]
  },
  {
   "cell_type": "code",
   "execution_count": 144,
   "id": "1d4f6f59",
   "metadata": {},
   "outputs": [],
   "source": [
    "def pad_transform_spectro(spec,maxlen):\n",
    "    \n",
    "    flat_spec = spec.flatten()\n",
    "    flat_spec.shape\n",
    "    spec_l = flat_spec.shape[0]\n",
    "    trans_spec = np.concatenate((np.asarray([spec_l]), flat_spec, np.asarray([999]*(maxlen-spec_l-1))))\n",
    "    trans_spec = np.float64(trans_spec)\n",
    "    \n",
    "    return trans_spec"
   ]
  },
  {
   "cell_type": "code",
   "execution_count": 151,
   "id": "70c6093a",
   "metadata": {},
   "outputs": [],
   "source": [
    "SPEC_SIZE = 40\n",
    "MIN_OVERLAP = 0.9\n",
    "\n",
    "@numba.njit()\n",
    "def unpack_specs(a,b):   \n",
    "    \n",
    "    # len is encoded in first cell\n",
    "    len_a = int(a[0])\n",
    "    len_b = int(b[0])\n",
    "\n",
    "    # reshape specs\n",
    "    spec_a= np.reshape(a[1:len_a+1], (SPEC_SIZE, -1))\n",
    "    spec_b= np.reshape(b[1:len_b+1], (SPEC_SIZE, -1))\n",
    "    \n",
    "    len_a = spec_a.shape[1]\n",
    "    len_b = spec_b.shape[1]\n",
    "\n",
    "    # find bigger spec\n",
    "    spec_s = spec_a\n",
    "    spec_l = spec_b\n",
    "\n",
    "    if len_a>len_b:\n",
    "        spec_s = spec_b\n",
    "        spec_l = spec_a\n",
    "        \n",
    "    return spec_s, spec_l\n",
    "\n",
    "@numba.njit()\n",
    "def spec_dist(a,b, size):\n",
    "\n",
    "    dist = (np.sum(np.abs(np.subtract(a, b)))) / size # manhattan\n",
    "    \n",
    "    #dist = (np.sum(np.subtract(a, b)*np.subtract(a, b))) / size # mean squared error\n",
    "    #dist = np.sqrt((np.sum(np.subtract(a, b)*np.subtract(a, b))) / size)\n",
    "    return dist\n",
    "    \n",
    "\n",
    "@numba.njit()\n",
    "def calc_pairwise_pad(a, b):\n",
    "    \n",
    "    spec_s, spec_l = unpack_specs(a,b)\n",
    "    n_padding = int(spec_l.shape[1] - spec_s.shape[1])\n",
    "    \n",
    "    # pad the smaller spec (if necessary)\n",
    "    if n_padding!=0:\n",
    "        pad = np.full((SPEC_SIZE, n_padding), 0.0)\n",
    "        spec_s_padded = np.concatenate((spec_s, pad), axis=1)\n",
    "        spec_s_padded = spec_s_padded.astype(np.float64)\n",
    "    else:\n",
    "        spec_s_padded = spec_s.astype(np.float64)\n",
    "\n",
    "    # compute distance\n",
    "\n",
    "    spec_s_padded = np.reshape(spec_s_padded, (-1)).astype(np.float64)\n",
    "    spec_l = np.reshape(spec_l, (-1)).astype(np.float64)\n",
    "    size = spec_l.shape[0]\n",
    "    \n",
    "\n",
    "    dist = spec_dist(spec_s_padded, spec_l, size)\n",
    "    \n",
    "    return dist\n"
   ]
  },
  {
   "cell_type": "code",
   "execution_count": 155,
   "id": "11db3d6f",
   "metadata": {},
   "outputs": [],
   "source": [
    "@numba.njit()\n",
    "def calc_overlap_only(a,b): \n",
    "    spec_s, spec_l = unpack_specs(a,b)\n",
    "    \n",
    "    #only use overlap section from longer spec\n",
    "    spec_l = spec_l[:spec_s.shape[0],:spec_s.shape[1]]\n",
    "    \n",
    "    spec_s = spec_s.astype(np.float64)\n",
    "    spec_l = spec_l.astype(np.float64)\n",
    "    \n",
    "    size = spec_s.shape[1]*spec_s.shape[0]   \n",
    "    dist = spec_dist(spec_s, spec_l, size)\n",
    "    \n",
    "    return dist\n",
    "\n",
    "@numba.njit()\n",
    "def calc_timeshift(a,b):\n",
    "    \n",
    "    spec_s, spec_l = unpack_specs(a,b)  \n",
    "    len_l = spec_l.shape[1]\n",
    "    len_s = spec_s.shape[1]\n",
    "\n",
    "\n",
    "    # define start position\n",
    "    min_overlap_frames = int(MIN_OVERLAP * len_s)\n",
    "    start_timeline = min_overlap_frames-len_s\n",
    "    max_timeline = len_l - min_overlap_frames\n",
    "    \n",
    "    n_of_calculations = (max_timeline+1-start_timeline)+(max_timeline+1-start_timeline)\n",
    "\n",
    "    distances = np.full((n_of_calculations),3.)\n",
    "\n",
    "    count=0\n",
    "    \n",
    "    for timeline_p in range(start_timeline, max_timeline+1):\n",
    "        # mismatch on left side\n",
    "        if timeline_p < 0:\n",
    "            start_col_l = 0\n",
    "            len_overlap = len_s - abs(timeline_p)\n",
    "\n",
    "            end_col_l = start_col_l + len_overlap\n",
    "\n",
    "            end_col_s = len_s # until the end\n",
    "            start_col_s = end_col_s - len_overlap\n",
    "\n",
    "        # mismatch on right side\n",
    "        elif timeline_p > (len_l-len_s):\n",
    "            start_col_l = timeline_p\n",
    "            len_overlap = len_l - timeline_p\n",
    "            end_col_l = len_l\n",
    "\n",
    "            start_col_s = 0\n",
    "            end_col_s = start_col_s + len_overlap\n",
    "\n",
    "        # no mismatch on either side\n",
    "        else:\n",
    "            start_col_l = timeline_p\n",
    "            len_overlap = len_s\n",
    "            end_col_l = start_col_l + len_overlap\n",
    "\n",
    "            start_col_s = 0\n",
    "            end_col_s = len_s # until the end\n",
    "            \n",
    "\n",
    "        s_s = spec_s[:,start_col_s:end_col_s].astype(np.float64)\n",
    "        s_l = spec_l[:,start_col_l:end_col_l].astype(np.float64)\n",
    "        \n",
    "        size = s_s.shape[0]*s_s.shape[1]\n",
    "        distances[count] = spec_dist(s_s, s_l, size)\n",
    "\n",
    "        count = count + 1\n",
    "    \n",
    "    min_dist = np.min(distances)\n",
    "                                                     \n",
    "    return min_dist\n",
    "\n",
    "\n",
    "\n",
    "@numba.njit()\n",
    "def calc_timeshift_pad(a,b):\n",
    "    \n",
    "    spec_s, spec_l = unpack_specs(a,b)\n",
    "    \n",
    "    len_s = spec_s.shape[1]\n",
    "    len_l = spec_l.shape[1]\n",
    "\n",
    "    nfreq = spec_s.shape[0] \n",
    "\n",
    "    # define start position\n",
    "    min_overlap_frames = int(MIN_OVERLAP * len_s)\n",
    "    start_timeline = min_overlap_frames-len_s\n",
    "    max_timeline = len_l - min_overlap_frames\n",
    "    \n",
    "    n_of_calculations = int((((max_timeline+1-start_timeline)+(max_timeline+1-start_timeline))/2) +1)\n",
    "\n",
    "    distances = np.full((n_of_calculations),999.)\n",
    "\n",
    "    count=0\n",
    "    \n",
    "    for timeline_p in range(start_timeline, max_timeline+1,2):\n",
    "        #print(\"timeline: \", timeline_p)\n",
    "        # mismatch on left side\n",
    "        if timeline_p < 0:\n",
    "\n",
    "            len_overlap = len_s - abs(timeline_p)\n",
    "            \n",
    "            pad_s = np.full((nfreq, (len_l-len_overlap)),0.)\n",
    "            pad_l = np.full((nfreq, (len_s-len_overlap)),0.)\n",
    "\n",
    "            s_config = np.append(spec_s, pad_s, axis=1).astype(np.float64)\n",
    "            l_config = np.append(pad_l, spec_l, axis=1).astype(np.float64)\n",
    "\n",
    "        # mismatch on right side\n",
    "        elif timeline_p > (len_l-len_s):\n",
    "            \n",
    "            len_overlap = len_l - timeline_p\n",
    "\n",
    "            pad_s = np.full((nfreq, (len_l-len_overlap)),0.)\n",
    "            pad_l = np.full((nfreq, (len_s-len_overlap)),0.)\n",
    "\n",
    "            s_config = np.append(pad_s, spec_s, axis=1).astype(np.float64)\n",
    "            l_config = np.append(spec_l, pad_l, axis=1).astype(np.float64)\n",
    "\n",
    "        # no mismatch on either side\n",
    "        else:\n",
    "            len_overlap = len_s\n",
    "            start_col_l = timeline_p\n",
    "            end_col_l = start_col_l + len_overlap\n",
    "\n",
    "            pad_s_left = np.full((nfreq, start_col_l),0.)\n",
    "            pad_s_right = np.full((nfreq, (len_l - end_col_l)),0.)\n",
    "\n",
    "            l_config = spec_l.astype(np.float64)\n",
    "            s_config = np.append(pad_s_left, spec_s, axis=1).astype(np.float64)\n",
    "            s_config = np.append(s_config, pad_s_right, axis=1).astype(np.float64)\n",
    "        \n",
    "        size = s_config.shape[0]*s_config.shape[1]\n",
    "        distances[count] = spec_dist(s_config, l_config, size)\n",
    "        count = count + 1\n",
    "\n",
    "\n",
    "    min_dist = np.min(distances)\n",
    "    return min_dist"
   ]
  },
  {
   "cell_type": "code",
   "execution_count": 156,
   "id": "7d66cd2f",
   "metadata": {},
   "outputs": [
    {
     "name": "stdout",
     "output_type": "stream",
     "text": [
      "/home/mthomas/Documents/MPI_work/projects/meerkat/meerkat_umap/meerkat_umap/data/interim/parameter_search/umap_coords/zs_manhattan_timeshift-pad_0_1_15_5\n"
     ]
    },
    {
     "name": "stderr",
     "output_type": "stream",
     "text": [
      "/home/mthomas/anaconda3/envs/meerkat_umap_env_3/lib/python3.7/site-packages/umap/umap_.py:1728: UserWarning: custom distance metric does not return gradient; inverse_transform will be unavailable. To enable using inverse_transform method method, define a distance function that returns a tuple of (distance [float], gradient [np.array])\n",
      "  \"custom distance metric does not return gradient; inverse_transform will be unavailable. \"\n",
      "/home/mthomas/anaconda3/envs/meerkat_umap_env_3/lib/python3.7/site-packages/umap/umap_.py:1728: UserWarning: custom distance metric does not return gradient; inverse_transform will be unavailable. To enable using inverse_transform method method, define a distance function that returns a tuple of (distance [float], gradient [np.array])\n",
      "  \"custom distance metric does not return gradient; inverse_transform will be unavailable. \"\n",
      "/home/mthomas/anaconda3/envs/meerkat_umap_env_3/lib/python3.7/site-packages/umap/umap_.py:1728: UserWarning: custom distance metric does not return gradient; inverse_transform will be unavailable. To enable using inverse_transform method method, define a distance function that returns a tuple of (distance [float], gradient [np.array])\n",
      "  \"custom distance metric does not return gradient; inverse_transform will be unavailable. \"\n",
      "/home/mthomas/anaconda3/envs/meerkat_umap_env_3/lib/python3.7/site-packages/umap/umap_.py:1728: UserWarning: custom distance metric does not return gradient; inverse_transform will be unavailable. To enable using inverse_transform method method, define a distance function that returns a tuple of (distance [float], gradient [np.array])\n",
      "  \"custom distance metric does not return gradient; inverse_transform will be unavailable. \"\n",
      "/home/mthomas/anaconda3/envs/meerkat_umap_env_3/lib/python3.7/site-packages/umap/umap_.py:1728: UserWarning: custom distance metric does not return gradient; inverse_transform will be unavailable. To enable using inverse_transform method method, define a distance function that returns a tuple of (distance [float], gradient [np.array])\n",
      "  \"custom distance metric does not return gradient; inverse_transform will be unavailable. \"\n"
     ]
    }
   ],
   "source": [
    "set_defaults()\n",
    "#duration_method_types = ['pad', 'stretch', 'pairwise-pad', 'overlap-only', 'timeshift-overlap', 'timeshift-pad']\n",
    "duration_method_types = ['timeshift-pad']\n",
    "\n",
    "# this is a tricky one, because for pad and stretch, I can use the default metric type from umap with varying \n",
    "# input, but for the other duration_method_types, I need to write a numba-compatible custom distance function\n",
    "# thus the 3 \"cases\"\n",
    "\n",
    "for duration_method in duration_method_types:\n",
    "    \n",
    "    outname = os.path.join(os.path.sep, OUT_COORDS, get_param_string())\n",
    "    print(outname)\n",
    "    \n",
    "    # baseline pipeline\n",
    "    if duration_method=='pad':\n",
    "        specs = spec_df.spectrograms\n",
    "        specs = [calc_zscore(x) for x in specs]\n",
    "        data = create_padded_data(specs)\n",
    "        calc_umap(data, outname)\n",
    "    \n",
    "    # using stretched specs as input\n",
    "    elif duration_method=='stretch':\n",
    "        specs = spec_df.stretched_spectrograms\n",
    "        specs = [calc_zscore(x) for x in specs]\n",
    "        data = create_padded_data(specs)\n",
    "        calc_umap(data, outname)\n",
    "        \n",
    "    # pairwise-pad, overlap-only, timeshift-overlap and timeshift-pad all require\n",
    "    # custom distance functions\n",
    "    else:\n",
    "        specs = spec_df.spectrograms\n",
    "        specs = [calc_zscore(x) for x in specs]\n",
    "        \n",
    "        maxlen= np.max([spec.shape[1] for spec in specs]) * SPEC_SIZE +1\n",
    "        trans_specs = [pad_transform_spectro(spec, maxlen) for spec in specs]\n",
    "        data = np.asarray(trans_specs)\n",
    "\n",
    "        metric_dict = {'pairwise-pad': calc_pairwise_pad,\n",
    "                      'overlap-only': calc_overlap_only,\n",
    "                      'timeshift-overlap': calc_timeshift,\n",
    "                      'timeshift-pad': calc_timeshift_pad}\n",
    "        \n",
    "        calc_umap(data, outname, metric=metric_dict[duration_method])\n",
    "    "
   ]
  },
  {
   "cell_type": "markdown",
   "id": "2cdf1c53",
   "metadata": {},
   "source": [
    "## Different distance metrics"
   ]
  },
  {
   "cell_type": "code",
   "execution_count": 9,
   "id": "18c46992",
   "metadata": {},
   "outputs": [
    {
     "name": "stdout",
     "output_type": "stream",
     "text": [
      "/home/mthomas/Documents/MPI_work/projects/meerkat/meerkat_umap/meerkat_umap/data/interim/parameter_search/umap_coords/zs_euclidean_pad_0_1_15_5_melspecs\n",
      "/home/mthomas/Documents/MPI_work/projects/meerkat/meerkat_umap/meerkat_umap/data/interim/parameter_search/umap_coords/zs_manhattan_pad_0_1_15_5_melspecs\n",
      "/home/mthomas/Documents/MPI_work/projects/meerkat/meerkat_umap/meerkat_umap/data/interim/parameter_search/umap_coords/zs_cosine_pad_0_1_15_5_melspecs\n",
      "/home/mthomas/Documents/MPI_work/projects/meerkat/meerkat_umap/meerkat_umap/data/interim/parameter_search/umap_coords/zs_correlation_pad_0_1_15_5_melspecs\n"
     ]
    }
   ],
   "source": [
    "set_defaults()\n",
    "    \n",
    "metric_types = ['euclidean', 'manhattan', 'cosine', 'correlation']\n",
    "\n",
    "specs = spec_df.spectrograms\n",
    "specs = [calc_zscore(x) for x in specs]\n",
    "data = create_padded_data(specs)\n",
    "\n",
    "for metric_type in metric_types:\n",
    "    \n",
    "    outname = os.path.join(os.path.sep, OUT_COORDS, get_param_string())\n",
    "    print(outname)\n",
    "    calc_umap(data, outname, metric=metric_type)"
   ]
  },
  {
   "cell_type": "markdown",
   "id": "573120da",
   "metadata": {},
   "source": [
    "## Different UMAP params"
   ]
  },
  {
   "cell_type": "code",
   "execution_count": 10,
   "id": "c3b6bd9f",
   "metadata": {},
   "outputs": [
    {
     "name": "stdout",
     "output_type": "stream",
     "text": [
      "/home/mthomas/Documents/MPI_work/projects/meerkat/meerkat_umap/meerkat_umap/data/interim/parameter_search/umap_coords/zs_manhattan_pad_0_1_5_5_melspecs\n",
      "/home/mthomas/Documents/MPI_work/projects/meerkat/meerkat_umap/meerkat_umap/data/interim/parameter_search/umap_coords/zs_manhattan_pad_0_1_15_5_melspecs\n",
      "/home/mthomas/Documents/MPI_work/projects/meerkat/meerkat_umap/meerkat_umap/data/interim/parameter_search/umap_coords/zs_manhattan_pad_0_1_30_5_melspecs\n",
      "/home/mthomas/Documents/MPI_work/projects/meerkat/meerkat_umap/meerkat_umap/data/interim/parameter_search/umap_coords/zs_manhattan_pad_0_1_50_5_melspecs\n",
      "/home/mthomas/Documents/MPI_work/projects/meerkat/meerkat_umap/meerkat_umap/data/interim/parameter_search/umap_coords/zs_manhattan_pad_0_1_100_5_melspecs\n",
      "/home/mthomas/Documents/MPI_work/projects/meerkat/meerkat_umap/meerkat_umap/data/interim/parameter_search/umap_coords/zs_manhattan_pad_0_1_150_5_melspecs\n",
      "/home/mthomas/Documents/MPI_work/projects/meerkat/meerkat_umap/meerkat_umap/data/interim/parameter_search/umap_coords/zs_manhattan_pad_0_1_200_5_melspecs\n"
     ]
    }
   ],
   "source": [
    "set_defaults()\n",
    "\n",
    "n_neighbors_types = [5,15,30,50,100,150,200]\n",
    "\n",
    "specs = spec_df.spectrograms\n",
    "specs = [calc_zscore(x) for x in specs]\n",
    "data = create_padded_data(specs)\n",
    "\n",
    "for n_neighbors in n_neighbors_types:\n",
    "    outname = os.path.join(os.path.sep, OUT_COORDS, get_param_string())\n",
    "    print(outname)\n",
    "    calc_umap(data, outname, n_neighbors=n_neighbors)"
   ]
  },
  {
   "cell_type": "code",
   "execution_count": null,
   "id": "f74c0763",
   "metadata": {},
   "outputs": [],
   "source": []
  }
 ],
 "metadata": {
  "kernelspec": {
   "display_name": "Python 3",
   "language": "python",
   "name": "python3"
  },
  "language_info": {
   "codemirror_mode": {
    "name": "ipython",
    "version": 3
   },
   "file_extension": ".py",
   "mimetype": "text/x-python",
   "name": "python",
   "nbconvert_exporter": "python",
   "pygments_lexer": "ipython3",
   "version": "3.7.10"
  }
 },
 "nbformat": 4,
 "nbformat_minor": 5
}
