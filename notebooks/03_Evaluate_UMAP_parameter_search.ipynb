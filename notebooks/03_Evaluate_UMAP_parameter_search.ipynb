{
 "cells": [
  {
   "cell_type": "markdown",
   "id": "a2e10af9-3a37-4ea6-a443-ee0a954ae66d",
   "metadata": {},
   "source": [
    "# Evaluate all embeddings generated with parameter_search"
   ]
  },
  {
   "cell_type": "code",
   "execution_count": 1,
   "id": "fd29f8eb-1627-4f70-a7d1-d6e7092597a8",
   "metadata": {},
   "outputs": [],
   "source": [
    "import os\n",
    "import pandas as pd\n",
    "import numpy as np\n",
    "from pathlib import Path\n",
    "import datetime\n",
    "import pickle"
   ]
  },
  {
   "cell_type": "code",
   "execution_count": null,
   "id": "dae5ab10-d087-41a3-b882-35e29fd35ecd",
   "metadata": {},
   "outputs": [],
   "source": []
  },
  {
   "cell_type": "code",
   "execution_count": 2,
   "id": "59c0a5af-1f5b-4f28-9944-4e1e9c70723c",
   "metadata": {},
   "outputs": [],
   "source": [
    "from evaluation_functions import nn, sil"
   ]
  },
  {
   "cell_type": "code",
   "execution_count": 3,
   "id": "cf1eda8f-b041-48c9-a3c4-963518693160",
   "metadata": {},
   "outputs": [],
   "source": [
    "wd = os.getcwd()\n",
    "\n",
    "DF = os.path.join(os.path.sep, str(Path(wd).parents[0]), \"data\", \"processed\", \"df_focal_reduced.pkl\")\n",
    "OUT_COORDS = os.path.join(os.path.sep, str(Path(wd).parents[0]), \"data\", \"interim\", \"parameter_search\", \"umap_coords\")\n",
    "OUT_EVALS = os.path.join(os.path.sep, str(Path(wd).parents[0]), \"data\", \"interim\", \"parameter_search\", \"umap_evals\")"
   ]
  },
  {
   "cell_type": "code",
   "execution_count": 4,
   "id": "59a550e0-983c-4783-8487-18a838d5aaec",
   "metadata": {},
   "outputs": [
    {
     "name": "stdout",
     "output_type": "stream",
     "text": [
      "(6430, 28)\n"
     ]
    }
   ],
   "source": [
    "spec_df = pd.read_pickle(DF)\n",
    "print(spec_df.shape)\n",
    "labels = spec_df.call_lable.values\n",
    "labeltypes = sorted(list(set(labels)))"
   ]
  },
  {
   "cell_type": "code",
   "execution_count": 72,
   "id": "6f5fd201-cb25-4e03-bde0-c6c026ed800d",
   "metadata": {},
   "outputs": [],
   "source": [
    "all_embedding_files = list(sorted(os.listdir(OUT_COORDS)))"
   ]
  },
  {
   "cell_type": "code",
   "execution_count": 73,
   "id": "415bfa7a-a66a-489f-9585-dad1aa2480fc",
   "metadata": {},
   "outputs": [],
   "source": [
    "params = ['preprocess_type', 'metric_type', 'duration_method','min_dist', 'spread', 'n_neighbors', 'n_comps', 'input_type', 'n_repeat']"
   ]
  },
  {
   "cell_type": "code",
   "execution_count": 92,
   "id": "8f48bc7b-d4ee-49d9-8c43-ac048f9c0e62",
   "metadata": {},
   "outputs": [
    {
     "name": "stdout",
     "output_type": "stream",
     "text": [
      "['preprocess_type', 'metric_type', 'duration_method', 'min_dist', 'spread', 'n_neighbors', 'n_comps', 'input_type', 'n_repeat', 'S_total', 'S_agg', 'S_al', 'S_cc', 'S_ld', 'S_mo', 'S_sn', 'S_soc', 'Snorm_total', 'Snorm_agg', 'Snorm_al', 'Snorm_cc', 'Snorm_ld', 'Snorm_mo', 'Snorm_sn', 'Snorm_soc', 'SIL_total', 'SIL_agg', 'SIL_al', 'SIL_cc', 'SIL_ld', 'SIL_mo', 'SIL_sn', 'SIL_soc', 'knncc_agg', 'knncc_al', 'knncc_cc', 'knncc_ld', 'knncc_mo', 'knncc_sn', 'knncc_soc']\n"
     ]
    }
   ],
   "source": [
    "eval_colnames = params+ ['S_total'] + ['S_'+x for x in labeltypes] + ['Snorm_total'] + ['Snorm_'+x for x in labeltypes] + ['SIL_total'] + ['SIL_'+x for x in labeltypes]+['knncc_'+x for x in labeltypes]\n",
    "print(eval_colnames)\n",
    "\n",
    "eval_table = np.zeros((len(all_embedding_files), len(eval_colnames)))\n",
    "eval_table = pd.DataFrame(eval_table, columns=eval_colnames)"
   ]
  },
  {
   "cell_type": "code",
   "execution_count": 93,
   "id": "ff0cb6ad-4aa7-45f6-b33c-f94b2f012724",
   "metadata": {},
   "outputs": [],
   "source": [
    "k=5\n",
    "\n",
    "for i,embedding_file in enumerate(all_embedding_files):\n",
    "    \n",
    "    embedding = np.loadtxt(os.path.join(os.path.sep, OUT_COORDS, embedding_file),delimiter=\";\")\n",
    "    \n",
    "    embedding_params_string = embedding_file.replace('.csv', '')\n",
    "    embedding_params_list = embedding_params_string.split('_')\n",
    "    \n",
    "    nn_stats = nn(embedding, labels, k=k)\n",
    "    sil_stats = sil(embedding, labels)\n",
    "\n",
    "    eval_vector = embedding_params_list + [nn_stats.get_S()] + list(nn_stats.get_ownclass_S()) + [nn_stats.get_Snorm()] + list(nn_stats.get_ownclass_Snorm()) + [sil_stats.get_avrg_score()] + list(sil_stats.get_score_per_class()) + list(nn_stats.knn_cc())\n",
    "    eval_table.loc[i,:] = eval_vector"
   ]
  },
  {
   "cell_type": "code",
   "execution_count": 24,
   "id": "ec1184ca-55b0-40df-94a4-b8faf2e46e55",
   "metadata": {},
   "outputs": [
    {
     "data": {
      "text/html": [
       "<div>\n",
       "<style scoped>\n",
       "    .dataframe tbody tr th:only-of-type {\n",
       "        vertical-align: middle;\n",
       "    }\n",
       "\n",
       "    .dataframe tbody tr th {\n",
       "        vertical-align: top;\n",
       "    }\n",
       "\n",
       "    .dataframe thead th {\n",
       "        text-align: right;\n",
       "    }\n",
       "</style>\n",
       "<table border=\"1\" class=\"dataframe\">\n",
       "  <thead>\n",
       "    <tr style=\"text-align: right;\">\n",
       "      <th></th>\n",
       "      <th>preprocess_type</th>\n",
       "      <th>metric_type</th>\n",
       "      <th>duration_method</th>\n",
       "      <th>min_dist</th>\n",
       "      <th>spread</th>\n",
       "      <th>n_neighbors</th>\n",
       "      <th>n_comps</th>\n",
       "      <th>input_type</th>\n",
       "      <th>n_repeat</th>\n",
       "      <th>S_total</th>\n",
       "      <th>...</th>\n",
       "      <th>SIL_mo</th>\n",
       "      <th>SIL_sn</th>\n",
       "      <th>SIL_soc</th>\n",
       "      <th>knncc_agg</th>\n",
       "      <th>knncc_al</th>\n",
       "      <th>knncc_cc</th>\n",
       "      <th>knncc_ld</th>\n",
       "      <th>knncc_mo</th>\n",
       "      <th>knncc_sn</th>\n",
       "      <th>knncc_soc</th>\n",
       "    </tr>\n",
       "  </thead>\n",
       "  <tbody>\n",
       "    <tr>\n",
       "      <th>0</th>\n",
       "      <td>no</td>\n",
       "      <td>manhattan</td>\n",
       "      <td>pad</td>\n",
       "      <td>0</td>\n",
       "      <td>1</td>\n",
       "      <td>15</td>\n",
       "      <td>5</td>\n",
       "      <td>melspecs</td>\n",
       "      <td>0</td>\n",
       "      <td>51.194697</td>\n",
       "      <td>...</td>\n",
       "      <td>-0.167510</td>\n",
       "      <td>0.391238</td>\n",
       "      <td>-0.413327</td>\n",
       "      <td>5.333333</td>\n",
       "      <td>35.758514</td>\n",
       "      <td>21.123900</td>\n",
       "      <td>0.000000</td>\n",
       "      <td>13.043478</td>\n",
       "      <td>78.652291</td>\n",
       "      <td>22.270364</td>\n",
       "    </tr>\n",
       "    <tr>\n",
       "      <th>1</th>\n",
       "      <td>no</td>\n",
       "      <td>manhattan</td>\n",
       "      <td>pad</td>\n",
       "      <td>0</td>\n",
       "      <td>1</td>\n",
       "      <td>15</td>\n",
       "      <td>5</td>\n",
       "      <td>melspecs</td>\n",
       "      <td>1</td>\n",
       "      <td>51.035012</td>\n",
       "      <td>...</td>\n",
       "      <td>-0.168814</td>\n",
       "      <td>0.386173</td>\n",
       "      <td>-0.415502</td>\n",
       "      <td>4.800000</td>\n",
       "      <td>35.913313</td>\n",
       "      <td>21.665538</td>\n",
       "      <td>0.000000</td>\n",
       "      <td>12.648221</td>\n",
       "      <td>78.975741</td>\n",
       "      <td>21.837088</td>\n",
       "    </tr>\n",
       "    <tr>\n",
       "      <th>2</th>\n",
       "      <td>no</td>\n",
       "      <td>manhattan</td>\n",
       "      <td>pad</td>\n",
       "      <td>0</td>\n",
       "      <td>1</td>\n",
       "      <td>15</td>\n",
       "      <td>5</td>\n",
       "      <td>melspecs</td>\n",
       "      <td>2</td>\n",
       "      <td>51.904037</td>\n",
       "      <td>...</td>\n",
       "      <td>-0.169296</td>\n",
       "      <td>0.391640</td>\n",
       "      <td>-0.413507</td>\n",
       "      <td>5.866667</td>\n",
       "      <td>35.294118</td>\n",
       "      <td>21.394719</td>\n",
       "      <td>0.000000</td>\n",
       "      <td>14.097497</td>\n",
       "      <td>79.137466</td>\n",
       "      <td>22.790295</td>\n",
       "    </tr>\n",
       "    <tr>\n",
       "      <th>3</th>\n",
       "      <td>no</td>\n",
       "      <td>manhattan</td>\n",
       "      <td>pad</td>\n",
       "      <td>0</td>\n",
       "      <td>1</td>\n",
       "      <td>15</td>\n",
       "      <td>5</td>\n",
       "      <td>melspecs</td>\n",
       "      <td>3</td>\n",
       "      <td>51.535663</td>\n",
       "      <td>...</td>\n",
       "      <td>-0.172852</td>\n",
       "      <td>0.402661</td>\n",
       "      <td>-0.419195</td>\n",
       "      <td>3.733333</td>\n",
       "      <td>36.842105</td>\n",
       "      <td>20.920785</td>\n",
       "      <td>0.000000</td>\n",
       "      <td>14.624506</td>\n",
       "      <td>78.921833</td>\n",
       "      <td>22.963605</td>\n",
       "    </tr>\n",
       "    <tr>\n",
       "      <th>4</th>\n",
       "      <td>no</td>\n",
       "      <td>manhattan</td>\n",
       "      <td>pad</td>\n",
       "      <td>0</td>\n",
       "      <td>1</td>\n",
       "      <td>15</td>\n",
       "      <td>5</td>\n",
       "      <td>melspecs</td>\n",
       "      <td>4</td>\n",
       "      <td>51.602490</td>\n",
       "      <td>...</td>\n",
       "      <td>-0.172395</td>\n",
       "      <td>0.389527</td>\n",
       "      <td>-0.418448</td>\n",
       "      <td>4.800000</td>\n",
       "      <td>35.139319</td>\n",
       "      <td>19.295870</td>\n",
       "      <td>0.000000</td>\n",
       "      <td>12.516469</td>\n",
       "      <td>79.407008</td>\n",
       "      <td>22.443674</td>\n",
       "    </tr>\n",
       "    <tr>\n",
       "      <th>...</th>\n",
       "      <td>...</td>\n",
       "      <td>...</td>\n",
       "      <td>...</td>\n",
       "      <td>...</td>\n",
       "      <td>...</td>\n",
       "      <td>...</td>\n",
       "      <td>...</td>\n",
       "      <td>...</td>\n",
       "      <td>...</td>\n",
       "      <td>...</td>\n",
       "      <td>...</td>\n",
       "      <td>...</td>\n",
       "      <td>...</td>\n",
       "      <td>...</td>\n",
       "      <td>...</td>\n",
       "      <td>...</td>\n",
       "      <td>...</td>\n",
       "      <td>...</td>\n",
       "      <td>...</td>\n",
       "      <td>...</td>\n",
       "      <td>...</td>\n",
       "    </tr>\n",
       "    <tr>\n",
       "      <th>105</th>\n",
       "      <td>zs</td>\n",
       "      <td>manhattan</td>\n",
       "      <td>timeshift-pad</td>\n",
       "      <td>0</td>\n",
       "      <td>1</td>\n",
       "      <td>15</td>\n",
       "      <td>5</td>\n",
       "      <td>melspecs</td>\n",
       "      <td>0</td>\n",
       "      <td>66.007241</td>\n",
       "      <td>...</td>\n",
       "      <td>0.308355</td>\n",
       "      <td>0.556464</td>\n",
       "      <td>-0.045367</td>\n",
       "      <td>11.466667</td>\n",
       "      <td>56.037152</td>\n",
       "      <td>56.668923</td>\n",
       "      <td>3.048780</td>\n",
       "      <td>39.789196</td>\n",
       "      <td>83.773585</td>\n",
       "      <td>37.521664</td>\n",
       "    </tr>\n",
       "    <tr>\n",
       "      <th>106</th>\n",
       "      <td>zs</td>\n",
       "      <td>manhattan</td>\n",
       "      <td>timeshift-pad</td>\n",
       "      <td>0</td>\n",
       "      <td>1</td>\n",
       "      <td>15</td>\n",
       "      <td>5</td>\n",
       "      <td>melspecs</td>\n",
       "      <td>1</td>\n",
       "      <td>66.131070</td>\n",
       "      <td>...</td>\n",
       "      <td>0.314196</td>\n",
       "      <td>0.534360</td>\n",
       "      <td>-0.052162</td>\n",
       "      <td>9.866667</td>\n",
       "      <td>57.739938</td>\n",
       "      <td>55.856466</td>\n",
       "      <td>3.658537</td>\n",
       "      <td>39.130435</td>\n",
       "      <td>85.336927</td>\n",
       "      <td>38.388215</td>\n",
       "    </tr>\n",
       "    <tr>\n",
       "      <th>107</th>\n",
       "      <td>zs</td>\n",
       "      <td>manhattan</td>\n",
       "      <td>timeshift-pad</td>\n",
       "      <td>0</td>\n",
       "      <td>1</td>\n",
       "      <td>15</td>\n",
       "      <td>5</td>\n",
       "      <td>melspecs</td>\n",
       "      <td>2</td>\n",
       "      <td>65.869564</td>\n",
       "      <td>...</td>\n",
       "      <td>0.298013</td>\n",
       "      <td>0.537106</td>\n",
       "      <td>-0.049484</td>\n",
       "      <td>4.800000</td>\n",
       "      <td>55.572755</td>\n",
       "      <td>56.194990</td>\n",
       "      <td>4.268293</td>\n",
       "      <td>37.417655</td>\n",
       "      <td>83.557951</td>\n",
       "      <td>39.514731</td>\n",
       "    </tr>\n",
       "    <tr>\n",
       "      <th>108</th>\n",
       "      <td>zs</td>\n",
       "      <td>manhattan</td>\n",
       "      <td>timeshift-pad</td>\n",
       "      <td>0</td>\n",
       "      <td>1</td>\n",
       "      <td>15</td>\n",
       "      <td>5</td>\n",
       "      <td>melspecs</td>\n",
       "      <td>3</td>\n",
       "      <td>62.159519</td>\n",
       "      <td>...</td>\n",
       "      <td>-0.099196</td>\n",
       "      <td>0.156060</td>\n",
       "      <td>-0.106159</td>\n",
       "      <td>6.933333</td>\n",
       "      <td>48.452012</td>\n",
       "      <td>45.633040</td>\n",
       "      <td>4.268293</td>\n",
       "      <td>34.387352</td>\n",
       "      <td>82.048518</td>\n",
       "      <td>34.055459</td>\n",
       "    </tr>\n",
       "    <tr>\n",
       "      <th>109</th>\n",
       "      <td>zs</td>\n",
       "      <td>manhattan</td>\n",
       "      <td>timeshift-pad</td>\n",
       "      <td>0</td>\n",
       "      <td>1</td>\n",
       "      <td>15</td>\n",
       "      <td>5</td>\n",
       "      <td>melspecs</td>\n",
       "      <td>4</td>\n",
       "      <td>65.436510</td>\n",
       "      <td>...</td>\n",
       "      <td>0.286003</td>\n",
       "      <td>0.233769</td>\n",
       "      <td>-0.035952</td>\n",
       "      <td>8.800000</td>\n",
       "      <td>54.798762</td>\n",
       "      <td>54.570074</td>\n",
       "      <td>3.658537</td>\n",
       "      <td>38.208169</td>\n",
       "      <td>84.366577</td>\n",
       "      <td>37.868284</td>\n",
       "    </tr>\n",
       "  </tbody>\n",
       "</table>\n",
       "<p>110 rows × 40 columns</p>\n",
       "</div>"
      ],
      "text/plain": [
       "    preprocess_type metric_type duration_method min_dist spread n_neighbors  \\\n",
       "0                no   manhattan             pad        0      1          15   \n",
       "1                no   manhattan             pad        0      1          15   \n",
       "2                no   manhattan             pad        0      1          15   \n",
       "3                no   manhattan             pad        0      1          15   \n",
       "4                no   manhattan             pad        0      1          15   \n",
       "..              ...         ...             ...      ...    ...         ...   \n",
       "105              zs   manhattan   timeshift-pad        0      1          15   \n",
       "106              zs   manhattan   timeshift-pad        0      1          15   \n",
       "107              zs   manhattan   timeshift-pad        0      1          15   \n",
       "108              zs   manhattan   timeshift-pad        0      1          15   \n",
       "109              zs   manhattan   timeshift-pad        0      1          15   \n",
       "\n",
       "    n_comps input_type n_repeat    S_total  ...    SIL_mo    SIL_sn   SIL_soc  \\\n",
       "0         5   melspecs        0  51.194697  ... -0.167510  0.391238 -0.413327   \n",
       "1         5   melspecs        1  51.035012  ... -0.168814  0.386173 -0.415502   \n",
       "2         5   melspecs        2  51.904037  ... -0.169296  0.391640 -0.413507   \n",
       "3         5   melspecs        3  51.535663  ... -0.172852  0.402661 -0.419195   \n",
       "4         5   melspecs        4  51.602490  ... -0.172395  0.389527 -0.418448   \n",
       "..      ...        ...      ...        ...  ...       ...       ...       ...   \n",
       "105       5   melspecs        0  66.007241  ...  0.308355  0.556464 -0.045367   \n",
       "106       5   melspecs        1  66.131070  ...  0.314196  0.534360 -0.052162   \n",
       "107       5   melspecs        2  65.869564  ...  0.298013  0.537106 -0.049484   \n",
       "108       5   melspecs        3  62.159519  ... -0.099196  0.156060 -0.106159   \n",
       "109       5   melspecs        4  65.436510  ...  0.286003  0.233769 -0.035952   \n",
       "\n",
       "     knncc_agg   knncc_al   knncc_cc  knncc_ld   knncc_mo   knncc_sn  \\\n",
       "0     5.333333  35.758514  21.123900  0.000000  13.043478  78.652291   \n",
       "1     4.800000  35.913313  21.665538  0.000000  12.648221  78.975741   \n",
       "2     5.866667  35.294118  21.394719  0.000000  14.097497  79.137466   \n",
       "3     3.733333  36.842105  20.920785  0.000000  14.624506  78.921833   \n",
       "4     4.800000  35.139319  19.295870  0.000000  12.516469  79.407008   \n",
       "..         ...        ...        ...       ...        ...        ...   \n",
       "105  11.466667  56.037152  56.668923  3.048780  39.789196  83.773585   \n",
       "106   9.866667  57.739938  55.856466  3.658537  39.130435  85.336927   \n",
       "107   4.800000  55.572755  56.194990  4.268293  37.417655  83.557951   \n",
       "108   6.933333  48.452012  45.633040  4.268293  34.387352  82.048518   \n",
       "109   8.800000  54.798762  54.570074  3.658537  38.208169  84.366577   \n",
       "\n",
       "     knncc_soc  \n",
       "0    22.270364  \n",
       "1    21.837088  \n",
       "2    22.790295  \n",
       "3    22.963605  \n",
       "4    22.443674  \n",
       "..         ...  \n",
       "105  37.521664  \n",
       "106  38.388215  \n",
       "107  39.514731  \n",
       "108  34.055459  \n",
       "109  37.868284  \n",
       "\n",
       "[110 rows x 40 columns]"
      ]
     },
     "execution_count": 24,
     "metadata": {},
     "output_type": "execute_result"
    }
   ],
   "source": [
    "eval_table"
   ]
  },
  {
   "cell_type": "code",
   "execution_count": 77,
   "id": "51dc940f-0a2c-4f81-b5b9-4edff691d36d",
   "metadata": {},
   "outputs": [],
   "source": [
    "eval_table['knncc_total'] = eval_table[['knncc_'+x for x in labeltypes]].mean(axis=1)"
   ]
  },
  {
   "cell_type": "code",
   "execution_count": 78,
   "id": "78c84dcb-c605-491d-b9fc-df66e35086c8",
   "metadata": {},
   "outputs": [],
   "source": [
    "eval_table[\"min_dist\"] = pd.to_numeric(eval_table[\"min_dist\"])\n",
    "eval_table[\"n_neighbors\"] = pd.to_numeric(eval_table[\"n_neighbors\"])\n",
    "eval_table[\"spread\"] = pd.to_numeric(eval_table[\"spread\"])\n",
    "eval_table[\"n_comps\"] = pd.to_numeric(eval_table[\"n_comps\"])\n",
    "eval_table[\"n_repeat\"] = pd.to_numeric(eval_table[\"n_repeat\"])"
   ]
  },
  {
   "cell_type": "code",
   "execution_count": 79,
   "id": "e64a5c8d-3e0c-4b98-9b82-38b4325a09bc",
   "metadata": {},
   "outputs": [],
   "source": [
    "outname = os.path.join(os.path.sep, OUT_EVALS, 'eval_table_'+str(k)+'.csv')\n",
    "eval_table.to_csv(outname, sep=\";\")"
   ]
  },
  {
   "cell_type": "markdown",
   "id": "be067961-7363-4e12-89c4-99770d277ae9",
   "metadata": {},
   "source": [
    "## Plot results"
   ]
  },
  {
   "cell_type": "code",
   "execution_count": 9,
   "id": "30169d62-3c2f-48b8-a96d-96dce04322bc",
   "metadata": {},
   "outputs": [],
   "source": [
    "outname = os.path.join(os.path.sep, OUT_EVALS, 'eval_table_5.csv')\n",
    "eval_table = pd.read_csv(outname, sep=\";\")"
   ]
  },
  {
   "cell_type": "code",
   "execution_count": 80,
   "id": "dd46a028-b2aa-4bf3-9a5c-96cdf020fc16",
   "metadata": {},
   "outputs": [
    {
     "data": {
      "text/plain": [
       "['S_agg', 'S_al', 'S_cc', 'S_ld', 'S_mo', 'S_sn', 'S_soc']"
      ]
     },
     "execution_count": 80,
     "metadata": {},
     "output_type": "execute_result"
    }
   ],
   "source": [
    "calltypes = sorted(list(set(spec_df.call_lable)))\n",
    "\n",
    "outvars = [\"S_total\"]\n",
    "outvars = ['S_'+x for x in calltypes]\n",
    "outvars"
   ]
  },
  {
   "cell_type": "code",
   "execution_count": 81,
   "id": "dea606ed-6219-4c91-aad7-fbfc143f3e41",
   "metadata": {},
   "outputs": [],
   "source": [
    "params = ['preprocess_type', 'metric_type', 'duration_method','min_dist', 'spread', 'n_neighbors', 'n_comps', 'input_type', 'n_repeat']\n",
    "p_default = dict(zip(params[:-1], ['zs', 'manhattan', 'pad', 0, 1, 15, 5, 'melspecs']))"
   ]
  },
  {
   "cell_type": "code",
   "execution_count": 82,
   "id": "9a95c960-fc0f-42fd-bdd5-b4b1f7d7a399",
   "metadata": {},
   "outputs": [
    {
     "name": "stdout",
     "output_type": "stream",
     "text": [
      "(25, 41)\n"
     ]
    }
   ],
   "source": [
    "param = params[0]\n",
    "\n",
    "other_params = set(params).difference([param, 'n_repeat'])\n",
    "\n",
    "df = eval_table\n",
    "for p in other_params:\n",
    "    df = df.loc[df[p]==p_default[p],:]\n",
    "print(df.shape)\n",
    "#boxplot = df[[param]+[outvars]].boxplot(by=param)\n",
    "df = df[[param]+outvars]\n",
    "#[param]+outvars"
   ]
  },
  {
   "cell_type": "code",
   "execution_count": 83,
   "id": "0bed9601-48f4-4fbd-95ef-f3b7f05a9187",
   "metadata": {},
   "outputs": [
    {
     "data": {
      "text/plain": [
       "['preprocess_type',\n",
       " 'metric_type',\n",
       " 'duration_method',\n",
       " 'min_dist',\n",
       " 'spread',\n",
       " 'n_neighbors',\n",
       " 'n_comps',\n",
       " 'input_type',\n",
       " 'n_repeat']"
      ]
     },
     "execution_count": 83,
     "metadata": {},
     "output_type": "execute_result"
    }
   ],
   "source": [
    "params"
   ]
  },
  {
   "cell_type": "code",
   "execution_count": 90,
   "id": "a38b99ce-a7ca-4096-aa07-978a10f7e75d",
   "metadata": {},
   "outputs": [
    {
     "name": "stdout",
     "output_type": "stream",
     "text": [
      "(35, 41)\n"
     ]
    },
    {
     "data": {
      "image/png": "[encoded data removed]",
      "text/plain": [
       "<Figure size 432x288 with 1 Axes>"
      ]
     },
     "metadata": {
      "needs_background": "light"
     },
     "output_type": "display_data"
    }
   ],
   "source": [
    "param = 'input_type'\n",
    "#param = 'duration_method'\n",
    "#param='preprocess_type'\n",
    "param = 'n_neighbors'\n",
    "#param = 'metric_type'\n",
    "\n",
    "outvar = 'S_total'\n",
    "other_params = set(params).difference([param, 'n_repeat'])\n",
    "\n",
    "df = eval_table\n",
    "for p in other_params:\n",
    "    df = df.loc[df[p]==p_default[p],:]\n",
    "print(df.shape)\n",
    "boxplot = df[[param]+[outvar]].boxplot(by=param)"
   ]
  },
  {
   "cell_type": "code",
   "execution_count": 85,
   "id": "8e26fe2a-6fa8-4bdc-9e5d-3e2272b5ba82",
   "metadata": {},
   "outputs": [],
   "source": [
    "param = 'input_type'\n",
    "param = 'duration_method'\n",
    "param='preprocess_type'\n",
    "param = 'n_neighbors'\n",
    "#param = 'metric_type'"
   ]
  },
  {
   "cell_type": "code",
   "execution_count": 34,
   "id": "d3cb2286-b07c-4639-9efd-1a3c14f0f172",
   "metadata": {},
   "outputs": [],
   "source": [
    "import seaborn as sns\n",
    "import matplotlib.pyplot as plt"
   ]
  },
  {
   "cell_type": "code",
   "execution_count": 86,
   "id": "7c450fc0-fe7d-4d02-83f6-91df7d28904d",
   "metadata": {},
   "outputs": [
    {
     "name": "stdout",
     "output_type": "stream",
     "text": [
      "(35, 41)\n"
     ]
    },
    {
     "data": {
      "image/png": "[encoded data removed]",
      "text/plain": [
       "<Figure size 432x288 with 1 Axes>"
      ]
     },
     "metadata": {
      "needs_background": "light"
     },
     "output_type": "display_data"
    }
   ],
   "source": [
    "out_v = 'knncc'\n",
    "outvars = [out_v+'_'+x for x in calltypes]\n",
    "other_params = set(params).difference([param, 'n_repeat'])\n",
    "\n",
    "df = eval_table\n",
    "for p in other_params:\n",
    "    df = df.loc[df[p]==p_default[p],:]\n",
    "print(df.shape)\n",
    "means = df[[param, out_v+'_total']]\n",
    "df = df[[param]+outvars]\n",
    "\n",
    "melted = pd.melt(df, id_vars=param, value_vars=outvars)\n",
    "melted = melted.sort_values(by=param)\n",
    "\n",
    "sns.lineplot(x=param, y=\"value\", hue=\"variable\", data=melted, palette=\"Set2\", hue_order=outvars, err_style='band')\n",
    "sns.lineplot(x=param, y=out_v+'_total', data=means, color='black')\n",
    "plt.ylabel(out_v)\n",
    "plt.ylim(0,100)\n",
    "plt.legend(bbox_to_anchor=(1.05,1),loc=2, borderaxespad=0.)\n",
    "plt.show()"
   ]
  },
  {
   "cell_type": "code",
   "execution_count": 87,
   "id": "25a6c7c0-35a6-445e-ac01-c790ebaa35ae",
   "metadata": {},
   "outputs": [
    {
     "name": "stdout",
     "output_type": "stream",
     "text": [
      "(35, 41)\n"
     ]
    },
    {
     "data": {
      "image/png": "[encoded data removed]",
      "text/plain": [
       "<Figure size 432x288 with 1 Axes>"
      ]
     },
     "metadata": {
      "needs_background": "light"
     },
     "output_type": "display_data"
    }
   ],
   "source": [
    "out_v = 'SIL'\n",
    "#out_v = 'knncc'\n",
    "outvars = [out_v+'_'+x for x in calltypes]\n",
    "other_params = set(params).difference([param, 'n_repeat'])\n",
    "\n",
    "df = eval_table\n",
    "for p in other_params:\n",
    "    df = df.loc[df[p]==p_default[p],:]\n",
    "print(df.shape)\n",
    "means = df[[param, out_v+'_total']]\n",
    "df = df[[param]+outvars]\n",
    "\n",
    "melted = pd.melt(df, id_vars=param, value_vars=outvars)\n",
    "melted = melted.sort_values(by=param)\n",
    "\n",
    "sns.lineplot(x=param, y=\"value\", hue=\"variable\", data=melted, palette=\"Set2\", hue_order=outvars, err_style='band')\n",
    "sns.lineplot(x=param, y=out_v+'_total', data=means, color='black')\n",
    "plt.ylabel(out_v)\n",
    "plt.ylim(-0.65, 0.65)\n",
    "plt.legend(bbox_to_anchor=(1.05,1),loc=2, borderaxespad=0.)\n",
    "plt.show()"
   ]
  },
  {
   "cell_type": "code",
   "execution_count": 88,
   "id": "0142f655-c91d-4d49-acfe-f66a27dbd06b",
   "metadata": {},
   "outputs": [
    {
     "name": "stdout",
     "output_type": "stream",
     "text": [
      "(35, 41)\n"
     ]
    },
    {
     "data": {
      "image/png": "[encoded data removed]",
      "text/plain": [
       "<Figure size 432x288 with 1 Axes>"
      ]
     },
     "metadata": {
      "needs_background": "light"
     },
     "output_type": "display_data"
    }
   ],
   "source": [
    "out_v = 'S'\n",
    "outvars = [out_v+'_'+x for x in calltypes]\n",
    "other_params = set(params).difference([param, 'n_repeat'])\n",
    "\n",
    "df = eval_table\n",
    "for p in other_params:\n",
    "    df = df.loc[df[p]==p_default[p],:]\n",
    "print(df.shape)\n",
    "means = df[[param, out_v+'_total']]\n",
    "df = df[[param]+outvars]\n",
    "\n",
    "melted = pd.melt(df, id_vars=param, value_vars=outvars)\n",
    "melted = melted.sort_values(by=param)\n",
    "\n",
    "sns.lineplot(x=param, y=\"value\", hue=\"variable\", data=melted, palette=\"Set2\", hue_order=outvars, err_style='band')\n",
    "sns.lineplot(x=param, y=out_v+'_total', data=means, color='black')\n",
    "plt.ylabel(out_v)\n",
    "plt.ylim(0, 100)\n",
    "plt.legend(bbox_to_anchor=(1.05,1),loc=2, borderaxespad=0.)\n",
    "plt.show()"
   ]
  },
  {
   "cell_type": "code",
   "execution_count": 165,
   "id": "9e33acaf-d358-49f2-bf82-bcc3d07c2d39",
   "metadata": {},
   "outputs": [
    {
     "data": {
      "text/plain": [
       "'preprocess_type'"
      ]
     },
     "execution_count": 165,
     "metadata": {},
     "output_type": "execute_result"
    }
   ],
   "source": [
    "param"
   ]
  },
  {
   "cell_type": "code",
   "execution_count": 150,
   "id": "6ef6b57a-c92b-425a-a1eb-2712ceb200ef",
   "metadata": {},
   "outputs": [
    {
     "data": {
      "text/plain": [
       "['SIL_agg', 'SIL_al', 'SIL_cc', 'SIL_ld', 'SIL_mo', 'SIL_sn', 'SIL_soc']"
      ]
     },
     "execution_count": 150,
     "metadata": {},
     "output_type": "execute_result"
    }
   ],
   "source": [
    "calltypes = sorted(list(set(spec_df.call_lable)))\n",
    "outvars = [\"SIL_total\"]\n",
    "outvars = ['SIL_'+x for x in calltypes]\n",
    "outvars"
   ]
  },
  {
   "cell_type": "code",
   "execution_count": 51,
   "id": "771169df-5f5f-4dfa-a98c-2d8adec2ac13",
   "metadata": {},
   "outputs": [
    {
     "name": "stdout",
     "output_type": "stream",
     "text": [
      "(25, 41)\n"
     ]
    }
   ],
   "source": [
    "param = params[0]\n",
    "other_params = set(params).difference([param, 'n_repeat'])\n",
    "\n",
    "\n",
    "df = eval_table\n",
    "for p in other_params:\n",
    "    df = df.loc[df[p]==p_default[p],:]\n",
    "print(df.shape)\n",
    "#boxplot = df[[param]+[outvars]].boxplot(by=param)\n",
    "df = df[[param]+outvars]\n",
    "\n",
    "levels = sorted(list(set(df[param])))\n",
    "mean_df = df.groupby([param]).mean()\n",
    "std_df = df.groupby([param]).std()\n",
    "#outvar = outvars[0]\n",
    "#df[outvar].values"
   ]
  },
  {
   "cell_type": "code",
   "execution_count": 52,
   "id": "fda5892c-bf39-4db8-b6c7-d08087e2ccc0",
   "metadata": {},
   "outputs": [],
   "source": [
    "pal = sns.color_palette(\"Set2\", n_colors=len(outvars))\n",
    "color_dict = dict(zip(outvars, pal))"
   ]
  },
  {
   "cell_type": "code",
   "execution_count": 54,
   "id": "61274577-5db6-4ef3-8462-4f26ccd75444",
   "metadata": {},
   "outputs": [
    {
     "data": {
      "image/png": "[encoded data removed]",
      "text/plain": [
       "<Figure size 504x288 with 1 Axes>"
      ]
     },
     "metadata": {
      "needs_background": "light"
     },
     "output_type": "display_data"
    }
   ],
   "source": [
    "# example data\n",
    "x = levels\n",
    "ls = 'dotted'\n",
    "fig, ax = plt.subplots(figsize=(7, 4))\n",
    "\n",
    "for outvar in outvars:\n",
    "    y = mean_df[outvar].values\n",
    "    yerr = std_df[outvar].values\n",
    "    ax.errorbar(x, y, yerr=yerr, linestyle=ls, color=color_dict[outvar])\n",
    "\n",
    "#ax.set_ylim((0, 100))\n",
    "ax.set_title(param)\n",
    "plt.show()"
   ]
  },
  {
   "cell_type": "code",
   "execution_count": null,
   "id": "b8c9959b-b7ef-4784-bf17-2f187cd07a1f",
   "metadata": {},
   "outputs": [],
   "source": [
    "#df = df.groupby([param]).mean()"
   ]
  },
  {
   "cell_type": "code",
   "execution_count": null,
   "id": "a7339a29-94c1-4396-bfca-0eb39cc9ebb8",
   "metadata": {},
   "outputs": [],
   "source": []
  }
 ],
 "metadata": {
  "kernelspec": {
   "display_name": "Python 3",
   "language": "python",
   "name": "python3"
  },
  "language_info": {
   "codemirror_mode": {
    "name": "ipython",
    "version": 3
   },
   "file_extension": ".py",
   "mimetype": "text/x-python",
   "name": "python",
   "nbconvert_exporter": "python",
   "pygments_lexer": "ipython3",
   "version": "3.7.10"
  }
 },
 "nbformat": 4,
 "nbformat_minor": 5
}
