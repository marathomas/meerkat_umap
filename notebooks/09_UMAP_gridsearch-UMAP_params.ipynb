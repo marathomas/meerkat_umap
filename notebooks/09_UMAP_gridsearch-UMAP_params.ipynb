{
 "cells": [
  {
   "cell_type": "markdown",
   "id": "01b8abf2",
   "metadata": {},
   "source": [
    "# Calculate UMAP embeddings with different UMAP parameters"
   ]
  },
  {
   "cell_type": "code",
   "execution_count": 1,
   "id": "8d7c0634",
   "metadata": {},
   "outputs": [],
   "source": [
    "import os\n",
    "import pandas as pd\n",
    "import sys\n",
    "import numpy as np\n",
    "from pandas.core.common import flatten\n",
    "import pickle\n",
    "import umap\n",
    "from pathlib import Path"
   ]
  },
  {
   "cell_type": "code",
   "execution_count": 13,
   "id": "daedfea3-54bf-4287-aef4-b52d1a78e3cd",
   "metadata": {},
   "outputs": [],
   "source": [
    "from preprocessing_functions import calc_zscore, create_padded_data"
   ]
  },
  {
   "cell_type": "code",
   "execution_count": 3,
   "id": "fc828ddd",
   "metadata": {},
   "outputs": [],
   "source": [
    "wd = os.getcwd()\n",
    "\n",
    "DF = os.path.join(os.path.sep, str(Path(wd).parents[0]), \"data\", \"processed\", \"df_focal_reduced.pkl\")\n",
    "OUT_COORDS = os.path.join(os.path.sep, str(Path(wd).parents[0]), \"data\", \"interim\", \"parameter_search\", \"grid_search_umap_params\")\n",
    "\n",
    "if (not os.path.isdir(OUT_COORDS)):\n",
    "    os.mkdir(OUT_COORDS)"
   ]
  },
  {
   "cell_type": "markdown",
   "id": "02ead17c-fb37-4f6f-8148-aac9b2b99c13",
   "metadata": {},
   "source": [
    "## Generate dataframe for grid search"
   ]
  },
  {
   "cell_type": "markdown",
   "id": "396545a2",
   "metadata": {},
   "source": [
    "## Gridsearch"
   ]
  },
  {
   "cell_type": "code",
   "execution_count": 4,
   "id": "cc9395a1-1235-4994-8ed9-1e7ce3652b97",
   "metadata": {},
   "outputs": [],
   "source": [
    "spec_df = pd.read_pickle(os.path.join(os.path.sep, str(Path(wd).parents[0]), \"data\", \"processed\", \"df_focal_reduced.pkl\"))"
   ]
  },
  {
   "cell_type": "code",
   "execution_count": 15,
   "id": "dfb9a7e6-1c6f-4da5-9505-34e5d076c0e9",
   "metadata": {},
   "outputs": [],
   "source": [
    "DEF_PREPROCESS_TYPE = 'zs'\n",
    "DEF_METRIC_TYPE = 'euclidean'\n",
    "DEF_DURATION_METHOD = 'pad'\n",
    "DEF_MIN_DIST = 0\n",
    "DEF_SPREAD = 1\n",
    "DEF_N_NEIGHBORS = 15\n",
    "DEF_N_COMPS = 3\n",
    "DEF_DENOISE = 'no'\n",
    "DEF_N_MELS = 40\n",
    "DEF_F_UNIT = 'dB'\n",
    "DEF_BP_FILTERED = 'no'\n",
    "DEF_INPUT_TYPE = 'specs'\n",
    "\n",
    "input_type = DEF_INPUT_TYPE\n",
    "preprocess_type = DEF_PREPROCESS_TYPE\n",
    "metric_type = DEF_METRIC_TYPE\n",
    "duration_method = DEF_DURATION_METHOD\n",
    "min_dist = DEF_MIN_DIST\n",
    "spread = DEF_SPREAD\n",
    "n_neighbors= DEF_N_NEIGHBORS\n",
    "n_comps = DEF_N_COMPS\n",
    "denoise = DEF_DENOISE\n",
    "n_mels = DEF_N_MELS\n",
    "f_unit = DEF_F_UNIT\n",
    "bp_filtered = DEF_BP_FILTERED"
   ]
  },
  {
   "cell_type": "code",
   "execution_count": 16,
   "id": "438ee331",
   "metadata": {},
   "outputs": [],
   "source": [
    "def get_param_string():\n",
    "    param_combi = \"_\".join([str(x) for x in [preprocess_type, metric_type, duration_method,\n",
    "                                             min_dist, spread, n_neighbors, n_comps, input_type, \n",
    "                                             denoise, n_mels, f_unit, bp_filtered]])\n",
    "    return param_combi"
   ]
  },
  {
   "cell_type": "code",
   "execution_count": 17,
   "id": "941699ae",
   "metadata": {},
   "outputs": [],
   "source": [
    "def calc_umap(data, outname, metric=DEF_METRIC_TYPE, min_dist=DEF_MIN_DIST, spread=DEF_SPREAD, n_neighbors=DEF_N_NEIGHBORS, n_comps=DEF_N_COMPS,n = 1):\n",
    "    \n",
    "    for i in range(n):\n",
    "        reducer = umap.UMAP(n_components = n_comps, \n",
    "                            min_dist=min_dist,\n",
    "                            spread=spread,\n",
    "                            n_neighbors=n_neighbors,\n",
    "                            metric=metric,\n",
    "                            random_state=2204)\n",
    "\n",
    "        embedding = reducer.fit_transform(data)\n",
    "        print(outname)\n",
    "        np.savetxt(outname+'_'+str(i)+'.csv', embedding, delimiter=\";\")   "
   ]
  },
  {
   "cell_type": "code",
   "execution_count": 18,
   "id": "9957b80e-88fc-4a8a-8217-405eb14e1b26",
   "metadata": {},
   "outputs": [],
   "source": [
    "# *************** DO THE FULL GRIDSEARCH ***************"
   ]
  },
  {
   "cell_type": "code",
   "execution_count": 19,
   "id": "b2e10b50-8b8f-4499-8f43-361295a300f3",
   "metadata": {},
   "outputs": [
    {
     "name": "stderr",
     "output_type": "stream",
     "text": [
      "/home/mthomas/anaconda3/envs/meerkat_umap_env_3/lib/python3.7/site-packages/umap/umap_.py:1330: RuntimeWarning: divide by zero encountered in power\n",
      "  return 1.0 / (1.0 + a * x ** (2 * b))\n",
      "/home/mthomas/anaconda3/envs/meerkat_umap_env_3/lib/python3.7/site-packages/scipy/optimize/minpack.py:829: OptimizeWarning: Covariance of the parameters could not be estimated\n",
      "  category=OptimizeWarning)\n",
      "/home/mthomas/anaconda3/envs/meerkat_umap_env_3/lib/python3.7/site-packages/umap/umap_.py:1330: RuntimeWarning: divide by zero encountered in power\n",
      "  return 1.0 / (1.0 + a * x ** (2 * b))\n",
      "/home/mthomas/anaconda3/envs/meerkat_umap_env_3/lib/python3.7/site-packages/scipy/optimize/minpack.py:829: OptimizeWarning: Covariance of the parameters could not be estimated\n",
      "  category=OptimizeWarning)\n",
      "/home/mthomas/anaconda3/envs/meerkat_umap_env_3/lib/python3.7/site-packages/umap/umap_.py:1330: RuntimeWarning: divide by zero encountered in power\n",
      "  return 1.0 / (1.0 + a * x ** (2 * b))\n",
      "/home/mthomas/anaconda3/envs/meerkat_umap_env_3/lib/python3.7/site-packages/scipy/optimize/minpack.py:829: OptimizeWarning: Covariance of the parameters could not be estimated\n",
      "  category=OptimizeWarning)\n",
      "/home/mthomas/anaconda3/envs/meerkat_umap_env_3/lib/python3.7/site-packages/umap/umap_.py:1330: RuntimeWarning: divide by zero encountered in power\n",
      "  return 1.0 / (1.0 + a * x ** (2 * b))\n",
      "/home/mthomas/anaconda3/envs/meerkat_umap_env_3/lib/python3.7/site-packages/scipy/optimize/minpack.py:829: OptimizeWarning: Covariance of the parameters could not be estimated\n",
      "  category=OptimizeWarning)\n",
      "/home/mthomas/anaconda3/envs/meerkat_umap_env_3/lib/python3.7/site-packages/umap/umap_.py:1330: RuntimeWarning: divide by zero encountered in power\n",
      "  return 1.0 / (1.0 + a * x ** (2 * b))\n",
      "/home/mthomas/anaconda3/envs/meerkat_umap_env_3/lib/python3.7/site-packages/scipy/optimize/minpack.py:829: OptimizeWarning: Covariance of the parameters could not be estimated\n",
      "  category=OptimizeWarning)\n"
     ]
    },
    {
     "name": "stdout",
     "output_type": "stream",
     "text": [
      "FAILED:  zs_euclidean_pad_0_0.1_1_2_specs_no_40_dB_no\n",
      "FAILED:  zs_euclidean_pad_0_0.1_1_3_specs_no_40_dB_no\n",
      "FAILED:  zs_euclidean_pad_0_0.1_1_4_specs_no_40_dB_no\n",
      "FAILED:  zs_euclidean_pad_0_0.1_1_5_specs_no_40_dB_no\n",
      "FAILED:  zs_euclidean_pad_0_0.1_1_6_specs_no_40_dB_no\n"
     ]
    },
    {
     "name": "stderr",
     "output_type": "stream",
     "text": [
      "/home/mthomas/anaconda3/envs/meerkat_umap_env_3/lib/python3.7/site-packages/umap/umap_.py:1330: RuntimeWarning: divide by zero encountered in power\n",
      "  return 1.0 / (1.0 + a * x ** (2 * b))\n",
      "/home/mthomas/anaconda3/envs/meerkat_umap_env_3/lib/python3.7/site-packages/scipy/optimize/minpack.py:829: OptimizeWarning: Covariance of the parameters could not be estimated\n",
      "  category=OptimizeWarning)\n",
      "/home/mthomas/anaconda3/envs/meerkat_umap_env_3/lib/python3.7/site-packages/umap/umap_.py:1330: RuntimeWarning: divide by zero encountered in power\n",
      "  return 1.0 / (1.0 + a * x ** (2 * b))\n",
      "/home/mthomas/anaconda3/envs/meerkat_umap_env_3/lib/python3.7/site-packages/scipy/optimize/minpack.py:829: OptimizeWarning: Covariance of the parameters could not be estimated\n",
      "  category=OptimizeWarning)\n",
      "/home/mthomas/anaconda3/envs/meerkat_umap_env_3/lib/python3.7/site-packages/umap/umap_.py:1330: RuntimeWarning: divide by zero encountered in power\n",
      "  return 1.0 / (1.0 + a * x ** (2 * b))\n",
      "/home/mthomas/anaconda3/envs/meerkat_umap_env_3/lib/python3.7/site-packages/scipy/optimize/minpack.py:829: OptimizeWarning: Covariance of the parameters could not be estimated\n",
      "  category=OptimizeWarning)\n",
      "/home/mthomas/anaconda3/envs/meerkat_umap_env_3/lib/python3.7/site-packages/umap/umap_.py:1330: RuntimeWarning: divide by zero encountered in power\n",
      "  return 1.0 / (1.0 + a * x ** (2 * b))\n",
      "/home/mthomas/anaconda3/envs/meerkat_umap_env_3/lib/python3.7/site-packages/scipy/optimize/minpack.py:829: OptimizeWarning: Covariance of the parameters could not be estimated\n",
      "  category=OptimizeWarning)\n",
      "/home/mthomas/anaconda3/envs/meerkat_umap_env_3/lib/python3.7/site-packages/umap/umap_.py:1330: RuntimeWarning: divide by zero encountered in power\n",
      "  return 1.0 / (1.0 + a * x ** (2 * b))\n",
      "/home/mthomas/anaconda3/envs/meerkat_umap_env_3/lib/python3.7/site-packages/scipy/optimize/minpack.py:829: OptimizeWarning: Covariance of the parameters could not be estimated\n",
      "  category=OptimizeWarning)\n"
     ]
    },
    {
     "name": "stdout",
     "output_type": "stream",
     "text": [
      "FAILED:  zs_euclidean_pad_0_0.1_1_7_specs_no_40_dB_no\n",
      "FAILED:  zs_euclidean_pad_0_0.1_1_8_specs_no_40_dB_no\n",
      "FAILED:  zs_euclidean_pad_0_0.1_1_9_specs_no_40_dB_no\n",
      "FAILED:  zs_euclidean_pad_0_0.1_1_10_specs_no_40_dB_no\n",
      "FAILED:  zs_euclidean_pad_0.001_0.1_1_2_specs_no_40_dB_no\n"
     ]
    },
    {
     "name": "stderr",
     "output_type": "stream",
     "text": [
      "/home/mthomas/anaconda3/envs/meerkat_umap_env_3/lib/python3.7/site-packages/umap/umap_.py:1330: RuntimeWarning: divide by zero encountered in power\n",
      "  return 1.0 / (1.0 + a * x ** (2 * b))\n",
      "/home/mthomas/anaconda3/envs/meerkat_umap_env_3/lib/python3.7/site-packages/scipy/optimize/minpack.py:829: OptimizeWarning: Covariance of the parameters could not be estimated\n",
      "  category=OptimizeWarning)\n",
      "/home/mthomas/anaconda3/envs/meerkat_umap_env_3/lib/python3.7/site-packages/umap/umap_.py:1330: RuntimeWarning: divide by zero encountered in power\n",
      "  return 1.0 / (1.0 + a * x ** (2 * b))\n",
      "/home/mthomas/anaconda3/envs/meerkat_umap_env_3/lib/python3.7/site-packages/scipy/optimize/minpack.py:829: OptimizeWarning: Covariance of the parameters could not be estimated\n",
      "  category=OptimizeWarning)\n",
      "/home/mthomas/anaconda3/envs/meerkat_umap_env_3/lib/python3.7/site-packages/umap/umap_.py:1330: RuntimeWarning: divide by zero encountered in power\n",
      "  return 1.0 / (1.0 + a * x ** (2 * b))\n",
      "/home/mthomas/anaconda3/envs/meerkat_umap_env_3/lib/python3.7/site-packages/scipy/optimize/minpack.py:829: OptimizeWarning: Covariance of the parameters could not be estimated\n",
      "  category=OptimizeWarning)\n",
      "/home/mthomas/anaconda3/envs/meerkat_umap_env_3/lib/python3.7/site-packages/umap/umap_.py:1330: RuntimeWarning: divide by zero encountered in power\n",
      "  return 1.0 / (1.0 + a * x ** (2 * b))\n",
      "/home/mthomas/anaconda3/envs/meerkat_umap_env_3/lib/python3.7/site-packages/scipy/optimize/minpack.py:829: OptimizeWarning: Covariance of the parameters could not be estimated\n",
      "  category=OptimizeWarning)\n",
      "/home/mthomas/anaconda3/envs/meerkat_umap_env_3/lib/python3.7/site-packages/umap/umap_.py:1330: RuntimeWarning: divide by zero encountered in power\n",
      "  return 1.0 / (1.0 + a * x ** (2 * b))\n",
      "/home/mthomas/anaconda3/envs/meerkat_umap_env_3/lib/python3.7/site-packages/scipy/optimize/minpack.py:829: OptimizeWarning: Covariance of the parameters could not be estimated\n",
      "  category=OptimizeWarning)\n"
     ]
    },
    {
     "name": "stdout",
     "output_type": "stream",
     "text": [
      "FAILED:  zs_euclidean_pad_0.001_0.1_1_3_specs_no_40_dB_no\n",
      "FAILED:  zs_euclidean_pad_0.001_0.1_1_4_specs_no_40_dB_no\n",
      "FAILED:  zs_euclidean_pad_0.001_0.1_1_5_specs_no_40_dB_no\n",
      "FAILED:  zs_euclidean_pad_0.001_0.1_1_6_specs_no_40_dB_no\n",
      "FAILED:  zs_euclidean_pad_0.001_0.1_1_7_specs_no_40_dB_no\n"
     ]
    },
    {
     "name": "stderr",
     "output_type": "stream",
     "text": [
      "/home/mthomas/anaconda3/envs/meerkat_umap_env_3/lib/python3.7/site-packages/umap/umap_.py:1330: RuntimeWarning: divide by zero encountered in power\n",
      "  return 1.0 / (1.0 + a * x ** (2 * b))\n",
      "/home/mthomas/anaconda3/envs/meerkat_umap_env_3/lib/python3.7/site-packages/scipy/optimize/minpack.py:829: OptimizeWarning: Covariance of the parameters could not be estimated\n",
      "  category=OptimizeWarning)\n",
      "/home/mthomas/anaconda3/envs/meerkat_umap_env_3/lib/python3.7/site-packages/umap/umap_.py:1330: RuntimeWarning: divide by zero encountered in power\n",
      "  return 1.0 / (1.0 + a * x ** (2 * b))\n",
      "/home/mthomas/anaconda3/envs/meerkat_umap_env_3/lib/python3.7/site-packages/scipy/optimize/minpack.py:829: OptimizeWarning: Covariance of the parameters could not be estimated\n",
      "  category=OptimizeWarning)\n",
      "/home/mthomas/anaconda3/envs/meerkat_umap_env_3/lib/python3.7/site-packages/umap/umap_.py:1330: RuntimeWarning: divide by zero encountered in power\n",
      "  return 1.0 / (1.0 + a * x ** (2 * b))\n",
      "/home/mthomas/anaconda3/envs/meerkat_umap_env_3/lib/python3.7/site-packages/scipy/optimize/minpack.py:829: OptimizeWarning: Covariance of the parameters could not be estimated\n",
      "  category=OptimizeWarning)\n",
      "/home/mthomas/anaconda3/envs/meerkat_umap_env_3/lib/python3.7/site-packages/umap/umap_.py:1330: RuntimeWarning: divide by zero encountered in power\n",
      "  return 1.0 / (1.0 + a * x ** (2 * b))\n",
      "/home/mthomas/anaconda3/envs/meerkat_umap_env_3/lib/python3.7/site-packages/scipy/optimize/minpack.py:829: OptimizeWarning: Covariance of the parameters could not be estimated\n",
      "  category=OptimizeWarning)\n",
      "/home/mthomas/anaconda3/envs/meerkat_umap_env_3/lib/python3.7/site-packages/umap/umap_.py:1330: RuntimeWarning: divide by zero encountered in power\n",
      "  return 1.0 / (1.0 + a * x ** (2 * b))\n",
      "/home/mthomas/anaconda3/envs/meerkat_umap_env_3/lib/python3.7/site-packages/scipy/optimize/minpack.py:829: OptimizeWarning: Covariance of the parameters could not be estimated\n",
      "  category=OptimizeWarning)\n"
     ]
    },
    {
     "name": "stdout",
     "output_type": "stream",
     "text": [
      "FAILED:  zs_euclidean_pad_0.001_0.1_1_8_specs_no_40_dB_no\n",
      "FAILED:  zs_euclidean_pad_0.001_0.1_1_9_specs_no_40_dB_no\n",
      "FAILED:  zs_euclidean_pad_0.001_0.1_1_10_specs_no_40_dB_no\n",
      "FAILED:  zs_euclidean_pad_0.01_0.1_1_2_specs_no_40_dB_no\n",
      "FAILED:  zs_euclidean_pad_0.01_0.1_1_3_specs_no_40_dB_no\n"
     ]
    },
    {
     "name": "stderr",
     "output_type": "stream",
     "text": [
      "/home/mthomas/anaconda3/envs/meerkat_umap_env_3/lib/python3.7/site-packages/umap/umap_.py:1330: RuntimeWarning: divide by zero encountered in power\n",
      "  return 1.0 / (1.0 + a * x ** (2 * b))\n",
      "/home/mthomas/anaconda3/envs/meerkat_umap_env_3/lib/python3.7/site-packages/scipy/optimize/minpack.py:829: OptimizeWarning: Covariance of the parameters could not be estimated\n",
      "  category=OptimizeWarning)\n",
      "/home/mthomas/anaconda3/envs/meerkat_umap_env_3/lib/python3.7/site-packages/umap/umap_.py:1330: RuntimeWarning: divide by zero encountered in power\n",
      "  return 1.0 / (1.0 + a * x ** (2 * b))\n",
      "/home/mthomas/anaconda3/envs/meerkat_umap_env_3/lib/python3.7/site-packages/scipy/optimize/minpack.py:829: OptimizeWarning: Covariance of the parameters could not be estimated\n",
      "  category=OptimizeWarning)\n",
      "/home/mthomas/anaconda3/envs/meerkat_umap_env_3/lib/python3.7/site-packages/umap/umap_.py:1330: RuntimeWarning: divide by zero encountered in power\n",
      "  return 1.0 / (1.0 + a * x ** (2 * b))\n",
      "/home/mthomas/anaconda3/envs/meerkat_umap_env_3/lib/python3.7/site-packages/scipy/optimize/minpack.py:829: OptimizeWarning: Covariance of the parameters could not be estimated\n",
      "  category=OptimizeWarning)\n",
      "/home/mthomas/anaconda3/envs/meerkat_umap_env_3/lib/python3.7/site-packages/umap/umap_.py:1330: RuntimeWarning: divide by zero encountered in power\n",
      "  return 1.0 / (1.0 + a * x ** (2 * b))\n",
      "/home/mthomas/anaconda3/envs/meerkat_umap_env_3/lib/python3.7/site-packages/scipy/optimize/minpack.py:829: OptimizeWarning: Covariance of the parameters could not be estimated\n",
      "  category=OptimizeWarning)\n",
      "/home/mthomas/anaconda3/envs/meerkat_umap_env_3/lib/python3.7/site-packages/umap/umap_.py:1330: RuntimeWarning: divide by zero encountered in power\n",
      "  return 1.0 / (1.0 + a * x ** (2 * b))\n",
      "/home/mthomas/anaconda3/envs/meerkat_umap_env_3/lib/python3.7/site-packages/scipy/optimize/minpack.py:829: OptimizeWarning: Covariance of the parameters could not be estimated\n",
      "  category=OptimizeWarning)\n"
     ]
    },
    {
     "name": "stdout",
     "output_type": "stream",
     "text": [
      "FAILED:  zs_euclidean_pad_0.01_0.1_1_4_specs_no_40_dB_no\n",
      "FAILED:  zs_euclidean_pad_0.01_0.1_1_5_specs_no_40_dB_no\n",
      "FAILED:  zs_euclidean_pad_0.01_0.1_1_6_specs_no_40_dB_no\n",
      "FAILED:  zs_euclidean_pad_0.01_0.1_1_7_specs_no_40_dB_no\n",
      "FAILED:  zs_euclidean_pad_0.01_0.1_1_8_specs_no_40_dB_no\n"
     ]
    },
    {
     "name": "stderr",
     "output_type": "stream",
     "text": [
      "/home/mthomas/anaconda3/envs/meerkat_umap_env_3/lib/python3.7/site-packages/umap/umap_.py:1330: RuntimeWarning: divide by zero encountered in power\n",
      "  return 1.0 / (1.0 + a * x ** (2 * b))\n",
      "/home/mthomas/anaconda3/envs/meerkat_umap_env_3/lib/python3.7/site-packages/scipy/optimize/minpack.py:829: OptimizeWarning: Covariance of the parameters could not be estimated\n",
      "  category=OptimizeWarning)\n",
      "/home/mthomas/anaconda3/envs/meerkat_umap_env_3/lib/python3.7/site-packages/umap/umap_.py:1330: RuntimeWarning: divide by zero encountered in power\n",
      "  return 1.0 / (1.0 + a * x ** (2 * b))\n",
      "/home/mthomas/anaconda3/envs/meerkat_umap_env_3/lib/python3.7/site-packages/scipy/optimize/minpack.py:829: OptimizeWarning: Covariance of the parameters could not be estimated\n",
      "  category=OptimizeWarning)\n",
      "/home/mthomas/anaconda3/envs/meerkat_umap_env_3/lib/python3.7/site-packages/umap/umap_.py:1330: RuntimeWarning: divide by zero encountered in power\n",
      "  return 1.0 / (1.0 + a * x ** (2 * b))\n",
      "/home/mthomas/anaconda3/envs/meerkat_umap_env_3/lib/python3.7/site-packages/umap/umap_.py:1330: RuntimeWarning: divide by zero encountered in power\n",
      "  return 1.0 / (1.0 + a * x ** (2 * b))\n",
      "/home/mthomas/anaconda3/envs/meerkat_umap_env_3/lib/python3.7/site-packages/umap/umap_.py:1330: RuntimeWarning: divide by zero encountered in power\n",
      "  return 1.0 / (1.0 + a * x ** (2 * b))\n"
     ]
    },
    {
     "name": "stdout",
     "output_type": "stream",
     "text": [
      "FAILED:  zs_euclidean_pad_0.01_0.1_1_9_specs_no_40_dB_no\n",
      "FAILED:  zs_euclidean_pad_0.01_0.1_1_10_specs_no_40_dB_no\n",
      "FAILED:  zs_euclidean_pad_0.1_0.1_1_2_specs_no_40_dB_no\n",
      "FAILED:  zs_euclidean_pad_0.1_0.1_1_3_specs_no_40_dB_no\n",
      "FAILED:  zs_euclidean_pad_0.1_0.1_1_4_specs_no_40_dB_no\n"
     ]
    },
    {
     "name": "stderr",
     "output_type": "stream",
     "text": [
      "/home/mthomas/anaconda3/envs/meerkat_umap_env_3/lib/python3.7/site-packages/umap/umap_.py:1330: RuntimeWarning: divide by zero encountered in power\n",
      "  return 1.0 / (1.0 + a * x ** (2 * b))\n",
      "/home/mthomas/anaconda3/envs/meerkat_umap_env_3/lib/python3.7/site-packages/umap/umap_.py:1330: RuntimeWarning: divide by zero encountered in power\n",
      "  return 1.0 / (1.0 + a * x ** (2 * b))\n",
      "/home/mthomas/anaconda3/envs/meerkat_umap_env_3/lib/python3.7/site-packages/umap/umap_.py:1330: RuntimeWarning: divide by zero encountered in power\n",
      "  return 1.0 / (1.0 + a * x ** (2 * b))\n",
      "/home/mthomas/anaconda3/envs/meerkat_umap_env_3/lib/python3.7/site-packages/umap/umap_.py:1330: RuntimeWarning: divide by zero encountered in power\n",
      "  return 1.0 / (1.0 + a * x ** (2 * b))\n",
      "/home/mthomas/anaconda3/envs/meerkat_umap_env_3/lib/python3.7/site-packages/umap/umap_.py:1330: RuntimeWarning: divide by zero encountered in power\n",
      "  return 1.0 / (1.0 + a * x ** (2 * b))\n"
     ]
    },
    {
     "name": "stdout",
     "output_type": "stream",
     "text": [
      "FAILED:  zs_euclidean_pad_0.1_0.1_1_5_specs_no_40_dB_no\n",
      "FAILED:  zs_euclidean_pad_0.1_0.1_1_6_specs_no_40_dB_no\n",
      "FAILED:  zs_euclidean_pad_0.1_0.1_1_7_specs_no_40_dB_no\n",
      "FAILED:  zs_euclidean_pad_0.1_0.1_1_8_specs_no_40_dB_no\n",
      "FAILED:  zs_euclidean_pad_0.1_0.1_1_9_specs_no_40_dB_no\n"
     ]
    },
    {
     "name": "stderr",
     "output_type": "stream",
     "text": [
      "/home/mthomas/anaconda3/envs/meerkat_umap_env_3/lib/python3.7/site-packages/umap/umap_.py:1330: RuntimeWarning: divide by zero encountered in power\n",
      "  return 1.0 / (1.0 + a * x ** (2 * b))\n",
      "/home/mthomas/anaconda3/envs/meerkat_umap_env_3/lib/python3.7/site-packages/scipy/optimize/minpack.py:829: OptimizeWarning: Covariance of the parameters could not be estimated\n",
      "  category=OptimizeWarning)\n",
      "/home/mthomas/anaconda3/envs/meerkat_umap_env_3/lib/python3.7/site-packages/scipy/optimize/minpack.py:829: OptimizeWarning: Covariance of the parameters could not be estimated\n",
      "  category=OptimizeWarning)\n",
      "/home/mthomas/anaconda3/envs/meerkat_umap_env_3/lib/python3.7/site-packages/scipy/optimize/minpack.py:829: OptimizeWarning: Covariance of the parameters could not be estimated\n",
      "  category=OptimizeWarning)\n",
      "/home/mthomas/anaconda3/envs/meerkat_umap_env_3/lib/python3.7/site-packages/scipy/optimize/minpack.py:829: OptimizeWarning: Covariance of the parameters could not be estimated\n",
      "  category=OptimizeWarning)\n"
     ]
    },
    {
     "name": "stdout",
     "output_type": "stream",
     "text": [
      "FAILED:  zs_euclidean_pad_0.1_0.1_1_10_specs_no_40_dB_no\n",
      "FAILED:  zs_euclidean_pad_1_0.1_1_2_specs_no_40_dB_no\n",
      "FAILED:  zs_euclidean_pad_1_0.1_1_3_specs_no_40_dB_no\n",
      "FAILED:  zs_euclidean_pad_1_0.1_1_4_specs_no_40_dB_no\n",
      "FAILED:  zs_euclidean_pad_1_0.1_1_5_specs_no_40_dB_no\n"
     ]
    },
    {
     "name": "stderr",
     "output_type": "stream",
     "text": [
      "/home/mthomas/anaconda3/envs/meerkat_umap_env_3/lib/python3.7/site-packages/scipy/optimize/minpack.py:829: OptimizeWarning: Covariance of the parameters could not be estimated\n",
      "  category=OptimizeWarning)\n",
      "/home/mthomas/anaconda3/envs/meerkat_umap_env_3/lib/python3.7/site-packages/scipy/optimize/minpack.py:829: OptimizeWarning: Covariance of the parameters could not be estimated\n",
      "  category=OptimizeWarning)\n",
      "/home/mthomas/anaconda3/envs/meerkat_umap_env_3/lib/python3.7/site-packages/scipy/optimize/minpack.py:829: OptimizeWarning: Covariance of the parameters could not be estimated\n",
      "  category=OptimizeWarning)\n",
      "/home/mthomas/anaconda3/envs/meerkat_umap_env_3/lib/python3.7/site-packages/scipy/optimize/minpack.py:829: OptimizeWarning: Covariance of the parameters could not be estimated\n",
      "  category=OptimizeWarning)\n",
      "/home/mthomas/anaconda3/envs/meerkat_umap_env_3/lib/python3.7/site-packages/scipy/optimize/minpack.py:829: OptimizeWarning: Covariance of the parameters could not be estimated\n",
      "  category=OptimizeWarning)\n"
     ]
    },
    {
     "name": "stdout",
     "output_type": "stream",
     "text": [
      "FAILED:  zs_euclidean_pad_1_0.1_1_6_specs_no_40_dB_no\n",
      "FAILED:  zs_euclidean_pad_1_0.1_1_7_specs_no_40_dB_no\n",
      "FAILED:  zs_euclidean_pad_1_0.1_1_8_specs_no_40_dB_no\n",
      "FAILED:  zs_euclidean_pad_1_0.1_1_9_specs_no_40_dB_no\n",
      "FAILED:  zs_euclidean_pad_1_0.1_1_10_specs_no_40_dB_no\n"
     ]
    },
    {
     "name": "stderr",
     "output_type": "stream",
     "text": [
      "/home/mthomas/anaconda3/envs/meerkat_umap_env_3/lib/python3.7/site-packages/umap/umap_.py:1330: RuntimeWarning: divide by zero encountered in power\n",
      "  return 1.0 / (1.0 + a * x ** (2 * b))\n",
      "/home/mthomas/anaconda3/envs/meerkat_umap_env_3/lib/python3.7/site-packages/scipy/optimize/minpack.py:829: OptimizeWarning: Covariance of the parameters could not be estimated\n",
      "  category=OptimizeWarning)\n"
     ]
    },
    {
     "name": "stdout",
     "output_type": "stream",
     "text": [
      "/home/mthomas/Documents/MPI_work/projects/meerkat/meerkat_umap_pv/data/interim/parameter_search/grid_search_umap_params/zs_euclidean_pad_0_0.1_5_2_specs_no_40_dB_no\n",
      "/home/mthomas/Documents/MPI_work/projects/meerkat/meerkat_umap_pv/data/interim/parameter_search/grid_search_umap_params/zs_euclidean_pad_0_0.1_5_2_specs_no_40_dB_no\n"
     ]
    },
    {
     "name": "stderr",
     "output_type": "stream",
     "text": [
      "/home/mthomas/anaconda3/envs/meerkat_umap_env_3/lib/python3.7/site-packages/umap/umap_.py:1330: RuntimeWarning: divide by zero encountered in power\n",
      "  return 1.0 / (1.0 + a * x ** (2 * b))\n",
      "/home/mthomas/anaconda3/envs/meerkat_umap_env_3/lib/python3.7/site-packages/scipy/optimize/minpack.py:829: OptimizeWarning: Covariance of the parameters could not be estimated\n",
      "  category=OptimizeWarning)\n"
     ]
    },
    {
     "name": "stdout",
     "output_type": "stream",
     "text": [
      "/home/mthomas/Documents/MPI_work/projects/meerkat/meerkat_umap_pv/data/interim/parameter_search/grid_search_umap_params/zs_euclidean_pad_0_0.1_5_3_specs_no_40_dB_no\n",
      "/home/mthomas/Documents/MPI_work/projects/meerkat/meerkat_umap_pv/data/interim/parameter_search/grid_search_umap_params/zs_euclidean_pad_0_0.1_5_3_specs_no_40_dB_no\n"
     ]
    },
    {
     "name": "stderr",
     "output_type": "stream",
     "text": [
      "/home/mthomas/anaconda3/envs/meerkat_umap_env_3/lib/python3.7/site-packages/umap/umap_.py:1330: RuntimeWarning: divide by zero encountered in power\n",
      "  return 1.0 / (1.0 + a * x ** (2 * b))\n",
      "/home/mthomas/anaconda3/envs/meerkat_umap_env_3/lib/python3.7/site-packages/scipy/optimize/minpack.py:829: OptimizeWarning: Covariance of the parameters could not be estimated\n",
      "  category=OptimizeWarning)\n"
     ]
    },
    {
     "name": "stdout",
     "output_type": "stream",
     "text": [
      "/home/mthomas/Documents/MPI_work/projects/meerkat/meerkat_umap_pv/data/interim/parameter_search/grid_search_umap_params/zs_euclidean_pad_0_0.1_5_4_specs_no_40_dB_no\n",
      "/home/mthomas/Documents/MPI_work/projects/meerkat/meerkat_umap_pv/data/interim/parameter_search/grid_search_umap_params/zs_euclidean_pad_0_0.1_5_4_specs_no_40_dB_no\n"
     ]
    },
    {
     "name": "stderr",
     "output_type": "stream",
     "text": [
      "/home/mthomas/anaconda3/envs/meerkat_umap_env_3/lib/python3.7/site-packages/umap/umap_.py:1330: RuntimeWarning: divide by zero encountered in power\n",
      "  return 1.0 / (1.0 + a * x ** (2 * b))\n",
      "/home/mthomas/anaconda3/envs/meerkat_umap_env_3/lib/python3.7/site-packages/scipy/optimize/minpack.py:829: OptimizeWarning: Covariance of the parameters could not be estimated\n",
      "  category=OptimizeWarning)\n"
     ]
    },
    {
     "name": "stdout",
     "output_type": "stream",
     "text": [
      "/home/mthomas/Documents/MPI_work/projects/meerkat/meerkat_umap_pv/data/interim/parameter_search/grid_search_umap_params/zs_euclidean_pad_0_0.1_5_5_specs_no_40_dB_no\n",
      "/home/mthomas/Documents/MPI_work/projects/meerkat/meerkat_umap_pv/data/interim/parameter_search/grid_search_umap_params/zs_euclidean_pad_0_0.1_5_5_specs_no_40_dB_no\n"
     ]
    },
    {
     "name": "stderr",
     "output_type": "stream",
     "text": [
      "/home/mthomas/anaconda3/envs/meerkat_umap_env_3/lib/python3.7/site-packages/umap/umap_.py:1330: RuntimeWarning: divide by zero encountered in power\n",
      "  return 1.0 / (1.0 + a * x ** (2 * b))\n",
      "/home/mthomas/anaconda3/envs/meerkat_umap_env_3/lib/python3.7/site-packages/scipy/optimize/minpack.py:829: OptimizeWarning: Covariance of the parameters could not be estimated\n",
      "  category=OptimizeWarning)\n"
     ]
    },
    {
     "name": "stdout",
     "output_type": "stream",
     "text": [
      "/home/mthomas/Documents/MPI_work/projects/meerkat/meerkat_umap_pv/data/interim/parameter_search/grid_search_umap_params/zs_euclidean_pad_0_0.1_5_6_specs_no_40_dB_no\n",
      "/home/mthomas/Documents/MPI_work/projects/meerkat/meerkat_umap_pv/data/interim/parameter_search/grid_search_umap_params/zs_euclidean_pad_0_0.1_5_6_specs_no_40_dB_no\n"
     ]
    },
    {
     "name": "stderr",
     "output_type": "stream",
     "text": [
      "/home/mthomas/anaconda3/envs/meerkat_umap_env_3/lib/python3.7/site-packages/umap/umap_.py:1330: RuntimeWarning: divide by zero encountered in power\n",
      "  return 1.0 / (1.0 + a * x ** (2 * b))\n",
      "/home/mthomas/anaconda3/envs/meerkat_umap_env_3/lib/python3.7/site-packages/scipy/optimize/minpack.py:829: OptimizeWarning: Covariance of the parameters could not be estimated\n",
      "  category=OptimizeWarning)\n"
     ]
    },
    {
     "name": "stdout",
     "output_type": "stream",
     "text": [
      "/home/mthomas/Documents/MPI_work/projects/meerkat/meerkat_umap_pv/data/interim/parameter_search/grid_search_umap_params/zs_euclidean_pad_0_0.1_5_7_specs_no_40_dB_no\n",
      "/home/mthomas/Documents/MPI_work/projects/meerkat/meerkat_umap_pv/data/interim/parameter_search/grid_search_umap_params/zs_euclidean_pad_0_0.1_5_7_specs_no_40_dB_no\n"
     ]
    },
    {
     "name": "stderr",
     "output_type": "stream",
     "text": [
      "/home/mthomas/anaconda3/envs/meerkat_umap_env_3/lib/python3.7/site-packages/umap/umap_.py:1330: RuntimeWarning: divide by zero encountered in power\n",
      "  return 1.0 / (1.0 + a * x ** (2 * b))\n",
      "/home/mthomas/anaconda3/envs/meerkat_umap_env_3/lib/python3.7/site-packages/scipy/optimize/minpack.py:829: OptimizeWarning: Covariance of the parameters could not be estimated\n",
      "  category=OptimizeWarning)\n"
     ]
    },
    {
     "name": "stdout",
     "output_type": "stream",
     "text": [
      "/home/mthomas/Documents/MPI_work/projects/meerkat/meerkat_umap_pv/data/interim/parameter_search/grid_search_umap_params/zs_euclidean_pad_0_0.1_5_8_specs_no_40_dB_no\n",
      "/home/mthomas/Documents/MPI_work/projects/meerkat/meerkat_umap_pv/data/interim/parameter_search/grid_search_umap_params/zs_euclidean_pad_0_0.1_5_8_specs_no_40_dB_no\n"
     ]
    },
    {
     "name": "stderr",
     "output_type": "stream",
     "text": [
      "/home/mthomas/anaconda3/envs/meerkat_umap_env_3/lib/python3.7/site-packages/umap/umap_.py:1330: RuntimeWarning: divide by zero encountered in power\n",
      "  return 1.0 / (1.0 + a * x ** (2 * b))\n",
      "/home/mthomas/anaconda3/envs/meerkat_umap_env_3/lib/python3.7/site-packages/scipy/optimize/minpack.py:829: OptimizeWarning: Covariance of the parameters could not be estimated\n",
      "  category=OptimizeWarning)\n"
     ]
    },
    {
     "name": "stdout",
     "output_type": "stream",
     "text": [
      "/home/mthomas/Documents/MPI_work/projects/meerkat/meerkat_umap_pv/data/interim/parameter_search/grid_search_umap_params/zs_euclidean_pad_0_0.1_5_9_specs_no_40_dB_no\n",
      "/home/mthomas/Documents/MPI_work/projects/meerkat/meerkat_umap_pv/data/interim/parameter_search/grid_search_umap_params/zs_euclidean_pad_0_0.1_5_9_specs_no_40_dB_no\n"
     ]
    },
    {
     "name": "stderr",
     "output_type": "stream",
     "text": [
      "/home/mthomas/anaconda3/envs/meerkat_umap_env_3/lib/python3.7/site-packages/umap/umap_.py:1330: RuntimeWarning: divide by zero encountered in power\n",
      "  return 1.0 / (1.0 + a * x ** (2 * b))\n",
      "/home/mthomas/anaconda3/envs/meerkat_umap_env_3/lib/python3.7/site-packages/scipy/optimize/minpack.py:829: OptimizeWarning: Covariance of the parameters could not be estimated\n",
      "  category=OptimizeWarning)\n"
     ]
    },
    {
     "name": "stdout",
     "output_type": "stream",
     "text": [
      "/home/mthomas/Documents/MPI_work/projects/meerkat/meerkat_umap_pv/data/interim/parameter_search/grid_search_umap_params/zs_euclidean_pad_0_0.1_5_10_specs_no_40_dB_no\n",
      "/home/mthomas/Documents/MPI_work/projects/meerkat/meerkat_umap_pv/data/interim/parameter_search/grid_search_umap_params/zs_euclidean_pad_0_0.1_5_10_specs_no_40_dB_no\n"
     ]
    },
    {
     "name": "stderr",
     "output_type": "stream",
     "text": [
      "/home/mthomas/anaconda3/envs/meerkat_umap_env_3/lib/python3.7/site-packages/umap/umap_.py:1330: RuntimeWarning: divide by zero encountered in power\n",
      "  return 1.0 / (1.0 + a * x ** (2 * b))\n",
      "/home/mthomas/anaconda3/envs/meerkat_umap_env_3/lib/python3.7/site-packages/scipy/optimize/minpack.py:829: OptimizeWarning: Covariance of the parameters could not be estimated\n",
      "  category=OptimizeWarning)\n"
     ]
    },
    {
     "name": "stdout",
     "output_type": "stream",
     "text": [
      "/home/mthomas/Documents/MPI_work/projects/meerkat/meerkat_umap_pv/data/interim/parameter_search/grid_search_umap_params/zs_euclidean_pad_0.001_0.1_5_2_specs_no_40_dB_no\n",
      "/home/mthomas/Documents/MPI_work/projects/meerkat/meerkat_umap_pv/data/interim/parameter_search/grid_search_umap_params/zs_euclidean_pad_0.001_0.1_5_2_specs_no_40_dB_no\n"
     ]
    },
    {
     "name": "stderr",
     "output_type": "stream",
     "text": [
      "/home/mthomas/anaconda3/envs/meerkat_umap_env_3/lib/python3.7/site-packages/umap/umap_.py:1330: RuntimeWarning: divide by zero encountered in power\n",
      "  return 1.0 / (1.0 + a * x ** (2 * b))\n",
      "/home/mthomas/anaconda3/envs/meerkat_umap_env_3/lib/python3.7/site-packages/scipy/optimize/minpack.py:829: OptimizeWarning: Covariance of the parameters could not be estimated\n",
      "  category=OptimizeWarning)\n"
     ]
    },
    {
     "name": "stdout",
     "output_type": "stream",
     "text": [
      "/home/mthomas/Documents/MPI_work/projects/meerkat/meerkat_umap_pv/data/interim/parameter_search/grid_search_umap_params/zs_euclidean_pad_0.001_0.1_5_3_specs_no_40_dB_no\n",
      "/home/mthomas/Documents/MPI_work/projects/meerkat/meerkat_umap_pv/data/interim/parameter_search/grid_search_umap_params/zs_euclidean_pad_0.001_0.1_5_3_specs_no_40_dB_no\n"
     ]
    },
    {
     "name": "stderr",
     "output_type": "stream",
     "text": [
      "/home/mthomas/anaconda3/envs/meerkat_umap_env_3/lib/python3.7/site-packages/umap/umap_.py:1330: RuntimeWarning: divide by zero encountered in power\n",
      "  return 1.0 / (1.0 + a * x ** (2 * b))\n",
      "/home/mthomas/anaconda3/envs/meerkat_umap_env_3/lib/python3.7/site-packages/scipy/optimize/minpack.py:829: OptimizeWarning: Covariance of the parameters could not be estimated\n",
      "  category=OptimizeWarning)\n"
     ]
    },
    {
     "name": "stdout",
     "output_type": "stream",
     "text": [
      "/home/mthomas/Documents/MPI_work/projects/meerkat/meerkat_umap_pv/data/interim/parameter_search/grid_search_umap_params/zs_euclidean_pad_0.001_0.1_5_4_specs_no_40_dB_no\n",
      "/home/mthomas/Documents/MPI_work/projects/meerkat/meerkat_umap_pv/data/interim/parameter_search/grid_search_umap_params/zs_euclidean_pad_0.001_0.1_5_4_specs_no_40_dB_no\n"
     ]
    },
    {
     "name": "stderr",
     "output_type": "stream",
     "text": [
      "/home/mthomas/anaconda3/envs/meerkat_umap_env_3/lib/python3.7/site-packages/umap/umap_.py:1330: RuntimeWarning: divide by zero encountered in power\n",
      "  return 1.0 / (1.0 + a * x ** (2 * b))\n",
      "/home/mthomas/anaconda3/envs/meerkat_umap_env_3/lib/python3.7/site-packages/scipy/optimize/minpack.py:829: OptimizeWarning: Covariance of the parameters could not be estimated\n",
      "  category=OptimizeWarning)\n"
     ]
    },
    {
     "name": "stdout",
     "output_type": "stream",
     "text": [
      "/home/mthomas/Documents/MPI_work/projects/meerkat/meerkat_umap_pv/data/interim/parameter_search/grid_search_umap_params/zs_euclidean_pad_0.001_0.1_5_5_specs_no_40_dB_no\n",
      "/home/mthomas/Documents/MPI_work/projects/meerkat/meerkat_umap_pv/data/interim/parameter_search/grid_search_umap_params/zs_euclidean_pad_0.001_0.1_5_5_specs_no_40_dB_no\n"
     ]
    },
    {
     "name": "stderr",
     "output_type": "stream",
     "text": [
      "/home/mthomas/anaconda3/envs/meerkat_umap_env_3/lib/python3.7/site-packages/umap/umap_.py:1330: RuntimeWarning: divide by zero encountered in power\n",
      "  return 1.0 / (1.0 + a * x ** (2 * b))\n",
      "/home/mthomas/anaconda3/envs/meerkat_umap_env_3/lib/python3.7/site-packages/scipy/optimize/minpack.py:829: OptimizeWarning: Covariance of the parameters could not be estimated\n",
      "  category=OptimizeWarning)\n"
     ]
    },
    {
     "name": "stdout",
     "output_type": "stream",
     "text": [
      "/home/mthomas/Documents/MPI_work/projects/meerkat/meerkat_umap_pv/data/interim/parameter_search/grid_search_umap_params/zs_euclidean_pad_0.001_0.1_5_6_specs_no_40_dB_no\n",
      "/home/mthomas/Documents/MPI_work/projects/meerkat/meerkat_umap_pv/data/interim/parameter_search/grid_search_umap_params/zs_euclidean_pad_0.001_0.1_5_6_specs_no_40_dB_no\n"
     ]
    },
    {
     "name": "stderr",
     "output_type": "stream",
     "text": [
      "/home/mthomas/anaconda3/envs/meerkat_umap_env_3/lib/python3.7/site-packages/umap/umap_.py:1330: RuntimeWarning: divide by zero encountered in power\n",
      "  return 1.0 / (1.0 + a * x ** (2 * b))\n",
      "/home/mthomas/anaconda3/envs/meerkat_umap_env_3/lib/python3.7/site-packages/scipy/optimize/minpack.py:829: OptimizeWarning: Covariance of the parameters could not be estimated\n",
      "  category=OptimizeWarning)\n"
     ]
    },
    {
     "name": "stdout",
     "output_type": "stream",
     "text": [
      "/home/mthomas/Documents/MPI_work/projects/meerkat/meerkat_umap_pv/data/interim/parameter_search/grid_search_umap_params/zs_euclidean_pad_0.001_0.1_5_7_specs_no_40_dB_no\n",
      "/home/mthomas/Documents/MPI_work/projects/meerkat/meerkat_umap_pv/data/interim/parameter_search/grid_search_umap_params/zs_euclidean_pad_0.001_0.1_5_7_specs_no_40_dB_no\n"
     ]
    },
    {
     "name": "stderr",
     "output_type": "stream",
     "text": [
      "/home/mthomas/anaconda3/envs/meerkat_umap_env_3/lib/python3.7/site-packages/umap/umap_.py:1330: RuntimeWarning: divide by zero encountered in power\n",
      "  return 1.0 / (1.0 + a * x ** (2 * b))\n",
      "/home/mthomas/anaconda3/envs/meerkat_umap_env_3/lib/python3.7/site-packages/scipy/optimize/minpack.py:829: OptimizeWarning: Covariance of the parameters could not be estimated\n",
      "  category=OptimizeWarning)\n"
     ]
    },
    {
     "name": "stdout",
     "output_type": "stream",
     "text": [
      "/home/mthomas/Documents/MPI_work/projects/meerkat/meerkat_umap_pv/data/interim/parameter_search/grid_search_umap_params/zs_euclidean_pad_0.001_0.1_5_8_specs_no_40_dB_no\n",
      "/home/mthomas/Documents/MPI_work/projects/meerkat/meerkat_umap_pv/data/interim/parameter_search/grid_search_umap_params/zs_euclidean_pad_0.001_0.1_5_8_specs_no_40_dB_no\n"
     ]
    },
    {
     "name": "stderr",
     "output_type": "stream",
     "text": [
      "/home/mthomas/anaconda3/envs/meerkat_umap_env_3/lib/python3.7/site-packages/umap/umap_.py:1330: RuntimeWarning: divide by zero encountered in power\n",
      "  return 1.0 / (1.0 + a * x ** (2 * b))\n",
      "/home/mthomas/anaconda3/envs/meerkat_umap_env_3/lib/python3.7/site-packages/scipy/optimize/minpack.py:829: OptimizeWarning: Covariance of the parameters could not be estimated\n",
      "  category=OptimizeWarning)\n"
     ]
    },
    {
     "name": "stdout",
     "output_type": "stream",
     "text": [
      "/home/mthomas/Documents/MPI_work/projects/meerkat/meerkat_umap_pv/data/interim/parameter_search/grid_search_umap_params/zs_euclidean_pad_0.001_0.1_5_9_specs_no_40_dB_no\n",
      "/home/mthomas/Documents/MPI_work/projects/meerkat/meerkat_umap_pv/data/interim/parameter_search/grid_search_umap_params/zs_euclidean_pad_0.001_0.1_5_9_specs_no_40_dB_no\n"
     ]
    },
    {
     "name": "stderr",
     "output_type": "stream",
     "text": [
      "/home/mthomas/anaconda3/envs/meerkat_umap_env_3/lib/python3.7/site-packages/umap/umap_.py:1330: RuntimeWarning: divide by zero encountered in power\n",
      "  return 1.0 / (1.0 + a * x ** (2 * b))\n",
      "/home/mthomas/anaconda3/envs/meerkat_umap_env_3/lib/python3.7/site-packages/scipy/optimize/minpack.py:829: OptimizeWarning: Covariance of the parameters could not be estimated\n",
      "  category=OptimizeWarning)\n"
     ]
    },
    {
     "name": "stdout",
     "output_type": "stream",
     "text": [
      "/home/mthomas/Documents/MPI_work/projects/meerkat/meerkat_umap_pv/data/interim/parameter_search/grid_search_umap_params/zs_euclidean_pad_0.001_0.1_5_10_specs_no_40_dB_no\n",
      "/home/mthomas/Documents/MPI_work/projects/meerkat/meerkat_umap_pv/data/interim/parameter_search/grid_search_umap_params/zs_euclidean_pad_0.001_0.1_5_10_specs_no_40_dB_no\n"
     ]
    },
    {
     "name": "stderr",
     "output_type": "stream",
     "text": [
      "/home/mthomas/anaconda3/envs/meerkat_umap_env_3/lib/python3.7/site-packages/umap/umap_.py:1330: RuntimeWarning: divide by zero encountered in power\n",
      "  return 1.0 / (1.0 + a * x ** (2 * b))\n",
      "/home/mthomas/anaconda3/envs/meerkat_umap_env_3/lib/python3.7/site-packages/scipy/optimize/minpack.py:829: OptimizeWarning: Covariance of the parameters could not be estimated\n",
      "  category=OptimizeWarning)\n"
     ]
    },
    {
     "name": "stdout",
     "output_type": "stream",
     "text": [
      "/home/mthomas/Documents/MPI_work/projects/meerkat/meerkat_umap_pv/data/interim/parameter_search/grid_search_umap_params/zs_euclidean_pad_0.01_0.1_5_2_specs_no_40_dB_no\n",
      "/home/mthomas/Documents/MPI_work/projects/meerkat/meerkat_umap_pv/data/interim/parameter_search/grid_search_umap_params/zs_euclidean_pad_0.01_0.1_5_2_specs_no_40_dB_no\n"
     ]
    },
    {
     "name": "stderr",
     "output_type": "stream",
     "text": [
      "/home/mthomas/anaconda3/envs/meerkat_umap_env_3/lib/python3.7/site-packages/umap/umap_.py:1330: RuntimeWarning: divide by zero encountered in power\n",
      "  return 1.0 / (1.0 + a * x ** (2 * b))\n",
      "/home/mthomas/anaconda3/envs/meerkat_umap_env_3/lib/python3.7/site-packages/scipy/optimize/minpack.py:829: OptimizeWarning: Covariance of the parameters could not be estimated\n",
      "  category=OptimizeWarning)\n"
     ]
    },
    {
     "name": "stdout",
     "output_type": "stream",
     "text": [
      "/home/mthomas/Documents/MPI_work/projects/meerkat/meerkat_umap_pv/data/interim/parameter_search/grid_search_umap_params/zs_euclidean_pad_0.01_0.1_5_3_specs_no_40_dB_no\n",
      "/home/mthomas/Documents/MPI_work/projects/meerkat/meerkat_umap_pv/data/interim/parameter_search/grid_search_umap_params/zs_euclidean_pad_0.01_0.1_5_3_specs_no_40_dB_no\n"
     ]
    },
    {
     "name": "stderr",
     "output_type": "stream",
     "text": [
      "/home/mthomas/anaconda3/envs/meerkat_umap_env_3/lib/python3.7/site-packages/umap/umap_.py:1330: RuntimeWarning: divide by zero encountered in power\n",
      "  return 1.0 / (1.0 + a * x ** (2 * b))\n",
      "/home/mthomas/anaconda3/envs/meerkat_umap_env_3/lib/python3.7/site-packages/scipy/optimize/minpack.py:829: OptimizeWarning: Covariance of the parameters could not be estimated\n",
      "  category=OptimizeWarning)\n"
     ]
    },
    {
     "name": "stdout",
     "output_type": "stream",
     "text": [
      "/home/mthomas/Documents/MPI_work/projects/meerkat/meerkat_umap_pv/data/interim/parameter_search/grid_search_umap_params/zs_euclidean_pad_0.01_0.1_5_4_specs_no_40_dB_no\n",
      "/home/mthomas/Documents/MPI_work/projects/meerkat/meerkat_umap_pv/data/interim/parameter_search/grid_search_umap_params/zs_euclidean_pad_0.01_0.1_5_4_specs_no_40_dB_no\n"
     ]
    },
    {
     "name": "stderr",
     "output_type": "stream",
     "text": [
      "/home/mthomas/anaconda3/envs/meerkat_umap_env_3/lib/python3.7/site-packages/umap/umap_.py:1330: RuntimeWarning: divide by zero encountered in power\n",
      "  return 1.0 / (1.0 + a * x ** (2 * b))\n",
      "/home/mthomas/anaconda3/envs/meerkat_umap_env_3/lib/python3.7/site-packages/scipy/optimize/minpack.py:829: OptimizeWarning: Covariance of the parameters could not be estimated\n",
      "  category=OptimizeWarning)\n"
     ]
    },
    {
     "name": "stdout",
     "output_type": "stream",
     "text": [
      "/home/mthomas/Documents/MPI_work/projects/meerkat/meerkat_umap_pv/data/interim/parameter_search/grid_search_umap_params/zs_euclidean_pad_0.01_0.1_5_5_specs_no_40_dB_no\n",
      "/home/mthomas/Documents/MPI_work/projects/meerkat/meerkat_umap_pv/data/interim/parameter_search/grid_search_umap_params/zs_euclidean_pad_0.01_0.1_5_5_specs_no_40_dB_no\n"
     ]
    },
    {
     "name": "stderr",
     "output_type": "stream",
     "text": [
      "/home/mthomas/anaconda3/envs/meerkat_umap_env_3/lib/python3.7/site-packages/umap/umap_.py:1330: RuntimeWarning: divide by zero encountered in power\n",
      "  return 1.0 / (1.0 + a * x ** (2 * b))\n",
      "/home/mthomas/anaconda3/envs/meerkat_umap_env_3/lib/python3.7/site-packages/scipy/optimize/minpack.py:829: OptimizeWarning: Covariance of the parameters could not be estimated\n",
      "  category=OptimizeWarning)\n"
     ]
    },
    {
     "name": "stdout",
     "output_type": "stream",
     "text": [
      "/home/mthomas/Documents/MPI_work/projects/meerkat/meerkat_umap_pv/data/interim/parameter_search/grid_search_umap_params/zs_euclidean_pad_0.01_0.1_5_6_specs_no_40_dB_no\n",
      "/home/mthomas/Documents/MPI_work/projects/meerkat/meerkat_umap_pv/data/interim/parameter_search/grid_search_umap_params/zs_euclidean_pad_0.01_0.1_5_6_specs_no_40_dB_no\n"
     ]
    },
    {
     "name": "stderr",
     "output_type": "stream",
     "text": [
      "/home/mthomas/anaconda3/envs/meerkat_umap_env_3/lib/python3.7/site-packages/umap/umap_.py:1330: RuntimeWarning: divide by zero encountered in power\n",
      "  return 1.0 / (1.0 + a * x ** (2 * b))\n",
      "/home/mthomas/anaconda3/envs/meerkat_umap_env_3/lib/python3.7/site-packages/scipy/optimize/minpack.py:829: OptimizeWarning: Covariance of the parameters could not be estimated\n",
      "  category=OptimizeWarning)\n"
     ]
    },
    {
     "name": "stdout",
     "output_type": "stream",
     "text": [
      "/home/mthomas/Documents/MPI_work/projects/meerkat/meerkat_umap_pv/data/interim/parameter_search/grid_search_umap_params/zs_euclidean_pad_0.01_0.1_5_7_specs_no_40_dB_no\n",
      "/home/mthomas/Documents/MPI_work/projects/meerkat/meerkat_umap_pv/data/interim/parameter_search/grid_search_umap_params/zs_euclidean_pad_0.01_0.1_5_7_specs_no_40_dB_no\n"
     ]
    },
    {
     "name": "stderr",
     "output_type": "stream",
     "text": [
      "/home/mthomas/anaconda3/envs/meerkat_umap_env_3/lib/python3.7/site-packages/umap/umap_.py:1330: RuntimeWarning: divide by zero encountered in power\n",
      "  return 1.0 / (1.0 + a * x ** (2 * b))\n",
      "/home/mthomas/anaconda3/envs/meerkat_umap_env_3/lib/python3.7/site-packages/scipy/optimize/minpack.py:829: OptimizeWarning: Covariance of the parameters could not be estimated\n",
      "  category=OptimizeWarning)\n"
     ]
    },
    {
     "name": "stdout",
     "output_type": "stream",
     "text": [
      "/home/mthomas/Documents/MPI_work/projects/meerkat/meerkat_umap_pv/data/interim/parameter_search/grid_search_umap_params/zs_euclidean_pad_0.01_0.1_5_8_specs_no_40_dB_no\n",
      "/home/mthomas/Documents/MPI_work/projects/meerkat/meerkat_umap_pv/data/interim/parameter_search/grid_search_umap_params/zs_euclidean_pad_0.01_0.1_5_8_specs_no_40_dB_no\n"
     ]
    },
    {
     "name": "stderr",
     "output_type": "stream",
     "text": [
      "/home/mthomas/anaconda3/envs/meerkat_umap_env_3/lib/python3.7/site-packages/umap/umap_.py:1330: RuntimeWarning: divide by zero encountered in power\n",
      "  return 1.0 / (1.0 + a * x ** (2 * b))\n",
      "/home/mthomas/anaconda3/envs/meerkat_umap_env_3/lib/python3.7/site-packages/scipy/optimize/minpack.py:829: OptimizeWarning: Covariance of the parameters could not be estimated\n",
      "  category=OptimizeWarning)\n"
     ]
    },
    {
     "name": "stdout",
     "output_type": "stream",
     "text": [
      "/home/mthomas/Documents/MPI_work/projects/meerkat/meerkat_umap_pv/data/interim/parameter_search/grid_search_umap_params/zs_euclidean_pad_0.01_0.1_5_9_specs_no_40_dB_no\n",
      "/home/mthomas/Documents/MPI_work/projects/meerkat/meerkat_umap_pv/data/interim/parameter_search/grid_search_umap_params/zs_euclidean_pad_0.01_0.1_5_9_specs_no_40_dB_no\n"
     ]
    },
    {
     "name": "stderr",
     "output_type": "stream",
     "text": [
      "/home/mthomas/anaconda3/envs/meerkat_umap_env_3/lib/python3.7/site-packages/umap/umap_.py:1330: RuntimeWarning: divide by zero encountered in power\n",
      "  return 1.0 / (1.0 + a * x ** (2 * b))\n",
      "/home/mthomas/anaconda3/envs/meerkat_umap_env_3/lib/python3.7/site-packages/scipy/optimize/minpack.py:829: OptimizeWarning: Covariance of the parameters could not be estimated\n",
      "  category=OptimizeWarning)\n"
     ]
    },
    {
     "name": "stdout",
     "output_type": "stream",
     "text": [
      "/home/mthomas/Documents/MPI_work/projects/meerkat/meerkat_umap_pv/data/interim/parameter_search/grid_search_umap_params/zs_euclidean_pad_0.01_0.1_5_10_specs_no_40_dB_no\n",
      "/home/mthomas/Documents/MPI_work/projects/meerkat/meerkat_umap_pv/data/interim/parameter_search/grid_search_umap_params/zs_euclidean_pad_0.01_0.1_5_10_specs_no_40_dB_no\n"
     ]
    },
    {
     "name": "stderr",
     "output_type": "stream",
     "text": [
      "/home/mthomas/anaconda3/envs/meerkat_umap_env_3/lib/python3.7/site-packages/umap/umap_.py:1330: RuntimeWarning: divide by zero encountered in power\n",
      "  return 1.0 / (1.0 + a * x ** (2 * b))\n"
     ]
    },
    {
     "name": "stdout",
     "output_type": "stream",
     "text": [
      "/home/mthomas/Documents/MPI_work/projects/meerkat/meerkat_umap_pv/data/interim/parameter_search/grid_search_umap_params/zs_euclidean_pad_0.1_0.1_5_2_specs_no_40_dB_no\n",
      "/home/mthomas/Documents/MPI_work/projects/meerkat/meerkat_umap_pv/data/interim/parameter_search/grid_search_umap_params/zs_euclidean_pad_0.1_0.1_5_2_specs_no_40_dB_no\n"
     ]
    },
    {
     "name": "stderr",
     "output_type": "stream",
     "text": [
      "/home/mthomas/anaconda3/envs/meerkat_umap_env_3/lib/python3.7/site-packages/umap/umap_.py:1330: RuntimeWarning: divide by zero encountered in power\n",
      "  return 1.0 / (1.0 + a * x ** (2 * b))\n"
     ]
    },
    {
     "name": "stdout",
     "output_type": "stream",
     "text": [
      "/home/mthomas/Documents/MPI_work/projects/meerkat/meerkat_umap_pv/data/interim/parameter_search/grid_search_umap_params/zs_euclidean_pad_0.1_0.1_5_3_specs_no_40_dB_no\n",
      "/home/mthomas/Documents/MPI_work/projects/meerkat/meerkat_umap_pv/data/interim/parameter_search/grid_search_umap_params/zs_euclidean_pad_0.1_0.1_5_3_specs_no_40_dB_no\n"
     ]
    },
    {
     "name": "stderr",
     "output_type": "stream",
     "text": [
      "/home/mthomas/anaconda3/envs/meerkat_umap_env_3/lib/python3.7/site-packages/umap/umap_.py:1330: RuntimeWarning: divide by zero encountered in power\n",
      "  return 1.0 / (1.0 + a * x ** (2 * b))\n"
     ]
    },
    {
     "name": "stdout",
     "output_type": "stream",
     "text": [
      "/home/mthomas/Documents/MPI_work/projects/meerkat/meerkat_umap_pv/data/interim/parameter_search/grid_search_umap_params/zs_euclidean_pad_0.1_0.1_5_4_specs_no_40_dB_no\n",
      "/home/mthomas/Documents/MPI_work/projects/meerkat/meerkat_umap_pv/data/interim/parameter_search/grid_search_umap_params/zs_euclidean_pad_0.1_0.1_5_4_specs_no_40_dB_no\n"
     ]
    },
    {
     "name": "stderr",
     "output_type": "stream",
     "text": [
      "/home/mthomas/anaconda3/envs/meerkat_umap_env_3/lib/python3.7/site-packages/umap/umap_.py:1330: RuntimeWarning: divide by zero encountered in power\n",
      "  return 1.0 / (1.0 + a * x ** (2 * b))\n"
     ]
    },
    {
     "name": "stdout",
     "output_type": "stream",
     "text": [
      "/home/mthomas/Documents/MPI_work/projects/meerkat/meerkat_umap_pv/data/interim/parameter_search/grid_search_umap_params/zs_euclidean_pad_0.1_0.1_5_5_specs_no_40_dB_no\n",
      "/home/mthomas/Documents/MPI_work/projects/meerkat/meerkat_umap_pv/data/interim/parameter_search/grid_search_umap_params/zs_euclidean_pad_0.1_0.1_5_5_specs_no_40_dB_no\n"
     ]
    },
    {
     "name": "stderr",
     "output_type": "stream",
     "text": [
      "/home/mthomas/anaconda3/envs/meerkat_umap_env_3/lib/python3.7/site-packages/umap/umap_.py:1330: RuntimeWarning: divide by zero encountered in power\n",
      "  return 1.0 / (1.0 + a * x ** (2 * b))\n"
     ]
    },
    {
     "name": "stdout",
     "output_type": "stream",
     "text": [
      "/home/mthomas/Documents/MPI_work/projects/meerkat/meerkat_umap_pv/data/interim/parameter_search/grid_search_umap_params/zs_euclidean_pad_0.1_0.1_5_6_specs_no_40_dB_no\n",
      "/home/mthomas/Documents/MPI_work/projects/meerkat/meerkat_umap_pv/data/interim/parameter_search/grid_search_umap_params/zs_euclidean_pad_0.1_0.1_5_6_specs_no_40_dB_no\n"
     ]
    },
    {
     "name": "stderr",
     "output_type": "stream",
     "text": [
      "/home/mthomas/anaconda3/envs/meerkat_umap_env_3/lib/python3.7/site-packages/umap/umap_.py:1330: RuntimeWarning: divide by zero encountered in power\n",
      "  return 1.0 / (1.0 + a * x ** (2 * b))\n"
     ]
    },
    {
     "name": "stdout",
     "output_type": "stream",
     "text": [
      "/home/mthomas/Documents/MPI_work/projects/meerkat/meerkat_umap_pv/data/interim/parameter_search/grid_search_umap_params/zs_euclidean_pad_0.1_0.1_5_7_specs_no_40_dB_no\n",
      "/home/mthomas/Documents/MPI_work/projects/meerkat/meerkat_umap_pv/data/interim/parameter_search/grid_search_umap_params/zs_euclidean_pad_0.1_0.1_5_7_specs_no_40_dB_no\n"
     ]
    },
    {
     "name": "stderr",
     "output_type": "stream",
     "text": [
      "/home/mthomas/anaconda3/envs/meerkat_umap_env_3/lib/python3.7/site-packages/umap/umap_.py:1330: RuntimeWarning: divide by zero encountered in power\n",
      "  return 1.0 / (1.0 + a * x ** (2 * b))\n"
     ]
    },
    {
     "name": "stdout",
     "output_type": "stream",
     "text": [
      "/home/mthomas/Documents/MPI_work/projects/meerkat/meerkat_umap_pv/data/interim/parameter_search/grid_search_umap_params/zs_euclidean_pad_0.1_0.1_5_8_specs_no_40_dB_no\n",
      "/home/mthomas/Documents/MPI_work/projects/meerkat/meerkat_umap_pv/data/interim/parameter_search/grid_search_umap_params/zs_euclidean_pad_0.1_0.1_5_8_specs_no_40_dB_no\n"
     ]
    },
    {
     "name": "stderr",
     "output_type": "stream",
     "text": [
      "/home/mthomas/anaconda3/envs/meerkat_umap_env_3/lib/python3.7/site-packages/umap/umap_.py:1330: RuntimeWarning: divide by zero encountered in power\n",
      "  return 1.0 / (1.0 + a * x ** (2 * b))\n"
     ]
    },
    {
     "name": "stdout",
     "output_type": "stream",
     "text": [
      "/home/mthomas/Documents/MPI_work/projects/meerkat/meerkat_umap_pv/data/interim/parameter_search/grid_search_umap_params/zs_euclidean_pad_0.1_0.1_5_9_specs_no_40_dB_no\n",
      "/home/mthomas/Documents/MPI_work/projects/meerkat/meerkat_umap_pv/data/interim/parameter_search/grid_search_umap_params/zs_euclidean_pad_0.1_0.1_5_9_specs_no_40_dB_no\n"
     ]
    },
    {
     "name": "stderr",
     "output_type": "stream",
     "text": [
      "/home/mthomas/anaconda3/envs/meerkat_umap_env_3/lib/python3.7/site-packages/umap/umap_.py:1330: RuntimeWarning: divide by zero encountered in power\n",
      "  return 1.0 / (1.0 + a * x ** (2 * b))\n"
     ]
    },
    {
     "name": "stdout",
     "output_type": "stream",
     "text": [
      "/home/mthomas/Documents/MPI_work/projects/meerkat/meerkat_umap_pv/data/interim/parameter_search/grid_search_umap_params/zs_euclidean_pad_0.1_0.1_5_10_specs_no_40_dB_no\n",
      "/home/mthomas/Documents/MPI_work/projects/meerkat/meerkat_umap_pv/data/interim/parameter_search/grid_search_umap_params/zs_euclidean_pad_0.1_0.1_5_10_specs_no_40_dB_no\n",
      "FAILED:  zs_euclidean_pad_1_0.1_5_2_specs_no_40_dB_no\n",
      "FAILED:  zs_euclidean_pad_1_0.1_5_3_specs_no_40_dB_no\n",
      "FAILED:  zs_euclidean_pad_1_0.1_5_4_specs_no_40_dB_no\n"
     ]
    },
    {
     "name": "stderr",
     "output_type": "stream",
     "text": [
      "/home/mthomas/anaconda3/envs/meerkat_umap_env_3/lib/python3.7/site-packages/scipy/optimize/minpack.py:829: OptimizeWarning: Covariance of the parameters could not be estimated\n",
      "  category=OptimizeWarning)\n",
      "/home/mthomas/anaconda3/envs/meerkat_umap_env_3/lib/python3.7/site-packages/scipy/optimize/minpack.py:829: OptimizeWarning: Covariance of the parameters could not be estimated\n",
      "  category=OptimizeWarning)\n",
      "/home/mthomas/anaconda3/envs/meerkat_umap_env_3/lib/python3.7/site-packages/scipy/optimize/minpack.py:829: OptimizeWarning: Covariance of the parameters could not be estimated\n",
      "  category=OptimizeWarning)\n",
      "/home/mthomas/anaconda3/envs/meerkat_umap_env_3/lib/python3.7/site-packages/scipy/optimize/minpack.py:829: OptimizeWarning: Covariance of the parameters could not be estimated\n",
      "  category=OptimizeWarning)\n",
      "/home/mthomas/anaconda3/envs/meerkat_umap_env_3/lib/python3.7/site-packages/scipy/optimize/minpack.py:829: OptimizeWarning: Covariance of the parameters could not be estimated\n",
      "  category=OptimizeWarning)\n"
     ]
    },
    {
     "name": "stdout",
     "output_type": "stream",
     "text": [
      "FAILED:  zs_euclidean_pad_1_0.1_5_5_specs_no_40_dB_no\n",
      "FAILED:  zs_euclidean_pad_1_0.1_5_6_specs_no_40_dB_no\n",
      "FAILED:  zs_euclidean_pad_1_0.1_5_7_specs_no_40_dB_no\n",
      "FAILED:  zs_euclidean_pad_1_0.1_5_8_specs_no_40_dB_no\n",
      "FAILED:  zs_euclidean_pad_1_0.1_5_9_specs_no_40_dB_no\n"
     ]
    },
    {
     "name": "stderr",
     "output_type": "stream",
     "text": [
      "/home/mthomas/anaconda3/envs/meerkat_umap_env_3/lib/python3.7/site-packages/scipy/optimize/minpack.py:829: OptimizeWarning: Covariance of the parameters could not be estimated\n",
      "  category=OptimizeWarning)\n",
      "/home/mthomas/anaconda3/envs/meerkat_umap_env_3/lib/python3.7/site-packages/scipy/optimize/minpack.py:829: OptimizeWarning: Covariance of the parameters could not be estimated\n",
      "  category=OptimizeWarning)\n",
      "/home/mthomas/anaconda3/envs/meerkat_umap_env_3/lib/python3.7/site-packages/scipy/optimize/minpack.py:829: OptimizeWarning: Covariance of the parameters could not be estimated\n",
      "  category=OptimizeWarning)\n",
      "/home/mthomas/anaconda3/envs/meerkat_umap_env_3/lib/python3.7/site-packages/scipy/optimize/minpack.py:829: OptimizeWarning: Covariance of the parameters could not be estimated\n",
      "  category=OptimizeWarning)\n",
      "/home/mthomas/anaconda3/envs/meerkat_umap_env_3/lib/python3.7/site-packages/umap/umap_.py:1330: RuntimeWarning: divide by zero encountered in power\n",
      "  return 1.0 / (1.0 + a * x ** (2 * b))\n",
      "/home/mthomas/anaconda3/envs/meerkat_umap_env_3/lib/python3.7/site-packages/scipy/optimize/minpack.py:829: OptimizeWarning: Covariance of the parameters could not be estimated\n",
      "  category=OptimizeWarning)\n"
     ]
    },
    {
     "name": "stdout",
     "output_type": "stream",
     "text": [
      "FAILED:  zs_euclidean_pad_1_0.1_5_10_specs_no_40_dB_no\n",
      "/home/mthomas/Documents/MPI_work/projects/meerkat/meerkat_umap_pv/data/interim/parameter_search/grid_search_umap_params/zs_euclidean_pad_0_0.1_10_2_specs_no_40_dB_no\n",
      "/home/mthomas/Documents/MPI_work/projects/meerkat/meerkat_umap_pv/data/interim/parameter_search/grid_search_umap_params/zs_euclidean_pad_0_0.1_10_2_specs_no_40_dB_no\n"
     ]
    },
    {
     "name": "stderr",
     "output_type": "stream",
     "text": [
      "/home/mthomas/anaconda3/envs/meerkat_umap_env_3/lib/python3.7/site-packages/umap/umap_.py:1330: RuntimeWarning: divide by zero encountered in power\n",
      "  return 1.0 / (1.0 + a * x ** (2 * b))\n",
      "/home/mthomas/anaconda3/envs/meerkat_umap_env_3/lib/python3.7/site-packages/scipy/optimize/minpack.py:829: OptimizeWarning: Covariance of the parameters could not be estimated\n",
      "  category=OptimizeWarning)\n"
     ]
    },
    {
     "name": "stdout",
     "output_type": "stream",
     "text": [
      "/home/mthomas/Documents/MPI_work/projects/meerkat/meerkat_umap_pv/data/interim/parameter_search/grid_search_umap_params/zs_euclidean_pad_0_0.1_10_3_specs_no_40_dB_no\n",
      "/home/mthomas/Documents/MPI_work/projects/meerkat/meerkat_umap_pv/data/interim/parameter_search/grid_search_umap_params/zs_euclidean_pad_0_0.1_10_3_specs_no_40_dB_no\n"
     ]
    },
    {
     "name": "stderr",
     "output_type": "stream",
     "text": [
      "/home/mthomas/anaconda3/envs/meerkat_umap_env_3/lib/python3.7/site-packages/umap/umap_.py:1330: RuntimeWarning: divide by zero encountered in power\n",
      "  return 1.0 / (1.0 + a * x ** (2 * b))\n",
      "/home/mthomas/anaconda3/envs/meerkat_umap_env_3/lib/python3.7/site-packages/scipy/optimize/minpack.py:829: OptimizeWarning: Covariance of the parameters could not be estimated\n",
      "  category=OptimizeWarning)\n"
     ]
    },
    {
     "name": "stdout",
     "output_type": "stream",
     "text": [
      "/home/mthomas/Documents/MPI_work/projects/meerkat/meerkat_umap_pv/data/interim/parameter_search/grid_search_umap_params/zs_euclidean_pad_0_0.1_10_4_specs_no_40_dB_no\n",
      "/home/mthomas/Documents/MPI_work/projects/meerkat/meerkat_umap_pv/data/interim/parameter_search/grid_search_umap_params/zs_euclidean_pad_0_0.1_10_4_specs_no_40_dB_no\n"
     ]
    },
    {
     "name": "stderr",
     "output_type": "stream",
     "text": [
      "/home/mthomas/anaconda3/envs/meerkat_umap_env_3/lib/python3.7/site-packages/umap/umap_.py:1330: RuntimeWarning: divide by zero encountered in power\n",
      "  return 1.0 / (1.0 + a * x ** (2 * b))\n",
      "/home/mthomas/anaconda3/envs/meerkat_umap_env_3/lib/python3.7/site-packages/scipy/optimize/minpack.py:829: OptimizeWarning: Covariance of the parameters could not be estimated\n",
      "  category=OptimizeWarning)\n"
     ]
    },
    {
     "name": "stdout",
     "output_type": "stream",
     "text": [
      "/home/mthomas/Documents/MPI_work/projects/meerkat/meerkat_umap_pv/data/interim/parameter_search/grid_search_umap_params/zs_euclidean_pad_0_0.1_10_5_specs_no_40_dB_no\n",
      "/home/mthomas/Documents/MPI_work/projects/meerkat/meerkat_umap_pv/data/interim/parameter_search/grid_search_umap_params/zs_euclidean_pad_0_0.1_10_5_specs_no_40_dB_no\n"
     ]
    },
    {
     "name": "stderr",
     "output_type": "stream",
     "text": [
      "/home/mthomas/anaconda3/envs/meerkat_umap_env_3/lib/python3.7/site-packages/umap/umap_.py:1330: RuntimeWarning: divide by zero encountered in power\n",
      "  return 1.0 / (1.0 + a * x ** (2 * b))\n",
      "/home/mthomas/anaconda3/envs/meerkat_umap_env_3/lib/python3.7/site-packages/scipy/optimize/minpack.py:829: OptimizeWarning: Covariance of the parameters could not be estimated\n",
      "  category=OptimizeWarning)\n"
     ]
    },
    {
     "name": "stdout",
     "output_type": "stream",
     "text": [
      "/home/mthomas/Documents/MPI_work/projects/meerkat/meerkat_umap_pv/data/interim/parameter_search/grid_search_umap_params/zs_euclidean_pad_0_0.1_10_6_specs_no_40_dB_no\n",
      "/home/mthomas/Documents/MPI_work/projects/meerkat/meerkat_umap_pv/data/interim/parameter_search/grid_search_umap_params/zs_euclidean_pad_0_0.1_10_6_specs_no_40_dB_no\n"
     ]
    },
    {
     "name": "stderr",
     "output_type": "stream",
     "text": [
      "/home/mthomas/anaconda3/envs/meerkat_umap_env_3/lib/python3.7/site-packages/umap/umap_.py:1330: RuntimeWarning: divide by zero encountered in power\n",
      "  return 1.0 / (1.0 + a * x ** (2 * b))\n",
      "/home/mthomas/anaconda3/envs/meerkat_umap_env_3/lib/python3.7/site-packages/scipy/optimize/minpack.py:829: OptimizeWarning: Covariance of the parameters could not be estimated\n",
      "  category=OptimizeWarning)\n"
     ]
    },
    {
     "name": "stdout",
     "output_type": "stream",
     "text": [
      "/home/mthomas/Documents/MPI_work/projects/meerkat/meerkat_umap_pv/data/interim/parameter_search/grid_search_umap_params/zs_euclidean_pad_0_0.1_10_7_specs_no_40_dB_no\n",
      "/home/mthomas/Documents/MPI_work/projects/meerkat/meerkat_umap_pv/data/interim/parameter_search/grid_search_umap_params/zs_euclidean_pad_0_0.1_10_7_specs_no_40_dB_no\n"
     ]
    },
    {
     "name": "stderr",
     "output_type": "stream",
     "text": [
      "/home/mthomas/anaconda3/envs/meerkat_umap_env_3/lib/python3.7/site-packages/umap/umap_.py:1330: RuntimeWarning: divide by zero encountered in power\n",
      "  return 1.0 / (1.0 + a * x ** (2 * b))\n",
      "/home/mthomas/anaconda3/envs/meerkat_umap_env_3/lib/python3.7/site-packages/scipy/optimize/minpack.py:829: OptimizeWarning: Covariance of the parameters could not be estimated\n",
      "  category=OptimizeWarning)\n"
     ]
    },
    {
     "name": "stdout",
     "output_type": "stream",
     "text": [
      "/home/mthomas/Documents/MPI_work/projects/meerkat/meerkat_umap_pv/data/interim/parameter_search/grid_search_umap_params/zs_euclidean_pad_0_0.1_10_8_specs_no_40_dB_no\n",
      "/home/mthomas/Documents/MPI_work/projects/meerkat/meerkat_umap_pv/data/interim/parameter_search/grid_search_umap_params/zs_euclidean_pad_0_0.1_10_8_specs_no_40_dB_no\n"
     ]
    },
    {
     "name": "stderr",
     "output_type": "stream",
     "text": [
      "/home/mthomas/anaconda3/envs/meerkat_umap_env_3/lib/python3.7/site-packages/umap/umap_.py:1330: RuntimeWarning: divide by zero encountered in power\n",
      "  return 1.0 / (1.0 + a * x ** (2 * b))\n",
      "/home/mthomas/anaconda3/envs/meerkat_umap_env_3/lib/python3.7/site-packages/scipy/optimize/minpack.py:829: OptimizeWarning: Covariance of the parameters could not be estimated\n",
      "  category=OptimizeWarning)\n"
     ]
    },
    {
     "name": "stdout",
     "output_type": "stream",
     "text": [
      "/home/mthomas/Documents/MPI_work/projects/meerkat/meerkat_umap_pv/data/interim/parameter_search/grid_search_umap_params/zs_euclidean_pad_0_0.1_10_9_specs_no_40_dB_no\n",
      "/home/mthomas/Documents/MPI_work/projects/meerkat/meerkat_umap_pv/data/interim/parameter_search/grid_search_umap_params/zs_euclidean_pad_0_0.1_10_9_specs_no_40_dB_no\n"
     ]
    },
    {
     "name": "stderr",
     "output_type": "stream",
     "text": [
      "/home/mthomas/anaconda3/envs/meerkat_umap_env_3/lib/python3.7/site-packages/umap/umap_.py:1330: RuntimeWarning: divide by zero encountered in power\n",
      "  return 1.0 / (1.0 + a * x ** (2 * b))\n",
      "/home/mthomas/anaconda3/envs/meerkat_umap_env_3/lib/python3.7/site-packages/scipy/optimize/minpack.py:829: OptimizeWarning: Covariance of the parameters could not be estimated\n",
      "  category=OptimizeWarning)\n"
     ]
    },
    {
     "name": "stdout",
     "output_type": "stream",
     "text": [
      "/home/mthomas/Documents/MPI_work/projects/meerkat/meerkat_umap_pv/data/interim/parameter_search/grid_search_umap_params/zs_euclidean_pad_0_0.1_10_10_specs_no_40_dB_no\n",
      "/home/mthomas/Documents/MPI_work/projects/meerkat/meerkat_umap_pv/data/interim/parameter_search/grid_search_umap_params/zs_euclidean_pad_0_0.1_10_10_specs_no_40_dB_no\n"
     ]
    },
    {
     "name": "stderr",
     "output_type": "stream",
     "text": [
      "/home/mthomas/anaconda3/envs/meerkat_umap_env_3/lib/python3.7/site-packages/umap/umap_.py:1330: RuntimeWarning: divide by zero encountered in power\n",
      "  return 1.0 / (1.0 + a * x ** (2 * b))\n",
      "/home/mthomas/anaconda3/envs/meerkat_umap_env_3/lib/python3.7/site-packages/scipy/optimize/minpack.py:829: OptimizeWarning: Covariance of the parameters could not be estimated\n",
      "  category=OptimizeWarning)\n"
     ]
    },
    {
     "name": "stdout",
     "output_type": "stream",
     "text": [
      "/home/mthomas/Documents/MPI_work/projects/meerkat/meerkat_umap_pv/data/interim/parameter_search/grid_search_umap_params/zs_euclidean_pad_0.001_0.1_10_2_specs_no_40_dB_no\n",
      "/home/mthomas/Documents/MPI_work/projects/meerkat/meerkat_umap_pv/data/interim/parameter_search/grid_search_umap_params/zs_euclidean_pad_0.001_0.1_10_2_specs_no_40_dB_no\n"
     ]
    },
    {
     "name": "stderr",
     "output_type": "stream",
     "text": [
      "/home/mthomas/anaconda3/envs/meerkat_umap_env_3/lib/python3.7/site-packages/umap/umap_.py:1330: RuntimeWarning: divide by zero encountered in power\n",
      "  return 1.0 / (1.0 + a * x ** (2 * b))\n",
      "/home/mthomas/anaconda3/envs/meerkat_umap_env_3/lib/python3.7/site-packages/scipy/optimize/minpack.py:829: OptimizeWarning: Covariance of the parameters could not be estimated\n",
      "  category=OptimizeWarning)\n"
     ]
    },
    {
     "name": "stdout",
     "output_type": "stream",
     "text": [
      "/home/mthomas/Documents/MPI_work/projects/meerkat/meerkat_umap_pv/data/interim/parameter_search/grid_search_umap_params/zs_euclidean_pad_0.001_0.1_10_3_specs_no_40_dB_no\n",
      "/home/mthomas/Documents/MPI_work/projects/meerkat/meerkat_umap_pv/data/interim/parameter_search/grid_search_umap_params/zs_euclidean_pad_0.001_0.1_10_3_specs_no_40_dB_no\n"
     ]
    },
    {
     "name": "stderr",
     "output_type": "stream",
     "text": [
      "/home/mthomas/anaconda3/envs/meerkat_umap_env_3/lib/python3.7/site-packages/umap/umap_.py:1330: RuntimeWarning: divide by zero encountered in power\n",
      "  return 1.0 / (1.0 + a * x ** (2 * b))\n",
      "/home/mthomas/anaconda3/envs/meerkat_umap_env_3/lib/python3.7/site-packages/scipy/optimize/minpack.py:829: OptimizeWarning: Covariance of the parameters could not be estimated\n",
      "  category=OptimizeWarning)\n"
     ]
    },
    {
     "name": "stdout",
     "output_type": "stream",
     "text": [
      "/home/mthomas/Documents/MPI_work/projects/meerkat/meerkat_umap_pv/data/interim/parameter_search/grid_search_umap_params/zs_euclidean_pad_0.001_0.1_10_4_specs_no_40_dB_no\n",
      "/home/mthomas/Documents/MPI_work/projects/meerkat/meerkat_umap_pv/data/interim/parameter_search/grid_search_umap_params/zs_euclidean_pad_0.001_0.1_10_4_specs_no_40_dB_no\n"
     ]
    },
    {
     "name": "stderr",
     "output_type": "stream",
     "text": [
      "/home/mthomas/anaconda3/envs/meerkat_umap_env_3/lib/python3.7/site-packages/umap/umap_.py:1330: RuntimeWarning: divide by zero encountered in power\n",
      "  return 1.0 / (1.0 + a * x ** (2 * b))\n",
      "/home/mthomas/anaconda3/envs/meerkat_umap_env_3/lib/python3.7/site-packages/scipy/optimize/minpack.py:829: OptimizeWarning: Covariance of the parameters could not be estimated\n",
      "  category=OptimizeWarning)\n"
     ]
    },
    {
     "name": "stdout",
     "output_type": "stream",
     "text": [
      "/home/mthomas/Documents/MPI_work/projects/meerkat/meerkat_umap_pv/data/interim/parameter_search/grid_search_umap_params/zs_euclidean_pad_0.001_0.1_10_5_specs_no_40_dB_no\n",
      "/home/mthomas/Documents/MPI_work/projects/meerkat/meerkat_umap_pv/data/interim/parameter_search/grid_search_umap_params/zs_euclidean_pad_0.001_0.1_10_5_specs_no_40_dB_no\n"
     ]
    },
    {
     "name": "stderr",
     "output_type": "stream",
     "text": [
      "/home/mthomas/anaconda3/envs/meerkat_umap_env_3/lib/python3.7/site-packages/umap/umap_.py:1330: RuntimeWarning: divide by zero encountered in power\n",
      "  return 1.0 / (1.0 + a * x ** (2 * b))\n",
      "/home/mthomas/anaconda3/envs/meerkat_umap_env_3/lib/python3.7/site-packages/scipy/optimize/minpack.py:829: OptimizeWarning: Covariance of the parameters could not be estimated\n",
      "  category=OptimizeWarning)\n"
     ]
    },
    {
     "name": "stdout",
     "output_type": "stream",
     "text": [
      "/home/mthomas/Documents/MPI_work/projects/meerkat/meerkat_umap_pv/data/interim/parameter_search/grid_search_umap_params/zs_euclidean_pad_0.001_0.1_10_6_specs_no_40_dB_no\n",
      "/home/mthomas/Documents/MPI_work/projects/meerkat/meerkat_umap_pv/data/interim/parameter_search/grid_search_umap_params/zs_euclidean_pad_0.001_0.1_10_6_specs_no_40_dB_no\n"
     ]
    },
    {
     "name": "stderr",
     "output_type": "stream",
     "text": [
      "/home/mthomas/anaconda3/envs/meerkat_umap_env_3/lib/python3.7/site-packages/umap/umap_.py:1330: RuntimeWarning: divide by zero encountered in power\n",
      "  return 1.0 / (1.0 + a * x ** (2 * b))\n",
      "/home/mthomas/anaconda3/envs/meerkat_umap_env_3/lib/python3.7/site-packages/scipy/optimize/minpack.py:829: OptimizeWarning: Covariance of the parameters could not be estimated\n",
      "  category=OptimizeWarning)\n"
     ]
    },
    {
     "name": "stdout",
     "output_type": "stream",
     "text": [
      "/home/mthomas/Documents/MPI_work/projects/meerkat/meerkat_umap_pv/data/interim/parameter_search/grid_search_umap_params/zs_euclidean_pad_0.001_0.1_10_7_specs_no_40_dB_no\n",
      "/home/mthomas/Documents/MPI_work/projects/meerkat/meerkat_umap_pv/data/interim/parameter_search/grid_search_umap_params/zs_euclidean_pad_0.001_0.1_10_7_specs_no_40_dB_no\n"
     ]
    },
    {
     "name": "stderr",
     "output_type": "stream",
     "text": [
      "/home/mthomas/anaconda3/envs/meerkat_umap_env_3/lib/python3.7/site-packages/umap/umap_.py:1330: RuntimeWarning: divide by zero encountered in power\n",
      "  return 1.0 / (1.0 + a * x ** (2 * b))\n",
      "/home/mthomas/anaconda3/envs/meerkat_umap_env_3/lib/python3.7/site-packages/scipy/optimize/minpack.py:829: OptimizeWarning: Covariance of the parameters could not be estimated\n",
      "  category=OptimizeWarning)\n"
     ]
    },
    {
     "name": "stdout",
     "output_type": "stream",
     "text": [
      "/home/mthomas/Documents/MPI_work/projects/meerkat/meerkat_umap_pv/data/interim/parameter_search/grid_search_umap_params/zs_euclidean_pad_0.001_0.1_10_8_specs_no_40_dB_no\n",
      "/home/mthomas/Documents/MPI_work/projects/meerkat/meerkat_umap_pv/data/interim/parameter_search/grid_search_umap_params/zs_euclidean_pad_0.001_0.1_10_8_specs_no_40_dB_no\n"
     ]
    },
    {
     "name": "stderr",
     "output_type": "stream",
     "text": [
      "/home/mthomas/anaconda3/envs/meerkat_umap_env_3/lib/python3.7/site-packages/umap/umap_.py:1330: RuntimeWarning: divide by zero encountered in power\n",
      "  return 1.0 / (1.0 + a * x ** (2 * b))\n",
      "/home/mthomas/anaconda3/envs/meerkat_umap_env_3/lib/python3.7/site-packages/scipy/optimize/minpack.py:829: OptimizeWarning: Covariance of the parameters could not be estimated\n",
      "  category=OptimizeWarning)\n"
     ]
    },
    {
     "name": "stdout",
     "output_type": "stream",
     "text": [
      "/home/mthomas/Documents/MPI_work/projects/meerkat/meerkat_umap_pv/data/interim/parameter_search/grid_search_umap_params/zs_euclidean_pad_0.001_0.1_10_9_specs_no_40_dB_no\n",
      "/home/mthomas/Documents/MPI_work/projects/meerkat/meerkat_umap_pv/data/interim/parameter_search/grid_search_umap_params/zs_euclidean_pad_0.001_0.1_10_9_specs_no_40_dB_no\n"
     ]
    },
    {
     "name": "stderr",
     "output_type": "stream",
     "text": [
      "/home/mthomas/anaconda3/envs/meerkat_umap_env_3/lib/python3.7/site-packages/umap/umap_.py:1330: RuntimeWarning: divide by zero encountered in power\n",
      "  return 1.0 / (1.0 + a * x ** (2 * b))\n",
      "/home/mthomas/anaconda3/envs/meerkat_umap_env_3/lib/python3.7/site-packages/scipy/optimize/minpack.py:829: OptimizeWarning: Covariance of the parameters could not be estimated\n",
      "  category=OptimizeWarning)\n"
     ]
    },
    {
     "name": "stdout",
     "output_type": "stream",
     "text": [
      "/home/mthomas/Documents/MPI_work/projects/meerkat/meerkat_umap_pv/data/interim/parameter_search/grid_search_umap_params/zs_euclidean_pad_0.001_0.1_10_10_specs_no_40_dB_no\n",
      "/home/mthomas/Documents/MPI_work/projects/meerkat/meerkat_umap_pv/data/interim/parameter_search/grid_search_umap_params/zs_euclidean_pad_0.001_0.1_10_10_specs_no_40_dB_no\n"
     ]
    },
    {
     "name": "stderr",
     "output_type": "stream",
     "text": [
      "/home/mthomas/anaconda3/envs/meerkat_umap_env_3/lib/python3.7/site-packages/umap/umap_.py:1330: RuntimeWarning: divide by zero encountered in power\n",
      "  return 1.0 / (1.0 + a * x ** (2 * b))\n",
      "/home/mthomas/anaconda3/envs/meerkat_umap_env_3/lib/python3.7/site-packages/scipy/optimize/minpack.py:829: OptimizeWarning: Covariance of the parameters could not be estimated\n",
      "  category=OptimizeWarning)\n"
     ]
    },
    {
     "name": "stdout",
     "output_type": "stream",
     "text": [
      "/home/mthomas/Documents/MPI_work/projects/meerkat/meerkat_umap_pv/data/interim/parameter_search/grid_search_umap_params/zs_euclidean_pad_0.01_0.1_10_2_specs_no_40_dB_no\n",
      "/home/mthomas/Documents/MPI_work/projects/meerkat/meerkat_umap_pv/data/interim/parameter_search/grid_search_umap_params/zs_euclidean_pad_0.01_0.1_10_2_specs_no_40_dB_no\n"
     ]
    },
    {
     "name": "stderr",
     "output_type": "stream",
     "text": [
      "/home/mthomas/anaconda3/envs/meerkat_umap_env_3/lib/python3.7/site-packages/umap/umap_.py:1330: RuntimeWarning: divide by zero encountered in power\n",
      "  return 1.0 / (1.0 + a * x ** (2 * b))\n",
      "/home/mthomas/anaconda3/envs/meerkat_umap_env_3/lib/python3.7/site-packages/scipy/optimize/minpack.py:829: OptimizeWarning: Covariance of the parameters could not be estimated\n",
      "  category=OptimizeWarning)\n"
     ]
    },
    {
     "name": "stdout",
     "output_type": "stream",
     "text": [
      "/home/mthomas/Documents/MPI_work/projects/meerkat/meerkat_umap_pv/data/interim/parameter_search/grid_search_umap_params/zs_euclidean_pad_0.01_0.1_10_3_specs_no_40_dB_no\n",
      "/home/mthomas/Documents/MPI_work/projects/meerkat/meerkat_umap_pv/data/interim/parameter_search/grid_search_umap_params/zs_euclidean_pad_0.01_0.1_10_3_specs_no_40_dB_no\n"
     ]
    },
    {
     "name": "stderr",
     "output_type": "stream",
     "text": [
      "/home/mthomas/anaconda3/envs/meerkat_umap_env_3/lib/python3.7/site-packages/umap/umap_.py:1330: RuntimeWarning: divide by zero encountered in power\n",
      "  return 1.0 / (1.0 + a * x ** (2 * b))\n",
      "/home/mthomas/anaconda3/envs/meerkat_umap_env_3/lib/python3.7/site-packages/scipy/optimize/minpack.py:829: OptimizeWarning: Covariance of the parameters could not be estimated\n",
      "  category=OptimizeWarning)\n"
     ]
    },
    {
     "name": "stdout",
     "output_type": "stream",
     "text": [
      "/home/mthomas/Documents/MPI_work/projects/meerkat/meerkat_umap_pv/data/interim/parameter_search/grid_search_umap_params/zs_euclidean_pad_0.01_0.1_10_4_specs_no_40_dB_no\n",
      "/home/mthomas/Documents/MPI_work/projects/meerkat/meerkat_umap_pv/data/interim/parameter_search/grid_search_umap_params/zs_euclidean_pad_0.01_0.1_10_4_specs_no_40_dB_no\n"
     ]
    },
    {
     "name": "stderr",
     "output_type": "stream",
     "text": [
      "/home/mthomas/anaconda3/envs/meerkat_umap_env_3/lib/python3.7/site-packages/umap/umap_.py:1330: RuntimeWarning: divide by zero encountered in power\n",
      "  return 1.0 / (1.0 + a * x ** (2 * b))\n",
      "/home/mthomas/anaconda3/envs/meerkat_umap_env_3/lib/python3.7/site-packages/scipy/optimize/minpack.py:829: OptimizeWarning: Covariance of the parameters could not be estimated\n",
      "  category=OptimizeWarning)\n"
     ]
    },
    {
     "name": "stdout",
     "output_type": "stream",
     "text": [
      "/home/mthomas/Documents/MPI_work/projects/meerkat/meerkat_umap_pv/data/interim/parameter_search/grid_search_umap_params/zs_euclidean_pad_0.01_0.1_10_5_specs_no_40_dB_no\n",
      "/home/mthomas/Documents/MPI_work/projects/meerkat/meerkat_umap_pv/data/interim/parameter_search/grid_search_umap_params/zs_euclidean_pad_0.01_0.1_10_5_specs_no_40_dB_no\n"
     ]
    },
    {
     "name": "stderr",
     "output_type": "stream",
     "text": [
      "/home/mthomas/anaconda3/envs/meerkat_umap_env_3/lib/python3.7/site-packages/umap/umap_.py:1330: RuntimeWarning: divide by zero encountered in power\n",
      "  return 1.0 / (1.0 + a * x ** (2 * b))\n",
      "/home/mthomas/anaconda3/envs/meerkat_umap_env_3/lib/python3.7/site-packages/scipy/optimize/minpack.py:829: OptimizeWarning: Covariance of the parameters could not be estimated\n",
      "  category=OptimizeWarning)\n"
     ]
    },
    {
     "name": "stdout",
     "output_type": "stream",
     "text": [
      "/home/mthomas/Documents/MPI_work/projects/meerkat/meerkat_umap_pv/data/interim/parameter_search/grid_search_umap_params/zs_euclidean_pad_0.01_0.1_10_6_specs_no_40_dB_no\n",
      "/home/mthomas/Documents/MPI_work/projects/meerkat/meerkat_umap_pv/data/interim/parameter_search/grid_search_umap_params/zs_euclidean_pad_0.01_0.1_10_6_specs_no_40_dB_no\n"
     ]
    },
    {
     "name": "stderr",
     "output_type": "stream",
     "text": [
      "/home/mthomas/anaconda3/envs/meerkat_umap_env_3/lib/python3.7/site-packages/umap/umap_.py:1330: RuntimeWarning: divide by zero encountered in power\n",
      "  return 1.0 / (1.0 + a * x ** (2 * b))\n",
      "/home/mthomas/anaconda3/envs/meerkat_umap_env_3/lib/python3.7/site-packages/scipy/optimize/minpack.py:829: OptimizeWarning: Covariance of the parameters could not be estimated\n",
      "  category=OptimizeWarning)\n"
     ]
    },
    {
     "name": "stdout",
     "output_type": "stream",
     "text": [
      "/home/mthomas/Documents/MPI_work/projects/meerkat/meerkat_umap_pv/data/interim/parameter_search/grid_search_umap_params/zs_euclidean_pad_0.01_0.1_10_7_specs_no_40_dB_no\n",
      "/home/mthomas/Documents/MPI_work/projects/meerkat/meerkat_umap_pv/data/interim/parameter_search/grid_search_umap_params/zs_euclidean_pad_0.01_0.1_10_7_specs_no_40_dB_no\n"
     ]
    },
    {
     "name": "stderr",
     "output_type": "stream",
     "text": [
      "/home/mthomas/anaconda3/envs/meerkat_umap_env_3/lib/python3.7/site-packages/umap/umap_.py:1330: RuntimeWarning: divide by zero encountered in power\n",
      "  return 1.0 / (1.0 + a * x ** (2 * b))\n",
      "/home/mthomas/anaconda3/envs/meerkat_umap_env_3/lib/python3.7/site-packages/scipy/optimize/minpack.py:829: OptimizeWarning: Covariance of the parameters could not be estimated\n",
      "  category=OptimizeWarning)\n"
     ]
    },
    {
     "name": "stdout",
     "output_type": "stream",
     "text": [
      "/home/mthomas/Documents/MPI_work/projects/meerkat/meerkat_umap_pv/data/interim/parameter_search/grid_search_umap_params/zs_euclidean_pad_0.01_0.1_10_8_specs_no_40_dB_no\n",
      "/home/mthomas/Documents/MPI_work/projects/meerkat/meerkat_umap_pv/data/interim/parameter_search/grid_search_umap_params/zs_euclidean_pad_0.01_0.1_10_8_specs_no_40_dB_no\n"
     ]
    },
    {
     "name": "stderr",
     "output_type": "stream",
     "text": [
      "/home/mthomas/anaconda3/envs/meerkat_umap_env_3/lib/python3.7/site-packages/umap/umap_.py:1330: RuntimeWarning: divide by zero encountered in power\n",
      "  return 1.0 / (1.0 + a * x ** (2 * b))\n",
      "/home/mthomas/anaconda3/envs/meerkat_umap_env_3/lib/python3.7/site-packages/scipy/optimize/minpack.py:829: OptimizeWarning: Covariance of the parameters could not be estimated\n",
      "  category=OptimizeWarning)\n"
     ]
    },
    {
     "name": "stdout",
     "output_type": "stream",
     "text": [
      "/home/mthomas/Documents/MPI_work/projects/meerkat/meerkat_umap_pv/data/interim/parameter_search/grid_search_umap_params/zs_euclidean_pad_0.01_0.1_10_9_specs_no_40_dB_no\n",
      "/home/mthomas/Documents/MPI_work/projects/meerkat/meerkat_umap_pv/data/interim/parameter_search/grid_search_umap_params/zs_euclidean_pad_0.01_0.1_10_9_specs_no_40_dB_no\n"
     ]
    },
    {
     "name": "stderr",
     "output_type": "stream",
     "text": [
      "/home/mthomas/anaconda3/envs/meerkat_umap_env_3/lib/python3.7/site-packages/umap/umap_.py:1330: RuntimeWarning: divide by zero encountered in power\n",
      "  return 1.0 / (1.0 + a * x ** (2 * b))\n",
      "/home/mthomas/anaconda3/envs/meerkat_umap_env_3/lib/python3.7/site-packages/scipy/optimize/minpack.py:829: OptimizeWarning: Covariance of the parameters could not be estimated\n",
      "  category=OptimizeWarning)\n"
     ]
    },
    {
     "name": "stdout",
     "output_type": "stream",
     "text": [
      "/home/mthomas/Documents/MPI_work/projects/meerkat/meerkat_umap_pv/data/interim/parameter_search/grid_search_umap_params/zs_euclidean_pad_0.01_0.1_10_10_specs_no_40_dB_no\n",
      "/home/mthomas/Documents/MPI_work/projects/meerkat/meerkat_umap_pv/data/interim/parameter_search/grid_search_umap_params/zs_euclidean_pad_0.01_0.1_10_10_specs_no_40_dB_no\n"
     ]
    },
    {
     "name": "stderr",
     "output_type": "stream",
     "text": [
      "/home/mthomas/anaconda3/envs/meerkat_umap_env_3/lib/python3.7/site-packages/umap/umap_.py:1330: RuntimeWarning: divide by zero encountered in power\n",
      "  return 1.0 / (1.0 + a * x ** (2 * b))\n"
     ]
    },
    {
     "name": "stdout",
     "output_type": "stream",
     "text": [
      "/home/mthomas/Documents/MPI_work/projects/meerkat/meerkat_umap_pv/data/interim/parameter_search/grid_search_umap_params/zs_euclidean_pad_0.1_0.1_10_2_specs_no_40_dB_no\n",
      "/home/mthomas/Documents/MPI_work/projects/meerkat/meerkat_umap_pv/data/interim/parameter_search/grid_search_umap_params/zs_euclidean_pad_0.1_0.1_10_2_specs_no_40_dB_no\n"
     ]
    },
    {
     "name": "stderr",
     "output_type": "stream",
     "text": [
      "/home/mthomas/anaconda3/envs/meerkat_umap_env_3/lib/python3.7/site-packages/umap/umap_.py:1330: RuntimeWarning: divide by zero encountered in power\n",
      "  return 1.0 / (1.0 + a * x ** (2 * b))\n"
     ]
    },
    {
     "name": "stdout",
     "output_type": "stream",
     "text": [
      "/home/mthomas/Documents/MPI_work/projects/meerkat/meerkat_umap_pv/data/interim/parameter_search/grid_search_umap_params/zs_euclidean_pad_0.1_0.1_10_3_specs_no_40_dB_no\n",
      "/home/mthomas/Documents/MPI_work/projects/meerkat/meerkat_umap_pv/data/interim/parameter_search/grid_search_umap_params/zs_euclidean_pad_0.1_0.1_10_3_specs_no_40_dB_no\n"
     ]
    },
    {
     "name": "stderr",
     "output_type": "stream",
     "text": [
      "/home/mthomas/anaconda3/envs/meerkat_umap_env_3/lib/python3.7/site-packages/umap/umap_.py:1330: RuntimeWarning: divide by zero encountered in power\n",
      "  return 1.0 / (1.0 + a * x ** (2 * b))\n"
     ]
    },
    {
     "name": "stdout",
     "output_type": "stream",
     "text": [
      "/home/mthomas/Documents/MPI_work/projects/meerkat/meerkat_umap_pv/data/interim/parameter_search/grid_search_umap_params/zs_euclidean_pad_0.1_0.1_10_4_specs_no_40_dB_no\n",
      "/home/mthomas/Documents/MPI_work/projects/meerkat/meerkat_umap_pv/data/interim/parameter_search/grid_search_umap_params/zs_euclidean_pad_0.1_0.1_10_4_specs_no_40_dB_no\n"
     ]
    },
    {
     "name": "stderr",
     "output_type": "stream",
     "text": [
      "/home/mthomas/anaconda3/envs/meerkat_umap_env_3/lib/python3.7/site-packages/umap/umap_.py:1330: RuntimeWarning: divide by zero encountered in power\n",
      "  return 1.0 / (1.0 + a * x ** (2 * b))\n"
     ]
    },
    {
     "name": "stdout",
     "output_type": "stream",
     "text": [
      "/home/mthomas/Documents/MPI_work/projects/meerkat/meerkat_umap_pv/data/interim/parameter_search/grid_search_umap_params/zs_euclidean_pad_0.1_0.1_10_5_specs_no_40_dB_no\n",
      "/home/mthomas/Documents/MPI_work/projects/meerkat/meerkat_umap_pv/data/interim/parameter_search/grid_search_umap_params/zs_euclidean_pad_0.1_0.1_10_5_specs_no_40_dB_no\n"
     ]
    },
    {
     "name": "stderr",
     "output_type": "stream",
     "text": [
      "/home/mthomas/anaconda3/envs/meerkat_umap_env_3/lib/python3.7/site-packages/umap/umap_.py:1330: RuntimeWarning: divide by zero encountered in power\n",
      "  return 1.0 / (1.0 + a * x ** (2 * b))\n"
     ]
    },
    {
     "name": "stdout",
     "output_type": "stream",
     "text": [
      "/home/mthomas/Documents/MPI_work/projects/meerkat/meerkat_umap_pv/data/interim/parameter_search/grid_search_umap_params/zs_euclidean_pad_0.1_0.1_10_6_specs_no_40_dB_no\n",
      "/home/mthomas/Documents/MPI_work/projects/meerkat/meerkat_umap_pv/data/interim/parameter_search/grid_search_umap_params/zs_euclidean_pad_0.1_0.1_10_6_specs_no_40_dB_no\n"
     ]
    },
    {
     "name": "stderr",
     "output_type": "stream",
     "text": [
      "/home/mthomas/anaconda3/envs/meerkat_umap_env_3/lib/python3.7/site-packages/umap/umap_.py:1330: RuntimeWarning: divide by zero encountered in power\n",
      "  return 1.0 / (1.0 + a * x ** (2 * b))\n"
     ]
    },
    {
     "name": "stdout",
     "output_type": "stream",
     "text": [
      "/home/mthomas/Documents/MPI_work/projects/meerkat/meerkat_umap_pv/data/interim/parameter_search/grid_search_umap_params/zs_euclidean_pad_0.1_0.1_10_7_specs_no_40_dB_no\n",
      "/home/mthomas/Documents/MPI_work/projects/meerkat/meerkat_umap_pv/data/interim/parameter_search/grid_search_umap_params/zs_euclidean_pad_0.1_0.1_10_7_specs_no_40_dB_no\n"
     ]
    },
    {
     "name": "stderr",
     "output_type": "stream",
     "text": [
      "/home/mthomas/anaconda3/envs/meerkat_umap_env_3/lib/python3.7/site-packages/umap/umap_.py:1330: RuntimeWarning: divide by zero encountered in power\n",
      "  return 1.0 / (1.0 + a * x ** (2 * b))\n"
     ]
    },
    {
     "name": "stdout",
     "output_type": "stream",
     "text": [
      "/home/mthomas/Documents/MPI_work/projects/meerkat/meerkat_umap_pv/data/interim/parameter_search/grid_search_umap_params/zs_euclidean_pad_0.1_0.1_10_8_specs_no_40_dB_no\n",
      "/home/mthomas/Documents/MPI_work/projects/meerkat/meerkat_umap_pv/data/interim/parameter_search/grid_search_umap_params/zs_euclidean_pad_0.1_0.1_10_8_specs_no_40_dB_no\n"
     ]
    },
    {
     "name": "stderr",
     "output_type": "stream",
     "text": [
      "/home/mthomas/anaconda3/envs/meerkat_umap_env_3/lib/python3.7/site-packages/umap/umap_.py:1330: RuntimeWarning: divide by zero encountered in power\n",
      "  return 1.0 / (1.0 + a * x ** (2 * b))\n"
     ]
    },
    {
     "name": "stdout",
     "output_type": "stream",
     "text": [
      "/home/mthomas/Documents/MPI_work/projects/meerkat/meerkat_umap_pv/data/interim/parameter_search/grid_search_umap_params/zs_euclidean_pad_0.1_0.1_10_9_specs_no_40_dB_no\n",
      "/home/mthomas/Documents/MPI_work/projects/meerkat/meerkat_umap_pv/data/interim/parameter_search/grid_search_umap_params/zs_euclidean_pad_0.1_0.1_10_9_specs_no_40_dB_no\n"
     ]
    },
    {
     "name": "stderr",
     "output_type": "stream",
     "text": [
      "/home/mthomas/anaconda3/envs/meerkat_umap_env_3/lib/python3.7/site-packages/umap/umap_.py:1330: RuntimeWarning: divide by zero encountered in power\n",
      "  return 1.0 / (1.0 + a * x ** (2 * b))\n"
     ]
    },
    {
     "name": "stdout",
     "output_type": "stream",
     "text": [
      "/home/mthomas/Documents/MPI_work/projects/meerkat/meerkat_umap_pv/data/interim/parameter_search/grid_search_umap_params/zs_euclidean_pad_0.1_0.1_10_10_specs_no_40_dB_no\n",
      "/home/mthomas/Documents/MPI_work/projects/meerkat/meerkat_umap_pv/data/interim/parameter_search/grid_search_umap_params/zs_euclidean_pad_0.1_0.1_10_10_specs_no_40_dB_no\n",
      "FAILED:  zs_euclidean_pad_1_0.1_10_2_specs_no_40_dB_no\n",
      "FAILED:  zs_euclidean_pad_1_0.1_10_3_specs_no_40_dB_no\n",
      "FAILED:  zs_euclidean_pad_1_0.1_10_4_specs_no_40_dB_no\n"
     ]
    },
    {
     "name": "stderr",
     "output_type": "stream",
     "text": [
      "/home/mthomas/anaconda3/envs/meerkat_umap_env_3/lib/python3.7/site-packages/scipy/optimize/minpack.py:829: OptimizeWarning: Covariance of the parameters could not be estimated\n",
      "  category=OptimizeWarning)\n",
      "/home/mthomas/anaconda3/envs/meerkat_umap_env_3/lib/python3.7/site-packages/scipy/optimize/minpack.py:829: OptimizeWarning: Covariance of the parameters could not be estimated\n",
      "  category=OptimizeWarning)\n",
      "/home/mthomas/anaconda3/envs/meerkat_umap_env_3/lib/python3.7/site-packages/scipy/optimize/minpack.py:829: OptimizeWarning: Covariance of the parameters could not be estimated\n",
      "  category=OptimizeWarning)\n",
      "/home/mthomas/anaconda3/envs/meerkat_umap_env_3/lib/python3.7/site-packages/scipy/optimize/minpack.py:829: OptimizeWarning: Covariance of the parameters could not be estimated\n",
      "  category=OptimizeWarning)\n",
      "/home/mthomas/anaconda3/envs/meerkat_umap_env_3/lib/python3.7/site-packages/scipy/optimize/minpack.py:829: OptimizeWarning: Covariance of the parameters could not be estimated\n",
      "  category=OptimizeWarning)\n"
     ]
    },
    {
     "name": "stdout",
     "output_type": "stream",
     "text": [
      "FAILED:  zs_euclidean_pad_1_0.1_10_5_specs_no_40_dB_no\n",
      "FAILED:  zs_euclidean_pad_1_0.1_10_6_specs_no_40_dB_no\n",
      "FAILED:  zs_euclidean_pad_1_0.1_10_7_specs_no_40_dB_no\n",
      "FAILED:  zs_euclidean_pad_1_0.1_10_8_specs_no_40_dB_no\n",
      "FAILED:  zs_euclidean_pad_1_0.1_10_9_specs_no_40_dB_no\n"
     ]
    },
    {
     "name": "stderr",
     "output_type": "stream",
     "text": [
      "/home/mthomas/anaconda3/envs/meerkat_umap_env_3/lib/python3.7/site-packages/scipy/optimize/minpack.py:829: OptimizeWarning: Covariance of the parameters could not be estimated\n",
      "  category=OptimizeWarning)\n",
      "/home/mthomas/anaconda3/envs/meerkat_umap_env_3/lib/python3.7/site-packages/scipy/optimize/minpack.py:829: OptimizeWarning: Covariance of the parameters could not be estimated\n",
      "  category=OptimizeWarning)\n",
      "/home/mthomas/anaconda3/envs/meerkat_umap_env_3/lib/python3.7/site-packages/scipy/optimize/minpack.py:829: OptimizeWarning: Covariance of the parameters could not be estimated\n",
      "  category=OptimizeWarning)\n",
      "/home/mthomas/anaconda3/envs/meerkat_umap_env_3/lib/python3.7/site-packages/scipy/optimize/minpack.py:829: OptimizeWarning: Covariance of the parameters could not be estimated\n",
      "  category=OptimizeWarning)\n",
      "/home/mthomas/anaconda3/envs/meerkat_umap_env_3/lib/python3.7/site-packages/umap/umap_.py:1330: RuntimeWarning: divide by zero encountered in power\n",
      "  return 1.0 / (1.0 + a * x ** (2 * b))\n",
      "/home/mthomas/anaconda3/envs/meerkat_umap_env_3/lib/python3.7/site-packages/scipy/optimize/minpack.py:829: OptimizeWarning: Covariance of the parameters could not be estimated\n",
      "  category=OptimizeWarning)\n"
     ]
    },
    {
     "name": "stdout",
     "output_type": "stream",
     "text": [
      "FAILED:  zs_euclidean_pad_1_0.1_10_10_specs_no_40_dB_no\n",
      "/home/mthomas/Documents/MPI_work/projects/meerkat/meerkat_umap_pv/data/interim/parameter_search/grid_search_umap_params/zs_euclidean_pad_0_0.1_15_2_specs_no_40_dB_no\n",
      "/home/mthomas/Documents/MPI_work/projects/meerkat/meerkat_umap_pv/data/interim/parameter_search/grid_search_umap_params/zs_euclidean_pad_0_0.1_15_2_specs_no_40_dB_no\n"
     ]
    },
    {
     "name": "stderr",
     "output_type": "stream",
     "text": [
      "/home/mthomas/anaconda3/envs/meerkat_umap_env_3/lib/python3.7/site-packages/umap/umap_.py:1330: RuntimeWarning: divide by zero encountered in power\n",
      "  return 1.0 / (1.0 + a * x ** (2 * b))\n",
      "/home/mthomas/anaconda3/envs/meerkat_umap_env_3/lib/python3.7/site-packages/scipy/optimize/minpack.py:829: OptimizeWarning: Covariance of the parameters could not be estimated\n",
      "  category=OptimizeWarning)\n"
     ]
    },
    {
     "name": "stdout",
     "output_type": "stream",
     "text": [
      "/home/mthomas/Documents/MPI_work/projects/meerkat/meerkat_umap_pv/data/interim/parameter_search/grid_search_umap_params/zs_euclidean_pad_0_0.1_15_3_specs_no_40_dB_no\n",
      "/home/mthomas/Documents/MPI_work/projects/meerkat/meerkat_umap_pv/data/interim/parameter_search/grid_search_umap_params/zs_euclidean_pad_0_0.1_15_3_specs_no_40_dB_no\n"
     ]
    },
    {
     "name": "stderr",
     "output_type": "stream",
     "text": [
      "/home/mthomas/anaconda3/envs/meerkat_umap_env_3/lib/python3.7/site-packages/umap/umap_.py:1330: RuntimeWarning: divide by zero encountered in power\n",
      "  return 1.0 / (1.0 + a * x ** (2 * b))\n",
      "/home/mthomas/anaconda3/envs/meerkat_umap_env_3/lib/python3.7/site-packages/scipy/optimize/minpack.py:829: OptimizeWarning: Covariance of the parameters could not be estimated\n",
      "  category=OptimizeWarning)\n"
     ]
    },
    {
     "name": "stdout",
     "output_type": "stream",
     "text": [
      "/home/mthomas/Documents/MPI_work/projects/meerkat/meerkat_umap_pv/data/interim/parameter_search/grid_search_umap_params/zs_euclidean_pad_0_0.1_15_4_specs_no_40_dB_no\n",
      "/home/mthomas/Documents/MPI_work/projects/meerkat/meerkat_umap_pv/data/interim/parameter_search/grid_search_umap_params/zs_euclidean_pad_0_0.1_15_4_specs_no_40_dB_no\n"
     ]
    },
    {
     "name": "stderr",
     "output_type": "stream",
     "text": [
      "/home/mthomas/anaconda3/envs/meerkat_umap_env_3/lib/python3.7/site-packages/umap/umap_.py:1330: RuntimeWarning: divide by zero encountered in power\n",
      "  return 1.0 / (1.0 + a * x ** (2 * b))\n",
      "/home/mthomas/anaconda3/envs/meerkat_umap_env_3/lib/python3.7/site-packages/scipy/optimize/minpack.py:829: OptimizeWarning: Covariance of the parameters could not be estimated\n",
      "  category=OptimizeWarning)\n"
     ]
    },
    {
     "name": "stdout",
     "output_type": "stream",
     "text": [
      "/home/mthomas/Documents/MPI_work/projects/meerkat/meerkat_umap_pv/data/interim/parameter_search/grid_search_umap_params/zs_euclidean_pad_0_0.1_15_5_specs_no_40_dB_no\n",
      "/home/mthomas/Documents/MPI_work/projects/meerkat/meerkat_umap_pv/data/interim/parameter_search/grid_search_umap_params/zs_euclidean_pad_0_0.1_15_5_specs_no_40_dB_no\n"
     ]
    },
    {
     "name": "stderr",
     "output_type": "stream",
     "text": [
      "/home/mthomas/anaconda3/envs/meerkat_umap_env_3/lib/python3.7/site-packages/umap/umap_.py:1330: RuntimeWarning: divide by zero encountered in power\n",
      "  return 1.0 / (1.0 + a * x ** (2 * b))\n",
      "/home/mthomas/anaconda3/envs/meerkat_umap_env_3/lib/python3.7/site-packages/scipy/optimize/minpack.py:829: OptimizeWarning: Covariance of the parameters could not be estimated\n",
      "  category=OptimizeWarning)\n"
     ]
    },
    {
     "name": "stdout",
     "output_type": "stream",
     "text": [
      "/home/mthomas/Documents/MPI_work/projects/meerkat/meerkat_umap_pv/data/interim/parameter_search/grid_search_umap_params/zs_euclidean_pad_0_0.1_15_6_specs_no_40_dB_no\n",
      "/home/mthomas/Documents/MPI_work/projects/meerkat/meerkat_umap_pv/data/interim/parameter_search/grid_search_umap_params/zs_euclidean_pad_0_0.1_15_6_specs_no_40_dB_no\n"
     ]
    },
    {
     "name": "stderr",
     "output_type": "stream",
     "text": [
      "/home/mthomas/anaconda3/envs/meerkat_umap_env_3/lib/python3.7/site-packages/umap/umap_.py:1330: RuntimeWarning: divide by zero encountered in power\n",
      "  return 1.0 / (1.0 + a * x ** (2 * b))\n",
      "/home/mthomas/anaconda3/envs/meerkat_umap_env_3/lib/python3.7/site-packages/scipy/optimize/minpack.py:829: OptimizeWarning: Covariance of the parameters could not be estimated\n",
      "  category=OptimizeWarning)\n"
     ]
    },
    {
     "name": "stdout",
     "output_type": "stream",
     "text": [
      "/home/mthomas/Documents/MPI_work/projects/meerkat/meerkat_umap_pv/data/interim/parameter_search/grid_search_umap_params/zs_euclidean_pad_0_0.1_15_7_specs_no_40_dB_no\n",
      "/home/mthomas/Documents/MPI_work/projects/meerkat/meerkat_umap_pv/data/interim/parameter_search/grid_search_umap_params/zs_euclidean_pad_0_0.1_15_7_specs_no_40_dB_no\n"
     ]
    },
    {
     "name": "stderr",
     "output_type": "stream",
     "text": [
      "/home/mthomas/anaconda3/envs/meerkat_umap_env_3/lib/python3.7/site-packages/umap/umap_.py:1330: RuntimeWarning: divide by zero encountered in power\n",
      "  return 1.0 / (1.0 + a * x ** (2 * b))\n",
      "/home/mthomas/anaconda3/envs/meerkat_umap_env_3/lib/python3.7/site-packages/scipy/optimize/minpack.py:829: OptimizeWarning: Covariance of the parameters could not be estimated\n",
      "  category=OptimizeWarning)\n"
     ]
    },
    {
     "name": "stdout",
     "output_type": "stream",
     "text": [
      "/home/mthomas/Documents/MPI_work/projects/meerkat/meerkat_umap_pv/data/interim/parameter_search/grid_search_umap_params/zs_euclidean_pad_0_0.1_15_8_specs_no_40_dB_no\n",
      "/home/mthomas/Documents/MPI_work/projects/meerkat/meerkat_umap_pv/data/interim/parameter_search/grid_search_umap_params/zs_euclidean_pad_0_0.1_15_8_specs_no_40_dB_no\n"
     ]
    },
    {
     "name": "stderr",
     "output_type": "stream",
     "text": [
      "/home/mthomas/anaconda3/envs/meerkat_umap_env_3/lib/python3.7/site-packages/umap/umap_.py:1330: RuntimeWarning: divide by zero encountered in power\n",
      "  return 1.0 / (1.0 + a * x ** (2 * b))\n",
      "/home/mthomas/anaconda3/envs/meerkat_umap_env_3/lib/python3.7/site-packages/scipy/optimize/minpack.py:829: OptimizeWarning: Covariance of the parameters could not be estimated\n",
      "  category=OptimizeWarning)\n"
     ]
    },
    {
     "name": "stdout",
     "output_type": "stream",
     "text": [
      "/home/mthomas/Documents/MPI_work/projects/meerkat/meerkat_umap_pv/data/interim/parameter_search/grid_search_umap_params/zs_euclidean_pad_0_0.1_15_9_specs_no_40_dB_no\n",
      "/home/mthomas/Documents/MPI_work/projects/meerkat/meerkat_umap_pv/data/interim/parameter_search/grid_search_umap_params/zs_euclidean_pad_0_0.1_15_9_specs_no_40_dB_no\n"
     ]
    },
    {
     "name": "stderr",
     "output_type": "stream",
     "text": [
      "/home/mthomas/anaconda3/envs/meerkat_umap_env_3/lib/python3.7/site-packages/umap/umap_.py:1330: RuntimeWarning: divide by zero encountered in power\n",
      "  return 1.0 / (1.0 + a * x ** (2 * b))\n",
      "/home/mthomas/anaconda3/envs/meerkat_umap_env_3/lib/python3.7/site-packages/scipy/optimize/minpack.py:829: OptimizeWarning: Covariance of the parameters could not be estimated\n",
      "  category=OptimizeWarning)\n"
     ]
    },
    {
     "name": "stdout",
     "output_type": "stream",
     "text": [
      "/home/mthomas/Documents/MPI_work/projects/meerkat/meerkat_umap_pv/data/interim/parameter_search/grid_search_umap_params/zs_euclidean_pad_0_0.1_15_10_specs_no_40_dB_no\n",
      "/home/mthomas/Documents/MPI_work/projects/meerkat/meerkat_umap_pv/data/interim/parameter_search/grid_search_umap_params/zs_euclidean_pad_0_0.1_15_10_specs_no_40_dB_no\n"
     ]
    },
    {
     "name": "stderr",
     "output_type": "stream",
     "text": [
      "/home/mthomas/anaconda3/envs/meerkat_umap_env_3/lib/python3.7/site-packages/umap/umap_.py:1330: RuntimeWarning: divide by zero encountered in power\n",
      "  return 1.0 / (1.0 + a * x ** (2 * b))\n",
      "/home/mthomas/anaconda3/envs/meerkat_umap_env_3/lib/python3.7/site-packages/scipy/optimize/minpack.py:829: OptimizeWarning: Covariance of the parameters could not be estimated\n",
      "  category=OptimizeWarning)\n"
     ]
    },
    {
     "name": "stdout",
     "output_type": "stream",
     "text": [
      "/home/mthomas/Documents/MPI_work/projects/meerkat/meerkat_umap_pv/data/interim/parameter_search/grid_search_umap_params/zs_euclidean_pad_0.001_0.1_15_2_specs_no_40_dB_no\n",
      "/home/mthomas/Documents/MPI_work/projects/meerkat/meerkat_umap_pv/data/interim/parameter_search/grid_search_umap_params/zs_euclidean_pad_0.001_0.1_15_2_specs_no_40_dB_no\n"
     ]
    },
    {
     "name": "stderr",
     "output_type": "stream",
     "text": [
      "/home/mthomas/anaconda3/envs/meerkat_umap_env_3/lib/python3.7/site-packages/umap/umap_.py:1330: RuntimeWarning: divide by zero encountered in power\n",
      "  return 1.0 / (1.0 + a * x ** (2 * b))\n",
      "/home/mthomas/anaconda3/envs/meerkat_umap_env_3/lib/python3.7/site-packages/scipy/optimize/minpack.py:829: OptimizeWarning: Covariance of the parameters could not be estimated\n",
      "  category=OptimizeWarning)\n"
     ]
    },
    {
     "name": "stdout",
     "output_type": "stream",
     "text": [
      "/home/mthomas/Documents/MPI_work/projects/meerkat/meerkat_umap_pv/data/interim/parameter_search/grid_search_umap_params/zs_euclidean_pad_0.001_0.1_15_3_specs_no_40_dB_no\n",
      "/home/mthomas/Documents/MPI_work/projects/meerkat/meerkat_umap_pv/data/interim/parameter_search/grid_search_umap_params/zs_euclidean_pad_0.001_0.1_15_3_specs_no_40_dB_no\n"
     ]
    },
    {
     "name": "stderr",
     "output_type": "stream",
     "text": [
      "/home/mthomas/anaconda3/envs/meerkat_umap_env_3/lib/python3.7/site-packages/umap/umap_.py:1330: RuntimeWarning: divide by zero encountered in power\n",
      "  return 1.0 / (1.0 + a * x ** (2 * b))\n",
      "/home/mthomas/anaconda3/envs/meerkat_umap_env_3/lib/python3.7/site-packages/scipy/optimize/minpack.py:829: OptimizeWarning: Covariance of the parameters could not be estimated\n",
      "  category=OptimizeWarning)\n"
     ]
    },
    {
     "name": "stdout",
     "output_type": "stream",
     "text": [
      "/home/mthomas/Documents/MPI_work/projects/meerkat/meerkat_umap_pv/data/interim/parameter_search/grid_search_umap_params/zs_euclidean_pad_0.001_0.1_15_4_specs_no_40_dB_no\n",
      "/home/mthomas/Documents/MPI_work/projects/meerkat/meerkat_umap_pv/data/interim/parameter_search/grid_search_umap_params/zs_euclidean_pad_0.001_0.1_15_4_specs_no_40_dB_no\n"
     ]
    },
    {
     "name": "stderr",
     "output_type": "stream",
     "text": [
      "/home/mthomas/anaconda3/envs/meerkat_umap_env_3/lib/python3.7/site-packages/umap/umap_.py:1330: RuntimeWarning: divide by zero encountered in power\n",
      "  return 1.0 / (1.0 + a * x ** (2 * b))\n",
      "/home/mthomas/anaconda3/envs/meerkat_umap_env_3/lib/python3.7/site-packages/scipy/optimize/minpack.py:829: OptimizeWarning: Covariance of the parameters could not be estimated\n",
      "  category=OptimizeWarning)\n"
     ]
    },
    {
     "name": "stdout",
     "output_type": "stream",
     "text": [
      "/home/mthomas/Documents/MPI_work/projects/meerkat/meerkat_umap_pv/data/interim/parameter_search/grid_search_umap_params/zs_euclidean_pad_0.001_0.1_15_5_specs_no_40_dB_no\n",
      "/home/mthomas/Documents/MPI_work/projects/meerkat/meerkat_umap_pv/data/interim/parameter_search/grid_search_umap_params/zs_euclidean_pad_0.001_0.1_15_5_specs_no_40_dB_no\n"
     ]
    },
    {
     "name": "stderr",
     "output_type": "stream",
     "text": [
      "/home/mthomas/anaconda3/envs/meerkat_umap_env_3/lib/python3.7/site-packages/umap/umap_.py:1330: RuntimeWarning: divide by zero encountered in power\n",
      "  return 1.0 / (1.0 + a * x ** (2 * b))\n",
      "/home/mthomas/anaconda3/envs/meerkat_umap_env_3/lib/python3.7/site-packages/scipy/optimize/minpack.py:829: OptimizeWarning: Covariance of the parameters could not be estimated\n",
      "  category=OptimizeWarning)\n"
     ]
    },
    {
     "name": "stdout",
     "output_type": "stream",
     "text": [
      "/home/mthomas/Documents/MPI_work/projects/meerkat/meerkat_umap_pv/data/interim/parameter_search/grid_search_umap_params/zs_euclidean_pad_0.001_0.1_15_6_specs_no_40_dB_no\n",
      "/home/mthomas/Documents/MPI_work/projects/meerkat/meerkat_umap_pv/data/interim/parameter_search/grid_search_umap_params/zs_euclidean_pad_0.001_0.1_15_6_specs_no_40_dB_no\n"
     ]
    },
    {
     "name": "stderr",
     "output_type": "stream",
     "text": [
      "/home/mthomas/anaconda3/envs/meerkat_umap_env_3/lib/python3.7/site-packages/umap/umap_.py:1330: RuntimeWarning: divide by zero encountered in power\n",
      "  return 1.0 / (1.0 + a * x ** (2 * b))\n",
      "/home/mthomas/anaconda3/envs/meerkat_umap_env_3/lib/python3.7/site-packages/scipy/optimize/minpack.py:829: OptimizeWarning: Covariance of the parameters could not be estimated\n",
      "  category=OptimizeWarning)\n"
     ]
    },
    {
     "name": "stdout",
     "output_type": "stream",
     "text": [
      "/home/mthomas/Documents/MPI_work/projects/meerkat/meerkat_umap_pv/data/interim/parameter_search/grid_search_umap_params/zs_euclidean_pad_0.001_0.1_15_7_specs_no_40_dB_no\n",
      "/home/mthomas/Documents/MPI_work/projects/meerkat/meerkat_umap_pv/data/interim/parameter_search/grid_search_umap_params/zs_euclidean_pad_0.001_0.1_15_7_specs_no_40_dB_no\n"
     ]
    },
    {
     "name": "stderr",
     "output_type": "stream",
     "text": [
      "/home/mthomas/anaconda3/envs/meerkat_umap_env_3/lib/python3.7/site-packages/umap/umap_.py:1330: RuntimeWarning: divide by zero encountered in power\n",
      "  return 1.0 / (1.0 + a * x ** (2 * b))\n",
      "/home/mthomas/anaconda3/envs/meerkat_umap_env_3/lib/python3.7/site-packages/scipy/optimize/minpack.py:829: OptimizeWarning: Covariance of the parameters could not be estimated\n",
      "  category=OptimizeWarning)\n"
     ]
    },
    {
     "name": "stdout",
     "output_type": "stream",
     "text": [
      "/home/mthomas/Documents/MPI_work/projects/meerkat/meerkat_umap_pv/data/interim/parameter_search/grid_search_umap_params/zs_euclidean_pad_0.001_0.1_15_8_specs_no_40_dB_no\n",
      "/home/mthomas/Documents/MPI_work/projects/meerkat/meerkat_umap_pv/data/interim/parameter_search/grid_search_umap_params/zs_euclidean_pad_0.001_0.1_15_8_specs_no_40_dB_no\n"
     ]
    },
    {
     "name": "stderr",
     "output_type": "stream",
     "text": [
      "/home/mthomas/anaconda3/envs/meerkat_umap_env_3/lib/python3.7/site-packages/umap/umap_.py:1330: RuntimeWarning: divide by zero encountered in power\n",
      "  return 1.0 / (1.0 + a * x ** (2 * b))\n",
      "/home/mthomas/anaconda3/envs/meerkat_umap_env_3/lib/python3.7/site-packages/scipy/optimize/minpack.py:829: OptimizeWarning: Covariance of the parameters could not be estimated\n",
      "  category=OptimizeWarning)\n"
     ]
    },
    {
     "name": "stdout",
     "output_type": "stream",
     "text": [
      "/home/mthomas/Documents/MPI_work/projects/meerkat/meerkat_umap_pv/data/interim/parameter_search/grid_search_umap_params/zs_euclidean_pad_0.001_0.1_15_9_specs_no_40_dB_no\n",
      "/home/mthomas/Documents/MPI_work/projects/meerkat/meerkat_umap_pv/data/interim/parameter_search/grid_search_umap_params/zs_euclidean_pad_0.001_0.1_15_9_specs_no_40_dB_no\n"
     ]
    },
    {
     "name": "stderr",
     "output_type": "stream",
     "text": [
      "/home/mthomas/anaconda3/envs/meerkat_umap_env_3/lib/python3.7/site-packages/umap/umap_.py:1330: RuntimeWarning: divide by zero encountered in power\n",
      "  return 1.0 / (1.0 + a * x ** (2 * b))\n",
      "/home/mthomas/anaconda3/envs/meerkat_umap_env_3/lib/python3.7/site-packages/scipy/optimize/minpack.py:829: OptimizeWarning: Covariance of the parameters could not be estimated\n",
      "  category=OptimizeWarning)\n"
     ]
    },
    {
     "name": "stdout",
     "output_type": "stream",
     "text": [
      "/home/mthomas/Documents/MPI_work/projects/meerkat/meerkat_umap_pv/data/interim/parameter_search/grid_search_umap_params/zs_euclidean_pad_0.001_0.1_15_10_specs_no_40_dB_no\n",
      "/home/mthomas/Documents/MPI_work/projects/meerkat/meerkat_umap_pv/data/interim/parameter_search/grid_search_umap_params/zs_euclidean_pad_0.001_0.1_15_10_specs_no_40_dB_no\n"
     ]
    },
    {
     "name": "stderr",
     "output_type": "stream",
     "text": [
      "/home/mthomas/anaconda3/envs/meerkat_umap_env_3/lib/python3.7/site-packages/umap/umap_.py:1330: RuntimeWarning: divide by zero encountered in power\n",
      "  return 1.0 / (1.0 + a * x ** (2 * b))\n",
      "/home/mthomas/anaconda3/envs/meerkat_umap_env_3/lib/python3.7/site-packages/scipy/optimize/minpack.py:829: OptimizeWarning: Covariance of the parameters could not be estimated\n",
      "  category=OptimizeWarning)\n"
     ]
    },
    {
     "name": "stdout",
     "output_type": "stream",
     "text": [
      "/home/mthomas/Documents/MPI_work/projects/meerkat/meerkat_umap_pv/data/interim/parameter_search/grid_search_umap_params/zs_euclidean_pad_0.01_0.1_15_2_specs_no_40_dB_no\n",
      "/home/mthomas/Documents/MPI_work/projects/meerkat/meerkat_umap_pv/data/interim/parameter_search/grid_search_umap_params/zs_euclidean_pad_0.01_0.1_15_2_specs_no_40_dB_no\n"
     ]
    },
    {
     "name": "stderr",
     "output_type": "stream",
     "text": [
      "/home/mthomas/anaconda3/envs/meerkat_umap_env_3/lib/python3.7/site-packages/umap/umap_.py:1330: RuntimeWarning: divide by zero encountered in power\n",
      "  return 1.0 / (1.0 + a * x ** (2 * b))\n",
      "/home/mthomas/anaconda3/envs/meerkat_umap_env_3/lib/python3.7/site-packages/scipy/optimize/minpack.py:829: OptimizeWarning: Covariance of the parameters could not be estimated\n",
      "  category=OptimizeWarning)\n"
     ]
    },
    {
     "name": "stdout",
     "output_type": "stream",
     "text": [
      "/home/mthomas/Documents/MPI_work/projects/meerkat/meerkat_umap_pv/data/interim/parameter_search/grid_search_umap_params/zs_euclidean_pad_0.01_0.1_15_3_specs_no_40_dB_no\n",
      "/home/mthomas/Documents/MPI_work/projects/meerkat/meerkat_umap_pv/data/interim/parameter_search/grid_search_umap_params/zs_euclidean_pad_0.01_0.1_15_3_specs_no_40_dB_no\n"
     ]
    },
    {
     "name": "stderr",
     "output_type": "stream",
     "text": [
      "/home/mthomas/anaconda3/envs/meerkat_umap_env_3/lib/python3.7/site-packages/umap/umap_.py:1330: RuntimeWarning: divide by zero encountered in power\n",
      "  return 1.0 / (1.0 + a * x ** (2 * b))\n",
      "/home/mthomas/anaconda3/envs/meerkat_umap_env_3/lib/python3.7/site-packages/scipy/optimize/minpack.py:829: OptimizeWarning: Covariance of the parameters could not be estimated\n",
      "  category=OptimizeWarning)\n"
     ]
    },
    {
     "name": "stdout",
     "output_type": "stream",
     "text": [
      "/home/mthomas/Documents/MPI_work/projects/meerkat/meerkat_umap_pv/data/interim/parameter_search/grid_search_umap_params/zs_euclidean_pad_0.01_0.1_15_4_specs_no_40_dB_no\n",
      "/home/mthomas/Documents/MPI_work/projects/meerkat/meerkat_umap_pv/data/interim/parameter_search/grid_search_umap_params/zs_euclidean_pad_0.01_0.1_15_4_specs_no_40_dB_no\n"
     ]
    },
    {
     "name": "stderr",
     "output_type": "stream",
     "text": [
      "/home/mthomas/anaconda3/envs/meerkat_umap_env_3/lib/python3.7/site-packages/umap/umap_.py:1330: RuntimeWarning: divide by zero encountered in power\n",
      "  return 1.0 / (1.0 + a * x ** (2 * b))\n",
      "/home/mthomas/anaconda3/envs/meerkat_umap_env_3/lib/python3.7/site-packages/scipy/optimize/minpack.py:829: OptimizeWarning: Covariance of the parameters could not be estimated\n",
      "  category=OptimizeWarning)\n"
     ]
    },
    {
     "name": "stdout",
     "output_type": "stream",
     "text": [
      "/home/mthomas/Documents/MPI_work/projects/meerkat/meerkat_umap_pv/data/interim/parameter_search/grid_search_umap_params/zs_euclidean_pad_0.01_0.1_15_5_specs_no_40_dB_no\n",
      "/home/mthomas/Documents/MPI_work/projects/meerkat/meerkat_umap_pv/data/interim/parameter_search/grid_search_umap_params/zs_euclidean_pad_0.01_0.1_15_5_specs_no_40_dB_no\n"
     ]
    },
    {
     "name": "stderr",
     "output_type": "stream",
     "text": [
      "/home/mthomas/anaconda3/envs/meerkat_umap_env_3/lib/python3.7/site-packages/umap/umap_.py:1330: RuntimeWarning: divide by zero encountered in power\n",
      "  return 1.0 / (1.0 + a * x ** (2 * b))\n",
      "/home/mthomas/anaconda3/envs/meerkat_umap_env_3/lib/python3.7/site-packages/scipy/optimize/minpack.py:829: OptimizeWarning: Covariance of the parameters could not be estimated\n",
      "  category=OptimizeWarning)\n"
     ]
    },
    {
     "name": "stdout",
     "output_type": "stream",
     "text": [
      "/home/mthomas/Documents/MPI_work/projects/meerkat/meerkat_umap_pv/data/interim/parameter_search/grid_search_umap_params/zs_euclidean_pad_0.01_0.1_15_6_specs_no_40_dB_no\n",
      "/home/mthomas/Documents/MPI_work/projects/meerkat/meerkat_umap_pv/data/interim/parameter_search/grid_search_umap_params/zs_euclidean_pad_0.01_0.1_15_6_specs_no_40_dB_no\n"
     ]
    },
    {
     "name": "stderr",
     "output_type": "stream",
     "text": [
      "/home/mthomas/anaconda3/envs/meerkat_umap_env_3/lib/python3.7/site-packages/umap/umap_.py:1330: RuntimeWarning: divide by zero encountered in power\n",
      "  return 1.0 / (1.0 + a * x ** (2 * b))\n",
      "/home/mthomas/anaconda3/envs/meerkat_umap_env_3/lib/python3.7/site-packages/scipy/optimize/minpack.py:829: OptimizeWarning: Covariance of the parameters could not be estimated\n",
      "  category=OptimizeWarning)\n"
     ]
    },
    {
     "name": "stdout",
     "output_type": "stream",
     "text": [
      "/home/mthomas/Documents/MPI_work/projects/meerkat/meerkat_umap_pv/data/interim/parameter_search/grid_search_umap_params/zs_euclidean_pad_0.01_0.1_15_7_specs_no_40_dB_no\n",
      "/home/mthomas/Documents/MPI_work/projects/meerkat/meerkat_umap_pv/data/interim/parameter_search/grid_search_umap_params/zs_euclidean_pad_0.01_0.1_15_7_specs_no_40_dB_no\n"
     ]
    },
    {
     "name": "stderr",
     "output_type": "stream",
     "text": [
      "/home/mthomas/anaconda3/envs/meerkat_umap_env_3/lib/python3.7/site-packages/umap/umap_.py:1330: RuntimeWarning: divide by zero encountered in power\n",
      "  return 1.0 / (1.0 + a * x ** (2 * b))\n",
      "/home/mthomas/anaconda3/envs/meerkat_umap_env_3/lib/python3.7/site-packages/scipy/optimize/minpack.py:829: OptimizeWarning: Covariance of the parameters could not be estimated\n",
      "  category=OptimizeWarning)\n"
     ]
    },
    {
     "name": "stdout",
     "output_type": "stream",
     "text": [
      "/home/mthomas/Documents/MPI_work/projects/meerkat/meerkat_umap_pv/data/interim/parameter_search/grid_search_umap_params/zs_euclidean_pad_0.01_0.1_15_8_specs_no_40_dB_no\n",
      "/home/mthomas/Documents/MPI_work/projects/meerkat/meerkat_umap_pv/data/interim/parameter_search/grid_search_umap_params/zs_euclidean_pad_0.01_0.1_15_8_specs_no_40_dB_no\n"
     ]
    },
    {
     "name": "stderr",
     "output_type": "stream",
     "text": [
      "/home/mthomas/anaconda3/envs/meerkat_umap_env_3/lib/python3.7/site-packages/umap/umap_.py:1330: RuntimeWarning: divide by zero encountered in power\n",
      "  return 1.0 / (1.0 + a * x ** (2 * b))\n",
      "/home/mthomas/anaconda3/envs/meerkat_umap_env_3/lib/python3.7/site-packages/scipy/optimize/minpack.py:829: OptimizeWarning: Covariance of the parameters could not be estimated\n",
      "  category=OptimizeWarning)\n"
     ]
    },
    {
     "name": "stdout",
     "output_type": "stream",
     "text": [
      "/home/mthomas/Documents/MPI_work/projects/meerkat/meerkat_umap_pv/data/interim/parameter_search/grid_search_umap_params/zs_euclidean_pad_0.01_0.1_15_9_specs_no_40_dB_no\n",
      "/home/mthomas/Documents/MPI_work/projects/meerkat/meerkat_umap_pv/data/interim/parameter_search/grid_search_umap_params/zs_euclidean_pad_0.01_0.1_15_9_specs_no_40_dB_no\n"
     ]
    },
    {
     "name": "stderr",
     "output_type": "stream",
     "text": [
      "/home/mthomas/anaconda3/envs/meerkat_umap_env_3/lib/python3.7/site-packages/umap/umap_.py:1330: RuntimeWarning: divide by zero encountered in power\n",
      "  return 1.0 / (1.0 + a * x ** (2 * b))\n",
      "/home/mthomas/anaconda3/envs/meerkat_umap_env_3/lib/python3.7/site-packages/scipy/optimize/minpack.py:829: OptimizeWarning: Covariance of the parameters could not be estimated\n",
      "  category=OptimizeWarning)\n"
     ]
    },
    {
     "name": "stdout",
     "output_type": "stream",
     "text": [
      "/home/mthomas/Documents/MPI_work/projects/meerkat/meerkat_umap_pv/data/interim/parameter_search/grid_search_umap_params/zs_euclidean_pad_0.01_0.1_15_10_specs_no_40_dB_no\n",
      "/home/mthomas/Documents/MPI_work/projects/meerkat/meerkat_umap_pv/data/interim/parameter_search/grid_search_umap_params/zs_euclidean_pad_0.01_0.1_15_10_specs_no_40_dB_no\n"
     ]
    },
    {
     "name": "stderr",
     "output_type": "stream",
     "text": [
      "/home/mthomas/anaconda3/envs/meerkat_umap_env_3/lib/python3.7/site-packages/umap/umap_.py:1330: RuntimeWarning: divide by zero encountered in power\n",
      "  return 1.0 / (1.0 + a * x ** (2 * b))\n"
     ]
    },
    {
     "name": "stdout",
     "output_type": "stream",
     "text": [
      "/home/mthomas/Documents/MPI_work/projects/meerkat/meerkat_umap_pv/data/interim/parameter_search/grid_search_umap_params/zs_euclidean_pad_0.1_0.1_15_2_specs_no_40_dB_no\n",
      "/home/mthomas/Documents/MPI_work/projects/meerkat/meerkat_umap_pv/data/interim/parameter_search/grid_search_umap_params/zs_euclidean_pad_0.1_0.1_15_2_specs_no_40_dB_no\n"
     ]
    },
    {
     "name": "stderr",
     "output_type": "stream",
     "text": [
      "/home/mthomas/anaconda3/envs/meerkat_umap_env_3/lib/python3.7/site-packages/umap/umap_.py:1330: RuntimeWarning: divide by zero encountered in power\n",
      "  return 1.0 / (1.0 + a * x ** (2 * b))\n"
     ]
    },
    {
     "name": "stdout",
     "output_type": "stream",
     "text": [
      "/home/mthomas/Documents/MPI_work/projects/meerkat/meerkat_umap_pv/data/interim/parameter_search/grid_search_umap_params/zs_euclidean_pad_0.1_0.1_15_3_specs_no_40_dB_no\n",
      "/home/mthomas/Documents/MPI_work/projects/meerkat/meerkat_umap_pv/data/interim/parameter_search/grid_search_umap_params/zs_euclidean_pad_0.1_0.1_15_3_specs_no_40_dB_no\n"
     ]
    },
    {
     "name": "stderr",
     "output_type": "stream",
     "text": [
      "/home/mthomas/anaconda3/envs/meerkat_umap_env_3/lib/python3.7/site-packages/umap/umap_.py:1330: RuntimeWarning: divide by zero encountered in power\n",
      "  return 1.0 / (1.0 + a * x ** (2 * b))\n"
     ]
    },
    {
     "name": "stdout",
     "output_type": "stream",
     "text": [
      "/home/mthomas/Documents/MPI_work/projects/meerkat/meerkat_umap_pv/data/interim/parameter_search/grid_search_umap_params/zs_euclidean_pad_0.1_0.1_15_4_specs_no_40_dB_no\n",
      "/home/mthomas/Documents/MPI_work/projects/meerkat/meerkat_umap_pv/data/interim/parameter_search/grid_search_umap_params/zs_euclidean_pad_0.1_0.1_15_4_specs_no_40_dB_no\n"
     ]
    },
    {
     "name": "stderr",
     "output_type": "stream",
     "text": [
      "/home/mthomas/anaconda3/envs/meerkat_umap_env_3/lib/python3.7/site-packages/umap/umap_.py:1330: RuntimeWarning: divide by zero encountered in power\n",
      "  return 1.0 / (1.0 + a * x ** (2 * b))\n"
     ]
    },
    {
     "name": "stdout",
     "output_type": "stream",
     "text": [
      "/home/mthomas/Documents/MPI_work/projects/meerkat/meerkat_umap_pv/data/interim/parameter_search/grid_search_umap_params/zs_euclidean_pad_0.1_0.1_15_5_specs_no_40_dB_no\n",
      "/home/mthomas/Documents/MPI_work/projects/meerkat/meerkat_umap_pv/data/interim/parameter_search/grid_search_umap_params/zs_euclidean_pad_0.1_0.1_15_5_specs_no_40_dB_no\n"
     ]
    },
    {
     "name": "stderr",
     "output_type": "stream",
     "text": [
      "/home/mthomas/anaconda3/envs/meerkat_umap_env_3/lib/python3.7/site-packages/umap/umap_.py:1330: RuntimeWarning: divide by zero encountered in power\n",
      "  return 1.0 / (1.0 + a * x ** (2 * b))\n"
     ]
    },
    {
     "name": "stdout",
     "output_type": "stream",
     "text": [
      "/home/mthomas/Documents/MPI_work/projects/meerkat/meerkat_umap_pv/data/interim/parameter_search/grid_search_umap_params/zs_euclidean_pad_0.1_0.1_15_6_specs_no_40_dB_no\n",
      "/home/mthomas/Documents/MPI_work/projects/meerkat/meerkat_umap_pv/data/interim/parameter_search/grid_search_umap_params/zs_euclidean_pad_0.1_0.1_15_6_specs_no_40_dB_no\n"
     ]
    },
    {
     "name": "stderr",
     "output_type": "stream",
     "text": [
      "/home/mthomas/anaconda3/envs/meerkat_umap_env_3/lib/python3.7/site-packages/umap/umap_.py:1330: RuntimeWarning: divide by zero encountered in power\n",
      "  return 1.0 / (1.0 + a * x ** (2 * b))\n"
     ]
    },
    {
     "name": "stdout",
     "output_type": "stream",
     "text": [
      "/home/mthomas/Documents/MPI_work/projects/meerkat/meerkat_umap_pv/data/interim/parameter_search/grid_search_umap_params/zs_euclidean_pad_0.1_0.1_15_7_specs_no_40_dB_no\n",
      "/home/mthomas/Documents/MPI_work/projects/meerkat/meerkat_umap_pv/data/interim/parameter_search/grid_search_umap_params/zs_euclidean_pad_0.1_0.1_15_7_specs_no_40_dB_no\n"
     ]
    },
    {
     "name": "stderr",
     "output_type": "stream",
     "text": [
      "/home/mthomas/anaconda3/envs/meerkat_umap_env_3/lib/python3.7/site-packages/umap/umap_.py:1330: RuntimeWarning: divide by zero encountered in power\n",
      "  return 1.0 / (1.0 + a * x ** (2 * b))\n"
     ]
    },
    {
     "name": "stdout",
     "output_type": "stream",
     "text": [
      "/home/mthomas/Documents/MPI_work/projects/meerkat/meerkat_umap_pv/data/interim/parameter_search/grid_search_umap_params/zs_euclidean_pad_0.1_0.1_15_8_specs_no_40_dB_no\n",
      "/home/mthomas/Documents/MPI_work/projects/meerkat/meerkat_umap_pv/data/interim/parameter_search/grid_search_umap_params/zs_euclidean_pad_0.1_0.1_15_8_specs_no_40_dB_no\n"
     ]
    },
    {
     "name": "stderr",
     "output_type": "stream",
     "text": [
      "/home/mthomas/anaconda3/envs/meerkat_umap_env_3/lib/python3.7/site-packages/umap/umap_.py:1330: RuntimeWarning: divide by zero encountered in power\n",
      "  return 1.0 / (1.0 + a * x ** (2 * b))\n"
     ]
    },
    {
     "name": "stdout",
     "output_type": "stream",
     "text": [
      "/home/mthomas/Documents/MPI_work/projects/meerkat/meerkat_umap_pv/data/interim/parameter_search/grid_search_umap_params/zs_euclidean_pad_0.1_0.1_15_9_specs_no_40_dB_no\n",
      "/home/mthomas/Documents/MPI_work/projects/meerkat/meerkat_umap_pv/data/interim/parameter_search/grid_search_umap_params/zs_euclidean_pad_0.1_0.1_15_9_specs_no_40_dB_no\n"
     ]
    },
    {
     "name": "stderr",
     "output_type": "stream",
     "text": [
      "/home/mthomas/anaconda3/envs/meerkat_umap_env_3/lib/python3.7/site-packages/umap/umap_.py:1330: RuntimeWarning: divide by zero encountered in power\n",
      "  return 1.0 / (1.0 + a * x ** (2 * b))\n"
     ]
    },
    {
     "name": "stdout",
     "output_type": "stream",
     "text": [
      "/home/mthomas/Documents/MPI_work/projects/meerkat/meerkat_umap_pv/data/interim/parameter_search/grid_search_umap_params/zs_euclidean_pad_0.1_0.1_15_10_specs_no_40_dB_no\n",
      "/home/mthomas/Documents/MPI_work/projects/meerkat/meerkat_umap_pv/data/interim/parameter_search/grid_search_umap_params/zs_euclidean_pad_0.1_0.1_15_10_specs_no_40_dB_no\n",
      "FAILED:  zs_euclidean_pad_1_0.1_15_2_specs_no_40_dB_no\n",
      "FAILED:  zs_euclidean_pad_1_0.1_15_3_specs_no_40_dB_no\n",
      "FAILED:  zs_euclidean_pad_1_0.1_15_4_specs_no_40_dB_no\n",
      "FAILED:  zs_euclidean_pad_1_0.1_15_5_specs_no_40_dB_no\n"
     ]
    },
    {
     "name": "stderr",
     "output_type": "stream",
     "text": [
      "/home/mthomas/anaconda3/envs/meerkat_umap_env_3/lib/python3.7/site-packages/scipy/optimize/minpack.py:829: OptimizeWarning: Covariance of the parameters could not be estimated\n",
      "  category=OptimizeWarning)\n",
      "/home/mthomas/anaconda3/envs/meerkat_umap_env_3/lib/python3.7/site-packages/scipy/optimize/minpack.py:829: OptimizeWarning: Covariance of the parameters could not be estimated\n",
      "  category=OptimizeWarning)\n",
      "/home/mthomas/anaconda3/envs/meerkat_umap_env_3/lib/python3.7/site-packages/scipy/optimize/minpack.py:829: OptimizeWarning: Covariance of the parameters could not be estimated\n",
      "  category=OptimizeWarning)\n",
      "/home/mthomas/anaconda3/envs/meerkat_umap_env_3/lib/python3.7/site-packages/scipy/optimize/minpack.py:829: OptimizeWarning: Covariance of the parameters could not be estimated\n",
      "  category=OptimizeWarning)\n",
      "/home/mthomas/anaconda3/envs/meerkat_umap_env_3/lib/python3.7/site-packages/scipy/optimize/minpack.py:829: OptimizeWarning: Covariance of the parameters could not be estimated\n",
      "  category=OptimizeWarning)\n"
     ]
    },
    {
     "name": "stdout",
     "output_type": "stream",
     "text": [
      "FAILED:  zs_euclidean_pad_1_0.1_15_6_specs_no_40_dB_no\n",
      "FAILED:  zs_euclidean_pad_1_0.1_15_7_specs_no_40_dB_no\n",
      "FAILED:  zs_euclidean_pad_1_0.1_15_8_specs_no_40_dB_no\n",
      "FAILED:  zs_euclidean_pad_1_0.1_15_9_specs_no_40_dB_no\n",
      "FAILED:  zs_euclidean_pad_1_0.1_15_10_specs_no_40_dB_no\n"
     ]
    },
    {
     "name": "stderr",
     "output_type": "stream",
     "text": [
      "/home/mthomas/anaconda3/envs/meerkat_umap_env_3/lib/python3.7/site-packages/scipy/optimize/minpack.py:829: OptimizeWarning: Covariance of the parameters could not be estimated\n",
      "  category=OptimizeWarning)\n",
      "/home/mthomas/anaconda3/envs/meerkat_umap_env_3/lib/python3.7/site-packages/scipy/optimize/minpack.py:829: OptimizeWarning: Covariance of the parameters could not be estimated\n",
      "  category=OptimizeWarning)\n",
      "/home/mthomas/anaconda3/envs/meerkat_umap_env_3/lib/python3.7/site-packages/scipy/optimize/minpack.py:829: OptimizeWarning: Covariance of the parameters could not be estimated\n",
      "  category=OptimizeWarning)\n",
      "/home/mthomas/anaconda3/envs/meerkat_umap_env_3/lib/python3.7/site-packages/scipy/optimize/minpack.py:829: OptimizeWarning: Covariance of the parameters could not be estimated\n",
      "  category=OptimizeWarning)\n",
      "/home/mthomas/anaconda3/envs/meerkat_umap_env_3/lib/python3.7/site-packages/umap/umap_.py:1330: RuntimeWarning: divide by zero encountered in power\n",
      "  return 1.0 / (1.0 + a * x ** (2 * b))\n",
      "/home/mthomas/anaconda3/envs/meerkat_umap_env_3/lib/python3.7/site-packages/scipy/optimize/minpack.py:829: OptimizeWarning: Covariance of the parameters could not be estimated\n",
      "  category=OptimizeWarning)\n"
     ]
    },
    {
     "name": "stdout",
     "output_type": "stream",
     "text": [
      "/home/mthomas/Documents/MPI_work/projects/meerkat/meerkat_umap_pv/data/interim/parameter_search/grid_search_umap_params/zs_euclidean_pad_0_0.1_30_2_specs_no_40_dB_no\n",
      "/home/mthomas/Documents/MPI_work/projects/meerkat/meerkat_umap_pv/data/interim/parameter_search/grid_search_umap_params/zs_euclidean_pad_0_0.1_30_2_specs_no_40_dB_no\n"
     ]
    },
    {
     "name": "stderr",
     "output_type": "stream",
     "text": [
      "/home/mthomas/anaconda3/envs/meerkat_umap_env_3/lib/python3.7/site-packages/umap/umap_.py:1330: RuntimeWarning: divide by zero encountered in power\n",
      "  return 1.0 / (1.0 + a * x ** (2 * b))\n",
      "/home/mthomas/anaconda3/envs/meerkat_umap_env_3/lib/python3.7/site-packages/scipy/optimize/minpack.py:829: OptimizeWarning: Covariance of the parameters could not be estimated\n",
      "  category=OptimizeWarning)\n"
     ]
    },
    {
     "name": "stdout",
     "output_type": "stream",
     "text": [
      "/home/mthomas/Documents/MPI_work/projects/meerkat/meerkat_umap_pv/data/interim/parameter_search/grid_search_umap_params/zs_euclidean_pad_0_0.1_30_3_specs_no_40_dB_no\n",
      "/home/mthomas/Documents/MPI_work/projects/meerkat/meerkat_umap_pv/data/interim/parameter_search/grid_search_umap_params/zs_euclidean_pad_0_0.1_30_3_specs_no_40_dB_no\n"
     ]
    },
    {
     "name": "stderr",
     "output_type": "stream",
     "text": [
      "/home/mthomas/anaconda3/envs/meerkat_umap_env_3/lib/python3.7/site-packages/umap/umap_.py:1330: RuntimeWarning: divide by zero encountered in power\n",
      "  return 1.0 / (1.0 + a * x ** (2 * b))\n",
      "/home/mthomas/anaconda3/envs/meerkat_umap_env_3/lib/python3.7/site-packages/scipy/optimize/minpack.py:829: OptimizeWarning: Covariance of the parameters could not be estimated\n",
      "  category=OptimizeWarning)\n"
     ]
    },
    {
     "name": "stdout",
     "output_type": "stream",
     "text": [
      "/home/mthomas/Documents/MPI_work/projects/meerkat/meerkat_umap_pv/data/interim/parameter_search/grid_search_umap_params/zs_euclidean_pad_0_0.1_30_4_specs_no_40_dB_no\n",
      "/home/mthomas/Documents/MPI_work/projects/meerkat/meerkat_umap_pv/data/interim/parameter_search/grid_search_umap_params/zs_euclidean_pad_0_0.1_30_4_specs_no_40_dB_no\n"
     ]
    },
    {
     "name": "stderr",
     "output_type": "stream",
     "text": [
      "/home/mthomas/anaconda3/envs/meerkat_umap_env_3/lib/python3.7/site-packages/umap/umap_.py:1330: RuntimeWarning: divide by zero encountered in power\n",
      "  return 1.0 / (1.0 + a * x ** (2 * b))\n",
      "/home/mthomas/anaconda3/envs/meerkat_umap_env_3/lib/python3.7/site-packages/scipy/optimize/minpack.py:829: OptimizeWarning: Covariance of the parameters could not be estimated\n",
      "  category=OptimizeWarning)\n"
     ]
    },
    {
     "name": "stdout",
     "output_type": "stream",
     "text": [
      "/home/mthomas/Documents/MPI_work/projects/meerkat/meerkat_umap_pv/data/interim/parameter_search/grid_search_umap_params/zs_euclidean_pad_0_0.1_30_5_specs_no_40_dB_no\n",
      "/home/mthomas/Documents/MPI_work/projects/meerkat/meerkat_umap_pv/data/interim/parameter_search/grid_search_umap_params/zs_euclidean_pad_0_0.1_30_5_specs_no_40_dB_no\n"
     ]
    },
    {
     "name": "stderr",
     "output_type": "stream",
     "text": [
      "/home/mthomas/anaconda3/envs/meerkat_umap_env_3/lib/python3.7/site-packages/umap/umap_.py:1330: RuntimeWarning: divide by zero encountered in power\n",
      "  return 1.0 / (1.0 + a * x ** (2 * b))\n",
      "/home/mthomas/anaconda3/envs/meerkat_umap_env_3/lib/python3.7/site-packages/scipy/optimize/minpack.py:829: OptimizeWarning: Covariance of the parameters could not be estimated\n",
      "  category=OptimizeWarning)\n"
     ]
    },
    {
     "name": "stdout",
     "output_type": "stream",
     "text": [
      "/home/mthomas/Documents/MPI_work/projects/meerkat/meerkat_umap_pv/data/interim/parameter_search/grid_search_umap_params/zs_euclidean_pad_0_0.1_30_6_specs_no_40_dB_no\n",
      "/home/mthomas/Documents/MPI_work/projects/meerkat/meerkat_umap_pv/data/interim/parameter_search/grid_search_umap_params/zs_euclidean_pad_0_0.1_30_6_specs_no_40_dB_no\n"
     ]
    },
    {
     "name": "stderr",
     "output_type": "stream",
     "text": [
      "/home/mthomas/anaconda3/envs/meerkat_umap_env_3/lib/python3.7/site-packages/umap/umap_.py:1330: RuntimeWarning: divide by zero encountered in power\n",
      "  return 1.0 / (1.0 + a * x ** (2 * b))\n",
      "/home/mthomas/anaconda3/envs/meerkat_umap_env_3/lib/python3.7/site-packages/scipy/optimize/minpack.py:829: OptimizeWarning: Covariance of the parameters could not be estimated\n",
      "  category=OptimizeWarning)\n"
     ]
    },
    {
     "name": "stdout",
     "output_type": "stream",
     "text": [
      "/home/mthomas/Documents/MPI_work/projects/meerkat/meerkat_umap_pv/data/interim/parameter_search/grid_search_umap_params/zs_euclidean_pad_0_0.1_30_7_specs_no_40_dB_no\n",
      "/home/mthomas/Documents/MPI_work/projects/meerkat/meerkat_umap_pv/data/interim/parameter_search/grid_search_umap_params/zs_euclidean_pad_0_0.1_30_7_specs_no_40_dB_no\n"
     ]
    },
    {
     "name": "stderr",
     "output_type": "stream",
     "text": [
      "/home/mthomas/anaconda3/envs/meerkat_umap_env_3/lib/python3.7/site-packages/umap/umap_.py:1330: RuntimeWarning: divide by zero encountered in power\n",
      "  return 1.0 / (1.0 + a * x ** (2 * b))\n",
      "/home/mthomas/anaconda3/envs/meerkat_umap_env_3/lib/python3.7/site-packages/scipy/optimize/minpack.py:829: OptimizeWarning: Covariance of the parameters could not be estimated\n",
      "  category=OptimizeWarning)\n"
     ]
    },
    {
     "name": "stdout",
     "output_type": "stream",
     "text": [
      "/home/mthomas/Documents/MPI_work/projects/meerkat/meerkat_umap_pv/data/interim/parameter_search/grid_search_umap_params/zs_euclidean_pad_0_0.1_30_8_specs_no_40_dB_no\n",
      "/home/mthomas/Documents/MPI_work/projects/meerkat/meerkat_umap_pv/data/interim/parameter_search/grid_search_umap_params/zs_euclidean_pad_0_0.1_30_8_specs_no_40_dB_no\n"
     ]
    },
    {
     "name": "stderr",
     "output_type": "stream",
     "text": [
      "/home/mthomas/anaconda3/envs/meerkat_umap_env_3/lib/python3.7/site-packages/umap/umap_.py:1330: RuntimeWarning: divide by zero encountered in power\n",
      "  return 1.0 / (1.0 + a * x ** (2 * b))\n",
      "/home/mthomas/anaconda3/envs/meerkat_umap_env_3/lib/python3.7/site-packages/scipy/optimize/minpack.py:829: OptimizeWarning: Covariance of the parameters could not be estimated\n",
      "  category=OptimizeWarning)\n"
     ]
    },
    {
     "name": "stdout",
     "output_type": "stream",
     "text": [
      "/home/mthomas/Documents/MPI_work/projects/meerkat/meerkat_umap_pv/data/interim/parameter_search/grid_search_umap_params/zs_euclidean_pad_0_0.1_30_9_specs_no_40_dB_no\n",
      "/home/mthomas/Documents/MPI_work/projects/meerkat/meerkat_umap_pv/data/interim/parameter_search/grid_search_umap_params/zs_euclidean_pad_0_0.1_30_9_specs_no_40_dB_no\n"
     ]
    },
    {
     "name": "stderr",
     "output_type": "stream",
     "text": [
      "/home/mthomas/anaconda3/envs/meerkat_umap_env_3/lib/python3.7/site-packages/umap/umap_.py:1330: RuntimeWarning: divide by zero encountered in power\n",
      "  return 1.0 / (1.0 + a * x ** (2 * b))\n",
      "/home/mthomas/anaconda3/envs/meerkat_umap_env_3/lib/python3.7/site-packages/scipy/optimize/minpack.py:829: OptimizeWarning: Covariance of the parameters could not be estimated\n",
      "  category=OptimizeWarning)\n"
     ]
    },
    {
     "name": "stdout",
     "output_type": "stream",
     "text": [
      "/home/mthomas/Documents/MPI_work/projects/meerkat/meerkat_umap_pv/data/interim/parameter_search/grid_search_umap_params/zs_euclidean_pad_0_0.1_30_10_specs_no_40_dB_no\n",
      "/home/mthomas/Documents/MPI_work/projects/meerkat/meerkat_umap_pv/data/interim/parameter_search/grid_search_umap_params/zs_euclidean_pad_0_0.1_30_10_specs_no_40_dB_no\n"
     ]
    },
    {
     "name": "stderr",
     "output_type": "stream",
     "text": [
      "/home/mthomas/anaconda3/envs/meerkat_umap_env_3/lib/python3.7/site-packages/umap/umap_.py:1330: RuntimeWarning: divide by zero encountered in power\n",
      "  return 1.0 / (1.0 + a * x ** (2 * b))\n",
      "/home/mthomas/anaconda3/envs/meerkat_umap_env_3/lib/python3.7/site-packages/scipy/optimize/minpack.py:829: OptimizeWarning: Covariance of the parameters could not be estimated\n",
      "  category=OptimizeWarning)\n"
     ]
    },
    {
     "name": "stdout",
     "output_type": "stream",
     "text": [
      "/home/mthomas/Documents/MPI_work/projects/meerkat/meerkat_umap_pv/data/interim/parameter_search/grid_search_umap_params/zs_euclidean_pad_0.001_0.1_30_2_specs_no_40_dB_no\n",
      "/home/mthomas/Documents/MPI_work/projects/meerkat/meerkat_umap_pv/data/interim/parameter_search/grid_search_umap_params/zs_euclidean_pad_0.001_0.1_30_2_specs_no_40_dB_no\n"
     ]
    },
    {
     "name": "stderr",
     "output_type": "stream",
     "text": [
      "/home/mthomas/anaconda3/envs/meerkat_umap_env_3/lib/python3.7/site-packages/umap/umap_.py:1330: RuntimeWarning: divide by zero encountered in power\n",
      "  return 1.0 / (1.0 + a * x ** (2 * b))\n",
      "/home/mthomas/anaconda3/envs/meerkat_umap_env_3/lib/python3.7/site-packages/scipy/optimize/minpack.py:829: OptimizeWarning: Covariance of the parameters could not be estimated\n",
      "  category=OptimizeWarning)\n"
     ]
    },
    {
     "name": "stdout",
     "output_type": "stream",
     "text": [
      "/home/mthomas/Documents/MPI_work/projects/meerkat/meerkat_umap_pv/data/interim/parameter_search/grid_search_umap_params/zs_euclidean_pad_0.001_0.1_30_3_specs_no_40_dB_no\n",
      "/home/mthomas/Documents/MPI_work/projects/meerkat/meerkat_umap_pv/data/interim/parameter_search/grid_search_umap_params/zs_euclidean_pad_0.001_0.1_30_3_specs_no_40_dB_no\n"
     ]
    },
    {
     "name": "stderr",
     "output_type": "stream",
     "text": [
      "/home/mthomas/anaconda3/envs/meerkat_umap_env_3/lib/python3.7/site-packages/umap/umap_.py:1330: RuntimeWarning: divide by zero encountered in power\n",
      "  return 1.0 / (1.0 + a * x ** (2 * b))\n",
      "/home/mthomas/anaconda3/envs/meerkat_umap_env_3/lib/python3.7/site-packages/scipy/optimize/minpack.py:829: OptimizeWarning: Covariance of the parameters could not be estimated\n",
      "  category=OptimizeWarning)\n"
     ]
    },
    {
     "name": "stdout",
     "output_type": "stream",
     "text": [
      "/home/mthomas/Documents/MPI_work/projects/meerkat/meerkat_umap_pv/data/interim/parameter_search/grid_search_umap_params/zs_euclidean_pad_0.001_0.1_30_4_specs_no_40_dB_no\n",
      "/home/mthomas/Documents/MPI_work/projects/meerkat/meerkat_umap_pv/data/interim/parameter_search/grid_search_umap_params/zs_euclidean_pad_0.001_0.1_30_4_specs_no_40_dB_no\n"
     ]
    },
    {
     "name": "stderr",
     "output_type": "stream",
     "text": [
      "/home/mthomas/anaconda3/envs/meerkat_umap_env_3/lib/python3.7/site-packages/umap/umap_.py:1330: RuntimeWarning: divide by zero encountered in power\n",
      "  return 1.0 / (1.0 + a * x ** (2 * b))\n",
      "/home/mthomas/anaconda3/envs/meerkat_umap_env_3/lib/python3.7/site-packages/scipy/optimize/minpack.py:829: OptimizeWarning: Covariance of the parameters could not be estimated\n",
      "  category=OptimizeWarning)\n"
     ]
    },
    {
     "name": "stdout",
     "output_type": "stream",
     "text": [
      "/home/mthomas/Documents/MPI_work/projects/meerkat/meerkat_umap_pv/data/interim/parameter_search/grid_search_umap_params/zs_euclidean_pad_0.001_0.1_30_5_specs_no_40_dB_no\n",
      "/home/mthomas/Documents/MPI_work/projects/meerkat/meerkat_umap_pv/data/interim/parameter_search/grid_search_umap_params/zs_euclidean_pad_0.001_0.1_30_5_specs_no_40_dB_no\n"
     ]
    },
    {
     "name": "stderr",
     "output_type": "stream",
     "text": [
      "/home/mthomas/anaconda3/envs/meerkat_umap_env_3/lib/python3.7/site-packages/umap/umap_.py:1330: RuntimeWarning: divide by zero encountered in power\n",
      "  return 1.0 / (1.0 + a * x ** (2 * b))\n",
      "/home/mthomas/anaconda3/envs/meerkat_umap_env_3/lib/python3.7/site-packages/scipy/optimize/minpack.py:829: OptimizeWarning: Covariance of the parameters could not be estimated\n",
      "  category=OptimizeWarning)\n"
     ]
    },
    {
     "name": "stdout",
     "output_type": "stream",
     "text": [
      "/home/mthomas/Documents/MPI_work/projects/meerkat/meerkat_umap_pv/data/interim/parameter_search/grid_search_umap_params/zs_euclidean_pad_0.001_0.1_30_6_specs_no_40_dB_no\n",
      "/home/mthomas/Documents/MPI_work/projects/meerkat/meerkat_umap_pv/data/interim/parameter_search/grid_search_umap_params/zs_euclidean_pad_0.001_0.1_30_6_specs_no_40_dB_no\n"
     ]
    },
    {
     "name": "stderr",
     "output_type": "stream",
     "text": [
      "/home/mthomas/anaconda3/envs/meerkat_umap_env_3/lib/python3.7/site-packages/umap/umap_.py:1330: RuntimeWarning: divide by zero encountered in power\n",
      "  return 1.0 / (1.0 + a * x ** (2 * b))\n",
      "/home/mthomas/anaconda3/envs/meerkat_umap_env_3/lib/python3.7/site-packages/scipy/optimize/minpack.py:829: OptimizeWarning: Covariance of the parameters could not be estimated\n",
      "  category=OptimizeWarning)\n"
     ]
    },
    {
     "name": "stdout",
     "output_type": "stream",
     "text": [
      "/home/mthomas/Documents/MPI_work/projects/meerkat/meerkat_umap_pv/data/interim/parameter_search/grid_search_umap_params/zs_euclidean_pad_0.001_0.1_30_7_specs_no_40_dB_no\n",
      "/home/mthomas/Documents/MPI_work/projects/meerkat/meerkat_umap_pv/data/interim/parameter_search/grid_search_umap_params/zs_euclidean_pad_0.001_0.1_30_7_specs_no_40_dB_no\n"
     ]
    },
    {
     "name": "stderr",
     "output_type": "stream",
     "text": [
      "/home/mthomas/anaconda3/envs/meerkat_umap_env_3/lib/python3.7/site-packages/umap/umap_.py:1330: RuntimeWarning: divide by zero encountered in power\n",
      "  return 1.0 / (1.0 + a * x ** (2 * b))\n",
      "/home/mthomas/anaconda3/envs/meerkat_umap_env_3/lib/python3.7/site-packages/scipy/optimize/minpack.py:829: OptimizeWarning: Covariance of the parameters could not be estimated\n",
      "  category=OptimizeWarning)\n"
     ]
    },
    {
     "name": "stdout",
     "output_type": "stream",
     "text": [
      "/home/mthomas/Documents/MPI_work/projects/meerkat/meerkat_umap_pv/data/interim/parameter_search/grid_search_umap_params/zs_euclidean_pad_0.001_0.1_30_8_specs_no_40_dB_no\n",
      "/home/mthomas/Documents/MPI_work/projects/meerkat/meerkat_umap_pv/data/interim/parameter_search/grid_search_umap_params/zs_euclidean_pad_0.001_0.1_30_8_specs_no_40_dB_no\n"
     ]
    },
    {
     "name": "stderr",
     "output_type": "stream",
     "text": [
      "/home/mthomas/anaconda3/envs/meerkat_umap_env_3/lib/python3.7/site-packages/umap/umap_.py:1330: RuntimeWarning: divide by zero encountered in power\n",
      "  return 1.0 / (1.0 + a * x ** (2 * b))\n",
      "/home/mthomas/anaconda3/envs/meerkat_umap_env_3/lib/python3.7/site-packages/scipy/optimize/minpack.py:829: OptimizeWarning: Covariance of the parameters could not be estimated\n",
      "  category=OptimizeWarning)\n"
     ]
    },
    {
     "name": "stdout",
     "output_type": "stream",
     "text": [
      "/home/mthomas/Documents/MPI_work/projects/meerkat/meerkat_umap_pv/data/interim/parameter_search/grid_search_umap_params/zs_euclidean_pad_0.001_0.1_30_9_specs_no_40_dB_no\n",
      "/home/mthomas/Documents/MPI_work/projects/meerkat/meerkat_umap_pv/data/interim/parameter_search/grid_search_umap_params/zs_euclidean_pad_0.001_0.1_30_9_specs_no_40_dB_no\n"
     ]
    },
    {
     "name": "stderr",
     "output_type": "stream",
     "text": [
      "/home/mthomas/anaconda3/envs/meerkat_umap_env_3/lib/python3.7/site-packages/umap/umap_.py:1330: RuntimeWarning: divide by zero encountered in power\n",
      "  return 1.0 / (1.0 + a * x ** (2 * b))\n",
      "/home/mthomas/anaconda3/envs/meerkat_umap_env_3/lib/python3.7/site-packages/scipy/optimize/minpack.py:829: OptimizeWarning: Covariance of the parameters could not be estimated\n",
      "  category=OptimizeWarning)\n"
     ]
    },
    {
     "name": "stdout",
     "output_type": "stream",
     "text": [
      "/home/mthomas/Documents/MPI_work/projects/meerkat/meerkat_umap_pv/data/interim/parameter_search/grid_search_umap_params/zs_euclidean_pad_0.001_0.1_30_10_specs_no_40_dB_no\n",
      "/home/mthomas/Documents/MPI_work/projects/meerkat/meerkat_umap_pv/data/interim/parameter_search/grid_search_umap_params/zs_euclidean_pad_0.001_0.1_30_10_specs_no_40_dB_no\n"
     ]
    },
    {
     "name": "stderr",
     "output_type": "stream",
     "text": [
      "/home/mthomas/anaconda3/envs/meerkat_umap_env_3/lib/python3.7/site-packages/umap/umap_.py:1330: RuntimeWarning: divide by zero encountered in power\n",
      "  return 1.0 / (1.0 + a * x ** (2 * b))\n",
      "/home/mthomas/anaconda3/envs/meerkat_umap_env_3/lib/python3.7/site-packages/scipy/optimize/minpack.py:829: OptimizeWarning: Covariance of the parameters could not be estimated\n",
      "  category=OptimizeWarning)\n"
     ]
    },
    {
     "name": "stdout",
     "output_type": "stream",
     "text": [
      "/home/mthomas/Documents/MPI_work/projects/meerkat/meerkat_umap_pv/data/interim/parameter_search/grid_search_umap_params/zs_euclidean_pad_0.01_0.1_30_2_specs_no_40_dB_no\n",
      "/home/mthomas/Documents/MPI_work/projects/meerkat/meerkat_umap_pv/data/interim/parameter_search/grid_search_umap_params/zs_euclidean_pad_0.01_0.1_30_2_specs_no_40_dB_no\n"
     ]
    },
    {
     "name": "stderr",
     "output_type": "stream",
     "text": [
      "/home/mthomas/anaconda3/envs/meerkat_umap_env_3/lib/python3.7/site-packages/umap/umap_.py:1330: RuntimeWarning: divide by zero encountered in power\n",
      "  return 1.0 / (1.0 + a * x ** (2 * b))\n",
      "/home/mthomas/anaconda3/envs/meerkat_umap_env_3/lib/python3.7/site-packages/scipy/optimize/minpack.py:829: OptimizeWarning: Covariance of the parameters could not be estimated\n",
      "  category=OptimizeWarning)\n"
     ]
    },
    {
     "name": "stdout",
     "output_type": "stream",
     "text": [
      "/home/mthomas/Documents/MPI_work/projects/meerkat/meerkat_umap_pv/data/interim/parameter_search/grid_search_umap_params/zs_euclidean_pad_0.01_0.1_30_3_specs_no_40_dB_no\n",
      "/home/mthomas/Documents/MPI_work/projects/meerkat/meerkat_umap_pv/data/interim/parameter_search/grid_search_umap_params/zs_euclidean_pad_0.01_0.1_30_3_specs_no_40_dB_no\n"
     ]
    },
    {
     "name": "stderr",
     "output_type": "stream",
     "text": [
      "/home/mthomas/anaconda3/envs/meerkat_umap_env_3/lib/python3.7/site-packages/umap/umap_.py:1330: RuntimeWarning: divide by zero encountered in power\n",
      "  return 1.0 / (1.0 + a * x ** (2 * b))\n",
      "/home/mthomas/anaconda3/envs/meerkat_umap_env_3/lib/python3.7/site-packages/scipy/optimize/minpack.py:829: OptimizeWarning: Covariance of the parameters could not be estimated\n",
      "  category=OptimizeWarning)\n"
     ]
    },
    {
     "name": "stdout",
     "output_type": "stream",
     "text": [
      "/home/mthomas/Documents/MPI_work/projects/meerkat/meerkat_umap_pv/data/interim/parameter_search/grid_search_umap_params/zs_euclidean_pad_0.01_0.1_30_4_specs_no_40_dB_no\n",
      "/home/mthomas/Documents/MPI_work/projects/meerkat/meerkat_umap_pv/data/interim/parameter_search/grid_search_umap_params/zs_euclidean_pad_0.01_0.1_30_4_specs_no_40_dB_no\n"
     ]
    },
    {
     "name": "stderr",
     "output_type": "stream",
     "text": [
      "/home/mthomas/anaconda3/envs/meerkat_umap_env_3/lib/python3.7/site-packages/umap/umap_.py:1330: RuntimeWarning: divide by zero encountered in power\n",
      "  return 1.0 / (1.0 + a * x ** (2 * b))\n",
      "/home/mthomas/anaconda3/envs/meerkat_umap_env_3/lib/python3.7/site-packages/scipy/optimize/minpack.py:829: OptimizeWarning: Covariance of the parameters could not be estimated\n",
      "  category=OptimizeWarning)\n"
     ]
    },
    {
     "name": "stdout",
     "output_type": "stream",
     "text": [
      "/home/mthomas/Documents/MPI_work/projects/meerkat/meerkat_umap_pv/data/interim/parameter_search/grid_search_umap_params/zs_euclidean_pad_0.01_0.1_30_5_specs_no_40_dB_no\n",
      "/home/mthomas/Documents/MPI_work/projects/meerkat/meerkat_umap_pv/data/interim/parameter_search/grid_search_umap_params/zs_euclidean_pad_0.01_0.1_30_5_specs_no_40_dB_no\n"
     ]
    },
    {
     "name": "stderr",
     "output_type": "stream",
     "text": [
      "/home/mthomas/anaconda3/envs/meerkat_umap_env_3/lib/python3.7/site-packages/umap/umap_.py:1330: RuntimeWarning: divide by zero encountered in power\n",
      "  return 1.0 / (1.0 + a * x ** (2 * b))\n",
      "/home/mthomas/anaconda3/envs/meerkat_umap_env_3/lib/python3.7/site-packages/scipy/optimize/minpack.py:829: OptimizeWarning: Covariance of the parameters could not be estimated\n",
      "  category=OptimizeWarning)\n"
     ]
    },
    {
     "name": "stdout",
     "output_type": "stream",
     "text": [
      "/home/mthomas/Documents/MPI_work/projects/meerkat/meerkat_umap_pv/data/interim/parameter_search/grid_search_umap_params/zs_euclidean_pad_0.01_0.1_30_6_specs_no_40_dB_no\n",
      "/home/mthomas/Documents/MPI_work/projects/meerkat/meerkat_umap_pv/data/interim/parameter_search/grid_search_umap_params/zs_euclidean_pad_0.01_0.1_30_6_specs_no_40_dB_no\n"
     ]
    },
    {
     "name": "stderr",
     "output_type": "stream",
     "text": [
      "/home/mthomas/anaconda3/envs/meerkat_umap_env_3/lib/python3.7/site-packages/umap/umap_.py:1330: RuntimeWarning: divide by zero encountered in power\n",
      "  return 1.0 / (1.0 + a * x ** (2 * b))\n",
      "/home/mthomas/anaconda3/envs/meerkat_umap_env_3/lib/python3.7/site-packages/scipy/optimize/minpack.py:829: OptimizeWarning: Covariance of the parameters could not be estimated\n",
      "  category=OptimizeWarning)\n"
     ]
    },
    {
     "name": "stdout",
     "output_type": "stream",
     "text": [
      "/home/mthomas/Documents/MPI_work/projects/meerkat/meerkat_umap_pv/data/interim/parameter_search/grid_search_umap_params/zs_euclidean_pad_0.01_0.1_30_7_specs_no_40_dB_no\n",
      "/home/mthomas/Documents/MPI_work/projects/meerkat/meerkat_umap_pv/data/interim/parameter_search/grid_search_umap_params/zs_euclidean_pad_0.01_0.1_30_7_specs_no_40_dB_no\n"
     ]
    },
    {
     "name": "stderr",
     "output_type": "stream",
     "text": [
      "/home/mthomas/anaconda3/envs/meerkat_umap_env_3/lib/python3.7/site-packages/umap/umap_.py:1330: RuntimeWarning: divide by zero encountered in power\n",
      "  return 1.0 / (1.0 + a * x ** (2 * b))\n",
      "/home/mthomas/anaconda3/envs/meerkat_umap_env_3/lib/python3.7/site-packages/scipy/optimize/minpack.py:829: OptimizeWarning: Covariance of the parameters could not be estimated\n",
      "  category=OptimizeWarning)\n"
     ]
    },
    {
     "name": "stdout",
     "output_type": "stream",
     "text": [
      "/home/mthomas/Documents/MPI_work/projects/meerkat/meerkat_umap_pv/data/interim/parameter_search/grid_search_umap_params/zs_euclidean_pad_0.01_0.1_30_8_specs_no_40_dB_no\n",
      "/home/mthomas/Documents/MPI_work/projects/meerkat/meerkat_umap_pv/data/interim/parameter_search/grid_search_umap_params/zs_euclidean_pad_0.01_0.1_30_8_specs_no_40_dB_no\n"
     ]
    },
    {
     "name": "stderr",
     "output_type": "stream",
     "text": [
      "/home/mthomas/anaconda3/envs/meerkat_umap_env_3/lib/python3.7/site-packages/umap/umap_.py:1330: RuntimeWarning: divide by zero encountered in power\n",
      "  return 1.0 / (1.0 + a * x ** (2 * b))\n",
      "/home/mthomas/anaconda3/envs/meerkat_umap_env_3/lib/python3.7/site-packages/scipy/optimize/minpack.py:829: OptimizeWarning: Covariance of the parameters could not be estimated\n",
      "  category=OptimizeWarning)\n"
     ]
    },
    {
     "name": "stdout",
     "output_type": "stream",
     "text": [
      "/home/mthomas/Documents/MPI_work/projects/meerkat/meerkat_umap_pv/data/interim/parameter_search/grid_search_umap_params/zs_euclidean_pad_0.01_0.1_30_9_specs_no_40_dB_no\n",
      "/home/mthomas/Documents/MPI_work/projects/meerkat/meerkat_umap_pv/data/interim/parameter_search/grid_search_umap_params/zs_euclidean_pad_0.01_0.1_30_9_specs_no_40_dB_no\n"
     ]
    },
    {
     "name": "stderr",
     "output_type": "stream",
     "text": [
      "/home/mthomas/anaconda3/envs/meerkat_umap_env_3/lib/python3.7/site-packages/umap/umap_.py:1330: RuntimeWarning: divide by zero encountered in power\n",
      "  return 1.0 / (1.0 + a * x ** (2 * b))\n",
      "/home/mthomas/anaconda3/envs/meerkat_umap_env_3/lib/python3.7/site-packages/scipy/optimize/minpack.py:829: OptimizeWarning: Covariance of the parameters could not be estimated\n",
      "  category=OptimizeWarning)\n"
     ]
    },
    {
     "name": "stdout",
     "output_type": "stream",
     "text": [
      "/home/mthomas/Documents/MPI_work/projects/meerkat/meerkat_umap_pv/data/interim/parameter_search/grid_search_umap_params/zs_euclidean_pad_0.01_0.1_30_10_specs_no_40_dB_no\n",
      "/home/mthomas/Documents/MPI_work/projects/meerkat/meerkat_umap_pv/data/interim/parameter_search/grid_search_umap_params/zs_euclidean_pad_0.01_0.1_30_10_specs_no_40_dB_no\n"
     ]
    },
    {
     "name": "stderr",
     "output_type": "stream",
     "text": [
      "/home/mthomas/anaconda3/envs/meerkat_umap_env_3/lib/python3.7/site-packages/umap/umap_.py:1330: RuntimeWarning: divide by zero encountered in power\n",
      "  return 1.0 / (1.0 + a * x ** (2 * b))\n"
     ]
    },
    {
     "name": "stdout",
     "output_type": "stream",
     "text": [
      "/home/mthomas/Documents/MPI_work/projects/meerkat/meerkat_umap_pv/data/interim/parameter_search/grid_search_umap_params/zs_euclidean_pad_0.1_0.1_30_2_specs_no_40_dB_no\n",
      "/home/mthomas/Documents/MPI_work/projects/meerkat/meerkat_umap_pv/data/interim/parameter_search/grid_search_umap_params/zs_euclidean_pad_0.1_0.1_30_2_specs_no_40_dB_no\n"
     ]
    },
    {
     "name": "stderr",
     "output_type": "stream",
     "text": [
      "/home/mthomas/anaconda3/envs/meerkat_umap_env_3/lib/python3.7/site-packages/umap/umap_.py:1330: RuntimeWarning: divide by zero encountered in power\n",
      "  return 1.0 / (1.0 + a * x ** (2 * b))\n"
     ]
    },
    {
     "name": "stdout",
     "output_type": "stream",
     "text": [
      "/home/mthomas/Documents/MPI_work/projects/meerkat/meerkat_umap_pv/data/interim/parameter_search/grid_search_umap_params/zs_euclidean_pad_0.1_0.1_30_3_specs_no_40_dB_no\n",
      "/home/mthomas/Documents/MPI_work/projects/meerkat/meerkat_umap_pv/data/interim/parameter_search/grid_search_umap_params/zs_euclidean_pad_0.1_0.1_30_3_specs_no_40_dB_no\n"
     ]
    },
    {
     "name": "stderr",
     "output_type": "stream",
     "text": [
      "/home/mthomas/anaconda3/envs/meerkat_umap_env_3/lib/python3.7/site-packages/umap/umap_.py:1330: RuntimeWarning: divide by zero encountered in power\n",
      "  return 1.0 / (1.0 + a * x ** (2 * b))\n"
     ]
    },
    {
     "name": "stdout",
     "output_type": "stream",
     "text": [
      "/home/mthomas/Documents/MPI_work/projects/meerkat/meerkat_umap_pv/data/interim/parameter_search/grid_search_umap_params/zs_euclidean_pad_0.1_0.1_30_4_specs_no_40_dB_no\n",
      "/home/mthomas/Documents/MPI_work/projects/meerkat/meerkat_umap_pv/data/interim/parameter_search/grid_search_umap_params/zs_euclidean_pad_0.1_0.1_30_4_specs_no_40_dB_no\n"
     ]
    },
    {
     "name": "stderr",
     "output_type": "stream",
     "text": [
      "/home/mthomas/anaconda3/envs/meerkat_umap_env_3/lib/python3.7/site-packages/umap/umap_.py:1330: RuntimeWarning: divide by zero encountered in power\n",
      "  return 1.0 / (1.0 + a * x ** (2 * b))\n"
     ]
    },
    {
     "name": "stdout",
     "output_type": "stream",
     "text": [
      "/home/mthomas/Documents/MPI_work/projects/meerkat/meerkat_umap_pv/data/interim/parameter_search/grid_search_umap_params/zs_euclidean_pad_0.1_0.1_30_5_specs_no_40_dB_no\n",
      "/home/mthomas/Documents/MPI_work/projects/meerkat/meerkat_umap_pv/data/interim/parameter_search/grid_search_umap_params/zs_euclidean_pad_0.1_0.1_30_5_specs_no_40_dB_no\n"
     ]
    },
    {
     "name": "stderr",
     "output_type": "stream",
     "text": [
      "/home/mthomas/anaconda3/envs/meerkat_umap_env_3/lib/python3.7/site-packages/umap/umap_.py:1330: RuntimeWarning: divide by zero encountered in power\n",
      "  return 1.0 / (1.0 + a * x ** (2 * b))\n"
     ]
    },
    {
     "name": "stdout",
     "output_type": "stream",
     "text": [
      "/home/mthomas/Documents/MPI_work/projects/meerkat/meerkat_umap_pv/data/interim/parameter_search/grid_search_umap_params/zs_euclidean_pad_0.1_0.1_30_6_specs_no_40_dB_no\n",
      "/home/mthomas/Documents/MPI_work/projects/meerkat/meerkat_umap_pv/data/interim/parameter_search/grid_search_umap_params/zs_euclidean_pad_0.1_0.1_30_6_specs_no_40_dB_no\n"
     ]
    },
    {
     "name": "stderr",
     "output_type": "stream",
     "text": [
      "/home/mthomas/anaconda3/envs/meerkat_umap_env_3/lib/python3.7/site-packages/umap/umap_.py:1330: RuntimeWarning: divide by zero encountered in power\n",
      "  return 1.0 / (1.0 + a * x ** (2 * b))\n"
     ]
    },
    {
     "name": "stdout",
     "output_type": "stream",
     "text": [
      "/home/mthomas/Documents/MPI_work/projects/meerkat/meerkat_umap_pv/data/interim/parameter_search/grid_search_umap_params/zs_euclidean_pad_0.1_0.1_30_7_specs_no_40_dB_no\n",
      "/home/mthomas/Documents/MPI_work/projects/meerkat/meerkat_umap_pv/data/interim/parameter_search/grid_search_umap_params/zs_euclidean_pad_0.1_0.1_30_7_specs_no_40_dB_no\n"
     ]
    },
    {
     "name": "stderr",
     "output_type": "stream",
     "text": [
      "/home/mthomas/anaconda3/envs/meerkat_umap_env_3/lib/python3.7/site-packages/umap/umap_.py:1330: RuntimeWarning: divide by zero encountered in power\n",
      "  return 1.0 / (1.0 + a * x ** (2 * b))\n"
     ]
    },
    {
     "name": "stdout",
     "output_type": "stream",
     "text": [
      "/home/mthomas/Documents/MPI_work/projects/meerkat/meerkat_umap_pv/data/interim/parameter_search/grid_search_umap_params/zs_euclidean_pad_0.1_0.1_30_8_specs_no_40_dB_no\n",
      "/home/mthomas/Documents/MPI_work/projects/meerkat/meerkat_umap_pv/data/interim/parameter_search/grid_search_umap_params/zs_euclidean_pad_0.1_0.1_30_8_specs_no_40_dB_no\n"
     ]
    },
    {
     "name": "stderr",
     "output_type": "stream",
     "text": [
      "/home/mthomas/anaconda3/envs/meerkat_umap_env_3/lib/python3.7/site-packages/umap/umap_.py:1330: RuntimeWarning: divide by zero encountered in power\n",
      "  return 1.0 / (1.0 + a * x ** (2 * b))\n"
     ]
    },
    {
     "name": "stdout",
     "output_type": "stream",
     "text": [
      "/home/mthomas/Documents/MPI_work/projects/meerkat/meerkat_umap_pv/data/interim/parameter_search/grid_search_umap_params/zs_euclidean_pad_0.1_0.1_30_9_specs_no_40_dB_no\n",
      "/home/mthomas/Documents/MPI_work/projects/meerkat/meerkat_umap_pv/data/interim/parameter_search/grid_search_umap_params/zs_euclidean_pad_0.1_0.1_30_9_specs_no_40_dB_no\n"
     ]
    },
    {
     "name": "stderr",
     "output_type": "stream",
     "text": [
      "/home/mthomas/anaconda3/envs/meerkat_umap_env_3/lib/python3.7/site-packages/umap/umap_.py:1330: RuntimeWarning: divide by zero encountered in power\n",
      "  return 1.0 / (1.0 + a * x ** (2 * b))\n"
     ]
    },
    {
     "name": "stdout",
     "output_type": "stream",
     "text": [
      "/home/mthomas/Documents/MPI_work/projects/meerkat/meerkat_umap_pv/data/interim/parameter_search/grid_search_umap_params/zs_euclidean_pad_0.1_0.1_30_10_specs_no_40_dB_no\n",
      "/home/mthomas/Documents/MPI_work/projects/meerkat/meerkat_umap_pv/data/interim/parameter_search/grid_search_umap_params/zs_euclidean_pad_0.1_0.1_30_10_specs_no_40_dB_no\n",
      "FAILED:  zs_euclidean_pad_1_0.1_30_2_specs_no_40_dB_no\n",
      "FAILED:  zs_euclidean_pad_1_0.1_30_3_specs_no_40_dB_no\n",
      "FAILED:  zs_euclidean_pad_1_0.1_30_4_specs_no_40_dB_no\n",
      "FAILED:  zs_euclidean_pad_1_0.1_30_5_specs_no_40_dB_no\n"
     ]
    },
    {
     "name": "stderr",
     "output_type": "stream",
     "text": [
      "/home/mthomas/anaconda3/envs/meerkat_umap_env_3/lib/python3.7/site-packages/scipy/optimize/minpack.py:829: OptimizeWarning: Covariance of the parameters could not be estimated\n",
      "  category=OptimizeWarning)\n",
      "/home/mthomas/anaconda3/envs/meerkat_umap_env_3/lib/python3.7/site-packages/scipy/optimize/minpack.py:829: OptimizeWarning: Covariance of the parameters could not be estimated\n",
      "  category=OptimizeWarning)\n",
      "/home/mthomas/anaconda3/envs/meerkat_umap_env_3/lib/python3.7/site-packages/scipy/optimize/minpack.py:829: OptimizeWarning: Covariance of the parameters could not be estimated\n",
      "  category=OptimizeWarning)\n",
      "/home/mthomas/anaconda3/envs/meerkat_umap_env_3/lib/python3.7/site-packages/scipy/optimize/minpack.py:829: OptimizeWarning: Covariance of the parameters could not be estimated\n",
      "  category=OptimizeWarning)\n",
      "/home/mthomas/anaconda3/envs/meerkat_umap_env_3/lib/python3.7/site-packages/scipy/optimize/minpack.py:829: OptimizeWarning: Covariance of the parameters could not be estimated\n",
      "  category=OptimizeWarning)\n"
     ]
    },
    {
     "name": "stdout",
     "output_type": "stream",
     "text": [
      "FAILED:  zs_euclidean_pad_1_0.1_30_6_specs_no_40_dB_no\n",
      "FAILED:  zs_euclidean_pad_1_0.1_30_7_specs_no_40_dB_no\n",
      "FAILED:  zs_euclidean_pad_1_0.1_30_8_specs_no_40_dB_no\n",
      "FAILED:  zs_euclidean_pad_1_0.1_30_9_specs_no_40_dB_no\n",
      "FAILED:  zs_euclidean_pad_1_0.1_30_10_specs_no_40_dB_no\n"
     ]
    },
    {
     "name": "stderr",
     "output_type": "stream",
     "text": [
      "/home/mthomas/anaconda3/envs/meerkat_umap_env_3/lib/python3.7/site-packages/scipy/optimize/minpack.py:829: OptimizeWarning: Covariance of the parameters could not be estimated\n",
      "  category=OptimizeWarning)\n",
      "/home/mthomas/anaconda3/envs/meerkat_umap_env_3/lib/python3.7/site-packages/scipy/optimize/minpack.py:829: OptimizeWarning: Covariance of the parameters could not be estimated\n",
      "  category=OptimizeWarning)\n",
      "/home/mthomas/anaconda3/envs/meerkat_umap_env_3/lib/python3.7/site-packages/scipy/optimize/minpack.py:829: OptimizeWarning: Covariance of the parameters could not be estimated\n",
      "  category=OptimizeWarning)\n",
      "/home/mthomas/anaconda3/envs/meerkat_umap_env_3/lib/python3.7/site-packages/scipy/optimize/minpack.py:829: OptimizeWarning: Covariance of the parameters could not be estimated\n",
      "  category=OptimizeWarning)\n",
      "/home/mthomas/anaconda3/envs/meerkat_umap_env_3/lib/python3.7/site-packages/umap/umap_.py:1330: RuntimeWarning: divide by zero encountered in power\n",
      "  return 1.0 / (1.0 + a * x ** (2 * b))\n",
      "/home/mthomas/anaconda3/envs/meerkat_umap_env_3/lib/python3.7/site-packages/scipy/optimize/minpack.py:829: OptimizeWarning: Covariance of the parameters could not be estimated\n",
      "  category=OptimizeWarning)\n"
     ]
    },
    {
     "name": "stdout",
     "output_type": "stream",
     "text": [
      "/home/mthomas/Documents/MPI_work/projects/meerkat/meerkat_umap_pv/data/interim/parameter_search/grid_search_umap_params/zs_euclidean_pad_0_0.1_40_2_specs_no_40_dB_no\n",
      "/home/mthomas/Documents/MPI_work/projects/meerkat/meerkat_umap_pv/data/interim/parameter_search/grid_search_umap_params/zs_euclidean_pad_0_0.1_40_2_specs_no_40_dB_no\n"
     ]
    },
    {
     "name": "stderr",
     "output_type": "stream",
     "text": [
      "/home/mthomas/anaconda3/envs/meerkat_umap_env_3/lib/python3.7/site-packages/umap/umap_.py:1330: RuntimeWarning: divide by zero encountered in power\n",
      "  return 1.0 / (1.0 + a * x ** (2 * b))\n",
      "/home/mthomas/anaconda3/envs/meerkat_umap_env_3/lib/python3.7/site-packages/scipy/optimize/minpack.py:829: OptimizeWarning: Covariance of the parameters could not be estimated\n",
      "  category=OptimizeWarning)\n"
     ]
    },
    {
     "name": "stdout",
     "output_type": "stream",
     "text": [
      "/home/mthomas/Documents/MPI_work/projects/meerkat/meerkat_umap_pv/data/interim/parameter_search/grid_search_umap_params/zs_euclidean_pad_0_0.1_40_3_specs_no_40_dB_no\n",
      "/home/mthomas/Documents/MPI_work/projects/meerkat/meerkat_umap_pv/data/interim/parameter_search/grid_search_umap_params/zs_euclidean_pad_0_0.1_40_3_specs_no_40_dB_no\n"
     ]
    },
    {
     "name": "stderr",
     "output_type": "stream",
     "text": [
      "/home/mthomas/anaconda3/envs/meerkat_umap_env_3/lib/python3.7/site-packages/umap/umap_.py:1330: RuntimeWarning: divide by zero encountered in power\n",
      "  return 1.0 / (1.0 + a * x ** (2 * b))\n",
      "/home/mthomas/anaconda3/envs/meerkat_umap_env_3/lib/python3.7/site-packages/scipy/optimize/minpack.py:829: OptimizeWarning: Covariance of the parameters could not be estimated\n",
      "  category=OptimizeWarning)\n"
     ]
    },
    {
     "name": "stdout",
     "output_type": "stream",
     "text": [
      "/home/mthomas/Documents/MPI_work/projects/meerkat/meerkat_umap_pv/data/interim/parameter_search/grid_search_umap_params/zs_euclidean_pad_0_0.1_40_4_specs_no_40_dB_no\n",
      "/home/mthomas/Documents/MPI_work/projects/meerkat/meerkat_umap_pv/data/interim/parameter_search/grid_search_umap_params/zs_euclidean_pad_0_0.1_40_4_specs_no_40_dB_no\n"
     ]
    },
    {
     "name": "stderr",
     "output_type": "stream",
     "text": [
      "/home/mthomas/anaconda3/envs/meerkat_umap_env_3/lib/python3.7/site-packages/umap/umap_.py:1330: RuntimeWarning: divide by zero encountered in power\n",
      "  return 1.0 / (1.0 + a * x ** (2 * b))\n",
      "/home/mthomas/anaconda3/envs/meerkat_umap_env_3/lib/python3.7/site-packages/scipy/optimize/minpack.py:829: OptimizeWarning: Covariance of the parameters could not be estimated\n",
      "  category=OptimizeWarning)\n"
     ]
    },
    {
     "name": "stdout",
     "output_type": "stream",
     "text": [
      "/home/mthomas/Documents/MPI_work/projects/meerkat/meerkat_umap_pv/data/interim/parameter_search/grid_search_umap_params/zs_euclidean_pad_0_0.1_40_5_specs_no_40_dB_no\n",
      "/home/mthomas/Documents/MPI_work/projects/meerkat/meerkat_umap_pv/data/interim/parameter_search/grid_search_umap_params/zs_euclidean_pad_0_0.1_40_5_specs_no_40_dB_no\n"
     ]
    },
    {
     "name": "stderr",
     "output_type": "stream",
     "text": [
      "/home/mthomas/anaconda3/envs/meerkat_umap_env_3/lib/python3.7/site-packages/umap/umap_.py:1330: RuntimeWarning: divide by zero encountered in power\n",
      "  return 1.0 / (1.0 + a * x ** (2 * b))\n",
      "/home/mthomas/anaconda3/envs/meerkat_umap_env_3/lib/python3.7/site-packages/scipy/optimize/minpack.py:829: OptimizeWarning: Covariance of the parameters could not be estimated\n",
      "  category=OptimizeWarning)\n"
     ]
    },
    {
     "name": "stdout",
     "output_type": "stream",
     "text": [
      "/home/mthomas/Documents/MPI_work/projects/meerkat/meerkat_umap_pv/data/interim/parameter_search/grid_search_umap_params/zs_euclidean_pad_0_0.1_40_6_specs_no_40_dB_no\n",
      "/home/mthomas/Documents/MPI_work/projects/meerkat/meerkat_umap_pv/data/interim/parameter_search/grid_search_umap_params/zs_euclidean_pad_0_0.1_40_6_specs_no_40_dB_no\n"
     ]
    },
    {
     "name": "stderr",
     "output_type": "stream",
     "text": [
      "/home/mthomas/anaconda3/envs/meerkat_umap_env_3/lib/python3.7/site-packages/umap/umap_.py:1330: RuntimeWarning: divide by zero encountered in power\n",
      "  return 1.0 / (1.0 + a * x ** (2 * b))\n",
      "/home/mthomas/anaconda3/envs/meerkat_umap_env_3/lib/python3.7/site-packages/scipy/optimize/minpack.py:829: OptimizeWarning: Covariance of the parameters could not be estimated\n",
      "  category=OptimizeWarning)\n"
     ]
    },
    {
     "name": "stdout",
     "output_type": "stream",
     "text": [
      "/home/mthomas/Documents/MPI_work/projects/meerkat/meerkat_umap_pv/data/interim/parameter_search/grid_search_umap_params/zs_euclidean_pad_0_0.1_40_7_specs_no_40_dB_no\n",
      "/home/mthomas/Documents/MPI_work/projects/meerkat/meerkat_umap_pv/data/interim/parameter_search/grid_search_umap_params/zs_euclidean_pad_0_0.1_40_7_specs_no_40_dB_no\n"
     ]
    },
    {
     "name": "stderr",
     "output_type": "stream",
     "text": [
      "/home/mthomas/anaconda3/envs/meerkat_umap_env_3/lib/python3.7/site-packages/umap/umap_.py:1330: RuntimeWarning: divide by zero encountered in power\n",
      "  return 1.0 / (1.0 + a * x ** (2 * b))\n",
      "/home/mthomas/anaconda3/envs/meerkat_umap_env_3/lib/python3.7/site-packages/scipy/optimize/minpack.py:829: OptimizeWarning: Covariance of the parameters could not be estimated\n",
      "  category=OptimizeWarning)\n"
     ]
    },
    {
     "name": "stdout",
     "output_type": "stream",
     "text": [
      "/home/mthomas/Documents/MPI_work/projects/meerkat/meerkat_umap_pv/data/interim/parameter_search/grid_search_umap_params/zs_euclidean_pad_0_0.1_40_8_specs_no_40_dB_no\n",
      "/home/mthomas/Documents/MPI_work/projects/meerkat/meerkat_umap_pv/data/interim/parameter_search/grid_search_umap_params/zs_euclidean_pad_0_0.1_40_8_specs_no_40_dB_no\n"
     ]
    },
    {
     "name": "stderr",
     "output_type": "stream",
     "text": [
      "/home/mthomas/anaconda3/envs/meerkat_umap_env_3/lib/python3.7/site-packages/umap/umap_.py:1330: RuntimeWarning: divide by zero encountered in power\n",
      "  return 1.0 / (1.0 + a * x ** (2 * b))\n",
      "/home/mthomas/anaconda3/envs/meerkat_umap_env_3/lib/python3.7/site-packages/scipy/optimize/minpack.py:829: OptimizeWarning: Covariance of the parameters could not be estimated\n",
      "  category=OptimizeWarning)\n"
     ]
    },
    {
     "name": "stdout",
     "output_type": "stream",
     "text": [
      "/home/mthomas/Documents/MPI_work/projects/meerkat/meerkat_umap_pv/data/interim/parameter_search/grid_search_umap_params/zs_euclidean_pad_0_0.1_40_9_specs_no_40_dB_no\n",
      "/home/mthomas/Documents/MPI_work/projects/meerkat/meerkat_umap_pv/data/interim/parameter_search/grid_search_umap_params/zs_euclidean_pad_0_0.1_40_9_specs_no_40_dB_no\n"
     ]
    },
    {
     "name": "stderr",
     "output_type": "stream",
     "text": [
      "/home/mthomas/anaconda3/envs/meerkat_umap_env_3/lib/python3.7/site-packages/umap/umap_.py:1330: RuntimeWarning: divide by zero encountered in power\n",
      "  return 1.0 / (1.0 + a * x ** (2 * b))\n",
      "/home/mthomas/anaconda3/envs/meerkat_umap_env_3/lib/python3.7/site-packages/scipy/optimize/minpack.py:829: OptimizeWarning: Covariance of the parameters could not be estimated\n",
      "  category=OptimizeWarning)\n"
     ]
    },
    {
     "name": "stdout",
     "output_type": "stream",
     "text": [
      "/home/mthomas/Documents/MPI_work/projects/meerkat/meerkat_umap_pv/data/interim/parameter_search/grid_search_umap_params/zs_euclidean_pad_0_0.1_40_10_specs_no_40_dB_no\n",
      "/home/mthomas/Documents/MPI_work/projects/meerkat/meerkat_umap_pv/data/interim/parameter_search/grid_search_umap_params/zs_euclidean_pad_0_0.1_40_10_specs_no_40_dB_no\n"
     ]
    },
    {
     "name": "stderr",
     "output_type": "stream",
     "text": [
      "/home/mthomas/anaconda3/envs/meerkat_umap_env_3/lib/python3.7/site-packages/umap/umap_.py:1330: RuntimeWarning: divide by zero encountered in power\n",
      "  return 1.0 / (1.0 + a * x ** (2 * b))\n",
      "/home/mthomas/anaconda3/envs/meerkat_umap_env_3/lib/python3.7/site-packages/scipy/optimize/minpack.py:829: OptimizeWarning: Covariance of the parameters could not be estimated\n",
      "  category=OptimizeWarning)\n"
     ]
    },
    {
     "name": "stdout",
     "output_type": "stream",
     "text": [
      "/home/mthomas/Documents/MPI_work/projects/meerkat/meerkat_umap_pv/data/interim/parameter_search/grid_search_umap_params/zs_euclidean_pad_0.001_0.1_40_2_specs_no_40_dB_no\n",
      "/home/mthomas/Documents/MPI_work/projects/meerkat/meerkat_umap_pv/data/interim/parameter_search/grid_search_umap_params/zs_euclidean_pad_0.001_0.1_40_2_specs_no_40_dB_no\n"
     ]
    },
    {
     "name": "stderr",
     "output_type": "stream",
     "text": [
      "/home/mthomas/anaconda3/envs/meerkat_umap_env_3/lib/python3.7/site-packages/umap/umap_.py:1330: RuntimeWarning: divide by zero encountered in power\n",
      "  return 1.0 / (1.0 + a * x ** (2 * b))\n",
      "/home/mthomas/anaconda3/envs/meerkat_umap_env_3/lib/python3.7/site-packages/scipy/optimize/minpack.py:829: OptimizeWarning: Covariance of the parameters could not be estimated\n",
      "  category=OptimizeWarning)\n"
     ]
    },
    {
     "name": "stdout",
     "output_type": "stream",
     "text": [
      "/home/mthomas/Documents/MPI_work/projects/meerkat/meerkat_umap_pv/data/interim/parameter_search/grid_search_umap_params/zs_euclidean_pad_0.001_0.1_40_3_specs_no_40_dB_no\n",
      "/home/mthomas/Documents/MPI_work/projects/meerkat/meerkat_umap_pv/data/interim/parameter_search/grid_search_umap_params/zs_euclidean_pad_0.001_0.1_40_3_specs_no_40_dB_no\n"
     ]
    },
    {
     "name": "stderr",
     "output_type": "stream",
     "text": [
      "/home/mthomas/anaconda3/envs/meerkat_umap_env_3/lib/python3.7/site-packages/umap/umap_.py:1330: RuntimeWarning: divide by zero encountered in power\n",
      "  return 1.0 / (1.0 + a * x ** (2 * b))\n",
      "/home/mthomas/anaconda3/envs/meerkat_umap_env_3/lib/python3.7/site-packages/scipy/optimize/minpack.py:829: OptimizeWarning: Covariance of the parameters could not be estimated\n",
      "  category=OptimizeWarning)\n"
     ]
    },
    {
     "name": "stdout",
     "output_type": "stream",
     "text": [
      "/home/mthomas/Documents/MPI_work/projects/meerkat/meerkat_umap_pv/data/interim/parameter_search/grid_search_umap_params/zs_euclidean_pad_0.001_0.1_40_4_specs_no_40_dB_no\n",
      "/home/mthomas/Documents/MPI_work/projects/meerkat/meerkat_umap_pv/data/interim/parameter_search/grid_search_umap_params/zs_euclidean_pad_0.001_0.1_40_4_specs_no_40_dB_no\n"
     ]
    },
    {
     "name": "stderr",
     "output_type": "stream",
     "text": [
      "/home/mthomas/anaconda3/envs/meerkat_umap_env_3/lib/python3.7/site-packages/umap/umap_.py:1330: RuntimeWarning: divide by zero encountered in power\n",
      "  return 1.0 / (1.0 + a * x ** (2 * b))\n",
      "/home/mthomas/anaconda3/envs/meerkat_umap_env_3/lib/python3.7/site-packages/scipy/optimize/minpack.py:829: OptimizeWarning: Covariance of the parameters could not be estimated\n",
      "  category=OptimizeWarning)\n"
     ]
    },
    {
     "name": "stdout",
     "output_type": "stream",
     "text": [
      "/home/mthomas/Documents/MPI_work/projects/meerkat/meerkat_umap_pv/data/interim/parameter_search/grid_search_umap_params/zs_euclidean_pad_0.001_0.1_40_5_specs_no_40_dB_no\n",
      "/home/mthomas/Documents/MPI_work/projects/meerkat/meerkat_umap_pv/data/interim/parameter_search/grid_search_umap_params/zs_euclidean_pad_0.001_0.1_40_5_specs_no_40_dB_no\n"
     ]
    },
    {
     "name": "stderr",
     "output_type": "stream",
     "text": [
      "/home/mthomas/anaconda3/envs/meerkat_umap_env_3/lib/python3.7/site-packages/umap/umap_.py:1330: RuntimeWarning: divide by zero encountered in power\n",
      "  return 1.0 / (1.0 + a * x ** (2 * b))\n",
      "/home/mthomas/anaconda3/envs/meerkat_umap_env_3/lib/python3.7/site-packages/scipy/optimize/minpack.py:829: OptimizeWarning: Covariance of the parameters could not be estimated\n",
      "  category=OptimizeWarning)\n"
     ]
    },
    {
     "name": "stdout",
     "output_type": "stream",
     "text": [
      "/home/mthomas/Documents/MPI_work/projects/meerkat/meerkat_umap_pv/data/interim/parameter_search/grid_search_umap_params/zs_euclidean_pad_0.001_0.1_40_6_specs_no_40_dB_no\n",
      "/home/mthomas/Documents/MPI_work/projects/meerkat/meerkat_umap_pv/data/interim/parameter_search/grid_search_umap_params/zs_euclidean_pad_0.001_0.1_40_6_specs_no_40_dB_no\n"
     ]
    },
    {
     "name": "stderr",
     "output_type": "stream",
     "text": [
      "/home/mthomas/anaconda3/envs/meerkat_umap_env_3/lib/python3.7/site-packages/umap/umap_.py:1330: RuntimeWarning: divide by zero encountered in power\n",
      "  return 1.0 / (1.0 + a * x ** (2 * b))\n",
      "/home/mthomas/anaconda3/envs/meerkat_umap_env_3/lib/python3.7/site-packages/scipy/optimize/minpack.py:829: OptimizeWarning: Covariance of the parameters could not be estimated\n",
      "  category=OptimizeWarning)\n"
     ]
    },
    {
     "name": "stdout",
     "output_type": "stream",
     "text": [
      "/home/mthomas/Documents/MPI_work/projects/meerkat/meerkat_umap_pv/data/interim/parameter_search/grid_search_umap_params/zs_euclidean_pad_0.001_0.1_40_7_specs_no_40_dB_no\n",
      "/home/mthomas/Documents/MPI_work/projects/meerkat/meerkat_umap_pv/data/interim/parameter_search/grid_search_umap_params/zs_euclidean_pad_0.001_0.1_40_7_specs_no_40_dB_no\n"
     ]
    },
    {
     "name": "stderr",
     "output_type": "stream",
     "text": [
      "/home/mthomas/anaconda3/envs/meerkat_umap_env_3/lib/python3.7/site-packages/umap/umap_.py:1330: RuntimeWarning: divide by zero encountered in power\n",
      "  return 1.0 / (1.0 + a * x ** (2 * b))\n",
      "/home/mthomas/anaconda3/envs/meerkat_umap_env_3/lib/python3.7/site-packages/scipy/optimize/minpack.py:829: OptimizeWarning: Covariance of the parameters could not be estimated\n",
      "  category=OptimizeWarning)\n"
     ]
    },
    {
     "name": "stdout",
     "output_type": "stream",
     "text": [
      "/home/mthomas/Documents/MPI_work/projects/meerkat/meerkat_umap_pv/data/interim/parameter_search/grid_search_umap_params/zs_euclidean_pad_0.001_0.1_40_8_specs_no_40_dB_no\n",
      "/home/mthomas/Documents/MPI_work/projects/meerkat/meerkat_umap_pv/data/interim/parameter_search/grid_search_umap_params/zs_euclidean_pad_0.001_0.1_40_8_specs_no_40_dB_no\n"
     ]
    },
    {
     "name": "stderr",
     "output_type": "stream",
     "text": [
      "/home/mthomas/anaconda3/envs/meerkat_umap_env_3/lib/python3.7/site-packages/umap/umap_.py:1330: RuntimeWarning: divide by zero encountered in power\n",
      "  return 1.0 / (1.0 + a * x ** (2 * b))\n",
      "/home/mthomas/anaconda3/envs/meerkat_umap_env_3/lib/python3.7/site-packages/scipy/optimize/minpack.py:829: OptimizeWarning: Covariance of the parameters could not be estimated\n",
      "  category=OptimizeWarning)\n"
     ]
    },
    {
     "name": "stdout",
     "output_type": "stream",
     "text": [
      "/home/mthomas/Documents/MPI_work/projects/meerkat/meerkat_umap_pv/data/interim/parameter_search/grid_search_umap_params/zs_euclidean_pad_0.001_0.1_40_9_specs_no_40_dB_no\n",
      "/home/mthomas/Documents/MPI_work/projects/meerkat/meerkat_umap_pv/data/interim/parameter_search/grid_search_umap_params/zs_euclidean_pad_0.001_0.1_40_9_specs_no_40_dB_no\n"
     ]
    },
    {
     "name": "stderr",
     "output_type": "stream",
     "text": [
      "/home/mthomas/anaconda3/envs/meerkat_umap_env_3/lib/python3.7/site-packages/umap/umap_.py:1330: RuntimeWarning: divide by zero encountered in power\n",
      "  return 1.0 / (1.0 + a * x ** (2 * b))\n",
      "/home/mthomas/anaconda3/envs/meerkat_umap_env_3/lib/python3.7/site-packages/scipy/optimize/minpack.py:829: OptimizeWarning: Covariance of the parameters could not be estimated\n",
      "  category=OptimizeWarning)\n"
     ]
    },
    {
     "name": "stdout",
     "output_type": "stream",
     "text": [
      "/home/mthomas/Documents/MPI_work/projects/meerkat/meerkat_umap_pv/data/interim/parameter_search/grid_search_umap_params/zs_euclidean_pad_0.001_0.1_40_10_specs_no_40_dB_no\n",
      "/home/mthomas/Documents/MPI_work/projects/meerkat/meerkat_umap_pv/data/interim/parameter_search/grid_search_umap_params/zs_euclidean_pad_0.001_0.1_40_10_specs_no_40_dB_no\n"
     ]
    },
    {
     "name": "stderr",
     "output_type": "stream",
     "text": [
      "/home/mthomas/anaconda3/envs/meerkat_umap_env_3/lib/python3.7/site-packages/umap/umap_.py:1330: RuntimeWarning: divide by zero encountered in power\n",
      "  return 1.0 / (1.0 + a * x ** (2 * b))\n",
      "/home/mthomas/anaconda3/envs/meerkat_umap_env_3/lib/python3.7/site-packages/scipy/optimize/minpack.py:829: OptimizeWarning: Covariance of the parameters could not be estimated\n",
      "  category=OptimizeWarning)\n"
     ]
    },
    {
     "name": "stdout",
     "output_type": "stream",
     "text": [
      "/home/mthomas/Documents/MPI_work/projects/meerkat/meerkat_umap_pv/data/interim/parameter_search/grid_search_umap_params/zs_euclidean_pad_0.01_0.1_40_2_specs_no_40_dB_no\n",
      "/home/mthomas/Documents/MPI_work/projects/meerkat/meerkat_umap_pv/data/interim/parameter_search/grid_search_umap_params/zs_euclidean_pad_0.01_0.1_40_2_specs_no_40_dB_no\n"
     ]
    },
    {
     "name": "stderr",
     "output_type": "stream",
     "text": [
      "/home/mthomas/anaconda3/envs/meerkat_umap_env_3/lib/python3.7/site-packages/umap/umap_.py:1330: RuntimeWarning: divide by zero encountered in power\n",
      "  return 1.0 / (1.0 + a * x ** (2 * b))\n",
      "/home/mthomas/anaconda3/envs/meerkat_umap_env_3/lib/python3.7/site-packages/scipy/optimize/minpack.py:829: OptimizeWarning: Covariance of the parameters could not be estimated\n",
      "  category=OptimizeWarning)\n"
     ]
    },
    {
     "name": "stdout",
     "output_type": "stream",
     "text": [
      "/home/mthomas/Documents/MPI_work/projects/meerkat/meerkat_umap_pv/data/interim/parameter_search/grid_search_umap_params/zs_euclidean_pad_0.01_0.1_40_3_specs_no_40_dB_no\n",
      "/home/mthomas/Documents/MPI_work/projects/meerkat/meerkat_umap_pv/data/interim/parameter_search/grid_search_umap_params/zs_euclidean_pad_0.01_0.1_40_3_specs_no_40_dB_no\n"
     ]
    },
    {
     "name": "stderr",
     "output_type": "stream",
     "text": [
      "/home/mthomas/anaconda3/envs/meerkat_umap_env_3/lib/python3.7/site-packages/umap/umap_.py:1330: RuntimeWarning: divide by zero encountered in power\n",
      "  return 1.0 / (1.0 + a * x ** (2 * b))\n",
      "/home/mthomas/anaconda3/envs/meerkat_umap_env_3/lib/python3.7/site-packages/scipy/optimize/minpack.py:829: OptimizeWarning: Covariance of the parameters could not be estimated\n",
      "  category=OptimizeWarning)\n"
     ]
    },
    {
     "name": "stdout",
     "output_type": "stream",
     "text": [
      "/home/mthomas/Documents/MPI_work/projects/meerkat/meerkat_umap_pv/data/interim/parameter_search/grid_search_umap_params/zs_euclidean_pad_0.01_0.1_40_4_specs_no_40_dB_no\n",
      "/home/mthomas/Documents/MPI_work/projects/meerkat/meerkat_umap_pv/data/interim/parameter_search/grid_search_umap_params/zs_euclidean_pad_0.01_0.1_40_4_specs_no_40_dB_no\n"
     ]
    },
    {
     "name": "stderr",
     "output_type": "stream",
     "text": [
      "/home/mthomas/anaconda3/envs/meerkat_umap_env_3/lib/python3.7/site-packages/umap/umap_.py:1330: RuntimeWarning: divide by zero encountered in power\n",
      "  return 1.0 / (1.0 + a * x ** (2 * b))\n",
      "/home/mthomas/anaconda3/envs/meerkat_umap_env_3/lib/python3.7/site-packages/scipy/optimize/minpack.py:829: OptimizeWarning: Covariance of the parameters could not be estimated\n",
      "  category=OptimizeWarning)\n"
     ]
    },
    {
     "name": "stdout",
     "output_type": "stream",
     "text": [
      "/home/mthomas/Documents/MPI_work/projects/meerkat/meerkat_umap_pv/data/interim/parameter_search/grid_search_umap_params/zs_euclidean_pad_0.01_0.1_40_5_specs_no_40_dB_no\n",
      "/home/mthomas/Documents/MPI_work/projects/meerkat/meerkat_umap_pv/data/interim/parameter_search/grid_search_umap_params/zs_euclidean_pad_0.01_0.1_40_5_specs_no_40_dB_no\n"
     ]
    },
    {
     "name": "stderr",
     "output_type": "stream",
     "text": [
      "/home/mthomas/anaconda3/envs/meerkat_umap_env_3/lib/python3.7/site-packages/umap/umap_.py:1330: RuntimeWarning: divide by zero encountered in power\n",
      "  return 1.0 / (1.0 + a * x ** (2 * b))\n",
      "/home/mthomas/anaconda3/envs/meerkat_umap_env_3/lib/python3.7/site-packages/scipy/optimize/minpack.py:829: OptimizeWarning: Covariance of the parameters could not be estimated\n",
      "  category=OptimizeWarning)\n"
     ]
    },
    {
     "name": "stdout",
     "output_type": "stream",
     "text": [
      "/home/mthomas/Documents/MPI_work/projects/meerkat/meerkat_umap_pv/data/interim/parameter_search/grid_search_umap_params/zs_euclidean_pad_0.01_0.1_40_6_specs_no_40_dB_no\n",
      "/home/mthomas/Documents/MPI_work/projects/meerkat/meerkat_umap_pv/data/interim/parameter_search/grid_search_umap_params/zs_euclidean_pad_0.01_0.1_40_6_specs_no_40_dB_no\n"
     ]
    },
    {
     "name": "stderr",
     "output_type": "stream",
     "text": [
      "/home/mthomas/anaconda3/envs/meerkat_umap_env_3/lib/python3.7/site-packages/umap/umap_.py:1330: RuntimeWarning: divide by zero encountered in power\n",
      "  return 1.0 / (1.0 + a * x ** (2 * b))\n",
      "/home/mthomas/anaconda3/envs/meerkat_umap_env_3/lib/python3.7/site-packages/scipy/optimize/minpack.py:829: OptimizeWarning: Covariance of the parameters could not be estimated\n",
      "  category=OptimizeWarning)\n"
     ]
    },
    {
     "name": "stdout",
     "output_type": "stream",
     "text": [
      "/home/mthomas/Documents/MPI_work/projects/meerkat/meerkat_umap_pv/data/interim/parameter_search/grid_search_umap_params/zs_euclidean_pad_0.01_0.1_40_7_specs_no_40_dB_no\n",
      "/home/mthomas/Documents/MPI_work/projects/meerkat/meerkat_umap_pv/data/interim/parameter_search/grid_search_umap_params/zs_euclidean_pad_0.01_0.1_40_7_specs_no_40_dB_no\n"
     ]
    },
    {
     "name": "stderr",
     "output_type": "stream",
     "text": [
      "/home/mthomas/anaconda3/envs/meerkat_umap_env_3/lib/python3.7/site-packages/umap/umap_.py:1330: RuntimeWarning: divide by zero encountered in power\n",
      "  return 1.0 / (1.0 + a * x ** (2 * b))\n",
      "/home/mthomas/anaconda3/envs/meerkat_umap_env_3/lib/python3.7/site-packages/scipy/optimize/minpack.py:829: OptimizeWarning: Covariance of the parameters could not be estimated\n",
      "  category=OptimizeWarning)\n"
     ]
    },
    {
     "name": "stdout",
     "output_type": "stream",
     "text": [
      "/home/mthomas/Documents/MPI_work/projects/meerkat/meerkat_umap_pv/data/interim/parameter_search/grid_search_umap_params/zs_euclidean_pad_0.01_0.1_40_8_specs_no_40_dB_no\n",
      "/home/mthomas/Documents/MPI_work/projects/meerkat/meerkat_umap_pv/data/interim/parameter_search/grid_search_umap_params/zs_euclidean_pad_0.01_0.1_40_8_specs_no_40_dB_no\n"
     ]
    },
    {
     "name": "stderr",
     "output_type": "stream",
     "text": [
      "/home/mthomas/anaconda3/envs/meerkat_umap_env_3/lib/python3.7/site-packages/umap/umap_.py:1330: RuntimeWarning: divide by zero encountered in power\n",
      "  return 1.0 / (1.0 + a * x ** (2 * b))\n",
      "/home/mthomas/anaconda3/envs/meerkat_umap_env_3/lib/python3.7/site-packages/scipy/optimize/minpack.py:829: OptimizeWarning: Covariance of the parameters could not be estimated\n",
      "  category=OptimizeWarning)\n"
     ]
    },
    {
     "name": "stdout",
     "output_type": "stream",
     "text": [
      "/home/mthomas/Documents/MPI_work/projects/meerkat/meerkat_umap_pv/data/interim/parameter_search/grid_search_umap_params/zs_euclidean_pad_0.01_0.1_40_9_specs_no_40_dB_no\n",
      "/home/mthomas/Documents/MPI_work/projects/meerkat/meerkat_umap_pv/data/interim/parameter_search/grid_search_umap_params/zs_euclidean_pad_0.01_0.1_40_9_specs_no_40_dB_no\n"
     ]
    },
    {
     "name": "stderr",
     "output_type": "stream",
     "text": [
      "/home/mthomas/anaconda3/envs/meerkat_umap_env_3/lib/python3.7/site-packages/umap/umap_.py:1330: RuntimeWarning: divide by zero encountered in power\n",
      "  return 1.0 / (1.0 + a * x ** (2 * b))\n",
      "/home/mthomas/anaconda3/envs/meerkat_umap_env_3/lib/python3.7/site-packages/scipy/optimize/minpack.py:829: OptimizeWarning: Covariance of the parameters could not be estimated\n",
      "  category=OptimizeWarning)\n"
     ]
    },
    {
     "name": "stdout",
     "output_type": "stream",
     "text": [
      "/home/mthomas/Documents/MPI_work/projects/meerkat/meerkat_umap_pv/data/interim/parameter_search/grid_search_umap_params/zs_euclidean_pad_0.01_0.1_40_10_specs_no_40_dB_no\n",
      "/home/mthomas/Documents/MPI_work/projects/meerkat/meerkat_umap_pv/data/interim/parameter_search/grid_search_umap_params/zs_euclidean_pad_0.01_0.1_40_10_specs_no_40_dB_no\n"
     ]
    },
    {
     "name": "stderr",
     "output_type": "stream",
     "text": [
      "/home/mthomas/anaconda3/envs/meerkat_umap_env_3/lib/python3.7/site-packages/umap/umap_.py:1330: RuntimeWarning: divide by zero encountered in power\n",
      "  return 1.0 / (1.0 + a * x ** (2 * b))\n"
     ]
    },
    {
     "name": "stdout",
     "output_type": "stream",
     "text": [
      "/home/mthomas/Documents/MPI_work/projects/meerkat/meerkat_umap_pv/data/interim/parameter_search/grid_search_umap_params/zs_euclidean_pad_0.1_0.1_40_2_specs_no_40_dB_no\n",
      "/home/mthomas/Documents/MPI_work/projects/meerkat/meerkat_umap_pv/data/interim/parameter_search/grid_search_umap_params/zs_euclidean_pad_0.1_0.1_40_2_specs_no_40_dB_no\n"
     ]
    },
    {
     "name": "stderr",
     "output_type": "stream",
     "text": [
      "/home/mthomas/anaconda3/envs/meerkat_umap_env_3/lib/python3.7/site-packages/umap/umap_.py:1330: RuntimeWarning: divide by zero encountered in power\n",
      "  return 1.0 / (1.0 + a * x ** (2 * b))\n"
     ]
    },
    {
     "name": "stdout",
     "output_type": "stream",
     "text": [
      "/home/mthomas/Documents/MPI_work/projects/meerkat/meerkat_umap_pv/data/interim/parameter_search/grid_search_umap_params/zs_euclidean_pad_0.1_0.1_40_3_specs_no_40_dB_no\n",
      "/home/mthomas/Documents/MPI_work/projects/meerkat/meerkat_umap_pv/data/interim/parameter_search/grid_search_umap_params/zs_euclidean_pad_0.1_0.1_40_3_specs_no_40_dB_no\n"
     ]
    },
    {
     "name": "stderr",
     "output_type": "stream",
     "text": [
      "/home/mthomas/anaconda3/envs/meerkat_umap_env_3/lib/python3.7/site-packages/umap/umap_.py:1330: RuntimeWarning: divide by zero encountered in power\n",
      "  return 1.0 / (1.0 + a * x ** (2 * b))\n"
     ]
    },
    {
     "name": "stdout",
     "output_type": "stream",
     "text": [
      "/home/mthomas/Documents/MPI_work/projects/meerkat/meerkat_umap_pv/data/interim/parameter_search/grid_search_umap_params/zs_euclidean_pad_0.1_0.1_40_4_specs_no_40_dB_no\n",
      "/home/mthomas/Documents/MPI_work/projects/meerkat/meerkat_umap_pv/data/interim/parameter_search/grid_search_umap_params/zs_euclidean_pad_0.1_0.1_40_4_specs_no_40_dB_no\n"
     ]
    },
    {
     "name": "stderr",
     "output_type": "stream",
     "text": [
      "/home/mthomas/anaconda3/envs/meerkat_umap_env_3/lib/python3.7/site-packages/umap/umap_.py:1330: RuntimeWarning: divide by zero encountered in power\n",
      "  return 1.0 / (1.0 + a * x ** (2 * b))\n"
     ]
    },
    {
     "name": "stdout",
     "output_type": "stream",
     "text": [
      "/home/mthomas/Documents/MPI_work/projects/meerkat/meerkat_umap_pv/data/interim/parameter_search/grid_search_umap_params/zs_euclidean_pad_0.1_0.1_40_5_specs_no_40_dB_no\n",
      "/home/mthomas/Documents/MPI_work/projects/meerkat/meerkat_umap_pv/data/interim/parameter_search/grid_search_umap_params/zs_euclidean_pad_0.1_0.1_40_5_specs_no_40_dB_no\n"
     ]
    },
    {
     "name": "stderr",
     "output_type": "stream",
     "text": [
      "/home/mthomas/anaconda3/envs/meerkat_umap_env_3/lib/python3.7/site-packages/umap/umap_.py:1330: RuntimeWarning: divide by zero encountered in power\n",
      "  return 1.0 / (1.0 + a * x ** (2 * b))\n"
     ]
    },
    {
     "name": "stdout",
     "output_type": "stream",
     "text": [
      "/home/mthomas/Documents/MPI_work/projects/meerkat/meerkat_umap_pv/data/interim/parameter_search/grid_search_umap_params/zs_euclidean_pad_0.1_0.1_40_6_specs_no_40_dB_no\n",
      "/home/mthomas/Documents/MPI_work/projects/meerkat/meerkat_umap_pv/data/interim/parameter_search/grid_search_umap_params/zs_euclidean_pad_0.1_0.1_40_6_specs_no_40_dB_no\n"
     ]
    },
    {
     "name": "stderr",
     "output_type": "stream",
     "text": [
      "/home/mthomas/anaconda3/envs/meerkat_umap_env_3/lib/python3.7/site-packages/umap/umap_.py:1330: RuntimeWarning: divide by zero encountered in power\n",
      "  return 1.0 / (1.0 + a * x ** (2 * b))\n"
     ]
    },
    {
     "name": "stdout",
     "output_type": "stream",
     "text": [
      "/home/mthomas/Documents/MPI_work/projects/meerkat/meerkat_umap_pv/data/interim/parameter_search/grid_search_umap_params/zs_euclidean_pad_0.1_0.1_40_7_specs_no_40_dB_no\n",
      "/home/mthomas/Documents/MPI_work/projects/meerkat/meerkat_umap_pv/data/interim/parameter_search/grid_search_umap_params/zs_euclidean_pad_0.1_0.1_40_7_specs_no_40_dB_no\n"
     ]
    },
    {
     "name": "stderr",
     "output_type": "stream",
     "text": [
      "/home/mthomas/anaconda3/envs/meerkat_umap_env_3/lib/python3.7/site-packages/umap/umap_.py:1330: RuntimeWarning: divide by zero encountered in power\n",
      "  return 1.0 / (1.0 + a * x ** (2 * b))\n"
     ]
    },
    {
     "name": "stdout",
     "output_type": "stream",
     "text": [
      "/home/mthomas/Documents/MPI_work/projects/meerkat/meerkat_umap_pv/data/interim/parameter_search/grid_search_umap_params/zs_euclidean_pad_0.1_0.1_40_8_specs_no_40_dB_no\n",
      "/home/mthomas/Documents/MPI_work/projects/meerkat/meerkat_umap_pv/data/interim/parameter_search/grid_search_umap_params/zs_euclidean_pad_0.1_0.1_40_8_specs_no_40_dB_no\n"
     ]
    },
    {
     "name": "stderr",
     "output_type": "stream",
     "text": [
      "/home/mthomas/anaconda3/envs/meerkat_umap_env_3/lib/python3.7/site-packages/umap/umap_.py:1330: RuntimeWarning: divide by zero encountered in power\n",
      "  return 1.0 / (1.0 + a * x ** (2 * b))\n"
     ]
    },
    {
     "name": "stdout",
     "output_type": "stream",
     "text": [
      "/home/mthomas/Documents/MPI_work/projects/meerkat/meerkat_umap_pv/data/interim/parameter_search/grid_search_umap_params/zs_euclidean_pad_0.1_0.1_40_9_specs_no_40_dB_no\n",
      "/home/mthomas/Documents/MPI_work/projects/meerkat/meerkat_umap_pv/data/interim/parameter_search/grid_search_umap_params/zs_euclidean_pad_0.1_0.1_40_9_specs_no_40_dB_no\n"
     ]
    },
    {
     "name": "stderr",
     "output_type": "stream",
     "text": [
      "/home/mthomas/anaconda3/envs/meerkat_umap_env_3/lib/python3.7/site-packages/umap/umap_.py:1330: RuntimeWarning: divide by zero encountered in power\n",
      "  return 1.0 / (1.0 + a * x ** (2 * b))\n"
     ]
    },
    {
     "name": "stdout",
     "output_type": "stream",
     "text": [
      "/home/mthomas/Documents/MPI_work/projects/meerkat/meerkat_umap_pv/data/interim/parameter_search/grid_search_umap_params/zs_euclidean_pad_0.1_0.1_40_10_specs_no_40_dB_no\n",
      "/home/mthomas/Documents/MPI_work/projects/meerkat/meerkat_umap_pv/data/interim/parameter_search/grid_search_umap_params/zs_euclidean_pad_0.1_0.1_40_10_specs_no_40_dB_no\n",
      "FAILED:  zs_euclidean_pad_1_0.1_40_2_specs_no_40_dB_no\n",
      "FAILED:  zs_euclidean_pad_1_0.1_40_3_specs_no_40_dB_no\n",
      "FAILED:  zs_euclidean_pad_1_0.1_40_4_specs_no_40_dB_no\n",
      "FAILED:  zs_euclidean_pad_1_0.1_40_5_specs_no_40_dB_no\n"
     ]
    },
    {
     "name": "stderr",
     "output_type": "stream",
     "text": [
      "/home/mthomas/anaconda3/envs/meerkat_umap_env_3/lib/python3.7/site-packages/scipy/optimize/minpack.py:829: OptimizeWarning: Covariance of the parameters could not be estimated\n",
      "  category=OptimizeWarning)\n",
      "/home/mthomas/anaconda3/envs/meerkat_umap_env_3/lib/python3.7/site-packages/scipy/optimize/minpack.py:829: OptimizeWarning: Covariance of the parameters could not be estimated\n",
      "  category=OptimizeWarning)\n",
      "/home/mthomas/anaconda3/envs/meerkat_umap_env_3/lib/python3.7/site-packages/scipy/optimize/minpack.py:829: OptimizeWarning: Covariance of the parameters could not be estimated\n",
      "  category=OptimizeWarning)\n",
      "/home/mthomas/anaconda3/envs/meerkat_umap_env_3/lib/python3.7/site-packages/scipy/optimize/minpack.py:829: OptimizeWarning: Covariance of the parameters could not be estimated\n",
      "  category=OptimizeWarning)\n",
      "/home/mthomas/anaconda3/envs/meerkat_umap_env_3/lib/python3.7/site-packages/scipy/optimize/minpack.py:829: OptimizeWarning: Covariance of the parameters could not be estimated\n",
      "  category=OptimizeWarning)\n"
     ]
    },
    {
     "name": "stdout",
     "output_type": "stream",
     "text": [
      "FAILED:  zs_euclidean_pad_1_0.1_40_6_specs_no_40_dB_no\n",
      "FAILED:  zs_euclidean_pad_1_0.1_40_7_specs_no_40_dB_no\n",
      "FAILED:  zs_euclidean_pad_1_0.1_40_8_specs_no_40_dB_no\n",
      "FAILED:  zs_euclidean_pad_1_0.1_40_9_specs_no_40_dB_no\n",
      "FAILED:  zs_euclidean_pad_1_0.1_40_10_specs_no_40_dB_no\n"
     ]
    },
    {
     "name": "stderr",
     "output_type": "stream",
     "text": [
      "/home/mthomas/anaconda3/envs/meerkat_umap_env_3/lib/python3.7/site-packages/scipy/optimize/minpack.py:829: OptimizeWarning: Covariance of the parameters could not be estimated\n",
      "  category=OptimizeWarning)\n",
      "/home/mthomas/anaconda3/envs/meerkat_umap_env_3/lib/python3.7/site-packages/scipy/optimize/minpack.py:829: OptimizeWarning: Covariance of the parameters could not be estimated\n",
      "  category=OptimizeWarning)\n",
      "/home/mthomas/anaconda3/envs/meerkat_umap_env_3/lib/python3.7/site-packages/scipy/optimize/minpack.py:829: OptimizeWarning: Covariance of the parameters could not be estimated\n",
      "  category=OptimizeWarning)\n",
      "/home/mthomas/anaconda3/envs/meerkat_umap_env_3/lib/python3.7/site-packages/scipy/optimize/minpack.py:829: OptimizeWarning: Covariance of the parameters could not be estimated\n",
      "  category=OptimizeWarning)\n",
      "/home/mthomas/anaconda3/envs/meerkat_umap_env_3/lib/python3.7/site-packages/umap/umap_.py:1330: RuntimeWarning: divide by zero encountered in power\n",
      "  return 1.0 / (1.0 + a * x ** (2 * b))\n",
      "/home/mthomas/anaconda3/envs/meerkat_umap_env_3/lib/python3.7/site-packages/scipy/optimize/minpack.py:829: OptimizeWarning: Covariance of the parameters could not be estimated\n",
      "  category=OptimizeWarning)\n"
     ]
    },
    {
     "name": "stdout",
     "output_type": "stream",
     "text": [
      "/home/mthomas/Documents/MPI_work/projects/meerkat/meerkat_umap_pv/data/interim/parameter_search/grid_search_umap_params/zs_euclidean_pad_0_0.1_50_2_specs_no_40_dB_no\n",
      "/home/mthomas/Documents/MPI_work/projects/meerkat/meerkat_umap_pv/data/interim/parameter_search/grid_search_umap_params/zs_euclidean_pad_0_0.1_50_2_specs_no_40_dB_no\n"
     ]
    },
    {
     "name": "stderr",
     "output_type": "stream",
     "text": [
      "/home/mthomas/anaconda3/envs/meerkat_umap_env_3/lib/python3.7/site-packages/umap/umap_.py:1330: RuntimeWarning: divide by zero encountered in power\n",
      "  return 1.0 / (1.0 + a * x ** (2 * b))\n",
      "/home/mthomas/anaconda3/envs/meerkat_umap_env_3/lib/python3.7/site-packages/scipy/optimize/minpack.py:829: OptimizeWarning: Covariance of the parameters could not be estimated\n",
      "  category=OptimizeWarning)\n"
     ]
    },
    {
     "name": "stdout",
     "output_type": "stream",
     "text": [
      "/home/mthomas/Documents/MPI_work/projects/meerkat/meerkat_umap_pv/data/interim/parameter_search/grid_search_umap_params/zs_euclidean_pad_0_0.1_50_3_specs_no_40_dB_no\n",
      "/home/mthomas/Documents/MPI_work/projects/meerkat/meerkat_umap_pv/data/interim/parameter_search/grid_search_umap_params/zs_euclidean_pad_0_0.1_50_3_specs_no_40_dB_no\n"
     ]
    },
    {
     "name": "stderr",
     "output_type": "stream",
     "text": [
      "/home/mthomas/anaconda3/envs/meerkat_umap_env_3/lib/python3.7/site-packages/umap/umap_.py:1330: RuntimeWarning: divide by zero encountered in power\n",
      "  return 1.0 / (1.0 + a * x ** (2 * b))\n",
      "/home/mthomas/anaconda3/envs/meerkat_umap_env_3/lib/python3.7/site-packages/scipy/optimize/minpack.py:829: OptimizeWarning: Covariance of the parameters could not be estimated\n",
      "  category=OptimizeWarning)\n"
     ]
    },
    {
     "name": "stdout",
     "output_type": "stream",
     "text": [
      "/home/mthomas/Documents/MPI_work/projects/meerkat/meerkat_umap_pv/data/interim/parameter_search/grid_search_umap_params/zs_euclidean_pad_0_0.1_50_4_specs_no_40_dB_no\n",
      "/home/mthomas/Documents/MPI_work/projects/meerkat/meerkat_umap_pv/data/interim/parameter_search/grid_search_umap_params/zs_euclidean_pad_0_0.1_50_4_specs_no_40_dB_no\n"
     ]
    },
    {
     "name": "stderr",
     "output_type": "stream",
     "text": [
      "/home/mthomas/anaconda3/envs/meerkat_umap_env_3/lib/python3.7/site-packages/umap/umap_.py:1330: RuntimeWarning: divide by zero encountered in power\n",
      "  return 1.0 / (1.0 + a * x ** (2 * b))\n",
      "/home/mthomas/anaconda3/envs/meerkat_umap_env_3/lib/python3.7/site-packages/scipy/optimize/minpack.py:829: OptimizeWarning: Covariance of the parameters could not be estimated\n",
      "  category=OptimizeWarning)\n"
     ]
    },
    {
     "name": "stdout",
     "output_type": "stream",
     "text": [
      "/home/mthomas/Documents/MPI_work/projects/meerkat/meerkat_umap_pv/data/interim/parameter_search/grid_search_umap_params/zs_euclidean_pad_0_0.1_50_5_specs_no_40_dB_no\n",
      "/home/mthomas/Documents/MPI_work/projects/meerkat/meerkat_umap_pv/data/interim/parameter_search/grid_search_umap_params/zs_euclidean_pad_0_0.1_50_5_specs_no_40_dB_no\n"
     ]
    },
    {
     "name": "stderr",
     "output_type": "stream",
     "text": [
      "/home/mthomas/anaconda3/envs/meerkat_umap_env_3/lib/python3.7/site-packages/umap/umap_.py:1330: RuntimeWarning: divide by zero encountered in power\n",
      "  return 1.0 / (1.0 + a * x ** (2 * b))\n",
      "/home/mthomas/anaconda3/envs/meerkat_umap_env_3/lib/python3.7/site-packages/scipy/optimize/minpack.py:829: OptimizeWarning: Covariance of the parameters could not be estimated\n",
      "  category=OptimizeWarning)\n"
     ]
    },
    {
     "name": "stdout",
     "output_type": "stream",
     "text": [
      "/home/mthomas/Documents/MPI_work/projects/meerkat/meerkat_umap_pv/data/interim/parameter_search/grid_search_umap_params/zs_euclidean_pad_0_0.1_50_6_specs_no_40_dB_no\n",
      "/home/mthomas/Documents/MPI_work/projects/meerkat/meerkat_umap_pv/data/interim/parameter_search/grid_search_umap_params/zs_euclidean_pad_0_0.1_50_6_specs_no_40_dB_no\n"
     ]
    },
    {
     "name": "stderr",
     "output_type": "stream",
     "text": [
      "/home/mthomas/anaconda3/envs/meerkat_umap_env_3/lib/python3.7/site-packages/umap/umap_.py:1330: RuntimeWarning: divide by zero encountered in power\n",
      "  return 1.0 / (1.0 + a * x ** (2 * b))\n",
      "/home/mthomas/anaconda3/envs/meerkat_umap_env_3/lib/python3.7/site-packages/scipy/optimize/minpack.py:829: OptimizeWarning: Covariance of the parameters could not be estimated\n",
      "  category=OptimizeWarning)\n"
     ]
    },
    {
     "name": "stdout",
     "output_type": "stream",
     "text": [
      "/home/mthomas/Documents/MPI_work/projects/meerkat/meerkat_umap_pv/data/interim/parameter_search/grid_search_umap_params/zs_euclidean_pad_0_0.1_50_7_specs_no_40_dB_no\n",
      "/home/mthomas/Documents/MPI_work/projects/meerkat/meerkat_umap_pv/data/interim/parameter_search/grid_search_umap_params/zs_euclidean_pad_0_0.1_50_7_specs_no_40_dB_no\n"
     ]
    },
    {
     "name": "stderr",
     "output_type": "stream",
     "text": [
      "/home/mthomas/anaconda3/envs/meerkat_umap_env_3/lib/python3.7/site-packages/umap/umap_.py:1330: RuntimeWarning: divide by zero encountered in power\n",
      "  return 1.0 / (1.0 + a * x ** (2 * b))\n",
      "/home/mthomas/anaconda3/envs/meerkat_umap_env_3/lib/python3.7/site-packages/scipy/optimize/minpack.py:829: OptimizeWarning: Covariance of the parameters could not be estimated\n",
      "  category=OptimizeWarning)\n"
     ]
    },
    {
     "name": "stdout",
     "output_type": "stream",
     "text": [
      "/home/mthomas/Documents/MPI_work/projects/meerkat/meerkat_umap_pv/data/interim/parameter_search/grid_search_umap_params/zs_euclidean_pad_0_0.1_50_8_specs_no_40_dB_no\n",
      "/home/mthomas/Documents/MPI_work/projects/meerkat/meerkat_umap_pv/data/interim/parameter_search/grid_search_umap_params/zs_euclidean_pad_0_0.1_50_8_specs_no_40_dB_no\n"
     ]
    },
    {
     "name": "stderr",
     "output_type": "stream",
     "text": [
      "/home/mthomas/anaconda3/envs/meerkat_umap_env_3/lib/python3.7/site-packages/umap/umap_.py:1330: RuntimeWarning: divide by zero encountered in power\n",
      "  return 1.0 / (1.0 + a * x ** (2 * b))\n",
      "/home/mthomas/anaconda3/envs/meerkat_umap_env_3/lib/python3.7/site-packages/scipy/optimize/minpack.py:829: OptimizeWarning: Covariance of the parameters could not be estimated\n",
      "  category=OptimizeWarning)\n"
     ]
    },
    {
     "name": "stdout",
     "output_type": "stream",
     "text": [
      "/home/mthomas/Documents/MPI_work/projects/meerkat/meerkat_umap_pv/data/interim/parameter_search/grid_search_umap_params/zs_euclidean_pad_0_0.1_50_9_specs_no_40_dB_no\n",
      "/home/mthomas/Documents/MPI_work/projects/meerkat/meerkat_umap_pv/data/interim/parameter_search/grid_search_umap_params/zs_euclidean_pad_0_0.1_50_9_specs_no_40_dB_no\n"
     ]
    },
    {
     "name": "stderr",
     "output_type": "stream",
     "text": [
      "/home/mthomas/anaconda3/envs/meerkat_umap_env_3/lib/python3.7/site-packages/umap/umap_.py:1330: RuntimeWarning: divide by zero encountered in power\n",
      "  return 1.0 / (1.0 + a * x ** (2 * b))\n",
      "/home/mthomas/anaconda3/envs/meerkat_umap_env_3/lib/python3.7/site-packages/scipy/optimize/minpack.py:829: OptimizeWarning: Covariance of the parameters could not be estimated\n",
      "  category=OptimizeWarning)\n"
     ]
    },
    {
     "name": "stdout",
     "output_type": "stream",
     "text": [
      "/home/mthomas/Documents/MPI_work/projects/meerkat/meerkat_umap_pv/data/interim/parameter_search/grid_search_umap_params/zs_euclidean_pad_0_0.1_50_10_specs_no_40_dB_no\n",
      "/home/mthomas/Documents/MPI_work/projects/meerkat/meerkat_umap_pv/data/interim/parameter_search/grid_search_umap_params/zs_euclidean_pad_0_0.1_50_10_specs_no_40_dB_no\n"
     ]
    },
    {
     "name": "stderr",
     "output_type": "stream",
     "text": [
      "/home/mthomas/anaconda3/envs/meerkat_umap_env_3/lib/python3.7/site-packages/umap/umap_.py:1330: RuntimeWarning: divide by zero encountered in power\n",
      "  return 1.0 / (1.0 + a * x ** (2 * b))\n",
      "/home/mthomas/anaconda3/envs/meerkat_umap_env_3/lib/python3.7/site-packages/scipy/optimize/minpack.py:829: OptimizeWarning: Covariance of the parameters could not be estimated\n",
      "  category=OptimizeWarning)\n"
     ]
    },
    {
     "name": "stdout",
     "output_type": "stream",
     "text": [
      "/home/mthomas/Documents/MPI_work/projects/meerkat/meerkat_umap_pv/data/interim/parameter_search/grid_search_umap_params/zs_euclidean_pad_0.001_0.1_50_2_specs_no_40_dB_no\n",
      "/home/mthomas/Documents/MPI_work/projects/meerkat/meerkat_umap_pv/data/interim/parameter_search/grid_search_umap_params/zs_euclidean_pad_0.001_0.1_50_2_specs_no_40_dB_no\n"
     ]
    },
    {
     "name": "stderr",
     "output_type": "stream",
     "text": [
      "/home/mthomas/anaconda3/envs/meerkat_umap_env_3/lib/python3.7/site-packages/umap/umap_.py:1330: RuntimeWarning: divide by zero encountered in power\n",
      "  return 1.0 / (1.0 + a * x ** (2 * b))\n",
      "/home/mthomas/anaconda3/envs/meerkat_umap_env_3/lib/python3.7/site-packages/scipy/optimize/minpack.py:829: OptimizeWarning: Covariance of the parameters could not be estimated\n",
      "  category=OptimizeWarning)\n"
     ]
    },
    {
     "name": "stdout",
     "output_type": "stream",
     "text": [
      "/home/mthomas/Documents/MPI_work/projects/meerkat/meerkat_umap_pv/data/interim/parameter_search/grid_search_umap_params/zs_euclidean_pad_0.001_0.1_50_3_specs_no_40_dB_no\n",
      "/home/mthomas/Documents/MPI_work/projects/meerkat/meerkat_umap_pv/data/interim/parameter_search/grid_search_umap_params/zs_euclidean_pad_0.001_0.1_50_3_specs_no_40_dB_no\n"
     ]
    },
    {
     "name": "stderr",
     "output_type": "stream",
     "text": [
      "/home/mthomas/anaconda3/envs/meerkat_umap_env_3/lib/python3.7/site-packages/umap/umap_.py:1330: RuntimeWarning: divide by zero encountered in power\n",
      "  return 1.0 / (1.0 + a * x ** (2 * b))\n",
      "/home/mthomas/anaconda3/envs/meerkat_umap_env_3/lib/python3.7/site-packages/scipy/optimize/minpack.py:829: OptimizeWarning: Covariance of the parameters could not be estimated\n",
      "  category=OptimizeWarning)\n"
     ]
    },
    {
     "name": "stdout",
     "output_type": "stream",
     "text": [
      "/home/mthomas/Documents/MPI_work/projects/meerkat/meerkat_umap_pv/data/interim/parameter_search/grid_search_umap_params/zs_euclidean_pad_0.001_0.1_50_4_specs_no_40_dB_no\n",
      "/home/mthomas/Documents/MPI_work/projects/meerkat/meerkat_umap_pv/data/interim/parameter_search/grid_search_umap_params/zs_euclidean_pad_0.001_0.1_50_4_specs_no_40_dB_no\n"
     ]
    },
    {
     "name": "stderr",
     "output_type": "stream",
     "text": [
      "/home/mthomas/anaconda3/envs/meerkat_umap_env_3/lib/python3.7/site-packages/umap/umap_.py:1330: RuntimeWarning: divide by zero encountered in power\n",
      "  return 1.0 / (1.0 + a * x ** (2 * b))\n",
      "/home/mthomas/anaconda3/envs/meerkat_umap_env_3/lib/python3.7/site-packages/scipy/optimize/minpack.py:829: OptimizeWarning: Covariance of the parameters could not be estimated\n",
      "  category=OptimizeWarning)\n"
     ]
    },
    {
     "name": "stdout",
     "output_type": "stream",
     "text": [
      "/home/mthomas/Documents/MPI_work/projects/meerkat/meerkat_umap_pv/data/interim/parameter_search/grid_search_umap_params/zs_euclidean_pad_0.001_0.1_50_5_specs_no_40_dB_no\n",
      "/home/mthomas/Documents/MPI_work/projects/meerkat/meerkat_umap_pv/data/interim/parameter_search/grid_search_umap_params/zs_euclidean_pad_0.001_0.1_50_5_specs_no_40_dB_no\n"
     ]
    },
    {
     "name": "stderr",
     "output_type": "stream",
     "text": [
      "/home/mthomas/anaconda3/envs/meerkat_umap_env_3/lib/python3.7/site-packages/umap/umap_.py:1330: RuntimeWarning: divide by zero encountered in power\n",
      "  return 1.0 / (1.0 + a * x ** (2 * b))\n",
      "/home/mthomas/anaconda3/envs/meerkat_umap_env_3/lib/python3.7/site-packages/scipy/optimize/minpack.py:829: OptimizeWarning: Covariance of the parameters could not be estimated\n",
      "  category=OptimizeWarning)\n"
     ]
    },
    {
     "name": "stdout",
     "output_type": "stream",
     "text": [
      "/home/mthomas/Documents/MPI_work/projects/meerkat/meerkat_umap_pv/data/interim/parameter_search/grid_search_umap_params/zs_euclidean_pad_0.001_0.1_50_6_specs_no_40_dB_no\n",
      "/home/mthomas/Documents/MPI_work/projects/meerkat/meerkat_umap_pv/data/interim/parameter_search/grid_search_umap_params/zs_euclidean_pad_0.001_0.1_50_6_specs_no_40_dB_no\n"
     ]
    },
    {
     "name": "stderr",
     "output_type": "stream",
     "text": [
      "/home/mthomas/anaconda3/envs/meerkat_umap_env_3/lib/python3.7/site-packages/umap/umap_.py:1330: RuntimeWarning: divide by zero encountered in power\n",
      "  return 1.0 / (1.0 + a * x ** (2 * b))\n",
      "/home/mthomas/anaconda3/envs/meerkat_umap_env_3/lib/python3.7/site-packages/scipy/optimize/minpack.py:829: OptimizeWarning: Covariance of the parameters could not be estimated\n",
      "  category=OptimizeWarning)\n"
     ]
    },
    {
     "name": "stdout",
     "output_type": "stream",
     "text": [
      "/home/mthomas/Documents/MPI_work/projects/meerkat/meerkat_umap_pv/data/interim/parameter_search/grid_search_umap_params/zs_euclidean_pad_0.001_0.1_50_7_specs_no_40_dB_no\n",
      "/home/mthomas/Documents/MPI_work/projects/meerkat/meerkat_umap_pv/data/interim/parameter_search/grid_search_umap_params/zs_euclidean_pad_0.001_0.1_50_7_specs_no_40_dB_no\n"
     ]
    },
    {
     "name": "stderr",
     "output_type": "stream",
     "text": [
      "/home/mthomas/anaconda3/envs/meerkat_umap_env_3/lib/python3.7/site-packages/umap/umap_.py:1330: RuntimeWarning: divide by zero encountered in power\n",
      "  return 1.0 / (1.0 + a * x ** (2 * b))\n",
      "/home/mthomas/anaconda3/envs/meerkat_umap_env_3/lib/python3.7/site-packages/scipy/optimize/minpack.py:829: OptimizeWarning: Covariance of the parameters could not be estimated\n",
      "  category=OptimizeWarning)\n"
     ]
    },
    {
     "name": "stdout",
     "output_type": "stream",
     "text": [
      "/home/mthomas/Documents/MPI_work/projects/meerkat/meerkat_umap_pv/data/interim/parameter_search/grid_search_umap_params/zs_euclidean_pad_0.001_0.1_50_8_specs_no_40_dB_no\n",
      "/home/mthomas/Documents/MPI_work/projects/meerkat/meerkat_umap_pv/data/interim/parameter_search/grid_search_umap_params/zs_euclidean_pad_0.001_0.1_50_8_specs_no_40_dB_no\n"
     ]
    },
    {
     "name": "stderr",
     "output_type": "stream",
     "text": [
      "/home/mthomas/anaconda3/envs/meerkat_umap_env_3/lib/python3.7/site-packages/umap/umap_.py:1330: RuntimeWarning: divide by zero encountered in power\n",
      "  return 1.0 / (1.0 + a * x ** (2 * b))\n",
      "/home/mthomas/anaconda3/envs/meerkat_umap_env_3/lib/python3.7/site-packages/scipy/optimize/minpack.py:829: OptimizeWarning: Covariance of the parameters could not be estimated\n",
      "  category=OptimizeWarning)\n"
     ]
    },
    {
     "name": "stdout",
     "output_type": "stream",
     "text": [
      "/home/mthomas/Documents/MPI_work/projects/meerkat/meerkat_umap_pv/data/interim/parameter_search/grid_search_umap_params/zs_euclidean_pad_0.001_0.1_50_9_specs_no_40_dB_no\n",
      "/home/mthomas/Documents/MPI_work/projects/meerkat/meerkat_umap_pv/data/interim/parameter_search/grid_search_umap_params/zs_euclidean_pad_0.001_0.1_50_9_specs_no_40_dB_no\n"
     ]
    },
    {
     "name": "stderr",
     "output_type": "stream",
     "text": [
      "/home/mthomas/anaconda3/envs/meerkat_umap_env_3/lib/python3.7/site-packages/umap/umap_.py:1330: RuntimeWarning: divide by zero encountered in power\n",
      "  return 1.0 / (1.0 + a * x ** (2 * b))\n",
      "/home/mthomas/anaconda3/envs/meerkat_umap_env_3/lib/python3.7/site-packages/scipy/optimize/minpack.py:829: OptimizeWarning: Covariance of the parameters could not be estimated\n",
      "  category=OptimizeWarning)\n"
     ]
    },
    {
     "name": "stdout",
     "output_type": "stream",
     "text": [
      "/home/mthomas/Documents/MPI_work/projects/meerkat/meerkat_umap_pv/data/interim/parameter_search/grid_search_umap_params/zs_euclidean_pad_0.001_0.1_50_10_specs_no_40_dB_no\n",
      "/home/mthomas/Documents/MPI_work/projects/meerkat/meerkat_umap_pv/data/interim/parameter_search/grid_search_umap_params/zs_euclidean_pad_0.001_0.1_50_10_specs_no_40_dB_no\n"
     ]
    },
    {
     "name": "stderr",
     "output_type": "stream",
     "text": [
      "/home/mthomas/anaconda3/envs/meerkat_umap_env_3/lib/python3.7/site-packages/umap/umap_.py:1330: RuntimeWarning: divide by zero encountered in power\n",
      "  return 1.0 / (1.0 + a * x ** (2 * b))\n",
      "/home/mthomas/anaconda3/envs/meerkat_umap_env_3/lib/python3.7/site-packages/scipy/optimize/minpack.py:829: OptimizeWarning: Covariance of the parameters could not be estimated\n",
      "  category=OptimizeWarning)\n"
     ]
    },
    {
     "name": "stdout",
     "output_type": "stream",
     "text": [
      "/home/mthomas/Documents/MPI_work/projects/meerkat/meerkat_umap_pv/data/interim/parameter_search/grid_search_umap_params/zs_euclidean_pad_0.01_0.1_50_2_specs_no_40_dB_no\n",
      "/home/mthomas/Documents/MPI_work/projects/meerkat/meerkat_umap_pv/data/interim/parameter_search/grid_search_umap_params/zs_euclidean_pad_0.01_0.1_50_2_specs_no_40_dB_no\n"
     ]
    },
    {
     "name": "stderr",
     "output_type": "stream",
     "text": [
      "/home/mthomas/anaconda3/envs/meerkat_umap_env_3/lib/python3.7/site-packages/umap/umap_.py:1330: RuntimeWarning: divide by zero encountered in power\n",
      "  return 1.0 / (1.0 + a * x ** (2 * b))\n",
      "/home/mthomas/anaconda3/envs/meerkat_umap_env_3/lib/python3.7/site-packages/scipy/optimize/minpack.py:829: OptimizeWarning: Covariance of the parameters could not be estimated\n",
      "  category=OptimizeWarning)\n"
     ]
    },
    {
     "name": "stdout",
     "output_type": "stream",
     "text": [
      "/home/mthomas/Documents/MPI_work/projects/meerkat/meerkat_umap_pv/data/interim/parameter_search/grid_search_umap_params/zs_euclidean_pad_0.01_0.1_50_3_specs_no_40_dB_no\n",
      "/home/mthomas/Documents/MPI_work/projects/meerkat/meerkat_umap_pv/data/interim/parameter_search/grid_search_umap_params/zs_euclidean_pad_0.01_0.1_50_3_specs_no_40_dB_no\n"
     ]
    },
    {
     "name": "stderr",
     "output_type": "stream",
     "text": [
      "/home/mthomas/anaconda3/envs/meerkat_umap_env_3/lib/python3.7/site-packages/umap/umap_.py:1330: RuntimeWarning: divide by zero encountered in power\n",
      "  return 1.0 / (1.0 + a * x ** (2 * b))\n",
      "/home/mthomas/anaconda3/envs/meerkat_umap_env_3/lib/python3.7/site-packages/scipy/optimize/minpack.py:829: OptimizeWarning: Covariance of the parameters could not be estimated\n",
      "  category=OptimizeWarning)\n"
     ]
    },
    {
     "name": "stdout",
     "output_type": "stream",
     "text": [
      "/home/mthomas/Documents/MPI_work/projects/meerkat/meerkat_umap_pv/data/interim/parameter_search/grid_search_umap_params/zs_euclidean_pad_0.01_0.1_50_4_specs_no_40_dB_no\n",
      "/home/mthomas/Documents/MPI_work/projects/meerkat/meerkat_umap_pv/data/interim/parameter_search/grid_search_umap_params/zs_euclidean_pad_0.01_0.1_50_4_specs_no_40_dB_no\n"
     ]
    },
    {
     "name": "stderr",
     "output_type": "stream",
     "text": [
      "/home/mthomas/anaconda3/envs/meerkat_umap_env_3/lib/python3.7/site-packages/umap/umap_.py:1330: RuntimeWarning: divide by zero encountered in power\n",
      "  return 1.0 / (1.0 + a * x ** (2 * b))\n",
      "/home/mthomas/anaconda3/envs/meerkat_umap_env_3/lib/python3.7/site-packages/scipy/optimize/minpack.py:829: OptimizeWarning: Covariance of the parameters could not be estimated\n",
      "  category=OptimizeWarning)\n"
     ]
    },
    {
     "name": "stdout",
     "output_type": "stream",
     "text": [
      "/home/mthomas/Documents/MPI_work/projects/meerkat/meerkat_umap_pv/data/interim/parameter_search/grid_search_umap_params/zs_euclidean_pad_0.01_0.1_50_5_specs_no_40_dB_no\n",
      "/home/mthomas/Documents/MPI_work/projects/meerkat/meerkat_umap_pv/data/interim/parameter_search/grid_search_umap_params/zs_euclidean_pad_0.01_0.1_50_5_specs_no_40_dB_no\n"
     ]
    },
    {
     "name": "stderr",
     "output_type": "stream",
     "text": [
      "/home/mthomas/anaconda3/envs/meerkat_umap_env_3/lib/python3.7/site-packages/umap/umap_.py:1330: RuntimeWarning: divide by zero encountered in power\n",
      "  return 1.0 / (1.0 + a * x ** (2 * b))\n",
      "/home/mthomas/anaconda3/envs/meerkat_umap_env_3/lib/python3.7/site-packages/scipy/optimize/minpack.py:829: OptimizeWarning: Covariance of the parameters could not be estimated\n",
      "  category=OptimizeWarning)\n"
     ]
    },
    {
     "name": "stdout",
     "output_type": "stream",
     "text": [
      "/home/mthomas/Documents/MPI_work/projects/meerkat/meerkat_umap_pv/data/interim/parameter_search/grid_search_umap_params/zs_euclidean_pad_0.01_0.1_50_6_specs_no_40_dB_no\n",
      "/home/mthomas/Documents/MPI_work/projects/meerkat/meerkat_umap_pv/data/interim/parameter_search/grid_search_umap_params/zs_euclidean_pad_0.01_0.1_50_6_specs_no_40_dB_no\n"
     ]
    },
    {
     "name": "stderr",
     "output_type": "stream",
     "text": [
      "/home/mthomas/anaconda3/envs/meerkat_umap_env_3/lib/python3.7/site-packages/umap/umap_.py:1330: RuntimeWarning: divide by zero encountered in power\n",
      "  return 1.0 / (1.0 + a * x ** (2 * b))\n",
      "/home/mthomas/anaconda3/envs/meerkat_umap_env_3/lib/python3.7/site-packages/scipy/optimize/minpack.py:829: OptimizeWarning: Covariance of the parameters could not be estimated\n",
      "  category=OptimizeWarning)\n"
     ]
    },
    {
     "name": "stdout",
     "output_type": "stream",
     "text": [
      "/home/mthomas/Documents/MPI_work/projects/meerkat/meerkat_umap_pv/data/interim/parameter_search/grid_search_umap_params/zs_euclidean_pad_0.01_0.1_50_7_specs_no_40_dB_no\n",
      "/home/mthomas/Documents/MPI_work/projects/meerkat/meerkat_umap_pv/data/interim/parameter_search/grid_search_umap_params/zs_euclidean_pad_0.01_0.1_50_7_specs_no_40_dB_no\n"
     ]
    },
    {
     "name": "stderr",
     "output_type": "stream",
     "text": [
      "/home/mthomas/anaconda3/envs/meerkat_umap_env_3/lib/python3.7/site-packages/umap/umap_.py:1330: RuntimeWarning: divide by zero encountered in power\n",
      "  return 1.0 / (1.0 + a * x ** (2 * b))\n",
      "/home/mthomas/anaconda3/envs/meerkat_umap_env_3/lib/python3.7/site-packages/scipy/optimize/minpack.py:829: OptimizeWarning: Covariance of the parameters could not be estimated\n",
      "  category=OptimizeWarning)\n"
     ]
    },
    {
     "name": "stdout",
     "output_type": "stream",
     "text": [
      "/home/mthomas/Documents/MPI_work/projects/meerkat/meerkat_umap_pv/data/interim/parameter_search/grid_search_umap_params/zs_euclidean_pad_0.01_0.1_50_8_specs_no_40_dB_no\n",
      "/home/mthomas/Documents/MPI_work/projects/meerkat/meerkat_umap_pv/data/interim/parameter_search/grid_search_umap_params/zs_euclidean_pad_0.01_0.1_50_8_specs_no_40_dB_no\n"
     ]
    },
    {
     "name": "stderr",
     "output_type": "stream",
     "text": [
      "/home/mthomas/anaconda3/envs/meerkat_umap_env_3/lib/python3.7/site-packages/umap/umap_.py:1330: RuntimeWarning: divide by zero encountered in power\n",
      "  return 1.0 / (1.0 + a * x ** (2 * b))\n",
      "/home/mthomas/anaconda3/envs/meerkat_umap_env_3/lib/python3.7/site-packages/scipy/optimize/minpack.py:829: OptimizeWarning: Covariance of the parameters could not be estimated\n",
      "  category=OptimizeWarning)\n"
     ]
    },
    {
     "name": "stdout",
     "output_type": "stream",
     "text": [
      "/home/mthomas/Documents/MPI_work/projects/meerkat/meerkat_umap_pv/data/interim/parameter_search/grid_search_umap_params/zs_euclidean_pad_0.01_0.1_50_9_specs_no_40_dB_no\n",
      "/home/mthomas/Documents/MPI_work/projects/meerkat/meerkat_umap_pv/data/interim/parameter_search/grid_search_umap_params/zs_euclidean_pad_0.01_0.1_50_9_specs_no_40_dB_no\n"
     ]
    },
    {
     "name": "stderr",
     "output_type": "stream",
     "text": [
      "/home/mthomas/anaconda3/envs/meerkat_umap_env_3/lib/python3.7/site-packages/umap/umap_.py:1330: RuntimeWarning: divide by zero encountered in power\n",
      "  return 1.0 / (1.0 + a * x ** (2 * b))\n",
      "/home/mthomas/anaconda3/envs/meerkat_umap_env_3/lib/python3.7/site-packages/scipy/optimize/minpack.py:829: OptimizeWarning: Covariance of the parameters could not be estimated\n",
      "  category=OptimizeWarning)\n"
     ]
    },
    {
     "name": "stdout",
     "output_type": "stream",
     "text": [
      "/home/mthomas/Documents/MPI_work/projects/meerkat/meerkat_umap_pv/data/interim/parameter_search/grid_search_umap_params/zs_euclidean_pad_0.01_0.1_50_10_specs_no_40_dB_no\n",
      "/home/mthomas/Documents/MPI_work/projects/meerkat/meerkat_umap_pv/data/interim/parameter_search/grid_search_umap_params/zs_euclidean_pad_0.01_0.1_50_10_specs_no_40_dB_no\n"
     ]
    },
    {
     "name": "stderr",
     "output_type": "stream",
     "text": [
      "/home/mthomas/anaconda3/envs/meerkat_umap_env_3/lib/python3.7/site-packages/umap/umap_.py:1330: RuntimeWarning: divide by zero encountered in power\n",
      "  return 1.0 / (1.0 + a * x ** (2 * b))\n"
     ]
    },
    {
     "name": "stdout",
     "output_type": "stream",
     "text": [
      "/home/mthomas/Documents/MPI_work/projects/meerkat/meerkat_umap_pv/data/interim/parameter_search/grid_search_umap_params/zs_euclidean_pad_0.1_0.1_50_2_specs_no_40_dB_no\n",
      "/home/mthomas/Documents/MPI_work/projects/meerkat/meerkat_umap_pv/data/interim/parameter_search/grid_search_umap_params/zs_euclidean_pad_0.1_0.1_50_2_specs_no_40_dB_no\n"
     ]
    },
    {
     "name": "stderr",
     "output_type": "stream",
     "text": [
      "/home/mthomas/anaconda3/envs/meerkat_umap_env_3/lib/python3.7/site-packages/umap/umap_.py:1330: RuntimeWarning: divide by zero encountered in power\n",
      "  return 1.0 / (1.0 + a * x ** (2 * b))\n"
     ]
    },
    {
     "name": "stdout",
     "output_type": "stream",
     "text": [
      "/home/mthomas/Documents/MPI_work/projects/meerkat/meerkat_umap_pv/data/interim/parameter_search/grid_search_umap_params/zs_euclidean_pad_0.1_0.1_50_3_specs_no_40_dB_no\n",
      "/home/mthomas/Documents/MPI_work/projects/meerkat/meerkat_umap_pv/data/interim/parameter_search/grid_search_umap_params/zs_euclidean_pad_0.1_0.1_50_3_specs_no_40_dB_no\n"
     ]
    },
    {
     "name": "stderr",
     "output_type": "stream",
     "text": [
      "/home/mthomas/anaconda3/envs/meerkat_umap_env_3/lib/python3.7/site-packages/umap/umap_.py:1330: RuntimeWarning: divide by zero encountered in power\n",
      "  return 1.0 / (1.0 + a * x ** (2 * b))\n"
     ]
    },
    {
     "name": "stdout",
     "output_type": "stream",
     "text": [
      "/home/mthomas/Documents/MPI_work/projects/meerkat/meerkat_umap_pv/data/interim/parameter_search/grid_search_umap_params/zs_euclidean_pad_0.1_0.1_50_4_specs_no_40_dB_no\n",
      "/home/mthomas/Documents/MPI_work/projects/meerkat/meerkat_umap_pv/data/interim/parameter_search/grid_search_umap_params/zs_euclidean_pad_0.1_0.1_50_4_specs_no_40_dB_no\n"
     ]
    },
    {
     "name": "stderr",
     "output_type": "stream",
     "text": [
      "/home/mthomas/anaconda3/envs/meerkat_umap_env_3/lib/python3.7/site-packages/umap/umap_.py:1330: RuntimeWarning: divide by zero encountered in power\n",
      "  return 1.0 / (1.0 + a * x ** (2 * b))\n"
     ]
    },
    {
     "name": "stdout",
     "output_type": "stream",
     "text": [
      "/home/mthomas/Documents/MPI_work/projects/meerkat/meerkat_umap_pv/data/interim/parameter_search/grid_search_umap_params/zs_euclidean_pad_0.1_0.1_50_5_specs_no_40_dB_no\n",
      "/home/mthomas/Documents/MPI_work/projects/meerkat/meerkat_umap_pv/data/interim/parameter_search/grid_search_umap_params/zs_euclidean_pad_0.1_0.1_50_5_specs_no_40_dB_no\n"
     ]
    },
    {
     "name": "stderr",
     "output_type": "stream",
     "text": [
      "/home/mthomas/anaconda3/envs/meerkat_umap_env_3/lib/python3.7/site-packages/umap/umap_.py:1330: RuntimeWarning: divide by zero encountered in power\n",
      "  return 1.0 / (1.0 + a * x ** (2 * b))\n"
     ]
    },
    {
     "name": "stdout",
     "output_type": "stream",
     "text": [
      "/home/mthomas/Documents/MPI_work/projects/meerkat/meerkat_umap_pv/data/interim/parameter_search/grid_search_umap_params/zs_euclidean_pad_0.1_0.1_50_6_specs_no_40_dB_no\n",
      "/home/mthomas/Documents/MPI_work/projects/meerkat/meerkat_umap_pv/data/interim/parameter_search/grid_search_umap_params/zs_euclidean_pad_0.1_0.1_50_6_specs_no_40_dB_no\n"
     ]
    },
    {
     "name": "stderr",
     "output_type": "stream",
     "text": [
      "/home/mthomas/anaconda3/envs/meerkat_umap_env_3/lib/python3.7/site-packages/umap/umap_.py:1330: RuntimeWarning: divide by zero encountered in power\n",
      "  return 1.0 / (1.0 + a * x ** (2 * b))\n"
     ]
    },
    {
     "name": "stdout",
     "output_type": "stream",
     "text": [
      "/home/mthomas/Documents/MPI_work/projects/meerkat/meerkat_umap_pv/data/interim/parameter_search/grid_search_umap_params/zs_euclidean_pad_0.1_0.1_50_7_specs_no_40_dB_no\n",
      "/home/mthomas/Documents/MPI_work/projects/meerkat/meerkat_umap_pv/data/interim/parameter_search/grid_search_umap_params/zs_euclidean_pad_0.1_0.1_50_7_specs_no_40_dB_no\n"
     ]
    },
    {
     "name": "stderr",
     "output_type": "stream",
     "text": [
      "/home/mthomas/anaconda3/envs/meerkat_umap_env_3/lib/python3.7/site-packages/umap/umap_.py:1330: RuntimeWarning: divide by zero encountered in power\n",
      "  return 1.0 / (1.0 + a * x ** (2 * b))\n"
     ]
    },
    {
     "name": "stdout",
     "output_type": "stream",
     "text": [
      "/home/mthomas/Documents/MPI_work/projects/meerkat/meerkat_umap_pv/data/interim/parameter_search/grid_search_umap_params/zs_euclidean_pad_0.1_0.1_50_8_specs_no_40_dB_no\n",
      "/home/mthomas/Documents/MPI_work/projects/meerkat/meerkat_umap_pv/data/interim/parameter_search/grid_search_umap_params/zs_euclidean_pad_0.1_0.1_50_8_specs_no_40_dB_no\n"
     ]
    },
    {
     "name": "stderr",
     "output_type": "stream",
     "text": [
      "/home/mthomas/anaconda3/envs/meerkat_umap_env_3/lib/python3.7/site-packages/umap/umap_.py:1330: RuntimeWarning: divide by zero encountered in power\n",
      "  return 1.0 / (1.0 + a * x ** (2 * b))\n"
     ]
    },
    {
     "name": "stdout",
     "output_type": "stream",
     "text": [
      "/home/mthomas/Documents/MPI_work/projects/meerkat/meerkat_umap_pv/data/interim/parameter_search/grid_search_umap_params/zs_euclidean_pad_0.1_0.1_50_9_specs_no_40_dB_no\n",
      "/home/mthomas/Documents/MPI_work/projects/meerkat/meerkat_umap_pv/data/interim/parameter_search/grid_search_umap_params/zs_euclidean_pad_0.1_0.1_50_9_specs_no_40_dB_no\n"
     ]
    },
    {
     "name": "stderr",
     "output_type": "stream",
     "text": [
      "/home/mthomas/anaconda3/envs/meerkat_umap_env_3/lib/python3.7/site-packages/umap/umap_.py:1330: RuntimeWarning: divide by zero encountered in power\n",
      "  return 1.0 / (1.0 + a * x ** (2 * b))\n"
     ]
    },
    {
     "name": "stdout",
     "output_type": "stream",
     "text": [
      "/home/mthomas/Documents/MPI_work/projects/meerkat/meerkat_umap_pv/data/interim/parameter_search/grid_search_umap_params/zs_euclidean_pad_0.1_0.1_50_10_specs_no_40_dB_no\n",
      "/home/mthomas/Documents/MPI_work/projects/meerkat/meerkat_umap_pv/data/interim/parameter_search/grid_search_umap_params/zs_euclidean_pad_0.1_0.1_50_10_specs_no_40_dB_no\n",
      "FAILED:  zs_euclidean_pad_1_0.1_50_2_specs_no_40_dB_no\n",
      "FAILED:  zs_euclidean_pad_1_0.1_50_3_specs_no_40_dB_no\n",
      "FAILED:  zs_euclidean_pad_1_0.1_50_4_specs_no_40_dB_no\n",
      "FAILED:  zs_euclidean_pad_1_0.1_50_5_specs_no_40_dB_no\n"
     ]
    },
    {
     "name": "stderr",
     "output_type": "stream",
     "text": [
      "/home/mthomas/anaconda3/envs/meerkat_umap_env_3/lib/python3.7/site-packages/scipy/optimize/minpack.py:829: OptimizeWarning: Covariance of the parameters could not be estimated\n",
      "  category=OptimizeWarning)\n",
      "/home/mthomas/anaconda3/envs/meerkat_umap_env_3/lib/python3.7/site-packages/scipy/optimize/minpack.py:829: OptimizeWarning: Covariance of the parameters could not be estimated\n",
      "  category=OptimizeWarning)\n",
      "/home/mthomas/anaconda3/envs/meerkat_umap_env_3/lib/python3.7/site-packages/scipy/optimize/minpack.py:829: OptimizeWarning: Covariance of the parameters could not be estimated\n",
      "  category=OptimizeWarning)\n",
      "/home/mthomas/anaconda3/envs/meerkat_umap_env_3/lib/python3.7/site-packages/scipy/optimize/minpack.py:829: OptimizeWarning: Covariance of the parameters could not be estimated\n",
      "  category=OptimizeWarning)\n",
      "/home/mthomas/anaconda3/envs/meerkat_umap_env_3/lib/python3.7/site-packages/scipy/optimize/minpack.py:829: OptimizeWarning: Covariance of the parameters could not be estimated\n",
      "  category=OptimizeWarning)\n"
     ]
    },
    {
     "name": "stdout",
     "output_type": "stream",
     "text": [
      "FAILED:  zs_euclidean_pad_1_0.1_50_6_specs_no_40_dB_no\n",
      "FAILED:  zs_euclidean_pad_1_0.1_50_7_specs_no_40_dB_no\n",
      "FAILED:  zs_euclidean_pad_1_0.1_50_8_specs_no_40_dB_no\n",
      "FAILED:  zs_euclidean_pad_1_0.1_50_9_specs_no_40_dB_no\n",
      "FAILED:  zs_euclidean_pad_1_0.1_50_10_specs_no_40_dB_no\n"
     ]
    },
    {
     "name": "stderr",
     "output_type": "stream",
     "text": [
      "/home/mthomas/anaconda3/envs/meerkat_umap_env_3/lib/python3.7/site-packages/scipy/optimize/minpack.py:829: OptimizeWarning: Covariance of the parameters could not be estimated\n",
      "  category=OptimizeWarning)\n",
      "/home/mthomas/anaconda3/envs/meerkat_umap_env_3/lib/python3.7/site-packages/scipy/optimize/minpack.py:829: OptimizeWarning: Covariance of the parameters could not be estimated\n",
      "  category=OptimizeWarning)\n",
      "/home/mthomas/anaconda3/envs/meerkat_umap_env_3/lib/python3.7/site-packages/scipy/optimize/minpack.py:829: OptimizeWarning: Covariance of the parameters could not be estimated\n",
      "  category=OptimizeWarning)\n",
      "/home/mthomas/anaconda3/envs/meerkat_umap_env_3/lib/python3.7/site-packages/scipy/optimize/minpack.py:829: OptimizeWarning: Covariance of the parameters could not be estimated\n",
      "  category=OptimizeWarning)\n",
      "/home/mthomas/anaconda3/envs/meerkat_umap_env_3/lib/python3.7/site-packages/umap/umap_.py:1330: RuntimeWarning: divide by zero encountered in power\n",
      "  return 1.0 / (1.0 + a * x ** (2 * b))\n",
      "/home/mthomas/anaconda3/envs/meerkat_umap_env_3/lib/python3.7/site-packages/scipy/optimize/minpack.py:829: OptimizeWarning: Covariance of the parameters could not be estimated\n",
      "  category=OptimizeWarning)\n"
     ]
    },
    {
     "name": "stdout",
     "output_type": "stream",
     "text": [
      "/home/mthomas/Documents/MPI_work/projects/meerkat/meerkat_umap_pv/data/interim/parameter_search/grid_search_umap_params/zs_euclidean_pad_0_0.1_100_2_specs_no_40_dB_no\n",
      "/home/mthomas/Documents/MPI_work/projects/meerkat/meerkat_umap_pv/data/interim/parameter_search/grid_search_umap_params/zs_euclidean_pad_0_0.1_100_2_specs_no_40_dB_no\n"
     ]
    },
    {
     "name": "stderr",
     "output_type": "stream",
     "text": [
      "/home/mthomas/anaconda3/envs/meerkat_umap_env_3/lib/python3.7/site-packages/umap/umap_.py:1330: RuntimeWarning: divide by zero encountered in power\n",
      "  return 1.0 / (1.0 + a * x ** (2 * b))\n",
      "/home/mthomas/anaconda3/envs/meerkat_umap_env_3/lib/python3.7/site-packages/scipy/optimize/minpack.py:829: OptimizeWarning: Covariance of the parameters could not be estimated\n",
      "  category=OptimizeWarning)\n"
     ]
    },
    {
     "name": "stdout",
     "output_type": "stream",
     "text": [
      "/home/mthomas/Documents/MPI_work/projects/meerkat/meerkat_umap_pv/data/interim/parameter_search/grid_search_umap_params/zs_euclidean_pad_0_0.1_100_3_specs_no_40_dB_no\n",
      "/home/mthomas/Documents/MPI_work/projects/meerkat/meerkat_umap_pv/data/interim/parameter_search/grid_search_umap_params/zs_euclidean_pad_0_0.1_100_3_specs_no_40_dB_no\n"
     ]
    },
    {
     "name": "stderr",
     "output_type": "stream",
     "text": [
      "/home/mthomas/anaconda3/envs/meerkat_umap_env_3/lib/python3.7/site-packages/umap/umap_.py:1330: RuntimeWarning: divide by zero encountered in power\n",
      "  return 1.0 / (1.0 + a * x ** (2 * b))\n",
      "/home/mthomas/anaconda3/envs/meerkat_umap_env_3/lib/python3.7/site-packages/scipy/optimize/minpack.py:829: OptimizeWarning: Covariance of the parameters could not be estimated\n",
      "  category=OptimizeWarning)\n"
     ]
    },
    {
     "name": "stdout",
     "output_type": "stream",
     "text": [
      "/home/mthomas/Documents/MPI_work/projects/meerkat/meerkat_umap_pv/data/interim/parameter_search/grid_search_umap_params/zs_euclidean_pad_0_0.1_100_4_specs_no_40_dB_no\n",
      "/home/mthomas/Documents/MPI_work/projects/meerkat/meerkat_umap_pv/data/interim/parameter_search/grid_search_umap_params/zs_euclidean_pad_0_0.1_100_4_specs_no_40_dB_no\n"
     ]
    },
    {
     "name": "stderr",
     "output_type": "stream",
     "text": [
      "/home/mthomas/anaconda3/envs/meerkat_umap_env_3/lib/python3.7/site-packages/umap/umap_.py:1330: RuntimeWarning: divide by zero encountered in power\n",
      "  return 1.0 / (1.0 + a * x ** (2 * b))\n",
      "/home/mthomas/anaconda3/envs/meerkat_umap_env_3/lib/python3.7/site-packages/scipy/optimize/minpack.py:829: OptimizeWarning: Covariance of the parameters could not be estimated\n",
      "  category=OptimizeWarning)\n"
     ]
    },
    {
     "name": "stdout",
     "output_type": "stream",
     "text": [
      "/home/mthomas/Documents/MPI_work/projects/meerkat/meerkat_umap_pv/data/interim/parameter_search/grid_search_umap_params/zs_euclidean_pad_0_0.1_100_5_specs_no_40_dB_no\n",
      "/home/mthomas/Documents/MPI_work/projects/meerkat/meerkat_umap_pv/data/interim/parameter_search/grid_search_umap_params/zs_euclidean_pad_0_0.1_100_5_specs_no_40_dB_no\n"
     ]
    },
    {
     "name": "stderr",
     "output_type": "stream",
     "text": [
      "/home/mthomas/anaconda3/envs/meerkat_umap_env_3/lib/python3.7/site-packages/umap/umap_.py:1330: RuntimeWarning: divide by zero encountered in power\n",
      "  return 1.0 / (1.0 + a * x ** (2 * b))\n",
      "/home/mthomas/anaconda3/envs/meerkat_umap_env_3/lib/python3.7/site-packages/scipy/optimize/minpack.py:829: OptimizeWarning: Covariance of the parameters could not be estimated\n",
      "  category=OptimizeWarning)\n"
     ]
    },
    {
     "name": "stdout",
     "output_type": "stream",
     "text": [
      "/home/mthomas/Documents/MPI_work/projects/meerkat/meerkat_umap_pv/data/interim/parameter_search/grid_search_umap_params/zs_euclidean_pad_0_0.1_100_6_specs_no_40_dB_no\n",
      "/home/mthomas/Documents/MPI_work/projects/meerkat/meerkat_umap_pv/data/interim/parameter_search/grid_search_umap_params/zs_euclidean_pad_0_0.1_100_6_specs_no_40_dB_no\n"
     ]
    },
    {
     "name": "stderr",
     "output_type": "stream",
     "text": [
      "/home/mthomas/anaconda3/envs/meerkat_umap_env_3/lib/python3.7/site-packages/umap/umap_.py:1330: RuntimeWarning: divide by zero encountered in power\n",
      "  return 1.0 / (1.0 + a * x ** (2 * b))\n",
      "/home/mthomas/anaconda3/envs/meerkat_umap_env_3/lib/python3.7/site-packages/scipy/optimize/minpack.py:829: OptimizeWarning: Covariance of the parameters could not be estimated\n",
      "  category=OptimizeWarning)\n"
     ]
    },
    {
     "name": "stdout",
     "output_type": "stream",
     "text": [
      "/home/mthomas/Documents/MPI_work/projects/meerkat/meerkat_umap_pv/data/interim/parameter_search/grid_search_umap_params/zs_euclidean_pad_0_0.1_100_7_specs_no_40_dB_no\n",
      "/home/mthomas/Documents/MPI_work/projects/meerkat/meerkat_umap_pv/data/interim/parameter_search/grid_search_umap_params/zs_euclidean_pad_0_0.1_100_7_specs_no_40_dB_no\n"
     ]
    },
    {
     "name": "stderr",
     "output_type": "stream",
     "text": [
      "/home/mthomas/anaconda3/envs/meerkat_umap_env_3/lib/python3.7/site-packages/umap/umap_.py:1330: RuntimeWarning: divide by zero encountered in power\n",
      "  return 1.0 / (1.0 + a * x ** (2 * b))\n",
      "/home/mthomas/anaconda3/envs/meerkat_umap_env_3/lib/python3.7/site-packages/scipy/optimize/minpack.py:829: OptimizeWarning: Covariance of the parameters could not be estimated\n",
      "  category=OptimizeWarning)\n"
     ]
    },
    {
     "name": "stdout",
     "output_type": "stream",
     "text": [
      "/home/mthomas/Documents/MPI_work/projects/meerkat/meerkat_umap_pv/data/interim/parameter_search/grid_search_umap_params/zs_euclidean_pad_0_0.1_100_8_specs_no_40_dB_no\n",
      "/home/mthomas/Documents/MPI_work/projects/meerkat/meerkat_umap_pv/data/interim/parameter_search/grid_search_umap_params/zs_euclidean_pad_0_0.1_100_8_specs_no_40_dB_no\n"
     ]
    },
    {
     "name": "stderr",
     "output_type": "stream",
     "text": [
      "/home/mthomas/anaconda3/envs/meerkat_umap_env_3/lib/python3.7/site-packages/umap/umap_.py:1330: RuntimeWarning: divide by zero encountered in power\n",
      "  return 1.0 / (1.0 + a * x ** (2 * b))\n",
      "/home/mthomas/anaconda3/envs/meerkat_umap_env_3/lib/python3.7/site-packages/scipy/optimize/minpack.py:829: OptimizeWarning: Covariance of the parameters could not be estimated\n",
      "  category=OptimizeWarning)\n"
     ]
    },
    {
     "name": "stdout",
     "output_type": "stream",
     "text": [
      "/home/mthomas/Documents/MPI_work/projects/meerkat/meerkat_umap_pv/data/interim/parameter_search/grid_search_umap_params/zs_euclidean_pad_0_0.1_100_9_specs_no_40_dB_no\n",
      "/home/mthomas/Documents/MPI_work/projects/meerkat/meerkat_umap_pv/data/interim/parameter_search/grid_search_umap_params/zs_euclidean_pad_0_0.1_100_9_specs_no_40_dB_no\n"
     ]
    },
    {
     "name": "stderr",
     "output_type": "stream",
     "text": [
      "/home/mthomas/anaconda3/envs/meerkat_umap_env_3/lib/python3.7/site-packages/umap/umap_.py:1330: RuntimeWarning: divide by zero encountered in power\n",
      "  return 1.0 / (1.0 + a * x ** (2 * b))\n",
      "/home/mthomas/anaconda3/envs/meerkat_umap_env_3/lib/python3.7/site-packages/scipy/optimize/minpack.py:829: OptimizeWarning: Covariance of the parameters could not be estimated\n",
      "  category=OptimizeWarning)\n"
     ]
    },
    {
     "name": "stdout",
     "output_type": "stream",
     "text": [
      "/home/mthomas/Documents/MPI_work/projects/meerkat/meerkat_umap_pv/data/interim/parameter_search/grid_search_umap_params/zs_euclidean_pad_0_0.1_100_10_specs_no_40_dB_no\n",
      "/home/mthomas/Documents/MPI_work/projects/meerkat/meerkat_umap_pv/data/interim/parameter_search/grid_search_umap_params/zs_euclidean_pad_0_0.1_100_10_specs_no_40_dB_no\n"
     ]
    },
    {
     "name": "stderr",
     "output_type": "stream",
     "text": [
      "/home/mthomas/anaconda3/envs/meerkat_umap_env_3/lib/python3.7/site-packages/umap/umap_.py:1330: RuntimeWarning: divide by zero encountered in power\n",
      "  return 1.0 / (1.0 + a * x ** (2 * b))\n",
      "/home/mthomas/anaconda3/envs/meerkat_umap_env_3/lib/python3.7/site-packages/scipy/optimize/minpack.py:829: OptimizeWarning: Covariance of the parameters could not be estimated\n",
      "  category=OptimizeWarning)\n"
     ]
    },
    {
     "name": "stdout",
     "output_type": "stream",
     "text": [
      "/home/mthomas/Documents/MPI_work/projects/meerkat/meerkat_umap_pv/data/interim/parameter_search/grid_search_umap_params/zs_euclidean_pad_0.001_0.1_100_2_specs_no_40_dB_no\n",
      "/home/mthomas/Documents/MPI_work/projects/meerkat/meerkat_umap_pv/data/interim/parameter_search/grid_search_umap_params/zs_euclidean_pad_0.001_0.1_100_2_specs_no_40_dB_no\n"
     ]
    },
    {
     "name": "stderr",
     "output_type": "stream",
     "text": [
      "/home/mthomas/anaconda3/envs/meerkat_umap_env_3/lib/python3.7/site-packages/umap/umap_.py:1330: RuntimeWarning: divide by zero encountered in power\n",
      "  return 1.0 / (1.0 + a * x ** (2 * b))\n",
      "/home/mthomas/anaconda3/envs/meerkat_umap_env_3/lib/python3.7/site-packages/scipy/optimize/minpack.py:829: OptimizeWarning: Covariance of the parameters could not be estimated\n",
      "  category=OptimizeWarning)\n"
     ]
    },
    {
     "name": "stdout",
     "output_type": "stream",
     "text": [
      "/home/mthomas/Documents/MPI_work/projects/meerkat/meerkat_umap_pv/data/interim/parameter_search/grid_search_umap_params/zs_euclidean_pad_0.001_0.1_100_3_specs_no_40_dB_no\n",
      "/home/mthomas/Documents/MPI_work/projects/meerkat/meerkat_umap_pv/data/interim/parameter_search/grid_search_umap_params/zs_euclidean_pad_0.001_0.1_100_3_specs_no_40_dB_no\n"
     ]
    },
    {
     "name": "stderr",
     "output_type": "stream",
     "text": [
      "/home/mthomas/anaconda3/envs/meerkat_umap_env_3/lib/python3.7/site-packages/umap/umap_.py:1330: RuntimeWarning: divide by zero encountered in power\n",
      "  return 1.0 / (1.0 + a * x ** (2 * b))\n",
      "/home/mthomas/anaconda3/envs/meerkat_umap_env_3/lib/python3.7/site-packages/scipy/optimize/minpack.py:829: OptimizeWarning: Covariance of the parameters could not be estimated\n",
      "  category=OptimizeWarning)\n"
     ]
    },
    {
     "name": "stdout",
     "output_type": "stream",
     "text": [
      "/home/mthomas/Documents/MPI_work/projects/meerkat/meerkat_umap_pv/data/interim/parameter_search/grid_search_umap_params/zs_euclidean_pad_0.001_0.1_100_4_specs_no_40_dB_no\n",
      "/home/mthomas/Documents/MPI_work/projects/meerkat/meerkat_umap_pv/data/interim/parameter_search/grid_search_umap_params/zs_euclidean_pad_0.001_0.1_100_4_specs_no_40_dB_no\n"
     ]
    },
    {
     "name": "stderr",
     "output_type": "stream",
     "text": [
      "/home/mthomas/anaconda3/envs/meerkat_umap_env_3/lib/python3.7/site-packages/umap/umap_.py:1330: RuntimeWarning: divide by zero encountered in power\n",
      "  return 1.0 / (1.0 + a * x ** (2 * b))\n",
      "/home/mthomas/anaconda3/envs/meerkat_umap_env_3/lib/python3.7/site-packages/scipy/optimize/minpack.py:829: OptimizeWarning: Covariance of the parameters could not be estimated\n",
      "  category=OptimizeWarning)\n"
     ]
    },
    {
     "name": "stdout",
     "output_type": "stream",
     "text": [
      "/home/mthomas/Documents/MPI_work/projects/meerkat/meerkat_umap_pv/data/interim/parameter_search/grid_search_umap_params/zs_euclidean_pad_0.001_0.1_100_5_specs_no_40_dB_no\n",
      "/home/mthomas/Documents/MPI_work/projects/meerkat/meerkat_umap_pv/data/interim/parameter_search/grid_search_umap_params/zs_euclidean_pad_0.001_0.1_100_5_specs_no_40_dB_no\n"
     ]
    },
    {
     "name": "stderr",
     "output_type": "stream",
     "text": [
      "/home/mthomas/anaconda3/envs/meerkat_umap_env_3/lib/python3.7/site-packages/umap/umap_.py:1330: RuntimeWarning: divide by zero encountered in power\n",
      "  return 1.0 / (1.0 + a * x ** (2 * b))\n",
      "/home/mthomas/anaconda3/envs/meerkat_umap_env_3/lib/python3.7/site-packages/scipy/optimize/minpack.py:829: OptimizeWarning: Covariance of the parameters could not be estimated\n",
      "  category=OptimizeWarning)\n"
     ]
    },
    {
     "name": "stdout",
     "output_type": "stream",
     "text": [
      "/home/mthomas/Documents/MPI_work/projects/meerkat/meerkat_umap_pv/data/interim/parameter_search/grid_search_umap_params/zs_euclidean_pad_0.001_0.1_100_6_specs_no_40_dB_no\n",
      "/home/mthomas/Documents/MPI_work/projects/meerkat/meerkat_umap_pv/data/interim/parameter_search/grid_search_umap_params/zs_euclidean_pad_0.001_0.1_100_6_specs_no_40_dB_no\n"
     ]
    },
    {
     "name": "stderr",
     "output_type": "stream",
     "text": [
      "/home/mthomas/anaconda3/envs/meerkat_umap_env_3/lib/python3.7/site-packages/umap/umap_.py:1330: RuntimeWarning: divide by zero encountered in power\n",
      "  return 1.0 / (1.0 + a * x ** (2 * b))\n",
      "/home/mthomas/anaconda3/envs/meerkat_umap_env_3/lib/python3.7/site-packages/scipy/optimize/minpack.py:829: OptimizeWarning: Covariance of the parameters could not be estimated\n",
      "  category=OptimizeWarning)\n"
     ]
    },
    {
     "name": "stdout",
     "output_type": "stream",
     "text": [
      "/home/mthomas/Documents/MPI_work/projects/meerkat/meerkat_umap_pv/data/interim/parameter_search/grid_search_umap_params/zs_euclidean_pad_0.001_0.1_100_7_specs_no_40_dB_no\n",
      "/home/mthomas/Documents/MPI_work/projects/meerkat/meerkat_umap_pv/data/interim/parameter_search/grid_search_umap_params/zs_euclidean_pad_0.001_0.1_100_7_specs_no_40_dB_no\n"
     ]
    },
    {
     "name": "stderr",
     "output_type": "stream",
     "text": [
      "/home/mthomas/anaconda3/envs/meerkat_umap_env_3/lib/python3.7/site-packages/umap/umap_.py:1330: RuntimeWarning: divide by zero encountered in power\n",
      "  return 1.0 / (1.0 + a * x ** (2 * b))\n",
      "/home/mthomas/anaconda3/envs/meerkat_umap_env_3/lib/python3.7/site-packages/scipy/optimize/minpack.py:829: OptimizeWarning: Covariance of the parameters could not be estimated\n",
      "  category=OptimizeWarning)\n"
     ]
    },
    {
     "name": "stdout",
     "output_type": "stream",
     "text": [
      "/home/mthomas/Documents/MPI_work/projects/meerkat/meerkat_umap_pv/data/interim/parameter_search/grid_search_umap_params/zs_euclidean_pad_0.001_0.1_100_8_specs_no_40_dB_no\n",
      "/home/mthomas/Documents/MPI_work/projects/meerkat/meerkat_umap_pv/data/interim/parameter_search/grid_search_umap_params/zs_euclidean_pad_0.001_0.1_100_8_specs_no_40_dB_no\n"
     ]
    },
    {
     "name": "stderr",
     "output_type": "stream",
     "text": [
      "/home/mthomas/anaconda3/envs/meerkat_umap_env_3/lib/python3.7/site-packages/umap/umap_.py:1330: RuntimeWarning: divide by zero encountered in power\n",
      "  return 1.0 / (1.0 + a * x ** (2 * b))\n",
      "/home/mthomas/anaconda3/envs/meerkat_umap_env_3/lib/python3.7/site-packages/scipy/optimize/minpack.py:829: OptimizeWarning: Covariance of the parameters could not be estimated\n",
      "  category=OptimizeWarning)\n"
     ]
    },
    {
     "name": "stdout",
     "output_type": "stream",
     "text": [
      "/home/mthomas/Documents/MPI_work/projects/meerkat/meerkat_umap_pv/data/interim/parameter_search/grid_search_umap_params/zs_euclidean_pad_0.001_0.1_100_9_specs_no_40_dB_no\n",
      "/home/mthomas/Documents/MPI_work/projects/meerkat/meerkat_umap_pv/data/interim/parameter_search/grid_search_umap_params/zs_euclidean_pad_0.001_0.1_100_9_specs_no_40_dB_no\n"
     ]
    },
    {
     "name": "stderr",
     "output_type": "stream",
     "text": [
      "/home/mthomas/anaconda3/envs/meerkat_umap_env_3/lib/python3.7/site-packages/umap/umap_.py:1330: RuntimeWarning: divide by zero encountered in power\n",
      "  return 1.0 / (1.0 + a * x ** (2 * b))\n",
      "/home/mthomas/anaconda3/envs/meerkat_umap_env_3/lib/python3.7/site-packages/scipy/optimize/minpack.py:829: OptimizeWarning: Covariance of the parameters could not be estimated\n",
      "  category=OptimizeWarning)\n"
     ]
    },
    {
     "name": "stdout",
     "output_type": "stream",
     "text": [
      "/home/mthomas/Documents/MPI_work/projects/meerkat/meerkat_umap_pv/data/interim/parameter_search/grid_search_umap_params/zs_euclidean_pad_0.001_0.1_100_10_specs_no_40_dB_no\n",
      "/home/mthomas/Documents/MPI_work/projects/meerkat/meerkat_umap_pv/data/interim/parameter_search/grid_search_umap_params/zs_euclidean_pad_0.001_0.1_100_10_specs_no_40_dB_no\n"
     ]
    },
    {
     "name": "stderr",
     "output_type": "stream",
     "text": [
      "/home/mthomas/anaconda3/envs/meerkat_umap_env_3/lib/python3.7/site-packages/umap/umap_.py:1330: RuntimeWarning: divide by zero encountered in power\n",
      "  return 1.0 / (1.0 + a * x ** (2 * b))\n",
      "/home/mthomas/anaconda3/envs/meerkat_umap_env_3/lib/python3.7/site-packages/scipy/optimize/minpack.py:829: OptimizeWarning: Covariance of the parameters could not be estimated\n",
      "  category=OptimizeWarning)\n"
     ]
    },
    {
     "name": "stdout",
     "output_type": "stream",
     "text": [
      "/home/mthomas/Documents/MPI_work/projects/meerkat/meerkat_umap_pv/data/interim/parameter_search/grid_search_umap_params/zs_euclidean_pad_0.01_0.1_100_2_specs_no_40_dB_no\n",
      "/home/mthomas/Documents/MPI_work/projects/meerkat/meerkat_umap_pv/data/interim/parameter_search/grid_search_umap_params/zs_euclidean_pad_0.01_0.1_100_2_specs_no_40_dB_no\n"
     ]
    },
    {
     "name": "stderr",
     "output_type": "stream",
     "text": [
      "/home/mthomas/anaconda3/envs/meerkat_umap_env_3/lib/python3.7/site-packages/umap/umap_.py:1330: RuntimeWarning: divide by zero encountered in power\n",
      "  return 1.0 / (1.0 + a * x ** (2 * b))\n",
      "/home/mthomas/anaconda3/envs/meerkat_umap_env_3/lib/python3.7/site-packages/scipy/optimize/minpack.py:829: OptimizeWarning: Covariance of the parameters could not be estimated\n",
      "  category=OptimizeWarning)\n"
     ]
    },
    {
     "name": "stdout",
     "output_type": "stream",
     "text": [
      "/home/mthomas/Documents/MPI_work/projects/meerkat/meerkat_umap_pv/data/interim/parameter_search/grid_search_umap_params/zs_euclidean_pad_0.01_0.1_100_3_specs_no_40_dB_no\n",
      "/home/mthomas/Documents/MPI_work/projects/meerkat/meerkat_umap_pv/data/interim/parameter_search/grid_search_umap_params/zs_euclidean_pad_0.01_0.1_100_3_specs_no_40_dB_no\n"
     ]
    },
    {
     "name": "stderr",
     "output_type": "stream",
     "text": [
      "/home/mthomas/anaconda3/envs/meerkat_umap_env_3/lib/python3.7/site-packages/umap/umap_.py:1330: RuntimeWarning: divide by zero encountered in power\n",
      "  return 1.0 / (1.0 + a * x ** (2 * b))\n",
      "/home/mthomas/anaconda3/envs/meerkat_umap_env_3/lib/python3.7/site-packages/scipy/optimize/minpack.py:829: OptimizeWarning: Covariance of the parameters could not be estimated\n",
      "  category=OptimizeWarning)\n"
     ]
    },
    {
     "name": "stdout",
     "output_type": "stream",
     "text": [
      "/home/mthomas/Documents/MPI_work/projects/meerkat/meerkat_umap_pv/data/interim/parameter_search/grid_search_umap_params/zs_euclidean_pad_0.01_0.1_100_4_specs_no_40_dB_no\n",
      "/home/mthomas/Documents/MPI_work/projects/meerkat/meerkat_umap_pv/data/interim/parameter_search/grid_search_umap_params/zs_euclidean_pad_0.01_0.1_100_4_specs_no_40_dB_no\n"
     ]
    },
    {
     "name": "stderr",
     "output_type": "stream",
     "text": [
      "/home/mthomas/anaconda3/envs/meerkat_umap_env_3/lib/python3.7/site-packages/umap/umap_.py:1330: RuntimeWarning: divide by zero encountered in power\n",
      "  return 1.0 / (1.0 + a * x ** (2 * b))\n",
      "/home/mthomas/anaconda3/envs/meerkat_umap_env_3/lib/python3.7/site-packages/scipy/optimize/minpack.py:829: OptimizeWarning: Covariance of the parameters could not be estimated\n",
      "  category=OptimizeWarning)\n"
     ]
    },
    {
     "name": "stdout",
     "output_type": "stream",
     "text": [
      "/home/mthomas/Documents/MPI_work/projects/meerkat/meerkat_umap_pv/data/interim/parameter_search/grid_search_umap_params/zs_euclidean_pad_0.01_0.1_100_5_specs_no_40_dB_no\n",
      "/home/mthomas/Documents/MPI_work/projects/meerkat/meerkat_umap_pv/data/interim/parameter_search/grid_search_umap_params/zs_euclidean_pad_0.01_0.1_100_5_specs_no_40_dB_no\n"
     ]
    },
    {
     "name": "stderr",
     "output_type": "stream",
     "text": [
      "/home/mthomas/anaconda3/envs/meerkat_umap_env_3/lib/python3.7/site-packages/umap/umap_.py:1330: RuntimeWarning: divide by zero encountered in power\n",
      "  return 1.0 / (1.0 + a * x ** (2 * b))\n",
      "/home/mthomas/anaconda3/envs/meerkat_umap_env_3/lib/python3.7/site-packages/scipy/optimize/minpack.py:829: OptimizeWarning: Covariance of the parameters could not be estimated\n",
      "  category=OptimizeWarning)\n"
     ]
    },
    {
     "name": "stdout",
     "output_type": "stream",
     "text": [
      "/home/mthomas/Documents/MPI_work/projects/meerkat/meerkat_umap_pv/data/interim/parameter_search/grid_search_umap_params/zs_euclidean_pad_0.01_0.1_100_6_specs_no_40_dB_no\n",
      "/home/mthomas/Documents/MPI_work/projects/meerkat/meerkat_umap_pv/data/interim/parameter_search/grid_search_umap_params/zs_euclidean_pad_0.01_0.1_100_6_specs_no_40_dB_no\n"
     ]
    },
    {
     "name": "stderr",
     "output_type": "stream",
     "text": [
      "/home/mthomas/anaconda3/envs/meerkat_umap_env_3/lib/python3.7/site-packages/umap/umap_.py:1330: RuntimeWarning: divide by zero encountered in power\n",
      "  return 1.0 / (1.0 + a * x ** (2 * b))\n",
      "/home/mthomas/anaconda3/envs/meerkat_umap_env_3/lib/python3.7/site-packages/scipy/optimize/minpack.py:829: OptimizeWarning: Covariance of the parameters could not be estimated\n",
      "  category=OptimizeWarning)\n"
     ]
    },
    {
     "name": "stdout",
     "output_type": "stream",
     "text": [
      "/home/mthomas/Documents/MPI_work/projects/meerkat/meerkat_umap_pv/data/interim/parameter_search/grid_search_umap_params/zs_euclidean_pad_0.01_0.1_100_7_specs_no_40_dB_no\n",
      "/home/mthomas/Documents/MPI_work/projects/meerkat/meerkat_umap_pv/data/interim/parameter_search/grid_search_umap_params/zs_euclidean_pad_0.01_0.1_100_7_specs_no_40_dB_no\n"
     ]
    },
    {
     "name": "stderr",
     "output_type": "stream",
     "text": [
      "/home/mthomas/anaconda3/envs/meerkat_umap_env_3/lib/python3.7/site-packages/umap/umap_.py:1330: RuntimeWarning: divide by zero encountered in power\n",
      "  return 1.0 / (1.0 + a * x ** (2 * b))\n",
      "/home/mthomas/anaconda3/envs/meerkat_umap_env_3/lib/python3.7/site-packages/scipy/optimize/minpack.py:829: OptimizeWarning: Covariance of the parameters could not be estimated\n",
      "  category=OptimizeWarning)\n"
     ]
    },
    {
     "name": "stdout",
     "output_type": "stream",
     "text": [
      "/home/mthomas/Documents/MPI_work/projects/meerkat/meerkat_umap_pv/data/interim/parameter_search/grid_search_umap_params/zs_euclidean_pad_0.01_0.1_100_8_specs_no_40_dB_no\n",
      "/home/mthomas/Documents/MPI_work/projects/meerkat/meerkat_umap_pv/data/interim/parameter_search/grid_search_umap_params/zs_euclidean_pad_0.01_0.1_100_8_specs_no_40_dB_no\n"
     ]
    },
    {
     "name": "stderr",
     "output_type": "stream",
     "text": [
      "/home/mthomas/anaconda3/envs/meerkat_umap_env_3/lib/python3.7/site-packages/umap/umap_.py:1330: RuntimeWarning: divide by zero encountered in power\n",
      "  return 1.0 / (1.0 + a * x ** (2 * b))\n",
      "/home/mthomas/anaconda3/envs/meerkat_umap_env_3/lib/python3.7/site-packages/scipy/optimize/minpack.py:829: OptimizeWarning: Covariance of the parameters could not be estimated\n",
      "  category=OptimizeWarning)\n"
     ]
    },
    {
     "name": "stdout",
     "output_type": "stream",
     "text": [
      "/home/mthomas/Documents/MPI_work/projects/meerkat/meerkat_umap_pv/data/interim/parameter_search/grid_search_umap_params/zs_euclidean_pad_0.01_0.1_100_9_specs_no_40_dB_no\n",
      "/home/mthomas/Documents/MPI_work/projects/meerkat/meerkat_umap_pv/data/interim/parameter_search/grid_search_umap_params/zs_euclidean_pad_0.01_0.1_100_9_specs_no_40_dB_no\n"
     ]
    },
    {
     "name": "stderr",
     "output_type": "stream",
     "text": [
      "/home/mthomas/anaconda3/envs/meerkat_umap_env_3/lib/python3.7/site-packages/umap/umap_.py:1330: RuntimeWarning: divide by zero encountered in power\n",
      "  return 1.0 / (1.0 + a * x ** (2 * b))\n",
      "/home/mthomas/anaconda3/envs/meerkat_umap_env_3/lib/python3.7/site-packages/scipy/optimize/minpack.py:829: OptimizeWarning: Covariance of the parameters could not be estimated\n",
      "  category=OptimizeWarning)\n"
     ]
    },
    {
     "name": "stdout",
     "output_type": "stream",
     "text": [
      "/home/mthomas/Documents/MPI_work/projects/meerkat/meerkat_umap_pv/data/interim/parameter_search/grid_search_umap_params/zs_euclidean_pad_0.01_0.1_100_10_specs_no_40_dB_no\n",
      "/home/mthomas/Documents/MPI_work/projects/meerkat/meerkat_umap_pv/data/interim/parameter_search/grid_search_umap_params/zs_euclidean_pad_0.01_0.1_100_10_specs_no_40_dB_no\n"
     ]
    },
    {
     "name": "stderr",
     "output_type": "stream",
     "text": [
      "/home/mthomas/anaconda3/envs/meerkat_umap_env_3/lib/python3.7/site-packages/umap/umap_.py:1330: RuntimeWarning: divide by zero encountered in power\n",
      "  return 1.0 / (1.0 + a * x ** (2 * b))\n"
     ]
    },
    {
     "name": "stdout",
     "output_type": "stream",
     "text": [
      "/home/mthomas/Documents/MPI_work/projects/meerkat/meerkat_umap_pv/data/interim/parameter_search/grid_search_umap_params/zs_euclidean_pad_0.1_0.1_100_2_specs_no_40_dB_no\n",
      "/home/mthomas/Documents/MPI_work/projects/meerkat/meerkat_umap_pv/data/interim/parameter_search/grid_search_umap_params/zs_euclidean_pad_0.1_0.1_100_2_specs_no_40_dB_no\n"
     ]
    },
    {
     "name": "stderr",
     "output_type": "stream",
     "text": [
      "/home/mthomas/anaconda3/envs/meerkat_umap_env_3/lib/python3.7/site-packages/umap/umap_.py:1330: RuntimeWarning: divide by zero encountered in power\n",
      "  return 1.0 / (1.0 + a * x ** (2 * b))\n"
     ]
    },
    {
     "name": "stdout",
     "output_type": "stream",
     "text": [
      "/home/mthomas/Documents/MPI_work/projects/meerkat/meerkat_umap_pv/data/interim/parameter_search/grid_search_umap_params/zs_euclidean_pad_0.1_0.1_100_3_specs_no_40_dB_no\n",
      "/home/mthomas/Documents/MPI_work/projects/meerkat/meerkat_umap_pv/data/interim/parameter_search/grid_search_umap_params/zs_euclidean_pad_0.1_0.1_100_3_specs_no_40_dB_no\n"
     ]
    },
    {
     "name": "stderr",
     "output_type": "stream",
     "text": [
      "/home/mthomas/anaconda3/envs/meerkat_umap_env_3/lib/python3.7/site-packages/umap/umap_.py:1330: RuntimeWarning: divide by zero encountered in power\n",
      "  return 1.0 / (1.0 + a * x ** (2 * b))\n"
     ]
    },
    {
     "name": "stdout",
     "output_type": "stream",
     "text": [
      "/home/mthomas/Documents/MPI_work/projects/meerkat/meerkat_umap_pv/data/interim/parameter_search/grid_search_umap_params/zs_euclidean_pad_0.1_0.1_100_4_specs_no_40_dB_no\n",
      "/home/mthomas/Documents/MPI_work/projects/meerkat/meerkat_umap_pv/data/interim/parameter_search/grid_search_umap_params/zs_euclidean_pad_0.1_0.1_100_4_specs_no_40_dB_no\n"
     ]
    },
    {
     "name": "stderr",
     "output_type": "stream",
     "text": [
      "/home/mthomas/anaconda3/envs/meerkat_umap_env_3/lib/python3.7/site-packages/umap/umap_.py:1330: RuntimeWarning: divide by zero encountered in power\n",
      "  return 1.0 / (1.0 + a * x ** (2 * b))\n"
     ]
    },
    {
     "name": "stdout",
     "output_type": "stream",
     "text": [
      "/home/mthomas/Documents/MPI_work/projects/meerkat/meerkat_umap_pv/data/interim/parameter_search/grid_search_umap_params/zs_euclidean_pad_0.1_0.1_100_5_specs_no_40_dB_no\n",
      "/home/mthomas/Documents/MPI_work/projects/meerkat/meerkat_umap_pv/data/interim/parameter_search/grid_search_umap_params/zs_euclidean_pad_0.1_0.1_100_5_specs_no_40_dB_no\n"
     ]
    },
    {
     "name": "stderr",
     "output_type": "stream",
     "text": [
      "/home/mthomas/anaconda3/envs/meerkat_umap_env_3/lib/python3.7/site-packages/umap/umap_.py:1330: RuntimeWarning: divide by zero encountered in power\n",
      "  return 1.0 / (1.0 + a * x ** (2 * b))\n"
     ]
    },
    {
     "name": "stdout",
     "output_type": "stream",
     "text": [
      "/home/mthomas/Documents/MPI_work/projects/meerkat/meerkat_umap_pv/data/interim/parameter_search/grid_search_umap_params/zs_euclidean_pad_0.1_0.1_100_6_specs_no_40_dB_no\n",
      "/home/mthomas/Documents/MPI_work/projects/meerkat/meerkat_umap_pv/data/interim/parameter_search/grid_search_umap_params/zs_euclidean_pad_0.1_0.1_100_6_specs_no_40_dB_no\n"
     ]
    },
    {
     "name": "stderr",
     "output_type": "stream",
     "text": [
      "/home/mthomas/anaconda3/envs/meerkat_umap_env_3/lib/python3.7/site-packages/umap/umap_.py:1330: RuntimeWarning: divide by zero encountered in power\n",
      "  return 1.0 / (1.0 + a * x ** (2 * b))\n"
     ]
    },
    {
     "name": "stdout",
     "output_type": "stream",
     "text": [
      "/home/mthomas/Documents/MPI_work/projects/meerkat/meerkat_umap_pv/data/interim/parameter_search/grid_search_umap_params/zs_euclidean_pad_0.1_0.1_100_7_specs_no_40_dB_no\n",
      "/home/mthomas/Documents/MPI_work/projects/meerkat/meerkat_umap_pv/data/interim/parameter_search/grid_search_umap_params/zs_euclidean_pad_0.1_0.1_100_7_specs_no_40_dB_no\n"
     ]
    },
    {
     "name": "stderr",
     "output_type": "stream",
     "text": [
      "/home/mthomas/anaconda3/envs/meerkat_umap_env_3/lib/python3.7/site-packages/umap/umap_.py:1330: RuntimeWarning: divide by zero encountered in power\n",
      "  return 1.0 / (1.0 + a * x ** (2 * b))\n"
     ]
    },
    {
     "name": "stdout",
     "output_type": "stream",
     "text": [
      "/home/mthomas/Documents/MPI_work/projects/meerkat/meerkat_umap_pv/data/interim/parameter_search/grid_search_umap_params/zs_euclidean_pad_0.1_0.1_100_8_specs_no_40_dB_no\n",
      "/home/mthomas/Documents/MPI_work/projects/meerkat/meerkat_umap_pv/data/interim/parameter_search/grid_search_umap_params/zs_euclidean_pad_0.1_0.1_100_8_specs_no_40_dB_no\n"
     ]
    },
    {
     "name": "stderr",
     "output_type": "stream",
     "text": [
      "/home/mthomas/anaconda3/envs/meerkat_umap_env_3/lib/python3.7/site-packages/umap/umap_.py:1330: RuntimeWarning: divide by zero encountered in power\n",
      "  return 1.0 / (1.0 + a * x ** (2 * b))\n"
     ]
    },
    {
     "name": "stdout",
     "output_type": "stream",
     "text": [
      "/home/mthomas/Documents/MPI_work/projects/meerkat/meerkat_umap_pv/data/interim/parameter_search/grid_search_umap_params/zs_euclidean_pad_0.1_0.1_100_9_specs_no_40_dB_no\n",
      "/home/mthomas/Documents/MPI_work/projects/meerkat/meerkat_umap_pv/data/interim/parameter_search/grid_search_umap_params/zs_euclidean_pad_0.1_0.1_100_9_specs_no_40_dB_no\n"
     ]
    },
    {
     "name": "stderr",
     "output_type": "stream",
     "text": [
      "/home/mthomas/anaconda3/envs/meerkat_umap_env_3/lib/python3.7/site-packages/umap/umap_.py:1330: RuntimeWarning: divide by zero encountered in power\n",
      "  return 1.0 / (1.0 + a * x ** (2 * b))\n"
     ]
    },
    {
     "name": "stdout",
     "output_type": "stream",
     "text": [
      "/home/mthomas/Documents/MPI_work/projects/meerkat/meerkat_umap_pv/data/interim/parameter_search/grid_search_umap_params/zs_euclidean_pad_0.1_0.1_100_10_specs_no_40_dB_no\n",
      "/home/mthomas/Documents/MPI_work/projects/meerkat/meerkat_umap_pv/data/interim/parameter_search/grid_search_umap_params/zs_euclidean_pad_0.1_0.1_100_10_specs_no_40_dB_no\n",
      "FAILED:  zs_euclidean_pad_1_0.1_100_2_specs_no_40_dB_no\n",
      "FAILED:  zs_euclidean_pad_1_0.1_100_3_specs_no_40_dB_no\n",
      "FAILED:  zs_euclidean_pad_1_0.1_100_4_specs_no_40_dB_no\n",
      "FAILED:  zs_euclidean_pad_1_0.1_100_5_specs_no_40_dB_no\n"
     ]
    },
    {
     "name": "stderr",
     "output_type": "stream",
     "text": [
      "/home/mthomas/anaconda3/envs/meerkat_umap_env_3/lib/python3.7/site-packages/scipy/optimize/minpack.py:829: OptimizeWarning: Covariance of the parameters could not be estimated\n",
      "  category=OptimizeWarning)\n",
      "/home/mthomas/anaconda3/envs/meerkat_umap_env_3/lib/python3.7/site-packages/scipy/optimize/minpack.py:829: OptimizeWarning: Covariance of the parameters could not be estimated\n",
      "  category=OptimizeWarning)\n",
      "/home/mthomas/anaconda3/envs/meerkat_umap_env_3/lib/python3.7/site-packages/scipy/optimize/minpack.py:829: OptimizeWarning: Covariance of the parameters could not be estimated\n",
      "  category=OptimizeWarning)\n",
      "/home/mthomas/anaconda3/envs/meerkat_umap_env_3/lib/python3.7/site-packages/scipy/optimize/minpack.py:829: OptimizeWarning: Covariance of the parameters could not be estimated\n",
      "  category=OptimizeWarning)\n",
      "/home/mthomas/anaconda3/envs/meerkat_umap_env_3/lib/python3.7/site-packages/scipy/optimize/minpack.py:829: OptimizeWarning: Covariance of the parameters could not be estimated\n",
      "  category=OptimizeWarning)\n"
     ]
    },
    {
     "name": "stdout",
     "output_type": "stream",
     "text": [
      "FAILED:  zs_euclidean_pad_1_0.1_100_6_specs_no_40_dB_no\n",
      "FAILED:  zs_euclidean_pad_1_0.1_100_7_specs_no_40_dB_no\n",
      "FAILED:  zs_euclidean_pad_1_0.1_100_8_specs_no_40_dB_no\n",
      "FAILED:  zs_euclidean_pad_1_0.1_100_9_specs_no_40_dB_no\n",
      "FAILED:  zs_euclidean_pad_1_0.1_100_10_specs_no_40_dB_no\n"
     ]
    },
    {
     "name": "stderr",
     "output_type": "stream",
     "text": [
      "/home/mthomas/anaconda3/envs/meerkat_umap_env_3/lib/python3.7/site-packages/scipy/optimize/minpack.py:829: OptimizeWarning: Covariance of the parameters could not be estimated\n",
      "  category=OptimizeWarning)\n",
      "/home/mthomas/anaconda3/envs/meerkat_umap_env_3/lib/python3.7/site-packages/scipy/optimize/minpack.py:829: OptimizeWarning: Covariance of the parameters could not be estimated\n",
      "  category=OptimizeWarning)\n",
      "/home/mthomas/anaconda3/envs/meerkat_umap_env_3/lib/python3.7/site-packages/scipy/optimize/minpack.py:829: OptimizeWarning: Covariance of the parameters could not be estimated\n",
      "  category=OptimizeWarning)\n",
      "/home/mthomas/anaconda3/envs/meerkat_umap_env_3/lib/python3.7/site-packages/scipy/optimize/minpack.py:829: OptimizeWarning: Covariance of the parameters could not be estimated\n",
      "  category=OptimizeWarning)\n",
      "/home/mthomas/anaconda3/envs/meerkat_umap_env_3/lib/python3.7/site-packages/umap/umap_.py:1330: RuntimeWarning: divide by zero encountered in power\n",
      "  return 1.0 / (1.0 + a * x ** (2 * b))\n",
      "/home/mthomas/anaconda3/envs/meerkat_umap_env_3/lib/python3.7/site-packages/scipy/optimize/minpack.py:829: OptimizeWarning: Covariance of the parameters could not be estimated\n",
      "  category=OptimizeWarning)\n"
     ]
    },
    {
     "name": "stdout",
     "output_type": "stream",
     "text": [
      "/home/mthomas/Documents/MPI_work/projects/meerkat/meerkat_umap_pv/data/interim/parameter_search/grid_search_umap_params/zs_euclidean_pad_0_0.1_150_2_specs_no_40_dB_no\n",
      "/home/mthomas/Documents/MPI_work/projects/meerkat/meerkat_umap_pv/data/interim/parameter_search/grid_search_umap_params/zs_euclidean_pad_0_0.1_150_2_specs_no_40_dB_no\n"
     ]
    },
    {
     "name": "stderr",
     "output_type": "stream",
     "text": [
      "/home/mthomas/anaconda3/envs/meerkat_umap_env_3/lib/python3.7/site-packages/umap/umap_.py:1330: RuntimeWarning: divide by zero encountered in power\n",
      "  return 1.0 / (1.0 + a * x ** (2 * b))\n",
      "/home/mthomas/anaconda3/envs/meerkat_umap_env_3/lib/python3.7/site-packages/scipy/optimize/minpack.py:829: OptimizeWarning: Covariance of the parameters could not be estimated\n",
      "  category=OptimizeWarning)\n"
     ]
    },
    {
     "name": "stdout",
     "output_type": "stream",
     "text": [
      "/home/mthomas/Documents/MPI_work/projects/meerkat/meerkat_umap_pv/data/interim/parameter_search/grid_search_umap_params/zs_euclidean_pad_0_0.1_150_3_specs_no_40_dB_no\n",
      "/home/mthomas/Documents/MPI_work/projects/meerkat/meerkat_umap_pv/data/interim/parameter_search/grid_search_umap_params/zs_euclidean_pad_0_0.1_150_3_specs_no_40_dB_no\n"
     ]
    },
    {
     "name": "stderr",
     "output_type": "stream",
     "text": [
      "/home/mthomas/anaconda3/envs/meerkat_umap_env_3/lib/python3.7/site-packages/umap/umap_.py:1330: RuntimeWarning: divide by zero encountered in power\n",
      "  return 1.0 / (1.0 + a * x ** (2 * b))\n",
      "/home/mthomas/anaconda3/envs/meerkat_umap_env_3/lib/python3.7/site-packages/scipy/optimize/minpack.py:829: OptimizeWarning: Covariance of the parameters could not be estimated\n",
      "  category=OptimizeWarning)\n"
     ]
    },
    {
     "name": "stdout",
     "output_type": "stream",
     "text": [
      "/home/mthomas/Documents/MPI_work/projects/meerkat/meerkat_umap_pv/data/interim/parameter_search/grid_search_umap_params/zs_euclidean_pad_0_0.1_150_4_specs_no_40_dB_no\n",
      "/home/mthomas/Documents/MPI_work/projects/meerkat/meerkat_umap_pv/data/interim/parameter_search/grid_search_umap_params/zs_euclidean_pad_0_0.1_150_4_specs_no_40_dB_no\n"
     ]
    },
    {
     "name": "stderr",
     "output_type": "stream",
     "text": [
      "/home/mthomas/anaconda3/envs/meerkat_umap_env_3/lib/python3.7/site-packages/umap/umap_.py:1330: RuntimeWarning: divide by zero encountered in power\n",
      "  return 1.0 / (1.0 + a * x ** (2 * b))\n",
      "/home/mthomas/anaconda3/envs/meerkat_umap_env_3/lib/python3.7/site-packages/scipy/optimize/minpack.py:829: OptimizeWarning: Covariance of the parameters could not be estimated\n",
      "  category=OptimizeWarning)\n"
     ]
    },
    {
     "name": "stdout",
     "output_type": "stream",
     "text": [
      "/home/mthomas/Documents/MPI_work/projects/meerkat/meerkat_umap_pv/data/interim/parameter_search/grid_search_umap_params/zs_euclidean_pad_0_0.1_150_5_specs_no_40_dB_no\n",
      "/home/mthomas/Documents/MPI_work/projects/meerkat/meerkat_umap_pv/data/interim/parameter_search/grid_search_umap_params/zs_euclidean_pad_0_0.1_150_5_specs_no_40_dB_no\n"
     ]
    },
    {
     "name": "stderr",
     "output_type": "stream",
     "text": [
      "/home/mthomas/anaconda3/envs/meerkat_umap_env_3/lib/python3.7/site-packages/umap/umap_.py:1330: RuntimeWarning: divide by zero encountered in power\n",
      "  return 1.0 / (1.0 + a * x ** (2 * b))\n",
      "/home/mthomas/anaconda3/envs/meerkat_umap_env_3/lib/python3.7/site-packages/scipy/optimize/minpack.py:829: OptimizeWarning: Covariance of the parameters could not be estimated\n",
      "  category=OptimizeWarning)\n"
     ]
    },
    {
     "name": "stdout",
     "output_type": "stream",
     "text": [
      "/home/mthomas/Documents/MPI_work/projects/meerkat/meerkat_umap_pv/data/interim/parameter_search/grid_search_umap_params/zs_euclidean_pad_0_0.1_150_6_specs_no_40_dB_no\n",
      "/home/mthomas/Documents/MPI_work/projects/meerkat/meerkat_umap_pv/data/interim/parameter_search/grid_search_umap_params/zs_euclidean_pad_0_0.1_150_6_specs_no_40_dB_no\n"
     ]
    },
    {
     "name": "stderr",
     "output_type": "stream",
     "text": [
      "/home/mthomas/anaconda3/envs/meerkat_umap_env_3/lib/python3.7/site-packages/umap/umap_.py:1330: RuntimeWarning: divide by zero encountered in power\n",
      "  return 1.0 / (1.0 + a * x ** (2 * b))\n",
      "/home/mthomas/anaconda3/envs/meerkat_umap_env_3/lib/python3.7/site-packages/scipy/optimize/minpack.py:829: OptimizeWarning: Covariance of the parameters could not be estimated\n",
      "  category=OptimizeWarning)\n"
     ]
    },
    {
     "name": "stdout",
     "output_type": "stream",
     "text": [
      "/home/mthomas/Documents/MPI_work/projects/meerkat/meerkat_umap_pv/data/interim/parameter_search/grid_search_umap_params/zs_euclidean_pad_0_0.1_150_7_specs_no_40_dB_no\n",
      "/home/mthomas/Documents/MPI_work/projects/meerkat/meerkat_umap_pv/data/interim/parameter_search/grid_search_umap_params/zs_euclidean_pad_0_0.1_150_7_specs_no_40_dB_no\n"
     ]
    },
    {
     "name": "stderr",
     "output_type": "stream",
     "text": [
      "/home/mthomas/anaconda3/envs/meerkat_umap_env_3/lib/python3.7/site-packages/umap/umap_.py:1330: RuntimeWarning: divide by zero encountered in power\n",
      "  return 1.0 / (1.0 + a * x ** (2 * b))\n",
      "/home/mthomas/anaconda3/envs/meerkat_umap_env_3/lib/python3.7/site-packages/scipy/optimize/minpack.py:829: OptimizeWarning: Covariance of the parameters could not be estimated\n",
      "  category=OptimizeWarning)\n"
     ]
    },
    {
     "name": "stdout",
     "output_type": "stream",
     "text": [
      "/home/mthomas/Documents/MPI_work/projects/meerkat/meerkat_umap_pv/data/interim/parameter_search/grid_search_umap_params/zs_euclidean_pad_0_0.1_150_8_specs_no_40_dB_no\n",
      "/home/mthomas/Documents/MPI_work/projects/meerkat/meerkat_umap_pv/data/interim/parameter_search/grid_search_umap_params/zs_euclidean_pad_0_0.1_150_8_specs_no_40_dB_no\n"
     ]
    },
    {
     "name": "stderr",
     "output_type": "stream",
     "text": [
      "/home/mthomas/anaconda3/envs/meerkat_umap_env_3/lib/python3.7/site-packages/umap/umap_.py:1330: RuntimeWarning: divide by zero encountered in power\n",
      "  return 1.0 / (1.0 + a * x ** (2 * b))\n",
      "/home/mthomas/anaconda3/envs/meerkat_umap_env_3/lib/python3.7/site-packages/scipy/optimize/minpack.py:829: OptimizeWarning: Covariance of the parameters could not be estimated\n",
      "  category=OptimizeWarning)\n"
     ]
    },
    {
     "name": "stdout",
     "output_type": "stream",
     "text": [
      "/home/mthomas/Documents/MPI_work/projects/meerkat/meerkat_umap_pv/data/interim/parameter_search/grid_search_umap_params/zs_euclidean_pad_0_0.1_150_9_specs_no_40_dB_no\n",
      "/home/mthomas/Documents/MPI_work/projects/meerkat/meerkat_umap_pv/data/interim/parameter_search/grid_search_umap_params/zs_euclidean_pad_0_0.1_150_9_specs_no_40_dB_no\n"
     ]
    },
    {
     "name": "stderr",
     "output_type": "stream",
     "text": [
      "/home/mthomas/anaconda3/envs/meerkat_umap_env_3/lib/python3.7/site-packages/umap/umap_.py:1330: RuntimeWarning: divide by zero encountered in power\n",
      "  return 1.0 / (1.0 + a * x ** (2 * b))\n",
      "/home/mthomas/anaconda3/envs/meerkat_umap_env_3/lib/python3.7/site-packages/scipy/optimize/minpack.py:829: OptimizeWarning: Covariance of the parameters could not be estimated\n",
      "  category=OptimizeWarning)\n"
     ]
    },
    {
     "name": "stdout",
     "output_type": "stream",
     "text": [
      "/home/mthomas/Documents/MPI_work/projects/meerkat/meerkat_umap_pv/data/interim/parameter_search/grid_search_umap_params/zs_euclidean_pad_0_0.1_150_10_specs_no_40_dB_no\n",
      "/home/mthomas/Documents/MPI_work/projects/meerkat/meerkat_umap_pv/data/interim/parameter_search/grid_search_umap_params/zs_euclidean_pad_0_0.1_150_10_specs_no_40_dB_no\n"
     ]
    },
    {
     "name": "stderr",
     "output_type": "stream",
     "text": [
      "/home/mthomas/anaconda3/envs/meerkat_umap_env_3/lib/python3.7/site-packages/umap/umap_.py:1330: RuntimeWarning: divide by zero encountered in power\n",
      "  return 1.0 / (1.0 + a * x ** (2 * b))\n",
      "/home/mthomas/anaconda3/envs/meerkat_umap_env_3/lib/python3.7/site-packages/scipy/optimize/minpack.py:829: OptimizeWarning: Covariance of the parameters could not be estimated\n",
      "  category=OptimizeWarning)\n"
     ]
    },
    {
     "name": "stdout",
     "output_type": "stream",
     "text": [
      "/home/mthomas/Documents/MPI_work/projects/meerkat/meerkat_umap_pv/data/interim/parameter_search/grid_search_umap_params/zs_euclidean_pad_0.001_0.1_150_2_specs_no_40_dB_no\n",
      "/home/mthomas/Documents/MPI_work/projects/meerkat/meerkat_umap_pv/data/interim/parameter_search/grid_search_umap_params/zs_euclidean_pad_0.001_0.1_150_2_specs_no_40_dB_no\n"
     ]
    },
    {
     "name": "stderr",
     "output_type": "stream",
     "text": [
      "/home/mthomas/anaconda3/envs/meerkat_umap_env_3/lib/python3.7/site-packages/umap/umap_.py:1330: RuntimeWarning: divide by zero encountered in power\n",
      "  return 1.0 / (1.0 + a * x ** (2 * b))\n",
      "/home/mthomas/anaconda3/envs/meerkat_umap_env_3/lib/python3.7/site-packages/scipy/optimize/minpack.py:829: OptimizeWarning: Covariance of the parameters could not be estimated\n",
      "  category=OptimizeWarning)\n"
     ]
    },
    {
     "name": "stdout",
     "output_type": "stream",
     "text": [
      "/home/mthomas/Documents/MPI_work/projects/meerkat/meerkat_umap_pv/data/interim/parameter_search/grid_search_umap_params/zs_euclidean_pad_0.001_0.1_150_3_specs_no_40_dB_no\n",
      "/home/mthomas/Documents/MPI_work/projects/meerkat/meerkat_umap_pv/data/interim/parameter_search/grid_search_umap_params/zs_euclidean_pad_0.001_0.1_150_3_specs_no_40_dB_no\n"
     ]
    },
    {
     "name": "stderr",
     "output_type": "stream",
     "text": [
      "/home/mthomas/anaconda3/envs/meerkat_umap_env_3/lib/python3.7/site-packages/umap/umap_.py:1330: RuntimeWarning: divide by zero encountered in power\n",
      "  return 1.0 / (1.0 + a * x ** (2 * b))\n",
      "/home/mthomas/anaconda3/envs/meerkat_umap_env_3/lib/python3.7/site-packages/scipy/optimize/minpack.py:829: OptimizeWarning: Covariance of the parameters could not be estimated\n",
      "  category=OptimizeWarning)\n"
     ]
    },
    {
     "name": "stdout",
     "output_type": "stream",
     "text": [
      "/home/mthomas/Documents/MPI_work/projects/meerkat/meerkat_umap_pv/data/interim/parameter_search/grid_search_umap_params/zs_euclidean_pad_0.001_0.1_150_4_specs_no_40_dB_no\n",
      "/home/mthomas/Documents/MPI_work/projects/meerkat/meerkat_umap_pv/data/interim/parameter_search/grid_search_umap_params/zs_euclidean_pad_0.001_0.1_150_4_specs_no_40_dB_no\n"
     ]
    },
    {
     "name": "stderr",
     "output_type": "stream",
     "text": [
      "/home/mthomas/anaconda3/envs/meerkat_umap_env_3/lib/python3.7/site-packages/umap/umap_.py:1330: RuntimeWarning: divide by zero encountered in power\n",
      "  return 1.0 / (1.0 + a * x ** (2 * b))\n",
      "/home/mthomas/anaconda3/envs/meerkat_umap_env_3/lib/python3.7/site-packages/scipy/optimize/minpack.py:829: OptimizeWarning: Covariance of the parameters could not be estimated\n",
      "  category=OptimizeWarning)\n"
     ]
    },
    {
     "name": "stdout",
     "output_type": "stream",
     "text": [
      "/home/mthomas/Documents/MPI_work/projects/meerkat/meerkat_umap_pv/data/interim/parameter_search/grid_search_umap_params/zs_euclidean_pad_0.001_0.1_150_5_specs_no_40_dB_no\n",
      "/home/mthomas/Documents/MPI_work/projects/meerkat/meerkat_umap_pv/data/interim/parameter_search/grid_search_umap_params/zs_euclidean_pad_0.001_0.1_150_5_specs_no_40_dB_no\n"
     ]
    },
    {
     "name": "stderr",
     "output_type": "stream",
     "text": [
      "/home/mthomas/anaconda3/envs/meerkat_umap_env_3/lib/python3.7/site-packages/umap/umap_.py:1330: RuntimeWarning: divide by zero encountered in power\n",
      "  return 1.0 / (1.0 + a * x ** (2 * b))\n",
      "/home/mthomas/anaconda3/envs/meerkat_umap_env_3/lib/python3.7/site-packages/scipy/optimize/minpack.py:829: OptimizeWarning: Covariance of the parameters could not be estimated\n",
      "  category=OptimizeWarning)\n"
     ]
    },
    {
     "name": "stdout",
     "output_type": "stream",
     "text": [
      "/home/mthomas/Documents/MPI_work/projects/meerkat/meerkat_umap_pv/data/interim/parameter_search/grid_search_umap_params/zs_euclidean_pad_0.001_0.1_150_6_specs_no_40_dB_no\n",
      "/home/mthomas/Documents/MPI_work/projects/meerkat/meerkat_umap_pv/data/interim/parameter_search/grid_search_umap_params/zs_euclidean_pad_0.001_0.1_150_6_specs_no_40_dB_no\n"
     ]
    },
    {
     "name": "stderr",
     "output_type": "stream",
     "text": [
      "/home/mthomas/anaconda3/envs/meerkat_umap_env_3/lib/python3.7/site-packages/umap/umap_.py:1330: RuntimeWarning: divide by zero encountered in power\n",
      "  return 1.0 / (1.0 + a * x ** (2 * b))\n",
      "/home/mthomas/anaconda3/envs/meerkat_umap_env_3/lib/python3.7/site-packages/scipy/optimize/minpack.py:829: OptimizeWarning: Covariance of the parameters could not be estimated\n",
      "  category=OptimizeWarning)\n"
     ]
    },
    {
     "name": "stdout",
     "output_type": "stream",
     "text": [
      "/home/mthomas/Documents/MPI_work/projects/meerkat/meerkat_umap_pv/data/interim/parameter_search/grid_search_umap_params/zs_euclidean_pad_0.001_0.1_150_7_specs_no_40_dB_no\n",
      "/home/mthomas/Documents/MPI_work/projects/meerkat/meerkat_umap_pv/data/interim/parameter_search/grid_search_umap_params/zs_euclidean_pad_0.001_0.1_150_7_specs_no_40_dB_no\n"
     ]
    },
    {
     "name": "stderr",
     "output_type": "stream",
     "text": [
      "/home/mthomas/anaconda3/envs/meerkat_umap_env_3/lib/python3.7/site-packages/umap/umap_.py:1330: RuntimeWarning: divide by zero encountered in power\n",
      "  return 1.0 / (1.0 + a * x ** (2 * b))\n",
      "/home/mthomas/anaconda3/envs/meerkat_umap_env_3/lib/python3.7/site-packages/scipy/optimize/minpack.py:829: OptimizeWarning: Covariance of the parameters could not be estimated\n",
      "  category=OptimizeWarning)\n"
     ]
    },
    {
     "name": "stdout",
     "output_type": "stream",
     "text": [
      "/home/mthomas/Documents/MPI_work/projects/meerkat/meerkat_umap_pv/data/interim/parameter_search/grid_search_umap_params/zs_euclidean_pad_0.001_0.1_150_8_specs_no_40_dB_no\n",
      "/home/mthomas/Documents/MPI_work/projects/meerkat/meerkat_umap_pv/data/interim/parameter_search/grid_search_umap_params/zs_euclidean_pad_0.001_0.1_150_8_specs_no_40_dB_no\n"
     ]
    },
    {
     "name": "stderr",
     "output_type": "stream",
     "text": [
      "/home/mthomas/anaconda3/envs/meerkat_umap_env_3/lib/python3.7/site-packages/umap/umap_.py:1330: RuntimeWarning: divide by zero encountered in power\n",
      "  return 1.0 / (1.0 + a * x ** (2 * b))\n",
      "/home/mthomas/anaconda3/envs/meerkat_umap_env_3/lib/python3.7/site-packages/scipy/optimize/minpack.py:829: OptimizeWarning: Covariance of the parameters could not be estimated\n",
      "  category=OptimizeWarning)\n"
     ]
    },
    {
     "name": "stdout",
     "output_type": "stream",
     "text": [
      "/home/mthomas/Documents/MPI_work/projects/meerkat/meerkat_umap_pv/data/interim/parameter_search/grid_search_umap_params/zs_euclidean_pad_0.001_0.1_150_9_specs_no_40_dB_no\n",
      "/home/mthomas/Documents/MPI_work/projects/meerkat/meerkat_umap_pv/data/interim/parameter_search/grid_search_umap_params/zs_euclidean_pad_0.001_0.1_150_9_specs_no_40_dB_no\n"
     ]
    },
    {
     "name": "stderr",
     "output_type": "stream",
     "text": [
      "/home/mthomas/anaconda3/envs/meerkat_umap_env_3/lib/python3.7/site-packages/umap/umap_.py:1330: RuntimeWarning: divide by zero encountered in power\n",
      "  return 1.0 / (1.0 + a * x ** (2 * b))\n",
      "/home/mthomas/anaconda3/envs/meerkat_umap_env_3/lib/python3.7/site-packages/scipy/optimize/minpack.py:829: OptimizeWarning: Covariance of the parameters could not be estimated\n",
      "  category=OptimizeWarning)\n"
     ]
    },
    {
     "name": "stdout",
     "output_type": "stream",
     "text": [
      "/home/mthomas/Documents/MPI_work/projects/meerkat/meerkat_umap_pv/data/interim/parameter_search/grid_search_umap_params/zs_euclidean_pad_0.001_0.1_150_10_specs_no_40_dB_no\n",
      "/home/mthomas/Documents/MPI_work/projects/meerkat/meerkat_umap_pv/data/interim/parameter_search/grid_search_umap_params/zs_euclidean_pad_0.001_0.1_150_10_specs_no_40_dB_no\n"
     ]
    },
    {
     "name": "stderr",
     "output_type": "stream",
     "text": [
      "/home/mthomas/anaconda3/envs/meerkat_umap_env_3/lib/python3.7/site-packages/umap/umap_.py:1330: RuntimeWarning: divide by zero encountered in power\n",
      "  return 1.0 / (1.0 + a * x ** (2 * b))\n",
      "/home/mthomas/anaconda3/envs/meerkat_umap_env_3/lib/python3.7/site-packages/scipy/optimize/minpack.py:829: OptimizeWarning: Covariance of the parameters could not be estimated\n",
      "  category=OptimizeWarning)\n"
     ]
    },
    {
     "name": "stdout",
     "output_type": "stream",
     "text": [
      "/home/mthomas/Documents/MPI_work/projects/meerkat/meerkat_umap_pv/data/interim/parameter_search/grid_search_umap_params/zs_euclidean_pad_0.01_0.1_150_2_specs_no_40_dB_no\n",
      "/home/mthomas/Documents/MPI_work/projects/meerkat/meerkat_umap_pv/data/interim/parameter_search/grid_search_umap_params/zs_euclidean_pad_0.01_0.1_150_2_specs_no_40_dB_no\n"
     ]
    },
    {
     "name": "stderr",
     "output_type": "stream",
     "text": [
      "/home/mthomas/anaconda3/envs/meerkat_umap_env_3/lib/python3.7/site-packages/umap/umap_.py:1330: RuntimeWarning: divide by zero encountered in power\n",
      "  return 1.0 / (1.0 + a * x ** (2 * b))\n",
      "/home/mthomas/anaconda3/envs/meerkat_umap_env_3/lib/python3.7/site-packages/scipy/optimize/minpack.py:829: OptimizeWarning: Covariance of the parameters could not be estimated\n",
      "  category=OptimizeWarning)\n"
     ]
    },
    {
     "name": "stdout",
     "output_type": "stream",
     "text": [
      "/home/mthomas/Documents/MPI_work/projects/meerkat/meerkat_umap_pv/data/interim/parameter_search/grid_search_umap_params/zs_euclidean_pad_0.01_0.1_150_3_specs_no_40_dB_no\n",
      "/home/mthomas/Documents/MPI_work/projects/meerkat/meerkat_umap_pv/data/interim/parameter_search/grid_search_umap_params/zs_euclidean_pad_0.01_0.1_150_3_specs_no_40_dB_no\n"
     ]
    },
    {
     "name": "stderr",
     "output_type": "stream",
     "text": [
      "/home/mthomas/anaconda3/envs/meerkat_umap_env_3/lib/python3.7/site-packages/umap/umap_.py:1330: RuntimeWarning: divide by zero encountered in power\n",
      "  return 1.0 / (1.0 + a * x ** (2 * b))\n",
      "/home/mthomas/anaconda3/envs/meerkat_umap_env_3/lib/python3.7/site-packages/scipy/optimize/minpack.py:829: OptimizeWarning: Covariance of the parameters could not be estimated\n",
      "  category=OptimizeWarning)\n"
     ]
    },
    {
     "name": "stdout",
     "output_type": "stream",
     "text": [
      "/home/mthomas/Documents/MPI_work/projects/meerkat/meerkat_umap_pv/data/interim/parameter_search/grid_search_umap_params/zs_euclidean_pad_0.01_0.1_150_4_specs_no_40_dB_no\n",
      "/home/mthomas/Documents/MPI_work/projects/meerkat/meerkat_umap_pv/data/interim/parameter_search/grid_search_umap_params/zs_euclidean_pad_0.01_0.1_150_4_specs_no_40_dB_no\n"
     ]
    },
    {
     "name": "stderr",
     "output_type": "stream",
     "text": [
      "/home/mthomas/anaconda3/envs/meerkat_umap_env_3/lib/python3.7/site-packages/umap/umap_.py:1330: RuntimeWarning: divide by zero encountered in power\n",
      "  return 1.0 / (1.0 + a * x ** (2 * b))\n",
      "/home/mthomas/anaconda3/envs/meerkat_umap_env_3/lib/python3.7/site-packages/scipy/optimize/minpack.py:829: OptimizeWarning: Covariance of the parameters could not be estimated\n",
      "  category=OptimizeWarning)\n"
     ]
    },
    {
     "name": "stdout",
     "output_type": "stream",
     "text": [
      "/home/mthomas/Documents/MPI_work/projects/meerkat/meerkat_umap_pv/data/interim/parameter_search/grid_search_umap_params/zs_euclidean_pad_0.01_0.1_150_5_specs_no_40_dB_no\n",
      "/home/mthomas/Documents/MPI_work/projects/meerkat/meerkat_umap_pv/data/interim/parameter_search/grid_search_umap_params/zs_euclidean_pad_0.01_0.1_150_5_specs_no_40_dB_no\n"
     ]
    },
    {
     "name": "stderr",
     "output_type": "stream",
     "text": [
      "/home/mthomas/anaconda3/envs/meerkat_umap_env_3/lib/python3.7/site-packages/umap/umap_.py:1330: RuntimeWarning: divide by zero encountered in power\n",
      "  return 1.0 / (1.0 + a * x ** (2 * b))\n",
      "/home/mthomas/anaconda3/envs/meerkat_umap_env_3/lib/python3.7/site-packages/scipy/optimize/minpack.py:829: OptimizeWarning: Covariance of the parameters could not be estimated\n",
      "  category=OptimizeWarning)\n"
     ]
    },
    {
     "name": "stdout",
     "output_type": "stream",
     "text": [
      "/home/mthomas/Documents/MPI_work/projects/meerkat/meerkat_umap_pv/data/interim/parameter_search/grid_search_umap_params/zs_euclidean_pad_0.01_0.1_150_6_specs_no_40_dB_no\n",
      "/home/mthomas/Documents/MPI_work/projects/meerkat/meerkat_umap_pv/data/interim/parameter_search/grid_search_umap_params/zs_euclidean_pad_0.01_0.1_150_6_specs_no_40_dB_no\n"
     ]
    },
    {
     "name": "stderr",
     "output_type": "stream",
     "text": [
      "/home/mthomas/anaconda3/envs/meerkat_umap_env_3/lib/python3.7/site-packages/umap/umap_.py:1330: RuntimeWarning: divide by zero encountered in power\n",
      "  return 1.0 / (1.0 + a * x ** (2 * b))\n",
      "/home/mthomas/anaconda3/envs/meerkat_umap_env_3/lib/python3.7/site-packages/scipy/optimize/minpack.py:829: OptimizeWarning: Covariance of the parameters could not be estimated\n",
      "  category=OptimizeWarning)\n"
     ]
    },
    {
     "name": "stdout",
     "output_type": "stream",
     "text": [
      "/home/mthomas/Documents/MPI_work/projects/meerkat/meerkat_umap_pv/data/interim/parameter_search/grid_search_umap_params/zs_euclidean_pad_0.01_0.1_150_7_specs_no_40_dB_no\n",
      "/home/mthomas/Documents/MPI_work/projects/meerkat/meerkat_umap_pv/data/interim/parameter_search/grid_search_umap_params/zs_euclidean_pad_0.01_0.1_150_7_specs_no_40_dB_no\n"
     ]
    },
    {
     "name": "stderr",
     "output_type": "stream",
     "text": [
      "/home/mthomas/anaconda3/envs/meerkat_umap_env_3/lib/python3.7/site-packages/umap/umap_.py:1330: RuntimeWarning: divide by zero encountered in power\n",
      "  return 1.0 / (1.0 + a * x ** (2 * b))\n",
      "/home/mthomas/anaconda3/envs/meerkat_umap_env_3/lib/python3.7/site-packages/scipy/optimize/minpack.py:829: OptimizeWarning: Covariance of the parameters could not be estimated\n",
      "  category=OptimizeWarning)\n"
     ]
    },
    {
     "name": "stdout",
     "output_type": "stream",
     "text": [
      "/home/mthomas/Documents/MPI_work/projects/meerkat/meerkat_umap_pv/data/interim/parameter_search/grid_search_umap_params/zs_euclidean_pad_0.01_0.1_150_8_specs_no_40_dB_no\n",
      "/home/mthomas/Documents/MPI_work/projects/meerkat/meerkat_umap_pv/data/interim/parameter_search/grid_search_umap_params/zs_euclidean_pad_0.01_0.1_150_8_specs_no_40_dB_no\n"
     ]
    },
    {
     "name": "stderr",
     "output_type": "stream",
     "text": [
      "/home/mthomas/anaconda3/envs/meerkat_umap_env_3/lib/python3.7/site-packages/umap/umap_.py:1330: RuntimeWarning: divide by zero encountered in power\n",
      "  return 1.0 / (1.0 + a * x ** (2 * b))\n",
      "/home/mthomas/anaconda3/envs/meerkat_umap_env_3/lib/python3.7/site-packages/scipy/optimize/minpack.py:829: OptimizeWarning: Covariance of the parameters could not be estimated\n",
      "  category=OptimizeWarning)\n"
     ]
    },
    {
     "name": "stdout",
     "output_type": "stream",
     "text": [
      "/home/mthomas/Documents/MPI_work/projects/meerkat/meerkat_umap_pv/data/interim/parameter_search/grid_search_umap_params/zs_euclidean_pad_0.01_0.1_150_9_specs_no_40_dB_no\n",
      "/home/mthomas/Documents/MPI_work/projects/meerkat/meerkat_umap_pv/data/interim/parameter_search/grid_search_umap_params/zs_euclidean_pad_0.01_0.1_150_9_specs_no_40_dB_no\n"
     ]
    },
    {
     "name": "stderr",
     "output_type": "stream",
     "text": [
      "/home/mthomas/anaconda3/envs/meerkat_umap_env_3/lib/python3.7/site-packages/umap/umap_.py:1330: RuntimeWarning: divide by zero encountered in power\n",
      "  return 1.0 / (1.0 + a * x ** (2 * b))\n",
      "/home/mthomas/anaconda3/envs/meerkat_umap_env_3/lib/python3.7/site-packages/scipy/optimize/minpack.py:829: OptimizeWarning: Covariance of the parameters could not be estimated\n",
      "  category=OptimizeWarning)\n"
     ]
    },
    {
     "name": "stdout",
     "output_type": "stream",
     "text": [
      "/home/mthomas/Documents/MPI_work/projects/meerkat/meerkat_umap_pv/data/interim/parameter_search/grid_search_umap_params/zs_euclidean_pad_0.01_0.1_150_10_specs_no_40_dB_no\n",
      "/home/mthomas/Documents/MPI_work/projects/meerkat/meerkat_umap_pv/data/interim/parameter_search/grid_search_umap_params/zs_euclidean_pad_0.01_0.1_150_10_specs_no_40_dB_no\n"
     ]
    },
    {
     "name": "stderr",
     "output_type": "stream",
     "text": [
      "/home/mthomas/anaconda3/envs/meerkat_umap_env_3/lib/python3.7/site-packages/umap/umap_.py:1330: RuntimeWarning: divide by zero encountered in power\n",
      "  return 1.0 / (1.0 + a * x ** (2 * b))\n"
     ]
    },
    {
     "name": "stdout",
     "output_type": "stream",
     "text": [
      "/home/mthomas/Documents/MPI_work/projects/meerkat/meerkat_umap_pv/data/interim/parameter_search/grid_search_umap_params/zs_euclidean_pad_0.1_0.1_150_2_specs_no_40_dB_no\n",
      "/home/mthomas/Documents/MPI_work/projects/meerkat/meerkat_umap_pv/data/interim/parameter_search/grid_search_umap_params/zs_euclidean_pad_0.1_0.1_150_2_specs_no_40_dB_no\n"
     ]
    },
    {
     "name": "stderr",
     "output_type": "stream",
     "text": [
      "/home/mthomas/anaconda3/envs/meerkat_umap_env_3/lib/python3.7/site-packages/umap/umap_.py:1330: RuntimeWarning: divide by zero encountered in power\n",
      "  return 1.0 / (1.0 + a * x ** (2 * b))\n"
     ]
    },
    {
     "name": "stdout",
     "output_type": "stream",
     "text": [
      "/home/mthomas/Documents/MPI_work/projects/meerkat/meerkat_umap_pv/data/interim/parameter_search/grid_search_umap_params/zs_euclidean_pad_0.1_0.1_150_3_specs_no_40_dB_no\n",
      "/home/mthomas/Documents/MPI_work/projects/meerkat/meerkat_umap_pv/data/interim/parameter_search/grid_search_umap_params/zs_euclidean_pad_0.1_0.1_150_3_specs_no_40_dB_no\n"
     ]
    },
    {
     "name": "stderr",
     "output_type": "stream",
     "text": [
      "/home/mthomas/anaconda3/envs/meerkat_umap_env_3/lib/python3.7/site-packages/umap/umap_.py:1330: RuntimeWarning: divide by zero encountered in power\n",
      "  return 1.0 / (1.0 + a * x ** (2 * b))\n"
     ]
    },
    {
     "name": "stdout",
     "output_type": "stream",
     "text": [
      "/home/mthomas/Documents/MPI_work/projects/meerkat/meerkat_umap_pv/data/interim/parameter_search/grid_search_umap_params/zs_euclidean_pad_0.1_0.1_150_4_specs_no_40_dB_no\n",
      "/home/mthomas/Documents/MPI_work/projects/meerkat/meerkat_umap_pv/data/interim/parameter_search/grid_search_umap_params/zs_euclidean_pad_0.1_0.1_150_4_specs_no_40_dB_no\n"
     ]
    },
    {
     "name": "stderr",
     "output_type": "stream",
     "text": [
      "/home/mthomas/anaconda3/envs/meerkat_umap_env_3/lib/python3.7/site-packages/umap/umap_.py:1330: RuntimeWarning: divide by zero encountered in power\n",
      "  return 1.0 / (1.0 + a * x ** (2 * b))\n"
     ]
    },
    {
     "name": "stdout",
     "output_type": "stream",
     "text": [
      "/home/mthomas/Documents/MPI_work/projects/meerkat/meerkat_umap_pv/data/interim/parameter_search/grid_search_umap_params/zs_euclidean_pad_0.1_0.1_150_5_specs_no_40_dB_no\n",
      "/home/mthomas/Documents/MPI_work/projects/meerkat/meerkat_umap_pv/data/interim/parameter_search/grid_search_umap_params/zs_euclidean_pad_0.1_0.1_150_5_specs_no_40_dB_no\n"
     ]
    },
    {
     "name": "stderr",
     "output_type": "stream",
     "text": [
      "/home/mthomas/anaconda3/envs/meerkat_umap_env_3/lib/python3.7/site-packages/umap/umap_.py:1330: RuntimeWarning: divide by zero encountered in power\n",
      "  return 1.0 / (1.0 + a * x ** (2 * b))\n"
     ]
    },
    {
     "name": "stdout",
     "output_type": "stream",
     "text": [
      "/home/mthomas/Documents/MPI_work/projects/meerkat/meerkat_umap_pv/data/interim/parameter_search/grid_search_umap_params/zs_euclidean_pad_0.1_0.1_150_6_specs_no_40_dB_no\n",
      "/home/mthomas/Documents/MPI_work/projects/meerkat/meerkat_umap_pv/data/interim/parameter_search/grid_search_umap_params/zs_euclidean_pad_0.1_0.1_150_6_specs_no_40_dB_no\n"
     ]
    },
    {
     "name": "stderr",
     "output_type": "stream",
     "text": [
      "/home/mthomas/anaconda3/envs/meerkat_umap_env_3/lib/python3.7/site-packages/umap/umap_.py:1330: RuntimeWarning: divide by zero encountered in power\n",
      "  return 1.0 / (1.0 + a * x ** (2 * b))\n"
     ]
    },
    {
     "name": "stdout",
     "output_type": "stream",
     "text": [
      "/home/mthomas/Documents/MPI_work/projects/meerkat/meerkat_umap_pv/data/interim/parameter_search/grid_search_umap_params/zs_euclidean_pad_0.1_0.1_150_7_specs_no_40_dB_no\n",
      "/home/mthomas/Documents/MPI_work/projects/meerkat/meerkat_umap_pv/data/interim/parameter_search/grid_search_umap_params/zs_euclidean_pad_0.1_0.1_150_7_specs_no_40_dB_no\n"
     ]
    },
    {
     "name": "stderr",
     "output_type": "stream",
     "text": [
      "/home/mthomas/anaconda3/envs/meerkat_umap_env_3/lib/python3.7/site-packages/umap/umap_.py:1330: RuntimeWarning: divide by zero encountered in power\n",
      "  return 1.0 / (1.0 + a * x ** (2 * b))\n"
     ]
    },
    {
     "name": "stdout",
     "output_type": "stream",
     "text": [
      "/home/mthomas/Documents/MPI_work/projects/meerkat/meerkat_umap_pv/data/interim/parameter_search/grid_search_umap_params/zs_euclidean_pad_0.1_0.1_150_8_specs_no_40_dB_no\n",
      "/home/mthomas/Documents/MPI_work/projects/meerkat/meerkat_umap_pv/data/interim/parameter_search/grid_search_umap_params/zs_euclidean_pad_0.1_0.1_150_8_specs_no_40_dB_no\n"
     ]
    },
    {
     "name": "stderr",
     "output_type": "stream",
     "text": [
      "/home/mthomas/anaconda3/envs/meerkat_umap_env_3/lib/python3.7/site-packages/umap/umap_.py:1330: RuntimeWarning: divide by zero encountered in power\n",
      "  return 1.0 / (1.0 + a * x ** (2 * b))\n"
     ]
    },
    {
     "name": "stdout",
     "output_type": "stream",
     "text": [
      "/home/mthomas/Documents/MPI_work/projects/meerkat/meerkat_umap_pv/data/interim/parameter_search/grid_search_umap_params/zs_euclidean_pad_0.1_0.1_150_9_specs_no_40_dB_no\n",
      "/home/mthomas/Documents/MPI_work/projects/meerkat/meerkat_umap_pv/data/interim/parameter_search/grid_search_umap_params/zs_euclidean_pad_0.1_0.1_150_9_specs_no_40_dB_no\n"
     ]
    },
    {
     "name": "stderr",
     "output_type": "stream",
     "text": [
      "/home/mthomas/anaconda3/envs/meerkat_umap_env_3/lib/python3.7/site-packages/umap/umap_.py:1330: RuntimeWarning: divide by zero encountered in power\n",
      "  return 1.0 / (1.0 + a * x ** (2 * b))\n"
     ]
    },
    {
     "name": "stdout",
     "output_type": "stream",
     "text": [
      "/home/mthomas/Documents/MPI_work/projects/meerkat/meerkat_umap_pv/data/interim/parameter_search/grid_search_umap_params/zs_euclidean_pad_0.1_0.1_150_10_specs_no_40_dB_no\n",
      "/home/mthomas/Documents/MPI_work/projects/meerkat/meerkat_umap_pv/data/interim/parameter_search/grid_search_umap_params/zs_euclidean_pad_0.1_0.1_150_10_specs_no_40_dB_no\n",
      "FAILED:  zs_euclidean_pad_1_0.1_150_2_specs_no_40_dB_no\n",
      "FAILED:  zs_euclidean_pad_1_0.1_150_3_specs_no_40_dB_no\n",
      "FAILED:  zs_euclidean_pad_1_0.1_150_4_specs_no_40_dB_no\n",
      "FAILED:  zs_euclidean_pad_1_0.1_150_5_specs_no_40_dB_no\n"
     ]
    },
    {
     "name": "stderr",
     "output_type": "stream",
     "text": [
      "/home/mthomas/anaconda3/envs/meerkat_umap_env_3/lib/python3.7/site-packages/scipy/optimize/minpack.py:829: OptimizeWarning: Covariance of the parameters could not be estimated\n",
      "  category=OptimizeWarning)\n",
      "/home/mthomas/anaconda3/envs/meerkat_umap_env_3/lib/python3.7/site-packages/scipy/optimize/minpack.py:829: OptimizeWarning: Covariance of the parameters could not be estimated\n",
      "  category=OptimizeWarning)\n",
      "/home/mthomas/anaconda3/envs/meerkat_umap_env_3/lib/python3.7/site-packages/scipy/optimize/minpack.py:829: OptimizeWarning: Covariance of the parameters could not be estimated\n",
      "  category=OptimizeWarning)\n",
      "/home/mthomas/anaconda3/envs/meerkat_umap_env_3/lib/python3.7/site-packages/scipy/optimize/minpack.py:829: OptimizeWarning: Covariance of the parameters could not be estimated\n",
      "  category=OptimizeWarning)\n",
      "/home/mthomas/anaconda3/envs/meerkat_umap_env_3/lib/python3.7/site-packages/scipy/optimize/minpack.py:829: OptimizeWarning: Covariance of the parameters could not be estimated\n",
      "  category=OptimizeWarning)\n"
     ]
    },
    {
     "name": "stdout",
     "output_type": "stream",
     "text": [
      "FAILED:  zs_euclidean_pad_1_0.1_150_6_specs_no_40_dB_no\n",
      "FAILED:  zs_euclidean_pad_1_0.1_150_7_specs_no_40_dB_no\n",
      "FAILED:  zs_euclidean_pad_1_0.1_150_8_specs_no_40_dB_no\n",
      "FAILED:  zs_euclidean_pad_1_0.1_150_9_specs_no_40_dB_no\n",
      "FAILED:  zs_euclidean_pad_1_0.1_150_10_specs_no_40_dB_no\n"
     ]
    },
    {
     "name": "stderr",
     "output_type": "stream",
     "text": [
      "/home/mthomas/anaconda3/envs/meerkat_umap_env_3/lib/python3.7/site-packages/scipy/optimize/minpack.py:829: OptimizeWarning: Covariance of the parameters could not be estimated\n",
      "  category=OptimizeWarning)\n",
      "/home/mthomas/anaconda3/envs/meerkat_umap_env_3/lib/python3.7/site-packages/scipy/optimize/minpack.py:829: OptimizeWarning: Covariance of the parameters could not be estimated\n",
      "  category=OptimizeWarning)\n",
      "/home/mthomas/anaconda3/envs/meerkat_umap_env_3/lib/python3.7/site-packages/scipy/optimize/minpack.py:829: OptimizeWarning: Covariance of the parameters could not be estimated\n",
      "  category=OptimizeWarning)\n",
      "/home/mthomas/anaconda3/envs/meerkat_umap_env_3/lib/python3.7/site-packages/scipy/optimize/minpack.py:829: OptimizeWarning: Covariance of the parameters could not be estimated\n",
      "  category=OptimizeWarning)\n",
      "/home/mthomas/anaconda3/envs/meerkat_umap_env_3/lib/python3.7/site-packages/umap/umap_.py:1330: RuntimeWarning: divide by zero encountered in power\n",
      "  return 1.0 / (1.0 + a * x ** (2 * b))\n",
      "/home/mthomas/anaconda3/envs/meerkat_umap_env_3/lib/python3.7/site-packages/scipy/optimize/minpack.py:829: OptimizeWarning: Covariance of the parameters could not be estimated\n",
      "  category=OptimizeWarning)\n"
     ]
    },
    {
     "name": "stdout",
     "output_type": "stream",
     "text": [
      "/home/mthomas/Documents/MPI_work/projects/meerkat/meerkat_umap_pv/data/interim/parameter_search/grid_search_umap_params/zs_euclidean_pad_0_0.1_200_2_specs_no_40_dB_no\n",
      "/home/mthomas/Documents/MPI_work/projects/meerkat/meerkat_umap_pv/data/interim/parameter_search/grid_search_umap_params/zs_euclidean_pad_0_0.1_200_2_specs_no_40_dB_no\n"
     ]
    },
    {
     "name": "stderr",
     "output_type": "stream",
     "text": [
      "/home/mthomas/anaconda3/envs/meerkat_umap_env_3/lib/python3.7/site-packages/umap/umap_.py:1330: RuntimeWarning: divide by zero encountered in power\n",
      "  return 1.0 / (1.0 + a * x ** (2 * b))\n",
      "/home/mthomas/anaconda3/envs/meerkat_umap_env_3/lib/python3.7/site-packages/scipy/optimize/minpack.py:829: OptimizeWarning: Covariance of the parameters could not be estimated\n",
      "  category=OptimizeWarning)\n"
     ]
    },
    {
     "name": "stdout",
     "output_type": "stream",
     "text": [
      "/home/mthomas/Documents/MPI_work/projects/meerkat/meerkat_umap_pv/data/interim/parameter_search/grid_search_umap_params/zs_euclidean_pad_0_0.1_200_3_specs_no_40_dB_no\n",
      "/home/mthomas/Documents/MPI_work/projects/meerkat/meerkat_umap_pv/data/interim/parameter_search/grid_search_umap_params/zs_euclidean_pad_0_0.1_200_3_specs_no_40_dB_no\n"
     ]
    },
    {
     "name": "stderr",
     "output_type": "stream",
     "text": [
      "/home/mthomas/anaconda3/envs/meerkat_umap_env_3/lib/python3.7/site-packages/umap/umap_.py:1330: RuntimeWarning: divide by zero encountered in power\n",
      "  return 1.0 / (1.0 + a * x ** (2 * b))\n",
      "/home/mthomas/anaconda3/envs/meerkat_umap_env_3/lib/python3.7/site-packages/scipy/optimize/minpack.py:829: OptimizeWarning: Covariance of the parameters could not be estimated\n",
      "  category=OptimizeWarning)\n"
     ]
    },
    {
     "name": "stdout",
     "output_type": "stream",
     "text": [
      "/home/mthomas/Documents/MPI_work/projects/meerkat/meerkat_umap_pv/data/interim/parameter_search/grid_search_umap_params/zs_euclidean_pad_0_0.1_200_4_specs_no_40_dB_no\n",
      "/home/mthomas/Documents/MPI_work/projects/meerkat/meerkat_umap_pv/data/interim/parameter_search/grid_search_umap_params/zs_euclidean_pad_0_0.1_200_4_specs_no_40_dB_no\n"
     ]
    },
    {
     "name": "stderr",
     "output_type": "stream",
     "text": [
      "/home/mthomas/anaconda3/envs/meerkat_umap_env_3/lib/python3.7/site-packages/umap/umap_.py:1330: RuntimeWarning: divide by zero encountered in power\n",
      "  return 1.0 / (1.0 + a * x ** (2 * b))\n",
      "/home/mthomas/anaconda3/envs/meerkat_umap_env_3/lib/python3.7/site-packages/scipy/optimize/minpack.py:829: OptimizeWarning: Covariance of the parameters could not be estimated\n",
      "  category=OptimizeWarning)\n"
     ]
    },
    {
     "name": "stdout",
     "output_type": "stream",
     "text": [
      "/home/mthomas/Documents/MPI_work/projects/meerkat/meerkat_umap_pv/data/interim/parameter_search/grid_search_umap_params/zs_euclidean_pad_0_0.1_200_5_specs_no_40_dB_no\n",
      "/home/mthomas/Documents/MPI_work/projects/meerkat/meerkat_umap_pv/data/interim/parameter_search/grid_search_umap_params/zs_euclidean_pad_0_0.1_200_5_specs_no_40_dB_no\n"
     ]
    },
    {
     "name": "stderr",
     "output_type": "stream",
     "text": [
      "/home/mthomas/anaconda3/envs/meerkat_umap_env_3/lib/python3.7/site-packages/umap/umap_.py:1330: RuntimeWarning: divide by zero encountered in power\n",
      "  return 1.0 / (1.0 + a * x ** (2 * b))\n",
      "/home/mthomas/anaconda3/envs/meerkat_umap_env_3/lib/python3.7/site-packages/scipy/optimize/minpack.py:829: OptimizeWarning: Covariance of the parameters could not be estimated\n",
      "  category=OptimizeWarning)\n"
     ]
    },
    {
     "name": "stdout",
     "output_type": "stream",
     "text": [
      "/home/mthomas/Documents/MPI_work/projects/meerkat/meerkat_umap_pv/data/interim/parameter_search/grid_search_umap_params/zs_euclidean_pad_0_0.1_200_6_specs_no_40_dB_no\n",
      "/home/mthomas/Documents/MPI_work/projects/meerkat/meerkat_umap_pv/data/interim/parameter_search/grid_search_umap_params/zs_euclidean_pad_0_0.1_200_6_specs_no_40_dB_no\n"
     ]
    },
    {
     "name": "stderr",
     "output_type": "stream",
     "text": [
      "/home/mthomas/anaconda3/envs/meerkat_umap_env_3/lib/python3.7/site-packages/umap/umap_.py:1330: RuntimeWarning: divide by zero encountered in power\n",
      "  return 1.0 / (1.0 + a * x ** (2 * b))\n",
      "/home/mthomas/anaconda3/envs/meerkat_umap_env_3/lib/python3.7/site-packages/scipy/optimize/minpack.py:829: OptimizeWarning: Covariance of the parameters could not be estimated\n",
      "  category=OptimizeWarning)\n"
     ]
    },
    {
     "name": "stdout",
     "output_type": "stream",
     "text": [
      "/home/mthomas/Documents/MPI_work/projects/meerkat/meerkat_umap_pv/data/interim/parameter_search/grid_search_umap_params/zs_euclidean_pad_0_0.1_200_7_specs_no_40_dB_no\n",
      "/home/mthomas/Documents/MPI_work/projects/meerkat/meerkat_umap_pv/data/interim/parameter_search/grid_search_umap_params/zs_euclidean_pad_0_0.1_200_7_specs_no_40_dB_no\n"
     ]
    },
    {
     "name": "stderr",
     "output_type": "stream",
     "text": [
      "/home/mthomas/anaconda3/envs/meerkat_umap_env_3/lib/python3.7/site-packages/umap/umap_.py:1330: RuntimeWarning: divide by zero encountered in power\n",
      "  return 1.0 / (1.0 + a * x ** (2 * b))\n",
      "/home/mthomas/anaconda3/envs/meerkat_umap_env_3/lib/python3.7/site-packages/scipy/optimize/minpack.py:829: OptimizeWarning: Covariance of the parameters could not be estimated\n",
      "  category=OptimizeWarning)\n"
     ]
    },
    {
     "name": "stdout",
     "output_type": "stream",
     "text": [
      "/home/mthomas/Documents/MPI_work/projects/meerkat/meerkat_umap_pv/data/interim/parameter_search/grid_search_umap_params/zs_euclidean_pad_0_0.1_200_8_specs_no_40_dB_no\n",
      "/home/mthomas/Documents/MPI_work/projects/meerkat/meerkat_umap_pv/data/interim/parameter_search/grid_search_umap_params/zs_euclidean_pad_0_0.1_200_8_specs_no_40_dB_no\n"
     ]
    },
    {
     "name": "stderr",
     "output_type": "stream",
     "text": [
      "/home/mthomas/anaconda3/envs/meerkat_umap_env_3/lib/python3.7/site-packages/umap/umap_.py:1330: RuntimeWarning: divide by zero encountered in power\n",
      "  return 1.0 / (1.0 + a * x ** (2 * b))\n",
      "/home/mthomas/anaconda3/envs/meerkat_umap_env_3/lib/python3.7/site-packages/scipy/optimize/minpack.py:829: OptimizeWarning: Covariance of the parameters could not be estimated\n",
      "  category=OptimizeWarning)\n"
     ]
    },
    {
     "name": "stdout",
     "output_type": "stream",
     "text": [
      "/home/mthomas/Documents/MPI_work/projects/meerkat/meerkat_umap_pv/data/interim/parameter_search/grid_search_umap_params/zs_euclidean_pad_0_0.1_200_9_specs_no_40_dB_no\n",
      "/home/mthomas/Documents/MPI_work/projects/meerkat/meerkat_umap_pv/data/interim/parameter_search/grid_search_umap_params/zs_euclidean_pad_0_0.1_200_9_specs_no_40_dB_no\n"
     ]
    },
    {
     "name": "stderr",
     "output_type": "stream",
     "text": [
      "/home/mthomas/anaconda3/envs/meerkat_umap_env_3/lib/python3.7/site-packages/umap/umap_.py:1330: RuntimeWarning: divide by zero encountered in power\n",
      "  return 1.0 / (1.0 + a * x ** (2 * b))\n",
      "/home/mthomas/anaconda3/envs/meerkat_umap_env_3/lib/python3.7/site-packages/scipy/optimize/minpack.py:829: OptimizeWarning: Covariance of the parameters could not be estimated\n",
      "  category=OptimizeWarning)\n"
     ]
    },
    {
     "name": "stdout",
     "output_type": "stream",
     "text": [
      "/home/mthomas/Documents/MPI_work/projects/meerkat/meerkat_umap_pv/data/interim/parameter_search/grid_search_umap_params/zs_euclidean_pad_0_0.1_200_10_specs_no_40_dB_no\n",
      "/home/mthomas/Documents/MPI_work/projects/meerkat/meerkat_umap_pv/data/interim/parameter_search/grid_search_umap_params/zs_euclidean_pad_0_0.1_200_10_specs_no_40_dB_no\n"
     ]
    },
    {
     "name": "stderr",
     "output_type": "stream",
     "text": [
      "/home/mthomas/anaconda3/envs/meerkat_umap_env_3/lib/python3.7/site-packages/umap/umap_.py:1330: RuntimeWarning: divide by zero encountered in power\n",
      "  return 1.0 / (1.0 + a * x ** (2 * b))\n",
      "/home/mthomas/anaconda3/envs/meerkat_umap_env_3/lib/python3.7/site-packages/scipy/optimize/minpack.py:829: OptimizeWarning: Covariance of the parameters could not be estimated\n",
      "  category=OptimizeWarning)\n"
     ]
    },
    {
     "name": "stdout",
     "output_type": "stream",
     "text": [
      "/home/mthomas/Documents/MPI_work/projects/meerkat/meerkat_umap_pv/data/interim/parameter_search/grid_search_umap_params/zs_euclidean_pad_0.001_0.1_200_2_specs_no_40_dB_no\n",
      "/home/mthomas/Documents/MPI_work/projects/meerkat/meerkat_umap_pv/data/interim/parameter_search/grid_search_umap_params/zs_euclidean_pad_0.001_0.1_200_2_specs_no_40_dB_no\n"
     ]
    },
    {
     "name": "stderr",
     "output_type": "stream",
     "text": [
      "/home/mthomas/anaconda3/envs/meerkat_umap_env_3/lib/python3.7/site-packages/umap/umap_.py:1330: RuntimeWarning: divide by zero encountered in power\n",
      "  return 1.0 / (1.0 + a * x ** (2 * b))\n",
      "/home/mthomas/anaconda3/envs/meerkat_umap_env_3/lib/python3.7/site-packages/scipy/optimize/minpack.py:829: OptimizeWarning: Covariance of the parameters could not be estimated\n",
      "  category=OptimizeWarning)\n"
     ]
    },
    {
     "name": "stdout",
     "output_type": "stream",
     "text": [
      "/home/mthomas/Documents/MPI_work/projects/meerkat/meerkat_umap_pv/data/interim/parameter_search/grid_search_umap_params/zs_euclidean_pad_0.001_0.1_200_3_specs_no_40_dB_no\n",
      "/home/mthomas/Documents/MPI_work/projects/meerkat/meerkat_umap_pv/data/interim/parameter_search/grid_search_umap_params/zs_euclidean_pad_0.001_0.1_200_3_specs_no_40_dB_no\n"
     ]
    },
    {
     "name": "stderr",
     "output_type": "stream",
     "text": [
      "/home/mthomas/anaconda3/envs/meerkat_umap_env_3/lib/python3.7/site-packages/umap/umap_.py:1330: RuntimeWarning: divide by zero encountered in power\n",
      "  return 1.0 / (1.0 + a * x ** (2 * b))\n",
      "/home/mthomas/anaconda3/envs/meerkat_umap_env_3/lib/python3.7/site-packages/scipy/optimize/minpack.py:829: OptimizeWarning: Covariance of the parameters could not be estimated\n",
      "  category=OptimizeWarning)\n"
     ]
    },
    {
     "name": "stdout",
     "output_type": "stream",
     "text": [
      "/home/mthomas/Documents/MPI_work/projects/meerkat/meerkat_umap_pv/data/interim/parameter_search/grid_search_umap_params/zs_euclidean_pad_0.001_0.1_200_4_specs_no_40_dB_no\n",
      "/home/mthomas/Documents/MPI_work/projects/meerkat/meerkat_umap_pv/data/interim/parameter_search/grid_search_umap_params/zs_euclidean_pad_0.001_0.1_200_4_specs_no_40_dB_no\n"
     ]
    },
    {
     "name": "stderr",
     "output_type": "stream",
     "text": [
      "/home/mthomas/anaconda3/envs/meerkat_umap_env_3/lib/python3.7/site-packages/umap/umap_.py:1330: RuntimeWarning: divide by zero encountered in power\n",
      "  return 1.0 / (1.0 + a * x ** (2 * b))\n",
      "/home/mthomas/anaconda3/envs/meerkat_umap_env_3/lib/python3.7/site-packages/scipy/optimize/minpack.py:829: OptimizeWarning: Covariance of the parameters could not be estimated\n",
      "  category=OptimizeWarning)\n"
     ]
    },
    {
     "name": "stdout",
     "output_type": "stream",
     "text": [
      "/home/mthomas/Documents/MPI_work/projects/meerkat/meerkat_umap_pv/data/interim/parameter_search/grid_search_umap_params/zs_euclidean_pad_0.001_0.1_200_5_specs_no_40_dB_no\n",
      "/home/mthomas/Documents/MPI_work/projects/meerkat/meerkat_umap_pv/data/interim/parameter_search/grid_search_umap_params/zs_euclidean_pad_0.001_0.1_200_5_specs_no_40_dB_no\n"
     ]
    },
    {
     "name": "stderr",
     "output_type": "stream",
     "text": [
      "/home/mthomas/anaconda3/envs/meerkat_umap_env_3/lib/python3.7/site-packages/umap/umap_.py:1330: RuntimeWarning: divide by zero encountered in power\n",
      "  return 1.0 / (1.0 + a * x ** (2 * b))\n",
      "/home/mthomas/anaconda3/envs/meerkat_umap_env_3/lib/python3.7/site-packages/scipy/optimize/minpack.py:829: OptimizeWarning: Covariance of the parameters could not be estimated\n",
      "  category=OptimizeWarning)\n"
     ]
    },
    {
     "name": "stdout",
     "output_type": "stream",
     "text": [
      "/home/mthomas/Documents/MPI_work/projects/meerkat/meerkat_umap_pv/data/interim/parameter_search/grid_search_umap_params/zs_euclidean_pad_0.001_0.1_200_6_specs_no_40_dB_no\n",
      "/home/mthomas/Documents/MPI_work/projects/meerkat/meerkat_umap_pv/data/interim/parameter_search/grid_search_umap_params/zs_euclidean_pad_0.001_0.1_200_6_specs_no_40_dB_no\n"
     ]
    },
    {
     "name": "stderr",
     "output_type": "stream",
     "text": [
      "/home/mthomas/anaconda3/envs/meerkat_umap_env_3/lib/python3.7/site-packages/umap/umap_.py:1330: RuntimeWarning: divide by zero encountered in power\n",
      "  return 1.0 / (1.0 + a * x ** (2 * b))\n",
      "/home/mthomas/anaconda3/envs/meerkat_umap_env_3/lib/python3.7/site-packages/scipy/optimize/minpack.py:829: OptimizeWarning: Covariance of the parameters could not be estimated\n",
      "  category=OptimizeWarning)\n"
     ]
    },
    {
     "name": "stdout",
     "output_type": "stream",
     "text": [
      "/home/mthomas/Documents/MPI_work/projects/meerkat/meerkat_umap_pv/data/interim/parameter_search/grid_search_umap_params/zs_euclidean_pad_0.001_0.1_200_7_specs_no_40_dB_no\n",
      "/home/mthomas/Documents/MPI_work/projects/meerkat/meerkat_umap_pv/data/interim/parameter_search/grid_search_umap_params/zs_euclidean_pad_0.001_0.1_200_7_specs_no_40_dB_no\n"
     ]
    },
    {
     "name": "stderr",
     "output_type": "stream",
     "text": [
      "/home/mthomas/anaconda3/envs/meerkat_umap_env_3/lib/python3.7/site-packages/umap/umap_.py:1330: RuntimeWarning: divide by zero encountered in power\n",
      "  return 1.0 / (1.0 + a * x ** (2 * b))\n",
      "/home/mthomas/anaconda3/envs/meerkat_umap_env_3/lib/python3.7/site-packages/scipy/optimize/minpack.py:829: OptimizeWarning: Covariance of the parameters could not be estimated\n",
      "  category=OptimizeWarning)\n"
     ]
    },
    {
     "name": "stdout",
     "output_type": "stream",
     "text": [
      "/home/mthomas/Documents/MPI_work/projects/meerkat/meerkat_umap_pv/data/interim/parameter_search/grid_search_umap_params/zs_euclidean_pad_0.001_0.1_200_8_specs_no_40_dB_no\n",
      "/home/mthomas/Documents/MPI_work/projects/meerkat/meerkat_umap_pv/data/interim/parameter_search/grid_search_umap_params/zs_euclidean_pad_0.001_0.1_200_8_specs_no_40_dB_no\n"
     ]
    },
    {
     "name": "stderr",
     "output_type": "stream",
     "text": [
      "/home/mthomas/anaconda3/envs/meerkat_umap_env_3/lib/python3.7/site-packages/umap/umap_.py:1330: RuntimeWarning: divide by zero encountered in power\n",
      "  return 1.0 / (1.0 + a * x ** (2 * b))\n",
      "/home/mthomas/anaconda3/envs/meerkat_umap_env_3/lib/python3.7/site-packages/scipy/optimize/minpack.py:829: OptimizeWarning: Covariance of the parameters could not be estimated\n",
      "  category=OptimizeWarning)\n"
     ]
    },
    {
     "name": "stdout",
     "output_type": "stream",
     "text": [
      "/home/mthomas/Documents/MPI_work/projects/meerkat/meerkat_umap_pv/data/interim/parameter_search/grid_search_umap_params/zs_euclidean_pad_0.001_0.1_200_9_specs_no_40_dB_no\n",
      "/home/mthomas/Documents/MPI_work/projects/meerkat/meerkat_umap_pv/data/interim/parameter_search/grid_search_umap_params/zs_euclidean_pad_0.001_0.1_200_9_specs_no_40_dB_no\n"
     ]
    },
    {
     "name": "stderr",
     "output_type": "stream",
     "text": [
      "/home/mthomas/anaconda3/envs/meerkat_umap_env_3/lib/python3.7/site-packages/umap/umap_.py:1330: RuntimeWarning: divide by zero encountered in power\n",
      "  return 1.0 / (1.0 + a * x ** (2 * b))\n",
      "/home/mthomas/anaconda3/envs/meerkat_umap_env_3/lib/python3.7/site-packages/scipy/optimize/minpack.py:829: OptimizeWarning: Covariance of the parameters could not be estimated\n",
      "  category=OptimizeWarning)\n"
     ]
    },
    {
     "name": "stdout",
     "output_type": "stream",
     "text": [
      "/home/mthomas/Documents/MPI_work/projects/meerkat/meerkat_umap_pv/data/interim/parameter_search/grid_search_umap_params/zs_euclidean_pad_0.001_0.1_200_10_specs_no_40_dB_no\n",
      "/home/mthomas/Documents/MPI_work/projects/meerkat/meerkat_umap_pv/data/interim/parameter_search/grid_search_umap_params/zs_euclidean_pad_0.001_0.1_200_10_specs_no_40_dB_no\n"
     ]
    },
    {
     "name": "stderr",
     "output_type": "stream",
     "text": [
      "/home/mthomas/anaconda3/envs/meerkat_umap_env_3/lib/python3.7/site-packages/umap/umap_.py:1330: RuntimeWarning: divide by zero encountered in power\n",
      "  return 1.0 / (1.0 + a * x ** (2 * b))\n",
      "/home/mthomas/anaconda3/envs/meerkat_umap_env_3/lib/python3.7/site-packages/scipy/optimize/minpack.py:829: OptimizeWarning: Covariance of the parameters could not be estimated\n",
      "  category=OptimizeWarning)\n"
     ]
    },
    {
     "name": "stdout",
     "output_type": "stream",
     "text": [
      "/home/mthomas/Documents/MPI_work/projects/meerkat/meerkat_umap_pv/data/interim/parameter_search/grid_search_umap_params/zs_euclidean_pad_0.01_0.1_200_2_specs_no_40_dB_no\n",
      "/home/mthomas/Documents/MPI_work/projects/meerkat/meerkat_umap_pv/data/interim/parameter_search/grid_search_umap_params/zs_euclidean_pad_0.01_0.1_200_2_specs_no_40_dB_no\n"
     ]
    },
    {
     "name": "stderr",
     "output_type": "stream",
     "text": [
      "/home/mthomas/anaconda3/envs/meerkat_umap_env_3/lib/python3.7/site-packages/umap/umap_.py:1330: RuntimeWarning: divide by zero encountered in power\n",
      "  return 1.0 / (1.0 + a * x ** (2 * b))\n",
      "/home/mthomas/anaconda3/envs/meerkat_umap_env_3/lib/python3.7/site-packages/scipy/optimize/minpack.py:829: OptimizeWarning: Covariance of the parameters could not be estimated\n",
      "  category=OptimizeWarning)\n"
     ]
    },
    {
     "name": "stdout",
     "output_type": "stream",
     "text": [
      "/home/mthomas/Documents/MPI_work/projects/meerkat/meerkat_umap_pv/data/interim/parameter_search/grid_search_umap_params/zs_euclidean_pad_0.01_0.1_200_3_specs_no_40_dB_no\n",
      "/home/mthomas/Documents/MPI_work/projects/meerkat/meerkat_umap_pv/data/interim/parameter_search/grid_search_umap_params/zs_euclidean_pad_0.01_0.1_200_3_specs_no_40_dB_no\n"
     ]
    },
    {
     "name": "stderr",
     "output_type": "stream",
     "text": [
      "/home/mthomas/anaconda3/envs/meerkat_umap_env_3/lib/python3.7/site-packages/umap/umap_.py:1330: RuntimeWarning: divide by zero encountered in power\n",
      "  return 1.0 / (1.0 + a * x ** (2 * b))\n",
      "/home/mthomas/anaconda3/envs/meerkat_umap_env_3/lib/python3.7/site-packages/scipy/optimize/minpack.py:829: OptimizeWarning: Covariance of the parameters could not be estimated\n",
      "  category=OptimizeWarning)\n"
     ]
    },
    {
     "name": "stdout",
     "output_type": "stream",
     "text": [
      "/home/mthomas/Documents/MPI_work/projects/meerkat/meerkat_umap_pv/data/interim/parameter_search/grid_search_umap_params/zs_euclidean_pad_0.01_0.1_200_4_specs_no_40_dB_no\n",
      "/home/mthomas/Documents/MPI_work/projects/meerkat/meerkat_umap_pv/data/interim/parameter_search/grid_search_umap_params/zs_euclidean_pad_0.01_0.1_200_4_specs_no_40_dB_no\n"
     ]
    },
    {
     "name": "stderr",
     "output_type": "stream",
     "text": [
      "/home/mthomas/anaconda3/envs/meerkat_umap_env_3/lib/python3.7/site-packages/umap/umap_.py:1330: RuntimeWarning: divide by zero encountered in power\n",
      "  return 1.0 / (1.0 + a * x ** (2 * b))\n",
      "/home/mthomas/anaconda3/envs/meerkat_umap_env_3/lib/python3.7/site-packages/scipy/optimize/minpack.py:829: OptimizeWarning: Covariance of the parameters could not be estimated\n",
      "  category=OptimizeWarning)\n"
     ]
    },
    {
     "name": "stdout",
     "output_type": "stream",
     "text": [
      "/home/mthomas/Documents/MPI_work/projects/meerkat/meerkat_umap_pv/data/interim/parameter_search/grid_search_umap_params/zs_euclidean_pad_0.01_0.1_200_5_specs_no_40_dB_no\n",
      "/home/mthomas/Documents/MPI_work/projects/meerkat/meerkat_umap_pv/data/interim/parameter_search/grid_search_umap_params/zs_euclidean_pad_0.01_0.1_200_5_specs_no_40_dB_no\n"
     ]
    },
    {
     "name": "stderr",
     "output_type": "stream",
     "text": [
      "/home/mthomas/anaconda3/envs/meerkat_umap_env_3/lib/python3.7/site-packages/umap/umap_.py:1330: RuntimeWarning: divide by zero encountered in power\n",
      "  return 1.0 / (1.0 + a * x ** (2 * b))\n",
      "/home/mthomas/anaconda3/envs/meerkat_umap_env_3/lib/python3.7/site-packages/scipy/optimize/minpack.py:829: OptimizeWarning: Covariance of the parameters could not be estimated\n",
      "  category=OptimizeWarning)\n"
     ]
    },
    {
     "name": "stdout",
     "output_type": "stream",
     "text": [
      "/home/mthomas/Documents/MPI_work/projects/meerkat/meerkat_umap_pv/data/interim/parameter_search/grid_search_umap_params/zs_euclidean_pad_0.01_0.1_200_6_specs_no_40_dB_no\n",
      "/home/mthomas/Documents/MPI_work/projects/meerkat/meerkat_umap_pv/data/interim/parameter_search/grid_search_umap_params/zs_euclidean_pad_0.01_0.1_200_6_specs_no_40_dB_no\n"
     ]
    },
    {
     "name": "stderr",
     "output_type": "stream",
     "text": [
      "/home/mthomas/anaconda3/envs/meerkat_umap_env_3/lib/python3.7/site-packages/umap/umap_.py:1330: RuntimeWarning: divide by zero encountered in power\n",
      "  return 1.0 / (1.0 + a * x ** (2 * b))\n",
      "/home/mthomas/anaconda3/envs/meerkat_umap_env_3/lib/python3.7/site-packages/scipy/optimize/minpack.py:829: OptimizeWarning: Covariance of the parameters could not be estimated\n",
      "  category=OptimizeWarning)\n"
     ]
    },
    {
     "name": "stdout",
     "output_type": "stream",
     "text": [
      "/home/mthomas/Documents/MPI_work/projects/meerkat/meerkat_umap_pv/data/interim/parameter_search/grid_search_umap_params/zs_euclidean_pad_0.01_0.1_200_7_specs_no_40_dB_no\n",
      "/home/mthomas/Documents/MPI_work/projects/meerkat/meerkat_umap_pv/data/interim/parameter_search/grid_search_umap_params/zs_euclidean_pad_0.01_0.1_200_7_specs_no_40_dB_no\n"
     ]
    },
    {
     "name": "stderr",
     "output_type": "stream",
     "text": [
      "/home/mthomas/anaconda3/envs/meerkat_umap_env_3/lib/python3.7/site-packages/umap/umap_.py:1330: RuntimeWarning: divide by zero encountered in power\n",
      "  return 1.0 / (1.0 + a * x ** (2 * b))\n",
      "/home/mthomas/anaconda3/envs/meerkat_umap_env_3/lib/python3.7/site-packages/scipy/optimize/minpack.py:829: OptimizeWarning: Covariance of the parameters could not be estimated\n",
      "  category=OptimizeWarning)\n"
     ]
    },
    {
     "name": "stdout",
     "output_type": "stream",
     "text": [
      "/home/mthomas/Documents/MPI_work/projects/meerkat/meerkat_umap_pv/data/interim/parameter_search/grid_search_umap_params/zs_euclidean_pad_0.01_0.1_200_8_specs_no_40_dB_no\n",
      "/home/mthomas/Documents/MPI_work/projects/meerkat/meerkat_umap_pv/data/interim/parameter_search/grid_search_umap_params/zs_euclidean_pad_0.01_0.1_200_8_specs_no_40_dB_no\n"
     ]
    },
    {
     "name": "stderr",
     "output_type": "stream",
     "text": [
      "/home/mthomas/anaconda3/envs/meerkat_umap_env_3/lib/python3.7/site-packages/umap/umap_.py:1330: RuntimeWarning: divide by zero encountered in power\n",
      "  return 1.0 / (1.0 + a * x ** (2 * b))\n",
      "/home/mthomas/anaconda3/envs/meerkat_umap_env_3/lib/python3.7/site-packages/scipy/optimize/minpack.py:829: OptimizeWarning: Covariance of the parameters could not be estimated\n",
      "  category=OptimizeWarning)\n"
     ]
    },
    {
     "name": "stdout",
     "output_type": "stream",
     "text": [
      "/home/mthomas/Documents/MPI_work/projects/meerkat/meerkat_umap_pv/data/interim/parameter_search/grid_search_umap_params/zs_euclidean_pad_0.01_0.1_200_9_specs_no_40_dB_no\n",
      "/home/mthomas/Documents/MPI_work/projects/meerkat/meerkat_umap_pv/data/interim/parameter_search/grid_search_umap_params/zs_euclidean_pad_0.01_0.1_200_9_specs_no_40_dB_no\n"
     ]
    },
    {
     "name": "stderr",
     "output_type": "stream",
     "text": [
      "/home/mthomas/anaconda3/envs/meerkat_umap_env_3/lib/python3.7/site-packages/umap/umap_.py:1330: RuntimeWarning: divide by zero encountered in power\n",
      "  return 1.0 / (1.0 + a * x ** (2 * b))\n",
      "/home/mthomas/anaconda3/envs/meerkat_umap_env_3/lib/python3.7/site-packages/scipy/optimize/minpack.py:829: OptimizeWarning: Covariance of the parameters could not be estimated\n",
      "  category=OptimizeWarning)\n"
     ]
    },
    {
     "name": "stdout",
     "output_type": "stream",
     "text": [
      "/home/mthomas/Documents/MPI_work/projects/meerkat/meerkat_umap_pv/data/interim/parameter_search/grid_search_umap_params/zs_euclidean_pad_0.01_0.1_200_10_specs_no_40_dB_no\n",
      "/home/mthomas/Documents/MPI_work/projects/meerkat/meerkat_umap_pv/data/interim/parameter_search/grid_search_umap_params/zs_euclidean_pad_0.01_0.1_200_10_specs_no_40_dB_no\n"
     ]
    },
    {
     "name": "stderr",
     "output_type": "stream",
     "text": [
      "/home/mthomas/anaconda3/envs/meerkat_umap_env_3/lib/python3.7/site-packages/umap/umap_.py:1330: RuntimeWarning: divide by zero encountered in power\n",
      "  return 1.0 / (1.0 + a * x ** (2 * b))\n"
     ]
    },
    {
     "name": "stdout",
     "output_type": "stream",
     "text": [
      "/home/mthomas/Documents/MPI_work/projects/meerkat/meerkat_umap_pv/data/interim/parameter_search/grid_search_umap_params/zs_euclidean_pad_0.1_0.1_200_2_specs_no_40_dB_no\n",
      "/home/mthomas/Documents/MPI_work/projects/meerkat/meerkat_umap_pv/data/interim/parameter_search/grid_search_umap_params/zs_euclidean_pad_0.1_0.1_200_2_specs_no_40_dB_no\n"
     ]
    },
    {
     "name": "stderr",
     "output_type": "stream",
     "text": [
      "/home/mthomas/anaconda3/envs/meerkat_umap_env_3/lib/python3.7/site-packages/umap/umap_.py:1330: RuntimeWarning: divide by zero encountered in power\n",
      "  return 1.0 / (1.0 + a * x ** (2 * b))\n"
     ]
    },
    {
     "name": "stdout",
     "output_type": "stream",
     "text": [
      "/home/mthomas/Documents/MPI_work/projects/meerkat/meerkat_umap_pv/data/interim/parameter_search/grid_search_umap_params/zs_euclidean_pad_0.1_0.1_200_3_specs_no_40_dB_no\n",
      "/home/mthomas/Documents/MPI_work/projects/meerkat/meerkat_umap_pv/data/interim/parameter_search/grid_search_umap_params/zs_euclidean_pad_0.1_0.1_200_3_specs_no_40_dB_no\n"
     ]
    },
    {
     "name": "stderr",
     "output_type": "stream",
     "text": [
      "/home/mthomas/anaconda3/envs/meerkat_umap_env_3/lib/python3.7/site-packages/umap/umap_.py:1330: RuntimeWarning: divide by zero encountered in power\n",
      "  return 1.0 / (1.0 + a * x ** (2 * b))\n"
     ]
    },
    {
     "name": "stdout",
     "output_type": "stream",
     "text": [
      "/home/mthomas/Documents/MPI_work/projects/meerkat/meerkat_umap_pv/data/interim/parameter_search/grid_search_umap_params/zs_euclidean_pad_0.1_0.1_200_4_specs_no_40_dB_no\n",
      "/home/mthomas/Documents/MPI_work/projects/meerkat/meerkat_umap_pv/data/interim/parameter_search/grid_search_umap_params/zs_euclidean_pad_0.1_0.1_200_4_specs_no_40_dB_no\n"
     ]
    },
    {
     "name": "stderr",
     "output_type": "stream",
     "text": [
      "/home/mthomas/anaconda3/envs/meerkat_umap_env_3/lib/python3.7/site-packages/umap/umap_.py:1330: RuntimeWarning: divide by zero encountered in power\n",
      "  return 1.0 / (1.0 + a * x ** (2 * b))\n"
     ]
    },
    {
     "name": "stdout",
     "output_type": "stream",
     "text": [
      "/home/mthomas/Documents/MPI_work/projects/meerkat/meerkat_umap_pv/data/interim/parameter_search/grid_search_umap_params/zs_euclidean_pad_0.1_0.1_200_5_specs_no_40_dB_no\n",
      "/home/mthomas/Documents/MPI_work/projects/meerkat/meerkat_umap_pv/data/interim/parameter_search/grid_search_umap_params/zs_euclidean_pad_0.1_0.1_200_5_specs_no_40_dB_no\n"
     ]
    },
    {
     "name": "stderr",
     "output_type": "stream",
     "text": [
      "/home/mthomas/anaconda3/envs/meerkat_umap_env_3/lib/python3.7/site-packages/umap/umap_.py:1330: RuntimeWarning: divide by zero encountered in power\n",
      "  return 1.0 / (1.0 + a * x ** (2 * b))\n"
     ]
    },
    {
     "name": "stdout",
     "output_type": "stream",
     "text": [
      "/home/mthomas/Documents/MPI_work/projects/meerkat/meerkat_umap_pv/data/interim/parameter_search/grid_search_umap_params/zs_euclidean_pad_0.1_0.1_200_6_specs_no_40_dB_no\n",
      "/home/mthomas/Documents/MPI_work/projects/meerkat/meerkat_umap_pv/data/interim/parameter_search/grid_search_umap_params/zs_euclidean_pad_0.1_0.1_200_6_specs_no_40_dB_no\n"
     ]
    },
    {
     "name": "stderr",
     "output_type": "stream",
     "text": [
      "/home/mthomas/anaconda3/envs/meerkat_umap_env_3/lib/python3.7/site-packages/umap/umap_.py:1330: RuntimeWarning: divide by zero encountered in power\n",
      "  return 1.0 / (1.0 + a * x ** (2 * b))\n"
     ]
    },
    {
     "name": "stdout",
     "output_type": "stream",
     "text": [
      "/home/mthomas/Documents/MPI_work/projects/meerkat/meerkat_umap_pv/data/interim/parameter_search/grid_search_umap_params/zs_euclidean_pad_0.1_0.1_200_7_specs_no_40_dB_no\n",
      "/home/mthomas/Documents/MPI_work/projects/meerkat/meerkat_umap_pv/data/interim/parameter_search/grid_search_umap_params/zs_euclidean_pad_0.1_0.1_200_7_specs_no_40_dB_no\n"
     ]
    },
    {
     "name": "stderr",
     "output_type": "stream",
     "text": [
      "/home/mthomas/anaconda3/envs/meerkat_umap_env_3/lib/python3.7/site-packages/umap/umap_.py:1330: RuntimeWarning: divide by zero encountered in power\n",
      "  return 1.0 / (1.0 + a * x ** (2 * b))\n"
     ]
    },
    {
     "name": "stdout",
     "output_type": "stream",
     "text": [
      "/home/mthomas/Documents/MPI_work/projects/meerkat/meerkat_umap_pv/data/interim/parameter_search/grid_search_umap_params/zs_euclidean_pad_0.1_0.1_200_8_specs_no_40_dB_no\n",
      "/home/mthomas/Documents/MPI_work/projects/meerkat/meerkat_umap_pv/data/interim/parameter_search/grid_search_umap_params/zs_euclidean_pad_0.1_0.1_200_8_specs_no_40_dB_no\n"
     ]
    },
    {
     "name": "stderr",
     "output_type": "stream",
     "text": [
      "/home/mthomas/anaconda3/envs/meerkat_umap_env_3/lib/python3.7/site-packages/umap/umap_.py:1330: RuntimeWarning: divide by zero encountered in power\n",
      "  return 1.0 / (1.0 + a * x ** (2 * b))\n"
     ]
    },
    {
     "name": "stdout",
     "output_type": "stream",
     "text": [
      "/home/mthomas/Documents/MPI_work/projects/meerkat/meerkat_umap_pv/data/interim/parameter_search/grid_search_umap_params/zs_euclidean_pad_0.1_0.1_200_9_specs_no_40_dB_no\n",
      "/home/mthomas/Documents/MPI_work/projects/meerkat/meerkat_umap_pv/data/interim/parameter_search/grid_search_umap_params/zs_euclidean_pad_0.1_0.1_200_9_specs_no_40_dB_no\n"
     ]
    },
    {
     "name": "stderr",
     "output_type": "stream",
     "text": [
      "/home/mthomas/anaconda3/envs/meerkat_umap_env_3/lib/python3.7/site-packages/umap/umap_.py:1330: RuntimeWarning: divide by zero encountered in power\n",
      "  return 1.0 / (1.0 + a * x ** (2 * b))\n"
     ]
    },
    {
     "name": "stdout",
     "output_type": "stream",
     "text": [
      "/home/mthomas/Documents/MPI_work/projects/meerkat/meerkat_umap_pv/data/interim/parameter_search/grid_search_umap_params/zs_euclidean_pad_0.1_0.1_200_10_specs_no_40_dB_no\n",
      "/home/mthomas/Documents/MPI_work/projects/meerkat/meerkat_umap_pv/data/interim/parameter_search/grid_search_umap_params/zs_euclidean_pad_0.1_0.1_200_10_specs_no_40_dB_no\n",
      "FAILED:  zs_euclidean_pad_1_0.1_200_2_specs_no_40_dB_no\n",
      "FAILED:  zs_euclidean_pad_1_0.1_200_3_specs_no_40_dB_no\n",
      "FAILED:  zs_euclidean_pad_1_0.1_200_4_specs_no_40_dB_no\n",
      "FAILED:  zs_euclidean_pad_1_0.1_200_5_specs_no_40_dB_no\n"
     ]
    },
    {
     "name": "stderr",
     "output_type": "stream",
     "text": [
      "/home/mthomas/anaconda3/envs/meerkat_umap_env_3/lib/python3.7/site-packages/scipy/optimize/minpack.py:829: OptimizeWarning: Covariance of the parameters could not be estimated\n",
      "  category=OptimizeWarning)\n",
      "/home/mthomas/anaconda3/envs/meerkat_umap_env_3/lib/python3.7/site-packages/scipy/optimize/minpack.py:829: OptimizeWarning: Covariance of the parameters could not be estimated\n",
      "  category=OptimizeWarning)\n",
      "/home/mthomas/anaconda3/envs/meerkat_umap_env_3/lib/python3.7/site-packages/scipy/optimize/minpack.py:829: OptimizeWarning: Covariance of the parameters could not be estimated\n",
      "  category=OptimizeWarning)\n",
      "/home/mthomas/anaconda3/envs/meerkat_umap_env_3/lib/python3.7/site-packages/scipy/optimize/minpack.py:829: OptimizeWarning: Covariance of the parameters could not be estimated\n",
      "  category=OptimizeWarning)\n",
      "/home/mthomas/anaconda3/envs/meerkat_umap_env_3/lib/python3.7/site-packages/scipy/optimize/minpack.py:829: OptimizeWarning: Covariance of the parameters could not be estimated\n",
      "  category=OptimizeWarning)\n"
     ]
    },
    {
     "name": "stdout",
     "output_type": "stream",
     "text": [
      "FAILED:  zs_euclidean_pad_1_0.1_200_6_specs_no_40_dB_no\n",
      "FAILED:  zs_euclidean_pad_1_0.1_200_7_specs_no_40_dB_no\n",
      "FAILED:  zs_euclidean_pad_1_0.1_200_8_specs_no_40_dB_no\n",
      "FAILED:  zs_euclidean_pad_1_0.1_200_9_specs_no_40_dB_no\n",
      "FAILED:  zs_euclidean_pad_1_0.1_200_10_specs_no_40_dB_no\n"
     ]
    },
    {
     "name": "stderr",
     "output_type": "stream",
     "text": [
      "/home/mthomas/anaconda3/envs/meerkat_umap_env_3/lib/python3.7/site-packages/scipy/optimize/minpack.py:829: OptimizeWarning: Covariance of the parameters could not be estimated\n",
      "  category=OptimizeWarning)\n",
      "/home/mthomas/anaconda3/envs/meerkat_umap_env_3/lib/python3.7/site-packages/scipy/optimize/minpack.py:829: OptimizeWarning: Covariance of the parameters could not be estimated\n",
      "  category=OptimizeWarning)\n",
      "/home/mthomas/anaconda3/envs/meerkat_umap_env_3/lib/python3.7/site-packages/scipy/optimize/minpack.py:829: OptimizeWarning: Covariance of the parameters could not be estimated\n",
      "  category=OptimizeWarning)\n",
      "/home/mthomas/anaconda3/envs/meerkat_umap_env_3/lib/python3.7/site-packages/scipy/optimize/minpack.py:829: OptimizeWarning: Covariance of the parameters could not be estimated\n",
      "  category=OptimizeWarning)\n"
     ]
    },
    {
     "name": "stdout",
     "output_type": "stream",
     "text": [
      "FAILED:  zs_euclidean_pad_0_0.5_1_2_specs_no_40_dB_no\n",
      "FAILED:  zs_euclidean_pad_0_0.5_1_3_specs_no_40_dB_no\n",
      "FAILED:  zs_euclidean_pad_0_0.5_1_4_specs_no_40_dB_no\n",
      "FAILED:  zs_euclidean_pad_0_0.5_1_5_specs_no_40_dB_no\n",
      "FAILED:  zs_euclidean_pad_0_0.5_1_6_specs_no_40_dB_no\n",
      "FAILED:  zs_euclidean_pad_0_0.5_1_7_specs_no_40_dB_no\n",
      "FAILED:  zs_euclidean_pad_0_0.5_1_8_specs_no_40_dB_no\n",
      "FAILED:  zs_euclidean_pad_0_0.5_1_9_specs_no_40_dB_no\n",
      "FAILED:  zs_euclidean_pad_0_0.5_1_10_specs_no_40_dB_no\n",
      "FAILED:  zs_euclidean_pad_0.001_0.5_1_2_specs_no_40_dB_no\n",
      "FAILED:  zs_euclidean_pad_0.001_0.5_1_3_specs_no_40_dB_no\n",
      "FAILED:  zs_euclidean_pad_0.001_0.5_1_4_specs_no_40_dB_no\n",
      "FAILED:  zs_euclidean_pad_0.001_0.5_1_5_specs_no_40_dB_no\n",
      "FAILED:  zs_euclidean_pad_0.001_0.5_1_6_specs_no_40_dB_no\n",
      "FAILED:  zs_euclidean_pad_0.001_0.5_1_7_specs_no_40_dB_no\n",
      "FAILED:  zs_euclidean_pad_0.001_0.5_1_8_specs_no_40_dB_no\n",
      "FAILED:  zs_euclidean_pad_0.001_0.5_1_9_specs_no_40_dB_no\n",
      "FAILED:  zs_euclidean_pad_0.001_0.5_1_10_specs_no_40_dB_no\n",
      "FAILED:  zs_euclidean_pad_0.01_0.5_1_2_specs_no_40_dB_no\n",
      "FAILED:  zs_euclidean_pad_0.01_0.5_1_3_specs_no_40_dB_no\n",
      "FAILED:  zs_euclidean_pad_0.01_0.5_1_4_specs_no_40_dB_no\n",
      "FAILED:  zs_euclidean_pad_0.01_0.5_1_5_specs_no_40_dB_no\n",
      "FAILED:  zs_euclidean_pad_0.01_0.5_1_6_specs_no_40_dB_no\n",
      "FAILED:  zs_euclidean_pad_0.01_0.5_1_7_specs_no_40_dB_no\n",
      "FAILED:  zs_euclidean_pad_0.01_0.5_1_8_specs_no_40_dB_no\n",
      "FAILED:  zs_euclidean_pad_0.01_0.5_1_9_specs_no_40_dB_no\n",
      "FAILED:  zs_euclidean_pad_0.01_0.5_1_10_specs_no_40_dB_no\n",
      "FAILED:  zs_euclidean_pad_0.1_0.5_1_2_specs_no_40_dB_no\n",
      "FAILED:  zs_euclidean_pad_0.1_0.5_1_3_specs_no_40_dB_no\n",
      "FAILED:  zs_euclidean_pad_0.1_0.5_1_4_specs_no_40_dB_no\n",
      "FAILED:  zs_euclidean_pad_0.1_0.5_1_5_specs_no_40_dB_no\n",
      "FAILED:  zs_euclidean_pad_0.1_0.5_1_6_specs_no_40_dB_no\n",
      "FAILED:  zs_euclidean_pad_0.1_0.5_1_7_specs_no_40_dB_no\n",
      "FAILED:  zs_euclidean_pad_0.1_0.5_1_8_specs_no_40_dB_no\n",
      "FAILED:  zs_euclidean_pad_0.1_0.5_1_9_specs_no_40_dB_no\n",
      "FAILED:  zs_euclidean_pad_0.1_0.5_1_10_specs_no_40_dB_no\n",
      "FAILED:  zs_euclidean_pad_1_0.5_1_2_specs_no_40_dB_no\n",
      "FAILED:  zs_euclidean_pad_1_0.5_1_3_specs_no_40_dB_no\n",
      "FAILED:  zs_euclidean_pad_1_0.5_1_4_specs_no_40_dB_no\n",
      "FAILED:  zs_euclidean_pad_1_0.5_1_5_specs_no_40_dB_no\n",
      "FAILED:  zs_euclidean_pad_1_0.5_1_6_specs_no_40_dB_no\n",
      "FAILED:  zs_euclidean_pad_1_0.5_1_7_specs_no_40_dB_no\n",
      "FAILED:  zs_euclidean_pad_1_0.5_1_8_specs_no_40_dB_no\n",
      "FAILED:  zs_euclidean_pad_1_0.5_1_9_specs_no_40_dB_no\n",
      "FAILED:  zs_euclidean_pad_1_0.5_1_10_specs_no_40_dB_no\n",
      "/home/mthomas/Documents/MPI_work/projects/meerkat/meerkat_umap_pv/data/interim/parameter_search/grid_search_umap_params/zs_euclidean_pad_0_0.5_5_2_specs_no_40_dB_no\n",
      "/home/mthomas/Documents/MPI_work/projects/meerkat/meerkat_umap_pv/data/interim/parameter_search/grid_search_umap_params/zs_euclidean_pad_0_0.5_5_2_specs_no_40_dB_no\n",
      "/home/mthomas/Documents/MPI_work/projects/meerkat/meerkat_umap_pv/data/interim/parameter_search/grid_search_umap_params/zs_euclidean_pad_0_0.5_5_3_specs_no_40_dB_no\n",
      "/home/mthomas/Documents/MPI_work/projects/meerkat/meerkat_umap_pv/data/interim/parameter_search/grid_search_umap_params/zs_euclidean_pad_0_0.5_5_3_specs_no_40_dB_no\n",
      "/home/mthomas/Documents/MPI_work/projects/meerkat/meerkat_umap_pv/data/interim/parameter_search/grid_search_umap_params/zs_euclidean_pad_0_0.5_5_4_specs_no_40_dB_no\n",
      "/home/mthomas/Documents/MPI_work/projects/meerkat/meerkat_umap_pv/data/interim/parameter_search/grid_search_umap_params/zs_euclidean_pad_0_0.5_5_4_specs_no_40_dB_no\n",
      "/home/mthomas/Documents/MPI_work/projects/meerkat/meerkat_umap_pv/data/interim/parameter_search/grid_search_umap_params/zs_euclidean_pad_0_0.5_5_5_specs_no_40_dB_no\n",
      "/home/mthomas/Documents/MPI_work/projects/meerkat/meerkat_umap_pv/data/interim/parameter_search/grid_search_umap_params/zs_euclidean_pad_0_0.5_5_5_specs_no_40_dB_no\n",
      "/home/mthomas/Documents/MPI_work/projects/meerkat/meerkat_umap_pv/data/interim/parameter_search/grid_search_umap_params/zs_euclidean_pad_0_0.5_5_6_specs_no_40_dB_no\n",
      "/home/mthomas/Documents/MPI_work/projects/meerkat/meerkat_umap_pv/data/interim/parameter_search/grid_search_umap_params/zs_euclidean_pad_0_0.5_5_6_specs_no_40_dB_no\n",
      "/home/mthomas/Documents/MPI_work/projects/meerkat/meerkat_umap_pv/data/interim/parameter_search/grid_search_umap_params/zs_euclidean_pad_0_0.5_5_7_specs_no_40_dB_no\n",
      "/home/mthomas/Documents/MPI_work/projects/meerkat/meerkat_umap_pv/data/interim/parameter_search/grid_search_umap_params/zs_euclidean_pad_0_0.5_5_7_specs_no_40_dB_no\n",
      "/home/mthomas/Documents/MPI_work/projects/meerkat/meerkat_umap_pv/data/interim/parameter_search/grid_search_umap_params/zs_euclidean_pad_0_0.5_5_8_specs_no_40_dB_no\n",
      "/home/mthomas/Documents/MPI_work/projects/meerkat/meerkat_umap_pv/data/interim/parameter_search/grid_search_umap_params/zs_euclidean_pad_0_0.5_5_8_specs_no_40_dB_no\n",
      "/home/mthomas/Documents/MPI_work/projects/meerkat/meerkat_umap_pv/data/interim/parameter_search/grid_search_umap_params/zs_euclidean_pad_0_0.5_5_9_specs_no_40_dB_no\n",
      "/home/mthomas/Documents/MPI_work/projects/meerkat/meerkat_umap_pv/data/interim/parameter_search/grid_search_umap_params/zs_euclidean_pad_0_0.5_5_9_specs_no_40_dB_no\n",
      "/home/mthomas/Documents/MPI_work/projects/meerkat/meerkat_umap_pv/data/interim/parameter_search/grid_search_umap_params/zs_euclidean_pad_0_0.5_5_10_specs_no_40_dB_no\n",
      "/home/mthomas/Documents/MPI_work/projects/meerkat/meerkat_umap_pv/data/interim/parameter_search/grid_search_umap_params/zs_euclidean_pad_0_0.5_5_10_specs_no_40_dB_no\n",
      "/home/mthomas/Documents/MPI_work/projects/meerkat/meerkat_umap_pv/data/interim/parameter_search/grid_search_umap_params/zs_euclidean_pad_0.001_0.5_5_2_specs_no_40_dB_no\n",
      "/home/mthomas/Documents/MPI_work/projects/meerkat/meerkat_umap_pv/data/interim/parameter_search/grid_search_umap_params/zs_euclidean_pad_0.001_0.5_5_2_specs_no_40_dB_no\n",
      "/home/mthomas/Documents/MPI_work/projects/meerkat/meerkat_umap_pv/data/interim/parameter_search/grid_search_umap_params/zs_euclidean_pad_0.001_0.5_5_3_specs_no_40_dB_no\n",
      "/home/mthomas/Documents/MPI_work/projects/meerkat/meerkat_umap_pv/data/interim/parameter_search/grid_search_umap_params/zs_euclidean_pad_0.001_0.5_5_3_specs_no_40_dB_no\n",
      "/home/mthomas/Documents/MPI_work/projects/meerkat/meerkat_umap_pv/data/interim/parameter_search/grid_search_umap_params/zs_euclidean_pad_0.001_0.5_5_4_specs_no_40_dB_no\n",
      "/home/mthomas/Documents/MPI_work/projects/meerkat/meerkat_umap_pv/data/interim/parameter_search/grid_search_umap_params/zs_euclidean_pad_0.001_0.5_5_4_specs_no_40_dB_no\n",
      "/home/mthomas/Documents/MPI_work/projects/meerkat/meerkat_umap_pv/data/interim/parameter_search/grid_search_umap_params/zs_euclidean_pad_0.001_0.5_5_5_specs_no_40_dB_no\n",
      "/home/mthomas/Documents/MPI_work/projects/meerkat/meerkat_umap_pv/data/interim/parameter_search/grid_search_umap_params/zs_euclidean_pad_0.001_0.5_5_5_specs_no_40_dB_no\n",
      "/home/mthomas/Documents/MPI_work/projects/meerkat/meerkat_umap_pv/data/interim/parameter_search/grid_search_umap_params/zs_euclidean_pad_0.001_0.5_5_6_specs_no_40_dB_no\n",
      "/home/mthomas/Documents/MPI_work/projects/meerkat/meerkat_umap_pv/data/interim/parameter_search/grid_search_umap_params/zs_euclidean_pad_0.001_0.5_5_6_specs_no_40_dB_no\n",
      "/home/mthomas/Documents/MPI_work/projects/meerkat/meerkat_umap_pv/data/interim/parameter_search/grid_search_umap_params/zs_euclidean_pad_0.001_0.5_5_7_specs_no_40_dB_no\n",
      "/home/mthomas/Documents/MPI_work/projects/meerkat/meerkat_umap_pv/data/interim/parameter_search/grid_search_umap_params/zs_euclidean_pad_0.001_0.5_5_7_specs_no_40_dB_no\n",
      "/home/mthomas/Documents/MPI_work/projects/meerkat/meerkat_umap_pv/data/interim/parameter_search/grid_search_umap_params/zs_euclidean_pad_0.001_0.5_5_8_specs_no_40_dB_no\n",
      "/home/mthomas/Documents/MPI_work/projects/meerkat/meerkat_umap_pv/data/interim/parameter_search/grid_search_umap_params/zs_euclidean_pad_0.001_0.5_5_8_specs_no_40_dB_no\n",
      "/home/mthomas/Documents/MPI_work/projects/meerkat/meerkat_umap_pv/data/interim/parameter_search/grid_search_umap_params/zs_euclidean_pad_0.001_0.5_5_9_specs_no_40_dB_no\n",
      "/home/mthomas/Documents/MPI_work/projects/meerkat/meerkat_umap_pv/data/interim/parameter_search/grid_search_umap_params/zs_euclidean_pad_0.001_0.5_5_9_specs_no_40_dB_no\n",
      "/home/mthomas/Documents/MPI_work/projects/meerkat/meerkat_umap_pv/data/interim/parameter_search/grid_search_umap_params/zs_euclidean_pad_0.001_0.5_5_10_specs_no_40_dB_no\n",
      "/home/mthomas/Documents/MPI_work/projects/meerkat/meerkat_umap_pv/data/interim/parameter_search/grid_search_umap_params/zs_euclidean_pad_0.001_0.5_5_10_specs_no_40_dB_no\n",
      "/home/mthomas/Documents/MPI_work/projects/meerkat/meerkat_umap_pv/data/interim/parameter_search/grid_search_umap_params/zs_euclidean_pad_0.01_0.5_5_2_specs_no_40_dB_no\n",
      "/home/mthomas/Documents/MPI_work/projects/meerkat/meerkat_umap_pv/data/interim/parameter_search/grid_search_umap_params/zs_euclidean_pad_0.01_0.5_5_2_specs_no_40_dB_no\n",
      "/home/mthomas/Documents/MPI_work/projects/meerkat/meerkat_umap_pv/data/interim/parameter_search/grid_search_umap_params/zs_euclidean_pad_0.01_0.5_5_3_specs_no_40_dB_no\n",
      "/home/mthomas/Documents/MPI_work/projects/meerkat/meerkat_umap_pv/data/interim/parameter_search/grid_search_umap_params/zs_euclidean_pad_0.01_0.5_5_3_specs_no_40_dB_no\n",
      "/home/mthomas/Documents/MPI_work/projects/meerkat/meerkat_umap_pv/data/interim/parameter_search/grid_search_umap_params/zs_euclidean_pad_0.01_0.5_5_4_specs_no_40_dB_no\n",
      "/home/mthomas/Documents/MPI_work/projects/meerkat/meerkat_umap_pv/data/interim/parameter_search/grid_search_umap_params/zs_euclidean_pad_0.01_0.5_5_4_specs_no_40_dB_no\n",
      "/home/mthomas/Documents/MPI_work/projects/meerkat/meerkat_umap_pv/data/interim/parameter_search/grid_search_umap_params/zs_euclidean_pad_0.01_0.5_5_5_specs_no_40_dB_no\n",
      "/home/mthomas/Documents/MPI_work/projects/meerkat/meerkat_umap_pv/data/interim/parameter_search/grid_search_umap_params/zs_euclidean_pad_0.01_0.5_5_5_specs_no_40_dB_no\n",
      "/home/mthomas/Documents/MPI_work/projects/meerkat/meerkat_umap_pv/data/interim/parameter_search/grid_search_umap_params/zs_euclidean_pad_0.01_0.5_5_6_specs_no_40_dB_no\n",
      "/home/mthomas/Documents/MPI_work/projects/meerkat/meerkat_umap_pv/data/interim/parameter_search/grid_search_umap_params/zs_euclidean_pad_0.01_0.5_5_6_specs_no_40_dB_no\n",
      "/home/mthomas/Documents/MPI_work/projects/meerkat/meerkat_umap_pv/data/interim/parameter_search/grid_search_umap_params/zs_euclidean_pad_0.01_0.5_5_7_specs_no_40_dB_no\n",
      "/home/mthomas/Documents/MPI_work/projects/meerkat/meerkat_umap_pv/data/interim/parameter_search/grid_search_umap_params/zs_euclidean_pad_0.01_0.5_5_7_specs_no_40_dB_no\n",
      "/home/mthomas/Documents/MPI_work/projects/meerkat/meerkat_umap_pv/data/interim/parameter_search/grid_search_umap_params/zs_euclidean_pad_0.01_0.5_5_8_specs_no_40_dB_no\n",
      "/home/mthomas/Documents/MPI_work/projects/meerkat/meerkat_umap_pv/data/interim/parameter_search/grid_search_umap_params/zs_euclidean_pad_0.01_0.5_5_8_specs_no_40_dB_no\n",
      "/home/mthomas/Documents/MPI_work/projects/meerkat/meerkat_umap_pv/data/interim/parameter_search/grid_search_umap_params/zs_euclidean_pad_0.01_0.5_5_9_specs_no_40_dB_no\n",
      "/home/mthomas/Documents/MPI_work/projects/meerkat/meerkat_umap_pv/data/interim/parameter_search/grid_search_umap_params/zs_euclidean_pad_0.01_0.5_5_9_specs_no_40_dB_no\n",
      "/home/mthomas/Documents/MPI_work/projects/meerkat/meerkat_umap_pv/data/interim/parameter_search/grid_search_umap_params/zs_euclidean_pad_0.01_0.5_5_10_specs_no_40_dB_no\n",
      "/home/mthomas/Documents/MPI_work/projects/meerkat/meerkat_umap_pv/data/interim/parameter_search/grid_search_umap_params/zs_euclidean_pad_0.01_0.5_5_10_specs_no_40_dB_no\n",
      "/home/mthomas/Documents/MPI_work/projects/meerkat/meerkat_umap_pv/data/interim/parameter_search/grid_search_umap_params/zs_euclidean_pad_0.1_0.5_5_2_specs_no_40_dB_no\n",
      "/home/mthomas/Documents/MPI_work/projects/meerkat/meerkat_umap_pv/data/interim/parameter_search/grid_search_umap_params/zs_euclidean_pad_0.1_0.5_5_2_specs_no_40_dB_no\n",
      "/home/mthomas/Documents/MPI_work/projects/meerkat/meerkat_umap_pv/data/interim/parameter_search/grid_search_umap_params/zs_euclidean_pad_0.1_0.5_5_3_specs_no_40_dB_no\n",
      "/home/mthomas/Documents/MPI_work/projects/meerkat/meerkat_umap_pv/data/interim/parameter_search/grid_search_umap_params/zs_euclidean_pad_0.1_0.5_5_3_specs_no_40_dB_no\n",
      "/home/mthomas/Documents/MPI_work/projects/meerkat/meerkat_umap_pv/data/interim/parameter_search/grid_search_umap_params/zs_euclidean_pad_0.1_0.5_5_4_specs_no_40_dB_no\n",
      "/home/mthomas/Documents/MPI_work/projects/meerkat/meerkat_umap_pv/data/interim/parameter_search/grid_search_umap_params/zs_euclidean_pad_0.1_0.5_5_4_specs_no_40_dB_no\n",
      "/home/mthomas/Documents/MPI_work/projects/meerkat/meerkat_umap_pv/data/interim/parameter_search/grid_search_umap_params/zs_euclidean_pad_0.1_0.5_5_5_specs_no_40_dB_no\n",
      "/home/mthomas/Documents/MPI_work/projects/meerkat/meerkat_umap_pv/data/interim/parameter_search/grid_search_umap_params/zs_euclidean_pad_0.1_0.5_5_5_specs_no_40_dB_no\n",
      "/home/mthomas/Documents/MPI_work/projects/meerkat/meerkat_umap_pv/data/interim/parameter_search/grid_search_umap_params/zs_euclidean_pad_0.1_0.5_5_6_specs_no_40_dB_no\n",
      "/home/mthomas/Documents/MPI_work/projects/meerkat/meerkat_umap_pv/data/interim/parameter_search/grid_search_umap_params/zs_euclidean_pad_0.1_0.5_5_6_specs_no_40_dB_no\n",
      "/home/mthomas/Documents/MPI_work/projects/meerkat/meerkat_umap_pv/data/interim/parameter_search/grid_search_umap_params/zs_euclidean_pad_0.1_0.5_5_7_specs_no_40_dB_no\n",
      "/home/mthomas/Documents/MPI_work/projects/meerkat/meerkat_umap_pv/data/interim/parameter_search/grid_search_umap_params/zs_euclidean_pad_0.1_0.5_5_7_specs_no_40_dB_no\n",
      "/home/mthomas/Documents/MPI_work/projects/meerkat/meerkat_umap_pv/data/interim/parameter_search/grid_search_umap_params/zs_euclidean_pad_0.1_0.5_5_8_specs_no_40_dB_no\n",
      "/home/mthomas/Documents/MPI_work/projects/meerkat/meerkat_umap_pv/data/interim/parameter_search/grid_search_umap_params/zs_euclidean_pad_0.1_0.5_5_8_specs_no_40_dB_no\n",
      "/home/mthomas/Documents/MPI_work/projects/meerkat/meerkat_umap_pv/data/interim/parameter_search/grid_search_umap_params/zs_euclidean_pad_0.1_0.5_5_9_specs_no_40_dB_no\n",
      "/home/mthomas/Documents/MPI_work/projects/meerkat/meerkat_umap_pv/data/interim/parameter_search/grid_search_umap_params/zs_euclidean_pad_0.1_0.5_5_9_specs_no_40_dB_no\n",
      "/home/mthomas/Documents/MPI_work/projects/meerkat/meerkat_umap_pv/data/interim/parameter_search/grid_search_umap_params/zs_euclidean_pad_0.1_0.5_5_10_specs_no_40_dB_no\n",
      "/home/mthomas/Documents/MPI_work/projects/meerkat/meerkat_umap_pv/data/interim/parameter_search/grid_search_umap_params/zs_euclidean_pad_0.1_0.5_5_10_specs_no_40_dB_no\n",
      "FAILED:  zs_euclidean_pad_1_0.5_5_2_specs_no_40_dB_no\n",
      "FAILED:  zs_euclidean_pad_1_0.5_5_3_specs_no_40_dB_no\n",
      "FAILED:  zs_euclidean_pad_1_0.5_5_4_specs_no_40_dB_no\n",
      "FAILED:  zs_euclidean_pad_1_0.5_5_5_specs_no_40_dB_no\n",
      "FAILED:  zs_euclidean_pad_1_0.5_5_6_specs_no_40_dB_no\n",
      "FAILED:  zs_euclidean_pad_1_0.5_5_7_specs_no_40_dB_no\n",
      "FAILED:  zs_euclidean_pad_1_0.5_5_8_specs_no_40_dB_no\n",
      "FAILED:  zs_euclidean_pad_1_0.5_5_9_specs_no_40_dB_no\n",
      "FAILED:  zs_euclidean_pad_1_0.5_5_10_specs_no_40_dB_no\n",
      "/home/mthomas/Documents/MPI_work/projects/meerkat/meerkat_umap_pv/data/interim/parameter_search/grid_search_umap_params/zs_euclidean_pad_0_0.5_10_2_specs_no_40_dB_no\n",
      "/home/mthomas/Documents/MPI_work/projects/meerkat/meerkat_umap_pv/data/interim/parameter_search/grid_search_umap_params/zs_euclidean_pad_0_0.5_10_2_specs_no_40_dB_no\n",
      "/home/mthomas/Documents/MPI_work/projects/meerkat/meerkat_umap_pv/data/interim/parameter_search/grid_search_umap_params/zs_euclidean_pad_0_0.5_10_3_specs_no_40_dB_no\n",
      "/home/mthomas/Documents/MPI_work/projects/meerkat/meerkat_umap_pv/data/interim/parameter_search/grid_search_umap_params/zs_euclidean_pad_0_0.5_10_3_specs_no_40_dB_no\n",
      "/home/mthomas/Documents/MPI_work/projects/meerkat/meerkat_umap_pv/data/interim/parameter_search/grid_search_umap_params/zs_euclidean_pad_0_0.5_10_4_specs_no_40_dB_no\n",
      "/home/mthomas/Documents/MPI_work/projects/meerkat/meerkat_umap_pv/data/interim/parameter_search/grid_search_umap_params/zs_euclidean_pad_0_0.5_10_4_specs_no_40_dB_no\n",
      "/home/mthomas/Documents/MPI_work/projects/meerkat/meerkat_umap_pv/data/interim/parameter_search/grid_search_umap_params/zs_euclidean_pad_0_0.5_10_5_specs_no_40_dB_no\n",
      "/home/mthomas/Documents/MPI_work/projects/meerkat/meerkat_umap_pv/data/interim/parameter_search/grid_search_umap_params/zs_euclidean_pad_0_0.5_10_5_specs_no_40_dB_no\n",
      "/home/mthomas/Documents/MPI_work/projects/meerkat/meerkat_umap_pv/data/interim/parameter_search/grid_search_umap_params/zs_euclidean_pad_0_0.5_10_6_specs_no_40_dB_no\n",
      "/home/mthomas/Documents/MPI_work/projects/meerkat/meerkat_umap_pv/data/interim/parameter_search/grid_search_umap_params/zs_euclidean_pad_0_0.5_10_6_specs_no_40_dB_no\n",
      "/home/mthomas/Documents/MPI_work/projects/meerkat/meerkat_umap_pv/data/interim/parameter_search/grid_search_umap_params/zs_euclidean_pad_0_0.5_10_7_specs_no_40_dB_no\n",
      "/home/mthomas/Documents/MPI_work/projects/meerkat/meerkat_umap_pv/data/interim/parameter_search/grid_search_umap_params/zs_euclidean_pad_0_0.5_10_7_specs_no_40_dB_no\n",
      "/home/mthomas/Documents/MPI_work/projects/meerkat/meerkat_umap_pv/data/interim/parameter_search/grid_search_umap_params/zs_euclidean_pad_0_0.5_10_8_specs_no_40_dB_no\n",
      "/home/mthomas/Documents/MPI_work/projects/meerkat/meerkat_umap_pv/data/interim/parameter_search/grid_search_umap_params/zs_euclidean_pad_0_0.5_10_8_specs_no_40_dB_no\n",
      "/home/mthomas/Documents/MPI_work/projects/meerkat/meerkat_umap_pv/data/interim/parameter_search/grid_search_umap_params/zs_euclidean_pad_0_0.5_10_9_specs_no_40_dB_no\n",
      "/home/mthomas/Documents/MPI_work/projects/meerkat/meerkat_umap_pv/data/interim/parameter_search/grid_search_umap_params/zs_euclidean_pad_0_0.5_10_9_specs_no_40_dB_no\n",
      "/home/mthomas/Documents/MPI_work/projects/meerkat/meerkat_umap_pv/data/interim/parameter_search/grid_search_umap_params/zs_euclidean_pad_0_0.5_10_10_specs_no_40_dB_no\n",
      "/home/mthomas/Documents/MPI_work/projects/meerkat/meerkat_umap_pv/data/interim/parameter_search/grid_search_umap_params/zs_euclidean_pad_0_0.5_10_10_specs_no_40_dB_no\n",
      "/home/mthomas/Documents/MPI_work/projects/meerkat/meerkat_umap_pv/data/interim/parameter_search/grid_search_umap_params/zs_euclidean_pad_0.001_0.5_10_2_specs_no_40_dB_no\n",
      "/home/mthomas/Documents/MPI_work/projects/meerkat/meerkat_umap_pv/data/interim/parameter_search/grid_search_umap_params/zs_euclidean_pad_0.001_0.5_10_2_specs_no_40_dB_no\n",
      "/home/mthomas/Documents/MPI_work/projects/meerkat/meerkat_umap_pv/data/interim/parameter_search/grid_search_umap_params/zs_euclidean_pad_0.001_0.5_10_3_specs_no_40_dB_no\n",
      "/home/mthomas/Documents/MPI_work/projects/meerkat/meerkat_umap_pv/data/interim/parameter_search/grid_search_umap_params/zs_euclidean_pad_0.001_0.5_10_3_specs_no_40_dB_no\n",
      "/home/mthomas/Documents/MPI_work/projects/meerkat/meerkat_umap_pv/data/interim/parameter_search/grid_search_umap_params/zs_euclidean_pad_0.001_0.5_10_4_specs_no_40_dB_no\n",
      "/home/mthomas/Documents/MPI_work/projects/meerkat/meerkat_umap_pv/data/interim/parameter_search/grid_search_umap_params/zs_euclidean_pad_0.001_0.5_10_4_specs_no_40_dB_no\n",
      "/home/mthomas/Documents/MPI_work/projects/meerkat/meerkat_umap_pv/data/interim/parameter_search/grid_search_umap_params/zs_euclidean_pad_0.001_0.5_10_5_specs_no_40_dB_no\n",
      "/home/mthomas/Documents/MPI_work/projects/meerkat/meerkat_umap_pv/data/interim/parameter_search/grid_search_umap_params/zs_euclidean_pad_0.001_0.5_10_5_specs_no_40_dB_no\n",
      "/home/mthomas/Documents/MPI_work/projects/meerkat/meerkat_umap_pv/data/interim/parameter_search/grid_search_umap_params/zs_euclidean_pad_0.001_0.5_10_6_specs_no_40_dB_no\n",
      "/home/mthomas/Documents/MPI_work/projects/meerkat/meerkat_umap_pv/data/interim/parameter_search/grid_search_umap_params/zs_euclidean_pad_0.001_0.5_10_6_specs_no_40_dB_no\n",
      "/home/mthomas/Documents/MPI_work/projects/meerkat/meerkat_umap_pv/data/interim/parameter_search/grid_search_umap_params/zs_euclidean_pad_0.001_0.5_10_7_specs_no_40_dB_no\n",
      "/home/mthomas/Documents/MPI_work/projects/meerkat/meerkat_umap_pv/data/interim/parameter_search/grid_search_umap_params/zs_euclidean_pad_0.001_0.5_10_7_specs_no_40_dB_no\n",
      "/home/mthomas/Documents/MPI_work/projects/meerkat/meerkat_umap_pv/data/interim/parameter_search/grid_search_umap_params/zs_euclidean_pad_0.001_0.5_10_8_specs_no_40_dB_no\n",
      "/home/mthomas/Documents/MPI_work/projects/meerkat/meerkat_umap_pv/data/interim/parameter_search/grid_search_umap_params/zs_euclidean_pad_0.001_0.5_10_8_specs_no_40_dB_no\n",
      "/home/mthomas/Documents/MPI_work/projects/meerkat/meerkat_umap_pv/data/interim/parameter_search/grid_search_umap_params/zs_euclidean_pad_0.001_0.5_10_9_specs_no_40_dB_no\n",
      "/home/mthomas/Documents/MPI_work/projects/meerkat/meerkat_umap_pv/data/interim/parameter_search/grid_search_umap_params/zs_euclidean_pad_0.001_0.5_10_9_specs_no_40_dB_no\n",
      "/home/mthomas/Documents/MPI_work/projects/meerkat/meerkat_umap_pv/data/interim/parameter_search/grid_search_umap_params/zs_euclidean_pad_0.001_0.5_10_10_specs_no_40_dB_no\n",
      "/home/mthomas/Documents/MPI_work/projects/meerkat/meerkat_umap_pv/data/interim/parameter_search/grid_search_umap_params/zs_euclidean_pad_0.001_0.5_10_10_specs_no_40_dB_no\n",
      "/home/mthomas/Documents/MPI_work/projects/meerkat/meerkat_umap_pv/data/interim/parameter_search/grid_search_umap_params/zs_euclidean_pad_0.01_0.5_10_2_specs_no_40_dB_no\n",
      "/home/mthomas/Documents/MPI_work/projects/meerkat/meerkat_umap_pv/data/interim/parameter_search/grid_search_umap_params/zs_euclidean_pad_0.01_0.5_10_2_specs_no_40_dB_no\n",
      "/home/mthomas/Documents/MPI_work/projects/meerkat/meerkat_umap_pv/data/interim/parameter_search/grid_search_umap_params/zs_euclidean_pad_0.01_0.5_10_3_specs_no_40_dB_no\n",
      "/home/mthomas/Documents/MPI_work/projects/meerkat/meerkat_umap_pv/data/interim/parameter_search/grid_search_umap_params/zs_euclidean_pad_0.01_0.5_10_3_specs_no_40_dB_no\n",
      "/home/mthomas/Documents/MPI_work/projects/meerkat/meerkat_umap_pv/data/interim/parameter_search/grid_search_umap_params/zs_euclidean_pad_0.01_0.5_10_4_specs_no_40_dB_no\n",
      "/home/mthomas/Documents/MPI_work/projects/meerkat/meerkat_umap_pv/data/interim/parameter_search/grid_search_umap_params/zs_euclidean_pad_0.01_0.5_10_4_specs_no_40_dB_no\n",
      "/home/mthomas/Documents/MPI_work/projects/meerkat/meerkat_umap_pv/data/interim/parameter_search/grid_search_umap_params/zs_euclidean_pad_0.01_0.5_10_5_specs_no_40_dB_no\n",
      "/home/mthomas/Documents/MPI_work/projects/meerkat/meerkat_umap_pv/data/interim/parameter_search/grid_search_umap_params/zs_euclidean_pad_0.01_0.5_10_5_specs_no_40_dB_no\n",
      "/home/mthomas/Documents/MPI_work/projects/meerkat/meerkat_umap_pv/data/interim/parameter_search/grid_search_umap_params/zs_euclidean_pad_0.01_0.5_10_6_specs_no_40_dB_no\n",
      "/home/mthomas/Documents/MPI_work/projects/meerkat/meerkat_umap_pv/data/interim/parameter_search/grid_search_umap_params/zs_euclidean_pad_0.01_0.5_10_6_specs_no_40_dB_no\n",
      "/home/mthomas/Documents/MPI_work/projects/meerkat/meerkat_umap_pv/data/interim/parameter_search/grid_search_umap_params/zs_euclidean_pad_0.01_0.5_10_7_specs_no_40_dB_no\n",
      "/home/mthomas/Documents/MPI_work/projects/meerkat/meerkat_umap_pv/data/interim/parameter_search/grid_search_umap_params/zs_euclidean_pad_0.01_0.5_10_7_specs_no_40_dB_no\n",
      "/home/mthomas/Documents/MPI_work/projects/meerkat/meerkat_umap_pv/data/interim/parameter_search/grid_search_umap_params/zs_euclidean_pad_0.01_0.5_10_8_specs_no_40_dB_no\n",
      "/home/mthomas/Documents/MPI_work/projects/meerkat/meerkat_umap_pv/data/interim/parameter_search/grid_search_umap_params/zs_euclidean_pad_0.01_0.5_10_8_specs_no_40_dB_no\n",
      "/home/mthomas/Documents/MPI_work/projects/meerkat/meerkat_umap_pv/data/interim/parameter_search/grid_search_umap_params/zs_euclidean_pad_0.01_0.5_10_9_specs_no_40_dB_no\n",
      "/home/mthomas/Documents/MPI_work/projects/meerkat/meerkat_umap_pv/data/interim/parameter_search/grid_search_umap_params/zs_euclidean_pad_0.01_0.5_10_9_specs_no_40_dB_no\n",
      "/home/mthomas/Documents/MPI_work/projects/meerkat/meerkat_umap_pv/data/interim/parameter_search/grid_search_umap_params/zs_euclidean_pad_0.01_0.5_10_10_specs_no_40_dB_no\n",
      "/home/mthomas/Documents/MPI_work/projects/meerkat/meerkat_umap_pv/data/interim/parameter_search/grid_search_umap_params/zs_euclidean_pad_0.01_0.5_10_10_specs_no_40_dB_no\n",
      "/home/mthomas/Documents/MPI_work/projects/meerkat/meerkat_umap_pv/data/interim/parameter_search/grid_search_umap_params/zs_euclidean_pad_0.1_0.5_10_2_specs_no_40_dB_no\n",
      "/home/mthomas/Documents/MPI_work/projects/meerkat/meerkat_umap_pv/data/interim/parameter_search/grid_search_umap_params/zs_euclidean_pad_0.1_0.5_10_2_specs_no_40_dB_no\n",
      "/home/mthomas/Documents/MPI_work/projects/meerkat/meerkat_umap_pv/data/interim/parameter_search/grid_search_umap_params/zs_euclidean_pad_0.1_0.5_10_3_specs_no_40_dB_no\n",
      "/home/mthomas/Documents/MPI_work/projects/meerkat/meerkat_umap_pv/data/interim/parameter_search/grid_search_umap_params/zs_euclidean_pad_0.1_0.5_10_3_specs_no_40_dB_no\n",
      "/home/mthomas/Documents/MPI_work/projects/meerkat/meerkat_umap_pv/data/interim/parameter_search/grid_search_umap_params/zs_euclidean_pad_0.1_0.5_10_4_specs_no_40_dB_no\n",
      "/home/mthomas/Documents/MPI_work/projects/meerkat/meerkat_umap_pv/data/interim/parameter_search/grid_search_umap_params/zs_euclidean_pad_0.1_0.5_10_4_specs_no_40_dB_no\n",
      "/home/mthomas/Documents/MPI_work/projects/meerkat/meerkat_umap_pv/data/interim/parameter_search/grid_search_umap_params/zs_euclidean_pad_0.1_0.5_10_5_specs_no_40_dB_no\n",
      "/home/mthomas/Documents/MPI_work/projects/meerkat/meerkat_umap_pv/data/interim/parameter_search/grid_search_umap_params/zs_euclidean_pad_0.1_0.5_10_5_specs_no_40_dB_no\n",
      "/home/mthomas/Documents/MPI_work/projects/meerkat/meerkat_umap_pv/data/interim/parameter_search/grid_search_umap_params/zs_euclidean_pad_0.1_0.5_10_6_specs_no_40_dB_no\n",
      "/home/mthomas/Documents/MPI_work/projects/meerkat/meerkat_umap_pv/data/interim/parameter_search/grid_search_umap_params/zs_euclidean_pad_0.1_0.5_10_6_specs_no_40_dB_no\n",
      "/home/mthomas/Documents/MPI_work/projects/meerkat/meerkat_umap_pv/data/interim/parameter_search/grid_search_umap_params/zs_euclidean_pad_0.1_0.5_10_7_specs_no_40_dB_no\n",
      "/home/mthomas/Documents/MPI_work/projects/meerkat/meerkat_umap_pv/data/interim/parameter_search/grid_search_umap_params/zs_euclidean_pad_0.1_0.5_10_7_specs_no_40_dB_no\n",
      "/home/mthomas/Documents/MPI_work/projects/meerkat/meerkat_umap_pv/data/interim/parameter_search/grid_search_umap_params/zs_euclidean_pad_0.1_0.5_10_8_specs_no_40_dB_no\n",
      "/home/mthomas/Documents/MPI_work/projects/meerkat/meerkat_umap_pv/data/interim/parameter_search/grid_search_umap_params/zs_euclidean_pad_0.1_0.5_10_8_specs_no_40_dB_no\n",
      "/home/mthomas/Documents/MPI_work/projects/meerkat/meerkat_umap_pv/data/interim/parameter_search/grid_search_umap_params/zs_euclidean_pad_0.1_0.5_10_9_specs_no_40_dB_no\n",
      "/home/mthomas/Documents/MPI_work/projects/meerkat/meerkat_umap_pv/data/interim/parameter_search/grid_search_umap_params/zs_euclidean_pad_0.1_0.5_10_9_specs_no_40_dB_no\n",
      "/home/mthomas/Documents/MPI_work/projects/meerkat/meerkat_umap_pv/data/interim/parameter_search/grid_search_umap_params/zs_euclidean_pad_0.1_0.5_10_10_specs_no_40_dB_no\n",
      "/home/mthomas/Documents/MPI_work/projects/meerkat/meerkat_umap_pv/data/interim/parameter_search/grid_search_umap_params/zs_euclidean_pad_0.1_0.5_10_10_specs_no_40_dB_no\n",
      "FAILED:  zs_euclidean_pad_1_0.5_10_2_specs_no_40_dB_no\n",
      "FAILED:  zs_euclidean_pad_1_0.5_10_3_specs_no_40_dB_no\n",
      "FAILED:  zs_euclidean_pad_1_0.5_10_4_specs_no_40_dB_no\n",
      "FAILED:  zs_euclidean_pad_1_0.5_10_5_specs_no_40_dB_no\n",
      "FAILED:  zs_euclidean_pad_1_0.5_10_6_specs_no_40_dB_no\n",
      "FAILED:  zs_euclidean_pad_1_0.5_10_7_specs_no_40_dB_no\n",
      "FAILED:  zs_euclidean_pad_1_0.5_10_8_specs_no_40_dB_no\n",
      "FAILED:  zs_euclidean_pad_1_0.5_10_9_specs_no_40_dB_no\n",
      "FAILED:  zs_euclidean_pad_1_0.5_10_10_specs_no_40_dB_no\n",
      "/home/mthomas/Documents/MPI_work/projects/meerkat/meerkat_umap_pv/data/interim/parameter_search/grid_search_umap_params/zs_euclidean_pad_0_0.5_15_2_specs_no_40_dB_no\n",
      "/home/mthomas/Documents/MPI_work/projects/meerkat/meerkat_umap_pv/data/interim/parameter_search/grid_search_umap_params/zs_euclidean_pad_0_0.5_15_2_specs_no_40_dB_no\n",
      "/home/mthomas/Documents/MPI_work/projects/meerkat/meerkat_umap_pv/data/interim/parameter_search/grid_search_umap_params/zs_euclidean_pad_0_0.5_15_3_specs_no_40_dB_no\n",
      "/home/mthomas/Documents/MPI_work/projects/meerkat/meerkat_umap_pv/data/interim/parameter_search/grid_search_umap_params/zs_euclidean_pad_0_0.5_15_3_specs_no_40_dB_no\n",
      "/home/mthomas/Documents/MPI_work/projects/meerkat/meerkat_umap_pv/data/interim/parameter_search/grid_search_umap_params/zs_euclidean_pad_0_0.5_15_4_specs_no_40_dB_no\n",
      "/home/mthomas/Documents/MPI_work/projects/meerkat/meerkat_umap_pv/data/interim/parameter_search/grid_search_umap_params/zs_euclidean_pad_0_0.5_15_4_specs_no_40_dB_no\n",
      "/home/mthomas/Documents/MPI_work/projects/meerkat/meerkat_umap_pv/data/interim/parameter_search/grid_search_umap_params/zs_euclidean_pad_0_0.5_15_5_specs_no_40_dB_no\n",
      "/home/mthomas/Documents/MPI_work/projects/meerkat/meerkat_umap_pv/data/interim/parameter_search/grid_search_umap_params/zs_euclidean_pad_0_0.5_15_5_specs_no_40_dB_no\n",
      "/home/mthomas/Documents/MPI_work/projects/meerkat/meerkat_umap_pv/data/interim/parameter_search/grid_search_umap_params/zs_euclidean_pad_0_0.5_15_6_specs_no_40_dB_no\n",
      "/home/mthomas/Documents/MPI_work/projects/meerkat/meerkat_umap_pv/data/interim/parameter_search/grid_search_umap_params/zs_euclidean_pad_0_0.5_15_6_specs_no_40_dB_no\n",
      "/home/mthomas/Documents/MPI_work/projects/meerkat/meerkat_umap_pv/data/interim/parameter_search/grid_search_umap_params/zs_euclidean_pad_0_0.5_15_7_specs_no_40_dB_no\n",
      "/home/mthomas/Documents/MPI_work/projects/meerkat/meerkat_umap_pv/data/interim/parameter_search/grid_search_umap_params/zs_euclidean_pad_0_0.5_15_7_specs_no_40_dB_no\n",
      "/home/mthomas/Documents/MPI_work/projects/meerkat/meerkat_umap_pv/data/interim/parameter_search/grid_search_umap_params/zs_euclidean_pad_0_0.5_15_8_specs_no_40_dB_no\n",
      "/home/mthomas/Documents/MPI_work/projects/meerkat/meerkat_umap_pv/data/interim/parameter_search/grid_search_umap_params/zs_euclidean_pad_0_0.5_15_8_specs_no_40_dB_no\n",
      "/home/mthomas/Documents/MPI_work/projects/meerkat/meerkat_umap_pv/data/interim/parameter_search/grid_search_umap_params/zs_euclidean_pad_0_0.5_15_9_specs_no_40_dB_no\n",
      "/home/mthomas/Documents/MPI_work/projects/meerkat/meerkat_umap_pv/data/interim/parameter_search/grid_search_umap_params/zs_euclidean_pad_0_0.5_15_9_specs_no_40_dB_no\n",
      "/home/mthomas/Documents/MPI_work/projects/meerkat/meerkat_umap_pv/data/interim/parameter_search/grid_search_umap_params/zs_euclidean_pad_0_0.5_15_10_specs_no_40_dB_no\n",
      "/home/mthomas/Documents/MPI_work/projects/meerkat/meerkat_umap_pv/data/interim/parameter_search/grid_search_umap_params/zs_euclidean_pad_0_0.5_15_10_specs_no_40_dB_no\n",
      "/home/mthomas/Documents/MPI_work/projects/meerkat/meerkat_umap_pv/data/interim/parameter_search/grid_search_umap_params/zs_euclidean_pad_0.001_0.5_15_2_specs_no_40_dB_no\n",
      "/home/mthomas/Documents/MPI_work/projects/meerkat/meerkat_umap_pv/data/interim/parameter_search/grid_search_umap_params/zs_euclidean_pad_0.001_0.5_15_2_specs_no_40_dB_no\n",
      "/home/mthomas/Documents/MPI_work/projects/meerkat/meerkat_umap_pv/data/interim/parameter_search/grid_search_umap_params/zs_euclidean_pad_0.001_0.5_15_3_specs_no_40_dB_no\n",
      "/home/mthomas/Documents/MPI_work/projects/meerkat/meerkat_umap_pv/data/interim/parameter_search/grid_search_umap_params/zs_euclidean_pad_0.001_0.5_15_3_specs_no_40_dB_no\n",
      "/home/mthomas/Documents/MPI_work/projects/meerkat/meerkat_umap_pv/data/interim/parameter_search/grid_search_umap_params/zs_euclidean_pad_0.001_0.5_15_4_specs_no_40_dB_no\n",
      "/home/mthomas/Documents/MPI_work/projects/meerkat/meerkat_umap_pv/data/interim/parameter_search/grid_search_umap_params/zs_euclidean_pad_0.001_0.5_15_4_specs_no_40_dB_no\n",
      "/home/mthomas/Documents/MPI_work/projects/meerkat/meerkat_umap_pv/data/interim/parameter_search/grid_search_umap_params/zs_euclidean_pad_0.001_0.5_15_5_specs_no_40_dB_no\n",
      "/home/mthomas/Documents/MPI_work/projects/meerkat/meerkat_umap_pv/data/interim/parameter_search/grid_search_umap_params/zs_euclidean_pad_0.001_0.5_15_5_specs_no_40_dB_no\n",
      "/home/mthomas/Documents/MPI_work/projects/meerkat/meerkat_umap_pv/data/interim/parameter_search/grid_search_umap_params/zs_euclidean_pad_0.001_0.5_15_6_specs_no_40_dB_no\n",
      "/home/mthomas/Documents/MPI_work/projects/meerkat/meerkat_umap_pv/data/interim/parameter_search/grid_search_umap_params/zs_euclidean_pad_0.001_0.5_15_6_specs_no_40_dB_no\n",
      "/home/mthomas/Documents/MPI_work/projects/meerkat/meerkat_umap_pv/data/interim/parameter_search/grid_search_umap_params/zs_euclidean_pad_0.001_0.5_15_7_specs_no_40_dB_no\n",
      "/home/mthomas/Documents/MPI_work/projects/meerkat/meerkat_umap_pv/data/interim/parameter_search/grid_search_umap_params/zs_euclidean_pad_0.001_0.5_15_7_specs_no_40_dB_no\n",
      "/home/mthomas/Documents/MPI_work/projects/meerkat/meerkat_umap_pv/data/interim/parameter_search/grid_search_umap_params/zs_euclidean_pad_0.001_0.5_15_8_specs_no_40_dB_no\n",
      "/home/mthomas/Documents/MPI_work/projects/meerkat/meerkat_umap_pv/data/interim/parameter_search/grid_search_umap_params/zs_euclidean_pad_0.001_0.5_15_8_specs_no_40_dB_no\n",
      "/home/mthomas/Documents/MPI_work/projects/meerkat/meerkat_umap_pv/data/interim/parameter_search/grid_search_umap_params/zs_euclidean_pad_0.001_0.5_15_9_specs_no_40_dB_no\n",
      "/home/mthomas/Documents/MPI_work/projects/meerkat/meerkat_umap_pv/data/interim/parameter_search/grid_search_umap_params/zs_euclidean_pad_0.001_0.5_15_9_specs_no_40_dB_no\n",
      "/home/mthomas/Documents/MPI_work/projects/meerkat/meerkat_umap_pv/data/interim/parameter_search/grid_search_umap_params/zs_euclidean_pad_0.001_0.5_15_10_specs_no_40_dB_no\n",
      "/home/mthomas/Documents/MPI_work/projects/meerkat/meerkat_umap_pv/data/interim/parameter_search/grid_search_umap_params/zs_euclidean_pad_0.001_0.5_15_10_specs_no_40_dB_no\n",
      "/home/mthomas/Documents/MPI_work/projects/meerkat/meerkat_umap_pv/data/interim/parameter_search/grid_search_umap_params/zs_euclidean_pad_0.01_0.5_15_2_specs_no_40_dB_no\n",
      "/home/mthomas/Documents/MPI_work/projects/meerkat/meerkat_umap_pv/data/interim/parameter_search/grid_search_umap_params/zs_euclidean_pad_0.01_0.5_15_2_specs_no_40_dB_no\n",
      "/home/mthomas/Documents/MPI_work/projects/meerkat/meerkat_umap_pv/data/interim/parameter_search/grid_search_umap_params/zs_euclidean_pad_0.01_0.5_15_3_specs_no_40_dB_no\n",
      "/home/mthomas/Documents/MPI_work/projects/meerkat/meerkat_umap_pv/data/interim/parameter_search/grid_search_umap_params/zs_euclidean_pad_0.01_0.5_15_3_specs_no_40_dB_no\n",
      "/home/mthomas/Documents/MPI_work/projects/meerkat/meerkat_umap_pv/data/interim/parameter_search/grid_search_umap_params/zs_euclidean_pad_0.01_0.5_15_4_specs_no_40_dB_no\n",
      "/home/mthomas/Documents/MPI_work/projects/meerkat/meerkat_umap_pv/data/interim/parameter_search/grid_search_umap_params/zs_euclidean_pad_0.01_0.5_15_4_specs_no_40_dB_no\n",
      "/home/mthomas/Documents/MPI_work/projects/meerkat/meerkat_umap_pv/data/interim/parameter_search/grid_search_umap_params/zs_euclidean_pad_0.01_0.5_15_5_specs_no_40_dB_no\n",
      "/home/mthomas/Documents/MPI_work/projects/meerkat/meerkat_umap_pv/data/interim/parameter_search/grid_search_umap_params/zs_euclidean_pad_0.01_0.5_15_5_specs_no_40_dB_no\n",
      "/home/mthomas/Documents/MPI_work/projects/meerkat/meerkat_umap_pv/data/interim/parameter_search/grid_search_umap_params/zs_euclidean_pad_0.01_0.5_15_6_specs_no_40_dB_no\n",
      "/home/mthomas/Documents/MPI_work/projects/meerkat/meerkat_umap_pv/data/interim/parameter_search/grid_search_umap_params/zs_euclidean_pad_0.01_0.5_15_6_specs_no_40_dB_no\n",
      "/home/mthomas/Documents/MPI_work/projects/meerkat/meerkat_umap_pv/data/interim/parameter_search/grid_search_umap_params/zs_euclidean_pad_0.01_0.5_15_7_specs_no_40_dB_no\n",
      "/home/mthomas/Documents/MPI_work/projects/meerkat/meerkat_umap_pv/data/interim/parameter_search/grid_search_umap_params/zs_euclidean_pad_0.01_0.5_15_7_specs_no_40_dB_no\n",
      "/home/mthomas/Documents/MPI_work/projects/meerkat/meerkat_umap_pv/data/interim/parameter_search/grid_search_umap_params/zs_euclidean_pad_0.01_0.5_15_8_specs_no_40_dB_no\n",
      "/home/mthomas/Documents/MPI_work/projects/meerkat/meerkat_umap_pv/data/interim/parameter_search/grid_search_umap_params/zs_euclidean_pad_0.01_0.5_15_8_specs_no_40_dB_no\n",
      "/home/mthomas/Documents/MPI_work/projects/meerkat/meerkat_umap_pv/data/interim/parameter_search/grid_search_umap_params/zs_euclidean_pad_0.01_0.5_15_9_specs_no_40_dB_no\n",
      "/home/mthomas/Documents/MPI_work/projects/meerkat/meerkat_umap_pv/data/interim/parameter_search/grid_search_umap_params/zs_euclidean_pad_0.01_0.5_15_9_specs_no_40_dB_no\n",
      "/home/mthomas/Documents/MPI_work/projects/meerkat/meerkat_umap_pv/data/interim/parameter_search/grid_search_umap_params/zs_euclidean_pad_0.01_0.5_15_10_specs_no_40_dB_no\n",
      "/home/mthomas/Documents/MPI_work/projects/meerkat/meerkat_umap_pv/data/interim/parameter_search/grid_search_umap_params/zs_euclidean_pad_0.01_0.5_15_10_specs_no_40_dB_no\n",
      "/home/mthomas/Documents/MPI_work/projects/meerkat/meerkat_umap_pv/data/interim/parameter_search/grid_search_umap_params/zs_euclidean_pad_0.1_0.5_15_2_specs_no_40_dB_no\n",
      "/home/mthomas/Documents/MPI_work/projects/meerkat/meerkat_umap_pv/data/interim/parameter_search/grid_search_umap_params/zs_euclidean_pad_0.1_0.5_15_2_specs_no_40_dB_no\n",
      "/home/mthomas/Documents/MPI_work/projects/meerkat/meerkat_umap_pv/data/interim/parameter_search/grid_search_umap_params/zs_euclidean_pad_0.1_0.5_15_3_specs_no_40_dB_no\n",
      "/home/mthomas/Documents/MPI_work/projects/meerkat/meerkat_umap_pv/data/interim/parameter_search/grid_search_umap_params/zs_euclidean_pad_0.1_0.5_15_3_specs_no_40_dB_no\n",
      "/home/mthomas/Documents/MPI_work/projects/meerkat/meerkat_umap_pv/data/interim/parameter_search/grid_search_umap_params/zs_euclidean_pad_0.1_0.5_15_4_specs_no_40_dB_no\n",
      "/home/mthomas/Documents/MPI_work/projects/meerkat/meerkat_umap_pv/data/interim/parameter_search/grid_search_umap_params/zs_euclidean_pad_0.1_0.5_15_4_specs_no_40_dB_no\n",
      "/home/mthomas/Documents/MPI_work/projects/meerkat/meerkat_umap_pv/data/interim/parameter_search/grid_search_umap_params/zs_euclidean_pad_0.1_0.5_15_5_specs_no_40_dB_no\n",
      "/home/mthomas/Documents/MPI_work/projects/meerkat/meerkat_umap_pv/data/interim/parameter_search/grid_search_umap_params/zs_euclidean_pad_0.1_0.5_15_5_specs_no_40_dB_no\n",
      "/home/mthomas/Documents/MPI_work/projects/meerkat/meerkat_umap_pv/data/interim/parameter_search/grid_search_umap_params/zs_euclidean_pad_0.1_0.5_15_6_specs_no_40_dB_no\n",
      "/home/mthomas/Documents/MPI_work/projects/meerkat/meerkat_umap_pv/data/interim/parameter_search/grid_search_umap_params/zs_euclidean_pad_0.1_0.5_15_6_specs_no_40_dB_no\n",
      "/home/mthomas/Documents/MPI_work/projects/meerkat/meerkat_umap_pv/data/interim/parameter_search/grid_search_umap_params/zs_euclidean_pad_0.1_0.5_15_7_specs_no_40_dB_no\n",
      "/home/mthomas/Documents/MPI_work/projects/meerkat/meerkat_umap_pv/data/interim/parameter_search/grid_search_umap_params/zs_euclidean_pad_0.1_0.5_15_7_specs_no_40_dB_no\n",
      "/home/mthomas/Documents/MPI_work/projects/meerkat/meerkat_umap_pv/data/interim/parameter_search/grid_search_umap_params/zs_euclidean_pad_0.1_0.5_15_8_specs_no_40_dB_no\n",
      "/home/mthomas/Documents/MPI_work/projects/meerkat/meerkat_umap_pv/data/interim/parameter_search/grid_search_umap_params/zs_euclidean_pad_0.1_0.5_15_8_specs_no_40_dB_no\n",
      "/home/mthomas/Documents/MPI_work/projects/meerkat/meerkat_umap_pv/data/interim/parameter_search/grid_search_umap_params/zs_euclidean_pad_0.1_0.5_15_9_specs_no_40_dB_no\n",
      "/home/mthomas/Documents/MPI_work/projects/meerkat/meerkat_umap_pv/data/interim/parameter_search/grid_search_umap_params/zs_euclidean_pad_0.1_0.5_15_9_specs_no_40_dB_no\n",
      "/home/mthomas/Documents/MPI_work/projects/meerkat/meerkat_umap_pv/data/interim/parameter_search/grid_search_umap_params/zs_euclidean_pad_0.1_0.5_15_10_specs_no_40_dB_no\n",
      "/home/mthomas/Documents/MPI_work/projects/meerkat/meerkat_umap_pv/data/interim/parameter_search/grid_search_umap_params/zs_euclidean_pad_0.1_0.5_15_10_specs_no_40_dB_no\n",
      "FAILED:  zs_euclidean_pad_1_0.5_15_2_specs_no_40_dB_no\n",
      "FAILED:  zs_euclidean_pad_1_0.5_15_3_specs_no_40_dB_no\n",
      "FAILED:  zs_euclidean_pad_1_0.5_15_4_specs_no_40_dB_no\n",
      "FAILED:  zs_euclidean_pad_1_0.5_15_5_specs_no_40_dB_no\n",
      "FAILED:  zs_euclidean_pad_1_0.5_15_6_specs_no_40_dB_no\n",
      "FAILED:  zs_euclidean_pad_1_0.5_15_7_specs_no_40_dB_no\n",
      "FAILED:  zs_euclidean_pad_1_0.5_15_8_specs_no_40_dB_no\n",
      "FAILED:  zs_euclidean_pad_1_0.5_15_9_specs_no_40_dB_no\n",
      "FAILED:  zs_euclidean_pad_1_0.5_15_10_specs_no_40_dB_no\n",
      "/home/mthomas/Documents/MPI_work/projects/meerkat/meerkat_umap_pv/data/interim/parameter_search/grid_search_umap_params/zs_euclidean_pad_0_0.5_30_2_specs_no_40_dB_no\n",
      "/home/mthomas/Documents/MPI_work/projects/meerkat/meerkat_umap_pv/data/interim/parameter_search/grid_search_umap_params/zs_euclidean_pad_0_0.5_30_2_specs_no_40_dB_no\n",
      "/home/mthomas/Documents/MPI_work/projects/meerkat/meerkat_umap_pv/data/interim/parameter_search/grid_search_umap_params/zs_euclidean_pad_0_0.5_30_3_specs_no_40_dB_no\n",
      "/home/mthomas/Documents/MPI_work/projects/meerkat/meerkat_umap_pv/data/interim/parameter_search/grid_search_umap_params/zs_euclidean_pad_0_0.5_30_3_specs_no_40_dB_no\n",
      "/home/mthomas/Documents/MPI_work/projects/meerkat/meerkat_umap_pv/data/interim/parameter_search/grid_search_umap_params/zs_euclidean_pad_0_0.5_30_4_specs_no_40_dB_no\n",
      "/home/mthomas/Documents/MPI_work/projects/meerkat/meerkat_umap_pv/data/interim/parameter_search/grid_search_umap_params/zs_euclidean_pad_0_0.5_30_4_specs_no_40_dB_no\n",
      "/home/mthomas/Documents/MPI_work/projects/meerkat/meerkat_umap_pv/data/interim/parameter_search/grid_search_umap_params/zs_euclidean_pad_0_0.5_30_5_specs_no_40_dB_no\n",
      "/home/mthomas/Documents/MPI_work/projects/meerkat/meerkat_umap_pv/data/interim/parameter_search/grid_search_umap_params/zs_euclidean_pad_0_0.5_30_5_specs_no_40_dB_no\n",
      "/home/mthomas/Documents/MPI_work/projects/meerkat/meerkat_umap_pv/data/interim/parameter_search/grid_search_umap_params/zs_euclidean_pad_0_0.5_30_6_specs_no_40_dB_no\n",
      "/home/mthomas/Documents/MPI_work/projects/meerkat/meerkat_umap_pv/data/interim/parameter_search/grid_search_umap_params/zs_euclidean_pad_0_0.5_30_6_specs_no_40_dB_no\n",
      "/home/mthomas/Documents/MPI_work/projects/meerkat/meerkat_umap_pv/data/interim/parameter_search/grid_search_umap_params/zs_euclidean_pad_0_0.5_30_7_specs_no_40_dB_no\n",
      "/home/mthomas/Documents/MPI_work/projects/meerkat/meerkat_umap_pv/data/interim/parameter_search/grid_search_umap_params/zs_euclidean_pad_0_0.5_30_7_specs_no_40_dB_no\n",
      "/home/mthomas/Documents/MPI_work/projects/meerkat/meerkat_umap_pv/data/interim/parameter_search/grid_search_umap_params/zs_euclidean_pad_0_0.5_30_8_specs_no_40_dB_no\n",
      "/home/mthomas/Documents/MPI_work/projects/meerkat/meerkat_umap_pv/data/interim/parameter_search/grid_search_umap_params/zs_euclidean_pad_0_0.5_30_8_specs_no_40_dB_no\n",
      "/home/mthomas/Documents/MPI_work/projects/meerkat/meerkat_umap_pv/data/interim/parameter_search/grid_search_umap_params/zs_euclidean_pad_0_0.5_30_9_specs_no_40_dB_no\n",
      "/home/mthomas/Documents/MPI_work/projects/meerkat/meerkat_umap_pv/data/interim/parameter_search/grid_search_umap_params/zs_euclidean_pad_0_0.5_30_9_specs_no_40_dB_no\n",
      "/home/mthomas/Documents/MPI_work/projects/meerkat/meerkat_umap_pv/data/interim/parameter_search/grid_search_umap_params/zs_euclidean_pad_0_0.5_30_10_specs_no_40_dB_no\n",
      "/home/mthomas/Documents/MPI_work/projects/meerkat/meerkat_umap_pv/data/interim/parameter_search/grid_search_umap_params/zs_euclidean_pad_0_0.5_30_10_specs_no_40_dB_no\n",
      "/home/mthomas/Documents/MPI_work/projects/meerkat/meerkat_umap_pv/data/interim/parameter_search/grid_search_umap_params/zs_euclidean_pad_0.001_0.5_30_2_specs_no_40_dB_no\n",
      "/home/mthomas/Documents/MPI_work/projects/meerkat/meerkat_umap_pv/data/interim/parameter_search/grid_search_umap_params/zs_euclidean_pad_0.001_0.5_30_2_specs_no_40_dB_no\n",
      "/home/mthomas/Documents/MPI_work/projects/meerkat/meerkat_umap_pv/data/interim/parameter_search/grid_search_umap_params/zs_euclidean_pad_0.001_0.5_30_3_specs_no_40_dB_no\n",
      "/home/mthomas/Documents/MPI_work/projects/meerkat/meerkat_umap_pv/data/interim/parameter_search/grid_search_umap_params/zs_euclidean_pad_0.001_0.5_30_3_specs_no_40_dB_no\n",
      "/home/mthomas/Documents/MPI_work/projects/meerkat/meerkat_umap_pv/data/interim/parameter_search/grid_search_umap_params/zs_euclidean_pad_0.001_0.5_30_4_specs_no_40_dB_no\n",
      "/home/mthomas/Documents/MPI_work/projects/meerkat/meerkat_umap_pv/data/interim/parameter_search/grid_search_umap_params/zs_euclidean_pad_0.001_0.5_30_4_specs_no_40_dB_no\n",
      "/home/mthomas/Documents/MPI_work/projects/meerkat/meerkat_umap_pv/data/interim/parameter_search/grid_search_umap_params/zs_euclidean_pad_0.001_0.5_30_5_specs_no_40_dB_no\n",
      "/home/mthomas/Documents/MPI_work/projects/meerkat/meerkat_umap_pv/data/interim/parameter_search/grid_search_umap_params/zs_euclidean_pad_0.001_0.5_30_5_specs_no_40_dB_no\n",
      "/home/mthomas/Documents/MPI_work/projects/meerkat/meerkat_umap_pv/data/interim/parameter_search/grid_search_umap_params/zs_euclidean_pad_0.001_0.5_30_6_specs_no_40_dB_no\n",
      "/home/mthomas/Documents/MPI_work/projects/meerkat/meerkat_umap_pv/data/interim/parameter_search/grid_search_umap_params/zs_euclidean_pad_0.001_0.5_30_6_specs_no_40_dB_no\n",
      "/home/mthomas/Documents/MPI_work/projects/meerkat/meerkat_umap_pv/data/interim/parameter_search/grid_search_umap_params/zs_euclidean_pad_0.001_0.5_30_7_specs_no_40_dB_no\n",
      "/home/mthomas/Documents/MPI_work/projects/meerkat/meerkat_umap_pv/data/interim/parameter_search/grid_search_umap_params/zs_euclidean_pad_0.001_0.5_30_7_specs_no_40_dB_no\n",
      "/home/mthomas/Documents/MPI_work/projects/meerkat/meerkat_umap_pv/data/interim/parameter_search/grid_search_umap_params/zs_euclidean_pad_0.001_0.5_30_8_specs_no_40_dB_no\n",
      "/home/mthomas/Documents/MPI_work/projects/meerkat/meerkat_umap_pv/data/interim/parameter_search/grid_search_umap_params/zs_euclidean_pad_0.001_0.5_30_8_specs_no_40_dB_no\n",
      "/home/mthomas/Documents/MPI_work/projects/meerkat/meerkat_umap_pv/data/interim/parameter_search/grid_search_umap_params/zs_euclidean_pad_0.001_0.5_30_9_specs_no_40_dB_no\n",
      "/home/mthomas/Documents/MPI_work/projects/meerkat/meerkat_umap_pv/data/interim/parameter_search/grid_search_umap_params/zs_euclidean_pad_0.001_0.5_30_9_specs_no_40_dB_no\n",
      "/home/mthomas/Documents/MPI_work/projects/meerkat/meerkat_umap_pv/data/interim/parameter_search/grid_search_umap_params/zs_euclidean_pad_0.001_0.5_30_10_specs_no_40_dB_no\n",
      "/home/mthomas/Documents/MPI_work/projects/meerkat/meerkat_umap_pv/data/interim/parameter_search/grid_search_umap_params/zs_euclidean_pad_0.001_0.5_30_10_specs_no_40_dB_no\n",
      "/home/mthomas/Documents/MPI_work/projects/meerkat/meerkat_umap_pv/data/interim/parameter_search/grid_search_umap_params/zs_euclidean_pad_0.01_0.5_30_2_specs_no_40_dB_no\n",
      "/home/mthomas/Documents/MPI_work/projects/meerkat/meerkat_umap_pv/data/interim/parameter_search/grid_search_umap_params/zs_euclidean_pad_0.01_0.5_30_2_specs_no_40_dB_no\n",
      "/home/mthomas/Documents/MPI_work/projects/meerkat/meerkat_umap_pv/data/interim/parameter_search/grid_search_umap_params/zs_euclidean_pad_0.01_0.5_30_3_specs_no_40_dB_no\n",
      "/home/mthomas/Documents/MPI_work/projects/meerkat/meerkat_umap_pv/data/interim/parameter_search/grid_search_umap_params/zs_euclidean_pad_0.01_0.5_30_3_specs_no_40_dB_no\n",
      "/home/mthomas/Documents/MPI_work/projects/meerkat/meerkat_umap_pv/data/interim/parameter_search/grid_search_umap_params/zs_euclidean_pad_0.01_0.5_30_4_specs_no_40_dB_no\n",
      "/home/mthomas/Documents/MPI_work/projects/meerkat/meerkat_umap_pv/data/interim/parameter_search/grid_search_umap_params/zs_euclidean_pad_0.01_0.5_30_4_specs_no_40_dB_no\n",
      "/home/mthomas/Documents/MPI_work/projects/meerkat/meerkat_umap_pv/data/interim/parameter_search/grid_search_umap_params/zs_euclidean_pad_0.01_0.5_30_5_specs_no_40_dB_no\n",
      "/home/mthomas/Documents/MPI_work/projects/meerkat/meerkat_umap_pv/data/interim/parameter_search/grid_search_umap_params/zs_euclidean_pad_0.01_0.5_30_5_specs_no_40_dB_no\n",
      "/home/mthomas/Documents/MPI_work/projects/meerkat/meerkat_umap_pv/data/interim/parameter_search/grid_search_umap_params/zs_euclidean_pad_0.01_0.5_30_6_specs_no_40_dB_no\n",
      "/home/mthomas/Documents/MPI_work/projects/meerkat/meerkat_umap_pv/data/interim/parameter_search/grid_search_umap_params/zs_euclidean_pad_0.01_0.5_30_6_specs_no_40_dB_no\n",
      "/home/mthomas/Documents/MPI_work/projects/meerkat/meerkat_umap_pv/data/interim/parameter_search/grid_search_umap_params/zs_euclidean_pad_0.01_0.5_30_7_specs_no_40_dB_no\n",
      "/home/mthomas/Documents/MPI_work/projects/meerkat/meerkat_umap_pv/data/interim/parameter_search/grid_search_umap_params/zs_euclidean_pad_0.01_0.5_30_7_specs_no_40_dB_no\n",
      "/home/mthomas/Documents/MPI_work/projects/meerkat/meerkat_umap_pv/data/interim/parameter_search/grid_search_umap_params/zs_euclidean_pad_0.01_0.5_30_8_specs_no_40_dB_no\n",
      "/home/mthomas/Documents/MPI_work/projects/meerkat/meerkat_umap_pv/data/interim/parameter_search/grid_search_umap_params/zs_euclidean_pad_0.01_0.5_30_8_specs_no_40_dB_no\n",
      "/home/mthomas/Documents/MPI_work/projects/meerkat/meerkat_umap_pv/data/interim/parameter_search/grid_search_umap_params/zs_euclidean_pad_0.01_0.5_30_9_specs_no_40_dB_no\n",
      "/home/mthomas/Documents/MPI_work/projects/meerkat/meerkat_umap_pv/data/interim/parameter_search/grid_search_umap_params/zs_euclidean_pad_0.01_0.5_30_9_specs_no_40_dB_no\n",
      "/home/mthomas/Documents/MPI_work/projects/meerkat/meerkat_umap_pv/data/interim/parameter_search/grid_search_umap_params/zs_euclidean_pad_0.01_0.5_30_10_specs_no_40_dB_no\n",
      "/home/mthomas/Documents/MPI_work/projects/meerkat/meerkat_umap_pv/data/interim/parameter_search/grid_search_umap_params/zs_euclidean_pad_0.01_0.5_30_10_specs_no_40_dB_no\n",
      "/home/mthomas/Documents/MPI_work/projects/meerkat/meerkat_umap_pv/data/interim/parameter_search/grid_search_umap_params/zs_euclidean_pad_0.1_0.5_30_2_specs_no_40_dB_no\n",
      "/home/mthomas/Documents/MPI_work/projects/meerkat/meerkat_umap_pv/data/interim/parameter_search/grid_search_umap_params/zs_euclidean_pad_0.1_0.5_30_2_specs_no_40_dB_no\n",
      "/home/mthomas/Documents/MPI_work/projects/meerkat/meerkat_umap_pv/data/interim/parameter_search/grid_search_umap_params/zs_euclidean_pad_0.1_0.5_30_3_specs_no_40_dB_no\n",
      "/home/mthomas/Documents/MPI_work/projects/meerkat/meerkat_umap_pv/data/interim/parameter_search/grid_search_umap_params/zs_euclidean_pad_0.1_0.5_30_3_specs_no_40_dB_no\n",
      "/home/mthomas/Documents/MPI_work/projects/meerkat/meerkat_umap_pv/data/interim/parameter_search/grid_search_umap_params/zs_euclidean_pad_0.1_0.5_30_4_specs_no_40_dB_no\n",
      "/home/mthomas/Documents/MPI_work/projects/meerkat/meerkat_umap_pv/data/interim/parameter_search/grid_search_umap_params/zs_euclidean_pad_0.1_0.5_30_4_specs_no_40_dB_no\n",
      "/home/mthomas/Documents/MPI_work/projects/meerkat/meerkat_umap_pv/data/interim/parameter_search/grid_search_umap_params/zs_euclidean_pad_0.1_0.5_30_5_specs_no_40_dB_no\n",
      "/home/mthomas/Documents/MPI_work/projects/meerkat/meerkat_umap_pv/data/interim/parameter_search/grid_search_umap_params/zs_euclidean_pad_0.1_0.5_30_5_specs_no_40_dB_no\n",
      "/home/mthomas/Documents/MPI_work/projects/meerkat/meerkat_umap_pv/data/interim/parameter_search/grid_search_umap_params/zs_euclidean_pad_0.1_0.5_30_6_specs_no_40_dB_no\n",
      "/home/mthomas/Documents/MPI_work/projects/meerkat/meerkat_umap_pv/data/interim/parameter_search/grid_search_umap_params/zs_euclidean_pad_0.1_0.5_30_6_specs_no_40_dB_no\n",
      "/home/mthomas/Documents/MPI_work/projects/meerkat/meerkat_umap_pv/data/interim/parameter_search/grid_search_umap_params/zs_euclidean_pad_0.1_0.5_30_7_specs_no_40_dB_no\n",
      "/home/mthomas/Documents/MPI_work/projects/meerkat/meerkat_umap_pv/data/interim/parameter_search/grid_search_umap_params/zs_euclidean_pad_0.1_0.5_30_7_specs_no_40_dB_no\n",
      "/home/mthomas/Documents/MPI_work/projects/meerkat/meerkat_umap_pv/data/interim/parameter_search/grid_search_umap_params/zs_euclidean_pad_0.1_0.5_30_8_specs_no_40_dB_no\n",
      "/home/mthomas/Documents/MPI_work/projects/meerkat/meerkat_umap_pv/data/interim/parameter_search/grid_search_umap_params/zs_euclidean_pad_0.1_0.5_30_8_specs_no_40_dB_no\n",
      "/home/mthomas/Documents/MPI_work/projects/meerkat/meerkat_umap_pv/data/interim/parameter_search/grid_search_umap_params/zs_euclidean_pad_0.1_0.5_30_9_specs_no_40_dB_no\n",
      "/home/mthomas/Documents/MPI_work/projects/meerkat/meerkat_umap_pv/data/interim/parameter_search/grid_search_umap_params/zs_euclidean_pad_0.1_0.5_30_9_specs_no_40_dB_no\n",
      "/home/mthomas/Documents/MPI_work/projects/meerkat/meerkat_umap_pv/data/interim/parameter_search/grid_search_umap_params/zs_euclidean_pad_0.1_0.5_30_10_specs_no_40_dB_no\n",
      "/home/mthomas/Documents/MPI_work/projects/meerkat/meerkat_umap_pv/data/interim/parameter_search/grid_search_umap_params/zs_euclidean_pad_0.1_0.5_30_10_specs_no_40_dB_no\n",
      "FAILED:  zs_euclidean_pad_1_0.5_30_2_specs_no_40_dB_no\n",
      "FAILED:  zs_euclidean_pad_1_0.5_30_3_specs_no_40_dB_no\n",
      "FAILED:  zs_euclidean_pad_1_0.5_30_4_specs_no_40_dB_no\n",
      "FAILED:  zs_euclidean_pad_1_0.5_30_5_specs_no_40_dB_no\n",
      "FAILED:  zs_euclidean_pad_1_0.5_30_6_specs_no_40_dB_no\n",
      "FAILED:  zs_euclidean_pad_1_0.5_30_7_specs_no_40_dB_no\n",
      "FAILED:  zs_euclidean_pad_1_0.5_30_8_specs_no_40_dB_no\n",
      "FAILED:  zs_euclidean_pad_1_0.5_30_9_specs_no_40_dB_no\n",
      "FAILED:  zs_euclidean_pad_1_0.5_30_10_specs_no_40_dB_no\n",
      "/home/mthomas/Documents/MPI_work/projects/meerkat/meerkat_umap_pv/data/interim/parameter_search/grid_search_umap_params/zs_euclidean_pad_0_0.5_40_2_specs_no_40_dB_no\n",
      "/home/mthomas/Documents/MPI_work/projects/meerkat/meerkat_umap_pv/data/interim/parameter_search/grid_search_umap_params/zs_euclidean_pad_0_0.5_40_2_specs_no_40_dB_no\n",
      "/home/mthomas/Documents/MPI_work/projects/meerkat/meerkat_umap_pv/data/interim/parameter_search/grid_search_umap_params/zs_euclidean_pad_0_0.5_40_3_specs_no_40_dB_no\n",
      "/home/mthomas/Documents/MPI_work/projects/meerkat/meerkat_umap_pv/data/interim/parameter_search/grid_search_umap_params/zs_euclidean_pad_0_0.5_40_3_specs_no_40_dB_no\n",
      "/home/mthomas/Documents/MPI_work/projects/meerkat/meerkat_umap_pv/data/interim/parameter_search/grid_search_umap_params/zs_euclidean_pad_0_0.5_40_4_specs_no_40_dB_no\n",
      "/home/mthomas/Documents/MPI_work/projects/meerkat/meerkat_umap_pv/data/interim/parameter_search/grid_search_umap_params/zs_euclidean_pad_0_0.5_40_4_specs_no_40_dB_no\n",
      "/home/mthomas/Documents/MPI_work/projects/meerkat/meerkat_umap_pv/data/interim/parameter_search/grid_search_umap_params/zs_euclidean_pad_0_0.5_40_5_specs_no_40_dB_no\n",
      "/home/mthomas/Documents/MPI_work/projects/meerkat/meerkat_umap_pv/data/interim/parameter_search/grid_search_umap_params/zs_euclidean_pad_0_0.5_40_5_specs_no_40_dB_no\n",
      "/home/mthomas/Documents/MPI_work/projects/meerkat/meerkat_umap_pv/data/interim/parameter_search/grid_search_umap_params/zs_euclidean_pad_0_0.5_40_6_specs_no_40_dB_no\n",
      "/home/mthomas/Documents/MPI_work/projects/meerkat/meerkat_umap_pv/data/interim/parameter_search/grid_search_umap_params/zs_euclidean_pad_0_0.5_40_6_specs_no_40_dB_no\n",
      "/home/mthomas/Documents/MPI_work/projects/meerkat/meerkat_umap_pv/data/interim/parameter_search/grid_search_umap_params/zs_euclidean_pad_0_0.5_40_7_specs_no_40_dB_no\n",
      "/home/mthomas/Documents/MPI_work/projects/meerkat/meerkat_umap_pv/data/interim/parameter_search/grid_search_umap_params/zs_euclidean_pad_0_0.5_40_7_specs_no_40_dB_no\n",
      "/home/mthomas/Documents/MPI_work/projects/meerkat/meerkat_umap_pv/data/interim/parameter_search/grid_search_umap_params/zs_euclidean_pad_0_0.5_40_8_specs_no_40_dB_no\n",
      "/home/mthomas/Documents/MPI_work/projects/meerkat/meerkat_umap_pv/data/interim/parameter_search/grid_search_umap_params/zs_euclidean_pad_0_0.5_40_8_specs_no_40_dB_no\n",
      "/home/mthomas/Documents/MPI_work/projects/meerkat/meerkat_umap_pv/data/interim/parameter_search/grid_search_umap_params/zs_euclidean_pad_0_0.5_40_9_specs_no_40_dB_no\n",
      "/home/mthomas/Documents/MPI_work/projects/meerkat/meerkat_umap_pv/data/interim/parameter_search/grid_search_umap_params/zs_euclidean_pad_0_0.5_40_9_specs_no_40_dB_no\n",
      "/home/mthomas/Documents/MPI_work/projects/meerkat/meerkat_umap_pv/data/interim/parameter_search/grid_search_umap_params/zs_euclidean_pad_0_0.5_40_10_specs_no_40_dB_no\n",
      "/home/mthomas/Documents/MPI_work/projects/meerkat/meerkat_umap_pv/data/interim/parameter_search/grid_search_umap_params/zs_euclidean_pad_0_0.5_40_10_specs_no_40_dB_no\n",
      "/home/mthomas/Documents/MPI_work/projects/meerkat/meerkat_umap_pv/data/interim/parameter_search/grid_search_umap_params/zs_euclidean_pad_0.001_0.5_40_2_specs_no_40_dB_no\n",
      "/home/mthomas/Documents/MPI_work/projects/meerkat/meerkat_umap_pv/data/interim/parameter_search/grid_search_umap_params/zs_euclidean_pad_0.001_0.5_40_2_specs_no_40_dB_no\n",
      "/home/mthomas/Documents/MPI_work/projects/meerkat/meerkat_umap_pv/data/interim/parameter_search/grid_search_umap_params/zs_euclidean_pad_0.001_0.5_40_3_specs_no_40_dB_no\n",
      "/home/mthomas/Documents/MPI_work/projects/meerkat/meerkat_umap_pv/data/interim/parameter_search/grid_search_umap_params/zs_euclidean_pad_0.001_0.5_40_3_specs_no_40_dB_no\n",
      "/home/mthomas/Documents/MPI_work/projects/meerkat/meerkat_umap_pv/data/interim/parameter_search/grid_search_umap_params/zs_euclidean_pad_0.001_0.5_40_4_specs_no_40_dB_no\n",
      "/home/mthomas/Documents/MPI_work/projects/meerkat/meerkat_umap_pv/data/interim/parameter_search/grid_search_umap_params/zs_euclidean_pad_0.001_0.5_40_4_specs_no_40_dB_no\n",
      "/home/mthomas/Documents/MPI_work/projects/meerkat/meerkat_umap_pv/data/interim/parameter_search/grid_search_umap_params/zs_euclidean_pad_0.001_0.5_40_5_specs_no_40_dB_no\n",
      "/home/mthomas/Documents/MPI_work/projects/meerkat/meerkat_umap_pv/data/interim/parameter_search/grid_search_umap_params/zs_euclidean_pad_0.001_0.5_40_5_specs_no_40_dB_no\n",
      "/home/mthomas/Documents/MPI_work/projects/meerkat/meerkat_umap_pv/data/interim/parameter_search/grid_search_umap_params/zs_euclidean_pad_0.001_0.5_40_6_specs_no_40_dB_no\n",
      "/home/mthomas/Documents/MPI_work/projects/meerkat/meerkat_umap_pv/data/interim/parameter_search/grid_search_umap_params/zs_euclidean_pad_0.001_0.5_40_6_specs_no_40_dB_no\n",
      "/home/mthomas/Documents/MPI_work/projects/meerkat/meerkat_umap_pv/data/interim/parameter_search/grid_search_umap_params/zs_euclidean_pad_0.001_0.5_40_7_specs_no_40_dB_no\n",
      "/home/mthomas/Documents/MPI_work/projects/meerkat/meerkat_umap_pv/data/interim/parameter_search/grid_search_umap_params/zs_euclidean_pad_0.001_0.5_40_7_specs_no_40_dB_no\n",
      "/home/mthomas/Documents/MPI_work/projects/meerkat/meerkat_umap_pv/data/interim/parameter_search/grid_search_umap_params/zs_euclidean_pad_0.001_0.5_40_8_specs_no_40_dB_no\n",
      "/home/mthomas/Documents/MPI_work/projects/meerkat/meerkat_umap_pv/data/interim/parameter_search/grid_search_umap_params/zs_euclidean_pad_0.001_0.5_40_8_specs_no_40_dB_no\n",
      "/home/mthomas/Documents/MPI_work/projects/meerkat/meerkat_umap_pv/data/interim/parameter_search/grid_search_umap_params/zs_euclidean_pad_0.001_0.5_40_9_specs_no_40_dB_no\n",
      "/home/mthomas/Documents/MPI_work/projects/meerkat/meerkat_umap_pv/data/interim/parameter_search/grid_search_umap_params/zs_euclidean_pad_0.001_0.5_40_9_specs_no_40_dB_no\n",
      "/home/mthomas/Documents/MPI_work/projects/meerkat/meerkat_umap_pv/data/interim/parameter_search/grid_search_umap_params/zs_euclidean_pad_0.001_0.5_40_10_specs_no_40_dB_no\n",
      "/home/mthomas/Documents/MPI_work/projects/meerkat/meerkat_umap_pv/data/interim/parameter_search/grid_search_umap_params/zs_euclidean_pad_0.001_0.5_40_10_specs_no_40_dB_no\n",
      "/home/mthomas/Documents/MPI_work/projects/meerkat/meerkat_umap_pv/data/interim/parameter_search/grid_search_umap_params/zs_euclidean_pad_0.01_0.5_40_2_specs_no_40_dB_no\n",
      "/home/mthomas/Documents/MPI_work/projects/meerkat/meerkat_umap_pv/data/interim/parameter_search/grid_search_umap_params/zs_euclidean_pad_0.01_0.5_40_2_specs_no_40_dB_no\n",
      "/home/mthomas/Documents/MPI_work/projects/meerkat/meerkat_umap_pv/data/interim/parameter_search/grid_search_umap_params/zs_euclidean_pad_0.01_0.5_40_3_specs_no_40_dB_no\n",
      "/home/mthomas/Documents/MPI_work/projects/meerkat/meerkat_umap_pv/data/interim/parameter_search/grid_search_umap_params/zs_euclidean_pad_0.01_0.5_40_3_specs_no_40_dB_no\n",
      "/home/mthomas/Documents/MPI_work/projects/meerkat/meerkat_umap_pv/data/interim/parameter_search/grid_search_umap_params/zs_euclidean_pad_0.01_0.5_40_4_specs_no_40_dB_no\n",
      "/home/mthomas/Documents/MPI_work/projects/meerkat/meerkat_umap_pv/data/interim/parameter_search/grid_search_umap_params/zs_euclidean_pad_0.01_0.5_40_4_specs_no_40_dB_no\n",
      "/home/mthomas/Documents/MPI_work/projects/meerkat/meerkat_umap_pv/data/interim/parameter_search/grid_search_umap_params/zs_euclidean_pad_0.01_0.5_40_5_specs_no_40_dB_no\n",
      "/home/mthomas/Documents/MPI_work/projects/meerkat/meerkat_umap_pv/data/interim/parameter_search/grid_search_umap_params/zs_euclidean_pad_0.01_0.5_40_5_specs_no_40_dB_no\n",
      "/home/mthomas/Documents/MPI_work/projects/meerkat/meerkat_umap_pv/data/interim/parameter_search/grid_search_umap_params/zs_euclidean_pad_0.01_0.5_40_6_specs_no_40_dB_no\n",
      "/home/mthomas/Documents/MPI_work/projects/meerkat/meerkat_umap_pv/data/interim/parameter_search/grid_search_umap_params/zs_euclidean_pad_0.01_0.5_40_6_specs_no_40_dB_no\n",
      "/home/mthomas/Documents/MPI_work/projects/meerkat/meerkat_umap_pv/data/interim/parameter_search/grid_search_umap_params/zs_euclidean_pad_0.01_0.5_40_7_specs_no_40_dB_no\n",
      "/home/mthomas/Documents/MPI_work/projects/meerkat/meerkat_umap_pv/data/interim/parameter_search/grid_search_umap_params/zs_euclidean_pad_0.01_0.5_40_7_specs_no_40_dB_no\n",
      "/home/mthomas/Documents/MPI_work/projects/meerkat/meerkat_umap_pv/data/interim/parameter_search/grid_search_umap_params/zs_euclidean_pad_0.01_0.5_40_8_specs_no_40_dB_no\n",
      "/home/mthomas/Documents/MPI_work/projects/meerkat/meerkat_umap_pv/data/interim/parameter_search/grid_search_umap_params/zs_euclidean_pad_0.01_0.5_40_8_specs_no_40_dB_no\n",
      "/home/mthomas/Documents/MPI_work/projects/meerkat/meerkat_umap_pv/data/interim/parameter_search/grid_search_umap_params/zs_euclidean_pad_0.01_0.5_40_9_specs_no_40_dB_no\n",
      "/home/mthomas/Documents/MPI_work/projects/meerkat/meerkat_umap_pv/data/interim/parameter_search/grid_search_umap_params/zs_euclidean_pad_0.01_0.5_40_9_specs_no_40_dB_no\n",
      "/home/mthomas/Documents/MPI_work/projects/meerkat/meerkat_umap_pv/data/interim/parameter_search/grid_search_umap_params/zs_euclidean_pad_0.01_0.5_40_10_specs_no_40_dB_no\n",
      "/home/mthomas/Documents/MPI_work/projects/meerkat/meerkat_umap_pv/data/interim/parameter_search/grid_search_umap_params/zs_euclidean_pad_0.01_0.5_40_10_specs_no_40_dB_no\n",
      "/home/mthomas/Documents/MPI_work/projects/meerkat/meerkat_umap_pv/data/interim/parameter_search/grid_search_umap_params/zs_euclidean_pad_0.1_0.5_40_2_specs_no_40_dB_no\n",
      "/home/mthomas/Documents/MPI_work/projects/meerkat/meerkat_umap_pv/data/interim/parameter_search/grid_search_umap_params/zs_euclidean_pad_0.1_0.5_40_2_specs_no_40_dB_no\n",
      "/home/mthomas/Documents/MPI_work/projects/meerkat/meerkat_umap_pv/data/interim/parameter_search/grid_search_umap_params/zs_euclidean_pad_0.1_0.5_40_3_specs_no_40_dB_no\n",
      "/home/mthomas/Documents/MPI_work/projects/meerkat/meerkat_umap_pv/data/interim/parameter_search/grid_search_umap_params/zs_euclidean_pad_0.1_0.5_40_3_specs_no_40_dB_no\n",
      "/home/mthomas/Documents/MPI_work/projects/meerkat/meerkat_umap_pv/data/interim/parameter_search/grid_search_umap_params/zs_euclidean_pad_0.1_0.5_40_4_specs_no_40_dB_no\n",
      "/home/mthomas/Documents/MPI_work/projects/meerkat/meerkat_umap_pv/data/interim/parameter_search/grid_search_umap_params/zs_euclidean_pad_0.1_0.5_40_4_specs_no_40_dB_no\n",
      "/home/mthomas/Documents/MPI_work/projects/meerkat/meerkat_umap_pv/data/interim/parameter_search/grid_search_umap_params/zs_euclidean_pad_0.1_0.5_40_5_specs_no_40_dB_no\n",
      "/home/mthomas/Documents/MPI_work/projects/meerkat/meerkat_umap_pv/data/interim/parameter_search/grid_search_umap_params/zs_euclidean_pad_0.1_0.5_40_5_specs_no_40_dB_no\n",
      "/home/mthomas/Documents/MPI_work/projects/meerkat/meerkat_umap_pv/data/interim/parameter_search/grid_search_umap_params/zs_euclidean_pad_0.1_0.5_40_6_specs_no_40_dB_no\n",
      "/home/mthomas/Documents/MPI_work/projects/meerkat/meerkat_umap_pv/data/interim/parameter_search/grid_search_umap_params/zs_euclidean_pad_0.1_0.5_40_6_specs_no_40_dB_no\n",
      "/home/mthomas/Documents/MPI_work/projects/meerkat/meerkat_umap_pv/data/interim/parameter_search/grid_search_umap_params/zs_euclidean_pad_0.1_0.5_40_7_specs_no_40_dB_no\n",
      "/home/mthomas/Documents/MPI_work/projects/meerkat/meerkat_umap_pv/data/interim/parameter_search/grid_search_umap_params/zs_euclidean_pad_0.1_0.5_40_7_specs_no_40_dB_no\n",
      "/home/mthomas/Documents/MPI_work/projects/meerkat/meerkat_umap_pv/data/interim/parameter_search/grid_search_umap_params/zs_euclidean_pad_0.1_0.5_40_8_specs_no_40_dB_no\n",
      "/home/mthomas/Documents/MPI_work/projects/meerkat/meerkat_umap_pv/data/interim/parameter_search/grid_search_umap_params/zs_euclidean_pad_0.1_0.5_40_8_specs_no_40_dB_no\n",
      "/home/mthomas/Documents/MPI_work/projects/meerkat/meerkat_umap_pv/data/interim/parameter_search/grid_search_umap_params/zs_euclidean_pad_0.1_0.5_40_9_specs_no_40_dB_no\n",
      "/home/mthomas/Documents/MPI_work/projects/meerkat/meerkat_umap_pv/data/interim/parameter_search/grid_search_umap_params/zs_euclidean_pad_0.1_0.5_40_9_specs_no_40_dB_no\n",
      "/home/mthomas/Documents/MPI_work/projects/meerkat/meerkat_umap_pv/data/interim/parameter_search/grid_search_umap_params/zs_euclidean_pad_0.1_0.5_40_10_specs_no_40_dB_no\n",
      "/home/mthomas/Documents/MPI_work/projects/meerkat/meerkat_umap_pv/data/interim/parameter_search/grid_search_umap_params/zs_euclidean_pad_0.1_0.5_40_10_specs_no_40_dB_no\n",
      "FAILED:  zs_euclidean_pad_1_0.5_40_2_specs_no_40_dB_no\n",
      "FAILED:  zs_euclidean_pad_1_0.5_40_3_specs_no_40_dB_no\n",
      "FAILED:  zs_euclidean_pad_1_0.5_40_4_specs_no_40_dB_no\n",
      "FAILED:  zs_euclidean_pad_1_0.5_40_5_specs_no_40_dB_no\n",
      "FAILED:  zs_euclidean_pad_1_0.5_40_6_specs_no_40_dB_no\n",
      "FAILED:  zs_euclidean_pad_1_0.5_40_7_specs_no_40_dB_no\n",
      "FAILED:  zs_euclidean_pad_1_0.5_40_8_specs_no_40_dB_no\n",
      "FAILED:  zs_euclidean_pad_1_0.5_40_9_specs_no_40_dB_no\n",
      "FAILED:  zs_euclidean_pad_1_0.5_40_10_specs_no_40_dB_no\n",
      "/home/mthomas/Documents/MPI_work/projects/meerkat/meerkat_umap_pv/data/interim/parameter_search/grid_search_umap_params/zs_euclidean_pad_0_0.5_50_2_specs_no_40_dB_no\n",
      "/home/mthomas/Documents/MPI_work/projects/meerkat/meerkat_umap_pv/data/interim/parameter_search/grid_search_umap_params/zs_euclidean_pad_0_0.5_50_2_specs_no_40_dB_no\n",
      "/home/mthomas/Documents/MPI_work/projects/meerkat/meerkat_umap_pv/data/interim/parameter_search/grid_search_umap_params/zs_euclidean_pad_0_0.5_50_3_specs_no_40_dB_no\n",
      "/home/mthomas/Documents/MPI_work/projects/meerkat/meerkat_umap_pv/data/interim/parameter_search/grid_search_umap_params/zs_euclidean_pad_0_0.5_50_3_specs_no_40_dB_no\n",
      "/home/mthomas/Documents/MPI_work/projects/meerkat/meerkat_umap_pv/data/interim/parameter_search/grid_search_umap_params/zs_euclidean_pad_0_0.5_50_4_specs_no_40_dB_no\n",
      "/home/mthomas/Documents/MPI_work/projects/meerkat/meerkat_umap_pv/data/interim/parameter_search/grid_search_umap_params/zs_euclidean_pad_0_0.5_50_4_specs_no_40_dB_no\n",
      "/home/mthomas/Documents/MPI_work/projects/meerkat/meerkat_umap_pv/data/interim/parameter_search/grid_search_umap_params/zs_euclidean_pad_0_0.5_50_5_specs_no_40_dB_no\n",
      "/home/mthomas/Documents/MPI_work/projects/meerkat/meerkat_umap_pv/data/interim/parameter_search/grid_search_umap_params/zs_euclidean_pad_0_0.5_50_5_specs_no_40_dB_no\n",
      "/home/mthomas/Documents/MPI_work/projects/meerkat/meerkat_umap_pv/data/interim/parameter_search/grid_search_umap_params/zs_euclidean_pad_0_0.5_50_6_specs_no_40_dB_no\n",
      "/home/mthomas/Documents/MPI_work/projects/meerkat/meerkat_umap_pv/data/interim/parameter_search/grid_search_umap_params/zs_euclidean_pad_0_0.5_50_6_specs_no_40_dB_no\n",
      "/home/mthomas/Documents/MPI_work/projects/meerkat/meerkat_umap_pv/data/interim/parameter_search/grid_search_umap_params/zs_euclidean_pad_0_0.5_50_7_specs_no_40_dB_no\n",
      "/home/mthomas/Documents/MPI_work/projects/meerkat/meerkat_umap_pv/data/interim/parameter_search/grid_search_umap_params/zs_euclidean_pad_0_0.5_50_7_specs_no_40_dB_no\n",
      "/home/mthomas/Documents/MPI_work/projects/meerkat/meerkat_umap_pv/data/interim/parameter_search/grid_search_umap_params/zs_euclidean_pad_0_0.5_50_8_specs_no_40_dB_no\n",
      "/home/mthomas/Documents/MPI_work/projects/meerkat/meerkat_umap_pv/data/interim/parameter_search/grid_search_umap_params/zs_euclidean_pad_0_0.5_50_8_specs_no_40_dB_no\n",
      "/home/mthomas/Documents/MPI_work/projects/meerkat/meerkat_umap_pv/data/interim/parameter_search/grid_search_umap_params/zs_euclidean_pad_0_0.5_50_9_specs_no_40_dB_no\n",
      "/home/mthomas/Documents/MPI_work/projects/meerkat/meerkat_umap_pv/data/interim/parameter_search/grid_search_umap_params/zs_euclidean_pad_0_0.5_50_9_specs_no_40_dB_no\n",
      "/home/mthomas/Documents/MPI_work/projects/meerkat/meerkat_umap_pv/data/interim/parameter_search/grid_search_umap_params/zs_euclidean_pad_0_0.5_50_10_specs_no_40_dB_no\n",
      "/home/mthomas/Documents/MPI_work/projects/meerkat/meerkat_umap_pv/data/interim/parameter_search/grid_search_umap_params/zs_euclidean_pad_0_0.5_50_10_specs_no_40_dB_no\n",
      "/home/mthomas/Documents/MPI_work/projects/meerkat/meerkat_umap_pv/data/interim/parameter_search/grid_search_umap_params/zs_euclidean_pad_0.001_0.5_50_2_specs_no_40_dB_no\n",
      "/home/mthomas/Documents/MPI_work/projects/meerkat/meerkat_umap_pv/data/interim/parameter_search/grid_search_umap_params/zs_euclidean_pad_0.001_0.5_50_2_specs_no_40_dB_no\n",
      "/home/mthomas/Documents/MPI_work/projects/meerkat/meerkat_umap_pv/data/interim/parameter_search/grid_search_umap_params/zs_euclidean_pad_0.001_0.5_50_3_specs_no_40_dB_no\n",
      "/home/mthomas/Documents/MPI_work/projects/meerkat/meerkat_umap_pv/data/interim/parameter_search/grid_search_umap_params/zs_euclidean_pad_0.001_0.5_50_3_specs_no_40_dB_no\n",
      "/home/mthomas/Documents/MPI_work/projects/meerkat/meerkat_umap_pv/data/interim/parameter_search/grid_search_umap_params/zs_euclidean_pad_0.001_0.5_50_4_specs_no_40_dB_no\n",
      "/home/mthomas/Documents/MPI_work/projects/meerkat/meerkat_umap_pv/data/interim/parameter_search/grid_search_umap_params/zs_euclidean_pad_0.001_0.5_50_4_specs_no_40_dB_no\n",
      "/home/mthomas/Documents/MPI_work/projects/meerkat/meerkat_umap_pv/data/interim/parameter_search/grid_search_umap_params/zs_euclidean_pad_0.001_0.5_50_5_specs_no_40_dB_no\n",
      "/home/mthomas/Documents/MPI_work/projects/meerkat/meerkat_umap_pv/data/interim/parameter_search/grid_search_umap_params/zs_euclidean_pad_0.001_0.5_50_5_specs_no_40_dB_no\n",
      "/home/mthomas/Documents/MPI_work/projects/meerkat/meerkat_umap_pv/data/interim/parameter_search/grid_search_umap_params/zs_euclidean_pad_0.001_0.5_50_6_specs_no_40_dB_no\n",
      "/home/mthomas/Documents/MPI_work/projects/meerkat/meerkat_umap_pv/data/interim/parameter_search/grid_search_umap_params/zs_euclidean_pad_0.001_0.5_50_6_specs_no_40_dB_no\n",
      "/home/mthomas/Documents/MPI_work/projects/meerkat/meerkat_umap_pv/data/interim/parameter_search/grid_search_umap_params/zs_euclidean_pad_0.001_0.5_50_7_specs_no_40_dB_no\n",
      "/home/mthomas/Documents/MPI_work/projects/meerkat/meerkat_umap_pv/data/interim/parameter_search/grid_search_umap_params/zs_euclidean_pad_0.001_0.5_50_7_specs_no_40_dB_no\n",
      "/home/mthomas/Documents/MPI_work/projects/meerkat/meerkat_umap_pv/data/interim/parameter_search/grid_search_umap_params/zs_euclidean_pad_0.001_0.5_50_8_specs_no_40_dB_no\n",
      "/home/mthomas/Documents/MPI_work/projects/meerkat/meerkat_umap_pv/data/interim/parameter_search/grid_search_umap_params/zs_euclidean_pad_0.001_0.5_50_8_specs_no_40_dB_no\n",
      "/home/mthomas/Documents/MPI_work/projects/meerkat/meerkat_umap_pv/data/interim/parameter_search/grid_search_umap_params/zs_euclidean_pad_0.001_0.5_50_9_specs_no_40_dB_no\n",
      "/home/mthomas/Documents/MPI_work/projects/meerkat/meerkat_umap_pv/data/interim/parameter_search/grid_search_umap_params/zs_euclidean_pad_0.001_0.5_50_9_specs_no_40_dB_no\n",
      "/home/mthomas/Documents/MPI_work/projects/meerkat/meerkat_umap_pv/data/interim/parameter_search/grid_search_umap_params/zs_euclidean_pad_0.001_0.5_50_10_specs_no_40_dB_no\n",
      "/home/mthomas/Documents/MPI_work/projects/meerkat/meerkat_umap_pv/data/interim/parameter_search/grid_search_umap_params/zs_euclidean_pad_0.001_0.5_50_10_specs_no_40_dB_no\n",
      "/home/mthomas/Documents/MPI_work/projects/meerkat/meerkat_umap_pv/data/interim/parameter_search/grid_search_umap_params/zs_euclidean_pad_0.01_0.5_50_2_specs_no_40_dB_no\n",
      "/home/mthomas/Documents/MPI_work/projects/meerkat/meerkat_umap_pv/data/interim/parameter_search/grid_search_umap_params/zs_euclidean_pad_0.01_0.5_50_2_specs_no_40_dB_no\n",
      "/home/mthomas/Documents/MPI_work/projects/meerkat/meerkat_umap_pv/data/interim/parameter_search/grid_search_umap_params/zs_euclidean_pad_0.01_0.5_50_3_specs_no_40_dB_no\n",
      "/home/mthomas/Documents/MPI_work/projects/meerkat/meerkat_umap_pv/data/interim/parameter_search/grid_search_umap_params/zs_euclidean_pad_0.01_0.5_50_3_specs_no_40_dB_no\n",
      "/home/mthomas/Documents/MPI_work/projects/meerkat/meerkat_umap_pv/data/interim/parameter_search/grid_search_umap_params/zs_euclidean_pad_0.01_0.5_50_4_specs_no_40_dB_no\n",
      "/home/mthomas/Documents/MPI_work/projects/meerkat/meerkat_umap_pv/data/interim/parameter_search/grid_search_umap_params/zs_euclidean_pad_0.01_0.5_50_4_specs_no_40_dB_no\n",
      "/home/mthomas/Documents/MPI_work/projects/meerkat/meerkat_umap_pv/data/interim/parameter_search/grid_search_umap_params/zs_euclidean_pad_0.01_0.5_50_5_specs_no_40_dB_no\n",
      "/home/mthomas/Documents/MPI_work/projects/meerkat/meerkat_umap_pv/data/interim/parameter_search/grid_search_umap_params/zs_euclidean_pad_0.01_0.5_50_5_specs_no_40_dB_no\n",
      "/home/mthomas/Documents/MPI_work/projects/meerkat/meerkat_umap_pv/data/interim/parameter_search/grid_search_umap_params/zs_euclidean_pad_0.01_0.5_50_6_specs_no_40_dB_no\n",
      "/home/mthomas/Documents/MPI_work/projects/meerkat/meerkat_umap_pv/data/interim/parameter_search/grid_search_umap_params/zs_euclidean_pad_0.01_0.5_50_6_specs_no_40_dB_no\n",
      "/home/mthomas/Documents/MPI_work/projects/meerkat/meerkat_umap_pv/data/interim/parameter_search/grid_search_umap_params/zs_euclidean_pad_0.01_0.5_50_7_specs_no_40_dB_no\n",
      "/home/mthomas/Documents/MPI_work/projects/meerkat/meerkat_umap_pv/data/interim/parameter_search/grid_search_umap_params/zs_euclidean_pad_0.01_0.5_50_7_specs_no_40_dB_no\n",
      "/home/mthomas/Documents/MPI_work/projects/meerkat/meerkat_umap_pv/data/interim/parameter_search/grid_search_umap_params/zs_euclidean_pad_0.01_0.5_50_8_specs_no_40_dB_no\n",
      "/home/mthomas/Documents/MPI_work/projects/meerkat/meerkat_umap_pv/data/interim/parameter_search/grid_search_umap_params/zs_euclidean_pad_0.01_0.5_50_8_specs_no_40_dB_no\n",
      "/home/mthomas/Documents/MPI_work/projects/meerkat/meerkat_umap_pv/data/interim/parameter_search/grid_search_umap_params/zs_euclidean_pad_0.01_0.5_50_9_specs_no_40_dB_no\n",
      "/home/mthomas/Documents/MPI_work/projects/meerkat/meerkat_umap_pv/data/interim/parameter_search/grid_search_umap_params/zs_euclidean_pad_0.01_0.5_50_9_specs_no_40_dB_no\n",
      "/home/mthomas/Documents/MPI_work/projects/meerkat/meerkat_umap_pv/data/interim/parameter_search/grid_search_umap_params/zs_euclidean_pad_0.01_0.5_50_10_specs_no_40_dB_no\n",
      "/home/mthomas/Documents/MPI_work/projects/meerkat/meerkat_umap_pv/data/interim/parameter_search/grid_search_umap_params/zs_euclidean_pad_0.01_0.5_50_10_specs_no_40_dB_no\n",
      "/home/mthomas/Documents/MPI_work/projects/meerkat/meerkat_umap_pv/data/interim/parameter_search/grid_search_umap_params/zs_euclidean_pad_0.1_0.5_50_2_specs_no_40_dB_no\n",
      "/home/mthomas/Documents/MPI_work/projects/meerkat/meerkat_umap_pv/data/interim/parameter_search/grid_search_umap_params/zs_euclidean_pad_0.1_0.5_50_2_specs_no_40_dB_no\n",
      "/home/mthomas/Documents/MPI_work/projects/meerkat/meerkat_umap_pv/data/interim/parameter_search/grid_search_umap_params/zs_euclidean_pad_0.1_0.5_50_3_specs_no_40_dB_no\n",
      "/home/mthomas/Documents/MPI_work/projects/meerkat/meerkat_umap_pv/data/interim/parameter_search/grid_search_umap_params/zs_euclidean_pad_0.1_0.5_50_3_specs_no_40_dB_no\n",
      "/home/mthomas/Documents/MPI_work/projects/meerkat/meerkat_umap_pv/data/interim/parameter_search/grid_search_umap_params/zs_euclidean_pad_0.1_0.5_50_4_specs_no_40_dB_no\n",
      "/home/mthomas/Documents/MPI_work/projects/meerkat/meerkat_umap_pv/data/interim/parameter_search/grid_search_umap_params/zs_euclidean_pad_0.1_0.5_50_4_specs_no_40_dB_no\n",
      "/home/mthomas/Documents/MPI_work/projects/meerkat/meerkat_umap_pv/data/interim/parameter_search/grid_search_umap_params/zs_euclidean_pad_0.1_0.5_50_5_specs_no_40_dB_no\n",
      "/home/mthomas/Documents/MPI_work/projects/meerkat/meerkat_umap_pv/data/interim/parameter_search/grid_search_umap_params/zs_euclidean_pad_0.1_0.5_50_5_specs_no_40_dB_no\n",
      "/home/mthomas/Documents/MPI_work/projects/meerkat/meerkat_umap_pv/data/interim/parameter_search/grid_search_umap_params/zs_euclidean_pad_0.1_0.5_50_6_specs_no_40_dB_no\n",
      "/home/mthomas/Documents/MPI_work/projects/meerkat/meerkat_umap_pv/data/interim/parameter_search/grid_search_umap_params/zs_euclidean_pad_0.1_0.5_50_6_specs_no_40_dB_no\n",
      "/home/mthomas/Documents/MPI_work/projects/meerkat/meerkat_umap_pv/data/interim/parameter_search/grid_search_umap_params/zs_euclidean_pad_0.1_0.5_50_7_specs_no_40_dB_no\n",
      "/home/mthomas/Documents/MPI_work/projects/meerkat/meerkat_umap_pv/data/interim/parameter_search/grid_search_umap_params/zs_euclidean_pad_0.1_0.5_50_7_specs_no_40_dB_no\n",
      "/home/mthomas/Documents/MPI_work/projects/meerkat/meerkat_umap_pv/data/interim/parameter_search/grid_search_umap_params/zs_euclidean_pad_0.1_0.5_50_8_specs_no_40_dB_no\n",
      "/home/mthomas/Documents/MPI_work/projects/meerkat/meerkat_umap_pv/data/interim/parameter_search/grid_search_umap_params/zs_euclidean_pad_0.1_0.5_50_8_specs_no_40_dB_no\n",
      "/home/mthomas/Documents/MPI_work/projects/meerkat/meerkat_umap_pv/data/interim/parameter_search/grid_search_umap_params/zs_euclidean_pad_0.1_0.5_50_9_specs_no_40_dB_no\n",
      "/home/mthomas/Documents/MPI_work/projects/meerkat/meerkat_umap_pv/data/interim/parameter_search/grid_search_umap_params/zs_euclidean_pad_0.1_0.5_50_9_specs_no_40_dB_no\n",
      "/home/mthomas/Documents/MPI_work/projects/meerkat/meerkat_umap_pv/data/interim/parameter_search/grid_search_umap_params/zs_euclidean_pad_0.1_0.5_50_10_specs_no_40_dB_no\n",
      "/home/mthomas/Documents/MPI_work/projects/meerkat/meerkat_umap_pv/data/interim/parameter_search/grid_search_umap_params/zs_euclidean_pad_0.1_0.5_50_10_specs_no_40_dB_no\n",
      "FAILED:  zs_euclidean_pad_1_0.5_50_2_specs_no_40_dB_no\n",
      "FAILED:  zs_euclidean_pad_1_0.5_50_3_specs_no_40_dB_no\n",
      "FAILED:  zs_euclidean_pad_1_0.5_50_4_specs_no_40_dB_no\n",
      "FAILED:  zs_euclidean_pad_1_0.5_50_5_specs_no_40_dB_no\n",
      "FAILED:  zs_euclidean_pad_1_0.5_50_6_specs_no_40_dB_no\n",
      "FAILED:  zs_euclidean_pad_1_0.5_50_7_specs_no_40_dB_no\n",
      "FAILED:  zs_euclidean_pad_1_0.5_50_8_specs_no_40_dB_no\n",
      "FAILED:  zs_euclidean_pad_1_0.5_50_9_specs_no_40_dB_no\n",
      "FAILED:  zs_euclidean_pad_1_0.5_50_10_specs_no_40_dB_no\n",
      "/home/mthomas/Documents/MPI_work/projects/meerkat/meerkat_umap_pv/data/interim/parameter_search/grid_search_umap_params/zs_euclidean_pad_0_0.5_100_2_specs_no_40_dB_no\n",
      "/home/mthomas/Documents/MPI_work/projects/meerkat/meerkat_umap_pv/data/interim/parameter_search/grid_search_umap_params/zs_euclidean_pad_0_0.5_100_2_specs_no_40_dB_no\n",
      "/home/mthomas/Documents/MPI_work/projects/meerkat/meerkat_umap_pv/data/interim/parameter_search/grid_search_umap_params/zs_euclidean_pad_0_0.5_100_3_specs_no_40_dB_no\n",
      "/home/mthomas/Documents/MPI_work/projects/meerkat/meerkat_umap_pv/data/interim/parameter_search/grid_search_umap_params/zs_euclidean_pad_0_0.5_100_3_specs_no_40_dB_no\n",
      "/home/mthomas/Documents/MPI_work/projects/meerkat/meerkat_umap_pv/data/interim/parameter_search/grid_search_umap_params/zs_euclidean_pad_0_0.5_100_4_specs_no_40_dB_no\n",
      "/home/mthomas/Documents/MPI_work/projects/meerkat/meerkat_umap_pv/data/interim/parameter_search/grid_search_umap_params/zs_euclidean_pad_0_0.5_100_4_specs_no_40_dB_no\n",
      "/home/mthomas/Documents/MPI_work/projects/meerkat/meerkat_umap_pv/data/interim/parameter_search/grid_search_umap_params/zs_euclidean_pad_0_0.5_100_5_specs_no_40_dB_no\n",
      "/home/mthomas/Documents/MPI_work/projects/meerkat/meerkat_umap_pv/data/interim/parameter_search/grid_search_umap_params/zs_euclidean_pad_0_0.5_100_5_specs_no_40_dB_no\n",
      "/home/mthomas/Documents/MPI_work/projects/meerkat/meerkat_umap_pv/data/interim/parameter_search/grid_search_umap_params/zs_euclidean_pad_0_0.5_100_6_specs_no_40_dB_no\n",
      "/home/mthomas/Documents/MPI_work/projects/meerkat/meerkat_umap_pv/data/interim/parameter_search/grid_search_umap_params/zs_euclidean_pad_0_0.5_100_6_specs_no_40_dB_no\n",
      "/home/mthomas/Documents/MPI_work/projects/meerkat/meerkat_umap_pv/data/interim/parameter_search/grid_search_umap_params/zs_euclidean_pad_0_0.5_100_7_specs_no_40_dB_no\n",
      "/home/mthomas/Documents/MPI_work/projects/meerkat/meerkat_umap_pv/data/interim/parameter_search/grid_search_umap_params/zs_euclidean_pad_0_0.5_100_7_specs_no_40_dB_no\n",
      "/home/mthomas/Documents/MPI_work/projects/meerkat/meerkat_umap_pv/data/interim/parameter_search/grid_search_umap_params/zs_euclidean_pad_0_0.5_100_8_specs_no_40_dB_no\n",
      "/home/mthomas/Documents/MPI_work/projects/meerkat/meerkat_umap_pv/data/interim/parameter_search/grid_search_umap_params/zs_euclidean_pad_0_0.5_100_8_specs_no_40_dB_no\n",
      "/home/mthomas/Documents/MPI_work/projects/meerkat/meerkat_umap_pv/data/interim/parameter_search/grid_search_umap_params/zs_euclidean_pad_0_0.5_100_9_specs_no_40_dB_no\n",
      "/home/mthomas/Documents/MPI_work/projects/meerkat/meerkat_umap_pv/data/interim/parameter_search/grid_search_umap_params/zs_euclidean_pad_0_0.5_100_9_specs_no_40_dB_no\n",
      "/home/mthomas/Documents/MPI_work/projects/meerkat/meerkat_umap_pv/data/interim/parameter_search/grid_search_umap_params/zs_euclidean_pad_0_0.5_100_10_specs_no_40_dB_no\n",
      "/home/mthomas/Documents/MPI_work/projects/meerkat/meerkat_umap_pv/data/interim/parameter_search/grid_search_umap_params/zs_euclidean_pad_0_0.5_100_10_specs_no_40_dB_no\n",
      "/home/mthomas/Documents/MPI_work/projects/meerkat/meerkat_umap_pv/data/interim/parameter_search/grid_search_umap_params/zs_euclidean_pad_0.001_0.5_100_2_specs_no_40_dB_no\n",
      "/home/mthomas/Documents/MPI_work/projects/meerkat/meerkat_umap_pv/data/interim/parameter_search/grid_search_umap_params/zs_euclidean_pad_0.001_0.5_100_2_specs_no_40_dB_no\n",
      "/home/mthomas/Documents/MPI_work/projects/meerkat/meerkat_umap_pv/data/interim/parameter_search/grid_search_umap_params/zs_euclidean_pad_0.001_0.5_100_3_specs_no_40_dB_no\n",
      "/home/mthomas/Documents/MPI_work/projects/meerkat/meerkat_umap_pv/data/interim/parameter_search/grid_search_umap_params/zs_euclidean_pad_0.001_0.5_100_3_specs_no_40_dB_no\n",
      "/home/mthomas/Documents/MPI_work/projects/meerkat/meerkat_umap_pv/data/interim/parameter_search/grid_search_umap_params/zs_euclidean_pad_0.001_0.5_100_4_specs_no_40_dB_no\n",
      "/home/mthomas/Documents/MPI_work/projects/meerkat/meerkat_umap_pv/data/interim/parameter_search/grid_search_umap_params/zs_euclidean_pad_0.001_0.5_100_4_specs_no_40_dB_no\n",
      "/home/mthomas/Documents/MPI_work/projects/meerkat/meerkat_umap_pv/data/interim/parameter_search/grid_search_umap_params/zs_euclidean_pad_0.001_0.5_100_5_specs_no_40_dB_no\n",
      "/home/mthomas/Documents/MPI_work/projects/meerkat/meerkat_umap_pv/data/interim/parameter_search/grid_search_umap_params/zs_euclidean_pad_0.001_0.5_100_5_specs_no_40_dB_no\n",
      "/home/mthomas/Documents/MPI_work/projects/meerkat/meerkat_umap_pv/data/interim/parameter_search/grid_search_umap_params/zs_euclidean_pad_0.001_0.5_100_6_specs_no_40_dB_no\n",
      "/home/mthomas/Documents/MPI_work/projects/meerkat/meerkat_umap_pv/data/interim/parameter_search/grid_search_umap_params/zs_euclidean_pad_0.001_0.5_100_6_specs_no_40_dB_no\n",
      "/home/mthomas/Documents/MPI_work/projects/meerkat/meerkat_umap_pv/data/interim/parameter_search/grid_search_umap_params/zs_euclidean_pad_0.001_0.5_100_7_specs_no_40_dB_no\n",
      "/home/mthomas/Documents/MPI_work/projects/meerkat/meerkat_umap_pv/data/interim/parameter_search/grid_search_umap_params/zs_euclidean_pad_0.001_0.5_100_7_specs_no_40_dB_no\n",
      "/home/mthomas/Documents/MPI_work/projects/meerkat/meerkat_umap_pv/data/interim/parameter_search/grid_search_umap_params/zs_euclidean_pad_0.001_0.5_100_8_specs_no_40_dB_no\n",
      "/home/mthomas/Documents/MPI_work/projects/meerkat/meerkat_umap_pv/data/interim/parameter_search/grid_search_umap_params/zs_euclidean_pad_0.001_0.5_100_8_specs_no_40_dB_no\n",
      "/home/mthomas/Documents/MPI_work/projects/meerkat/meerkat_umap_pv/data/interim/parameter_search/grid_search_umap_params/zs_euclidean_pad_0.001_0.5_100_9_specs_no_40_dB_no\n",
      "/home/mthomas/Documents/MPI_work/projects/meerkat/meerkat_umap_pv/data/interim/parameter_search/grid_search_umap_params/zs_euclidean_pad_0.001_0.5_100_9_specs_no_40_dB_no\n",
      "/home/mthomas/Documents/MPI_work/projects/meerkat/meerkat_umap_pv/data/interim/parameter_search/grid_search_umap_params/zs_euclidean_pad_0.001_0.5_100_10_specs_no_40_dB_no\n",
      "/home/mthomas/Documents/MPI_work/projects/meerkat/meerkat_umap_pv/data/interim/parameter_search/grid_search_umap_params/zs_euclidean_pad_0.001_0.5_100_10_specs_no_40_dB_no\n",
      "/home/mthomas/Documents/MPI_work/projects/meerkat/meerkat_umap_pv/data/interim/parameter_search/grid_search_umap_params/zs_euclidean_pad_0.01_0.5_100_2_specs_no_40_dB_no\n",
      "/home/mthomas/Documents/MPI_work/projects/meerkat/meerkat_umap_pv/data/interim/parameter_search/grid_search_umap_params/zs_euclidean_pad_0.01_0.5_100_2_specs_no_40_dB_no\n",
      "/home/mthomas/Documents/MPI_work/projects/meerkat/meerkat_umap_pv/data/interim/parameter_search/grid_search_umap_params/zs_euclidean_pad_0.01_0.5_100_3_specs_no_40_dB_no\n",
      "/home/mthomas/Documents/MPI_work/projects/meerkat/meerkat_umap_pv/data/interim/parameter_search/grid_search_umap_params/zs_euclidean_pad_0.01_0.5_100_3_specs_no_40_dB_no\n",
      "/home/mthomas/Documents/MPI_work/projects/meerkat/meerkat_umap_pv/data/interim/parameter_search/grid_search_umap_params/zs_euclidean_pad_0.01_0.5_100_4_specs_no_40_dB_no\n",
      "/home/mthomas/Documents/MPI_work/projects/meerkat/meerkat_umap_pv/data/interim/parameter_search/grid_search_umap_params/zs_euclidean_pad_0.01_0.5_100_4_specs_no_40_dB_no\n",
      "/home/mthomas/Documents/MPI_work/projects/meerkat/meerkat_umap_pv/data/interim/parameter_search/grid_search_umap_params/zs_euclidean_pad_0.01_0.5_100_5_specs_no_40_dB_no\n",
      "/home/mthomas/Documents/MPI_work/projects/meerkat/meerkat_umap_pv/data/interim/parameter_search/grid_search_umap_params/zs_euclidean_pad_0.01_0.5_100_5_specs_no_40_dB_no\n",
      "/home/mthomas/Documents/MPI_work/projects/meerkat/meerkat_umap_pv/data/interim/parameter_search/grid_search_umap_params/zs_euclidean_pad_0.01_0.5_100_6_specs_no_40_dB_no\n",
      "/home/mthomas/Documents/MPI_work/projects/meerkat/meerkat_umap_pv/data/interim/parameter_search/grid_search_umap_params/zs_euclidean_pad_0.01_0.5_100_6_specs_no_40_dB_no\n",
      "/home/mthomas/Documents/MPI_work/projects/meerkat/meerkat_umap_pv/data/interim/parameter_search/grid_search_umap_params/zs_euclidean_pad_0.01_0.5_100_7_specs_no_40_dB_no\n",
      "/home/mthomas/Documents/MPI_work/projects/meerkat/meerkat_umap_pv/data/interim/parameter_search/grid_search_umap_params/zs_euclidean_pad_0.01_0.5_100_7_specs_no_40_dB_no\n",
      "/home/mthomas/Documents/MPI_work/projects/meerkat/meerkat_umap_pv/data/interim/parameter_search/grid_search_umap_params/zs_euclidean_pad_0.01_0.5_100_8_specs_no_40_dB_no\n",
      "/home/mthomas/Documents/MPI_work/projects/meerkat/meerkat_umap_pv/data/interim/parameter_search/grid_search_umap_params/zs_euclidean_pad_0.01_0.5_100_8_specs_no_40_dB_no\n",
      "/home/mthomas/Documents/MPI_work/projects/meerkat/meerkat_umap_pv/data/interim/parameter_search/grid_search_umap_params/zs_euclidean_pad_0.01_0.5_100_9_specs_no_40_dB_no\n",
      "/home/mthomas/Documents/MPI_work/projects/meerkat/meerkat_umap_pv/data/interim/parameter_search/grid_search_umap_params/zs_euclidean_pad_0.01_0.5_100_9_specs_no_40_dB_no\n",
      "/home/mthomas/Documents/MPI_work/projects/meerkat/meerkat_umap_pv/data/interim/parameter_search/grid_search_umap_params/zs_euclidean_pad_0.01_0.5_100_10_specs_no_40_dB_no\n",
      "/home/mthomas/Documents/MPI_work/projects/meerkat/meerkat_umap_pv/data/interim/parameter_search/grid_search_umap_params/zs_euclidean_pad_0.01_0.5_100_10_specs_no_40_dB_no\n",
      "/home/mthomas/Documents/MPI_work/projects/meerkat/meerkat_umap_pv/data/interim/parameter_search/grid_search_umap_params/zs_euclidean_pad_0.1_0.5_100_2_specs_no_40_dB_no\n",
      "/home/mthomas/Documents/MPI_work/projects/meerkat/meerkat_umap_pv/data/interim/parameter_search/grid_search_umap_params/zs_euclidean_pad_0.1_0.5_100_2_specs_no_40_dB_no\n",
      "/home/mthomas/Documents/MPI_work/projects/meerkat/meerkat_umap_pv/data/interim/parameter_search/grid_search_umap_params/zs_euclidean_pad_0.1_0.5_100_3_specs_no_40_dB_no\n",
      "/home/mthomas/Documents/MPI_work/projects/meerkat/meerkat_umap_pv/data/interim/parameter_search/grid_search_umap_params/zs_euclidean_pad_0.1_0.5_100_3_specs_no_40_dB_no\n",
      "/home/mthomas/Documents/MPI_work/projects/meerkat/meerkat_umap_pv/data/interim/parameter_search/grid_search_umap_params/zs_euclidean_pad_0.1_0.5_100_4_specs_no_40_dB_no\n",
      "/home/mthomas/Documents/MPI_work/projects/meerkat/meerkat_umap_pv/data/interim/parameter_search/grid_search_umap_params/zs_euclidean_pad_0.1_0.5_100_4_specs_no_40_dB_no\n",
      "/home/mthomas/Documents/MPI_work/projects/meerkat/meerkat_umap_pv/data/interim/parameter_search/grid_search_umap_params/zs_euclidean_pad_0.1_0.5_100_5_specs_no_40_dB_no\n",
      "/home/mthomas/Documents/MPI_work/projects/meerkat/meerkat_umap_pv/data/interim/parameter_search/grid_search_umap_params/zs_euclidean_pad_0.1_0.5_100_5_specs_no_40_dB_no\n",
      "/home/mthomas/Documents/MPI_work/projects/meerkat/meerkat_umap_pv/data/interim/parameter_search/grid_search_umap_params/zs_euclidean_pad_0.1_0.5_100_6_specs_no_40_dB_no\n",
      "/home/mthomas/Documents/MPI_work/projects/meerkat/meerkat_umap_pv/data/interim/parameter_search/grid_search_umap_params/zs_euclidean_pad_0.1_0.5_100_6_specs_no_40_dB_no\n",
      "/home/mthomas/Documents/MPI_work/projects/meerkat/meerkat_umap_pv/data/interim/parameter_search/grid_search_umap_params/zs_euclidean_pad_0.1_0.5_100_7_specs_no_40_dB_no\n",
      "/home/mthomas/Documents/MPI_work/projects/meerkat/meerkat_umap_pv/data/interim/parameter_search/grid_search_umap_params/zs_euclidean_pad_0.1_0.5_100_7_specs_no_40_dB_no\n",
      "/home/mthomas/Documents/MPI_work/projects/meerkat/meerkat_umap_pv/data/interim/parameter_search/grid_search_umap_params/zs_euclidean_pad_0.1_0.5_100_8_specs_no_40_dB_no\n",
      "/home/mthomas/Documents/MPI_work/projects/meerkat/meerkat_umap_pv/data/interim/parameter_search/grid_search_umap_params/zs_euclidean_pad_0.1_0.5_100_8_specs_no_40_dB_no\n",
      "/home/mthomas/Documents/MPI_work/projects/meerkat/meerkat_umap_pv/data/interim/parameter_search/grid_search_umap_params/zs_euclidean_pad_0.1_0.5_100_9_specs_no_40_dB_no\n",
      "/home/mthomas/Documents/MPI_work/projects/meerkat/meerkat_umap_pv/data/interim/parameter_search/grid_search_umap_params/zs_euclidean_pad_0.1_0.5_100_9_specs_no_40_dB_no\n",
      "/home/mthomas/Documents/MPI_work/projects/meerkat/meerkat_umap_pv/data/interim/parameter_search/grid_search_umap_params/zs_euclidean_pad_0.1_0.5_100_10_specs_no_40_dB_no\n",
      "/home/mthomas/Documents/MPI_work/projects/meerkat/meerkat_umap_pv/data/interim/parameter_search/grid_search_umap_params/zs_euclidean_pad_0.1_0.5_100_10_specs_no_40_dB_no\n",
      "FAILED:  zs_euclidean_pad_1_0.5_100_2_specs_no_40_dB_no\n",
      "FAILED:  zs_euclidean_pad_1_0.5_100_3_specs_no_40_dB_no\n",
      "FAILED:  zs_euclidean_pad_1_0.5_100_4_specs_no_40_dB_no\n",
      "FAILED:  zs_euclidean_pad_1_0.5_100_5_specs_no_40_dB_no\n",
      "FAILED:  zs_euclidean_pad_1_0.5_100_6_specs_no_40_dB_no\n",
      "FAILED:  zs_euclidean_pad_1_0.5_100_7_specs_no_40_dB_no\n",
      "FAILED:  zs_euclidean_pad_1_0.5_100_8_specs_no_40_dB_no\n",
      "FAILED:  zs_euclidean_pad_1_0.5_100_9_specs_no_40_dB_no\n",
      "FAILED:  zs_euclidean_pad_1_0.5_100_10_specs_no_40_dB_no\n",
      "/home/mthomas/Documents/MPI_work/projects/meerkat/meerkat_umap_pv/data/interim/parameter_search/grid_search_umap_params/zs_euclidean_pad_0_0.5_150_2_specs_no_40_dB_no\n",
      "/home/mthomas/Documents/MPI_work/projects/meerkat/meerkat_umap_pv/data/interim/parameter_search/grid_search_umap_params/zs_euclidean_pad_0_0.5_150_2_specs_no_40_dB_no\n",
      "/home/mthomas/Documents/MPI_work/projects/meerkat/meerkat_umap_pv/data/interim/parameter_search/grid_search_umap_params/zs_euclidean_pad_0_0.5_150_3_specs_no_40_dB_no\n",
      "/home/mthomas/Documents/MPI_work/projects/meerkat/meerkat_umap_pv/data/interim/parameter_search/grid_search_umap_params/zs_euclidean_pad_0_0.5_150_3_specs_no_40_dB_no\n",
      "/home/mthomas/Documents/MPI_work/projects/meerkat/meerkat_umap_pv/data/interim/parameter_search/grid_search_umap_params/zs_euclidean_pad_0_0.5_150_4_specs_no_40_dB_no\n",
      "/home/mthomas/Documents/MPI_work/projects/meerkat/meerkat_umap_pv/data/interim/parameter_search/grid_search_umap_params/zs_euclidean_pad_0_0.5_150_4_specs_no_40_dB_no\n",
      "/home/mthomas/Documents/MPI_work/projects/meerkat/meerkat_umap_pv/data/interim/parameter_search/grid_search_umap_params/zs_euclidean_pad_0_0.5_150_5_specs_no_40_dB_no\n",
      "/home/mthomas/Documents/MPI_work/projects/meerkat/meerkat_umap_pv/data/interim/parameter_search/grid_search_umap_params/zs_euclidean_pad_0_0.5_150_5_specs_no_40_dB_no\n",
      "/home/mthomas/Documents/MPI_work/projects/meerkat/meerkat_umap_pv/data/interim/parameter_search/grid_search_umap_params/zs_euclidean_pad_0_0.5_150_6_specs_no_40_dB_no\n",
      "/home/mthomas/Documents/MPI_work/projects/meerkat/meerkat_umap_pv/data/interim/parameter_search/grid_search_umap_params/zs_euclidean_pad_0_0.5_150_6_specs_no_40_dB_no\n",
      "/home/mthomas/Documents/MPI_work/projects/meerkat/meerkat_umap_pv/data/interim/parameter_search/grid_search_umap_params/zs_euclidean_pad_0_0.5_150_7_specs_no_40_dB_no\n",
      "/home/mthomas/Documents/MPI_work/projects/meerkat/meerkat_umap_pv/data/interim/parameter_search/grid_search_umap_params/zs_euclidean_pad_0_0.5_150_7_specs_no_40_dB_no\n",
      "/home/mthomas/Documents/MPI_work/projects/meerkat/meerkat_umap_pv/data/interim/parameter_search/grid_search_umap_params/zs_euclidean_pad_0_0.5_150_8_specs_no_40_dB_no\n",
      "/home/mthomas/Documents/MPI_work/projects/meerkat/meerkat_umap_pv/data/interim/parameter_search/grid_search_umap_params/zs_euclidean_pad_0_0.5_150_8_specs_no_40_dB_no\n",
      "/home/mthomas/Documents/MPI_work/projects/meerkat/meerkat_umap_pv/data/interim/parameter_search/grid_search_umap_params/zs_euclidean_pad_0_0.5_150_9_specs_no_40_dB_no\n",
      "/home/mthomas/Documents/MPI_work/projects/meerkat/meerkat_umap_pv/data/interim/parameter_search/grid_search_umap_params/zs_euclidean_pad_0_0.5_150_9_specs_no_40_dB_no\n",
      "/home/mthomas/Documents/MPI_work/projects/meerkat/meerkat_umap_pv/data/interim/parameter_search/grid_search_umap_params/zs_euclidean_pad_0_0.5_150_10_specs_no_40_dB_no\n",
      "/home/mthomas/Documents/MPI_work/projects/meerkat/meerkat_umap_pv/data/interim/parameter_search/grid_search_umap_params/zs_euclidean_pad_0_0.5_150_10_specs_no_40_dB_no\n",
      "/home/mthomas/Documents/MPI_work/projects/meerkat/meerkat_umap_pv/data/interim/parameter_search/grid_search_umap_params/zs_euclidean_pad_0.001_0.5_150_2_specs_no_40_dB_no\n",
      "/home/mthomas/Documents/MPI_work/projects/meerkat/meerkat_umap_pv/data/interim/parameter_search/grid_search_umap_params/zs_euclidean_pad_0.001_0.5_150_2_specs_no_40_dB_no\n",
      "/home/mthomas/Documents/MPI_work/projects/meerkat/meerkat_umap_pv/data/interim/parameter_search/grid_search_umap_params/zs_euclidean_pad_0.001_0.5_150_3_specs_no_40_dB_no\n",
      "/home/mthomas/Documents/MPI_work/projects/meerkat/meerkat_umap_pv/data/interim/parameter_search/grid_search_umap_params/zs_euclidean_pad_0.001_0.5_150_3_specs_no_40_dB_no\n",
      "/home/mthomas/Documents/MPI_work/projects/meerkat/meerkat_umap_pv/data/interim/parameter_search/grid_search_umap_params/zs_euclidean_pad_0.001_0.5_150_4_specs_no_40_dB_no\n",
      "/home/mthomas/Documents/MPI_work/projects/meerkat/meerkat_umap_pv/data/interim/parameter_search/grid_search_umap_params/zs_euclidean_pad_0.001_0.5_150_4_specs_no_40_dB_no\n",
      "/home/mthomas/Documents/MPI_work/projects/meerkat/meerkat_umap_pv/data/interim/parameter_search/grid_search_umap_params/zs_euclidean_pad_0.001_0.5_150_5_specs_no_40_dB_no\n",
      "/home/mthomas/Documents/MPI_work/projects/meerkat/meerkat_umap_pv/data/interim/parameter_search/grid_search_umap_params/zs_euclidean_pad_0.001_0.5_150_5_specs_no_40_dB_no\n",
      "/home/mthomas/Documents/MPI_work/projects/meerkat/meerkat_umap_pv/data/interim/parameter_search/grid_search_umap_params/zs_euclidean_pad_0.001_0.5_150_6_specs_no_40_dB_no\n",
      "/home/mthomas/Documents/MPI_work/projects/meerkat/meerkat_umap_pv/data/interim/parameter_search/grid_search_umap_params/zs_euclidean_pad_0.001_0.5_150_6_specs_no_40_dB_no\n",
      "/home/mthomas/Documents/MPI_work/projects/meerkat/meerkat_umap_pv/data/interim/parameter_search/grid_search_umap_params/zs_euclidean_pad_0.001_0.5_150_7_specs_no_40_dB_no\n",
      "/home/mthomas/Documents/MPI_work/projects/meerkat/meerkat_umap_pv/data/interim/parameter_search/grid_search_umap_params/zs_euclidean_pad_0.001_0.5_150_7_specs_no_40_dB_no\n",
      "/home/mthomas/Documents/MPI_work/projects/meerkat/meerkat_umap_pv/data/interim/parameter_search/grid_search_umap_params/zs_euclidean_pad_0.001_0.5_150_8_specs_no_40_dB_no\n",
      "/home/mthomas/Documents/MPI_work/projects/meerkat/meerkat_umap_pv/data/interim/parameter_search/grid_search_umap_params/zs_euclidean_pad_0.001_0.5_150_8_specs_no_40_dB_no\n",
      "/home/mthomas/Documents/MPI_work/projects/meerkat/meerkat_umap_pv/data/interim/parameter_search/grid_search_umap_params/zs_euclidean_pad_0.001_0.5_150_9_specs_no_40_dB_no\n",
      "/home/mthomas/Documents/MPI_work/projects/meerkat/meerkat_umap_pv/data/interim/parameter_search/grid_search_umap_params/zs_euclidean_pad_0.001_0.5_150_9_specs_no_40_dB_no\n",
      "/home/mthomas/Documents/MPI_work/projects/meerkat/meerkat_umap_pv/data/interim/parameter_search/grid_search_umap_params/zs_euclidean_pad_0.001_0.5_150_10_specs_no_40_dB_no\n",
      "/home/mthomas/Documents/MPI_work/projects/meerkat/meerkat_umap_pv/data/interim/parameter_search/grid_search_umap_params/zs_euclidean_pad_0.001_0.5_150_10_specs_no_40_dB_no\n",
      "/home/mthomas/Documents/MPI_work/projects/meerkat/meerkat_umap_pv/data/interim/parameter_search/grid_search_umap_params/zs_euclidean_pad_0.01_0.5_150_2_specs_no_40_dB_no\n",
      "/home/mthomas/Documents/MPI_work/projects/meerkat/meerkat_umap_pv/data/interim/parameter_search/grid_search_umap_params/zs_euclidean_pad_0.01_0.5_150_2_specs_no_40_dB_no\n",
      "/home/mthomas/Documents/MPI_work/projects/meerkat/meerkat_umap_pv/data/interim/parameter_search/grid_search_umap_params/zs_euclidean_pad_0.01_0.5_150_3_specs_no_40_dB_no\n",
      "/home/mthomas/Documents/MPI_work/projects/meerkat/meerkat_umap_pv/data/interim/parameter_search/grid_search_umap_params/zs_euclidean_pad_0.01_0.5_150_3_specs_no_40_dB_no\n",
      "/home/mthomas/Documents/MPI_work/projects/meerkat/meerkat_umap_pv/data/interim/parameter_search/grid_search_umap_params/zs_euclidean_pad_0.01_0.5_150_4_specs_no_40_dB_no\n",
      "/home/mthomas/Documents/MPI_work/projects/meerkat/meerkat_umap_pv/data/interim/parameter_search/grid_search_umap_params/zs_euclidean_pad_0.01_0.5_150_4_specs_no_40_dB_no\n",
      "/home/mthomas/Documents/MPI_work/projects/meerkat/meerkat_umap_pv/data/interim/parameter_search/grid_search_umap_params/zs_euclidean_pad_0.01_0.5_150_5_specs_no_40_dB_no\n",
      "/home/mthomas/Documents/MPI_work/projects/meerkat/meerkat_umap_pv/data/interim/parameter_search/grid_search_umap_params/zs_euclidean_pad_0.01_0.5_150_5_specs_no_40_dB_no\n",
      "/home/mthomas/Documents/MPI_work/projects/meerkat/meerkat_umap_pv/data/interim/parameter_search/grid_search_umap_params/zs_euclidean_pad_0.01_0.5_150_6_specs_no_40_dB_no\n",
      "/home/mthomas/Documents/MPI_work/projects/meerkat/meerkat_umap_pv/data/interim/parameter_search/grid_search_umap_params/zs_euclidean_pad_0.01_0.5_150_6_specs_no_40_dB_no\n",
      "/home/mthomas/Documents/MPI_work/projects/meerkat/meerkat_umap_pv/data/interim/parameter_search/grid_search_umap_params/zs_euclidean_pad_0.01_0.5_150_7_specs_no_40_dB_no\n",
      "/home/mthomas/Documents/MPI_work/projects/meerkat/meerkat_umap_pv/data/interim/parameter_search/grid_search_umap_params/zs_euclidean_pad_0.01_0.5_150_7_specs_no_40_dB_no\n",
      "/home/mthomas/Documents/MPI_work/projects/meerkat/meerkat_umap_pv/data/interim/parameter_search/grid_search_umap_params/zs_euclidean_pad_0.01_0.5_150_8_specs_no_40_dB_no\n",
      "/home/mthomas/Documents/MPI_work/projects/meerkat/meerkat_umap_pv/data/interim/parameter_search/grid_search_umap_params/zs_euclidean_pad_0.01_0.5_150_8_specs_no_40_dB_no\n",
      "/home/mthomas/Documents/MPI_work/projects/meerkat/meerkat_umap_pv/data/interim/parameter_search/grid_search_umap_params/zs_euclidean_pad_0.01_0.5_150_9_specs_no_40_dB_no\n",
      "/home/mthomas/Documents/MPI_work/projects/meerkat/meerkat_umap_pv/data/interim/parameter_search/grid_search_umap_params/zs_euclidean_pad_0.01_0.5_150_9_specs_no_40_dB_no\n",
      "/home/mthomas/Documents/MPI_work/projects/meerkat/meerkat_umap_pv/data/interim/parameter_search/grid_search_umap_params/zs_euclidean_pad_0.01_0.5_150_10_specs_no_40_dB_no\n",
      "/home/mthomas/Documents/MPI_work/projects/meerkat/meerkat_umap_pv/data/interim/parameter_search/grid_search_umap_params/zs_euclidean_pad_0.01_0.5_150_10_specs_no_40_dB_no\n",
      "/home/mthomas/Documents/MPI_work/projects/meerkat/meerkat_umap_pv/data/interim/parameter_search/grid_search_umap_params/zs_euclidean_pad_0.1_0.5_150_2_specs_no_40_dB_no\n",
      "/home/mthomas/Documents/MPI_work/projects/meerkat/meerkat_umap_pv/data/interim/parameter_search/grid_search_umap_params/zs_euclidean_pad_0.1_0.5_150_2_specs_no_40_dB_no\n",
      "/home/mthomas/Documents/MPI_work/projects/meerkat/meerkat_umap_pv/data/interim/parameter_search/grid_search_umap_params/zs_euclidean_pad_0.1_0.5_150_3_specs_no_40_dB_no\n",
      "/home/mthomas/Documents/MPI_work/projects/meerkat/meerkat_umap_pv/data/interim/parameter_search/grid_search_umap_params/zs_euclidean_pad_0.1_0.5_150_3_specs_no_40_dB_no\n",
      "/home/mthomas/Documents/MPI_work/projects/meerkat/meerkat_umap_pv/data/interim/parameter_search/grid_search_umap_params/zs_euclidean_pad_0.1_0.5_150_4_specs_no_40_dB_no\n",
      "/home/mthomas/Documents/MPI_work/projects/meerkat/meerkat_umap_pv/data/interim/parameter_search/grid_search_umap_params/zs_euclidean_pad_0.1_0.5_150_4_specs_no_40_dB_no\n",
      "/home/mthomas/Documents/MPI_work/projects/meerkat/meerkat_umap_pv/data/interim/parameter_search/grid_search_umap_params/zs_euclidean_pad_0.1_0.5_150_5_specs_no_40_dB_no\n",
      "/home/mthomas/Documents/MPI_work/projects/meerkat/meerkat_umap_pv/data/interim/parameter_search/grid_search_umap_params/zs_euclidean_pad_0.1_0.5_150_5_specs_no_40_dB_no\n",
      "/home/mthomas/Documents/MPI_work/projects/meerkat/meerkat_umap_pv/data/interim/parameter_search/grid_search_umap_params/zs_euclidean_pad_0.1_0.5_150_6_specs_no_40_dB_no\n",
      "/home/mthomas/Documents/MPI_work/projects/meerkat/meerkat_umap_pv/data/interim/parameter_search/grid_search_umap_params/zs_euclidean_pad_0.1_0.5_150_6_specs_no_40_dB_no\n",
      "/home/mthomas/Documents/MPI_work/projects/meerkat/meerkat_umap_pv/data/interim/parameter_search/grid_search_umap_params/zs_euclidean_pad_0.1_0.5_150_7_specs_no_40_dB_no\n",
      "/home/mthomas/Documents/MPI_work/projects/meerkat/meerkat_umap_pv/data/interim/parameter_search/grid_search_umap_params/zs_euclidean_pad_0.1_0.5_150_7_specs_no_40_dB_no\n",
      "/home/mthomas/Documents/MPI_work/projects/meerkat/meerkat_umap_pv/data/interim/parameter_search/grid_search_umap_params/zs_euclidean_pad_0.1_0.5_150_8_specs_no_40_dB_no\n",
      "/home/mthomas/Documents/MPI_work/projects/meerkat/meerkat_umap_pv/data/interim/parameter_search/grid_search_umap_params/zs_euclidean_pad_0.1_0.5_150_8_specs_no_40_dB_no\n",
      "/home/mthomas/Documents/MPI_work/projects/meerkat/meerkat_umap_pv/data/interim/parameter_search/grid_search_umap_params/zs_euclidean_pad_0.1_0.5_150_9_specs_no_40_dB_no\n",
      "/home/mthomas/Documents/MPI_work/projects/meerkat/meerkat_umap_pv/data/interim/parameter_search/grid_search_umap_params/zs_euclidean_pad_0.1_0.5_150_9_specs_no_40_dB_no\n",
      "/home/mthomas/Documents/MPI_work/projects/meerkat/meerkat_umap_pv/data/interim/parameter_search/grid_search_umap_params/zs_euclidean_pad_0.1_0.5_150_10_specs_no_40_dB_no\n",
      "/home/mthomas/Documents/MPI_work/projects/meerkat/meerkat_umap_pv/data/interim/parameter_search/grid_search_umap_params/zs_euclidean_pad_0.1_0.5_150_10_specs_no_40_dB_no\n",
      "FAILED:  zs_euclidean_pad_1_0.5_150_2_specs_no_40_dB_no\n",
      "FAILED:  zs_euclidean_pad_1_0.5_150_3_specs_no_40_dB_no\n",
      "FAILED:  zs_euclidean_pad_1_0.5_150_4_specs_no_40_dB_no\n",
      "FAILED:  zs_euclidean_pad_1_0.5_150_5_specs_no_40_dB_no\n",
      "FAILED:  zs_euclidean_pad_1_0.5_150_6_specs_no_40_dB_no\n",
      "FAILED:  zs_euclidean_pad_1_0.5_150_7_specs_no_40_dB_no\n",
      "FAILED:  zs_euclidean_pad_1_0.5_150_8_specs_no_40_dB_no\n",
      "FAILED:  zs_euclidean_pad_1_0.5_150_9_specs_no_40_dB_no\n",
      "FAILED:  zs_euclidean_pad_1_0.5_150_10_specs_no_40_dB_no\n",
      "/home/mthomas/Documents/MPI_work/projects/meerkat/meerkat_umap_pv/data/interim/parameter_search/grid_search_umap_params/zs_euclidean_pad_0_0.5_200_2_specs_no_40_dB_no\n",
      "/home/mthomas/Documents/MPI_work/projects/meerkat/meerkat_umap_pv/data/interim/parameter_search/grid_search_umap_params/zs_euclidean_pad_0_0.5_200_2_specs_no_40_dB_no\n",
      "/home/mthomas/Documents/MPI_work/projects/meerkat/meerkat_umap_pv/data/interim/parameter_search/grid_search_umap_params/zs_euclidean_pad_0_0.5_200_3_specs_no_40_dB_no\n",
      "/home/mthomas/Documents/MPI_work/projects/meerkat/meerkat_umap_pv/data/interim/parameter_search/grid_search_umap_params/zs_euclidean_pad_0_0.5_200_3_specs_no_40_dB_no\n",
      "/home/mthomas/Documents/MPI_work/projects/meerkat/meerkat_umap_pv/data/interim/parameter_search/grid_search_umap_params/zs_euclidean_pad_0_0.5_200_4_specs_no_40_dB_no\n",
      "/home/mthomas/Documents/MPI_work/projects/meerkat/meerkat_umap_pv/data/interim/parameter_search/grid_search_umap_params/zs_euclidean_pad_0_0.5_200_4_specs_no_40_dB_no\n",
      "/home/mthomas/Documents/MPI_work/projects/meerkat/meerkat_umap_pv/data/interim/parameter_search/grid_search_umap_params/zs_euclidean_pad_0_0.5_200_5_specs_no_40_dB_no\n",
      "/home/mthomas/Documents/MPI_work/projects/meerkat/meerkat_umap_pv/data/interim/parameter_search/grid_search_umap_params/zs_euclidean_pad_0_0.5_200_5_specs_no_40_dB_no\n",
      "/home/mthomas/Documents/MPI_work/projects/meerkat/meerkat_umap_pv/data/interim/parameter_search/grid_search_umap_params/zs_euclidean_pad_0_0.5_200_6_specs_no_40_dB_no\n",
      "/home/mthomas/Documents/MPI_work/projects/meerkat/meerkat_umap_pv/data/interim/parameter_search/grid_search_umap_params/zs_euclidean_pad_0_0.5_200_6_specs_no_40_dB_no\n",
      "/home/mthomas/Documents/MPI_work/projects/meerkat/meerkat_umap_pv/data/interim/parameter_search/grid_search_umap_params/zs_euclidean_pad_0_0.5_200_7_specs_no_40_dB_no\n",
      "/home/mthomas/Documents/MPI_work/projects/meerkat/meerkat_umap_pv/data/interim/parameter_search/grid_search_umap_params/zs_euclidean_pad_0_0.5_200_7_specs_no_40_dB_no\n",
      "/home/mthomas/Documents/MPI_work/projects/meerkat/meerkat_umap_pv/data/interim/parameter_search/grid_search_umap_params/zs_euclidean_pad_0_0.5_200_8_specs_no_40_dB_no\n",
      "/home/mthomas/Documents/MPI_work/projects/meerkat/meerkat_umap_pv/data/interim/parameter_search/grid_search_umap_params/zs_euclidean_pad_0_0.5_200_8_specs_no_40_dB_no\n",
      "/home/mthomas/Documents/MPI_work/projects/meerkat/meerkat_umap_pv/data/interim/parameter_search/grid_search_umap_params/zs_euclidean_pad_0_0.5_200_9_specs_no_40_dB_no\n",
      "/home/mthomas/Documents/MPI_work/projects/meerkat/meerkat_umap_pv/data/interim/parameter_search/grid_search_umap_params/zs_euclidean_pad_0_0.5_200_9_specs_no_40_dB_no\n",
      "/home/mthomas/Documents/MPI_work/projects/meerkat/meerkat_umap_pv/data/interim/parameter_search/grid_search_umap_params/zs_euclidean_pad_0_0.5_200_10_specs_no_40_dB_no\n",
      "/home/mthomas/Documents/MPI_work/projects/meerkat/meerkat_umap_pv/data/interim/parameter_search/grid_search_umap_params/zs_euclidean_pad_0_0.5_200_10_specs_no_40_dB_no\n",
      "/home/mthomas/Documents/MPI_work/projects/meerkat/meerkat_umap_pv/data/interim/parameter_search/grid_search_umap_params/zs_euclidean_pad_0.001_0.5_200_2_specs_no_40_dB_no\n",
      "/home/mthomas/Documents/MPI_work/projects/meerkat/meerkat_umap_pv/data/interim/parameter_search/grid_search_umap_params/zs_euclidean_pad_0.001_0.5_200_2_specs_no_40_dB_no\n",
      "/home/mthomas/Documents/MPI_work/projects/meerkat/meerkat_umap_pv/data/interim/parameter_search/grid_search_umap_params/zs_euclidean_pad_0.001_0.5_200_3_specs_no_40_dB_no\n",
      "/home/mthomas/Documents/MPI_work/projects/meerkat/meerkat_umap_pv/data/interim/parameter_search/grid_search_umap_params/zs_euclidean_pad_0.001_0.5_200_3_specs_no_40_dB_no\n",
      "/home/mthomas/Documents/MPI_work/projects/meerkat/meerkat_umap_pv/data/interim/parameter_search/grid_search_umap_params/zs_euclidean_pad_0.001_0.5_200_4_specs_no_40_dB_no\n",
      "/home/mthomas/Documents/MPI_work/projects/meerkat/meerkat_umap_pv/data/interim/parameter_search/grid_search_umap_params/zs_euclidean_pad_0.001_0.5_200_4_specs_no_40_dB_no\n",
      "/home/mthomas/Documents/MPI_work/projects/meerkat/meerkat_umap_pv/data/interim/parameter_search/grid_search_umap_params/zs_euclidean_pad_0.001_0.5_200_5_specs_no_40_dB_no\n",
      "/home/mthomas/Documents/MPI_work/projects/meerkat/meerkat_umap_pv/data/interim/parameter_search/grid_search_umap_params/zs_euclidean_pad_0.001_0.5_200_5_specs_no_40_dB_no\n",
      "/home/mthomas/Documents/MPI_work/projects/meerkat/meerkat_umap_pv/data/interim/parameter_search/grid_search_umap_params/zs_euclidean_pad_0.001_0.5_200_6_specs_no_40_dB_no\n",
      "/home/mthomas/Documents/MPI_work/projects/meerkat/meerkat_umap_pv/data/interim/parameter_search/grid_search_umap_params/zs_euclidean_pad_0.001_0.5_200_6_specs_no_40_dB_no\n",
      "/home/mthomas/Documents/MPI_work/projects/meerkat/meerkat_umap_pv/data/interim/parameter_search/grid_search_umap_params/zs_euclidean_pad_0.001_0.5_200_7_specs_no_40_dB_no\n",
      "/home/mthomas/Documents/MPI_work/projects/meerkat/meerkat_umap_pv/data/interim/parameter_search/grid_search_umap_params/zs_euclidean_pad_0.001_0.5_200_7_specs_no_40_dB_no\n",
      "/home/mthomas/Documents/MPI_work/projects/meerkat/meerkat_umap_pv/data/interim/parameter_search/grid_search_umap_params/zs_euclidean_pad_0.001_0.5_200_8_specs_no_40_dB_no\n",
      "/home/mthomas/Documents/MPI_work/projects/meerkat/meerkat_umap_pv/data/interim/parameter_search/grid_search_umap_params/zs_euclidean_pad_0.001_0.5_200_8_specs_no_40_dB_no\n",
      "/home/mthomas/Documents/MPI_work/projects/meerkat/meerkat_umap_pv/data/interim/parameter_search/grid_search_umap_params/zs_euclidean_pad_0.001_0.5_200_9_specs_no_40_dB_no\n",
      "/home/mthomas/Documents/MPI_work/projects/meerkat/meerkat_umap_pv/data/interim/parameter_search/grid_search_umap_params/zs_euclidean_pad_0.001_0.5_200_9_specs_no_40_dB_no\n",
      "/home/mthomas/Documents/MPI_work/projects/meerkat/meerkat_umap_pv/data/interim/parameter_search/grid_search_umap_params/zs_euclidean_pad_0.001_0.5_200_10_specs_no_40_dB_no\n",
      "/home/mthomas/Documents/MPI_work/projects/meerkat/meerkat_umap_pv/data/interim/parameter_search/grid_search_umap_params/zs_euclidean_pad_0.001_0.5_200_10_specs_no_40_dB_no\n",
      "/home/mthomas/Documents/MPI_work/projects/meerkat/meerkat_umap_pv/data/interim/parameter_search/grid_search_umap_params/zs_euclidean_pad_0.01_0.5_200_2_specs_no_40_dB_no\n",
      "/home/mthomas/Documents/MPI_work/projects/meerkat/meerkat_umap_pv/data/interim/parameter_search/grid_search_umap_params/zs_euclidean_pad_0.01_0.5_200_2_specs_no_40_dB_no\n",
      "/home/mthomas/Documents/MPI_work/projects/meerkat/meerkat_umap_pv/data/interim/parameter_search/grid_search_umap_params/zs_euclidean_pad_0.01_0.5_200_3_specs_no_40_dB_no\n",
      "/home/mthomas/Documents/MPI_work/projects/meerkat/meerkat_umap_pv/data/interim/parameter_search/grid_search_umap_params/zs_euclidean_pad_0.01_0.5_200_3_specs_no_40_dB_no\n",
      "/home/mthomas/Documents/MPI_work/projects/meerkat/meerkat_umap_pv/data/interim/parameter_search/grid_search_umap_params/zs_euclidean_pad_0.01_0.5_200_4_specs_no_40_dB_no\n",
      "/home/mthomas/Documents/MPI_work/projects/meerkat/meerkat_umap_pv/data/interim/parameter_search/grid_search_umap_params/zs_euclidean_pad_0.01_0.5_200_4_specs_no_40_dB_no\n",
      "/home/mthomas/Documents/MPI_work/projects/meerkat/meerkat_umap_pv/data/interim/parameter_search/grid_search_umap_params/zs_euclidean_pad_0.01_0.5_200_5_specs_no_40_dB_no\n",
      "/home/mthomas/Documents/MPI_work/projects/meerkat/meerkat_umap_pv/data/interim/parameter_search/grid_search_umap_params/zs_euclidean_pad_0.01_0.5_200_5_specs_no_40_dB_no\n",
      "/home/mthomas/Documents/MPI_work/projects/meerkat/meerkat_umap_pv/data/interim/parameter_search/grid_search_umap_params/zs_euclidean_pad_0.01_0.5_200_6_specs_no_40_dB_no\n",
      "/home/mthomas/Documents/MPI_work/projects/meerkat/meerkat_umap_pv/data/interim/parameter_search/grid_search_umap_params/zs_euclidean_pad_0.01_0.5_200_6_specs_no_40_dB_no\n",
      "/home/mthomas/Documents/MPI_work/projects/meerkat/meerkat_umap_pv/data/interim/parameter_search/grid_search_umap_params/zs_euclidean_pad_0.01_0.5_200_7_specs_no_40_dB_no\n",
      "/home/mthomas/Documents/MPI_work/projects/meerkat/meerkat_umap_pv/data/interim/parameter_search/grid_search_umap_params/zs_euclidean_pad_0.01_0.5_200_7_specs_no_40_dB_no\n",
      "/home/mthomas/Documents/MPI_work/projects/meerkat/meerkat_umap_pv/data/interim/parameter_search/grid_search_umap_params/zs_euclidean_pad_0.01_0.5_200_8_specs_no_40_dB_no\n",
      "/home/mthomas/Documents/MPI_work/projects/meerkat/meerkat_umap_pv/data/interim/parameter_search/grid_search_umap_params/zs_euclidean_pad_0.01_0.5_200_8_specs_no_40_dB_no\n",
      "/home/mthomas/Documents/MPI_work/projects/meerkat/meerkat_umap_pv/data/interim/parameter_search/grid_search_umap_params/zs_euclidean_pad_0.01_0.5_200_9_specs_no_40_dB_no\n",
      "/home/mthomas/Documents/MPI_work/projects/meerkat/meerkat_umap_pv/data/interim/parameter_search/grid_search_umap_params/zs_euclidean_pad_0.01_0.5_200_9_specs_no_40_dB_no\n",
      "/home/mthomas/Documents/MPI_work/projects/meerkat/meerkat_umap_pv/data/interim/parameter_search/grid_search_umap_params/zs_euclidean_pad_0.01_0.5_200_10_specs_no_40_dB_no\n",
      "/home/mthomas/Documents/MPI_work/projects/meerkat/meerkat_umap_pv/data/interim/parameter_search/grid_search_umap_params/zs_euclidean_pad_0.01_0.5_200_10_specs_no_40_dB_no\n",
      "/home/mthomas/Documents/MPI_work/projects/meerkat/meerkat_umap_pv/data/interim/parameter_search/grid_search_umap_params/zs_euclidean_pad_0.1_0.5_200_2_specs_no_40_dB_no\n",
      "/home/mthomas/Documents/MPI_work/projects/meerkat/meerkat_umap_pv/data/interim/parameter_search/grid_search_umap_params/zs_euclidean_pad_0.1_0.5_200_2_specs_no_40_dB_no\n",
      "/home/mthomas/Documents/MPI_work/projects/meerkat/meerkat_umap_pv/data/interim/parameter_search/grid_search_umap_params/zs_euclidean_pad_0.1_0.5_200_3_specs_no_40_dB_no\n",
      "/home/mthomas/Documents/MPI_work/projects/meerkat/meerkat_umap_pv/data/interim/parameter_search/grid_search_umap_params/zs_euclidean_pad_0.1_0.5_200_3_specs_no_40_dB_no\n",
      "/home/mthomas/Documents/MPI_work/projects/meerkat/meerkat_umap_pv/data/interim/parameter_search/grid_search_umap_params/zs_euclidean_pad_0.1_0.5_200_4_specs_no_40_dB_no\n",
      "/home/mthomas/Documents/MPI_work/projects/meerkat/meerkat_umap_pv/data/interim/parameter_search/grid_search_umap_params/zs_euclidean_pad_0.1_0.5_200_4_specs_no_40_dB_no\n",
      "/home/mthomas/Documents/MPI_work/projects/meerkat/meerkat_umap_pv/data/interim/parameter_search/grid_search_umap_params/zs_euclidean_pad_0.1_0.5_200_5_specs_no_40_dB_no\n",
      "/home/mthomas/Documents/MPI_work/projects/meerkat/meerkat_umap_pv/data/interim/parameter_search/grid_search_umap_params/zs_euclidean_pad_0.1_0.5_200_5_specs_no_40_dB_no\n",
      "/home/mthomas/Documents/MPI_work/projects/meerkat/meerkat_umap_pv/data/interim/parameter_search/grid_search_umap_params/zs_euclidean_pad_0.1_0.5_200_6_specs_no_40_dB_no\n",
      "/home/mthomas/Documents/MPI_work/projects/meerkat/meerkat_umap_pv/data/interim/parameter_search/grid_search_umap_params/zs_euclidean_pad_0.1_0.5_200_6_specs_no_40_dB_no\n",
      "/home/mthomas/Documents/MPI_work/projects/meerkat/meerkat_umap_pv/data/interim/parameter_search/grid_search_umap_params/zs_euclidean_pad_0.1_0.5_200_7_specs_no_40_dB_no\n",
      "/home/mthomas/Documents/MPI_work/projects/meerkat/meerkat_umap_pv/data/interim/parameter_search/grid_search_umap_params/zs_euclidean_pad_0.1_0.5_200_7_specs_no_40_dB_no\n",
      "/home/mthomas/Documents/MPI_work/projects/meerkat/meerkat_umap_pv/data/interim/parameter_search/grid_search_umap_params/zs_euclidean_pad_0.1_0.5_200_8_specs_no_40_dB_no\n",
      "/home/mthomas/Documents/MPI_work/projects/meerkat/meerkat_umap_pv/data/interim/parameter_search/grid_search_umap_params/zs_euclidean_pad_0.1_0.5_200_8_specs_no_40_dB_no\n",
      "/home/mthomas/Documents/MPI_work/projects/meerkat/meerkat_umap_pv/data/interim/parameter_search/grid_search_umap_params/zs_euclidean_pad_0.1_0.5_200_9_specs_no_40_dB_no\n",
      "/home/mthomas/Documents/MPI_work/projects/meerkat/meerkat_umap_pv/data/interim/parameter_search/grid_search_umap_params/zs_euclidean_pad_0.1_0.5_200_9_specs_no_40_dB_no\n",
      "/home/mthomas/Documents/MPI_work/projects/meerkat/meerkat_umap_pv/data/interim/parameter_search/grid_search_umap_params/zs_euclidean_pad_0.1_0.5_200_10_specs_no_40_dB_no\n",
      "/home/mthomas/Documents/MPI_work/projects/meerkat/meerkat_umap_pv/data/interim/parameter_search/grid_search_umap_params/zs_euclidean_pad_0.1_0.5_200_10_specs_no_40_dB_no\n",
      "FAILED:  zs_euclidean_pad_1_0.5_200_2_specs_no_40_dB_no\n",
      "FAILED:  zs_euclidean_pad_1_0.5_200_3_specs_no_40_dB_no\n",
      "FAILED:  zs_euclidean_pad_1_0.5_200_4_specs_no_40_dB_no\n",
      "FAILED:  zs_euclidean_pad_1_0.5_200_5_specs_no_40_dB_no\n",
      "FAILED:  zs_euclidean_pad_1_0.5_200_6_specs_no_40_dB_no\n",
      "FAILED:  zs_euclidean_pad_1_0.5_200_7_specs_no_40_dB_no\n",
      "FAILED:  zs_euclidean_pad_1_0.5_200_8_specs_no_40_dB_no\n",
      "FAILED:  zs_euclidean_pad_1_0.5_200_9_specs_no_40_dB_no\n",
      "FAILED:  zs_euclidean_pad_1_0.5_200_10_specs_no_40_dB_no\n",
      "FAILED:  zs_euclidean_pad_0_0.75_1_2_specs_no_40_dB_no\n",
      "FAILED:  zs_euclidean_pad_0_0.75_1_3_specs_no_40_dB_no\n",
      "FAILED:  zs_euclidean_pad_0_0.75_1_4_specs_no_40_dB_no\n",
      "FAILED:  zs_euclidean_pad_0_0.75_1_5_specs_no_40_dB_no\n",
      "FAILED:  zs_euclidean_pad_0_0.75_1_6_specs_no_40_dB_no\n",
      "FAILED:  zs_euclidean_pad_0_0.75_1_7_specs_no_40_dB_no\n",
      "FAILED:  zs_euclidean_pad_0_0.75_1_8_specs_no_40_dB_no\n",
      "FAILED:  zs_euclidean_pad_0_0.75_1_9_specs_no_40_dB_no\n",
      "FAILED:  zs_euclidean_pad_0_0.75_1_10_specs_no_40_dB_no\n",
      "FAILED:  zs_euclidean_pad_0.001_0.75_1_2_specs_no_40_dB_no\n",
      "FAILED:  zs_euclidean_pad_0.001_0.75_1_3_specs_no_40_dB_no\n",
      "FAILED:  zs_euclidean_pad_0.001_0.75_1_4_specs_no_40_dB_no\n",
      "FAILED:  zs_euclidean_pad_0.001_0.75_1_5_specs_no_40_dB_no\n",
      "FAILED:  zs_euclidean_pad_0.001_0.75_1_6_specs_no_40_dB_no\n",
      "FAILED:  zs_euclidean_pad_0.001_0.75_1_7_specs_no_40_dB_no\n",
      "FAILED:  zs_euclidean_pad_0.001_0.75_1_8_specs_no_40_dB_no\n",
      "FAILED:  zs_euclidean_pad_0.001_0.75_1_9_specs_no_40_dB_no\n",
      "FAILED:  zs_euclidean_pad_0.001_0.75_1_10_specs_no_40_dB_no\n",
      "FAILED:  zs_euclidean_pad_0.01_0.75_1_2_specs_no_40_dB_no\n",
      "FAILED:  zs_euclidean_pad_0.01_0.75_1_3_specs_no_40_dB_no\n",
      "FAILED:  zs_euclidean_pad_0.01_0.75_1_4_specs_no_40_dB_no\n",
      "FAILED:  zs_euclidean_pad_0.01_0.75_1_5_specs_no_40_dB_no\n",
      "FAILED:  zs_euclidean_pad_0.01_0.75_1_6_specs_no_40_dB_no\n",
      "FAILED:  zs_euclidean_pad_0.01_0.75_1_7_specs_no_40_dB_no\n",
      "FAILED:  zs_euclidean_pad_0.01_0.75_1_8_specs_no_40_dB_no\n",
      "FAILED:  zs_euclidean_pad_0.01_0.75_1_9_specs_no_40_dB_no\n",
      "FAILED:  zs_euclidean_pad_0.01_0.75_1_10_specs_no_40_dB_no\n",
      "FAILED:  zs_euclidean_pad_0.1_0.75_1_2_specs_no_40_dB_no\n",
      "FAILED:  zs_euclidean_pad_0.1_0.75_1_3_specs_no_40_dB_no\n",
      "FAILED:  zs_euclidean_pad_0.1_0.75_1_4_specs_no_40_dB_no\n",
      "FAILED:  zs_euclidean_pad_0.1_0.75_1_5_specs_no_40_dB_no\n",
      "FAILED:  zs_euclidean_pad_0.1_0.75_1_6_specs_no_40_dB_no\n",
      "FAILED:  zs_euclidean_pad_0.1_0.75_1_7_specs_no_40_dB_no\n",
      "FAILED:  zs_euclidean_pad_0.1_0.75_1_8_specs_no_40_dB_no\n",
      "FAILED:  zs_euclidean_pad_0.1_0.75_1_9_specs_no_40_dB_no\n",
      "FAILED:  zs_euclidean_pad_0.1_0.75_1_10_specs_no_40_dB_no\n",
      "FAILED:  zs_euclidean_pad_1_0.75_1_2_specs_no_40_dB_no\n",
      "FAILED:  zs_euclidean_pad_1_0.75_1_3_specs_no_40_dB_no\n",
      "FAILED:  zs_euclidean_pad_1_0.75_1_4_specs_no_40_dB_no\n",
      "FAILED:  zs_euclidean_pad_1_0.75_1_5_specs_no_40_dB_no\n",
      "FAILED:  zs_euclidean_pad_1_0.75_1_6_specs_no_40_dB_no\n",
      "FAILED:  zs_euclidean_pad_1_0.75_1_7_specs_no_40_dB_no\n",
      "FAILED:  zs_euclidean_pad_1_0.75_1_8_specs_no_40_dB_no\n",
      "FAILED:  zs_euclidean_pad_1_0.75_1_9_specs_no_40_dB_no\n",
      "FAILED:  zs_euclidean_pad_1_0.75_1_10_specs_no_40_dB_no\n",
      "/home/mthomas/Documents/MPI_work/projects/meerkat/meerkat_umap_pv/data/interim/parameter_search/grid_search_umap_params/zs_euclidean_pad_0_0.75_5_2_specs_no_40_dB_no\n",
      "/home/mthomas/Documents/MPI_work/projects/meerkat/meerkat_umap_pv/data/interim/parameter_search/grid_search_umap_params/zs_euclidean_pad_0_0.75_5_2_specs_no_40_dB_no\n",
      "/home/mthomas/Documents/MPI_work/projects/meerkat/meerkat_umap_pv/data/interim/parameter_search/grid_search_umap_params/zs_euclidean_pad_0_0.75_5_3_specs_no_40_dB_no\n",
      "/home/mthomas/Documents/MPI_work/projects/meerkat/meerkat_umap_pv/data/interim/parameter_search/grid_search_umap_params/zs_euclidean_pad_0_0.75_5_3_specs_no_40_dB_no\n",
      "/home/mthomas/Documents/MPI_work/projects/meerkat/meerkat_umap_pv/data/interim/parameter_search/grid_search_umap_params/zs_euclidean_pad_0_0.75_5_4_specs_no_40_dB_no\n",
      "/home/mthomas/Documents/MPI_work/projects/meerkat/meerkat_umap_pv/data/interim/parameter_search/grid_search_umap_params/zs_euclidean_pad_0_0.75_5_4_specs_no_40_dB_no\n",
      "/home/mthomas/Documents/MPI_work/projects/meerkat/meerkat_umap_pv/data/interim/parameter_search/grid_search_umap_params/zs_euclidean_pad_0_0.75_5_5_specs_no_40_dB_no\n",
      "/home/mthomas/Documents/MPI_work/projects/meerkat/meerkat_umap_pv/data/interim/parameter_search/grid_search_umap_params/zs_euclidean_pad_0_0.75_5_5_specs_no_40_dB_no\n",
      "/home/mthomas/Documents/MPI_work/projects/meerkat/meerkat_umap_pv/data/interim/parameter_search/grid_search_umap_params/zs_euclidean_pad_0_0.75_5_6_specs_no_40_dB_no\n",
      "/home/mthomas/Documents/MPI_work/projects/meerkat/meerkat_umap_pv/data/interim/parameter_search/grid_search_umap_params/zs_euclidean_pad_0_0.75_5_6_specs_no_40_dB_no\n",
      "/home/mthomas/Documents/MPI_work/projects/meerkat/meerkat_umap_pv/data/interim/parameter_search/grid_search_umap_params/zs_euclidean_pad_0_0.75_5_7_specs_no_40_dB_no\n",
      "/home/mthomas/Documents/MPI_work/projects/meerkat/meerkat_umap_pv/data/interim/parameter_search/grid_search_umap_params/zs_euclidean_pad_0_0.75_5_7_specs_no_40_dB_no\n",
      "/home/mthomas/Documents/MPI_work/projects/meerkat/meerkat_umap_pv/data/interim/parameter_search/grid_search_umap_params/zs_euclidean_pad_0_0.75_5_8_specs_no_40_dB_no\n",
      "/home/mthomas/Documents/MPI_work/projects/meerkat/meerkat_umap_pv/data/interim/parameter_search/grid_search_umap_params/zs_euclidean_pad_0_0.75_5_8_specs_no_40_dB_no\n",
      "/home/mthomas/Documents/MPI_work/projects/meerkat/meerkat_umap_pv/data/interim/parameter_search/grid_search_umap_params/zs_euclidean_pad_0_0.75_5_9_specs_no_40_dB_no\n",
      "/home/mthomas/Documents/MPI_work/projects/meerkat/meerkat_umap_pv/data/interim/parameter_search/grid_search_umap_params/zs_euclidean_pad_0_0.75_5_9_specs_no_40_dB_no\n",
      "/home/mthomas/Documents/MPI_work/projects/meerkat/meerkat_umap_pv/data/interim/parameter_search/grid_search_umap_params/zs_euclidean_pad_0_0.75_5_10_specs_no_40_dB_no\n",
      "/home/mthomas/Documents/MPI_work/projects/meerkat/meerkat_umap_pv/data/interim/parameter_search/grid_search_umap_params/zs_euclidean_pad_0_0.75_5_10_specs_no_40_dB_no\n",
      "/home/mthomas/Documents/MPI_work/projects/meerkat/meerkat_umap_pv/data/interim/parameter_search/grid_search_umap_params/zs_euclidean_pad_0.001_0.75_5_2_specs_no_40_dB_no\n",
      "/home/mthomas/Documents/MPI_work/projects/meerkat/meerkat_umap_pv/data/interim/parameter_search/grid_search_umap_params/zs_euclidean_pad_0.001_0.75_5_2_specs_no_40_dB_no\n",
      "/home/mthomas/Documents/MPI_work/projects/meerkat/meerkat_umap_pv/data/interim/parameter_search/grid_search_umap_params/zs_euclidean_pad_0.001_0.75_5_3_specs_no_40_dB_no\n",
      "/home/mthomas/Documents/MPI_work/projects/meerkat/meerkat_umap_pv/data/interim/parameter_search/grid_search_umap_params/zs_euclidean_pad_0.001_0.75_5_3_specs_no_40_dB_no\n",
      "/home/mthomas/Documents/MPI_work/projects/meerkat/meerkat_umap_pv/data/interim/parameter_search/grid_search_umap_params/zs_euclidean_pad_0.001_0.75_5_4_specs_no_40_dB_no\n",
      "/home/mthomas/Documents/MPI_work/projects/meerkat/meerkat_umap_pv/data/interim/parameter_search/grid_search_umap_params/zs_euclidean_pad_0.001_0.75_5_4_specs_no_40_dB_no\n",
      "/home/mthomas/Documents/MPI_work/projects/meerkat/meerkat_umap_pv/data/interim/parameter_search/grid_search_umap_params/zs_euclidean_pad_0.001_0.75_5_5_specs_no_40_dB_no\n",
      "/home/mthomas/Documents/MPI_work/projects/meerkat/meerkat_umap_pv/data/interim/parameter_search/grid_search_umap_params/zs_euclidean_pad_0.001_0.75_5_5_specs_no_40_dB_no\n",
      "/home/mthomas/Documents/MPI_work/projects/meerkat/meerkat_umap_pv/data/interim/parameter_search/grid_search_umap_params/zs_euclidean_pad_0.001_0.75_5_6_specs_no_40_dB_no\n",
      "/home/mthomas/Documents/MPI_work/projects/meerkat/meerkat_umap_pv/data/interim/parameter_search/grid_search_umap_params/zs_euclidean_pad_0.001_0.75_5_6_specs_no_40_dB_no\n",
      "/home/mthomas/Documents/MPI_work/projects/meerkat/meerkat_umap_pv/data/interim/parameter_search/grid_search_umap_params/zs_euclidean_pad_0.001_0.75_5_7_specs_no_40_dB_no\n",
      "/home/mthomas/Documents/MPI_work/projects/meerkat/meerkat_umap_pv/data/interim/parameter_search/grid_search_umap_params/zs_euclidean_pad_0.001_0.75_5_7_specs_no_40_dB_no\n",
      "/home/mthomas/Documents/MPI_work/projects/meerkat/meerkat_umap_pv/data/interim/parameter_search/grid_search_umap_params/zs_euclidean_pad_0.001_0.75_5_8_specs_no_40_dB_no\n",
      "/home/mthomas/Documents/MPI_work/projects/meerkat/meerkat_umap_pv/data/interim/parameter_search/grid_search_umap_params/zs_euclidean_pad_0.001_0.75_5_8_specs_no_40_dB_no\n",
      "/home/mthomas/Documents/MPI_work/projects/meerkat/meerkat_umap_pv/data/interim/parameter_search/grid_search_umap_params/zs_euclidean_pad_0.001_0.75_5_9_specs_no_40_dB_no\n",
      "/home/mthomas/Documents/MPI_work/projects/meerkat/meerkat_umap_pv/data/interim/parameter_search/grid_search_umap_params/zs_euclidean_pad_0.001_0.75_5_9_specs_no_40_dB_no\n",
      "/home/mthomas/Documents/MPI_work/projects/meerkat/meerkat_umap_pv/data/interim/parameter_search/grid_search_umap_params/zs_euclidean_pad_0.001_0.75_5_10_specs_no_40_dB_no\n",
      "/home/mthomas/Documents/MPI_work/projects/meerkat/meerkat_umap_pv/data/interim/parameter_search/grid_search_umap_params/zs_euclidean_pad_0.001_0.75_5_10_specs_no_40_dB_no\n",
      "/home/mthomas/Documents/MPI_work/projects/meerkat/meerkat_umap_pv/data/interim/parameter_search/grid_search_umap_params/zs_euclidean_pad_0.01_0.75_5_2_specs_no_40_dB_no\n",
      "/home/mthomas/Documents/MPI_work/projects/meerkat/meerkat_umap_pv/data/interim/parameter_search/grid_search_umap_params/zs_euclidean_pad_0.01_0.75_5_2_specs_no_40_dB_no\n",
      "/home/mthomas/Documents/MPI_work/projects/meerkat/meerkat_umap_pv/data/interim/parameter_search/grid_search_umap_params/zs_euclidean_pad_0.01_0.75_5_3_specs_no_40_dB_no\n",
      "/home/mthomas/Documents/MPI_work/projects/meerkat/meerkat_umap_pv/data/interim/parameter_search/grid_search_umap_params/zs_euclidean_pad_0.01_0.75_5_3_specs_no_40_dB_no\n",
      "/home/mthomas/Documents/MPI_work/projects/meerkat/meerkat_umap_pv/data/interim/parameter_search/grid_search_umap_params/zs_euclidean_pad_0.01_0.75_5_4_specs_no_40_dB_no\n",
      "/home/mthomas/Documents/MPI_work/projects/meerkat/meerkat_umap_pv/data/interim/parameter_search/grid_search_umap_params/zs_euclidean_pad_0.01_0.75_5_4_specs_no_40_dB_no\n",
      "/home/mthomas/Documents/MPI_work/projects/meerkat/meerkat_umap_pv/data/interim/parameter_search/grid_search_umap_params/zs_euclidean_pad_0.01_0.75_5_5_specs_no_40_dB_no\n",
      "/home/mthomas/Documents/MPI_work/projects/meerkat/meerkat_umap_pv/data/interim/parameter_search/grid_search_umap_params/zs_euclidean_pad_0.01_0.75_5_5_specs_no_40_dB_no\n",
      "/home/mthomas/Documents/MPI_work/projects/meerkat/meerkat_umap_pv/data/interim/parameter_search/grid_search_umap_params/zs_euclidean_pad_0.01_0.75_5_6_specs_no_40_dB_no\n",
      "/home/mthomas/Documents/MPI_work/projects/meerkat/meerkat_umap_pv/data/interim/parameter_search/grid_search_umap_params/zs_euclidean_pad_0.01_0.75_5_6_specs_no_40_dB_no\n",
      "/home/mthomas/Documents/MPI_work/projects/meerkat/meerkat_umap_pv/data/interim/parameter_search/grid_search_umap_params/zs_euclidean_pad_0.01_0.75_5_7_specs_no_40_dB_no\n",
      "/home/mthomas/Documents/MPI_work/projects/meerkat/meerkat_umap_pv/data/interim/parameter_search/grid_search_umap_params/zs_euclidean_pad_0.01_0.75_5_7_specs_no_40_dB_no\n",
      "/home/mthomas/Documents/MPI_work/projects/meerkat/meerkat_umap_pv/data/interim/parameter_search/grid_search_umap_params/zs_euclidean_pad_0.01_0.75_5_8_specs_no_40_dB_no\n",
      "/home/mthomas/Documents/MPI_work/projects/meerkat/meerkat_umap_pv/data/interim/parameter_search/grid_search_umap_params/zs_euclidean_pad_0.01_0.75_5_8_specs_no_40_dB_no\n",
      "/home/mthomas/Documents/MPI_work/projects/meerkat/meerkat_umap_pv/data/interim/parameter_search/grid_search_umap_params/zs_euclidean_pad_0.01_0.75_5_9_specs_no_40_dB_no\n",
      "/home/mthomas/Documents/MPI_work/projects/meerkat/meerkat_umap_pv/data/interim/parameter_search/grid_search_umap_params/zs_euclidean_pad_0.01_0.75_5_9_specs_no_40_dB_no\n",
      "/home/mthomas/Documents/MPI_work/projects/meerkat/meerkat_umap_pv/data/interim/parameter_search/grid_search_umap_params/zs_euclidean_pad_0.01_0.75_5_10_specs_no_40_dB_no\n",
      "/home/mthomas/Documents/MPI_work/projects/meerkat/meerkat_umap_pv/data/interim/parameter_search/grid_search_umap_params/zs_euclidean_pad_0.01_0.75_5_10_specs_no_40_dB_no\n",
      "/home/mthomas/Documents/MPI_work/projects/meerkat/meerkat_umap_pv/data/interim/parameter_search/grid_search_umap_params/zs_euclidean_pad_0.1_0.75_5_2_specs_no_40_dB_no\n",
      "/home/mthomas/Documents/MPI_work/projects/meerkat/meerkat_umap_pv/data/interim/parameter_search/grid_search_umap_params/zs_euclidean_pad_0.1_0.75_5_2_specs_no_40_dB_no\n",
      "/home/mthomas/Documents/MPI_work/projects/meerkat/meerkat_umap_pv/data/interim/parameter_search/grid_search_umap_params/zs_euclidean_pad_0.1_0.75_5_3_specs_no_40_dB_no\n",
      "/home/mthomas/Documents/MPI_work/projects/meerkat/meerkat_umap_pv/data/interim/parameter_search/grid_search_umap_params/zs_euclidean_pad_0.1_0.75_5_3_specs_no_40_dB_no\n",
      "/home/mthomas/Documents/MPI_work/projects/meerkat/meerkat_umap_pv/data/interim/parameter_search/grid_search_umap_params/zs_euclidean_pad_0.1_0.75_5_4_specs_no_40_dB_no\n",
      "/home/mthomas/Documents/MPI_work/projects/meerkat/meerkat_umap_pv/data/interim/parameter_search/grid_search_umap_params/zs_euclidean_pad_0.1_0.75_5_4_specs_no_40_dB_no\n",
      "/home/mthomas/Documents/MPI_work/projects/meerkat/meerkat_umap_pv/data/interim/parameter_search/grid_search_umap_params/zs_euclidean_pad_0.1_0.75_5_5_specs_no_40_dB_no\n",
      "/home/mthomas/Documents/MPI_work/projects/meerkat/meerkat_umap_pv/data/interim/parameter_search/grid_search_umap_params/zs_euclidean_pad_0.1_0.75_5_5_specs_no_40_dB_no\n",
      "/home/mthomas/Documents/MPI_work/projects/meerkat/meerkat_umap_pv/data/interim/parameter_search/grid_search_umap_params/zs_euclidean_pad_0.1_0.75_5_6_specs_no_40_dB_no\n",
      "/home/mthomas/Documents/MPI_work/projects/meerkat/meerkat_umap_pv/data/interim/parameter_search/grid_search_umap_params/zs_euclidean_pad_0.1_0.75_5_6_specs_no_40_dB_no\n",
      "/home/mthomas/Documents/MPI_work/projects/meerkat/meerkat_umap_pv/data/interim/parameter_search/grid_search_umap_params/zs_euclidean_pad_0.1_0.75_5_7_specs_no_40_dB_no\n",
      "/home/mthomas/Documents/MPI_work/projects/meerkat/meerkat_umap_pv/data/interim/parameter_search/grid_search_umap_params/zs_euclidean_pad_0.1_0.75_5_7_specs_no_40_dB_no\n",
      "/home/mthomas/Documents/MPI_work/projects/meerkat/meerkat_umap_pv/data/interim/parameter_search/grid_search_umap_params/zs_euclidean_pad_0.1_0.75_5_8_specs_no_40_dB_no\n",
      "/home/mthomas/Documents/MPI_work/projects/meerkat/meerkat_umap_pv/data/interim/parameter_search/grid_search_umap_params/zs_euclidean_pad_0.1_0.75_5_8_specs_no_40_dB_no\n",
      "/home/mthomas/Documents/MPI_work/projects/meerkat/meerkat_umap_pv/data/interim/parameter_search/grid_search_umap_params/zs_euclidean_pad_0.1_0.75_5_9_specs_no_40_dB_no\n",
      "/home/mthomas/Documents/MPI_work/projects/meerkat/meerkat_umap_pv/data/interim/parameter_search/grid_search_umap_params/zs_euclidean_pad_0.1_0.75_5_9_specs_no_40_dB_no\n",
      "/home/mthomas/Documents/MPI_work/projects/meerkat/meerkat_umap_pv/data/interim/parameter_search/grid_search_umap_params/zs_euclidean_pad_0.1_0.75_5_10_specs_no_40_dB_no\n",
      "/home/mthomas/Documents/MPI_work/projects/meerkat/meerkat_umap_pv/data/interim/parameter_search/grid_search_umap_params/zs_euclidean_pad_0.1_0.75_5_10_specs_no_40_dB_no\n",
      "FAILED:  zs_euclidean_pad_1_0.75_5_2_specs_no_40_dB_no\n",
      "FAILED:  zs_euclidean_pad_1_0.75_5_3_specs_no_40_dB_no\n",
      "FAILED:  zs_euclidean_pad_1_0.75_5_4_specs_no_40_dB_no\n",
      "FAILED:  zs_euclidean_pad_1_0.75_5_5_specs_no_40_dB_no\n",
      "FAILED:  zs_euclidean_pad_1_0.75_5_6_specs_no_40_dB_no\n",
      "FAILED:  zs_euclidean_pad_1_0.75_5_7_specs_no_40_dB_no\n",
      "FAILED:  zs_euclidean_pad_1_0.75_5_8_specs_no_40_dB_no\n",
      "FAILED:  zs_euclidean_pad_1_0.75_5_9_specs_no_40_dB_no\n",
      "FAILED:  zs_euclidean_pad_1_0.75_5_10_specs_no_40_dB_no\n",
      "/home/mthomas/Documents/MPI_work/projects/meerkat/meerkat_umap_pv/data/interim/parameter_search/grid_search_umap_params/zs_euclidean_pad_0_0.75_10_2_specs_no_40_dB_no\n",
      "/home/mthomas/Documents/MPI_work/projects/meerkat/meerkat_umap_pv/data/interim/parameter_search/grid_search_umap_params/zs_euclidean_pad_0_0.75_10_2_specs_no_40_dB_no\n",
      "/home/mthomas/Documents/MPI_work/projects/meerkat/meerkat_umap_pv/data/interim/parameter_search/grid_search_umap_params/zs_euclidean_pad_0_0.75_10_3_specs_no_40_dB_no\n",
      "/home/mthomas/Documents/MPI_work/projects/meerkat/meerkat_umap_pv/data/interim/parameter_search/grid_search_umap_params/zs_euclidean_pad_0_0.75_10_3_specs_no_40_dB_no\n",
      "/home/mthomas/Documents/MPI_work/projects/meerkat/meerkat_umap_pv/data/interim/parameter_search/grid_search_umap_params/zs_euclidean_pad_0_0.75_10_4_specs_no_40_dB_no\n",
      "/home/mthomas/Documents/MPI_work/projects/meerkat/meerkat_umap_pv/data/interim/parameter_search/grid_search_umap_params/zs_euclidean_pad_0_0.75_10_4_specs_no_40_dB_no\n",
      "/home/mthomas/Documents/MPI_work/projects/meerkat/meerkat_umap_pv/data/interim/parameter_search/grid_search_umap_params/zs_euclidean_pad_0_0.75_10_5_specs_no_40_dB_no\n",
      "/home/mthomas/Documents/MPI_work/projects/meerkat/meerkat_umap_pv/data/interim/parameter_search/grid_search_umap_params/zs_euclidean_pad_0_0.75_10_5_specs_no_40_dB_no\n",
      "/home/mthomas/Documents/MPI_work/projects/meerkat/meerkat_umap_pv/data/interim/parameter_search/grid_search_umap_params/zs_euclidean_pad_0_0.75_10_6_specs_no_40_dB_no\n",
      "/home/mthomas/Documents/MPI_work/projects/meerkat/meerkat_umap_pv/data/interim/parameter_search/grid_search_umap_params/zs_euclidean_pad_0_0.75_10_6_specs_no_40_dB_no\n",
      "/home/mthomas/Documents/MPI_work/projects/meerkat/meerkat_umap_pv/data/interim/parameter_search/grid_search_umap_params/zs_euclidean_pad_0_0.75_10_7_specs_no_40_dB_no\n",
      "/home/mthomas/Documents/MPI_work/projects/meerkat/meerkat_umap_pv/data/interim/parameter_search/grid_search_umap_params/zs_euclidean_pad_0_0.75_10_7_specs_no_40_dB_no\n",
      "/home/mthomas/Documents/MPI_work/projects/meerkat/meerkat_umap_pv/data/interim/parameter_search/grid_search_umap_params/zs_euclidean_pad_0_0.75_10_8_specs_no_40_dB_no\n",
      "/home/mthomas/Documents/MPI_work/projects/meerkat/meerkat_umap_pv/data/interim/parameter_search/grid_search_umap_params/zs_euclidean_pad_0_0.75_10_8_specs_no_40_dB_no\n",
      "/home/mthomas/Documents/MPI_work/projects/meerkat/meerkat_umap_pv/data/interim/parameter_search/grid_search_umap_params/zs_euclidean_pad_0_0.75_10_9_specs_no_40_dB_no\n",
      "/home/mthomas/Documents/MPI_work/projects/meerkat/meerkat_umap_pv/data/interim/parameter_search/grid_search_umap_params/zs_euclidean_pad_0_0.75_10_9_specs_no_40_dB_no\n",
      "/home/mthomas/Documents/MPI_work/projects/meerkat/meerkat_umap_pv/data/interim/parameter_search/grid_search_umap_params/zs_euclidean_pad_0_0.75_10_10_specs_no_40_dB_no\n",
      "/home/mthomas/Documents/MPI_work/projects/meerkat/meerkat_umap_pv/data/interim/parameter_search/grid_search_umap_params/zs_euclidean_pad_0_0.75_10_10_specs_no_40_dB_no\n",
      "/home/mthomas/Documents/MPI_work/projects/meerkat/meerkat_umap_pv/data/interim/parameter_search/grid_search_umap_params/zs_euclidean_pad_0.001_0.75_10_2_specs_no_40_dB_no\n",
      "/home/mthomas/Documents/MPI_work/projects/meerkat/meerkat_umap_pv/data/interim/parameter_search/grid_search_umap_params/zs_euclidean_pad_0.001_0.75_10_2_specs_no_40_dB_no\n",
      "/home/mthomas/Documents/MPI_work/projects/meerkat/meerkat_umap_pv/data/interim/parameter_search/grid_search_umap_params/zs_euclidean_pad_0.001_0.75_10_3_specs_no_40_dB_no\n",
      "/home/mthomas/Documents/MPI_work/projects/meerkat/meerkat_umap_pv/data/interim/parameter_search/grid_search_umap_params/zs_euclidean_pad_0.001_0.75_10_3_specs_no_40_dB_no\n",
      "/home/mthomas/Documents/MPI_work/projects/meerkat/meerkat_umap_pv/data/interim/parameter_search/grid_search_umap_params/zs_euclidean_pad_0.001_0.75_10_4_specs_no_40_dB_no\n",
      "/home/mthomas/Documents/MPI_work/projects/meerkat/meerkat_umap_pv/data/interim/parameter_search/grid_search_umap_params/zs_euclidean_pad_0.001_0.75_10_4_specs_no_40_dB_no\n",
      "/home/mthomas/Documents/MPI_work/projects/meerkat/meerkat_umap_pv/data/interim/parameter_search/grid_search_umap_params/zs_euclidean_pad_0.001_0.75_10_5_specs_no_40_dB_no\n",
      "/home/mthomas/Documents/MPI_work/projects/meerkat/meerkat_umap_pv/data/interim/parameter_search/grid_search_umap_params/zs_euclidean_pad_0.001_0.75_10_5_specs_no_40_dB_no\n",
      "/home/mthomas/Documents/MPI_work/projects/meerkat/meerkat_umap_pv/data/interim/parameter_search/grid_search_umap_params/zs_euclidean_pad_0.001_0.75_10_6_specs_no_40_dB_no\n",
      "/home/mthomas/Documents/MPI_work/projects/meerkat/meerkat_umap_pv/data/interim/parameter_search/grid_search_umap_params/zs_euclidean_pad_0.001_0.75_10_6_specs_no_40_dB_no\n",
      "/home/mthomas/Documents/MPI_work/projects/meerkat/meerkat_umap_pv/data/interim/parameter_search/grid_search_umap_params/zs_euclidean_pad_0.001_0.75_10_7_specs_no_40_dB_no\n",
      "/home/mthomas/Documents/MPI_work/projects/meerkat/meerkat_umap_pv/data/interim/parameter_search/grid_search_umap_params/zs_euclidean_pad_0.001_0.75_10_7_specs_no_40_dB_no\n",
      "/home/mthomas/Documents/MPI_work/projects/meerkat/meerkat_umap_pv/data/interim/parameter_search/grid_search_umap_params/zs_euclidean_pad_0.001_0.75_10_8_specs_no_40_dB_no\n",
      "/home/mthomas/Documents/MPI_work/projects/meerkat/meerkat_umap_pv/data/interim/parameter_search/grid_search_umap_params/zs_euclidean_pad_0.001_0.75_10_8_specs_no_40_dB_no\n",
      "/home/mthomas/Documents/MPI_work/projects/meerkat/meerkat_umap_pv/data/interim/parameter_search/grid_search_umap_params/zs_euclidean_pad_0.001_0.75_10_9_specs_no_40_dB_no\n",
      "/home/mthomas/Documents/MPI_work/projects/meerkat/meerkat_umap_pv/data/interim/parameter_search/grid_search_umap_params/zs_euclidean_pad_0.001_0.75_10_9_specs_no_40_dB_no\n",
      "/home/mthomas/Documents/MPI_work/projects/meerkat/meerkat_umap_pv/data/interim/parameter_search/grid_search_umap_params/zs_euclidean_pad_0.001_0.75_10_10_specs_no_40_dB_no\n",
      "/home/mthomas/Documents/MPI_work/projects/meerkat/meerkat_umap_pv/data/interim/parameter_search/grid_search_umap_params/zs_euclidean_pad_0.001_0.75_10_10_specs_no_40_dB_no\n",
      "/home/mthomas/Documents/MPI_work/projects/meerkat/meerkat_umap_pv/data/interim/parameter_search/grid_search_umap_params/zs_euclidean_pad_0.01_0.75_10_2_specs_no_40_dB_no\n",
      "/home/mthomas/Documents/MPI_work/projects/meerkat/meerkat_umap_pv/data/interim/parameter_search/grid_search_umap_params/zs_euclidean_pad_0.01_0.75_10_2_specs_no_40_dB_no\n",
      "/home/mthomas/Documents/MPI_work/projects/meerkat/meerkat_umap_pv/data/interim/parameter_search/grid_search_umap_params/zs_euclidean_pad_0.01_0.75_10_3_specs_no_40_dB_no\n",
      "/home/mthomas/Documents/MPI_work/projects/meerkat/meerkat_umap_pv/data/interim/parameter_search/grid_search_umap_params/zs_euclidean_pad_0.01_0.75_10_3_specs_no_40_dB_no\n",
      "/home/mthomas/Documents/MPI_work/projects/meerkat/meerkat_umap_pv/data/interim/parameter_search/grid_search_umap_params/zs_euclidean_pad_0.01_0.75_10_4_specs_no_40_dB_no\n",
      "/home/mthomas/Documents/MPI_work/projects/meerkat/meerkat_umap_pv/data/interim/parameter_search/grid_search_umap_params/zs_euclidean_pad_0.01_0.75_10_4_specs_no_40_dB_no\n",
      "/home/mthomas/Documents/MPI_work/projects/meerkat/meerkat_umap_pv/data/interim/parameter_search/grid_search_umap_params/zs_euclidean_pad_0.01_0.75_10_5_specs_no_40_dB_no\n",
      "/home/mthomas/Documents/MPI_work/projects/meerkat/meerkat_umap_pv/data/interim/parameter_search/grid_search_umap_params/zs_euclidean_pad_0.01_0.75_10_5_specs_no_40_dB_no\n",
      "/home/mthomas/Documents/MPI_work/projects/meerkat/meerkat_umap_pv/data/interim/parameter_search/grid_search_umap_params/zs_euclidean_pad_0.01_0.75_10_6_specs_no_40_dB_no\n",
      "/home/mthomas/Documents/MPI_work/projects/meerkat/meerkat_umap_pv/data/interim/parameter_search/grid_search_umap_params/zs_euclidean_pad_0.01_0.75_10_6_specs_no_40_dB_no\n",
      "/home/mthomas/Documents/MPI_work/projects/meerkat/meerkat_umap_pv/data/interim/parameter_search/grid_search_umap_params/zs_euclidean_pad_0.01_0.75_10_7_specs_no_40_dB_no\n",
      "/home/mthomas/Documents/MPI_work/projects/meerkat/meerkat_umap_pv/data/interim/parameter_search/grid_search_umap_params/zs_euclidean_pad_0.01_0.75_10_7_specs_no_40_dB_no\n",
      "/home/mthomas/Documents/MPI_work/projects/meerkat/meerkat_umap_pv/data/interim/parameter_search/grid_search_umap_params/zs_euclidean_pad_0.01_0.75_10_8_specs_no_40_dB_no\n",
      "/home/mthomas/Documents/MPI_work/projects/meerkat/meerkat_umap_pv/data/interim/parameter_search/grid_search_umap_params/zs_euclidean_pad_0.01_0.75_10_8_specs_no_40_dB_no\n",
      "/home/mthomas/Documents/MPI_work/projects/meerkat/meerkat_umap_pv/data/interim/parameter_search/grid_search_umap_params/zs_euclidean_pad_0.01_0.75_10_9_specs_no_40_dB_no\n",
      "/home/mthomas/Documents/MPI_work/projects/meerkat/meerkat_umap_pv/data/interim/parameter_search/grid_search_umap_params/zs_euclidean_pad_0.01_0.75_10_9_specs_no_40_dB_no\n",
      "/home/mthomas/Documents/MPI_work/projects/meerkat/meerkat_umap_pv/data/interim/parameter_search/grid_search_umap_params/zs_euclidean_pad_0.01_0.75_10_10_specs_no_40_dB_no\n",
      "/home/mthomas/Documents/MPI_work/projects/meerkat/meerkat_umap_pv/data/interim/parameter_search/grid_search_umap_params/zs_euclidean_pad_0.01_0.75_10_10_specs_no_40_dB_no\n",
      "/home/mthomas/Documents/MPI_work/projects/meerkat/meerkat_umap_pv/data/interim/parameter_search/grid_search_umap_params/zs_euclidean_pad_0.1_0.75_10_2_specs_no_40_dB_no\n",
      "/home/mthomas/Documents/MPI_work/projects/meerkat/meerkat_umap_pv/data/interim/parameter_search/grid_search_umap_params/zs_euclidean_pad_0.1_0.75_10_2_specs_no_40_dB_no\n",
      "/home/mthomas/Documents/MPI_work/projects/meerkat/meerkat_umap_pv/data/interim/parameter_search/grid_search_umap_params/zs_euclidean_pad_0.1_0.75_10_3_specs_no_40_dB_no\n",
      "/home/mthomas/Documents/MPI_work/projects/meerkat/meerkat_umap_pv/data/interim/parameter_search/grid_search_umap_params/zs_euclidean_pad_0.1_0.75_10_3_specs_no_40_dB_no\n",
      "/home/mthomas/Documents/MPI_work/projects/meerkat/meerkat_umap_pv/data/interim/parameter_search/grid_search_umap_params/zs_euclidean_pad_0.1_0.75_10_4_specs_no_40_dB_no\n",
      "/home/mthomas/Documents/MPI_work/projects/meerkat/meerkat_umap_pv/data/interim/parameter_search/grid_search_umap_params/zs_euclidean_pad_0.1_0.75_10_4_specs_no_40_dB_no\n",
      "/home/mthomas/Documents/MPI_work/projects/meerkat/meerkat_umap_pv/data/interim/parameter_search/grid_search_umap_params/zs_euclidean_pad_0.1_0.75_10_5_specs_no_40_dB_no\n",
      "/home/mthomas/Documents/MPI_work/projects/meerkat/meerkat_umap_pv/data/interim/parameter_search/grid_search_umap_params/zs_euclidean_pad_0.1_0.75_10_5_specs_no_40_dB_no\n",
      "/home/mthomas/Documents/MPI_work/projects/meerkat/meerkat_umap_pv/data/interim/parameter_search/grid_search_umap_params/zs_euclidean_pad_0.1_0.75_10_6_specs_no_40_dB_no\n",
      "/home/mthomas/Documents/MPI_work/projects/meerkat/meerkat_umap_pv/data/interim/parameter_search/grid_search_umap_params/zs_euclidean_pad_0.1_0.75_10_6_specs_no_40_dB_no\n",
      "/home/mthomas/Documents/MPI_work/projects/meerkat/meerkat_umap_pv/data/interim/parameter_search/grid_search_umap_params/zs_euclidean_pad_0.1_0.75_10_7_specs_no_40_dB_no\n",
      "/home/mthomas/Documents/MPI_work/projects/meerkat/meerkat_umap_pv/data/interim/parameter_search/grid_search_umap_params/zs_euclidean_pad_0.1_0.75_10_7_specs_no_40_dB_no\n",
      "/home/mthomas/Documents/MPI_work/projects/meerkat/meerkat_umap_pv/data/interim/parameter_search/grid_search_umap_params/zs_euclidean_pad_0.1_0.75_10_8_specs_no_40_dB_no\n",
      "/home/mthomas/Documents/MPI_work/projects/meerkat/meerkat_umap_pv/data/interim/parameter_search/grid_search_umap_params/zs_euclidean_pad_0.1_0.75_10_8_specs_no_40_dB_no\n",
      "/home/mthomas/Documents/MPI_work/projects/meerkat/meerkat_umap_pv/data/interim/parameter_search/grid_search_umap_params/zs_euclidean_pad_0.1_0.75_10_9_specs_no_40_dB_no\n",
      "/home/mthomas/Documents/MPI_work/projects/meerkat/meerkat_umap_pv/data/interim/parameter_search/grid_search_umap_params/zs_euclidean_pad_0.1_0.75_10_9_specs_no_40_dB_no\n",
      "/home/mthomas/Documents/MPI_work/projects/meerkat/meerkat_umap_pv/data/interim/parameter_search/grid_search_umap_params/zs_euclidean_pad_0.1_0.75_10_10_specs_no_40_dB_no\n",
      "/home/mthomas/Documents/MPI_work/projects/meerkat/meerkat_umap_pv/data/interim/parameter_search/grid_search_umap_params/zs_euclidean_pad_0.1_0.75_10_10_specs_no_40_dB_no\n",
      "FAILED:  zs_euclidean_pad_1_0.75_10_2_specs_no_40_dB_no\n",
      "FAILED:  zs_euclidean_pad_1_0.75_10_3_specs_no_40_dB_no\n",
      "FAILED:  zs_euclidean_pad_1_0.75_10_4_specs_no_40_dB_no\n",
      "FAILED:  zs_euclidean_pad_1_0.75_10_5_specs_no_40_dB_no\n",
      "FAILED:  zs_euclidean_pad_1_0.75_10_6_specs_no_40_dB_no\n",
      "FAILED:  zs_euclidean_pad_1_0.75_10_7_specs_no_40_dB_no\n",
      "FAILED:  zs_euclidean_pad_1_0.75_10_8_specs_no_40_dB_no\n",
      "FAILED:  zs_euclidean_pad_1_0.75_10_9_specs_no_40_dB_no\n",
      "FAILED:  zs_euclidean_pad_1_0.75_10_10_specs_no_40_dB_no\n",
      "/home/mthomas/Documents/MPI_work/projects/meerkat/meerkat_umap_pv/data/interim/parameter_search/grid_search_umap_params/zs_euclidean_pad_0_0.75_15_2_specs_no_40_dB_no\n",
      "/home/mthomas/Documents/MPI_work/projects/meerkat/meerkat_umap_pv/data/interim/parameter_search/grid_search_umap_params/zs_euclidean_pad_0_0.75_15_2_specs_no_40_dB_no\n",
      "/home/mthomas/Documents/MPI_work/projects/meerkat/meerkat_umap_pv/data/interim/parameter_search/grid_search_umap_params/zs_euclidean_pad_0_0.75_15_3_specs_no_40_dB_no\n",
      "/home/mthomas/Documents/MPI_work/projects/meerkat/meerkat_umap_pv/data/interim/parameter_search/grid_search_umap_params/zs_euclidean_pad_0_0.75_15_3_specs_no_40_dB_no\n",
      "/home/mthomas/Documents/MPI_work/projects/meerkat/meerkat_umap_pv/data/interim/parameter_search/grid_search_umap_params/zs_euclidean_pad_0_0.75_15_4_specs_no_40_dB_no\n",
      "/home/mthomas/Documents/MPI_work/projects/meerkat/meerkat_umap_pv/data/interim/parameter_search/grid_search_umap_params/zs_euclidean_pad_0_0.75_15_4_specs_no_40_dB_no\n",
      "/home/mthomas/Documents/MPI_work/projects/meerkat/meerkat_umap_pv/data/interim/parameter_search/grid_search_umap_params/zs_euclidean_pad_0_0.75_15_5_specs_no_40_dB_no\n",
      "/home/mthomas/Documents/MPI_work/projects/meerkat/meerkat_umap_pv/data/interim/parameter_search/grid_search_umap_params/zs_euclidean_pad_0_0.75_15_5_specs_no_40_dB_no\n",
      "/home/mthomas/Documents/MPI_work/projects/meerkat/meerkat_umap_pv/data/interim/parameter_search/grid_search_umap_params/zs_euclidean_pad_0_0.75_15_6_specs_no_40_dB_no\n",
      "/home/mthomas/Documents/MPI_work/projects/meerkat/meerkat_umap_pv/data/interim/parameter_search/grid_search_umap_params/zs_euclidean_pad_0_0.75_15_6_specs_no_40_dB_no\n",
      "/home/mthomas/Documents/MPI_work/projects/meerkat/meerkat_umap_pv/data/interim/parameter_search/grid_search_umap_params/zs_euclidean_pad_0_0.75_15_7_specs_no_40_dB_no\n",
      "/home/mthomas/Documents/MPI_work/projects/meerkat/meerkat_umap_pv/data/interim/parameter_search/grid_search_umap_params/zs_euclidean_pad_0_0.75_15_7_specs_no_40_dB_no\n",
      "/home/mthomas/Documents/MPI_work/projects/meerkat/meerkat_umap_pv/data/interim/parameter_search/grid_search_umap_params/zs_euclidean_pad_0_0.75_15_8_specs_no_40_dB_no\n",
      "/home/mthomas/Documents/MPI_work/projects/meerkat/meerkat_umap_pv/data/interim/parameter_search/grid_search_umap_params/zs_euclidean_pad_0_0.75_15_8_specs_no_40_dB_no\n",
      "/home/mthomas/Documents/MPI_work/projects/meerkat/meerkat_umap_pv/data/interim/parameter_search/grid_search_umap_params/zs_euclidean_pad_0_0.75_15_9_specs_no_40_dB_no\n",
      "/home/mthomas/Documents/MPI_work/projects/meerkat/meerkat_umap_pv/data/interim/parameter_search/grid_search_umap_params/zs_euclidean_pad_0_0.75_15_9_specs_no_40_dB_no\n",
      "/home/mthomas/Documents/MPI_work/projects/meerkat/meerkat_umap_pv/data/interim/parameter_search/grid_search_umap_params/zs_euclidean_pad_0_0.75_15_10_specs_no_40_dB_no\n",
      "/home/mthomas/Documents/MPI_work/projects/meerkat/meerkat_umap_pv/data/interim/parameter_search/grid_search_umap_params/zs_euclidean_pad_0_0.75_15_10_specs_no_40_dB_no\n",
      "/home/mthomas/Documents/MPI_work/projects/meerkat/meerkat_umap_pv/data/interim/parameter_search/grid_search_umap_params/zs_euclidean_pad_0.001_0.75_15_2_specs_no_40_dB_no\n",
      "/home/mthomas/Documents/MPI_work/projects/meerkat/meerkat_umap_pv/data/interim/parameter_search/grid_search_umap_params/zs_euclidean_pad_0.001_0.75_15_2_specs_no_40_dB_no\n",
      "/home/mthomas/Documents/MPI_work/projects/meerkat/meerkat_umap_pv/data/interim/parameter_search/grid_search_umap_params/zs_euclidean_pad_0.001_0.75_15_3_specs_no_40_dB_no\n",
      "/home/mthomas/Documents/MPI_work/projects/meerkat/meerkat_umap_pv/data/interim/parameter_search/grid_search_umap_params/zs_euclidean_pad_0.001_0.75_15_3_specs_no_40_dB_no\n",
      "/home/mthomas/Documents/MPI_work/projects/meerkat/meerkat_umap_pv/data/interim/parameter_search/grid_search_umap_params/zs_euclidean_pad_0.001_0.75_15_4_specs_no_40_dB_no\n",
      "/home/mthomas/Documents/MPI_work/projects/meerkat/meerkat_umap_pv/data/interim/parameter_search/grid_search_umap_params/zs_euclidean_pad_0.001_0.75_15_4_specs_no_40_dB_no\n",
      "/home/mthomas/Documents/MPI_work/projects/meerkat/meerkat_umap_pv/data/interim/parameter_search/grid_search_umap_params/zs_euclidean_pad_0.001_0.75_15_5_specs_no_40_dB_no\n",
      "/home/mthomas/Documents/MPI_work/projects/meerkat/meerkat_umap_pv/data/interim/parameter_search/grid_search_umap_params/zs_euclidean_pad_0.001_0.75_15_5_specs_no_40_dB_no\n",
      "/home/mthomas/Documents/MPI_work/projects/meerkat/meerkat_umap_pv/data/interim/parameter_search/grid_search_umap_params/zs_euclidean_pad_0.001_0.75_15_6_specs_no_40_dB_no\n",
      "/home/mthomas/Documents/MPI_work/projects/meerkat/meerkat_umap_pv/data/interim/parameter_search/grid_search_umap_params/zs_euclidean_pad_0.001_0.75_15_6_specs_no_40_dB_no\n",
      "/home/mthomas/Documents/MPI_work/projects/meerkat/meerkat_umap_pv/data/interim/parameter_search/grid_search_umap_params/zs_euclidean_pad_0.001_0.75_15_7_specs_no_40_dB_no\n",
      "/home/mthomas/Documents/MPI_work/projects/meerkat/meerkat_umap_pv/data/interim/parameter_search/grid_search_umap_params/zs_euclidean_pad_0.001_0.75_15_7_specs_no_40_dB_no\n",
      "/home/mthomas/Documents/MPI_work/projects/meerkat/meerkat_umap_pv/data/interim/parameter_search/grid_search_umap_params/zs_euclidean_pad_0.001_0.75_15_8_specs_no_40_dB_no\n",
      "/home/mthomas/Documents/MPI_work/projects/meerkat/meerkat_umap_pv/data/interim/parameter_search/grid_search_umap_params/zs_euclidean_pad_0.001_0.75_15_8_specs_no_40_dB_no\n",
      "/home/mthomas/Documents/MPI_work/projects/meerkat/meerkat_umap_pv/data/interim/parameter_search/grid_search_umap_params/zs_euclidean_pad_0.001_0.75_15_9_specs_no_40_dB_no\n",
      "/home/mthomas/Documents/MPI_work/projects/meerkat/meerkat_umap_pv/data/interim/parameter_search/grid_search_umap_params/zs_euclidean_pad_0.001_0.75_15_9_specs_no_40_dB_no\n",
      "/home/mthomas/Documents/MPI_work/projects/meerkat/meerkat_umap_pv/data/interim/parameter_search/grid_search_umap_params/zs_euclidean_pad_0.001_0.75_15_10_specs_no_40_dB_no\n",
      "/home/mthomas/Documents/MPI_work/projects/meerkat/meerkat_umap_pv/data/interim/parameter_search/grid_search_umap_params/zs_euclidean_pad_0.001_0.75_15_10_specs_no_40_dB_no\n",
      "/home/mthomas/Documents/MPI_work/projects/meerkat/meerkat_umap_pv/data/interim/parameter_search/grid_search_umap_params/zs_euclidean_pad_0.01_0.75_15_2_specs_no_40_dB_no\n",
      "/home/mthomas/Documents/MPI_work/projects/meerkat/meerkat_umap_pv/data/interim/parameter_search/grid_search_umap_params/zs_euclidean_pad_0.01_0.75_15_2_specs_no_40_dB_no\n",
      "/home/mthomas/Documents/MPI_work/projects/meerkat/meerkat_umap_pv/data/interim/parameter_search/grid_search_umap_params/zs_euclidean_pad_0.01_0.75_15_3_specs_no_40_dB_no\n",
      "/home/mthomas/Documents/MPI_work/projects/meerkat/meerkat_umap_pv/data/interim/parameter_search/grid_search_umap_params/zs_euclidean_pad_0.01_0.75_15_3_specs_no_40_dB_no\n",
      "/home/mthomas/Documents/MPI_work/projects/meerkat/meerkat_umap_pv/data/interim/parameter_search/grid_search_umap_params/zs_euclidean_pad_0.01_0.75_15_4_specs_no_40_dB_no\n",
      "/home/mthomas/Documents/MPI_work/projects/meerkat/meerkat_umap_pv/data/interim/parameter_search/grid_search_umap_params/zs_euclidean_pad_0.01_0.75_15_4_specs_no_40_dB_no\n",
      "/home/mthomas/Documents/MPI_work/projects/meerkat/meerkat_umap_pv/data/interim/parameter_search/grid_search_umap_params/zs_euclidean_pad_0.01_0.75_15_5_specs_no_40_dB_no\n",
      "/home/mthomas/Documents/MPI_work/projects/meerkat/meerkat_umap_pv/data/interim/parameter_search/grid_search_umap_params/zs_euclidean_pad_0.01_0.75_15_5_specs_no_40_dB_no\n",
      "/home/mthomas/Documents/MPI_work/projects/meerkat/meerkat_umap_pv/data/interim/parameter_search/grid_search_umap_params/zs_euclidean_pad_0.01_0.75_15_6_specs_no_40_dB_no\n",
      "/home/mthomas/Documents/MPI_work/projects/meerkat/meerkat_umap_pv/data/interim/parameter_search/grid_search_umap_params/zs_euclidean_pad_0.01_0.75_15_6_specs_no_40_dB_no\n",
      "/home/mthomas/Documents/MPI_work/projects/meerkat/meerkat_umap_pv/data/interim/parameter_search/grid_search_umap_params/zs_euclidean_pad_0.01_0.75_15_7_specs_no_40_dB_no\n",
      "/home/mthomas/Documents/MPI_work/projects/meerkat/meerkat_umap_pv/data/interim/parameter_search/grid_search_umap_params/zs_euclidean_pad_0.01_0.75_15_7_specs_no_40_dB_no\n",
      "/home/mthomas/Documents/MPI_work/projects/meerkat/meerkat_umap_pv/data/interim/parameter_search/grid_search_umap_params/zs_euclidean_pad_0.01_0.75_15_8_specs_no_40_dB_no\n",
      "/home/mthomas/Documents/MPI_work/projects/meerkat/meerkat_umap_pv/data/interim/parameter_search/grid_search_umap_params/zs_euclidean_pad_0.01_0.75_15_8_specs_no_40_dB_no\n",
      "/home/mthomas/Documents/MPI_work/projects/meerkat/meerkat_umap_pv/data/interim/parameter_search/grid_search_umap_params/zs_euclidean_pad_0.01_0.75_15_9_specs_no_40_dB_no\n",
      "/home/mthomas/Documents/MPI_work/projects/meerkat/meerkat_umap_pv/data/interim/parameter_search/grid_search_umap_params/zs_euclidean_pad_0.01_0.75_15_9_specs_no_40_dB_no\n",
      "/home/mthomas/Documents/MPI_work/projects/meerkat/meerkat_umap_pv/data/interim/parameter_search/grid_search_umap_params/zs_euclidean_pad_0.01_0.75_15_10_specs_no_40_dB_no\n",
      "/home/mthomas/Documents/MPI_work/projects/meerkat/meerkat_umap_pv/data/interim/parameter_search/grid_search_umap_params/zs_euclidean_pad_0.01_0.75_15_10_specs_no_40_dB_no\n",
      "/home/mthomas/Documents/MPI_work/projects/meerkat/meerkat_umap_pv/data/interim/parameter_search/grid_search_umap_params/zs_euclidean_pad_0.1_0.75_15_2_specs_no_40_dB_no\n",
      "/home/mthomas/Documents/MPI_work/projects/meerkat/meerkat_umap_pv/data/interim/parameter_search/grid_search_umap_params/zs_euclidean_pad_0.1_0.75_15_2_specs_no_40_dB_no\n",
      "/home/mthomas/Documents/MPI_work/projects/meerkat/meerkat_umap_pv/data/interim/parameter_search/grid_search_umap_params/zs_euclidean_pad_0.1_0.75_15_3_specs_no_40_dB_no\n",
      "/home/mthomas/Documents/MPI_work/projects/meerkat/meerkat_umap_pv/data/interim/parameter_search/grid_search_umap_params/zs_euclidean_pad_0.1_0.75_15_3_specs_no_40_dB_no\n",
      "/home/mthomas/Documents/MPI_work/projects/meerkat/meerkat_umap_pv/data/interim/parameter_search/grid_search_umap_params/zs_euclidean_pad_0.1_0.75_15_4_specs_no_40_dB_no\n",
      "/home/mthomas/Documents/MPI_work/projects/meerkat/meerkat_umap_pv/data/interim/parameter_search/grid_search_umap_params/zs_euclidean_pad_0.1_0.75_15_4_specs_no_40_dB_no\n",
      "/home/mthomas/Documents/MPI_work/projects/meerkat/meerkat_umap_pv/data/interim/parameter_search/grid_search_umap_params/zs_euclidean_pad_0.1_0.75_15_5_specs_no_40_dB_no\n",
      "/home/mthomas/Documents/MPI_work/projects/meerkat/meerkat_umap_pv/data/interim/parameter_search/grid_search_umap_params/zs_euclidean_pad_0.1_0.75_15_5_specs_no_40_dB_no\n",
      "/home/mthomas/Documents/MPI_work/projects/meerkat/meerkat_umap_pv/data/interim/parameter_search/grid_search_umap_params/zs_euclidean_pad_0.1_0.75_15_6_specs_no_40_dB_no\n",
      "/home/mthomas/Documents/MPI_work/projects/meerkat/meerkat_umap_pv/data/interim/parameter_search/grid_search_umap_params/zs_euclidean_pad_0.1_0.75_15_6_specs_no_40_dB_no\n",
      "/home/mthomas/Documents/MPI_work/projects/meerkat/meerkat_umap_pv/data/interim/parameter_search/grid_search_umap_params/zs_euclidean_pad_0.1_0.75_15_7_specs_no_40_dB_no\n",
      "/home/mthomas/Documents/MPI_work/projects/meerkat/meerkat_umap_pv/data/interim/parameter_search/grid_search_umap_params/zs_euclidean_pad_0.1_0.75_15_7_specs_no_40_dB_no\n",
      "/home/mthomas/Documents/MPI_work/projects/meerkat/meerkat_umap_pv/data/interim/parameter_search/grid_search_umap_params/zs_euclidean_pad_0.1_0.75_15_8_specs_no_40_dB_no\n",
      "/home/mthomas/Documents/MPI_work/projects/meerkat/meerkat_umap_pv/data/interim/parameter_search/grid_search_umap_params/zs_euclidean_pad_0.1_0.75_15_8_specs_no_40_dB_no\n",
      "/home/mthomas/Documents/MPI_work/projects/meerkat/meerkat_umap_pv/data/interim/parameter_search/grid_search_umap_params/zs_euclidean_pad_0.1_0.75_15_9_specs_no_40_dB_no\n",
      "/home/mthomas/Documents/MPI_work/projects/meerkat/meerkat_umap_pv/data/interim/parameter_search/grid_search_umap_params/zs_euclidean_pad_0.1_0.75_15_9_specs_no_40_dB_no\n",
      "/home/mthomas/Documents/MPI_work/projects/meerkat/meerkat_umap_pv/data/interim/parameter_search/grid_search_umap_params/zs_euclidean_pad_0.1_0.75_15_10_specs_no_40_dB_no\n",
      "/home/mthomas/Documents/MPI_work/projects/meerkat/meerkat_umap_pv/data/interim/parameter_search/grid_search_umap_params/zs_euclidean_pad_0.1_0.75_15_10_specs_no_40_dB_no\n",
      "FAILED:  zs_euclidean_pad_1_0.75_15_2_specs_no_40_dB_no\n",
      "FAILED:  zs_euclidean_pad_1_0.75_15_3_specs_no_40_dB_no\n",
      "FAILED:  zs_euclidean_pad_1_0.75_15_4_specs_no_40_dB_no\n",
      "FAILED:  zs_euclidean_pad_1_0.75_15_5_specs_no_40_dB_no\n",
      "FAILED:  zs_euclidean_pad_1_0.75_15_6_specs_no_40_dB_no\n",
      "FAILED:  zs_euclidean_pad_1_0.75_15_7_specs_no_40_dB_no\n",
      "FAILED:  zs_euclidean_pad_1_0.75_15_8_specs_no_40_dB_no\n",
      "FAILED:  zs_euclidean_pad_1_0.75_15_9_specs_no_40_dB_no\n",
      "FAILED:  zs_euclidean_pad_1_0.75_15_10_specs_no_40_dB_no\n",
      "/home/mthomas/Documents/MPI_work/projects/meerkat/meerkat_umap_pv/data/interim/parameter_search/grid_search_umap_params/zs_euclidean_pad_0_0.75_30_2_specs_no_40_dB_no\n",
      "/home/mthomas/Documents/MPI_work/projects/meerkat/meerkat_umap_pv/data/interim/parameter_search/grid_search_umap_params/zs_euclidean_pad_0_0.75_30_2_specs_no_40_dB_no\n",
      "/home/mthomas/Documents/MPI_work/projects/meerkat/meerkat_umap_pv/data/interim/parameter_search/grid_search_umap_params/zs_euclidean_pad_0_0.75_30_3_specs_no_40_dB_no\n",
      "/home/mthomas/Documents/MPI_work/projects/meerkat/meerkat_umap_pv/data/interim/parameter_search/grid_search_umap_params/zs_euclidean_pad_0_0.75_30_3_specs_no_40_dB_no\n",
      "/home/mthomas/Documents/MPI_work/projects/meerkat/meerkat_umap_pv/data/interim/parameter_search/grid_search_umap_params/zs_euclidean_pad_0_0.75_30_4_specs_no_40_dB_no\n",
      "/home/mthomas/Documents/MPI_work/projects/meerkat/meerkat_umap_pv/data/interim/parameter_search/grid_search_umap_params/zs_euclidean_pad_0_0.75_30_4_specs_no_40_dB_no\n",
      "/home/mthomas/Documents/MPI_work/projects/meerkat/meerkat_umap_pv/data/interim/parameter_search/grid_search_umap_params/zs_euclidean_pad_0_0.75_30_5_specs_no_40_dB_no\n",
      "/home/mthomas/Documents/MPI_work/projects/meerkat/meerkat_umap_pv/data/interim/parameter_search/grid_search_umap_params/zs_euclidean_pad_0_0.75_30_5_specs_no_40_dB_no\n",
      "/home/mthomas/Documents/MPI_work/projects/meerkat/meerkat_umap_pv/data/interim/parameter_search/grid_search_umap_params/zs_euclidean_pad_0_0.75_30_6_specs_no_40_dB_no\n",
      "/home/mthomas/Documents/MPI_work/projects/meerkat/meerkat_umap_pv/data/interim/parameter_search/grid_search_umap_params/zs_euclidean_pad_0_0.75_30_6_specs_no_40_dB_no\n",
      "/home/mthomas/Documents/MPI_work/projects/meerkat/meerkat_umap_pv/data/interim/parameter_search/grid_search_umap_params/zs_euclidean_pad_0_0.75_30_7_specs_no_40_dB_no\n",
      "/home/mthomas/Documents/MPI_work/projects/meerkat/meerkat_umap_pv/data/interim/parameter_search/grid_search_umap_params/zs_euclidean_pad_0_0.75_30_7_specs_no_40_dB_no\n",
      "/home/mthomas/Documents/MPI_work/projects/meerkat/meerkat_umap_pv/data/interim/parameter_search/grid_search_umap_params/zs_euclidean_pad_0_0.75_30_8_specs_no_40_dB_no\n",
      "/home/mthomas/Documents/MPI_work/projects/meerkat/meerkat_umap_pv/data/interim/parameter_search/grid_search_umap_params/zs_euclidean_pad_0_0.75_30_8_specs_no_40_dB_no\n",
      "/home/mthomas/Documents/MPI_work/projects/meerkat/meerkat_umap_pv/data/interim/parameter_search/grid_search_umap_params/zs_euclidean_pad_0_0.75_30_9_specs_no_40_dB_no\n",
      "/home/mthomas/Documents/MPI_work/projects/meerkat/meerkat_umap_pv/data/interim/parameter_search/grid_search_umap_params/zs_euclidean_pad_0_0.75_30_9_specs_no_40_dB_no\n",
      "/home/mthomas/Documents/MPI_work/projects/meerkat/meerkat_umap_pv/data/interim/parameter_search/grid_search_umap_params/zs_euclidean_pad_0_0.75_30_10_specs_no_40_dB_no\n",
      "/home/mthomas/Documents/MPI_work/projects/meerkat/meerkat_umap_pv/data/interim/parameter_search/grid_search_umap_params/zs_euclidean_pad_0_0.75_30_10_specs_no_40_dB_no\n",
      "/home/mthomas/Documents/MPI_work/projects/meerkat/meerkat_umap_pv/data/interim/parameter_search/grid_search_umap_params/zs_euclidean_pad_0.001_0.75_30_2_specs_no_40_dB_no\n",
      "/home/mthomas/Documents/MPI_work/projects/meerkat/meerkat_umap_pv/data/interim/parameter_search/grid_search_umap_params/zs_euclidean_pad_0.001_0.75_30_2_specs_no_40_dB_no\n",
      "/home/mthomas/Documents/MPI_work/projects/meerkat/meerkat_umap_pv/data/interim/parameter_search/grid_search_umap_params/zs_euclidean_pad_0.001_0.75_30_3_specs_no_40_dB_no\n",
      "/home/mthomas/Documents/MPI_work/projects/meerkat/meerkat_umap_pv/data/interim/parameter_search/grid_search_umap_params/zs_euclidean_pad_0.001_0.75_30_3_specs_no_40_dB_no\n",
      "/home/mthomas/Documents/MPI_work/projects/meerkat/meerkat_umap_pv/data/interim/parameter_search/grid_search_umap_params/zs_euclidean_pad_0.001_0.75_30_4_specs_no_40_dB_no\n",
      "/home/mthomas/Documents/MPI_work/projects/meerkat/meerkat_umap_pv/data/interim/parameter_search/grid_search_umap_params/zs_euclidean_pad_0.001_0.75_30_4_specs_no_40_dB_no\n",
      "/home/mthomas/Documents/MPI_work/projects/meerkat/meerkat_umap_pv/data/interim/parameter_search/grid_search_umap_params/zs_euclidean_pad_0.001_0.75_30_5_specs_no_40_dB_no\n",
      "/home/mthomas/Documents/MPI_work/projects/meerkat/meerkat_umap_pv/data/interim/parameter_search/grid_search_umap_params/zs_euclidean_pad_0.001_0.75_30_5_specs_no_40_dB_no\n",
      "/home/mthomas/Documents/MPI_work/projects/meerkat/meerkat_umap_pv/data/interim/parameter_search/grid_search_umap_params/zs_euclidean_pad_0.001_0.75_30_6_specs_no_40_dB_no\n",
      "/home/mthomas/Documents/MPI_work/projects/meerkat/meerkat_umap_pv/data/interim/parameter_search/grid_search_umap_params/zs_euclidean_pad_0.001_0.75_30_6_specs_no_40_dB_no\n",
      "/home/mthomas/Documents/MPI_work/projects/meerkat/meerkat_umap_pv/data/interim/parameter_search/grid_search_umap_params/zs_euclidean_pad_0.001_0.75_30_7_specs_no_40_dB_no\n",
      "/home/mthomas/Documents/MPI_work/projects/meerkat/meerkat_umap_pv/data/interim/parameter_search/grid_search_umap_params/zs_euclidean_pad_0.001_0.75_30_7_specs_no_40_dB_no\n",
      "/home/mthomas/Documents/MPI_work/projects/meerkat/meerkat_umap_pv/data/interim/parameter_search/grid_search_umap_params/zs_euclidean_pad_0.001_0.75_30_8_specs_no_40_dB_no\n",
      "/home/mthomas/Documents/MPI_work/projects/meerkat/meerkat_umap_pv/data/interim/parameter_search/grid_search_umap_params/zs_euclidean_pad_0.001_0.75_30_8_specs_no_40_dB_no\n",
      "/home/mthomas/Documents/MPI_work/projects/meerkat/meerkat_umap_pv/data/interim/parameter_search/grid_search_umap_params/zs_euclidean_pad_0.001_0.75_30_9_specs_no_40_dB_no\n",
      "/home/mthomas/Documents/MPI_work/projects/meerkat/meerkat_umap_pv/data/interim/parameter_search/grid_search_umap_params/zs_euclidean_pad_0.001_0.75_30_9_specs_no_40_dB_no\n",
      "/home/mthomas/Documents/MPI_work/projects/meerkat/meerkat_umap_pv/data/interim/parameter_search/grid_search_umap_params/zs_euclidean_pad_0.001_0.75_30_10_specs_no_40_dB_no\n",
      "/home/mthomas/Documents/MPI_work/projects/meerkat/meerkat_umap_pv/data/interim/parameter_search/grid_search_umap_params/zs_euclidean_pad_0.001_0.75_30_10_specs_no_40_dB_no\n",
      "/home/mthomas/Documents/MPI_work/projects/meerkat/meerkat_umap_pv/data/interim/parameter_search/grid_search_umap_params/zs_euclidean_pad_0.01_0.75_30_2_specs_no_40_dB_no\n",
      "/home/mthomas/Documents/MPI_work/projects/meerkat/meerkat_umap_pv/data/interim/parameter_search/grid_search_umap_params/zs_euclidean_pad_0.01_0.75_30_2_specs_no_40_dB_no\n",
      "/home/mthomas/Documents/MPI_work/projects/meerkat/meerkat_umap_pv/data/interim/parameter_search/grid_search_umap_params/zs_euclidean_pad_0.01_0.75_30_3_specs_no_40_dB_no\n",
      "/home/mthomas/Documents/MPI_work/projects/meerkat/meerkat_umap_pv/data/interim/parameter_search/grid_search_umap_params/zs_euclidean_pad_0.01_0.75_30_3_specs_no_40_dB_no\n",
      "/home/mthomas/Documents/MPI_work/projects/meerkat/meerkat_umap_pv/data/interim/parameter_search/grid_search_umap_params/zs_euclidean_pad_0.01_0.75_30_4_specs_no_40_dB_no\n",
      "/home/mthomas/Documents/MPI_work/projects/meerkat/meerkat_umap_pv/data/interim/parameter_search/grid_search_umap_params/zs_euclidean_pad_0.01_0.75_30_4_specs_no_40_dB_no\n",
      "/home/mthomas/Documents/MPI_work/projects/meerkat/meerkat_umap_pv/data/interim/parameter_search/grid_search_umap_params/zs_euclidean_pad_0.01_0.75_30_5_specs_no_40_dB_no\n",
      "/home/mthomas/Documents/MPI_work/projects/meerkat/meerkat_umap_pv/data/interim/parameter_search/grid_search_umap_params/zs_euclidean_pad_0.01_0.75_30_5_specs_no_40_dB_no\n",
      "/home/mthomas/Documents/MPI_work/projects/meerkat/meerkat_umap_pv/data/interim/parameter_search/grid_search_umap_params/zs_euclidean_pad_0.01_0.75_30_6_specs_no_40_dB_no\n",
      "/home/mthomas/Documents/MPI_work/projects/meerkat/meerkat_umap_pv/data/interim/parameter_search/grid_search_umap_params/zs_euclidean_pad_0.01_0.75_30_6_specs_no_40_dB_no\n",
      "/home/mthomas/Documents/MPI_work/projects/meerkat/meerkat_umap_pv/data/interim/parameter_search/grid_search_umap_params/zs_euclidean_pad_0.01_0.75_30_7_specs_no_40_dB_no\n",
      "/home/mthomas/Documents/MPI_work/projects/meerkat/meerkat_umap_pv/data/interim/parameter_search/grid_search_umap_params/zs_euclidean_pad_0.01_0.75_30_7_specs_no_40_dB_no\n",
      "/home/mthomas/Documents/MPI_work/projects/meerkat/meerkat_umap_pv/data/interim/parameter_search/grid_search_umap_params/zs_euclidean_pad_0.01_0.75_30_8_specs_no_40_dB_no\n",
      "/home/mthomas/Documents/MPI_work/projects/meerkat/meerkat_umap_pv/data/interim/parameter_search/grid_search_umap_params/zs_euclidean_pad_0.01_0.75_30_8_specs_no_40_dB_no\n",
      "/home/mthomas/Documents/MPI_work/projects/meerkat/meerkat_umap_pv/data/interim/parameter_search/grid_search_umap_params/zs_euclidean_pad_0.01_0.75_30_9_specs_no_40_dB_no\n",
      "/home/mthomas/Documents/MPI_work/projects/meerkat/meerkat_umap_pv/data/interim/parameter_search/grid_search_umap_params/zs_euclidean_pad_0.01_0.75_30_9_specs_no_40_dB_no\n",
      "/home/mthomas/Documents/MPI_work/projects/meerkat/meerkat_umap_pv/data/interim/parameter_search/grid_search_umap_params/zs_euclidean_pad_0.01_0.75_30_10_specs_no_40_dB_no\n",
      "/home/mthomas/Documents/MPI_work/projects/meerkat/meerkat_umap_pv/data/interim/parameter_search/grid_search_umap_params/zs_euclidean_pad_0.01_0.75_30_10_specs_no_40_dB_no\n",
      "/home/mthomas/Documents/MPI_work/projects/meerkat/meerkat_umap_pv/data/interim/parameter_search/grid_search_umap_params/zs_euclidean_pad_0.1_0.75_30_2_specs_no_40_dB_no\n",
      "/home/mthomas/Documents/MPI_work/projects/meerkat/meerkat_umap_pv/data/interim/parameter_search/grid_search_umap_params/zs_euclidean_pad_0.1_0.75_30_2_specs_no_40_dB_no\n",
      "/home/mthomas/Documents/MPI_work/projects/meerkat/meerkat_umap_pv/data/interim/parameter_search/grid_search_umap_params/zs_euclidean_pad_0.1_0.75_30_3_specs_no_40_dB_no\n",
      "/home/mthomas/Documents/MPI_work/projects/meerkat/meerkat_umap_pv/data/interim/parameter_search/grid_search_umap_params/zs_euclidean_pad_0.1_0.75_30_3_specs_no_40_dB_no\n",
      "/home/mthomas/Documents/MPI_work/projects/meerkat/meerkat_umap_pv/data/interim/parameter_search/grid_search_umap_params/zs_euclidean_pad_0.1_0.75_30_4_specs_no_40_dB_no\n",
      "/home/mthomas/Documents/MPI_work/projects/meerkat/meerkat_umap_pv/data/interim/parameter_search/grid_search_umap_params/zs_euclidean_pad_0.1_0.75_30_4_specs_no_40_dB_no\n",
      "/home/mthomas/Documents/MPI_work/projects/meerkat/meerkat_umap_pv/data/interim/parameter_search/grid_search_umap_params/zs_euclidean_pad_0.1_0.75_30_5_specs_no_40_dB_no\n",
      "/home/mthomas/Documents/MPI_work/projects/meerkat/meerkat_umap_pv/data/interim/parameter_search/grid_search_umap_params/zs_euclidean_pad_0.1_0.75_30_5_specs_no_40_dB_no\n",
      "/home/mthomas/Documents/MPI_work/projects/meerkat/meerkat_umap_pv/data/interim/parameter_search/grid_search_umap_params/zs_euclidean_pad_0.1_0.75_30_6_specs_no_40_dB_no\n",
      "/home/mthomas/Documents/MPI_work/projects/meerkat/meerkat_umap_pv/data/interim/parameter_search/grid_search_umap_params/zs_euclidean_pad_0.1_0.75_30_6_specs_no_40_dB_no\n",
      "/home/mthomas/Documents/MPI_work/projects/meerkat/meerkat_umap_pv/data/interim/parameter_search/grid_search_umap_params/zs_euclidean_pad_0.1_0.75_30_7_specs_no_40_dB_no\n",
      "/home/mthomas/Documents/MPI_work/projects/meerkat/meerkat_umap_pv/data/interim/parameter_search/grid_search_umap_params/zs_euclidean_pad_0.1_0.75_30_7_specs_no_40_dB_no\n",
      "/home/mthomas/Documents/MPI_work/projects/meerkat/meerkat_umap_pv/data/interim/parameter_search/grid_search_umap_params/zs_euclidean_pad_0.1_0.75_30_8_specs_no_40_dB_no\n",
      "/home/mthomas/Documents/MPI_work/projects/meerkat/meerkat_umap_pv/data/interim/parameter_search/grid_search_umap_params/zs_euclidean_pad_0.1_0.75_30_8_specs_no_40_dB_no\n",
      "/home/mthomas/Documents/MPI_work/projects/meerkat/meerkat_umap_pv/data/interim/parameter_search/grid_search_umap_params/zs_euclidean_pad_0.1_0.75_30_9_specs_no_40_dB_no\n",
      "/home/mthomas/Documents/MPI_work/projects/meerkat/meerkat_umap_pv/data/interim/parameter_search/grid_search_umap_params/zs_euclidean_pad_0.1_0.75_30_9_specs_no_40_dB_no\n",
      "/home/mthomas/Documents/MPI_work/projects/meerkat/meerkat_umap_pv/data/interim/parameter_search/grid_search_umap_params/zs_euclidean_pad_0.1_0.75_30_10_specs_no_40_dB_no\n",
      "/home/mthomas/Documents/MPI_work/projects/meerkat/meerkat_umap_pv/data/interim/parameter_search/grid_search_umap_params/zs_euclidean_pad_0.1_0.75_30_10_specs_no_40_dB_no\n",
      "FAILED:  zs_euclidean_pad_1_0.75_30_2_specs_no_40_dB_no\n",
      "FAILED:  zs_euclidean_pad_1_0.75_30_3_specs_no_40_dB_no\n",
      "FAILED:  zs_euclidean_pad_1_0.75_30_4_specs_no_40_dB_no\n",
      "FAILED:  zs_euclidean_pad_1_0.75_30_5_specs_no_40_dB_no\n",
      "FAILED:  zs_euclidean_pad_1_0.75_30_6_specs_no_40_dB_no\n",
      "FAILED:  zs_euclidean_pad_1_0.75_30_7_specs_no_40_dB_no\n",
      "FAILED:  zs_euclidean_pad_1_0.75_30_8_specs_no_40_dB_no\n",
      "FAILED:  zs_euclidean_pad_1_0.75_30_9_specs_no_40_dB_no\n",
      "FAILED:  zs_euclidean_pad_1_0.75_30_10_specs_no_40_dB_no\n",
      "/home/mthomas/Documents/MPI_work/projects/meerkat/meerkat_umap_pv/data/interim/parameter_search/grid_search_umap_params/zs_euclidean_pad_0_0.75_40_2_specs_no_40_dB_no\n",
      "/home/mthomas/Documents/MPI_work/projects/meerkat/meerkat_umap_pv/data/interim/parameter_search/grid_search_umap_params/zs_euclidean_pad_0_0.75_40_2_specs_no_40_dB_no\n",
      "/home/mthomas/Documents/MPI_work/projects/meerkat/meerkat_umap_pv/data/interim/parameter_search/grid_search_umap_params/zs_euclidean_pad_0_0.75_40_3_specs_no_40_dB_no\n",
      "/home/mthomas/Documents/MPI_work/projects/meerkat/meerkat_umap_pv/data/interim/parameter_search/grid_search_umap_params/zs_euclidean_pad_0_0.75_40_3_specs_no_40_dB_no\n",
      "/home/mthomas/Documents/MPI_work/projects/meerkat/meerkat_umap_pv/data/interim/parameter_search/grid_search_umap_params/zs_euclidean_pad_0_0.75_40_4_specs_no_40_dB_no\n",
      "/home/mthomas/Documents/MPI_work/projects/meerkat/meerkat_umap_pv/data/interim/parameter_search/grid_search_umap_params/zs_euclidean_pad_0_0.75_40_4_specs_no_40_dB_no\n",
      "/home/mthomas/Documents/MPI_work/projects/meerkat/meerkat_umap_pv/data/interim/parameter_search/grid_search_umap_params/zs_euclidean_pad_0_0.75_40_5_specs_no_40_dB_no\n",
      "/home/mthomas/Documents/MPI_work/projects/meerkat/meerkat_umap_pv/data/interim/parameter_search/grid_search_umap_params/zs_euclidean_pad_0_0.75_40_5_specs_no_40_dB_no\n",
      "/home/mthomas/Documents/MPI_work/projects/meerkat/meerkat_umap_pv/data/interim/parameter_search/grid_search_umap_params/zs_euclidean_pad_0_0.75_40_6_specs_no_40_dB_no\n",
      "/home/mthomas/Documents/MPI_work/projects/meerkat/meerkat_umap_pv/data/interim/parameter_search/grid_search_umap_params/zs_euclidean_pad_0_0.75_40_6_specs_no_40_dB_no\n",
      "/home/mthomas/Documents/MPI_work/projects/meerkat/meerkat_umap_pv/data/interim/parameter_search/grid_search_umap_params/zs_euclidean_pad_0_0.75_40_7_specs_no_40_dB_no\n",
      "/home/mthomas/Documents/MPI_work/projects/meerkat/meerkat_umap_pv/data/interim/parameter_search/grid_search_umap_params/zs_euclidean_pad_0_0.75_40_7_specs_no_40_dB_no\n",
      "/home/mthomas/Documents/MPI_work/projects/meerkat/meerkat_umap_pv/data/interim/parameter_search/grid_search_umap_params/zs_euclidean_pad_0_0.75_40_8_specs_no_40_dB_no\n",
      "/home/mthomas/Documents/MPI_work/projects/meerkat/meerkat_umap_pv/data/interim/parameter_search/grid_search_umap_params/zs_euclidean_pad_0_0.75_40_8_specs_no_40_dB_no\n",
      "/home/mthomas/Documents/MPI_work/projects/meerkat/meerkat_umap_pv/data/interim/parameter_search/grid_search_umap_params/zs_euclidean_pad_0_0.75_40_9_specs_no_40_dB_no\n",
      "/home/mthomas/Documents/MPI_work/projects/meerkat/meerkat_umap_pv/data/interim/parameter_search/grid_search_umap_params/zs_euclidean_pad_0_0.75_40_9_specs_no_40_dB_no\n",
      "/home/mthomas/Documents/MPI_work/projects/meerkat/meerkat_umap_pv/data/interim/parameter_search/grid_search_umap_params/zs_euclidean_pad_0_0.75_40_10_specs_no_40_dB_no\n",
      "/home/mthomas/Documents/MPI_work/projects/meerkat/meerkat_umap_pv/data/interim/parameter_search/grid_search_umap_params/zs_euclidean_pad_0_0.75_40_10_specs_no_40_dB_no\n",
      "/home/mthomas/Documents/MPI_work/projects/meerkat/meerkat_umap_pv/data/interim/parameter_search/grid_search_umap_params/zs_euclidean_pad_0.001_0.75_40_2_specs_no_40_dB_no\n",
      "/home/mthomas/Documents/MPI_work/projects/meerkat/meerkat_umap_pv/data/interim/parameter_search/grid_search_umap_params/zs_euclidean_pad_0.001_0.75_40_2_specs_no_40_dB_no\n",
      "/home/mthomas/Documents/MPI_work/projects/meerkat/meerkat_umap_pv/data/interim/parameter_search/grid_search_umap_params/zs_euclidean_pad_0.001_0.75_40_3_specs_no_40_dB_no\n",
      "/home/mthomas/Documents/MPI_work/projects/meerkat/meerkat_umap_pv/data/interim/parameter_search/grid_search_umap_params/zs_euclidean_pad_0.001_0.75_40_3_specs_no_40_dB_no\n",
      "/home/mthomas/Documents/MPI_work/projects/meerkat/meerkat_umap_pv/data/interim/parameter_search/grid_search_umap_params/zs_euclidean_pad_0.001_0.75_40_4_specs_no_40_dB_no\n",
      "/home/mthomas/Documents/MPI_work/projects/meerkat/meerkat_umap_pv/data/interim/parameter_search/grid_search_umap_params/zs_euclidean_pad_0.001_0.75_40_4_specs_no_40_dB_no\n",
      "/home/mthomas/Documents/MPI_work/projects/meerkat/meerkat_umap_pv/data/interim/parameter_search/grid_search_umap_params/zs_euclidean_pad_0.001_0.75_40_5_specs_no_40_dB_no\n",
      "/home/mthomas/Documents/MPI_work/projects/meerkat/meerkat_umap_pv/data/interim/parameter_search/grid_search_umap_params/zs_euclidean_pad_0.001_0.75_40_5_specs_no_40_dB_no\n",
      "/home/mthomas/Documents/MPI_work/projects/meerkat/meerkat_umap_pv/data/interim/parameter_search/grid_search_umap_params/zs_euclidean_pad_0.001_0.75_40_6_specs_no_40_dB_no\n",
      "/home/mthomas/Documents/MPI_work/projects/meerkat/meerkat_umap_pv/data/interim/parameter_search/grid_search_umap_params/zs_euclidean_pad_0.001_0.75_40_6_specs_no_40_dB_no\n",
      "/home/mthomas/Documents/MPI_work/projects/meerkat/meerkat_umap_pv/data/interim/parameter_search/grid_search_umap_params/zs_euclidean_pad_0.001_0.75_40_7_specs_no_40_dB_no\n",
      "/home/mthomas/Documents/MPI_work/projects/meerkat/meerkat_umap_pv/data/interim/parameter_search/grid_search_umap_params/zs_euclidean_pad_0.001_0.75_40_7_specs_no_40_dB_no\n",
      "/home/mthomas/Documents/MPI_work/projects/meerkat/meerkat_umap_pv/data/interim/parameter_search/grid_search_umap_params/zs_euclidean_pad_0.001_0.75_40_8_specs_no_40_dB_no\n",
      "/home/mthomas/Documents/MPI_work/projects/meerkat/meerkat_umap_pv/data/interim/parameter_search/grid_search_umap_params/zs_euclidean_pad_0.001_0.75_40_8_specs_no_40_dB_no\n",
      "/home/mthomas/Documents/MPI_work/projects/meerkat/meerkat_umap_pv/data/interim/parameter_search/grid_search_umap_params/zs_euclidean_pad_0.001_0.75_40_9_specs_no_40_dB_no\n",
      "/home/mthomas/Documents/MPI_work/projects/meerkat/meerkat_umap_pv/data/interim/parameter_search/grid_search_umap_params/zs_euclidean_pad_0.001_0.75_40_9_specs_no_40_dB_no\n",
      "/home/mthomas/Documents/MPI_work/projects/meerkat/meerkat_umap_pv/data/interim/parameter_search/grid_search_umap_params/zs_euclidean_pad_0.001_0.75_40_10_specs_no_40_dB_no\n",
      "/home/mthomas/Documents/MPI_work/projects/meerkat/meerkat_umap_pv/data/interim/parameter_search/grid_search_umap_params/zs_euclidean_pad_0.001_0.75_40_10_specs_no_40_dB_no\n",
      "/home/mthomas/Documents/MPI_work/projects/meerkat/meerkat_umap_pv/data/interim/parameter_search/grid_search_umap_params/zs_euclidean_pad_0.01_0.75_40_2_specs_no_40_dB_no\n",
      "/home/mthomas/Documents/MPI_work/projects/meerkat/meerkat_umap_pv/data/interim/parameter_search/grid_search_umap_params/zs_euclidean_pad_0.01_0.75_40_2_specs_no_40_dB_no\n",
      "/home/mthomas/Documents/MPI_work/projects/meerkat/meerkat_umap_pv/data/interim/parameter_search/grid_search_umap_params/zs_euclidean_pad_0.01_0.75_40_3_specs_no_40_dB_no\n",
      "/home/mthomas/Documents/MPI_work/projects/meerkat/meerkat_umap_pv/data/interim/parameter_search/grid_search_umap_params/zs_euclidean_pad_0.01_0.75_40_3_specs_no_40_dB_no\n",
      "/home/mthomas/Documents/MPI_work/projects/meerkat/meerkat_umap_pv/data/interim/parameter_search/grid_search_umap_params/zs_euclidean_pad_0.01_0.75_40_4_specs_no_40_dB_no\n",
      "/home/mthomas/Documents/MPI_work/projects/meerkat/meerkat_umap_pv/data/interim/parameter_search/grid_search_umap_params/zs_euclidean_pad_0.01_0.75_40_4_specs_no_40_dB_no\n",
      "/home/mthomas/Documents/MPI_work/projects/meerkat/meerkat_umap_pv/data/interim/parameter_search/grid_search_umap_params/zs_euclidean_pad_0.01_0.75_40_5_specs_no_40_dB_no\n",
      "/home/mthomas/Documents/MPI_work/projects/meerkat/meerkat_umap_pv/data/interim/parameter_search/grid_search_umap_params/zs_euclidean_pad_0.01_0.75_40_5_specs_no_40_dB_no\n",
      "/home/mthomas/Documents/MPI_work/projects/meerkat/meerkat_umap_pv/data/interim/parameter_search/grid_search_umap_params/zs_euclidean_pad_0.01_0.75_40_6_specs_no_40_dB_no\n",
      "/home/mthomas/Documents/MPI_work/projects/meerkat/meerkat_umap_pv/data/interim/parameter_search/grid_search_umap_params/zs_euclidean_pad_0.01_0.75_40_6_specs_no_40_dB_no\n",
      "/home/mthomas/Documents/MPI_work/projects/meerkat/meerkat_umap_pv/data/interim/parameter_search/grid_search_umap_params/zs_euclidean_pad_0.01_0.75_40_7_specs_no_40_dB_no\n",
      "/home/mthomas/Documents/MPI_work/projects/meerkat/meerkat_umap_pv/data/interim/parameter_search/grid_search_umap_params/zs_euclidean_pad_0.01_0.75_40_7_specs_no_40_dB_no\n",
      "/home/mthomas/Documents/MPI_work/projects/meerkat/meerkat_umap_pv/data/interim/parameter_search/grid_search_umap_params/zs_euclidean_pad_0.01_0.75_40_8_specs_no_40_dB_no\n",
      "/home/mthomas/Documents/MPI_work/projects/meerkat/meerkat_umap_pv/data/interim/parameter_search/grid_search_umap_params/zs_euclidean_pad_0.01_0.75_40_8_specs_no_40_dB_no\n",
      "/home/mthomas/Documents/MPI_work/projects/meerkat/meerkat_umap_pv/data/interim/parameter_search/grid_search_umap_params/zs_euclidean_pad_0.01_0.75_40_9_specs_no_40_dB_no\n",
      "/home/mthomas/Documents/MPI_work/projects/meerkat/meerkat_umap_pv/data/interim/parameter_search/grid_search_umap_params/zs_euclidean_pad_0.01_0.75_40_9_specs_no_40_dB_no\n",
      "/home/mthomas/Documents/MPI_work/projects/meerkat/meerkat_umap_pv/data/interim/parameter_search/grid_search_umap_params/zs_euclidean_pad_0.01_0.75_40_10_specs_no_40_dB_no\n",
      "/home/mthomas/Documents/MPI_work/projects/meerkat/meerkat_umap_pv/data/interim/parameter_search/grid_search_umap_params/zs_euclidean_pad_0.01_0.75_40_10_specs_no_40_dB_no\n",
      "/home/mthomas/Documents/MPI_work/projects/meerkat/meerkat_umap_pv/data/interim/parameter_search/grid_search_umap_params/zs_euclidean_pad_0.1_0.75_40_2_specs_no_40_dB_no\n",
      "/home/mthomas/Documents/MPI_work/projects/meerkat/meerkat_umap_pv/data/interim/parameter_search/grid_search_umap_params/zs_euclidean_pad_0.1_0.75_40_2_specs_no_40_dB_no\n",
      "/home/mthomas/Documents/MPI_work/projects/meerkat/meerkat_umap_pv/data/interim/parameter_search/grid_search_umap_params/zs_euclidean_pad_0.1_0.75_40_3_specs_no_40_dB_no\n",
      "/home/mthomas/Documents/MPI_work/projects/meerkat/meerkat_umap_pv/data/interim/parameter_search/grid_search_umap_params/zs_euclidean_pad_0.1_0.75_40_3_specs_no_40_dB_no\n",
      "/home/mthomas/Documents/MPI_work/projects/meerkat/meerkat_umap_pv/data/interim/parameter_search/grid_search_umap_params/zs_euclidean_pad_0.1_0.75_40_4_specs_no_40_dB_no\n",
      "/home/mthomas/Documents/MPI_work/projects/meerkat/meerkat_umap_pv/data/interim/parameter_search/grid_search_umap_params/zs_euclidean_pad_0.1_0.75_40_4_specs_no_40_dB_no\n",
      "/home/mthomas/Documents/MPI_work/projects/meerkat/meerkat_umap_pv/data/interim/parameter_search/grid_search_umap_params/zs_euclidean_pad_0.1_0.75_40_5_specs_no_40_dB_no\n",
      "/home/mthomas/Documents/MPI_work/projects/meerkat/meerkat_umap_pv/data/interim/parameter_search/grid_search_umap_params/zs_euclidean_pad_0.1_0.75_40_5_specs_no_40_dB_no\n",
      "/home/mthomas/Documents/MPI_work/projects/meerkat/meerkat_umap_pv/data/interim/parameter_search/grid_search_umap_params/zs_euclidean_pad_0.1_0.75_40_6_specs_no_40_dB_no\n",
      "/home/mthomas/Documents/MPI_work/projects/meerkat/meerkat_umap_pv/data/interim/parameter_search/grid_search_umap_params/zs_euclidean_pad_0.1_0.75_40_6_specs_no_40_dB_no\n",
      "/home/mthomas/Documents/MPI_work/projects/meerkat/meerkat_umap_pv/data/interim/parameter_search/grid_search_umap_params/zs_euclidean_pad_0.1_0.75_40_7_specs_no_40_dB_no\n",
      "/home/mthomas/Documents/MPI_work/projects/meerkat/meerkat_umap_pv/data/interim/parameter_search/grid_search_umap_params/zs_euclidean_pad_0.1_0.75_40_7_specs_no_40_dB_no\n",
      "/home/mthomas/Documents/MPI_work/projects/meerkat/meerkat_umap_pv/data/interim/parameter_search/grid_search_umap_params/zs_euclidean_pad_0.1_0.75_40_8_specs_no_40_dB_no\n",
      "/home/mthomas/Documents/MPI_work/projects/meerkat/meerkat_umap_pv/data/interim/parameter_search/grid_search_umap_params/zs_euclidean_pad_0.1_0.75_40_8_specs_no_40_dB_no\n",
      "/home/mthomas/Documents/MPI_work/projects/meerkat/meerkat_umap_pv/data/interim/parameter_search/grid_search_umap_params/zs_euclidean_pad_0.1_0.75_40_9_specs_no_40_dB_no\n",
      "/home/mthomas/Documents/MPI_work/projects/meerkat/meerkat_umap_pv/data/interim/parameter_search/grid_search_umap_params/zs_euclidean_pad_0.1_0.75_40_9_specs_no_40_dB_no\n",
      "/home/mthomas/Documents/MPI_work/projects/meerkat/meerkat_umap_pv/data/interim/parameter_search/grid_search_umap_params/zs_euclidean_pad_0.1_0.75_40_10_specs_no_40_dB_no\n",
      "/home/mthomas/Documents/MPI_work/projects/meerkat/meerkat_umap_pv/data/interim/parameter_search/grid_search_umap_params/zs_euclidean_pad_0.1_0.75_40_10_specs_no_40_dB_no\n",
      "FAILED:  zs_euclidean_pad_1_0.75_40_2_specs_no_40_dB_no\n",
      "FAILED:  zs_euclidean_pad_1_0.75_40_3_specs_no_40_dB_no\n",
      "FAILED:  zs_euclidean_pad_1_0.75_40_4_specs_no_40_dB_no\n",
      "FAILED:  zs_euclidean_pad_1_0.75_40_5_specs_no_40_dB_no\n",
      "FAILED:  zs_euclidean_pad_1_0.75_40_6_specs_no_40_dB_no\n",
      "FAILED:  zs_euclidean_pad_1_0.75_40_7_specs_no_40_dB_no\n",
      "FAILED:  zs_euclidean_pad_1_0.75_40_8_specs_no_40_dB_no\n",
      "FAILED:  zs_euclidean_pad_1_0.75_40_9_specs_no_40_dB_no\n",
      "FAILED:  zs_euclidean_pad_1_0.75_40_10_specs_no_40_dB_no\n",
      "/home/mthomas/Documents/MPI_work/projects/meerkat/meerkat_umap_pv/data/interim/parameter_search/grid_search_umap_params/zs_euclidean_pad_0_0.75_50_2_specs_no_40_dB_no\n",
      "/home/mthomas/Documents/MPI_work/projects/meerkat/meerkat_umap_pv/data/interim/parameter_search/grid_search_umap_params/zs_euclidean_pad_0_0.75_50_2_specs_no_40_dB_no\n",
      "/home/mthomas/Documents/MPI_work/projects/meerkat/meerkat_umap_pv/data/interim/parameter_search/grid_search_umap_params/zs_euclidean_pad_0_0.75_50_3_specs_no_40_dB_no\n",
      "/home/mthomas/Documents/MPI_work/projects/meerkat/meerkat_umap_pv/data/interim/parameter_search/grid_search_umap_params/zs_euclidean_pad_0_0.75_50_3_specs_no_40_dB_no\n",
      "/home/mthomas/Documents/MPI_work/projects/meerkat/meerkat_umap_pv/data/interim/parameter_search/grid_search_umap_params/zs_euclidean_pad_0_0.75_50_4_specs_no_40_dB_no\n",
      "/home/mthomas/Documents/MPI_work/projects/meerkat/meerkat_umap_pv/data/interim/parameter_search/grid_search_umap_params/zs_euclidean_pad_0_0.75_50_4_specs_no_40_dB_no\n",
      "/home/mthomas/Documents/MPI_work/projects/meerkat/meerkat_umap_pv/data/interim/parameter_search/grid_search_umap_params/zs_euclidean_pad_0_0.75_50_5_specs_no_40_dB_no\n",
      "/home/mthomas/Documents/MPI_work/projects/meerkat/meerkat_umap_pv/data/interim/parameter_search/grid_search_umap_params/zs_euclidean_pad_0_0.75_50_5_specs_no_40_dB_no\n",
      "/home/mthomas/Documents/MPI_work/projects/meerkat/meerkat_umap_pv/data/interim/parameter_search/grid_search_umap_params/zs_euclidean_pad_0_0.75_50_6_specs_no_40_dB_no\n",
      "/home/mthomas/Documents/MPI_work/projects/meerkat/meerkat_umap_pv/data/interim/parameter_search/grid_search_umap_params/zs_euclidean_pad_0_0.75_50_6_specs_no_40_dB_no\n",
      "/home/mthomas/Documents/MPI_work/projects/meerkat/meerkat_umap_pv/data/interim/parameter_search/grid_search_umap_params/zs_euclidean_pad_0_0.75_50_7_specs_no_40_dB_no\n",
      "/home/mthomas/Documents/MPI_work/projects/meerkat/meerkat_umap_pv/data/interim/parameter_search/grid_search_umap_params/zs_euclidean_pad_0_0.75_50_7_specs_no_40_dB_no\n",
      "/home/mthomas/Documents/MPI_work/projects/meerkat/meerkat_umap_pv/data/interim/parameter_search/grid_search_umap_params/zs_euclidean_pad_0_0.75_50_8_specs_no_40_dB_no\n",
      "/home/mthomas/Documents/MPI_work/projects/meerkat/meerkat_umap_pv/data/interim/parameter_search/grid_search_umap_params/zs_euclidean_pad_0_0.75_50_8_specs_no_40_dB_no\n",
      "/home/mthomas/Documents/MPI_work/projects/meerkat/meerkat_umap_pv/data/interim/parameter_search/grid_search_umap_params/zs_euclidean_pad_0_0.75_50_9_specs_no_40_dB_no\n",
      "/home/mthomas/Documents/MPI_work/projects/meerkat/meerkat_umap_pv/data/interim/parameter_search/grid_search_umap_params/zs_euclidean_pad_0_0.75_50_9_specs_no_40_dB_no\n",
      "/home/mthomas/Documents/MPI_work/projects/meerkat/meerkat_umap_pv/data/interim/parameter_search/grid_search_umap_params/zs_euclidean_pad_0_0.75_50_10_specs_no_40_dB_no\n",
      "/home/mthomas/Documents/MPI_work/projects/meerkat/meerkat_umap_pv/data/interim/parameter_search/grid_search_umap_params/zs_euclidean_pad_0_0.75_50_10_specs_no_40_dB_no\n",
      "/home/mthomas/Documents/MPI_work/projects/meerkat/meerkat_umap_pv/data/interim/parameter_search/grid_search_umap_params/zs_euclidean_pad_0.001_0.75_50_2_specs_no_40_dB_no\n",
      "/home/mthomas/Documents/MPI_work/projects/meerkat/meerkat_umap_pv/data/interim/parameter_search/grid_search_umap_params/zs_euclidean_pad_0.001_0.75_50_2_specs_no_40_dB_no\n",
      "/home/mthomas/Documents/MPI_work/projects/meerkat/meerkat_umap_pv/data/interim/parameter_search/grid_search_umap_params/zs_euclidean_pad_0.001_0.75_50_3_specs_no_40_dB_no\n",
      "/home/mthomas/Documents/MPI_work/projects/meerkat/meerkat_umap_pv/data/interim/parameter_search/grid_search_umap_params/zs_euclidean_pad_0.001_0.75_50_3_specs_no_40_dB_no\n",
      "/home/mthomas/Documents/MPI_work/projects/meerkat/meerkat_umap_pv/data/interim/parameter_search/grid_search_umap_params/zs_euclidean_pad_0.001_0.75_50_4_specs_no_40_dB_no\n",
      "/home/mthomas/Documents/MPI_work/projects/meerkat/meerkat_umap_pv/data/interim/parameter_search/grid_search_umap_params/zs_euclidean_pad_0.001_0.75_50_4_specs_no_40_dB_no\n",
      "/home/mthomas/Documents/MPI_work/projects/meerkat/meerkat_umap_pv/data/interim/parameter_search/grid_search_umap_params/zs_euclidean_pad_0.001_0.75_50_5_specs_no_40_dB_no\n",
      "/home/mthomas/Documents/MPI_work/projects/meerkat/meerkat_umap_pv/data/interim/parameter_search/grid_search_umap_params/zs_euclidean_pad_0.001_0.75_50_5_specs_no_40_dB_no\n",
      "/home/mthomas/Documents/MPI_work/projects/meerkat/meerkat_umap_pv/data/interim/parameter_search/grid_search_umap_params/zs_euclidean_pad_0.001_0.75_50_6_specs_no_40_dB_no\n",
      "/home/mthomas/Documents/MPI_work/projects/meerkat/meerkat_umap_pv/data/interim/parameter_search/grid_search_umap_params/zs_euclidean_pad_0.001_0.75_50_6_specs_no_40_dB_no\n",
      "/home/mthomas/Documents/MPI_work/projects/meerkat/meerkat_umap_pv/data/interim/parameter_search/grid_search_umap_params/zs_euclidean_pad_0.001_0.75_50_7_specs_no_40_dB_no\n",
      "/home/mthomas/Documents/MPI_work/projects/meerkat/meerkat_umap_pv/data/interim/parameter_search/grid_search_umap_params/zs_euclidean_pad_0.001_0.75_50_7_specs_no_40_dB_no\n",
      "/home/mthomas/Documents/MPI_work/projects/meerkat/meerkat_umap_pv/data/interim/parameter_search/grid_search_umap_params/zs_euclidean_pad_0.001_0.75_50_8_specs_no_40_dB_no\n",
      "/home/mthomas/Documents/MPI_work/projects/meerkat/meerkat_umap_pv/data/interim/parameter_search/grid_search_umap_params/zs_euclidean_pad_0.001_0.75_50_8_specs_no_40_dB_no\n",
      "/home/mthomas/Documents/MPI_work/projects/meerkat/meerkat_umap_pv/data/interim/parameter_search/grid_search_umap_params/zs_euclidean_pad_0.001_0.75_50_9_specs_no_40_dB_no\n",
      "/home/mthomas/Documents/MPI_work/projects/meerkat/meerkat_umap_pv/data/interim/parameter_search/grid_search_umap_params/zs_euclidean_pad_0.001_0.75_50_9_specs_no_40_dB_no\n",
      "/home/mthomas/Documents/MPI_work/projects/meerkat/meerkat_umap_pv/data/interim/parameter_search/grid_search_umap_params/zs_euclidean_pad_0.001_0.75_50_10_specs_no_40_dB_no\n",
      "/home/mthomas/Documents/MPI_work/projects/meerkat/meerkat_umap_pv/data/interim/parameter_search/grid_search_umap_params/zs_euclidean_pad_0.001_0.75_50_10_specs_no_40_dB_no\n",
      "/home/mthomas/Documents/MPI_work/projects/meerkat/meerkat_umap_pv/data/interim/parameter_search/grid_search_umap_params/zs_euclidean_pad_0.01_0.75_50_2_specs_no_40_dB_no\n",
      "/home/mthomas/Documents/MPI_work/projects/meerkat/meerkat_umap_pv/data/interim/parameter_search/grid_search_umap_params/zs_euclidean_pad_0.01_0.75_50_2_specs_no_40_dB_no\n",
      "/home/mthomas/Documents/MPI_work/projects/meerkat/meerkat_umap_pv/data/interim/parameter_search/grid_search_umap_params/zs_euclidean_pad_0.01_0.75_50_3_specs_no_40_dB_no\n",
      "/home/mthomas/Documents/MPI_work/projects/meerkat/meerkat_umap_pv/data/interim/parameter_search/grid_search_umap_params/zs_euclidean_pad_0.01_0.75_50_3_specs_no_40_dB_no\n",
      "/home/mthomas/Documents/MPI_work/projects/meerkat/meerkat_umap_pv/data/interim/parameter_search/grid_search_umap_params/zs_euclidean_pad_0.01_0.75_50_4_specs_no_40_dB_no\n",
      "/home/mthomas/Documents/MPI_work/projects/meerkat/meerkat_umap_pv/data/interim/parameter_search/grid_search_umap_params/zs_euclidean_pad_0.01_0.75_50_4_specs_no_40_dB_no\n",
      "/home/mthomas/Documents/MPI_work/projects/meerkat/meerkat_umap_pv/data/interim/parameter_search/grid_search_umap_params/zs_euclidean_pad_0.01_0.75_50_5_specs_no_40_dB_no\n",
      "/home/mthomas/Documents/MPI_work/projects/meerkat/meerkat_umap_pv/data/interim/parameter_search/grid_search_umap_params/zs_euclidean_pad_0.01_0.75_50_5_specs_no_40_dB_no\n",
      "/home/mthomas/Documents/MPI_work/projects/meerkat/meerkat_umap_pv/data/interim/parameter_search/grid_search_umap_params/zs_euclidean_pad_0.01_0.75_50_6_specs_no_40_dB_no\n",
      "/home/mthomas/Documents/MPI_work/projects/meerkat/meerkat_umap_pv/data/interim/parameter_search/grid_search_umap_params/zs_euclidean_pad_0.01_0.75_50_6_specs_no_40_dB_no\n",
      "/home/mthomas/Documents/MPI_work/projects/meerkat/meerkat_umap_pv/data/interim/parameter_search/grid_search_umap_params/zs_euclidean_pad_0.01_0.75_50_7_specs_no_40_dB_no\n",
      "/home/mthomas/Documents/MPI_work/projects/meerkat/meerkat_umap_pv/data/interim/parameter_search/grid_search_umap_params/zs_euclidean_pad_0.01_0.75_50_7_specs_no_40_dB_no\n",
      "/home/mthomas/Documents/MPI_work/projects/meerkat/meerkat_umap_pv/data/interim/parameter_search/grid_search_umap_params/zs_euclidean_pad_0.01_0.75_50_8_specs_no_40_dB_no\n",
      "/home/mthomas/Documents/MPI_work/projects/meerkat/meerkat_umap_pv/data/interim/parameter_search/grid_search_umap_params/zs_euclidean_pad_0.01_0.75_50_8_specs_no_40_dB_no\n",
      "/home/mthomas/Documents/MPI_work/projects/meerkat/meerkat_umap_pv/data/interim/parameter_search/grid_search_umap_params/zs_euclidean_pad_0.01_0.75_50_9_specs_no_40_dB_no\n",
      "/home/mthomas/Documents/MPI_work/projects/meerkat/meerkat_umap_pv/data/interim/parameter_search/grid_search_umap_params/zs_euclidean_pad_0.01_0.75_50_9_specs_no_40_dB_no\n",
      "/home/mthomas/Documents/MPI_work/projects/meerkat/meerkat_umap_pv/data/interim/parameter_search/grid_search_umap_params/zs_euclidean_pad_0.01_0.75_50_10_specs_no_40_dB_no\n",
      "/home/mthomas/Documents/MPI_work/projects/meerkat/meerkat_umap_pv/data/interim/parameter_search/grid_search_umap_params/zs_euclidean_pad_0.01_0.75_50_10_specs_no_40_dB_no\n",
      "/home/mthomas/Documents/MPI_work/projects/meerkat/meerkat_umap_pv/data/interim/parameter_search/grid_search_umap_params/zs_euclidean_pad_0.1_0.75_50_2_specs_no_40_dB_no\n",
      "/home/mthomas/Documents/MPI_work/projects/meerkat/meerkat_umap_pv/data/interim/parameter_search/grid_search_umap_params/zs_euclidean_pad_0.1_0.75_50_2_specs_no_40_dB_no\n",
      "/home/mthomas/Documents/MPI_work/projects/meerkat/meerkat_umap_pv/data/interim/parameter_search/grid_search_umap_params/zs_euclidean_pad_0.1_0.75_50_3_specs_no_40_dB_no\n",
      "/home/mthomas/Documents/MPI_work/projects/meerkat/meerkat_umap_pv/data/interim/parameter_search/grid_search_umap_params/zs_euclidean_pad_0.1_0.75_50_3_specs_no_40_dB_no\n",
      "/home/mthomas/Documents/MPI_work/projects/meerkat/meerkat_umap_pv/data/interim/parameter_search/grid_search_umap_params/zs_euclidean_pad_0.1_0.75_50_4_specs_no_40_dB_no\n",
      "/home/mthomas/Documents/MPI_work/projects/meerkat/meerkat_umap_pv/data/interim/parameter_search/grid_search_umap_params/zs_euclidean_pad_0.1_0.75_50_4_specs_no_40_dB_no\n",
      "/home/mthomas/Documents/MPI_work/projects/meerkat/meerkat_umap_pv/data/interim/parameter_search/grid_search_umap_params/zs_euclidean_pad_0.1_0.75_50_5_specs_no_40_dB_no\n",
      "/home/mthomas/Documents/MPI_work/projects/meerkat/meerkat_umap_pv/data/interim/parameter_search/grid_search_umap_params/zs_euclidean_pad_0.1_0.75_50_5_specs_no_40_dB_no\n",
      "/home/mthomas/Documents/MPI_work/projects/meerkat/meerkat_umap_pv/data/interim/parameter_search/grid_search_umap_params/zs_euclidean_pad_0.1_0.75_50_6_specs_no_40_dB_no\n",
      "/home/mthomas/Documents/MPI_work/projects/meerkat/meerkat_umap_pv/data/interim/parameter_search/grid_search_umap_params/zs_euclidean_pad_0.1_0.75_50_6_specs_no_40_dB_no\n",
      "/home/mthomas/Documents/MPI_work/projects/meerkat/meerkat_umap_pv/data/interim/parameter_search/grid_search_umap_params/zs_euclidean_pad_0.1_0.75_50_7_specs_no_40_dB_no\n",
      "/home/mthomas/Documents/MPI_work/projects/meerkat/meerkat_umap_pv/data/interim/parameter_search/grid_search_umap_params/zs_euclidean_pad_0.1_0.75_50_7_specs_no_40_dB_no\n",
      "/home/mthomas/Documents/MPI_work/projects/meerkat/meerkat_umap_pv/data/interim/parameter_search/grid_search_umap_params/zs_euclidean_pad_0.1_0.75_50_8_specs_no_40_dB_no\n",
      "/home/mthomas/Documents/MPI_work/projects/meerkat/meerkat_umap_pv/data/interim/parameter_search/grid_search_umap_params/zs_euclidean_pad_0.1_0.75_50_8_specs_no_40_dB_no\n",
      "/home/mthomas/Documents/MPI_work/projects/meerkat/meerkat_umap_pv/data/interim/parameter_search/grid_search_umap_params/zs_euclidean_pad_0.1_0.75_50_9_specs_no_40_dB_no\n",
      "/home/mthomas/Documents/MPI_work/projects/meerkat/meerkat_umap_pv/data/interim/parameter_search/grid_search_umap_params/zs_euclidean_pad_0.1_0.75_50_9_specs_no_40_dB_no\n",
      "/home/mthomas/Documents/MPI_work/projects/meerkat/meerkat_umap_pv/data/interim/parameter_search/grid_search_umap_params/zs_euclidean_pad_0.1_0.75_50_10_specs_no_40_dB_no\n",
      "/home/mthomas/Documents/MPI_work/projects/meerkat/meerkat_umap_pv/data/interim/parameter_search/grid_search_umap_params/zs_euclidean_pad_0.1_0.75_50_10_specs_no_40_dB_no\n",
      "FAILED:  zs_euclidean_pad_1_0.75_50_2_specs_no_40_dB_no\n",
      "FAILED:  zs_euclidean_pad_1_0.75_50_3_specs_no_40_dB_no\n",
      "FAILED:  zs_euclidean_pad_1_0.75_50_4_specs_no_40_dB_no\n",
      "FAILED:  zs_euclidean_pad_1_0.75_50_5_specs_no_40_dB_no\n",
      "FAILED:  zs_euclidean_pad_1_0.75_50_6_specs_no_40_dB_no\n",
      "FAILED:  zs_euclidean_pad_1_0.75_50_7_specs_no_40_dB_no\n",
      "FAILED:  zs_euclidean_pad_1_0.75_50_8_specs_no_40_dB_no\n",
      "FAILED:  zs_euclidean_pad_1_0.75_50_9_specs_no_40_dB_no\n",
      "FAILED:  zs_euclidean_pad_1_0.75_50_10_specs_no_40_dB_no\n",
      "/home/mthomas/Documents/MPI_work/projects/meerkat/meerkat_umap_pv/data/interim/parameter_search/grid_search_umap_params/zs_euclidean_pad_0_0.75_100_2_specs_no_40_dB_no\n",
      "/home/mthomas/Documents/MPI_work/projects/meerkat/meerkat_umap_pv/data/interim/parameter_search/grid_search_umap_params/zs_euclidean_pad_0_0.75_100_2_specs_no_40_dB_no\n",
      "/home/mthomas/Documents/MPI_work/projects/meerkat/meerkat_umap_pv/data/interim/parameter_search/grid_search_umap_params/zs_euclidean_pad_0_0.75_100_3_specs_no_40_dB_no\n",
      "/home/mthomas/Documents/MPI_work/projects/meerkat/meerkat_umap_pv/data/interim/parameter_search/grid_search_umap_params/zs_euclidean_pad_0_0.75_100_3_specs_no_40_dB_no\n",
      "/home/mthomas/Documents/MPI_work/projects/meerkat/meerkat_umap_pv/data/interim/parameter_search/grid_search_umap_params/zs_euclidean_pad_0_0.75_100_4_specs_no_40_dB_no\n",
      "/home/mthomas/Documents/MPI_work/projects/meerkat/meerkat_umap_pv/data/interim/parameter_search/grid_search_umap_params/zs_euclidean_pad_0_0.75_100_4_specs_no_40_dB_no\n",
      "/home/mthomas/Documents/MPI_work/projects/meerkat/meerkat_umap_pv/data/interim/parameter_search/grid_search_umap_params/zs_euclidean_pad_0_0.75_100_5_specs_no_40_dB_no\n",
      "/home/mthomas/Documents/MPI_work/projects/meerkat/meerkat_umap_pv/data/interim/parameter_search/grid_search_umap_params/zs_euclidean_pad_0_0.75_100_5_specs_no_40_dB_no\n",
      "/home/mthomas/Documents/MPI_work/projects/meerkat/meerkat_umap_pv/data/interim/parameter_search/grid_search_umap_params/zs_euclidean_pad_0_0.75_100_6_specs_no_40_dB_no\n",
      "/home/mthomas/Documents/MPI_work/projects/meerkat/meerkat_umap_pv/data/interim/parameter_search/grid_search_umap_params/zs_euclidean_pad_0_0.75_100_6_specs_no_40_dB_no\n",
      "/home/mthomas/Documents/MPI_work/projects/meerkat/meerkat_umap_pv/data/interim/parameter_search/grid_search_umap_params/zs_euclidean_pad_0_0.75_100_7_specs_no_40_dB_no\n",
      "/home/mthomas/Documents/MPI_work/projects/meerkat/meerkat_umap_pv/data/interim/parameter_search/grid_search_umap_params/zs_euclidean_pad_0_0.75_100_7_specs_no_40_dB_no\n",
      "/home/mthomas/Documents/MPI_work/projects/meerkat/meerkat_umap_pv/data/interim/parameter_search/grid_search_umap_params/zs_euclidean_pad_0_0.75_100_8_specs_no_40_dB_no\n",
      "/home/mthomas/Documents/MPI_work/projects/meerkat/meerkat_umap_pv/data/interim/parameter_search/grid_search_umap_params/zs_euclidean_pad_0_0.75_100_8_specs_no_40_dB_no\n",
      "/home/mthomas/Documents/MPI_work/projects/meerkat/meerkat_umap_pv/data/interim/parameter_search/grid_search_umap_params/zs_euclidean_pad_0_0.75_100_9_specs_no_40_dB_no\n",
      "/home/mthomas/Documents/MPI_work/projects/meerkat/meerkat_umap_pv/data/interim/parameter_search/grid_search_umap_params/zs_euclidean_pad_0_0.75_100_9_specs_no_40_dB_no\n",
      "/home/mthomas/Documents/MPI_work/projects/meerkat/meerkat_umap_pv/data/interim/parameter_search/grid_search_umap_params/zs_euclidean_pad_0_0.75_100_10_specs_no_40_dB_no\n",
      "/home/mthomas/Documents/MPI_work/projects/meerkat/meerkat_umap_pv/data/interim/parameter_search/grid_search_umap_params/zs_euclidean_pad_0_0.75_100_10_specs_no_40_dB_no\n",
      "/home/mthomas/Documents/MPI_work/projects/meerkat/meerkat_umap_pv/data/interim/parameter_search/grid_search_umap_params/zs_euclidean_pad_0.001_0.75_100_2_specs_no_40_dB_no\n",
      "/home/mthomas/Documents/MPI_work/projects/meerkat/meerkat_umap_pv/data/interim/parameter_search/grid_search_umap_params/zs_euclidean_pad_0.001_0.75_100_2_specs_no_40_dB_no\n",
      "/home/mthomas/Documents/MPI_work/projects/meerkat/meerkat_umap_pv/data/interim/parameter_search/grid_search_umap_params/zs_euclidean_pad_0.001_0.75_100_3_specs_no_40_dB_no\n",
      "/home/mthomas/Documents/MPI_work/projects/meerkat/meerkat_umap_pv/data/interim/parameter_search/grid_search_umap_params/zs_euclidean_pad_0.001_0.75_100_3_specs_no_40_dB_no\n",
      "/home/mthomas/Documents/MPI_work/projects/meerkat/meerkat_umap_pv/data/interim/parameter_search/grid_search_umap_params/zs_euclidean_pad_0.001_0.75_100_4_specs_no_40_dB_no\n",
      "/home/mthomas/Documents/MPI_work/projects/meerkat/meerkat_umap_pv/data/interim/parameter_search/grid_search_umap_params/zs_euclidean_pad_0.001_0.75_100_4_specs_no_40_dB_no\n",
      "/home/mthomas/Documents/MPI_work/projects/meerkat/meerkat_umap_pv/data/interim/parameter_search/grid_search_umap_params/zs_euclidean_pad_0.001_0.75_100_5_specs_no_40_dB_no\n",
      "/home/mthomas/Documents/MPI_work/projects/meerkat/meerkat_umap_pv/data/interim/parameter_search/grid_search_umap_params/zs_euclidean_pad_0.001_0.75_100_5_specs_no_40_dB_no\n",
      "/home/mthomas/Documents/MPI_work/projects/meerkat/meerkat_umap_pv/data/interim/parameter_search/grid_search_umap_params/zs_euclidean_pad_0.001_0.75_100_6_specs_no_40_dB_no\n",
      "/home/mthomas/Documents/MPI_work/projects/meerkat/meerkat_umap_pv/data/interim/parameter_search/grid_search_umap_params/zs_euclidean_pad_0.001_0.75_100_6_specs_no_40_dB_no\n",
      "/home/mthomas/Documents/MPI_work/projects/meerkat/meerkat_umap_pv/data/interim/parameter_search/grid_search_umap_params/zs_euclidean_pad_0.001_0.75_100_7_specs_no_40_dB_no\n",
      "/home/mthomas/Documents/MPI_work/projects/meerkat/meerkat_umap_pv/data/interim/parameter_search/grid_search_umap_params/zs_euclidean_pad_0.001_0.75_100_7_specs_no_40_dB_no\n",
      "/home/mthomas/Documents/MPI_work/projects/meerkat/meerkat_umap_pv/data/interim/parameter_search/grid_search_umap_params/zs_euclidean_pad_0.001_0.75_100_8_specs_no_40_dB_no\n",
      "/home/mthomas/Documents/MPI_work/projects/meerkat/meerkat_umap_pv/data/interim/parameter_search/grid_search_umap_params/zs_euclidean_pad_0.001_0.75_100_8_specs_no_40_dB_no\n",
      "/home/mthomas/Documents/MPI_work/projects/meerkat/meerkat_umap_pv/data/interim/parameter_search/grid_search_umap_params/zs_euclidean_pad_0.001_0.75_100_9_specs_no_40_dB_no\n",
      "/home/mthomas/Documents/MPI_work/projects/meerkat/meerkat_umap_pv/data/interim/parameter_search/grid_search_umap_params/zs_euclidean_pad_0.001_0.75_100_9_specs_no_40_dB_no\n",
      "/home/mthomas/Documents/MPI_work/projects/meerkat/meerkat_umap_pv/data/interim/parameter_search/grid_search_umap_params/zs_euclidean_pad_0.001_0.75_100_10_specs_no_40_dB_no\n",
      "/home/mthomas/Documents/MPI_work/projects/meerkat/meerkat_umap_pv/data/interim/parameter_search/grid_search_umap_params/zs_euclidean_pad_0.001_0.75_100_10_specs_no_40_dB_no\n",
      "/home/mthomas/Documents/MPI_work/projects/meerkat/meerkat_umap_pv/data/interim/parameter_search/grid_search_umap_params/zs_euclidean_pad_0.01_0.75_100_2_specs_no_40_dB_no\n",
      "/home/mthomas/Documents/MPI_work/projects/meerkat/meerkat_umap_pv/data/interim/parameter_search/grid_search_umap_params/zs_euclidean_pad_0.01_0.75_100_2_specs_no_40_dB_no\n",
      "/home/mthomas/Documents/MPI_work/projects/meerkat/meerkat_umap_pv/data/interim/parameter_search/grid_search_umap_params/zs_euclidean_pad_0.01_0.75_100_3_specs_no_40_dB_no\n",
      "/home/mthomas/Documents/MPI_work/projects/meerkat/meerkat_umap_pv/data/interim/parameter_search/grid_search_umap_params/zs_euclidean_pad_0.01_0.75_100_3_specs_no_40_dB_no\n",
      "/home/mthomas/Documents/MPI_work/projects/meerkat/meerkat_umap_pv/data/interim/parameter_search/grid_search_umap_params/zs_euclidean_pad_0.01_0.75_100_4_specs_no_40_dB_no\n",
      "/home/mthomas/Documents/MPI_work/projects/meerkat/meerkat_umap_pv/data/interim/parameter_search/grid_search_umap_params/zs_euclidean_pad_0.01_0.75_100_4_specs_no_40_dB_no\n",
      "/home/mthomas/Documents/MPI_work/projects/meerkat/meerkat_umap_pv/data/interim/parameter_search/grid_search_umap_params/zs_euclidean_pad_0.01_0.75_100_5_specs_no_40_dB_no\n",
      "/home/mthomas/Documents/MPI_work/projects/meerkat/meerkat_umap_pv/data/interim/parameter_search/grid_search_umap_params/zs_euclidean_pad_0.01_0.75_100_5_specs_no_40_dB_no\n",
      "/home/mthomas/Documents/MPI_work/projects/meerkat/meerkat_umap_pv/data/interim/parameter_search/grid_search_umap_params/zs_euclidean_pad_0.01_0.75_100_6_specs_no_40_dB_no\n",
      "/home/mthomas/Documents/MPI_work/projects/meerkat/meerkat_umap_pv/data/interim/parameter_search/grid_search_umap_params/zs_euclidean_pad_0.01_0.75_100_6_specs_no_40_dB_no\n",
      "/home/mthomas/Documents/MPI_work/projects/meerkat/meerkat_umap_pv/data/interim/parameter_search/grid_search_umap_params/zs_euclidean_pad_0.01_0.75_100_7_specs_no_40_dB_no\n",
      "/home/mthomas/Documents/MPI_work/projects/meerkat/meerkat_umap_pv/data/interim/parameter_search/grid_search_umap_params/zs_euclidean_pad_0.01_0.75_100_7_specs_no_40_dB_no\n",
      "/home/mthomas/Documents/MPI_work/projects/meerkat/meerkat_umap_pv/data/interim/parameter_search/grid_search_umap_params/zs_euclidean_pad_0.01_0.75_100_8_specs_no_40_dB_no\n",
      "/home/mthomas/Documents/MPI_work/projects/meerkat/meerkat_umap_pv/data/interim/parameter_search/grid_search_umap_params/zs_euclidean_pad_0.01_0.75_100_8_specs_no_40_dB_no\n",
      "/home/mthomas/Documents/MPI_work/projects/meerkat/meerkat_umap_pv/data/interim/parameter_search/grid_search_umap_params/zs_euclidean_pad_0.01_0.75_100_9_specs_no_40_dB_no\n",
      "/home/mthomas/Documents/MPI_work/projects/meerkat/meerkat_umap_pv/data/interim/parameter_search/grid_search_umap_params/zs_euclidean_pad_0.01_0.75_100_9_specs_no_40_dB_no\n",
      "/home/mthomas/Documents/MPI_work/projects/meerkat/meerkat_umap_pv/data/interim/parameter_search/grid_search_umap_params/zs_euclidean_pad_0.01_0.75_100_10_specs_no_40_dB_no\n",
      "/home/mthomas/Documents/MPI_work/projects/meerkat/meerkat_umap_pv/data/interim/parameter_search/grid_search_umap_params/zs_euclidean_pad_0.01_0.75_100_10_specs_no_40_dB_no\n",
      "/home/mthomas/Documents/MPI_work/projects/meerkat/meerkat_umap_pv/data/interim/parameter_search/grid_search_umap_params/zs_euclidean_pad_0.1_0.75_100_2_specs_no_40_dB_no\n",
      "/home/mthomas/Documents/MPI_work/projects/meerkat/meerkat_umap_pv/data/interim/parameter_search/grid_search_umap_params/zs_euclidean_pad_0.1_0.75_100_2_specs_no_40_dB_no\n",
      "/home/mthomas/Documents/MPI_work/projects/meerkat/meerkat_umap_pv/data/interim/parameter_search/grid_search_umap_params/zs_euclidean_pad_0.1_0.75_100_3_specs_no_40_dB_no\n",
      "/home/mthomas/Documents/MPI_work/projects/meerkat/meerkat_umap_pv/data/interim/parameter_search/grid_search_umap_params/zs_euclidean_pad_0.1_0.75_100_3_specs_no_40_dB_no\n",
      "/home/mthomas/Documents/MPI_work/projects/meerkat/meerkat_umap_pv/data/interim/parameter_search/grid_search_umap_params/zs_euclidean_pad_0.1_0.75_100_4_specs_no_40_dB_no\n",
      "/home/mthomas/Documents/MPI_work/projects/meerkat/meerkat_umap_pv/data/interim/parameter_search/grid_search_umap_params/zs_euclidean_pad_0.1_0.75_100_4_specs_no_40_dB_no\n",
      "/home/mthomas/Documents/MPI_work/projects/meerkat/meerkat_umap_pv/data/interim/parameter_search/grid_search_umap_params/zs_euclidean_pad_0.1_0.75_100_5_specs_no_40_dB_no\n",
      "/home/mthomas/Documents/MPI_work/projects/meerkat/meerkat_umap_pv/data/interim/parameter_search/grid_search_umap_params/zs_euclidean_pad_0.1_0.75_100_5_specs_no_40_dB_no\n",
      "/home/mthomas/Documents/MPI_work/projects/meerkat/meerkat_umap_pv/data/interim/parameter_search/grid_search_umap_params/zs_euclidean_pad_0.1_0.75_100_6_specs_no_40_dB_no\n",
      "/home/mthomas/Documents/MPI_work/projects/meerkat/meerkat_umap_pv/data/interim/parameter_search/grid_search_umap_params/zs_euclidean_pad_0.1_0.75_100_6_specs_no_40_dB_no\n",
      "/home/mthomas/Documents/MPI_work/projects/meerkat/meerkat_umap_pv/data/interim/parameter_search/grid_search_umap_params/zs_euclidean_pad_0.1_0.75_100_7_specs_no_40_dB_no\n",
      "/home/mthomas/Documents/MPI_work/projects/meerkat/meerkat_umap_pv/data/interim/parameter_search/grid_search_umap_params/zs_euclidean_pad_0.1_0.75_100_7_specs_no_40_dB_no\n",
      "/home/mthomas/Documents/MPI_work/projects/meerkat/meerkat_umap_pv/data/interim/parameter_search/grid_search_umap_params/zs_euclidean_pad_0.1_0.75_100_8_specs_no_40_dB_no\n",
      "/home/mthomas/Documents/MPI_work/projects/meerkat/meerkat_umap_pv/data/interim/parameter_search/grid_search_umap_params/zs_euclidean_pad_0.1_0.75_100_8_specs_no_40_dB_no\n",
      "/home/mthomas/Documents/MPI_work/projects/meerkat/meerkat_umap_pv/data/interim/parameter_search/grid_search_umap_params/zs_euclidean_pad_0.1_0.75_100_9_specs_no_40_dB_no\n",
      "/home/mthomas/Documents/MPI_work/projects/meerkat/meerkat_umap_pv/data/interim/parameter_search/grid_search_umap_params/zs_euclidean_pad_0.1_0.75_100_9_specs_no_40_dB_no\n",
      "/home/mthomas/Documents/MPI_work/projects/meerkat/meerkat_umap_pv/data/interim/parameter_search/grid_search_umap_params/zs_euclidean_pad_0.1_0.75_100_10_specs_no_40_dB_no\n",
      "/home/mthomas/Documents/MPI_work/projects/meerkat/meerkat_umap_pv/data/interim/parameter_search/grid_search_umap_params/zs_euclidean_pad_0.1_0.75_100_10_specs_no_40_dB_no\n",
      "FAILED:  zs_euclidean_pad_1_0.75_100_2_specs_no_40_dB_no\n",
      "FAILED:  zs_euclidean_pad_1_0.75_100_3_specs_no_40_dB_no\n",
      "FAILED:  zs_euclidean_pad_1_0.75_100_4_specs_no_40_dB_no\n",
      "FAILED:  zs_euclidean_pad_1_0.75_100_5_specs_no_40_dB_no\n",
      "FAILED:  zs_euclidean_pad_1_0.75_100_6_specs_no_40_dB_no\n",
      "FAILED:  zs_euclidean_pad_1_0.75_100_7_specs_no_40_dB_no\n",
      "FAILED:  zs_euclidean_pad_1_0.75_100_8_specs_no_40_dB_no\n",
      "FAILED:  zs_euclidean_pad_1_0.75_100_9_specs_no_40_dB_no\n",
      "FAILED:  zs_euclidean_pad_1_0.75_100_10_specs_no_40_dB_no\n",
      "/home/mthomas/Documents/MPI_work/projects/meerkat/meerkat_umap_pv/data/interim/parameter_search/grid_search_umap_params/zs_euclidean_pad_0_0.75_150_2_specs_no_40_dB_no\n",
      "/home/mthomas/Documents/MPI_work/projects/meerkat/meerkat_umap_pv/data/interim/parameter_search/grid_search_umap_params/zs_euclidean_pad_0_0.75_150_2_specs_no_40_dB_no\n",
      "/home/mthomas/Documents/MPI_work/projects/meerkat/meerkat_umap_pv/data/interim/parameter_search/grid_search_umap_params/zs_euclidean_pad_0_0.75_150_3_specs_no_40_dB_no\n",
      "/home/mthomas/Documents/MPI_work/projects/meerkat/meerkat_umap_pv/data/interim/parameter_search/grid_search_umap_params/zs_euclidean_pad_0_0.75_150_3_specs_no_40_dB_no\n",
      "/home/mthomas/Documents/MPI_work/projects/meerkat/meerkat_umap_pv/data/interim/parameter_search/grid_search_umap_params/zs_euclidean_pad_0_0.75_150_4_specs_no_40_dB_no\n",
      "/home/mthomas/Documents/MPI_work/projects/meerkat/meerkat_umap_pv/data/interim/parameter_search/grid_search_umap_params/zs_euclidean_pad_0_0.75_150_4_specs_no_40_dB_no\n",
      "/home/mthomas/Documents/MPI_work/projects/meerkat/meerkat_umap_pv/data/interim/parameter_search/grid_search_umap_params/zs_euclidean_pad_0_0.75_150_5_specs_no_40_dB_no\n",
      "/home/mthomas/Documents/MPI_work/projects/meerkat/meerkat_umap_pv/data/interim/parameter_search/grid_search_umap_params/zs_euclidean_pad_0_0.75_150_5_specs_no_40_dB_no\n",
      "/home/mthomas/Documents/MPI_work/projects/meerkat/meerkat_umap_pv/data/interim/parameter_search/grid_search_umap_params/zs_euclidean_pad_0_0.75_150_6_specs_no_40_dB_no\n",
      "/home/mthomas/Documents/MPI_work/projects/meerkat/meerkat_umap_pv/data/interim/parameter_search/grid_search_umap_params/zs_euclidean_pad_0_0.75_150_6_specs_no_40_dB_no\n",
      "/home/mthomas/Documents/MPI_work/projects/meerkat/meerkat_umap_pv/data/interim/parameter_search/grid_search_umap_params/zs_euclidean_pad_0_0.75_150_7_specs_no_40_dB_no\n",
      "/home/mthomas/Documents/MPI_work/projects/meerkat/meerkat_umap_pv/data/interim/parameter_search/grid_search_umap_params/zs_euclidean_pad_0_0.75_150_7_specs_no_40_dB_no\n",
      "/home/mthomas/Documents/MPI_work/projects/meerkat/meerkat_umap_pv/data/interim/parameter_search/grid_search_umap_params/zs_euclidean_pad_0_0.75_150_8_specs_no_40_dB_no\n",
      "/home/mthomas/Documents/MPI_work/projects/meerkat/meerkat_umap_pv/data/interim/parameter_search/grid_search_umap_params/zs_euclidean_pad_0_0.75_150_8_specs_no_40_dB_no\n",
      "/home/mthomas/Documents/MPI_work/projects/meerkat/meerkat_umap_pv/data/interim/parameter_search/grid_search_umap_params/zs_euclidean_pad_0_0.75_150_9_specs_no_40_dB_no\n",
      "/home/mthomas/Documents/MPI_work/projects/meerkat/meerkat_umap_pv/data/interim/parameter_search/grid_search_umap_params/zs_euclidean_pad_0_0.75_150_9_specs_no_40_dB_no\n",
      "/home/mthomas/Documents/MPI_work/projects/meerkat/meerkat_umap_pv/data/interim/parameter_search/grid_search_umap_params/zs_euclidean_pad_0_0.75_150_10_specs_no_40_dB_no\n",
      "/home/mthomas/Documents/MPI_work/projects/meerkat/meerkat_umap_pv/data/interim/parameter_search/grid_search_umap_params/zs_euclidean_pad_0_0.75_150_10_specs_no_40_dB_no\n",
      "/home/mthomas/Documents/MPI_work/projects/meerkat/meerkat_umap_pv/data/interim/parameter_search/grid_search_umap_params/zs_euclidean_pad_0.001_0.75_150_2_specs_no_40_dB_no\n",
      "/home/mthomas/Documents/MPI_work/projects/meerkat/meerkat_umap_pv/data/interim/parameter_search/grid_search_umap_params/zs_euclidean_pad_0.001_0.75_150_2_specs_no_40_dB_no\n",
      "/home/mthomas/Documents/MPI_work/projects/meerkat/meerkat_umap_pv/data/interim/parameter_search/grid_search_umap_params/zs_euclidean_pad_0.001_0.75_150_3_specs_no_40_dB_no\n",
      "/home/mthomas/Documents/MPI_work/projects/meerkat/meerkat_umap_pv/data/interim/parameter_search/grid_search_umap_params/zs_euclidean_pad_0.001_0.75_150_3_specs_no_40_dB_no\n",
      "/home/mthomas/Documents/MPI_work/projects/meerkat/meerkat_umap_pv/data/interim/parameter_search/grid_search_umap_params/zs_euclidean_pad_0.001_0.75_150_4_specs_no_40_dB_no\n",
      "/home/mthomas/Documents/MPI_work/projects/meerkat/meerkat_umap_pv/data/interim/parameter_search/grid_search_umap_params/zs_euclidean_pad_0.001_0.75_150_4_specs_no_40_dB_no\n",
      "/home/mthomas/Documents/MPI_work/projects/meerkat/meerkat_umap_pv/data/interim/parameter_search/grid_search_umap_params/zs_euclidean_pad_0.001_0.75_150_5_specs_no_40_dB_no\n",
      "/home/mthomas/Documents/MPI_work/projects/meerkat/meerkat_umap_pv/data/interim/parameter_search/grid_search_umap_params/zs_euclidean_pad_0.001_0.75_150_5_specs_no_40_dB_no\n",
      "/home/mthomas/Documents/MPI_work/projects/meerkat/meerkat_umap_pv/data/interim/parameter_search/grid_search_umap_params/zs_euclidean_pad_0.001_0.75_150_6_specs_no_40_dB_no\n",
      "/home/mthomas/Documents/MPI_work/projects/meerkat/meerkat_umap_pv/data/interim/parameter_search/grid_search_umap_params/zs_euclidean_pad_0.001_0.75_150_6_specs_no_40_dB_no\n",
      "/home/mthomas/Documents/MPI_work/projects/meerkat/meerkat_umap_pv/data/interim/parameter_search/grid_search_umap_params/zs_euclidean_pad_0.001_0.75_150_7_specs_no_40_dB_no\n",
      "/home/mthomas/Documents/MPI_work/projects/meerkat/meerkat_umap_pv/data/interim/parameter_search/grid_search_umap_params/zs_euclidean_pad_0.001_0.75_150_7_specs_no_40_dB_no\n",
      "/home/mthomas/Documents/MPI_work/projects/meerkat/meerkat_umap_pv/data/interim/parameter_search/grid_search_umap_params/zs_euclidean_pad_0.001_0.75_150_8_specs_no_40_dB_no\n",
      "/home/mthomas/Documents/MPI_work/projects/meerkat/meerkat_umap_pv/data/interim/parameter_search/grid_search_umap_params/zs_euclidean_pad_0.001_0.75_150_8_specs_no_40_dB_no\n",
      "/home/mthomas/Documents/MPI_work/projects/meerkat/meerkat_umap_pv/data/interim/parameter_search/grid_search_umap_params/zs_euclidean_pad_0.001_0.75_150_9_specs_no_40_dB_no\n",
      "/home/mthomas/Documents/MPI_work/projects/meerkat/meerkat_umap_pv/data/interim/parameter_search/grid_search_umap_params/zs_euclidean_pad_0.001_0.75_150_9_specs_no_40_dB_no\n",
      "/home/mthomas/Documents/MPI_work/projects/meerkat/meerkat_umap_pv/data/interim/parameter_search/grid_search_umap_params/zs_euclidean_pad_0.001_0.75_150_10_specs_no_40_dB_no\n",
      "/home/mthomas/Documents/MPI_work/projects/meerkat/meerkat_umap_pv/data/interim/parameter_search/grid_search_umap_params/zs_euclidean_pad_0.001_0.75_150_10_specs_no_40_dB_no\n",
      "/home/mthomas/Documents/MPI_work/projects/meerkat/meerkat_umap_pv/data/interim/parameter_search/grid_search_umap_params/zs_euclidean_pad_0.01_0.75_150_2_specs_no_40_dB_no\n",
      "/home/mthomas/Documents/MPI_work/projects/meerkat/meerkat_umap_pv/data/interim/parameter_search/grid_search_umap_params/zs_euclidean_pad_0.01_0.75_150_2_specs_no_40_dB_no\n",
      "/home/mthomas/Documents/MPI_work/projects/meerkat/meerkat_umap_pv/data/interim/parameter_search/grid_search_umap_params/zs_euclidean_pad_0.01_0.75_150_3_specs_no_40_dB_no\n",
      "/home/mthomas/Documents/MPI_work/projects/meerkat/meerkat_umap_pv/data/interim/parameter_search/grid_search_umap_params/zs_euclidean_pad_0.01_0.75_150_3_specs_no_40_dB_no\n",
      "/home/mthomas/Documents/MPI_work/projects/meerkat/meerkat_umap_pv/data/interim/parameter_search/grid_search_umap_params/zs_euclidean_pad_0.01_0.75_150_4_specs_no_40_dB_no\n",
      "/home/mthomas/Documents/MPI_work/projects/meerkat/meerkat_umap_pv/data/interim/parameter_search/grid_search_umap_params/zs_euclidean_pad_0.01_0.75_150_4_specs_no_40_dB_no\n",
      "/home/mthomas/Documents/MPI_work/projects/meerkat/meerkat_umap_pv/data/interim/parameter_search/grid_search_umap_params/zs_euclidean_pad_0.01_0.75_150_5_specs_no_40_dB_no\n",
      "/home/mthomas/Documents/MPI_work/projects/meerkat/meerkat_umap_pv/data/interim/parameter_search/grid_search_umap_params/zs_euclidean_pad_0.01_0.75_150_5_specs_no_40_dB_no\n",
      "/home/mthomas/Documents/MPI_work/projects/meerkat/meerkat_umap_pv/data/interim/parameter_search/grid_search_umap_params/zs_euclidean_pad_0.01_0.75_150_6_specs_no_40_dB_no\n",
      "/home/mthomas/Documents/MPI_work/projects/meerkat/meerkat_umap_pv/data/interim/parameter_search/grid_search_umap_params/zs_euclidean_pad_0.01_0.75_150_6_specs_no_40_dB_no\n",
      "/home/mthomas/Documents/MPI_work/projects/meerkat/meerkat_umap_pv/data/interim/parameter_search/grid_search_umap_params/zs_euclidean_pad_0.01_0.75_150_7_specs_no_40_dB_no\n",
      "/home/mthomas/Documents/MPI_work/projects/meerkat/meerkat_umap_pv/data/interim/parameter_search/grid_search_umap_params/zs_euclidean_pad_0.01_0.75_150_7_specs_no_40_dB_no\n",
      "/home/mthomas/Documents/MPI_work/projects/meerkat/meerkat_umap_pv/data/interim/parameter_search/grid_search_umap_params/zs_euclidean_pad_0.01_0.75_150_8_specs_no_40_dB_no\n",
      "/home/mthomas/Documents/MPI_work/projects/meerkat/meerkat_umap_pv/data/interim/parameter_search/grid_search_umap_params/zs_euclidean_pad_0.01_0.75_150_8_specs_no_40_dB_no\n",
      "/home/mthomas/Documents/MPI_work/projects/meerkat/meerkat_umap_pv/data/interim/parameter_search/grid_search_umap_params/zs_euclidean_pad_0.01_0.75_150_9_specs_no_40_dB_no\n",
      "/home/mthomas/Documents/MPI_work/projects/meerkat/meerkat_umap_pv/data/interim/parameter_search/grid_search_umap_params/zs_euclidean_pad_0.01_0.75_150_9_specs_no_40_dB_no\n",
      "/home/mthomas/Documents/MPI_work/projects/meerkat/meerkat_umap_pv/data/interim/parameter_search/grid_search_umap_params/zs_euclidean_pad_0.01_0.75_150_10_specs_no_40_dB_no\n",
      "/home/mthomas/Documents/MPI_work/projects/meerkat/meerkat_umap_pv/data/interim/parameter_search/grid_search_umap_params/zs_euclidean_pad_0.01_0.75_150_10_specs_no_40_dB_no\n",
      "/home/mthomas/Documents/MPI_work/projects/meerkat/meerkat_umap_pv/data/interim/parameter_search/grid_search_umap_params/zs_euclidean_pad_0.1_0.75_150_2_specs_no_40_dB_no\n",
      "/home/mthomas/Documents/MPI_work/projects/meerkat/meerkat_umap_pv/data/interim/parameter_search/grid_search_umap_params/zs_euclidean_pad_0.1_0.75_150_2_specs_no_40_dB_no\n",
      "/home/mthomas/Documents/MPI_work/projects/meerkat/meerkat_umap_pv/data/interim/parameter_search/grid_search_umap_params/zs_euclidean_pad_0.1_0.75_150_3_specs_no_40_dB_no\n",
      "/home/mthomas/Documents/MPI_work/projects/meerkat/meerkat_umap_pv/data/interim/parameter_search/grid_search_umap_params/zs_euclidean_pad_0.1_0.75_150_3_specs_no_40_dB_no\n",
      "/home/mthomas/Documents/MPI_work/projects/meerkat/meerkat_umap_pv/data/interim/parameter_search/grid_search_umap_params/zs_euclidean_pad_0.1_0.75_150_4_specs_no_40_dB_no\n",
      "/home/mthomas/Documents/MPI_work/projects/meerkat/meerkat_umap_pv/data/interim/parameter_search/grid_search_umap_params/zs_euclidean_pad_0.1_0.75_150_4_specs_no_40_dB_no\n",
      "/home/mthomas/Documents/MPI_work/projects/meerkat/meerkat_umap_pv/data/interim/parameter_search/grid_search_umap_params/zs_euclidean_pad_0.1_0.75_150_5_specs_no_40_dB_no\n",
      "/home/mthomas/Documents/MPI_work/projects/meerkat/meerkat_umap_pv/data/interim/parameter_search/grid_search_umap_params/zs_euclidean_pad_0.1_0.75_150_5_specs_no_40_dB_no\n",
      "/home/mthomas/Documents/MPI_work/projects/meerkat/meerkat_umap_pv/data/interim/parameter_search/grid_search_umap_params/zs_euclidean_pad_0.1_0.75_150_6_specs_no_40_dB_no\n",
      "/home/mthomas/Documents/MPI_work/projects/meerkat/meerkat_umap_pv/data/interim/parameter_search/grid_search_umap_params/zs_euclidean_pad_0.1_0.75_150_6_specs_no_40_dB_no\n",
      "/home/mthomas/Documents/MPI_work/projects/meerkat/meerkat_umap_pv/data/interim/parameter_search/grid_search_umap_params/zs_euclidean_pad_0.1_0.75_150_7_specs_no_40_dB_no\n",
      "/home/mthomas/Documents/MPI_work/projects/meerkat/meerkat_umap_pv/data/interim/parameter_search/grid_search_umap_params/zs_euclidean_pad_0.1_0.75_150_7_specs_no_40_dB_no\n",
      "/home/mthomas/Documents/MPI_work/projects/meerkat/meerkat_umap_pv/data/interim/parameter_search/grid_search_umap_params/zs_euclidean_pad_0.1_0.75_150_8_specs_no_40_dB_no\n",
      "/home/mthomas/Documents/MPI_work/projects/meerkat/meerkat_umap_pv/data/interim/parameter_search/grid_search_umap_params/zs_euclidean_pad_0.1_0.75_150_8_specs_no_40_dB_no\n",
      "/home/mthomas/Documents/MPI_work/projects/meerkat/meerkat_umap_pv/data/interim/parameter_search/grid_search_umap_params/zs_euclidean_pad_0.1_0.75_150_9_specs_no_40_dB_no\n",
      "/home/mthomas/Documents/MPI_work/projects/meerkat/meerkat_umap_pv/data/interim/parameter_search/grid_search_umap_params/zs_euclidean_pad_0.1_0.75_150_9_specs_no_40_dB_no\n",
      "/home/mthomas/Documents/MPI_work/projects/meerkat/meerkat_umap_pv/data/interim/parameter_search/grid_search_umap_params/zs_euclidean_pad_0.1_0.75_150_10_specs_no_40_dB_no\n",
      "/home/mthomas/Documents/MPI_work/projects/meerkat/meerkat_umap_pv/data/interim/parameter_search/grid_search_umap_params/zs_euclidean_pad_0.1_0.75_150_10_specs_no_40_dB_no\n",
      "FAILED:  zs_euclidean_pad_1_0.75_150_2_specs_no_40_dB_no\n",
      "FAILED:  zs_euclidean_pad_1_0.75_150_3_specs_no_40_dB_no\n",
      "FAILED:  zs_euclidean_pad_1_0.75_150_4_specs_no_40_dB_no\n",
      "FAILED:  zs_euclidean_pad_1_0.75_150_5_specs_no_40_dB_no\n",
      "FAILED:  zs_euclidean_pad_1_0.75_150_6_specs_no_40_dB_no\n",
      "FAILED:  zs_euclidean_pad_1_0.75_150_7_specs_no_40_dB_no\n",
      "FAILED:  zs_euclidean_pad_1_0.75_150_8_specs_no_40_dB_no\n",
      "FAILED:  zs_euclidean_pad_1_0.75_150_9_specs_no_40_dB_no\n",
      "FAILED:  zs_euclidean_pad_1_0.75_150_10_specs_no_40_dB_no\n",
      "/home/mthomas/Documents/MPI_work/projects/meerkat/meerkat_umap_pv/data/interim/parameter_search/grid_search_umap_params/zs_euclidean_pad_0_0.75_200_2_specs_no_40_dB_no\n",
      "/home/mthomas/Documents/MPI_work/projects/meerkat/meerkat_umap_pv/data/interim/parameter_search/grid_search_umap_params/zs_euclidean_pad_0_0.75_200_2_specs_no_40_dB_no\n",
      "/home/mthomas/Documents/MPI_work/projects/meerkat/meerkat_umap_pv/data/interim/parameter_search/grid_search_umap_params/zs_euclidean_pad_0_0.75_200_3_specs_no_40_dB_no\n",
      "/home/mthomas/Documents/MPI_work/projects/meerkat/meerkat_umap_pv/data/interim/parameter_search/grid_search_umap_params/zs_euclidean_pad_0_0.75_200_3_specs_no_40_dB_no\n",
      "/home/mthomas/Documents/MPI_work/projects/meerkat/meerkat_umap_pv/data/interim/parameter_search/grid_search_umap_params/zs_euclidean_pad_0_0.75_200_4_specs_no_40_dB_no\n",
      "/home/mthomas/Documents/MPI_work/projects/meerkat/meerkat_umap_pv/data/interim/parameter_search/grid_search_umap_params/zs_euclidean_pad_0_0.75_200_4_specs_no_40_dB_no\n",
      "/home/mthomas/Documents/MPI_work/projects/meerkat/meerkat_umap_pv/data/interim/parameter_search/grid_search_umap_params/zs_euclidean_pad_0_0.75_200_5_specs_no_40_dB_no\n",
      "/home/mthomas/Documents/MPI_work/projects/meerkat/meerkat_umap_pv/data/interim/parameter_search/grid_search_umap_params/zs_euclidean_pad_0_0.75_200_5_specs_no_40_dB_no\n",
      "/home/mthomas/Documents/MPI_work/projects/meerkat/meerkat_umap_pv/data/interim/parameter_search/grid_search_umap_params/zs_euclidean_pad_0_0.75_200_6_specs_no_40_dB_no\n",
      "/home/mthomas/Documents/MPI_work/projects/meerkat/meerkat_umap_pv/data/interim/parameter_search/grid_search_umap_params/zs_euclidean_pad_0_0.75_200_6_specs_no_40_dB_no\n",
      "/home/mthomas/Documents/MPI_work/projects/meerkat/meerkat_umap_pv/data/interim/parameter_search/grid_search_umap_params/zs_euclidean_pad_0_0.75_200_7_specs_no_40_dB_no\n",
      "/home/mthomas/Documents/MPI_work/projects/meerkat/meerkat_umap_pv/data/interim/parameter_search/grid_search_umap_params/zs_euclidean_pad_0_0.75_200_7_specs_no_40_dB_no\n",
      "/home/mthomas/Documents/MPI_work/projects/meerkat/meerkat_umap_pv/data/interim/parameter_search/grid_search_umap_params/zs_euclidean_pad_0_0.75_200_8_specs_no_40_dB_no\n",
      "/home/mthomas/Documents/MPI_work/projects/meerkat/meerkat_umap_pv/data/interim/parameter_search/grid_search_umap_params/zs_euclidean_pad_0_0.75_200_8_specs_no_40_dB_no\n",
      "/home/mthomas/Documents/MPI_work/projects/meerkat/meerkat_umap_pv/data/interim/parameter_search/grid_search_umap_params/zs_euclidean_pad_0_0.75_200_9_specs_no_40_dB_no\n",
      "/home/mthomas/Documents/MPI_work/projects/meerkat/meerkat_umap_pv/data/interim/parameter_search/grid_search_umap_params/zs_euclidean_pad_0_0.75_200_9_specs_no_40_dB_no\n",
      "/home/mthomas/Documents/MPI_work/projects/meerkat/meerkat_umap_pv/data/interim/parameter_search/grid_search_umap_params/zs_euclidean_pad_0_0.75_200_10_specs_no_40_dB_no\n",
      "/home/mthomas/Documents/MPI_work/projects/meerkat/meerkat_umap_pv/data/interim/parameter_search/grid_search_umap_params/zs_euclidean_pad_0_0.75_200_10_specs_no_40_dB_no\n",
      "/home/mthomas/Documents/MPI_work/projects/meerkat/meerkat_umap_pv/data/interim/parameter_search/grid_search_umap_params/zs_euclidean_pad_0.001_0.75_200_2_specs_no_40_dB_no\n",
      "/home/mthomas/Documents/MPI_work/projects/meerkat/meerkat_umap_pv/data/interim/parameter_search/grid_search_umap_params/zs_euclidean_pad_0.001_0.75_200_2_specs_no_40_dB_no\n",
      "/home/mthomas/Documents/MPI_work/projects/meerkat/meerkat_umap_pv/data/interim/parameter_search/grid_search_umap_params/zs_euclidean_pad_0.001_0.75_200_3_specs_no_40_dB_no\n",
      "/home/mthomas/Documents/MPI_work/projects/meerkat/meerkat_umap_pv/data/interim/parameter_search/grid_search_umap_params/zs_euclidean_pad_0.001_0.75_200_3_specs_no_40_dB_no\n",
      "/home/mthomas/Documents/MPI_work/projects/meerkat/meerkat_umap_pv/data/interim/parameter_search/grid_search_umap_params/zs_euclidean_pad_0.001_0.75_200_4_specs_no_40_dB_no\n",
      "/home/mthomas/Documents/MPI_work/projects/meerkat/meerkat_umap_pv/data/interim/parameter_search/grid_search_umap_params/zs_euclidean_pad_0.001_0.75_200_4_specs_no_40_dB_no\n",
      "/home/mthomas/Documents/MPI_work/projects/meerkat/meerkat_umap_pv/data/interim/parameter_search/grid_search_umap_params/zs_euclidean_pad_0.001_0.75_200_5_specs_no_40_dB_no\n",
      "/home/mthomas/Documents/MPI_work/projects/meerkat/meerkat_umap_pv/data/interim/parameter_search/grid_search_umap_params/zs_euclidean_pad_0.001_0.75_200_5_specs_no_40_dB_no\n",
      "/home/mthomas/Documents/MPI_work/projects/meerkat/meerkat_umap_pv/data/interim/parameter_search/grid_search_umap_params/zs_euclidean_pad_0.001_0.75_200_6_specs_no_40_dB_no\n",
      "/home/mthomas/Documents/MPI_work/projects/meerkat/meerkat_umap_pv/data/interim/parameter_search/grid_search_umap_params/zs_euclidean_pad_0.001_0.75_200_6_specs_no_40_dB_no\n",
      "/home/mthomas/Documents/MPI_work/projects/meerkat/meerkat_umap_pv/data/interim/parameter_search/grid_search_umap_params/zs_euclidean_pad_0.001_0.75_200_7_specs_no_40_dB_no\n",
      "/home/mthomas/Documents/MPI_work/projects/meerkat/meerkat_umap_pv/data/interim/parameter_search/grid_search_umap_params/zs_euclidean_pad_0.001_0.75_200_7_specs_no_40_dB_no\n",
      "/home/mthomas/Documents/MPI_work/projects/meerkat/meerkat_umap_pv/data/interim/parameter_search/grid_search_umap_params/zs_euclidean_pad_0.001_0.75_200_8_specs_no_40_dB_no\n",
      "/home/mthomas/Documents/MPI_work/projects/meerkat/meerkat_umap_pv/data/interim/parameter_search/grid_search_umap_params/zs_euclidean_pad_0.001_0.75_200_8_specs_no_40_dB_no\n",
      "/home/mthomas/Documents/MPI_work/projects/meerkat/meerkat_umap_pv/data/interim/parameter_search/grid_search_umap_params/zs_euclidean_pad_0.001_0.75_200_9_specs_no_40_dB_no\n",
      "/home/mthomas/Documents/MPI_work/projects/meerkat/meerkat_umap_pv/data/interim/parameter_search/grid_search_umap_params/zs_euclidean_pad_0.001_0.75_200_9_specs_no_40_dB_no\n",
      "/home/mthomas/Documents/MPI_work/projects/meerkat/meerkat_umap_pv/data/interim/parameter_search/grid_search_umap_params/zs_euclidean_pad_0.001_0.75_200_10_specs_no_40_dB_no\n",
      "/home/mthomas/Documents/MPI_work/projects/meerkat/meerkat_umap_pv/data/interim/parameter_search/grid_search_umap_params/zs_euclidean_pad_0.001_0.75_200_10_specs_no_40_dB_no\n",
      "/home/mthomas/Documents/MPI_work/projects/meerkat/meerkat_umap_pv/data/interim/parameter_search/grid_search_umap_params/zs_euclidean_pad_0.01_0.75_200_2_specs_no_40_dB_no\n",
      "/home/mthomas/Documents/MPI_work/projects/meerkat/meerkat_umap_pv/data/interim/parameter_search/grid_search_umap_params/zs_euclidean_pad_0.01_0.75_200_2_specs_no_40_dB_no\n",
      "/home/mthomas/Documents/MPI_work/projects/meerkat/meerkat_umap_pv/data/interim/parameter_search/grid_search_umap_params/zs_euclidean_pad_0.01_0.75_200_3_specs_no_40_dB_no\n",
      "/home/mthomas/Documents/MPI_work/projects/meerkat/meerkat_umap_pv/data/interim/parameter_search/grid_search_umap_params/zs_euclidean_pad_0.01_0.75_200_3_specs_no_40_dB_no\n",
      "/home/mthomas/Documents/MPI_work/projects/meerkat/meerkat_umap_pv/data/interim/parameter_search/grid_search_umap_params/zs_euclidean_pad_0.01_0.75_200_4_specs_no_40_dB_no\n",
      "/home/mthomas/Documents/MPI_work/projects/meerkat/meerkat_umap_pv/data/interim/parameter_search/grid_search_umap_params/zs_euclidean_pad_0.01_0.75_200_4_specs_no_40_dB_no\n",
      "/home/mthomas/Documents/MPI_work/projects/meerkat/meerkat_umap_pv/data/interim/parameter_search/grid_search_umap_params/zs_euclidean_pad_0.01_0.75_200_5_specs_no_40_dB_no\n",
      "/home/mthomas/Documents/MPI_work/projects/meerkat/meerkat_umap_pv/data/interim/parameter_search/grid_search_umap_params/zs_euclidean_pad_0.01_0.75_200_5_specs_no_40_dB_no\n",
      "/home/mthomas/Documents/MPI_work/projects/meerkat/meerkat_umap_pv/data/interim/parameter_search/grid_search_umap_params/zs_euclidean_pad_0.01_0.75_200_6_specs_no_40_dB_no\n",
      "/home/mthomas/Documents/MPI_work/projects/meerkat/meerkat_umap_pv/data/interim/parameter_search/grid_search_umap_params/zs_euclidean_pad_0.01_0.75_200_6_specs_no_40_dB_no\n",
      "/home/mthomas/Documents/MPI_work/projects/meerkat/meerkat_umap_pv/data/interim/parameter_search/grid_search_umap_params/zs_euclidean_pad_0.01_0.75_200_7_specs_no_40_dB_no\n",
      "/home/mthomas/Documents/MPI_work/projects/meerkat/meerkat_umap_pv/data/interim/parameter_search/grid_search_umap_params/zs_euclidean_pad_0.01_0.75_200_7_specs_no_40_dB_no\n",
      "/home/mthomas/Documents/MPI_work/projects/meerkat/meerkat_umap_pv/data/interim/parameter_search/grid_search_umap_params/zs_euclidean_pad_0.01_0.75_200_8_specs_no_40_dB_no\n",
      "/home/mthomas/Documents/MPI_work/projects/meerkat/meerkat_umap_pv/data/interim/parameter_search/grid_search_umap_params/zs_euclidean_pad_0.01_0.75_200_8_specs_no_40_dB_no\n",
      "/home/mthomas/Documents/MPI_work/projects/meerkat/meerkat_umap_pv/data/interim/parameter_search/grid_search_umap_params/zs_euclidean_pad_0.01_0.75_200_9_specs_no_40_dB_no\n",
      "/home/mthomas/Documents/MPI_work/projects/meerkat/meerkat_umap_pv/data/interim/parameter_search/grid_search_umap_params/zs_euclidean_pad_0.01_0.75_200_9_specs_no_40_dB_no\n",
      "/home/mthomas/Documents/MPI_work/projects/meerkat/meerkat_umap_pv/data/interim/parameter_search/grid_search_umap_params/zs_euclidean_pad_0.01_0.75_200_10_specs_no_40_dB_no\n",
      "/home/mthomas/Documents/MPI_work/projects/meerkat/meerkat_umap_pv/data/interim/parameter_search/grid_search_umap_params/zs_euclidean_pad_0.01_0.75_200_10_specs_no_40_dB_no\n",
      "/home/mthomas/Documents/MPI_work/projects/meerkat/meerkat_umap_pv/data/interim/parameter_search/grid_search_umap_params/zs_euclidean_pad_0.1_0.75_200_2_specs_no_40_dB_no\n",
      "/home/mthomas/Documents/MPI_work/projects/meerkat/meerkat_umap_pv/data/interim/parameter_search/grid_search_umap_params/zs_euclidean_pad_0.1_0.75_200_2_specs_no_40_dB_no\n",
      "/home/mthomas/Documents/MPI_work/projects/meerkat/meerkat_umap_pv/data/interim/parameter_search/grid_search_umap_params/zs_euclidean_pad_0.1_0.75_200_3_specs_no_40_dB_no\n",
      "/home/mthomas/Documents/MPI_work/projects/meerkat/meerkat_umap_pv/data/interim/parameter_search/grid_search_umap_params/zs_euclidean_pad_0.1_0.75_200_3_specs_no_40_dB_no\n",
      "/home/mthomas/Documents/MPI_work/projects/meerkat/meerkat_umap_pv/data/interim/parameter_search/grid_search_umap_params/zs_euclidean_pad_0.1_0.75_200_4_specs_no_40_dB_no\n",
      "/home/mthomas/Documents/MPI_work/projects/meerkat/meerkat_umap_pv/data/interim/parameter_search/grid_search_umap_params/zs_euclidean_pad_0.1_0.75_200_4_specs_no_40_dB_no\n",
      "/home/mthomas/Documents/MPI_work/projects/meerkat/meerkat_umap_pv/data/interim/parameter_search/grid_search_umap_params/zs_euclidean_pad_0.1_0.75_200_5_specs_no_40_dB_no\n",
      "/home/mthomas/Documents/MPI_work/projects/meerkat/meerkat_umap_pv/data/interim/parameter_search/grid_search_umap_params/zs_euclidean_pad_0.1_0.75_200_5_specs_no_40_dB_no\n",
      "/home/mthomas/Documents/MPI_work/projects/meerkat/meerkat_umap_pv/data/interim/parameter_search/grid_search_umap_params/zs_euclidean_pad_0.1_0.75_200_6_specs_no_40_dB_no\n",
      "/home/mthomas/Documents/MPI_work/projects/meerkat/meerkat_umap_pv/data/interim/parameter_search/grid_search_umap_params/zs_euclidean_pad_0.1_0.75_200_6_specs_no_40_dB_no\n",
      "/home/mthomas/Documents/MPI_work/projects/meerkat/meerkat_umap_pv/data/interim/parameter_search/grid_search_umap_params/zs_euclidean_pad_0.1_0.75_200_7_specs_no_40_dB_no\n",
      "/home/mthomas/Documents/MPI_work/projects/meerkat/meerkat_umap_pv/data/interim/parameter_search/grid_search_umap_params/zs_euclidean_pad_0.1_0.75_200_7_specs_no_40_dB_no\n",
      "/home/mthomas/Documents/MPI_work/projects/meerkat/meerkat_umap_pv/data/interim/parameter_search/grid_search_umap_params/zs_euclidean_pad_0.1_0.75_200_8_specs_no_40_dB_no\n",
      "/home/mthomas/Documents/MPI_work/projects/meerkat/meerkat_umap_pv/data/interim/parameter_search/grid_search_umap_params/zs_euclidean_pad_0.1_0.75_200_8_specs_no_40_dB_no\n",
      "/home/mthomas/Documents/MPI_work/projects/meerkat/meerkat_umap_pv/data/interim/parameter_search/grid_search_umap_params/zs_euclidean_pad_0.1_0.75_200_9_specs_no_40_dB_no\n",
      "/home/mthomas/Documents/MPI_work/projects/meerkat/meerkat_umap_pv/data/interim/parameter_search/grid_search_umap_params/zs_euclidean_pad_0.1_0.75_200_9_specs_no_40_dB_no\n",
      "/home/mthomas/Documents/MPI_work/projects/meerkat/meerkat_umap_pv/data/interim/parameter_search/grid_search_umap_params/zs_euclidean_pad_0.1_0.75_200_10_specs_no_40_dB_no\n",
      "/home/mthomas/Documents/MPI_work/projects/meerkat/meerkat_umap_pv/data/interim/parameter_search/grid_search_umap_params/zs_euclidean_pad_0.1_0.75_200_10_specs_no_40_dB_no\n",
      "FAILED:  zs_euclidean_pad_1_0.75_200_2_specs_no_40_dB_no\n",
      "FAILED:  zs_euclidean_pad_1_0.75_200_3_specs_no_40_dB_no\n",
      "FAILED:  zs_euclidean_pad_1_0.75_200_4_specs_no_40_dB_no\n",
      "FAILED:  zs_euclidean_pad_1_0.75_200_5_specs_no_40_dB_no\n",
      "FAILED:  zs_euclidean_pad_1_0.75_200_6_specs_no_40_dB_no\n",
      "FAILED:  zs_euclidean_pad_1_0.75_200_7_specs_no_40_dB_no\n",
      "FAILED:  zs_euclidean_pad_1_0.75_200_8_specs_no_40_dB_no\n",
      "FAILED:  zs_euclidean_pad_1_0.75_200_9_specs_no_40_dB_no\n",
      "FAILED:  zs_euclidean_pad_1_0.75_200_10_specs_no_40_dB_no\n",
      "FAILED:  zs_euclidean_pad_0_1.0_1_2_specs_no_40_dB_no\n",
      "FAILED:  zs_euclidean_pad_0_1.0_1_3_specs_no_40_dB_no\n",
      "FAILED:  zs_euclidean_pad_0_1.0_1_4_specs_no_40_dB_no\n",
      "FAILED:  zs_euclidean_pad_0_1.0_1_5_specs_no_40_dB_no\n",
      "FAILED:  zs_euclidean_pad_0_1.0_1_6_specs_no_40_dB_no\n",
      "FAILED:  zs_euclidean_pad_0_1.0_1_7_specs_no_40_dB_no\n",
      "FAILED:  zs_euclidean_pad_0_1.0_1_8_specs_no_40_dB_no\n",
      "FAILED:  zs_euclidean_pad_0_1.0_1_9_specs_no_40_dB_no\n",
      "FAILED:  zs_euclidean_pad_0_1.0_1_10_specs_no_40_dB_no\n",
      "FAILED:  zs_euclidean_pad_0.001_1.0_1_2_specs_no_40_dB_no\n",
      "FAILED:  zs_euclidean_pad_0.001_1.0_1_3_specs_no_40_dB_no\n",
      "FAILED:  zs_euclidean_pad_0.001_1.0_1_4_specs_no_40_dB_no\n",
      "FAILED:  zs_euclidean_pad_0.001_1.0_1_5_specs_no_40_dB_no\n",
      "FAILED:  zs_euclidean_pad_0.001_1.0_1_6_specs_no_40_dB_no\n",
      "FAILED:  zs_euclidean_pad_0.001_1.0_1_7_specs_no_40_dB_no\n",
      "FAILED:  zs_euclidean_pad_0.001_1.0_1_8_specs_no_40_dB_no\n",
      "FAILED:  zs_euclidean_pad_0.001_1.0_1_9_specs_no_40_dB_no\n",
      "FAILED:  zs_euclidean_pad_0.001_1.0_1_10_specs_no_40_dB_no\n",
      "FAILED:  zs_euclidean_pad_0.01_1.0_1_2_specs_no_40_dB_no\n",
      "FAILED:  zs_euclidean_pad_0.01_1.0_1_3_specs_no_40_dB_no\n",
      "FAILED:  zs_euclidean_pad_0.01_1.0_1_4_specs_no_40_dB_no\n",
      "FAILED:  zs_euclidean_pad_0.01_1.0_1_5_specs_no_40_dB_no\n",
      "FAILED:  zs_euclidean_pad_0.01_1.0_1_6_specs_no_40_dB_no\n",
      "FAILED:  zs_euclidean_pad_0.01_1.0_1_7_specs_no_40_dB_no\n",
      "FAILED:  zs_euclidean_pad_0.01_1.0_1_8_specs_no_40_dB_no\n",
      "FAILED:  zs_euclidean_pad_0.01_1.0_1_9_specs_no_40_dB_no\n",
      "FAILED:  zs_euclidean_pad_0.01_1.0_1_10_specs_no_40_dB_no\n",
      "FAILED:  zs_euclidean_pad_0.1_1.0_1_2_specs_no_40_dB_no\n",
      "FAILED:  zs_euclidean_pad_0.1_1.0_1_3_specs_no_40_dB_no\n",
      "FAILED:  zs_euclidean_pad_0.1_1.0_1_4_specs_no_40_dB_no\n",
      "FAILED:  zs_euclidean_pad_0.1_1.0_1_5_specs_no_40_dB_no\n",
      "FAILED:  zs_euclidean_pad_0.1_1.0_1_6_specs_no_40_dB_no\n",
      "FAILED:  zs_euclidean_pad_0.1_1.0_1_7_specs_no_40_dB_no\n",
      "FAILED:  zs_euclidean_pad_0.1_1.0_1_8_specs_no_40_dB_no\n",
      "FAILED:  zs_euclidean_pad_0.1_1.0_1_9_specs_no_40_dB_no\n",
      "FAILED:  zs_euclidean_pad_0.1_1.0_1_10_specs_no_40_dB_no\n",
      "FAILED:  zs_euclidean_pad_1_1.0_1_2_specs_no_40_dB_no\n",
      "FAILED:  zs_euclidean_pad_1_1.0_1_3_specs_no_40_dB_no\n",
      "FAILED:  zs_euclidean_pad_1_1.0_1_4_specs_no_40_dB_no\n",
      "FAILED:  zs_euclidean_pad_1_1.0_1_5_specs_no_40_dB_no\n",
      "FAILED:  zs_euclidean_pad_1_1.0_1_6_specs_no_40_dB_no\n",
      "FAILED:  zs_euclidean_pad_1_1.0_1_7_specs_no_40_dB_no\n",
      "FAILED:  zs_euclidean_pad_1_1.0_1_8_specs_no_40_dB_no\n",
      "FAILED:  zs_euclidean_pad_1_1.0_1_9_specs_no_40_dB_no\n",
      "FAILED:  zs_euclidean_pad_1_1.0_1_10_specs_no_40_dB_no\n",
      "/home/mthomas/Documents/MPI_work/projects/meerkat/meerkat_umap_pv/data/interim/parameter_search/grid_search_umap_params/zs_euclidean_pad_0_1.0_5_2_specs_no_40_dB_no\n",
      "/home/mthomas/Documents/MPI_work/projects/meerkat/meerkat_umap_pv/data/interim/parameter_search/grid_search_umap_params/zs_euclidean_pad_0_1.0_5_2_specs_no_40_dB_no\n",
      "/home/mthomas/Documents/MPI_work/projects/meerkat/meerkat_umap_pv/data/interim/parameter_search/grid_search_umap_params/zs_euclidean_pad_0_1.0_5_3_specs_no_40_dB_no\n",
      "/home/mthomas/Documents/MPI_work/projects/meerkat/meerkat_umap_pv/data/interim/parameter_search/grid_search_umap_params/zs_euclidean_pad_0_1.0_5_3_specs_no_40_dB_no\n",
      "/home/mthomas/Documents/MPI_work/projects/meerkat/meerkat_umap_pv/data/interim/parameter_search/grid_search_umap_params/zs_euclidean_pad_0_1.0_5_4_specs_no_40_dB_no\n",
      "/home/mthomas/Documents/MPI_work/projects/meerkat/meerkat_umap_pv/data/interim/parameter_search/grid_search_umap_params/zs_euclidean_pad_0_1.0_5_4_specs_no_40_dB_no\n",
      "/home/mthomas/Documents/MPI_work/projects/meerkat/meerkat_umap_pv/data/interim/parameter_search/grid_search_umap_params/zs_euclidean_pad_0_1.0_5_5_specs_no_40_dB_no\n",
      "/home/mthomas/Documents/MPI_work/projects/meerkat/meerkat_umap_pv/data/interim/parameter_search/grid_search_umap_params/zs_euclidean_pad_0_1.0_5_5_specs_no_40_dB_no\n",
      "/home/mthomas/Documents/MPI_work/projects/meerkat/meerkat_umap_pv/data/interim/parameter_search/grid_search_umap_params/zs_euclidean_pad_0_1.0_5_6_specs_no_40_dB_no\n",
      "/home/mthomas/Documents/MPI_work/projects/meerkat/meerkat_umap_pv/data/interim/parameter_search/grid_search_umap_params/zs_euclidean_pad_0_1.0_5_6_specs_no_40_dB_no\n",
      "/home/mthomas/Documents/MPI_work/projects/meerkat/meerkat_umap_pv/data/interim/parameter_search/grid_search_umap_params/zs_euclidean_pad_0_1.0_5_7_specs_no_40_dB_no\n",
      "/home/mthomas/Documents/MPI_work/projects/meerkat/meerkat_umap_pv/data/interim/parameter_search/grid_search_umap_params/zs_euclidean_pad_0_1.0_5_7_specs_no_40_dB_no\n",
      "/home/mthomas/Documents/MPI_work/projects/meerkat/meerkat_umap_pv/data/interim/parameter_search/grid_search_umap_params/zs_euclidean_pad_0_1.0_5_8_specs_no_40_dB_no\n",
      "/home/mthomas/Documents/MPI_work/projects/meerkat/meerkat_umap_pv/data/interim/parameter_search/grid_search_umap_params/zs_euclidean_pad_0_1.0_5_8_specs_no_40_dB_no\n",
      "/home/mthomas/Documents/MPI_work/projects/meerkat/meerkat_umap_pv/data/interim/parameter_search/grid_search_umap_params/zs_euclidean_pad_0_1.0_5_9_specs_no_40_dB_no\n",
      "/home/mthomas/Documents/MPI_work/projects/meerkat/meerkat_umap_pv/data/interim/parameter_search/grid_search_umap_params/zs_euclidean_pad_0_1.0_5_9_specs_no_40_dB_no\n",
      "/home/mthomas/Documents/MPI_work/projects/meerkat/meerkat_umap_pv/data/interim/parameter_search/grid_search_umap_params/zs_euclidean_pad_0_1.0_5_10_specs_no_40_dB_no\n",
      "/home/mthomas/Documents/MPI_work/projects/meerkat/meerkat_umap_pv/data/interim/parameter_search/grid_search_umap_params/zs_euclidean_pad_0_1.0_5_10_specs_no_40_dB_no\n",
      "/home/mthomas/Documents/MPI_work/projects/meerkat/meerkat_umap_pv/data/interim/parameter_search/grid_search_umap_params/zs_euclidean_pad_0.001_1.0_5_2_specs_no_40_dB_no\n",
      "/home/mthomas/Documents/MPI_work/projects/meerkat/meerkat_umap_pv/data/interim/parameter_search/grid_search_umap_params/zs_euclidean_pad_0.001_1.0_5_2_specs_no_40_dB_no\n",
      "/home/mthomas/Documents/MPI_work/projects/meerkat/meerkat_umap_pv/data/interim/parameter_search/grid_search_umap_params/zs_euclidean_pad_0.001_1.0_5_3_specs_no_40_dB_no\n",
      "/home/mthomas/Documents/MPI_work/projects/meerkat/meerkat_umap_pv/data/interim/parameter_search/grid_search_umap_params/zs_euclidean_pad_0.001_1.0_5_3_specs_no_40_dB_no\n",
      "/home/mthomas/Documents/MPI_work/projects/meerkat/meerkat_umap_pv/data/interim/parameter_search/grid_search_umap_params/zs_euclidean_pad_0.001_1.0_5_4_specs_no_40_dB_no\n",
      "/home/mthomas/Documents/MPI_work/projects/meerkat/meerkat_umap_pv/data/interim/parameter_search/grid_search_umap_params/zs_euclidean_pad_0.001_1.0_5_4_specs_no_40_dB_no\n",
      "/home/mthomas/Documents/MPI_work/projects/meerkat/meerkat_umap_pv/data/interim/parameter_search/grid_search_umap_params/zs_euclidean_pad_0.001_1.0_5_5_specs_no_40_dB_no\n",
      "/home/mthomas/Documents/MPI_work/projects/meerkat/meerkat_umap_pv/data/interim/parameter_search/grid_search_umap_params/zs_euclidean_pad_0.001_1.0_5_5_specs_no_40_dB_no\n",
      "/home/mthomas/Documents/MPI_work/projects/meerkat/meerkat_umap_pv/data/interim/parameter_search/grid_search_umap_params/zs_euclidean_pad_0.001_1.0_5_6_specs_no_40_dB_no\n",
      "/home/mthomas/Documents/MPI_work/projects/meerkat/meerkat_umap_pv/data/interim/parameter_search/grid_search_umap_params/zs_euclidean_pad_0.001_1.0_5_6_specs_no_40_dB_no\n",
      "/home/mthomas/Documents/MPI_work/projects/meerkat/meerkat_umap_pv/data/interim/parameter_search/grid_search_umap_params/zs_euclidean_pad_0.001_1.0_5_7_specs_no_40_dB_no\n",
      "/home/mthomas/Documents/MPI_work/projects/meerkat/meerkat_umap_pv/data/interim/parameter_search/grid_search_umap_params/zs_euclidean_pad_0.001_1.0_5_7_specs_no_40_dB_no\n",
      "/home/mthomas/Documents/MPI_work/projects/meerkat/meerkat_umap_pv/data/interim/parameter_search/grid_search_umap_params/zs_euclidean_pad_0.001_1.0_5_8_specs_no_40_dB_no\n",
      "/home/mthomas/Documents/MPI_work/projects/meerkat/meerkat_umap_pv/data/interim/parameter_search/grid_search_umap_params/zs_euclidean_pad_0.001_1.0_5_8_specs_no_40_dB_no\n",
      "/home/mthomas/Documents/MPI_work/projects/meerkat/meerkat_umap_pv/data/interim/parameter_search/grid_search_umap_params/zs_euclidean_pad_0.001_1.0_5_9_specs_no_40_dB_no\n",
      "/home/mthomas/Documents/MPI_work/projects/meerkat/meerkat_umap_pv/data/interim/parameter_search/grid_search_umap_params/zs_euclidean_pad_0.001_1.0_5_9_specs_no_40_dB_no\n",
      "/home/mthomas/Documents/MPI_work/projects/meerkat/meerkat_umap_pv/data/interim/parameter_search/grid_search_umap_params/zs_euclidean_pad_0.001_1.0_5_10_specs_no_40_dB_no\n",
      "/home/mthomas/Documents/MPI_work/projects/meerkat/meerkat_umap_pv/data/interim/parameter_search/grid_search_umap_params/zs_euclidean_pad_0.001_1.0_5_10_specs_no_40_dB_no\n",
      "/home/mthomas/Documents/MPI_work/projects/meerkat/meerkat_umap_pv/data/interim/parameter_search/grid_search_umap_params/zs_euclidean_pad_0.01_1.0_5_2_specs_no_40_dB_no\n",
      "/home/mthomas/Documents/MPI_work/projects/meerkat/meerkat_umap_pv/data/interim/parameter_search/grid_search_umap_params/zs_euclidean_pad_0.01_1.0_5_2_specs_no_40_dB_no\n",
      "/home/mthomas/Documents/MPI_work/projects/meerkat/meerkat_umap_pv/data/interim/parameter_search/grid_search_umap_params/zs_euclidean_pad_0.01_1.0_5_3_specs_no_40_dB_no\n",
      "/home/mthomas/Documents/MPI_work/projects/meerkat/meerkat_umap_pv/data/interim/parameter_search/grid_search_umap_params/zs_euclidean_pad_0.01_1.0_5_3_specs_no_40_dB_no\n",
      "/home/mthomas/Documents/MPI_work/projects/meerkat/meerkat_umap_pv/data/interim/parameter_search/grid_search_umap_params/zs_euclidean_pad_0.01_1.0_5_4_specs_no_40_dB_no\n",
      "/home/mthomas/Documents/MPI_work/projects/meerkat/meerkat_umap_pv/data/interim/parameter_search/grid_search_umap_params/zs_euclidean_pad_0.01_1.0_5_4_specs_no_40_dB_no\n",
      "/home/mthomas/Documents/MPI_work/projects/meerkat/meerkat_umap_pv/data/interim/parameter_search/grid_search_umap_params/zs_euclidean_pad_0.01_1.0_5_5_specs_no_40_dB_no\n",
      "/home/mthomas/Documents/MPI_work/projects/meerkat/meerkat_umap_pv/data/interim/parameter_search/grid_search_umap_params/zs_euclidean_pad_0.01_1.0_5_5_specs_no_40_dB_no\n",
      "/home/mthomas/Documents/MPI_work/projects/meerkat/meerkat_umap_pv/data/interim/parameter_search/grid_search_umap_params/zs_euclidean_pad_0.01_1.0_5_6_specs_no_40_dB_no\n",
      "/home/mthomas/Documents/MPI_work/projects/meerkat/meerkat_umap_pv/data/interim/parameter_search/grid_search_umap_params/zs_euclidean_pad_0.01_1.0_5_6_specs_no_40_dB_no\n",
      "/home/mthomas/Documents/MPI_work/projects/meerkat/meerkat_umap_pv/data/interim/parameter_search/grid_search_umap_params/zs_euclidean_pad_0.01_1.0_5_7_specs_no_40_dB_no\n",
      "/home/mthomas/Documents/MPI_work/projects/meerkat/meerkat_umap_pv/data/interim/parameter_search/grid_search_umap_params/zs_euclidean_pad_0.01_1.0_5_7_specs_no_40_dB_no\n",
      "/home/mthomas/Documents/MPI_work/projects/meerkat/meerkat_umap_pv/data/interim/parameter_search/grid_search_umap_params/zs_euclidean_pad_0.01_1.0_5_8_specs_no_40_dB_no\n",
      "/home/mthomas/Documents/MPI_work/projects/meerkat/meerkat_umap_pv/data/interim/parameter_search/grid_search_umap_params/zs_euclidean_pad_0.01_1.0_5_8_specs_no_40_dB_no\n",
      "/home/mthomas/Documents/MPI_work/projects/meerkat/meerkat_umap_pv/data/interim/parameter_search/grid_search_umap_params/zs_euclidean_pad_0.01_1.0_5_9_specs_no_40_dB_no\n",
      "/home/mthomas/Documents/MPI_work/projects/meerkat/meerkat_umap_pv/data/interim/parameter_search/grid_search_umap_params/zs_euclidean_pad_0.01_1.0_5_9_specs_no_40_dB_no\n",
      "/home/mthomas/Documents/MPI_work/projects/meerkat/meerkat_umap_pv/data/interim/parameter_search/grid_search_umap_params/zs_euclidean_pad_0.01_1.0_5_10_specs_no_40_dB_no\n",
      "/home/mthomas/Documents/MPI_work/projects/meerkat/meerkat_umap_pv/data/interim/parameter_search/grid_search_umap_params/zs_euclidean_pad_0.01_1.0_5_10_specs_no_40_dB_no\n",
      "/home/mthomas/Documents/MPI_work/projects/meerkat/meerkat_umap_pv/data/interim/parameter_search/grid_search_umap_params/zs_euclidean_pad_0.1_1.0_5_2_specs_no_40_dB_no\n",
      "/home/mthomas/Documents/MPI_work/projects/meerkat/meerkat_umap_pv/data/interim/parameter_search/grid_search_umap_params/zs_euclidean_pad_0.1_1.0_5_2_specs_no_40_dB_no\n",
      "/home/mthomas/Documents/MPI_work/projects/meerkat/meerkat_umap_pv/data/interim/parameter_search/grid_search_umap_params/zs_euclidean_pad_0.1_1.0_5_3_specs_no_40_dB_no\n",
      "/home/mthomas/Documents/MPI_work/projects/meerkat/meerkat_umap_pv/data/interim/parameter_search/grid_search_umap_params/zs_euclidean_pad_0.1_1.0_5_3_specs_no_40_dB_no\n",
      "/home/mthomas/Documents/MPI_work/projects/meerkat/meerkat_umap_pv/data/interim/parameter_search/grid_search_umap_params/zs_euclidean_pad_0.1_1.0_5_4_specs_no_40_dB_no\n",
      "/home/mthomas/Documents/MPI_work/projects/meerkat/meerkat_umap_pv/data/interim/parameter_search/grid_search_umap_params/zs_euclidean_pad_0.1_1.0_5_4_specs_no_40_dB_no\n",
      "/home/mthomas/Documents/MPI_work/projects/meerkat/meerkat_umap_pv/data/interim/parameter_search/grid_search_umap_params/zs_euclidean_pad_0.1_1.0_5_5_specs_no_40_dB_no\n",
      "/home/mthomas/Documents/MPI_work/projects/meerkat/meerkat_umap_pv/data/interim/parameter_search/grid_search_umap_params/zs_euclidean_pad_0.1_1.0_5_5_specs_no_40_dB_no\n",
      "/home/mthomas/Documents/MPI_work/projects/meerkat/meerkat_umap_pv/data/interim/parameter_search/grid_search_umap_params/zs_euclidean_pad_0.1_1.0_5_6_specs_no_40_dB_no\n",
      "/home/mthomas/Documents/MPI_work/projects/meerkat/meerkat_umap_pv/data/interim/parameter_search/grid_search_umap_params/zs_euclidean_pad_0.1_1.0_5_6_specs_no_40_dB_no\n",
      "/home/mthomas/Documents/MPI_work/projects/meerkat/meerkat_umap_pv/data/interim/parameter_search/grid_search_umap_params/zs_euclidean_pad_0.1_1.0_5_7_specs_no_40_dB_no\n",
      "/home/mthomas/Documents/MPI_work/projects/meerkat/meerkat_umap_pv/data/interim/parameter_search/grid_search_umap_params/zs_euclidean_pad_0.1_1.0_5_7_specs_no_40_dB_no\n",
      "/home/mthomas/Documents/MPI_work/projects/meerkat/meerkat_umap_pv/data/interim/parameter_search/grid_search_umap_params/zs_euclidean_pad_0.1_1.0_5_8_specs_no_40_dB_no\n",
      "/home/mthomas/Documents/MPI_work/projects/meerkat/meerkat_umap_pv/data/interim/parameter_search/grid_search_umap_params/zs_euclidean_pad_0.1_1.0_5_8_specs_no_40_dB_no\n",
      "/home/mthomas/Documents/MPI_work/projects/meerkat/meerkat_umap_pv/data/interim/parameter_search/grid_search_umap_params/zs_euclidean_pad_0.1_1.0_5_9_specs_no_40_dB_no\n",
      "/home/mthomas/Documents/MPI_work/projects/meerkat/meerkat_umap_pv/data/interim/parameter_search/grid_search_umap_params/zs_euclidean_pad_0.1_1.0_5_9_specs_no_40_dB_no\n",
      "/home/mthomas/Documents/MPI_work/projects/meerkat/meerkat_umap_pv/data/interim/parameter_search/grid_search_umap_params/zs_euclidean_pad_0.1_1.0_5_10_specs_no_40_dB_no\n",
      "/home/mthomas/Documents/MPI_work/projects/meerkat/meerkat_umap_pv/data/interim/parameter_search/grid_search_umap_params/zs_euclidean_pad_0.1_1.0_5_10_specs_no_40_dB_no\n",
      "/home/mthomas/Documents/MPI_work/projects/meerkat/meerkat_umap_pv/data/interim/parameter_search/grid_search_umap_params/zs_euclidean_pad_1_1.0_5_2_specs_no_40_dB_no\n",
      "/home/mthomas/Documents/MPI_work/projects/meerkat/meerkat_umap_pv/data/interim/parameter_search/grid_search_umap_params/zs_euclidean_pad_1_1.0_5_2_specs_no_40_dB_no\n",
      "/home/mthomas/Documents/MPI_work/projects/meerkat/meerkat_umap_pv/data/interim/parameter_search/grid_search_umap_params/zs_euclidean_pad_1_1.0_5_3_specs_no_40_dB_no\n",
      "/home/mthomas/Documents/MPI_work/projects/meerkat/meerkat_umap_pv/data/interim/parameter_search/grid_search_umap_params/zs_euclidean_pad_1_1.0_5_3_specs_no_40_dB_no\n",
      "/home/mthomas/Documents/MPI_work/projects/meerkat/meerkat_umap_pv/data/interim/parameter_search/grid_search_umap_params/zs_euclidean_pad_1_1.0_5_4_specs_no_40_dB_no\n",
      "/home/mthomas/Documents/MPI_work/projects/meerkat/meerkat_umap_pv/data/interim/parameter_search/grid_search_umap_params/zs_euclidean_pad_1_1.0_5_4_specs_no_40_dB_no\n",
      "/home/mthomas/Documents/MPI_work/projects/meerkat/meerkat_umap_pv/data/interim/parameter_search/grid_search_umap_params/zs_euclidean_pad_1_1.0_5_5_specs_no_40_dB_no\n",
      "/home/mthomas/Documents/MPI_work/projects/meerkat/meerkat_umap_pv/data/interim/parameter_search/grid_search_umap_params/zs_euclidean_pad_1_1.0_5_5_specs_no_40_dB_no\n",
      "/home/mthomas/Documents/MPI_work/projects/meerkat/meerkat_umap_pv/data/interim/parameter_search/grid_search_umap_params/zs_euclidean_pad_1_1.0_5_6_specs_no_40_dB_no\n",
      "/home/mthomas/Documents/MPI_work/projects/meerkat/meerkat_umap_pv/data/interim/parameter_search/grid_search_umap_params/zs_euclidean_pad_1_1.0_5_6_specs_no_40_dB_no\n",
      "/home/mthomas/Documents/MPI_work/projects/meerkat/meerkat_umap_pv/data/interim/parameter_search/grid_search_umap_params/zs_euclidean_pad_1_1.0_5_7_specs_no_40_dB_no\n",
      "/home/mthomas/Documents/MPI_work/projects/meerkat/meerkat_umap_pv/data/interim/parameter_search/grid_search_umap_params/zs_euclidean_pad_1_1.0_5_7_specs_no_40_dB_no\n",
      "/home/mthomas/Documents/MPI_work/projects/meerkat/meerkat_umap_pv/data/interim/parameter_search/grid_search_umap_params/zs_euclidean_pad_1_1.0_5_8_specs_no_40_dB_no\n",
      "/home/mthomas/Documents/MPI_work/projects/meerkat/meerkat_umap_pv/data/interim/parameter_search/grid_search_umap_params/zs_euclidean_pad_1_1.0_5_8_specs_no_40_dB_no\n",
      "/home/mthomas/Documents/MPI_work/projects/meerkat/meerkat_umap_pv/data/interim/parameter_search/grid_search_umap_params/zs_euclidean_pad_1_1.0_5_9_specs_no_40_dB_no\n",
      "/home/mthomas/Documents/MPI_work/projects/meerkat/meerkat_umap_pv/data/interim/parameter_search/grid_search_umap_params/zs_euclidean_pad_1_1.0_5_9_specs_no_40_dB_no\n",
      "/home/mthomas/Documents/MPI_work/projects/meerkat/meerkat_umap_pv/data/interim/parameter_search/grid_search_umap_params/zs_euclidean_pad_1_1.0_5_10_specs_no_40_dB_no\n",
      "/home/mthomas/Documents/MPI_work/projects/meerkat/meerkat_umap_pv/data/interim/parameter_search/grid_search_umap_params/zs_euclidean_pad_1_1.0_5_10_specs_no_40_dB_no\n",
      "/home/mthomas/Documents/MPI_work/projects/meerkat/meerkat_umap_pv/data/interim/parameter_search/grid_search_umap_params/zs_euclidean_pad_0_1.0_10_2_specs_no_40_dB_no\n",
      "/home/mthomas/Documents/MPI_work/projects/meerkat/meerkat_umap_pv/data/interim/parameter_search/grid_search_umap_params/zs_euclidean_pad_0_1.0_10_2_specs_no_40_dB_no\n",
      "/home/mthomas/Documents/MPI_work/projects/meerkat/meerkat_umap_pv/data/interim/parameter_search/grid_search_umap_params/zs_euclidean_pad_0_1.0_10_3_specs_no_40_dB_no\n",
      "/home/mthomas/Documents/MPI_work/projects/meerkat/meerkat_umap_pv/data/interim/parameter_search/grid_search_umap_params/zs_euclidean_pad_0_1.0_10_3_specs_no_40_dB_no\n",
      "/home/mthomas/Documents/MPI_work/projects/meerkat/meerkat_umap_pv/data/interim/parameter_search/grid_search_umap_params/zs_euclidean_pad_0_1.0_10_4_specs_no_40_dB_no\n",
      "/home/mthomas/Documents/MPI_work/projects/meerkat/meerkat_umap_pv/data/interim/parameter_search/grid_search_umap_params/zs_euclidean_pad_0_1.0_10_4_specs_no_40_dB_no\n",
      "/home/mthomas/Documents/MPI_work/projects/meerkat/meerkat_umap_pv/data/interim/parameter_search/grid_search_umap_params/zs_euclidean_pad_0_1.0_10_5_specs_no_40_dB_no\n",
      "/home/mthomas/Documents/MPI_work/projects/meerkat/meerkat_umap_pv/data/interim/parameter_search/grid_search_umap_params/zs_euclidean_pad_0_1.0_10_5_specs_no_40_dB_no\n",
      "/home/mthomas/Documents/MPI_work/projects/meerkat/meerkat_umap_pv/data/interim/parameter_search/grid_search_umap_params/zs_euclidean_pad_0_1.0_10_6_specs_no_40_dB_no\n",
      "/home/mthomas/Documents/MPI_work/projects/meerkat/meerkat_umap_pv/data/interim/parameter_search/grid_search_umap_params/zs_euclidean_pad_0_1.0_10_6_specs_no_40_dB_no\n",
      "/home/mthomas/Documents/MPI_work/projects/meerkat/meerkat_umap_pv/data/interim/parameter_search/grid_search_umap_params/zs_euclidean_pad_0_1.0_10_7_specs_no_40_dB_no\n",
      "/home/mthomas/Documents/MPI_work/projects/meerkat/meerkat_umap_pv/data/interim/parameter_search/grid_search_umap_params/zs_euclidean_pad_0_1.0_10_7_specs_no_40_dB_no\n",
      "/home/mthomas/Documents/MPI_work/projects/meerkat/meerkat_umap_pv/data/interim/parameter_search/grid_search_umap_params/zs_euclidean_pad_0_1.0_10_8_specs_no_40_dB_no\n",
      "/home/mthomas/Documents/MPI_work/projects/meerkat/meerkat_umap_pv/data/interim/parameter_search/grid_search_umap_params/zs_euclidean_pad_0_1.0_10_8_specs_no_40_dB_no\n",
      "/home/mthomas/Documents/MPI_work/projects/meerkat/meerkat_umap_pv/data/interim/parameter_search/grid_search_umap_params/zs_euclidean_pad_0_1.0_10_9_specs_no_40_dB_no\n",
      "/home/mthomas/Documents/MPI_work/projects/meerkat/meerkat_umap_pv/data/interim/parameter_search/grid_search_umap_params/zs_euclidean_pad_0_1.0_10_9_specs_no_40_dB_no\n",
      "/home/mthomas/Documents/MPI_work/projects/meerkat/meerkat_umap_pv/data/interim/parameter_search/grid_search_umap_params/zs_euclidean_pad_0_1.0_10_10_specs_no_40_dB_no\n",
      "/home/mthomas/Documents/MPI_work/projects/meerkat/meerkat_umap_pv/data/interim/parameter_search/grid_search_umap_params/zs_euclidean_pad_0_1.0_10_10_specs_no_40_dB_no\n",
      "/home/mthomas/Documents/MPI_work/projects/meerkat/meerkat_umap_pv/data/interim/parameter_search/grid_search_umap_params/zs_euclidean_pad_0.001_1.0_10_2_specs_no_40_dB_no\n",
      "/home/mthomas/Documents/MPI_work/projects/meerkat/meerkat_umap_pv/data/interim/parameter_search/grid_search_umap_params/zs_euclidean_pad_0.001_1.0_10_2_specs_no_40_dB_no\n",
      "/home/mthomas/Documents/MPI_work/projects/meerkat/meerkat_umap_pv/data/interim/parameter_search/grid_search_umap_params/zs_euclidean_pad_0.001_1.0_10_3_specs_no_40_dB_no\n",
      "/home/mthomas/Documents/MPI_work/projects/meerkat/meerkat_umap_pv/data/interim/parameter_search/grid_search_umap_params/zs_euclidean_pad_0.001_1.0_10_3_specs_no_40_dB_no\n",
      "/home/mthomas/Documents/MPI_work/projects/meerkat/meerkat_umap_pv/data/interim/parameter_search/grid_search_umap_params/zs_euclidean_pad_0.001_1.0_10_4_specs_no_40_dB_no\n",
      "/home/mthomas/Documents/MPI_work/projects/meerkat/meerkat_umap_pv/data/interim/parameter_search/grid_search_umap_params/zs_euclidean_pad_0.001_1.0_10_4_specs_no_40_dB_no\n",
      "/home/mthomas/Documents/MPI_work/projects/meerkat/meerkat_umap_pv/data/interim/parameter_search/grid_search_umap_params/zs_euclidean_pad_0.001_1.0_10_5_specs_no_40_dB_no\n",
      "/home/mthomas/Documents/MPI_work/projects/meerkat/meerkat_umap_pv/data/interim/parameter_search/grid_search_umap_params/zs_euclidean_pad_0.001_1.0_10_5_specs_no_40_dB_no\n",
      "/home/mthomas/Documents/MPI_work/projects/meerkat/meerkat_umap_pv/data/interim/parameter_search/grid_search_umap_params/zs_euclidean_pad_0.001_1.0_10_6_specs_no_40_dB_no\n",
      "/home/mthomas/Documents/MPI_work/projects/meerkat/meerkat_umap_pv/data/interim/parameter_search/grid_search_umap_params/zs_euclidean_pad_0.001_1.0_10_6_specs_no_40_dB_no\n",
      "/home/mthomas/Documents/MPI_work/projects/meerkat/meerkat_umap_pv/data/interim/parameter_search/grid_search_umap_params/zs_euclidean_pad_0.001_1.0_10_7_specs_no_40_dB_no\n",
      "/home/mthomas/Documents/MPI_work/projects/meerkat/meerkat_umap_pv/data/interim/parameter_search/grid_search_umap_params/zs_euclidean_pad_0.001_1.0_10_7_specs_no_40_dB_no\n",
      "/home/mthomas/Documents/MPI_work/projects/meerkat/meerkat_umap_pv/data/interim/parameter_search/grid_search_umap_params/zs_euclidean_pad_0.001_1.0_10_8_specs_no_40_dB_no\n",
      "/home/mthomas/Documents/MPI_work/projects/meerkat/meerkat_umap_pv/data/interim/parameter_search/grid_search_umap_params/zs_euclidean_pad_0.001_1.0_10_8_specs_no_40_dB_no\n",
      "/home/mthomas/Documents/MPI_work/projects/meerkat/meerkat_umap_pv/data/interim/parameter_search/grid_search_umap_params/zs_euclidean_pad_0.001_1.0_10_9_specs_no_40_dB_no\n",
      "/home/mthomas/Documents/MPI_work/projects/meerkat/meerkat_umap_pv/data/interim/parameter_search/grid_search_umap_params/zs_euclidean_pad_0.001_1.0_10_9_specs_no_40_dB_no\n",
      "/home/mthomas/Documents/MPI_work/projects/meerkat/meerkat_umap_pv/data/interim/parameter_search/grid_search_umap_params/zs_euclidean_pad_0.001_1.0_10_10_specs_no_40_dB_no\n",
      "/home/mthomas/Documents/MPI_work/projects/meerkat/meerkat_umap_pv/data/interim/parameter_search/grid_search_umap_params/zs_euclidean_pad_0.001_1.0_10_10_specs_no_40_dB_no\n",
      "/home/mthomas/Documents/MPI_work/projects/meerkat/meerkat_umap_pv/data/interim/parameter_search/grid_search_umap_params/zs_euclidean_pad_0.01_1.0_10_2_specs_no_40_dB_no\n",
      "/home/mthomas/Documents/MPI_work/projects/meerkat/meerkat_umap_pv/data/interim/parameter_search/grid_search_umap_params/zs_euclidean_pad_0.01_1.0_10_2_specs_no_40_dB_no\n",
      "/home/mthomas/Documents/MPI_work/projects/meerkat/meerkat_umap_pv/data/interim/parameter_search/grid_search_umap_params/zs_euclidean_pad_0.01_1.0_10_3_specs_no_40_dB_no\n",
      "/home/mthomas/Documents/MPI_work/projects/meerkat/meerkat_umap_pv/data/interim/parameter_search/grid_search_umap_params/zs_euclidean_pad_0.01_1.0_10_3_specs_no_40_dB_no\n",
      "/home/mthomas/Documents/MPI_work/projects/meerkat/meerkat_umap_pv/data/interim/parameter_search/grid_search_umap_params/zs_euclidean_pad_0.01_1.0_10_4_specs_no_40_dB_no\n",
      "/home/mthomas/Documents/MPI_work/projects/meerkat/meerkat_umap_pv/data/interim/parameter_search/grid_search_umap_params/zs_euclidean_pad_0.01_1.0_10_4_specs_no_40_dB_no\n",
      "/home/mthomas/Documents/MPI_work/projects/meerkat/meerkat_umap_pv/data/interim/parameter_search/grid_search_umap_params/zs_euclidean_pad_0.01_1.0_10_5_specs_no_40_dB_no\n",
      "/home/mthomas/Documents/MPI_work/projects/meerkat/meerkat_umap_pv/data/interim/parameter_search/grid_search_umap_params/zs_euclidean_pad_0.01_1.0_10_5_specs_no_40_dB_no\n",
      "/home/mthomas/Documents/MPI_work/projects/meerkat/meerkat_umap_pv/data/interim/parameter_search/grid_search_umap_params/zs_euclidean_pad_0.01_1.0_10_6_specs_no_40_dB_no\n",
      "/home/mthomas/Documents/MPI_work/projects/meerkat/meerkat_umap_pv/data/interim/parameter_search/grid_search_umap_params/zs_euclidean_pad_0.01_1.0_10_6_specs_no_40_dB_no\n",
      "/home/mthomas/Documents/MPI_work/projects/meerkat/meerkat_umap_pv/data/interim/parameter_search/grid_search_umap_params/zs_euclidean_pad_0.01_1.0_10_7_specs_no_40_dB_no\n",
      "/home/mthomas/Documents/MPI_work/projects/meerkat/meerkat_umap_pv/data/interim/parameter_search/grid_search_umap_params/zs_euclidean_pad_0.01_1.0_10_7_specs_no_40_dB_no\n",
      "/home/mthomas/Documents/MPI_work/projects/meerkat/meerkat_umap_pv/data/interim/parameter_search/grid_search_umap_params/zs_euclidean_pad_0.01_1.0_10_8_specs_no_40_dB_no\n",
      "/home/mthomas/Documents/MPI_work/projects/meerkat/meerkat_umap_pv/data/interim/parameter_search/grid_search_umap_params/zs_euclidean_pad_0.01_1.0_10_8_specs_no_40_dB_no\n",
      "/home/mthomas/Documents/MPI_work/projects/meerkat/meerkat_umap_pv/data/interim/parameter_search/grid_search_umap_params/zs_euclidean_pad_0.01_1.0_10_9_specs_no_40_dB_no\n",
      "/home/mthomas/Documents/MPI_work/projects/meerkat/meerkat_umap_pv/data/interim/parameter_search/grid_search_umap_params/zs_euclidean_pad_0.01_1.0_10_9_specs_no_40_dB_no\n",
      "/home/mthomas/Documents/MPI_work/projects/meerkat/meerkat_umap_pv/data/interim/parameter_search/grid_search_umap_params/zs_euclidean_pad_0.01_1.0_10_10_specs_no_40_dB_no\n",
      "/home/mthomas/Documents/MPI_work/projects/meerkat/meerkat_umap_pv/data/interim/parameter_search/grid_search_umap_params/zs_euclidean_pad_0.01_1.0_10_10_specs_no_40_dB_no\n",
      "/home/mthomas/Documents/MPI_work/projects/meerkat/meerkat_umap_pv/data/interim/parameter_search/grid_search_umap_params/zs_euclidean_pad_0.1_1.0_10_2_specs_no_40_dB_no\n",
      "/home/mthomas/Documents/MPI_work/projects/meerkat/meerkat_umap_pv/data/interim/parameter_search/grid_search_umap_params/zs_euclidean_pad_0.1_1.0_10_2_specs_no_40_dB_no\n",
      "/home/mthomas/Documents/MPI_work/projects/meerkat/meerkat_umap_pv/data/interim/parameter_search/grid_search_umap_params/zs_euclidean_pad_0.1_1.0_10_3_specs_no_40_dB_no\n",
      "/home/mthomas/Documents/MPI_work/projects/meerkat/meerkat_umap_pv/data/interim/parameter_search/grid_search_umap_params/zs_euclidean_pad_0.1_1.0_10_3_specs_no_40_dB_no\n",
      "/home/mthomas/Documents/MPI_work/projects/meerkat/meerkat_umap_pv/data/interim/parameter_search/grid_search_umap_params/zs_euclidean_pad_0.1_1.0_10_4_specs_no_40_dB_no\n",
      "/home/mthomas/Documents/MPI_work/projects/meerkat/meerkat_umap_pv/data/interim/parameter_search/grid_search_umap_params/zs_euclidean_pad_0.1_1.0_10_4_specs_no_40_dB_no\n",
      "/home/mthomas/Documents/MPI_work/projects/meerkat/meerkat_umap_pv/data/interim/parameter_search/grid_search_umap_params/zs_euclidean_pad_0.1_1.0_10_5_specs_no_40_dB_no\n",
      "/home/mthomas/Documents/MPI_work/projects/meerkat/meerkat_umap_pv/data/interim/parameter_search/grid_search_umap_params/zs_euclidean_pad_0.1_1.0_10_5_specs_no_40_dB_no\n",
      "/home/mthomas/Documents/MPI_work/projects/meerkat/meerkat_umap_pv/data/interim/parameter_search/grid_search_umap_params/zs_euclidean_pad_0.1_1.0_10_6_specs_no_40_dB_no\n",
      "/home/mthomas/Documents/MPI_work/projects/meerkat/meerkat_umap_pv/data/interim/parameter_search/grid_search_umap_params/zs_euclidean_pad_0.1_1.0_10_6_specs_no_40_dB_no\n",
      "/home/mthomas/Documents/MPI_work/projects/meerkat/meerkat_umap_pv/data/interim/parameter_search/grid_search_umap_params/zs_euclidean_pad_0.1_1.0_10_7_specs_no_40_dB_no\n",
      "/home/mthomas/Documents/MPI_work/projects/meerkat/meerkat_umap_pv/data/interim/parameter_search/grid_search_umap_params/zs_euclidean_pad_0.1_1.0_10_7_specs_no_40_dB_no\n",
      "/home/mthomas/Documents/MPI_work/projects/meerkat/meerkat_umap_pv/data/interim/parameter_search/grid_search_umap_params/zs_euclidean_pad_0.1_1.0_10_8_specs_no_40_dB_no\n",
      "/home/mthomas/Documents/MPI_work/projects/meerkat/meerkat_umap_pv/data/interim/parameter_search/grid_search_umap_params/zs_euclidean_pad_0.1_1.0_10_8_specs_no_40_dB_no\n",
      "/home/mthomas/Documents/MPI_work/projects/meerkat/meerkat_umap_pv/data/interim/parameter_search/grid_search_umap_params/zs_euclidean_pad_0.1_1.0_10_9_specs_no_40_dB_no\n",
      "/home/mthomas/Documents/MPI_work/projects/meerkat/meerkat_umap_pv/data/interim/parameter_search/grid_search_umap_params/zs_euclidean_pad_0.1_1.0_10_9_specs_no_40_dB_no\n",
      "/home/mthomas/Documents/MPI_work/projects/meerkat/meerkat_umap_pv/data/interim/parameter_search/grid_search_umap_params/zs_euclidean_pad_0.1_1.0_10_10_specs_no_40_dB_no\n",
      "/home/mthomas/Documents/MPI_work/projects/meerkat/meerkat_umap_pv/data/interim/parameter_search/grid_search_umap_params/zs_euclidean_pad_0.1_1.0_10_10_specs_no_40_dB_no\n",
      "/home/mthomas/Documents/MPI_work/projects/meerkat/meerkat_umap_pv/data/interim/parameter_search/grid_search_umap_params/zs_euclidean_pad_1_1.0_10_2_specs_no_40_dB_no\n",
      "/home/mthomas/Documents/MPI_work/projects/meerkat/meerkat_umap_pv/data/interim/parameter_search/grid_search_umap_params/zs_euclidean_pad_1_1.0_10_2_specs_no_40_dB_no\n",
      "/home/mthomas/Documents/MPI_work/projects/meerkat/meerkat_umap_pv/data/interim/parameter_search/grid_search_umap_params/zs_euclidean_pad_1_1.0_10_3_specs_no_40_dB_no\n",
      "/home/mthomas/Documents/MPI_work/projects/meerkat/meerkat_umap_pv/data/interim/parameter_search/grid_search_umap_params/zs_euclidean_pad_1_1.0_10_3_specs_no_40_dB_no\n",
      "/home/mthomas/Documents/MPI_work/projects/meerkat/meerkat_umap_pv/data/interim/parameter_search/grid_search_umap_params/zs_euclidean_pad_1_1.0_10_4_specs_no_40_dB_no\n",
      "/home/mthomas/Documents/MPI_work/projects/meerkat/meerkat_umap_pv/data/interim/parameter_search/grid_search_umap_params/zs_euclidean_pad_1_1.0_10_4_specs_no_40_dB_no\n",
      "/home/mthomas/Documents/MPI_work/projects/meerkat/meerkat_umap_pv/data/interim/parameter_search/grid_search_umap_params/zs_euclidean_pad_1_1.0_10_5_specs_no_40_dB_no\n",
      "/home/mthomas/Documents/MPI_work/projects/meerkat/meerkat_umap_pv/data/interim/parameter_search/grid_search_umap_params/zs_euclidean_pad_1_1.0_10_5_specs_no_40_dB_no\n",
      "/home/mthomas/Documents/MPI_work/projects/meerkat/meerkat_umap_pv/data/interim/parameter_search/grid_search_umap_params/zs_euclidean_pad_1_1.0_10_6_specs_no_40_dB_no\n",
      "/home/mthomas/Documents/MPI_work/projects/meerkat/meerkat_umap_pv/data/interim/parameter_search/grid_search_umap_params/zs_euclidean_pad_1_1.0_10_6_specs_no_40_dB_no\n",
      "/home/mthomas/Documents/MPI_work/projects/meerkat/meerkat_umap_pv/data/interim/parameter_search/grid_search_umap_params/zs_euclidean_pad_1_1.0_10_7_specs_no_40_dB_no\n",
      "/home/mthomas/Documents/MPI_work/projects/meerkat/meerkat_umap_pv/data/interim/parameter_search/grid_search_umap_params/zs_euclidean_pad_1_1.0_10_7_specs_no_40_dB_no\n",
      "/home/mthomas/Documents/MPI_work/projects/meerkat/meerkat_umap_pv/data/interim/parameter_search/grid_search_umap_params/zs_euclidean_pad_1_1.0_10_8_specs_no_40_dB_no\n",
      "/home/mthomas/Documents/MPI_work/projects/meerkat/meerkat_umap_pv/data/interim/parameter_search/grid_search_umap_params/zs_euclidean_pad_1_1.0_10_8_specs_no_40_dB_no\n",
      "/home/mthomas/Documents/MPI_work/projects/meerkat/meerkat_umap_pv/data/interim/parameter_search/grid_search_umap_params/zs_euclidean_pad_1_1.0_10_9_specs_no_40_dB_no\n",
      "/home/mthomas/Documents/MPI_work/projects/meerkat/meerkat_umap_pv/data/interim/parameter_search/grid_search_umap_params/zs_euclidean_pad_1_1.0_10_9_specs_no_40_dB_no\n",
      "/home/mthomas/Documents/MPI_work/projects/meerkat/meerkat_umap_pv/data/interim/parameter_search/grid_search_umap_params/zs_euclidean_pad_1_1.0_10_10_specs_no_40_dB_no\n",
      "/home/mthomas/Documents/MPI_work/projects/meerkat/meerkat_umap_pv/data/interim/parameter_search/grid_search_umap_params/zs_euclidean_pad_1_1.0_10_10_specs_no_40_dB_no\n",
      "/home/mthomas/Documents/MPI_work/projects/meerkat/meerkat_umap_pv/data/interim/parameter_search/grid_search_umap_params/zs_euclidean_pad_0_1.0_15_2_specs_no_40_dB_no\n",
      "/home/mthomas/Documents/MPI_work/projects/meerkat/meerkat_umap_pv/data/interim/parameter_search/grid_search_umap_params/zs_euclidean_pad_0_1.0_15_2_specs_no_40_dB_no\n",
      "/home/mthomas/Documents/MPI_work/projects/meerkat/meerkat_umap_pv/data/interim/parameter_search/grid_search_umap_params/zs_euclidean_pad_0_1.0_15_3_specs_no_40_dB_no\n",
      "/home/mthomas/Documents/MPI_work/projects/meerkat/meerkat_umap_pv/data/interim/parameter_search/grid_search_umap_params/zs_euclidean_pad_0_1.0_15_3_specs_no_40_dB_no\n",
      "/home/mthomas/Documents/MPI_work/projects/meerkat/meerkat_umap_pv/data/interim/parameter_search/grid_search_umap_params/zs_euclidean_pad_0_1.0_15_4_specs_no_40_dB_no\n",
      "/home/mthomas/Documents/MPI_work/projects/meerkat/meerkat_umap_pv/data/interim/parameter_search/grid_search_umap_params/zs_euclidean_pad_0_1.0_15_4_specs_no_40_dB_no\n",
      "/home/mthomas/Documents/MPI_work/projects/meerkat/meerkat_umap_pv/data/interim/parameter_search/grid_search_umap_params/zs_euclidean_pad_0_1.0_15_5_specs_no_40_dB_no\n",
      "/home/mthomas/Documents/MPI_work/projects/meerkat/meerkat_umap_pv/data/interim/parameter_search/grid_search_umap_params/zs_euclidean_pad_0_1.0_15_5_specs_no_40_dB_no\n",
      "/home/mthomas/Documents/MPI_work/projects/meerkat/meerkat_umap_pv/data/interim/parameter_search/grid_search_umap_params/zs_euclidean_pad_0_1.0_15_6_specs_no_40_dB_no\n",
      "/home/mthomas/Documents/MPI_work/projects/meerkat/meerkat_umap_pv/data/interim/parameter_search/grid_search_umap_params/zs_euclidean_pad_0_1.0_15_6_specs_no_40_dB_no\n",
      "/home/mthomas/Documents/MPI_work/projects/meerkat/meerkat_umap_pv/data/interim/parameter_search/grid_search_umap_params/zs_euclidean_pad_0_1.0_15_7_specs_no_40_dB_no\n",
      "/home/mthomas/Documents/MPI_work/projects/meerkat/meerkat_umap_pv/data/interim/parameter_search/grid_search_umap_params/zs_euclidean_pad_0_1.0_15_7_specs_no_40_dB_no\n",
      "/home/mthomas/Documents/MPI_work/projects/meerkat/meerkat_umap_pv/data/interim/parameter_search/grid_search_umap_params/zs_euclidean_pad_0_1.0_15_8_specs_no_40_dB_no\n",
      "/home/mthomas/Documents/MPI_work/projects/meerkat/meerkat_umap_pv/data/interim/parameter_search/grid_search_umap_params/zs_euclidean_pad_0_1.0_15_8_specs_no_40_dB_no\n",
      "/home/mthomas/Documents/MPI_work/projects/meerkat/meerkat_umap_pv/data/interim/parameter_search/grid_search_umap_params/zs_euclidean_pad_0_1.0_15_9_specs_no_40_dB_no\n",
      "/home/mthomas/Documents/MPI_work/projects/meerkat/meerkat_umap_pv/data/interim/parameter_search/grid_search_umap_params/zs_euclidean_pad_0_1.0_15_9_specs_no_40_dB_no\n",
      "/home/mthomas/Documents/MPI_work/projects/meerkat/meerkat_umap_pv/data/interim/parameter_search/grid_search_umap_params/zs_euclidean_pad_0_1.0_15_10_specs_no_40_dB_no\n",
      "/home/mthomas/Documents/MPI_work/projects/meerkat/meerkat_umap_pv/data/interim/parameter_search/grid_search_umap_params/zs_euclidean_pad_0_1.0_15_10_specs_no_40_dB_no\n",
      "/home/mthomas/Documents/MPI_work/projects/meerkat/meerkat_umap_pv/data/interim/parameter_search/grid_search_umap_params/zs_euclidean_pad_0.001_1.0_15_2_specs_no_40_dB_no\n",
      "/home/mthomas/Documents/MPI_work/projects/meerkat/meerkat_umap_pv/data/interim/parameter_search/grid_search_umap_params/zs_euclidean_pad_0.001_1.0_15_2_specs_no_40_dB_no\n",
      "/home/mthomas/Documents/MPI_work/projects/meerkat/meerkat_umap_pv/data/interim/parameter_search/grid_search_umap_params/zs_euclidean_pad_0.001_1.0_15_3_specs_no_40_dB_no\n",
      "/home/mthomas/Documents/MPI_work/projects/meerkat/meerkat_umap_pv/data/interim/parameter_search/grid_search_umap_params/zs_euclidean_pad_0.001_1.0_15_3_specs_no_40_dB_no\n",
      "/home/mthomas/Documents/MPI_work/projects/meerkat/meerkat_umap_pv/data/interim/parameter_search/grid_search_umap_params/zs_euclidean_pad_0.001_1.0_15_4_specs_no_40_dB_no\n",
      "/home/mthomas/Documents/MPI_work/projects/meerkat/meerkat_umap_pv/data/interim/parameter_search/grid_search_umap_params/zs_euclidean_pad_0.001_1.0_15_4_specs_no_40_dB_no\n",
      "/home/mthomas/Documents/MPI_work/projects/meerkat/meerkat_umap_pv/data/interim/parameter_search/grid_search_umap_params/zs_euclidean_pad_0.001_1.0_15_5_specs_no_40_dB_no\n",
      "/home/mthomas/Documents/MPI_work/projects/meerkat/meerkat_umap_pv/data/interim/parameter_search/grid_search_umap_params/zs_euclidean_pad_0.001_1.0_15_5_specs_no_40_dB_no\n",
      "/home/mthomas/Documents/MPI_work/projects/meerkat/meerkat_umap_pv/data/interim/parameter_search/grid_search_umap_params/zs_euclidean_pad_0.001_1.0_15_6_specs_no_40_dB_no\n",
      "/home/mthomas/Documents/MPI_work/projects/meerkat/meerkat_umap_pv/data/interim/parameter_search/grid_search_umap_params/zs_euclidean_pad_0.001_1.0_15_6_specs_no_40_dB_no\n",
      "/home/mthomas/Documents/MPI_work/projects/meerkat/meerkat_umap_pv/data/interim/parameter_search/grid_search_umap_params/zs_euclidean_pad_0.001_1.0_15_7_specs_no_40_dB_no\n",
      "/home/mthomas/Documents/MPI_work/projects/meerkat/meerkat_umap_pv/data/interim/parameter_search/grid_search_umap_params/zs_euclidean_pad_0.001_1.0_15_7_specs_no_40_dB_no\n",
      "/home/mthomas/Documents/MPI_work/projects/meerkat/meerkat_umap_pv/data/interim/parameter_search/grid_search_umap_params/zs_euclidean_pad_0.001_1.0_15_8_specs_no_40_dB_no\n",
      "/home/mthomas/Documents/MPI_work/projects/meerkat/meerkat_umap_pv/data/interim/parameter_search/grid_search_umap_params/zs_euclidean_pad_0.001_1.0_15_8_specs_no_40_dB_no\n",
      "/home/mthomas/Documents/MPI_work/projects/meerkat/meerkat_umap_pv/data/interim/parameter_search/grid_search_umap_params/zs_euclidean_pad_0.001_1.0_15_9_specs_no_40_dB_no\n",
      "/home/mthomas/Documents/MPI_work/projects/meerkat/meerkat_umap_pv/data/interim/parameter_search/grid_search_umap_params/zs_euclidean_pad_0.001_1.0_15_9_specs_no_40_dB_no\n",
      "/home/mthomas/Documents/MPI_work/projects/meerkat/meerkat_umap_pv/data/interim/parameter_search/grid_search_umap_params/zs_euclidean_pad_0.001_1.0_15_10_specs_no_40_dB_no\n",
      "/home/mthomas/Documents/MPI_work/projects/meerkat/meerkat_umap_pv/data/interim/parameter_search/grid_search_umap_params/zs_euclidean_pad_0.001_1.0_15_10_specs_no_40_dB_no\n",
      "/home/mthomas/Documents/MPI_work/projects/meerkat/meerkat_umap_pv/data/interim/parameter_search/grid_search_umap_params/zs_euclidean_pad_0.01_1.0_15_2_specs_no_40_dB_no\n",
      "/home/mthomas/Documents/MPI_work/projects/meerkat/meerkat_umap_pv/data/interim/parameter_search/grid_search_umap_params/zs_euclidean_pad_0.01_1.0_15_2_specs_no_40_dB_no\n",
      "/home/mthomas/Documents/MPI_work/projects/meerkat/meerkat_umap_pv/data/interim/parameter_search/grid_search_umap_params/zs_euclidean_pad_0.01_1.0_15_3_specs_no_40_dB_no\n",
      "/home/mthomas/Documents/MPI_work/projects/meerkat/meerkat_umap_pv/data/interim/parameter_search/grid_search_umap_params/zs_euclidean_pad_0.01_1.0_15_3_specs_no_40_dB_no\n",
      "/home/mthomas/Documents/MPI_work/projects/meerkat/meerkat_umap_pv/data/interim/parameter_search/grid_search_umap_params/zs_euclidean_pad_0.01_1.0_15_4_specs_no_40_dB_no\n",
      "/home/mthomas/Documents/MPI_work/projects/meerkat/meerkat_umap_pv/data/interim/parameter_search/grid_search_umap_params/zs_euclidean_pad_0.01_1.0_15_4_specs_no_40_dB_no\n",
      "/home/mthomas/Documents/MPI_work/projects/meerkat/meerkat_umap_pv/data/interim/parameter_search/grid_search_umap_params/zs_euclidean_pad_0.01_1.0_15_5_specs_no_40_dB_no\n",
      "/home/mthomas/Documents/MPI_work/projects/meerkat/meerkat_umap_pv/data/interim/parameter_search/grid_search_umap_params/zs_euclidean_pad_0.01_1.0_15_5_specs_no_40_dB_no\n",
      "/home/mthomas/Documents/MPI_work/projects/meerkat/meerkat_umap_pv/data/interim/parameter_search/grid_search_umap_params/zs_euclidean_pad_0.01_1.0_15_6_specs_no_40_dB_no\n",
      "/home/mthomas/Documents/MPI_work/projects/meerkat/meerkat_umap_pv/data/interim/parameter_search/grid_search_umap_params/zs_euclidean_pad_0.01_1.0_15_6_specs_no_40_dB_no\n",
      "/home/mthomas/Documents/MPI_work/projects/meerkat/meerkat_umap_pv/data/interim/parameter_search/grid_search_umap_params/zs_euclidean_pad_0.01_1.0_15_7_specs_no_40_dB_no\n",
      "/home/mthomas/Documents/MPI_work/projects/meerkat/meerkat_umap_pv/data/interim/parameter_search/grid_search_umap_params/zs_euclidean_pad_0.01_1.0_15_7_specs_no_40_dB_no\n",
      "/home/mthomas/Documents/MPI_work/projects/meerkat/meerkat_umap_pv/data/interim/parameter_search/grid_search_umap_params/zs_euclidean_pad_0.01_1.0_15_8_specs_no_40_dB_no\n",
      "/home/mthomas/Documents/MPI_work/projects/meerkat/meerkat_umap_pv/data/interim/parameter_search/grid_search_umap_params/zs_euclidean_pad_0.01_1.0_15_8_specs_no_40_dB_no\n",
      "/home/mthomas/Documents/MPI_work/projects/meerkat/meerkat_umap_pv/data/interim/parameter_search/grid_search_umap_params/zs_euclidean_pad_0.01_1.0_15_9_specs_no_40_dB_no\n",
      "/home/mthomas/Documents/MPI_work/projects/meerkat/meerkat_umap_pv/data/interim/parameter_search/grid_search_umap_params/zs_euclidean_pad_0.01_1.0_15_9_specs_no_40_dB_no\n",
      "/home/mthomas/Documents/MPI_work/projects/meerkat/meerkat_umap_pv/data/interim/parameter_search/grid_search_umap_params/zs_euclidean_pad_0.01_1.0_15_10_specs_no_40_dB_no\n",
      "/home/mthomas/Documents/MPI_work/projects/meerkat/meerkat_umap_pv/data/interim/parameter_search/grid_search_umap_params/zs_euclidean_pad_0.01_1.0_15_10_specs_no_40_dB_no\n",
      "/home/mthomas/Documents/MPI_work/projects/meerkat/meerkat_umap_pv/data/interim/parameter_search/grid_search_umap_params/zs_euclidean_pad_0.1_1.0_15_2_specs_no_40_dB_no\n",
      "/home/mthomas/Documents/MPI_work/projects/meerkat/meerkat_umap_pv/data/interim/parameter_search/grid_search_umap_params/zs_euclidean_pad_0.1_1.0_15_2_specs_no_40_dB_no\n",
      "/home/mthomas/Documents/MPI_work/projects/meerkat/meerkat_umap_pv/data/interim/parameter_search/grid_search_umap_params/zs_euclidean_pad_0.1_1.0_15_3_specs_no_40_dB_no\n",
      "/home/mthomas/Documents/MPI_work/projects/meerkat/meerkat_umap_pv/data/interim/parameter_search/grid_search_umap_params/zs_euclidean_pad_0.1_1.0_15_3_specs_no_40_dB_no\n",
      "/home/mthomas/Documents/MPI_work/projects/meerkat/meerkat_umap_pv/data/interim/parameter_search/grid_search_umap_params/zs_euclidean_pad_0.1_1.0_15_4_specs_no_40_dB_no\n",
      "/home/mthomas/Documents/MPI_work/projects/meerkat/meerkat_umap_pv/data/interim/parameter_search/grid_search_umap_params/zs_euclidean_pad_0.1_1.0_15_4_specs_no_40_dB_no\n",
      "/home/mthomas/Documents/MPI_work/projects/meerkat/meerkat_umap_pv/data/interim/parameter_search/grid_search_umap_params/zs_euclidean_pad_0.1_1.0_15_5_specs_no_40_dB_no\n",
      "/home/mthomas/Documents/MPI_work/projects/meerkat/meerkat_umap_pv/data/interim/parameter_search/grid_search_umap_params/zs_euclidean_pad_0.1_1.0_15_5_specs_no_40_dB_no\n",
      "/home/mthomas/Documents/MPI_work/projects/meerkat/meerkat_umap_pv/data/interim/parameter_search/grid_search_umap_params/zs_euclidean_pad_0.1_1.0_15_6_specs_no_40_dB_no\n",
      "/home/mthomas/Documents/MPI_work/projects/meerkat/meerkat_umap_pv/data/interim/parameter_search/grid_search_umap_params/zs_euclidean_pad_0.1_1.0_15_6_specs_no_40_dB_no\n",
      "/home/mthomas/Documents/MPI_work/projects/meerkat/meerkat_umap_pv/data/interim/parameter_search/grid_search_umap_params/zs_euclidean_pad_0.1_1.0_15_7_specs_no_40_dB_no\n",
      "/home/mthomas/Documents/MPI_work/projects/meerkat/meerkat_umap_pv/data/interim/parameter_search/grid_search_umap_params/zs_euclidean_pad_0.1_1.0_15_7_specs_no_40_dB_no\n",
      "/home/mthomas/Documents/MPI_work/projects/meerkat/meerkat_umap_pv/data/interim/parameter_search/grid_search_umap_params/zs_euclidean_pad_0.1_1.0_15_8_specs_no_40_dB_no\n",
      "/home/mthomas/Documents/MPI_work/projects/meerkat/meerkat_umap_pv/data/interim/parameter_search/grid_search_umap_params/zs_euclidean_pad_0.1_1.0_15_8_specs_no_40_dB_no\n",
      "/home/mthomas/Documents/MPI_work/projects/meerkat/meerkat_umap_pv/data/interim/parameter_search/grid_search_umap_params/zs_euclidean_pad_0.1_1.0_15_9_specs_no_40_dB_no\n",
      "/home/mthomas/Documents/MPI_work/projects/meerkat/meerkat_umap_pv/data/interim/parameter_search/grid_search_umap_params/zs_euclidean_pad_0.1_1.0_15_9_specs_no_40_dB_no\n",
      "/home/mthomas/Documents/MPI_work/projects/meerkat/meerkat_umap_pv/data/interim/parameter_search/grid_search_umap_params/zs_euclidean_pad_0.1_1.0_15_10_specs_no_40_dB_no\n",
      "/home/mthomas/Documents/MPI_work/projects/meerkat/meerkat_umap_pv/data/interim/parameter_search/grid_search_umap_params/zs_euclidean_pad_0.1_1.0_15_10_specs_no_40_dB_no\n",
      "/home/mthomas/Documents/MPI_work/projects/meerkat/meerkat_umap_pv/data/interim/parameter_search/grid_search_umap_params/zs_euclidean_pad_1_1.0_15_2_specs_no_40_dB_no\n",
      "/home/mthomas/Documents/MPI_work/projects/meerkat/meerkat_umap_pv/data/interim/parameter_search/grid_search_umap_params/zs_euclidean_pad_1_1.0_15_2_specs_no_40_dB_no\n",
      "/home/mthomas/Documents/MPI_work/projects/meerkat/meerkat_umap_pv/data/interim/parameter_search/grid_search_umap_params/zs_euclidean_pad_1_1.0_15_3_specs_no_40_dB_no\n",
      "/home/mthomas/Documents/MPI_work/projects/meerkat/meerkat_umap_pv/data/interim/parameter_search/grid_search_umap_params/zs_euclidean_pad_1_1.0_15_3_specs_no_40_dB_no\n",
      "/home/mthomas/Documents/MPI_work/projects/meerkat/meerkat_umap_pv/data/interim/parameter_search/grid_search_umap_params/zs_euclidean_pad_1_1.0_15_4_specs_no_40_dB_no\n",
      "/home/mthomas/Documents/MPI_work/projects/meerkat/meerkat_umap_pv/data/interim/parameter_search/grid_search_umap_params/zs_euclidean_pad_1_1.0_15_4_specs_no_40_dB_no\n",
      "/home/mthomas/Documents/MPI_work/projects/meerkat/meerkat_umap_pv/data/interim/parameter_search/grid_search_umap_params/zs_euclidean_pad_1_1.0_15_5_specs_no_40_dB_no\n",
      "/home/mthomas/Documents/MPI_work/projects/meerkat/meerkat_umap_pv/data/interim/parameter_search/grid_search_umap_params/zs_euclidean_pad_1_1.0_15_5_specs_no_40_dB_no\n",
      "/home/mthomas/Documents/MPI_work/projects/meerkat/meerkat_umap_pv/data/interim/parameter_search/grid_search_umap_params/zs_euclidean_pad_1_1.0_15_6_specs_no_40_dB_no\n",
      "/home/mthomas/Documents/MPI_work/projects/meerkat/meerkat_umap_pv/data/interim/parameter_search/grid_search_umap_params/zs_euclidean_pad_1_1.0_15_6_specs_no_40_dB_no\n",
      "/home/mthomas/Documents/MPI_work/projects/meerkat/meerkat_umap_pv/data/interim/parameter_search/grid_search_umap_params/zs_euclidean_pad_1_1.0_15_7_specs_no_40_dB_no\n",
      "/home/mthomas/Documents/MPI_work/projects/meerkat/meerkat_umap_pv/data/interim/parameter_search/grid_search_umap_params/zs_euclidean_pad_1_1.0_15_7_specs_no_40_dB_no\n",
      "/home/mthomas/Documents/MPI_work/projects/meerkat/meerkat_umap_pv/data/interim/parameter_search/grid_search_umap_params/zs_euclidean_pad_1_1.0_15_8_specs_no_40_dB_no\n",
      "/home/mthomas/Documents/MPI_work/projects/meerkat/meerkat_umap_pv/data/interim/parameter_search/grid_search_umap_params/zs_euclidean_pad_1_1.0_15_8_specs_no_40_dB_no\n",
      "/home/mthomas/Documents/MPI_work/projects/meerkat/meerkat_umap_pv/data/interim/parameter_search/grid_search_umap_params/zs_euclidean_pad_1_1.0_15_9_specs_no_40_dB_no\n",
      "/home/mthomas/Documents/MPI_work/projects/meerkat/meerkat_umap_pv/data/interim/parameter_search/grid_search_umap_params/zs_euclidean_pad_1_1.0_15_9_specs_no_40_dB_no\n",
      "/home/mthomas/Documents/MPI_work/projects/meerkat/meerkat_umap_pv/data/interim/parameter_search/grid_search_umap_params/zs_euclidean_pad_1_1.0_15_10_specs_no_40_dB_no\n",
      "/home/mthomas/Documents/MPI_work/projects/meerkat/meerkat_umap_pv/data/interim/parameter_search/grid_search_umap_params/zs_euclidean_pad_1_1.0_15_10_specs_no_40_dB_no\n",
      "/home/mthomas/Documents/MPI_work/projects/meerkat/meerkat_umap_pv/data/interim/parameter_search/grid_search_umap_params/zs_euclidean_pad_0_1.0_30_2_specs_no_40_dB_no\n",
      "/home/mthomas/Documents/MPI_work/projects/meerkat/meerkat_umap_pv/data/interim/parameter_search/grid_search_umap_params/zs_euclidean_pad_0_1.0_30_2_specs_no_40_dB_no\n",
      "/home/mthomas/Documents/MPI_work/projects/meerkat/meerkat_umap_pv/data/interim/parameter_search/grid_search_umap_params/zs_euclidean_pad_0_1.0_30_3_specs_no_40_dB_no\n",
      "/home/mthomas/Documents/MPI_work/projects/meerkat/meerkat_umap_pv/data/interim/parameter_search/grid_search_umap_params/zs_euclidean_pad_0_1.0_30_3_specs_no_40_dB_no\n",
      "/home/mthomas/Documents/MPI_work/projects/meerkat/meerkat_umap_pv/data/interim/parameter_search/grid_search_umap_params/zs_euclidean_pad_0_1.0_30_4_specs_no_40_dB_no\n",
      "/home/mthomas/Documents/MPI_work/projects/meerkat/meerkat_umap_pv/data/interim/parameter_search/grid_search_umap_params/zs_euclidean_pad_0_1.0_30_4_specs_no_40_dB_no\n",
      "/home/mthomas/Documents/MPI_work/projects/meerkat/meerkat_umap_pv/data/interim/parameter_search/grid_search_umap_params/zs_euclidean_pad_0_1.0_30_5_specs_no_40_dB_no\n",
      "/home/mthomas/Documents/MPI_work/projects/meerkat/meerkat_umap_pv/data/interim/parameter_search/grid_search_umap_params/zs_euclidean_pad_0_1.0_30_5_specs_no_40_dB_no\n",
      "/home/mthomas/Documents/MPI_work/projects/meerkat/meerkat_umap_pv/data/interim/parameter_search/grid_search_umap_params/zs_euclidean_pad_0_1.0_30_6_specs_no_40_dB_no\n",
      "/home/mthomas/Documents/MPI_work/projects/meerkat/meerkat_umap_pv/data/interim/parameter_search/grid_search_umap_params/zs_euclidean_pad_0_1.0_30_6_specs_no_40_dB_no\n",
      "/home/mthomas/Documents/MPI_work/projects/meerkat/meerkat_umap_pv/data/interim/parameter_search/grid_search_umap_params/zs_euclidean_pad_0_1.0_30_7_specs_no_40_dB_no\n",
      "/home/mthomas/Documents/MPI_work/projects/meerkat/meerkat_umap_pv/data/interim/parameter_search/grid_search_umap_params/zs_euclidean_pad_0_1.0_30_7_specs_no_40_dB_no\n",
      "/home/mthomas/Documents/MPI_work/projects/meerkat/meerkat_umap_pv/data/interim/parameter_search/grid_search_umap_params/zs_euclidean_pad_0_1.0_30_8_specs_no_40_dB_no\n",
      "/home/mthomas/Documents/MPI_work/projects/meerkat/meerkat_umap_pv/data/interim/parameter_search/grid_search_umap_params/zs_euclidean_pad_0_1.0_30_8_specs_no_40_dB_no\n",
      "/home/mthomas/Documents/MPI_work/projects/meerkat/meerkat_umap_pv/data/interim/parameter_search/grid_search_umap_params/zs_euclidean_pad_0_1.0_30_9_specs_no_40_dB_no\n",
      "/home/mthomas/Documents/MPI_work/projects/meerkat/meerkat_umap_pv/data/interim/parameter_search/grid_search_umap_params/zs_euclidean_pad_0_1.0_30_9_specs_no_40_dB_no\n",
      "/home/mthomas/Documents/MPI_work/projects/meerkat/meerkat_umap_pv/data/interim/parameter_search/grid_search_umap_params/zs_euclidean_pad_0_1.0_30_10_specs_no_40_dB_no\n",
      "/home/mthomas/Documents/MPI_work/projects/meerkat/meerkat_umap_pv/data/interim/parameter_search/grid_search_umap_params/zs_euclidean_pad_0_1.0_30_10_specs_no_40_dB_no\n",
      "/home/mthomas/Documents/MPI_work/projects/meerkat/meerkat_umap_pv/data/interim/parameter_search/grid_search_umap_params/zs_euclidean_pad_0.001_1.0_30_2_specs_no_40_dB_no\n",
      "/home/mthomas/Documents/MPI_work/projects/meerkat/meerkat_umap_pv/data/interim/parameter_search/grid_search_umap_params/zs_euclidean_pad_0.001_1.0_30_2_specs_no_40_dB_no\n",
      "/home/mthomas/Documents/MPI_work/projects/meerkat/meerkat_umap_pv/data/interim/parameter_search/grid_search_umap_params/zs_euclidean_pad_0.001_1.0_30_3_specs_no_40_dB_no\n",
      "/home/mthomas/Documents/MPI_work/projects/meerkat/meerkat_umap_pv/data/interim/parameter_search/grid_search_umap_params/zs_euclidean_pad_0.001_1.0_30_3_specs_no_40_dB_no\n",
      "/home/mthomas/Documents/MPI_work/projects/meerkat/meerkat_umap_pv/data/interim/parameter_search/grid_search_umap_params/zs_euclidean_pad_0.001_1.0_30_4_specs_no_40_dB_no\n",
      "/home/mthomas/Documents/MPI_work/projects/meerkat/meerkat_umap_pv/data/interim/parameter_search/grid_search_umap_params/zs_euclidean_pad_0.001_1.0_30_4_specs_no_40_dB_no\n",
      "/home/mthomas/Documents/MPI_work/projects/meerkat/meerkat_umap_pv/data/interim/parameter_search/grid_search_umap_params/zs_euclidean_pad_0.001_1.0_30_5_specs_no_40_dB_no\n",
      "/home/mthomas/Documents/MPI_work/projects/meerkat/meerkat_umap_pv/data/interim/parameter_search/grid_search_umap_params/zs_euclidean_pad_0.001_1.0_30_5_specs_no_40_dB_no\n",
      "/home/mthomas/Documents/MPI_work/projects/meerkat/meerkat_umap_pv/data/interim/parameter_search/grid_search_umap_params/zs_euclidean_pad_0.001_1.0_30_6_specs_no_40_dB_no\n",
      "/home/mthomas/Documents/MPI_work/projects/meerkat/meerkat_umap_pv/data/interim/parameter_search/grid_search_umap_params/zs_euclidean_pad_0.001_1.0_30_6_specs_no_40_dB_no\n",
      "/home/mthomas/Documents/MPI_work/projects/meerkat/meerkat_umap_pv/data/interim/parameter_search/grid_search_umap_params/zs_euclidean_pad_0.001_1.0_30_7_specs_no_40_dB_no\n",
      "/home/mthomas/Documents/MPI_work/projects/meerkat/meerkat_umap_pv/data/interim/parameter_search/grid_search_umap_params/zs_euclidean_pad_0.001_1.0_30_7_specs_no_40_dB_no\n",
      "/home/mthomas/Documents/MPI_work/projects/meerkat/meerkat_umap_pv/data/interim/parameter_search/grid_search_umap_params/zs_euclidean_pad_0.001_1.0_30_8_specs_no_40_dB_no\n",
      "/home/mthomas/Documents/MPI_work/projects/meerkat/meerkat_umap_pv/data/interim/parameter_search/grid_search_umap_params/zs_euclidean_pad_0.001_1.0_30_8_specs_no_40_dB_no\n",
      "/home/mthomas/Documents/MPI_work/projects/meerkat/meerkat_umap_pv/data/interim/parameter_search/grid_search_umap_params/zs_euclidean_pad_0.001_1.0_30_9_specs_no_40_dB_no\n",
      "/home/mthomas/Documents/MPI_work/projects/meerkat/meerkat_umap_pv/data/interim/parameter_search/grid_search_umap_params/zs_euclidean_pad_0.001_1.0_30_9_specs_no_40_dB_no\n",
      "/home/mthomas/Documents/MPI_work/projects/meerkat/meerkat_umap_pv/data/interim/parameter_search/grid_search_umap_params/zs_euclidean_pad_0.001_1.0_30_10_specs_no_40_dB_no\n",
      "/home/mthomas/Documents/MPI_work/projects/meerkat/meerkat_umap_pv/data/interim/parameter_search/grid_search_umap_params/zs_euclidean_pad_0.001_1.0_30_10_specs_no_40_dB_no\n",
      "/home/mthomas/Documents/MPI_work/projects/meerkat/meerkat_umap_pv/data/interim/parameter_search/grid_search_umap_params/zs_euclidean_pad_0.01_1.0_30_2_specs_no_40_dB_no\n",
      "/home/mthomas/Documents/MPI_work/projects/meerkat/meerkat_umap_pv/data/interim/parameter_search/grid_search_umap_params/zs_euclidean_pad_0.01_1.0_30_2_specs_no_40_dB_no\n",
      "/home/mthomas/Documents/MPI_work/projects/meerkat/meerkat_umap_pv/data/interim/parameter_search/grid_search_umap_params/zs_euclidean_pad_0.01_1.0_30_3_specs_no_40_dB_no\n",
      "/home/mthomas/Documents/MPI_work/projects/meerkat/meerkat_umap_pv/data/interim/parameter_search/grid_search_umap_params/zs_euclidean_pad_0.01_1.0_30_3_specs_no_40_dB_no\n",
      "/home/mthomas/Documents/MPI_work/projects/meerkat/meerkat_umap_pv/data/interim/parameter_search/grid_search_umap_params/zs_euclidean_pad_0.01_1.0_30_4_specs_no_40_dB_no\n",
      "/home/mthomas/Documents/MPI_work/projects/meerkat/meerkat_umap_pv/data/interim/parameter_search/grid_search_umap_params/zs_euclidean_pad_0.01_1.0_30_4_specs_no_40_dB_no\n",
      "/home/mthomas/Documents/MPI_work/projects/meerkat/meerkat_umap_pv/data/interim/parameter_search/grid_search_umap_params/zs_euclidean_pad_0.01_1.0_30_5_specs_no_40_dB_no\n",
      "/home/mthomas/Documents/MPI_work/projects/meerkat/meerkat_umap_pv/data/interim/parameter_search/grid_search_umap_params/zs_euclidean_pad_0.01_1.0_30_5_specs_no_40_dB_no\n",
      "/home/mthomas/Documents/MPI_work/projects/meerkat/meerkat_umap_pv/data/interim/parameter_search/grid_search_umap_params/zs_euclidean_pad_0.01_1.0_30_6_specs_no_40_dB_no\n",
      "/home/mthomas/Documents/MPI_work/projects/meerkat/meerkat_umap_pv/data/interim/parameter_search/grid_search_umap_params/zs_euclidean_pad_0.01_1.0_30_6_specs_no_40_dB_no\n",
      "/home/mthomas/Documents/MPI_work/projects/meerkat/meerkat_umap_pv/data/interim/parameter_search/grid_search_umap_params/zs_euclidean_pad_0.01_1.0_30_7_specs_no_40_dB_no\n",
      "/home/mthomas/Documents/MPI_work/projects/meerkat/meerkat_umap_pv/data/interim/parameter_search/grid_search_umap_params/zs_euclidean_pad_0.01_1.0_30_7_specs_no_40_dB_no\n",
      "/home/mthomas/Documents/MPI_work/projects/meerkat/meerkat_umap_pv/data/interim/parameter_search/grid_search_umap_params/zs_euclidean_pad_0.01_1.0_30_8_specs_no_40_dB_no\n",
      "/home/mthomas/Documents/MPI_work/projects/meerkat/meerkat_umap_pv/data/interim/parameter_search/grid_search_umap_params/zs_euclidean_pad_0.01_1.0_30_8_specs_no_40_dB_no\n",
      "/home/mthomas/Documents/MPI_work/projects/meerkat/meerkat_umap_pv/data/interim/parameter_search/grid_search_umap_params/zs_euclidean_pad_0.01_1.0_30_9_specs_no_40_dB_no\n",
      "/home/mthomas/Documents/MPI_work/projects/meerkat/meerkat_umap_pv/data/interim/parameter_search/grid_search_umap_params/zs_euclidean_pad_0.01_1.0_30_9_specs_no_40_dB_no\n",
      "/home/mthomas/Documents/MPI_work/projects/meerkat/meerkat_umap_pv/data/interim/parameter_search/grid_search_umap_params/zs_euclidean_pad_0.01_1.0_30_10_specs_no_40_dB_no\n",
      "/home/mthomas/Documents/MPI_work/projects/meerkat/meerkat_umap_pv/data/interim/parameter_search/grid_search_umap_params/zs_euclidean_pad_0.01_1.0_30_10_specs_no_40_dB_no\n",
      "/home/mthomas/Documents/MPI_work/projects/meerkat/meerkat_umap_pv/data/interim/parameter_search/grid_search_umap_params/zs_euclidean_pad_0.1_1.0_30_2_specs_no_40_dB_no\n",
      "/home/mthomas/Documents/MPI_work/projects/meerkat/meerkat_umap_pv/data/interim/parameter_search/grid_search_umap_params/zs_euclidean_pad_0.1_1.0_30_2_specs_no_40_dB_no\n",
      "/home/mthomas/Documents/MPI_work/projects/meerkat/meerkat_umap_pv/data/interim/parameter_search/grid_search_umap_params/zs_euclidean_pad_0.1_1.0_30_3_specs_no_40_dB_no\n",
      "/home/mthomas/Documents/MPI_work/projects/meerkat/meerkat_umap_pv/data/interim/parameter_search/grid_search_umap_params/zs_euclidean_pad_0.1_1.0_30_3_specs_no_40_dB_no\n",
      "/home/mthomas/Documents/MPI_work/projects/meerkat/meerkat_umap_pv/data/interim/parameter_search/grid_search_umap_params/zs_euclidean_pad_0.1_1.0_30_4_specs_no_40_dB_no\n",
      "/home/mthomas/Documents/MPI_work/projects/meerkat/meerkat_umap_pv/data/interim/parameter_search/grid_search_umap_params/zs_euclidean_pad_0.1_1.0_30_4_specs_no_40_dB_no\n",
      "/home/mthomas/Documents/MPI_work/projects/meerkat/meerkat_umap_pv/data/interim/parameter_search/grid_search_umap_params/zs_euclidean_pad_0.1_1.0_30_5_specs_no_40_dB_no\n",
      "/home/mthomas/Documents/MPI_work/projects/meerkat/meerkat_umap_pv/data/interim/parameter_search/grid_search_umap_params/zs_euclidean_pad_0.1_1.0_30_5_specs_no_40_dB_no\n",
      "/home/mthomas/Documents/MPI_work/projects/meerkat/meerkat_umap_pv/data/interim/parameter_search/grid_search_umap_params/zs_euclidean_pad_0.1_1.0_30_6_specs_no_40_dB_no\n",
      "/home/mthomas/Documents/MPI_work/projects/meerkat/meerkat_umap_pv/data/interim/parameter_search/grid_search_umap_params/zs_euclidean_pad_0.1_1.0_30_6_specs_no_40_dB_no\n",
      "/home/mthomas/Documents/MPI_work/projects/meerkat/meerkat_umap_pv/data/interim/parameter_search/grid_search_umap_params/zs_euclidean_pad_0.1_1.0_30_7_specs_no_40_dB_no\n",
      "/home/mthomas/Documents/MPI_work/projects/meerkat/meerkat_umap_pv/data/interim/parameter_search/grid_search_umap_params/zs_euclidean_pad_0.1_1.0_30_7_specs_no_40_dB_no\n",
      "/home/mthomas/Documents/MPI_work/projects/meerkat/meerkat_umap_pv/data/interim/parameter_search/grid_search_umap_params/zs_euclidean_pad_0.1_1.0_30_8_specs_no_40_dB_no\n",
      "/home/mthomas/Documents/MPI_work/projects/meerkat/meerkat_umap_pv/data/interim/parameter_search/grid_search_umap_params/zs_euclidean_pad_0.1_1.0_30_8_specs_no_40_dB_no\n",
      "/home/mthomas/Documents/MPI_work/projects/meerkat/meerkat_umap_pv/data/interim/parameter_search/grid_search_umap_params/zs_euclidean_pad_0.1_1.0_30_9_specs_no_40_dB_no\n",
      "/home/mthomas/Documents/MPI_work/projects/meerkat/meerkat_umap_pv/data/interim/parameter_search/grid_search_umap_params/zs_euclidean_pad_0.1_1.0_30_9_specs_no_40_dB_no\n",
      "/home/mthomas/Documents/MPI_work/projects/meerkat/meerkat_umap_pv/data/interim/parameter_search/grid_search_umap_params/zs_euclidean_pad_0.1_1.0_30_10_specs_no_40_dB_no\n",
      "/home/mthomas/Documents/MPI_work/projects/meerkat/meerkat_umap_pv/data/interim/parameter_search/grid_search_umap_params/zs_euclidean_pad_0.1_1.0_30_10_specs_no_40_dB_no\n",
      "/home/mthomas/Documents/MPI_work/projects/meerkat/meerkat_umap_pv/data/interim/parameter_search/grid_search_umap_params/zs_euclidean_pad_1_1.0_30_2_specs_no_40_dB_no\n",
      "/home/mthomas/Documents/MPI_work/projects/meerkat/meerkat_umap_pv/data/interim/parameter_search/grid_search_umap_params/zs_euclidean_pad_1_1.0_30_2_specs_no_40_dB_no\n",
      "/home/mthomas/Documents/MPI_work/projects/meerkat/meerkat_umap_pv/data/interim/parameter_search/grid_search_umap_params/zs_euclidean_pad_1_1.0_30_3_specs_no_40_dB_no\n",
      "/home/mthomas/Documents/MPI_work/projects/meerkat/meerkat_umap_pv/data/interim/parameter_search/grid_search_umap_params/zs_euclidean_pad_1_1.0_30_3_specs_no_40_dB_no\n",
      "/home/mthomas/Documents/MPI_work/projects/meerkat/meerkat_umap_pv/data/interim/parameter_search/grid_search_umap_params/zs_euclidean_pad_1_1.0_30_4_specs_no_40_dB_no\n",
      "/home/mthomas/Documents/MPI_work/projects/meerkat/meerkat_umap_pv/data/interim/parameter_search/grid_search_umap_params/zs_euclidean_pad_1_1.0_30_4_specs_no_40_dB_no\n",
      "/home/mthomas/Documents/MPI_work/projects/meerkat/meerkat_umap_pv/data/interim/parameter_search/grid_search_umap_params/zs_euclidean_pad_1_1.0_30_5_specs_no_40_dB_no\n",
      "/home/mthomas/Documents/MPI_work/projects/meerkat/meerkat_umap_pv/data/interim/parameter_search/grid_search_umap_params/zs_euclidean_pad_1_1.0_30_5_specs_no_40_dB_no\n",
      "/home/mthomas/Documents/MPI_work/projects/meerkat/meerkat_umap_pv/data/interim/parameter_search/grid_search_umap_params/zs_euclidean_pad_1_1.0_30_6_specs_no_40_dB_no\n",
      "/home/mthomas/Documents/MPI_work/projects/meerkat/meerkat_umap_pv/data/interim/parameter_search/grid_search_umap_params/zs_euclidean_pad_1_1.0_30_6_specs_no_40_dB_no\n",
      "/home/mthomas/Documents/MPI_work/projects/meerkat/meerkat_umap_pv/data/interim/parameter_search/grid_search_umap_params/zs_euclidean_pad_1_1.0_30_7_specs_no_40_dB_no\n",
      "/home/mthomas/Documents/MPI_work/projects/meerkat/meerkat_umap_pv/data/interim/parameter_search/grid_search_umap_params/zs_euclidean_pad_1_1.0_30_7_specs_no_40_dB_no\n",
      "/home/mthomas/Documents/MPI_work/projects/meerkat/meerkat_umap_pv/data/interim/parameter_search/grid_search_umap_params/zs_euclidean_pad_1_1.0_30_8_specs_no_40_dB_no\n",
      "/home/mthomas/Documents/MPI_work/projects/meerkat/meerkat_umap_pv/data/interim/parameter_search/grid_search_umap_params/zs_euclidean_pad_1_1.0_30_8_specs_no_40_dB_no\n",
      "/home/mthomas/Documents/MPI_work/projects/meerkat/meerkat_umap_pv/data/interim/parameter_search/grid_search_umap_params/zs_euclidean_pad_1_1.0_30_9_specs_no_40_dB_no\n",
      "/home/mthomas/Documents/MPI_work/projects/meerkat/meerkat_umap_pv/data/interim/parameter_search/grid_search_umap_params/zs_euclidean_pad_1_1.0_30_9_specs_no_40_dB_no\n",
      "/home/mthomas/Documents/MPI_work/projects/meerkat/meerkat_umap_pv/data/interim/parameter_search/grid_search_umap_params/zs_euclidean_pad_1_1.0_30_10_specs_no_40_dB_no\n",
      "/home/mthomas/Documents/MPI_work/projects/meerkat/meerkat_umap_pv/data/interim/parameter_search/grid_search_umap_params/zs_euclidean_pad_1_1.0_30_10_specs_no_40_dB_no\n",
      "/home/mthomas/Documents/MPI_work/projects/meerkat/meerkat_umap_pv/data/interim/parameter_search/grid_search_umap_params/zs_euclidean_pad_0_1.0_40_2_specs_no_40_dB_no\n",
      "/home/mthomas/Documents/MPI_work/projects/meerkat/meerkat_umap_pv/data/interim/parameter_search/grid_search_umap_params/zs_euclidean_pad_0_1.0_40_2_specs_no_40_dB_no\n",
      "/home/mthomas/Documents/MPI_work/projects/meerkat/meerkat_umap_pv/data/interim/parameter_search/grid_search_umap_params/zs_euclidean_pad_0_1.0_40_3_specs_no_40_dB_no\n",
      "/home/mthomas/Documents/MPI_work/projects/meerkat/meerkat_umap_pv/data/interim/parameter_search/grid_search_umap_params/zs_euclidean_pad_0_1.0_40_3_specs_no_40_dB_no\n",
      "/home/mthomas/Documents/MPI_work/projects/meerkat/meerkat_umap_pv/data/interim/parameter_search/grid_search_umap_params/zs_euclidean_pad_0_1.0_40_4_specs_no_40_dB_no\n",
      "/home/mthomas/Documents/MPI_work/projects/meerkat/meerkat_umap_pv/data/interim/parameter_search/grid_search_umap_params/zs_euclidean_pad_0_1.0_40_4_specs_no_40_dB_no\n",
      "/home/mthomas/Documents/MPI_work/projects/meerkat/meerkat_umap_pv/data/interim/parameter_search/grid_search_umap_params/zs_euclidean_pad_0_1.0_40_5_specs_no_40_dB_no\n",
      "/home/mthomas/Documents/MPI_work/projects/meerkat/meerkat_umap_pv/data/interim/parameter_search/grid_search_umap_params/zs_euclidean_pad_0_1.0_40_5_specs_no_40_dB_no\n",
      "/home/mthomas/Documents/MPI_work/projects/meerkat/meerkat_umap_pv/data/interim/parameter_search/grid_search_umap_params/zs_euclidean_pad_0_1.0_40_6_specs_no_40_dB_no\n",
      "/home/mthomas/Documents/MPI_work/projects/meerkat/meerkat_umap_pv/data/interim/parameter_search/grid_search_umap_params/zs_euclidean_pad_0_1.0_40_6_specs_no_40_dB_no\n",
      "/home/mthomas/Documents/MPI_work/projects/meerkat/meerkat_umap_pv/data/interim/parameter_search/grid_search_umap_params/zs_euclidean_pad_0_1.0_40_7_specs_no_40_dB_no\n",
      "/home/mthomas/Documents/MPI_work/projects/meerkat/meerkat_umap_pv/data/interim/parameter_search/grid_search_umap_params/zs_euclidean_pad_0_1.0_40_7_specs_no_40_dB_no\n",
      "/home/mthomas/Documents/MPI_work/projects/meerkat/meerkat_umap_pv/data/interim/parameter_search/grid_search_umap_params/zs_euclidean_pad_0_1.0_40_8_specs_no_40_dB_no\n",
      "/home/mthomas/Documents/MPI_work/projects/meerkat/meerkat_umap_pv/data/interim/parameter_search/grid_search_umap_params/zs_euclidean_pad_0_1.0_40_8_specs_no_40_dB_no\n",
      "/home/mthomas/Documents/MPI_work/projects/meerkat/meerkat_umap_pv/data/interim/parameter_search/grid_search_umap_params/zs_euclidean_pad_0_1.0_40_9_specs_no_40_dB_no\n",
      "/home/mthomas/Documents/MPI_work/projects/meerkat/meerkat_umap_pv/data/interim/parameter_search/grid_search_umap_params/zs_euclidean_pad_0_1.0_40_9_specs_no_40_dB_no\n",
      "/home/mthomas/Documents/MPI_work/projects/meerkat/meerkat_umap_pv/data/interim/parameter_search/grid_search_umap_params/zs_euclidean_pad_0_1.0_40_10_specs_no_40_dB_no\n",
      "/home/mthomas/Documents/MPI_work/projects/meerkat/meerkat_umap_pv/data/interim/parameter_search/grid_search_umap_params/zs_euclidean_pad_0_1.0_40_10_specs_no_40_dB_no\n",
      "/home/mthomas/Documents/MPI_work/projects/meerkat/meerkat_umap_pv/data/interim/parameter_search/grid_search_umap_params/zs_euclidean_pad_0.001_1.0_40_2_specs_no_40_dB_no\n",
      "/home/mthomas/Documents/MPI_work/projects/meerkat/meerkat_umap_pv/data/interim/parameter_search/grid_search_umap_params/zs_euclidean_pad_0.001_1.0_40_2_specs_no_40_dB_no\n",
      "/home/mthomas/Documents/MPI_work/projects/meerkat/meerkat_umap_pv/data/interim/parameter_search/grid_search_umap_params/zs_euclidean_pad_0.001_1.0_40_3_specs_no_40_dB_no\n",
      "/home/mthomas/Documents/MPI_work/projects/meerkat/meerkat_umap_pv/data/interim/parameter_search/grid_search_umap_params/zs_euclidean_pad_0.001_1.0_40_3_specs_no_40_dB_no\n",
      "/home/mthomas/Documents/MPI_work/projects/meerkat/meerkat_umap_pv/data/interim/parameter_search/grid_search_umap_params/zs_euclidean_pad_0.001_1.0_40_4_specs_no_40_dB_no\n",
      "/home/mthomas/Documents/MPI_work/projects/meerkat/meerkat_umap_pv/data/interim/parameter_search/grid_search_umap_params/zs_euclidean_pad_0.001_1.0_40_4_specs_no_40_dB_no\n",
      "/home/mthomas/Documents/MPI_work/projects/meerkat/meerkat_umap_pv/data/interim/parameter_search/grid_search_umap_params/zs_euclidean_pad_0.001_1.0_40_5_specs_no_40_dB_no\n",
      "/home/mthomas/Documents/MPI_work/projects/meerkat/meerkat_umap_pv/data/interim/parameter_search/grid_search_umap_params/zs_euclidean_pad_0.001_1.0_40_5_specs_no_40_dB_no\n",
      "/home/mthomas/Documents/MPI_work/projects/meerkat/meerkat_umap_pv/data/interim/parameter_search/grid_search_umap_params/zs_euclidean_pad_0.001_1.0_40_6_specs_no_40_dB_no\n",
      "/home/mthomas/Documents/MPI_work/projects/meerkat/meerkat_umap_pv/data/interim/parameter_search/grid_search_umap_params/zs_euclidean_pad_0.001_1.0_40_6_specs_no_40_dB_no\n",
      "/home/mthomas/Documents/MPI_work/projects/meerkat/meerkat_umap_pv/data/interim/parameter_search/grid_search_umap_params/zs_euclidean_pad_0.001_1.0_40_7_specs_no_40_dB_no\n",
      "/home/mthomas/Documents/MPI_work/projects/meerkat/meerkat_umap_pv/data/interim/parameter_search/grid_search_umap_params/zs_euclidean_pad_0.001_1.0_40_7_specs_no_40_dB_no\n",
      "/home/mthomas/Documents/MPI_work/projects/meerkat/meerkat_umap_pv/data/interim/parameter_search/grid_search_umap_params/zs_euclidean_pad_0.001_1.0_40_8_specs_no_40_dB_no\n",
      "/home/mthomas/Documents/MPI_work/projects/meerkat/meerkat_umap_pv/data/interim/parameter_search/grid_search_umap_params/zs_euclidean_pad_0.001_1.0_40_8_specs_no_40_dB_no\n",
      "/home/mthomas/Documents/MPI_work/projects/meerkat/meerkat_umap_pv/data/interim/parameter_search/grid_search_umap_params/zs_euclidean_pad_0.001_1.0_40_9_specs_no_40_dB_no\n",
      "/home/mthomas/Documents/MPI_work/projects/meerkat/meerkat_umap_pv/data/interim/parameter_search/grid_search_umap_params/zs_euclidean_pad_0.001_1.0_40_9_specs_no_40_dB_no\n",
      "/home/mthomas/Documents/MPI_work/projects/meerkat/meerkat_umap_pv/data/interim/parameter_search/grid_search_umap_params/zs_euclidean_pad_0.001_1.0_40_10_specs_no_40_dB_no\n",
      "/home/mthomas/Documents/MPI_work/projects/meerkat/meerkat_umap_pv/data/interim/parameter_search/grid_search_umap_params/zs_euclidean_pad_0.001_1.0_40_10_specs_no_40_dB_no\n",
      "/home/mthomas/Documents/MPI_work/projects/meerkat/meerkat_umap_pv/data/interim/parameter_search/grid_search_umap_params/zs_euclidean_pad_0.01_1.0_40_2_specs_no_40_dB_no\n",
      "/home/mthomas/Documents/MPI_work/projects/meerkat/meerkat_umap_pv/data/interim/parameter_search/grid_search_umap_params/zs_euclidean_pad_0.01_1.0_40_2_specs_no_40_dB_no\n",
      "/home/mthomas/Documents/MPI_work/projects/meerkat/meerkat_umap_pv/data/interim/parameter_search/grid_search_umap_params/zs_euclidean_pad_0.01_1.0_40_3_specs_no_40_dB_no\n",
      "/home/mthomas/Documents/MPI_work/projects/meerkat/meerkat_umap_pv/data/interim/parameter_search/grid_search_umap_params/zs_euclidean_pad_0.01_1.0_40_3_specs_no_40_dB_no\n",
      "/home/mthomas/Documents/MPI_work/projects/meerkat/meerkat_umap_pv/data/interim/parameter_search/grid_search_umap_params/zs_euclidean_pad_0.01_1.0_40_4_specs_no_40_dB_no\n",
      "/home/mthomas/Documents/MPI_work/projects/meerkat/meerkat_umap_pv/data/interim/parameter_search/grid_search_umap_params/zs_euclidean_pad_0.01_1.0_40_4_specs_no_40_dB_no\n",
      "/home/mthomas/Documents/MPI_work/projects/meerkat/meerkat_umap_pv/data/interim/parameter_search/grid_search_umap_params/zs_euclidean_pad_0.01_1.0_40_5_specs_no_40_dB_no\n",
      "/home/mthomas/Documents/MPI_work/projects/meerkat/meerkat_umap_pv/data/interim/parameter_search/grid_search_umap_params/zs_euclidean_pad_0.01_1.0_40_5_specs_no_40_dB_no\n",
      "/home/mthomas/Documents/MPI_work/projects/meerkat/meerkat_umap_pv/data/interim/parameter_search/grid_search_umap_params/zs_euclidean_pad_0.01_1.0_40_6_specs_no_40_dB_no\n",
      "/home/mthomas/Documents/MPI_work/projects/meerkat/meerkat_umap_pv/data/interim/parameter_search/grid_search_umap_params/zs_euclidean_pad_0.01_1.0_40_6_specs_no_40_dB_no\n",
      "/home/mthomas/Documents/MPI_work/projects/meerkat/meerkat_umap_pv/data/interim/parameter_search/grid_search_umap_params/zs_euclidean_pad_0.01_1.0_40_7_specs_no_40_dB_no\n",
      "/home/mthomas/Documents/MPI_work/projects/meerkat/meerkat_umap_pv/data/interim/parameter_search/grid_search_umap_params/zs_euclidean_pad_0.01_1.0_40_7_specs_no_40_dB_no\n",
      "/home/mthomas/Documents/MPI_work/projects/meerkat/meerkat_umap_pv/data/interim/parameter_search/grid_search_umap_params/zs_euclidean_pad_0.01_1.0_40_8_specs_no_40_dB_no\n",
      "/home/mthomas/Documents/MPI_work/projects/meerkat/meerkat_umap_pv/data/interim/parameter_search/grid_search_umap_params/zs_euclidean_pad_0.01_1.0_40_8_specs_no_40_dB_no\n",
      "/home/mthomas/Documents/MPI_work/projects/meerkat/meerkat_umap_pv/data/interim/parameter_search/grid_search_umap_params/zs_euclidean_pad_0.01_1.0_40_9_specs_no_40_dB_no\n",
      "/home/mthomas/Documents/MPI_work/projects/meerkat/meerkat_umap_pv/data/interim/parameter_search/grid_search_umap_params/zs_euclidean_pad_0.01_1.0_40_9_specs_no_40_dB_no\n",
      "/home/mthomas/Documents/MPI_work/projects/meerkat/meerkat_umap_pv/data/interim/parameter_search/grid_search_umap_params/zs_euclidean_pad_0.01_1.0_40_10_specs_no_40_dB_no\n",
      "/home/mthomas/Documents/MPI_work/projects/meerkat/meerkat_umap_pv/data/interim/parameter_search/grid_search_umap_params/zs_euclidean_pad_0.01_1.0_40_10_specs_no_40_dB_no\n",
      "/home/mthomas/Documents/MPI_work/projects/meerkat/meerkat_umap_pv/data/interim/parameter_search/grid_search_umap_params/zs_euclidean_pad_0.1_1.0_40_2_specs_no_40_dB_no\n",
      "/home/mthomas/Documents/MPI_work/projects/meerkat/meerkat_umap_pv/data/interim/parameter_search/grid_search_umap_params/zs_euclidean_pad_0.1_1.0_40_2_specs_no_40_dB_no\n",
      "/home/mthomas/Documents/MPI_work/projects/meerkat/meerkat_umap_pv/data/interim/parameter_search/grid_search_umap_params/zs_euclidean_pad_0.1_1.0_40_3_specs_no_40_dB_no\n",
      "/home/mthomas/Documents/MPI_work/projects/meerkat/meerkat_umap_pv/data/interim/parameter_search/grid_search_umap_params/zs_euclidean_pad_0.1_1.0_40_3_specs_no_40_dB_no\n",
      "/home/mthomas/Documents/MPI_work/projects/meerkat/meerkat_umap_pv/data/interim/parameter_search/grid_search_umap_params/zs_euclidean_pad_0.1_1.0_40_4_specs_no_40_dB_no\n",
      "/home/mthomas/Documents/MPI_work/projects/meerkat/meerkat_umap_pv/data/interim/parameter_search/grid_search_umap_params/zs_euclidean_pad_0.1_1.0_40_4_specs_no_40_dB_no\n",
      "/home/mthomas/Documents/MPI_work/projects/meerkat/meerkat_umap_pv/data/interim/parameter_search/grid_search_umap_params/zs_euclidean_pad_0.1_1.0_40_5_specs_no_40_dB_no\n",
      "/home/mthomas/Documents/MPI_work/projects/meerkat/meerkat_umap_pv/data/interim/parameter_search/grid_search_umap_params/zs_euclidean_pad_0.1_1.0_40_5_specs_no_40_dB_no\n",
      "/home/mthomas/Documents/MPI_work/projects/meerkat/meerkat_umap_pv/data/interim/parameter_search/grid_search_umap_params/zs_euclidean_pad_0.1_1.0_40_6_specs_no_40_dB_no\n",
      "/home/mthomas/Documents/MPI_work/projects/meerkat/meerkat_umap_pv/data/interim/parameter_search/grid_search_umap_params/zs_euclidean_pad_0.1_1.0_40_6_specs_no_40_dB_no\n",
      "/home/mthomas/Documents/MPI_work/projects/meerkat/meerkat_umap_pv/data/interim/parameter_search/grid_search_umap_params/zs_euclidean_pad_0.1_1.0_40_7_specs_no_40_dB_no\n",
      "/home/mthomas/Documents/MPI_work/projects/meerkat/meerkat_umap_pv/data/interim/parameter_search/grid_search_umap_params/zs_euclidean_pad_0.1_1.0_40_7_specs_no_40_dB_no\n",
      "/home/mthomas/Documents/MPI_work/projects/meerkat/meerkat_umap_pv/data/interim/parameter_search/grid_search_umap_params/zs_euclidean_pad_0.1_1.0_40_8_specs_no_40_dB_no\n",
      "/home/mthomas/Documents/MPI_work/projects/meerkat/meerkat_umap_pv/data/interim/parameter_search/grid_search_umap_params/zs_euclidean_pad_0.1_1.0_40_8_specs_no_40_dB_no\n",
      "/home/mthomas/Documents/MPI_work/projects/meerkat/meerkat_umap_pv/data/interim/parameter_search/grid_search_umap_params/zs_euclidean_pad_0.1_1.0_40_9_specs_no_40_dB_no\n",
      "/home/mthomas/Documents/MPI_work/projects/meerkat/meerkat_umap_pv/data/interim/parameter_search/grid_search_umap_params/zs_euclidean_pad_0.1_1.0_40_9_specs_no_40_dB_no\n",
      "/home/mthomas/Documents/MPI_work/projects/meerkat/meerkat_umap_pv/data/interim/parameter_search/grid_search_umap_params/zs_euclidean_pad_0.1_1.0_40_10_specs_no_40_dB_no\n",
      "/home/mthomas/Documents/MPI_work/projects/meerkat/meerkat_umap_pv/data/interim/parameter_search/grid_search_umap_params/zs_euclidean_pad_0.1_1.0_40_10_specs_no_40_dB_no\n",
      "/home/mthomas/Documents/MPI_work/projects/meerkat/meerkat_umap_pv/data/interim/parameter_search/grid_search_umap_params/zs_euclidean_pad_1_1.0_40_2_specs_no_40_dB_no\n",
      "/home/mthomas/Documents/MPI_work/projects/meerkat/meerkat_umap_pv/data/interim/parameter_search/grid_search_umap_params/zs_euclidean_pad_1_1.0_40_2_specs_no_40_dB_no\n",
      "/home/mthomas/Documents/MPI_work/projects/meerkat/meerkat_umap_pv/data/interim/parameter_search/grid_search_umap_params/zs_euclidean_pad_1_1.0_40_3_specs_no_40_dB_no\n",
      "/home/mthomas/Documents/MPI_work/projects/meerkat/meerkat_umap_pv/data/interim/parameter_search/grid_search_umap_params/zs_euclidean_pad_1_1.0_40_3_specs_no_40_dB_no\n",
      "/home/mthomas/Documents/MPI_work/projects/meerkat/meerkat_umap_pv/data/interim/parameter_search/grid_search_umap_params/zs_euclidean_pad_1_1.0_40_4_specs_no_40_dB_no\n",
      "/home/mthomas/Documents/MPI_work/projects/meerkat/meerkat_umap_pv/data/interim/parameter_search/grid_search_umap_params/zs_euclidean_pad_1_1.0_40_4_specs_no_40_dB_no\n",
      "/home/mthomas/Documents/MPI_work/projects/meerkat/meerkat_umap_pv/data/interim/parameter_search/grid_search_umap_params/zs_euclidean_pad_1_1.0_40_5_specs_no_40_dB_no\n",
      "/home/mthomas/Documents/MPI_work/projects/meerkat/meerkat_umap_pv/data/interim/parameter_search/grid_search_umap_params/zs_euclidean_pad_1_1.0_40_5_specs_no_40_dB_no\n",
      "/home/mthomas/Documents/MPI_work/projects/meerkat/meerkat_umap_pv/data/interim/parameter_search/grid_search_umap_params/zs_euclidean_pad_1_1.0_40_6_specs_no_40_dB_no\n",
      "/home/mthomas/Documents/MPI_work/projects/meerkat/meerkat_umap_pv/data/interim/parameter_search/grid_search_umap_params/zs_euclidean_pad_1_1.0_40_6_specs_no_40_dB_no\n",
      "/home/mthomas/Documents/MPI_work/projects/meerkat/meerkat_umap_pv/data/interim/parameter_search/grid_search_umap_params/zs_euclidean_pad_1_1.0_40_7_specs_no_40_dB_no\n",
      "/home/mthomas/Documents/MPI_work/projects/meerkat/meerkat_umap_pv/data/interim/parameter_search/grid_search_umap_params/zs_euclidean_pad_1_1.0_40_7_specs_no_40_dB_no\n",
      "/home/mthomas/Documents/MPI_work/projects/meerkat/meerkat_umap_pv/data/interim/parameter_search/grid_search_umap_params/zs_euclidean_pad_1_1.0_40_8_specs_no_40_dB_no\n",
      "/home/mthomas/Documents/MPI_work/projects/meerkat/meerkat_umap_pv/data/interim/parameter_search/grid_search_umap_params/zs_euclidean_pad_1_1.0_40_8_specs_no_40_dB_no\n",
      "/home/mthomas/Documents/MPI_work/projects/meerkat/meerkat_umap_pv/data/interim/parameter_search/grid_search_umap_params/zs_euclidean_pad_1_1.0_40_9_specs_no_40_dB_no\n",
      "/home/mthomas/Documents/MPI_work/projects/meerkat/meerkat_umap_pv/data/interim/parameter_search/grid_search_umap_params/zs_euclidean_pad_1_1.0_40_9_specs_no_40_dB_no\n",
      "/home/mthomas/Documents/MPI_work/projects/meerkat/meerkat_umap_pv/data/interim/parameter_search/grid_search_umap_params/zs_euclidean_pad_1_1.0_40_10_specs_no_40_dB_no\n",
      "/home/mthomas/Documents/MPI_work/projects/meerkat/meerkat_umap_pv/data/interim/parameter_search/grid_search_umap_params/zs_euclidean_pad_1_1.0_40_10_specs_no_40_dB_no\n",
      "/home/mthomas/Documents/MPI_work/projects/meerkat/meerkat_umap_pv/data/interim/parameter_search/grid_search_umap_params/zs_euclidean_pad_0_1.0_50_2_specs_no_40_dB_no\n",
      "/home/mthomas/Documents/MPI_work/projects/meerkat/meerkat_umap_pv/data/interim/parameter_search/grid_search_umap_params/zs_euclidean_pad_0_1.0_50_2_specs_no_40_dB_no\n",
      "/home/mthomas/Documents/MPI_work/projects/meerkat/meerkat_umap_pv/data/interim/parameter_search/grid_search_umap_params/zs_euclidean_pad_0_1.0_50_3_specs_no_40_dB_no\n",
      "/home/mthomas/Documents/MPI_work/projects/meerkat/meerkat_umap_pv/data/interim/parameter_search/grid_search_umap_params/zs_euclidean_pad_0_1.0_50_3_specs_no_40_dB_no\n",
      "/home/mthomas/Documents/MPI_work/projects/meerkat/meerkat_umap_pv/data/interim/parameter_search/grid_search_umap_params/zs_euclidean_pad_0_1.0_50_4_specs_no_40_dB_no\n",
      "/home/mthomas/Documents/MPI_work/projects/meerkat/meerkat_umap_pv/data/interim/parameter_search/grid_search_umap_params/zs_euclidean_pad_0_1.0_50_4_specs_no_40_dB_no\n",
      "/home/mthomas/Documents/MPI_work/projects/meerkat/meerkat_umap_pv/data/interim/parameter_search/grid_search_umap_params/zs_euclidean_pad_0_1.0_50_5_specs_no_40_dB_no\n",
      "/home/mthomas/Documents/MPI_work/projects/meerkat/meerkat_umap_pv/data/interim/parameter_search/grid_search_umap_params/zs_euclidean_pad_0_1.0_50_5_specs_no_40_dB_no\n",
      "/home/mthomas/Documents/MPI_work/projects/meerkat/meerkat_umap_pv/data/interim/parameter_search/grid_search_umap_params/zs_euclidean_pad_0_1.0_50_6_specs_no_40_dB_no\n",
      "/home/mthomas/Documents/MPI_work/projects/meerkat/meerkat_umap_pv/data/interim/parameter_search/grid_search_umap_params/zs_euclidean_pad_0_1.0_50_6_specs_no_40_dB_no\n",
      "/home/mthomas/Documents/MPI_work/projects/meerkat/meerkat_umap_pv/data/interim/parameter_search/grid_search_umap_params/zs_euclidean_pad_0_1.0_50_7_specs_no_40_dB_no\n",
      "/home/mthomas/Documents/MPI_work/projects/meerkat/meerkat_umap_pv/data/interim/parameter_search/grid_search_umap_params/zs_euclidean_pad_0_1.0_50_7_specs_no_40_dB_no\n",
      "/home/mthomas/Documents/MPI_work/projects/meerkat/meerkat_umap_pv/data/interim/parameter_search/grid_search_umap_params/zs_euclidean_pad_0_1.0_50_8_specs_no_40_dB_no\n",
      "/home/mthomas/Documents/MPI_work/projects/meerkat/meerkat_umap_pv/data/interim/parameter_search/grid_search_umap_params/zs_euclidean_pad_0_1.0_50_8_specs_no_40_dB_no\n",
      "/home/mthomas/Documents/MPI_work/projects/meerkat/meerkat_umap_pv/data/interim/parameter_search/grid_search_umap_params/zs_euclidean_pad_0_1.0_50_9_specs_no_40_dB_no\n",
      "/home/mthomas/Documents/MPI_work/projects/meerkat/meerkat_umap_pv/data/interim/parameter_search/grid_search_umap_params/zs_euclidean_pad_0_1.0_50_9_specs_no_40_dB_no\n",
      "/home/mthomas/Documents/MPI_work/projects/meerkat/meerkat_umap_pv/data/interim/parameter_search/grid_search_umap_params/zs_euclidean_pad_0_1.0_50_10_specs_no_40_dB_no\n",
      "/home/mthomas/Documents/MPI_work/projects/meerkat/meerkat_umap_pv/data/interim/parameter_search/grid_search_umap_params/zs_euclidean_pad_0_1.0_50_10_specs_no_40_dB_no\n",
      "/home/mthomas/Documents/MPI_work/projects/meerkat/meerkat_umap_pv/data/interim/parameter_search/grid_search_umap_params/zs_euclidean_pad_0.001_1.0_50_2_specs_no_40_dB_no\n",
      "/home/mthomas/Documents/MPI_work/projects/meerkat/meerkat_umap_pv/data/interim/parameter_search/grid_search_umap_params/zs_euclidean_pad_0.001_1.0_50_2_specs_no_40_dB_no\n",
      "/home/mthomas/Documents/MPI_work/projects/meerkat/meerkat_umap_pv/data/interim/parameter_search/grid_search_umap_params/zs_euclidean_pad_0.001_1.0_50_3_specs_no_40_dB_no\n",
      "/home/mthomas/Documents/MPI_work/projects/meerkat/meerkat_umap_pv/data/interim/parameter_search/grid_search_umap_params/zs_euclidean_pad_0.001_1.0_50_3_specs_no_40_dB_no\n",
      "/home/mthomas/Documents/MPI_work/projects/meerkat/meerkat_umap_pv/data/interim/parameter_search/grid_search_umap_params/zs_euclidean_pad_0.001_1.0_50_4_specs_no_40_dB_no\n",
      "/home/mthomas/Documents/MPI_work/projects/meerkat/meerkat_umap_pv/data/interim/parameter_search/grid_search_umap_params/zs_euclidean_pad_0.001_1.0_50_4_specs_no_40_dB_no\n",
      "/home/mthomas/Documents/MPI_work/projects/meerkat/meerkat_umap_pv/data/interim/parameter_search/grid_search_umap_params/zs_euclidean_pad_0.001_1.0_50_5_specs_no_40_dB_no\n",
      "/home/mthomas/Documents/MPI_work/projects/meerkat/meerkat_umap_pv/data/interim/parameter_search/grid_search_umap_params/zs_euclidean_pad_0.001_1.0_50_5_specs_no_40_dB_no\n",
      "/home/mthomas/Documents/MPI_work/projects/meerkat/meerkat_umap_pv/data/interim/parameter_search/grid_search_umap_params/zs_euclidean_pad_0.001_1.0_50_6_specs_no_40_dB_no\n",
      "/home/mthomas/Documents/MPI_work/projects/meerkat/meerkat_umap_pv/data/interim/parameter_search/grid_search_umap_params/zs_euclidean_pad_0.001_1.0_50_6_specs_no_40_dB_no\n",
      "/home/mthomas/Documents/MPI_work/projects/meerkat/meerkat_umap_pv/data/interim/parameter_search/grid_search_umap_params/zs_euclidean_pad_0.001_1.0_50_7_specs_no_40_dB_no\n",
      "/home/mthomas/Documents/MPI_work/projects/meerkat/meerkat_umap_pv/data/interim/parameter_search/grid_search_umap_params/zs_euclidean_pad_0.001_1.0_50_7_specs_no_40_dB_no\n",
      "/home/mthomas/Documents/MPI_work/projects/meerkat/meerkat_umap_pv/data/interim/parameter_search/grid_search_umap_params/zs_euclidean_pad_0.001_1.0_50_8_specs_no_40_dB_no\n",
      "/home/mthomas/Documents/MPI_work/projects/meerkat/meerkat_umap_pv/data/interim/parameter_search/grid_search_umap_params/zs_euclidean_pad_0.001_1.0_50_8_specs_no_40_dB_no\n",
      "/home/mthomas/Documents/MPI_work/projects/meerkat/meerkat_umap_pv/data/interim/parameter_search/grid_search_umap_params/zs_euclidean_pad_0.001_1.0_50_9_specs_no_40_dB_no\n",
      "/home/mthomas/Documents/MPI_work/projects/meerkat/meerkat_umap_pv/data/interim/parameter_search/grid_search_umap_params/zs_euclidean_pad_0.001_1.0_50_9_specs_no_40_dB_no\n",
      "/home/mthomas/Documents/MPI_work/projects/meerkat/meerkat_umap_pv/data/interim/parameter_search/grid_search_umap_params/zs_euclidean_pad_0.001_1.0_50_10_specs_no_40_dB_no\n",
      "/home/mthomas/Documents/MPI_work/projects/meerkat/meerkat_umap_pv/data/interim/parameter_search/grid_search_umap_params/zs_euclidean_pad_0.001_1.0_50_10_specs_no_40_dB_no\n",
      "/home/mthomas/Documents/MPI_work/projects/meerkat/meerkat_umap_pv/data/interim/parameter_search/grid_search_umap_params/zs_euclidean_pad_0.01_1.0_50_2_specs_no_40_dB_no\n",
      "/home/mthomas/Documents/MPI_work/projects/meerkat/meerkat_umap_pv/data/interim/parameter_search/grid_search_umap_params/zs_euclidean_pad_0.01_1.0_50_2_specs_no_40_dB_no\n",
      "/home/mthomas/Documents/MPI_work/projects/meerkat/meerkat_umap_pv/data/interim/parameter_search/grid_search_umap_params/zs_euclidean_pad_0.01_1.0_50_3_specs_no_40_dB_no\n",
      "/home/mthomas/Documents/MPI_work/projects/meerkat/meerkat_umap_pv/data/interim/parameter_search/grid_search_umap_params/zs_euclidean_pad_0.01_1.0_50_3_specs_no_40_dB_no\n",
      "/home/mthomas/Documents/MPI_work/projects/meerkat/meerkat_umap_pv/data/interim/parameter_search/grid_search_umap_params/zs_euclidean_pad_0.01_1.0_50_4_specs_no_40_dB_no\n",
      "/home/mthomas/Documents/MPI_work/projects/meerkat/meerkat_umap_pv/data/interim/parameter_search/grid_search_umap_params/zs_euclidean_pad_0.01_1.0_50_4_specs_no_40_dB_no\n",
      "/home/mthomas/Documents/MPI_work/projects/meerkat/meerkat_umap_pv/data/interim/parameter_search/grid_search_umap_params/zs_euclidean_pad_0.01_1.0_50_5_specs_no_40_dB_no\n",
      "/home/mthomas/Documents/MPI_work/projects/meerkat/meerkat_umap_pv/data/interim/parameter_search/grid_search_umap_params/zs_euclidean_pad_0.01_1.0_50_5_specs_no_40_dB_no\n",
      "/home/mthomas/Documents/MPI_work/projects/meerkat/meerkat_umap_pv/data/interim/parameter_search/grid_search_umap_params/zs_euclidean_pad_0.01_1.0_50_6_specs_no_40_dB_no\n",
      "/home/mthomas/Documents/MPI_work/projects/meerkat/meerkat_umap_pv/data/interim/parameter_search/grid_search_umap_params/zs_euclidean_pad_0.01_1.0_50_6_specs_no_40_dB_no\n",
      "/home/mthomas/Documents/MPI_work/projects/meerkat/meerkat_umap_pv/data/interim/parameter_search/grid_search_umap_params/zs_euclidean_pad_0.01_1.0_50_7_specs_no_40_dB_no\n",
      "/home/mthomas/Documents/MPI_work/projects/meerkat/meerkat_umap_pv/data/interim/parameter_search/grid_search_umap_params/zs_euclidean_pad_0.01_1.0_50_7_specs_no_40_dB_no\n",
      "/home/mthomas/Documents/MPI_work/projects/meerkat/meerkat_umap_pv/data/interim/parameter_search/grid_search_umap_params/zs_euclidean_pad_0.01_1.0_50_8_specs_no_40_dB_no\n",
      "/home/mthomas/Documents/MPI_work/projects/meerkat/meerkat_umap_pv/data/interim/parameter_search/grid_search_umap_params/zs_euclidean_pad_0.01_1.0_50_8_specs_no_40_dB_no\n",
      "/home/mthomas/Documents/MPI_work/projects/meerkat/meerkat_umap_pv/data/interim/parameter_search/grid_search_umap_params/zs_euclidean_pad_0.01_1.0_50_9_specs_no_40_dB_no\n",
      "/home/mthomas/Documents/MPI_work/projects/meerkat/meerkat_umap_pv/data/interim/parameter_search/grid_search_umap_params/zs_euclidean_pad_0.01_1.0_50_9_specs_no_40_dB_no\n",
      "/home/mthomas/Documents/MPI_work/projects/meerkat/meerkat_umap_pv/data/interim/parameter_search/grid_search_umap_params/zs_euclidean_pad_0.01_1.0_50_10_specs_no_40_dB_no\n",
      "/home/mthomas/Documents/MPI_work/projects/meerkat/meerkat_umap_pv/data/interim/parameter_search/grid_search_umap_params/zs_euclidean_pad_0.01_1.0_50_10_specs_no_40_dB_no\n",
      "/home/mthomas/Documents/MPI_work/projects/meerkat/meerkat_umap_pv/data/interim/parameter_search/grid_search_umap_params/zs_euclidean_pad_0.1_1.0_50_2_specs_no_40_dB_no\n",
      "/home/mthomas/Documents/MPI_work/projects/meerkat/meerkat_umap_pv/data/interim/parameter_search/grid_search_umap_params/zs_euclidean_pad_0.1_1.0_50_2_specs_no_40_dB_no\n",
      "/home/mthomas/Documents/MPI_work/projects/meerkat/meerkat_umap_pv/data/interim/parameter_search/grid_search_umap_params/zs_euclidean_pad_0.1_1.0_50_3_specs_no_40_dB_no\n",
      "/home/mthomas/Documents/MPI_work/projects/meerkat/meerkat_umap_pv/data/interim/parameter_search/grid_search_umap_params/zs_euclidean_pad_0.1_1.0_50_3_specs_no_40_dB_no\n",
      "/home/mthomas/Documents/MPI_work/projects/meerkat/meerkat_umap_pv/data/interim/parameter_search/grid_search_umap_params/zs_euclidean_pad_0.1_1.0_50_4_specs_no_40_dB_no\n",
      "/home/mthomas/Documents/MPI_work/projects/meerkat/meerkat_umap_pv/data/interim/parameter_search/grid_search_umap_params/zs_euclidean_pad_0.1_1.0_50_4_specs_no_40_dB_no\n",
      "/home/mthomas/Documents/MPI_work/projects/meerkat/meerkat_umap_pv/data/interim/parameter_search/grid_search_umap_params/zs_euclidean_pad_0.1_1.0_50_5_specs_no_40_dB_no\n",
      "/home/mthomas/Documents/MPI_work/projects/meerkat/meerkat_umap_pv/data/interim/parameter_search/grid_search_umap_params/zs_euclidean_pad_0.1_1.0_50_5_specs_no_40_dB_no\n",
      "/home/mthomas/Documents/MPI_work/projects/meerkat/meerkat_umap_pv/data/interim/parameter_search/grid_search_umap_params/zs_euclidean_pad_0.1_1.0_50_6_specs_no_40_dB_no\n",
      "/home/mthomas/Documents/MPI_work/projects/meerkat/meerkat_umap_pv/data/interim/parameter_search/grid_search_umap_params/zs_euclidean_pad_0.1_1.0_50_6_specs_no_40_dB_no\n",
      "/home/mthomas/Documents/MPI_work/projects/meerkat/meerkat_umap_pv/data/interim/parameter_search/grid_search_umap_params/zs_euclidean_pad_0.1_1.0_50_7_specs_no_40_dB_no\n",
      "/home/mthomas/Documents/MPI_work/projects/meerkat/meerkat_umap_pv/data/interim/parameter_search/grid_search_umap_params/zs_euclidean_pad_0.1_1.0_50_7_specs_no_40_dB_no\n",
      "/home/mthomas/Documents/MPI_work/projects/meerkat/meerkat_umap_pv/data/interim/parameter_search/grid_search_umap_params/zs_euclidean_pad_0.1_1.0_50_8_specs_no_40_dB_no\n",
      "/home/mthomas/Documents/MPI_work/projects/meerkat/meerkat_umap_pv/data/interim/parameter_search/grid_search_umap_params/zs_euclidean_pad_0.1_1.0_50_8_specs_no_40_dB_no\n",
      "/home/mthomas/Documents/MPI_work/projects/meerkat/meerkat_umap_pv/data/interim/parameter_search/grid_search_umap_params/zs_euclidean_pad_0.1_1.0_50_9_specs_no_40_dB_no\n",
      "/home/mthomas/Documents/MPI_work/projects/meerkat/meerkat_umap_pv/data/interim/parameter_search/grid_search_umap_params/zs_euclidean_pad_0.1_1.0_50_9_specs_no_40_dB_no\n",
      "/home/mthomas/Documents/MPI_work/projects/meerkat/meerkat_umap_pv/data/interim/parameter_search/grid_search_umap_params/zs_euclidean_pad_0.1_1.0_50_10_specs_no_40_dB_no\n",
      "/home/mthomas/Documents/MPI_work/projects/meerkat/meerkat_umap_pv/data/interim/parameter_search/grid_search_umap_params/zs_euclidean_pad_0.1_1.0_50_10_specs_no_40_dB_no\n",
      "/home/mthomas/Documents/MPI_work/projects/meerkat/meerkat_umap_pv/data/interim/parameter_search/grid_search_umap_params/zs_euclidean_pad_1_1.0_50_2_specs_no_40_dB_no\n",
      "/home/mthomas/Documents/MPI_work/projects/meerkat/meerkat_umap_pv/data/interim/parameter_search/grid_search_umap_params/zs_euclidean_pad_1_1.0_50_2_specs_no_40_dB_no\n",
      "/home/mthomas/Documents/MPI_work/projects/meerkat/meerkat_umap_pv/data/interim/parameter_search/grid_search_umap_params/zs_euclidean_pad_1_1.0_50_3_specs_no_40_dB_no\n",
      "/home/mthomas/Documents/MPI_work/projects/meerkat/meerkat_umap_pv/data/interim/parameter_search/grid_search_umap_params/zs_euclidean_pad_1_1.0_50_3_specs_no_40_dB_no\n",
      "/home/mthomas/Documents/MPI_work/projects/meerkat/meerkat_umap_pv/data/interim/parameter_search/grid_search_umap_params/zs_euclidean_pad_1_1.0_50_4_specs_no_40_dB_no\n",
      "/home/mthomas/Documents/MPI_work/projects/meerkat/meerkat_umap_pv/data/interim/parameter_search/grid_search_umap_params/zs_euclidean_pad_1_1.0_50_4_specs_no_40_dB_no\n",
      "/home/mthomas/Documents/MPI_work/projects/meerkat/meerkat_umap_pv/data/interim/parameter_search/grid_search_umap_params/zs_euclidean_pad_1_1.0_50_5_specs_no_40_dB_no\n",
      "/home/mthomas/Documents/MPI_work/projects/meerkat/meerkat_umap_pv/data/interim/parameter_search/grid_search_umap_params/zs_euclidean_pad_1_1.0_50_5_specs_no_40_dB_no\n",
      "/home/mthomas/Documents/MPI_work/projects/meerkat/meerkat_umap_pv/data/interim/parameter_search/grid_search_umap_params/zs_euclidean_pad_1_1.0_50_6_specs_no_40_dB_no\n",
      "/home/mthomas/Documents/MPI_work/projects/meerkat/meerkat_umap_pv/data/interim/parameter_search/grid_search_umap_params/zs_euclidean_pad_1_1.0_50_6_specs_no_40_dB_no\n",
      "/home/mthomas/Documents/MPI_work/projects/meerkat/meerkat_umap_pv/data/interim/parameter_search/grid_search_umap_params/zs_euclidean_pad_1_1.0_50_7_specs_no_40_dB_no\n",
      "/home/mthomas/Documents/MPI_work/projects/meerkat/meerkat_umap_pv/data/interim/parameter_search/grid_search_umap_params/zs_euclidean_pad_1_1.0_50_7_specs_no_40_dB_no\n",
      "/home/mthomas/Documents/MPI_work/projects/meerkat/meerkat_umap_pv/data/interim/parameter_search/grid_search_umap_params/zs_euclidean_pad_1_1.0_50_8_specs_no_40_dB_no\n",
      "/home/mthomas/Documents/MPI_work/projects/meerkat/meerkat_umap_pv/data/interim/parameter_search/grid_search_umap_params/zs_euclidean_pad_1_1.0_50_8_specs_no_40_dB_no\n",
      "/home/mthomas/Documents/MPI_work/projects/meerkat/meerkat_umap_pv/data/interim/parameter_search/grid_search_umap_params/zs_euclidean_pad_1_1.0_50_9_specs_no_40_dB_no\n",
      "/home/mthomas/Documents/MPI_work/projects/meerkat/meerkat_umap_pv/data/interim/parameter_search/grid_search_umap_params/zs_euclidean_pad_1_1.0_50_9_specs_no_40_dB_no\n",
      "/home/mthomas/Documents/MPI_work/projects/meerkat/meerkat_umap_pv/data/interim/parameter_search/grid_search_umap_params/zs_euclidean_pad_1_1.0_50_10_specs_no_40_dB_no\n",
      "/home/mthomas/Documents/MPI_work/projects/meerkat/meerkat_umap_pv/data/interim/parameter_search/grid_search_umap_params/zs_euclidean_pad_1_1.0_50_10_specs_no_40_dB_no\n",
      "/home/mthomas/Documents/MPI_work/projects/meerkat/meerkat_umap_pv/data/interim/parameter_search/grid_search_umap_params/zs_euclidean_pad_0_1.0_100_2_specs_no_40_dB_no\n",
      "/home/mthomas/Documents/MPI_work/projects/meerkat/meerkat_umap_pv/data/interim/parameter_search/grid_search_umap_params/zs_euclidean_pad_0_1.0_100_2_specs_no_40_dB_no\n",
      "/home/mthomas/Documents/MPI_work/projects/meerkat/meerkat_umap_pv/data/interim/parameter_search/grid_search_umap_params/zs_euclidean_pad_0_1.0_100_3_specs_no_40_dB_no\n",
      "/home/mthomas/Documents/MPI_work/projects/meerkat/meerkat_umap_pv/data/interim/parameter_search/grid_search_umap_params/zs_euclidean_pad_0_1.0_100_3_specs_no_40_dB_no\n",
      "/home/mthomas/Documents/MPI_work/projects/meerkat/meerkat_umap_pv/data/interim/parameter_search/grid_search_umap_params/zs_euclidean_pad_0_1.0_100_4_specs_no_40_dB_no\n",
      "/home/mthomas/Documents/MPI_work/projects/meerkat/meerkat_umap_pv/data/interim/parameter_search/grid_search_umap_params/zs_euclidean_pad_0_1.0_100_4_specs_no_40_dB_no\n",
      "/home/mthomas/Documents/MPI_work/projects/meerkat/meerkat_umap_pv/data/interim/parameter_search/grid_search_umap_params/zs_euclidean_pad_0_1.0_100_5_specs_no_40_dB_no\n",
      "/home/mthomas/Documents/MPI_work/projects/meerkat/meerkat_umap_pv/data/interim/parameter_search/grid_search_umap_params/zs_euclidean_pad_0_1.0_100_5_specs_no_40_dB_no\n",
      "/home/mthomas/Documents/MPI_work/projects/meerkat/meerkat_umap_pv/data/interim/parameter_search/grid_search_umap_params/zs_euclidean_pad_0_1.0_100_6_specs_no_40_dB_no\n",
      "/home/mthomas/Documents/MPI_work/projects/meerkat/meerkat_umap_pv/data/interim/parameter_search/grid_search_umap_params/zs_euclidean_pad_0_1.0_100_6_specs_no_40_dB_no\n",
      "/home/mthomas/Documents/MPI_work/projects/meerkat/meerkat_umap_pv/data/interim/parameter_search/grid_search_umap_params/zs_euclidean_pad_0_1.0_100_7_specs_no_40_dB_no\n",
      "/home/mthomas/Documents/MPI_work/projects/meerkat/meerkat_umap_pv/data/interim/parameter_search/grid_search_umap_params/zs_euclidean_pad_0_1.0_100_7_specs_no_40_dB_no\n",
      "/home/mthomas/Documents/MPI_work/projects/meerkat/meerkat_umap_pv/data/interim/parameter_search/grid_search_umap_params/zs_euclidean_pad_0_1.0_100_8_specs_no_40_dB_no\n",
      "/home/mthomas/Documents/MPI_work/projects/meerkat/meerkat_umap_pv/data/interim/parameter_search/grid_search_umap_params/zs_euclidean_pad_0_1.0_100_8_specs_no_40_dB_no\n",
      "/home/mthomas/Documents/MPI_work/projects/meerkat/meerkat_umap_pv/data/interim/parameter_search/grid_search_umap_params/zs_euclidean_pad_0_1.0_100_9_specs_no_40_dB_no\n",
      "/home/mthomas/Documents/MPI_work/projects/meerkat/meerkat_umap_pv/data/interim/parameter_search/grid_search_umap_params/zs_euclidean_pad_0_1.0_100_9_specs_no_40_dB_no\n",
      "/home/mthomas/Documents/MPI_work/projects/meerkat/meerkat_umap_pv/data/interim/parameter_search/grid_search_umap_params/zs_euclidean_pad_0_1.0_100_10_specs_no_40_dB_no\n",
      "/home/mthomas/Documents/MPI_work/projects/meerkat/meerkat_umap_pv/data/interim/parameter_search/grid_search_umap_params/zs_euclidean_pad_0_1.0_100_10_specs_no_40_dB_no\n",
      "/home/mthomas/Documents/MPI_work/projects/meerkat/meerkat_umap_pv/data/interim/parameter_search/grid_search_umap_params/zs_euclidean_pad_0.001_1.0_100_2_specs_no_40_dB_no\n",
      "/home/mthomas/Documents/MPI_work/projects/meerkat/meerkat_umap_pv/data/interim/parameter_search/grid_search_umap_params/zs_euclidean_pad_0.001_1.0_100_2_specs_no_40_dB_no\n",
      "/home/mthomas/Documents/MPI_work/projects/meerkat/meerkat_umap_pv/data/interim/parameter_search/grid_search_umap_params/zs_euclidean_pad_0.001_1.0_100_3_specs_no_40_dB_no\n",
      "/home/mthomas/Documents/MPI_work/projects/meerkat/meerkat_umap_pv/data/interim/parameter_search/grid_search_umap_params/zs_euclidean_pad_0.001_1.0_100_3_specs_no_40_dB_no\n",
      "/home/mthomas/Documents/MPI_work/projects/meerkat/meerkat_umap_pv/data/interim/parameter_search/grid_search_umap_params/zs_euclidean_pad_0.001_1.0_100_4_specs_no_40_dB_no\n",
      "/home/mthomas/Documents/MPI_work/projects/meerkat/meerkat_umap_pv/data/interim/parameter_search/grid_search_umap_params/zs_euclidean_pad_0.001_1.0_100_4_specs_no_40_dB_no\n",
      "/home/mthomas/Documents/MPI_work/projects/meerkat/meerkat_umap_pv/data/interim/parameter_search/grid_search_umap_params/zs_euclidean_pad_0.001_1.0_100_5_specs_no_40_dB_no\n",
      "/home/mthomas/Documents/MPI_work/projects/meerkat/meerkat_umap_pv/data/interim/parameter_search/grid_search_umap_params/zs_euclidean_pad_0.001_1.0_100_5_specs_no_40_dB_no\n",
      "/home/mthomas/Documents/MPI_work/projects/meerkat/meerkat_umap_pv/data/interim/parameter_search/grid_search_umap_params/zs_euclidean_pad_0.001_1.0_100_6_specs_no_40_dB_no\n",
      "/home/mthomas/Documents/MPI_work/projects/meerkat/meerkat_umap_pv/data/interim/parameter_search/grid_search_umap_params/zs_euclidean_pad_0.001_1.0_100_6_specs_no_40_dB_no\n",
      "/home/mthomas/Documents/MPI_work/projects/meerkat/meerkat_umap_pv/data/interim/parameter_search/grid_search_umap_params/zs_euclidean_pad_0.001_1.0_100_7_specs_no_40_dB_no\n",
      "/home/mthomas/Documents/MPI_work/projects/meerkat/meerkat_umap_pv/data/interim/parameter_search/grid_search_umap_params/zs_euclidean_pad_0.001_1.0_100_7_specs_no_40_dB_no\n",
      "/home/mthomas/Documents/MPI_work/projects/meerkat/meerkat_umap_pv/data/interim/parameter_search/grid_search_umap_params/zs_euclidean_pad_0.001_1.0_100_8_specs_no_40_dB_no\n",
      "/home/mthomas/Documents/MPI_work/projects/meerkat/meerkat_umap_pv/data/interim/parameter_search/grid_search_umap_params/zs_euclidean_pad_0.001_1.0_100_8_specs_no_40_dB_no\n",
      "/home/mthomas/Documents/MPI_work/projects/meerkat/meerkat_umap_pv/data/interim/parameter_search/grid_search_umap_params/zs_euclidean_pad_0.001_1.0_100_9_specs_no_40_dB_no\n",
      "/home/mthomas/Documents/MPI_work/projects/meerkat/meerkat_umap_pv/data/interim/parameter_search/grid_search_umap_params/zs_euclidean_pad_0.001_1.0_100_9_specs_no_40_dB_no\n",
      "/home/mthomas/Documents/MPI_work/projects/meerkat/meerkat_umap_pv/data/interim/parameter_search/grid_search_umap_params/zs_euclidean_pad_0.001_1.0_100_10_specs_no_40_dB_no\n",
      "/home/mthomas/Documents/MPI_work/projects/meerkat/meerkat_umap_pv/data/interim/parameter_search/grid_search_umap_params/zs_euclidean_pad_0.001_1.0_100_10_specs_no_40_dB_no\n",
      "/home/mthomas/Documents/MPI_work/projects/meerkat/meerkat_umap_pv/data/interim/parameter_search/grid_search_umap_params/zs_euclidean_pad_0.01_1.0_100_2_specs_no_40_dB_no\n",
      "/home/mthomas/Documents/MPI_work/projects/meerkat/meerkat_umap_pv/data/interim/parameter_search/grid_search_umap_params/zs_euclidean_pad_0.01_1.0_100_2_specs_no_40_dB_no\n",
      "/home/mthomas/Documents/MPI_work/projects/meerkat/meerkat_umap_pv/data/interim/parameter_search/grid_search_umap_params/zs_euclidean_pad_0.01_1.0_100_3_specs_no_40_dB_no\n",
      "/home/mthomas/Documents/MPI_work/projects/meerkat/meerkat_umap_pv/data/interim/parameter_search/grid_search_umap_params/zs_euclidean_pad_0.01_1.0_100_3_specs_no_40_dB_no\n",
      "/home/mthomas/Documents/MPI_work/projects/meerkat/meerkat_umap_pv/data/interim/parameter_search/grid_search_umap_params/zs_euclidean_pad_0.01_1.0_100_4_specs_no_40_dB_no\n",
      "/home/mthomas/Documents/MPI_work/projects/meerkat/meerkat_umap_pv/data/interim/parameter_search/grid_search_umap_params/zs_euclidean_pad_0.01_1.0_100_4_specs_no_40_dB_no\n",
      "/home/mthomas/Documents/MPI_work/projects/meerkat/meerkat_umap_pv/data/interim/parameter_search/grid_search_umap_params/zs_euclidean_pad_0.01_1.0_100_5_specs_no_40_dB_no\n",
      "/home/mthomas/Documents/MPI_work/projects/meerkat/meerkat_umap_pv/data/interim/parameter_search/grid_search_umap_params/zs_euclidean_pad_0.01_1.0_100_5_specs_no_40_dB_no\n",
      "/home/mthomas/Documents/MPI_work/projects/meerkat/meerkat_umap_pv/data/interim/parameter_search/grid_search_umap_params/zs_euclidean_pad_0.01_1.0_100_6_specs_no_40_dB_no\n",
      "/home/mthomas/Documents/MPI_work/projects/meerkat/meerkat_umap_pv/data/interim/parameter_search/grid_search_umap_params/zs_euclidean_pad_0.01_1.0_100_6_specs_no_40_dB_no\n",
      "/home/mthomas/Documents/MPI_work/projects/meerkat/meerkat_umap_pv/data/interim/parameter_search/grid_search_umap_params/zs_euclidean_pad_0.01_1.0_100_7_specs_no_40_dB_no\n",
      "/home/mthomas/Documents/MPI_work/projects/meerkat/meerkat_umap_pv/data/interim/parameter_search/grid_search_umap_params/zs_euclidean_pad_0.01_1.0_100_7_specs_no_40_dB_no\n",
      "/home/mthomas/Documents/MPI_work/projects/meerkat/meerkat_umap_pv/data/interim/parameter_search/grid_search_umap_params/zs_euclidean_pad_0.01_1.0_100_8_specs_no_40_dB_no\n",
      "/home/mthomas/Documents/MPI_work/projects/meerkat/meerkat_umap_pv/data/interim/parameter_search/grid_search_umap_params/zs_euclidean_pad_0.01_1.0_100_8_specs_no_40_dB_no\n",
      "/home/mthomas/Documents/MPI_work/projects/meerkat/meerkat_umap_pv/data/interim/parameter_search/grid_search_umap_params/zs_euclidean_pad_0.01_1.0_100_9_specs_no_40_dB_no\n",
      "/home/mthomas/Documents/MPI_work/projects/meerkat/meerkat_umap_pv/data/interim/parameter_search/grid_search_umap_params/zs_euclidean_pad_0.01_1.0_100_9_specs_no_40_dB_no\n",
      "/home/mthomas/Documents/MPI_work/projects/meerkat/meerkat_umap_pv/data/interim/parameter_search/grid_search_umap_params/zs_euclidean_pad_0.01_1.0_100_10_specs_no_40_dB_no\n",
      "/home/mthomas/Documents/MPI_work/projects/meerkat/meerkat_umap_pv/data/interim/parameter_search/grid_search_umap_params/zs_euclidean_pad_0.01_1.0_100_10_specs_no_40_dB_no\n",
      "/home/mthomas/Documents/MPI_work/projects/meerkat/meerkat_umap_pv/data/interim/parameter_search/grid_search_umap_params/zs_euclidean_pad_0.1_1.0_100_2_specs_no_40_dB_no\n",
      "/home/mthomas/Documents/MPI_work/projects/meerkat/meerkat_umap_pv/data/interim/parameter_search/grid_search_umap_params/zs_euclidean_pad_0.1_1.0_100_2_specs_no_40_dB_no\n",
      "/home/mthomas/Documents/MPI_work/projects/meerkat/meerkat_umap_pv/data/interim/parameter_search/grid_search_umap_params/zs_euclidean_pad_0.1_1.0_100_3_specs_no_40_dB_no\n",
      "/home/mthomas/Documents/MPI_work/projects/meerkat/meerkat_umap_pv/data/interim/parameter_search/grid_search_umap_params/zs_euclidean_pad_0.1_1.0_100_3_specs_no_40_dB_no\n",
      "/home/mthomas/Documents/MPI_work/projects/meerkat/meerkat_umap_pv/data/interim/parameter_search/grid_search_umap_params/zs_euclidean_pad_0.1_1.0_100_4_specs_no_40_dB_no\n",
      "/home/mthomas/Documents/MPI_work/projects/meerkat/meerkat_umap_pv/data/interim/parameter_search/grid_search_umap_params/zs_euclidean_pad_0.1_1.0_100_4_specs_no_40_dB_no\n",
      "/home/mthomas/Documents/MPI_work/projects/meerkat/meerkat_umap_pv/data/interim/parameter_search/grid_search_umap_params/zs_euclidean_pad_0.1_1.0_100_5_specs_no_40_dB_no\n",
      "/home/mthomas/Documents/MPI_work/projects/meerkat/meerkat_umap_pv/data/interim/parameter_search/grid_search_umap_params/zs_euclidean_pad_0.1_1.0_100_5_specs_no_40_dB_no\n",
      "/home/mthomas/Documents/MPI_work/projects/meerkat/meerkat_umap_pv/data/interim/parameter_search/grid_search_umap_params/zs_euclidean_pad_0.1_1.0_100_6_specs_no_40_dB_no\n",
      "/home/mthomas/Documents/MPI_work/projects/meerkat/meerkat_umap_pv/data/interim/parameter_search/grid_search_umap_params/zs_euclidean_pad_0.1_1.0_100_6_specs_no_40_dB_no\n",
      "/home/mthomas/Documents/MPI_work/projects/meerkat/meerkat_umap_pv/data/interim/parameter_search/grid_search_umap_params/zs_euclidean_pad_0.1_1.0_100_7_specs_no_40_dB_no\n",
      "/home/mthomas/Documents/MPI_work/projects/meerkat/meerkat_umap_pv/data/interim/parameter_search/grid_search_umap_params/zs_euclidean_pad_0.1_1.0_100_7_specs_no_40_dB_no\n",
      "/home/mthomas/Documents/MPI_work/projects/meerkat/meerkat_umap_pv/data/interim/parameter_search/grid_search_umap_params/zs_euclidean_pad_0.1_1.0_100_8_specs_no_40_dB_no\n",
      "/home/mthomas/Documents/MPI_work/projects/meerkat/meerkat_umap_pv/data/interim/parameter_search/grid_search_umap_params/zs_euclidean_pad_0.1_1.0_100_8_specs_no_40_dB_no\n",
      "/home/mthomas/Documents/MPI_work/projects/meerkat/meerkat_umap_pv/data/interim/parameter_search/grid_search_umap_params/zs_euclidean_pad_0.1_1.0_100_9_specs_no_40_dB_no\n",
      "/home/mthomas/Documents/MPI_work/projects/meerkat/meerkat_umap_pv/data/interim/parameter_search/grid_search_umap_params/zs_euclidean_pad_0.1_1.0_100_9_specs_no_40_dB_no\n",
      "/home/mthomas/Documents/MPI_work/projects/meerkat/meerkat_umap_pv/data/interim/parameter_search/grid_search_umap_params/zs_euclidean_pad_0.1_1.0_100_10_specs_no_40_dB_no\n",
      "/home/mthomas/Documents/MPI_work/projects/meerkat/meerkat_umap_pv/data/interim/parameter_search/grid_search_umap_params/zs_euclidean_pad_0.1_1.0_100_10_specs_no_40_dB_no\n",
      "/home/mthomas/Documents/MPI_work/projects/meerkat/meerkat_umap_pv/data/interim/parameter_search/grid_search_umap_params/zs_euclidean_pad_1_1.0_100_2_specs_no_40_dB_no\n",
      "/home/mthomas/Documents/MPI_work/projects/meerkat/meerkat_umap_pv/data/interim/parameter_search/grid_search_umap_params/zs_euclidean_pad_1_1.0_100_2_specs_no_40_dB_no\n",
      "/home/mthomas/Documents/MPI_work/projects/meerkat/meerkat_umap_pv/data/interim/parameter_search/grid_search_umap_params/zs_euclidean_pad_1_1.0_100_3_specs_no_40_dB_no\n",
      "/home/mthomas/Documents/MPI_work/projects/meerkat/meerkat_umap_pv/data/interim/parameter_search/grid_search_umap_params/zs_euclidean_pad_1_1.0_100_3_specs_no_40_dB_no\n",
      "/home/mthomas/Documents/MPI_work/projects/meerkat/meerkat_umap_pv/data/interim/parameter_search/grid_search_umap_params/zs_euclidean_pad_1_1.0_100_4_specs_no_40_dB_no\n",
      "/home/mthomas/Documents/MPI_work/projects/meerkat/meerkat_umap_pv/data/interim/parameter_search/grid_search_umap_params/zs_euclidean_pad_1_1.0_100_4_specs_no_40_dB_no\n",
      "/home/mthomas/Documents/MPI_work/projects/meerkat/meerkat_umap_pv/data/interim/parameter_search/grid_search_umap_params/zs_euclidean_pad_1_1.0_100_5_specs_no_40_dB_no\n",
      "/home/mthomas/Documents/MPI_work/projects/meerkat/meerkat_umap_pv/data/interim/parameter_search/grid_search_umap_params/zs_euclidean_pad_1_1.0_100_5_specs_no_40_dB_no\n",
      "/home/mthomas/Documents/MPI_work/projects/meerkat/meerkat_umap_pv/data/interim/parameter_search/grid_search_umap_params/zs_euclidean_pad_1_1.0_100_6_specs_no_40_dB_no\n",
      "/home/mthomas/Documents/MPI_work/projects/meerkat/meerkat_umap_pv/data/interim/parameter_search/grid_search_umap_params/zs_euclidean_pad_1_1.0_100_6_specs_no_40_dB_no\n",
      "/home/mthomas/Documents/MPI_work/projects/meerkat/meerkat_umap_pv/data/interim/parameter_search/grid_search_umap_params/zs_euclidean_pad_1_1.0_100_7_specs_no_40_dB_no\n",
      "/home/mthomas/Documents/MPI_work/projects/meerkat/meerkat_umap_pv/data/interim/parameter_search/grid_search_umap_params/zs_euclidean_pad_1_1.0_100_7_specs_no_40_dB_no\n",
      "/home/mthomas/Documents/MPI_work/projects/meerkat/meerkat_umap_pv/data/interim/parameter_search/grid_search_umap_params/zs_euclidean_pad_1_1.0_100_8_specs_no_40_dB_no\n",
      "/home/mthomas/Documents/MPI_work/projects/meerkat/meerkat_umap_pv/data/interim/parameter_search/grid_search_umap_params/zs_euclidean_pad_1_1.0_100_8_specs_no_40_dB_no\n",
      "/home/mthomas/Documents/MPI_work/projects/meerkat/meerkat_umap_pv/data/interim/parameter_search/grid_search_umap_params/zs_euclidean_pad_1_1.0_100_9_specs_no_40_dB_no\n",
      "/home/mthomas/Documents/MPI_work/projects/meerkat/meerkat_umap_pv/data/interim/parameter_search/grid_search_umap_params/zs_euclidean_pad_1_1.0_100_9_specs_no_40_dB_no\n",
      "/home/mthomas/Documents/MPI_work/projects/meerkat/meerkat_umap_pv/data/interim/parameter_search/grid_search_umap_params/zs_euclidean_pad_1_1.0_100_10_specs_no_40_dB_no\n",
      "/home/mthomas/Documents/MPI_work/projects/meerkat/meerkat_umap_pv/data/interim/parameter_search/grid_search_umap_params/zs_euclidean_pad_1_1.0_100_10_specs_no_40_dB_no\n",
      "/home/mthomas/Documents/MPI_work/projects/meerkat/meerkat_umap_pv/data/interim/parameter_search/grid_search_umap_params/zs_euclidean_pad_0_1.0_150_2_specs_no_40_dB_no\n",
      "/home/mthomas/Documents/MPI_work/projects/meerkat/meerkat_umap_pv/data/interim/parameter_search/grid_search_umap_params/zs_euclidean_pad_0_1.0_150_2_specs_no_40_dB_no\n",
      "/home/mthomas/Documents/MPI_work/projects/meerkat/meerkat_umap_pv/data/interim/parameter_search/grid_search_umap_params/zs_euclidean_pad_0_1.0_150_3_specs_no_40_dB_no\n",
      "/home/mthomas/Documents/MPI_work/projects/meerkat/meerkat_umap_pv/data/interim/parameter_search/grid_search_umap_params/zs_euclidean_pad_0_1.0_150_3_specs_no_40_dB_no\n",
      "/home/mthomas/Documents/MPI_work/projects/meerkat/meerkat_umap_pv/data/interim/parameter_search/grid_search_umap_params/zs_euclidean_pad_0_1.0_150_4_specs_no_40_dB_no\n",
      "/home/mthomas/Documents/MPI_work/projects/meerkat/meerkat_umap_pv/data/interim/parameter_search/grid_search_umap_params/zs_euclidean_pad_0_1.0_150_4_specs_no_40_dB_no\n",
      "/home/mthomas/Documents/MPI_work/projects/meerkat/meerkat_umap_pv/data/interim/parameter_search/grid_search_umap_params/zs_euclidean_pad_0_1.0_150_5_specs_no_40_dB_no\n",
      "/home/mthomas/Documents/MPI_work/projects/meerkat/meerkat_umap_pv/data/interim/parameter_search/grid_search_umap_params/zs_euclidean_pad_0_1.0_150_5_specs_no_40_dB_no\n",
      "/home/mthomas/Documents/MPI_work/projects/meerkat/meerkat_umap_pv/data/interim/parameter_search/grid_search_umap_params/zs_euclidean_pad_0_1.0_150_6_specs_no_40_dB_no\n",
      "/home/mthomas/Documents/MPI_work/projects/meerkat/meerkat_umap_pv/data/interim/parameter_search/grid_search_umap_params/zs_euclidean_pad_0_1.0_150_6_specs_no_40_dB_no\n",
      "/home/mthomas/Documents/MPI_work/projects/meerkat/meerkat_umap_pv/data/interim/parameter_search/grid_search_umap_params/zs_euclidean_pad_0_1.0_150_7_specs_no_40_dB_no\n",
      "/home/mthomas/Documents/MPI_work/projects/meerkat/meerkat_umap_pv/data/interim/parameter_search/grid_search_umap_params/zs_euclidean_pad_0_1.0_150_7_specs_no_40_dB_no\n",
      "/home/mthomas/Documents/MPI_work/projects/meerkat/meerkat_umap_pv/data/interim/parameter_search/grid_search_umap_params/zs_euclidean_pad_0_1.0_150_8_specs_no_40_dB_no\n",
      "/home/mthomas/Documents/MPI_work/projects/meerkat/meerkat_umap_pv/data/interim/parameter_search/grid_search_umap_params/zs_euclidean_pad_0_1.0_150_8_specs_no_40_dB_no\n",
      "/home/mthomas/Documents/MPI_work/projects/meerkat/meerkat_umap_pv/data/interim/parameter_search/grid_search_umap_params/zs_euclidean_pad_0_1.0_150_9_specs_no_40_dB_no\n",
      "/home/mthomas/Documents/MPI_work/projects/meerkat/meerkat_umap_pv/data/interim/parameter_search/grid_search_umap_params/zs_euclidean_pad_0_1.0_150_9_specs_no_40_dB_no\n",
      "/home/mthomas/Documents/MPI_work/projects/meerkat/meerkat_umap_pv/data/interim/parameter_search/grid_search_umap_params/zs_euclidean_pad_0_1.0_150_10_specs_no_40_dB_no\n",
      "/home/mthomas/Documents/MPI_work/projects/meerkat/meerkat_umap_pv/data/interim/parameter_search/grid_search_umap_params/zs_euclidean_pad_0_1.0_150_10_specs_no_40_dB_no\n",
      "/home/mthomas/Documents/MPI_work/projects/meerkat/meerkat_umap_pv/data/interim/parameter_search/grid_search_umap_params/zs_euclidean_pad_0.001_1.0_150_2_specs_no_40_dB_no\n",
      "/home/mthomas/Documents/MPI_work/projects/meerkat/meerkat_umap_pv/data/interim/parameter_search/grid_search_umap_params/zs_euclidean_pad_0.001_1.0_150_2_specs_no_40_dB_no\n",
      "/home/mthomas/Documents/MPI_work/projects/meerkat/meerkat_umap_pv/data/interim/parameter_search/grid_search_umap_params/zs_euclidean_pad_0.001_1.0_150_3_specs_no_40_dB_no\n",
      "/home/mthomas/Documents/MPI_work/projects/meerkat/meerkat_umap_pv/data/interim/parameter_search/grid_search_umap_params/zs_euclidean_pad_0.001_1.0_150_3_specs_no_40_dB_no\n",
      "/home/mthomas/Documents/MPI_work/projects/meerkat/meerkat_umap_pv/data/interim/parameter_search/grid_search_umap_params/zs_euclidean_pad_0.001_1.0_150_4_specs_no_40_dB_no\n",
      "/home/mthomas/Documents/MPI_work/projects/meerkat/meerkat_umap_pv/data/interim/parameter_search/grid_search_umap_params/zs_euclidean_pad_0.001_1.0_150_4_specs_no_40_dB_no\n",
      "/home/mthomas/Documents/MPI_work/projects/meerkat/meerkat_umap_pv/data/interim/parameter_search/grid_search_umap_params/zs_euclidean_pad_0.001_1.0_150_5_specs_no_40_dB_no\n",
      "/home/mthomas/Documents/MPI_work/projects/meerkat/meerkat_umap_pv/data/interim/parameter_search/grid_search_umap_params/zs_euclidean_pad_0.001_1.0_150_5_specs_no_40_dB_no\n",
      "/home/mthomas/Documents/MPI_work/projects/meerkat/meerkat_umap_pv/data/interim/parameter_search/grid_search_umap_params/zs_euclidean_pad_0.001_1.0_150_6_specs_no_40_dB_no\n",
      "/home/mthomas/Documents/MPI_work/projects/meerkat/meerkat_umap_pv/data/interim/parameter_search/grid_search_umap_params/zs_euclidean_pad_0.001_1.0_150_6_specs_no_40_dB_no\n",
      "/home/mthomas/Documents/MPI_work/projects/meerkat/meerkat_umap_pv/data/interim/parameter_search/grid_search_umap_params/zs_euclidean_pad_0.001_1.0_150_7_specs_no_40_dB_no\n",
      "/home/mthomas/Documents/MPI_work/projects/meerkat/meerkat_umap_pv/data/interim/parameter_search/grid_search_umap_params/zs_euclidean_pad_0.001_1.0_150_7_specs_no_40_dB_no\n",
      "/home/mthomas/Documents/MPI_work/projects/meerkat/meerkat_umap_pv/data/interim/parameter_search/grid_search_umap_params/zs_euclidean_pad_0.001_1.0_150_8_specs_no_40_dB_no\n",
      "/home/mthomas/Documents/MPI_work/projects/meerkat/meerkat_umap_pv/data/interim/parameter_search/grid_search_umap_params/zs_euclidean_pad_0.001_1.0_150_8_specs_no_40_dB_no\n",
      "/home/mthomas/Documents/MPI_work/projects/meerkat/meerkat_umap_pv/data/interim/parameter_search/grid_search_umap_params/zs_euclidean_pad_0.001_1.0_150_9_specs_no_40_dB_no\n",
      "/home/mthomas/Documents/MPI_work/projects/meerkat/meerkat_umap_pv/data/interim/parameter_search/grid_search_umap_params/zs_euclidean_pad_0.001_1.0_150_9_specs_no_40_dB_no\n",
      "/home/mthomas/Documents/MPI_work/projects/meerkat/meerkat_umap_pv/data/interim/parameter_search/grid_search_umap_params/zs_euclidean_pad_0.001_1.0_150_10_specs_no_40_dB_no\n",
      "/home/mthomas/Documents/MPI_work/projects/meerkat/meerkat_umap_pv/data/interim/parameter_search/grid_search_umap_params/zs_euclidean_pad_0.001_1.0_150_10_specs_no_40_dB_no\n",
      "/home/mthomas/Documents/MPI_work/projects/meerkat/meerkat_umap_pv/data/interim/parameter_search/grid_search_umap_params/zs_euclidean_pad_0.01_1.0_150_2_specs_no_40_dB_no\n",
      "/home/mthomas/Documents/MPI_work/projects/meerkat/meerkat_umap_pv/data/interim/parameter_search/grid_search_umap_params/zs_euclidean_pad_0.01_1.0_150_2_specs_no_40_dB_no\n",
      "/home/mthomas/Documents/MPI_work/projects/meerkat/meerkat_umap_pv/data/interim/parameter_search/grid_search_umap_params/zs_euclidean_pad_0.01_1.0_150_3_specs_no_40_dB_no\n",
      "/home/mthomas/Documents/MPI_work/projects/meerkat/meerkat_umap_pv/data/interim/parameter_search/grid_search_umap_params/zs_euclidean_pad_0.01_1.0_150_3_specs_no_40_dB_no\n",
      "/home/mthomas/Documents/MPI_work/projects/meerkat/meerkat_umap_pv/data/interim/parameter_search/grid_search_umap_params/zs_euclidean_pad_0.01_1.0_150_4_specs_no_40_dB_no\n",
      "/home/mthomas/Documents/MPI_work/projects/meerkat/meerkat_umap_pv/data/interim/parameter_search/grid_search_umap_params/zs_euclidean_pad_0.01_1.0_150_4_specs_no_40_dB_no\n",
      "/home/mthomas/Documents/MPI_work/projects/meerkat/meerkat_umap_pv/data/interim/parameter_search/grid_search_umap_params/zs_euclidean_pad_0.01_1.0_150_5_specs_no_40_dB_no\n",
      "/home/mthomas/Documents/MPI_work/projects/meerkat/meerkat_umap_pv/data/interim/parameter_search/grid_search_umap_params/zs_euclidean_pad_0.01_1.0_150_5_specs_no_40_dB_no\n",
      "/home/mthomas/Documents/MPI_work/projects/meerkat/meerkat_umap_pv/data/interim/parameter_search/grid_search_umap_params/zs_euclidean_pad_0.01_1.0_150_6_specs_no_40_dB_no\n",
      "/home/mthomas/Documents/MPI_work/projects/meerkat/meerkat_umap_pv/data/interim/parameter_search/grid_search_umap_params/zs_euclidean_pad_0.01_1.0_150_6_specs_no_40_dB_no\n",
      "/home/mthomas/Documents/MPI_work/projects/meerkat/meerkat_umap_pv/data/interim/parameter_search/grid_search_umap_params/zs_euclidean_pad_0.01_1.0_150_7_specs_no_40_dB_no\n",
      "/home/mthomas/Documents/MPI_work/projects/meerkat/meerkat_umap_pv/data/interim/parameter_search/grid_search_umap_params/zs_euclidean_pad_0.01_1.0_150_7_specs_no_40_dB_no\n",
      "/home/mthomas/Documents/MPI_work/projects/meerkat/meerkat_umap_pv/data/interim/parameter_search/grid_search_umap_params/zs_euclidean_pad_0.01_1.0_150_8_specs_no_40_dB_no\n",
      "/home/mthomas/Documents/MPI_work/projects/meerkat/meerkat_umap_pv/data/interim/parameter_search/grid_search_umap_params/zs_euclidean_pad_0.01_1.0_150_8_specs_no_40_dB_no\n",
      "/home/mthomas/Documents/MPI_work/projects/meerkat/meerkat_umap_pv/data/interim/parameter_search/grid_search_umap_params/zs_euclidean_pad_0.01_1.0_150_9_specs_no_40_dB_no\n",
      "/home/mthomas/Documents/MPI_work/projects/meerkat/meerkat_umap_pv/data/interim/parameter_search/grid_search_umap_params/zs_euclidean_pad_0.01_1.0_150_9_specs_no_40_dB_no\n",
      "/home/mthomas/Documents/MPI_work/projects/meerkat/meerkat_umap_pv/data/interim/parameter_search/grid_search_umap_params/zs_euclidean_pad_0.01_1.0_150_10_specs_no_40_dB_no\n",
      "/home/mthomas/Documents/MPI_work/projects/meerkat/meerkat_umap_pv/data/interim/parameter_search/grid_search_umap_params/zs_euclidean_pad_0.01_1.0_150_10_specs_no_40_dB_no\n",
      "/home/mthomas/Documents/MPI_work/projects/meerkat/meerkat_umap_pv/data/interim/parameter_search/grid_search_umap_params/zs_euclidean_pad_0.1_1.0_150_2_specs_no_40_dB_no\n",
      "/home/mthomas/Documents/MPI_work/projects/meerkat/meerkat_umap_pv/data/interim/parameter_search/grid_search_umap_params/zs_euclidean_pad_0.1_1.0_150_2_specs_no_40_dB_no\n",
      "/home/mthomas/Documents/MPI_work/projects/meerkat/meerkat_umap_pv/data/interim/parameter_search/grid_search_umap_params/zs_euclidean_pad_0.1_1.0_150_3_specs_no_40_dB_no\n",
      "/home/mthomas/Documents/MPI_work/projects/meerkat/meerkat_umap_pv/data/interim/parameter_search/grid_search_umap_params/zs_euclidean_pad_0.1_1.0_150_3_specs_no_40_dB_no\n",
      "/home/mthomas/Documents/MPI_work/projects/meerkat/meerkat_umap_pv/data/interim/parameter_search/grid_search_umap_params/zs_euclidean_pad_0.1_1.0_150_4_specs_no_40_dB_no\n",
      "/home/mthomas/Documents/MPI_work/projects/meerkat/meerkat_umap_pv/data/interim/parameter_search/grid_search_umap_params/zs_euclidean_pad_0.1_1.0_150_4_specs_no_40_dB_no\n",
      "/home/mthomas/Documents/MPI_work/projects/meerkat/meerkat_umap_pv/data/interim/parameter_search/grid_search_umap_params/zs_euclidean_pad_0.1_1.0_150_5_specs_no_40_dB_no\n",
      "/home/mthomas/Documents/MPI_work/projects/meerkat/meerkat_umap_pv/data/interim/parameter_search/grid_search_umap_params/zs_euclidean_pad_0.1_1.0_150_5_specs_no_40_dB_no\n",
      "/home/mthomas/Documents/MPI_work/projects/meerkat/meerkat_umap_pv/data/interim/parameter_search/grid_search_umap_params/zs_euclidean_pad_0.1_1.0_150_6_specs_no_40_dB_no\n",
      "/home/mthomas/Documents/MPI_work/projects/meerkat/meerkat_umap_pv/data/interim/parameter_search/grid_search_umap_params/zs_euclidean_pad_0.1_1.0_150_6_specs_no_40_dB_no\n",
      "/home/mthomas/Documents/MPI_work/projects/meerkat/meerkat_umap_pv/data/interim/parameter_search/grid_search_umap_params/zs_euclidean_pad_0.1_1.0_150_7_specs_no_40_dB_no\n",
      "/home/mthomas/Documents/MPI_work/projects/meerkat/meerkat_umap_pv/data/interim/parameter_search/grid_search_umap_params/zs_euclidean_pad_0.1_1.0_150_7_specs_no_40_dB_no\n",
      "/home/mthomas/Documents/MPI_work/projects/meerkat/meerkat_umap_pv/data/interim/parameter_search/grid_search_umap_params/zs_euclidean_pad_0.1_1.0_150_8_specs_no_40_dB_no\n",
      "/home/mthomas/Documents/MPI_work/projects/meerkat/meerkat_umap_pv/data/interim/parameter_search/grid_search_umap_params/zs_euclidean_pad_0.1_1.0_150_8_specs_no_40_dB_no\n",
      "/home/mthomas/Documents/MPI_work/projects/meerkat/meerkat_umap_pv/data/interim/parameter_search/grid_search_umap_params/zs_euclidean_pad_0.1_1.0_150_9_specs_no_40_dB_no\n",
      "/home/mthomas/Documents/MPI_work/projects/meerkat/meerkat_umap_pv/data/interim/parameter_search/grid_search_umap_params/zs_euclidean_pad_0.1_1.0_150_9_specs_no_40_dB_no\n",
      "/home/mthomas/Documents/MPI_work/projects/meerkat/meerkat_umap_pv/data/interim/parameter_search/grid_search_umap_params/zs_euclidean_pad_0.1_1.0_150_10_specs_no_40_dB_no\n",
      "/home/mthomas/Documents/MPI_work/projects/meerkat/meerkat_umap_pv/data/interim/parameter_search/grid_search_umap_params/zs_euclidean_pad_0.1_1.0_150_10_specs_no_40_dB_no\n",
      "/home/mthomas/Documents/MPI_work/projects/meerkat/meerkat_umap_pv/data/interim/parameter_search/grid_search_umap_params/zs_euclidean_pad_1_1.0_150_2_specs_no_40_dB_no\n",
      "/home/mthomas/Documents/MPI_work/projects/meerkat/meerkat_umap_pv/data/interim/parameter_search/grid_search_umap_params/zs_euclidean_pad_1_1.0_150_2_specs_no_40_dB_no\n",
      "/home/mthomas/Documents/MPI_work/projects/meerkat/meerkat_umap_pv/data/interim/parameter_search/grid_search_umap_params/zs_euclidean_pad_1_1.0_150_3_specs_no_40_dB_no\n",
      "/home/mthomas/Documents/MPI_work/projects/meerkat/meerkat_umap_pv/data/interim/parameter_search/grid_search_umap_params/zs_euclidean_pad_1_1.0_150_3_specs_no_40_dB_no\n",
      "/home/mthomas/Documents/MPI_work/projects/meerkat/meerkat_umap_pv/data/interim/parameter_search/grid_search_umap_params/zs_euclidean_pad_1_1.0_150_4_specs_no_40_dB_no\n",
      "/home/mthomas/Documents/MPI_work/projects/meerkat/meerkat_umap_pv/data/interim/parameter_search/grid_search_umap_params/zs_euclidean_pad_1_1.0_150_4_specs_no_40_dB_no\n",
      "/home/mthomas/Documents/MPI_work/projects/meerkat/meerkat_umap_pv/data/interim/parameter_search/grid_search_umap_params/zs_euclidean_pad_1_1.0_150_5_specs_no_40_dB_no\n",
      "/home/mthomas/Documents/MPI_work/projects/meerkat/meerkat_umap_pv/data/interim/parameter_search/grid_search_umap_params/zs_euclidean_pad_1_1.0_150_5_specs_no_40_dB_no\n",
      "/home/mthomas/Documents/MPI_work/projects/meerkat/meerkat_umap_pv/data/interim/parameter_search/grid_search_umap_params/zs_euclidean_pad_1_1.0_150_6_specs_no_40_dB_no\n",
      "/home/mthomas/Documents/MPI_work/projects/meerkat/meerkat_umap_pv/data/interim/parameter_search/grid_search_umap_params/zs_euclidean_pad_1_1.0_150_6_specs_no_40_dB_no\n",
      "/home/mthomas/Documents/MPI_work/projects/meerkat/meerkat_umap_pv/data/interim/parameter_search/grid_search_umap_params/zs_euclidean_pad_1_1.0_150_7_specs_no_40_dB_no\n",
      "/home/mthomas/Documents/MPI_work/projects/meerkat/meerkat_umap_pv/data/interim/parameter_search/grid_search_umap_params/zs_euclidean_pad_1_1.0_150_7_specs_no_40_dB_no\n",
      "/home/mthomas/Documents/MPI_work/projects/meerkat/meerkat_umap_pv/data/interim/parameter_search/grid_search_umap_params/zs_euclidean_pad_1_1.0_150_8_specs_no_40_dB_no\n",
      "/home/mthomas/Documents/MPI_work/projects/meerkat/meerkat_umap_pv/data/interim/parameter_search/grid_search_umap_params/zs_euclidean_pad_1_1.0_150_8_specs_no_40_dB_no\n",
      "/home/mthomas/Documents/MPI_work/projects/meerkat/meerkat_umap_pv/data/interim/parameter_search/grid_search_umap_params/zs_euclidean_pad_1_1.0_150_9_specs_no_40_dB_no\n",
      "/home/mthomas/Documents/MPI_work/projects/meerkat/meerkat_umap_pv/data/interim/parameter_search/grid_search_umap_params/zs_euclidean_pad_1_1.0_150_9_specs_no_40_dB_no\n",
      "/home/mthomas/Documents/MPI_work/projects/meerkat/meerkat_umap_pv/data/interim/parameter_search/grid_search_umap_params/zs_euclidean_pad_1_1.0_150_10_specs_no_40_dB_no\n",
      "/home/mthomas/Documents/MPI_work/projects/meerkat/meerkat_umap_pv/data/interim/parameter_search/grid_search_umap_params/zs_euclidean_pad_1_1.0_150_10_specs_no_40_dB_no\n",
      "/home/mthomas/Documents/MPI_work/projects/meerkat/meerkat_umap_pv/data/interim/parameter_search/grid_search_umap_params/zs_euclidean_pad_0_1.0_200_2_specs_no_40_dB_no\n",
      "/home/mthomas/Documents/MPI_work/projects/meerkat/meerkat_umap_pv/data/interim/parameter_search/grid_search_umap_params/zs_euclidean_pad_0_1.0_200_2_specs_no_40_dB_no\n",
      "/home/mthomas/Documents/MPI_work/projects/meerkat/meerkat_umap_pv/data/interim/parameter_search/grid_search_umap_params/zs_euclidean_pad_0_1.0_200_3_specs_no_40_dB_no\n",
      "/home/mthomas/Documents/MPI_work/projects/meerkat/meerkat_umap_pv/data/interim/parameter_search/grid_search_umap_params/zs_euclidean_pad_0_1.0_200_3_specs_no_40_dB_no\n",
      "/home/mthomas/Documents/MPI_work/projects/meerkat/meerkat_umap_pv/data/interim/parameter_search/grid_search_umap_params/zs_euclidean_pad_0_1.0_200_4_specs_no_40_dB_no\n",
      "/home/mthomas/Documents/MPI_work/projects/meerkat/meerkat_umap_pv/data/interim/parameter_search/grid_search_umap_params/zs_euclidean_pad_0_1.0_200_4_specs_no_40_dB_no\n",
      "/home/mthomas/Documents/MPI_work/projects/meerkat/meerkat_umap_pv/data/interim/parameter_search/grid_search_umap_params/zs_euclidean_pad_0_1.0_200_5_specs_no_40_dB_no\n",
      "/home/mthomas/Documents/MPI_work/projects/meerkat/meerkat_umap_pv/data/interim/parameter_search/grid_search_umap_params/zs_euclidean_pad_0_1.0_200_5_specs_no_40_dB_no\n",
      "/home/mthomas/Documents/MPI_work/projects/meerkat/meerkat_umap_pv/data/interim/parameter_search/grid_search_umap_params/zs_euclidean_pad_0_1.0_200_6_specs_no_40_dB_no\n",
      "/home/mthomas/Documents/MPI_work/projects/meerkat/meerkat_umap_pv/data/interim/parameter_search/grid_search_umap_params/zs_euclidean_pad_0_1.0_200_6_specs_no_40_dB_no\n",
      "/home/mthomas/Documents/MPI_work/projects/meerkat/meerkat_umap_pv/data/interim/parameter_search/grid_search_umap_params/zs_euclidean_pad_0_1.0_200_7_specs_no_40_dB_no\n",
      "/home/mthomas/Documents/MPI_work/projects/meerkat/meerkat_umap_pv/data/interim/parameter_search/grid_search_umap_params/zs_euclidean_pad_0_1.0_200_7_specs_no_40_dB_no\n",
      "/home/mthomas/Documents/MPI_work/projects/meerkat/meerkat_umap_pv/data/interim/parameter_search/grid_search_umap_params/zs_euclidean_pad_0_1.0_200_8_specs_no_40_dB_no\n",
      "/home/mthomas/Documents/MPI_work/projects/meerkat/meerkat_umap_pv/data/interim/parameter_search/grid_search_umap_params/zs_euclidean_pad_0_1.0_200_8_specs_no_40_dB_no\n",
      "/home/mthomas/Documents/MPI_work/projects/meerkat/meerkat_umap_pv/data/interim/parameter_search/grid_search_umap_params/zs_euclidean_pad_0_1.0_200_9_specs_no_40_dB_no\n",
      "/home/mthomas/Documents/MPI_work/projects/meerkat/meerkat_umap_pv/data/interim/parameter_search/grid_search_umap_params/zs_euclidean_pad_0_1.0_200_9_specs_no_40_dB_no\n",
      "/home/mthomas/Documents/MPI_work/projects/meerkat/meerkat_umap_pv/data/interim/parameter_search/grid_search_umap_params/zs_euclidean_pad_0_1.0_200_10_specs_no_40_dB_no\n",
      "/home/mthomas/Documents/MPI_work/projects/meerkat/meerkat_umap_pv/data/interim/parameter_search/grid_search_umap_params/zs_euclidean_pad_0_1.0_200_10_specs_no_40_dB_no\n",
      "/home/mthomas/Documents/MPI_work/projects/meerkat/meerkat_umap_pv/data/interim/parameter_search/grid_search_umap_params/zs_euclidean_pad_0.001_1.0_200_2_specs_no_40_dB_no\n",
      "/home/mthomas/Documents/MPI_work/projects/meerkat/meerkat_umap_pv/data/interim/parameter_search/grid_search_umap_params/zs_euclidean_pad_0.001_1.0_200_2_specs_no_40_dB_no\n",
      "/home/mthomas/Documents/MPI_work/projects/meerkat/meerkat_umap_pv/data/interim/parameter_search/grid_search_umap_params/zs_euclidean_pad_0.001_1.0_200_3_specs_no_40_dB_no\n",
      "/home/mthomas/Documents/MPI_work/projects/meerkat/meerkat_umap_pv/data/interim/parameter_search/grid_search_umap_params/zs_euclidean_pad_0.001_1.0_200_3_specs_no_40_dB_no\n",
      "/home/mthomas/Documents/MPI_work/projects/meerkat/meerkat_umap_pv/data/interim/parameter_search/grid_search_umap_params/zs_euclidean_pad_0.001_1.0_200_4_specs_no_40_dB_no\n",
      "/home/mthomas/Documents/MPI_work/projects/meerkat/meerkat_umap_pv/data/interim/parameter_search/grid_search_umap_params/zs_euclidean_pad_0.001_1.0_200_4_specs_no_40_dB_no\n",
      "/home/mthomas/Documents/MPI_work/projects/meerkat/meerkat_umap_pv/data/interim/parameter_search/grid_search_umap_params/zs_euclidean_pad_0.001_1.0_200_5_specs_no_40_dB_no\n",
      "/home/mthomas/Documents/MPI_work/projects/meerkat/meerkat_umap_pv/data/interim/parameter_search/grid_search_umap_params/zs_euclidean_pad_0.001_1.0_200_5_specs_no_40_dB_no\n",
      "/home/mthomas/Documents/MPI_work/projects/meerkat/meerkat_umap_pv/data/interim/parameter_search/grid_search_umap_params/zs_euclidean_pad_0.001_1.0_200_6_specs_no_40_dB_no\n",
      "/home/mthomas/Documents/MPI_work/projects/meerkat/meerkat_umap_pv/data/interim/parameter_search/grid_search_umap_params/zs_euclidean_pad_0.001_1.0_200_6_specs_no_40_dB_no\n",
      "/home/mthomas/Documents/MPI_work/projects/meerkat/meerkat_umap_pv/data/interim/parameter_search/grid_search_umap_params/zs_euclidean_pad_0.001_1.0_200_7_specs_no_40_dB_no\n",
      "/home/mthomas/Documents/MPI_work/projects/meerkat/meerkat_umap_pv/data/interim/parameter_search/grid_search_umap_params/zs_euclidean_pad_0.001_1.0_200_7_specs_no_40_dB_no\n",
      "/home/mthomas/Documents/MPI_work/projects/meerkat/meerkat_umap_pv/data/interim/parameter_search/grid_search_umap_params/zs_euclidean_pad_0.001_1.0_200_8_specs_no_40_dB_no\n",
      "/home/mthomas/Documents/MPI_work/projects/meerkat/meerkat_umap_pv/data/interim/parameter_search/grid_search_umap_params/zs_euclidean_pad_0.001_1.0_200_8_specs_no_40_dB_no\n",
      "/home/mthomas/Documents/MPI_work/projects/meerkat/meerkat_umap_pv/data/interim/parameter_search/grid_search_umap_params/zs_euclidean_pad_0.001_1.0_200_9_specs_no_40_dB_no\n",
      "/home/mthomas/Documents/MPI_work/projects/meerkat/meerkat_umap_pv/data/interim/parameter_search/grid_search_umap_params/zs_euclidean_pad_0.001_1.0_200_9_specs_no_40_dB_no\n",
      "/home/mthomas/Documents/MPI_work/projects/meerkat/meerkat_umap_pv/data/interim/parameter_search/grid_search_umap_params/zs_euclidean_pad_0.001_1.0_200_10_specs_no_40_dB_no\n",
      "/home/mthomas/Documents/MPI_work/projects/meerkat/meerkat_umap_pv/data/interim/parameter_search/grid_search_umap_params/zs_euclidean_pad_0.001_1.0_200_10_specs_no_40_dB_no\n",
      "/home/mthomas/Documents/MPI_work/projects/meerkat/meerkat_umap_pv/data/interim/parameter_search/grid_search_umap_params/zs_euclidean_pad_0.01_1.0_200_2_specs_no_40_dB_no\n",
      "/home/mthomas/Documents/MPI_work/projects/meerkat/meerkat_umap_pv/data/interim/parameter_search/grid_search_umap_params/zs_euclidean_pad_0.01_1.0_200_2_specs_no_40_dB_no\n",
      "/home/mthomas/Documents/MPI_work/projects/meerkat/meerkat_umap_pv/data/interim/parameter_search/grid_search_umap_params/zs_euclidean_pad_0.01_1.0_200_3_specs_no_40_dB_no\n",
      "/home/mthomas/Documents/MPI_work/projects/meerkat/meerkat_umap_pv/data/interim/parameter_search/grid_search_umap_params/zs_euclidean_pad_0.01_1.0_200_3_specs_no_40_dB_no\n",
      "/home/mthomas/Documents/MPI_work/projects/meerkat/meerkat_umap_pv/data/interim/parameter_search/grid_search_umap_params/zs_euclidean_pad_0.01_1.0_200_4_specs_no_40_dB_no\n",
      "/home/mthomas/Documents/MPI_work/projects/meerkat/meerkat_umap_pv/data/interim/parameter_search/grid_search_umap_params/zs_euclidean_pad_0.01_1.0_200_4_specs_no_40_dB_no\n",
      "/home/mthomas/Documents/MPI_work/projects/meerkat/meerkat_umap_pv/data/interim/parameter_search/grid_search_umap_params/zs_euclidean_pad_0.01_1.0_200_5_specs_no_40_dB_no\n",
      "/home/mthomas/Documents/MPI_work/projects/meerkat/meerkat_umap_pv/data/interim/parameter_search/grid_search_umap_params/zs_euclidean_pad_0.01_1.0_200_5_specs_no_40_dB_no\n",
      "/home/mthomas/Documents/MPI_work/projects/meerkat/meerkat_umap_pv/data/interim/parameter_search/grid_search_umap_params/zs_euclidean_pad_0.01_1.0_200_6_specs_no_40_dB_no\n",
      "/home/mthomas/Documents/MPI_work/projects/meerkat/meerkat_umap_pv/data/interim/parameter_search/grid_search_umap_params/zs_euclidean_pad_0.01_1.0_200_6_specs_no_40_dB_no\n",
      "/home/mthomas/Documents/MPI_work/projects/meerkat/meerkat_umap_pv/data/interim/parameter_search/grid_search_umap_params/zs_euclidean_pad_0.01_1.0_200_7_specs_no_40_dB_no\n",
      "/home/mthomas/Documents/MPI_work/projects/meerkat/meerkat_umap_pv/data/interim/parameter_search/grid_search_umap_params/zs_euclidean_pad_0.01_1.0_200_7_specs_no_40_dB_no\n",
      "/home/mthomas/Documents/MPI_work/projects/meerkat/meerkat_umap_pv/data/interim/parameter_search/grid_search_umap_params/zs_euclidean_pad_0.01_1.0_200_8_specs_no_40_dB_no\n",
      "/home/mthomas/Documents/MPI_work/projects/meerkat/meerkat_umap_pv/data/interim/parameter_search/grid_search_umap_params/zs_euclidean_pad_0.01_1.0_200_8_specs_no_40_dB_no\n",
      "/home/mthomas/Documents/MPI_work/projects/meerkat/meerkat_umap_pv/data/interim/parameter_search/grid_search_umap_params/zs_euclidean_pad_0.01_1.0_200_9_specs_no_40_dB_no\n",
      "/home/mthomas/Documents/MPI_work/projects/meerkat/meerkat_umap_pv/data/interim/parameter_search/grid_search_umap_params/zs_euclidean_pad_0.01_1.0_200_9_specs_no_40_dB_no\n",
      "/home/mthomas/Documents/MPI_work/projects/meerkat/meerkat_umap_pv/data/interim/parameter_search/grid_search_umap_params/zs_euclidean_pad_0.01_1.0_200_10_specs_no_40_dB_no\n",
      "/home/mthomas/Documents/MPI_work/projects/meerkat/meerkat_umap_pv/data/interim/parameter_search/grid_search_umap_params/zs_euclidean_pad_0.01_1.0_200_10_specs_no_40_dB_no\n",
      "/home/mthomas/Documents/MPI_work/projects/meerkat/meerkat_umap_pv/data/interim/parameter_search/grid_search_umap_params/zs_euclidean_pad_0.1_1.0_200_2_specs_no_40_dB_no\n",
      "/home/mthomas/Documents/MPI_work/projects/meerkat/meerkat_umap_pv/data/interim/parameter_search/grid_search_umap_params/zs_euclidean_pad_0.1_1.0_200_2_specs_no_40_dB_no\n",
      "/home/mthomas/Documents/MPI_work/projects/meerkat/meerkat_umap_pv/data/interim/parameter_search/grid_search_umap_params/zs_euclidean_pad_0.1_1.0_200_3_specs_no_40_dB_no\n",
      "/home/mthomas/Documents/MPI_work/projects/meerkat/meerkat_umap_pv/data/interim/parameter_search/grid_search_umap_params/zs_euclidean_pad_0.1_1.0_200_3_specs_no_40_dB_no\n",
      "/home/mthomas/Documents/MPI_work/projects/meerkat/meerkat_umap_pv/data/interim/parameter_search/grid_search_umap_params/zs_euclidean_pad_0.1_1.0_200_4_specs_no_40_dB_no\n",
      "/home/mthomas/Documents/MPI_work/projects/meerkat/meerkat_umap_pv/data/interim/parameter_search/grid_search_umap_params/zs_euclidean_pad_0.1_1.0_200_4_specs_no_40_dB_no\n",
      "/home/mthomas/Documents/MPI_work/projects/meerkat/meerkat_umap_pv/data/interim/parameter_search/grid_search_umap_params/zs_euclidean_pad_0.1_1.0_200_5_specs_no_40_dB_no\n",
      "/home/mthomas/Documents/MPI_work/projects/meerkat/meerkat_umap_pv/data/interim/parameter_search/grid_search_umap_params/zs_euclidean_pad_0.1_1.0_200_5_specs_no_40_dB_no\n",
      "/home/mthomas/Documents/MPI_work/projects/meerkat/meerkat_umap_pv/data/interim/parameter_search/grid_search_umap_params/zs_euclidean_pad_0.1_1.0_200_6_specs_no_40_dB_no\n",
      "/home/mthomas/Documents/MPI_work/projects/meerkat/meerkat_umap_pv/data/interim/parameter_search/grid_search_umap_params/zs_euclidean_pad_0.1_1.0_200_6_specs_no_40_dB_no\n",
      "/home/mthomas/Documents/MPI_work/projects/meerkat/meerkat_umap_pv/data/interim/parameter_search/grid_search_umap_params/zs_euclidean_pad_0.1_1.0_200_7_specs_no_40_dB_no\n",
      "/home/mthomas/Documents/MPI_work/projects/meerkat/meerkat_umap_pv/data/interim/parameter_search/grid_search_umap_params/zs_euclidean_pad_0.1_1.0_200_7_specs_no_40_dB_no\n",
      "/home/mthomas/Documents/MPI_work/projects/meerkat/meerkat_umap_pv/data/interim/parameter_search/grid_search_umap_params/zs_euclidean_pad_0.1_1.0_200_8_specs_no_40_dB_no\n",
      "/home/mthomas/Documents/MPI_work/projects/meerkat/meerkat_umap_pv/data/interim/parameter_search/grid_search_umap_params/zs_euclidean_pad_0.1_1.0_200_8_specs_no_40_dB_no\n",
      "/home/mthomas/Documents/MPI_work/projects/meerkat/meerkat_umap_pv/data/interim/parameter_search/grid_search_umap_params/zs_euclidean_pad_0.1_1.0_200_9_specs_no_40_dB_no\n",
      "/home/mthomas/Documents/MPI_work/projects/meerkat/meerkat_umap_pv/data/interim/parameter_search/grid_search_umap_params/zs_euclidean_pad_0.1_1.0_200_9_specs_no_40_dB_no\n",
      "/home/mthomas/Documents/MPI_work/projects/meerkat/meerkat_umap_pv/data/interim/parameter_search/grid_search_umap_params/zs_euclidean_pad_0.1_1.0_200_10_specs_no_40_dB_no\n",
      "/home/mthomas/Documents/MPI_work/projects/meerkat/meerkat_umap_pv/data/interim/parameter_search/grid_search_umap_params/zs_euclidean_pad_0.1_1.0_200_10_specs_no_40_dB_no\n",
      "/home/mthomas/Documents/MPI_work/projects/meerkat/meerkat_umap_pv/data/interim/parameter_search/grid_search_umap_params/zs_euclidean_pad_1_1.0_200_2_specs_no_40_dB_no\n",
      "/home/mthomas/Documents/MPI_work/projects/meerkat/meerkat_umap_pv/data/interim/parameter_search/grid_search_umap_params/zs_euclidean_pad_1_1.0_200_2_specs_no_40_dB_no\n",
      "/home/mthomas/Documents/MPI_work/projects/meerkat/meerkat_umap_pv/data/interim/parameter_search/grid_search_umap_params/zs_euclidean_pad_1_1.0_200_3_specs_no_40_dB_no\n",
      "/home/mthomas/Documents/MPI_work/projects/meerkat/meerkat_umap_pv/data/interim/parameter_search/grid_search_umap_params/zs_euclidean_pad_1_1.0_200_3_specs_no_40_dB_no\n",
      "/home/mthomas/Documents/MPI_work/projects/meerkat/meerkat_umap_pv/data/interim/parameter_search/grid_search_umap_params/zs_euclidean_pad_1_1.0_200_4_specs_no_40_dB_no\n",
      "/home/mthomas/Documents/MPI_work/projects/meerkat/meerkat_umap_pv/data/interim/parameter_search/grid_search_umap_params/zs_euclidean_pad_1_1.0_200_4_specs_no_40_dB_no\n",
      "/home/mthomas/Documents/MPI_work/projects/meerkat/meerkat_umap_pv/data/interim/parameter_search/grid_search_umap_params/zs_euclidean_pad_1_1.0_200_5_specs_no_40_dB_no\n",
      "/home/mthomas/Documents/MPI_work/projects/meerkat/meerkat_umap_pv/data/interim/parameter_search/grid_search_umap_params/zs_euclidean_pad_1_1.0_200_5_specs_no_40_dB_no\n",
      "/home/mthomas/Documents/MPI_work/projects/meerkat/meerkat_umap_pv/data/interim/parameter_search/grid_search_umap_params/zs_euclidean_pad_1_1.0_200_6_specs_no_40_dB_no\n",
      "/home/mthomas/Documents/MPI_work/projects/meerkat/meerkat_umap_pv/data/interim/parameter_search/grid_search_umap_params/zs_euclidean_pad_1_1.0_200_6_specs_no_40_dB_no\n",
      "/home/mthomas/Documents/MPI_work/projects/meerkat/meerkat_umap_pv/data/interim/parameter_search/grid_search_umap_params/zs_euclidean_pad_1_1.0_200_7_specs_no_40_dB_no\n",
      "/home/mthomas/Documents/MPI_work/projects/meerkat/meerkat_umap_pv/data/interim/parameter_search/grid_search_umap_params/zs_euclidean_pad_1_1.0_200_7_specs_no_40_dB_no\n",
      "/home/mthomas/Documents/MPI_work/projects/meerkat/meerkat_umap_pv/data/interim/parameter_search/grid_search_umap_params/zs_euclidean_pad_1_1.0_200_8_specs_no_40_dB_no\n",
      "/home/mthomas/Documents/MPI_work/projects/meerkat/meerkat_umap_pv/data/interim/parameter_search/grid_search_umap_params/zs_euclidean_pad_1_1.0_200_8_specs_no_40_dB_no\n",
      "/home/mthomas/Documents/MPI_work/projects/meerkat/meerkat_umap_pv/data/interim/parameter_search/grid_search_umap_params/zs_euclidean_pad_1_1.0_200_9_specs_no_40_dB_no\n",
      "/home/mthomas/Documents/MPI_work/projects/meerkat/meerkat_umap_pv/data/interim/parameter_search/grid_search_umap_params/zs_euclidean_pad_1_1.0_200_9_specs_no_40_dB_no\n",
      "/home/mthomas/Documents/MPI_work/projects/meerkat/meerkat_umap_pv/data/interim/parameter_search/grid_search_umap_params/zs_euclidean_pad_1_1.0_200_10_specs_no_40_dB_no\n",
      "/home/mthomas/Documents/MPI_work/projects/meerkat/meerkat_umap_pv/data/interim/parameter_search/grid_search_umap_params/zs_euclidean_pad_1_1.0_200_10_specs_no_40_dB_no\n",
      "FAILED:  zs_euclidean_pad_0_1.5_1_2_specs_no_40_dB_no\n",
      "FAILED:  zs_euclidean_pad_0_1.5_1_3_specs_no_40_dB_no\n",
      "FAILED:  zs_euclidean_pad_0_1.5_1_4_specs_no_40_dB_no\n",
      "FAILED:  zs_euclidean_pad_0_1.5_1_5_specs_no_40_dB_no\n",
      "FAILED:  zs_euclidean_pad_0_1.5_1_6_specs_no_40_dB_no\n",
      "FAILED:  zs_euclidean_pad_0_1.5_1_7_specs_no_40_dB_no\n",
      "FAILED:  zs_euclidean_pad_0_1.5_1_8_specs_no_40_dB_no\n",
      "FAILED:  zs_euclidean_pad_0_1.5_1_9_specs_no_40_dB_no\n",
      "FAILED:  zs_euclidean_pad_0_1.5_1_10_specs_no_40_dB_no\n",
      "FAILED:  zs_euclidean_pad_0.001_1.5_1_2_specs_no_40_dB_no\n",
      "FAILED:  zs_euclidean_pad_0.001_1.5_1_3_specs_no_40_dB_no\n",
      "FAILED:  zs_euclidean_pad_0.001_1.5_1_4_specs_no_40_dB_no\n",
      "FAILED:  zs_euclidean_pad_0.001_1.5_1_5_specs_no_40_dB_no\n",
      "FAILED:  zs_euclidean_pad_0.001_1.5_1_6_specs_no_40_dB_no\n",
      "FAILED:  zs_euclidean_pad_0.001_1.5_1_7_specs_no_40_dB_no\n",
      "FAILED:  zs_euclidean_pad_0.001_1.5_1_8_specs_no_40_dB_no\n",
      "FAILED:  zs_euclidean_pad_0.001_1.5_1_9_specs_no_40_dB_no\n",
      "FAILED:  zs_euclidean_pad_0.001_1.5_1_10_specs_no_40_dB_no\n",
      "FAILED:  zs_euclidean_pad_0.01_1.5_1_2_specs_no_40_dB_no\n",
      "FAILED:  zs_euclidean_pad_0.01_1.5_1_3_specs_no_40_dB_no\n",
      "FAILED:  zs_euclidean_pad_0.01_1.5_1_4_specs_no_40_dB_no\n",
      "FAILED:  zs_euclidean_pad_0.01_1.5_1_5_specs_no_40_dB_no\n",
      "FAILED:  zs_euclidean_pad_0.01_1.5_1_6_specs_no_40_dB_no\n",
      "FAILED:  zs_euclidean_pad_0.01_1.5_1_7_specs_no_40_dB_no\n",
      "FAILED:  zs_euclidean_pad_0.01_1.5_1_8_specs_no_40_dB_no\n",
      "FAILED:  zs_euclidean_pad_0.01_1.5_1_9_specs_no_40_dB_no\n",
      "FAILED:  zs_euclidean_pad_0.01_1.5_1_10_specs_no_40_dB_no\n",
      "FAILED:  zs_euclidean_pad_0.1_1.5_1_2_specs_no_40_dB_no\n",
      "FAILED:  zs_euclidean_pad_0.1_1.5_1_3_specs_no_40_dB_no\n",
      "FAILED:  zs_euclidean_pad_0.1_1.5_1_4_specs_no_40_dB_no\n",
      "FAILED:  zs_euclidean_pad_0.1_1.5_1_5_specs_no_40_dB_no\n",
      "FAILED:  zs_euclidean_pad_0.1_1.5_1_6_specs_no_40_dB_no\n",
      "FAILED:  zs_euclidean_pad_0.1_1.5_1_7_specs_no_40_dB_no\n",
      "FAILED:  zs_euclidean_pad_0.1_1.5_1_8_specs_no_40_dB_no\n",
      "FAILED:  zs_euclidean_pad_0.1_1.5_1_9_specs_no_40_dB_no\n",
      "FAILED:  zs_euclidean_pad_0.1_1.5_1_10_specs_no_40_dB_no\n",
      "FAILED:  zs_euclidean_pad_1_1.5_1_2_specs_no_40_dB_no\n",
      "FAILED:  zs_euclidean_pad_1_1.5_1_3_specs_no_40_dB_no\n",
      "FAILED:  zs_euclidean_pad_1_1.5_1_4_specs_no_40_dB_no\n",
      "FAILED:  zs_euclidean_pad_1_1.5_1_5_specs_no_40_dB_no\n",
      "FAILED:  zs_euclidean_pad_1_1.5_1_6_specs_no_40_dB_no\n",
      "FAILED:  zs_euclidean_pad_1_1.5_1_7_specs_no_40_dB_no\n",
      "FAILED:  zs_euclidean_pad_1_1.5_1_8_specs_no_40_dB_no\n",
      "FAILED:  zs_euclidean_pad_1_1.5_1_9_specs_no_40_dB_no\n",
      "FAILED:  zs_euclidean_pad_1_1.5_1_10_specs_no_40_dB_no\n",
      "/home/mthomas/Documents/MPI_work/projects/meerkat/meerkat_umap_pv/data/interim/parameter_search/grid_search_umap_params/zs_euclidean_pad_0_1.5_5_2_specs_no_40_dB_no\n",
      "/home/mthomas/Documents/MPI_work/projects/meerkat/meerkat_umap_pv/data/interim/parameter_search/grid_search_umap_params/zs_euclidean_pad_0_1.5_5_2_specs_no_40_dB_no\n",
      "/home/mthomas/Documents/MPI_work/projects/meerkat/meerkat_umap_pv/data/interim/parameter_search/grid_search_umap_params/zs_euclidean_pad_0_1.5_5_3_specs_no_40_dB_no\n",
      "/home/mthomas/Documents/MPI_work/projects/meerkat/meerkat_umap_pv/data/interim/parameter_search/grid_search_umap_params/zs_euclidean_pad_0_1.5_5_3_specs_no_40_dB_no\n",
      "/home/mthomas/Documents/MPI_work/projects/meerkat/meerkat_umap_pv/data/interim/parameter_search/grid_search_umap_params/zs_euclidean_pad_0_1.5_5_4_specs_no_40_dB_no\n",
      "/home/mthomas/Documents/MPI_work/projects/meerkat/meerkat_umap_pv/data/interim/parameter_search/grid_search_umap_params/zs_euclidean_pad_0_1.5_5_4_specs_no_40_dB_no\n",
      "/home/mthomas/Documents/MPI_work/projects/meerkat/meerkat_umap_pv/data/interim/parameter_search/grid_search_umap_params/zs_euclidean_pad_0_1.5_5_5_specs_no_40_dB_no\n",
      "/home/mthomas/Documents/MPI_work/projects/meerkat/meerkat_umap_pv/data/interim/parameter_search/grid_search_umap_params/zs_euclidean_pad_0_1.5_5_5_specs_no_40_dB_no\n",
      "/home/mthomas/Documents/MPI_work/projects/meerkat/meerkat_umap_pv/data/interim/parameter_search/grid_search_umap_params/zs_euclidean_pad_0_1.5_5_6_specs_no_40_dB_no\n",
      "/home/mthomas/Documents/MPI_work/projects/meerkat/meerkat_umap_pv/data/interim/parameter_search/grid_search_umap_params/zs_euclidean_pad_0_1.5_5_6_specs_no_40_dB_no\n",
      "/home/mthomas/Documents/MPI_work/projects/meerkat/meerkat_umap_pv/data/interim/parameter_search/grid_search_umap_params/zs_euclidean_pad_0_1.5_5_7_specs_no_40_dB_no\n",
      "/home/mthomas/Documents/MPI_work/projects/meerkat/meerkat_umap_pv/data/interim/parameter_search/grid_search_umap_params/zs_euclidean_pad_0_1.5_5_7_specs_no_40_dB_no\n",
      "/home/mthomas/Documents/MPI_work/projects/meerkat/meerkat_umap_pv/data/interim/parameter_search/grid_search_umap_params/zs_euclidean_pad_0_1.5_5_8_specs_no_40_dB_no\n",
      "/home/mthomas/Documents/MPI_work/projects/meerkat/meerkat_umap_pv/data/interim/parameter_search/grid_search_umap_params/zs_euclidean_pad_0_1.5_5_8_specs_no_40_dB_no\n",
      "/home/mthomas/Documents/MPI_work/projects/meerkat/meerkat_umap_pv/data/interim/parameter_search/grid_search_umap_params/zs_euclidean_pad_0_1.5_5_9_specs_no_40_dB_no\n",
      "/home/mthomas/Documents/MPI_work/projects/meerkat/meerkat_umap_pv/data/interim/parameter_search/grid_search_umap_params/zs_euclidean_pad_0_1.5_5_9_specs_no_40_dB_no\n",
      "/home/mthomas/Documents/MPI_work/projects/meerkat/meerkat_umap_pv/data/interim/parameter_search/grid_search_umap_params/zs_euclidean_pad_0_1.5_5_10_specs_no_40_dB_no\n",
      "/home/mthomas/Documents/MPI_work/projects/meerkat/meerkat_umap_pv/data/interim/parameter_search/grid_search_umap_params/zs_euclidean_pad_0_1.5_5_10_specs_no_40_dB_no\n",
      "/home/mthomas/Documents/MPI_work/projects/meerkat/meerkat_umap_pv/data/interim/parameter_search/grid_search_umap_params/zs_euclidean_pad_0.001_1.5_5_2_specs_no_40_dB_no\n",
      "/home/mthomas/Documents/MPI_work/projects/meerkat/meerkat_umap_pv/data/interim/parameter_search/grid_search_umap_params/zs_euclidean_pad_0.001_1.5_5_2_specs_no_40_dB_no\n",
      "/home/mthomas/Documents/MPI_work/projects/meerkat/meerkat_umap_pv/data/interim/parameter_search/grid_search_umap_params/zs_euclidean_pad_0.001_1.5_5_3_specs_no_40_dB_no\n",
      "/home/mthomas/Documents/MPI_work/projects/meerkat/meerkat_umap_pv/data/interim/parameter_search/grid_search_umap_params/zs_euclidean_pad_0.001_1.5_5_3_specs_no_40_dB_no\n",
      "/home/mthomas/Documents/MPI_work/projects/meerkat/meerkat_umap_pv/data/interim/parameter_search/grid_search_umap_params/zs_euclidean_pad_0.001_1.5_5_4_specs_no_40_dB_no\n",
      "/home/mthomas/Documents/MPI_work/projects/meerkat/meerkat_umap_pv/data/interim/parameter_search/grid_search_umap_params/zs_euclidean_pad_0.001_1.5_5_4_specs_no_40_dB_no\n",
      "/home/mthomas/Documents/MPI_work/projects/meerkat/meerkat_umap_pv/data/interim/parameter_search/grid_search_umap_params/zs_euclidean_pad_0.001_1.5_5_5_specs_no_40_dB_no\n",
      "/home/mthomas/Documents/MPI_work/projects/meerkat/meerkat_umap_pv/data/interim/parameter_search/grid_search_umap_params/zs_euclidean_pad_0.001_1.5_5_5_specs_no_40_dB_no\n",
      "/home/mthomas/Documents/MPI_work/projects/meerkat/meerkat_umap_pv/data/interim/parameter_search/grid_search_umap_params/zs_euclidean_pad_0.001_1.5_5_6_specs_no_40_dB_no\n",
      "/home/mthomas/Documents/MPI_work/projects/meerkat/meerkat_umap_pv/data/interim/parameter_search/grid_search_umap_params/zs_euclidean_pad_0.001_1.5_5_6_specs_no_40_dB_no\n",
      "/home/mthomas/Documents/MPI_work/projects/meerkat/meerkat_umap_pv/data/interim/parameter_search/grid_search_umap_params/zs_euclidean_pad_0.001_1.5_5_7_specs_no_40_dB_no\n",
      "/home/mthomas/Documents/MPI_work/projects/meerkat/meerkat_umap_pv/data/interim/parameter_search/grid_search_umap_params/zs_euclidean_pad_0.001_1.5_5_7_specs_no_40_dB_no\n",
      "/home/mthomas/Documents/MPI_work/projects/meerkat/meerkat_umap_pv/data/interim/parameter_search/grid_search_umap_params/zs_euclidean_pad_0.001_1.5_5_8_specs_no_40_dB_no\n",
      "/home/mthomas/Documents/MPI_work/projects/meerkat/meerkat_umap_pv/data/interim/parameter_search/grid_search_umap_params/zs_euclidean_pad_0.001_1.5_5_8_specs_no_40_dB_no\n",
      "/home/mthomas/Documents/MPI_work/projects/meerkat/meerkat_umap_pv/data/interim/parameter_search/grid_search_umap_params/zs_euclidean_pad_0.001_1.5_5_9_specs_no_40_dB_no\n",
      "/home/mthomas/Documents/MPI_work/projects/meerkat/meerkat_umap_pv/data/interim/parameter_search/grid_search_umap_params/zs_euclidean_pad_0.001_1.5_5_9_specs_no_40_dB_no\n",
      "/home/mthomas/Documents/MPI_work/projects/meerkat/meerkat_umap_pv/data/interim/parameter_search/grid_search_umap_params/zs_euclidean_pad_0.001_1.5_5_10_specs_no_40_dB_no\n",
      "/home/mthomas/Documents/MPI_work/projects/meerkat/meerkat_umap_pv/data/interim/parameter_search/grid_search_umap_params/zs_euclidean_pad_0.001_1.5_5_10_specs_no_40_dB_no\n",
      "/home/mthomas/Documents/MPI_work/projects/meerkat/meerkat_umap_pv/data/interim/parameter_search/grid_search_umap_params/zs_euclidean_pad_0.01_1.5_5_2_specs_no_40_dB_no\n",
      "/home/mthomas/Documents/MPI_work/projects/meerkat/meerkat_umap_pv/data/interim/parameter_search/grid_search_umap_params/zs_euclidean_pad_0.01_1.5_5_2_specs_no_40_dB_no\n",
      "/home/mthomas/Documents/MPI_work/projects/meerkat/meerkat_umap_pv/data/interim/parameter_search/grid_search_umap_params/zs_euclidean_pad_0.01_1.5_5_3_specs_no_40_dB_no\n",
      "/home/mthomas/Documents/MPI_work/projects/meerkat/meerkat_umap_pv/data/interim/parameter_search/grid_search_umap_params/zs_euclidean_pad_0.01_1.5_5_3_specs_no_40_dB_no\n",
      "/home/mthomas/Documents/MPI_work/projects/meerkat/meerkat_umap_pv/data/interim/parameter_search/grid_search_umap_params/zs_euclidean_pad_0.01_1.5_5_4_specs_no_40_dB_no\n",
      "/home/mthomas/Documents/MPI_work/projects/meerkat/meerkat_umap_pv/data/interim/parameter_search/grid_search_umap_params/zs_euclidean_pad_0.01_1.5_5_4_specs_no_40_dB_no\n",
      "/home/mthomas/Documents/MPI_work/projects/meerkat/meerkat_umap_pv/data/interim/parameter_search/grid_search_umap_params/zs_euclidean_pad_0.01_1.5_5_5_specs_no_40_dB_no\n",
      "/home/mthomas/Documents/MPI_work/projects/meerkat/meerkat_umap_pv/data/interim/parameter_search/grid_search_umap_params/zs_euclidean_pad_0.01_1.5_5_5_specs_no_40_dB_no\n",
      "/home/mthomas/Documents/MPI_work/projects/meerkat/meerkat_umap_pv/data/interim/parameter_search/grid_search_umap_params/zs_euclidean_pad_0.01_1.5_5_6_specs_no_40_dB_no\n",
      "/home/mthomas/Documents/MPI_work/projects/meerkat/meerkat_umap_pv/data/interim/parameter_search/grid_search_umap_params/zs_euclidean_pad_0.01_1.5_5_6_specs_no_40_dB_no\n",
      "/home/mthomas/Documents/MPI_work/projects/meerkat/meerkat_umap_pv/data/interim/parameter_search/grid_search_umap_params/zs_euclidean_pad_0.01_1.5_5_7_specs_no_40_dB_no\n",
      "/home/mthomas/Documents/MPI_work/projects/meerkat/meerkat_umap_pv/data/interim/parameter_search/grid_search_umap_params/zs_euclidean_pad_0.01_1.5_5_7_specs_no_40_dB_no\n",
      "/home/mthomas/Documents/MPI_work/projects/meerkat/meerkat_umap_pv/data/interim/parameter_search/grid_search_umap_params/zs_euclidean_pad_0.01_1.5_5_8_specs_no_40_dB_no\n",
      "/home/mthomas/Documents/MPI_work/projects/meerkat/meerkat_umap_pv/data/interim/parameter_search/grid_search_umap_params/zs_euclidean_pad_0.01_1.5_5_8_specs_no_40_dB_no\n",
      "/home/mthomas/Documents/MPI_work/projects/meerkat/meerkat_umap_pv/data/interim/parameter_search/grid_search_umap_params/zs_euclidean_pad_0.01_1.5_5_9_specs_no_40_dB_no\n",
      "/home/mthomas/Documents/MPI_work/projects/meerkat/meerkat_umap_pv/data/interim/parameter_search/grid_search_umap_params/zs_euclidean_pad_0.01_1.5_5_9_specs_no_40_dB_no\n",
      "/home/mthomas/Documents/MPI_work/projects/meerkat/meerkat_umap_pv/data/interim/parameter_search/grid_search_umap_params/zs_euclidean_pad_0.01_1.5_5_10_specs_no_40_dB_no\n",
      "/home/mthomas/Documents/MPI_work/projects/meerkat/meerkat_umap_pv/data/interim/parameter_search/grid_search_umap_params/zs_euclidean_pad_0.01_1.5_5_10_specs_no_40_dB_no\n",
      "/home/mthomas/Documents/MPI_work/projects/meerkat/meerkat_umap_pv/data/interim/parameter_search/grid_search_umap_params/zs_euclidean_pad_0.1_1.5_5_2_specs_no_40_dB_no\n",
      "/home/mthomas/Documents/MPI_work/projects/meerkat/meerkat_umap_pv/data/interim/parameter_search/grid_search_umap_params/zs_euclidean_pad_0.1_1.5_5_2_specs_no_40_dB_no\n",
      "/home/mthomas/Documents/MPI_work/projects/meerkat/meerkat_umap_pv/data/interim/parameter_search/grid_search_umap_params/zs_euclidean_pad_0.1_1.5_5_3_specs_no_40_dB_no\n",
      "/home/mthomas/Documents/MPI_work/projects/meerkat/meerkat_umap_pv/data/interim/parameter_search/grid_search_umap_params/zs_euclidean_pad_0.1_1.5_5_3_specs_no_40_dB_no\n",
      "/home/mthomas/Documents/MPI_work/projects/meerkat/meerkat_umap_pv/data/interim/parameter_search/grid_search_umap_params/zs_euclidean_pad_0.1_1.5_5_4_specs_no_40_dB_no\n",
      "/home/mthomas/Documents/MPI_work/projects/meerkat/meerkat_umap_pv/data/interim/parameter_search/grid_search_umap_params/zs_euclidean_pad_0.1_1.5_5_4_specs_no_40_dB_no\n",
      "/home/mthomas/Documents/MPI_work/projects/meerkat/meerkat_umap_pv/data/interim/parameter_search/grid_search_umap_params/zs_euclidean_pad_0.1_1.5_5_5_specs_no_40_dB_no\n",
      "/home/mthomas/Documents/MPI_work/projects/meerkat/meerkat_umap_pv/data/interim/parameter_search/grid_search_umap_params/zs_euclidean_pad_0.1_1.5_5_5_specs_no_40_dB_no\n",
      "/home/mthomas/Documents/MPI_work/projects/meerkat/meerkat_umap_pv/data/interim/parameter_search/grid_search_umap_params/zs_euclidean_pad_0.1_1.5_5_6_specs_no_40_dB_no\n",
      "/home/mthomas/Documents/MPI_work/projects/meerkat/meerkat_umap_pv/data/interim/parameter_search/grid_search_umap_params/zs_euclidean_pad_0.1_1.5_5_6_specs_no_40_dB_no\n",
      "/home/mthomas/Documents/MPI_work/projects/meerkat/meerkat_umap_pv/data/interim/parameter_search/grid_search_umap_params/zs_euclidean_pad_0.1_1.5_5_7_specs_no_40_dB_no\n",
      "/home/mthomas/Documents/MPI_work/projects/meerkat/meerkat_umap_pv/data/interim/parameter_search/grid_search_umap_params/zs_euclidean_pad_0.1_1.5_5_7_specs_no_40_dB_no\n",
      "/home/mthomas/Documents/MPI_work/projects/meerkat/meerkat_umap_pv/data/interim/parameter_search/grid_search_umap_params/zs_euclidean_pad_0.1_1.5_5_8_specs_no_40_dB_no\n",
      "/home/mthomas/Documents/MPI_work/projects/meerkat/meerkat_umap_pv/data/interim/parameter_search/grid_search_umap_params/zs_euclidean_pad_0.1_1.5_5_8_specs_no_40_dB_no\n",
      "/home/mthomas/Documents/MPI_work/projects/meerkat/meerkat_umap_pv/data/interim/parameter_search/grid_search_umap_params/zs_euclidean_pad_0.1_1.5_5_9_specs_no_40_dB_no\n",
      "/home/mthomas/Documents/MPI_work/projects/meerkat/meerkat_umap_pv/data/interim/parameter_search/grid_search_umap_params/zs_euclidean_pad_0.1_1.5_5_9_specs_no_40_dB_no\n",
      "/home/mthomas/Documents/MPI_work/projects/meerkat/meerkat_umap_pv/data/interim/parameter_search/grid_search_umap_params/zs_euclidean_pad_0.1_1.5_5_10_specs_no_40_dB_no\n",
      "/home/mthomas/Documents/MPI_work/projects/meerkat/meerkat_umap_pv/data/interim/parameter_search/grid_search_umap_params/zs_euclidean_pad_0.1_1.5_5_10_specs_no_40_dB_no\n",
      "/home/mthomas/Documents/MPI_work/projects/meerkat/meerkat_umap_pv/data/interim/parameter_search/grid_search_umap_params/zs_euclidean_pad_1_1.5_5_2_specs_no_40_dB_no\n",
      "/home/mthomas/Documents/MPI_work/projects/meerkat/meerkat_umap_pv/data/interim/parameter_search/grid_search_umap_params/zs_euclidean_pad_1_1.5_5_2_specs_no_40_dB_no\n",
      "/home/mthomas/Documents/MPI_work/projects/meerkat/meerkat_umap_pv/data/interim/parameter_search/grid_search_umap_params/zs_euclidean_pad_1_1.5_5_3_specs_no_40_dB_no\n",
      "/home/mthomas/Documents/MPI_work/projects/meerkat/meerkat_umap_pv/data/interim/parameter_search/grid_search_umap_params/zs_euclidean_pad_1_1.5_5_3_specs_no_40_dB_no\n",
      "/home/mthomas/Documents/MPI_work/projects/meerkat/meerkat_umap_pv/data/interim/parameter_search/grid_search_umap_params/zs_euclidean_pad_1_1.5_5_4_specs_no_40_dB_no\n",
      "/home/mthomas/Documents/MPI_work/projects/meerkat/meerkat_umap_pv/data/interim/parameter_search/grid_search_umap_params/zs_euclidean_pad_1_1.5_5_4_specs_no_40_dB_no\n",
      "/home/mthomas/Documents/MPI_work/projects/meerkat/meerkat_umap_pv/data/interim/parameter_search/grid_search_umap_params/zs_euclidean_pad_1_1.5_5_5_specs_no_40_dB_no\n",
      "/home/mthomas/Documents/MPI_work/projects/meerkat/meerkat_umap_pv/data/interim/parameter_search/grid_search_umap_params/zs_euclidean_pad_1_1.5_5_5_specs_no_40_dB_no\n",
      "/home/mthomas/Documents/MPI_work/projects/meerkat/meerkat_umap_pv/data/interim/parameter_search/grid_search_umap_params/zs_euclidean_pad_1_1.5_5_6_specs_no_40_dB_no\n",
      "/home/mthomas/Documents/MPI_work/projects/meerkat/meerkat_umap_pv/data/interim/parameter_search/grid_search_umap_params/zs_euclidean_pad_1_1.5_5_6_specs_no_40_dB_no\n",
      "/home/mthomas/Documents/MPI_work/projects/meerkat/meerkat_umap_pv/data/interim/parameter_search/grid_search_umap_params/zs_euclidean_pad_1_1.5_5_7_specs_no_40_dB_no\n",
      "/home/mthomas/Documents/MPI_work/projects/meerkat/meerkat_umap_pv/data/interim/parameter_search/grid_search_umap_params/zs_euclidean_pad_1_1.5_5_7_specs_no_40_dB_no\n",
      "/home/mthomas/Documents/MPI_work/projects/meerkat/meerkat_umap_pv/data/interim/parameter_search/grid_search_umap_params/zs_euclidean_pad_1_1.5_5_8_specs_no_40_dB_no\n",
      "/home/mthomas/Documents/MPI_work/projects/meerkat/meerkat_umap_pv/data/interim/parameter_search/grid_search_umap_params/zs_euclidean_pad_1_1.5_5_8_specs_no_40_dB_no\n",
      "/home/mthomas/Documents/MPI_work/projects/meerkat/meerkat_umap_pv/data/interim/parameter_search/grid_search_umap_params/zs_euclidean_pad_1_1.5_5_9_specs_no_40_dB_no\n",
      "/home/mthomas/Documents/MPI_work/projects/meerkat/meerkat_umap_pv/data/interim/parameter_search/grid_search_umap_params/zs_euclidean_pad_1_1.5_5_9_specs_no_40_dB_no\n",
      "/home/mthomas/Documents/MPI_work/projects/meerkat/meerkat_umap_pv/data/interim/parameter_search/grid_search_umap_params/zs_euclidean_pad_1_1.5_5_10_specs_no_40_dB_no\n",
      "/home/mthomas/Documents/MPI_work/projects/meerkat/meerkat_umap_pv/data/interim/parameter_search/grid_search_umap_params/zs_euclidean_pad_1_1.5_5_10_specs_no_40_dB_no\n",
      "/home/mthomas/Documents/MPI_work/projects/meerkat/meerkat_umap_pv/data/interim/parameter_search/grid_search_umap_params/zs_euclidean_pad_0_1.5_10_2_specs_no_40_dB_no\n",
      "/home/mthomas/Documents/MPI_work/projects/meerkat/meerkat_umap_pv/data/interim/parameter_search/grid_search_umap_params/zs_euclidean_pad_0_1.5_10_2_specs_no_40_dB_no\n",
      "/home/mthomas/Documents/MPI_work/projects/meerkat/meerkat_umap_pv/data/interim/parameter_search/grid_search_umap_params/zs_euclidean_pad_0_1.5_10_3_specs_no_40_dB_no\n",
      "/home/mthomas/Documents/MPI_work/projects/meerkat/meerkat_umap_pv/data/interim/parameter_search/grid_search_umap_params/zs_euclidean_pad_0_1.5_10_3_specs_no_40_dB_no\n",
      "/home/mthomas/Documents/MPI_work/projects/meerkat/meerkat_umap_pv/data/interim/parameter_search/grid_search_umap_params/zs_euclidean_pad_0_1.5_10_4_specs_no_40_dB_no\n",
      "/home/mthomas/Documents/MPI_work/projects/meerkat/meerkat_umap_pv/data/interim/parameter_search/grid_search_umap_params/zs_euclidean_pad_0_1.5_10_4_specs_no_40_dB_no\n",
      "/home/mthomas/Documents/MPI_work/projects/meerkat/meerkat_umap_pv/data/interim/parameter_search/grid_search_umap_params/zs_euclidean_pad_0_1.5_10_5_specs_no_40_dB_no\n",
      "/home/mthomas/Documents/MPI_work/projects/meerkat/meerkat_umap_pv/data/interim/parameter_search/grid_search_umap_params/zs_euclidean_pad_0_1.5_10_5_specs_no_40_dB_no\n",
      "/home/mthomas/Documents/MPI_work/projects/meerkat/meerkat_umap_pv/data/interim/parameter_search/grid_search_umap_params/zs_euclidean_pad_0_1.5_10_6_specs_no_40_dB_no\n",
      "/home/mthomas/Documents/MPI_work/projects/meerkat/meerkat_umap_pv/data/interim/parameter_search/grid_search_umap_params/zs_euclidean_pad_0_1.5_10_6_specs_no_40_dB_no\n",
      "/home/mthomas/Documents/MPI_work/projects/meerkat/meerkat_umap_pv/data/interim/parameter_search/grid_search_umap_params/zs_euclidean_pad_0_1.5_10_7_specs_no_40_dB_no\n",
      "/home/mthomas/Documents/MPI_work/projects/meerkat/meerkat_umap_pv/data/interim/parameter_search/grid_search_umap_params/zs_euclidean_pad_0_1.5_10_7_specs_no_40_dB_no\n",
      "/home/mthomas/Documents/MPI_work/projects/meerkat/meerkat_umap_pv/data/interim/parameter_search/grid_search_umap_params/zs_euclidean_pad_0_1.5_10_8_specs_no_40_dB_no\n",
      "/home/mthomas/Documents/MPI_work/projects/meerkat/meerkat_umap_pv/data/interim/parameter_search/grid_search_umap_params/zs_euclidean_pad_0_1.5_10_8_specs_no_40_dB_no\n",
      "/home/mthomas/Documents/MPI_work/projects/meerkat/meerkat_umap_pv/data/interim/parameter_search/grid_search_umap_params/zs_euclidean_pad_0_1.5_10_9_specs_no_40_dB_no\n",
      "/home/mthomas/Documents/MPI_work/projects/meerkat/meerkat_umap_pv/data/interim/parameter_search/grid_search_umap_params/zs_euclidean_pad_0_1.5_10_9_specs_no_40_dB_no\n",
      "/home/mthomas/Documents/MPI_work/projects/meerkat/meerkat_umap_pv/data/interim/parameter_search/grid_search_umap_params/zs_euclidean_pad_0_1.5_10_10_specs_no_40_dB_no\n",
      "/home/mthomas/Documents/MPI_work/projects/meerkat/meerkat_umap_pv/data/interim/parameter_search/grid_search_umap_params/zs_euclidean_pad_0_1.5_10_10_specs_no_40_dB_no\n",
      "/home/mthomas/Documents/MPI_work/projects/meerkat/meerkat_umap_pv/data/interim/parameter_search/grid_search_umap_params/zs_euclidean_pad_0.001_1.5_10_2_specs_no_40_dB_no\n",
      "/home/mthomas/Documents/MPI_work/projects/meerkat/meerkat_umap_pv/data/interim/parameter_search/grid_search_umap_params/zs_euclidean_pad_0.001_1.5_10_2_specs_no_40_dB_no\n",
      "/home/mthomas/Documents/MPI_work/projects/meerkat/meerkat_umap_pv/data/interim/parameter_search/grid_search_umap_params/zs_euclidean_pad_0.001_1.5_10_3_specs_no_40_dB_no\n",
      "/home/mthomas/Documents/MPI_work/projects/meerkat/meerkat_umap_pv/data/interim/parameter_search/grid_search_umap_params/zs_euclidean_pad_0.001_1.5_10_3_specs_no_40_dB_no\n",
      "/home/mthomas/Documents/MPI_work/projects/meerkat/meerkat_umap_pv/data/interim/parameter_search/grid_search_umap_params/zs_euclidean_pad_0.001_1.5_10_4_specs_no_40_dB_no\n",
      "/home/mthomas/Documents/MPI_work/projects/meerkat/meerkat_umap_pv/data/interim/parameter_search/grid_search_umap_params/zs_euclidean_pad_0.001_1.5_10_4_specs_no_40_dB_no\n",
      "/home/mthomas/Documents/MPI_work/projects/meerkat/meerkat_umap_pv/data/interim/parameter_search/grid_search_umap_params/zs_euclidean_pad_0.001_1.5_10_5_specs_no_40_dB_no\n",
      "/home/mthomas/Documents/MPI_work/projects/meerkat/meerkat_umap_pv/data/interim/parameter_search/grid_search_umap_params/zs_euclidean_pad_0.001_1.5_10_5_specs_no_40_dB_no\n",
      "/home/mthomas/Documents/MPI_work/projects/meerkat/meerkat_umap_pv/data/interim/parameter_search/grid_search_umap_params/zs_euclidean_pad_0.001_1.5_10_6_specs_no_40_dB_no\n",
      "/home/mthomas/Documents/MPI_work/projects/meerkat/meerkat_umap_pv/data/interim/parameter_search/grid_search_umap_params/zs_euclidean_pad_0.001_1.5_10_6_specs_no_40_dB_no\n",
      "/home/mthomas/Documents/MPI_work/projects/meerkat/meerkat_umap_pv/data/interim/parameter_search/grid_search_umap_params/zs_euclidean_pad_0.001_1.5_10_7_specs_no_40_dB_no\n",
      "/home/mthomas/Documents/MPI_work/projects/meerkat/meerkat_umap_pv/data/interim/parameter_search/grid_search_umap_params/zs_euclidean_pad_0.001_1.5_10_7_specs_no_40_dB_no\n",
      "/home/mthomas/Documents/MPI_work/projects/meerkat/meerkat_umap_pv/data/interim/parameter_search/grid_search_umap_params/zs_euclidean_pad_0.001_1.5_10_8_specs_no_40_dB_no\n",
      "/home/mthomas/Documents/MPI_work/projects/meerkat/meerkat_umap_pv/data/interim/parameter_search/grid_search_umap_params/zs_euclidean_pad_0.001_1.5_10_8_specs_no_40_dB_no\n",
      "/home/mthomas/Documents/MPI_work/projects/meerkat/meerkat_umap_pv/data/interim/parameter_search/grid_search_umap_params/zs_euclidean_pad_0.001_1.5_10_9_specs_no_40_dB_no\n",
      "/home/mthomas/Documents/MPI_work/projects/meerkat/meerkat_umap_pv/data/interim/parameter_search/grid_search_umap_params/zs_euclidean_pad_0.001_1.5_10_9_specs_no_40_dB_no\n",
      "/home/mthomas/Documents/MPI_work/projects/meerkat/meerkat_umap_pv/data/interim/parameter_search/grid_search_umap_params/zs_euclidean_pad_0.001_1.5_10_10_specs_no_40_dB_no\n",
      "/home/mthomas/Documents/MPI_work/projects/meerkat/meerkat_umap_pv/data/interim/parameter_search/grid_search_umap_params/zs_euclidean_pad_0.001_1.5_10_10_specs_no_40_dB_no\n",
      "/home/mthomas/Documents/MPI_work/projects/meerkat/meerkat_umap_pv/data/interim/parameter_search/grid_search_umap_params/zs_euclidean_pad_0.01_1.5_10_2_specs_no_40_dB_no\n",
      "/home/mthomas/Documents/MPI_work/projects/meerkat/meerkat_umap_pv/data/interim/parameter_search/grid_search_umap_params/zs_euclidean_pad_0.01_1.5_10_2_specs_no_40_dB_no\n",
      "/home/mthomas/Documents/MPI_work/projects/meerkat/meerkat_umap_pv/data/interim/parameter_search/grid_search_umap_params/zs_euclidean_pad_0.01_1.5_10_3_specs_no_40_dB_no\n",
      "/home/mthomas/Documents/MPI_work/projects/meerkat/meerkat_umap_pv/data/interim/parameter_search/grid_search_umap_params/zs_euclidean_pad_0.01_1.5_10_3_specs_no_40_dB_no\n",
      "/home/mthomas/Documents/MPI_work/projects/meerkat/meerkat_umap_pv/data/interim/parameter_search/grid_search_umap_params/zs_euclidean_pad_0.01_1.5_10_4_specs_no_40_dB_no\n",
      "/home/mthomas/Documents/MPI_work/projects/meerkat/meerkat_umap_pv/data/interim/parameter_search/grid_search_umap_params/zs_euclidean_pad_0.01_1.5_10_4_specs_no_40_dB_no\n",
      "/home/mthomas/Documents/MPI_work/projects/meerkat/meerkat_umap_pv/data/interim/parameter_search/grid_search_umap_params/zs_euclidean_pad_0.01_1.5_10_5_specs_no_40_dB_no\n",
      "/home/mthomas/Documents/MPI_work/projects/meerkat/meerkat_umap_pv/data/interim/parameter_search/grid_search_umap_params/zs_euclidean_pad_0.01_1.5_10_5_specs_no_40_dB_no\n",
      "/home/mthomas/Documents/MPI_work/projects/meerkat/meerkat_umap_pv/data/interim/parameter_search/grid_search_umap_params/zs_euclidean_pad_0.01_1.5_10_6_specs_no_40_dB_no\n",
      "/home/mthomas/Documents/MPI_work/projects/meerkat/meerkat_umap_pv/data/interim/parameter_search/grid_search_umap_params/zs_euclidean_pad_0.01_1.5_10_6_specs_no_40_dB_no\n",
      "/home/mthomas/Documents/MPI_work/projects/meerkat/meerkat_umap_pv/data/interim/parameter_search/grid_search_umap_params/zs_euclidean_pad_0.01_1.5_10_7_specs_no_40_dB_no\n",
      "/home/mthomas/Documents/MPI_work/projects/meerkat/meerkat_umap_pv/data/interim/parameter_search/grid_search_umap_params/zs_euclidean_pad_0.01_1.5_10_7_specs_no_40_dB_no\n",
      "/home/mthomas/Documents/MPI_work/projects/meerkat/meerkat_umap_pv/data/interim/parameter_search/grid_search_umap_params/zs_euclidean_pad_0.01_1.5_10_8_specs_no_40_dB_no\n",
      "/home/mthomas/Documents/MPI_work/projects/meerkat/meerkat_umap_pv/data/interim/parameter_search/grid_search_umap_params/zs_euclidean_pad_0.01_1.5_10_8_specs_no_40_dB_no\n",
      "/home/mthomas/Documents/MPI_work/projects/meerkat/meerkat_umap_pv/data/interim/parameter_search/grid_search_umap_params/zs_euclidean_pad_0.01_1.5_10_9_specs_no_40_dB_no\n",
      "/home/mthomas/Documents/MPI_work/projects/meerkat/meerkat_umap_pv/data/interim/parameter_search/grid_search_umap_params/zs_euclidean_pad_0.01_1.5_10_9_specs_no_40_dB_no\n",
      "/home/mthomas/Documents/MPI_work/projects/meerkat/meerkat_umap_pv/data/interim/parameter_search/grid_search_umap_params/zs_euclidean_pad_0.01_1.5_10_10_specs_no_40_dB_no\n",
      "/home/mthomas/Documents/MPI_work/projects/meerkat/meerkat_umap_pv/data/interim/parameter_search/grid_search_umap_params/zs_euclidean_pad_0.01_1.5_10_10_specs_no_40_dB_no\n",
      "/home/mthomas/Documents/MPI_work/projects/meerkat/meerkat_umap_pv/data/interim/parameter_search/grid_search_umap_params/zs_euclidean_pad_0.1_1.5_10_2_specs_no_40_dB_no\n",
      "/home/mthomas/Documents/MPI_work/projects/meerkat/meerkat_umap_pv/data/interim/parameter_search/grid_search_umap_params/zs_euclidean_pad_0.1_1.5_10_2_specs_no_40_dB_no\n",
      "/home/mthomas/Documents/MPI_work/projects/meerkat/meerkat_umap_pv/data/interim/parameter_search/grid_search_umap_params/zs_euclidean_pad_0.1_1.5_10_3_specs_no_40_dB_no\n",
      "/home/mthomas/Documents/MPI_work/projects/meerkat/meerkat_umap_pv/data/interim/parameter_search/grid_search_umap_params/zs_euclidean_pad_0.1_1.5_10_3_specs_no_40_dB_no\n",
      "/home/mthomas/Documents/MPI_work/projects/meerkat/meerkat_umap_pv/data/interim/parameter_search/grid_search_umap_params/zs_euclidean_pad_0.1_1.5_10_4_specs_no_40_dB_no\n",
      "/home/mthomas/Documents/MPI_work/projects/meerkat/meerkat_umap_pv/data/interim/parameter_search/grid_search_umap_params/zs_euclidean_pad_0.1_1.5_10_4_specs_no_40_dB_no\n",
      "/home/mthomas/Documents/MPI_work/projects/meerkat/meerkat_umap_pv/data/interim/parameter_search/grid_search_umap_params/zs_euclidean_pad_0.1_1.5_10_5_specs_no_40_dB_no\n",
      "/home/mthomas/Documents/MPI_work/projects/meerkat/meerkat_umap_pv/data/interim/parameter_search/grid_search_umap_params/zs_euclidean_pad_0.1_1.5_10_5_specs_no_40_dB_no\n",
      "/home/mthomas/Documents/MPI_work/projects/meerkat/meerkat_umap_pv/data/interim/parameter_search/grid_search_umap_params/zs_euclidean_pad_0.1_1.5_10_6_specs_no_40_dB_no\n",
      "/home/mthomas/Documents/MPI_work/projects/meerkat/meerkat_umap_pv/data/interim/parameter_search/grid_search_umap_params/zs_euclidean_pad_0.1_1.5_10_6_specs_no_40_dB_no\n",
      "/home/mthomas/Documents/MPI_work/projects/meerkat/meerkat_umap_pv/data/interim/parameter_search/grid_search_umap_params/zs_euclidean_pad_0.1_1.5_10_7_specs_no_40_dB_no\n",
      "/home/mthomas/Documents/MPI_work/projects/meerkat/meerkat_umap_pv/data/interim/parameter_search/grid_search_umap_params/zs_euclidean_pad_0.1_1.5_10_7_specs_no_40_dB_no\n",
      "/home/mthomas/Documents/MPI_work/projects/meerkat/meerkat_umap_pv/data/interim/parameter_search/grid_search_umap_params/zs_euclidean_pad_0.1_1.5_10_8_specs_no_40_dB_no\n",
      "/home/mthomas/Documents/MPI_work/projects/meerkat/meerkat_umap_pv/data/interim/parameter_search/grid_search_umap_params/zs_euclidean_pad_0.1_1.5_10_8_specs_no_40_dB_no\n",
      "/home/mthomas/Documents/MPI_work/projects/meerkat/meerkat_umap_pv/data/interim/parameter_search/grid_search_umap_params/zs_euclidean_pad_0.1_1.5_10_9_specs_no_40_dB_no\n",
      "/home/mthomas/Documents/MPI_work/projects/meerkat/meerkat_umap_pv/data/interim/parameter_search/grid_search_umap_params/zs_euclidean_pad_0.1_1.5_10_9_specs_no_40_dB_no\n",
      "/home/mthomas/Documents/MPI_work/projects/meerkat/meerkat_umap_pv/data/interim/parameter_search/grid_search_umap_params/zs_euclidean_pad_0.1_1.5_10_10_specs_no_40_dB_no\n",
      "/home/mthomas/Documents/MPI_work/projects/meerkat/meerkat_umap_pv/data/interim/parameter_search/grid_search_umap_params/zs_euclidean_pad_0.1_1.5_10_10_specs_no_40_dB_no\n",
      "/home/mthomas/Documents/MPI_work/projects/meerkat/meerkat_umap_pv/data/interim/parameter_search/grid_search_umap_params/zs_euclidean_pad_1_1.5_10_2_specs_no_40_dB_no\n",
      "/home/mthomas/Documents/MPI_work/projects/meerkat/meerkat_umap_pv/data/interim/parameter_search/grid_search_umap_params/zs_euclidean_pad_1_1.5_10_2_specs_no_40_dB_no\n",
      "/home/mthomas/Documents/MPI_work/projects/meerkat/meerkat_umap_pv/data/interim/parameter_search/grid_search_umap_params/zs_euclidean_pad_1_1.5_10_3_specs_no_40_dB_no\n",
      "/home/mthomas/Documents/MPI_work/projects/meerkat/meerkat_umap_pv/data/interim/parameter_search/grid_search_umap_params/zs_euclidean_pad_1_1.5_10_3_specs_no_40_dB_no\n",
      "/home/mthomas/Documents/MPI_work/projects/meerkat/meerkat_umap_pv/data/interim/parameter_search/grid_search_umap_params/zs_euclidean_pad_1_1.5_10_4_specs_no_40_dB_no\n",
      "/home/mthomas/Documents/MPI_work/projects/meerkat/meerkat_umap_pv/data/interim/parameter_search/grid_search_umap_params/zs_euclidean_pad_1_1.5_10_4_specs_no_40_dB_no\n",
      "/home/mthomas/Documents/MPI_work/projects/meerkat/meerkat_umap_pv/data/interim/parameter_search/grid_search_umap_params/zs_euclidean_pad_1_1.5_10_5_specs_no_40_dB_no\n",
      "/home/mthomas/Documents/MPI_work/projects/meerkat/meerkat_umap_pv/data/interim/parameter_search/grid_search_umap_params/zs_euclidean_pad_1_1.5_10_5_specs_no_40_dB_no\n",
      "/home/mthomas/Documents/MPI_work/projects/meerkat/meerkat_umap_pv/data/interim/parameter_search/grid_search_umap_params/zs_euclidean_pad_1_1.5_10_6_specs_no_40_dB_no\n",
      "/home/mthomas/Documents/MPI_work/projects/meerkat/meerkat_umap_pv/data/interim/parameter_search/grid_search_umap_params/zs_euclidean_pad_1_1.5_10_6_specs_no_40_dB_no\n",
      "/home/mthomas/Documents/MPI_work/projects/meerkat/meerkat_umap_pv/data/interim/parameter_search/grid_search_umap_params/zs_euclidean_pad_1_1.5_10_7_specs_no_40_dB_no\n",
      "/home/mthomas/Documents/MPI_work/projects/meerkat/meerkat_umap_pv/data/interim/parameter_search/grid_search_umap_params/zs_euclidean_pad_1_1.5_10_7_specs_no_40_dB_no\n",
      "/home/mthomas/Documents/MPI_work/projects/meerkat/meerkat_umap_pv/data/interim/parameter_search/grid_search_umap_params/zs_euclidean_pad_1_1.5_10_8_specs_no_40_dB_no\n",
      "/home/mthomas/Documents/MPI_work/projects/meerkat/meerkat_umap_pv/data/interim/parameter_search/grid_search_umap_params/zs_euclidean_pad_1_1.5_10_8_specs_no_40_dB_no\n",
      "/home/mthomas/Documents/MPI_work/projects/meerkat/meerkat_umap_pv/data/interim/parameter_search/grid_search_umap_params/zs_euclidean_pad_1_1.5_10_9_specs_no_40_dB_no\n",
      "/home/mthomas/Documents/MPI_work/projects/meerkat/meerkat_umap_pv/data/interim/parameter_search/grid_search_umap_params/zs_euclidean_pad_1_1.5_10_9_specs_no_40_dB_no\n",
      "/home/mthomas/Documents/MPI_work/projects/meerkat/meerkat_umap_pv/data/interim/parameter_search/grid_search_umap_params/zs_euclidean_pad_1_1.5_10_10_specs_no_40_dB_no\n",
      "/home/mthomas/Documents/MPI_work/projects/meerkat/meerkat_umap_pv/data/interim/parameter_search/grid_search_umap_params/zs_euclidean_pad_1_1.5_10_10_specs_no_40_dB_no\n",
      "/home/mthomas/Documents/MPI_work/projects/meerkat/meerkat_umap_pv/data/interim/parameter_search/grid_search_umap_params/zs_euclidean_pad_0_1.5_15_2_specs_no_40_dB_no\n",
      "/home/mthomas/Documents/MPI_work/projects/meerkat/meerkat_umap_pv/data/interim/parameter_search/grid_search_umap_params/zs_euclidean_pad_0_1.5_15_2_specs_no_40_dB_no\n",
      "/home/mthomas/Documents/MPI_work/projects/meerkat/meerkat_umap_pv/data/interim/parameter_search/grid_search_umap_params/zs_euclidean_pad_0_1.5_15_3_specs_no_40_dB_no\n",
      "/home/mthomas/Documents/MPI_work/projects/meerkat/meerkat_umap_pv/data/interim/parameter_search/grid_search_umap_params/zs_euclidean_pad_0_1.5_15_3_specs_no_40_dB_no\n",
      "/home/mthomas/Documents/MPI_work/projects/meerkat/meerkat_umap_pv/data/interim/parameter_search/grid_search_umap_params/zs_euclidean_pad_0_1.5_15_4_specs_no_40_dB_no\n",
      "/home/mthomas/Documents/MPI_work/projects/meerkat/meerkat_umap_pv/data/interim/parameter_search/grid_search_umap_params/zs_euclidean_pad_0_1.5_15_4_specs_no_40_dB_no\n",
      "/home/mthomas/Documents/MPI_work/projects/meerkat/meerkat_umap_pv/data/interim/parameter_search/grid_search_umap_params/zs_euclidean_pad_0_1.5_15_5_specs_no_40_dB_no\n",
      "/home/mthomas/Documents/MPI_work/projects/meerkat/meerkat_umap_pv/data/interim/parameter_search/grid_search_umap_params/zs_euclidean_pad_0_1.5_15_5_specs_no_40_dB_no\n",
      "/home/mthomas/Documents/MPI_work/projects/meerkat/meerkat_umap_pv/data/interim/parameter_search/grid_search_umap_params/zs_euclidean_pad_0_1.5_15_6_specs_no_40_dB_no\n",
      "/home/mthomas/Documents/MPI_work/projects/meerkat/meerkat_umap_pv/data/interim/parameter_search/grid_search_umap_params/zs_euclidean_pad_0_1.5_15_6_specs_no_40_dB_no\n",
      "/home/mthomas/Documents/MPI_work/projects/meerkat/meerkat_umap_pv/data/interim/parameter_search/grid_search_umap_params/zs_euclidean_pad_0_1.5_15_7_specs_no_40_dB_no\n",
      "/home/mthomas/Documents/MPI_work/projects/meerkat/meerkat_umap_pv/data/interim/parameter_search/grid_search_umap_params/zs_euclidean_pad_0_1.5_15_7_specs_no_40_dB_no\n",
      "/home/mthomas/Documents/MPI_work/projects/meerkat/meerkat_umap_pv/data/interim/parameter_search/grid_search_umap_params/zs_euclidean_pad_0_1.5_15_8_specs_no_40_dB_no\n",
      "/home/mthomas/Documents/MPI_work/projects/meerkat/meerkat_umap_pv/data/interim/parameter_search/grid_search_umap_params/zs_euclidean_pad_0_1.5_15_8_specs_no_40_dB_no\n",
      "/home/mthomas/Documents/MPI_work/projects/meerkat/meerkat_umap_pv/data/interim/parameter_search/grid_search_umap_params/zs_euclidean_pad_0_1.5_15_9_specs_no_40_dB_no\n",
      "/home/mthomas/Documents/MPI_work/projects/meerkat/meerkat_umap_pv/data/interim/parameter_search/grid_search_umap_params/zs_euclidean_pad_0_1.5_15_9_specs_no_40_dB_no\n",
      "/home/mthomas/Documents/MPI_work/projects/meerkat/meerkat_umap_pv/data/interim/parameter_search/grid_search_umap_params/zs_euclidean_pad_0_1.5_15_10_specs_no_40_dB_no\n",
      "/home/mthomas/Documents/MPI_work/projects/meerkat/meerkat_umap_pv/data/interim/parameter_search/grid_search_umap_params/zs_euclidean_pad_0_1.5_15_10_specs_no_40_dB_no\n",
      "/home/mthomas/Documents/MPI_work/projects/meerkat/meerkat_umap_pv/data/interim/parameter_search/grid_search_umap_params/zs_euclidean_pad_0.001_1.5_15_2_specs_no_40_dB_no\n",
      "/home/mthomas/Documents/MPI_work/projects/meerkat/meerkat_umap_pv/data/interim/parameter_search/grid_search_umap_params/zs_euclidean_pad_0.001_1.5_15_2_specs_no_40_dB_no\n",
      "/home/mthomas/Documents/MPI_work/projects/meerkat/meerkat_umap_pv/data/interim/parameter_search/grid_search_umap_params/zs_euclidean_pad_0.001_1.5_15_3_specs_no_40_dB_no\n",
      "/home/mthomas/Documents/MPI_work/projects/meerkat/meerkat_umap_pv/data/interim/parameter_search/grid_search_umap_params/zs_euclidean_pad_0.001_1.5_15_3_specs_no_40_dB_no\n",
      "/home/mthomas/Documents/MPI_work/projects/meerkat/meerkat_umap_pv/data/interim/parameter_search/grid_search_umap_params/zs_euclidean_pad_0.001_1.5_15_4_specs_no_40_dB_no\n",
      "/home/mthomas/Documents/MPI_work/projects/meerkat/meerkat_umap_pv/data/interim/parameter_search/grid_search_umap_params/zs_euclidean_pad_0.001_1.5_15_4_specs_no_40_dB_no\n",
      "/home/mthomas/Documents/MPI_work/projects/meerkat/meerkat_umap_pv/data/interim/parameter_search/grid_search_umap_params/zs_euclidean_pad_0.001_1.5_15_5_specs_no_40_dB_no\n",
      "/home/mthomas/Documents/MPI_work/projects/meerkat/meerkat_umap_pv/data/interim/parameter_search/grid_search_umap_params/zs_euclidean_pad_0.001_1.5_15_5_specs_no_40_dB_no\n",
      "/home/mthomas/Documents/MPI_work/projects/meerkat/meerkat_umap_pv/data/interim/parameter_search/grid_search_umap_params/zs_euclidean_pad_0.001_1.5_15_6_specs_no_40_dB_no\n",
      "/home/mthomas/Documents/MPI_work/projects/meerkat/meerkat_umap_pv/data/interim/parameter_search/grid_search_umap_params/zs_euclidean_pad_0.001_1.5_15_6_specs_no_40_dB_no\n",
      "/home/mthomas/Documents/MPI_work/projects/meerkat/meerkat_umap_pv/data/interim/parameter_search/grid_search_umap_params/zs_euclidean_pad_0.001_1.5_15_7_specs_no_40_dB_no\n",
      "/home/mthomas/Documents/MPI_work/projects/meerkat/meerkat_umap_pv/data/interim/parameter_search/grid_search_umap_params/zs_euclidean_pad_0.001_1.5_15_7_specs_no_40_dB_no\n",
      "/home/mthomas/Documents/MPI_work/projects/meerkat/meerkat_umap_pv/data/interim/parameter_search/grid_search_umap_params/zs_euclidean_pad_0.001_1.5_15_8_specs_no_40_dB_no\n",
      "/home/mthomas/Documents/MPI_work/projects/meerkat/meerkat_umap_pv/data/interim/parameter_search/grid_search_umap_params/zs_euclidean_pad_0.001_1.5_15_8_specs_no_40_dB_no\n",
      "/home/mthomas/Documents/MPI_work/projects/meerkat/meerkat_umap_pv/data/interim/parameter_search/grid_search_umap_params/zs_euclidean_pad_0.001_1.5_15_9_specs_no_40_dB_no\n",
      "/home/mthomas/Documents/MPI_work/projects/meerkat/meerkat_umap_pv/data/interim/parameter_search/grid_search_umap_params/zs_euclidean_pad_0.001_1.5_15_9_specs_no_40_dB_no\n",
      "/home/mthomas/Documents/MPI_work/projects/meerkat/meerkat_umap_pv/data/interim/parameter_search/grid_search_umap_params/zs_euclidean_pad_0.001_1.5_15_10_specs_no_40_dB_no\n",
      "/home/mthomas/Documents/MPI_work/projects/meerkat/meerkat_umap_pv/data/interim/parameter_search/grid_search_umap_params/zs_euclidean_pad_0.001_1.5_15_10_specs_no_40_dB_no\n",
      "/home/mthomas/Documents/MPI_work/projects/meerkat/meerkat_umap_pv/data/interim/parameter_search/grid_search_umap_params/zs_euclidean_pad_0.01_1.5_15_2_specs_no_40_dB_no\n",
      "/home/mthomas/Documents/MPI_work/projects/meerkat/meerkat_umap_pv/data/interim/parameter_search/grid_search_umap_params/zs_euclidean_pad_0.01_1.5_15_2_specs_no_40_dB_no\n",
      "/home/mthomas/Documents/MPI_work/projects/meerkat/meerkat_umap_pv/data/interim/parameter_search/grid_search_umap_params/zs_euclidean_pad_0.01_1.5_15_3_specs_no_40_dB_no\n",
      "/home/mthomas/Documents/MPI_work/projects/meerkat/meerkat_umap_pv/data/interim/parameter_search/grid_search_umap_params/zs_euclidean_pad_0.01_1.5_15_3_specs_no_40_dB_no\n",
      "/home/mthomas/Documents/MPI_work/projects/meerkat/meerkat_umap_pv/data/interim/parameter_search/grid_search_umap_params/zs_euclidean_pad_0.01_1.5_15_4_specs_no_40_dB_no\n",
      "/home/mthomas/Documents/MPI_work/projects/meerkat/meerkat_umap_pv/data/interim/parameter_search/grid_search_umap_params/zs_euclidean_pad_0.01_1.5_15_4_specs_no_40_dB_no\n",
      "/home/mthomas/Documents/MPI_work/projects/meerkat/meerkat_umap_pv/data/interim/parameter_search/grid_search_umap_params/zs_euclidean_pad_0.01_1.5_15_5_specs_no_40_dB_no\n",
      "/home/mthomas/Documents/MPI_work/projects/meerkat/meerkat_umap_pv/data/interim/parameter_search/grid_search_umap_params/zs_euclidean_pad_0.01_1.5_15_5_specs_no_40_dB_no\n",
      "/home/mthomas/Documents/MPI_work/projects/meerkat/meerkat_umap_pv/data/interim/parameter_search/grid_search_umap_params/zs_euclidean_pad_0.01_1.5_15_6_specs_no_40_dB_no\n",
      "/home/mthomas/Documents/MPI_work/projects/meerkat/meerkat_umap_pv/data/interim/parameter_search/grid_search_umap_params/zs_euclidean_pad_0.01_1.5_15_6_specs_no_40_dB_no\n",
      "/home/mthomas/Documents/MPI_work/projects/meerkat/meerkat_umap_pv/data/interim/parameter_search/grid_search_umap_params/zs_euclidean_pad_0.01_1.5_15_7_specs_no_40_dB_no\n",
      "/home/mthomas/Documents/MPI_work/projects/meerkat/meerkat_umap_pv/data/interim/parameter_search/grid_search_umap_params/zs_euclidean_pad_0.01_1.5_15_7_specs_no_40_dB_no\n",
      "/home/mthomas/Documents/MPI_work/projects/meerkat/meerkat_umap_pv/data/interim/parameter_search/grid_search_umap_params/zs_euclidean_pad_0.01_1.5_15_8_specs_no_40_dB_no\n",
      "/home/mthomas/Documents/MPI_work/projects/meerkat/meerkat_umap_pv/data/interim/parameter_search/grid_search_umap_params/zs_euclidean_pad_0.01_1.5_15_8_specs_no_40_dB_no\n",
      "/home/mthomas/Documents/MPI_work/projects/meerkat/meerkat_umap_pv/data/interim/parameter_search/grid_search_umap_params/zs_euclidean_pad_0.01_1.5_15_9_specs_no_40_dB_no\n",
      "/home/mthomas/Documents/MPI_work/projects/meerkat/meerkat_umap_pv/data/interim/parameter_search/grid_search_umap_params/zs_euclidean_pad_0.01_1.5_15_9_specs_no_40_dB_no\n",
      "/home/mthomas/Documents/MPI_work/projects/meerkat/meerkat_umap_pv/data/interim/parameter_search/grid_search_umap_params/zs_euclidean_pad_0.01_1.5_15_10_specs_no_40_dB_no\n",
      "/home/mthomas/Documents/MPI_work/projects/meerkat/meerkat_umap_pv/data/interim/parameter_search/grid_search_umap_params/zs_euclidean_pad_0.01_1.5_15_10_specs_no_40_dB_no\n",
      "/home/mthomas/Documents/MPI_work/projects/meerkat/meerkat_umap_pv/data/interim/parameter_search/grid_search_umap_params/zs_euclidean_pad_0.1_1.5_15_2_specs_no_40_dB_no\n",
      "/home/mthomas/Documents/MPI_work/projects/meerkat/meerkat_umap_pv/data/interim/parameter_search/grid_search_umap_params/zs_euclidean_pad_0.1_1.5_15_2_specs_no_40_dB_no\n",
      "/home/mthomas/Documents/MPI_work/projects/meerkat/meerkat_umap_pv/data/interim/parameter_search/grid_search_umap_params/zs_euclidean_pad_0.1_1.5_15_3_specs_no_40_dB_no\n",
      "/home/mthomas/Documents/MPI_work/projects/meerkat/meerkat_umap_pv/data/interim/parameter_search/grid_search_umap_params/zs_euclidean_pad_0.1_1.5_15_3_specs_no_40_dB_no\n",
      "/home/mthomas/Documents/MPI_work/projects/meerkat/meerkat_umap_pv/data/interim/parameter_search/grid_search_umap_params/zs_euclidean_pad_0.1_1.5_15_4_specs_no_40_dB_no\n",
      "/home/mthomas/Documents/MPI_work/projects/meerkat/meerkat_umap_pv/data/interim/parameter_search/grid_search_umap_params/zs_euclidean_pad_0.1_1.5_15_4_specs_no_40_dB_no\n",
      "/home/mthomas/Documents/MPI_work/projects/meerkat/meerkat_umap_pv/data/interim/parameter_search/grid_search_umap_params/zs_euclidean_pad_0.1_1.5_15_5_specs_no_40_dB_no\n",
      "/home/mthomas/Documents/MPI_work/projects/meerkat/meerkat_umap_pv/data/interim/parameter_search/grid_search_umap_params/zs_euclidean_pad_0.1_1.5_15_5_specs_no_40_dB_no\n",
      "/home/mthomas/Documents/MPI_work/projects/meerkat/meerkat_umap_pv/data/interim/parameter_search/grid_search_umap_params/zs_euclidean_pad_0.1_1.5_15_6_specs_no_40_dB_no\n",
      "/home/mthomas/Documents/MPI_work/projects/meerkat/meerkat_umap_pv/data/interim/parameter_search/grid_search_umap_params/zs_euclidean_pad_0.1_1.5_15_6_specs_no_40_dB_no\n",
      "/home/mthomas/Documents/MPI_work/projects/meerkat/meerkat_umap_pv/data/interim/parameter_search/grid_search_umap_params/zs_euclidean_pad_0.1_1.5_15_7_specs_no_40_dB_no\n",
      "/home/mthomas/Documents/MPI_work/projects/meerkat/meerkat_umap_pv/data/interim/parameter_search/grid_search_umap_params/zs_euclidean_pad_0.1_1.5_15_7_specs_no_40_dB_no\n",
      "/home/mthomas/Documents/MPI_work/projects/meerkat/meerkat_umap_pv/data/interim/parameter_search/grid_search_umap_params/zs_euclidean_pad_0.1_1.5_15_8_specs_no_40_dB_no\n",
      "/home/mthomas/Documents/MPI_work/projects/meerkat/meerkat_umap_pv/data/interim/parameter_search/grid_search_umap_params/zs_euclidean_pad_0.1_1.5_15_8_specs_no_40_dB_no\n",
      "/home/mthomas/Documents/MPI_work/projects/meerkat/meerkat_umap_pv/data/interim/parameter_search/grid_search_umap_params/zs_euclidean_pad_0.1_1.5_15_9_specs_no_40_dB_no\n",
      "/home/mthomas/Documents/MPI_work/projects/meerkat/meerkat_umap_pv/data/interim/parameter_search/grid_search_umap_params/zs_euclidean_pad_0.1_1.5_15_9_specs_no_40_dB_no\n",
      "/home/mthomas/Documents/MPI_work/projects/meerkat/meerkat_umap_pv/data/interim/parameter_search/grid_search_umap_params/zs_euclidean_pad_0.1_1.5_15_10_specs_no_40_dB_no\n",
      "/home/mthomas/Documents/MPI_work/projects/meerkat/meerkat_umap_pv/data/interim/parameter_search/grid_search_umap_params/zs_euclidean_pad_0.1_1.5_15_10_specs_no_40_dB_no\n",
      "/home/mthomas/Documents/MPI_work/projects/meerkat/meerkat_umap_pv/data/interim/parameter_search/grid_search_umap_params/zs_euclidean_pad_1_1.5_15_2_specs_no_40_dB_no\n",
      "/home/mthomas/Documents/MPI_work/projects/meerkat/meerkat_umap_pv/data/interim/parameter_search/grid_search_umap_params/zs_euclidean_pad_1_1.5_15_2_specs_no_40_dB_no\n",
      "/home/mthomas/Documents/MPI_work/projects/meerkat/meerkat_umap_pv/data/interim/parameter_search/grid_search_umap_params/zs_euclidean_pad_1_1.5_15_3_specs_no_40_dB_no\n",
      "/home/mthomas/Documents/MPI_work/projects/meerkat/meerkat_umap_pv/data/interim/parameter_search/grid_search_umap_params/zs_euclidean_pad_1_1.5_15_3_specs_no_40_dB_no\n",
      "/home/mthomas/Documents/MPI_work/projects/meerkat/meerkat_umap_pv/data/interim/parameter_search/grid_search_umap_params/zs_euclidean_pad_1_1.5_15_4_specs_no_40_dB_no\n",
      "/home/mthomas/Documents/MPI_work/projects/meerkat/meerkat_umap_pv/data/interim/parameter_search/grid_search_umap_params/zs_euclidean_pad_1_1.5_15_4_specs_no_40_dB_no\n",
      "/home/mthomas/Documents/MPI_work/projects/meerkat/meerkat_umap_pv/data/interim/parameter_search/grid_search_umap_params/zs_euclidean_pad_1_1.5_15_5_specs_no_40_dB_no\n",
      "/home/mthomas/Documents/MPI_work/projects/meerkat/meerkat_umap_pv/data/interim/parameter_search/grid_search_umap_params/zs_euclidean_pad_1_1.5_15_5_specs_no_40_dB_no\n",
      "/home/mthomas/Documents/MPI_work/projects/meerkat/meerkat_umap_pv/data/interim/parameter_search/grid_search_umap_params/zs_euclidean_pad_1_1.5_15_6_specs_no_40_dB_no\n",
      "/home/mthomas/Documents/MPI_work/projects/meerkat/meerkat_umap_pv/data/interim/parameter_search/grid_search_umap_params/zs_euclidean_pad_1_1.5_15_6_specs_no_40_dB_no\n",
      "/home/mthomas/Documents/MPI_work/projects/meerkat/meerkat_umap_pv/data/interim/parameter_search/grid_search_umap_params/zs_euclidean_pad_1_1.5_15_7_specs_no_40_dB_no\n",
      "/home/mthomas/Documents/MPI_work/projects/meerkat/meerkat_umap_pv/data/interim/parameter_search/grid_search_umap_params/zs_euclidean_pad_1_1.5_15_7_specs_no_40_dB_no\n",
      "/home/mthomas/Documents/MPI_work/projects/meerkat/meerkat_umap_pv/data/interim/parameter_search/grid_search_umap_params/zs_euclidean_pad_1_1.5_15_8_specs_no_40_dB_no\n",
      "/home/mthomas/Documents/MPI_work/projects/meerkat/meerkat_umap_pv/data/interim/parameter_search/grid_search_umap_params/zs_euclidean_pad_1_1.5_15_8_specs_no_40_dB_no\n",
      "/home/mthomas/Documents/MPI_work/projects/meerkat/meerkat_umap_pv/data/interim/parameter_search/grid_search_umap_params/zs_euclidean_pad_1_1.5_15_9_specs_no_40_dB_no\n",
      "/home/mthomas/Documents/MPI_work/projects/meerkat/meerkat_umap_pv/data/interim/parameter_search/grid_search_umap_params/zs_euclidean_pad_1_1.5_15_9_specs_no_40_dB_no\n",
      "/home/mthomas/Documents/MPI_work/projects/meerkat/meerkat_umap_pv/data/interim/parameter_search/grid_search_umap_params/zs_euclidean_pad_1_1.5_15_10_specs_no_40_dB_no\n",
      "/home/mthomas/Documents/MPI_work/projects/meerkat/meerkat_umap_pv/data/interim/parameter_search/grid_search_umap_params/zs_euclidean_pad_1_1.5_15_10_specs_no_40_dB_no\n",
      "/home/mthomas/Documents/MPI_work/projects/meerkat/meerkat_umap_pv/data/interim/parameter_search/grid_search_umap_params/zs_euclidean_pad_0_1.5_30_2_specs_no_40_dB_no\n",
      "/home/mthomas/Documents/MPI_work/projects/meerkat/meerkat_umap_pv/data/interim/parameter_search/grid_search_umap_params/zs_euclidean_pad_0_1.5_30_2_specs_no_40_dB_no\n",
      "/home/mthomas/Documents/MPI_work/projects/meerkat/meerkat_umap_pv/data/interim/parameter_search/grid_search_umap_params/zs_euclidean_pad_0_1.5_30_3_specs_no_40_dB_no\n",
      "/home/mthomas/Documents/MPI_work/projects/meerkat/meerkat_umap_pv/data/interim/parameter_search/grid_search_umap_params/zs_euclidean_pad_0_1.5_30_3_specs_no_40_dB_no\n",
      "/home/mthomas/Documents/MPI_work/projects/meerkat/meerkat_umap_pv/data/interim/parameter_search/grid_search_umap_params/zs_euclidean_pad_0_1.5_30_4_specs_no_40_dB_no\n",
      "/home/mthomas/Documents/MPI_work/projects/meerkat/meerkat_umap_pv/data/interim/parameter_search/grid_search_umap_params/zs_euclidean_pad_0_1.5_30_4_specs_no_40_dB_no\n",
      "/home/mthomas/Documents/MPI_work/projects/meerkat/meerkat_umap_pv/data/interim/parameter_search/grid_search_umap_params/zs_euclidean_pad_0_1.5_30_5_specs_no_40_dB_no\n",
      "/home/mthomas/Documents/MPI_work/projects/meerkat/meerkat_umap_pv/data/interim/parameter_search/grid_search_umap_params/zs_euclidean_pad_0_1.5_30_5_specs_no_40_dB_no\n",
      "/home/mthomas/Documents/MPI_work/projects/meerkat/meerkat_umap_pv/data/interim/parameter_search/grid_search_umap_params/zs_euclidean_pad_0_1.5_30_6_specs_no_40_dB_no\n",
      "/home/mthomas/Documents/MPI_work/projects/meerkat/meerkat_umap_pv/data/interim/parameter_search/grid_search_umap_params/zs_euclidean_pad_0_1.5_30_6_specs_no_40_dB_no\n",
      "/home/mthomas/Documents/MPI_work/projects/meerkat/meerkat_umap_pv/data/interim/parameter_search/grid_search_umap_params/zs_euclidean_pad_0_1.5_30_7_specs_no_40_dB_no\n",
      "/home/mthomas/Documents/MPI_work/projects/meerkat/meerkat_umap_pv/data/interim/parameter_search/grid_search_umap_params/zs_euclidean_pad_0_1.5_30_7_specs_no_40_dB_no\n",
      "/home/mthomas/Documents/MPI_work/projects/meerkat/meerkat_umap_pv/data/interim/parameter_search/grid_search_umap_params/zs_euclidean_pad_0_1.5_30_8_specs_no_40_dB_no\n",
      "/home/mthomas/Documents/MPI_work/projects/meerkat/meerkat_umap_pv/data/interim/parameter_search/grid_search_umap_params/zs_euclidean_pad_0_1.5_30_8_specs_no_40_dB_no\n",
      "/home/mthomas/Documents/MPI_work/projects/meerkat/meerkat_umap_pv/data/interim/parameter_search/grid_search_umap_params/zs_euclidean_pad_0_1.5_30_9_specs_no_40_dB_no\n",
      "/home/mthomas/Documents/MPI_work/projects/meerkat/meerkat_umap_pv/data/interim/parameter_search/grid_search_umap_params/zs_euclidean_pad_0_1.5_30_9_specs_no_40_dB_no\n",
      "/home/mthomas/Documents/MPI_work/projects/meerkat/meerkat_umap_pv/data/interim/parameter_search/grid_search_umap_params/zs_euclidean_pad_0_1.5_30_10_specs_no_40_dB_no\n",
      "/home/mthomas/Documents/MPI_work/projects/meerkat/meerkat_umap_pv/data/interim/parameter_search/grid_search_umap_params/zs_euclidean_pad_0_1.5_30_10_specs_no_40_dB_no\n",
      "/home/mthomas/Documents/MPI_work/projects/meerkat/meerkat_umap_pv/data/interim/parameter_search/grid_search_umap_params/zs_euclidean_pad_0.001_1.5_30_2_specs_no_40_dB_no\n",
      "/home/mthomas/Documents/MPI_work/projects/meerkat/meerkat_umap_pv/data/interim/parameter_search/grid_search_umap_params/zs_euclidean_pad_0.001_1.5_30_2_specs_no_40_dB_no\n",
      "/home/mthomas/Documents/MPI_work/projects/meerkat/meerkat_umap_pv/data/interim/parameter_search/grid_search_umap_params/zs_euclidean_pad_0.001_1.5_30_3_specs_no_40_dB_no\n",
      "/home/mthomas/Documents/MPI_work/projects/meerkat/meerkat_umap_pv/data/interim/parameter_search/grid_search_umap_params/zs_euclidean_pad_0.001_1.5_30_3_specs_no_40_dB_no\n",
      "/home/mthomas/Documents/MPI_work/projects/meerkat/meerkat_umap_pv/data/interim/parameter_search/grid_search_umap_params/zs_euclidean_pad_0.001_1.5_30_4_specs_no_40_dB_no\n",
      "/home/mthomas/Documents/MPI_work/projects/meerkat/meerkat_umap_pv/data/interim/parameter_search/grid_search_umap_params/zs_euclidean_pad_0.001_1.5_30_4_specs_no_40_dB_no\n",
      "/home/mthomas/Documents/MPI_work/projects/meerkat/meerkat_umap_pv/data/interim/parameter_search/grid_search_umap_params/zs_euclidean_pad_0.001_1.5_30_5_specs_no_40_dB_no\n",
      "/home/mthomas/Documents/MPI_work/projects/meerkat/meerkat_umap_pv/data/interim/parameter_search/grid_search_umap_params/zs_euclidean_pad_0.001_1.5_30_5_specs_no_40_dB_no\n",
      "/home/mthomas/Documents/MPI_work/projects/meerkat/meerkat_umap_pv/data/interim/parameter_search/grid_search_umap_params/zs_euclidean_pad_0.001_1.5_30_6_specs_no_40_dB_no\n",
      "/home/mthomas/Documents/MPI_work/projects/meerkat/meerkat_umap_pv/data/interim/parameter_search/grid_search_umap_params/zs_euclidean_pad_0.001_1.5_30_6_specs_no_40_dB_no\n",
      "/home/mthomas/Documents/MPI_work/projects/meerkat/meerkat_umap_pv/data/interim/parameter_search/grid_search_umap_params/zs_euclidean_pad_0.001_1.5_30_7_specs_no_40_dB_no\n",
      "/home/mthomas/Documents/MPI_work/projects/meerkat/meerkat_umap_pv/data/interim/parameter_search/grid_search_umap_params/zs_euclidean_pad_0.001_1.5_30_7_specs_no_40_dB_no\n",
      "/home/mthomas/Documents/MPI_work/projects/meerkat/meerkat_umap_pv/data/interim/parameter_search/grid_search_umap_params/zs_euclidean_pad_0.001_1.5_30_8_specs_no_40_dB_no\n",
      "/home/mthomas/Documents/MPI_work/projects/meerkat/meerkat_umap_pv/data/interim/parameter_search/grid_search_umap_params/zs_euclidean_pad_0.001_1.5_30_8_specs_no_40_dB_no\n",
      "/home/mthomas/Documents/MPI_work/projects/meerkat/meerkat_umap_pv/data/interim/parameter_search/grid_search_umap_params/zs_euclidean_pad_0.001_1.5_30_9_specs_no_40_dB_no\n",
      "/home/mthomas/Documents/MPI_work/projects/meerkat/meerkat_umap_pv/data/interim/parameter_search/grid_search_umap_params/zs_euclidean_pad_0.001_1.5_30_9_specs_no_40_dB_no\n",
      "/home/mthomas/Documents/MPI_work/projects/meerkat/meerkat_umap_pv/data/interim/parameter_search/grid_search_umap_params/zs_euclidean_pad_0.001_1.5_30_10_specs_no_40_dB_no\n",
      "/home/mthomas/Documents/MPI_work/projects/meerkat/meerkat_umap_pv/data/interim/parameter_search/grid_search_umap_params/zs_euclidean_pad_0.001_1.5_30_10_specs_no_40_dB_no\n",
      "/home/mthomas/Documents/MPI_work/projects/meerkat/meerkat_umap_pv/data/interim/parameter_search/grid_search_umap_params/zs_euclidean_pad_0.01_1.5_30_2_specs_no_40_dB_no\n",
      "/home/mthomas/Documents/MPI_work/projects/meerkat/meerkat_umap_pv/data/interim/parameter_search/grid_search_umap_params/zs_euclidean_pad_0.01_1.5_30_2_specs_no_40_dB_no\n",
      "/home/mthomas/Documents/MPI_work/projects/meerkat/meerkat_umap_pv/data/interim/parameter_search/grid_search_umap_params/zs_euclidean_pad_0.01_1.5_30_3_specs_no_40_dB_no\n",
      "/home/mthomas/Documents/MPI_work/projects/meerkat/meerkat_umap_pv/data/interim/parameter_search/grid_search_umap_params/zs_euclidean_pad_0.01_1.5_30_3_specs_no_40_dB_no\n",
      "/home/mthomas/Documents/MPI_work/projects/meerkat/meerkat_umap_pv/data/interim/parameter_search/grid_search_umap_params/zs_euclidean_pad_0.01_1.5_30_4_specs_no_40_dB_no\n",
      "/home/mthomas/Documents/MPI_work/projects/meerkat/meerkat_umap_pv/data/interim/parameter_search/grid_search_umap_params/zs_euclidean_pad_0.01_1.5_30_4_specs_no_40_dB_no\n",
      "/home/mthomas/Documents/MPI_work/projects/meerkat/meerkat_umap_pv/data/interim/parameter_search/grid_search_umap_params/zs_euclidean_pad_0.01_1.5_30_5_specs_no_40_dB_no\n",
      "/home/mthomas/Documents/MPI_work/projects/meerkat/meerkat_umap_pv/data/interim/parameter_search/grid_search_umap_params/zs_euclidean_pad_0.01_1.5_30_5_specs_no_40_dB_no\n",
      "/home/mthomas/Documents/MPI_work/projects/meerkat/meerkat_umap_pv/data/interim/parameter_search/grid_search_umap_params/zs_euclidean_pad_0.01_1.5_30_6_specs_no_40_dB_no\n",
      "/home/mthomas/Documents/MPI_work/projects/meerkat/meerkat_umap_pv/data/interim/parameter_search/grid_search_umap_params/zs_euclidean_pad_0.01_1.5_30_6_specs_no_40_dB_no\n",
      "/home/mthomas/Documents/MPI_work/projects/meerkat/meerkat_umap_pv/data/interim/parameter_search/grid_search_umap_params/zs_euclidean_pad_0.01_1.5_30_7_specs_no_40_dB_no\n",
      "/home/mthomas/Documents/MPI_work/projects/meerkat/meerkat_umap_pv/data/interim/parameter_search/grid_search_umap_params/zs_euclidean_pad_0.01_1.5_30_7_specs_no_40_dB_no\n",
      "/home/mthomas/Documents/MPI_work/projects/meerkat/meerkat_umap_pv/data/interim/parameter_search/grid_search_umap_params/zs_euclidean_pad_0.01_1.5_30_8_specs_no_40_dB_no\n",
      "/home/mthomas/Documents/MPI_work/projects/meerkat/meerkat_umap_pv/data/interim/parameter_search/grid_search_umap_params/zs_euclidean_pad_0.01_1.5_30_8_specs_no_40_dB_no\n",
      "/home/mthomas/Documents/MPI_work/projects/meerkat/meerkat_umap_pv/data/interim/parameter_search/grid_search_umap_params/zs_euclidean_pad_0.01_1.5_30_9_specs_no_40_dB_no\n",
      "/home/mthomas/Documents/MPI_work/projects/meerkat/meerkat_umap_pv/data/interim/parameter_search/grid_search_umap_params/zs_euclidean_pad_0.01_1.5_30_9_specs_no_40_dB_no\n",
      "/home/mthomas/Documents/MPI_work/projects/meerkat/meerkat_umap_pv/data/interim/parameter_search/grid_search_umap_params/zs_euclidean_pad_0.01_1.5_30_10_specs_no_40_dB_no\n",
      "/home/mthomas/Documents/MPI_work/projects/meerkat/meerkat_umap_pv/data/interim/parameter_search/grid_search_umap_params/zs_euclidean_pad_0.01_1.5_30_10_specs_no_40_dB_no\n",
      "/home/mthomas/Documents/MPI_work/projects/meerkat/meerkat_umap_pv/data/interim/parameter_search/grid_search_umap_params/zs_euclidean_pad_0.1_1.5_30_2_specs_no_40_dB_no\n",
      "/home/mthomas/Documents/MPI_work/projects/meerkat/meerkat_umap_pv/data/interim/parameter_search/grid_search_umap_params/zs_euclidean_pad_0.1_1.5_30_2_specs_no_40_dB_no\n",
      "/home/mthomas/Documents/MPI_work/projects/meerkat/meerkat_umap_pv/data/interim/parameter_search/grid_search_umap_params/zs_euclidean_pad_0.1_1.5_30_3_specs_no_40_dB_no\n",
      "/home/mthomas/Documents/MPI_work/projects/meerkat/meerkat_umap_pv/data/interim/parameter_search/grid_search_umap_params/zs_euclidean_pad_0.1_1.5_30_3_specs_no_40_dB_no\n",
      "/home/mthomas/Documents/MPI_work/projects/meerkat/meerkat_umap_pv/data/interim/parameter_search/grid_search_umap_params/zs_euclidean_pad_0.1_1.5_30_4_specs_no_40_dB_no\n",
      "/home/mthomas/Documents/MPI_work/projects/meerkat/meerkat_umap_pv/data/interim/parameter_search/grid_search_umap_params/zs_euclidean_pad_0.1_1.5_30_4_specs_no_40_dB_no\n",
      "/home/mthomas/Documents/MPI_work/projects/meerkat/meerkat_umap_pv/data/interim/parameter_search/grid_search_umap_params/zs_euclidean_pad_0.1_1.5_30_5_specs_no_40_dB_no\n",
      "/home/mthomas/Documents/MPI_work/projects/meerkat/meerkat_umap_pv/data/interim/parameter_search/grid_search_umap_params/zs_euclidean_pad_0.1_1.5_30_5_specs_no_40_dB_no\n",
      "/home/mthomas/Documents/MPI_work/projects/meerkat/meerkat_umap_pv/data/interim/parameter_search/grid_search_umap_params/zs_euclidean_pad_0.1_1.5_30_6_specs_no_40_dB_no\n",
      "/home/mthomas/Documents/MPI_work/projects/meerkat/meerkat_umap_pv/data/interim/parameter_search/grid_search_umap_params/zs_euclidean_pad_0.1_1.5_30_6_specs_no_40_dB_no\n",
      "/home/mthomas/Documents/MPI_work/projects/meerkat/meerkat_umap_pv/data/interim/parameter_search/grid_search_umap_params/zs_euclidean_pad_0.1_1.5_30_7_specs_no_40_dB_no\n",
      "/home/mthomas/Documents/MPI_work/projects/meerkat/meerkat_umap_pv/data/interim/parameter_search/grid_search_umap_params/zs_euclidean_pad_0.1_1.5_30_7_specs_no_40_dB_no\n",
      "/home/mthomas/Documents/MPI_work/projects/meerkat/meerkat_umap_pv/data/interim/parameter_search/grid_search_umap_params/zs_euclidean_pad_0.1_1.5_30_8_specs_no_40_dB_no\n",
      "/home/mthomas/Documents/MPI_work/projects/meerkat/meerkat_umap_pv/data/interim/parameter_search/grid_search_umap_params/zs_euclidean_pad_0.1_1.5_30_8_specs_no_40_dB_no\n",
      "/home/mthomas/Documents/MPI_work/projects/meerkat/meerkat_umap_pv/data/interim/parameter_search/grid_search_umap_params/zs_euclidean_pad_0.1_1.5_30_9_specs_no_40_dB_no\n",
      "/home/mthomas/Documents/MPI_work/projects/meerkat/meerkat_umap_pv/data/interim/parameter_search/grid_search_umap_params/zs_euclidean_pad_0.1_1.5_30_9_specs_no_40_dB_no\n",
      "/home/mthomas/Documents/MPI_work/projects/meerkat/meerkat_umap_pv/data/interim/parameter_search/grid_search_umap_params/zs_euclidean_pad_0.1_1.5_30_10_specs_no_40_dB_no\n",
      "/home/mthomas/Documents/MPI_work/projects/meerkat/meerkat_umap_pv/data/interim/parameter_search/grid_search_umap_params/zs_euclidean_pad_0.1_1.5_30_10_specs_no_40_dB_no\n",
      "/home/mthomas/Documents/MPI_work/projects/meerkat/meerkat_umap_pv/data/interim/parameter_search/grid_search_umap_params/zs_euclidean_pad_1_1.5_30_2_specs_no_40_dB_no\n",
      "/home/mthomas/Documents/MPI_work/projects/meerkat/meerkat_umap_pv/data/interim/parameter_search/grid_search_umap_params/zs_euclidean_pad_1_1.5_30_2_specs_no_40_dB_no\n",
      "/home/mthomas/Documents/MPI_work/projects/meerkat/meerkat_umap_pv/data/interim/parameter_search/grid_search_umap_params/zs_euclidean_pad_1_1.5_30_3_specs_no_40_dB_no\n",
      "/home/mthomas/Documents/MPI_work/projects/meerkat/meerkat_umap_pv/data/interim/parameter_search/grid_search_umap_params/zs_euclidean_pad_1_1.5_30_3_specs_no_40_dB_no\n",
      "/home/mthomas/Documents/MPI_work/projects/meerkat/meerkat_umap_pv/data/interim/parameter_search/grid_search_umap_params/zs_euclidean_pad_1_1.5_30_4_specs_no_40_dB_no\n",
      "/home/mthomas/Documents/MPI_work/projects/meerkat/meerkat_umap_pv/data/interim/parameter_search/grid_search_umap_params/zs_euclidean_pad_1_1.5_30_4_specs_no_40_dB_no\n",
      "/home/mthomas/Documents/MPI_work/projects/meerkat/meerkat_umap_pv/data/interim/parameter_search/grid_search_umap_params/zs_euclidean_pad_1_1.5_30_5_specs_no_40_dB_no\n",
      "/home/mthomas/Documents/MPI_work/projects/meerkat/meerkat_umap_pv/data/interim/parameter_search/grid_search_umap_params/zs_euclidean_pad_1_1.5_30_5_specs_no_40_dB_no\n",
      "/home/mthomas/Documents/MPI_work/projects/meerkat/meerkat_umap_pv/data/interim/parameter_search/grid_search_umap_params/zs_euclidean_pad_1_1.5_30_6_specs_no_40_dB_no\n",
      "/home/mthomas/Documents/MPI_work/projects/meerkat/meerkat_umap_pv/data/interim/parameter_search/grid_search_umap_params/zs_euclidean_pad_1_1.5_30_6_specs_no_40_dB_no\n",
      "/home/mthomas/Documents/MPI_work/projects/meerkat/meerkat_umap_pv/data/interim/parameter_search/grid_search_umap_params/zs_euclidean_pad_1_1.5_30_7_specs_no_40_dB_no\n",
      "/home/mthomas/Documents/MPI_work/projects/meerkat/meerkat_umap_pv/data/interim/parameter_search/grid_search_umap_params/zs_euclidean_pad_1_1.5_30_7_specs_no_40_dB_no\n",
      "/home/mthomas/Documents/MPI_work/projects/meerkat/meerkat_umap_pv/data/interim/parameter_search/grid_search_umap_params/zs_euclidean_pad_1_1.5_30_8_specs_no_40_dB_no\n",
      "/home/mthomas/Documents/MPI_work/projects/meerkat/meerkat_umap_pv/data/interim/parameter_search/grid_search_umap_params/zs_euclidean_pad_1_1.5_30_8_specs_no_40_dB_no\n",
      "/home/mthomas/Documents/MPI_work/projects/meerkat/meerkat_umap_pv/data/interim/parameter_search/grid_search_umap_params/zs_euclidean_pad_1_1.5_30_9_specs_no_40_dB_no\n",
      "/home/mthomas/Documents/MPI_work/projects/meerkat/meerkat_umap_pv/data/interim/parameter_search/grid_search_umap_params/zs_euclidean_pad_1_1.5_30_9_specs_no_40_dB_no\n",
      "/home/mthomas/Documents/MPI_work/projects/meerkat/meerkat_umap_pv/data/interim/parameter_search/grid_search_umap_params/zs_euclidean_pad_1_1.5_30_10_specs_no_40_dB_no\n",
      "/home/mthomas/Documents/MPI_work/projects/meerkat/meerkat_umap_pv/data/interim/parameter_search/grid_search_umap_params/zs_euclidean_pad_1_1.5_30_10_specs_no_40_dB_no\n",
      "/home/mthomas/Documents/MPI_work/projects/meerkat/meerkat_umap_pv/data/interim/parameter_search/grid_search_umap_params/zs_euclidean_pad_0_1.5_40_2_specs_no_40_dB_no\n",
      "/home/mthomas/Documents/MPI_work/projects/meerkat/meerkat_umap_pv/data/interim/parameter_search/grid_search_umap_params/zs_euclidean_pad_0_1.5_40_2_specs_no_40_dB_no\n",
      "/home/mthomas/Documents/MPI_work/projects/meerkat/meerkat_umap_pv/data/interim/parameter_search/grid_search_umap_params/zs_euclidean_pad_0_1.5_40_3_specs_no_40_dB_no\n",
      "/home/mthomas/Documents/MPI_work/projects/meerkat/meerkat_umap_pv/data/interim/parameter_search/grid_search_umap_params/zs_euclidean_pad_0_1.5_40_3_specs_no_40_dB_no\n",
      "/home/mthomas/Documents/MPI_work/projects/meerkat/meerkat_umap_pv/data/interim/parameter_search/grid_search_umap_params/zs_euclidean_pad_0_1.5_40_4_specs_no_40_dB_no\n",
      "/home/mthomas/Documents/MPI_work/projects/meerkat/meerkat_umap_pv/data/interim/parameter_search/grid_search_umap_params/zs_euclidean_pad_0_1.5_40_4_specs_no_40_dB_no\n",
      "/home/mthomas/Documents/MPI_work/projects/meerkat/meerkat_umap_pv/data/interim/parameter_search/grid_search_umap_params/zs_euclidean_pad_0_1.5_40_5_specs_no_40_dB_no\n",
      "/home/mthomas/Documents/MPI_work/projects/meerkat/meerkat_umap_pv/data/interim/parameter_search/grid_search_umap_params/zs_euclidean_pad_0_1.5_40_5_specs_no_40_dB_no\n",
      "/home/mthomas/Documents/MPI_work/projects/meerkat/meerkat_umap_pv/data/interim/parameter_search/grid_search_umap_params/zs_euclidean_pad_0_1.5_40_6_specs_no_40_dB_no\n",
      "/home/mthomas/Documents/MPI_work/projects/meerkat/meerkat_umap_pv/data/interim/parameter_search/grid_search_umap_params/zs_euclidean_pad_0_1.5_40_6_specs_no_40_dB_no\n",
      "/home/mthomas/Documents/MPI_work/projects/meerkat/meerkat_umap_pv/data/interim/parameter_search/grid_search_umap_params/zs_euclidean_pad_0_1.5_40_7_specs_no_40_dB_no\n",
      "/home/mthomas/Documents/MPI_work/projects/meerkat/meerkat_umap_pv/data/interim/parameter_search/grid_search_umap_params/zs_euclidean_pad_0_1.5_40_7_specs_no_40_dB_no\n",
      "/home/mthomas/Documents/MPI_work/projects/meerkat/meerkat_umap_pv/data/interim/parameter_search/grid_search_umap_params/zs_euclidean_pad_0_1.5_40_8_specs_no_40_dB_no\n",
      "/home/mthomas/Documents/MPI_work/projects/meerkat/meerkat_umap_pv/data/interim/parameter_search/grid_search_umap_params/zs_euclidean_pad_0_1.5_40_8_specs_no_40_dB_no\n",
      "/home/mthomas/Documents/MPI_work/projects/meerkat/meerkat_umap_pv/data/interim/parameter_search/grid_search_umap_params/zs_euclidean_pad_0_1.5_40_9_specs_no_40_dB_no\n",
      "/home/mthomas/Documents/MPI_work/projects/meerkat/meerkat_umap_pv/data/interim/parameter_search/grid_search_umap_params/zs_euclidean_pad_0_1.5_40_9_specs_no_40_dB_no\n",
      "/home/mthomas/Documents/MPI_work/projects/meerkat/meerkat_umap_pv/data/interim/parameter_search/grid_search_umap_params/zs_euclidean_pad_0_1.5_40_10_specs_no_40_dB_no\n",
      "/home/mthomas/Documents/MPI_work/projects/meerkat/meerkat_umap_pv/data/interim/parameter_search/grid_search_umap_params/zs_euclidean_pad_0_1.5_40_10_specs_no_40_dB_no\n",
      "/home/mthomas/Documents/MPI_work/projects/meerkat/meerkat_umap_pv/data/interim/parameter_search/grid_search_umap_params/zs_euclidean_pad_0.001_1.5_40_2_specs_no_40_dB_no\n",
      "/home/mthomas/Documents/MPI_work/projects/meerkat/meerkat_umap_pv/data/interim/parameter_search/grid_search_umap_params/zs_euclidean_pad_0.001_1.5_40_2_specs_no_40_dB_no\n",
      "/home/mthomas/Documents/MPI_work/projects/meerkat/meerkat_umap_pv/data/interim/parameter_search/grid_search_umap_params/zs_euclidean_pad_0.001_1.5_40_3_specs_no_40_dB_no\n",
      "/home/mthomas/Documents/MPI_work/projects/meerkat/meerkat_umap_pv/data/interim/parameter_search/grid_search_umap_params/zs_euclidean_pad_0.001_1.5_40_3_specs_no_40_dB_no\n",
      "/home/mthomas/Documents/MPI_work/projects/meerkat/meerkat_umap_pv/data/interim/parameter_search/grid_search_umap_params/zs_euclidean_pad_0.001_1.5_40_4_specs_no_40_dB_no\n",
      "/home/mthomas/Documents/MPI_work/projects/meerkat/meerkat_umap_pv/data/interim/parameter_search/grid_search_umap_params/zs_euclidean_pad_0.001_1.5_40_4_specs_no_40_dB_no\n",
      "/home/mthomas/Documents/MPI_work/projects/meerkat/meerkat_umap_pv/data/interim/parameter_search/grid_search_umap_params/zs_euclidean_pad_0.001_1.5_40_5_specs_no_40_dB_no\n",
      "/home/mthomas/Documents/MPI_work/projects/meerkat/meerkat_umap_pv/data/interim/parameter_search/grid_search_umap_params/zs_euclidean_pad_0.001_1.5_40_5_specs_no_40_dB_no\n",
      "/home/mthomas/Documents/MPI_work/projects/meerkat/meerkat_umap_pv/data/interim/parameter_search/grid_search_umap_params/zs_euclidean_pad_0.001_1.5_40_6_specs_no_40_dB_no\n",
      "/home/mthomas/Documents/MPI_work/projects/meerkat/meerkat_umap_pv/data/interim/parameter_search/grid_search_umap_params/zs_euclidean_pad_0.001_1.5_40_6_specs_no_40_dB_no\n",
      "/home/mthomas/Documents/MPI_work/projects/meerkat/meerkat_umap_pv/data/interim/parameter_search/grid_search_umap_params/zs_euclidean_pad_0.001_1.5_40_7_specs_no_40_dB_no\n",
      "/home/mthomas/Documents/MPI_work/projects/meerkat/meerkat_umap_pv/data/interim/parameter_search/grid_search_umap_params/zs_euclidean_pad_0.001_1.5_40_7_specs_no_40_dB_no\n",
      "/home/mthomas/Documents/MPI_work/projects/meerkat/meerkat_umap_pv/data/interim/parameter_search/grid_search_umap_params/zs_euclidean_pad_0.001_1.5_40_8_specs_no_40_dB_no\n",
      "/home/mthomas/Documents/MPI_work/projects/meerkat/meerkat_umap_pv/data/interim/parameter_search/grid_search_umap_params/zs_euclidean_pad_0.001_1.5_40_8_specs_no_40_dB_no\n",
      "/home/mthomas/Documents/MPI_work/projects/meerkat/meerkat_umap_pv/data/interim/parameter_search/grid_search_umap_params/zs_euclidean_pad_0.001_1.5_40_9_specs_no_40_dB_no\n",
      "/home/mthomas/Documents/MPI_work/projects/meerkat/meerkat_umap_pv/data/interim/parameter_search/grid_search_umap_params/zs_euclidean_pad_0.001_1.5_40_9_specs_no_40_dB_no\n",
      "/home/mthomas/Documents/MPI_work/projects/meerkat/meerkat_umap_pv/data/interim/parameter_search/grid_search_umap_params/zs_euclidean_pad_0.001_1.5_40_10_specs_no_40_dB_no\n",
      "/home/mthomas/Documents/MPI_work/projects/meerkat/meerkat_umap_pv/data/interim/parameter_search/grid_search_umap_params/zs_euclidean_pad_0.001_1.5_40_10_specs_no_40_dB_no\n",
      "/home/mthomas/Documents/MPI_work/projects/meerkat/meerkat_umap_pv/data/interim/parameter_search/grid_search_umap_params/zs_euclidean_pad_0.01_1.5_40_2_specs_no_40_dB_no\n",
      "/home/mthomas/Documents/MPI_work/projects/meerkat/meerkat_umap_pv/data/interim/parameter_search/grid_search_umap_params/zs_euclidean_pad_0.01_1.5_40_2_specs_no_40_dB_no\n",
      "/home/mthomas/Documents/MPI_work/projects/meerkat/meerkat_umap_pv/data/interim/parameter_search/grid_search_umap_params/zs_euclidean_pad_0.01_1.5_40_3_specs_no_40_dB_no\n",
      "/home/mthomas/Documents/MPI_work/projects/meerkat/meerkat_umap_pv/data/interim/parameter_search/grid_search_umap_params/zs_euclidean_pad_0.01_1.5_40_3_specs_no_40_dB_no\n",
      "/home/mthomas/Documents/MPI_work/projects/meerkat/meerkat_umap_pv/data/interim/parameter_search/grid_search_umap_params/zs_euclidean_pad_0.01_1.5_40_4_specs_no_40_dB_no\n",
      "/home/mthomas/Documents/MPI_work/projects/meerkat/meerkat_umap_pv/data/interim/parameter_search/grid_search_umap_params/zs_euclidean_pad_0.01_1.5_40_4_specs_no_40_dB_no\n",
      "/home/mthomas/Documents/MPI_work/projects/meerkat/meerkat_umap_pv/data/interim/parameter_search/grid_search_umap_params/zs_euclidean_pad_0.01_1.5_40_5_specs_no_40_dB_no\n",
      "/home/mthomas/Documents/MPI_work/projects/meerkat/meerkat_umap_pv/data/interim/parameter_search/grid_search_umap_params/zs_euclidean_pad_0.01_1.5_40_5_specs_no_40_dB_no\n",
      "/home/mthomas/Documents/MPI_work/projects/meerkat/meerkat_umap_pv/data/interim/parameter_search/grid_search_umap_params/zs_euclidean_pad_0.01_1.5_40_6_specs_no_40_dB_no\n",
      "/home/mthomas/Documents/MPI_work/projects/meerkat/meerkat_umap_pv/data/interim/parameter_search/grid_search_umap_params/zs_euclidean_pad_0.01_1.5_40_6_specs_no_40_dB_no\n",
      "/home/mthomas/Documents/MPI_work/projects/meerkat/meerkat_umap_pv/data/interim/parameter_search/grid_search_umap_params/zs_euclidean_pad_0.01_1.5_40_7_specs_no_40_dB_no\n",
      "/home/mthomas/Documents/MPI_work/projects/meerkat/meerkat_umap_pv/data/interim/parameter_search/grid_search_umap_params/zs_euclidean_pad_0.01_1.5_40_7_specs_no_40_dB_no\n",
      "/home/mthomas/Documents/MPI_work/projects/meerkat/meerkat_umap_pv/data/interim/parameter_search/grid_search_umap_params/zs_euclidean_pad_0.01_1.5_40_8_specs_no_40_dB_no\n",
      "/home/mthomas/Documents/MPI_work/projects/meerkat/meerkat_umap_pv/data/interim/parameter_search/grid_search_umap_params/zs_euclidean_pad_0.01_1.5_40_8_specs_no_40_dB_no\n",
      "/home/mthomas/Documents/MPI_work/projects/meerkat/meerkat_umap_pv/data/interim/parameter_search/grid_search_umap_params/zs_euclidean_pad_0.01_1.5_40_9_specs_no_40_dB_no\n",
      "/home/mthomas/Documents/MPI_work/projects/meerkat/meerkat_umap_pv/data/interim/parameter_search/grid_search_umap_params/zs_euclidean_pad_0.01_1.5_40_9_specs_no_40_dB_no\n",
      "/home/mthomas/Documents/MPI_work/projects/meerkat/meerkat_umap_pv/data/interim/parameter_search/grid_search_umap_params/zs_euclidean_pad_0.01_1.5_40_10_specs_no_40_dB_no\n",
      "/home/mthomas/Documents/MPI_work/projects/meerkat/meerkat_umap_pv/data/interim/parameter_search/grid_search_umap_params/zs_euclidean_pad_0.01_1.5_40_10_specs_no_40_dB_no\n",
      "/home/mthomas/Documents/MPI_work/projects/meerkat/meerkat_umap_pv/data/interim/parameter_search/grid_search_umap_params/zs_euclidean_pad_0.1_1.5_40_2_specs_no_40_dB_no\n",
      "/home/mthomas/Documents/MPI_work/projects/meerkat/meerkat_umap_pv/data/interim/parameter_search/grid_search_umap_params/zs_euclidean_pad_0.1_1.5_40_2_specs_no_40_dB_no\n",
      "/home/mthomas/Documents/MPI_work/projects/meerkat/meerkat_umap_pv/data/interim/parameter_search/grid_search_umap_params/zs_euclidean_pad_0.1_1.5_40_3_specs_no_40_dB_no\n",
      "/home/mthomas/Documents/MPI_work/projects/meerkat/meerkat_umap_pv/data/interim/parameter_search/grid_search_umap_params/zs_euclidean_pad_0.1_1.5_40_3_specs_no_40_dB_no\n",
      "/home/mthomas/Documents/MPI_work/projects/meerkat/meerkat_umap_pv/data/interim/parameter_search/grid_search_umap_params/zs_euclidean_pad_0.1_1.5_40_4_specs_no_40_dB_no\n",
      "/home/mthomas/Documents/MPI_work/projects/meerkat/meerkat_umap_pv/data/interim/parameter_search/grid_search_umap_params/zs_euclidean_pad_0.1_1.5_40_4_specs_no_40_dB_no\n",
      "/home/mthomas/Documents/MPI_work/projects/meerkat/meerkat_umap_pv/data/interim/parameter_search/grid_search_umap_params/zs_euclidean_pad_0.1_1.5_40_5_specs_no_40_dB_no\n",
      "/home/mthomas/Documents/MPI_work/projects/meerkat/meerkat_umap_pv/data/interim/parameter_search/grid_search_umap_params/zs_euclidean_pad_0.1_1.5_40_5_specs_no_40_dB_no\n",
      "/home/mthomas/Documents/MPI_work/projects/meerkat/meerkat_umap_pv/data/interim/parameter_search/grid_search_umap_params/zs_euclidean_pad_0.1_1.5_40_6_specs_no_40_dB_no\n",
      "/home/mthomas/Documents/MPI_work/projects/meerkat/meerkat_umap_pv/data/interim/parameter_search/grid_search_umap_params/zs_euclidean_pad_0.1_1.5_40_6_specs_no_40_dB_no\n",
      "/home/mthomas/Documents/MPI_work/projects/meerkat/meerkat_umap_pv/data/interim/parameter_search/grid_search_umap_params/zs_euclidean_pad_0.1_1.5_40_7_specs_no_40_dB_no\n",
      "/home/mthomas/Documents/MPI_work/projects/meerkat/meerkat_umap_pv/data/interim/parameter_search/grid_search_umap_params/zs_euclidean_pad_0.1_1.5_40_7_specs_no_40_dB_no\n",
      "/home/mthomas/Documents/MPI_work/projects/meerkat/meerkat_umap_pv/data/interim/parameter_search/grid_search_umap_params/zs_euclidean_pad_0.1_1.5_40_8_specs_no_40_dB_no\n",
      "/home/mthomas/Documents/MPI_work/projects/meerkat/meerkat_umap_pv/data/interim/parameter_search/grid_search_umap_params/zs_euclidean_pad_0.1_1.5_40_8_specs_no_40_dB_no\n",
      "/home/mthomas/Documents/MPI_work/projects/meerkat/meerkat_umap_pv/data/interim/parameter_search/grid_search_umap_params/zs_euclidean_pad_0.1_1.5_40_9_specs_no_40_dB_no\n",
      "/home/mthomas/Documents/MPI_work/projects/meerkat/meerkat_umap_pv/data/interim/parameter_search/grid_search_umap_params/zs_euclidean_pad_0.1_1.5_40_9_specs_no_40_dB_no\n",
      "/home/mthomas/Documents/MPI_work/projects/meerkat/meerkat_umap_pv/data/interim/parameter_search/grid_search_umap_params/zs_euclidean_pad_0.1_1.5_40_10_specs_no_40_dB_no\n",
      "/home/mthomas/Documents/MPI_work/projects/meerkat/meerkat_umap_pv/data/interim/parameter_search/grid_search_umap_params/zs_euclidean_pad_0.1_1.5_40_10_specs_no_40_dB_no\n",
      "/home/mthomas/Documents/MPI_work/projects/meerkat/meerkat_umap_pv/data/interim/parameter_search/grid_search_umap_params/zs_euclidean_pad_1_1.5_40_2_specs_no_40_dB_no\n",
      "/home/mthomas/Documents/MPI_work/projects/meerkat/meerkat_umap_pv/data/interim/parameter_search/grid_search_umap_params/zs_euclidean_pad_1_1.5_40_2_specs_no_40_dB_no\n",
      "/home/mthomas/Documents/MPI_work/projects/meerkat/meerkat_umap_pv/data/interim/parameter_search/grid_search_umap_params/zs_euclidean_pad_1_1.5_40_3_specs_no_40_dB_no\n",
      "/home/mthomas/Documents/MPI_work/projects/meerkat/meerkat_umap_pv/data/interim/parameter_search/grid_search_umap_params/zs_euclidean_pad_1_1.5_40_3_specs_no_40_dB_no\n",
      "/home/mthomas/Documents/MPI_work/projects/meerkat/meerkat_umap_pv/data/interim/parameter_search/grid_search_umap_params/zs_euclidean_pad_1_1.5_40_4_specs_no_40_dB_no\n",
      "/home/mthomas/Documents/MPI_work/projects/meerkat/meerkat_umap_pv/data/interim/parameter_search/grid_search_umap_params/zs_euclidean_pad_1_1.5_40_4_specs_no_40_dB_no\n",
      "/home/mthomas/Documents/MPI_work/projects/meerkat/meerkat_umap_pv/data/interim/parameter_search/grid_search_umap_params/zs_euclidean_pad_1_1.5_40_5_specs_no_40_dB_no\n",
      "/home/mthomas/Documents/MPI_work/projects/meerkat/meerkat_umap_pv/data/interim/parameter_search/grid_search_umap_params/zs_euclidean_pad_1_1.5_40_5_specs_no_40_dB_no\n",
      "/home/mthomas/Documents/MPI_work/projects/meerkat/meerkat_umap_pv/data/interim/parameter_search/grid_search_umap_params/zs_euclidean_pad_1_1.5_40_6_specs_no_40_dB_no\n",
      "/home/mthomas/Documents/MPI_work/projects/meerkat/meerkat_umap_pv/data/interim/parameter_search/grid_search_umap_params/zs_euclidean_pad_1_1.5_40_6_specs_no_40_dB_no\n",
      "/home/mthomas/Documents/MPI_work/projects/meerkat/meerkat_umap_pv/data/interim/parameter_search/grid_search_umap_params/zs_euclidean_pad_1_1.5_40_7_specs_no_40_dB_no\n",
      "/home/mthomas/Documents/MPI_work/projects/meerkat/meerkat_umap_pv/data/interim/parameter_search/grid_search_umap_params/zs_euclidean_pad_1_1.5_40_7_specs_no_40_dB_no\n",
      "/home/mthomas/Documents/MPI_work/projects/meerkat/meerkat_umap_pv/data/interim/parameter_search/grid_search_umap_params/zs_euclidean_pad_1_1.5_40_8_specs_no_40_dB_no\n",
      "/home/mthomas/Documents/MPI_work/projects/meerkat/meerkat_umap_pv/data/interim/parameter_search/grid_search_umap_params/zs_euclidean_pad_1_1.5_40_8_specs_no_40_dB_no\n",
      "/home/mthomas/Documents/MPI_work/projects/meerkat/meerkat_umap_pv/data/interim/parameter_search/grid_search_umap_params/zs_euclidean_pad_1_1.5_40_9_specs_no_40_dB_no\n",
      "/home/mthomas/Documents/MPI_work/projects/meerkat/meerkat_umap_pv/data/interim/parameter_search/grid_search_umap_params/zs_euclidean_pad_1_1.5_40_9_specs_no_40_dB_no\n",
      "/home/mthomas/Documents/MPI_work/projects/meerkat/meerkat_umap_pv/data/interim/parameter_search/grid_search_umap_params/zs_euclidean_pad_1_1.5_40_10_specs_no_40_dB_no\n",
      "/home/mthomas/Documents/MPI_work/projects/meerkat/meerkat_umap_pv/data/interim/parameter_search/grid_search_umap_params/zs_euclidean_pad_1_1.5_40_10_specs_no_40_dB_no\n",
      "/home/mthomas/Documents/MPI_work/projects/meerkat/meerkat_umap_pv/data/interim/parameter_search/grid_search_umap_params/zs_euclidean_pad_0_1.5_50_2_specs_no_40_dB_no\n",
      "/home/mthomas/Documents/MPI_work/projects/meerkat/meerkat_umap_pv/data/interim/parameter_search/grid_search_umap_params/zs_euclidean_pad_0_1.5_50_2_specs_no_40_dB_no\n",
      "/home/mthomas/Documents/MPI_work/projects/meerkat/meerkat_umap_pv/data/interim/parameter_search/grid_search_umap_params/zs_euclidean_pad_0_1.5_50_3_specs_no_40_dB_no\n",
      "/home/mthomas/Documents/MPI_work/projects/meerkat/meerkat_umap_pv/data/interim/parameter_search/grid_search_umap_params/zs_euclidean_pad_0_1.5_50_3_specs_no_40_dB_no\n",
      "/home/mthomas/Documents/MPI_work/projects/meerkat/meerkat_umap_pv/data/interim/parameter_search/grid_search_umap_params/zs_euclidean_pad_0_1.5_50_4_specs_no_40_dB_no\n",
      "/home/mthomas/Documents/MPI_work/projects/meerkat/meerkat_umap_pv/data/interim/parameter_search/grid_search_umap_params/zs_euclidean_pad_0_1.5_50_4_specs_no_40_dB_no\n",
      "/home/mthomas/Documents/MPI_work/projects/meerkat/meerkat_umap_pv/data/interim/parameter_search/grid_search_umap_params/zs_euclidean_pad_0_1.5_50_5_specs_no_40_dB_no\n",
      "/home/mthomas/Documents/MPI_work/projects/meerkat/meerkat_umap_pv/data/interim/parameter_search/grid_search_umap_params/zs_euclidean_pad_0_1.5_50_5_specs_no_40_dB_no\n",
      "/home/mthomas/Documents/MPI_work/projects/meerkat/meerkat_umap_pv/data/interim/parameter_search/grid_search_umap_params/zs_euclidean_pad_0_1.5_50_6_specs_no_40_dB_no\n",
      "/home/mthomas/Documents/MPI_work/projects/meerkat/meerkat_umap_pv/data/interim/parameter_search/grid_search_umap_params/zs_euclidean_pad_0_1.5_50_6_specs_no_40_dB_no\n",
      "/home/mthomas/Documents/MPI_work/projects/meerkat/meerkat_umap_pv/data/interim/parameter_search/grid_search_umap_params/zs_euclidean_pad_0_1.5_50_7_specs_no_40_dB_no\n",
      "/home/mthomas/Documents/MPI_work/projects/meerkat/meerkat_umap_pv/data/interim/parameter_search/grid_search_umap_params/zs_euclidean_pad_0_1.5_50_7_specs_no_40_dB_no\n",
      "/home/mthomas/Documents/MPI_work/projects/meerkat/meerkat_umap_pv/data/interim/parameter_search/grid_search_umap_params/zs_euclidean_pad_0_1.5_50_8_specs_no_40_dB_no\n",
      "/home/mthomas/Documents/MPI_work/projects/meerkat/meerkat_umap_pv/data/interim/parameter_search/grid_search_umap_params/zs_euclidean_pad_0_1.5_50_8_specs_no_40_dB_no\n",
      "/home/mthomas/Documents/MPI_work/projects/meerkat/meerkat_umap_pv/data/interim/parameter_search/grid_search_umap_params/zs_euclidean_pad_0_1.5_50_9_specs_no_40_dB_no\n",
      "/home/mthomas/Documents/MPI_work/projects/meerkat/meerkat_umap_pv/data/interim/parameter_search/grid_search_umap_params/zs_euclidean_pad_0_1.5_50_9_specs_no_40_dB_no\n",
      "/home/mthomas/Documents/MPI_work/projects/meerkat/meerkat_umap_pv/data/interim/parameter_search/grid_search_umap_params/zs_euclidean_pad_0_1.5_50_10_specs_no_40_dB_no\n",
      "/home/mthomas/Documents/MPI_work/projects/meerkat/meerkat_umap_pv/data/interim/parameter_search/grid_search_umap_params/zs_euclidean_pad_0_1.5_50_10_specs_no_40_dB_no\n",
      "/home/mthomas/Documents/MPI_work/projects/meerkat/meerkat_umap_pv/data/interim/parameter_search/grid_search_umap_params/zs_euclidean_pad_0.001_1.5_50_2_specs_no_40_dB_no\n",
      "/home/mthomas/Documents/MPI_work/projects/meerkat/meerkat_umap_pv/data/interim/parameter_search/grid_search_umap_params/zs_euclidean_pad_0.001_1.5_50_2_specs_no_40_dB_no\n",
      "/home/mthomas/Documents/MPI_work/projects/meerkat/meerkat_umap_pv/data/interim/parameter_search/grid_search_umap_params/zs_euclidean_pad_0.001_1.5_50_3_specs_no_40_dB_no\n",
      "/home/mthomas/Documents/MPI_work/projects/meerkat/meerkat_umap_pv/data/interim/parameter_search/grid_search_umap_params/zs_euclidean_pad_0.001_1.5_50_3_specs_no_40_dB_no\n",
      "/home/mthomas/Documents/MPI_work/projects/meerkat/meerkat_umap_pv/data/interim/parameter_search/grid_search_umap_params/zs_euclidean_pad_0.001_1.5_50_4_specs_no_40_dB_no\n",
      "/home/mthomas/Documents/MPI_work/projects/meerkat/meerkat_umap_pv/data/interim/parameter_search/grid_search_umap_params/zs_euclidean_pad_0.001_1.5_50_4_specs_no_40_dB_no\n",
      "/home/mthomas/Documents/MPI_work/projects/meerkat/meerkat_umap_pv/data/interim/parameter_search/grid_search_umap_params/zs_euclidean_pad_0.001_1.5_50_5_specs_no_40_dB_no\n",
      "/home/mthomas/Documents/MPI_work/projects/meerkat/meerkat_umap_pv/data/interim/parameter_search/grid_search_umap_params/zs_euclidean_pad_0.001_1.5_50_5_specs_no_40_dB_no\n",
      "/home/mthomas/Documents/MPI_work/projects/meerkat/meerkat_umap_pv/data/interim/parameter_search/grid_search_umap_params/zs_euclidean_pad_0.001_1.5_50_6_specs_no_40_dB_no\n",
      "/home/mthomas/Documents/MPI_work/projects/meerkat/meerkat_umap_pv/data/interim/parameter_search/grid_search_umap_params/zs_euclidean_pad_0.001_1.5_50_6_specs_no_40_dB_no\n",
      "/home/mthomas/Documents/MPI_work/projects/meerkat/meerkat_umap_pv/data/interim/parameter_search/grid_search_umap_params/zs_euclidean_pad_0.001_1.5_50_7_specs_no_40_dB_no\n",
      "/home/mthomas/Documents/MPI_work/projects/meerkat/meerkat_umap_pv/data/interim/parameter_search/grid_search_umap_params/zs_euclidean_pad_0.001_1.5_50_7_specs_no_40_dB_no\n",
      "/home/mthomas/Documents/MPI_work/projects/meerkat/meerkat_umap_pv/data/interim/parameter_search/grid_search_umap_params/zs_euclidean_pad_0.001_1.5_50_8_specs_no_40_dB_no\n",
      "/home/mthomas/Documents/MPI_work/projects/meerkat/meerkat_umap_pv/data/interim/parameter_search/grid_search_umap_params/zs_euclidean_pad_0.001_1.5_50_8_specs_no_40_dB_no\n",
      "/home/mthomas/Documents/MPI_work/projects/meerkat/meerkat_umap_pv/data/interim/parameter_search/grid_search_umap_params/zs_euclidean_pad_0.001_1.5_50_9_specs_no_40_dB_no\n",
      "/home/mthomas/Documents/MPI_work/projects/meerkat/meerkat_umap_pv/data/interim/parameter_search/grid_search_umap_params/zs_euclidean_pad_0.001_1.5_50_9_specs_no_40_dB_no\n",
      "/home/mthomas/Documents/MPI_work/projects/meerkat/meerkat_umap_pv/data/interim/parameter_search/grid_search_umap_params/zs_euclidean_pad_0.001_1.5_50_10_specs_no_40_dB_no\n",
      "/home/mthomas/Documents/MPI_work/projects/meerkat/meerkat_umap_pv/data/interim/parameter_search/grid_search_umap_params/zs_euclidean_pad_0.001_1.5_50_10_specs_no_40_dB_no\n",
      "/home/mthomas/Documents/MPI_work/projects/meerkat/meerkat_umap_pv/data/interim/parameter_search/grid_search_umap_params/zs_euclidean_pad_0.01_1.5_50_2_specs_no_40_dB_no\n",
      "/home/mthomas/Documents/MPI_work/projects/meerkat/meerkat_umap_pv/data/interim/parameter_search/grid_search_umap_params/zs_euclidean_pad_0.01_1.5_50_2_specs_no_40_dB_no\n",
      "/home/mthomas/Documents/MPI_work/projects/meerkat/meerkat_umap_pv/data/interim/parameter_search/grid_search_umap_params/zs_euclidean_pad_0.01_1.5_50_3_specs_no_40_dB_no\n",
      "/home/mthomas/Documents/MPI_work/projects/meerkat/meerkat_umap_pv/data/interim/parameter_search/grid_search_umap_params/zs_euclidean_pad_0.01_1.5_50_3_specs_no_40_dB_no\n",
      "/home/mthomas/Documents/MPI_work/projects/meerkat/meerkat_umap_pv/data/interim/parameter_search/grid_search_umap_params/zs_euclidean_pad_0.01_1.5_50_4_specs_no_40_dB_no\n",
      "/home/mthomas/Documents/MPI_work/projects/meerkat/meerkat_umap_pv/data/interim/parameter_search/grid_search_umap_params/zs_euclidean_pad_0.01_1.5_50_4_specs_no_40_dB_no\n",
      "/home/mthomas/Documents/MPI_work/projects/meerkat/meerkat_umap_pv/data/interim/parameter_search/grid_search_umap_params/zs_euclidean_pad_0.01_1.5_50_5_specs_no_40_dB_no\n",
      "/home/mthomas/Documents/MPI_work/projects/meerkat/meerkat_umap_pv/data/interim/parameter_search/grid_search_umap_params/zs_euclidean_pad_0.01_1.5_50_5_specs_no_40_dB_no\n",
      "/home/mthomas/Documents/MPI_work/projects/meerkat/meerkat_umap_pv/data/interim/parameter_search/grid_search_umap_params/zs_euclidean_pad_0.01_1.5_50_6_specs_no_40_dB_no\n",
      "/home/mthomas/Documents/MPI_work/projects/meerkat/meerkat_umap_pv/data/interim/parameter_search/grid_search_umap_params/zs_euclidean_pad_0.01_1.5_50_6_specs_no_40_dB_no\n",
      "/home/mthomas/Documents/MPI_work/projects/meerkat/meerkat_umap_pv/data/interim/parameter_search/grid_search_umap_params/zs_euclidean_pad_0.01_1.5_50_7_specs_no_40_dB_no\n",
      "/home/mthomas/Documents/MPI_work/projects/meerkat/meerkat_umap_pv/data/interim/parameter_search/grid_search_umap_params/zs_euclidean_pad_0.01_1.5_50_7_specs_no_40_dB_no\n",
      "/home/mthomas/Documents/MPI_work/projects/meerkat/meerkat_umap_pv/data/interim/parameter_search/grid_search_umap_params/zs_euclidean_pad_0.01_1.5_50_8_specs_no_40_dB_no\n",
      "/home/mthomas/Documents/MPI_work/projects/meerkat/meerkat_umap_pv/data/interim/parameter_search/grid_search_umap_params/zs_euclidean_pad_0.01_1.5_50_8_specs_no_40_dB_no\n",
      "/home/mthomas/Documents/MPI_work/projects/meerkat/meerkat_umap_pv/data/interim/parameter_search/grid_search_umap_params/zs_euclidean_pad_0.01_1.5_50_9_specs_no_40_dB_no\n",
      "/home/mthomas/Documents/MPI_work/projects/meerkat/meerkat_umap_pv/data/interim/parameter_search/grid_search_umap_params/zs_euclidean_pad_0.01_1.5_50_9_specs_no_40_dB_no\n",
      "/home/mthomas/Documents/MPI_work/projects/meerkat/meerkat_umap_pv/data/interim/parameter_search/grid_search_umap_params/zs_euclidean_pad_0.01_1.5_50_10_specs_no_40_dB_no\n",
      "/home/mthomas/Documents/MPI_work/projects/meerkat/meerkat_umap_pv/data/interim/parameter_search/grid_search_umap_params/zs_euclidean_pad_0.01_1.5_50_10_specs_no_40_dB_no\n",
      "/home/mthomas/Documents/MPI_work/projects/meerkat/meerkat_umap_pv/data/interim/parameter_search/grid_search_umap_params/zs_euclidean_pad_0.1_1.5_50_2_specs_no_40_dB_no\n",
      "/home/mthomas/Documents/MPI_work/projects/meerkat/meerkat_umap_pv/data/interim/parameter_search/grid_search_umap_params/zs_euclidean_pad_0.1_1.5_50_2_specs_no_40_dB_no\n",
      "/home/mthomas/Documents/MPI_work/projects/meerkat/meerkat_umap_pv/data/interim/parameter_search/grid_search_umap_params/zs_euclidean_pad_0.1_1.5_50_3_specs_no_40_dB_no\n",
      "/home/mthomas/Documents/MPI_work/projects/meerkat/meerkat_umap_pv/data/interim/parameter_search/grid_search_umap_params/zs_euclidean_pad_0.1_1.5_50_3_specs_no_40_dB_no\n",
      "/home/mthomas/Documents/MPI_work/projects/meerkat/meerkat_umap_pv/data/interim/parameter_search/grid_search_umap_params/zs_euclidean_pad_0.1_1.5_50_4_specs_no_40_dB_no\n",
      "/home/mthomas/Documents/MPI_work/projects/meerkat/meerkat_umap_pv/data/interim/parameter_search/grid_search_umap_params/zs_euclidean_pad_0.1_1.5_50_4_specs_no_40_dB_no\n",
      "/home/mthomas/Documents/MPI_work/projects/meerkat/meerkat_umap_pv/data/interim/parameter_search/grid_search_umap_params/zs_euclidean_pad_0.1_1.5_50_5_specs_no_40_dB_no\n",
      "/home/mthomas/Documents/MPI_work/projects/meerkat/meerkat_umap_pv/data/interim/parameter_search/grid_search_umap_params/zs_euclidean_pad_0.1_1.5_50_5_specs_no_40_dB_no\n",
      "/home/mthomas/Documents/MPI_work/projects/meerkat/meerkat_umap_pv/data/interim/parameter_search/grid_search_umap_params/zs_euclidean_pad_0.1_1.5_50_6_specs_no_40_dB_no\n",
      "/home/mthomas/Documents/MPI_work/projects/meerkat/meerkat_umap_pv/data/interim/parameter_search/grid_search_umap_params/zs_euclidean_pad_0.1_1.5_50_6_specs_no_40_dB_no\n",
      "/home/mthomas/Documents/MPI_work/projects/meerkat/meerkat_umap_pv/data/interim/parameter_search/grid_search_umap_params/zs_euclidean_pad_0.1_1.5_50_7_specs_no_40_dB_no\n",
      "/home/mthomas/Documents/MPI_work/projects/meerkat/meerkat_umap_pv/data/interim/parameter_search/grid_search_umap_params/zs_euclidean_pad_0.1_1.5_50_7_specs_no_40_dB_no\n",
      "/home/mthomas/Documents/MPI_work/projects/meerkat/meerkat_umap_pv/data/interim/parameter_search/grid_search_umap_params/zs_euclidean_pad_0.1_1.5_50_8_specs_no_40_dB_no\n",
      "/home/mthomas/Documents/MPI_work/projects/meerkat/meerkat_umap_pv/data/interim/parameter_search/grid_search_umap_params/zs_euclidean_pad_0.1_1.5_50_8_specs_no_40_dB_no\n",
      "/home/mthomas/Documents/MPI_work/projects/meerkat/meerkat_umap_pv/data/interim/parameter_search/grid_search_umap_params/zs_euclidean_pad_0.1_1.5_50_9_specs_no_40_dB_no\n",
      "/home/mthomas/Documents/MPI_work/projects/meerkat/meerkat_umap_pv/data/interim/parameter_search/grid_search_umap_params/zs_euclidean_pad_0.1_1.5_50_9_specs_no_40_dB_no\n",
      "/home/mthomas/Documents/MPI_work/projects/meerkat/meerkat_umap_pv/data/interim/parameter_search/grid_search_umap_params/zs_euclidean_pad_0.1_1.5_50_10_specs_no_40_dB_no\n",
      "/home/mthomas/Documents/MPI_work/projects/meerkat/meerkat_umap_pv/data/interim/parameter_search/grid_search_umap_params/zs_euclidean_pad_0.1_1.5_50_10_specs_no_40_dB_no\n",
      "/home/mthomas/Documents/MPI_work/projects/meerkat/meerkat_umap_pv/data/interim/parameter_search/grid_search_umap_params/zs_euclidean_pad_1_1.5_50_2_specs_no_40_dB_no\n",
      "/home/mthomas/Documents/MPI_work/projects/meerkat/meerkat_umap_pv/data/interim/parameter_search/grid_search_umap_params/zs_euclidean_pad_1_1.5_50_2_specs_no_40_dB_no\n",
      "/home/mthomas/Documents/MPI_work/projects/meerkat/meerkat_umap_pv/data/interim/parameter_search/grid_search_umap_params/zs_euclidean_pad_1_1.5_50_3_specs_no_40_dB_no\n",
      "/home/mthomas/Documents/MPI_work/projects/meerkat/meerkat_umap_pv/data/interim/parameter_search/grid_search_umap_params/zs_euclidean_pad_1_1.5_50_3_specs_no_40_dB_no\n",
      "/home/mthomas/Documents/MPI_work/projects/meerkat/meerkat_umap_pv/data/interim/parameter_search/grid_search_umap_params/zs_euclidean_pad_1_1.5_50_4_specs_no_40_dB_no\n",
      "/home/mthomas/Documents/MPI_work/projects/meerkat/meerkat_umap_pv/data/interim/parameter_search/grid_search_umap_params/zs_euclidean_pad_1_1.5_50_4_specs_no_40_dB_no\n",
      "/home/mthomas/Documents/MPI_work/projects/meerkat/meerkat_umap_pv/data/interim/parameter_search/grid_search_umap_params/zs_euclidean_pad_1_1.5_50_5_specs_no_40_dB_no\n",
      "/home/mthomas/Documents/MPI_work/projects/meerkat/meerkat_umap_pv/data/interim/parameter_search/grid_search_umap_params/zs_euclidean_pad_1_1.5_50_5_specs_no_40_dB_no\n",
      "/home/mthomas/Documents/MPI_work/projects/meerkat/meerkat_umap_pv/data/interim/parameter_search/grid_search_umap_params/zs_euclidean_pad_1_1.5_50_6_specs_no_40_dB_no\n",
      "/home/mthomas/Documents/MPI_work/projects/meerkat/meerkat_umap_pv/data/interim/parameter_search/grid_search_umap_params/zs_euclidean_pad_1_1.5_50_6_specs_no_40_dB_no\n",
      "/home/mthomas/Documents/MPI_work/projects/meerkat/meerkat_umap_pv/data/interim/parameter_search/grid_search_umap_params/zs_euclidean_pad_1_1.5_50_7_specs_no_40_dB_no\n",
      "/home/mthomas/Documents/MPI_work/projects/meerkat/meerkat_umap_pv/data/interim/parameter_search/grid_search_umap_params/zs_euclidean_pad_1_1.5_50_7_specs_no_40_dB_no\n",
      "/home/mthomas/Documents/MPI_work/projects/meerkat/meerkat_umap_pv/data/interim/parameter_search/grid_search_umap_params/zs_euclidean_pad_1_1.5_50_8_specs_no_40_dB_no\n",
      "/home/mthomas/Documents/MPI_work/projects/meerkat/meerkat_umap_pv/data/interim/parameter_search/grid_search_umap_params/zs_euclidean_pad_1_1.5_50_8_specs_no_40_dB_no\n",
      "/home/mthomas/Documents/MPI_work/projects/meerkat/meerkat_umap_pv/data/interim/parameter_search/grid_search_umap_params/zs_euclidean_pad_1_1.5_50_9_specs_no_40_dB_no\n",
      "/home/mthomas/Documents/MPI_work/projects/meerkat/meerkat_umap_pv/data/interim/parameter_search/grid_search_umap_params/zs_euclidean_pad_1_1.5_50_9_specs_no_40_dB_no\n",
      "/home/mthomas/Documents/MPI_work/projects/meerkat/meerkat_umap_pv/data/interim/parameter_search/grid_search_umap_params/zs_euclidean_pad_1_1.5_50_10_specs_no_40_dB_no\n",
      "/home/mthomas/Documents/MPI_work/projects/meerkat/meerkat_umap_pv/data/interim/parameter_search/grid_search_umap_params/zs_euclidean_pad_1_1.5_50_10_specs_no_40_dB_no\n",
      "/home/mthomas/Documents/MPI_work/projects/meerkat/meerkat_umap_pv/data/interim/parameter_search/grid_search_umap_params/zs_euclidean_pad_0_1.5_100_2_specs_no_40_dB_no\n",
      "/home/mthomas/Documents/MPI_work/projects/meerkat/meerkat_umap_pv/data/interim/parameter_search/grid_search_umap_params/zs_euclidean_pad_0_1.5_100_2_specs_no_40_dB_no\n",
      "/home/mthomas/Documents/MPI_work/projects/meerkat/meerkat_umap_pv/data/interim/parameter_search/grid_search_umap_params/zs_euclidean_pad_0_1.5_100_3_specs_no_40_dB_no\n",
      "/home/mthomas/Documents/MPI_work/projects/meerkat/meerkat_umap_pv/data/interim/parameter_search/grid_search_umap_params/zs_euclidean_pad_0_1.5_100_3_specs_no_40_dB_no\n",
      "/home/mthomas/Documents/MPI_work/projects/meerkat/meerkat_umap_pv/data/interim/parameter_search/grid_search_umap_params/zs_euclidean_pad_0_1.5_100_4_specs_no_40_dB_no\n",
      "/home/mthomas/Documents/MPI_work/projects/meerkat/meerkat_umap_pv/data/interim/parameter_search/grid_search_umap_params/zs_euclidean_pad_0_1.5_100_4_specs_no_40_dB_no\n",
      "/home/mthomas/Documents/MPI_work/projects/meerkat/meerkat_umap_pv/data/interim/parameter_search/grid_search_umap_params/zs_euclidean_pad_0_1.5_100_5_specs_no_40_dB_no\n",
      "/home/mthomas/Documents/MPI_work/projects/meerkat/meerkat_umap_pv/data/interim/parameter_search/grid_search_umap_params/zs_euclidean_pad_0_1.5_100_5_specs_no_40_dB_no\n",
      "/home/mthomas/Documents/MPI_work/projects/meerkat/meerkat_umap_pv/data/interim/parameter_search/grid_search_umap_params/zs_euclidean_pad_0_1.5_100_6_specs_no_40_dB_no\n",
      "/home/mthomas/Documents/MPI_work/projects/meerkat/meerkat_umap_pv/data/interim/parameter_search/grid_search_umap_params/zs_euclidean_pad_0_1.5_100_6_specs_no_40_dB_no\n",
      "/home/mthomas/Documents/MPI_work/projects/meerkat/meerkat_umap_pv/data/interim/parameter_search/grid_search_umap_params/zs_euclidean_pad_0_1.5_100_7_specs_no_40_dB_no\n",
      "/home/mthomas/Documents/MPI_work/projects/meerkat/meerkat_umap_pv/data/interim/parameter_search/grid_search_umap_params/zs_euclidean_pad_0_1.5_100_7_specs_no_40_dB_no\n",
      "/home/mthomas/Documents/MPI_work/projects/meerkat/meerkat_umap_pv/data/interim/parameter_search/grid_search_umap_params/zs_euclidean_pad_0_1.5_100_8_specs_no_40_dB_no\n",
      "/home/mthomas/Documents/MPI_work/projects/meerkat/meerkat_umap_pv/data/interim/parameter_search/grid_search_umap_params/zs_euclidean_pad_0_1.5_100_8_specs_no_40_dB_no\n",
      "/home/mthomas/Documents/MPI_work/projects/meerkat/meerkat_umap_pv/data/interim/parameter_search/grid_search_umap_params/zs_euclidean_pad_0_1.5_100_9_specs_no_40_dB_no\n",
      "/home/mthomas/Documents/MPI_work/projects/meerkat/meerkat_umap_pv/data/interim/parameter_search/grid_search_umap_params/zs_euclidean_pad_0_1.5_100_9_specs_no_40_dB_no\n",
      "/home/mthomas/Documents/MPI_work/projects/meerkat/meerkat_umap_pv/data/interim/parameter_search/grid_search_umap_params/zs_euclidean_pad_0_1.5_100_10_specs_no_40_dB_no\n",
      "/home/mthomas/Documents/MPI_work/projects/meerkat/meerkat_umap_pv/data/interim/parameter_search/grid_search_umap_params/zs_euclidean_pad_0_1.5_100_10_specs_no_40_dB_no\n",
      "/home/mthomas/Documents/MPI_work/projects/meerkat/meerkat_umap_pv/data/interim/parameter_search/grid_search_umap_params/zs_euclidean_pad_0.001_1.5_100_2_specs_no_40_dB_no\n",
      "/home/mthomas/Documents/MPI_work/projects/meerkat/meerkat_umap_pv/data/interim/parameter_search/grid_search_umap_params/zs_euclidean_pad_0.001_1.5_100_2_specs_no_40_dB_no\n",
      "/home/mthomas/Documents/MPI_work/projects/meerkat/meerkat_umap_pv/data/interim/parameter_search/grid_search_umap_params/zs_euclidean_pad_0.001_1.5_100_3_specs_no_40_dB_no\n",
      "/home/mthomas/Documents/MPI_work/projects/meerkat/meerkat_umap_pv/data/interim/parameter_search/grid_search_umap_params/zs_euclidean_pad_0.001_1.5_100_3_specs_no_40_dB_no\n",
      "/home/mthomas/Documents/MPI_work/projects/meerkat/meerkat_umap_pv/data/interim/parameter_search/grid_search_umap_params/zs_euclidean_pad_0.001_1.5_100_4_specs_no_40_dB_no\n",
      "/home/mthomas/Documents/MPI_work/projects/meerkat/meerkat_umap_pv/data/interim/parameter_search/grid_search_umap_params/zs_euclidean_pad_0.001_1.5_100_4_specs_no_40_dB_no\n",
      "/home/mthomas/Documents/MPI_work/projects/meerkat/meerkat_umap_pv/data/interim/parameter_search/grid_search_umap_params/zs_euclidean_pad_0.001_1.5_100_5_specs_no_40_dB_no\n",
      "/home/mthomas/Documents/MPI_work/projects/meerkat/meerkat_umap_pv/data/interim/parameter_search/grid_search_umap_params/zs_euclidean_pad_0.001_1.5_100_5_specs_no_40_dB_no\n",
      "/home/mthomas/Documents/MPI_work/projects/meerkat/meerkat_umap_pv/data/interim/parameter_search/grid_search_umap_params/zs_euclidean_pad_0.001_1.5_100_6_specs_no_40_dB_no\n",
      "/home/mthomas/Documents/MPI_work/projects/meerkat/meerkat_umap_pv/data/interim/parameter_search/grid_search_umap_params/zs_euclidean_pad_0.001_1.5_100_6_specs_no_40_dB_no\n",
      "/home/mthomas/Documents/MPI_work/projects/meerkat/meerkat_umap_pv/data/interim/parameter_search/grid_search_umap_params/zs_euclidean_pad_0.001_1.5_100_7_specs_no_40_dB_no\n",
      "/home/mthomas/Documents/MPI_work/projects/meerkat/meerkat_umap_pv/data/interim/parameter_search/grid_search_umap_params/zs_euclidean_pad_0.001_1.5_100_7_specs_no_40_dB_no\n",
      "/home/mthomas/Documents/MPI_work/projects/meerkat/meerkat_umap_pv/data/interim/parameter_search/grid_search_umap_params/zs_euclidean_pad_0.001_1.5_100_8_specs_no_40_dB_no\n",
      "/home/mthomas/Documents/MPI_work/projects/meerkat/meerkat_umap_pv/data/interim/parameter_search/grid_search_umap_params/zs_euclidean_pad_0.001_1.5_100_8_specs_no_40_dB_no\n",
      "/home/mthomas/Documents/MPI_work/projects/meerkat/meerkat_umap_pv/data/interim/parameter_search/grid_search_umap_params/zs_euclidean_pad_0.001_1.5_100_9_specs_no_40_dB_no\n",
      "/home/mthomas/Documents/MPI_work/projects/meerkat/meerkat_umap_pv/data/interim/parameter_search/grid_search_umap_params/zs_euclidean_pad_0.001_1.5_100_9_specs_no_40_dB_no\n",
      "/home/mthomas/Documents/MPI_work/projects/meerkat/meerkat_umap_pv/data/interim/parameter_search/grid_search_umap_params/zs_euclidean_pad_0.001_1.5_100_10_specs_no_40_dB_no\n",
      "/home/mthomas/Documents/MPI_work/projects/meerkat/meerkat_umap_pv/data/interim/parameter_search/grid_search_umap_params/zs_euclidean_pad_0.001_1.5_100_10_specs_no_40_dB_no\n",
      "/home/mthomas/Documents/MPI_work/projects/meerkat/meerkat_umap_pv/data/interim/parameter_search/grid_search_umap_params/zs_euclidean_pad_0.01_1.5_100_2_specs_no_40_dB_no\n",
      "/home/mthomas/Documents/MPI_work/projects/meerkat/meerkat_umap_pv/data/interim/parameter_search/grid_search_umap_params/zs_euclidean_pad_0.01_1.5_100_2_specs_no_40_dB_no\n",
      "/home/mthomas/Documents/MPI_work/projects/meerkat/meerkat_umap_pv/data/interim/parameter_search/grid_search_umap_params/zs_euclidean_pad_0.01_1.5_100_3_specs_no_40_dB_no\n",
      "/home/mthomas/Documents/MPI_work/projects/meerkat/meerkat_umap_pv/data/interim/parameter_search/grid_search_umap_params/zs_euclidean_pad_0.01_1.5_100_3_specs_no_40_dB_no\n",
      "/home/mthomas/Documents/MPI_work/projects/meerkat/meerkat_umap_pv/data/interim/parameter_search/grid_search_umap_params/zs_euclidean_pad_0.01_1.5_100_4_specs_no_40_dB_no\n",
      "/home/mthomas/Documents/MPI_work/projects/meerkat/meerkat_umap_pv/data/interim/parameter_search/grid_search_umap_params/zs_euclidean_pad_0.01_1.5_100_4_specs_no_40_dB_no\n",
      "/home/mthomas/Documents/MPI_work/projects/meerkat/meerkat_umap_pv/data/interim/parameter_search/grid_search_umap_params/zs_euclidean_pad_0.01_1.5_100_5_specs_no_40_dB_no\n",
      "/home/mthomas/Documents/MPI_work/projects/meerkat/meerkat_umap_pv/data/interim/parameter_search/grid_search_umap_params/zs_euclidean_pad_0.01_1.5_100_5_specs_no_40_dB_no\n",
      "/home/mthomas/Documents/MPI_work/projects/meerkat/meerkat_umap_pv/data/interim/parameter_search/grid_search_umap_params/zs_euclidean_pad_0.01_1.5_100_6_specs_no_40_dB_no\n",
      "/home/mthomas/Documents/MPI_work/projects/meerkat/meerkat_umap_pv/data/interim/parameter_search/grid_search_umap_params/zs_euclidean_pad_0.01_1.5_100_6_specs_no_40_dB_no\n",
      "/home/mthomas/Documents/MPI_work/projects/meerkat/meerkat_umap_pv/data/interim/parameter_search/grid_search_umap_params/zs_euclidean_pad_0.01_1.5_100_7_specs_no_40_dB_no\n",
      "/home/mthomas/Documents/MPI_work/projects/meerkat/meerkat_umap_pv/data/interim/parameter_search/grid_search_umap_params/zs_euclidean_pad_0.01_1.5_100_7_specs_no_40_dB_no\n",
      "/home/mthomas/Documents/MPI_work/projects/meerkat/meerkat_umap_pv/data/interim/parameter_search/grid_search_umap_params/zs_euclidean_pad_0.01_1.5_100_8_specs_no_40_dB_no\n",
      "/home/mthomas/Documents/MPI_work/projects/meerkat/meerkat_umap_pv/data/interim/parameter_search/grid_search_umap_params/zs_euclidean_pad_0.01_1.5_100_8_specs_no_40_dB_no\n",
      "/home/mthomas/Documents/MPI_work/projects/meerkat/meerkat_umap_pv/data/interim/parameter_search/grid_search_umap_params/zs_euclidean_pad_0.01_1.5_100_9_specs_no_40_dB_no\n",
      "/home/mthomas/Documents/MPI_work/projects/meerkat/meerkat_umap_pv/data/interim/parameter_search/grid_search_umap_params/zs_euclidean_pad_0.01_1.5_100_9_specs_no_40_dB_no\n",
      "/home/mthomas/Documents/MPI_work/projects/meerkat/meerkat_umap_pv/data/interim/parameter_search/grid_search_umap_params/zs_euclidean_pad_0.01_1.5_100_10_specs_no_40_dB_no\n",
      "/home/mthomas/Documents/MPI_work/projects/meerkat/meerkat_umap_pv/data/interim/parameter_search/grid_search_umap_params/zs_euclidean_pad_0.01_1.5_100_10_specs_no_40_dB_no\n",
      "/home/mthomas/Documents/MPI_work/projects/meerkat/meerkat_umap_pv/data/interim/parameter_search/grid_search_umap_params/zs_euclidean_pad_0.1_1.5_100_2_specs_no_40_dB_no\n",
      "/home/mthomas/Documents/MPI_work/projects/meerkat/meerkat_umap_pv/data/interim/parameter_search/grid_search_umap_params/zs_euclidean_pad_0.1_1.5_100_2_specs_no_40_dB_no\n",
      "/home/mthomas/Documents/MPI_work/projects/meerkat/meerkat_umap_pv/data/interim/parameter_search/grid_search_umap_params/zs_euclidean_pad_0.1_1.5_100_3_specs_no_40_dB_no\n",
      "/home/mthomas/Documents/MPI_work/projects/meerkat/meerkat_umap_pv/data/interim/parameter_search/grid_search_umap_params/zs_euclidean_pad_0.1_1.5_100_3_specs_no_40_dB_no\n",
      "/home/mthomas/Documents/MPI_work/projects/meerkat/meerkat_umap_pv/data/interim/parameter_search/grid_search_umap_params/zs_euclidean_pad_0.1_1.5_100_4_specs_no_40_dB_no\n",
      "/home/mthomas/Documents/MPI_work/projects/meerkat/meerkat_umap_pv/data/interim/parameter_search/grid_search_umap_params/zs_euclidean_pad_0.1_1.5_100_4_specs_no_40_dB_no\n",
      "/home/mthomas/Documents/MPI_work/projects/meerkat/meerkat_umap_pv/data/interim/parameter_search/grid_search_umap_params/zs_euclidean_pad_0.1_1.5_100_5_specs_no_40_dB_no\n",
      "/home/mthomas/Documents/MPI_work/projects/meerkat/meerkat_umap_pv/data/interim/parameter_search/grid_search_umap_params/zs_euclidean_pad_0.1_1.5_100_5_specs_no_40_dB_no\n",
      "/home/mthomas/Documents/MPI_work/projects/meerkat/meerkat_umap_pv/data/interim/parameter_search/grid_search_umap_params/zs_euclidean_pad_0.1_1.5_100_6_specs_no_40_dB_no\n",
      "/home/mthomas/Documents/MPI_work/projects/meerkat/meerkat_umap_pv/data/interim/parameter_search/grid_search_umap_params/zs_euclidean_pad_0.1_1.5_100_6_specs_no_40_dB_no\n",
      "/home/mthomas/Documents/MPI_work/projects/meerkat/meerkat_umap_pv/data/interim/parameter_search/grid_search_umap_params/zs_euclidean_pad_0.1_1.5_100_7_specs_no_40_dB_no\n",
      "/home/mthomas/Documents/MPI_work/projects/meerkat/meerkat_umap_pv/data/interim/parameter_search/grid_search_umap_params/zs_euclidean_pad_0.1_1.5_100_7_specs_no_40_dB_no\n",
      "/home/mthomas/Documents/MPI_work/projects/meerkat/meerkat_umap_pv/data/interim/parameter_search/grid_search_umap_params/zs_euclidean_pad_0.1_1.5_100_8_specs_no_40_dB_no\n",
      "/home/mthomas/Documents/MPI_work/projects/meerkat/meerkat_umap_pv/data/interim/parameter_search/grid_search_umap_params/zs_euclidean_pad_0.1_1.5_100_8_specs_no_40_dB_no\n",
      "/home/mthomas/Documents/MPI_work/projects/meerkat/meerkat_umap_pv/data/interim/parameter_search/grid_search_umap_params/zs_euclidean_pad_0.1_1.5_100_9_specs_no_40_dB_no\n",
      "/home/mthomas/Documents/MPI_work/projects/meerkat/meerkat_umap_pv/data/interim/parameter_search/grid_search_umap_params/zs_euclidean_pad_0.1_1.5_100_9_specs_no_40_dB_no\n",
      "/home/mthomas/Documents/MPI_work/projects/meerkat/meerkat_umap_pv/data/interim/parameter_search/grid_search_umap_params/zs_euclidean_pad_0.1_1.5_100_10_specs_no_40_dB_no\n",
      "/home/mthomas/Documents/MPI_work/projects/meerkat/meerkat_umap_pv/data/interim/parameter_search/grid_search_umap_params/zs_euclidean_pad_0.1_1.5_100_10_specs_no_40_dB_no\n",
      "/home/mthomas/Documents/MPI_work/projects/meerkat/meerkat_umap_pv/data/interim/parameter_search/grid_search_umap_params/zs_euclidean_pad_1_1.5_100_2_specs_no_40_dB_no\n",
      "/home/mthomas/Documents/MPI_work/projects/meerkat/meerkat_umap_pv/data/interim/parameter_search/grid_search_umap_params/zs_euclidean_pad_1_1.5_100_2_specs_no_40_dB_no\n",
      "/home/mthomas/Documents/MPI_work/projects/meerkat/meerkat_umap_pv/data/interim/parameter_search/grid_search_umap_params/zs_euclidean_pad_1_1.5_100_3_specs_no_40_dB_no\n",
      "/home/mthomas/Documents/MPI_work/projects/meerkat/meerkat_umap_pv/data/interim/parameter_search/grid_search_umap_params/zs_euclidean_pad_1_1.5_100_3_specs_no_40_dB_no\n",
      "/home/mthomas/Documents/MPI_work/projects/meerkat/meerkat_umap_pv/data/interim/parameter_search/grid_search_umap_params/zs_euclidean_pad_1_1.5_100_4_specs_no_40_dB_no\n",
      "/home/mthomas/Documents/MPI_work/projects/meerkat/meerkat_umap_pv/data/interim/parameter_search/grid_search_umap_params/zs_euclidean_pad_1_1.5_100_4_specs_no_40_dB_no\n",
      "/home/mthomas/Documents/MPI_work/projects/meerkat/meerkat_umap_pv/data/interim/parameter_search/grid_search_umap_params/zs_euclidean_pad_1_1.5_100_5_specs_no_40_dB_no\n",
      "/home/mthomas/Documents/MPI_work/projects/meerkat/meerkat_umap_pv/data/interim/parameter_search/grid_search_umap_params/zs_euclidean_pad_1_1.5_100_5_specs_no_40_dB_no\n",
      "/home/mthomas/Documents/MPI_work/projects/meerkat/meerkat_umap_pv/data/interim/parameter_search/grid_search_umap_params/zs_euclidean_pad_1_1.5_100_6_specs_no_40_dB_no\n",
      "/home/mthomas/Documents/MPI_work/projects/meerkat/meerkat_umap_pv/data/interim/parameter_search/grid_search_umap_params/zs_euclidean_pad_1_1.5_100_6_specs_no_40_dB_no\n",
      "/home/mthomas/Documents/MPI_work/projects/meerkat/meerkat_umap_pv/data/interim/parameter_search/grid_search_umap_params/zs_euclidean_pad_1_1.5_100_7_specs_no_40_dB_no\n",
      "/home/mthomas/Documents/MPI_work/projects/meerkat/meerkat_umap_pv/data/interim/parameter_search/grid_search_umap_params/zs_euclidean_pad_1_1.5_100_7_specs_no_40_dB_no\n",
      "/home/mthomas/Documents/MPI_work/projects/meerkat/meerkat_umap_pv/data/interim/parameter_search/grid_search_umap_params/zs_euclidean_pad_1_1.5_100_8_specs_no_40_dB_no\n",
      "/home/mthomas/Documents/MPI_work/projects/meerkat/meerkat_umap_pv/data/interim/parameter_search/grid_search_umap_params/zs_euclidean_pad_1_1.5_100_8_specs_no_40_dB_no\n",
      "/home/mthomas/Documents/MPI_work/projects/meerkat/meerkat_umap_pv/data/interim/parameter_search/grid_search_umap_params/zs_euclidean_pad_1_1.5_100_9_specs_no_40_dB_no\n",
      "/home/mthomas/Documents/MPI_work/projects/meerkat/meerkat_umap_pv/data/interim/parameter_search/grid_search_umap_params/zs_euclidean_pad_1_1.5_100_9_specs_no_40_dB_no\n",
      "/home/mthomas/Documents/MPI_work/projects/meerkat/meerkat_umap_pv/data/interim/parameter_search/grid_search_umap_params/zs_euclidean_pad_1_1.5_100_10_specs_no_40_dB_no\n",
      "/home/mthomas/Documents/MPI_work/projects/meerkat/meerkat_umap_pv/data/interim/parameter_search/grid_search_umap_params/zs_euclidean_pad_1_1.5_100_10_specs_no_40_dB_no\n",
      "/home/mthomas/Documents/MPI_work/projects/meerkat/meerkat_umap_pv/data/interim/parameter_search/grid_search_umap_params/zs_euclidean_pad_0_1.5_150_2_specs_no_40_dB_no\n",
      "/home/mthomas/Documents/MPI_work/projects/meerkat/meerkat_umap_pv/data/interim/parameter_search/grid_search_umap_params/zs_euclidean_pad_0_1.5_150_2_specs_no_40_dB_no\n",
      "/home/mthomas/Documents/MPI_work/projects/meerkat/meerkat_umap_pv/data/interim/parameter_search/grid_search_umap_params/zs_euclidean_pad_0_1.5_150_3_specs_no_40_dB_no\n",
      "/home/mthomas/Documents/MPI_work/projects/meerkat/meerkat_umap_pv/data/interim/parameter_search/grid_search_umap_params/zs_euclidean_pad_0_1.5_150_3_specs_no_40_dB_no\n",
      "/home/mthomas/Documents/MPI_work/projects/meerkat/meerkat_umap_pv/data/interim/parameter_search/grid_search_umap_params/zs_euclidean_pad_0_1.5_150_4_specs_no_40_dB_no\n",
      "/home/mthomas/Documents/MPI_work/projects/meerkat/meerkat_umap_pv/data/interim/parameter_search/grid_search_umap_params/zs_euclidean_pad_0_1.5_150_4_specs_no_40_dB_no\n",
      "/home/mthomas/Documents/MPI_work/projects/meerkat/meerkat_umap_pv/data/interim/parameter_search/grid_search_umap_params/zs_euclidean_pad_0_1.5_150_5_specs_no_40_dB_no\n",
      "/home/mthomas/Documents/MPI_work/projects/meerkat/meerkat_umap_pv/data/interim/parameter_search/grid_search_umap_params/zs_euclidean_pad_0_1.5_150_5_specs_no_40_dB_no\n",
      "/home/mthomas/Documents/MPI_work/projects/meerkat/meerkat_umap_pv/data/interim/parameter_search/grid_search_umap_params/zs_euclidean_pad_0_1.5_150_6_specs_no_40_dB_no\n",
      "/home/mthomas/Documents/MPI_work/projects/meerkat/meerkat_umap_pv/data/interim/parameter_search/grid_search_umap_params/zs_euclidean_pad_0_1.5_150_6_specs_no_40_dB_no\n",
      "/home/mthomas/Documents/MPI_work/projects/meerkat/meerkat_umap_pv/data/interim/parameter_search/grid_search_umap_params/zs_euclidean_pad_0_1.5_150_7_specs_no_40_dB_no\n",
      "/home/mthomas/Documents/MPI_work/projects/meerkat/meerkat_umap_pv/data/interim/parameter_search/grid_search_umap_params/zs_euclidean_pad_0_1.5_150_7_specs_no_40_dB_no\n",
      "/home/mthomas/Documents/MPI_work/projects/meerkat/meerkat_umap_pv/data/interim/parameter_search/grid_search_umap_params/zs_euclidean_pad_0_1.5_150_8_specs_no_40_dB_no\n",
      "/home/mthomas/Documents/MPI_work/projects/meerkat/meerkat_umap_pv/data/interim/parameter_search/grid_search_umap_params/zs_euclidean_pad_0_1.5_150_8_specs_no_40_dB_no\n",
      "/home/mthomas/Documents/MPI_work/projects/meerkat/meerkat_umap_pv/data/interim/parameter_search/grid_search_umap_params/zs_euclidean_pad_0_1.5_150_9_specs_no_40_dB_no\n",
      "/home/mthomas/Documents/MPI_work/projects/meerkat/meerkat_umap_pv/data/interim/parameter_search/grid_search_umap_params/zs_euclidean_pad_0_1.5_150_9_specs_no_40_dB_no\n",
      "/home/mthomas/Documents/MPI_work/projects/meerkat/meerkat_umap_pv/data/interim/parameter_search/grid_search_umap_params/zs_euclidean_pad_0_1.5_150_10_specs_no_40_dB_no\n",
      "/home/mthomas/Documents/MPI_work/projects/meerkat/meerkat_umap_pv/data/interim/parameter_search/grid_search_umap_params/zs_euclidean_pad_0_1.5_150_10_specs_no_40_dB_no\n",
      "/home/mthomas/Documents/MPI_work/projects/meerkat/meerkat_umap_pv/data/interim/parameter_search/grid_search_umap_params/zs_euclidean_pad_0.001_1.5_150_2_specs_no_40_dB_no\n",
      "/home/mthomas/Documents/MPI_work/projects/meerkat/meerkat_umap_pv/data/interim/parameter_search/grid_search_umap_params/zs_euclidean_pad_0.001_1.5_150_2_specs_no_40_dB_no\n",
      "/home/mthomas/Documents/MPI_work/projects/meerkat/meerkat_umap_pv/data/interim/parameter_search/grid_search_umap_params/zs_euclidean_pad_0.001_1.5_150_3_specs_no_40_dB_no\n",
      "/home/mthomas/Documents/MPI_work/projects/meerkat/meerkat_umap_pv/data/interim/parameter_search/grid_search_umap_params/zs_euclidean_pad_0.001_1.5_150_3_specs_no_40_dB_no\n",
      "/home/mthomas/Documents/MPI_work/projects/meerkat/meerkat_umap_pv/data/interim/parameter_search/grid_search_umap_params/zs_euclidean_pad_0.001_1.5_150_4_specs_no_40_dB_no\n",
      "/home/mthomas/Documents/MPI_work/projects/meerkat/meerkat_umap_pv/data/interim/parameter_search/grid_search_umap_params/zs_euclidean_pad_0.001_1.5_150_4_specs_no_40_dB_no\n",
      "/home/mthomas/Documents/MPI_work/projects/meerkat/meerkat_umap_pv/data/interim/parameter_search/grid_search_umap_params/zs_euclidean_pad_0.001_1.5_150_5_specs_no_40_dB_no\n",
      "/home/mthomas/Documents/MPI_work/projects/meerkat/meerkat_umap_pv/data/interim/parameter_search/grid_search_umap_params/zs_euclidean_pad_0.001_1.5_150_5_specs_no_40_dB_no\n",
      "/home/mthomas/Documents/MPI_work/projects/meerkat/meerkat_umap_pv/data/interim/parameter_search/grid_search_umap_params/zs_euclidean_pad_0.001_1.5_150_6_specs_no_40_dB_no\n",
      "/home/mthomas/Documents/MPI_work/projects/meerkat/meerkat_umap_pv/data/interim/parameter_search/grid_search_umap_params/zs_euclidean_pad_0.001_1.5_150_6_specs_no_40_dB_no\n",
      "/home/mthomas/Documents/MPI_work/projects/meerkat/meerkat_umap_pv/data/interim/parameter_search/grid_search_umap_params/zs_euclidean_pad_0.001_1.5_150_7_specs_no_40_dB_no\n",
      "/home/mthomas/Documents/MPI_work/projects/meerkat/meerkat_umap_pv/data/interim/parameter_search/grid_search_umap_params/zs_euclidean_pad_0.001_1.5_150_7_specs_no_40_dB_no\n",
      "/home/mthomas/Documents/MPI_work/projects/meerkat/meerkat_umap_pv/data/interim/parameter_search/grid_search_umap_params/zs_euclidean_pad_0.001_1.5_150_8_specs_no_40_dB_no\n",
      "/home/mthomas/Documents/MPI_work/projects/meerkat/meerkat_umap_pv/data/interim/parameter_search/grid_search_umap_params/zs_euclidean_pad_0.001_1.5_150_8_specs_no_40_dB_no\n",
      "/home/mthomas/Documents/MPI_work/projects/meerkat/meerkat_umap_pv/data/interim/parameter_search/grid_search_umap_params/zs_euclidean_pad_0.001_1.5_150_9_specs_no_40_dB_no\n",
      "/home/mthomas/Documents/MPI_work/projects/meerkat/meerkat_umap_pv/data/interim/parameter_search/grid_search_umap_params/zs_euclidean_pad_0.001_1.5_150_9_specs_no_40_dB_no\n",
      "/home/mthomas/Documents/MPI_work/projects/meerkat/meerkat_umap_pv/data/interim/parameter_search/grid_search_umap_params/zs_euclidean_pad_0.001_1.5_150_10_specs_no_40_dB_no\n",
      "/home/mthomas/Documents/MPI_work/projects/meerkat/meerkat_umap_pv/data/interim/parameter_search/grid_search_umap_params/zs_euclidean_pad_0.001_1.5_150_10_specs_no_40_dB_no\n",
      "/home/mthomas/Documents/MPI_work/projects/meerkat/meerkat_umap_pv/data/interim/parameter_search/grid_search_umap_params/zs_euclidean_pad_0.01_1.5_150_2_specs_no_40_dB_no\n",
      "/home/mthomas/Documents/MPI_work/projects/meerkat/meerkat_umap_pv/data/interim/parameter_search/grid_search_umap_params/zs_euclidean_pad_0.01_1.5_150_2_specs_no_40_dB_no\n",
      "/home/mthomas/Documents/MPI_work/projects/meerkat/meerkat_umap_pv/data/interim/parameter_search/grid_search_umap_params/zs_euclidean_pad_0.01_1.5_150_3_specs_no_40_dB_no\n",
      "/home/mthomas/Documents/MPI_work/projects/meerkat/meerkat_umap_pv/data/interim/parameter_search/grid_search_umap_params/zs_euclidean_pad_0.01_1.5_150_3_specs_no_40_dB_no\n",
      "/home/mthomas/Documents/MPI_work/projects/meerkat/meerkat_umap_pv/data/interim/parameter_search/grid_search_umap_params/zs_euclidean_pad_0.01_1.5_150_4_specs_no_40_dB_no\n",
      "/home/mthomas/Documents/MPI_work/projects/meerkat/meerkat_umap_pv/data/interim/parameter_search/grid_search_umap_params/zs_euclidean_pad_0.01_1.5_150_4_specs_no_40_dB_no\n",
      "/home/mthomas/Documents/MPI_work/projects/meerkat/meerkat_umap_pv/data/interim/parameter_search/grid_search_umap_params/zs_euclidean_pad_0.01_1.5_150_5_specs_no_40_dB_no\n",
      "/home/mthomas/Documents/MPI_work/projects/meerkat/meerkat_umap_pv/data/interim/parameter_search/grid_search_umap_params/zs_euclidean_pad_0.01_1.5_150_5_specs_no_40_dB_no\n",
      "/home/mthomas/Documents/MPI_work/projects/meerkat/meerkat_umap_pv/data/interim/parameter_search/grid_search_umap_params/zs_euclidean_pad_0.01_1.5_150_6_specs_no_40_dB_no\n",
      "/home/mthomas/Documents/MPI_work/projects/meerkat/meerkat_umap_pv/data/interim/parameter_search/grid_search_umap_params/zs_euclidean_pad_0.01_1.5_150_6_specs_no_40_dB_no\n",
      "/home/mthomas/Documents/MPI_work/projects/meerkat/meerkat_umap_pv/data/interim/parameter_search/grid_search_umap_params/zs_euclidean_pad_0.01_1.5_150_7_specs_no_40_dB_no\n",
      "/home/mthomas/Documents/MPI_work/projects/meerkat/meerkat_umap_pv/data/interim/parameter_search/grid_search_umap_params/zs_euclidean_pad_0.01_1.5_150_7_specs_no_40_dB_no\n",
      "/home/mthomas/Documents/MPI_work/projects/meerkat/meerkat_umap_pv/data/interim/parameter_search/grid_search_umap_params/zs_euclidean_pad_0.01_1.5_150_8_specs_no_40_dB_no\n",
      "/home/mthomas/Documents/MPI_work/projects/meerkat/meerkat_umap_pv/data/interim/parameter_search/grid_search_umap_params/zs_euclidean_pad_0.01_1.5_150_8_specs_no_40_dB_no\n",
      "/home/mthomas/Documents/MPI_work/projects/meerkat/meerkat_umap_pv/data/interim/parameter_search/grid_search_umap_params/zs_euclidean_pad_0.01_1.5_150_9_specs_no_40_dB_no\n",
      "/home/mthomas/Documents/MPI_work/projects/meerkat/meerkat_umap_pv/data/interim/parameter_search/grid_search_umap_params/zs_euclidean_pad_0.01_1.5_150_9_specs_no_40_dB_no\n",
      "/home/mthomas/Documents/MPI_work/projects/meerkat/meerkat_umap_pv/data/interim/parameter_search/grid_search_umap_params/zs_euclidean_pad_0.01_1.5_150_10_specs_no_40_dB_no\n",
      "/home/mthomas/Documents/MPI_work/projects/meerkat/meerkat_umap_pv/data/interim/parameter_search/grid_search_umap_params/zs_euclidean_pad_0.01_1.5_150_10_specs_no_40_dB_no\n",
      "/home/mthomas/Documents/MPI_work/projects/meerkat/meerkat_umap_pv/data/interim/parameter_search/grid_search_umap_params/zs_euclidean_pad_0.1_1.5_150_2_specs_no_40_dB_no\n",
      "/home/mthomas/Documents/MPI_work/projects/meerkat/meerkat_umap_pv/data/interim/parameter_search/grid_search_umap_params/zs_euclidean_pad_0.1_1.5_150_2_specs_no_40_dB_no\n",
      "/home/mthomas/Documents/MPI_work/projects/meerkat/meerkat_umap_pv/data/interim/parameter_search/grid_search_umap_params/zs_euclidean_pad_0.1_1.5_150_3_specs_no_40_dB_no\n",
      "/home/mthomas/Documents/MPI_work/projects/meerkat/meerkat_umap_pv/data/interim/parameter_search/grid_search_umap_params/zs_euclidean_pad_0.1_1.5_150_3_specs_no_40_dB_no\n",
      "/home/mthomas/Documents/MPI_work/projects/meerkat/meerkat_umap_pv/data/interim/parameter_search/grid_search_umap_params/zs_euclidean_pad_0.1_1.5_150_4_specs_no_40_dB_no\n",
      "/home/mthomas/Documents/MPI_work/projects/meerkat/meerkat_umap_pv/data/interim/parameter_search/grid_search_umap_params/zs_euclidean_pad_0.1_1.5_150_4_specs_no_40_dB_no\n",
      "/home/mthomas/Documents/MPI_work/projects/meerkat/meerkat_umap_pv/data/interim/parameter_search/grid_search_umap_params/zs_euclidean_pad_0.1_1.5_150_5_specs_no_40_dB_no\n",
      "/home/mthomas/Documents/MPI_work/projects/meerkat/meerkat_umap_pv/data/interim/parameter_search/grid_search_umap_params/zs_euclidean_pad_0.1_1.5_150_5_specs_no_40_dB_no\n",
      "/home/mthomas/Documents/MPI_work/projects/meerkat/meerkat_umap_pv/data/interim/parameter_search/grid_search_umap_params/zs_euclidean_pad_0.1_1.5_150_6_specs_no_40_dB_no\n",
      "/home/mthomas/Documents/MPI_work/projects/meerkat/meerkat_umap_pv/data/interim/parameter_search/grid_search_umap_params/zs_euclidean_pad_0.1_1.5_150_6_specs_no_40_dB_no\n",
      "/home/mthomas/Documents/MPI_work/projects/meerkat/meerkat_umap_pv/data/interim/parameter_search/grid_search_umap_params/zs_euclidean_pad_0.1_1.5_150_7_specs_no_40_dB_no\n",
      "/home/mthomas/Documents/MPI_work/projects/meerkat/meerkat_umap_pv/data/interim/parameter_search/grid_search_umap_params/zs_euclidean_pad_0.1_1.5_150_7_specs_no_40_dB_no\n",
      "/home/mthomas/Documents/MPI_work/projects/meerkat/meerkat_umap_pv/data/interim/parameter_search/grid_search_umap_params/zs_euclidean_pad_0.1_1.5_150_8_specs_no_40_dB_no\n",
      "/home/mthomas/Documents/MPI_work/projects/meerkat/meerkat_umap_pv/data/interim/parameter_search/grid_search_umap_params/zs_euclidean_pad_0.1_1.5_150_8_specs_no_40_dB_no\n",
      "/home/mthomas/Documents/MPI_work/projects/meerkat/meerkat_umap_pv/data/interim/parameter_search/grid_search_umap_params/zs_euclidean_pad_0.1_1.5_150_9_specs_no_40_dB_no\n",
      "/home/mthomas/Documents/MPI_work/projects/meerkat/meerkat_umap_pv/data/interim/parameter_search/grid_search_umap_params/zs_euclidean_pad_0.1_1.5_150_9_specs_no_40_dB_no\n",
      "/home/mthomas/Documents/MPI_work/projects/meerkat/meerkat_umap_pv/data/interim/parameter_search/grid_search_umap_params/zs_euclidean_pad_0.1_1.5_150_10_specs_no_40_dB_no\n",
      "/home/mthomas/Documents/MPI_work/projects/meerkat/meerkat_umap_pv/data/interim/parameter_search/grid_search_umap_params/zs_euclidean_pad_0.1_1.5_150_10_specs_no_40_dB_no\n",
      "/home/mthomas/Documents/MPI_work/projects/meerkat/meerkat_umap_pv/data/interim/parameter_search/grid_search_umap_params/zs_euclidean_pad_1_1.5_150_2_specs_no_40_dB_no\n",
      "/home/mthomas/Documents/MPI_work/projects/meerkat/meerkat_umap_pv/data/interim/parameter_search/grid_search_umap_params/zs_euclidean_pad_1_1.5_150_2_specs_no_40_dB_no\n",
      "/home/mthomas/Documents/MPI_work/projects/meerkat/meerkat_umap_pv/data/interim/parameter_search/grid_search_umap_params/zs_euclidean_pad_1_1.5_150_3_specs_no_40_dB_no\n",
      "/home/mthomas/Documents/MPI_work/projects/meerkat/meerkat_umap_pv/data/interim/parameter_search/grid_search_umap_params/zs_euclidean_pad_1_1.5_150_3_specs_no_40_dB_no\n",
      "/home/mthomas/Documents/MPI_work/projects/meerkat/meerkat_umap_pv/data/interim/parameter_search/grid_search_umap_params/zs_euclidean_pad_1_1.5_150_4_specs_no_40_dB_no\n",
      "/home/mthomas/Documents/MPI_work/projects/meerkat/meerkat_umap_pv/data/interim/parameter_search/grid_search_umap_params/zs_euclidean_pad_1_1.5_150_4_specs_no_40_dB_no\n",
      "/home/mthomas/Documents/MPI_work/projects/meerkat/meerkat_umap_pv/data/interim/parameter_search/grid_search_umap_params/zs_euclidean_pad_1_1.5_150_5_specs_no_40_dB_no\n",
      "/home/mthomas/Documents/MPI_work/projects/meerkat/meerkat_umap_pv/data/interim/parameter_search/grid_search_umap_params/zs_euclidean_pad_1_1.5_150_5_specs_no_40_dB_no\n",
      "/home/mthomas/Documents/MPI_work/projects/meerkat/meerkat_umap_pv/data/interim/parameter_search/grid_search_umap_params/zs_euclidean_pad_1_1.5_150_6_specs_no_40_dB_no\n",
      "/home/mthomas/Documents/MPI_work/projects/meerkat/meerkat_umap_pv/data/interim/parameter_search/grid_search_umap_params/zs_euclidean_pad_1_1.5_150_6_specs_no_40_dB_no\n",
      "/home/mthomas/Documents/MPI_work/projects/meerkat/meerkat_umap_pv/data/interim/parameter_search/grid_search_umap_params/zs_euclidean_pad_1_1.5_150_7_specs_no_40_dB_no\n",
      "/home/mthomas/Documents/MPI_work/projects/meerkat/meerkat_umap_pv/data/interim/parameter_search/grid_search_umap_params/zs_euclidean_pad_1_1.5_150_7_specs_no_40_dB_no\n",
      "/home/mthomas/Documents/MPI_work/projects/meerkat/meerkat_umap_pv/data/interim/parameter_search/grid_search_umap_params/zs_euclidean_pad_1_1.5_150_8_specs_no_40_dB_no\n",
      "/home/mthomas/Documents/MPI_work/projects/meerkat/meerkat_umap_pv/data/interim/parameter_search/grid_search_umap_params/zs_euclidean_pad_1_1.5_150_8_specs_no_40_dB_no\n",
      "/home/mthomas/Documents/MPI_work/projects/meerkat/meerkat_umap_pv/data/interim/parameter_search/grid_search_umap_params/zs_euclidean_pad_1_1.5_150_9_specs_no_40_dB_no\n",
      "/home/mthomas/Documents/MPI_work/projects/meerkat/meerkat_umap_pv/data/interim/parameter_search/grid_search_umap_params/zs_euclidean_pad_1_1.5_150_9_specs_no_40_dB_no\n",
      "/home/mthomas/Documents/MPI_work/projects/meerkat/meerkat_umap_pv/data/interim/parameter_search/grid_search_umap_params/zs_euclidean_pad_1_1.5_150_10_specs_no_40_dB_no\n",
      "/home/mthomas/Documents/MPI_work/projects/meerkat/meerkat_umap_pv/data/interim/parameter_search/grid_search_umap_params/zs_euclidean_pad_1_1.5_150_10_specs_no_40_dB_no\n",
      "/home/mthomas/Documents/MPI_work/projects/meerkat/meerkat_umap_pv/data/interim/parameter_search/grid_search_umap_params/zs_euclidean_pad_0_1.5_200_2_specs_no_40_dB_no\n",
      "/home/mthomas/Documents/MPI_work/projects/meerkat/meerkat_umap_pv/data/interim/parameter_search/grid_search_umap_params/zs_euclidean_pad_0_1.5_200_2_specs_no_40_dB_no\n",
      "/home/mthomas/Documents/MPI_work/projects/meerkat/meerkat_umap_pv/data/interim/parameter_search/grid_search_umap_params/zs_euclidean_pad_0_1.5_200_3_specs_no_40_dB_no\n",
      "/home/mthomas/Documents/MPI_work/projects/meerkat/meerkat_umap_pv/data/interim/parameter_search/grid_search_umap_params/zs_euclidean_pad_0_1.5_200_3_specs_no_40_dB_no\n",
      "/home/mthomas/Documents/MPI_work/projects/meerkat/meerkat_umap_pv/data/interim/parameter_search/grid_search_umap_params/zs_euclidean_pad_0_1.5_200_4_specs_no_40_dB_no\n",
      "/home/mthomas/Documents/MPI_work/projects/meerkat/meerkat_umap_pv/data/interim/parameter_search/grid_search_umap_params/zs_euclidean_pad_0_1.5_200_4_specs_no_40_dB_no\n",
      "/home/mthomas/Documents/MPI_work/projects/meerkat/meerkat_umap_pv/data/interim/parameter_search/grid_search_umap_params/zs_euclidean_pad_0_1.5_200_5_specs_no_40_dB_no\n",
      "/home/mthomas/Documents/MPI_work/projects/meerkat/meerkat_umap_pv/data/interim/parameter_search/grid_search_umap_params/zs_euclidean_pad_0_1.5_200_5_specs_no_40_dB_no\n",
      "/home/mthomas/Documents/MPI_work/projects/meerkat/meerkat_umap_pv/data/interim/parameter_search/grid_search_umap_params/zs_euclidean_pad_0_1.5_200_6_specs_no_40_dB_no\n",
      "/home/mthomas/Documents/MPI_work/projects/meerkat/meerkat_umap_pv/data/interim/parameter_search/grid_search_umap_params/zs_euclidean_pad_0_1.5_200_6_specs_no_40_dB_no\n",
      "/home/mthomas/Documents/MPI_work/projects/meerkat/meerkat_umap_pv/data/interim/parameter_search/grid_search_umap_params/zs_euclidean_pad_0_1.5_200_7_specs_no_40_dB_no\n",
      "/home/mthomas/Documents/MPI_work/projects/meerkat/meerkat_umap_pv/data/interim/parameter_search/grid_search_umap_params/zs_euclidean_pad_0_1.5_200_7_specs_no_40_dB_no\n",
      "/home/mthomas/Documents/MPI_work/projects/meerkat/meerkat_umap_pv/data/interim/parameter_search/grid_search_umap_params/zs_euclidean_pad_0_1.5_200_8_specs_no_40_dB_no\n",
      "/home/mthomas/Documents/MPI_work/projects/meerkat/meerkat_umap_pv/data/interim/parameter_search/grid_search_umap_params/zs_euclidean_pad_0_1.5_200_8_specs_no_40_dB_no\n",
      "/home/mthomas/Documents/MPI_work/projects/meerkat/meerkat_umap_pv/data/interim/parameter_search/grid_search_umap_params/zs_euclidean_pad_0_1.5_200_9_specs_no_40_dB_no\n",
      "/home/mthomas/Documents/MPI_work/projects/meerkat/meerkat_umap_pv/data/interim/parameter_search/grid_search_umap_params/zs_euclidean_pad_0_1.5_200_9_specs_no_40_dB_no\n",
      "/home/mthomas/Documents/MPI_work/projects/meerkat/meerkat_umap_pv/data/interim/parameter_search/grid_search_umap_params/zs_euclidean_pad_0_1.5_200_10_specs_no_40_dB_no\n",
      "/home/mthomas/Documents/MPI_work/projects/meerkat/meerkat_umap_pv/data/interim/parameter_search/grid_search_umap_params/zs_euclidean_pad_0_1.5_200_10_specs_no_40_dB_no\n",
      "/home/mthomas/Documents/MPI_work/projects/meerkat/meerkat_umap_pv/data/interim/parameter_search/grid_search_umap_params/zs_euclidean_pad_0.001_1.5_200_2_specs_no_40_dB_no\n",
      "/home/mthomas/Documents/MPI_work/projects/meerkat/meerkat_umap_pv/data/interim/parameter_search/grid_search_umap_params/zs_euclidean_pad_0.001_1.5_200_2_specs_no_40_dB_no\n",
      "/home/mthomas/Documents/MPI_work/projects/meerkat/meerkat_umap_pv/data/interim/parameter_search/grid_search_umap_params/zs_euclidean_pad_0.001_1.5_200_3_specs_no_40_dB_no\n",
      "/home/mthomas/Documents/MPI_work/projects/meerkat/meerkat_umap_pv/data/interim/parameter_search/grid_search_umap_params/zs_euclidean_pad_0.001_1.5_200_3_specs_no_40_dB_no\n",
      "/home/mthomas/Documents/MPI_work/projects/meerkat/meerkat_umap_pv/data/interim/parameter_search/grid_search_umap_params/zs_euclidean_pad_0.001_1.5_200_4_specs_no_40_dB_no\n",
      "/home/mthomas/Documents/MPI_work/projects/meerkat/meerkat_umap_pv/data/interim/parameter_search/grid_search_umap_params/zs_euclidean_pad_0.001_1.5_200_4_specs_no_40_dB_no\n",
      "/home/mthomas/Documents/MPI_work/projects/meerkat/meerkat_umap_pv/data/interim/parameter_search/grid_search_umap_params/zs_euclidean_pad_0.001_1.5_200_5_specs_no_40_dB_no\n",
      "/home/mthomas/Documents/MPI_work/projects/meerkat/meerkat_umap_pv/data/interim/parameter_search/grid_search_umap_params/zs_euclidean_pad_0.001_1.5_200_5_specs_no_40_dB_no\n",
      "/home/mthomas/Documents/MPI_work/projects/meerkat/meerkat_umap_pv/data/interim/parameter_search/grid_search_umap_params/zs_euclidean_pad_0.001_1.5_200_6_specs_no_40_dB_no\n",
      "/home/mthomas/Documents/MPI_work/projects/meerkat/meerkat_umap_pv/data/interim/parameter_search/grid_search_umap_params/zs_euclidean_pad_0.001_1.5_200_6_specs_no_40_dB_no\n",
      "/home/mthomas/Documents/MPI_work/projects/meerkat/meerkat_umap_pv/data/interim/parameter_search/grid_search_umap_params/zs_euclidean_pad_0.001_1.5_200_7_specs_no_40_dB_no\n",
      "/home/mthomas/Documents/MPI_work/projects/meerkat/meerkat_umap_pv/data/interim/parameter_search/grid_search_umap_params/zs_euclidean_pad_0.001_1.5_200_7_specs_no_40_dB_no\n",
      "/home/mthomas/Documents/MPI_work/projects/meerkat/meerkat_umap_pv/data/interim/parameter_search/grid_search_umap_params/zs_euclidean_pad_0.001_1.5_200_8_specs_no_40_dB_no\n",
      "/home/mthomas/Documents/MPI_work/projects/meerkat/meerkat_umap_pv/data/interim/parameter_search/grid_search_umap_params/zs_euclidean_pad_0.001_1.5_200_8_specs_no_40_dB_no\n",
      "/home/mthomas/Documents/MPI_work/projects/meerkat/meerkat_umap_pv/data/interim/parameter_search/grid_search_umap_params/zs_euclidean_pad_0.001_1.5_200_9_specs_no_40_dB_no\n",
      "/home/mthomas/Documents/MPI_work/projects/meerkat/meerkat_umap_pv/data/interim/parameter_search/grid_search_umap_params/zs_euclidean_pad_0.001_1.5_200_9_specs_no_40_dB_no\n",
      "/home/mthomas/Documents/MPI_work/projects/meerkat/meerkat_umap_pv/data/interim/parameter_search/grid_search_umap_params/zs_euclidean_pad_0.001_1.5_200_10_specs_no_40_dB_no\n",
      "/home/mthomas/Documents/MPI_work/projects/meerkat/meerkat_umap_pv/data/interim/parameter_search/grid_search_umap_params/zs_euclidean_pad_0.001_1.5_200_10_specs_no_40_dB_no\n",
      "/home/mthomas/Documents/MPI_work/projects/meerkat/meerkat_umap_pv/data/interim/parameter_search/grid_search_umap_params/zs_euclidean_pad_0.01_1.5_200_2_specs_no_40_dB_no\n",
      "/home/mthomas/Documents/MPI_work/projects/meerkat/meerkat_umap_pv/data/interim/parameter_search/grid_search_umap_params/zs_euclidean_pad_0.01_1.5_200_2_specs_no_40_dB_no\n",
      "/home/mthomas/Documents/MPI_work/projects/meerkat/meerkat_umap_pv/data/interim/parameter_search/grid_search_umap_params/zs_euclidean_pad_0.01_1.5_200_3_specs_no_40_dB_no\n",
      "/home/mthomas/Documents/MPI_work/projects/meerkat/meerkat_umap_pv/data/interim/parameter_search/grid_search_umap_params/zs_euclidean_pad_0.01_1.5_200_3_specs_no_40_dB_no\n",
      "/home/mthomas/Documents/MPI_work/projects/meerkat/meerkat_umap_pv/data/interim/parameter_search/grid_search_umap_params/zs_euclidean_pad_0.01_1.5_200_4_specs_no_40_dB_no\n",
      "/home/mthomas/Documents/MPI_work/projects/meerkat/meerkat_umap_pv/data/interim/parameter_search/grid_search_umap_params/zs_euclidean_pad_0.01_1.5_200_4_specs_no_40_dB_no\n",
      "/home/mthomas/Documents/MPI_work/projects/meerkat/meerkat_umap_pv/data/interim/parameter_search/grid_search_umap_params/zs_euclidean_pad_0.01_1.5_200_5_specs_no_40_dB_no\n",
      "/home/mthomas/Documents/MPI_work/projects/meerkat/meerkat_umap_pv/data/interim/parameter_search/grid_search_umap_params/zs_euclidean_pad_0.01_1.5_200_5_specs_no_40_dB_no\n",
      "/home/mthomas/Documents/MPI_work/projects/meerkat/meerkat_umap_pv/data/interim/parameter_search/grid_search_umap_params/zs_euclidean_pad_0.01_1.5_200_6_specs_no_40_dB_no\n",
      "/home/mthomas/Documents/MPI_work/projects/meerkat/meerkat_umap_pv/data/interim/parameter_search/grid_search_umap_params/zs_euclidean_pad_0.01_1.5_200_6_specs_no_40_dB_no\n",
      "/home/mthomas/Documents/MPI_work/projects/meerkat/meerkat_umap_pv/data/interim/parameter_search/grid_search_umap_params/zs_euclidean_pad_0.01_1.5_200_7_specs_no_40_dB_no\n",
      "/home/mthomas/Documents/MPI_work/projects/meerkat/meerkat_umap_pv/data/interim/parameter_search/grid_search_umap_params/zs_euclidean_pad_0.01_1.5_200_7_specs_no_40_dB_no\n",
      "/home/mthomas/Documents/MPI_work/projects/meerkat/meerkat_umap_pv/data/interim/parameter_search/grid_search_umap_params/zs_euclidean_pad_0.01_1.5_200_8_specs_no_40_dB_no\n",
      "/home/mthomas/Documents/MPI_work/projects/meerkat/meerkat_umap_pv/data/interim/parameter_search/grid_search_umap_params/zs_euclidean_pad_0.01_1.5_200_8_specs_no_40_dB_no\n",
      "/home/mthomas/Documents/MPI_work/projects/meerkat/meerkat_umap_pv/data/interim/parameter_search/grid_search_umap_params/zs_euclidean_pad_0.01_1.5_200_9_specs_no_40_dB_no\n",
      "/home/mthomas/Documents/MPI_work/projects/meerkat/meerkat_umap_pv/data/interim/parameter_search/grid_search_umap_params/zs_euclidean_pad_0.01_1.5_200_9_specs_no_40_dB_no\n",
      "/home/mthomas/Documents/MPI_work/projects/meerkat/meerkat_umap_pv/data/interim/parameter_search/grid_search_umap_params/zs_euclidean_pad_0.01_1.5_200_10_specs_no_40_dB_no\n",
      "/home/mthomas/Documents/MPI_work/projects/meerkat/meerkat_umap_pv/data/interim/parameter_search/grid_search_umap_params/zs_euclidean_pad_0.01_1.5_200_10_specs_no_40_dB_no\n",
      "/home/mthomas/Documents/MPI_work/projects/meerkat/meerkat_umap_pv/data/interim/parameter_search/grid_search_umap_params/zs_euclidean_pad_0.1_1.5_200_2_specs_no_40_dB_no\n",
      "/home/mthomas/Documents/MPI_work/projects/meerkat/meerkat_umap_pv/data/interim/parameter_search/grid_search_umap_params/zs_euclidean_pad_0.1_1.5_200_2_specs_no_40_dB_no\n",
      "/home/mthomas/Documents/MPI_work/projects/meerkat/meerkat_umap_pv/data/interim/parameter_search/grid_search_umap_params/zs_euclidean_pad_0.1_1.5_200_3_specs_no_40_dB_no\n",
      "/home/mthomas/Documents/MPI_work/projects/meerkat/meerkat_umap_pv/data/interim/parameter_search/grid_search_umap_params/zs_euclidean_pad_0.1_1.5_200_3_specs_no_40_dB_no\n",
      "/home/mthomas/Documents/MPI_work/projects/meerkat/meerkat_umap_pv/data/interim/parameter_search/grid_search_umap_params/zs_euclidean_pad_0.1_1.5_200_4_specs_no_40_dB_no\n",
      "/home/mthomas/Documents/MPI_work/projects/meerkat/meerkat_umap_pv/data/interim/parameter_search/grid_search_umap_params/zs_euclidean_pad_0.1_1.5_200_4_specs_no_40_dB_no\n",
      "/home/mthomas/Documents/MPI_work/projects/meerkat/meerkat_umap_pv/data/interim/parameter_search/grid_search_umap_params/zs_euclidean_pad_0.1_1.5_200_5_specs_no_40_dB_no\n",
      "/home/mthomas/Documents/MPI_work/projects/meerkat/meerkat_umap_pv/data/interim/parameter_search/grid_search_umap_params/zs_euclidean_pad_0.1_1.5_200_5_specs_no_40_dB_no\n",
      "/home/mthomas/Documents/MPI_work/projects/meerkat/meerkat_umap_pv/data/interim/parameter_search/grid_search_umap_params/zs_euclidean_pad_0.1_1.5_200_6_specs_no_40_dB_no\n",
      "/home/mthomas/Documents/MPI_work/projects/meerkat/meerkat_umap_pv/data/interim/parameter_search/grid_search_umap_params/zs_euclidean_pad_0.1_1.5_200_6_specs_no_40_dB_no\n",
      "/home/mthomas/Documents/MPI_work/projects/meerkat/meerkat_umap_pv/data/interim/parameter_search/grid_search_umap_params/zs_euclidean_pad_0.1_1.5_200_7_specs_no_40_dB_no\n",
      "/home/mthomas/Documents/MPI_work/projects/meerkat/meerkat_umap_pv/data/interim/parameter_search/grid_search_umap_params/zs_euclidean_pad_0.1_1.5_200_7_specs_no_40_dB_no\n",
      "/home/mthomas/Documents/MPI_work/projects/meerkat/meerkat_umap_pv/data/interim/parameter_search/grid_search_umap_params/zs_euclidean_pad_0.1_1.5_200_8_specs_no_40_dB_no\n",
      "/home/mthomas/Documents/MPI_work/projects/meerkat/meerkat_umap_pv/data/interim/parameter_search/grid_search_umap_params/zs_euclidean_pad_0.1_1.5_200_8_specs_no_40_dB_no\n",
      "/home/mthomas/Documents/MPI_work/projects/meerkat/meerkat_umap_pv/data/interim/parameter_search/grid_search_umap_params/zs_euclidean_pad_0.1_1.5_200_9_specs_no_40_dB_no\n",
      "/home/mthomas/Documents/MPI_work/projects/meerkat/meerkat_umap_pv/data/interim/parameter_search/grid_search_umap_params/zs_euclidean_pad_0.1_1.5_200_9_specs_no_40_dB_no\n",
      "/home/mthomas/Documents/MPI_work/projects/meerkat/meerkat_umap_pv/data/interim/parameter_search/grid_search_umap_params/zs_euclidean_pad_0.1_1.5_200_10_specs_no_40_dB_no\n",
      "/home/mthomas/Documents/MPI_work/projects/meerkat/meerkat_umap_pv/data/interim/parameter_search/grid_search_umap_params/zs_euclidean_pad_0.1_1.5_200_10_specs_no_40_dB_no\n",
      "/home/mthomas/Documents/MPI_work/projects/meerkat/meerkat_umap_pv/data/interim/parameter_search/grid_search_umap_params/zs_euclidean_pad_1_1.5_200_2_specs_no_40_dB_no\n",
      "/home/mthomas/Documents/MPI_work/projects/meerkat/meerkat_umap_pv/data/interim/parameter_search/grid_search_umap_params/zs_euclidean_pad_1_1.5_200_2_specs_no_40_dB_no\n",
      "/home/mthomas/Documents/MPI_work/projects/meerkat/meerkat_umap_pv/data/interim/parameter_search/grid_search_umap_params/zs_euclidean_pad_1_1.5_200_3_specs_no_40_dB_no\n",
      "/home/mthomas/Documents/MPI_work/projects/meerkat/meerkat_umap_pv/data/interim/parameter_search/grid_search_umap_params/zs_euclidean_pad_1_1.5_200_3_specs_no_40_dB_no\n",
      "/home/mthomas/Documents/MPI_work/projects/meerkat/meerkat_umap_pv/data/interim/parameter_search/grid_search_umap_params/zs_euclidean_pad_1_1.5_200_4_specs_no_40_dB_no\n",
      "/home/mthomas/Documents/MPI_work/projects/meerkat/meerkat_umap_pv/data/interim/parameter_search/grid_search_umap_params/zs_euclidean_pad_1_1.5_200_4_specs_no_40_dB_no\n",
      "/home/mthomas/Documents/MPI_work/projects/meerkat/meerkat_umap_pv/data/interim/parameter_search/grid_search_umap_params/zs_euclidean_pad_1_1.5_200_5_specs_no_40_dB_no\n",
      "/home/mthomas/Documents/MPI_work/projects/meerkat/meerkat_umap_pv/data/interim/parameter_search/grid_search_umap_params/zs_euclidean_pad_1_1.5_200_5_specs_no_40_dB_no\n",
      "/home/mthomas/Documents/MPI_work/projects/meerkat/meerkat_umap_pv/data/interim/parameter_search/grid_search_umap_params/zs_euclidean_pad_1_1.5_200_6_specs_no_40_dB_no\n",
      "/home/mthomas/Documents/MPI_work/projects/meerkat/meerkat_umap_pv/data/interim/parameter_search/grid_search_umap_params/zs_euclidean_pad_1_1.5_200_6_specs_no_40_dB_no\n",
      "/home/mthomas/Documents/MPI_work/projects/meerkat/meerkat_umap_pv/data/interim/parameter_search/grid_search_umap_params/zs_euclidean_pad_1_1.5_200_7_specs_no_40_dB_no\n",
      "/home/mthomas/Documents/MPI_work/projects/meerkat/meerkat_umap_pv/data/interim/parameter_search/grid_search_umap_params/zs_euclidean_pad_1_1.5_200_7_specs_no_40_dB_no\n",
      "/home/mthomas/Documents/MPI_work/projects/meerkat/meerkat_umap_pv/data/interim/parameter_search/grid_search_umap_params/zs_euclidean_pad_1_1.5_200_8_specs_no_40_dB_no\n",
      "/home/mthomas/Documents/MPI_work/projects/meerkat/meerkat_umap_pv/data/interim/parameter_search/grid_search_umap_params/zs_euclidean_pad_1_1.5_200_8_specs_no_40_dB_no\n",
      "/home/mthomas/Documents/MPI_work/projects/meerkat/meerkat_umap_pv/data/interim/parameter_search/grid_search_umap_params/zs_euclidean_pad_1_1.5_200_9_specs_no_40_dB_no\n",
      "/home/mthomas/Documents/MPI_work/projects/meerkat/meerkat_umap_pv/data/interim/parameter_search/grid_search_umap_params/zs_euclidean_pad_1_1.5_200_9_specs_no_40_dB_no\n",
      "/home/mthomas/Documents/MPI_work/projects/meerkat/meerkat_umap_pv/data/interim/parameter_search/grid_search_umap_params/zs_euclidean_pad_1_1.5_200_10_specs_no_40_dB_no\n",
      "/home/mthomas/Documents/MPI_work/projects/meerkat/meerkat_umap_pv/data/interim/parameter_search/grid_search_umap_params/zs_euclidean_pad_1_1.5_200_10_specs_no_40_dB_no\n"
     ]
    }
   ],
   "source": [
    "specs = spec_df.spectrograms.copy()\n",
    "specs = [calc_zscore(x) for x in specs] \n",
    "data = create_padded_data(specs)\n",
    "\n",
    "\n",
    "for spread in [0.1,0.5,0.75,1.0,1.5]:\n",
    "    for n_neighbors in [1,5,10,15,30,40,50,100,150,200]:\n",
    "        for min_dist in [0,0.001,0.01,0.1,1]:\n",
    "            for n_comps in [2,3,4,5,6,7,8,9,10]:\n",
    "                outname = os.path.join(os.path.sep, OUT_COORDS, get_param_string())                                             \n",
    "                try:\n",
    "                    calc_umap(data, outname=outname, min_dist = min_dist, spread = spread, n_neighbors=n_neighbors, n_comps = n_comps)\n",
    "                    #print(outname)\n",
    "                except:\n",
    "                    print(\"FAILED: \", get_param_string())"
   ]
  },
  {
   "cell_type": "markdown",
   "id": "17a34001-fef0-4e64-80e0-0018396051eb",
   "metadata": {},
   "source": [
    "## Check results"
   ]
  },
  {
   "cell_type": "code",
   "execution_count": 20,
   "id": "9fbdf757-6359-47c6-abb8-cce8d4a463f0",
   "metadata": {},
   "outputs": [
    {
     "name": "stdout",
     "output_type": "stream",
     "text": [
      "Expected:  2250\n",
      "Observed:  1782\n",
      "468\n"
     ]
    },
    {
     "data": {
      "text/plain": [
       "['zs_euclidean_pad_0_0.1_1_2_specs_no_40_dB_no_0.csv',\n",
       " 'zs_euclidean_pad_0_0.1_1_3_specs_no_40_dB_no_0.csv',\n",
       " 'zs_euclidean_pad_0_0.1_1_4_specs_no_40_dB_no_0.csv',\n",
       " 'zs_euclidean_pad_0_0.1_1_5_specs_no_40_dB_no_0.csv',\n",
       " 'zs_euclidean_pad_0_0.1_1_6_specs_no_40_dB_no_0.csv',\n",
       " 'zs_euclidean_pad_0_0.1_1_7_specs_no_40_dB_no_0.csv',\n",
       " 'zs_euclidean_pad_0_0.1_1_8_specs_no_40_dB_no_0.csv',\n",
       " 'zs_euclidean_pad_0_0.1_1_9_specs_no_40_dB_no_0.csv',\n",
       " 'zs_euclidean_pad_0_0.1_1_10_specs_no_40_dB_no_0.csv',\n",
       " 'zs_euclidean_pad_0.001_0.1_1_2_specs_no_40_dB_no_0.csv',\n",
       " 'zs_euclidean_pad_0.001_0.1_1_3_specs_no_40_dB_no_0.csv',\n",
       " 'zs_euclidean_pad_0.001_0.1_1_4_specs_no_40_dB_no_0.csv',\n",
       " 'zs_euclidean_pad_0.001_0.1_1_5_specs_no_40_dB_no_0.csv',\n",
       " 'zs_euclidean_pad_0.001_0.1_1_6_specs_no_40_dB_no_0.csv',\n",
       " 'zs_euclidean_pad_0.001_0.1_1_7_specs_no_40_dB_no_0.csv',\n",
       " 'zs_euclidean_pad_0.001_0.1_1_8_specs_no_40_dB_no_0.csv',\n",
       " 'zs_euclidean_pad_0.001_0.1_1_9_specs_no_40_dB_no_0.csv',\n",
       " 'zs_euclidean_pad_0.001_0.1_1_10_specs_no_40_dB_no_0.csv',\n",
       " 'zs_euclidean_pad_0.01_0.1_1_2_specs_no_40_dB_no_0.csv',\n",
       " 'zs_euclidean_pad_0.01_0.1_1_3_specs_no_40_dB_no_0.csv',\n",
       " 'zs_euclidean_pad_0.01_0.1_1_4_specs_no_40_dB_no_0.csv',\n",
       " 'zs_euclidean_pad_0.01_0.1_1_5_specs_no_40_dB_no_0.csv',\n",
       " 'zs_euclidean_pad_0.01_0.1_1_6_specs_no_40_dB_no_0.csv',\n",
       " 'zs_euclidean_pad_0.01_0.1_1_7_specs_no_40_dB_no_0.csv',\n",
       " 'zs_euclidean_pad_0.01_0.1_1_8_specs_no_40_dB_no_0.csv',\n",
       " 'zs_euclidean_pad_0.01_0.1_1_9_specs_no_40_dB_no_0.csv',\n",
       " 'zs_euclidean_pad_0.01_0.1_1_10_specs_no_40_dB_no_0.csv',\n",
       " 'zs_euclidean_pad_0.1_0.1_1_2_specs_no_40_dB_no_0.csv',\n",
       " 'zs_euclidean_pad_0.1_0.1_1_3_specs_no_40_dB_no_0.csv',\n",
       " 'zs_euclidean_pad_0.1_0.1_1_4_specs_no_40_dB_no_0.csv',\n",
       " 'zs_euclidean_pad_0.1_0.1_1_5_specs_no_40_dB_no_0.csv',\n",
       " 'zs_euclidean_pad_0.1_0.1_1_6_specs_no_40_dB_no_0.csv',\n",
       " 'zs_euclidean_pad_0.1_0.1_1_7_specs_no_40_dB_no_0.csv',\n",
       " 'zs_euclidean_pad_0.1_0.1_1_8_specs_no_40_dB_no_0.csv',\n",
       " 'zs_euclidean_pad_0.1_0.1_1_9_specs_no_40_dB_no_0.csv',\n",
       " 'zs_euclidean_pad_0.1_0.1_1_10_specs_no_40_dB_no_0.csv',\n",
       " 'zs_euclidean_pad_1_0.1_1_2_specs_no_40_dB_no_0.csv',\n",
       " 'zs_euclidean_pad_1_0.1_1_3_specs_no_40_dB_no_0.csv',\n",
       " 'zs_euclidean_pad_1_0.1_1_4_specs_no_40_dB_no_0.csv',\n",
       " 'zs_euclidean_pad_1_0.1_1_5_specs_no_40_dB_no_0.csv',\n",
       " 'zs_euclidean_pad_1_0.1_1_6_specs_no_40_dB_no_0.csv',\n",
       " 'zs_euclidean_pad_1_0.1_1_7_specs_no_40_dB_no_0.csv',\n",
       " 'zs_euclidean_pad_1_0.1_1_8_specs_no_40_dB_no_0.csv',\n",
       " 'zs_euclidean_pad_1_0.1_1_9_specs_no_40_dB_no_0.csv',\n",
       " 'zs_euclidean_pad_1_0.1_1_10_specs_no_40_dB_no_0.csv',\n",
       " 'zs_euclidean_pad_1_0.1_5_2_specs_no_40_dB_no_0.csv',\n",
       " 'zs_euclidean_pad_1_0.1_5_3_specs_no_40_dB_no_0.csv',\n",
       " 'zs_euclidean_pad_1_0.1_5_4_specs_no_40_dB_no_0.csv',\n",
       " 'zs_euclidean_pad_1_0.1_5_5_specs_no_40_dB_no_0.csv',\n",
       " 'zs_euclidean_pad_1_0.1_5_6_specs_no_40_dB_no_0.csv',\n",
       " 'zs_euclidean_pad_1_0.1_5_7_specs_no_40_dB_no_0.csv',\n",
       " 'zs_euclidean_pad_1_0.1_5_8_specs_no_40_dB_no_0.csv',\n",
       " 'zs_euclidean_pad_1_0.1_5_9_specs_no_40_dB_no_0.csv',\n",
       " 'zs_euclidean_pad_1_0.1_5_10_specs_no_40_dB_no_0.csv',\n",
       " 'zs_euclidean_pad_1_0.1_10_2_specs_no_40_dB_no_0.csv',\n",
       " 'zs_euclidean_pad_1_0.1_10_3_specs_no_40_dB_no_0.csv',\n",
       " 'zs_euclidean_pad_1_0.1_10_4_specs_no_40_dB_no_0.csv',\n",
       " 'zs_euclidean_pad_1_0.1_10_5_specs_no_40_dB_no_0.csv',\n",
       " 'zs_euclidean_pad_1_0.1_10_6_specs_no_40_dB_no_0.csv',\n",
       " 'zs_euclidean_pad_1_0.1_10_7_specs_no_40_dB_no_0.csv',\n",
       " 'zs_euclidean_pad_1_0.1_10_8_specs_no_40_dB_no_0.csv',\n",
       " 'zs_euclidean_pad_1_0.1_10_9_specs_no_40_dB_no_0.csv',\n",
       " 'zs_euclidean_pad_1_0.1_10_10_specs_no_40_dB_no_0.csv',\n",
       " 'zs_euclidean_pad_1_0.1_15_2_specs_no_40_dB_no_0.csv',\n",
       " 'zs_euclidean_pad_1_0.1_15_3_specs_no_40_dB_no_0.csv',\n",
       " 'zs_euclidean_pad_1_0.1_15_4_specs_no_40_dB_no_0.csv',\n",
       " 'zs_euclidean_pad_1_0.1_15_5_specs_no_40_dB_no_0.csv',\n",
       " 'zs_euclidean_pad_1_0.1_15_6_specs_no_40_dB_no_0.csv',\n",
       " 'zs_euclidean_pad_1_0.1_15_7_specs_no_40_dB_no_0.csv',\n",
       " 'zs_euclidean_pad_1_0.1_15_8_specs_no_40_dB_no_0.csv',\n",
       " 'zs_euclidean_pad_1_0.1_15_9_specs_no_40_dB_no_0.csv',\n",
       " 'zs_euclidean_pad_1_0.1_15_10_specs_no_40_dB_no_0.csv',\n",
       " 'zs_euclidean_pad_1_0.1_30_2_specs_no_40_dB_no_0.csv',\n",
       " 'zs_euclidean_pad_1_0.1_30_3_specs_no_40_dB_no_0.csv',\n",
       " 'zs_euclidean_pad_1_0.1_30_4_specs_no_40_dB_no_0.csv',\n",
       " 'zs_euclidean_pad_1_0.1_30_5_specs_no_40_dB_no_0.csv',\n",
       " 'zs_euclidean_pad_1_0.1_30_6_specs_no_40_dB_no_0.csv',\n",
       " 'zs_euclidean_pad_1_0.1_30_7_specs_no_40_dB_no_0.csv',\n",
       " 'zs_euclidean_pad_1_0.1_30_8_specs_no_40_dB_no_0.csv',\n",
       " 'zs_euclidean_pad_1_0.1_30_9_specs_no_40_dB_no_0.csv',\n",
       " 'zs_euclidean_pad_1_0.1_30_10_specs_no_40_dB_no_0.csv',\n",
       " 'zs_euclidean_pad_1_0.1_40_2_specs_no_40_dB_no_0.csv',\n",
       " 'zs_euclidean_pad_1_0.1_40_3_specs_no_40_dB_no_0.csv',\n",
       " 'zs_euclidean_pad_1_0.1_40_4_specs_no_40_dB_no_0.csv',\n",
       " 'zs_euclidean_pad_1_0.1_40_5_specs_no_40_dB_no_0.csv',\n",
       " 'zs_euclidean_pad_1_0.1_40_6_specs_no_40_dB_no_0.csv',\n",
       " 'zs_euclidean_pad_1_0.1_40_7_specs_no_40_dB_no_0.csv',\n",
       " 'zs_euclidean_pad_1_0.1_40_8_specs_no_40_dB_no_0.csv',\n",
       " 'zs_euclidean_pad_1_0.1_40_9_specs_no_40_dB_no_0.csv',\n",
       " 'zs_euclidean_pad_1_0.1_40_10_specs_no_40_dB_no_0.csv',\n",
       " 'zs_euclidean_pad_1_0.1_50_2_specs_no_40_dB_no_0.csv',\n",
       " 'zs_euclidean_pad_1_0.1_50_3_specs_no_40_dB_no_0.csv',\n",
       " 'zs_euclidean_pad_1_0.1_50_4_specs_no_40_dB_no_0.csv',\n",
       " 'zs_euclidean_pad_1_0.1_50_5_specs_no_40_dB_no_0.csv',\n",
       " 'zs_euclidean_pad_1_0.1_50_6_specs_no_40_dB_no_0.csv',\n",
       " 'zs_euclidean_pad_1_0.1_50_7_specs_no_40_dB_no_0.csv',\n",
       " 'zs_euclidean_pad_1_0.1_50_8_specs_no_40_dB_no_0.csv',\n",
       " 'zs_euclidean_pad_1_0.1_50_9_specs_no_40_dB_no_0.csv',\n",
       " 'zs_euclidean_pad_1_0.1_50_10_specs_no_40_dB_no_0.csv',\n",
       " 'zs_euclidean_pad_1_0.1_100_2_specs_no_40_dB_no_0.csv',\n",
       " 'zs_euclidean_pad_1_0.1_100_3_specs_no_40_dB_no_0.csv',\n",
       " 'zs_euclidean_pad_1_0.1_100_4_specs_no_40_dB_no_0.csv',\n",
       " 'zs_euclidean_pad_1_0.1_100_5_specs_no_40_dB_no_0.csv',\n",
       " 'zs_euclidean_pad_1_0.1_100_6_specs_no_40_dB_no_0.csv',\n",
       " 'zs_euclidean_pad_1_0.1_100_7_specs_no_40_dB_no_0.csv',\n",
       " 'zs_euclidean_pad_1_0.1_100_8_specs_no_40_dB_no_0.csv',\n",
       " 'zs_euclidean_pad_1_0.1_100_9_specs_no_40_dB_no_0.csv',\n",
       " 'zs_euclidean_pad_1_0.1_100_10_specs_no_40_dB_no_0.csv',\n",
       " 'zs_euclidean_pad_1_0.1_150_2_specs_no_40_dB_no_0.csv',\n",
       " 'zs_euclidean_pad_1_0.1_150_3_specs_no_40_dB_no_0.csv',\n",
       " 'zs_euclidean_pad_1_0.1_150_4_specs_no_40_dB_no_0.csv',\n",
       " 'zs_euclidean_pad_1_0.1_150_5_specs_no_40_dB_no_0.csv',\n",
       " 'zs_euclidean_pad_1_0.1_150_6_specs_no_40_dB_no_0.csv',\n",
       " 'zs_euclidean_pad_1_0.1_150_7_specs_no_40_dB_no_0.csv',\n",
       " 'zs_euclidean_pad_1_0.1_150_8_specs_no_40_dB_no_0.csv',\n",
       " 'zs_euclidean_pad_1_0.1_150_9_specs_no_40_dB_no_0.csv',\n",
       " 'zs_euclidean_pad_1_0.1_150_10_specs_no_40_dB_no_0.csv',\n",
       " 'zs_euclidean_pad_1_0.1_200_2_specs_no_40_dB_no_0.csv',\n",
       " 'zs_euclidean_pad_1_0.1_200_3_specs_no_40_dB_no_0.csv',\n",
       " 'zs_euclidean_pad_1_0.1_200_4_specs_no_40_dB_no_0.csv',\n",
       " 'zs_euclidean_pad_1_0.1_200_5_specs_no_40_dB_no_0.csv',\n",
       " 'zs_euclidean_pad_1_0.1_200_6_specs_no_40_dB_no_0.csv',\n",
       " 'zs_euclidean_pad_1_0.1_200_7_specs_no_40_dB_no_0.csv',\n",
       " 'zs_euclidean_pad_1_0.1_200_8_specs_no_40_dB_no_0.csv',\n",
       " 'zs_euclidean_pad_1_0.1_200_9_specs_no_40_dB_no_0.csv',\n",
       " 'zs_euclidean_pad_1_0.1_200_10_specs_no_40_dB_no_0.csv',\n",
       " 'zs_euclidean_pad_0_0.5_1_2_specs_no_40_dB_no_0.csv',\n",
       " 'zs_euclidean_pad_0_0.5_1_3_specs_no_40_dB_no_0.csv',\n",
       " 'zs_euclidean_pad_0_0.5_1_4_specs_no_40_dB_no_0.csv',\n",
       " 'zs_euclidean_pad_0_0.5_1_5_specs_no_40_dB_no_0.csv',\n",
       " 'zs_euclidean_pad_0_0.5_1_6_specs_no_40_dB_no_0.csv',\n",
       " 'zs_euclidean_pad_0_0.5_1_7_specs_no_40_dB_no_0.csv',\n",
       " 'zs_euclidean_pad_0_0.5_1_8_specs_no_40_dB_no_0.csv',\n",
       " 'zs_euclidean_pad_0_0.5_1_9_specs_no_40_dB_no_0.csv',\n",
       " 'zs_euclidean_pad_0_0.5_1_10_specs_no_40_dB_no_0.csv',\n",
       " 'zs_euclidean_pad_0.001_0.5_1_2_specs_no_40_dB_no_0.csv',\n",
       " 'zs_euclidean_pad_0.001_0.5_1_3_specs_no_40_dB_no_0.csv',\n",
       " 'zs_euclidean_pad_0.001_0.5_1_4_specs_no_40_dB_no_0.csv',\n",
       " 'zs_euclidean_pad_0.001_0.5_1_5_specs_no_40_dB_no_0.csv',\n",
       " 'zs_euclidean_pad_0.001_0.5_1_6_specs_no_40_dB_no_0.csv',\n",
       " 'zs_euclidean_pad_0.001_0.5_1_7_specs_no_40_dB_no_0.csv',\n",
       " 'zs_euclidean_pad_0.001_0.5_1_8_specs_no_40_dB_no_0.csv',\n",
       " 'zs_euclidean_pad_0.001_0.5_1_9_specs_no_40_dB_no_0.csv',\n",
       " 'zs_euclidean_pad_0.001_0.5_1_10_specs_no_40_dB_no_0.csv',\n",
       " 'zs_euclidean_pad_0.01_0.5_1_2_specs_no_40_dB_no_0.csv',\n",
       " 'zs_euclidean_pad_0.01_0.5_1_3_specs_no_40_dB_no_0.csv',\n",
       " 'zs_euclidean_pad_0.01_0.5_1_4_specs_no_40_dB_no_0.csv',\n",
       " 'zs_euclidean_pad_0.01_0.5_1_5_specs_no_40_dB_no_0.csv',\n",
       " 'zs_euclidean_pad_0.01_0.5_1_6_specs_no_40_dB_no_0.csv',\n",
       " 'zs_euclidean_pad_0.01_0.5_1_7_specs_no_40_dB_no_0.csv',\n",
       " 'zs_euclidean_pad_0.01_0.5_1_8_specs_no_40_dB_no_0.csv',\n",
       " 'zs_euclidean_pad_0.01_0.5_1_9_specs_no_40_dB_no_0.csv',\n",
       " 'zs_euclidean_pad_0.01_0.5_1_10_specs_no_40_dB_no_0.csv',\n",
       " 'zs_euclidean_pad_0.1_0.5_1_2_specs_no_40_dB_no_0.csv',\n",
       " 'zs_euclidean_pad_0.1_0.5_1_3_specs_no_40_dB_no_0.csv',\n",
       " 'zs_euclidean_pad_0.1_0.5_1_4_specs_no_40_dB_no_0.csv',\n",
       " 'zs_euclidean_pad_0.1_0.5_1_5_specs_no_40_dB_no_0.csv',\n",
       " 'zs_euclidean_pad_0.1_0.5_1_6_specs_no_40_dB_no_0.csv',\n",
       " 'zs_euclidean_pad_0.1_0.5_1_7_specs_no_40_dB_no_0.csv',\n",
       " 'zs_euclidean_pad_0.1_0.5_1_8_specs_no_40_dB_no_0.csv',\n",
       " 'zs_euclidean_pad_0.1_0.5_1_9_specs_no_40_dB_no_0.csv',\n",
       " 'zs_euclidean_pad_0.1_0.5_1_10_specs_no_40_dB_no_0.csv',\n",
       " 'zs_euclidean_pad_1_0.5_1_2_specs_no_40_dB_no_0.csv',\n",
       " 'zs_euclidean_pad_1_0.5_1_3_specs_no_40_dB_no_0.csv',\n",
       " 'zs_euclidean_pad_1_0.5_1_4_specs_no_40_dB_no_0.csv',\n",
       " 'zs_euclidean_pad_1_0.5_1_5_specs_no_40_dB_no_0.csv',\n",
       " 'zs_euclidean_pad_1_0.5_1_6_specs_no_40_dB_no_0.csv',\n",
       " 'zs_euclidean_pad_1_0.5_1_7_specs_no_40_dB_no_0.csv',\n",
       " 'zs_euclidean_pad_1_0.5_1_8_specs_no_40_dB_no_0.csv',\n",
       " 'zs_euclidean_pad_1_0.5_1_9_specs_no_40_dB_no_0.csv',\n",
       " 'zs_euclidean_pad_1_0.5_1_10_specs_no_40_dB_no_0.csv',\n",
       " 'zs_euclidean_pad_1_0.5_5_2_specs_no_40_dB_no_0.csv',\n",
       " 'zs_euclidean_pad_1_0.5_5_3_specs_no_40_dB_no_0.csv',\n",
       " 'zs_euclidean_pad_1_0.5_5_4_specs_no_40_dB_no_0.csv',\n",
       " 'zs_euclidean_pad_1_0.5_5_5_specs_no_40_dB_no_0.csv',\n",
       " 'zs_euclidean_pad_1_0.5_5_6_specs_no_40_dB_no_0.csv',\n",
       " 'zs_euclidean_pad_1_0.5_5_7_specs_no_40_dB_no_0.csv',\n",
       " 'zs_euclidean_pad_1_0.5_5_8_specs_no_40_dB_no_0.csv',\n",
       " 'zs_euclidean_pad_1_0.5_5_9_specs_no_40_dB_no_0.csv',\n",
       " 'zs_euclidean_pad_1_0.5_5_10_specs_no_40_dB_no_0.csv',\n",
       " 'zs_euclidean_pad_1_0.5_10_2_specs_no_40_dB_no_0.csv',\n",
       " 'zs_euclidean_pad_1_0.5_10_3_specs_no_40_dB_no_0.csv',\n",
       " 'zs_euclidean_pad_1_0.5_10_4_specs_no_40_dB_no_0.csv',\n",
       " 'zs_euclidean_pad_1_0.5_10_5_specs_no_40_dB_no_0.csv',\n",
       " 'zs_euclidean_pad_1_0.5_10_6_specs_no_40_dB_no_0.csv',\n",
       " 'zs_euclidean_pad_1_0.5_10_7_specs_no_40_dB_no_0.csv',\n",
       " 'zs_euclidean_pad_1_0.5_10_8_specs_no_40_dB_no_0.csv',\n",
       " 'zs_euclidean_pad_1_0.5_10_9_specs_no_40_dB_no_0.csv',\n",
       " 'zs_euclidean_pad_1_0.5_10_10_specs_no_40_dB_no_0.csv',\n",
       " 'zs_euclidean_pad_1_0.5_15_2_specs_no_40_dB_no_0.csv',\n",
       " 'zs_euclidean_pad_1_0.5_15_3_specs_no_40_dB_no_0.csv',\n",
       " 'zs_euclidean_pad_1_0.5_15_4_specs_no_40_dB_no_0.csv',\n",
       " 'zs_euclidean_pad_1_0.5_15_5_specs_no_40_dB_no_0.csv',\n",
       " 'zs_euclidean_pad_1_0.5_15_6_specs_no_40_dB_no_0.csv',\n",
       " 'zs_euclidean_pad_1_0.5_15_7_specs_no_40_dB_no_0.csv',\n",
       " 'zs_euclidean_pad_1_0.5_15_8_specs_no_40_dB_no_0.csv',\n",
       " 'zs_euclidean_pad_1_0.5_15_9_specs_no_40_dB_no_0.csv',\n",
       " 'zs_euclidean_pad_1_0.5_15_10_specs_no_40_dB_no_0.csv',\n",
       " 'zs_euclidean_pad_1_0.5_30_2_specs_no_40_dB_no_0.csv',\n",
       " 'zs_euclidean_pad_1_0.5_30_3_specs_no_40_dB_no_0.csv',\n",
       " 'zs_euclidean_pad_1_0.5_30_4_specs_no_40_dB_no_0.csv',\n",
       " 'zs_euclidean_pad_1_0.5_30_5_specs_no_40_dB_no_0.csv',\n",
       " 'zs_euclidean_pad_1_0.5_30_6_specs_no_40_dB_no_0.csv',\n",
       " 'zs_euclidean_pad_1_0.5_30_7_specs_no_40_dB_no_0.csv',\n",
       " 'zs_euclidean_pad_1_0.5_30_8_specs_no_40_dB_no_0.csv',\n",
       " 'zs_euclidean_pad_1_0.5_30_9_specs_no_40_dB_no_0.csv',\n",
       " 'zs_euclidean_pad_1_0.5_30_10_specs_no_40_dB_no_0.csv',\n",
       " 'zs_euclidean_pad_1_0.5_40_2_specs_no_40_dB_no_0.csv',\n",
       " 'zs_euclidean_pad_1_0.5_40_3_specs_no_40_dB_no_0.csv',\n",
       " 'zs_euclidean_pad_1_0.5_40_4_specs_no_40_dB_no_0.csv',\n",
       " 'zs_euclidean_pad_1_0.5_40_5_specs_no_40_dB_no_0.csv',\n",
       " 'zs_euclidean_pad_1_0.5_40_6_specs_no_40_dB_no_0.csv',\n",
       " 'zs_euclidean_pad_1_0.5_40_7_specs_no_40_dB_no_0.csv',\n",
       " 'zs_euclidean_pad_1_0.5_40_8_specs_no_40_dB_no_0.csv',\n",
       " 'zs_euclidean_pad_1_0.5_40_9_specs_no_40_dB_no_0.csv',\n",
       " 'zs_euclidean_pad_1_0.5_40_10_specs_no_40_dB_no_0.csv',\n",
       " 'zs_euclidean_pad_1_0.5_50_2_specs_no_40_dB_no_0.csv',\n",
       " 'zs_euclidean_pad_1_0.5_50_3_specs_no_40_dB_no_0.csv',\n",
       " 'zs_euclidean_pad_1_0.5_50_4_specs_no_40_dB_no_0.csv',\n",
       " 'zs_euclidean_pad_1_0.5_50_5_specs_no_40_dB_no_0.csv',\n",
       " 'zs_euclidean_pad_1_0.5_50_6_specs_no_40_dB_no_0.csv',\n",
       " 'zs_euclidean_pad_1_0.5_50_7_specs_no_40_dB_no_0.csv',\n",
       " 'zs_euclidean_pad_1_0.5_50_8_specs_no_40_dB_no_0.csv',\n",
       " 'zs_euclidean_pad_1_0.5_50_9_specs_no_40_dB_no_0.csv',\n",
       " 'zs_euclidean_pad_1_0.5_50_10_specs_no_40_dB_no_0.csv',\n",
       " 'zs_euclidean_pad_1_0.5_100_2_specs_no_40_dB_no_0.csv',\n",
       " 'zs_euclidean_pad_1_0.5_100_3_specs_no_40_dB_no_0.csv',\n",
       " 'zs_euclidean_pad_1_0.5_100_4_specs_no_40_dB_no_0.csv',\n",
       " 'zs_euclidean_pad_1_0.5_100_5_specs_no_40_dB_no_0.csv',\n",
       " 'zs_euclidean_pad_1_0.5_100_6_specs_no_40_dB_no_0.csv',\n",
       " 'zs_euclidean_pad_1_0.5_100_7_specs_no_40_dB_no_0.csv',\n",
       " 'zs_euclidean_pad_1_0.5_100_8_specs_no_40_dB_no_0.csv',\n",
       " 'zs_euclidean_pad_1_0.5_100_9_specs_no_40_dB_no_0.csv',\n",
       " 'zs_euclidean_pad_1_0.5_100_10_specs_no_40_dB_no_0.csv',\n",
       " 'zs_euclidean_pad_1_0.5_150_2_specs_no_40_dB_no_0.csv',\n",
       " 'zs_euclidean_pad_1_0.5_150_3_specs_no_40_dB_no_0.csv',\n",
       " 'zs_euclidean_pad_1_0.5_150_4_specs_no_40_dB_no_0.csv',\n",
       " 'zs_euclidean_pad_1_0.5_150_5_specs_no_40_dB_no_0.csv',\n",
       " 'zs_euclidean_pad_1_0.5_150_6_specs_no_40_dB_no_0.csv',\n",
       " 'zs_euclidean_pad_1_0.5_150_7_specs_no_40_dB_no_0.csv',\n",
       " 'zs_euclidean_pad_1_0.5_150_8_specs_no_40_dB_no_0.csv',\n",
       " 'zs_euclidean_pad_1_0.5_150_9_specs_no_40_dB_no_0.csv',\n",
       " 'zs_euclidean_pad_1_0.5_150_10_specs_no_40_dB_no_0.csv',\n",
       " 'zs_euclidean_pad_1_0.5_200_2_specs_no_40_dB_no_0.csv',\n",
       " 'zs_euclidean_pad_1_0.5_200_3_specs_no_40_dB_no_0.csv',\n",
       " 'zs_euclidean_pad_1_0.5_200_4_specs_no_40_dB_no_0.csv',\n",
       " 'zs_euclidean_pad_1_0.5_200_5_specs_no_40_dB_no_0.csv',\n",
       " 'zs_euclidean_pad_1_0.5_200_6_specs_no_40_dB_no_0.csv',\n",
       " 'zs_euclidean_pad_1_0.5_200_7_specs_no_40_dB_no_0.csv',\n",
       " 'zs_euclidean_pad_1_0.5_200_8_specs_no_40_dB_no_0.csv',\n",
       " 'zs_euclidean_pad_1_0.5_200_9_specs_no_40_dB_no_0.csv',\n",
       " 'zs_euclidean_pad_1_0.5_200_10_specs_no_40_dB_no_0.csv',\n",
       " 'zs_euclidean_pad_0_0.75_1_2_specs_no_40_dB_no_0.csv',\n",
       " 'zs_euclidean_pad_0_0.75_1_3_specs_no_40_dB_no_0.csv',\n",
       " 'zs_euclidean_pad_0_0.75_1_4_specs_no_40_dB_no_0.csv',\n",
       " 'zs_euclidean_pad_0_0.75_1_5_specs_no_40_dB_no_0.csv',\n",
       " 'zs_euclidean_pad_0_0.75_1_6_specs_no_40_dB_no_0.csv',\n",
       " 'zs_euclidean_pad_0_0.75_1_7_specs_no_40_dB_no_0.csv',\n",
       " 'zs_euclidean_pad_0_0.75_1_8_specs_no_40_dB_no_0.csv',\n",
       " 'zs_euclidean_pad_0_0.75_1_9_specs_no_40_dB_no_0.csv',\n",
       " 'zs_euclidean_pad_0_0.75_1_10_specs_no_40_dB_no_0.csv',\n",
       " 'zs_euclidean_pad_0.001_0.75_1_2_specs_no_40_dB_no_0.csv',\n",
       " 'zs_euclidean_pad_0.001_0.75_1_3_specs_no_40_dB_no_0.csv',\n",
       " 'zs_euclidean_pad_0.001_0.75_1_4_specs_no_40_dB_no_0.csv',\n",
       " 'zs_euclidean_pad_0.001_0.75_1_5_specs_no_40_dB_no_0.csv',\n",
       " 'zs_euclidean_pad_0.001_0.75_1_6_specs_no_40_dB_no_0.csv',\n",
       " 'zs_euclidean_pad_0.001_0.75_1_7_specs_no_40_dB_no_0.csv',\n",
       " 'zs_euclidean_pad_0.001_0.75_1_8_specs_no_40_dB_no_0.csv',\n",
       " 'zs_euclidean_pad_0.001_0.75_1_9_specs_no_40_dB_no_0.csv',\n",
       " 'zs_euclidean_pad_0.001_0.75_1_10_specs_no_40_dB_no_0.csv',\n",
       " 'zs_euclidean_pad_0.01_0.75_1_2_specs_no_40_dB_no_0.csv',\n",
       " 'zs_euclidean_pad_0.01_0.75_1_3_specs_no_40_dB_no_0.csv',\n",
       " 'zs_euclidean_pad_0.01_0.75_1_4_specs_no_40_dB_no_0.csv',\n",
       " 'zs_euclidean_pad_0.01_0.75_1_5_specs_no_40_dB_no_0.csv',\n",
       " 'zs_euclidean_pad_0.01_0.75_1_6_specs_no_40_dB_no_0.csv',\n",
       " 'zs_euclidean_pad_0.01_0.75_1_7_specs_no_40_dB_no_0.csv',\n",
       " 'zs_euclidean_pad_0.01_0.75_1_8_specs_no_40_dB_no_0.csv',\n",
       " 'zs_euclidean_pad_0.01_0.75_1_9_specs_no_40_dB_no_0.csv',\n",
       " 'zs_euclidean_pad_0.01_0.75_1_10_specs_no_40_dB_no_0.csv',\n",
       " 'zs_euclidean_pad_0.1_0.75_1_2_specs_no_40_dB_no_0.csv',\n",
       " 'zs_euclidean_pad_0.1_0.75_1_3_specs_no_40_dB_no_0.csv',\n",
       " 'zs_euclidean_pad_0.1_0.75_1_4_specs_no_40_dB_no_0.csv',\n",
       " 'zs_euclidean_pad_0.1_0.75_1_5_specs_no_40_dB_no_0.csv',\n",
       " 'zs_euclidean_pad_0.1_0.75_1_6_specs_no_40_dB_no_0.csv',\n",
       " 'zs_euclidean_pad_0.1_0.75_1_7_specs_no_40_dB_no_0.csv',\n",
       " 'zs_euclidean_pad_0.1_0.75_1_8_specs_no_40_dB_no_0.csv',\n",
       " 'zs_euclidean_pad_0.1_0.75_1_9_specs_no_40_dB_no_0.csv',\n",
       " 'zs_euclidean_pad_0.1_0.75_1_10_specs_no_40_dB_no_0.csv',\n",
       " 'zs_euclidean_pad_1_0.75_1_2_specs_no_40_dB_no_0.csv',\n",
       " 'zs_euclidean_pad_1_0.75_1_3_specs_no_40_dB_no_0.csv',\n",
       " 'zs_euclidean_pad_1_0.75_1_4_specs_no_40_dB_no_0.csv',\n",
       " 'zs_euclidean_pad_1_0.75_1_5_specs_no_40_dB_no_0.csv',\n",
       " 'zs_euclidean_pad_1_0.75_1_6_specs_no_40_dB_no_0.csv',\n",
       " 'zs_euclidean_pad_1_0.75_1_7_specs_no_40_dB_no_0.csv',\n",
       " 'zs_euclidean_pad_1_0.75_1_8_specs_no_40_dB_no_0.csv',\n",
       " 'zs_euclidean_pad_1_0.75_1_9_specs_no_40_dB_no_0.csv',\n",
       " 'zs_euclidean_pad_1_0.75_1_10_specs_no_40_dB_no_0.csv',\n",
       " 'zs_euclidean_pad_1_0.75_5_2_specs_no_40_dB_no_0.csv',\n",
       " 'zs_euclidean_pad_1_0.75_5_3_specs_no_40_dB_no_0.csv',\n",
       " 'zs_euclidean_pad_1_0.75_5_4_specs_no_40_dB_no_0.csv',\n",
       " 'zs_euclidean_pad_1_0.75_5_5_specs_no_40_dB_no_0.csv',\n",
       " 'zs_euclidean_pad_1_0.75_5_6_specs_no_40_dB_no_0.csv',\n",
       " 'zs_euclidean_pad_1_0.75_5_7_specs_no_40_dB_no_0.csv',\n",
       " 'zs_euclidean_pad_1_0.75_5_8_specs_no_40_dB_no_0.csv',\n",
       " 'zs_euclidean_pad_1_0.75_5_9_specs_no_40_dB_no_0.csv',\n",
       " 'zs_euclidean_pad_1_0.75_5_10_specs_no_40_dB_no_0.csv',\n",
       " 'zs_euclidean_pad_1_0.75_10_2_specs_no_40_dB_no_0.csv',\n",
       " 'zs_euclidean_pad_1_0.75_10_3_specs_no_40_dB_no_0.csv',\n",
       " 'zs_euclidean_pad_1_0.75_10_4_specs_no_40_dB_no_0.csv',\n",
       " 'zs_euclidean_pad_1_0.75_10_5_specs_no_40_dB_no_0.csv',\n",
       " 'zs_euclidean_pad_1_0.75_10_6_specs_no_40_dB_no_0.csv',\n",
       " 'zs_euclidean_pad_1_0.75_10_7_specs_no_40_dB_no_0.csv',\n",
       " 'zs_euclidean_pad_1_0.75_10_8_specs_no_40_dB_no_0.csv',\n",
       " 'zs_euclidean_pad_1_0.75_10_9_specs_no_40_dB_no_0.csv',\n",
       " 'zs_euclidean_pad_1_0.75_10_10_specs_no_40_dB_no_0.csv',\n",
       " 'zs_euclidean_pad_1_0.75_15_2_specs_no_40_dB_no_0.csv',\n",
       " 'zs_euclidean_pad_1_0.75_15_3_specs_no_40_dB_no_0.csv',\n",
       " 'zs_euclidean_pad_1_0.75_15_4_specs_no_40_dB_no_0.csv',\n",
       " 'zs_euclidean_pad_1_0.75_15_5_specs_no_40_dB_no_0.csv',\n",
       " 'zs_euclidean_pad_1_0.75_15_6_specs_no_40_dB_no_0.csv',\n",
       " 'zs_euclidean_pad_1_0.75_15_7_specs_no_40_dB_no_0.csv',\n",
       " 'zs_euclidean_pad_1_0.75_15_8_specs_no_40_dB_no_0.csv',\n",
       " 'zs_euclidean_pad_1_0.75_15_9_specs_no_40_dB_no_0.csv',\n",
       " 'zs_euclidean_pad_1_0.75_15_10_specs_no_40_dB_no_0.csv',\n",
       " 'zs_euclidean_pad_1_0.75_30_2_specs_no_40_dB_no_0.csv',\n",
       " 'zs_euclidean_pad_1_0.75_30_3_specs_no_40_dB_no_0.csv',\n",
       " 'zs_euclidean_pad_1_0.75_30_4_specs_no_40_dB_no_0.csv',\n",
       " 'zs_euclidean_pad_1_0.75_30_5_specs_no_40_dB_no_0.csv',\n",
       " 'zs_euclidean_pad_1_0.75_30_6_specs_no_40_dB_no_0.csv',\n",
       " 'zs_euclidean_pad_1_0.75_30_7_specs_no_40_dB_no_0.csv',\n",
       " 'zs_euclidean_pad_1_0.75_30_8_specs_no_40_dB_no_0.csv',\n",
       " 'zs_euclidean_pad_1_0.75_30_9_specs_no_40_dB_no_0.csv',\n",
       " 'zs_euclidean_pad_1_0.75_30_10_specs_no_40_dB_no_0.csv',\n",
       " 'zs_euclidean_pad_1_0.75_40_2_specs_no_40_dB_no_0.csv',\n",
       " 'zs_euclidean_pad_1_0.75_40_3_specs_no_40_dB_no_0.csv',\n",
       " 'zs_euclidean_pad_1_0.75_40_4_specs_no_40_dB_no_0.csv',\n",
       " 'zs_euclidean_pad_1_0.75_40_5_specs_no_40_dB_no_0.csv',\n",
       " 'zs_euclidean_pad_1_0.75_40_6_specs_no_40_dB_no_0.csv',\n",
       " 'zs_euclidean_pad_1_0.75_40_7_specs_no_40_dB_no_0.csv',\n",
       " 'zs_euclidean_pad_1_0.75_40_8_specs_no_40_dB_no_0.csv',\n",
       " 'zs_euclidean_pad_1_0.75_40_9_specs_no_40_dB_no_0.csv',\n",
       " 'zs_euclidean_pad_1_0.75_40_10_specs_no_40_dB_no_0.csv',\n",
       " 'zs_euclidean_pad_1_0.75_50_2_specs_no_40_dB_no_0.csv',\n",
       " 'zs_euclidean_pad_1_0.75_50_3_specs_no_40_dB_no_0.csv',\n",
       " 'zs_euclidean_pad_1_0.75_50_4_specs_no_40_dB_no_0.csv',\n",
       " 'zs_euclidean_pad_1_0.75_50_5_specs_no_40_dB_no_0.csv',\n",
       " 'zs_euclidean_pad_1_0.75_50_6_specs_no_40_dB_no_0.csv',\n",
       " 'zs_euclidean_pad_1_0.75_50_7_specs_no_40_dB_no_0.csv',\n",
       " 'zs_euclidean_pad_1_0.75_50_8_specs_no_40_dB_no_0.csv',\n",
       " 'zs_euclidean_pad_1_0.75_50_9_specs_no_40_dB_no_0.csv',\n",
       " 'zs_euclidean_pad_1_0.75_50_10_specs_no_40_dB_no_0.csv',\n",
       " 'zs_euclidean_pad_1_0.75_100_2_specs_no_40_dB_no_0.csv',\n",
       " 'zs_euclidean_pad_1_0.75_100_3_specs_no_40_dB_no_0.csv',\n",
       " 'zs_euclidean_pad_1_0.75_100_4_specs_no_40_dB_no_0.csv',\n",
       " 'zs_euclidean_pad_1_0.75_100_5_specs_no_40_dB_no_0.csv',\n",
       " 'zs_euclidean_pad_1_0.75_100_6_specs_no_40_dB_no_0.csv',\n",
       " 'zs_euclidean_pad_1_0.75_100_7_specs_no_40_dB_no_0.csv',\n",
       " 'zs_euclidean_pad_1_0.75_100_8_specs_no_40_dB_no_0.csv',\n",
       " 'zs_euclidean_pad_1_0.75_100_9_specs_no_40_dB_no_0.csv',\n",
       " 'zs_euclidean_pad_1_0.75_100_10_specs_no_40_dB_no_0.csv',\n",
       " 'zs_euclidean_pad_1_0.75_150_2_specs_no_40_dB_no_0.csv',\n",
       " 'zs_euclidean_pad_1_0.75_150_3_specs_no_40_dB_no_0.csv',\n",
       " 'zs_euclidean_pad_1_0.75_150_4_specs_no_40_dB_no_0.csv',\n",
       " 'zs_euclidean_pad_1_0.75_150_5_specs_no_40_dB_no_0.csv',\n",
       " 'zs_euclidean_pad_1_0.75_150_6_specs_no_40_dB_no_0.csv',\n",
       " 'zs_euclidean_pad_1_0.75_150_7_specs_no_40_dB_no_0.csv',\n",
       " 'zs_euclidean_pad_1_0.75_150_8_specs_no_40_dB_no_0.csv',\n",
       " 'zs_euclidean_pad_1_0.75_150_9_specs_no_40_dB_no_0.csv',\n",
       " 'zs_euclidean_pad_1_0.75_150_10_specs_no_40_dB_no_0.csv',\n",
       " 'zs_euclidean_pad_1_0.75_200_2_specs_no_40_dB_no_0.csv',\n",
       " 'zs_euclidean_pad_1_0.75_200_3_specs_no_40_dB_no_0.csv',\n",
       " 'zs_euclidean_pad_1_0.75_200_4_specs_no_40_dB_no_0.csv',\n",
       " 'zs_euclidean_pad_1_0.75_200_5_specs_no_40_dB_no_0.csv',\n",
       " 'zs_euclidean_pad_1_0.75_200_6_specs_no_40_dB_no_0.csv',\n",
       " 'zs_euclidean_pad_1_0.75_200_7_specs_no_40_dB_no_0.csv',\n",
       " 'zs_euclidean_pad_1_0.75_200_8_specs_no_40_dB_no_0.csv',\n",
       " 'zs_euclidean_pad_1_0.75_200_9_specs_no_40_dB_no_0.csv',\n",
       " 'zs_euclidean_pad_1_0.75_200_10_specs_no_40_dB_no_0.csv',\n",
       " 'zs_euclidean_pad_0_1.0_1_2_specs_no_40_dB_no_0.csv',\n",
       " 'zs_euclidean_pad_0_1.0_1_3_specs_no_40_dB_no_0.csv',\n",
       " 'zs_euclidean_pad_0_1.0_1_4_specs_no_40_dB_no_0.csv',\n",
       " 'zs_euclidean_pad_0_1.0_1_5_specs_no_40_dB_no_0.csv',\n",
       " 'zs_euclidean_pad_0_1.0_1_6_specs_no_40_dB_no_0.csv',\n",
       " 'zs_euclidean_pad_0_1.0_1_7_specs_no_40_dB_no_0.csv',\n",
       " 'zs_euclidean_pad_0_1.0_1_8_specs_no_40_dB_no_0.csv',\n",
       " 'zs_euclidean_pad_0_1.0_1_9_specs_no_40_dB_no_0.csv',\n",
       " 'zs_euclidean_pad_0_1.0_1_10_specs_no_40_dB_no_0.csv',\n",
       " 'zs_euclidean_pad_0.001_1.0_1_2_specs_no_40_dB_no_0.csv',\n",
       " 'zs_euclidean_pad_0.001_1.0_1_3_specs_no_40_dB_no_0.csv',\n",
       " 'zs_euclidean_pad_0.001_1.0_1_4_specs_no_40_dB_no_0.csv',\n",
       " 'zs_euclidean_pad_0.001_1.0_1_5_specs_no_40_dB_no_0.csv',\n",
       " 'zs_euclidean_pad_0.001_1.0_1_6_specs_no_40_dB_no_0.csv',\n",
       " 'zs_euclidean_pad_0.001_1.0_1_7_specs_no_40_dB_no_0.csv',\n",
       " 'zs_euclidean_pad_0.001_1.0_1_8_specs_no_40_dB_no_0.csv',\n",
       " 'zs_euclidean_pad_0.001_1.0_1_9_specs_no_40_dB_no_0.csv',\n",
       " 'zs_euclidean_pad_0.001_1.0_1_10_specs_no_40_dB_no_0.csv',\n",
       " 'zs_euclidean_pad_0.01_1.0_1_2_specs_no_40_dB_no_0.csv',\n",
       " 'zs_euclidean_pad_0.01_1.0_1_3_specs_no_40_dB_no_0.csv',\n",
       " 'zs_euclidean_pad_0.01_1.0_1_4_specs_no_40_dB_no_0.csv',\n",
       " 'zs_euclidean_pad_0.01_1.0_1_5_specs_no_40_dB_no_0.csv',\n",
       " 'zs_euclidean_pad_0.01_1.0_1_6_specs_no_40_dB_no_0.csv',\n",
       " 'zs_euclidean_pad_0.01_1.0_1_7_specs_no_40_dB_no_0.csv',\n",
       " 'zs_euclidean_pad_0.01_1.0_1_8_specs_no_40_dB_no_0.csv',\n",
       " 'zs_euclidean_pad_0.01_1.0_1_9_specs_no_40_dB_no_0.csv',\n",
       " 'zs_euclidean_pad_0.01_1.0_1_10_specs_no_40_dB_no_0.csv',\n",
       " 'zs_euclidean_pad_0.1_1.0_1_2_specs_no_40_dB_no_0.csv',\n",
       " 'zs_euclidean_pad_0.1_1.0_1_3_specs_no_40_dB_no_0.csv',\n",
       " 'zs_euclidean_pad_0.1_1.0_1_4_specs_no_40_dB_no_0.csv',\n",
       " 'zs_euclidean_pad_0.1_1.0_1_5_specs_no_40_dB_no_0.csv',\n",
       " 'zs_euclidean_pad_0.1_1.0_1_6_specs_no_40_dB_no_0.csv',\n",
       " 'zs_euclidean_pad_0.1_1.0_1_7_specs_no_40_dB_no_0.csv',\n",
       " 'zs_euclidean_pad_0.1_1.0_1_8_specs_no_40_dB_no_0.csv',\n",
       " 'zs_euclidean_pad_0.1_1.0_1_9_specs_no_40_dB_no_0.csv',\n",
       " 'zs_euclidean_pad_0.1_1.0_1_10_specs_no_40_dB_no_0.csv',\n",
       " 'zs_euclidean_pad_1_1.0_1_2_specs_no_40_dB_no_0.csv',\n",
       " 'zs_euclidean_pad_1_1.0_1_3_specs_no_40_dB_no_0.csv',\n",
       " 'zs_euclidean_pad_1_1.0_1_4_specs_no_40_dB_no_0.csv',\n",
       " 'zs_euclidean_pad_1_1.0_1_5_specs_no_40_dB_no_0.csv',\n",
       " 'zs_euclidean_pad_1_1.0_1_6_specs_no_40_dB_no_0.csv',\n",
       " 'zs_euclidean_pad_1_1.0_1_7_specs_no_40_dB_no_0.csv',\n",
       " 'zs_euclidean_pad_1_1.0_1_8_specs_no_40_dB_no_0.csv',\n",
       " 'zs_euclidean_pad_1_1.0_1_9_specs_no_40_dB_no_0.csv',\n",
       " 'zs_euclidean_pad_1_1.0_1_10_specs_no_40_dB_no_0.csv',\n",
       " 'zs_euclidean_pad_0_1.5_1_2_specs_no_40_dB_no_0.csv',\n",
       " 'zs_euclidean_pad_0_1.5_1_3_specs_no_40_dB_no_0.csv',\n",
       " 'zs_euclidean_pad_0_1.5_1_4_specs_no_40_dB_no_0.csv',\n",
       " 'zs_euclidean_pad_0_1.5_1_5_specs_no_40_dB_no_0.csv',\n",
       " 'zs_euclidean_pad_0_1.5_1_6_specs_no_40_dB_no_0.csv',\n",
       " 'zs_euclidean_pad_0_1.5_1_7_specs_no_40_dB_no_0.csv',\n",
       " 'zs_euclidean_pad_0_1.5_1_8_specs_no_40_dB_no_0.csv',\n",
       " 'zs_euclidean_pad_0_1.5_1_9_specs_no_40_dB_no_0.csv',\n",
       " 'zs_euclidean_pad_0_1.5_1_10_specs_no_40_dB_no_0.csv',\n",
       " 'zs_euclidean_pad_0.001_1.5_1_2_specs_no_40_dB_no_0.csv',\n",
       " 'zs_euclidean_pad_0.001_1.5_1_3_specs_no_40_dB_no_0.csv',\n",
       " 'zs_euclidean_pad_0.001_1.5_1_4_specs_no_40_dB_no_0.csv',\n",
       " 'zs_euclidean_pad_0.001_1.5_1_5_specs_no_40_dB_no_0.csv',\n",
       " 'zs_euclidean_pad_0.001_1.5_1_6_specs_no_40_dB_no_0.csv',\n",
       " 'zs_euclidean_pad_0.001_1.5_1_7_specs_no_40_dB_no_0.csv',\n",
       " 'zs_euclidean_pad_0.001_1.5_1_8_specs_no_40_dB_no_0.csv',\n",
       " 'zs_euclidean_pad_0.001_1.5_1_9_specs_no_40_dB_no_0.csv',\n",
       " 'zs_euclidean_pad_0.001_1.5_1_10_specs_no_40_dB_no_0.csv',\n",
       " 'zs_euclidean_pad_0.01_1.5_1_2_specs_no_40_dB_no_0.csv',\n",
       " 'zs_euclidean_pad_0.01_1.5_1_3_specs_no_40_dB_no_0.csv',\n",
       " 'zs_euclidean_pad_0.01_1.5_1_4_specs_no_40_dB_no_0.csv',\n",
       " 'zs_euclidean_pad_0.01_1.5_1_5_specs_no_40_dB_no_0.csv',\n",
       " 'zs_euclidean_pad_0.01_1.5_1_6_specs_no_40_dB_no_0.csv',\n",
       " 'zs_euclidean_pad_0.01_1.5_1_7_specs_no_40_dB_no_0.csv',\n",
       " 'zs_euclidean_pad_0.01_1.5_1_8_specs_no_40_dB_no_0.csv',\n",
       " 'zs_euclidean_pad_0.01_1.5_1_9_specs_no_40_dB_no_0.csv',\n",
       " 'zs_euclidean_pad_0.01_1.5_1_10_specs_no_40_dB_no_0.csv',\n",
       " 'zs_euclidean_pad_0.1_1.5_1_2_specs_no_40_dB_no_0.csv',\n",
       " 'zs_euclidean_pad_0.1_1.5_1_3_specs_no_40_dB_no_0.csv',\n",
       " 'zs_euclidean_pad_0.1_1.5_1_4_specs_no_40_dB_no_0.csv',\n",
       " 'zs_euclidean_pad_0.1_1.5_1_5_specs_no_40_dB_no_0.csv',\n",
       " 'zs_euclidean_pad_0.1_1.5_1_6_specs_no_40_dB_no_0.csv',\n",
       " 'zs_euclidean_pad_0.1_1.5_1_7_specs_no_40_dB_no_0.csv',\n",
       " 'zs_euclidean_pad_0.1_1.5_1_8_specs_no_40_dB_no_0.csv',\n",
       " 'zs_euclidean_pad_0.1_1.5_1_9_specs_no_40_dB_no_0.csv',\n",
       " 'zs_euclidean_pad_0.1_1.5_1_10_specs_no_40_dB_no_0.csv',\n",
       " 'zs_euclidean_pad_1_1.5_1_2_specs_no_40_dB_no_0.csv',\n",
       " 'zs_euclidean_pad_1_1.5_1_3_specs_no_40_dB_no_0.csv',\n",
       " 'zs_euclidean_pad_1_1.5_1_4_specs_no_40_dB_no_0.csv',\n",
       " 'zs_euclidean_pad_1_1.5_1_5_specs_no_40_dB_no_0.csv',\n",
       " 'zs_euclidean_pad_1_1.5_1_6_specs_no_40_dB_no_0.csv',\n",
       " 'zs_euclidean_pad_1_1.5_1_7_specs_no_40_dB_no_0.csv',\n",
       " 'zs_euclidean_pad_1_1.5_1_8_specs_no_40_dB_no_0.csv',\n",
       " 'zs_euclidean_pad_1_1.5_1_9_specs_no_40_dB_no_0.csv',\n",
       " 'zs_euclidean_pad_1_1.5_1_10_specs_no_40_dB_no_0.csv']"
      ]
     },
     "execution_count": 20,
     "metadata": {},
     "output_type": "execute_result"
    }
   ],
   "source": [
    "expected_files = []\n",
    "\n",
    "for spread in [0.1,0.5,0.75,1.0,1.5]:\n",
    "    for n_neighbors in [1,5,10,15,30,40,50,100,150,200]:\n",
    "        for min_dist in [0,0.001,0.01,0.1,1]:\n",
    "            for n_comps in [2,3,4,5,6,7,8,9,10]:\n",
    "                expected_files.append(get_param_string()+'_0.csv')\n",
    "\n",
    "print('Expected: ',len(expected_files))\n",
    "\n",
    "all_embedding_files = list(sorted(os.listdir(OUT_COORDS)))\n",
    "print('Observed: ',len(all_embedding_files))\n",
    "\n",
    "missing_in_observed = [x for x in expected_files if x not in all_embedding_files]\n",
    "print(len(missing_in_observed))\n",
    "missing_in_observed"
   ]
  },
  {
   "cell_type": "code",
   "execution_count": 19,
   "id": "9df4dde3-0b0b-44bb-af2b-e026a8f69bbb",
   "metadata": {},
   "outputs": [],
   "source": [
    "def get_params_from_filename(embedding_file):\n",
    "    embedding_params_string = embedding_file.replace('.csv', '')\n",
    "    embedding_params_list = embedding_params_string.split('_')\n",
    "    return embedding_params_list"
   ]
  },
  {
   "cell_type": "code",
   "execution_count": 56,
   "id": "156cc353-3df1-4236-828b-5417c5373d53",
   "metadata": {},
   "outputs": [
    {
     "name": "stdout",
     "output_type": "stream",
     "text": [
      "zs-fl-ce_cosine_timeshift-overlap_0_1_15_3_specs_yes_10_magnitude_yes_0.csv\n"
     ]
    }
   ],
   "source": [
    "for f in missing_in_observed[:1]:\n",
    "    print(f)"
   ]
  }
 ],
 "metadata": {
  "kernelspec": {
   "display_name": "Python 3",
   "language": "python",
   "name": "python3"
  },
  "language_info": {
   "codemirror_mode": {
    "name": "ipython",
    "version": 3
   },
   "file_extension": ".py",
   "mimetype": "text/x-python",
   "name": "python",
   "nbconvert_exporter": "python",
   "pygments_lexer": "ipython3",
   "version": "3.7.10"
  }
 },
 "nbformat": 4,
 "nbformat_minor": 5
}
