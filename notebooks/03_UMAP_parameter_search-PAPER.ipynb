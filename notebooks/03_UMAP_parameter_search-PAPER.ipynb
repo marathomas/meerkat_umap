{
 "cells": [
  {
   "cell_type": "markdown",
   "id": "01b8abf2",
   "metadata": {},
   "source": [
    "# Calculate UMAP embeddings with different parameters"
   ]
  },
  {
   "cell_type": "code",
   "execution_count": 1,
   "id": "8d7c0634",
   "metadata": {},
   "outputs": [],
   "source": [
    "import os\n",
    "import pandas as pd\n",
    "import sys\n",
    "import numpy as np\n",
    "from pandas.core.common import flatten\n",
    "import pickle\n",
    "import umap\n",
    "from pathlib import Path"
   ]
  },
  {
   "cell_type": "code",
   "execution_count": 2,
   "id": "fc828ddd",
   "metadata": {},
   "outputs": [],
   "source": [
    "wd = os.getcwd()\n",
    "\n",
    "DF = os.path.join(os.path.sep, str(Path(wd).parents[0]), \"data\", \"processed\", \"df_focal_reduced.pkl\")\n",
    "OUT_COORDS = os.path.join(os.path.sep, str(Path(wd).parents[0]), \"data\", \"interim\", \"parameter_search\", \"umap_coords\")"
   ]
  },
  {
   "cell_type": "code",
   "execution_count": 3,
   "id": "2f1eac5e",
   "metadata": {},
   "outputs": [
    {
     "data": {
      "text/plain": [
       "(6430, 28)"
      ]
     },
     "execution_count": 3,
     "metadata": {},
     "output_type": "execute_result"
    }
   ],
   "source": [
    "spec_df = pd.read_pickle(DF)\n",
    "spec_df.shape"
   ]
  },
  {
   "cell_type": "markdown",
   "id": "396545a2",
   "metadata": {},
   "source": [
    "## Functions"
   ]
  },
  {
   "cell_type": "code",
   "execution_count": 30,
   "id": "438ee331",
   "metadata": {},
   "outputs": [],
   "source": [
    "def set_defaults():\n",
    "    global input_type\n",
    "    global preprocess_type \n",
    "    global metric_type\n",
    "    global duration_method\n",
    "    global min_dist\n",
    "    global spread\n",
    "    global n_neighbors\n",
    "    global n_comps\n",
    "    global denoise\n",
    "    global n_mels\n",
    "    global f_unit\n",
    "    \n",
    "    input_type = 'melspecs'\n",
    "    preprocess_type = 'zs'\n",
    "    metric_type = 'manhattan'\n",
    "    duration_method = 'pad'\n",
    "    min_dist = 0\n",
    "    spread = 1\n",
    "    n_neighbors=15\n",
    "    n_comps = 5\n",
    "    denoise = \"no\"\n",
    "    n_mels = 40\n",
    "    f_unit = \"dB\"\n",
    "    \n",
    "    \n",
    "def get_param_string():\n",
    "    param_combi = \"_\".join([str(x) for x in [preprocess_type, metric_type, duration_method,\n",
    "                                             min_dist, spread, n_neighbors, n_comps, input_type, \n",
    "                                             denoise, n_mels, f_unit]])\n",
    "    return param_combi"
   ]
  },
  {
   "cell_type": "code",
   "execution_count": 31,
   "id": "941699ae",
   "metadata": {},
   "outputs": [],
   "source": [
    "def calc_umap(data, outname, metric='manhattan', min_dist=0, spread=1, n_neighbors=15, n_comps=5,n=5):\n",
    "    \n",
    "    for i in range(n):\n",
    "        reducer = umap.UMAP(n_components = n_comps, \n",
    "                            min_dist=min_dist,\n",
    "                            spread=spread,\n",
    "                            n_neighbors=n_neighbors,\n",
    "                            metric=metric)\n",
    "\n",
    "        embedding = reducer.fit_transform(data) \n",
    "        np.savetxt(outname+'_'+str(i)+'.csv', embedding, delimiter=\";\")   "
   ]
  },
  {
   "cell_type": "code",
   "execution_count": 6,
   "id": "14bde722",
   "metadata": {},
   "outputs": [],
   "source": [
    "from preprocessing_functions import calc_zscore, pad_spectro, create_padded_data"
   ]
  },
  {
   "cell_type": "markdown",
   "id": "3c3a746c",
   "metadata": {},
   "source": [
    "# Different input types"
   ]
  },
  {
   "cell_type": "code",
   "execution_count": 32,
   "id": "e30b2c45-16c0-4426-a3cb-35b5f0acfbac",
   "metadata": {},
   "outputs": [
    {
     "name": "stdout",
     "output_type": "stream",
     "text": [
      "/home/mthomas/Documents/MPI_work/projects/meerkat/meerkat_umap_pv/data/interim/parameter_search/umap_coords/zs_manhattan_pad_0_1_15_5_mfccs_no_40_dB\n"
     ]
    }
   ],
   "source": [
    "set_defaults()\n",
    "input_type = \"mfccs\"\n",
    "specs = spec_df['mfccs']\n",
    "specs = [calc_zscore(s) for s in specs]\n",
    "data = create_padded_data(specs)\n",
    "outname = os.path.join(os.path.sep, OUT_COORDS, get_param_string())\n",
    "print(outname)\n",
    "calc_umap(data, outname)"
   ]
  },
  {
   "cell_type": "markdown",
   "id": "a6cc31fa-7259-4255-b1ac-24a1bba5fb8f",
   "metadata": {},
   "source": [
    "# Amplitude vs. dB"
   ]
  },
  {
   "cell_type": "code",
   "execution_count": 34,
   "id": "1057b290-20e4-4885-a073-0e4bb6dfa8bd",
   "metadata": {},
   "outputs": [
    {
     "name": "stdout",
     "output_type": "stream",
     "text": [
      "/home/mthomas/Documents/MPI_work/projects/meerkat/meerkat_umap_pv/data/interim/parameter_search/umap_coords/zs_manhattan_pad_0_1_15_5_melspecs_no_40_magnitude\n"
     ]
    }
   ],
   "source": [
    "set_defaults()\n",
    "f_unit = \"magnitude\"\n",
    "specs = spec_df['ampli_spectrograms']\n",
    "specs = [calc_zscore(s) for s in specs]\n",
    "data = create_padded_data(specs)\n",
    "outname = os.path.join(os.path.sep, OUT_COORDS, get_param_string())\n",
    "print(outname)\n",
    "calc_umap(data, outname)"
   ]
  },
  {
   "cell_type": "markdown",
   "id": "bba34077-3779-47fc-a9a6-49b07303b922",
   "metadata": {},
   "source": [
    "# Mel-transform and number of mels"
   ]
  },
  {
   "cell_type": "code",
   "execution_count": null,
   "id": "99345cba-0e0e-4058-9ff2-d053acc52155",
   "metadata": {},
   "outputs": [],
   "source": [
    "from spectrogramming_functions import generate_mel_spectrogram"
   ]
  },
  {
   "cell_type": "code",
   "execution_count": 48,
   "id": "b4da2385-178d-41b3-beb6-3251cd7a2f1c",
   "metadata": {},
   "outputs": [
    {
     "name": "stdout",
     "output_type": "stream",
     "text": [
      "/home/mthomas/Documents/MPI_work/projects/meerkat/meerkat_umap_pv/data/interim/parameter_search/umap_coords/zs_manhattan_pad_0_1_15_5_melspecs_no_0_dB\n"
     ]
    }
   ],
   "source": [
    "set_defaults()\n",
    "\n",
    "n_mels = 0\n",
    "specs = spec_df[\"freq_spectrograms\"]\n",
    "specs = [calc_zscore(s) for s in specs]\n",
    "data = create_padded_data(specs)\n",
    "outname = os.path.join(os.path.sep, OUT_COORDS, get_param_string())\n",
    "print(outname)\n",
    "calc_umap(data, outname)"
   ]
  },
  {
   "cell_type": "code",
   "execution_count": 46,
   "id": "ade2bddf-f084-46ef-9cc6-5f7cfc75ae81",
   "metadata": {},
   "outputs": [
    {
     "name": "stdout",
     "output_type": "stream",
     "text": [
      "10\n",
      "/home/mthomas/Documents/MPI_work/projects/meerkat/meerkat_umap_pv/data/interim/parameter_search/umap_coords/zs_manhattan_pad_0_1_15_5_melspecs_no_10_dB\n",
      "20\n",
      "/home/mthomas/Documents/MPI_work/projects/meerkat/meerkat_umap_pv/data/interim/parameter_search/umap_coords/zs_manhattan_pad_0_1_15_5_melspecs_no_20_dB\n",
      "30\n",
      "/home/mthomas/Documents/MPI_work/projects/meerkat/meerkat_umap_pv/data/interim/parameter_search/umap_coords/zs_manhattan_pad_0_1_15_5_melspecs_no_30_dB\n",
      "50\n",
      "/home/mthomas/Documents/MPI_work/projects/meerkat/meerkat_umap_pv/data/interim/parameter_search/umap_coords/zs_manhattan_pad_0_1_15_5_melspecs_no_50_dB\n"
     ]
    }
   ],
   "source": [
    "# Spectrogramming parameters\n",
    "FFT_WIN = 0.03 # FFT_WIN*samplerate = length of fft/n_fft (number of audio frames that go in one fft)\n",
    "FFT_HOP = FFT_WIN/8 # FFT_HOP*samplerate = n of audio frames between successive ffts\n",
    "WINDOW = 'hann' # each frame of audio is windowed by a window function (its length can also be\n",
    "# determined and is then padded with zeros to match n_fft. we use window_length = length of fft\n",
    "FMAX = 4000\n",
    "N_MFCC = 13\n",
    "\n",
    "for n_mels in [10,20,30,50]:\n",
    "    specs = spec_df.apply(lambda row: generate_mel_spectrogram(row['raw_audio'],\n",
    "                                                              row['samplerate_hz'],\n",
    "                                                              n_mels,\n",
    "                                                              WINDOW,\n",
    "                                                              FFT_WIN,\n",
    "                                                              FFT_HOP,\n",
    "                                                              FMAX),\n",
    "                          axis=1)\n",
    "    specs = [calc_zscore(s) for s in specs]\n",
    "    data = create_padded_data(specs)\n",
    "    outname = os.path.join(os.path.sep, OUT_COORDS, get_param_string())\n",
    "    print(outname)\n",
    "    calc_umap(data, outname)  "
   ]
  },
  {
   "cell_type": "markdown",
   "id": "b0238dfb-ab63-43c7-834c-31799cc02896",
   "metadata": {},
   "source": [
    "# Denoising yes/no"
   ]
  },
  {
   "cell_type": "code",
   "execution_count": 47,
   "id": "6eb957b9-4f99-416d-8b1b-3b346c6652a9",
   "metadata": {},
   "outputs": [
    {
     "name": "stdout",
     "output_type": "stream",
     "text": [
      "/home/mthomas/Documents/MPI_work/projects/meerkat/meerkat_umap_pv/data/interim/parameter_search/umap_coords/zs_manhattan_pad_0_1_15_5_melspecs_yes_40_dB\n"
     ]
    }
   ],
   "source": [
    "set_defaults()\n",
    "denoise = \"yes\"\n",
    "specs = spec_df[\"denoised_spectrograms\"]\n",
    "specs = [calc_zscore(s) for s in specs]\n",
    "data = create_padded_data(specs)\n",
    "outname = os.path.join(os.path.sep, OUT_COORDS, get_param_string())\n",
    "print(outname)\n",
    "calc_umap(data, outname)"
   ]
  },
  {
   "cell_type": "markdown",
   "id": "f1b8aab1",
   "metadata": {},
   "source": [
    "## Different preprocessing steps"
   ]
  },
  {
   "cell_type": "code",
   "execution_count": 16,
   "id": "6f53b572",
   "metadata": {},
   "outputs": [],
   "source": [
    "from preprocessing_functions import preprocess_spec_numba,preprocess_spec_numba_fl, pad_transform_spectro"
   ]
  },
  {
   "cell_type": "code",
   "execution_count": 17,
   "id": "e2a8caac",
   "metadata": {},
   "outputs": [],
   "source": [
    "N_LOWER=5\n",
    "N_UPPER=5\n",
    "N_MELS = 40\n",
    "\n",
    "specs = spec_df.spectrograms.copy()\n",
    "\n",
    "preprocessed_specs = {'no': specs,\n",
    "                      'zs' : [calc_zscore(s) for s in specs],\n",
    "                      'zs-cu': [calc_zscore(s[N_LOWER:(N_MELS-N_UPPER),:]) for s in specs],\n",
    "                      'zs-cu-fl': [preprocess_spec_numba_fl(s, N_LOWER, N_UPPER) for s in specs],\n",
    "                      'zs-cu-fl-ce': [preprocess_spec_numba(s, N_LOWER, N_UPPER) for s in specs]}\n",
    "preprocess_types = list(preprocessed_specs.keys())"
   ]
  },
  {
   "cell_type": "code",
   "execution_count": 18,
   "id": "4a755b13",
   "metadata": {},
   "outputs": [
    {
     "name": "stdout",
     "output_type": "stream",
     "text": [
      "/home/mthomas/Documents/MPI_work/projects/meerkat/meerkat_umap_pv/data/interim/parameter_search/umap_coords/no_manhattan_pad_0_1_15_5_melspecs_no\n",
      "/home/mthomas/Documents/MPI_work/projects/meerkat/meerkat_umap_pv/data/interim/parameter_search/umap_coords/zs_manhattan_pad_0_1_15_5_melspecs_no\n",
      "/home/mthomas/Documents/MPI_work/projects/meerkat/meerkat_umap_pv/data/interim/parameter_search/umap_coords/zs-cu_manhattan_pad_0_1_15_5_melspecs_no\n",
      "/home/mthomas/Documents/MPI_work/projects/meerkat/meerkat_umap_pv/data/interim/parameter_search/umap_coords/zs-cu-fl_manhattan_pad_0_1_15_5_melspecs_no\n",
      "/home/mthomas/Documents/MPI_work/projects/meerkat/meerkat_umap_pv/data/interim/parameter_search/umap_coords/zs-cu-fl-ce_manhattan_pad_0_1_15_5_melspecs_no\n"
     ]
    }
   ],
   "source": [
    "set_defaults()\n",
    "\n",
    "for preprocess_type in preprocess_types:\n",
    "    specs = preprocessed_specs[preprocess_type]\n",
    "    data = create_padded_data(specs)\n",
    "    \n",
    "    outname = os.path.join(os.path.sep, OUT_COORDS, get_param_string())\n",
    "    print(outname)\n",
    "    calc_umap(data, outname)"
   ]
  },
  {
   "cell_type": "markdown",
   "id": "27a34fc8",
   "metadata": {},
   "source": [
    "## Different ways to deal with variable duration"
   ]
  },
  {
   "cell_type": "code",
   "execution_count": 24,
   "id": "4bb8d7ed",
   "metadata": {},
   "outputs": [],
   "source": [
    "#from custom_dist_functions import unpack_specs, spec_dist\n",
    "from custom_dist_functions import calc_pairwise_pad, calc_overlap_only, calc_timeshift, calc_timeshift_pad"
   ]
  },
  {
   "cell_type": "code",
   "execution_count": 26,
   "id": "7d66cd2f",
   "metadata": {},
   "outputs": [
    {
     "name": "stdout",
     "output_type": "stream",
     "text": [
      "/home/mthomas/Documents/MPI_work/projects/meerkat/meerkat_umap_pv/data/interim/parameter_search/umap_coords/zs_manhattan_pad_0_1_15_5_melspecs\n",
      "/home/mthomas/Documents/MPI_work/projects/meerkat/meerkat_umap_pv/data/interim/parameter_search/umap_coords/zs_manhattan_stretch_0_1_15_5_melspecs\n"
     ]
    }
   ],
   "source": [
    "set_defaults()\n",
    "duration_method_types = ['pad', 'stretch', 'pairwise-pad', 'overlap-only', 'timeshift-overlap', 'timeshift-pad']\n",
    "\n",
    "# this is a tricky one, because for pad and stretch, I can use the default metric type from umap with varying \n",
    "# input, but for the other duration_method_types, I need to write a numba-compatible custom distance function\n",
    "# thus the 3 \"cases\"\n",
    "\n",
    "for duration_method in duration_method_types:\n",
    "    \n",
    "    outname = os.path.join(os.path.sep, OUT_COORDS, get_param_string())\n",
    "    print(outname)\n",
    "    \n",
    "    # baseline pipeline\n",
    "    if duration_method=='pad':\n",
    "        specs = spec_df.spectrograms.copy()\n",
    "        specs = [calc_zscore(x) for x in specs]\n",
    "        data = create_padded_data(specs)\n",
    "        calc_umap(data, outname)\n",
    "    \n",
    "    # using stretched specs as input\n",
    "    elif duration_method=='stretch':\n",
    "        specs = spec_df.stretched_spectrograms.copy()\n",
    "        specs = [calc_zscore(x) for x in specs]\n",
    "        data = create_padded_data(specs)\n",
    "        calc_umap(data, outname)\n",
    "        \n",
    "    # pairwise-pad, overlap-only, timeshift-overlap and timeshift-pad all require\n",
    "    # custom distance functions\n",
    "    else:\n",
    "        specs = spec_df.spectrograms.copy()\n",
    "        specs = [calc_zscore(x) for x in specs]\n",
    "        n_bins = specs[0].shape[0]\n",
    "        maxlen= np.max([spec.shape[1] for spec in specs]) * n_bins +2\n",
    "        trans_specs = [pad_transform_spectro(spec, maxlen) for spec in specs]\n",
    "        data = np.asarray(trans_specs)\n",
    "\n",
    "        metric_dict = {'pairwise-pad': calc_pairwise_pad,\n",
    "                      'overlap-only': calc_overlap_only,\n",
    "                      'timeshift-overlap': calc_timeshift,\n",
    "                      'timeshift-pad': calc_timeshift_pad}\n",
    "        \n",
    "        calc_umap(data, outname, metric=metric_dict[duration_method])\n",
    "    "
   ]
  },
  {
   "cell_type": "markdown",
   "id": "2cdf1c53",
   "metadata": {},
   "source": [
    "## Different distance metrics"
   ]
  },
  {
   "cell_type": "code",
   "execution_count": 27,
   "id": "18c46992",
   "metadata": {},
   "outputs": [
    {
     "name": "stdout",
     "output_type": "stream",
     "text": [
      "/home/mthomas/Documents/MPI_work/projects/meerkat/meerkat_umap_pv/data/interim/parameter_search/umap_coords/zs_euclidean_pad_0_1_15_5_melspecs\n",
      "/home/mthomas/Documents/MPI_work/projects/meerkat/meerkat_umap_pv/data/interim/parameter_search/umap_coords/zs_manhattan_pad_0_1_15_5_melspecs\n",
      "/home/mthomas/Documents/MPI_work/projects/meerkat/meerkat_umap_pv/data/interim/parameter_search/umap_coords/zs_cosine_pad_0_1_15_5_melspecs\n",
      "/home/mthomas/Documents/MPI_work/projects/meerkat/meerkat_umap_pv/data/interim/parameter_search/umap_coords/zs_correlation_pad_0_1_15_5_melspecs\n"
     ]
    }
   ],
   "source": [
    "set_defaults()\n",
    "    \n",
    "metric_types = ['euclidean', 'manhattan', 'cosine', 'correlation']\n",
    "\n",
    "specs = spec_df.spectrograms.copy()\n",
    "specs = [calc_zscore(x) for x in specs]\n",
    "data = create_padded_data(specs)\n",
    "\n",
    "for metric_type in metric_types:\n",
    "    \n",
    "    outname = os.path.join(os.path.sep, OUT_COORDS, get_param_string())\n",
    "    print(outname)\n",
    "    calc_umap(data, outname, metric=metric_type)"
   ]
  },
  {
   "cell_type": "markdown",
   "id": "573120da",
   "metadata": {},
   "source": [
    "## N_neighbors"
   ]
  },
  {
   "cell_type": "code",
   "execution_count": 19,
   "id": "c3b6bd9f",
   "metadata": {},
   "outputs": [
    {
     "name": "stdout",
     "output_type": "stream",
     "text": [
      "/home/mthomas/Documents/MPI_work/projects/meerkat/meerkat_umap_pv/data/interim/parameter_search/umap_coords/zs_manhattan_pad_0_1_50_5_melspecs_no\n",
      "/home/mthomas/Documents/MPI_work/projects/meerkat/meerkat_umap_pv/data/interim/parameter_search/umap_coords/zs_manhattan_pad_0_1_100_5_melspecs_no\n",
      "/home/mthomas/Documents/MPI_work/projects/meerkat/meerkat_umap_pv/data/interim/parameter_search/umap_coords/zs_manhattan_pad_0_1_150_5_melspecs_no\n",
      "/home/mthomas/Documents/MPI_work/projects/meerkat/meerkat_umap_pv/data/interim/parameter_search/umap_coords/zs_manhattan_pad_0_1_200_5_melspecs_no\n"
     ]
    }
   ],
   "source": [
    "set_defaults()\n",
    "\n",
    "n_neighbors_types = [5,15,30,50,100,150,200]\n",
    "\n",
    "specs = spec_df.spectrograms.copy()\n",
    "specs = [calc_zscore(x) for x in specs]\n",
    "data = create_padded_data(specs)\n",
    "\n",
    "for n_neighbors in n_neighbors_types:\n",
    "    outname = os.path.join(os.path.sep, OUT_COORDS, get_param_string())\n",
    "    print(outname)\n",
    "    calc_umap(data, outname, n_neighbors=n_neighbors)"
   ]
  },
  {
   "cell_type": "markdown",
   "id": "32f7f6f4-b777-4b7a-ba66-a1aade5bf3e2",
   "metadata": {},
   "source": [
    "# Spread"
   ]
  },
  {
   "cell_type": "code",
   "execution_count": 59,
   "id": "75796306-5cdb-44d0-bcbd-c9d7776f4a9b",
   "metadata": {},
   "outputs": [
    {
     "name": "stdout",
     "output_type": "stream",
     "text": [
      "/home/mthomas/Documents/MPI_work/projects/meerkat/meerkat_umap_pv/data/interim/parameter_search/umap_coords/zs_manhattan_pad_0_0.1_15_5_melspecs_no_40_dB\n",
      "/home/mthomas/Documents/MPI_work/projects/meerkat/meerkat_umap_pv/data/interim/parameter_search/umap_coords/zs_manhattan_pad_0_0.5_15_5_melspecs_no_40_dB\n",
      "/home/mthomas/Documents/MPI_work/projects/meerkat/meerkat_umap_pv/data/interim/parameter_search/umap_coords/zs_manhattan_pad_0_0.75_15_5_melspecs_no_40_dB\n",
      "/home/mthomas/Documents/MPI_work/projects/meerkat/meerkat_umap_pv/data/interim/parameter_search/umap_coords/zs_manhattan_pad_0_1.5_15_5_melspecs_no_40_dB\n"
     ]
    }
   ],
   "source": [
    "set_defaults()\n",
    "\n",
    "n_spread_types = [0.1,0.5, 0.75, 1.5]\n",
    "\n",
    "specs = spec_df.spectrograms.copy()\n",
    "specs = [calc_zscore(x) for x in specs]\n",
    "data = create_padded_data(specs)\n",
    "\n",
    "for n_spread in n_spread_types:\n",
    "    spread = n_spread\n",
    "    outname = os.path.join(os.path.sep, OUT_COORDS, get_param_string())\n",
    "    print(outname)\n",
    "    calc_umap(data, outname, spread=n_spread)"
   ]
  },
  {
   "cell_type": "markdown",
   "id": "d59ade81-3feb-4ef3-bb63-9e37d9eb377c",
   "metadata": {},
   "source": [
    "## Min_dist"
   ]
  },
  {
   "cell_type": "code",
   "execution_count": 57,
   "id": "171cf1a4-af9a-4041-8fc9-1d8ed2ac2b71",
   "metadata": {},
   "outputs": [
    {
     "name": "stdout",
     "output_type": "stream",
     "text": [
      "/home/mthomas/Documents/MPI_work/projects/meerkat/meerkat_umap_pv/data/interim/parameter_search/umap_coords/zs_manhattan_pad_0.001_1_15_5_melspecs_no_40_dB\n",
      "/home/mthomas/Documents/MPI_work/projects/meerkat/meerkat_umap_pv/data/interim/parameter_search/umap_coords/zs_manhattan_pad_0.01_1_15_5_melspecs_no_40_dB\n",
      "/home/mthomas/Documents/MPI_work/projects/meerkat/meerkat_umap_pv/data/interim/parameter_search/umap_coords/zs_manhattan_pad_0.1_1_15_5_melspecs_no_40_dB\n",
      "/home/mthomas/Documents/MPI_work/projects/meerkat/meerkat_umap_pv/data/interim/parameter_search/umap_coords/zs_manhattan_pad_1_1_15_5_melspecs_no_40_dB\n"
     ]
    }
   ],
   "source": [
    "set_defaults()\n",
    "\n",
    "min_dist_types = [0.001, 0.01, 0.1, 1]\n",
    "\n",
    "specs = spec_df.spectrograms.copy()\n",
    "specs = [calc_zscore(x) for x in specs]\n",
    "data = create_padded_data(specs)\n",
    "\n",
    "for min_dist_n in min_dist_types:\n",
    "    min_dist = min_dist_n\n",
    "    outname = os.path.join(os.path.sep, OUT_COORDS, get_param_string())\n",
    "    print(outname)\n",
    "    calc_umap(data, outname, min_dist=min_dist)"
   ]
  }
 ],
 "metadata": {
  "kernelspec": {
   "display_name": "Python 3",
   "language": "python",
   "name": "python3"
  },
  "language_info": {
   "codemirror_mode": {
    "name": "ipython",
    "version": 3
   },
   "file_extension": ".py",
   "mimetype": "text/x-python",
   "name": "python",
   "nbconvert_exporter": "python",
   "pygments_lexer": "ipython3",
   "version": "3.7.10"
  }
 },
 "nbformat": 4,
 "nbformat_minor": 5
}
