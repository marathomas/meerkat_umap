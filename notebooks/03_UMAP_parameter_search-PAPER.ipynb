{
 "cells": [
  {
   "cell_type": "markdown",
   "id": "01b8abf2",
   "metadata": {},
   "source": [
    "# Calculate UMAP embeddings with different parameters"
   ]
  },
  {
   "cell_type": "code",
   "execution_count": 1,
   "id": "8d7c0634",
   "metadata": {},
   "outputs": [],
   "source": [
    "import os\n",
    "import pandas as pd\n",
    "import sys\n",
    "import numpy as np\n",
    "from pandas.core.common import flatten\n",
    "import pickle\n",
    "import umap\n",
    "from pathlib import Path"
   ]
  },
  {
   "cell_type": "code",
   "execution_count": 2,
   "id": "daedfea3-54bf-4287-aef4-b52d1a78e3cd",
   "metadata": {},
   "outputs": [],
   "source": [
    "from preprocessing_functions import calc_zscore, pad_spectro, create_padded_data"
   ]
  },
  {
   "cell_type": "code",
   "execution_count": 3,
   "id": "b16f03b4-0e81-4b6b-9b14-8313f1b43043",
   "metadata": {},
   "outputs": [],
   "source": [
    "from preprocessing_functions import preprocess_spec_numba,preprocess_spec_numba_fl, pad_transform_spectro"
   ]
  },
  {
   "cell_type": "code",
   "execution_count": 4,
   "id": "e5860022-8a77-4bbd-b081-9440cb44c75c",
   "metadata": {},
   "outputs": [],
   "source": [
    "from spectrogramming_functions import generate_mel_spectrogram"
   ]
  },
  {
   "cell_type": "code",
   "execution_count": 5,
   "id": "33682928-e4a3-41bd-b088-be62e75515aa",
   "metadata": {},
   "outputs": [],
   "source": [
    "from custom_dist_functions import calc_pairwise_pad, calc_overlap_only, calc_timeshift, calc_timeshift_pad"
   ]
  },
  {
   "cell_type": "code",
   "execution_count": 19,
   "id": "fc828ddd",
   "metadata": {},
   "outputs": [],
   "source": [
    "wd = os.getcwd()\n",
    "\n",
    "DF = os.path.join(os.path.sep, str(Path(wd).parents[0]), \"data\", \"processed\", \"df_focal_reduced.pkl\")\n",
    "OUT_COORDS = os.path.join(os.path.sep, str(Path(wd).parents[0]), \"data\", \"interim\", \"parameter_search\", \"umap_coords_3D\")"
   ]
  },
  {
   "cell_type": "code",
   "execution_count": 20,
   "id": "2f1eac5e",
   "metadata": {},
   "outputs": [
    {
     "data": {
      "text/plain": [
       "(6430, 34)"
      ]
     },
     "execution_count": 20,
     "metadata": {},
     "output_type": "execute_result"
    }
   ],
   "source": [
    "spec_df = pd.read_pickle(DF)\n",
    "spec_df.shape"
   ]
  },
  {
   "cell_type": "markdown",
   "id": "396545a2",
   "metadata": {},
   "source": [
    "## Functions"
   ]
  },
  {
   "cell_type": "code",
   "execution_count": 31,
   "id": "dfb9a7e6-1c6f-4da5-9505-34e5d076c0e9",
   "metadata": {},
   "outputs": [],
   "source": [
    "DEF_INPUT_TYPE = 'melspecs'\n",
    "DEF_PREPROCESS_TYPE = 'zs'\n",
    "DEF_METRIC_TYPE = 'euclidean'\n",
    "DEF_DURATION_METHOD = 'pad'\n",
    "DEF_MIN_DIST = 0\n",
    "DEF_SPREAD = 1\n",
    "DEF_NEIGHBORS = 15\n",
    "DEF_N_COMPS = 3\n",
    "DEF_DENOISE = 'no'\n",
    "DEF_N_MELS = 40\n",
    "DEF_F_UNIT = 'dB'"
   ]
  },
  {
   "cell_type": "code",
   "execution_count": 32,
   "id": "438ee331",
   "metadata": {},
   "outputs": [],
   "source": [
    "def set_defaults():\n",
    "    global input_type\n",
    "    global preprocess_type \n",
    "    global metric_type\n",
    "    global duration_method\n",
    "    global min_dist\n",
    "    global spread\n",
    "    global n_neighbors\n",
    "    global n_comps\n",
    "    global denoise\n",
    "    global n_mels\n",
    "    global f_unit\n",
    "    \n",
    "    input_type = DEF_INPUT_TYPE\n",
    "    preprocess_type = DEF_PREPROCESS_TYPE\n",
    "    metric_type = DEF_METRIC_TYPE\n",
    "    duration_method = DEF_DURATION_METHOD\n",
    "    min_dist = DEF_MIN_DIST\n",
    "    spread = DEF_SPREAD\n",
    "    n_neighbors= DEF_NEIGHBORS\n",
    "    n_comps = DEF_N_COMPS\n",
    "    denoise = DEF_DENOISE\n",
    "    n_mels = DEF_N_MELS\n",
    "    f_unit = DEF_F_UNIT\n",
    "    \n",
    "    \n",
    "def get_param_string():\n",
    "    param_combi = \"_\".join([str(x) for x in [preprocess_type, metric_type, duration_method,\n",
    "                                             min_dist, spread, n_neighbors, n_comps, input_type, \n",
    "                                             denoise, n_mels, f_unit]])\n",
    "    return param_combi"
   ]
  },
  {
   "cell_type": "code",
   "execution_count": 33,
   "id": "941699ae",
   "metadata": {},
   "outputs": [],
   "source": [
    "def calc_umap(data, outname, metric=DEF_METRIC_TYPE, min_dist=DEF_MIN_DIST, spread=DEF_SPREAD, n_neighbors=DEF_NEIGHBORS, n_comps=DEF_N_COMPS,n = 5):\n",
    "    \n",
    "    for i in range(n):\n",
    "        reducer = umap.UMAP(n_components = n_comps, \n",
    "                            min_dist=min_dist,\n",
    "                            spread=spread,\n",
    "                            n_neighbors=n_neighbors,\n",
    "                            metric=metric)\n",
    "\n",
    "        embedding = reducer.fit_transform(data) \n",
    "        np.savetxt(outname+'_'+str(i)+'.csv', embedding, delimiter=\";\")   "
   ]
  },
  {
   "cell_type": "code",
   "execution_count": 34,
   "id": "344c4d2b-b8eb-4eae-a65b-620aa399b339",
   "metadata": {},
   "outputs": [
    {
     "name": "stdout",
     "output_type": "stream",
     "text": [
      "/home/mthomas/Documents/MPI_work/projects/meerkat/meerkat_umap_pv/data/interim/parameter_search/umap_coords_3D/zs_euclidean_pad_0_1_15_3_melspecs_no_40_dB\n"
     ]
    }
   ],
   "source": [
    "# ORIGINAL\n",
    "\n",
    "set_defaults()\n",
    "\n",
    "specs = spec_df.spectrograms.copy()\n",
    "specs = [calc_zscore(x) for x in specs]\n",
    "data = create_padded_data(specs)\n",
    "\n",
    "outname = os.path.join(os.path.sep, OUT_COORDS, get_param_string())\n",
    "calc_umap(data, outname)\n",
    "print(outname)"
   ]
  },
  {
   "cell_type": "markdown",
   "id": "97834290-6937-47e1-a417-f66adab137de",
   "metadata": {},
   "source": [
    "# Different dimensions in latent space"
   ]
  },
  {
   "cell_type": "code",
   "execution_count": 35,
   "id": "6460228a-c1cc-45e5-a1b3-2042e3721630",
   "metadata": {},
   "outputs": [
    {
     "name": "stdout",
     "output_type": "stream",
     "text": [
      "/home/mthomas/Documents/MPI_work/projects/meerkat/meerkat_umap_pv/data/interim/parameter_search/umap_coords_3D/zs_euclidean_pad_0_1_15_2_melspecs_no_40_dB\n",
      "/home/mthomas/Documents/MPI_work/projects/meerkat/meerkat_umap_pv/data/interim/parameter_search/umap_coords_3D/zs_euclidean_pad_0_1_15_3_melspecs_no_40_dB\n",
      "/home/mthomas/Documents/MPI_work/projects/meerkat/meerkat_umap_pv/data/interim/parameter_search/umap_coords_3D/zs_euclidean_pad_0_1_15_4_melspecs_no_40_dB\n",
      "/home/mthomas/Documents/MPI_work/projects/meerkat/meerkat_umap_pv/data/interim/parameter_search/umap_coords_3D/zs_euclidean_pad_0_1_15_5_melspecs_no_40_dB\n",
      "/home/mthomas/Documents/MPI_work/projects/meerkat/meerkat_umap_pv/data/interim/parameter_search/umap_coords_3D/zs_euclidean_pad_0_1_15_6_melspecs_no_40_dB\n",
      "/home/mthomas/Documents/MPI_work/projects/meerkat/meerkat_umap_pv/data/interim/parameter_search/umap_coords_3D/zs_euclidean_pad_0_1_15_7_melspecs_no_40_dB\n",
      "/home/mthomas/Documents/MPI_work/projects/meerkat/meerkat_umap_pv/data/interim/parameter_search/umap_coords_3D/zs_euclidean_pad_0_1_15_8_melspecs_no_40_dB\n",
      "/home/mthomas/Documents/MPI_work/projects/meerkat/meerkat_umap_pv/data/interim/parameter_search/umap_coords_3D/zs_euclidean_pad_0_1_15_9_melspecs_no_40_dB\n",
      "/home/mthomas/Documents/MPI_work/projects/meerkat/meerkat_umap_pv/data/interim/parameter_search/umap_coords_3D/zs_euclidean_pad_0_1_15_10_melspecs_no_40_dB\n",
      "/home/mthomas/Documents/MPI_work/projects/meerkat/meerkat_umap_pv/data/interim/parameter_search/umap_coords_3D/zs_euclidean_pad_0_1_15_15_melspecs_no_40_dB\n",
      "/home/mthomas/Documents/MPI_work/projects/meerkat/meerkat_umap_pv/data/interim/parameter_search/umap_coords_3D/zs_euclidean_pad_0_1_15_20_melspecs_no_40_dB\n"
     ]
    }
   ],
   "source": [
    "set_defaults()\n",
    "\n",
    "for n_comps in [2,3,4,5,6,7,8,9,10,15,20]:\n",
    "    specs = spec_df.spectrograms.copy()\n",
    "    specs = [calc_zscore(s) for s in specs]\n",
    "    data = create_padded_data(specs)\n",
    "    outname = os.path.join(os.path.sep, OUT_COORDS, get_param_string())\n",
    "    print(outname)\n",
    "    calc_umap(data, n_comps=n_comps, outname=outname)"
   ]
  },
  {
   "cell_type": "markdown",
   "id": "3c3a746c",
   "metadata": {},
   "source": [
    "# Different input types"
   ]
  },
  {
   "cell_type": "code",
   "execution_count": 36,
   "id": "e30b2c45-16c0-4426-a3cb-35b5f0acfbac",
   "metadata": {},
   "outputs": [
    {
     "name": "stdout",
     "output_type": "stream",
     "text": [
      "/home/mthomas/Documents/MPI_work/projects/meerkat/meerkat_umap_pv/data/interim/parameter_search/umap_coords_3D/zs_euclidean_pad_0_1_15_3_mfccs_no_40_dB\n"
     ]
    }
   ],
   "source": [
    "set_defaults()\n",
    "\n",
    "input_type = 'mfccs'\n",
    "specs = spec_df.zmfccs.copy()\n",
    "specs = [calc_zscore(s) for s in specs]\n",
    "data = create_padded_data(specs)\n",
    "outname = os.path.join(os.path.sep, OUT_COORDS, get_param_string())\n",
    "print(outname)\n",
    "calc_umap(data, outname)"
   ]
  },
  {
   "cell_type": "markdown",
   "id": "a6cc31fa-7259-4255-b1ac-24a1bba5fb8f",
   "metadata": {},
   "source": [
    "# Amplitude vs. dB"
   ]
  },
  {
   "cell_type": "code",
   "execution_count": 37,
   "id": "1057b290-20e4-4885-a073-0e4bb6dfa8bd",
   "metadata": {},
   "outputs": [
    {
     "name": "stdout",
     "output_type": "stream",
     "text": [
      "/home/mthomas/Documents/MPI_work/projects/meerkat/meerkat_umap_pv/data/interim/parameter_search/umap_coords_3D/zs_euclidean_pad_0_1_15_3_melspecs_no_40_magnitude\n"
     ]
    }
   ],
   "source": [
    "set_defaults()\n",
    "f_unit = \"magnitude\"\n",
    "specs = spec_df['ampli_spectrograms'].copy()\n",
    "specs = [calc_zscore(s) for s in specs]\n",
    "data = create_padded_data(specs)\n",
    "outname = os.path.join(os.path.sep, OUT_COORDS, get_param_string())\n",
    "print(outname)\n",
    "calc_umap(data, outname)"
   ]
  },
  {
   "cell_type": "markdown",
   "id": "bba34077-3779-47fc-a9a6-49b07303b922",
   "metadata": {},
   "source": [
    "# Mel-transform and number of mels"
   ]
  },
  {
   "cell_type": "code",
   "execution_count": 38,
   "id": "b4da2385-178d-41b3-beb6-3251cd7a2f1c",
   "metadata": {},
   "outputs": [
    {
     "name": "stdout",
     "output_type": "stream",
     "text": [
      "/home/mthomas/Documents/MPI_work/projects/meerkat/meerkat_umap_pv/data/interim/parameter_search/umap_coords_3D/zs_euclidean_pad_0_1_15_3_melspecs_no_0_dB\n"
     ]
    }
   ],
   "source": [
    "set_defaults()\n",
    "\n",
    "n_mels = 0\n",
    "specs = spec_df[\"freq_spectrograms\"].copy()\n",
    "specs = [calc_zscore(s) for s in specs]\n",
    "data = create_padded_data(specs)\n",
    "outname = os.path.join(os.path.sep, OUT_COORDS, get_param_string())\n",
    "print(outname)\n",
    "calc_umap(data, outname)"
   ]
  },
  {
   "cell_type": "code",
   "execution_count": 39,
   "id": "ade2bddf-f084-46ef-9cc6-5f7cfc75ae81",
   "metadata": {},
   "outputs": [
    {
     "name": "stdout",
     "output_type": "stream",
     "text": [
      "/home/mthomas/Documents/MPI_work/projects/meerkat/meerkat_umap_pv/data/interim/parameter_search/umap_coords_3D/zs_euclidean_pad_0_1_15_3_melspecs_no_10_dB\n",
      "/home/mthomas/Documents/MPI_work/projects/meerkat/meerkat_umap_pv/data/interim/parameter_search/umap_coords_3D/zs_euclidean_pad_0_1_15_3_melspecs_no_20_dB\n",
      "/home/mthomas/Documents/MPI_work/projects/meerkat/meerkat_umap_pv/data/interim/parameter_search/umap_coords_3D/zs_euclidean_pad_0_1_15_3_melspecs_no_30_dB\n",
      "/home/mthomas/Documents/MPI_work/projects/meerkat/meerkat_umap_pv/data/interim/parameter_search/umap_coords_3D/zs_euclidean_pad_0_1_15_3_melspecs_no_50_dB\n"
     ]
    }
   ],
   "source": [
    "# Spectrogramming parameters\n",
    "FFT_WIN = 0.03 # FFT_WIN*samplerate = length of fft/n_fft (number of audio frames that go in one fft)\n",
    "FFT_HOP = FFT_WIN/8 # FFT_HOP*samplerate = n of audio frames between successive ffts\n",
    "WINDOW = 'hann' # each frame of audio is windowed by a window function (its length can also be\n",
    "# determined and is then padded with zeros to match n_fft. we use window_length = length of fft\n",
    "FMAX = 4000\n",
    "N_MFCC = 13\n",
    "\n",
    "for n_mels in [10,20,30,50]:\n",
    "    specs = spec_df.apply(lambda row: generate_mel_spectrogram(row['raw_audio'],\n",
    "                                                              row['samplerate_hz'],\n",
    "                                                              n_mels,\n",
    "                                                              WINDOW,\n",
    "                                                              FFT_WIN,\n",
    "                                                              FFT_HOP,\n",
    "                                                              FMAX),\n",
    "                          axis=1)\n",
    "    specs = [calc_zscore(s) for s in specs]\n",
    "    data = create_padded_data(specs)\n",
    "    outname = os.path.join(os.path.sep, OUT_COORDS, get_param_string())\n",
    "    print(outname)\n",
    "    calc_umap(data, outname)  "
   ]
  },
  {
   "cell_type": "markdown",
   "id": "b0238dfb-ab63-43c7-834c-31799cc02896",
   "metadata": {},
   "source": [
    "# Denoising yes/no"
   ]
  },
  {
   "cell_type": "code",
   "execution_count": 40,
   "id": "6eb957b9-4f99-416d-8b1b-3b346c6652a9",
   "metadata": {},
   "outputs": [
    {
     "name": "stdout",
     "output_type": "stream",
     "text": [
      "/home/mthomas/Documents/MPI_work/projects/meerkat/meerkat_umap_pv/data/interim/parameter_search/umap_coords_3D/zs_euclidean_pad_0_1_15_3_melspecs_yes_40_dB\n"
     ]
    }
   ],
   "source": [
    "set_defaults()\n",
    "denoise = \"yes\"\n",
    "specs = spec_df[\"denoised_spectrograms\"].copy()\n",
    "specs = [calc_zscore(s) for s in specs]\n",
    "data = create_padded_data(specs)\n",
    "outname = os.path.join(os.path.sep, OUT_COORDS, get_param_string())\n",
    "print(outname)\n",
    "calc_umap(data, outname)"
   ]
  },
  {
   "cell_type": "markdown",
   "id": "f1b8aab1",
   "metadata": {},
   "source": [
    "## Different preprocessing steps"
   ]
  },
  {
   "cell_type": "code",
   "execution_count": 41,
   "id": "e2a8caac",
   "metadata": {},
   "outputs": [],
   "source": [
    "N_LOWER=5\n",
    "N_UPPER=5\n",
    "N_MELS = 40\n",
    "\n",
    "specs = spec_df.spectrograms.copy()\n",
    "\n",
    "preprocessed_specs = {'no': specs,\n",
    "                      #'zs' : [calc_zscore(s) for s in specs],\n",
    "                      'zs-cu': [calc_zscore(s[N_LOWER:(N_MELS-N_UPPER),:]) for s in specs],\n",
    "                      'zs-cu-fl': [preprocess_spec_numba_fl(s, N_LOWER, N_UPPER) for s in specs],\n",
    "                      'zs-cu-fl-ce': [preprocess_spec_numba(s, N_LOWER, N_UPPER) for s in specs]}\n",
    "preprocess_types = list(preprocessed_specs.keys())"
   ]
  },
  {
   "cell_type": "code",
   "execution_count": 42,
   "id": "4a755b13",
   "metadata": {},
   "outputs": [
    {
     "name": "stdout",
     "output_type": "stream",
     "text": [
      "/home/mthomas/Documents/MPI_work/projects/meerkat/meerkat_umap_pv/data/interim/parameter_search/umap_coords_3D/no_euclidean_pad_0_1_15_3_melspecs_no_40_dB\n",
      "/home/mthomas/Documents/MPI_work/projects/meerkat/meerkat_umap_pv/data/interim/parameter_search/umap_coords_3D/zs-cu_euclidean_pad_0_1_15_3_melspecs_no_40_dB\n",
      "/home/mthomas/Documents/MPI_work/projects/meerkat/meerkat_umap_pv/data/interim/parameter_search/umap_coords_3D/zs-cu-fl_euclidean_pad_0_1_15_3_melspecs_no_40_dB\n",
      "/home/mthomas/Documents/MPI_work/projects/meerkat/meerkat_umap_pv/data/interim/parameter_search/umap_coords_3D/zs-cu-fl-ce_euclidean_pad_0_1_15_3_melspecs_no_40_dB\n"
     ]
    }
   ],
   "source": [
    "set_defaults()\n",
    "\n",
    "for preprocess_type in preprocess_types:\n",
    "    specs = preprocessed_specs[preprocess_type]\n",
    "    data = create_padded_data(specs)\n",
    "    \n",
    "    outname = os.path.join(os.path.sep, OUT_COORDS, get_param_string())\n",
    "    print(outname)\n",
    "    calc_umap(data, outname)"
   ]
  },
  {
   "cell_type": "markdown",
   "id": "27a34fc8",
   "metadata": {},
   "source": [
    "## Different ways to deal with variable duration"
   ]
  },
  {
   "cell_type": "code",
   "execution_count": 43,
   "id": "7d66cd2f",
   "metadata": {},
   "outputs": [
    {
     "name": "stdout",
     "output_type": "stream",
     "text": [
      "/home/mthomas/Documents/MPI_work/projects/meerkat/meerkat_umap_pv/data/interim/parameter_search/umap_coords_3D/zs_euclidean_pairwise-pad_0_1_15_3_melspecs_no_40_dB\n"
     ]
    },
    {
     "name": "stderr",
     "output_type": "stream",
     "text": [
      "/home/mthomas/anaconda3/envs/meerkat_umap_env_3/lib/python3.7/site-packages/umap/umap_.py:1728: UserWarning: custom distance metric does not return gradient; inverse_transform will be unavailable. To enable using inverse_transform method method, define a distance function that returns a tuple of (distance [float], gradient [np.array])\n",
      "  \"custom distance metric does not return gradient; inverse_transform will be unavailable. \"\n",
      "/home/mthomas/anaconda3/envs/meerkat_umap_env_3/lib/python3.7/site-packages/umap/umap_.py:1728: UserWarning: custom distance metric does not return gradient; inverse_transform will be unavailable. To enable using inverse_transform method method, define a distance function that returns a tuple of (distance [float], gradient [np.array])\n",
      "  \"custom distance metric does not return gradient; inverse_transform will be unavailable. \"\n",
      "/home/mthomas/anaconda3/envs/meerkat_umap_env_3/lib/python3.7/site-packages/umap/umap_.py:1728: UserWarning: custom distance metric does not return gradient; inverse_transform will be unavailable. To enable using inverse_transform method method, define a distance function that returns a tuple of (distance [float], gradient [np.array])\n",
      "  \"custom distance metric does not return gradient; inverse_transform will be unavailable. \"\n",
      "/home/mthomas/anaconda3/envs/meerkat_umap_env_3/lib/python3.7/site-packages/umap/umap_.py:1728: UserWarning: custom distance metric does not return gradient; inverse_transform will be unavailable. To enable using inverse_transform method method, define a distance function that returns a tuple of (distance [float], gradient [np.array])\n",
      "  \"custom distance metric does not return gradient; inverse_transform will be unavailable. \"\n",
      "/home/mthomas/anaconda3/envs/meerkat_umap_env_3/lib/python3.7/site-packages/umap/umap_.py:1728: UserWarning: custom distance metric does not return gradient; inverse_transform will be unavailable. To enable using inverse_transform method method, define a distance function that returns a tuple of (distance [float], gradient [np.array])\n",
      "  \"custom distance metric does not return gradient; inverse_transform will be unavailable. \"\n"
     ]
    },
    {
     "name": "stdout",
     "output_type": "stream",
     "text": [
      "/home/mthomas/Documents/MPI_work/projects/meerkat/meerkat_umap_pv/data/interim/parameter_search/umap_coords_3D/zs_euclidean_overlap-only_0_1_15_3_melspecs_no_40_dB\n"
     ]
    },
    {
     "name": "stderr",
     "output_type": "stream",
     "text": [
      "/home/mthomas/anaconda3/envs/meerkat_umap_env_3/lib/python3.7/site-packages/umap/umap_.py:1728: UserWarning: custom distance metric does not return gradient; inverse_transform will be unavailable. To enable using inverse_transform method method, define a distance function that returns a tuple of (distance [float], gradient [np.array])\n",
      "  \"custom distance metric does not return gradient; inverse_transform will be unavailable. \"\n",
      "/home/mthomas/anaconda3/envs/meerkat_umap_env_3/lib/python3.7/site-packages/umap/umap_.py:1728: UserWarning: custom distance metric does not return gradient; inverse_transform will be unavailable. To enable using inverse_transform method method, define a distance function that returns a tuple of (distance [float], gradient [np.array])\n",
      "  \"custom distance metric does not return gradient; inverse_transform will be unavailable. \"\n",
      "/home/mthomas/anaconda3/envs/meerkat_umap_env_3/lib/python3.7/site-packages/umap/umap_.py:1728: UserWarning: custom distance metric does not return gradient; inverse_transform will be unavailable. To enable using inverse_transform method method, define a distance function that returns a tuple of (distance [float], gradient [np.array])\n",
      "  \"custom distance metric does not return gradient; inverse_transform will be unavailable. \"\n",
      "/home/mthomas/anaconda3/envs/meerkat_umap_env_3/lib/python3.7/site-packages/umap/umap_.py:1728: UserWarning: custom distance metric does not return gradient; inverse_transform will be unavailable. To enable using inverse_transform method method, define a distance function that returns a tuple of (distance [float], gradient [np.array])\n",
      "  \"custom distance metric does not return gradient; inverse_transform will be unavailable. \"\n",
      "/home/mthomas/anaconda3/envs/meerkat_umap_env_3/lib/python3.7/site-packages/umap/umap_.py:1728: UserWarning: custom distance metric does not return gradient; inverse_transform will be unavailable. To enable using inverse_transform method method, define a distance function that returns a tuple of (distance [float], gradient [np.array])\n",
      "  \"custom distance metric does not return gradient; inverse_transform will be unavailable. \"\n"
     ]
    },
    {
     "name": "stdout",
     "output_type": "stream",
     "text": [
      "/home/mthomas/Documents/MPI_work/projects/meerkat/meerkat_umap_pv/data/interim/parameter_search/umap_coords_3D/zs_euclidean_timeshift-overlap_0_1_15_3_melspecs_no_40_dB\n"
     ]
    },
    {
     "name": "stderr",
     "output_type": "stream",
     "text": [
      "/home/mthomas/anaconda3/envs/meerkat_umap_env_3/lib/python3.7/site-packages/umap/umap_.py:1728: UserWarning: custom distance metric does not return gradient; inverse_transform will be unavailable. To enable using inverse_transform method method, define a distance function that returns a tuple of (distance [float], gradient [np.array])\n",
      "  \"custom distance metric does not return gradient; inverse_transform will be unavailable. \"\n",
      "/home/mthomas/anaconda3/envs/meerkat_umap_env_3/lib/python3.7/site-packages/umap/umap_.py:1728: UserWarning: custom distance metric does not return gradient; inverse_transform will be unavailable. To enable using inverse_transform method method, define a distance function that returns a tuple of (distance [float], gradient [np.array])\n",
      "  \"custom distance metric does not return gradient; inverse_transform will be unavailable. \"\n",
      "/home/mthomas/anaconda3/envs/meerkat_umap_env_3/lib/python3.7/site-packages/umap/umap_.py:1728: UserWarning: custom distance metric does not return gradient; inverse_transform will be unavailable. To enable using inverse_transform method method, define a distance function that returns a tuple of (distance [float], gradient [np.array])\n",
      "  \"custom distance metric does not return gradient; inverse_transform will be unavailable. \"\n",
      "/home/mthomas/anaconda3/envs/meerkat_umap_env_3/lib/python3.7/site-packages/umap/umap_.py:1728: UserWarning: custom distance metric does not return gradient; inverse_transform will be unavailable. To enable using inverse_transform method method, define a distance function that returns a tuple of (distance [float], gradient [np.array])\n",
      "  \"custom distance metric does not return gradient; inverse_transform will be unavailable. \"\n",
      "/home/mthomas/anaconda3/envs/meerkat_umap_env_3/lib/python3.7/site-packages/umap/umap_.py:1728: UserWarning: custom distance metric does not return gradient; inverse_transform will be unavailable. To enable using inverse_transform method method, define a distance function that returns a tuple of (distance [float], gradient [np.array])\n",
      "  \"custom distance metric does not return gradient; inverse_transform will be unavailable. \"\n"
     ]
    },
    {
     "name": "stdout",
     "output_type": "stream",
     "text": [
      "/home/mthomas/Documents/MPI_work/projects/meerkat/meerkat_umap_pv/data/interim/parameter_search/umap_coords_3D/zs_euclidean_timeshift-pad_0_1_15_3_melspecs_no_40_dB\n"
     ]
    },
    {
     "name": "stderr",
     "output_type": "stream",
     "text": [
      "/home/mthomas/anaconda3/envs/meerkat_umap_env_3/lib/python3.7/site-packages/umap/umap_.py:1728: UserWarning: custom distance metric does not return gradient; inverse_transform will be unavailable. To enable using inverse_transform method method, define a distance function that returns a tuple of (distance [float], gradient [np.array])\n",
      "  \"custom distance metric does not return gradient; inverse_transform will be unavailable. \"\n",
      "/home/mthomas/anaconda3/envs/meerkat_umap_env_3/lib/python3.7/site-packages/umap/umap_.py:1728: UserWarning: custom distance metric does not return gradient; inverse_transform will be unavailable. To enable using inverse_transform method method, define a distance function that returns a tuple of (distance [float], gradient [np.array])\n",
      "  \"custom distance metric does not return gradient; inverse_transform will be unavailable. \"\n",
      "/home/mthomas/anaconda3/envs/meerkat_umap_env_3/lib/python3.7/site-packages/umap/umap_.py:1728: UserWarning: custom distance metric does not return gradient; inverse_transform will be unavailable. To enable using inverse_transform method method, define a distance function that returns a tuple of (distance [float], gradient [np.array])\n",
      "  \"custom distance metric does not return gradient; inverse_transform will be unavailable. \"\n",
      "/home/mthomas/anaconda3/envs/meerkat_umap_env_3/lib/python3.7/site-packages/umap/umap_.py:1728: UserWarning: custom distance metric does not return gradient; inverse_transform will be unavailable. To enable using inverse_transform method method, define a distance function that returns a tuple of (distance [float], gradient [np.array])\n",
      "  \"custom distance metric does not return gradient; inverse_transform will be unavailable. \"\n",
      "/home/mthomas/anaconda3/envs/meerkat_umap_env_3/lib/python3.7/site-packages/umap/umap_.py:1728: UserWarning: custom distance metric does not return gradient; inverse_transform will be unavailable. To enable using inverse_transform method method, define a distance function that returns a tuple of (distance [float], gradient [np.array])\n",
      "  \"custom distance metric does not return gradient; inverse_transform will be unavailable. \"\n"
     ]
    }
   ],
   "source": [
    "set_defaults()\n",
    "#duration_method_types = ['pad', 'stretch', 'pairwise-pad', 'overlap-only', 'timeshift-overlap', 'timeshift-pad']\n",
    "duration_method_types = ['stretch', 'pairwise-pad', 'overlap-only', 'timeshift-overlap', 'timeshift-pad']\n",
    "\n",
    "duration_method_types = ['pairwise-pad', 'overlap-only', 'timeshift-overlap', 'timeshift-pad']\n",
    "\n",
    "# this is a tricky one, because for pad and stretch, I can use the default metric type from umap with varying \n",
    "# input, but for the other duration_method_types, I need to write a numba-compatible custom distance function\n",
    "# thus the if clause\n",
    "\n",
    "for duration_method in duration_method_types:\n",
    "    \n",
    "    outname = os.path.join(os.path.sep, OUT_COORDS, get_param_string())\n",
    "    print(outname)\n",
    "    \n",
    "    # baseline pipeline\n",
    "    #if duration_method=='pad':\n",
    "    #    specs = spec_df.spectrograms.copy()\n",
    "    #    specs = [calc_zscore(x) for x in specs]\n",
    "    #    data = create_padded_data(specs)\n",
    "    #    calc_umap(data, outname)\n",
    "    \n",
    "    # using stretched specs as input\n",
    "    if duration_method=='stretch':\n",
    "        specs = spec_df.stretched_spectrograms.copy()\n",
    "        specs = [calc_zscore(x) for x in specs]\n",
    "        data = create_padded_data(specs)\n",
    "        calc_umap(data, outname)\n",
    "        \n",
    "    # pairwise-pad, overlap-only, timeshift-overlap and timeshift-pad all require\n",
    "    # custom distance functions\n",
    "    else:\n",
    "        specs = spec_df.spectrograms.copy()\n",
    "        specs = [calc_zscore(x) for x in specs]\n",
    "        n_bins = specs[0].shape[0]\n",
    "        maxlen= np.max([spec.shape[1] for spec in specs]) * n_bins +2\n",
    "        trans_specs = [pad_transform_spectro(spec, maxlen) for spec in specs]\n",
    "        data = np.asarray(trans_specs)\n",
    "\n",
    "        metric_dict = {'pairwise-pad': calc_pairwise_pad,\n",
    "                      'overlap-only': calc_overlap_only,\n",
    "                      'timeshift-overlap': calc_timeshift,\n",
    "                      'timeshift-pad': calc_timeshift_pad}\n",
    "        \n",
    "        calc_umap(data, outname, metric=metric_dict[duration_method])\n",
    "    "
   ]
  },
  {
   "cell_type": "markdown",
   "id": "2cdf1c53",
   "metadata": {},
   "source": [
    "## Different distance metrics"
   ]
  },
  {
   "cell_type": "code",
   "execution_count": 44,
   "id": "18c46992",
   "metadata": {},
   "outputs": [
    {
     "name": "stdout",
     "output_type": "stream",
     "text": [
      "/home/mthomas/Documents/MPI_work/projects/meerkat/meerkat_umap_pv/data/interim/parameter_search/umap_coords_3D/zs_manhattan_pad_0_1_15_3_melspecs_no_40_dB\n",
      "/home/mthomas/Documents/MPI_work/projects/meerkat/meerkat_umap_pv/data/interim/parameter_search/umap_coords_3D/zs_cosine_pad_0_1_15_3_melspecs_no_40_dB\n",
      "/home/mthomas/Documents/MPI_work/projects/meerkat/meerkat_umap_pv/data/interim/parameter_search/umap_coords_3D/zs_correlation_pad_0_1_15_3_melspecs_no_40_dB\n"
     ]
    }
   ],
   "source": [
    "set_defaults()\n",
    "    \n",
    "metric_types = ['manhattan', 'cosine', 'correlation']\n",
    "\n",
    "specs = spec_df.spectrograms.copy()\n",
    "specs = [calc_zscore(x) for x in specs]\n",
    "data = create_padded_data(specs)\n",
    "\n",
    "for metric_type in metric_types:\n",
    "    \n",
    "    outname = os.path.join(os.path.sep, OUT_COORDS, get_param_string())\n",
    "    print(outname)\n",
    "    calc_umap(data, outname, metric=metric_type)"
   ]
  },
  {
   "cell_type": "markdown",
   "id": "573120da",
   "metadata": {},
   "source": [
    "## N_neighbors"
   ]
  },
  {
   "cell_type": "code",
   "execution_count": 45,
   "id": "c3b6bd9f",
   "metadata": {},
   "outputs": [
    {
     "name": "stdout",
     "output_type": "stream",
     "text": [
      "/home/mthomas/Documents/MPI_work/projects/meerkat/meerkat_umap_pv/data/interim/parameter_search/umap_coords_3D/zs_euclidean_pad_0_1_5_3_melspecs_no_40_dB\n",
      "/home/mthomas/Documents/MPI_work/projects/meerkat/meerkat_umap_pv/data/interim/parameter_search/umap_coords_3D/zs_euclidean_pad_0_1_10_3_melspecs_no_40_dB\n",
      "/home/mthomas/Documents/MPI_work/projects/meerkat/meerkat_umap_pv/data/interim/parameter_search/umap_coords_3D/zs_euclidean_pad_0_1_30_3_melspecs_no_40_dB\n",
      "/home/mthomas/Documents/MPI_work/projects/meerkat/meerkat_umap_pv/data/interim/parameter_search/umap_coords_3D/zs_euclidean_pad_0_1_50_3_melspecs_no_40_dB\n",
      "/home/mthomas/Documents/MPI_work/projects/meerkat/meerkat_umap_pv/data/interim/parameter_search/umap_coords_3D/zs_euclidean_pad_0_1_100_3_melspecs_no_40_dB\n",
      "/home/mthomas/Documents/MPI_work/projects/meerkat/meerkat_umap_pv/data/interim/parameter_search/umap_coords_3D/zs_euclidean_pad_0_1_150_3_melspecs_no_40_dB\n",
      "/home/mthomas/Documents/MPI_work/projects/meerkat/meerkat_umap_pv/data/interim/parameter_search/umap_coords_3D/zs_euclidean_pad_0_1_200_3_melspecs_no_40_dB\n"
     ]
    }
   ],
   "source": [
    "set_defaults()\n",
    "\n",
    "n_neighbors_types = [5,10,30,50,100,150,200]\n",
    "\n",
    "specs = spec_df.spectrograms.copy()\n",
    "specs = [calc_zscore(x) for x in specs]\n",
    "data = create_padded_data(specs)\n",
    "\n",
    "for n_neighbors in n_neighbors_types:\n",
    "    outname = os.path.join(os.path.sep, OUT_COORDS, get_param_string())\n",
    "    print(outname)\n",
    "    calc_umap(data, outname, n_neighbors=n_neighbors)"
   ]
  },
  {
   "cell_type": "markdown",
   "id": "32f7f6f4-b777-4b7a-ba66-a1aade5bf3e2",
   "metadata": {},
   "source": [
    "# Spread"
   ]
  },
  {
   "cell_type": "code",
   "execution_count": 46,
   "id": "75796306-5cdb-44d0-bcbd-c9d7776f4a9b",
   "metadata": {},
   "outputs": [
    {
     "name": "stdout",
     "output_type": "stream",
     "text": [
      "/home/mthomas/Documents/MPI_work/projects/meerkat/meerkat_umap_pv/data/interim/parameter_search/umap_coords_3D/zs_euclidean_pad_0_0.5_15_3_melspecs_no_40_dB\n",
      "/home/mthomas/Documents/MPI_work/projects/meerkat/meerkat_umap_pv/data/interim/parameter_search/umap_coords_3D/zs_euclidean_pad_0_0.75_15_3_melspecs_no_40_dB\n",
      "/home/mthomas/Documents/MPI_work/projects/meerkat/meerkat_umap_pv/data/interim/parameter_search/umap_coords_3D/zs_euclidean_pad_0_1_15_3_melspecs_no_40_dB\n",
      "/home/mthomas/Documents/MPI_work/projects/meerkat/meerkat_umap_pv/data/interim/parameter_search/umap_coords_3D/zs_euclidean_pad_0_1.5_15_3_melspecs_no_40_dB\n"
     ]
    }
   ],
   "source": [
    "set_defaults()\n",
    "\n",
    "n_spread_types = [0.5, 0.75, 1, 1.5]\n",
    "\n",
    "specs = spec_df.spectrograms.copy()\n",
    "specs = [calc_zscore(x) for x in specs]\n",
    "data = create_padded_data(specs)\n",
    "\n",
    "for n_spread in n_spread_types:\n",
    "    spread = n_spread\n",
    "    outname = os.path.join(os.path.sep, OUT_COORDS, get_param_string())\n",
    "    print(outname)\n",
    "    calc_umap(data, outname, spread=n_spread)"
   ]
  },
  {
   "cell_type": "markdown",
   "id": "d59ade81-3feb-4ef3-bb63-9e37d9eb377c",
   "metadata": {},
   "source": [
    "## Min_dist"
   ]
  },
  {
   "cell_type": "code",
   "execution_count": 47,
   "id": "171cf1a4-af9a-4041-8fc9-1d8ed2ac2b71",
   "metadata": {},
   "outputs": [
    {
     "name": "stdout",
     "output_type": "stream",
     "text": [
      "/home/mthomas/Documents/MPI_work/projects/meerkat/meerkat_umap_pv/data/interim/parameter_search/umap_coords_3D/zs_euclidean_pad_0.001_1_15_3_melspecs_no_40_dB\n",
      "/home/mthomas/Documents/MPI_work/projects/meerkat/meerkat_umap_pv/data/interim/parameter_search/umap_coords_3D/zs_euclidean_pad_0.01_1_15_3_melspecs_no_40_dB\n",
      "/home/mthomas/Documents/MPI_work/projects/meerkat/meerkat_umap_pv/data/interim/parameter_search/umap_coords_3D/zs_euclidean_pad_0.1_1_15_3_melspecs_no_40_dB\n",
      "/home/mthomas/Documents/MPI_work/projects/meerkat/meerkat_umap_pv/data/interim/parameter_search/umap_coords_3D/zs_euclidean_pad_1_1_15_3_melspecs_no_40_dB\n"
     ]
    }
   ],
   "source": [
    "set_defaults()\n",
    "\n",
    "min_dist_types = [0.001, 0.01, 0.1, 1]\n",
    "\n",
    "specs = spec_df.spectrograms.copy()\n",
    "specs = [calc_zscore(x) for x in specs]\n",
    "data = create_padded_data(specs)\n",
    "\n",
    "for min_dist_n in min_dist_types:\n",
    "    min_dist = min_dist_n\n",
    "    outname = os.path.join(os.path.sep, OUT_COORDS, get_param_string())\n",
    "    print(outname)\n",
    "    calc_umap(data, outname, min_dist=min_dist)"
   ]
  },
  {
   "cell_type": "code",
   "execution_count": null,
   "id": "13017bb2-56b8-41c0-ac60-5449683461e2",
   "metadata": {},
   "outputs": [],
   "source": []
  }
 ],
 "metadata": {
  "kernelspec": {
   "display_name": "Python 3",
   "language": "python",
   "name": "python3"
  },
  "language_info": {
   "codemirror_mode": {
    "name": "ipython",
    "version": 3
   },
   "file_extension": ".py",
   "mimetype": "text/x-python",
   "name": "python",
   "nbconvert_exporter": "python",
   "pygments_lexer": "ipython3",
   "version": "3.7.10"
  }
 },
 "nbformat": 4,
 "nbformat_minor": 5
}
