{
 "cells": [
  {
   "cell_type": "markdown",
   "metadata": {
    "id": "oJs58DEYcu__"
   },
   "source": [
    "# \"Classify\" hybrid calls (only \"fused\" type)"
   ]
  },
  {
   "cell_type": "markdown",
   "metadata": {
    "id": "_msD7Wo7lnMY"
   },
   "source": [
    "## Prerequisites"
   ]
  },
  {
   "cell_type": "code",
   "execution_count": 1,
   "metadata": {
    "colab": {
     "base_uri": "https://localhost:8080/"
    },
    "executionInfo": {
     "elapsed": 22009,
     "status": "ok",
     "timestamp": 1610989380866,
     "user": {
      "displayName": "Mara Thomas",
      "photoUrl": "",
      "userId": "08285540157542181220"
     },
     "user_tz": -60
    },
    "id": "4yVdq3YOc8Zt",
    "outputId": "f0cf53e5-3c52-46bf-ba97-db513098a8f5"
   },
   "outputs": [],
   "source": [
    "import os\n",
    "import pandas as pd\n",
    "import sys\n",
    "import numpy as np\n",
    "from pandas.core.common import flatten\n",
    "import pickle\n",
    "import umap\n",
    "from pathlib import Path\n",
    "import datetime\n",
    "import scipy\n",
    "import matplotlib\n",
    "import matplotlib.pyplot as plt\n",
    "from mpl_toolkits.mplot3d import Axes3D\n",
    "from matplotlib.legend import Legend\n",
    "from matplotlib.animation import FuncAnimation\n",
    "from matplotlib import animation, rc, gridspec\n",
    "import matplotlib\n",
    "\n",
    "import plotly.express as px\n",
    "import plotly.graph_objects as go\n",
    "\n",
    "import seaborn as sns\n",
    "from scipy.spatial.distance import euclidean as euclid\n",
    "from scipy.spatial import distance_matrix\n",
    "from sklearn.manifold import TSNE\n",
    "from sklearn.decomposition import PCA\n",
    "import datetime\n",
    "\n",
    "from preprocessing_functions import pad_spectro, calc_zscore, create_padded_data"
   ]
  },
  {
   "cell_type": "code",
   "execution_count": 2,
   "metadata": {},
   "outputs": [
    {
     "name": "stdout",
     "output_type": "stream",
     "text": [
      "Directory already present\n"
     ]
    }
   ],
   "source": [
    "wd = os.getcwd()\n",
    "DATA = os.path.join(os.path.sep, str(Path(wd).parents[0]), \"data\", \"processed\")\n",
    "FIGURES = os.path.join(os.path.sep, str(Path(wd).parents[0]), \"reports\", \"figures\", \"hybfu\")\n",
    "DF = os.path.join(os.path.sep, DATA, \"meerkat_full_specs.pkl\")\n",
    "\n",
    "if (not os.path.isdir(FIGURES)):\n",
    "    os.mkdir(FIGURES)\n",
    "    print(\"Generated directory at: \",FIGURES)\n",
    "else:\n",
    "    print(\"Directory already present\")"
   ]
  },
  {
   "cell_type": "markdown",
   "metadata": {
    "id": "HQJ7DgWUlpPF"
   },
   "source": [
    "### Load dataset"
   ]
  },
  {
   "cell_type": "markdown",
   "metadata": {
    "id": "fA-2p_MWc1wT"
   },
   "source": [
    "On 03.08.2020, generated hyb/fu dataset:"
   ]
  },
  {
   "cell_type": "code",
   "execution_count": 3,
   "metadata": {},
   "outputs": [],
   "source": [
    "df = pd.read_pickle(DF)"
   ]
  },
  {
   "cell_type": "code",
   "execution_count": 4,
   "metadata": {
    "id": "BqxyhC38c6zv"
   },
   "outputs": [
    {
     "name": "stdout",
     "output_type": "stream",
     "text": [
      "Removed unsure:  (34955, 34)\n",
      "Removed uncertain:  (34236, 34)\n",
      "Removed nonfocal:  (26277, 34)\n",
      "Removed noisy:  (23224, 34)\n"
     ]
    }
   ],
   "source": [
    "print(\"Removed unsure: \", df.shape)\n",
    "df = df.loc[df['certain_yn']==\"y\"]\n",
    "print(\"Removed uncertain: \",df.shape)\n",
    "df = df.loc[df['nonfocal_yn']==\"n\"]\n",
    "print(\"Removed nonfocal: \",df.shape)\n",
    "df = df.loc[df['noisy']==0]\n",
    "print(\"Removed noisy: \",df.shape)\n",
    "\n",
    "df = df.loc[df.call_lable == 'fu/hyb',:]"
   ]
  },
  {
   "cell_type": "markdown",
   "metadata": {
    "id": "HKeBX77soQY9"
   },
   "source": [
    "### Remove short and long calls"
   ]
  },
  {
   "cell_type": "code",
   "execution_count": 5,
   "metadata": {},
   "outputs": [
    {
     "data": {
      "text/plain": [
       "Text(0, 0.5, 'N. of calls')"
      ]
     },
     "execution_count": 5,
     "metadata": {},
     "output_type": "execute_result"
    },
    {
     "data": {
      "image/png": "[encoded data removed]",
      "text/plain": [
       "<Figure size 432x288 with 1 Axes>"
      ]
     },
     "metadata": {
      "needs_background": "light"
     },
     "output_type": "display_data"
    }
   ],
   "source": [
    "n, bins, pathes = plt.hist(df['duration_s'], bins=100)\n",
    "plt.xlabel(\"Duration in s\")\n",
    "plt.ylabel(\"N. of calls\")"
   ]
  },
  {
   "cell_type": "code",
   "execution_count": 6,
   "metadata": {},
   "outputs": [
    {
     "name": "stdout",
     "output_type": "stream",
     "text": [
      "0.011461318051575931\n",
      "12\n"
     ]
    },
    {
     "data": {
      "text/plain": [
       "(1035, 34)"
      ]
     },
     "execution_count": 6,
     "metadata": {},
     "output_type": "execute_result"
    }
   ],
   "source": [
    "MAX_DURATION = 0.5\n",
    "MIN_DURATION = 0.05\n",
    "\n",
    "print(df[df['duration_s']>MAX_DURATION].shape[0]/df.shape[0])\n",
    "print(df[df['duration_s']>MAX_DURATION].shape[0])\n",
    "\n",
    "df = df.loc[df['duration_s'] <= MAX_DURATION]\n",
    "df.shape"
   ]
  },
  {
   "cell_type": "code",
   "execution_count": 7,
   "metadata": {},
   "outputs": [
    {
     "name": "stdout",
     "output_type": "stream",
     "text": [
      "0.04057971014492753\n",
      "42\n"
     ]
    },
    {
     "data": {
      "text/plain": [
       "(993, 34)"
      ]
     },
     "execution_count": 7,
     "metadata": {},
     "output_type": "execute_result"
    }
   ],
   "source": [
    "print(df[df['duration_s']<MIN_DURATION].shape[0]/df.shape[0]) # % of calls < 0.5s --> 9.4 %\n",
    "print(df[df['duration_s']<MIN_DURATION].shape[0])\n",
    "\n",
    "df = df.loc[df['duration_s'] >= MIN_DURATION]\n",
    "df.shape"
   ]
  },
  {
   "cell_type": "markdown",
   "metadata": {},
   "source": [
    "### Check duplicates"
   ]
  },
  {
   "cell_type": "code",
   "execution_count": 9,
   "metadata": {},
   "outputs": [
    {
     "name": "stdout",
     "output_type": "stream",
     "text": [
      "0  duplicates found\n"
     ]
    },
    {
     "data": {
      "text/html": [
       "<div>\n",
       "<style scoped>\n",
       "    .dataframe tbody tr th:only-of-type {\n",
       "        vertical-align: middle;\n",
       "    }\n",
       "\n",
       "    .dataframe tbody tr th {\n",
       "        vertical-align: top;\n",
       "    }\n",
       "\n",
       "    .dataframe thead th {\n",
       "        text-align: right;\n",
       "    }\n",
       "</style>\n",
       "<table border=\"1\" class=\"dataframe\">\n",
       "  <thead>\n",
       "    <tr style=\"text-align: right;\">\n",
       "      <th></th>\n",
       "      <th>Name</th>\n",
       "      <th>Start</th>\n",
       "      <th>Duration</th>\n",
       "      <th>Time Format</th>\n",
       "      <th>Type</th>\n",
       "      <th>Description</th>\n",
       "      <th>start_s</th>\n",
       "      <th>duration_s</th>\n",
       "      <th>stop_s</th>\n",
       "      <th>date</th>\n",
       "      <th>...</th>\n",
       "      <th>raw_audio</th>\n",
       "      <th>spectrograms</th>\n",
       "      <th>denoised_spectrograms</th>\n",
       "      <th>stretched_spectrograms</th>\n",
       "      <th>stretched_denoised_spectrograms</th>\n",
       "      <th>stretched_mfccs</th>\n",
       "      <th>mfccs</th>\n",
       "      <th>zmfccs</th>\n",
       "      <th>freq_spectrograms</th>\n",
       "      <th>ampli_spectrograms</th>\n",
       "    </tr>\n",
       "  </thead>\n",
       "  <tbody>\n",
       "  </tbody>\n",
       "</table>\n",
       "<p>0 rows × 34 columns</p>\n",
       "</div>"
      ],
      "text/plain": [
       "Empty DataFrame\n",
       "Columns: [Name, Start, Duration, Time Format, Type, Description, start_s, duration_s, stop_s, date, samplerate_hz, indv, original_wav, bout_number, Time.Format, call_lable, unsure_call, noisy, certain_yn, soundfoc_yn, nonfocal_yn, callID, Sex, status, raw_audio, spectrograms, denoised_spectrograms, stretched_spectrograms, stretched_denoised_spectrograms, stretched_mfccs, mfccs, zmfccs, freq_spectrograms, ampli_spectrograms]\n",
       "Index: []\n",
       "\n",
       "[0 rows x 34 columns]"
      ]
     },
     "execution_count": 9,
     "metadata": {},
     "output_type": "execute_result"
    }
   ],
   "source": [
    "import collections\n",
    "\n",
    "all_ids = list(df.callID.values)\n",
    "duplics = [item for item, count in collections.Counter(all_ids).items() if count>1]\n",
    "print(len(duplics), \" duplicates found\")\n",
    "df[df['callID'].isin(duplics)].sort_values(by=['callID'])"
   ]
  },
  {
   "cell_type": "markdown",
   "metadata": {
    "id": "HKeBX77soQY9"
   },
   "source": [
    "### Remove hybrids labeled as \"HYB\", only keep hybrids labelled as \"fu\" calls"
   ]
  },
  {
   "cell_type": "code",
   "execution_count": 10,
   "metadata": {},
   "outputs": [
    {
     "data": {
      "text/plain": [
       "fu     737\n",
       "HYB    256\n",
       "dtype: int64"
      ]
     },
     "execution_count": 10,
     "metadata": {},
     "output_type": "execute_result"
    }
   ],
   "source": [
    "import re\n",
    "\n",
    "labelsep = re.compile('[\\?\\*\\!\\%\\.\\$]') # Match ? * ! %\n",
    "clean_ambi_lables = [labelsep.sub('', i) for i in df.Name]\n",
    "\n",
    "firstword = [i.split(' ')[0] for i in clean_ambi_lables]\n",
    "pd.Series(firstword).value_counts()"
   ]
  },
  {
   "cell_type": "code",
   "execution_count": 11,
   "metadata": {},
   "outputs": [],
   "source": [
    "df['firstword'] = firstword\n",
    "df_fu = df.loc[df.firstword==\"fu\",:]"
   ]
  },
  {
   "cell_type": "code",
   "execution_count": 12,
   "metadata": {},
   "outputs": [],
   "source": [
    "df_fu.to_pickle(os.path.join(os.path.sep, DATA, \"df_fu.pkl\"))"
   ]
  },
  {
   "cell_type": "markdown",
   "metadata": {
    "id": "HKeBX77soQY9"
   },
   "source": [
    "# Analysis"
   ]
  },
  {
   "cell_type": "markdown",
   "metadata": {
    "id": "gGDeYfgYVl-A"
   },
   "source": [
    "## UMAP project_transform"
   ]
  },
  {
   "cell_type": "code",
   "execution_count": 13,
   "metadata": {},
   "outputs": [
    {
     "data": {
      "text/plain": [
       "(6428, 34)"
      ]
     },
     "execution_count": 13,
     "metadata": {},
     "output_type": "execute_result"
    }
   ],
   "source": [
    "# Load non-hyb/fu dataset\n",
    "df_clear = pd.read_pickle(os.path.join(os.path.sep, DATA, \"df_focal_reduced.pkl\"))\n",
    "df_clear.shape"
   ]
  },
  {
   "cell_type": "code",
   "execution_count": 14,
   "metadata": {
    "id": "mDmxYkmMV59M"
   },
   "outputs": [
    {
     "data": {
      "text/plain": [
       "(737, 35)"
      ]
     },
     "execution_count": 14,
     "metadata": {},
     "output_type": "execute_result"
    }
   ],
   "source": [
    "df_hybfu = pd.read_pickle(os.path.join(os.path.sep, DATA, \"df_fu.pkl\"))\n",
    "df_hybfu.shape"
   ]
  },
  {
   "cell_type": "code",
   "execution_count": 15,
   "metadata": {},
   "outputs": [],
   "source": [
    "df_hybfu['call_lable'] = ['hyb']*df_hybfu.shape[0]"
   ]
  },
  {
   "cell_type": "code",
   "execution_count": 16,
   "metadata": {
    "id": "7ij6OO5sVjbK"
   },
   "outputs": [
    {
     "data": {
      "text/plain": [
       "(6428, 5360)"
      ]
     },
     "execution_count": 16,
     "metadata": {},
     "output_type": "execute_result"
    }
   ],
   "source": [
    "specs = df_clear.spectrograms.copy()\n",
    "specs = [calc_zscore(x) for x in specs] \n",
    "\n",
    "# pad feature\n",
    "maxlen= np.max([spec.shape[1] for spec in specs])\n",
    "flattened_specs = [pad_spectro(spec, maxlen).flatten() for spec in specs]\n",
    "data = np.asarray(flattened_specs)\n",
    "data.shape"
   ]
  },
  {
   "cell_type": "code",
   "execution_count": 17,
   "metadata": {
    "id": "WX-FtNgbVvka"
   },
   "outputs": [],
   "source": [
    "n_comp = 3\n",
    "#n_comp = 5\n",
    "\n",
    "reducer = umap.UMAP(low_memory=True, n_components = n_comp, min_dist=0, random_state=2204)\n",
    "umap_res = reducer.fit(data)"
   ]
  },
  {
   "cell_type": "code",
   "execution_count": 18,
   "metadata": {},
   "outputs": [
    {
     "data": {
      "text/plain": [
       "(737, 5360)"
      ]
     },
     "execution_count": 18,
     "metadata": {},
     "output_type": "execute_result"
    }
   ],
   "source": [
    "# Project hyb/fu datapoints into UMAP space:\n",
    "# Thus need them padded to same length as original specs\n",
    "\n",
    "hybfu_specs = df_hybfu.spectrograms.copy()\n",
    "hybfu_specs = [calc_zscore(x) for x in hybfu_specs] \n",
    "\n",
    "hybfu_flattened_specs = [pad_spectro(spec, maxlen).flatten() for spec in hybfu_specs]\n",
    "hybfu_data = np.asarray(hybfu_flattened_specs)\n",
    "hybfu_data.shape"
   ]
  },
  {
   "cell_type": "code",
   "execution_count": 20,
   "metadata": {
    "colab": {
     "base_uri": "https://localhost:8080/",
     "height": 33
    },
    "executionInfo": {
     "elapsed": 688949,
     "status": "ok",
     "timestamp": 1603360545723,
     "user": {
      "displayName": "Mara Thomas",
      "photoUrl": "",
      "userId": "08285540157542181220"
     },
     "user_tz": -120
    },
    "id": "rYsKZ38BWdM7",
    "outputId": "9265840b-5eca-40a5-f2a3-66f0a01900d7"
   },
   "outputs": [
    {
     "name": "stdout",
     "output_type": "stream",
     "text": [
      "Processing row  736"
     ]
    }
   ],
   "source": [
    "hybfu_embeddings = np.zeros((hybfu_data.shape[0],n_comp))\n",
    "\n",
    "for i in range(hybfu_data.shape[0]):\n",
    "    print('\\rProcessing row ',i, end='')\n",
    "    hybfu_embeddings[i,:] = umap_res.transform(hybfu_data[i:i+1,])"
   ]
  },
  {
   "cell_type": "code",
   "execution_count": 21,
   "metadata": {
    "id": "bo8WHWZSpX_I"
   },
   "outputs": [],
   "source": [
    "np.save(os.path.join(os.path.sep,DATA,'fu_embeddings.npy'), hybfu_embeddings)"
   ]
  },
  {
   "cell_type": "code",
   "execution_count": 22,
   "metadata": {},
   "outputs": [],
   "source": [
    "hybfu_embeddings = np.load(os.path.join(os.path.sep,DATA,'fu_embeddings.npy'))"
   ]
  },
  {
   "cell_type": "markdown",
   "metadata": {
    "id": "rHPgXzyh27p1"
   },
   "source": [
    "## Visualize"
   ]
  },
  {
   "cell_type": "code",
   "execution_count": 23,
   "metadata": {
    "id": "UWODPme329AP"
   },
   "outputs": [],
   "source": [
    "embedding_non_ambi = umap_res.embedding_\n",
    "embedding_ambi = hybfu_embeddings\n",
    "\n",
    "non_ambi_labels = df_clear.call_lable.values\n",
    "ambi_labelnames = df_hybfu.Name.values\n",
    "embedded_list = [embedding_non_ambi[i,:] for i in range(embedding_non_ambi.shape[0])]\n",
    "\n",
    "embedding_all = np.concatenate((embedding_non_ambi, embedding_ambi), axis=0)\n",
    "labels_all = list(df_clear.call_lable.values)+list(df_hybfu.call_lable.values)"
   ]
  },
  {
   "cell_type": "code",
   "execution_count": 24,
   "metadata": {
    "colab": {
     "base_uri": "https://localhost:8080/",
     "height": 575
    },
    "executionInfo": {
     "elapsed": 1631,
     "status": "ok",
     "timestamp": 1603363284362,
     "user": {
      "displayName": "Mara Thomas",
      "photoUrl": "",
      "userId": "08285540157542181220"
     },
     "user_tz": -120
    },
    "id": "PRTYBvvO3Ax9",
    "outputId": "0fad5776-a076-45f1-b1de-a4e3834d7a0d"
   },
   "outputs": [
    {
     "data": {
      "image/png": "[encoded data removed]",
      "text/plain": [
       "<Figure size 720x720 with 1 Axes>"
      ]
     },
     "metadata": {
      "needs_background": "light"
     },
     "output_type": "display_data"
    }
   ],
   "source": [
    "# https://matplotlib.org/api/_as_gen/matplotlib.axes.Axes.scatter.html#matplotlib.axes.Axes.scatter\n",
    "\n",
    "fig = plt.figure(figsize=(10,10))\n",
    "ax = fig.add_subplot(111, projection='3d')\n",
    "\n",
    "scat_labels = labels_all\n",
    "labeltypes = sorted(list(set(scat_labels)))\n",
    "\n",
    "labeltypes.remove('hyb') # make these custom\n",
    "\n",
    "# makes colors same as AVGN visualization\n",
    "pal = sns.color_palette(\"Set2\", n_colors=len(labeltypes))\n",
    "#pal = sns.color_palette(\"deep\", n_colors=len(labeltypes))\n",
    "color_dict = dict(zip(labeltypes, pal))\n",
    "\n",
    "color_dict['hyb'] = (1,0,0) # make them red\n",
    "\n",
    "c = [color_dict[val] for val in scat_labels]\n",
    "\n",
    "\n",
    "Axes3D.scatter(ax,\n",
    "               xs = embedding_all[:,0],\n",
    "               ys = embedding_all[:,1],\n",
    "               zs = embedding_all[:,2],\n",
    "               zdir='z',\n",
    "               s=10,\n",
    "               label = c,\n",
    "               c=c,\n",
    "               depthshade=False)\n",
    "\n",
    "ax.set_xlabel('UMAP1')\n",
    "ax.set_ylabel('UMAP2')\n",
    "ax.set_zlabel('UMAP3')\n",
    "\n",
    "ax.xaxis.pane.fill = False\n",
    "ax.yaxis.pane.fill = False\n",
    "ax.zaxis.pane.fill = False\n",
    "    \n",
    "ax.xaxis.pane.set_edgecolor('w')\n",
    "ax.yaxis.pane.set_edgecolor('w')\n",
    "ax.zaxis.pane.set_edgecolor('w')\n",
    "\n",
    "labeltypes = labeltypes+['hyb']\n",
    "scatters = []\n",
    "for label in labeltypes:\n",
    "    scatters.append(matplotlib.lines.Line2D([0],[0], linestyle=\"none\", c=color_dict[label], marker = 'o'))\n",
    "\n",
    "ax.legend(scatters, labeltypes, numpoints = 1)\n",
    "\n",
    "#plt.show()\n",
    "plt.savefig(os.path.join(os.path.sep,FIGURES,datetime.datetime.today().strftime('%Y-%m-%d')+'_fu'))"
   ]
  },
  {
   "cell_type": "code",
   "execution_count": null,
   "metadata": {
    "id": "TREz888T3k6H"
   },
   "outputs": [],
   "source": [
    "#def update(i, fig, ax):\n",
    "#    ax.view_init(elev=20., azim=i)\n",
    "#    return fig, ax\n",
    " \n",
    "#anim = FuncAnimation(fig, update, frames=np.arange(0, 360, 2), repeat=True, fargs=(fig, ax))\n",
    "\n",
    "# Save animation\n",
    "#anim.save(FIGURES+datetime.datetime.today().strftime('%Y-%m-%d')+'_hybfu.gif', dpi=80, writer='pillow', fps=12)"
   ]
  },
  {
   "cell_type": "markdown",
   "metadata": {
    "id": "ELPGJxj8qMNI"
   },
   "source": [
    "## \"Classify\" fu/hyb based on k nearest neighbor"
   ]
  },
  {
   "cell_type": "markdown",
   "metadata": {
    "id": "4pwN9i6qE25W"
   },
   "source": [
    "## Load dataset"
   ]
  },
  {
   "cell_type": "code",
   "execution_count": 3,
   "metadata": {
    "id": "duFVhVJyDdhO"
   },
   "outputs": [],
   "source": [
    "# If starting from here: \n",
    "\n",
    "hybfu_classi = pd.read_pickle(os.path.join(os.path.sep, DATA,'2021-08-10_fu_classi'))\n",
    "\n",
    "#df = pd.read_pickle(DATA+'df_denoised_balanced')\n",
    "#df = df[df.nonfocal_yn == 'n'] # for focal\n",
    "#df.reset_index(inplace=True)\n",
    "\n",
    "#df = pd.read_pickle(DATA+'df_focal_hyb_fu') # wrong?\n",
    "#embedding_ambi = np.load(DATA+'hybfu_embeddings.npy')\n",
    "\n",
    "#embedding_non_ambi = pd.read_pickle(DATA+'2020-10-14_embedding_denoised_melspectro_focal')\n",
    "#embedding_non_ambi = np.asarray(embedding_non_ambi)[:,0:5]\n",
    "\n",
    "#non_ambi_labels = df.call_lable.values\n",
    "#ambi_labelnames = hybfu_classi.Name.values\n",
    "#embedded_list = [embedding_non_ambi[i,:] for i in range(embedding_non_ambi.shape[0])]\n",
    "\n",
    "#hybfu_calls = hybfu_classi['hybfu_type'].map(str) + ':' + hybfu_classi['first_label'].map(str) + '_' + hybfu_classi['second_label'].map(str)\n",
    "#calltypes = sorted(list(set(hybfu_classi.first_label.values)))"
   ]
  },
  {
   "cell_type": "markdown",
   "metadata": {
    "id": "h6x2L0tkE4Ne"
   },
   "source": [
    "## Or else continue:"
   ]
  },
  {
   "cell_type": "code",
   "execution_count": 25,
   "metadata": {
    "id": "Hht-WvJfXDWW"
   },
   "outputs": [],
   "source": [
    "# OR IF USED PROJECT_TRANSFORM:\n",
    "\n",
    "hybfu_classi = df_hybfu\n",
    "\n",
    "embedding_non_ambi = umap_res.embedding_\n",
    "embedding_ambi = hybfu_embeddings\n",
    "\n",
    "non_ambi_labels = df_clear.call_lable.values\n",
    "ambi_labelnames = df_hybfu.Name.values\n",
    "embedded_list = [embedding_non_ambi[i,:] for i in range(embedding_non_ambi.shape[0])]"
   ]
  },
  {
   "cell_type": "markdown",
   "metadata": {
    "id": "-ssDjVXQFB1g"
   },
   "source": [
    "## Identify neighbors"
   ]
  },
  {
   "cell_type": "code",
   "execution_count": 26,
   "metadata": {
    "id": "ivXG2qe2w33q"
   },
   "outputs": [],
   "source": [
    "from scipy.spatial.distance import euclidean as euclid\n",
    "k=5"
   ]
  },
  {
   "cell_type": "code",
   "execution_count": 27,
   "metadata": {
    "colab": {
     "base_uri": "https://localhost:8080/"
    },
    "executionInfo": {
     "elapsed": 128603,
     "status": "ok",
     "timestamp": 1604923844586,
     "user": {
      "displayName": "Mara Thomas",
      "photoUrl": "",
      "userId": "08285540157542181220"
     },
     "user_tz": -60
    },
    "id": "ZqEBxORrv15h",
    "outputId": "8f9089e8-0772-4188-d557-d9d5aa63575d"
   },
   "outputs": [
    {
     "name": "stdout",
     "output_type": "stream",
     "text": [
      "Processing row  736"
     ]
    }
   ],
   "source": [
    "neighbors = []\n",
    "neighbor_ids = []\n",
    "\n",
    "for i in range(embedding_ambi.shape[0]):\n",
    "    print('\\rProcessing row ',i, end='')\n",
    "    x = embedding_ambi[i,:]\n",
    "    distances = np.asarray([euclid(x,y) for y in embedded_list])\n",
    "    neighbor_inds = np.argsort(distances)[:k]\n",
    "    neighbor_labels = [non_ambi_labels[ind] for ind in neighbor_inds]\n",
    "    neighbors.append(neighbor_labels)\n",
    "    neighbor_ids.append(neighbor_inds)"
   ]
  },
  {
   "cell_type": "code",
   "execution_count": null,
   "metadata": {},
   "outputs": [],
   "source": [
    "#hybfu_classi = df_hybfu"
   ]
  },
  {
   "cell_type": "markdown",
   "metadata": {
    "id": "NiPZ0Ljy9Ij3"
   },
   "source": [
    "### Make list of hybfu labels"
   ]
  },
  {
   "cell_type": "markdown",
   "metadata": {
    "id": "OqNz8SmMzx47"
   },
   "source": [
    "This is a pain to automate, because different wordings are used, sometimes there is a space between '+', sometimes not... But ok. There seems to be a systematic such that:\n",
    "\n",
    "HYB [call1+call2]\n",
    "\n",
    "fu call1+call2"
   ]
  },
  {
   "cell_type": "markdown",
   "metadata": {
    "id": "zxAWkR5e1J5y"
   },
   "source": [
    "* Remove all *,?,!, etc.\n",
    "* Find out whether first word is hyb or fu\n",
    "* Split everything before first space and everything after\n",
    "* remove brackets in HYB\n",
    "* remove all empty spaces\n",
    "* split words based on +\n",
    "* categorize labels according to the groups"
   ]
  },
  {
   "cell_type": "code",
   "execution_count": 28,
   "metadata": {
    "id": "2hqVFyL819IP"
   },
   "outputs": [
    {
     "data": {
      "text/plain": [
       "fu    737\n",
       "dtype: int64"
      ]
     },
     "execution_count": 28,
     "metadata": {},
     "output_type": "execute_result"
    }
   ],
   "source": [
    "import re\n",
    "\n",
    "labelsep = re.compile('[\\?\\*\\!\\%\\.\\$]') # Match ? * ! %\n",
    "clean_ambi_lables = [labelsep.sub('', i) for i in ambi_labelnames]\n",
    "\n",
    "firstword = [i.split(' ')[0] for i in clean_ambi_lables]\n",
    "pd.Series(firstword).value_counts()"
   ]
  },
  {
   "cell_type": "code",
   "execution_count": 29,
   "metadata": {
    "id": "NI8F4k-y0QLq"
   },
   "outputs": [],
   "source": [
    "\n",
    "clean_ambi_lables = [i.split(' ', 1)[1] for i in clean_ambi_lables]\n",
    "labelsep = re.compile('[()[\\]{}]') # Match brackets\n",
    "clean_ambi_lables = [labelsep.sub('', i) for i in clean_ambi_lables]\n",
    "faulty = [x if '+' not in x else x for x in clean_ambi_lables]\n",
    "\n",
    "#pd.Series(faulty).value_counts()"
   ]
  },
  {
   "cell_type": "code",
   "execution_count": 30,
   "metadata": {
    "id": "BgdD6oeJ4bHZ"
   },
   "outputs": [],
   "source": [
    "clean_ambi_lables = [x+'+'+x if '+' not in x else x for x in clean_ambi_lables]\n",
    "\n",
    "first_label = [i.split('+', 1)[0] for i in clean_ambi_lables]\n",
    "second_label = [i.split('+', 1)[1] for i in clean_ambi_lables]\n",
    "\n",
    "# Remove all non-alphabaetical\n",
    "regex = re.compile('[^a-zA-Z]')\n",
    "\n",
    "first_label = [regex.sub('', i) for i in first_label]\n",
    "second_label = [regex.sub('', i) for i in second_label]\n",
    "\n",
    "# pd.Series(first_label).value_counts()"
   ]
  },
  {
   "cell_type": "code",
   "execution_count": 31,
   "metadata": {
    "id": "3PzsfVSY5AOE"
   },
   "outputs": [],
   "source": [
    "call_types = {\n",
    "    'cc' :[\"cc\",\"Marker\", \"Marque\", \"CC\", \"MARKER\", \"MARQUE\"],\n",
    "    'sn' :[\"sn\",\"subm\", \"short\",\"^s$\", \"s\", \"SN\", \"SUBM\", \"SHORT\", \"S\"], \n",
    "    'mo' :[\"mo\", \"mov\", \"move\", \"MO\",\"MOV\",\"MOVE\"],\n",
    "    'agg':[\"ag\", \"agg\", \"aggress\", \"chat\", \"growl\",\"AG\",\"AGG\",\"AGGRESS\",\"CHAT\",\"GROWL\"],\n",
    "    'ld' :[\"ld\",\"LD\",\"lead\",\"LEAD\"],\n",
    "    'soc':[\"soc\",\"SOCIAL\", \"so\", \"SOC\", \"social\"],\n",
    "    'al' :[\"al\", \"AL\",\"ALARM\", \"alarm\"]#,\n",
    "    #'fu/hyb': [\"fu\", \"FU\", \"Fu\", 'HYB', 'hyb', 'Hyb']\n",
    "    }\n",
    "    \n",
    "# make dictionary labels to calls\n",
    "labels_to_calls = dict((v,k) for k in call_types for v in call_types[k])"
   ]
  },
  {
   "cell_type": "code",
   "execution_count": 32,
   "metadata": {
    "colab": {
     "base_uri": "https://localhost:8080/",
     "height": 50
    },
    "executionInfo": {
     "elapsed": 565,
     "status": "ok",
     "timestamp": 1603439778685,
     "user": {
      "displayName": "Mara Thomas",
      "photoUrl": "",
      "userId": "08285540157542181220"
     },
     "user_tz": -120
    },
    "id": "5XU6xgak7grr",
    "outputId": "236ae077-c3c6-45fa-ea0f-97c1692eeb29"
   },
   "outputs": [
    {
     "data": {
      "text/plain": [
       "recognized    737\n",
       "dtype: int64"
      ]
     },
     "execution_count": 32,
     "metadata": {},
     "output_type": "execute_result"
    }
   ],
   "source": [
    "check = [lable if lable not in labels_to_calls.keys() else \"recognized\" for lable in first_label]\n",
    "pd.Series(check).value_counts()"
   ]
  },
  {
   "cell_type": "code",
   "execution_count": 33,
   "metadata": {
    "colab": {
     "base_uri": "https://localhost:8080/",
     "height": 423
    },
    "executionInfo": {
     "elapsed": 577,
     "status": "ok",
     "timestamp": 1603359687716,
     "user": {
      "displayName": "Mara Thomas",
      "photoUrl": "",
      "userId": "08285540157542181220"
     },
     "user_tz": -120
    },
    "id": "PcGxQ4Dv6zKj",
    "outputId": "da777fff-09a1-4497-ad88-e28614938124"
   },
   "outputs": [
    {
     "data": {
      "text/plain": [
       "agg         273\n",
       "ld          124\n",
       "s           114\n",
       "soc          91\n",
       "mo           68\n",
       "cc           41\n",
       "mov          17\n",
       "al            5\n",
       "cdeedrr       1\n",
       "md            1\n",
       "aggoragg      1\n",
       "c             1\n",
       "dtype: int64"
      ]
     },
     "execution_count": 33,
     "metadata": {},
     "output_type": "execute_result"
    }
   ],
   "source": [
    "pd.Series(second_label).value_counts()"
   ]
  },
  {
   "cell_type": "code",
   "execution_count": 30,
   "metadata": {
    "colab": {
     "base_uri": "https://localhost:8080/",
     "height": 131
    },
    "executionInfo": {
     "elapsed": 488,
     "status": "ok",
     "timestamp": 1603439782733,
     "user": {
      "displayName": "Mara Thomas",
      "photoUrl": "",
      "userId": "08285540157542181220"
     },
     "user_tz": -120
    },
    "id": "-njFUyZq7zwU",
    "outputId": "22912ba3-9cf2-43ae-ad79-fee1ce393dd8"
   },
   "outputs": [
    {
     "data": {
      "text/plain": [
       "recognized    733\n",
       "aggoragg        1\n",
       "cdeedrr         1\n",
       "c               1\n",
       "md              1\n",
       "dtype: int64"
      ]
     },
     "execution_count": 30,
     "metadata": {},
     "output_type": "execute_result"
    }
   ],
   "source": [
    "check = [lable if lable not in labels_to_calls.keys() else \"recognized\" for lable in second_label]\n",
    "pd.Series(check).value_counts()"
   ]
  },
  {
   "cell_type": "code",
   "execution_count": 34,
   "metadata": {
    "id": "r0Y4DCLQ5Kag"
   },
   "outputs": [],
   "source": [
    "first_label = [labels_to_calls[lable] if lable in labels_to_calls.keys() else \"unknown\" for lable in first_label]\n",
    "second_label = [labels_to_calls[lable] if lable in labels_to_calls.keys() else \"unknown\" for lable in second_label]"
   ]
  },
  {
   "cell_type": "code",
   "execution_count": 35,
   "metadata": {
    "colab": {
     "base_uri": "https://localhost:8080/",
     "height": 163
    },
    "executionInfo": {
     "elapsed": 536,
     "status": "ok",
     "timestamp": 1603359697116,
     "user": {
      "displayName": "Mara Thomas",
      "photoUrl": "",
      "userId": "08285540157542181220"
     },
     "user_tz": -120
    },
    "id": "2hwUVyn46pQE",
    "outputId": "d91acb2a-026c-4949-fc8e-964804e52f8f"
   },
   "outputs": [
    {
     "data": {
      "text/plain": [
       "agg        273\n",
       "ld         124\n",
       "sn         114\n",
       "soc         91\n",
       "mo          85\n",
       "cc          41\n",
       "al           5\n",
       "unknown      4\n",
       "dtype: int64"
      ]
     },
     "execution_count": 35,
     "metadata": {},
     "output_type": "execute_result"
    }
   ],
   "source": [
    "pd.Series(second_label).value_counts()"
   ]
  },
  {
   "cell_type": "code",
   "execution_count": 36,
   "metadata": {
    "id": "Z8BwXzg-8KYC"
   },
   "outputs": [],
   "source": [
    "hybfu_calls = list(zip(firstword, first_label, second_label))"
   ]
  },
  {
   "cell_type": "markdown",
   "metadata": {
    "id": "6RzyPZYe9Qvq"
   },
   "source": [
    "### Save dataframe"
   ]
  },
  {
   "cell_type": "code",
   "execution_count": 37,
   "metadata": {
    "id": "7gMXfFHK9O4u"
   },
   "outputs": [],
   "source": [
    "hybfu_classi = pd.DataFrame(list(zip(ambi_labelnames, firstword, first_label, second_label)), columns =['Name', 'hybfu_type', 'first_label', 'second_label']) "
   ]
  },
  {
   "cell_type": "code",
   "execution_count": 38,
   "metadata": {
    "id": "55-Uns51-EPp"
   },
   "outputs": [],
   "source": [
    "for i in range(k):\n",
    "    hybfu_classi['neighbor_'+str(i+1)] = [neighbor[i] for neighbor in neighbors]"
   ]
  },
  {
   "cell_type": "code",
   "execution_count": 39,
   "metadata": {
    "id": "ynlqa4Z_EpAD"
   },
   "outputs": [],
   "source": [
    "for i in range(k):\n",
    "    hybfu_classi['neighbor_id_'+str(i+1)] = [neighbor_id[i] for neighbor_id in neighbor_ids]"
   ]
  },
  {
   "cell_type": "code",
   "execution_count": 40,
   "metadata": {
    "id": "dX3SYdjMB-h4"
   },
   "outputs": [],
   "source": [
    "#hybfu_classi['index_id'] = df_hyb_fu['index_id']\n",
    "hybfu_classi['callID'] = df_hybfu['callID'].values"
   ]
  },
  {
   "cell_type": "code",
   "execution_count": 41,
   "metadata": {
    "colab": {
     "base_uri": "https://localhost:8080/",
     "height": 1000
    },
    "executionInfo": {
     "elapsed": 1150,
     "status": "ok",
     "timestamp": 1604003933507,
     "user": {
      "displayName": "Mara Thomas",
      "photoUrl": "",
      "userId": "08285540157542181220"
     },
     "user_tz": -60
    },
    "id": "tBiSl0Kz-xhn",
    "outputId": "7eaba7db-8e5b-4b41-ac5a-280b4b9c8e78"
   },
   "outputs": [
    {
     "data": {
      "text/html": [
       "<div>\n",
       "<style scoped>\n",
       "    .dataframe tbody tr th:only-of-type {\n",
       "        vertical-align: middle;\n",
       "    }\n",
       "\n",
       "    .dataframe tbody tr th {\n",
       "        vertical-align: top;\n",
       "    }\n",
       "\n",
       "    .dataframe thead th {\n",
       "        text-align: right;\n",
       "    }\n",
       "</style>\n",
       "<table border=\"1\" class=\"dataframe\">\n",
       "  <thead>\n",
       "    <tr style=\"text-align: right;\">\n",
       "      <th></th>\n",
       "      <th>Name</th>\n",
       "      <th>hybfu_type</th>\n",
       "      <th>first_label</th>\n",
       "      <th>second_label</th>\n",
       "      <th>neighbor_1</th>\n",
       "      <th>neighbor_2</th>\n",
       "      <th>neighbor_3</th>\n",
       "      <th>neighbor_4</th>\n",
       "      <th>neighbor_5</th>\n",
       "      <th>neighbor_id_1</th>\n",
       "      <th>neighbor_id_2</th>\n",
       "      <th>neighbor_id_3</th>\n",
       "      <th>neighbor_id_4</th>\n",
       "      <th>neighbor_id_5</th>\n",
       "      <th>callID</th>\n",
       "    </tr>\n",
       "  </thead>\n",
       "  <tbody>\n",
       "    <tr>\n",
       "      <th>0</th>\n",
       "      <td>fu cc+soc</td>\n",
       "      <td>fu</td>\n",
       "      <td>cc</td>\n",
       "      <td>soc</td>\n",
       "      <td>al</td>\n",
       "      <td>agg</td>\n",
       "      <td>al</td>\n",
       "      <td>al</td>\n",
       "      <td>sn</td>\n",
       "      <td>122</td>\n",
       "      <td>4510</td>\n",
       "      <td>128</td>\n",
       "      <td>117</td>\n",
       "      <td>291</td>\n",
       "      <td>HM_VCVM001_SOUNDFOC_20190713_1___1_05_01_660</td>\n",
       "    </tr>\n",
       "    <tr>\n",
       "      <th>1</th>\n",
       "      <td>fu cc+soc</td>\n",
       "      <td>fu</td>\n",
       "      <td>cc</td>\n",
       "      <td>soc</td>\n",
       "      <td>sn</td>\n",
       "      <td>al</td>\n",
       "      <td>al</td>\n",
       "      <td>sn</td>\n",
       "      <td>cc</td>\n",
       "      <td>1565</td>\n",
       "      <td>109</td>\n",
       "      <td>103</td>\n",
       "      <td>1055</td>\n",
       "      <td>5990</td>\n",
       "      <td>HM_VCVM001_SOUNDFOC_20190713_1___1_05_24_959</td>\n",
       "    </tr>\n",
       "    <tr>\n",
       "      <th>2</th>\n",
       "      <td>fu cc+soc</td>\n",
       "      <td>fu</td>\n",
       "      <td>cc</td>\n",
       "      <td>soc</td>\n",
       "      <td>sn</td>\n",
       "      <td>al</td>\n",
       "      <td>al</td>\n",
       "      <td>agg</td>\n",
       "      <td>sn</td>\n",
       "      <td>1255</td>\n",
       "      <td>103</td>\n",
       "      <td>109</td>\n",
       "      <td>1855</td>\n",
       "      <td>1243</td>\n",
       "      <td>HM_VCVM001_SOUNDFOC_20190713_1___1_05_26_885</td>\n",
       "    </tr>\n",
       "    <tr>\n",
       "      <th>3</th>\n",
       "      <td>fu cc+soc</td>\n",
       "      <td>fu</td>\n",
       "      <td>cc</td>\n",
       "      <td>soc</td>\n",
       "      <td>soc</td>\n",
       "      <td>soc</td>\n",
       "      <td>soc</td>\n",
       "      <td>soc</td>\n",
       "      <td>soc</td>\n",
       "      <td>3962</td>\n",
       "      <td>2668</td>\n",
       "      <td>2234</td>\n",
       "      <td>4152</td>\n",
       "      <td>4464</td>\n",
       "      <td>HM_VCVM001_SOUNDFOC_20190713_1___1_23_10_532</td>\n",
       "    </tr>\n",
       "    <tr>\n",
       "      <th>4</th>\n",
       "      <td>fu s+ld *</td>\n",
       "      <td>fu</td>\n",
       "      <td>sn</td>\n",
       "      <td>ld</td>\n",
       "      <td>soc</td>\n",
       "      <td>agg</td>\n",
       "      <td>al</td>\n",
       "      <td>al</td>\n",
       "      <td>cc</td>\n",
       "      <td>3869</td>\n",
       "      <td>1236</td>\n",
       "      <td>118</td>\n",
       "      <td>130</td>\n",
       "      <td>5722</td>\n",
       "      <td>HM_VCVM001_SOUNDFOC_20190713_1___1_47_37_696</td>\n",
       "    </tr>\n",
       "    <tr>\n",
       "      <th>...</th>\n",
       "      <td>...</td>\n",
       "      <td>...</td>\n",
       "      <td>...</td>\n",
       "      <td>...</td>\n",
       "      <td>...</td>\n",
       "      <td>...</td>\n",
       "      <td>...</td>\n",
       "      <td>...</td>\n",
       "      <td>...</td>\n",
       "      <td>...</td>\n",
       "      <td>...</td>\n",
       "      <td>...</td>\n",
       "      <td>...</td>\n",
       "      <td>...</td>\n",
       "      <td>...</td>\n",
       "    </tr>\n",
       "    <tr>\n",
       "      <th>732</th>\n",
       "      <td>fu mov+ld</td>\n",
       "      <td>fu</td>\n",
       "      <td>mo</td>\n",
       "      <td>ld</td>\n",
       "      <td>sn</td>\n",
       "      <td>sn</td>\n",
       "      <td>sn</td>\n",
       "      <td>sn</td>\n",
       "      <td>sn</td>\n",
       "      <td>3239</td>\n",
       "      <td>3247</td>\n",
       "      <td>3024</td>\n",
       "      <td>3375</td>\n",
       "      <td>694</td>\n",
       "      <td>HM_VHMM023_MBLS_R02_20190707-20190719_file_9_(...</td>\n",
       "    </tr>\n",
       "    <tr>\n",
       "      <th>733</th>\n",
       "      <td>fu cc+agg.//</td>\n",
       "      <td>fu</td>\n",
       "      <td>cc</td>\n",
       "      <td>agg</td>\n",
       "      <td>soc</td>\n",
       "      <td>soc</td>\n",
       "      <td>soc</td>\n",
       "      <td>soc</td>\n",
       "      <td>agg</td>\n",
       "      <td>2166</td>\n",
       "      <td>1476</td>\n",
       "      <td>2080</td>\n",
       "      <td>1928</td>\n",
       "      <td>2070</td>\n",
       "      <td>HM_VHMM023_MBLS_R02_20190707-20190719_file_9_(...</td>\n",
       "    </tr>\n",
       "    <tr>\n",
       "      <th>734</th>\n",
       "      <td>fu soc+agg *</td>\n",
       "      <td>fu</td>\n",
       "      <td>soc</td>\n",
       "      <td>agg</td>\n",
       "      <td>agg</td>\n",
       "      <td>soc</td>\n",
       "      <td>mo</td>\n",
       "      <td>soc</td>\n",
       "      <td>agg</td>\n",
       "      <td>1298</td>\n",
       "      <td>3971</td>\n",
       "      <td>4795</td>\n",
       "      <td>4358</td>\n",
       "      <td>4261</td>\n",
       "      <td>HM_VHMM023_MBLS_R02_20190707-20190719_file_9_(...</td>\n",
       "    </tr>\n",
       "    <tr>\n",
       "      <th>735</th>\n",
       "      <td>fu soc+agg *</td>\n",
       "      <td>fu</td>\n",
       "      <td>soc</td>\n",
       "      <td>agg</td>\n",
       "      <td>agg</td>\n",
       "      <td>al</td>\n",
       "      <td>al</td>\n",
       "      <td>al</td>\n",
       "      <td>al</td>\n",
       "      <td>4510</td>\n",
       "      <td>66</td>\n",
       "      <td>76</td>\n",
       "      <td>127</td>\n",
       "      <td>117</td>\n",
       "      <td>HM_VHMM023_MBLS_R02_20190707-20190719_file_9_(...</td>\n",
       "    </tr>\n",
       "    <tr>\n",
       "      <th>736</th>\n",
       "      <td>fu soc+agg *</td>\n",
       "      <td>fu</td>\n",
       "      <td>soc</td>\n",
       "      <td>agg</td>\n",
       "      <td>soc</td>\n",
       "      <td>agg</td>\n",
       "      <td>soc</td>\n",
       "      <td>soc</td>\n",
       "      <td>agg</td>\n",
       "      <td>4179</td>\n",
       "      <td>2333</td>\n",
       "      <td>3978</td>\n",
       "      <td>2517</td>\n",
       "      <td>2286</td>\n",
       "      <td>HM_VHMM023_MBLS_R02_20190707-20190719_file_9_(...</td>\n",
       "    </tr>\n",
       "  </tbody>\n",
       "</table>\n",
       "<p>737 rows × 15 columns</p>\n",
       "</div>"
      ],
      "text/plain": [
       "             Name hybfu_type first_label second_label neighbor_1 neighbor_2  \\\n",
       "0       fu cc+soc         fu          cc          soc         al        agg   \n",
       "1       fu cc+soc         fu          cc          soc         sn         al   \n",
       "2       fu cc+soc         fu          cc          soc         sn         al   \n",
       "3       fu cc+soc         fu          cc          soc        soc        soc   \n",
       "4       fu s+ld *         fu          sn           ld        soc        agg   \n",
       "..            ...        ...         ...          ...        ...        ...   \n",
       "732     fu mov+ld         fu          mo           ld         sn         sn   \n",
       "733  fu cc+agg.//         fu          cc          agg        soc        soc   \n",
       "734  fu soc+agg *         fu         soc          agg        agg        soc   \n",
       "735  fu soc+agg *         fu         soc          agg        agg         al   \n",
       "736  fu soc+agg *         fu         soc          agg        soc        agg   \n",
       "\n",
       "    neighbor_3 neighbor_4 neighbor_5  neighbor_id_1  neighbor_id_2  \\\n",
       "0           al         al         sn            122           4510   \n",
       "1           al         sn         cc           1565            109   \n",
       "2           al        agg         sn           1255            103   \n",
       "3          soc        soc        soc           3962           2668   \n",
       "4           al         al         cc           3869           1236   \n",
       "..         ...        ...        ...            ...            ...   \n",
       "732         sn         sn         sn           3239           3247   \n",
       "733        soc        soc        agg           2166           1476   \n",
       "734         mo        soc        agg           1298           3971   \n",
       "735         al         al         al           4510             66   \n",
       "736        soc        soc        agg           4179           2333   \n",
       "\n",
       "     neighbor_id_3  neighbor_id_4  neighbor_id_5  \\\n",
       "0              128            117            291   \n",
       "1              103           1055           5990   \n",
       "2              109           1855           1243   \n",
       "3             2234           4152           4464   \n",
       "4              118            130           5722   \n",
       "..             ...            ...            ...   \n",
       "732           3024           3375            694   \n",
       "733           2080           1928           2070   \n",
       "734           4795           4358           4261   \n",
       "735             76            127            117   \n",
       "736           3978           2517           2286   \n",
       "\n",
       "                                                callID  \n",
       "0         HM_VCVM001_SOUNDFOC_20190713_1___1_05_01_660  \n",
       "1         HM_VCVM001_SOUNDFOC_20190713_1___1_05_24_959  \n",
       "2         HM_VCVM001_SOUNDFOC_20190713_1___1_05_26_885  \n",
       "3         HM_VCVM001_SOUNDFOC_20190713_1___1_23_10_532  \n",
       "4         HM_VCVM001_SOUNDFOC_20190713_1___1_47_37_696  \n",
       "..                                                 ...  \n",
       "732  HM_VHMM023_MBLS_R02_20190707-20190719_file_9_(...  \n",
       "733  HM_VHMM023_MBLS_R02_20190707-20190719_file_9_(...  \n",
       "734  HM_VHMM023_MBLS_R02_20190707-20190719_file_9_(...  \n",
       "735  HM_VHMM023_MBLS_R02_20190707-20190719_file_9_(...  \n",
       "736  HM_VHMM023_MBLS_R02_20190707-20190719_file_9_(...  \n",
       "\n",
       "[737 rows x 15 columns]"
      ]
     },
     "execution_count": 41,
     "metadata": {},
     "output_type": "execute_result"
    }
   ],
   "source": [
    "hybfu_classi"
   ]
  },
  {
   "cell_type": "code",
   "execution_count": 42,
   "metadata": {},
   "outputs": [],
   "source": [
    "hybfu_classi['hybfu_type'] = ['hyb']*hybfu_classi.shape[0]"
   ]
  },
  {
   "cell_type": "code",
   "execution_count": 43,
   "metadata": {
    "id": "Iklg28I49WTX"
   },
   "outputs": [],
   "source": [
    "hybfu_classi.to_pickle(os.path.join(os.path.sep, DATA,'2021-08-10_fu_classi'))"
   ]
  },
  {
   "cell_type": "markdown",
   "metadata": {
    "id": "Y2AeP6wKIdjj"
   },
   "source": [
    "# Radar charts"
   ]
  },
  {
   "cell_type": "code",
   "execution_count": 5,
   "metadata": {
    "id": "_8AlFyrRHOWQ"
   },
   "outputs": [],
   "source": [
    "hybfu_classi = pd.read_pickle(os.path.join(os.path.sep, DATA,'2021-08-10_fu_classi'))\n",
    "\n",
    "# hybfu_classi = pd.read_pickle(DATA+'2020-10-23_hybfu_classi_UMAP_ALL') # with all projected at once \n",
    "\n",
    "\n",
    "df = pd.read_pickle(os.path.join(os.path.sep, DATA, \"df_focal_reduced.pkl\"))\n",
    "df.reset_index(inplace=True)\n",
    "df.shape\n",
    "\n",
    "hybfu_calls = hybfu_classi['hybfu_type'].map(str) + ':' + hybfu_classi['first_label'].map(str) + '_' + hybfu_classi['second_label'].map(str)\n",
    "calltypes = sorted(list(set(hybfu_classi.first_label.values)))"
   ]
  },
  {
   "cell_type": "code",
   "execution_count": 6,
   "metadata": {
    "colab": {
     "base_uri": "https://localhost:8080/"
    },
    "executionInfo": {
     "elapsed": 529,
     "status": "ok",
     "timestamp": 1604923909280,
     "user": {
      "displayName": "Mara Thomas",
      "photoUrl": "",
      "userId": "08285540157542181220"
     },
     "user_tz": -60
    },
    "id": "ImwDzVY8H45Q",
    "outputId": "9e253c49-218c-48ce-8d91-79fc6ddffbc8"
   },
   "outputs": [
    {
     "data": {
      "text/plain": [
       "hyb:cc_agg        236\n",
       "hyb:mo_ld         102\n",
       "hyb:mo_sn          92\n",
       "hyb:sn_mo          70\n",
       "hyb:cc_soc         51\n",
       "hyb:soc_agg        35\n",
       "hyb:sn_soc         32\n",
       "hyb:sn_cc          26\n",
       "hyb:cc_ld          16\n",
       "hyb:soc_sn         13\n",
       "hyb:cc_mo           9\n",
       "hyb:soc_cc          7\n",
       "hyb:sn_ld           6\n",
       "hyb:cc_sn           6\n",
       "hyb:soc_al          4\n",
       "hyb:mo_cc           4\n",
       "hyb:ld_mo           3\n",
       "hyb:soc_mo          3\n",
       "hyb:ld_cc           3\n",
       "hyb:agg_soc         3\n",
       "hyb:al_soc          2\n",
       "hyb:sn_agg          2\n",
       "hyb:al_sn           2\n",
       "hyb:sn_unknown      2\n",
       "hyb:mo_soc          2\n",
       "hyb:cc_al           1\n",
       "hyb:cc_cc           1\n",
       "hyb:ld_sn           1\n",
       "hyb:cc_unknown      1\n",
       "hyb:soc_soc         1\n",
       "hyb:mo_unknown      1\n",
       "dtype: int64"
      ]
     },
     "execution_count": 6,
     "metadata": {},
     "output_type": "execute_result"
    }
   ],
   "source": [
    "pd.Series(hybfu_calls).value_counts()"
   ]
  },
  {
   "cell_type": "code",
   "execution_count": 7,
   "metadata": {
    "colab": {
     "base_uri": "https://localhost:8080/",
     "height": 342
    },
    "executionInfo": {
     "elapsed": 715,
     "status": "ok",
     "timestamp": 1603360740397,
     "user": {
      "displayName": "Mara Thomas",
      "photoUrl": "",
      "userId": "08285540157542181220"
     },
     "user_tz": -120
    },
    "id": "JyAsbMlxIozV",
    "outputId": "f1ab6dd1-0ddd-45f0-d111-7f21a783a573"
   },
   "outputs": [
    {
     "data": {
      "text/plain": [
       "hyb:cc_agg     236\n",
       "hyb:mo_ld      102\n",
       "hyb:mo_sn       92\n",
       "hyb:sn_mo       70\n",
       "hyb:cc_soc      51\n",
       "hyb:soc_agg     35\n",
       "hyb:sn_soc      32\n",
       "hyb:sn_cc       26\n",
       "hyb:cc_ld       16\n",
       "hyb:soc_sn      13\n",
       "hyb:cc_mo        9\n",
       "hyb:soc_cc       7\n",
       "hyb:sn_ld        6\n",
       "hyb:cc_sn        6\n",
       "dtype: int64"
      ]
     },
     "execution_count": 7,
     "metadata": {},
     "output_type": "execute_result"
    }
   ],
   "source": [
    "pd.Series(hybfu_calls).value_counts()[pd.Series(hybfu_calls).value_counts()>5]"
   ]
  },
  {
   "cell_type": "markdown",
   "metadata": {
    "id": "pIgEEGmqJY4z"
   },
   "source": [
    "Should order matter in this case? For now, keep something like fu: soc+cc and fu:cc+soc separate."
   ]
  },
  {
   "cell_type": "markdown",
   "metadata": {
    "id": "qE8-TNtFSCt0"
   },
   "source": [
    "## Make charts"
   ]
  },
  {
   "cell_type": "code",
   "execution_count": 9,
   "metadata": {
    "id": "nEd05QJuSEEJ"
   },
   "outputs": [],
   "source": [
    "from math import pi"
   ]
  },
  {
   "cell_type": "code",
   "execution_count": 10,
   "metadata": {
    "colab": {
     "base_uri": "https://localhost:8080/"
    },
    "executionInfo": {
     "elapsed": 565,
     "status": "ok",
     "timestamp": 1604923958907,
     "user": {
      "displayName": "Mara Thomas",
      "photoUrl": "",
      "userId": "08285540157542181220"
     },
     "user_tz": -60
    },
    "id": "Egv7Musf6b4I",
    "outputId": "c68c0c9b-d753-4b6b-b3a8-0696d9b8bee4"
   },
   "outputs": [
    {
     "data": {
      "text/plain": [
       "['agg', 'al', 'cc', 'ld', 'mo', 'sn', 'soc']"
      ]
     },
     "execution_count": 10,
     "metadata": {},
     "output_type": "execute_result"
    }
   ],
   "source": [
    "calltypes = sorted(list(set(hybfu_classi.first_label.values)))\n",
    "calltypes"
   ]
  },
  {
   "cell_type": "code",
   "execution_count": 11,
   "metadata": {
    "id": "aLdyAttU64_S"
   },
   "outputs": [],
   "source": [
    "hybfu_calls = hybfu_classi['hybfu_type'].map(str) + ':' + hybfu_classi['first_label'].map(str) + '_' + hybfu_classi['second_label'].map(str)"
   ]
  },
  {
   "cell_type": "code",
   "execution_count": 12,
   "metadata": {
    "id": "uQXWhtt1U-rN"
   },
   "outputs": [
    {
     "data": {
      "text/html": [
       "<div>\n",
       "<style scoped>\n",
       "    .dataframe tbody tr th:only-of-type {\n",
       "        vertical-align: middle;\n",
       "    }\n",
       "\n",
       "    .dataframe tbody tr th {\n",
       "        vertical-align: top;\n",
       "    }\n",
       "\n",
       "    .dataframe thead th {\n",
       "        text-align: right;\n",
       "    }\n",
       "</style>\n",
       "<table border=\"1\" class=\"dataframe\">\n",
       "  <thead>\n",
       "    <tr style=\"text-align: right;\">\n",
       "      <th></th>\n",
       "      <th>agg</th>\n",
       "      <th>al</th>\n",
       "      <th>cc</th>\n",
       "      <th>ld</th>\n",
       "      <th>mo</th>\n",
       "      <th>sn</th>\n",
       "      <th>soc</th>\n",
       "      <th>label</th>\n",
       "    </tr>\n",
       "  </thead>\n",
       "  <tbody>\n",
       "    <tr>\n",
       "      <th>0</th>\n",
       "      <td>20.0</td>\n",
       "      <td>60.0</td>\n",
       "      <td>0.0</td>\n",
       "      <td>0.0</td>\n",
       "      <td>0.0</td>\n",
       "      <td>20.0</td>\n",
       "      <td>0.0</td>\n",
       "      <td>hyb:cc_soc</td>\n",
       "    </tr>\n",
       "    <tr>\n",
       "      <th>1</th>\n",
       "      <td>0.0</td>\n",
       "      <td>40.0</td>\n",
       "      <td>20.0</td>\n",
       "      <td>0.0</td>\n",
       "      <td>0.0</td>\n",
       "      <td>40.0</td>\n",
       "      <td>0.0</td>\n",
       "      <td>hyb:cc_soc</td>\n",
       "    </tr>\n",
       "    <tr>\n",
       "      <th>2</th>\n",
       "      <td>20.0</td>\n",
       "      <td>40.0</td>\n",
       "      <td>0.0</td>\n",
       "      <td>0.0</td>\n",
       "      <td>0.0</td>\n",
       "      <td>40.0</td>\n",
       "      <td>0.0</td>\n",
       "      <td>hyb:cc_soc</td>\n",
       "    </tr>\n",
       "    <tr>\n",
       "      <th>3</th>\n",
       "      <td>0.0</td>\n",
       "      <td>0.0</td>\n",
       "      <td>0.0</td>\n",
       "      <td>0.0</td>\n",
       "      <td>0.0</td>\n",
       "      <td>0.0</td>\n",
       "      <td>100.0</td>\n",
       "      <td>hyb:cc_soc</td>\n",
       "    </tr>\n",
       "    <tr>\n",
       "      <th>4</th>\n",
       "      <td>20.0</td>\n",
       "      <td>40.0</td>\n",
       "      <td>20.0</td>\n",
       "      <td>0.0</td>\n",
       "      <td>0.0</td>\n",
       "      <td>0.0</td>\n",
       "      <td>20.0</td>\n",
       "      <td>hyb:sn_ld</td>\n",
       "    </tr>\n",
       "    <tr>\n",
       "      <th>5</th>\n",
       "      <td>20.0</td>\n",
       "      <td>20.0</td>\n",
       "      <td>60.0</td>\n",
       "      <td>0.0</td>\n",
       "      <td>0.0</td>\n",
       "      <td>0.0</td>\n",
       "      <td>0.0</td>\n",
       "      <td>hyb:cc_ld</td>\n",
       "    </tr>\n",
       "    <tr>\n",
       "      <th>6</th>\n",
       "      <td>0.0</td>\n",
       "      <td>100.0</td>\n",
       "      <td>0.0</td>\n",
       "      <td>0.0</td>\n",
       "      <td>0.0</td>\n",
       "      <td>0.0</td>\n",
       "      <td>0.0</td>\n",
       "      <td>hyb:sn_mo</td>\n",
       "    </tr>\n",
       "    <tr>\n",
       "      <th>7</th>\n",
       "      <td>0.0</td>\n",
       "      <td>60.0</td>\n",
       "      <td>0.0</td>\n",
       "      <td>0.0</td>\n",
       "      <td>40.0</td>\n",
       "      <td>0.0</td>\n",
       "      <td>0.0</td>\n",
       "      <td>hyb:sn_mo</td>\n",
       "    </tr>\n",
       "    <tr>\n",
       "      <th>8</th>\n",
       "      <td>60.0</td>\n",
       "      <td>20.0</td>\n",
       "      <td>0.0</td>\n",
       "      <td>0.0</td>\n",
       "      <td>0.0</td>\n",
       "      <td>0.0</td>\n",
       "      <td>20.0</td>\n",
       "      <td>hyb:sn_mo</td>\n",
       "    </tr>\n",
       "    <tr>\n",
       "      <th>9</th>\n",
       "      <td>0.0</td>\n",
       "      <td>0.0</td>\n",
       "      <td>100.0</td>\n",
       "      <td>0.0</td>\n",
       "      <td>0.0</td>\n",
       "      <td>0.0</td>\n",
       "      <td>0.0</td>\n",
       "      <td>hyb:cc_ld</td>\n",
       "    </tr>\n",
       "  </tbody>\n",
       "</table>\n",
       "</div>"
      ],
      "text/plain": [
       "    agg     al     cc   ld    mo    sn    soc       label\n",
       "0  20.0   60.0    0.0  0.0   0.0  20.0    0.0  hyb:cc_soc\n",
       "1   0.0   40.0   20.0  0.0   0.0  40.0    0.0  hyb:cc_soc\n",
       "2  20.0   40.0    0.0  0.0   0.0  40.0    0.0  hyb:cc_soc\n",
       "3   0.0    0.0    0.0  0.0   0.0   0.0  100.0  hyb:cc_soc\n",
       "4  20.0   40.0   20.0  0.0   0.0   0.0   20.0   hyb:sn_ld\n",
       "5  20.0   20.0   60.0  0.0   0.0   0.0    0.0   hyb:cc_ld\n",
       "6   0.0  100.0    0.0  0.0   0.0   0.0    0.0   hyb:sn_mo\n",
       "7   0.0   60.0    0.0  0.0  40.0   0.0    0.0   hyb:sn_mo\n",
       "8  60.0   20.0    0.0  0.0   0.0   0.0   20.0   hyb:sn_mo\n",
       "9   0.0    0.0  100.0  0.0   0.0   0.0    0.0   hyb:cc_ld"
      ]
     },
     "execution_count": 12,
     "metadata": {},
     "output_type": "execute_result"
    }
   ],
   "source": [
    "# k=5\n",
    "hybfu_classi_neighbors = np.asarray(hybfu_classi[['neighbor_1', 'neighbor_2', 'neighbor_3', 'neighbor_4', 'neighbor_5']])\n",
    "label_to_index = dict(zip(calltypes,np.arange(len(calltypes))))\n",
    "\n",
    "hybfu_neighbor_tab = np.zeros((hybfu_classi.shape[0],len(calltypes)))\n",
    "\n",
    "for i in range(hybfu_classi.shape[0]):\n",
    "    neighbors = hybfu_classi_neighbors[i,:]\n",
    "    for neighbor in neighbors:\n",
    "        hybfu_neighbor_tab[i,label_to_index[neighbor]] += 20\n",
    "\n",
    "hybfu_neighbor_tab = pd.DataFrame(hybfu_neighbor_tab)\n",
    "hybfu_neighbor_tab.columns = calltypes\n",
    "hybfu_neighbor_tab['label'] = hybfu_calls\n",
    "hybfu_neighbor_tab.head(10)"
   ]
  },
  {
   "cell_type": "code",
   "execution_count": 51,
   "metadata": {
    "colab": {
     "base_uri": "https://localhost:8080/",
     "height": 391
    },
    "executionInfo": {
     "elapsed": 614,
     "status": "ok",
     "timestamp": 1604924556454,
     "user": {
      "displayName": "Mara Thomas",
      "photoUrl": "",
      "userId": "08285540157542181220"
     },
     "user_tz": -60
    },
    "id": "EJWo-Kuc8E8H",
    "outputId": "c0b2d72d-c0d3-4b23-c5ec-68859e28c9f3"
   },
   "outputs": [],
   "source": [
    "# Optional: Normalize to overall frequencies in dataset\n",
    "#overall = np.zeros((len(calltypes)))\n",
    "#for i,calltype in enumerate(calltypes):\n",
    "#    overall[i] = sum(df.call_lable.values==calltype)\n",
    "\n",
    "#overall = (overall/np.sum(overall))*100\n",
    "\n",
    "#s = hybfu_neighbor_tab.apply(lambda row : row[:-1]/overall, axis = 1) \n",
    "#s = s.replace(0,0.0001)\n",
    "#hybfu_neighbor_tab_norm = np.log2(s)\n",
    "\n",
    "#hybfu_neighbor_tab_norm['label'] = hybfu_neighbor_tab['label']\n",
    "\n",
    "#hybfu_neighbor_tab_norm"
   ]
  },
  {
   "cell_type": "code",
   "execution_count": 52,
   "metadata": {
    "colab": {
     "base_uri": "https://localhost:8080/",
     "height": 335
    },
    "executionInfo": {
     "elapsed": 772,
     "status": "ok",
     "timestamp": 1604001730769,
     "user": {
      "displayName": "Mara Thomas",
      "photoUrl": "",
      "userId": "08285540157542181220"
     },
     "user_tz": -60
    },
    "id": "ER96wSamxDgh",
    "outputId": "7ad4c9fc-48ce-4371-d661-0ba8b1ae3281"
   },
   "outputs": [],
   "source": [
    "# k=1\n",
    "#hybfu_classi_neighbors = np.asarray(hybfu_classi[['neighbor_1', 'neighbor_2', 'neighbor_3', 'neighbor_4', 'neighbor_5']])\n",
    "#label_to_index = dict(zip(calltypes,np.arange(len(calltypes))))\n",
    "\n",
    "#hybfu_neighbor_tab = np.zeros((hybfu_classi.shape[0],len(calltypes)))\n",
    "\n",
    "#for i in range(hybfu_classi.shape[0]):\n",
    "#    neighbor = hybfu_classi_neighbors[i,1]\n",
    "#    hybfu_neighbor_tab[i,label_to_index[neighbor]] += 100\n",
    "\n",
    "#hybfu_neighbor_tab = pd.DataFrame(hybfu_neighbor_tab)\n",
    "#hybfu_neighbor_tab.columns = calltypes\n",
    "#hybfu_neighbor_tab['label'] = hybfu_calls\n",
    "#hybfu_neighbor_tab.head(10)"
   ]
  },
  {
   "cell_type": "code",
   "execution_count": 53,
   "metadata": {
    "colab": {
     "base_uri": "https://localhost:8080/",
     "height": 248
    },
    "executionInfo": {
     "elapsed": 601,
     "status": "ok",
     "timestamp": 1603362000794,
     "user": {
      "displayName": "Mara Thomas",
      "photoUrl": "",
      "userId": "08285540157542181220"
     },
     "user_tz": -120
    },
    "id": "42bDbRUxVc3c",
    "outputId": "e587e1bc-785d-4f03-ded6-ff991c076dec"
   },
   "outputs": [],
   "source": [
    "#label_of_interest = 'fu:soc_agg'\n",
    "#sub_df = hybfu_neighbor_tab.loc[hybfu_neighbor_tab['label']==label_of_interest].drop(columns='label')\n",
    "#sub_df = pd.DataFrame(sub_df.mean(axis=0))\n",
    "#sub_df"
   ]
  },
  {
   "cell_type": "code",
   "execution_count": 13,
   "metadata": {
    "id": "3QCfiQIaWg6m"
   },
   "outputs": [],
   "source": [
    "grouped = hybfu_neighbor_tab.groupby('label').mean()\n",
    "#grouped = hybfu_neighbor_tab_norm.groupby('label').mean()"
   ]
  },
  {
   "cell_type": "code",
   "execution_count": 14,
   "metadata": {
    "id": "5aGqLZ8zW5ds"
   },
   "outputs": [],
   "source": [
    "numbers = pd.DataFrame(pd.Series(hybfu_calls).value_counts())\n",
    "numbers_dict = dict(zip(numbers.index, numbers.loc[:,0]))"
   ]
  },
  {
   "cell_type": "code",
   "execution_count": 15,
   "metadata": {
    "colab": {
     "base_uri": "https://localhost:8080/",
     "height": 478
    },
    "executionInfo": {
     "elapsed": 576,
     "status": "ok",
     "timestamp": 1604924814408,
     "user": {
      "displayName": "Mara Thomas",
      "photoUrl": "",
      "userId": "08285540157542181220"
     },
     "user_tz": -60
    },
    "id": "kONpyQwDW5pB",
    "outputId": "a90cbc25-a4be-478f-8182-2a255311e4c8"
   },
   "outputs": [
    {
     "data": {
      "text/html": [
       "<div>\n",
       "<style scoped>\n",
       "    .dataframe tbody tr th:only-of-type {\n",
       "        vertical-align: middle;\n",
       "    }\n",
       "\n",
       "    .dataframe tbody tr th {\n",
       "        vertical-align: top;\n",
       "    }\n",
       "\n",
       "    .dataframe thead th {\n",
       "        text-align: right;\n",
       "    }\n",
       "</style>\n",
       "<table border=\"1\" class=\"dataframe\">\n",
       "  <thead>\n",
       "    <tr style=\"text-align: right;\">\n",
       "      <th></th>\n",
       "      <th>label</th>\n",
       "      <th>agg</th>\n",
       "      <th>al</th>\n",
       "      <th>cc</th>\n",
       "      <th>ld</th>\n",
       "      <th>mo</th>\n",
       "      <th>sn</th>\n",
       "      <th>soc</th>\n",
       "    </tr>\n",
       "  </thead>\n",
       "  <tbody>\n",
       "    <tr>\n",
       "      <th>0</th>\n",
       "      <td>hyb:cc_agg</td>\n",
       "      <td>11.525424</td>\n",
       "      <td>5.847458</td>\n",
       "      <td>58.728814</td>\n",
       "      <td>0.000000</td>\n",
       "      <td>0.423729</td>\n",
       "      <td>1.949153</td>\n",
       "      <td>21.525424</td>\n",
       "    </tr>\n",
       "    <tr>\n",
       "      <th>1</th>\n",
       "      <td>hyb:cc_ld</td>\n",
       "      <td>3.750000</td>\n",
       "      <td>7.500000</td>\n",
       "      <td>47.500000</td>\n",
       "      <td>15.000000</td>\n",
       "      <td>10.000000</td>\n",
       "      <td>0.000000</td>\n",
       "      <td>16.250000</td>\n",
       "    </tr>\n",
       "    <tr>\n",
       "      <th>2</th>\n",
       "      <td>hyb:cc_soc</td>\n",
       "      <td>14.509804</td>\n",
       "      <td>7.058824</td>\n",
       "      <td>41.176471</td>\n",
       "      <td>0.784314</td>\n",
       "      <td>2.745098</td>\n",
       "      <td>2.352941</td>\n",
       "      <td>31.372549</td>\n",
       "    </tr>\n",
       "    <tr>\n",
       "      <th>3</th>\n",
       "      <td>hyb:mo_ld</td>\n",
       "      <td>0.000000</td>\n",
       "      <td>13.921569</td>\n",
       "      <td>4.901961</td>\n",
       "      <td>9.411765</td>\n",
       "      <td>67.254902</td>\n",
       "      <td>2.745098</td>\n",
       "      <td>1.764706</td>\n",
       "    </tr>\n",
       "    <tr>\n",
       "      <th>4</th>\n",
       "      <td>hyb:mo_sn</td>\n",
       "      <td>0.652174</td>\n",
       "      <td>33.695652</td>\n",
       "      <td>6.086957</td>\n",
       "      <td>8.695652</td>\n",
       "      <td>42.608696</td>\n",
       "      <td>5.652174</td>\n",
       "      <td>2.608696</td>\n",
       "    </tr>\n",
       "    <tr>\n",
       "      <th>5</th>\n",
       "      <td>hyb:sn_cc</td>\n",
       "      <td>4.615385</td>\n",
       "      <td>6.153846</td>\n",
       "      <td>33.076923</td>\n",
       "      <td>0.769231</td>\n",
       "      <td>6.923077</td>\n",
       "      <td>35.384615</td>\n",
       "      <td>13.076923</td>\n",
       "    </tr>\n",
       "    <tr>\n",
       "      <th>6</th>\n",
       "      <td>hyb:sn_mo</td>\n",
       "      <td>2.000000</td>\n",
       "      <td>32.571429</td>\n",
       "      <td>16.857143</td>\n",
       "      <td>2.571429</td>\n",
       "      <td>25.714286</td>\n",
       "      <td>15.714286</td>\n",
       "      <td>4.571429</td>\n",
       "    </tr>\n",
       "    <tr>\n",
       "      <th>7</th>\n",
       "      <td>hyb:sn_soc</td>\n",
       "      <td>0.625000</td>\n",
       "      <td>6.250000</td>\n",
       "      <td>10.000000</td>\n",
       "      <td>0.625000</td>\n",
       "      <td>0.625000</td>\n",
       "      <td>53.750000</td>\n",
       "      <td>28.125000</td>\n",
       "    </tr>\n",
       "    <tr>\n",
       "      <th>8</th>\n",
       "      <td>hyb:soc_agg</td>\n",
       "      <td>26.857143</td>\n",
       "      <td>5.142857</td>\n",
       "      <td>23.428571</td>\n",
       "      <td>0.571429</td>\n",
       "      <td>1.142857</td>\n",
       "      <td>4.000000</td>\n",
       "      <td>38.857143</td>\n",
       "    </tr>\n",
       "    <tr>\n",
       "      <th>9</th>\n",
       "      <td>hyb:soc_sn</td>\n",
       "      <td>13.846154</td>\n",
       "      <td>4.615385</td>\n",
       "      <td>16.923077</td>\n",
       "      <td>0.000000</td>\n",
       "      <td>0.000000</td>\n",
       "      <td>30.769231</td>\n",
       "      <td>33.846154</td>\n",
       "    </tr>\n",
       "  </tbody>\n",
       "</table>\n",
       "</div>"
      ],
      "text/plain": [
       "         label        agg         al         cc         ld         mo  \\\n",
       "0   hyb:cc_agg  11.525424   5.847458  58.728814   0.000000   0.423729   \n",
       "1    hyb:cc_ld   3.750000   7.500000  47.500000  15.000000  10.000000   \n",
       "2   hyb:cc_soc  14.509804   7.058824  41.176471   0.784314   2.745098   \n",
       "3    hyb:mo_ld   0.000000  13.921569   4.901961   9.411765  67.254902   \n",
       "4    hyb:mo_sn   0.652174  33.695652   6.086957   8.695652  42.608696   \n",
       "5    hyb:sn_cc   4.615385   6.153846  33.076923   0.769231   6.923077   \n",
       "6    hyb:sn_mo   2.000000  32.571429  16.857143   2.571429  25.714286   \n",
       "7   hyb:sn_soc   0.625000   6.250000  10.000000   0.625000   0.625000   \n",
       "8  hyb:soc_agg  26.857143   5.142857  23.428571   0.571429   1.142857   \n",
       "9   hyb:soc_sn  13.846154   4.615385  16.923077   0.000000   0.000000   \n",
       "\n",
       "          sn        soc  \n",
       "0   1.949153  21.525424  \n",
       "1   0.000000  16.250000  \n",
       "2   2.352941  31.372549  \n",
       "3   2.745098   1.764706  \n",
       "4   5.652174   2.608696  \n",
       "5  35.384615  13.076923  \n",
       "6  15.714286   4.571429  \n",
       "7  53.750000  28.125000  \n",
       "8   4.000000  38.857143  \n",
       "9  30.769231  33.846154  "
      ]
     },
     "execution_count": 15,
     "metadata": {},
     "output_type": "execute_result"
    }
   ],
   "source": [
    "# use only the ones where more than 10 datapoints are there\n",
    "above_10 = [True if numbers_dict[ind]>10 else False for ind in grouped.index]\n",
    "grouped_filtered = grouped.iloc[above_10,:]\n",
    "grouped_filtered = grouped_filtered.reset_index()\n",
    "grouped_filtered"
   ]
  },
  {
   "cell_type": "code",
   "execution_count": 16,
   "metadata": {
    "id": "DuYNetS0kIBw"
   },
   "outputs": [],
   "source": [
    "# change order of columns\n",
    "grouped_filtered = grouped_filtered[['label', 'agg', 'soc', 'cc', 'ld', 'mo', 'al', 'sn']]"
   ]
  },
  {
   "cell_type": "code",
   "execution_count": 17,
   "metadata": {
    "id": "e4jqkTg3W5kk"
   },
   "outputs": [],
   "source": [
    "from math import pi"
   ]
  },
  {
   "cell_type": "code",
   "execution_count": 18,
   "metadata": {
    "colab": {
     "base_uri": "https://localhost:8080/",
     "height": 690
    },
    "executionInfo": {
     "elapsed": 4278,
     "status": "ok",
     "timestamp": 1604924987333,
     "user": {
      "displayName": "Mara Thomas",
      "photoUrl": "",
      "userId": "08285540157542181220"
     },
     "user_tz": -60
    },
    "id": "ufq5o4ujW5i2",
    "outputId": "3c020382-853b-4eb5-f2ff-e44809c4e3fc"
   },
   "outputs": [
    {
     "data": {
      "image/png": "[encoded data removed]",
      "text/plain": [
       "<Figure size 1440x720 with 10 Axes>"
      ]
     },
     "metadata": {},
     "output_type": "display_data"
    }
   ],
   "source": [
    "def make_spider(row, title, color):\n",
    "    categories=list(grouped_filtered)[1:]\n",
    "    N = len(categories)\n",
    "  \n",
    "    # What will be the angle of each axis in the plot? (we divide the plot / number of variable)\n",
    "    angles = [n / float(N) * 2 * pi for n in range(N)]\n",
    "    angles += angles[:1]\n",
    "  \n",
    "    # Initialise the spider plot\n",
    "    #plt.figure(facecolor='white')\n",
    "    \n",
    "    ax = plt.subplot(3,5,row+1, polar=True, facecolor=\"white\")\n",
    "    \n",
    "    # If you want the first axis to be on top:\n",
    "    ax.set_theta_offset(pi / 2)\n",
    "    ax.set_theta_direction(-1)\n",
    "  \n",
    "    # Draw one axe per variable + add labels labels yet\n",
    "    plt.xticks(angles[:-1], categories, color='grey', size=14)\n",
    "  \n",
    "    # Draw ylabels\n",
    "    ax.set_rlabel_position(0)\n",
    "    plt.yticks([20,40,60], [\"20\",\"40\", \"60\"], color=\"grey\", size=9)\n",
    "    #plt.yticks([25,50,75], [\"25\",\"50\",\"75\"], color=\"grey\", size=9)\n",
    "    #plt.ylim(0,100)\n",
    "    plt.ylim(0,75)\n",
    "  \n",
    "    # Ind1\n",
    "    values=grouped_filtered.loc[row].drop('label').values.flatten().tolist()\n",
    "    values += values[:1]\n",
    "    ax.plot(angles, values, color=color, linewidth=2, linestyle='solid')\n",
    "    ax.fill(angles, values, color=color, alpha=0.4)\n",
    "    plt.title(title, size=16, color=color, y=1.2)\n",
    "\n",
    "\n",
    "# initialize the figure\n",
    "my_dpi=96\n",
    "#plt.figure(figsize=(1000/my_dpi, 1000/my_dpi), dpi=my_dpi)\n",
    "plt.figure(figsize=(20,10), facecolor=\"white\")\n",
    "\n",
    "# Loop to plot\n",
    "for row in range(0, len(grouped_filtered.index)):\n",
    "    make_spider(row=row, title=grouped_filtered['label'][row]+\" (n=\"+str(numbers_dict[grouped_filtered['label'][row]])+\")\", color=\"darkblue\")\n",
    "\n",
    "plt.tight_layout()\n",
    "#plt.savefig(os.path.join(os.path.sep, FIGURES,'fu.png'), facecolor=\"white\")"
   ]
  },
  {
   "cell_type": "markdown",
   "metadata": {
    "id": "_msD7Wo7lnMY"
   },
   "source": [
    "## Paper figure"
   ]
  },
  {
   "cell_type": "code",
   "execution_count": 19,
   "metadata": {},
   "outputs": [
    {
     "ename": "NameError",
     "evalue": "name 'labels_all' is not defined",
     "output_type": "error",
     "traceback": [
      "\u001b[0;31m---------------------------------------------------------------------------\u001b[0m",
      "\u001b[0;31mNameError\u001b[0m                                 Traceback (most recent call last)",
      "\u001b[0;32m<ipython-input-19-68321e168266>\u001b[0m in \u001b[0;36m<module>\u001b[0;34m\u001b[0m\n\u001b[1;32m      4\u001b[0m \u001b[0max\u001b[0m \u001b[0;34m=\u001b[0m \u001b[0mplt\u001b[0m\u001b[0;34m.\u001b[0m\u001b[0msubplot\u001b[0m\u001b[0;34m(\u001b[0m\u001b[0;36m1\u001b[0m\u001b[0;34m,\u001b[0m\u001b[0;36m2\u001b[0m\u001b[0;34m,\u001b[0m\u001b[0;36m1\u001b[0m\u001b[0;34m,\u001b[0m \u001b[0mprojection\u001b[0m\u001b[0;34m=\u001b[0m\u001b[0;34m'3d'\u001b[0m\u001b[0;34m)\u001b[0m\u001b[0;34m\u001b[0m\u001b[0;34m\u001b[0m\u001b[0m\n\u001b[1;32m      5\u001b[0m \u001b[0;34m\u001b[0m\u001b[0m\n\u001b[0;32m----> 6\u001b[0;31m \u001b[0mscat_labels\u001b[0m \u001b[0;34m=\u001b[0m \u001b[0mlabels_all\u001b[0m\u001b[0;34m\u001b[0m\u001b[0;34m\u001b[0m\u001b[0m\n\u001b[0m\u001b[1;32m      7\u001b[0m \u001b[0mlabeltypes\u001b[0m \u001b[0;34m=\u001b[0m \u001b[0msorted\u001b[0m\u001b[0;34m(\u001b[0m\u001b[0mlist\u001b[0m\u001b[0;34m(\u001b[0m\u001b[0mset\u001b[0m\u001b[0;34m(\u001b[0m\u001b[0mscat_labels\u001b[0m\u001b[0;34m)\u001b[0m\u001b[0;34m)\u001b[0m\u001b[0;34m)\u001b[0m\u001b[0;34m\u001b[0m\u001b[0;34m\u001b[0m\u001b[0m\n\u001b[1;32m      8\u001b[0m \u001b[0;34m\u001b[0m\u001b[0m\n",
      "\u001b[0;31mNameError\u001b[0m: name 'labels_all' is not defined"
     ]
    },
    {
     "data": {
      "image/png": "[encoded data removed]",
      "text/plain": [
       "<Figure size 1440x720 with 1 Axes>"
      ]
     },
     "metadata": {},
     "output_type": "display_data"
    }
   ],
   "source": [
    "import string\n",
    "\n",
    "plt.figure(figsize=(20,10), facecolor=\"white\")\n",
    "ax = plt.subplot(1,2,1, projection='3d')\n",
    "\n",
    "scat_labels = labels_all\n",
    "labeltypes = sorted(list(set(scat_labels)))\n",
    "\n",
    "labeltypes.remove('hyb') # make these custom\n",
    "\n",
    "# makes colors same as AVGN visualization\n",
    "pal = sns.color_palette(\"Set2\", n_colors=len(labeltypes))\n",
    "color_dict = dict(zip(labeltypes, pal))\n",
    "color_dict['hyb'] = (1,0,0) # make them red\n",
    "c = [color_dict[val] for val in scat_labels]\n",
    "\n",
    "Axes3D.scatter(ax,\n",
    "               xs = embedding_all[:,0],\n",
    "               ys = embedding_all[:,1],\n",
    "               zs = embedding_all[:,2],\n",
    "               zdir='z',\n",
    "               s=10,\n",
    "               label = c,\n",
    "               c=c,\n",
    "               depthshade=False)\n",
    "\n",
    "ax.set_xlabel('UMAP1', fontsize=14)\n",
    "ax.set_ylabel('UMAP2', fontsize=14)\n",
    "ax.set_zlabel('UMAP3', fontsize=14)\n",
    "\n",
    "ax.xaxis.pane.fill = False\n",
    "ax.yaxis.pane.fill = False\n",
    "ax.zaxis.pane.fill = False\n",
    "    \n",
    "ax.xaxis.pane.set_edgecolor('w')\n",
    "ax.yaxis.pane.set_edgecolor('w')\n",
    "ax.zaxis.pane.set_edgecolor('w')\n",
    "\n",
    "labeltypes = labeltypes+['hyb']\n",
    "scatters = []\n",
    "for label in labeltypes:\n",
    "    scatters.append(matplotlib.lines.Line2D([0],[0], linestyle=\"none\", c=color_dict[label], marker = 'o'))\n",
    "\n",
    "ax.legend(scatters, labeltypes, numpoints = 1, fontsize=14)\n",
    "\n",
    "\n",
    "def make_spider(r_pos, row, title, color):\n",
    "\n",
    "    categories=list(grouped_filtered)[1:]\n",
    "    N = len(categories)\n",
    "\n",
    "    # What will be the angle of each axis in the plot? (we divide the plot / number of variable)\n",
    "    angles = [n / float(N) * 2 * pi for n in range(N)]\n",
    "    angles += angles[:1]\n",
    "\n",
    "    ax = plt.subplot(3,8,r_pos, polar=True)\n",
    "\n",
    "    # If you want the first axis to be on top:\n",
    "    ax.set_theta_offset(pi / 2)\n",
    "    ax.set_theta_direction(-1)\n",
    "\n",
    "    # Draw one axe per variable + add labels labels yet\n",
    "    plt.xticks(angles[:-1], categories, color='grey', size=14)\n",
    "\n",
    "    # Draw ylabels\n",
    "    ax.set_rlabel_position(0)\n",
    "    plt.yticks([20,40,60], [\"20\",\"40\", \"60\"], color=\"grey\", size=9)\n",
    "    plt.ylim(0,75)\n",
    "\n",
    "        # Ind1\n",
    "    values=grouped_filtered.loc[row].drop('label').values.flatten().tolist()\n",
    "    values += values[:1]\n",
    "    ax.plot(angles, values, color=color, linewidth=2, linestyle='solid')\n",
    "    ax.fill(angles, values, color=color, alpha=0.4)\n",
    "    plt.title(title, size=14, color=color, y=1.2)\n",
    "\n",
    "\n",
    "# Loop to plot\n",
    "for row, r_pos in zip(range(0, len(grouped_filtered.index)), [5,6,7,8,13,14,15,16,21,22,23]):\n",
    "    make_spider(r_pos=r_pos, row=row, title=grouped_filtered['label'][row]+\" (n=\"+str(numbers_dict[grouped_filtered['label'][row]])+\")\", color=\"darkblue\")\n",
    "\n",
    "plt.figtext(0.01,1, \"A\", size=20, weight='bold')\n",
    "plt.figtext(0.48,1, \"B\", size=20, weight='bold')\n",
    "plt.tight_layout()\n",
    "#plt.savefig(os.path.join(os.path.sep, FIGURES,'paper_fu.png'), facecolor=\"white\", bbox_inches='tight')"
   ]
  },
  {
   "cell_type": "markdown",
   "metadata": {
    "id": "xnoTJCMf9D36"
   },
   "source": [
    "# Evaluation"
   ]
  },
  {
   "cell_type": "code",
   "execution_count": 20,
   "metadata": {
    "id": "7iDVXB-fQpD9"
   },
   "outputs": [],
   "source": [
    "hybfu_type = [i.split(':')[0] for i in grouped_filtered['label']] # fu or hyb\n",
    "two_labels = [i.split(':')[1] for i in grouped_filtered['label']] \n",
    "first_lab = [i.split('_')[0] for i in two_labels] # first label\n",
    "second_lab = [i.split('_')[1] for i in two_labels] # second label"
   ]
  },
  {
   "cell_type": "code",
   "execution_count": 21,
   "metadata": {
    "id": "_QtXneG1RFUi"
   },
   "outputs": [],
   "source": [
    "# average percentage of k nearest neighbors that belongs to either one of the hybfu labels\n",
    "\n",
    "correct_dict={}\n",
    "correct_dict['hyb'] = 0\n",
    "\n",
    "for i in range(grouped_filtered.shape[0]):\n",
    "    add_val = grouped_filtered.loc[i, first_lab[i]] + grouped_filtered.loc[i, second_lab[i]] \n",
    "    correct_dict[hybfu_type[i]] = correct_dict[hybfu_type[i]] + add_val"
   ]
  },
  {
   "cell_type": "code",
   "execution_count": 22,
   "metadata": {
    "colab": {
     "base_uri": "https://localhost:8080/"
    },
    "executionInfo": {
     "elapsed": 545,
     "status": "ok",
     "timestamp": 1604925228326,
     "user": {
      "displayName": "Mara Thomas",
      "photoUrl": "",
      "userId": "08285540157542181220"
     },
     "user_tz": -60
    },
    "id": "5KizUy9tRh20",
    "outputId": "789c479b-a824-4b1c-a074-466558a15b1e"
   },
   "outputs": [
    {
     "data": {
      "text/plain": [
       "65.2325573347643"
      ]
     },
     "execution_count": 22,
     "metadata": {},
     "output_type": "execute_result"
    }
   ],
   "source": [
    "correct_dict['hyb']/np.sum(np.asarray([1 if x=='hyb' else 0 for x in hybfu_type]))"
   ]
  },
  {
   "cell_type": "markdown",
   "metadata": {
    "id": "xrcXivw_T-Re"
   },
   "source": [
    "How many of the calls had neighbors of both categories?"
   ]
  },
  {
   "cell_type": "code",
   "execution_count": 23,
   "metadata": {
    "colab": {
     "base_uri": "https://localhost:8080/",
     "height": 590
    },
    "executionInfo": {
     "elapsed": 639,
     "status": "ok",
     "timestamp": 1604925234404,
     "user": {
      "displayName": "Mara Thomas",
      "photoUrl": "",
      "userId": "08285540157542181220"
     },
     "user_tz": -60
    },
    "id": "YG4iGW38UEBr",
    "outputId": "2d337ccb-15a8-440a-ae56-f7d92c80a30b"
   },
   "outputs": [
    {
     "data": {
      "text/html": [
       "<div>\n",
       "<style scoped>\n",
       "    .dataframe tbody tr th:only-of-type {\n",
       "        vertical-align: middle;\n",
       "    }\n",
       "\n",
       "    .dataframe tbody tr th {\n",
       "        vertical-align: top;\n",
       "    }\n",
       "\n",
       "    .dataframe thead th {\n",
       "        text-align: right;\n",
       "    }\n",
       "</style>\n",
       "<table border=\"1\" class=\"dataframe\">\n",
       "  <thead>\n",
       "    <tr style=\"text-align: right;\">\n",
       "      <th></th>\n",
       "      <th>Name</th>\n",
       "      <th>hybfu_type</th>\n",
       "      <th>first_label</th>\n",
       "      <th>second_label</th>\n",
       "      <th>neighbor_1</th>\n",
       "      <th>neighbor_2</th>\n",
       "      <th>neighbor_3</th>\n",
       "      <th>neighbor_4</th>\n",
       "      <th>neighbor_5</th>\n",
       "      <th>neighbor_id_1</th>\n",
       "      <th>neighbor_id_2</th>\n",
       "      <th>neighbor_id_3</th>\n",
       "      <th>neighbor_id_4</th>\n",
       "      <th>neighbor_id_5</th>\n",
       "      <th>callID</th>\n",
       "    </tr>\n",
       "  </thead>\n",
       "  <tbody>\n",
       "    <tr>\n",
       "      <th>0</th>\n",
       "      <td>fu cc+soc</td>\n",
       "      <td>hyb</td>\n",
       "      <td>cc</td>\n",
       "      <td>soc</td>\n",
       "      <td>al</td>\n",
       "      <td>agg</td>\n",
       "      <td>al</td>\n",
       "      <td>al</td>\n",
       "      <td>sn</td>\n",
       "      <td>122</td>\n",
       "      <td>4510</td>\n",
       "      <td>128</td>\n",
       "      <td>117</td>\n",
       "      <td>291</td>\n",
       "      <td>HM_VCVM001_SOUNDFOC_20190713_1___1_05_01_660</td>\n",
       "    </tr>\n",
       "    <tr>\n",
       "      <th>1</th>\n",
       "      <td>fu cc+soc</td>\n",
       "      <td>hyb</td>\n",
       "      <td>cc</td>\n",
       "      <td>soc</td>\n",
       "      <td>sn</td>\n",
       "      <td>al</td>\n",
       "      <td>al</td>\n",
       "      <td>sn</td>\n",
       "      <td>cc</td>\n",
       "      <td>1565</td>\n",
       "      <td>109</td>\n",
       "      <td>103</td>\n",
       "      <td>1055</td>\n",
       "      <td>5990</td>\n",
       "      <td>HM_VCVM001_SOUNDFOC_20190713_1___1_05_24_959</td>\n",
       "    </tr>\n",
       "    <tr>\n",
       "      <th>2</th>\n",
       "      <td>fu cc+soc</td>\n",
       "      <td>hyb</td>\n",
       "      <td>cc</td>\n",
       "      <td>soc</td>\n",
       "      <td>sn</td>\n",
       "      <td>al</td>\n",
       "      <td>al</td>\n",
       "      <td>agg</td>\n",
       "      <td>sn</td>\n",
       "      <td>1255</td>\n",
       "      <td>103</td>\n",
       "      <td>109</td>\n",
       "      <td>1855</td>\n",
       "      <td>1243</td>\n",
       "      <td>HM_VCVM001_SOUNDFOC_20190713_1___1_05_26_885</td>\n",
       "    </tr>\n",
       "    <tr>\n",
       "      <th>3</th>\n",
       "      <td>fu cc+soc</td>\n",
       "      <td>hyb</td>\n",
       "      <td>cc</td>\n",
       "      <td>soc</td>\n",
       "      <td>soc</td>\n",
       "      <td>soc</td>\n",
       "      <td>soc</td>\n",
       "      <td>soc</td>\n",
       "      <td>soc</td>\n",
       "      <td>3962</td>\n",
       "      <td>2668</td>\n",
       "      <td>2234</td>\n",
       "      <td>4152</td>\n",
       "      <td>4464</td>\n",
       "      <td>HM_VCVM001_SOUNDFOC_20190713_1___1_23_10_532</td>\n",
       "    </tr>\n",
       "    <tr>\n",
       "      <th>4</th>\n",
       "      <td>fu s+ld *</td>\n",
       "      <td>hyb</td>\n",
       "      <td>sn</td>\n",
       "      <td>ld</td>\n",
       "      <td>soc</td>\n",
       "      <td>agg</td>\n",
       "      <td>al</td>\n",
       "      <td>al</td>\n",
       "      <td>cc</td>\n",
       "      <td>3869</td>\n",
       "      <td>1236</td>\n",
       "      <td>118</td>\n",
       "      <td>130</td>\n",
       "      <td>5722</td>\n",
       "      <td>HM_VCVM001_SOUNDFOC_20190713_1___1_47_37_696</td>\n",
       "    </tr>\n",
       "    <tr>\n",
       "      <th>...</th>\n",
       "      <td>...</td>\n",
       "      <td>...</td>\n",
       "      <td>...</td>\n",
       "      <td>...</td>\n",
       "      <td>...</td>\n",
       "      <td>...</td>\n",
       "      <td>...</td>\n",
       "      <td>...</td>\n",
       "      <td>...</td>\n",
       "      <td>...</td>\n",
       "      <td>...</td>\n",
       "      <td>...</td>\n",
       "      <td>...</td>\n",
       "      <td>...</td>\n",
       "      <td>...</td>\n",
       "    </tr>\n",
       "    <tr>\n",
       "      <th>732</th>\n",
       "      <td>fu mov+ld</td>\n",
       "      <td>hyb</td>\n",
       "      <td>mo</td>\n",
       "      <td>ld</td>\n",
       "      <td>sn</td>\n",
       "      <td>sn</td>\n",
       "      <td>sn</td>\n",
       "      <td>sn</td>\n",
       "      <td>sn</td>\n",
       "      <td>3239</td>\n",
       "      <td>3247</td>\n",
       "      <td>3024</td>\n",
       "      <td>3375</td>\n",
       "      <td>694</td>\n",
       "      <td>HM_VHMM023_MBLS_R02_20190707-20190719_file_9_(...</td>\n",
       "    </tr>\n",
       "    <tr>\n",
       "      <th>733</th>\n",
       "      <td>fu cc+agg.//</td>\n",
       "      <td>hyb</td>\n",
       "      <td>cc</td>\n",
       "      <td>agg</td>\n",
       "      <td>soc</td>\n",
       "      <td>soc</td>\n",
       "      <td>soc</td>\n",
       "      <td>soc</td>\n",
       "      <td>agg</td>\n",
       "      <td>2166</td>\n",
       "      <td>1476</td>\n",
       "      <td>2080</td>\n",
       "      <td>1928</td>\n",
       "      <td>2070</td>\n",
       "      <td>HM_VHMM023_MBLS_R02_20190707-20190719_file_9_(...</td>\n",
       "    </tr>\n",
       "    <tr>\n",
       "      <th>734</th>\n",
       "      <td>fu soc+agg *</td>\n",
       "      <td>hyb</td>\n",
       "      <td>soc</td>\n",
       "      <td>agg</td>\n",
       "      <td>agg</td>\n",
       "      <td>soc</td>\n",
       "      <td>mo</td>\n",
       "      <td>soc</td>\n",
       "      <td>agg</td>\n",
       "      <td>1298</td>\n",
       "      <td>3971</td>\n",
       "      <td>4795</td>\n",
       "      <td>4358</td>\n",
       "      <td>4261</td>\n",
       "      <td>HM_VHMM023_MBLS_R02_20190707-20190719_file_9_(...</td>\n",
       "    </tr>\n",
       "    <tr>\n",
       "      <th>735</th>\n",
       "      <td>fu soc+agg *</td>\n",
       "      <td>hyb</td>\n",
       "      <td>soc</td>\n",
       "      <td>agg</td>\n",
       "      <td>agg</td>\n",
       "      <td>al</td>\n",
       "      <td>al</td>\n",
       "      <td>al</td>\n",
       "      <td>al</td>\n",
       "      <td>4510</td>\n",
       "      <td>66</td>\n",
       "      <td>76</td>\n",
       "      <td>127</td>\n",
       "      <td>117</td>\n",
       "      <td>HM_VHMM023_MBLS_R02_20190707-20190719_file_9_(...</td>\n",
       "    </tr>\n",
       "    <tr>\n",
       "      <th>736</th>\n",
       "      <td>fu soc+agg *</td>\n",
       "      <td>hyb</td>\n",
       "      <td>soc</td>\n",
       "      <td>agg</td>\n",
       "      <td>soc</td>\n",
       "      <td>agg</td>\n",
       "      <td>soc</td>\n",
       "      <td>soc</td>\n",
       "      <td>agg</td>\n",
       "      <td>4179</td>\n",
       "      <td>2333</td>\n",
       "      <td>3978</td>\n",
       "      <td>2517</td>\n",
       "      <td>2286</td>\n",
       "      <td>HM_VHMM023_MBLS_R02_20190707-20190719_file_9_(...</td>\n",
       "    </tr>\n",
       "  </tbody>\n",
       "</table>\n",
       "<p>737 rows × 15 columns</p>\n",
       "</div>"
      ],
      "text/plain": [
       "             Name hybfu_type first_label second_label neighbor_1 neighbor_2  \\\n",
       "0       fu cc+soc        hyb          cc          soc         al        agg   \n",
       "1       fu cc+soc        hyb          cc          soc         sn         al   \n",
       "2       fu cc+soc        hyb          cc          soc         sn         al   \n",
       "3       fu cc+soc        hyb          cc          soc        soc        soc   \n",
       "4       fu s+ld *        hyb          sn           ld        soc        agg   \n",
       "..            ...        ...         ...          ...        ...        ...   \n",
       "732     fu mov+ld        hyb          mo           ld         sn         sn   \n",
       "733  fu cc+agg.//        hyb          cc          agg        soc        soc   \n",
       "734  fu soc+agg *        hyb         soc          agg        agg        soc   \n",
       "735  fu soc+agg *        hyb         soc          agg        agg         al   \n",
       "736  fu soc+agg *        hyb         soc          agg        soc        agg   \n",
       "\n",
       "    neighbor_3 neighbor_4 neighbor_5  neighbor_id_1  neighbor_id_2  \\\n",
       "0           al         al         sn            122           4510   \n",
       "1           al         sn         cc           1565            109   \n",
       "2           al        agg         sn           1255            103   \n",
       "3          soc        soc        soc           3962           2668   \n",
       "4           al         al         cc           3869           1236   \n",
       "..         ...        ...        ...            ...            ...   \n",
       "732         sn         sn         sn           3239           3247   \n",
       "733        soc        soc        agg           2166           1476   \n",
       "734         mo        soc        agg           1298           3971   \n",
       "735         al         al         al           4510             66   \n",
       "736        soc        soc        agg           4179           2333   \n",
       "\n",
       "     neighbor_id_3  neighbor_id_4  neighbor_id_5  \\\n",
       "0              128            117            291   \n",
       "1              103           1055           5990   \n",
       "2              109           1855           1243   \n",
       "3             2234           4152           4464   \n",
       "4              118            130           5722   \n",
       "..             ...            ...            ...   \n",
       "732           3024           3375            694   \n",
       "733           2080           1928           2070   \n",
       "734           4795           4358           4261   \n",
       "735             76            127            117   \n",
       "736           3978           2517           2286   \n",
       "\n",
       "                                                callID  \n",
       "0         HM_VCVM001_SOUNDFOC_20190713_1___1_05_01_660  \n",
       "1         HM_VCVM001_SOUNDFOC_20190713_1___1_05_24_959  \n",
       "2         HM_VCVM001_SOUNDFOC_20190713_1___1_05_26_885  \n",
       "3         HM_VCVM001_SOUNDFOC_20190713_1___1_23_10_532  \n",
       "4         HM_VCVM001_SOUNDFOC_20190713_1___1_47_37_696  \n",
       "..                                                 ...  \n",
       "732  HM_VHMM023_MBLS_R02_20190707-20190719_file_9_(...  \n",
       "733  HM_VHMM023_MBLS_R02_20190707-20190719_file_9_(...  \n",
       "734  HM_VHMM023_MBLS_R02_20190707-20190719_file_9_(...  \n",
       "735  HM_VHMM023_MBLS_R02_20190707-20190719_file_9_(...  \n",
       "736  HM_VHMM023_MBLS_R02_20190707-20190719_file_9_(...  \n",
       "\n",
       "[737 rows x 15 columns]"
      ]
     },
     "execution_count": 23,
     "metadata": {},
     "output_type": "execute_result"
    }
   ],
   "source": [
    "hybfu_classi"
   ]
  },
  {
   "cell_type": "code",
   "execution_count": 24,
   "metadata": {
    "id": "ADY5ySD4UKp6"
   },
   "outputs": [],
   "source": [
    "hybfu_classi_neighbors = np.asarray(hybfu_classi[['neighbor_1', 'neighbor_2', 'neighbor_3', 'neighbor_4', 'neighbor_5']])\n",
    "in_neighbors = [0]* hybfu_classi.shape[0]\n",
    "\n",
    "for i in range(hybfu_classi.shape[0]):\n",
    "    neighbors = hybfu_classi_neighbors[i,:]\n",
    "    if ((hybfu_classi.loc[i,'first_label'] in neighbors) and (hybfu_classi.loc[i,'second_label'] in neighbors)):\n",
    "        in_neighbors[i] = 1\n",
    "\n",
    "hybfu_classi['both_in_neighbors'] = in_neighbors"
   ]
  },
  {
   "cell_type": "code",
   "execution_count": 25,
   "metadata": {
    "id": "S-NI4fLzISnQ"
   },
   "outputs": [],
   "source": [
    "hybfu_classi_neighbors = np.asarray(hybfu_classi[['neighbor_1', 'neighbor_2', 'neighbor_3', 'neighbor_4', 'neighbor_5']])\n",
    "in_neighbors = [0]* hybfu_classi.shape[0]\n",
    "\n",
    "for i in range(hybfu_classi.shape[0]):\n",
    "    neighbors = hybfu_classi_neighbors[i,:]\n",
    "    if ((hybfu_classi.loc[i,'first_label'] in neighbors) or (hybfu_classi.loc[i,'second_label'] in neighbors)):\n",
    "        in_neighbors[i] = 1\n",
    "\n",
    "hybfu_classi['any_in_neighbors'] = in_neighbors"
   ]
  },
  {
   "cell_type": "code",
   "execution_count": 26,
   "metadata": {
    "id": "sSUjYi0kDeLY"
   },
   "outputs": [],
   "source": [
    "from collections import Counter\n",
    "\n",
    "pure_nbrhood = []\n",
    "\n",
    "for i in range(hybfu_classi.shape[0]):\n",
    "    words_to_count = hybfu_classi_neighbors[i,:].tolist()\n",
    "    c = Counter(words_to_count)\n",
    "    x= c.most_common(5)\n",
    "  \n",
    "    x_counts = np.asarray([x[1] for x in x])\n",
    "    x_labs = np.asarray([x[0] for x in x])\n",
    "    max_val = np.max(x_counts)\n",
    "    if max_val==5:\n",
    "        pure_nbrhood.append('yes')\n",
    "    else:\n",
    "        pure_nbrhood.append('no')\n",
    "\n",
    "hybfu_classi['pure_nbrhood'] = pure_nbrhood"
   ]
  },
  {
   "cell_type": "code",
   "execution_count": 27,
   "metadata": {
    "colab": {
     "base_uri": "https://localhost:8080/"
    },
    "executionInfo": {
     "elapsed": 579,
     "status": "ok",
     "timestamp": 1604926098039,
     "user": {
      "displayName": "Mara Thomas",
      "photoUrl": "",
      "userId": "08285540157542181220"
     },
     "user_tz": -60
    },
    "id": "jGKyFG2CVihf",
    "outputId": "50a4b87c-772c-4c3f-d0c6-507fe80e4040"
   },
   "outputs": [
    {
     "name": "stdout",
     "output_type": "stream",
     "text": [
      "hyb  any in neighbors: 644 of 737 ( 0.8738127544097694 )\n",
      "hyb  both in neighbors: 183 of 737 ( 0.24830393487109906 )\n"
     ]
    }
   ],
   "source": [
    "any_percent = {}\n",
    "both_percent = {}\n",
    "pure_percent = {}\n",
    "total = {}\n",
    "\n",
    "for selected_type in ['hyb']:\n",
    "    hybfu_subset = hybfu_classi.loc[hybfu_classi['hybfu_type']==selected_type]\n",
    "    \n",
    "    any_percent[selected_type] = np.sum(hybfu_subset['any_in_neighbors'])/hybfu_subset.shape[0]*100\n",
    "    print(selected_type, \" any in neighbors:\", np.sum(hybfu_subset['any_in_neighbors']), \"of\", hybfu_subset.shape[0], \"(\",np.sum(hybfu_subset['any_in_neighbors'])/hybfu_subset.shape[0], \")\" )\n",
    "    \n",
    "    both_percent[selected_type] = np.sum(hybfu_subset['both_in_neighbors'])/hybfu_subset.shape[0]*100    \n",
    "    print(selected_type, \" both in neighbors:\", np.sum(hybfu_subset['both_in_neighbors']), \"of\", hybfu_subset.shape[0], \"(\",np.sum(hybfu_subset['both_in_neighbors'])/hybfu_subset.shape[0], \")\" )\n",
    "    \n",
    "    pure_percent[selected_type] = hybfu_classi.loc[(hybfu_classi['hybfu_type']==selected_type) & (hybfu_classi['pure_nbrhood']=='yes')].shape[0]/hybfu_subset.shape[0]*100\n",
    "    total[selected_type] = hybfu_subset.shape[0]"
   ]
  },
  {
   "cell_type": "markdown",
   "metadata": {
    "id": "wkNhjFarTyb8"
   },
   "source": [
    "### How many of the calls had majority neighbors of at least one of the two labels?"
   ]
  },
  {
   "cell_type": "code",
   "execution_count": 28,
   "metadata": {
    "id": "XLlxeQeFYZGz"
   },
   "outputs": [],
   "source": [
    "from collections import Counter"
   ]
  },
  {
   "cell_type": "code",
   "execution_count": 29,
   "metadata": {
    "id": "kQ1mAZAiYQ4Y"
   },
   "outputs": [],
   "source": [
    "majorityvote = []\n",
    "\n",
    "for i in range(hybfu_classi.shape[0]):\n",
    "    words_to_count = hybfu_classi_neighbors[i,:].tolist()\n",
    "    c = Counter(words_to_count)\n",
    "    x= c.most_common(5)\n",
    "  \n",
    "    \n",
    "    x_counts = np.asarray([x[1] for x in x])\n",
    "    x_labs = np.asarray([x[0] for x in x])\n",
    "    max_val = np.max(x_counts)\n",
    "    selector = np.where(x_counts==max_val)[0]\n",
    "    majorityvote.append(x_labs[selector])"
   ]
  },
  {
   "cell_type": "code",
   "execution_count": 30,
   "metadata": {
    "id": "bkjDCNnYRH-M"
   },
   "outputs": [],
   "source": [
    "in_majority = []\n",
    "\n",
    "for i in range(hybfu_classi.shape[0]):\n",
    "    if (len(majorityvote[i])>1):\n",
    "        in_majority.append('tie')\n",
    "    else:\n",
    "        in_majority.append(majorityvote[i][0])"
   ]
  },
  {
   "cell_type": "code",
   "execution_count": 31,
   "metadata": {
    "id": "Nm_AEh-YbioB"
   },
   "outputs": [],
   "source": [
    "# when ties count\n",
    "in_majority = []\n",
    "\n",
    "for i in range(hybfu_classi.shape[0]):\n",
    "    if (len(majorityvote[i])==2):\n",
    "    # any of these in label?\n",
    "        if (hybfu_classi.loc[i,'first_label'] in majorityvote[i]):\n",
    "            in_majority.append(hybfu_classi.loc[i,'first_label'])\n",
    "        elif (hybfu_classi.loc[i,'second_label'] in majorityvote[i]):\n",
    "            in_majority.append(hybfu_classi.loc[i,'second_label'])\n",
    "        else:\n",
    "            in_majority.append('tie')\n",
    "    elif len(majorityvote[i])>2:\n",
    "        in_majority.append('tie')\n",
    "    else:\n",
    "        in_majority.append(majorityvote[i][0])"
   ]
  },
  {
   "cell_type": "code",
   "execution_count": 32,
   "metadata": {
    "id": "me9FRomjOJ_L"
   },
   "outputs": [],
   "source": [
    "lens = [len(x) for x in majorityvote]"
   ]
  },
  {
   "cell_type": "code",
   "execution_count": 33,
   "metadata": {
    "colab": {
     "base_uri": "https://localhost:8080/",
     "height": 66
    },
    "executionInfo": {
     "elapsed": 625,
     "status": "ok",
     "timestamp": 1603440046082,
     "user": {
      "displayName": "Mara Thomas",
      "photoUrl": "",
      "userId": "08285540157542181220"
     },
     "user_tz": -120
    },
    "id": "K1svg33dO3_S",
    "outputId": "175763a8-5748-4a74-fe6c-b70f2b0cfc42"
   },
   "outputs": [
    {
     "data": {
      "text/plain": [
       "1    665\n",
       "2     71\n",
       "5      1\n",
       "dtype: int64"
      ]
     },
     "execution_count": 33,
     "metadata": {},
     "output_type": "execute_result"
    }
   ],
   "source": [
    "pd.Series(lens).value_counts()"
   ]
  },
  {
   "cell_type": "code",
   "execution_count": 34,
   "metadata": {
    "id": "G16cYisfbOhT"
   },
   "outputs": [],
   "source": [
    "hybfu_classi['in_majority'] = in_majority\n",
    "hybfu_classi['majorityvote'] = majorityvote"
   ]
  },
  {
   "cell_type": "code",
   "execution_count": 35,
   "metadata": {
    "colab": {
     "base_uri": "https://localhost:8080/",
     "height": 590
    },
    "executionInfo": {
     "elapsed": 502,
     "status": "ok",
     "timestamp": 1604925396360,
     "user": {
      "displayName": "Mara Thomas",
      "photoUrl": "",
      "userId": "08285540157542181220"
     },
     "user_tz": -60
    },
    "id": "_wLf672TRA-Y",
    "outputId": "ee1cd566-c5c9-4c0c-f821-7c93cde54f7a"
   },
   "outputs": [
    {
     "data": {
      "text/html": [
       "<div>\n",
       "<style scoped>\n",
       "    .dataframe tbody tr th:only-of-type {\n",
       "        vertical-align: middle;\n",
       "    }\n",
       "\n",
       "    .dataframe tbody tr th {\n",
       "        vertical-align: top;\n",
       "    }\n",
       "\n",
       "    .dataframe thead th {\n",
       "        text-align: right;\n",
       "    }\n",
       "</style>\n",
       "<table border=\"1\" class=\"dataframe\">\n",
       "  <thead>\n",
       "    <tr style=\"text-align: right;\">\n",
       "      <th></th>\n",
       "      <th>Name</th>\n",
       "      <th>hybfu_type</th>\n",
       "      <th>first_label</th>\n",
       "      <th>second_label</th>\n",
       "      <th>neighbor_1</th>\n",
       "      <th>neighbor_2</th>\n",
       "      <th>neighbor_3</th>\n",
       "      <th>neighbor_4</th>\n",
       "      <th>neighbor_5</th>\n",
       "      <th>neighbor_id_1</th>\n",
       "      <th>...</th>\n",
       "      <th>neighbor_id_3</th>\n",
       "      <th>neighbor_id_4</th>\n",
       "      <th>neighbor_id_5</th>\n",
       "      <th>callID</th>\n",
       "      <th>both_in_neighbors</th>\n",
       "      <th>any_in_neighbors</th>\n",
       "      <th>pure_nbrhood</th>\n",
       "      <th>in_majority</th>\n",
       "      <th>majorityvote</th>\n",
       "      <th>majority_in_label</th>\n",
       "    </tr>\n",
       "  </thead>\n",
       "  <tbody>\n",
       "    <tr>\n",
       "      <th>0</th>\n",
       "      <td>fu cc+soc</td>\n",
       "      <td>hyb</td>\n",
       "      <td>cc</td>\n",
       "      <td>soc</td>\n",
       "      <td>al</td>\n",
       "      <td>agg</td>\n",
       "      <td>al</td>\n",
       "      <td>al</td>\n",
       "      <td>sn</td>\n",
       "      <td>122</td>\n",
       "      <td>...</td>\n",
       "      <td>128</td>\n",
       "      <td>117</td>\n",
       "      <td>291</td>\n",
       "      <td>HM_VCVM001_SOUNDFOC_20190713_1___1_05_01_660</td>\n",
       "      <td>0</td>\n",
       "      <td>0</td>\n",
       "      <td>no</td>\n",
       "      <td>al</td>\n",
       "      <td>[al]</td>\n",
       "      <td>no</td>\n",
       "    </tr>\n",
       "    <tr>\n",
       "      <th>1</th>\n",
       "      <td>fu cc+soc</td>\n",
       "      <td>hyb</td>\n",
       "      <td>cc</td>\n",
       "      <td>soc</td>\n",
       "      <td>sn</td>\n",
       "      <td>al</td>\n",
       "      <td>al</td>\n",
       "      <td>sn</td>\n",
       "      <td>cc</td>\n",
       "      <td>1565</td>\n",
       "      <td>...</td>\n",
       "      <td>103</td>\n",
       "      <td>1055</td>\n",
       "      <td>5990</td>\n",
       "      <td>HM_VCVM001_SOUNDFOC_20190713_1___1_05_24_959</td>\n",
       "      <td>0</td>\n",
       "      <td>1</td>\n",
       "      <td>no</td>\n",
       "      <td>tie</td>\n",
       "      <td>[sn, al]</td>\n",
       "      <td>tie</td>\n",
       "    </tr>\n",
       "    <tr>\n",
       "      <th>2</th>\n",
       "      <td>fu cc+soc</td>\n",
       "      <td>hyb</td>\n",
       "      <td>cc</td>\n",
       "      <td>soc</td>\n",
       "      <td>sn</td>\n",
       "      <td>al</td>\n",
       "      <td>al</td>\n",
       "      <td>agg</td>\n",
       "      <td>sn</td>\n",
       "      <td>1255</td>\n",
       "      <td>...</td>\n",
       "      <td>109</td>\n",
       "      <td>1855</td>\n",
       "      <td>1243</td>\n",
       "      <td>HM_VCVM001_SOUNDFOC_20190713_1___1_05_26_885</td>\n",
       "      <td>0</td>\n",
       "      <td>0</td>\n",
       "      <td>no</td>\n",
       "      <td>tie</td>\n",
       "      <td>[sn, al]</td>\n",
       "      <td>tie</td>\n",
       "    </tr>\n",
       "    <tr>\n",
       "      <th>3</th>\n",
       "      <td>fu cc+soc</td>\n",
       "      <td>hyb</td>\n",
       "      <td>cc</td>\n",
       "      <td>soc</td>\n",
       "      <td>soc</td>\n",
       "      <td>soc</td>\n",
       "      <td>soc</td>\n",
       "      <td>soc</td>\n",
       "      <td>soc</td>\n",
       "      <td>3962</td>\n",
       "      <td>...</td>\n",
       "      <td>2234</td>\n",
       "      <td>4152</td>\n",
       "      <td>4464</td>\n",
       "      <td>HM_VCVM001_SOUNDFOC_20190713_1___1_23_10_532</td>\n",
       "      <td>0</td>\n",
       "      <td>1</td>\n",
       "      <td>yes</td>\n",
       "      <td>soc</td>\n",
       "      <td>[soc]</td>\n",
       "      <td>yes</td>\n",
       "    </tr>\n",
       "    <tr>\n",
       "      <th>4</th>\n",
       "      <td>fu s+ld *</td>\n",
       "      <td>hyb</td>\n",
       "      <td>sn</td>\n",
       "      <td>ld</td>\n",
       "      <td>soc</td>\n",
       "      <td>agg</td>\n",
       "      <td>al</td>\n",
       "      <td>al</td>\n",
       "      <td>cc</td>\n",
       "      <td>3869</td>\n",
       "      <td>...</td>\n",
       "      <td>118</td>\n",
       "      <td>130</td>\n",
       "      <td>5722</td>\n",
       "      <td>HM_VCVM001_SOUNDFOC_20190713_1___1_47_37_696</td>\n",
       "      <td>0</td>\n",
       "      <td>0</td>\n",
       "      <td>no</td>\n",
       "      <td>al</td>\n",
       "      <td>[al]</td>\n",
       "      <td>no</td>\n",
       "    </tr>\n",
       "    <tr>\n",
       "      <th>...</th>\n",
       "      <td>...</td>\n",
       "      <td>...</td>\n",
       "      <td>...</td>\n",
       "      <td>...</td>\n",
       "      <td>...</td>\n",
       "      <td>...</td>\n",
       "      <td>...</td>\n",
       "      <td>...</td>\n",
       "      <td>...</td>\n",
       "      <td>...</td>\n",
       "      <td>...</td>\n",
       "      <td>...</td>\n",
       "      <td>...</td>\n",
       "      <td>...</td>\n",
       "      <td>...</td>\n",
       "      <td>...</td>\n",
       "      <td>...</td>\n",
       "      <td>...</td>\n",
       "      <td>...</td>\n",
       "      <td>...</td>\n",
       "      <td>...</td>\n",
       "    </tr>\n",
       "    <tr>\n",
       "      <th>732</th>\n",
       "      <td>fu mov+ld</td>\n",
       "      <td>hyb</td>\n",
       "      <td>mo</td>\n",
       "      <td>ld</td>\n",
       "      <td>sn</td>\n",
       "      <td>sn</td>\n",
       "      <td>sn</td>\n",
       "      <td>sn</td>\n",
       "      <td>sn</td>\n",
       "      <td>3239</td>\n",
       "      <td>...</td>\n",
       "      <td>3024</td>\n",
       "      <td>3375</td>\n",
       "      <td>694</td>\n",
       "      <td>HM_VHMM023_MBLS_R02_20190707-20190719_file_9_(...</td>\n",
       "      <td>0</td>\n",
       "      <td>0</td>\n",
       "      <td>yes</td>\n",
       "      <td>sn</td>\n",
       "      <td>[sn]</td>\n",
       "      <td>no</td>\n",
       "    </tr>\n",
       "    <tr>\n",
       "      <th>733</th>\n",
       "      <td>fu cc+agg.//</td>\n",
       "      <td>hyb</td>\n",
       "      <td>cc</td>\n",
       "      <td>agg</td>\n",
       "      <td>soc</td>\n",
       "      <td>soc</td>\n",
       "      <td>soc</td>\n",
       "      <td>soc</td>\n",
       "      <td>agg</td>\n",
       "      <td>2166</td>\n",
       "      <td>...</td>\n",
       "      <td>2080</td>\n",
       "      <td>1928</td>\n",
       "      <td>2070</td>\n",
       "      <td>HM_VHMM023_MBLS_R02_20190707-20190719_file_9_(...</td>\n",
       "      <td>0</td>\n",
       "      <td>1</td>\n",
       "      <td>no</td>\n",
       "      <td>soc</td>\n",
       "      <td>[soc]</td>\n",
       "      <td>no</td>\n",
       "    </tr>\n",
       "    <tr>\n",
       "      <th>734</th>\n",
       "      <td>fu soc+agg *</td>\n",
       "      <td>hyb</td>\n",
       "      <td>soc</td>\n",
       "      <td>agg</td>\n",
       "      <td>agg</td>\n",
       "      <td>soc</td>\n",
       "      <td>mo</td>\n",
       "      <td>soc</td>\n",
       "      <td>agg</td>\n",
       "      <td>1298</td>\n",
       "      <td>...</td>\n",
       "      <td>4795</td>\n",
       "      <td>4358</td>\n",
       "      <td>4261</td>\n",
       "      <td>HM_VHMM023_MBLS_R02_20190707-20190719_file_9_(...</td>\n",
       "      <td>1</td>\n",
       "      <td>1</td>\n",
       "      <td>no</td>\n",
       "      <td>soc</td>\n",
       "      <td>[agg, soc]</td>\n",
       "      <td>yes</td>\n",
       "    </tr>\n",
       "    <tr>\n",
       "      <th>735</th>\n",
       "      <td>fu soc+agg *</td>\n",
       "      <td>hyb</td>\n",
       "      <td>soc</td>\n",
       "      <td>agg</td>\n",
       "      <td>agg</td>\n",
       "      <td>al</td>\n",
       "      <td>al</td>\n",
       "      <td>al</td>\n",
       "      <td>al</td>\n",
       "      <td>4510</td>\n",
       "      <td>...</td>\n",
       "      <td>76</td>\n",
       "      <td>127</td>\n",
       "      <td>117</td>\n",
       "      <td>HM_VHMM023_MBLS_R02_20190707-20190719_file_9_(...</td>\n",
       "      <td>0</td>\n",
       "      <td>1</td>\n",
       "      <td>no</td>\n",
       "      <td>al</td>\n",
       "      <td>[al]</td>\n",
       "      <td>no</td>\n",
       "    </tr>\n",
       "    <tr>\n",
       "      <th>736</th>\n",
       "      <td>fu soc+agg *</td>\n",
       "      <td>hyb</td>\n",
       "      <td>soc</td>\n",
       "      <td>agg</td>\n",
       "      <td>soc</td>\n",
       "      <td>agg</td>\n",
       "      <td>soc</td>\n",
       "      <td>soc</td>\n",
       "      <td>agg</td>\n",
       "      <td>4179</td>\n",
       "      <td>...</td>\n",
       "      <td>3978</td>\n",
       "      <td>2517</td>\n",
       "      <td>2286</td>\n",
       "      <td>HM_VHMM023_MBLS_R02_20190707-20190719_file_9_(...</td>\n",
       "      <td>1</td>\n",
       "      <td>1</td>\n",
       "      <td>no</td>\n",
       "      <td>soc</td>\n",
       "      <td>[soc]</td>\n",
       "      <td>yes</td>\n",
       "    </tr>\n",
       "  </tbody>\n",
       "</table>\n",
       "<p>737 rows × 21 columns</p>\n",
       "</div>"
      ],
      "text/plain": [
       "             Name hybfu_type first_label second_label neighbor_1 neighbor_2  \\\n",
       "0       fu cc+soc        hyb          cc          soc         al        agg   \n",
       "1       fu cc+soc        hyb          cc          soc         sn         al   \n",
       "2       fu cc+soc        hyb          cc          soc         sn         al   \n",
       "3       fu cc+soc        hyb          cc          soc        soc        soc   \n",
       "4       fu s+ld *        hyb          sn           ld        soc        agg   \n",
       "..            ...        ...         ...          ...        ...        ...   \n",
       "732     fu mov+ld        hyb          mo           ld         sn         sn   \n",
       "733  fu cc+agg.//        hyb          cc          agg        soc        soc   \n",
       "734  fu soc+agg *        hyb         soc          agg        agg        soc   \n",
       "735  fu soc+agg *        hyb         soc          agg        agg         al   \n",
       "736  fu soc+agg *        hyb         soc          agg        soc        agg   \n",
       "\n",
       "    neighbor_3 neighbor_4 neighbor_5  neighbor_id_1  ...  neighbor_id_3  \\\n",
       "0           al         al         sn            122  ...            128   \n",
       "1           al         sn         cc           1565  ...            103   \n",
       "2           al        agg         sn           1255  ...            109   \n",
       "3          soc        soc        soc           3962  ...           2234   \n",
       "4           al         al         cc           3869  ...            118   \n",
       "..         ...        ...        ...            ...  ...            ...   \n",
       "732         sn         sn         sn           3239  ...           3024   \n",
       "733        soc        soc        agg           2166  ...           2080   \n",
       "734         mo        soc        agg           1298  ...           4795   \n",
       "735         al         al         al           4510  ...             76   \n",
       "736        soc        soc        agg           4179  ...           3978   \n",
       "\n",
       "     neighbor_id_4  neighbor_id_5  \\\n",
       "0              117            291   \n",
       "1             1055           5990   \n",
       "2             1855           1243   \n",
       "3             4152           4464   \n",
       "4              130           5722   \n",
       "..             ...            ...   \n",
       "732           3375            694   \n",
       "733           1928           2070   \n",
       "734           4358           4261   \n",
       "735            127            117   \n",
       "736           2517           2286   \n",
       "\n",
       "                                                callID both_in_neighbors  \\\n",
       "0         HM_VCVM001_SOUNDFOC_20190713_1___1_05_01_660                 0   \n",
       "1         HM_VCVM001_SOUNDFOC_20190713_1___1_05_24_959                 0   \n",
       "2         HM_VCVM001_SOUNDFOC_20190713_1___1_05_26_885                 0   \n",
       "3         HM_VCVM001_SOUNDFOC_20190713_1___1_23_10_532                 0   \n",
       "4         HM_VCVM001_SOUNDFOC_20190713_1___1_47_37_696                 0   \n",
       "..                                                 ...               ...   \n",
       "732  HM_VHMM023_MBLS_R02_20190707-20190719_file_9_(...                 0   \n",
       "733  HM_VHMM023_MBLS_R02_20190707-20190719_file_9_(...                 0   \n",
       "734  HM_VHMM023_MBLS_R02_20190707-20190719_file_9_(...                 1   \n",
       "735  HM_VHMM023_MBLS_R02_20190707-20190719_file_9_(...                 0   \n",
       "736  HM_VHMM023_MBLS_R02_20190707-20190719_file_9_(...                 1   \n",
       "\n",
       "     any_in_neighbors  pure_nbrhood in_majority majorityvote majority_in_label  \n",
       "0                   0            no          al         [al]                no  \n",
       "1                   1            no         tie     [sn, al]               tie  \n",
       "2                   0            no         tie     [sn, al]               tie  \n",
       "3                   1           yes         soc        [soc]               yes  \n",
       "4                   0            no          al         [al]                no  \n",
       "..                ...           ...         ...          ...               ...  \n",
       "732                 0           yes          sn         [sn]                no  \n",
       "733                 1            no         soc        [soc]                no  \n",
       "734                 1            no         soc   [agg, soc]               yes  \n",
       "735                 1            no          al         [al]                no  \n",
       "736                 1            no         soc        [soc]               yes  \n",
       "\n",
       "[737 rows x 21 columns]"
      ]
     },
     "execution_count": 35,
     "metadata": {},
     "output_type": "execute_result"
    }
   ],
   "source": [
    "majority_in_label = []\n",
    "\n",
    "for i in range(hybfu_classi.shape[0]):\n",
    "    majority = hybfu_classi.loc[i,'in_majority']\n",
    "    if majority=='tie':\n",
    "        majority_in_label.append('tie')\n",
    "    elif ((majority==hybfu_classi.loc[i,'first_label']) or (majority==hybfu_classi.loc[i,'second_label'])):\n",
    "        majority_in_label.append('yes')\n",
    "    else:\n",
    "        majority_in_label.append('no')\n",
    "\n",
    "hybfu_classi['majority_in_label'] = majority_in_label\n",
    "hybfu_classi"
   ]
  },
  {
   "cell_type": "code",
   "execution_count": 36,
   "metadata": {
    "id": "pmqwSv3Bpxd5"
   },
   "outputs": [],
   "source": [
    "#above10_labels = pd.DataFrame(pd.Series(hybfu_calls).value_counts()[pd.Series(hybfu_calls).value_counts()>10]).index.tolist()\n",
    "#selector = [True if x in above10_labels else False for x in hybfu_calls]\n",
    "#hybfu_classi = hybfu_classi.loc[selector,:]"
   ]
  },
  {
   "cell_type": "code",
   "execution_count": 37,
   "metadata": {
    "colab": {
     "base_uri": "https://localhost:8080/",
     "height": 296
    },
    "executionInfo": {
     "elapsed": 572,
     "status": "ok",
     "timestamp": 1604926818731,
     "user": {
      "displayName": "Mara Thomas",
      "photoUrl": "",
      "userId": "08285540157542181220"
     },
     "user_tz": -60
    },
    "id": "15dzwyapYl2E",
    "outputId": "126add0d-f754-4c8b-d62d-20a99999f96e"
   },
   "outputs": [
    {
     "name": "stdout",
     "output_type": "stream",
     "text": [
      "hyb\n",
      "yes    531\n",
      "no     194\n",
      "tie     12\n",
      "Name: majority_in_label, dtype: int64\n"
     ]
    },
    {
     "data": {
      "text/html": [
       "<div>\n",
       "<style scoped>\n",
       "    .dataframe tbody tr th:only-of-type {\n",
       "        vertical-align: middle;\n",
       "    }\n",
       "\n",
       "    .dataframe tbody tr th {\n",
       "        vertical-align: top;\n",
       "    }\n",
       "\n",
       "    .dataframe thead th {\n",
       "        text-align: right;\n",
       "    }\n",
       "</style>\n",
       "<table border=\"1\" class=\"dataframe\">\n",
       "  <thead>\n",
       "    <tr style=\"text-align: right;\">\n",
       "      <th></th>\n",
       "      <th>hyb</th>\n",
       "    </tr>\n",
       "  </thead>\n",
       "  <tbody>\n",
       "    <tr>\n",
       "      <th>yes</th>\n",
       "      <td>531.0</td>\n",
       "    </tr>\n",
       "    <tr>\n",
       "      <th>no</th>\n",
       "      <td>194.0</td>\n",
       "    </tr>\n",
       "    <tr>\n",
       "      <th>tie</th>\n",
       "      <td>12.0</td>\n",
       "    </tr>\n",
       "  </tbody>\n",
       "</table>\n",
       "</div>"
      ],
      "text/plain": [
       "       hyb\n",
       "yes  531.0\n",
       "no   194.0\n",
       "tie   12.0"
      ]
     },
     "execution_count": 37,
     "metadata": {},
     "output_type": "execute_result"
    }
   ],
   "source": [
    "eval_tab = np.zeros((3,1))\n",
    "for i,selected_type in enumerate(['hyb']):\n",
    "    hybfu_subset = hybfu_classi[hybfu_classi['hybfu_type']==selected_type]\n",
    "    print(selected_type)\n",
    "    print(hybfu_subset['majority_in_label'].value_counts())\n",
    "    eval_tab[:,i] = np.asarray(hybfu_subset['majority_in_label'].value_counts())\n",
    "eval_tab = pd.DataFrame(eval_tab)\n",
    "eval_tab.columns = ['hyb']\n",
    "eval_tab.index = ['yes', 'no', 'tie']\n",
    "eval_tab"
   ]
  },
  {
   "cell_type": "code",
   "execution_count": 38,
   "metadata": {
    "colab": {
     "base_uri": "https://localhost:8080/",
     "height": 133
    },
    "executionInfo": {
     "elapsed": 761,
     "status": "ok",
     "timestamp": 1604926821648,
     "user": {
      "displayName": "Mara Thomas",
      "photoUrl": "",
      "userId": "08285540157542181220"
     },
     "user_tz": -60
    },
    "id": "76Tf4zrEfnKu",
    "outputId": "3f1ee08e-e1a8-4278-bfe2-0c8379dde4fa"
   },
   "outputs": [
    {
     "data": {
      "text/html": [
       "<div>\n",
       "<style scoped>\n",
       "    .dataframe tbody tr th:only-of-type {\n",
       "        vertical-align: middle;\n",
       "    }\n",
       "\n",
       "    .dataframe tbody tr th {\n",
       "        vertical-align: top;\n",
       "    }\n",
       "\n",
       "    .dataframe thead th {\n",
       "        text-align: right;\n",
       "    }\n",
       "</style>\n",
       "<table border=\"1\" class=\"dataframe\">\n",
       "  <thead>\n",
       "    <tr style=\"text-align: right;\">\n",
       "      <th></th>\n",
       "      <th>hyb</th>\n",
       "    </tr>\n",
       "  </thead>\n",
       "  <tbody>\n",
       "    <tr>\n",
       "      <th>yes</th>\n",
       "      <td>72.048847</td>\n",
       "    </tr>\n",
       "    <tr>\n",
       "      <th>no</th>\n",
       "      <td>26.322931</td>\n",
       "    </tr>\n",
       "    <tr>\n",
       "      <th>tie</th>\n",
       "      <td>1.628223</td>\n",
       "    </tr>\n",
       "  </tbody>\n",
       "</table>\n",
       "</div>"
      ],
      "text/plain": [
       "           hyb\n",
       "yes  72.048847\n",
       "no   26.322931\n",
       "tie   1.628223"
      ]
     },
     "execution_count": 38,
     "metadata": {},
     "output_type": "execute_result"
    }
   ],
   "source": [
    "eval_percent = eval_tab.copy()\n",
    "eval_percent['hyb'] = (eval_tab['hyb'] / eval_tab['hyb'].sum()) * 100\n",
    "eval_percent"
   ]
  },
  {
   "cell_type": "code",
   "execution_count": 91,
   "metadata": {
    "id": "VQCUS68F_Vxi"
   },
   "outputs": [],
   "source": [
    "hybfu_classi.to_pickle(os.path.join(os.path.sep,DATA,'2021-07-30-hybfu_classi'))"
   ]
  },
  {
   "cell_type": "markdown",
   "metadata": {
    "id": "T9f715LK_Tqa"
   },
   "source": [
    "# Example calls"
   ]
  },
  {
   "cell_type": "markdown",
   "metadata": {
    "id": "T9TqSfi6_i15"
   },
   "source": [
    "* Show examples for ties\n",
    "* Show examples for clear associations\n",
    "* Show nearest neighbors -> need to re-do project-transform."
   ]
  },
  {
   "cell_type": "code",
   "execution_count": 39,
   "metadata": {
    "id": "N-UUT-2qMCMV"
   },
   "outputs": [],
   "source": [
    "hybfu_classi['hybfu_rownum'] = np.arange(0,hybfu_classi.shape[0],1)\n",
    "hybfu_classi['hybfu_label'] = hybfu_classi['hybfu_type'].map(str) + ':' + hybfu_classi['first_label'].map(str) + '_' + hybfu_classi['second_label'].map(str)"
   ]
  },
  {
   "cell_type": "code",
   "execution_count": 40,
   "metadata": {
    "id": "nGoBzkrJMgDh"
   },
   "outputs": [],
   "source": [
    "df_hybfu = pd.read_pickle(os.path.join(os.path.sep, DATA, \"df_fu.pkl\"))\n",
    "df_hybfu.reset_index(inplace=True)"
   ]
  },
  {
   "cell_type": "code",
   "execution_count": 41,
   "metadata": {
    "id": "2rgAzwE9KVmi"
   },
   "outputs": [],
   "source": [
    "subset = hybfu_classi.loc[hybfu_classi['in_majority']=='tie',:]"
   ]
  },
  {
   "cell_type": "code",
   "execution_count": 42,
   "metadata": {
    "id": "mxym60a6LQi7"
   },
   "outputs": [],
   "source": [
    "subset = hybfu_classi.loc[hybfu_classi['majority_in_label']=='no',:]"
   ]
  },
  {
   "cell_type": "code",
   "execution_count": 43,
   "metadata": {
    "colab": {
     "base_uri": "https://localhost:8080/",
     "height": 202
    },
    "executionInfo": {
     "elapsed": 720,
     "status": "ok",
     "timestamp": 1604006380332,
     "user": {
      "displayName": "Mara Thomas",
      "photoUrl": "",
      "userId": "08285540157542181220"
     },
     "user_tz": -60
    },
    "id": "oVDw2GQTLjLA",
    "outputId": "f8206d0f-6e5b-448b-c2d3-1e9dbffe8892"
   },
   "outputs": [
    {
     "data": {
      "text/html": [
       "<div>\n",
       "<style scoped>\n",
       "    .dataframe tbody tr th:only-of-type {\n",
       "        vertical-align: middle;\n",
       "    }\n",
       "\n",
       "    .dataframe tbody tr th {\n",
       "        vertical-align: top;\n",
       "    }\n",
       "\n",
       "    .dataframe thead th {\n",
       "        text-align: right;\n",
       "    }\n",
       "</style>\n",
       "<table border=\"1\" class=\"dataframe\">\n",
       "  <thead>\n",
       "    <tr style=\"text-align: right;\">\n",
       "      <th></th>\n",
       "      <th>index</th>\n",
       "      <th>Name</th>\n",
       "      <th>hybfu_type</th>\n",
       "      <th>first_label</th>\n",
       "      <th>second_label</th>\n",
       "      <th>neighbor_1</th>\n",
       "      <th>neighbor_2</th>\n",
       "      <th>neighbor_3</th>\n",
       "      <th>neighbor_4</th>\n",
       "      <th>neighbor_5</th>\n",
       "      <th>...</th>\n",
       "      <th>neighbor_id_5</th>\n",
       "      <th>callID</th>\n",
       "      <th>both_in_neighbors</th>\n",
       "      <th>any_in_neighbors</th>\n",
       "      <th>pure_nbrhood</th>\n",
       "      <th>in_majority</th>\n",
       "      <th>majorityvote</th>\n",
       "      <th>majority_in_label</th>\n",
       "      <th>hybfu_rownum</th>\n",
       "      <th>hybfu_label</th>\n",
       "    </tr>\n",
       "  </thead>\n",
       "  <tbody>\n",
       "    <tr>\n",
       "      <th>0</th>\n",
       "      <td>721</td>\n",
       "      <td>fu cc+agg</td>\n",
       "      <td>hyb</td>\n",
       "      <td>cc</td>\n",
       "      <td>agg</td>\n",
       "      <td>soc</td>\n",
       "      <td>cc</td>\n",
       "      <td>cc</td>\n",
       "      <td>cc</td>\n",
       "      <td>cc</td>\n",
       "      <td>...</td>\n",
       "      <td>5635</td>\n",
       "      <td>HM_VHMM023_MBLS_R02_20190707-20190719_file_7_(...</td>\n",
       "      <td>0</td>\n",
       "      <td>1</td>\n",
       "      <td>no</td>\n",
       "      <td>cc</td>\n",
       "      <td>[cc]</td>\n",
       "      <td>yes</td>\n",
       "      <td>721</td>\n",
       "      <td>hyb:cc_agg</td>\n",
       "    </tr>\n",
       "    <tr>\n",
       "      <th>1</th>\n",
       "      <td>657</td>\n",
       "      <td>fu cc+agg</td>\n",
       "      <td>hyb</td>\n",
       "      <td>cc</td>\n",
       "      <td>agg</td>\n",
       "      <td>agg</td>\n",
       "      <td>agg</td>\n",
       "      <td>agg</td>\n",
       "      <td>agg</td>\n",
       "      <td>soc</td>\n",
       "      <td>...</td>\n",
       "      <td>4286</td>\n",
       "      <td>HM_VHMM017_RSTB_R23_20190708-20190720_file_10_...</td>\n",
       "      <td>0</td>\n",
       "      <td>1</td>\n",
       "      <td>no</td>\n",
       "      <td>agg</td>\n",
       "      <td>[agg]</td>\n",
       "      <td>yes</td>\n",
       "      <td>657</td>\n",
       "      <td>hyb:cc_agg</td>\n",
       "    </tr>\n",
       "    <tr>\n",
       "      <th>2</th>\n",
       "      <td>260</td>\n",
       "      <td>fu s+soc *</td>\n",
       "      <td>hyb</td>\n",
       "      <td>sn</td>\n",
       "      <td>soc</td>\n",
       "      <td>sn</td>\n",
       "      <td>sn</td>\n",
       "      <td>sn</td>\n",
       "      <td>sn</td>\n",
       "      <td>sn</td>\n",
       "      <td>...</td>\n",
       "      <td>1183</td>\n",
       "      <td>HM_VHMF001_HTB_R20_20190707-20190719_file_8_(2...</td>\n",
       "      <td>0</td>\n",
       "      <td>1</td>\n",
       "      <td>yes</td>\n",
       "      <td>sn</td>\n",
       "      <td>[sn]</td>\n",
       "      <td>yes</td>\n",
       "      <td>260</td>\n",
       "      <td>hyb:sn_soc</td>\n",
       "    </tr>\n",
       "  </tbody>\n",
       "</table>\n",
       "<p>3 rows × 24 columns</p>\n",
       "</div>"
      ],
      "text/plain": [
       "   index        Name hybfu_type first_label second_label neighbor_1  \\\n",
       "0    721   fu cc+agg        hyb          cc          agg        soc   \n",
       "1    657   fu cc+agg        hyb          cc          agg        agg   \n",
       "2    260  fu s+soc *        hyb          sn          soc         sn   \n",
       "\n",
       "  neighbor_2 neighbor_3 neighbor_4 neighbor_5  ...  neighbor_id_5  \\\n",
       "0         cc         cc         cc         cc  ...           5635   \n",
       "1        agg        agg        agg        soc  ...           4286   \n",
       "2         sn         sn         sn         sn  ...           1183   \n",
       "\n",
       "                                              callID  both_in_neighbors  \\\n",
       "0  HM_VHMM023_MBLS_R02_20190707-20190719_file_7_(...                  0   \n",
       "1  HM_VHMM017_RSTB_R23_20190708-20190720_file_10_...                  0   \n",
       "2  HM_VHMF001_HTB_R20_20190707-20190719_file_8_(2...                  0   \n",
       "\n",
       "   any_in_neighbors  pure_nbrhood in_majority  majorityvote  \\\n",
       "0                 1            no          cc          [cc]   \n",
       "1                 1            no         agg         [agg]   \n",
       "2                 1           yes          sn          [sn]   \n",
       "\n",
       "   majority_in_label hybfu_rownum hybfu_label  \n",
       "0                yes          721  hyb:cc_agg  \n",
       "1                yes          657  hyb:cc_agg  \n",
       "2                yes          260  hyb:sn_soc  \n",
       "\n",
       "[3 rows x 24 columns]"
      ]
     },
     "execution_count": 43,
     "metadata": {},
     "output_type": "execute_result"
    }
   ],
   "source": [
    "subset = hybfu_classi.loc[hybfu_classi['majority_in_label']=='yes',:]\n",
    "examples = subset.sample(n=3, replace=False)\n",
    "examples = examples.reset_index()\n",
    "examples"
   ]
  },
  {
   "cell_type": "code",
   "execution_count": 101,
   "metadata": {
    "colab": {
     "base_uri": "https://localhost:8080/",
     "height": 348
    },
    "executionInfo": {
     "elapsed": 1510,
     "status": "ok",
     "timestamp": 1604006103173,
     "user": {
      "displayName": "Mara Thomas",
      "photoUrl": "",
      "userId": "08285540157542181220"
     },
     "user_tz": -60
    },
    "id": "fgm9w7QhNHkF",
    "outputId": "47b56111-52fa-4ae3-89c8-ea0b2953950f"
   },
   "outputs": [
    {
     "data": {
      "text/html": [
       "<div>\n",
       "<style scoped>\n",
       "    .dataframe tbody tr th:only-of-type {\n",
       "        vertical-align: middle;\n",
       "    }\n",
       "\n",
       "    .dataframe tbody tr th {\n",
       "        vertical-align: top;\n",
       "    }\n",
       "\n",
       "    .dataframe thead th {\n",
       "        text-align: right;\n",
       "    }\n",
       "</style>\n",
       "<table border=\"1\" class=\"dataframe\">\n",
       "  <thead>\n",
       "    <tr style=\"text-align: right;\">\n",
       "      <th></th>\n",
       "      <th>index</th>\n",
       "      <th>Name</th>\n",
       "      <th>Start</th>\n",
       "      <th>Duration</th>\n",
       "      <th>Time Format</th>\n",
       "      <th>Type</th>\n",
       "      <th>Description</th>\n",
       "      <th>start_s</th>\n",
       "      <th>duration_s</th>\n",
       "      <th>stop_s</th>\n",
       "      <th>...</th>\n",
       "      <th>raw_audio</th>\n",
       "      <th>spectrograms</th>\n",
       "      <th>denoised_spectrograms</th>\n",
       "      <th>stretched_spectrograms</th>\n",
       "      <th>stretched_denoised_spectrograms</th>\n",
       "      <th>stretched_mfccs</th>\n",
       "      <th>mfccs</th>\n",
       "      <th>zmfccs</th>\n",
       "      <th>freq_spectrograms</th>\n",
       "      <th>ampli_spectrograms</th>\n",
       "    </tr>\n",
       "  </thead>\n",
       "  <tbody>\n",
       "    <tr>\n",
       "      <th>0</th>\n",
       "      <td>26</td>\n",
       "      <td>ALARM</td>\n",
       "      <td>1:10:56.215</td>\n",
       "      <td>0:00.178</td>\n",
       "      <td>decimal</td>\n",
       "      <td>Cue</td>\n",
       "      <td>NaN</td>\n",
       "      <td>4256.215</td>\n",
       "      <td>0.178</td>\n",
       "      <td>4256.393</td>\n",
       "      <td>...</td>\n",
       "      <td>[0.0, 0.001953125, 0.001953125, 0.0, -0.001953...</td>\n",
       "      <td>[[-7.209921, -5.1646175, -3.098959, -2.4054718...</td>\n",
       "      <td>[[25.639555, 26.477575, 27.715773, 28.758339, ...</td>\n",
       "      <td>[[-7.1987, -6.5299683, -5.782192, -5.027586, -...</td>\n",
       "      <td>[[25.639557, 25.685383, 26.040043, 26.640596, ...</td>\n",
       "      <td>[[-191.40002, -190.285, -188.93335, -187.6061,...</td>\n",
       "      <td>[[-191.47098, -187.8111, -185.9428, -190.7444,...</td>\n",
       "      <td>[[-4.055921, -3.603153, -3.372024, -3.966035, ...</td>\n",
       "      <td>[[-4.48149, -3.8263247, -2.3380895, -0.8921968...</td>\n",
       "      <td>[[0.6477866, 0.6985383, 0.8290906, 0.97925687,...</td>\n",
       "    </tr>\n",
       "    <tr>\n",
       "      <th>1</th>\n",
       "      <td>27</td>\n",
       "      <td>ALARM</td>\n",
       "      <td>1:12:04.643</td>\n",
       "      <td>0:00.317</td>\n",
       "      <td>decimal</td>\n",
       "      <td>Cue</td>\n",
       "      <td>NaN</td>\n",
       "      <td>4324.643</td>\n",
       "      <td>0.317</td>\n",
       "      <td>4324.960</td>\n",
       "      <td>...</td>\n",
       "      <td>[-0.001953125, 0.0, -0.001953125, 0.001953125,...</td>\n",
       "      <td>[[-21.059677, -20.16883, -20.029144, -18.70754...</td>\n",
       "      <td>[[10.762169, 11.25013, 11.792789, 12.15715, 16...</td>\n",
       "      <td>[[-21.033955, -20.467411, -20.189526, -20.0539...</td>\n",
       "      <td>[[10.762169, 11.010641, 11.456001, 11.731136, ...</td>\n",
       "      <td>[[-202.38637, -201.3461, -199.93108, -198.6801...</td>\n",
       "      <td>[[-202.54906, -200.67754, -198.63663, -195.151...</td>\n",
       "      <td>[[-4.564307, -4.3215175, -4.0567517, -3.604574...</td>\n",
       "      <td>[[-14.102091, -14.716537, -15.26635, -13.70910...</td>\n",
       "      <td>[[0.114545085, 0.10672204, 0.10017597, 0.11984...</td>\n",
       "    </tr>\n",
       "    <tr>\n",
       "      <th>2</th>\n",
       "      <td>28</td>\n",
       "      <td>ALARM</td>\n",
       "      <td>1:12:15.132</td>\n",
       "      <td>0:00.192</td>\n",
       "      <td>decimal</td>\n",
       "      <td>Cue</td>\n",
       "      <td>NaN</td>\n",
       "      <td>4335.132</td>\n",
       "      <td>0.192</td>\n",
       "      <td>4335.324</td>\n",
       "      <td>...</td>\n",
       "      <td>[0.005859375, 0.005859375, 0.0078125, 0.005859...</td>\n",
       "      <td>[[-13.698711, -14.600319, -16.215317, -15.7289...</td>\n",
       "      <td>[[24.188335, 22.856678, 18.059265, 18.200275, ...</td>\n",
       "      <td>[[-13.6952095, -14.033527, -14.38166, -14.8309...</td>\n",
       "      <td>[[24.188335, 23.769962, 23.326118, 22.13004, 1...</td>\n",
       "      <td>[[-228.31644, -226.77997, -224.79376, -222.447...</td>\n",
       "      <td>[[-228.33861, -223.5106, -216.6013, -210.05571...</td>\n",
       "      <td>[[-3.8205261, -3.3101666, -2.579792, -1.887865...</td>\n",
       "      <td>[[-7.131528, -7.2517376, -7.459937, -7.4017763...</td>\n",
       "      <td>[[0.46731132, 0.46088842, 0.4499724, 0.4529955...</td>\n",
       "    </tr>\n",
       "  </tbody>\n",
       "</table>\n",
       "<p>3 rows × 35 columns</p>\n",
       "</div>"
      ],
      "text/plain": [
       "   index   Name        Start  Duration Time Format Type Description   start_s  \\\n",
       "0     26  ALARM  1:10:56.215  0:00.178     decimal  Cue         NaN  4256.215   \n",
       "1     27  ALARM  1:12:04.643  0:00.317     decimal  Cue         NaN  4324.643   \n",
       "2     28  ALARM  1:12:15.132  0:00.192     decimal  Cue         NaN  4335.132   \n",
       "\n",
       "   duration_s    stop_s  ...  \\\n",
       "0       0.178  4256.393  ...   \n",
       "1       0.317  4324.960  ...   \n",
       "2       0.192  4335.324  ...   \n",
       "\n",
       "                                           raw_audio  \\\n",
       "0  [0.0, 0.001953125, 0.001953125, 0.0, -0.001953...   \n",
       "1  [-0.001953125, 0.0, -0.001953125, 0.001953125,...   \n",
       "2  [0.005859375, 0.005859375, 0.0078125, 0.005859...   \n",
       "\n",
       "                                        spectrograms  \\\n",
       "0  [[-7.209921, -5.1646175, -3.098959, -2.4054718...   \n",
       "1  [[-21.059677, -20.16883, -20.029144, -18.70754...   \n",
       "2  [[-13.698711, -14.600319, -16.215317, -15.7289...   \n",
       "\n",
       "                               denoised_spectrograms  \\\n",
       "0  [[25.639555, 26.477575, 27.715773, 28.758339, ...   \n",
       "1  [[10.762169, 11.25013, 11.792789, 12.15715, 16...   \n",
       "2  [[24.188335, 22.856678, 18.059265, 18.200275, ...   \n",
       "\n",
       "                              stretched_spectrograms  \\\n",
       "0  [[-7.1987, -6.5299683, -5.782192, -5.027586, -...   \n",
       "1  [[-21.033955, -20.467411, -20.189526, -20.0539...   \n",
       "2  [[-13.6952095, -14.033527, -14.38166, -14.8309...   \n",
       "\n",
       "                     stretched_denoised_spectrograms  \\\n",
       "0  [[25.639557, 25.685383, 26.040043, 26.640596, ...   \n",
       "1  [[10.762169, 11.010641, 11.456001, 11.731136, ...   \n",
       "2  [[24.188335, 23.769962, 23.326118, 22.13004, 1...   \n",
       "\n",
       "                                     stretched_mfccs  \\\n",
       "0  [[-191.40002, -190.285, -188.93335, -187.6061,...   \n",
       "1  [[-202.38637, -201.3461, -199.93108, -198.6801...   \n",
       "2  [[-228.31644, -226.77997, -224.79376, -222.447...   \n",
       "\n",
       "                                               mfccs  \\\n",
       "0  [[-191.47098, -187.8111, -185.9428, -190.7444,...   \n",
       "1  [[-202.54906, -200.67754, -198.63663, -195.151...   \n",
       "2  [[-228.33861, -223.5106, -216.6013, -210.05571...   \n",
       "\n",
       "                                              zmfccs  \\\n",
       "0  [[-4.055921, -3.603153, -3.372024, -3.966035, ...   \n",
       "1  [[-4.564307, -4.3215175, -4.0567517, -3.604574...   \n",
       "2  [[-3.8205261, -3.3101666, -2.579792, -1.887865...   \n",
       "\n",
       "                                   freq_spectrograms  \\\n",
       "0  [[-4.48149, -3.8263247, -2.3380895, -0.8921968...   \n",
       "1  [[-14.102091, -14.716537, -15.26635, -13.70910...   \n",
       "2  [[-7.131528, -7.2517376, -7.459937, -7.4017763...   \n",
       "\n",
       "                                  ampli_spectrograms  \n",
       "0  [[0.6477866, 0.6985383, 0.8290906, 0.97925687,...  \n",
       "1  [[0.114545085, 0.10672204, 0.10017597, 0.11984...  \n",
       "2  [[0.46731132, 0.46088842, 0.4499724, 0.4529955...  \n",
       "\n",
       "[3 rows x 35 columns]"
      ]
     },
     "execution_count": 101,
     "metadata": {},
     "output_type": "execute_result"
    }
   ],
   "source": [
    "df.head(3)"
   ]
  },
  {
   "cell_type": "code",
   "execution_count": 103,
   "metadata": {},
   "outputs": [
    {
     "data": {
      "text/plain": [
       "Index(['Name', 'hybfu_type', 'first_label', 'second_label', 'neighbor_1',\n",
       "       'neighbor_2', 'neighbor_3', 'neighbor_4', 'neighbor_5', 'neighbor_id_1',\n",
       "       'neighbor_id_2', 'neighbor_id_3', 'neighbor_id_4', 'neighbor_id_5',\n",
       "       'callID', 'both_in_neighbors', 'any_in_neighbors', 'pure_nbrhood',\n",
       "       'in_majority', 'majorityvote', 'majority_in_label', 'hybfu_rownum',\n",
       "       'hybfu_label'],\n",
       "      dtype='object')"
      ]
     },
     "execution_count": 103,
     "metadata": {},
     "output_type": "execute_result"
    }
   ],
   "source": [
    "examples.columns"
   ]
  },
  {
   "cell_type": "code",
   "execution_count": 107,
   "metadata": {
    "id": "WFeflHg7N4IZ"
   },
   "outputs": [],
   "source": [
    "neighbor_rownums = [examples.loc[0,'neighbor_id_'+str(x)] for x in [1,2,3,4,5]]\n",
    "neighbor_rownums\n",
    "neighbor_specs = [df.loc[nb_rn, 'denoised_spectrograms'] for nb_rn in neighbor_rownums]"
   ]
  },
  {
   "cell_type": "code",
   "execution_count": 108,
   "metadata": {
    "colab": {
     "base_uri": "https://localhost:8080/",
     "height": 33
    },
    "executionInfo": {
     "elapsed": 770,
     "status": "ok",
     "timestamp": 1604006185669,
     "user": {
      "displayName": "Mara Thomas",
      "photoUrl": "",
      "userId": "08285540157542181220"
     },
     "user_tz": -60
    },
    "id": "ichv4ONnN7x2",
    "outputId": "a12a07ee-3191-4e5c-afa4-229787bee6d1"
   },
   "outputs": [
    {
     "data": {
      "text/plain": [
       "array([[-4.9279165e+00, -4.6820564e+00, -4.4020538e+00, ...,\n",
       "        -1.6309274e+00, -3.9151144e-01, -2.3841858e-07],\n",
       "       [-1.2841336e+01, -1.3240724e+01, -1.4512733e+01, ...,\n",
       "        -7.7616196e+00, -6.5707169e+00, -6.1702032e+00],\n",
       "       [-2.3024519e+01, -2.2457771e+01, -2.2018482e+01, ...,\n",
       "        -8.3669195e+00, -9.0802383e+00, -1.0259078e+01],\n",
       "       ...,\n",
       "       [-6.3060394e+01, -6.1016148e+01, -5.7075356e+01, ...,\n",
       "        -5.9836235e+01, -6.2496784e+01, -6.5550529e+01],\n",
       "       [-5.9525166e+01, -5.8393799e+01, -5.7344997e+01, ...,\n",
       "        -6.0797363e+01, -6.1606415e+01, -6.1655849e+01],\n",
       "       [-6.3625099e+01, -6.2152752e+01, -6.0491165e+01, ...,\n",
       "        -6.0521076e+01, -5.8954498e+01, -5.8043694e+01]], dtype=float32)"
      ]
     },
     "execution_count": 108,
     "metadata": {},
     "output_type": "execute_result"
    }
   ],
   "source": [
    "call = hybfu_classi.callID.values[0]\n",
    "df_hybfu.loc[df_hybfu.callID==call,'spectrograms'].values[0]"
   ]
  },
  {
   "cell_type": "code",
   "execution_count": 109,
   "metadata": {},
   "outputs": [
    {
     "data": {
      "text/html": [
       "<div>\n",
       "<style scoped>\n",
       "    .dataframe tbody tr th:only-of-type {\n",
       "        vertical-align: middle;\n",
       "    }\n",
       "\n",
       "    .dataframe tbody tr th {\n",
       "        vertical-align: top;\n",
       "    }\n",
       "\n",
       "    .dataframe thead th {\n",
       "        text-align: right;\n",
       "    }\n",
       "</style>\n",
       "<table border=\"1\" class=\"dataframe\">\n",
       "  <thead>\n",
       "    <tr style=\"text-align: right;\">\n",
       "      <th></th>\n",
       "      <th>Name</th>\n",
       "      <th>hybfu_type</th>\n",
       "      <th>first_label</th>\n",
       "      <th>second_label</th>\n",
       "      <th>neighbor_1</th>\n",
       "      <th>neighbor_2</th>\n",
       "      <th>neighbor_3</th>\n",
       "      <th>neighbor_4</th>\n",
       "      <th>neighbor_5</th>\n",
       "      <th>neighbor_id_1</th>\n",
       "      <th>...</th>\n",
       "      <th>neighbor_id_5</th>\n",
       "      <th>callID</th>\n",
       "      <th>both_in_neighbors</th>\n",
       "      <th>any_in_neighbors</th>\n",
       "      <th>pure_nbrhood</th>\n",
       "      <th>in_majority</th>\n",
       "      <th>majorityvote</th>\n",
       "      <th>majority_in_label</th>\n",
       "      <th>hybfu_rownum</th>\n",
       "      <th>hybfu_label</th>\n",
       "    </tr>\n",
       "  </thead>\n",
       "  <tbody>\n",
       "    <tr>\n",
       "      <th>0</th>\n",
       "      <td>fu cc+soc</td>\n",
       "      <td>hyb</td>\n",
       "      <td>cc</td>\n",
       "      <td>soc</td>\n",
       "      <td>al</td>\n",
       "      <td>agg</td>\n",
       "      <td>al</td>\n",
       "      <td>al</td>\n",
       "      <td>sn</td>\n",
       "      <td>122</td>\n",
       "      <td>...</td>\n",
       "      <td>291</td>\n",
       "      <td>HM_VCVM001_SOUNDFOC_20190713_1___1_05_01_660</td>\n",
       "      <td>0</td>\n",
       "      <td>0</td>\n",
       "      <td>no</td>\n",
       "      <td>al</td>\n",
       "      <td>[al]</td>\n",
       "      <td>no</td>\n",
       "      <td>0</td>\n",
       "      <td>hyb:cc_soc</td>\n",
       "    </tr>\n",
       "    <tr>\n",
       "      <th>1</th>\n",
       "      <td>fu cc+soc</td>\n",
       "      <td>hyb</td>\n",
       "      <td>cc</td>\n",
       "      <td>soc</td>\n",
       "      <td>sn</td>\n",
       "      <td>al</td>\n",
       "      <td>al</td>\n",
       "      <td>sn</td>\n",
       "      <td>cc</td>\n",
       "      <td>1565</td>\n",
       "      <td>...</td>\n",
       "      <td>5990</td>\n",
       "      <td>HM_VCVM001_SOUNDFOC_20190713_1___1_05_24_959</td>\n",
       "      <td>0</td>\n",
       "      <td>1</td>\n",
       "      <td>no</td>\n",
       "      <td>tie</td>\n",
       "      <td>[sn, al]</td>\n",
       "      <td>tie</td>\n",
       "      <td>1</td>\n",
       "      <td>hyb:cc_soc</td>\n",
       "    </tr>\n",
       "    <tr>\n",
       "      <th>2</th>\n",
       "      <td>fu cc+soc</td>\n",
       "      <td>hyb</td>\n",
       "      <td>cc</td>\n",
       "      <td>soc</td>\n",
       "      <td>sn</td>\n",
       "      <td>al</td>\n",
       "      <td>al</td>\n",
       "      <td>agg</td>\n",
       "      <td>sn</td>\n",
       "      <td>1255</td>\n",
       "      <td>...</td>\n",
       "      <td>1243</td>\n",
       "      <td>HM_VCVM001_SOUNDFOC_20190713_1___1_05_26_885</td>\n",
       "      <td>0</td>\n",
       "      <td>0</td>\n",
       "      <td>no</td>\n",
       "      <td>tie</td>\n",
       "      <td>[sn, al]</td>\n",
       "      <td>tie</td>\n",
       "      <td>2</td>\n",
       "      <td>hyb:cc_soc</td>\n",
       "    </tr>\n",
       "    <tr>\n",
       "      <th>3</th>\n",
       "      <td>fu cc+soc</td>\n",
       "      <td>hyb</td>\n",
       "      <td>cc</td>\n",
       "      <td>soc</td>\n",
       "      <td>soc</td>\n",
       "      <td>soc</td>\n",
       "      <td>soc</td>\n",
       "      <td>soc</td>\n",
       "      <td>soc</td>\n",
       "      <td>3962</td>\n",
       "      <td>...</td>\n",
       "      <td>4464</td>\n",
       "      <td>HM_VCVM001_SOUNDFOC_20190713_1___1_23_10_532</td>\n",
       "      <td>0</td>\n",
       "      <td>1</td>\n",
       "      <td>yes</td>\n",
       "      <td>soc</td>\n",
       "      <td>[soc]</td>\n",
       "      <td>yes</td>\n",
       "      <td>3</td>\n",
       "      <td>hyb:cc_soc</td>\n",
       "    </tr>\n",
       "    <tr>\n",
       "      <th>4</th>\n",
       "      <td>fu s+ld *</td>\n",
       "      <td>hyb</td>\n",
       "      <td>sn</td>\n",
       "      <td>ld</td>\n",
       "      <td>soc</td>\n",
       "      <td>agg</td>\n",
       "      <td>al</td>\n",
       "      <td>al</td>\n",
       "      <td>cc</td>\n",
       "      <td>3869</td>\n",
       "      <td>...</td>\n",
       "      <td>5722</td>\n",
       "      <td>HM_VCVM001_SOUNDFOC_20190713_1___1_47_37_696</td>\n",
       "      <td>0</td>\n",
       "      <td>0</td>\n",
       "      <td>no</td>\n",
       "      <td>al</td>\n",
       "      <td>[al]</td>\n",
       "      <td>no</td>\n",
       "      <td>4</td>\n",
       "      <td>hyb:sn_ld</td>\n",
       "    </tr>\n",
       "    <tr>\n",
       "      <th>...</th>\n",
       "      <td>...</td>\n",
       "      <td>...</td>\n",
       "      <td>...</td>\n",
       "      <td>...</td>\n",
       "      <td>...</td>\n",
       "      <td>...</td>\n",
       "      <td>...</td>\n",
       "      <td>...</td>\n",
       "      <td>...</td>\n",
       "      <td>...</td>\n",
       "      <td>...</td>\n",
       "      <td>...</td>\n",
       "      <td>...</td>\n",
       "      <td>...</td>\n",
       "      <td>...</td>\n",
       "      <td>...</td>\n",
       "      <td>...</td>\n",
       "      <td>...</td>\n",
       "      <td>...</td>\n",
       "      <td>...</td>\n",
       "      <td>...</td>\n",
       "    </tr>\n",
       "    <tr>\n",
       "      <th>732</th>\n",
       "      <td>fu mov+ld</td>\n",
       "      <td>hyb</td>\n",
       "      <td>mo</td>\n",
       "      <td>ld</td>\n",
       "      <td>sn</td>\n",
       "      <td>sn</td>\n",
       "      <td>sn</td>\n",
       "      <td>sn</td>\n",
       "      <td>sn</td>\n",
       "      <td>3239</td>\n",
       "      <td>...</td>\n",
       "      <td>694</td>\n",
       "      <td>HM_VHMM023_MBLS_R02_20190707-20190719_file_9_(...</td>\n",
       "      <td>0</td>\n",
       "      <td>0</td>\n",
       "      <td>yes</td>\n",
       "      <td>sn</td>\n",
       "      <td>[sn]</td>\n",
       "      <td>no</td>\n",
       "      <td>732</td>\n",
       "      <td>hyb:mo_ld</td>\n",
       "    </tr>\n",
       "    <tr>\n",
       "      <th>733</th>\n",
       "      <td>fu cc+agg.//</td>\n",
       "      <td>hyb</td>\n",
       "      <td>cc</td>\n",
       "      <td>agg</td>\n",
       "      <td>soc</td>\n",
       "      <td>soc</td>\n",
       "      <td>soc</td>\n",
       "      <td>soc</td>\n",
       "      <td>agg</td>\n",
       "      <td>2166</td>\n",
       "      <td>...</td>\n",
       "      <td>2070</td>\n",
       "      <td>HM_VHMM023_MBLS_R02_20190707-20190719_file_9_(...</td>\n",
       "      <td>0</td>\n",
       "      <td>1</td>\n",
       "      <td>no</td>\n",
       "      <td>soc</td>\n",
       "      <td>[soc]</td>\n",
       "      <td>no</td>\n",
       "      <td>733</td>\n",
       "      <td>hyb:cc_agg</td>\n",
       "    </tr>\n",
       "    <tr>\n",
       "      <th>734</th>\n",
       "      <td>fu soc+agg *</td>\n",
       "      <td>hyb</td>\n",
       "      <td>soc</td>\n",
       "      <td>agg</td>\n",
       "      <td>agg</td>\n",
       "      <td>soc</td>\n",
       "      <td>mo</td>\n",
       "      <td>soc</td>\n",
       "      <td>agg</td>\n",
       "      <td>1298</td>\n",
       "      <td>...</td>\n",
       "      <td>4261</td>\n",
       "      <td>HM_VHMM023_MBLS_R02_20190707-20190719_file_9_(...</td>\n",
       "      <td>1</td>\n",
       "      <td>1</td>\n",
       "      <td>no</td>\n",
       "      <td>soc</td>\n",
       "      <td>[agg, soc]</td>\n",
       "      <td>yes</td>\n",
       "      <td>734</td>\n",
       "      <td>hyb:soc_agg</td>\n",
       "    </tr>\n",
       "    <tr>\n",
       "      <th>735</th>\n",
       "      <td>fu soc+agg *</td>\n",
       "      <td>hyb</td>\n",
       "      <td>soc</td>\n",
       "      <td>agg</td>\n",
       "      <td>agg</td>\n",
       "      <td>al</td>\n",
       "      <td>al</td>\n",
       "      <td>al</td>\n",
       "      <td>al</td>\n",
       "      <td>4510</td>\n",
       "      <td>...</td>\n",
       "      <td>117</td>\n",
       "      <td>HM_VHMM023_MBLS_R02_20190707-20190719_file_9_(...</td>\n",
       "      <td>0</td>\n",
       "      <td>1</td>\n",
       "      <td>no</td>\n",
       "      <td>al</td>\n",
       "      <td>[al]</td>\n",
       "      <td>no</td>\n",
       "      <td>735</td>\n",
       "      <td>hyb:soc_agg</td>\n",
       "    </tr>\n",
       "    <tr>\n",
       "      <th>736</th>\n",
       "      <td>fu soc+agg *</td>\n",
       "      <td>hyb</td>\n",
       "      <td>soc</td>\n",
       "      <td>agg</td>\n",
       "      <td>soc</td>\n",
       "      <td>agg</td>\n",
       "      <td>soc</td>\n",
       "      <td>soc</td>\n",
       "      <td>agg</td>\n",
       "      <td>4179</td>\n",
       "      <td>...</td>\n",
       "      <td>2286</td>\n",
       "      <td>HM_VHMM023_MBLS_R02_20190707-20190719_file_9_(...</td>\n",
       "      <td>1</td>\n",
       "      <td>1</td>\n",
       "      <td>no</td>\n",
       "      <td>soc</td>\n",
       "      <td>[soc]</td>\n",
       "      <td>yes</td>\n",
       "      <td>736</td>\n",
       "      <td>hyb:soc_agg</td>\n",
       "    </tr>\n",
       "  </tbody>\n",
       "</table>\n",
       "<p>737 rows × 23 columns</p>\n",
       "</div>"
      ],
      "text/plain": [
       "             Name hybfu_type first_label second_label neighbor_1 neighbor_2  \\\n",
       "0       fu cc+soc        hyb          cc          soc         al        agg   \n",
       "1       fu cc+soc        hyb          cc          soc         sn         al   \n",
       "2       fu cc+soc        hyb          cc          soc         sn         al   \n",
       "3       fu cc+soc        hyb          cc          soc        soc        soc   \n",
       "4       fu s+ld *        hyb          sn           ld        soc        agg   \n",
       "..            ...        ...         ...          ...        ...        ...   \n",
       "732     fu mov+ld        hyb          mo           ld         sn         sn   \n",
       "733  fu cc+agg.//        hyb          cc          agg        soc        soc   \n",
       "734  fu soc+agg *        hyb         soc          agg        agg        soc   \n",
       "735  fu soc+agg *        hyb         soc          agg        agg         al   \n",
       "736  fu soc+agg *        hyb         soc          agg        soc        agg   \n",
       "\n",
       "    neighbor_3 neighbor_4 neighbor_5  neighbor_id_1  ...  neighbor_id_5  \\\n",
       "0           al         al         sn            122  ...            291   \n",
       "1           al         sn         cc           1565  ...           5990   \n",
       "2           al        agg         sn           1255  ...           1243   \n",
       "3          soc        soc        soc           3962  ...           4464   \n",
       "4           al         al         cc           3869  ...           5722   \n",
       "..         ...        ...        ...            ...  ...            ...   \n",
       "732         sn         sn         sn           3239  ...            694   \n",
       "733        soc        soc        agg           2166  ...           2070   \n",
       "734         mo        soc        agg           1298  ...           4261   \n",
       "735         al         al         al           4510  ...            117   \n",
       "736        soc        soc        agg           4179  ...           2286   \n",
       "\n",
       "                                                callID  both_in_neighbors  \\\n",
       "0         HM_VCVM001_SOUNDFOC_20190713_1___1_05_01_660                  0   \n",
       "1         HM_VCVM001_SOUNDFOC_20190713_1___1_05_24_959                  0   \n",
       "2         HM_VCVM001_SOUNDFOC_20190713_1___1_05_26_885                  0   \n",
       "3         HM_VCVM001_SOUNDFOC_20190713_1___1_23_10_532                  0   \n",
       "4         HM_VCVM001_SOUNDFOC_20190713_1___1_47_37_696                  0   \n",
       "..                                                 ...                ...   \n",
       "732  HM_VHMM023_MBLS_R02_20190707-20190719_file_9_(...                  0   \n",
       "733  HM_VHMM023_MBLS_R02_20190707-20190719_file_9_(...                  0   \n",
       "734  HM_VHMM023_MBLS_R02_20190707-20190719_file_9_(...                  1   \n",
       "735  HM_VHMM023_MBLS_R02_20190707-20190719_file_9_(...                  0   \n",
       "736  HM_VHMM023_MBLS_R02_20190707-20190719_file_9_(...                  1   \n",
       "\n",
       "     any_in_neighbors pure_nbrhood  in_majority  majorityvote  \\\n",
       "0                   0           no           al          [al]   \n",
       "1                   1           no          tie      [sn, al]   \n",
       "2                   0           no          tie      [sn, al]   \n",
       "3                   1          yes          soc         [soc]   \n",
       "4                   0           no           al          [al]   \n",
       "..                ...          ...          ...           ...   \n",
       "732                 0          yes           sn          [sn]   \n",
       "733                 1           no          soc         [soc]   \n",
       "734                 1           no          soc    [agg, soc]   \n",
       "735                 1           no           al          [al]   \n",
       "736                 1           no          soc         [soc]   \n",
       "\n",
       "    majority_in_label hybfu_rownum  hybfu_label  \n",
       "0                  no            0   hyb:cc_soc  \n",
       "1                 tie            1   hyb:cc_soc  \n",
       "2                 tie            2   hyb:cc_soc  \n",
       "3                 yes            3   hyb:cc_soc  \n",
       "4                  no            4    hyb:sn_ld  \n",
       "..                ...          ...          ...  \n",
       "732                no          732    hyb:mo_ld  \n",
       "733                no          733   hyb:cc_agg  \n",
       "734               yes          734  hyb:soc_agg  \n",
       "735                no          735  hyb:soc_agg  \n",
       "736               yes          736  hyb:soc_agg  \n",
       "\n",
       "[737 rows x 23 columns]"
      ]
     },
     "execution_count": 109,
     "metadata": {},
     "output_type": "execute_result"
    }
   ],
   "source": [
    "hybfu_classi"
   ]
  },
  {
   "cell_type": "code",
   "execution_count": 44,
   "metadata": {},
   "outputs": [
    {
     "data": {
      "text/plain": [
       "array([297, 233, 117, 322, 457])"
      ]
     },
     "execution_count": 44,
     "metadata": {},
     "output_type": "execute_result"
    }
   ],
   "source": [
    "param = 'no'\n",
    "subset = hybfu_classi.loc[hybfu_classi['majority_in_label']==param,:]\n",
    "examples = subset.sample(n=5, replace=False, random_state=2204)\n",
    "examples\n",
    "examples.index.values"
   ]
  },
  {
   "cell_type": "code",
   "execution_count": 45,
   "metadata": {},
   "outputs": [
    {
     "data": {
      "text/html": [
       "<div>\n",
       "<style scoped>\n",
       "    .dataframe tbody tr th:only-of-type {\n",
       "        vertical-align: middle;\n",
       "    }\n",
       "\n",
       "    .dataframe tbody tr th {\n",
       "        vertical-align: top;\n",
       "    }\n",
       "\n",
       "    .dataframe thead th {\n",
       "        text-align: right;\n",
       "    }\n",
       "</style>\n",
       "<table border=\"1\" class=\"dataframe\">\n",
       "  <thead>\n",
       "    <tr style=\"text-align: right;\">\n",
       "      <th></th>\n",
       "      <th>Name</th>\n",
       "      <th>hybfu_type</th>\n",
       "      <th>first_label</th>\n",
       "      <th>second_label</th>\n",
       "      <th>neighbor_1</th>\n",
       "      <th>neighbor_2</th>\n",
       "      <th>neighbor_3</th>\n",
       "      <th>neighbor_4</th>\n",
       "      <th>neighbor_5</th>\n",
       "      <th>neighbor_id_1</th>\n",
       "      <th>...</th>\n",
       "      <th>neighbor_id_5</th>\n",
       "      <th>callID</th>\n",
       "      <th>both_in_neighbors</th>\n",
       "      <th>any_in_neighbors</th>\n",
       "      <th>pure_nbrhood</th>\n",
       "      <th>in_majority</th>\n",
       "      <th>majorityvote</th>\n",
       "      <th>majority_in_label</th>\n",
       "      <th>hybfu_rownum</th>\n",
       "      <th>hybfu_label</th>\n",
       "    </tr>\n",
       "  </thead>\n",
       "  <tbody>\n",
       "    <tr>\n",
       "      <th>0</th>\n",
       "      <td>fu cc+soc</td>\n",
       "      <td>hyb</td>\n",
       "      <td>cc</td>\n",
       "      <td>soc</td>\n",
       "      <td>al</td>\n",
       "      <td>agg</td>\n",
       "      <td>al</td>\n",
       "      <td>al</td>\n",
       "      <td>sn</td>\n",
       "      <td>122</td>\n",
       "      <td>...</td>\n",
       "      <td>291</td>\n",
       "      <td>HM_VCVM001_SOUNDFOC_20190713_1___1_05_01_660</td>\n",
       "      <td>0</td>\n",
       "      <td>0</td>\n",
       "      <td>no</td>\n",
       "      <td>al</td>\n",
       "      <td>[al]</td>\n",
       "      <td>no</td>\n",
       "      <td>0</td>\n",
       "      <td>hyb:cc_soc</td>\n",
       "    </tr>\n",
       "    <tr>\n",
       "      <th>1</th>\n",
       "      <td>fu cc+soc</td>\n",
       "      <td>hyb</td>\n",
       "      <td>cc</td>\n",
       "      <td>soc</td>\n",
       "      <td>sn</td>\n",
       "      <td>al</td>\n",
       "      <td>al</td>\n",
       "      <td>sn</td>\n",
       "      <td>cc</td>\n",
       "      <td>1565</td>\n",
       "      <td>...</td>\n",
       "      <td>5990</td>\n",
       "      <td>HM_VCVM001_SOUNDFOC_20190713_1___1_05_24_959</td>\n",
       "      <td>0</td>\n",
       "      <td>1</td>\n",
       "      <td>no</td>\n",
       "      <td>tie</td>\n",
       "      <td>[sn, al]</td>\n",
       "      <td>tie</td>\n",
       "      <td>1</td>\n",
       "      <td>hyb:cc_soc</td>\n",
       "    </tr>\n",
       "    <tr>\n",
       "      <th>2</th>\n",
       "      <td>fu cc+soc</td>\n",
       "      <td>hyb</td>\n",
       "      <td>cc</td>\n",
       "      <td>soc</td>\n",
       "      <td>sn</td>\n",
       "      <td>al</td>\n",
       "      <td>al</td>\n",
       "      <td>agg</td>\n",
       "      <td>sn</td>\n",
       "      <td>1255</td>\n",
       "      <td>...</td>\n",
       "      <td>1243</td>\n",
       "      <td>HM_VCVM001_SOUNDFOC_20190713_1___1_05_26_885</td>\n",
       "      <td>0</td>\n",
       "      <td>0</td>\n",
       "      <td>no</td>\n",
       "      <td>tie</td>\n",
       "      <td>[sn, al]</td>\n",
       "      <td>tie</td>\n",
       "      <td>2</td>\n",
       "      <td>hyb:cc_soc</td>\n",
       "    </tr>\n",
       "    <tr>\n",
       "      <th>3</th>\n",
       "      <td>fu cc+soc</td>\n",
       "      <td>hyb</td>\n",
       "      <td>cc</td>\n",
       "      <td>soc</td>\n",
       "      <td>soc</td>\n",
       "      <td>soc</td>\n",
       "      <td>soc</td>\n",
       "      <td>soc</td>\n",
       "      <td>soc</td>\n",
       "      <td>3962</td>\n",
       "      <td>...</td>\n",
       "      <td>4464</td>\n",
       "      <td>HM_VCVM001_SOUNDFOC_20190713_1___1_23_10_532</td>\n",
       "      <td>0</td>\n",
       "      <td>1</td>\n",
       "      <td>yes</td>\n",
       "      <td>soc</td>\n",
       "      <td>[soc]</td>\n",
       "      <td>yes</td>\n",
       "      <td>3</td>\n",
       "      <td>hyb:cc_soc</td>\n",
       "    </tr>\n",
       "    <tr>\n",
       "      <th>4</th>\n",
       "      <td>fu s+ld *</td>\n",
       "      <td>hyb</td>\n",
       "      <td>sn</td>\n",
       "      <td>ld</td>\n",
       "      <td>soc</td>\n",
       "      <td>agg</td>\n",
       "      <td>al</td>\n",
       "      <td>al</td>\n",
       "      <td>cc</td>\n",
       "      <td>3869</td>\n",
       "      <td>...</td>\n",
       "      <td>5722</td>\n",
       "      <td>HM_VCVM001_SOUNDFOC_20190713_1___1_47_37_696</td>\n",
       "      <td>0</td>\n",
       "      <td>0</td>\n",
       "      <td>no</td>\n",
       "      <td>al</td>\n",
       "      <td>[al]</td>\n",
       "      <td>no</td>\n",
       "      <td>4</td>\n",
       "      <td>hyb:sn_ld</td>\n",
       "    </tr>\n",
       "    <tr>\n",
       "      <th>...</th>\n",
       "      <td>...</td>\n",
       "      <td>...</td>\n",
       "      <td>...</td>\n",
       "      <td>...</td>\n",
       "      <td>...</td>\n",
       "      <td>...</td>\n",
       "      <td>...</td>\n",
       "      <td>...</td>\n",
       "      <td>...</td>\n",
       "      <td>...</td>\n",
       "      <td>...</td>\n",
       "      <td>...</td>\n",
       "      <td>...</td>\n",
       "      <td>...</td>\n",
       "      <td>...</td>\n",
       "      <td>...</td>\n",
       "      <td>...</td>\n",
       "      <td>...</td>\n",
       "      <td>...</td>\n",
       "      <td>...</td>\n",
       "      <td>...</td>\n",
       "    </tr>\n",
       "    <tr>\n",
       "      <th>732</th>\n",
       "      <td>fu mov+ld</td>\n",
       "      <td>hyb</td>\n",
       "      <td>mo</td>\n",
       "      <td>ld</td>\n",
       "      <td>sn</td>\n",
       "      <td>sn</td>\n",
       "      <td>sn</td>\n",
       "      <td>sn</td>\n",
       "      <td>sn</td>\n",
       "      <td>3239</td>\n",
       "      <td>...</td>\n",
       "      <td>694</td>\n",
       "      <td>HM_VHMM023_MBLS_R02_20190707-20190719_file_9_(...</td>\n",
       "      <td>0</td>\n",
       "      <td>0</td>\n",
       "      <td>yes</td>\n",
       "      <td>sn</td>\n",
       "      <td>[sn]</td>\n",
       "      <td>no</td>\n",
       "      <td>732</td>\n",
       "      <td>hyb:mo_ld</td>\n",
       "    </tr>\n",
       "    <tr>\n",
       "      <th>733</th>\n",
       "      <td>fu cc+agg.//</td>\n",
       "      <td>hyb</td>\n",
       "      <td>cc</td>\n",
       "      <td>agg</td>\n",
       "      <td>soc</td>\n",
       "      <td>soc</td>\n",
       "      <td>soc</td>\n",
       "      <td>soc</td>\n",
       "      <td>agg</td>\n",
       "      <td>2166</td>\n",
       "      <td>...</td>\n",
       "      <td>2070</td>\n",
       "      <td>HM_VHMM023_MBLS_R02_20190707-20190719_file_9_(...</td>\n",
       "      <td>0</td>\n",
       "      <td>1</td>\n",
       "      <td>no</td>\n",
       "      <td>soc</td>\n",
       "      <td>[soc]</td>\n",
       "      <td>no</td>\n",
       "      <td>733</td>\n",
       "      <td>hyb:cc_agg</td>\n",
       "    </tr>\n",
       "    <tr>\n",
       "      <th>734</th>\n",
       "      <td>fu soc+agg *</td>\n",
       "      <td>hyb</td>\n",
       "      <td>soc</td>\n",
       "      <td>agg</td>\n",
       "      <td>agg</td>\n",
       "      <td>soc</td>\n",
       "      <td>mo</td>\n",
       "      <td>soc</td>\n",
       "      <td>agg</td>\n",
       "      <td>1298</td>\n",
       "      <td>...</td>\n",
       "      <td>4261</td>\n",
       "      <td>HM_VHMM023_MBLS_R02_20190707-20190719_file_9_(...</td>\n",
       "      <td>1</td>\n",
       "      <td>1</td>\n",
       "      <td>no</td>\n",
       "      <td>soc</td>\n",
       "      <td>[agg, soc]</td>\n",
       "      <td>yes</td>\n",
       "      <td>734</td>\n",
       "      <td>hyb:soc_agg</td>\n",
       "    </tr>\n",
       "    <tr>\n",
       "      <th>735</th>\n",
       "      <td>fu soc+agg *</td>\n",
       "      <td>hyb</td>\n",
       "      <td>soc</td>\n",
       "      <td>agg</td>\n",
       "      <td>agg</td>\n",
       "      <td>al</td>\n",
       "      <td>al</td>\n",
       "      <td>al</td>\n",
       "      <td>al</td>\n",
       "      <td>4510</td>\n",
       "      <td>...</td>\n",
       "      <td>117</td>\n",
       "      <td>HM_VHMM023_MBLS_R02_20190707-20190719_file_9_(...</td>\n",
       "      <td>0</td>\n",
       "      <td>1</td>\n",
       "      <td>no</td>\n",
       "      <td>al</td>\n",
       "      <td>[al]</td>\n",
       "      <td>no</td>\n",
       "      <td>735</td>\n",
       "      <td>hyb:soc_agg</td>\n",
       "    </tr>\n",
       "    <tr>\n",
       "      <th>736</th>\n",
       "      <td>fu soc+agg *</td>\n",
       "      <td>hyb</td>\n",
       "      <td>soc</td>\n",
       "      <td>agg</td>\n",
       "      <td>soc</td>\n",
       "      <td>agg</td>\n",
       "      <td>soc</td>\n",
       "      <td>soc</td>\n",
       "      <td>agg</td>\n",
       "      <td>4179</td>\n",
       "      <td>...</td>\n",
       "      <td>2286</td>\n",
       "      <td>HM_VHMM023_MBLS_R02_20190707-20190719_file_9_(...</td>\n",
       "      <td>1</td>\n",
       "      <td>1</td>\n",
       "      <td>no</td>\n",
       "      <td>soc</td>\n",
       "      <td>[soc]</td>\n",
       "      <td>yes</td>\n",
       "      <td>736</td>\n",
       "      <td>hyb:soc_agg</td>\n",
       "    </tr>\n",
       "  </tbody>\n",
       "</table>\n",
       "<p>737 rows × 23 columns</p>\n",
       "</div>"
      ],
      "text/plain": [
       "             Name hybfu_type first_label second_label neighbor_1 neighbor_2  \\\n",
       "0       fu cc+soc        hyb          cc          soc         al        agg   \n",
       "1       fu cc+soc        hyb          cc          soc         sn         al   \n",
       "2       fu cc+soc        hyb          cc          soc         sn         al   \n",
       "3       fu cc+soc        hyb          cc          soc        soc        soc   \n",
       "4       fu s+ld *        hyb          sn           ld        soc        agg   \n",
       "..            ...        ...         ...          ...        ...        ...   \n",
       "732     fu mov+ld        hyb          mo           ld         sn         sn   \n",
       "733  fu cc+agg.//        hyb          cc          agg        soc        soc   \n",
       "734  fu soc+agg *        hyb         soc          agg        agg        soc   \n",
       "735  fu soc+agg *        hyb         soc          agg        agg         al   \n",
       "736  fu soc+agg *        hyb         soc          agg        soc        agg   \n",
       "\n",
       "    neighbor_3 neighbor_4 neighbor_5  neighbor_id_1  ...  neighbor_id_5  \\\n",
       "0           al         al         sn            122  ...            291   \n",
       "1           al         sn         cc           1565  ...           5990   \n",
       "2           al        agg         sn           1255  ...           1243   \n",
       "3          soc        soc        soc           3962  ...           4464   \n",
       "4           al         al         cc           3869  ...           5722   \n",
       "..         ...        ...        ...            ...  ...            ...   \n",
       "732         sn         sn         sn           3239  ...            694   \n",
       "733        soc        soc        agg           2166  ...           2070   \n",
       "734         mo        soc        agg           1298  ...           4261   \n",
       "735         al         al         al           4510  ...            117   \n",
       "736        soc        soc        agg           4179  ...           2286   \n",
       "\n",
       "                                                callID  both_in_neighbors  \\\n",
       "0         HM_VCVM001_SOUNDFOC_20190713_1___1_05_01_660                  0   \n",
       "1         HM_VCVM001_SOUNDFOC_20190713_1___1_05_24_959                  0   \n",
       "2         HM_VCVM001_SOUNDFOC_20190713_1___1_05_26_885                  0   \n",
       "3         HM_VCVM001_SOUNDFOC_20190713_1___1_23_10_532                  0   \n",
       "4         HM_VCVM001_SOUNDFOC_20190713_1___1_47_37_696                  0   \n",
       "..                                                 ...                ...   \n",
       "732  HM_VHMM023_MBLS_R02_20190707-20190719_file_9_(...                  0   \n",
       "733  HM_VHMM023_MBLS_R02_20190707-20190719_file_9_(...                  0   \n",
       "734  HM_VHMM023_MBLS_R02_20190707-20190719_file_9_(...                  1   \n",
       "735  HM_VHMM023_MBLS_R02_20190707-20190719_file_9_(...                  0   \n",
       "736  HM_VHMM023_MBLS_R02_20190707-20190719_file_9_(...                  1   \n",
       "\n",
       "     any_in_neighbors pure_nbrhood  in_majority  majorityvote  \\\n",
       "0                   0           no           al          [al]   \n",
       "1                   1           no          tie      [sn, al]   \n",
       "2                   0           no          tie      [sn, al]   \n",
       "3                   1          yes          soc         [soc]   \n",
       "4                   0           no           al          [al]   \n",
       "..                ...          ...          ...           ...   \n",
       "732                 0          yes           sn          [sn]   \n",
       "733                 1           no          soc         [soc]   \n",
       "734                 1           no          soc    [agg, soc]   \n",
       "735                 1           no           al          [al]   \n",
       "736                 1           no          soc         [soc]   \n",
       "\n",
       "    majority_in_label hybfu_rownum  hybfu_label  \n",
       "0                  no            0   hyb:cc_soc  \n",
       "1                 tie            1   hyb:cc_soc  \n",
       "2                 tie            2   hyb:cc_soc  \n",
       "3                 yes            3   hyb:cc_soc  \n",
       "4                  no            4    hyb:sn_ld  \n",
       "..                ...          ...          ...  \n",
       "732                no          732    hyb:mo_ld  \n",
       "733                no          733   hyb:cc_agg  \n",
       "734               yes          734  hyb:soc_agg  \n",
       "735                no          735  hyb:soc_agg  \n",
       "736               yes          736  hyb:soc_agg  \n",
       "\n",
       "[737 rows x 23 columns]"
      ]
     },
     "execution_count": 45,
     "metadata": {},
     "output_type": "execute_result"
    }
   ],
   "source": [
    "hybfu_classi"
   ]
  },
  {
   "cell_type": "code",
   "execution_count": 63,
   "metadata": {
    "colab": {
     "base_uri": "https://localhost:8080/",
     "height": 572
    },
    "executionInfo": {
     "elapsed": 2752,
     "status": "ok",
     "timestamp": 1604006794958,
     "user": {
      "displayName": "Mara Thomas",
      "photoUrl": "",
      "userId": "08285540157542181220"
     },
     "user_tz": -60
    },
    "id": "h3fumWSx_VOJ",
    "outputId": "bfb113d0-a346-4c76-cab0-d7473496564f"
   },
   "outputs": [
    {
     "data": {
      "image/png": "[encoded data removed]",
      "text/plain": [
       "<Figure size 864x576 with 30 Axes>"
      ]
     },
     "metadata": {
      "needs_background": "light"
     },
     "output_type": "display_data"
    }
   ],
   "source": [
    "# Visualize examples\n",
    "param = 'no'\n",
    "subset = hybfu_classi.loc[hybfu_classi['majority_in_label']==param,:]\n",
    "examples = subset.sample(n=5, replace=False, random_state=2204)\n",
    "\n",
    "hybfu_rownums = examples.index.values\n",
    "hybfu_specs = [df_hybfu.iloc[x, :].spectrograms for x in hybfu_rownums]\n",
    "hybfu_labels = [x.replace('fu ', 'hyb:') for x in examples.Name.values]\n",
    "hybfu_labels = [x.replace('+', '_') for x in hybfu_labels]\n",
    "examples.reset_index(inplace=True)\n",
    "\n",
    "plt.figure(figsize=(12, 8))\n",
    "k=1\n",
    "for i,hybfu_spec in enumerate(hybfu_specs):\n",
    "    plt.subplot(5, 6, k)\n",
    "    plt.imshow(hybfu_spec, interpolation='nearest', origin='lower', aspect='equal')\n",
    "    plt.axis('off')\n",
    "    plt.title(hybfu_labels[i])\n",
    "    k=k+1\n",
    "    neighbor_rownums = [examples.loc[i,'neighbor_id_'+str(x)] for x in [1,2,3,4,5]]\n",
    "    neighbor_specs = [df.loc[nb_rn, 'denoised_spectrograms'] for nb_rn in neighbor_rownums]\n",
    "    neighbor_labels = [df.loc[nb_rn, 'call_lable'] for nb_rn in neighbor_rownums]\n",
    "\n",
    "    for nb_spec, nb_label in zip(neighbor_specs, neighbor_labels):\n",
    "        plt.subplot(5, 6, k)\n",
    "        plt.imshow(nb_spec, interpolation='nearest', origin='lower', aspect='equal')\n",
    "        plt.title(nb_label)\n",
    "        plt.axis('off') \n",
    "        k=k+1\n",
    "\n",
    "plt.tight_layout()\n",
    "#plt.savefig(os.path.join(os.path.sep,FIGURES,'mvote_'+param+'_examples.png'), facecolor=\"white\")"
   ]
  },
  {
   "cell_type": "code",
   "execution_count": 50,
   "metadata": {},
   "outputs": [],
   "source": [
    "import librosa"
   ]
  },
  {
   "cell_type": "code",
   "execution_count": 58,
   "metadata": {},
   "outputs": [
    {
     "data": {
      "text/plain": [
       "array(['fu cc+agg', 'fu cc+agg', 'fu mov+s', 'fu mov+s', 'fu mo+ld'],\n",
       "      dtype=object)"
      ]
     },
     "execution_count": 58,
     "metadata": {},
     "output_type": "execute_result"
    }
   ],
   "source": [
    "hybfu_labels"
   ]
  },
  {
   "cell_type": "code",
   "execution_count": 64,
   "metadata": {},
   "outputs": [
    {
     "data": {
      "image/png": "[encoded data removed]",
      "text/plain": [
       "<Figure size 864x576 with 30 Axes>"
      ]
     },
     "metadata": {
      "needs_background": "light"
     },
     "output_type": "display_data"
    }
   ],
   "source": [
    "freq_label_list = ['512', '1024', '2048']\n",
    "major_tick_interval = 20\n",
    "rotate_x = 0\n",
    "f_to_s = 0.00375\n",
    "\n",
    "FFT_WIN = 0.03 # FFT_WIN*samplerate = length of fft/n_fft (number of audio frames that go in one fft)\n",
    "FFT_HOP = FFT_WIN/8\n",
    "ASPECT = 1\n",
    "\n",
    "# Visualize examples\n",
    "param = 'no'\n",
    "subset = hybfu_classi.loc[hybfu_classi['majority_in_label']==param,:]\n",
    "examples = subset.sample(n=5, replace=False, random_state=2204)\n",
    "\n",
    "hybfu_rownums = examples.index.values\n",
    "hybfu_specs = [df_hybfu.iloc[x, :].spectrograms for x in hybfu_rownums]\n",
    "hybfu_srs = [df_hybfu.iloc[x, :].samplerate_hz for x in hybfu_rownums]\n",
    "hybfu_labels = [x.replace('fu ', 'hyb:') for x in examples.Name.values]\n",
    "hybfu_labels = [x.replace('+', '_') for x in hybfu_labels]\n",
    "examples.reset_index(inplace=True)\n",
    "\n",
    "plt.figure(figsize=(12, 8))\n",
    "k=1\n",
    "\n",
    "for i,hybfu_spec in enumerate(hybfu_specs):\n",
    "\n",
    "    plt.subplot(5, 6, k)\n",
    "    sr = hybfu_srs[i]\n",
    "    \n",
    "    plt.imshow(hybfu_spec, interpolation='nearest', origin='lower', aspect=ASPECT)\n",
    "    ax = plt.gca()\n",
    "    ax.set_anchor('W')\n",
    "        \n",
    "    librosa.frames_to_time(np.arange(0,hybfu_spec.shape[1],1),sr=sr, hop_length=int(FFT_HOP * sr))\n",
    "        \n",
    "    major_xticks = np.arange(0,hybfu_spec.shape[1], major_tick_interval) \n",
    "    major_xtick_labels = [\"\" for x in major_xticks]\n",
    "        \n",
    "    major_yticks = [10,20,30]\n",
    "    major_ytick_labels = [\"\" for x in major_yticks]\n",
    "\n",
    "\n",
    "    major_ytick_labels = freq_label_list\n",
    "    plt.ylabel('Hz')\n",
    "    \n",
    "    if k>24:\n",
    "        major_xtick_labels = [round(x*f_to_s,2) for x in major_xticks]\n",
    "        plt.xlabel('Time (s)')\n",
    "        \n",
    "    plt.xticks(major_xticks, major_xtick_labels, rotation=rotate_x)\n",
    "    plt.yticks(major_yticks, major_ytick_labels)             \n",
    "    plt.title(hybfu_labels[i])\n",
    "    k=k+1\n",
    "    \n",
    "    neighbor_rownums = [examples.loc[i,'neighbor_id_'+str(x)] for x in [1,2,3,4,5]]\n",
    "    neighbor_specs = [df.loc[nb_rn, 'denoised_spectrograms'] for nb_rn in neighbor_rownums]\n",
    "    neighbor_labels = [df.loc[nb_rn, 'call_lable'] for nb_rn in neighbor_rownums]\n",
    "    neighbor_srs = [df.loc[nb_rn, 'samplerate_hz'] for nb_rn in neighbor_rownums]\n",
    "\n",
    "    for nb_spec, nb_label, nb_sr in zip(neighbor_specs, neighbor_labels, neighbor_srs):\n",
    "        plt.subplot(5, 6, k)\n",
    "        plt.imshow(nb_spec, interpolation='nearest', origin='lower', aspect=ASPECT)\n",
    "        ax = plt.gca()\n",
    "        ax.set_anchor('W')\n",
    "        librosa.frames_to_time(np.arange(0,nb_spec.shape[1],1),sr=nb_sr, hop_length=int(FFT_HOP * sr))\n",
    "        \n",
    "        major_xticks = np.arange(0,nb_spec.shape[1], major_tick_interval)  \n",
    "        major_xtick_labels = [\"\" for x in major_xticks]\n",
    "        \n",
    "        major_yticks = [10,20,30]\n",
    "        major_ytick_labels = [\"\" for x in major_yticks]\n",
    "        \n",
    "        if k>24:\n",
    "            major_xtick_labels = [round(x*f_to_s,2) for x in major_xticks]\n",
    "            plt.xlabel('Time (s)')\n",
    "        \n",
    "        plt.xticks(major_xticks, major_xtick_labels, rotation=rotate_x)\n",
    "        plt.yticks(major_yticks, major_ytick_labels) \n",
    "        \n",
    "        plt.title(nb_label)\n",
    "\n",
    "        k=k+1\n",
    "\n",
    "plt.tight_layout()\n",
    "plt.savefig(os.path.join(os.path.sep,FIGURES,'mvote_'+param+'_examples_w_axes.png'), facecolor=\"white\")"
   ]
  },
  {
   "cell_type": "code",
   "execution_count": null,
   "metadata": {},
   "outputs": [],
   "source": []
  }
 ],
 "metadata": {
  "colab": {
   "authorship_tag": "ABX9TyN9cqQWHShOhtvUga/Db8RF",
   "name": "06_meerkat_hyb_fu.ipynb",
   "provenance": [],
   "toc_visible": true
  },
  "kernelspec": {
   "display_name": "Python 3",
   "language": "python",
   "name": "python3"
  },
  "language_info": {
   "codemirror_mode": {
    "name": "ipython",
    "version": 3
   },
   "file_extension": ".py",
   "mimetype": "text/x-python",
   "name": "python",
   "nbconvert_exporter": "python",
   "pygments_lexer": "ipython3",
   "version": "3.7.10"
  }
 },
 "nbformat": 4,
 "nbformat_minor": 4
}
