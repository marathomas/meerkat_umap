{
 "cells": [
  {
   "cell_type": "markdown",
   "metadata": {
    "id": "ObimIqrg4wDd"
   },
   "source": [
    "# Introduction\n",
    "\n",
    "Reading in wav files containing meerkat vocalisations and csv files containing the respective labeling and transforming them into different types of spectrograms. Wav files contain many vocalizations and periods of silence, and label files (CSV) indicate at what time vocalisations occur (and what type of vocalisation they are). The result is a dataframe with n_rows = number of vocalisations, metadata and different spectrogram versions (denoised, denoised_stretched, stretched, ...). What I need are spectrograms for each meerkaat vocalization. "
   ]
  },
  {
   "cell_type": "markdown",
   "metadata": {
    "id": "SC7ORuA28opQ"
   },
   "source": [
    "## Prerequisites\n",
    "\n",
    "- Project folder should already exist, save path as PROJECT_PATH\n",
    "- Project folder must contain subfolder called \"in_labels\", containing all label tables in csv format \n",
    "- Project folder must contain subfolder called \"in_wavs\", containing all audio files"
   ]
  },
  {
   "cell_type": "markdown",
   "metadata": {
    "id": "iftLETTORBW2"
   },
   "source": [
    "### Mounting drive"
   ]
  },
  {
   "cell_type": "code",
   "execution_count": 4,
   "metadata": {
    "colab": {
     "base_uri": "https://localhost:8080/"
    },
    "id": "gwlHh6zyNCMz",
    "outputId": "3891ab9c-30b6-4272-992e-4bef69c8f279"
   },
   "outputs": [
    {
     "name": "stdout",
     "output_type": "stream",
     "text": [
      "Mounted at /content/drive\n"
     ]
    }
   ],
   "source": [
    "from google.colab import drive\n",
    "drive.mount('/content/drive')"
   ]
  },
  {
   "cell_type": "markdown",
   "metadata": {
    "id": "RAG0WSngwM5F"
   },
   "source": [
    "or \"Mount Drive\" in Files menu"
   ]
  },
  {
   "cell_type": "markdown",
   "metadata": {
    "id": "TecLeuUBRC57"
   },
   "source": [
    "### Installing and loading libraries"
   ]
  },
  {
   "cell_type": "markdown",
   "metadata": {
    "id": "ExebezW7wqPz"
   },
   "source": [
    "(software installations within Google Colaboratory are not persistent, need to reinstall libraries every time you (re-)connect to an instance)"
   ]
  },
  {
   "cell_type": "code",
   "execution_count": 2,
   "metadata": {
    "colab": {
     "base_uri": "https://localhost:8080/"
    },
    "id": "0F5vdvXWeeZn",
    "outputId": "1e62c21b-44ef-4a95-d911-c359abcf7895"
   },
   "outputs": [
    {
     "name": "stderr",
     "output_type": "stream",
     "text": [
      "/usr/local/lib/python3.7/dist-packages/ipykernel_launcher.py:22: TqdmExperimentalWarning: Using `tqdm.autonotebook.tqdm` in notebook mode. Use `tqdm.tqdm` instead to force console mode (e.g. in jupyter console)\n"
     ]
    }
   ],
   "source": [
    "import os\n",
    "import pandas as pd\n",
    "import sys\n",
    "import re\n",
    "import json\n",
    "import librosa\n",
    "import librosa.display\n",
    "from IPython.display import Audio\n",
    "import numpy as np\n",
    "import statistics\n",
    "import matplotlib.pyplot as plt\n",
    "from datetime import time\n",
    "from datetime import datetime\n",
    "import glob\n",
    "from pandas.core.common import flatten\n",
    "import shutil\n",
    "import pickle\n",
    "os.system('pip install pathlib2') # need to install\n",
    "import pathlib2\n",
    "import psutil\n",
    "import datetime"
   ]
  },
  {
   "cell_type": "markdown",
   "metadata": {
    "id": "rFQH__8fWc2D"
   },
   "source": [
    "### Setting constants"
   ]
  },
  {
   "cell_type": "markdown",
   "metadata": {
    "id": "kHkKwuIE5KRM"
   },
   "source": [
    "Setting project, input and output folders."
   ]
  },
  {
   "cell_type": "code",
   "execution_count": 5,
   "metadata": {
    "id": "CF038oa81Ggw"
   },
   "outputs": [],
   "source": [
    "# these directories should already exist\n",
    "PROJECT_PATH = \"/content/drive/My Drive/meerkat/\" \n",
    "AUDIO_IN = PROJECT_PATH+\"in_wavs/\" \n",
    "LABELS_IN = PROJECT_PATH+\"in_labels/\" \n",
    "\n",
    "# these directories are created during execution\n",
    "LABELS_OUT = PROJECT_PATH+\"labels/\"\n",
    "FIGURES = PROJECT_PATH+\"figures/\"\n",
    "DATA = PROJECT_PATH+\"data/\"\n",
    "IMAGES = PROJECT_PATH+\"SPECTRO_IMAGES/\"\n",
    "\n",
    "dirs2create = [LABELS_OUT, FIGURES, DATA]\n",
    "\n",
    "# Manual encoding of the meerkat_channels for the SOUNDFOC files\n",
    "os.chdir(PROJECT_PATH)\n",
    "MEERKAT_CHANNEL = json.load(open(\"meerkat_channel.json\"))\n"
   ]
  },
  {
   "cell_type": "markdown",
   "metadata": {
    "id": "2kadYPIvQipf"
   },
   "source": [
    "Constants for parsing label files:\n",
    "\n",
    "- column names in labels CSV that indicate start and duration\n",
    "- irrelevant labels that are discarded in the process (labels for beeps, noise, synch calls..)\n",
    "- minimum and maximum call duration in s"
   ]
  },
  {
   "cell_type": "code",
   "execution_count": 6,
   "metadata": {
    "id": "TFBGs1ESQdsl"
   },
   "outputs": [],
   "source": [
    "START_COL = 'Start'\n",
    "DUR_COL = 'Duration'\n",
    "\n",
    "MAX_DURATION=0.5\n",
    "MIN_DURATION = 0.05\n",
    "GROUP = 'HM'\n",
    "\n",
    "# Spectrogramming paramters\n",
    "\n",
    "FFT_WIN = 0.03 # FFT_WIN*samplerate = length of fft/n_fft (number of audio frames that go in one fft)\n",
    "FFT_HOP = FFT_WIN/8 # FFT_HOP*samplerate = n of audio frames between successive ffts\n",
    "N_MELS = 40 # number of mel bins\n",
    "WINDOW = 'hann' # each frame of audio is windowed by a window function (its length can also be\n",
    "# determined and is then padded with zeros to match n_fft. we use window_length = length of fft\n",
    "N_MFCC = 13 # Number of cepstral coefficients"
   ]
  },
  {
   "cell_type": "markdown",
   "metadata": {
    "id": "eongzrt5WleI"
   },
   "source": [
    "### Creating output directories"
   ]
  },
  {
   "cell_type": "code",
   "execution_count": 7,
   "metadata": {
    "id": "AxRshpCmWx4-"
   },
   "outputs": [],
   "source": [
    "os.chdir(PROJECT_PATH)\n",
    "\n",
    "for dirpath in dirs2create:\n",
    "    if not os.path.exists(os.path.basename(dirpath[:-1])):\n",
    "        os.mkdir(os.path.basename(dirpath[:-1]))"
   ]
  },
  {
   "cell_type": "markdown",
   "metadata": {
    "id": "K4SE3XuA5pfl"
   },
   "source": [
    "## Functions"
   ]
  },
  {
   "cell_type": "code",
   "execution_count": 8,
   "metadata": {
    "id": "LFgxTaH116Pr"
   },
   "outputs": [],
   "source": [
    "# removes everything up to the first numeric char\n",
    "def rem_nonnumeric(str): \n",
    "    foundDigit=False\n",
    "    pos=0\n",
    "    for char in str:\n",
    "        if(char.isdigit()):\n",
    "            return(str[pos:])\n",
    "        pos=pos+1\n",
    "    return str \n",
    "\n",
    "# Function that gets fileID from csv filename\n",
    "# Input: csv_filename (not path!) (String)\n",
    "# Output: csv_filename up to the last numeric character\n",
    "def fileID_from_csv_filename(csv_in):\n",
    "    csv_in = csv_in[::-1]  # reverse string\n",
    "    csv_out = rem_nonnumeric(csv_in)\n",
    "    csv_out = csv_out[::-1] # reverse to normal again\n",
    "    return (csv_out)\n",
    "  \n",
    "# Function that gets datatime object from timestring\n",
    "# timestring must match one of the given time_patterns\n",
    "# Input: some string containing a time (String)\n",
    "# Output: datetime object\n",
    "# Example usage: dt = get_time(\"01:02:30.555\")\n",
    "def get_time(timestring):\n",
    "    time_patterns = ['%H:%M:%S.%f', '%M:%S.%f']\n",
    "    for pattern in time_patterns:\n",
    "        try:\n",
    "            return datetime.datetime.strptime(timestring, pattern)\n",
    "        except:\n",
    "            pass\n",
    "\n",
    "    print(\"Date is not in expected format\")\n",
    "    \n",
    "    sys.exit(0)\n",
    "\n",
    "# Function that converts time in datatime object to s \n",
    "# Input: datatime (datatime.datatime)\n",
    "# Output: time in ms (float)\n",
    "# Example usage: s = get_s(datatime_obj)\n",
    "def get_s(dt):\n",
    "    return (dt.microsecond/1000000+dt.second + dt.minute*60 + dt.hour*60*60)\n",
    "\n",
    "# Function to get meerkat ID (alphanumeric string) from filename\n",
    "# filename is always HM_meerkatID_*.extension\n",
    "# Input: filename (String)\n",
    "# Output: meerkat ID (String)\n",
    "# Example use: get_meerkatID('HM_VHMM003_HLT_AUDIO_R12_file_5_(2017_08_06-06_44_59)_ASWMUX221102.wav')\n",
    "\n",
    "def get_meerkatID(filename):\n",
    "    meerkatID = filename.replace(GROUP+'_','')\n",
    "    meerkatID = str.split(meerkatID, sep='_')[0]\n",
    "    return meerkatID\n",
    "\n",
    "# Function to get date from filename\n",
    "# date in filename must be in one of the three patterns\n",
    "# Input: filename (String)\n",
    "# Output: datetime object\n",
    "# Example use: get_datetime('HM_VHMF001_HTB_R20_20190707-20190719_file_9_(2019_07_15-11_44_59)_155944')\n",
    "\n",
    "# NEED TO REWRITE\n",
    "\n",
    "def get_datetime(filename):\n",
    "    match = re.search('\\d{4}-\\d{2}-\\d{2}', filename)\n",
    "    if (match):\n",
    "        #date = datetime.strptime(match.group(), '%Y-%m-%d').date()\n",
    "        date = datetime.datetime.strptime(match.group(), '%Y-%m-%d').date()\n",
    "    else:\n",
    "        match = re.search('\\d{4}_\\d{2}_\\d{2}', filename)\n",
    "        if (match):\n",
    "            #date = datetime.strptime(match.group(), '%Y_%m_%d').date() \n",
    "            date = datetime.datetime.strptime(match.group(), '%Y_%m_%d').date() \n",
    "\n",
    "        else:\n",
    "            match = re.search('\\d{4}\\d{2}\\d{2}', filename)\n",
    "            if(match):\n",
    "                #date = datetime.strptime(match.group(), '%Y%m%d').date()\n",
    "                date = datetime.datetime.strptime(match.group(), '%Y%m%d').date()\n",
    "    return date\n",
    "\n",
    "\n",
    "# Function that produces a labeltable from given csv+wav pairing\n",
    "# Input: csv_file location (String), wav_file location (String), fileID (String)\n",
    "# Output: labeltable (pd dataframe)\n",
    "\n",
    "def prep_labels(csv_loc, wav_loc, fileID):\n",
    "\n",
    "  # read in labels\n",
    "    labels = pd.read_csv(csv_loc, sep=\"\\t\")\n",
    "\n",
    "  # find name of column that contains the labels. Should contain 'Name'\n",
    "    name_col = [col for col in labels.columns if 'Name' in col]\n",
    "    if(len(name_col)==1):\n",
    "        name_col = name_col[0]\n",
    "        #call = [\"n\" if any(s in i for s in IRRELEVANT_LABELS) else \"y\" for i in list(labels[name_col])]\n",
    "        #labels['call_yn'] = call\n",
    "    else:\n",
    "        print(\"Cannot find label name column\")\n",
    "  \n",
    "  # Add start stop s\n",
    "    if (labels.shape[0]!=0):\n",
    "        labels['start_s'] = labels.apply(lambda row: get_s(get_time(row['Start'])), axis=1)\n",
    "        labels['duration_s'] = labels.apply(lambda row: get_s(get_time(row['Duration'])), axis=1)\n",
    "        labels['stop_s'] = labels['start_s']+labels['duration_s']\n",
    "\n",
    "        # Add additional data\n",
    "        labels['date']=[get_datetime(fileID).strftime(\"%Y-%m-%d\")]*labels.shape[0]\n",
    "        labels['samplerate_hz'] = [librosa.get_samplerate(wav_loc)]*labels.shape[0]\n",
    "        labels['indv'] = [get_meerkatID(fileID)]*labels.shape[0]\n",
    "        labels[\"original_wav\"] = [wav_loc]*labels.shape[0]\n",
    "        labels[\"bout_number\"] = [i for i in range(labels.shape[0])]\n",
    "\n",
    "    labels = labels.rename(columns={name_col: 'Name'})\n",
    "\n",
    "    return labels\n",
    "\n",
    "# Function that gets audio data (numpy array of amplitude) from wav\n",
    "# If \"SOUNDFOC\" is in filename, assumes that audio is stereo and \n",
    "# looks up the channel with meerkat vocalizations in MEERKAT_CHANNEL dictionary.\n",
    "# Else assumes mono.\n",
    "# Input: Path to wav file (String),\n",
    "#        offset in s (Float),\n",
    "#        duration in s (Float)\n",
    "# Output: Amplitude (numpy array)\n",
    "\n",
    "def get_audio(wav_loc, start_s, duration_s):\n",
    "  # SOUNDFOCs are stereo\n",
    "    if \"SOUNDFOC\" in wav_loc:\n",
    "        data, rate = librosa.load(wav_loc, offset=start_s, duration=duration_s, sr=None, mono=False)\n",
    "        data = np.asfortranarray(data[MEERKAT_CHANNEL[wav_loc],:])\n",
    "    else:\n",
    "        data, rate = librosa.load(wav_loc, offset=start_s, duration=duration_s, sr=None)\n",
    "\n",
    "    if np.issubdtype(type(data[0]), np.integer):\n",
    "        data = data.astype('float32') # hope this will work\n",
    "        #data = int16_to_float32(data) # this was the original version but must have deleted this function!? \n",
    "    return data\n",
    "\n",
    "\n",
    "# Function that generates mel spectrogram from audio data\n",
    "# Input: data: Audio data (np array of floats), \n",
    "#        rate: samplerate in Hz (integer)\n",
    "#        n_mels: number of mel bands (integer)\n",
    "#        window: spectrogram window generation type (String)\n",
    "#        fft_win: window length in s (float)\n",
    "#        fft_hop: hop between window start in s (float)\n",
    "# Output: Spectrogram (np array of floats)\n",
    "\n",
    "def generate_mel_spectrogram(data, rate, n_mels, window, fft_win , fft_hop):\n",
    "    n_fft  = int(fft_win * rate) \n",
    "    hop_length = int(fft_hop * rate) \n",
    "        \n",
    "    s = librosa.feature.melspectrogram(y = data ,\n",
    "                                       sr = rate, \n",
    "                                       n_mels = n_mels , \n",
    "                                       fmax = 4000, \n",
    "                                       n_fft = n_fft,\n",
    "                                       hop_length = hop_length, \n",
    "                                       window = window, \n",
    "                                       win_length = n_fft)\n",
    "\n",
    "    spectro = librosa.power_to_db(s, ref=np.max)\n",
    "\n",
    "    return spectro"
   ]
  },
  {
   "cell_type": "markdown",
   "metadata": {
    "id": "IjtDjnHLt4ET"
   },
   "source": [
    "## Processing files"
   ]
  },
  {
   "cell_type": "markdown",
   "metadata": {
    "id": "uw0bCcsAOmD9"
   },
   "source": [
    "### Setting variables"
   ]
  },
  {
   "cell_type": "markdown",
   "metadata": {
    "id": "8GcTYb6E_GOg"
   },
   "source": [
    "Getting list of csvs and matching wavs"
   ]
  },
  {
   "cell_type": "code",
   "execution_count": 9,
   "metadata": {
    "id": "jQVZb9G3_BWa"
   },
   "outputs": [],
   "source": [
    "# Getting list of fileIDs, wavs and csvs (fileID, in_wav_loc and in_csv_loc)\n",
    "\n",
    "in_csv_loc = glob.glob(LABELS_IN+'*.csv') + glob.glob(LABELS_IN+'*.CSV')\n",
    "csv_filenames = [os.path.basename(csv) for csv in in_csv_loc]\n",
    "\n",
    "fileIDs = [fileID_from_csv_filename(csv_filename) for csv_filename in csv_filenames]\n",
    "\n",
    "in_wav_loc = [glob.glob(AUDIO_IN+fileID+'*') for fileID in fileIDs] # creates list of lists\n",
    "in_wav_loc = [[\"NA\"] if not x else x for x in in_wav_loc] # Replace empty lists with \"NA\"\n",
    "in_wav_loc = list(flatten(in_wav_loc)) # Flatten list"
   ]
  },
  {
   "cell_type": "markdown",
   "metadata": {
    "id": "u3Kk_BqcsWn2"
   },
   "source": [
    "### Removing bad quality files"
   ]
  },
  {
   "cell_type": "markdown",
   "metadata": {
    "id": "17NrQ_wwuoC6"
   },
   "source": [
    "Removing files with bad quality"
   ]
  },
  {
   "cell_type": "code",
   "execution_count": 11,
   "metadata": {
    "id": "i7u1VkkrymoH"
   },
   "outputs": [],
   "source": [
    "badIDs = ['HM_VHMM007_LT_AUDIO_R11_file_5_(2017_08_06-06_44_59)_ASWMUX221163', \n",
    "           'HM_VHMM006_RT_AUDIO_R14_file_5_(2017_08_06-06_44_59)_ASWMUX221052']"
   ]
  },
  {
   "cell_type": "code",
   "execution_count": 12,
   "metadata": {
    "id": "qgasxnU8tAvk"
   },
   "outputs": [],
   "source": [
    "bad_csvs = [glob.glob(LABELS_IN+fileID+'*') for fileID in badIDs]\n",
    "bad_csvs = list(flatten(bad_csvs))\n",
    "\n",
    "bad_wavs = []\n",
    "for bad_csv in bad_csvs:\n",
    "    bad_wavs.append(in_wav_loc[in_csv_loc.index(bad_csv)])\n",
    "\n",
    "for bad_csv in bad_csvs:\n",
    "    in_csv_loc.remove(bad_csv)\n",
    "for bad_wav in bad_wavs:\n",
    "    in_wav_loc.remove(bad_wav)\n",
    "for badID in badIDs:\n",
    "    fileIDs.remove(badID)\n"
   ]
  },
  {
   "cell_type": "code",
   "execution_count": 13,
   "metadata": {
    "colab": {
     "base_uri": "https://localhost:8080/"
    },
    "id": "61Z03jBryr4L",
    "outputId": "be56ba83-3e82-4072-a4da-51777cd6ce7e"
   },
   "outputs": [
    {
     "name": "stdout",
     "output_type": "stream",
     "text": [
      "114 files remaining\n"
     ]
    }
   ],
   "source": [
    "print(str(len(fileIDs))+\" files remaining\") # all files"
   ]
  },
  {
   "cell_type": "markdown",
   "metadata": {
    "id": "7oYWlOSQjwtV"
   },
   "source": [
    "### Generating label files"
   ]
  },
  {
   "cell_type": "code",
   "execution_count": 14,
   "metadata": {
    "colab": {
     "base_uri": "https://localhost:8080/"
    },
    "id": "6eYCtEhgz8Yu",
    "outputId": "8c9488be-adfa-4fe0-a265-41d92f8e7bbf"
   },
   "outputs": [
    {
     "name": "stdout",
     "output_type": "stream",
     "text": [
      "Processing HM_RT_R12_file_6_(2017_08_25-06_44_59)_ASWMUX221102\n",
      "Processing HM_VLF206_SOUNDFOC_20170825_2\n",
      "Processing HM_VHMM003_SOUNDFOC_20170825_2\n",
      "Processing HM_VHMM003_SOUNDFOC_20170825_3\n",
      "Processing HM_HRT_R09_AUDIO_file_6_(2017_08_25-06_44_59)_ASWMUX221110\n",
      "Processing HM_LT_R07_AUDIO_file_6_(2017_08_25-06_44_59)_ASWMUX221092\n",
      "Processing HM_HTB_R14_file_6_(2017_08_25-06_44_59)_ASWMUX221052\n",
      "Processing HM_PET_R11_20170903-20170908_file_4_(2017_09_05-05_44_59)_ASWMUX221163\n",
      "Processing HM_HMB_R11_AUDIO_file_4_(2017_08_23-06_44_59)_ASWMUX221163\n",
      "Processing HM_RT_R12_file_4_(2017_08_23-06_44_59)_ASWMUX221102\n",
      "Processing HM_VLF206_SOUNDFOC_20170824_1\n",
      "Processing HM_PET_R11_20170903-20170908_file_2_(2017_09_03-05_44_59)_ASWMUX221163\n",
      "Processing HM_HRT_R09_AUDIO_file_5_(2017_08_24-06_44_59)_ASWMUX221110\n",
      "Processing HM_LT_R07_AUDIO_file_4_(2017_08_23-06_44_59)_ASWMUX221092\n",
      "Processing HM_HRT_R09_AUDIO_file_4_(2017_08_23-06_44_59)_ASWMUX221110\n",
      "Processing HM_VLF206_SOUNDFOC_20170823_1\n",
      "Processing HM_RT_R12_file_5_(2017_08_24-06_44_59)_ASWMUX221102\n",
      "Processing HM_LT_R09_20170903-20170908_file_2_(2017_09_03-05_44_59)_ASWMUX221110\n",
      "Processing HM_HRT_R07_20170903-20170908_file_2_(2017_09_03-05_44_59)_ASWMUX221092\n",
      "Processing HM_VHMM003_SOUNDFOC_20170824_2\n",
      "Processing HM_HMB_R11_AUDIO_file_6_(2017_08_25-06_44_59)_ASWMUX221163\n",
      "No wav for HM_VHMM003_SOUNDFOC_20170905_4\n",
      "Processing HM_VLF206_SOUNDFOC_20170825_1\n",
      "Processing HM_PET_R11_20170903-20170908_file_3_(2017_09_04-05_44_59)_ASWMUX221163\n",
      "Processing HM_VHMM002_HRT_AUDIO_R09_file_6_(2017_08_07-06_44_59)_ASWMUX221110\n",
      "Processing HM_VCVM001_SOUNDFOC_20190712_2\n",
      "Processing HM_VCVM001_SOUNDFOC_20190712_1\n",
      "Processing HM_VHMF010_SOUNDFOC_20190712\n",
      "Processing HM_VHMM007_LSLT_R17_20190707-20190719_file_6_(2019_07_12-11_44_59)_125944\n",
      "Processing HM_VHMM007_LSLT_R17_20190707-20190719_file_7_(2019_07_13-11_44_59)_135944\n",
      "Processing HM_VHMM008_SHTB_R14_20190707-20190719_file_7_(2019_07_13-11_44_59)_135944\n",
      "Processing HM_VHMM023_MBLS_R02_20190707-20190719_file_6_(2019_07_12-11_44_59)_125944\n",
      "Processing HM_VHMM023_MBLS_R02_20190707-20190719_file_7_(2019_07_13-11_44_59)_135944\n",
      "Processing HM_VHMF015_RTTB_R05_20190707-20190719_file_6_(2019_07_12-11_44_59)_125944\n",
      "Processing HM_VHMF019_MBTB_R25_20190707-20190719_file_6_(2019_07_12-11_44_59)_125944\n",
      "Processing HM_VHMF022_MBRS_R22_20190707-20190719_file_6_(2019_07_12-11_44_59)_125944\n",
      "Processing HM_VHMM021_MBLT_R01_20190707-20190719_file_6_(2019_07_12-11_44_59)_125944\n",
      "Processing HM_VHMF019_MBTB_R25_20190707-20190719_file_7_(2019_07_13-11_44_59)_135944\n",
      "Processing HM_VHMF015_RTTB_R05_20190707-20190719_file_7_(2019_07_13-11_44_59)_135944\n",
      "Processing HM_VHMM014_LSTB_R19_20190707-20190719_file_6_(2019_07_12-11_44_59)_125944\n",
      "Processing HM_VHMM016_LTTB_R29_20190707-20190719_file_7_(2019_07_13-11_44_59)_135944\n",
      "Processing HM_VHMM017_RSTB_R23_20190708-20190720_file_7_(2019_07_13-11_44_59)_135944\n",
      "Processing HM_VHMM017_RSTB_R23_20190708-20190720_file_6_(2019_07_12-11_44_59)_125944\n",
      "Processing HM_VHMM021_MBLT_R01_20190707-20190719_file_7_(2019_07_13-11_44_59)_135944\n",
      "Processing HM_VHMF022_MBRS_R22_20190707-20190719_file_7_(2019_07_13-11_44_59)_135944\n",
      "Processing HM_VHMF010_SOUNDFOC_20190713\n",
      "Processing HM_VHMF001_HTB_R20_20190707-20190719_file_7_(2019_07_13-11_44_59)_135944\n",
      "Processing HM_VCVM001_SOUNDFOC_20190713_1\n",
      "Processing HM_VHMF019_MBTB_R25_20190707-20190719_file_8_(2019_07_14-11_44_59)_145944\n",
      "Processing HM_VHMF001_HTB_R20_20190707-20190719_file_6_(2019_07_12-11_44_59)_125944\n",
      "Processing HM_RT_R10_20170903-20170908_file_2_(2017_09_03-05_44_59)_ASWMUX221102\n",
      "Processing HM_HTB_R14_file_4_(2017_08_23-06_44_59)_ASWMUX221052\n",
      "Processing HM_VHMM002_HRT_AUDIO_R09_file_5_(2017_08_06-06_44_59)_ASWMUX221110\n",
      "Processing HM_HMB_R11_AUDIO_file_5_(2017_08_24-06_44_59)_ASWMUX221163\n",
      "Processing HM_HTB_R14_file_5_(2017_08_24-06_44_59)_ASWMUX221052\n",
      "Processing HM_VCVM001_HMB_AUDIO_R08_ file_2_(2017_08_03-06_44_59)_ASWMUX221153\n",
      "Processing HM_VLF206_SOUNDFOC_20170806_4\n",
      "No wav for HM_VLF206_SOUNDFOC_20170905_1\n",
      "Processing HM_VLF206_SOUNDFOC_20170806_3\n",
      "No wav for HM_VLF206_SOUNDFOC_20170903\n",
      "No wav for HM_VHMM003_SOUNDFOC_20170905_3\n",
      "No wav for HM_VLF206_SOUNDFOC_20170905_2\n",
      "Processing HM_VLF206_SOUNDFOC_20170824_2\n",
      "Processing HM_VLF206_SOUNDFOC_20170823_2\n",
      "Processing HM_VLF206_SOUNDFOC_20170806_2\n",
      "Processing HM_LT_R07_AUDIO_file_5_(2017_08_24-06_44_59)_ASWMUX221092\n",
      "Processing HM_VHMF022_MBRS_R22_20190707-20190719_file_9_(2019_07_15-11_44_59)_155944\n",
      "Processing HM_VHMF019_MBTB_R25_20190707-20190719_file_9_(2019_07_15-11_44_59)_155944\n",
      "Processing HM_VHMF015_RTTB_R05_20190707-20190719_file_9_(2019_07_15-11_44_59)_155944\n",
      "Processing HM_VHMM021_MBLT_R01_20190707-20190719_file_8_(2019_07_14-11_44_59)_145944\n",
      "Processing HM_VHMM017_RSTB_R23_20190708-20190720_file_8_(2019_07_14-11_44_59)_145944\n",
      "Processing HM_VHMM014_LSTB_R19_20190707-20190719_file_8_(2019_07_14-11_44_59)_145944\n",
      "Processing HM_VHMF001_HTB_R20_20190707-20190719_file_8_(2019_07_14-11_44_59)_145944\n",
      "Processing HM_VHMM021_MBLT_R01_20190707-20190719_file_9_(2019_07_15-11_44_59)_155944\n",
      "Processing HM_VHMM017_RSTB_R23_20190708-20190720_file_9_(2019_07_15-11_44_59)_155944\n",
      "Processing HM_VHMF022_MBRS_R22_20190707-20190719_file_8_(2019_07_14-11_44_59)_145944\n",
      "Processing HM_VHMF010_SOUNDFOC_20190715\n",
      "Processing HM_VHMM023_MBLS_R02_20190707-20190719_file_9_(2019_07_15-11_44_59)_155944\n",
      "Processing HM_VHMM016_LTTB_R29_20190707-20190719_file_9_(2019_07_15-11_44_59)_155944\n",
      "Processing HM_VHMM008_SHTB_R14_20190707-20190719_file_9_(2019_07_15-11_44_59)_155944\n",
      "Processing HM_VHMM023_MBLS_R02_20190707-20190719_file_8_(2019_07_14-11_44_59)_145944\n",
      "Processing HM_VHMM007_LSLT_R17_20190707-20190719_file_8_(2019_07_14-11_44_59)_145944\n",
      "Processing HM_VHMF015_RTTB_R05_20190707-20190719_file_8_(2019_07_14-11_44_59)_145944\n",
      "Processing HM_VHMF010_SOUNDFOC_20190714\n",
      "Processing HM_VHMM017_RSTB_R23_20190708-20190720_file_10_(2019_07_16-11_44_59)_165944\n",
      "Processing HM_VHMM014_LSTB_R19_20190707-20190719_file_10_(2019_07_16-11_44_59)_165944\n",
      "Processing HM_VHMM007_LSLT_R17_20190707-20190719_file_10_(2019_07_16-11_44_59)_165944\n",
      "Processing HM_VCVM001_SOUNDFOC_20190716_2\n",
      "Processing HM_VCVM001_SOUNDFOC_20190716_1\n",
      "Processing HM_VHMM007_LSLT_R17_20190707-20190719_file_9_(2019_07_15-11_44_59)_155944\n",
      "Processing HM_VHMF022_MBRS_R22_20190707-20190719_file_10_(2019_07_16-11_44_59)_165944\n",
      "Processing HM_VHMF019_MBTB_R25_20190707-20190719_file_10_(2019_07_16-11_44_59)_165944\n",
      "Processing HM_VHMF015_RTTB_R05_20190707-20190719_file_10_(2019_07_16-11_44_59)_165944\n",
      "Processing HM_VCVM001_SOUNDFOC_20190714_1\n",
      "Processing HM_VHMM008_SHTB_R14_20190707-20190719_file_6_(2019_07_12-11_44_59)_125944\n",
      "Processing HM_VHMM021_MBLT_R01_20190707-20190719_file_10_(2019_07_16-11_44_59)_165944\n",
      "Processing HM_VHMM023_MBLS_R02_20190707-20190719_file_10_(2019_07_16-11_44_59)_165944\n",
      "Processing HM_VHMM008_SHTB_R14_20190707-20190719_file_10_(2019_07_16-11_44_59)_165944\n",
      "Processing HM_VHMF001_HTB_R20_20190707-20190719_file_10_(2019_07_16-11_44_59)_165944\n",
      "Processing HM_VCVM001_SOUNDFOC_20190715_1\n",
      "Processing HM_VHMF001_HTB_R20_20190707-20190719_file_9_(2019_07_15-11_44_59)_155944\n",
      "Processing HM_VHMM017_RSTB_R23_20190708-20190720_file_11_(2019_07_17-11_44_59)_175944\n",
      "Processing HM_VHMM008_SHTB_R14_20190707-20190719_file_8_(2019_07_14-11_44_59)_145944\n",
      "Processing HM_VCVM001_SOUNDFOC_HM_20190717\n",
      "Processing HM_VHMF010_SOUNDFOC_HM_20190717_2\n",
      "Processing HM_VHMF010_SOUNDFOC_HM_20190717_1\n",
      "Processing HM_VHMF001_HTB_AUDIO_R07_file_5_(2017_08_06-06_44_59)_ASWMUX221092\n",
      "Processing HM_VHMM003_HLT_AUDIO_R12_file_5_(2017_08_06-06_44_59)_ASWMUX221102\n",
      "Processing HM_HRT_R07_20170903-20170908_file_4_(2017_09_05-05_44_59)_ASWMUX221092\n",
      "Processing HM_VCVM001_AUDIO_file_5_(2017_08_06-06_44_59)_ASWMUX221153\n",
      "Processing HM_RT_R10_20170903-20170908_file_4_(2017_09_05-05_44_59)_ASWMUX221102\n",
      "Processing HM_HTB_R14_20170903-20170908_file_2_(2017_09_03-05_44_59)_ASWMUX221052\n",
      "Processing HM_LT_R09_20170903-20170908_file_4_(2017_09_05-05_44_59)_ASWMUX221110\n",
      "No wav for HM_VHMM003_SOUNDFOC_20170905_2\n"
     ]
    }
   ],
   "source": [
    "for csv, wav, fileID in zip(in_csv_loc, in_wav_loc, fileIDs):\n",
    "    if not wav=='NA':\n",
    "        print(\"Processing \"+fileID)\n",
    "        # Parse labels\n",
    "        labels = prep_labels(csv, wav, fileID)  \n",
    "        # If labels is non-empty...\n",
    "        if (labels.shape[0]!=0):\n",
    "            labels.to_csv(LABELS_OUT+fileID+\"_labels.csv\", index=False)\n",
    "        else:\n",
    "            print(\"No labelled calls for \"+fileID)\n",
    "    else:\n",
    "        print(\"No wav for \"+fileID)"
   ]
  },
  {
   "cell_type": "code",
   "execution_count": 15,
   "metadata": {
    "colab": {
     "base_uri": "https://localhost:8080/"
    },
    "id": "k5Cjg3w1tA_H",
    "outputId": "b2bf515f-d3ba-4f25-8eb5-26596061ae09"
   },
   "outputs": [
    {
     "name": "stdout",
     "output_type": "stream",
     "text": [
      "Generated 108 label files\n"
     ]
    }
   ],
   "source": [
    "print(\"Generated \"+str(len(glob.glob(LABELS_OUT+'*')))+\" label files\") # all"
   ]
  },
  {
   "cell_type": "markdown",
   "metadata": {
    "id": "5rDW_Qsfvnon"
   },
   "source": [
    "### Get updated list of wav and labels file locations"
   ]
  },
  {
   "cell_type": "code",
   "execution_count": 16,
   "metadata": {
    "id": "SC7VfmA2YhvY"
   },
   "outputs": [],
   "source": [
    "# List of all wav filepaths (to full wav files, not just the calls), where I have \n",
    "# a labels file in LABELS_OUT. Therefore, do it kind of backwards.\n",
    "\n",
    "labels_loc = glob.glob(LABELS_OUT+'*.csv')\n",
    "fileIDs = [os.path.basename(item).replace('_labels.csv', '') for item in labels_loc] \n",
    "\n",
    "wavs_loc = [glob.glob(AUDIO_IN+fileID+'*') for fileID in fileIDs] # creates list of lists\n",
    "wavs_loc = [[\"NA\"] if not x else x for x in wavs_loc] # Replace empty lists with \"NA\"\n",
    "wavs_loc = list(flatten(wavs_loc)) # Flatten list\n",
    "\n",
    "# check for NAs, should be none!\n",
    "for ID, wav in zip(fileIDs, wavs_loc):\n",
    "    if wav==\"NA\":\n",
    "        print(\"Error, wav file missing for\"+label)"
   ]
  },
  {
   "cell_type": "markdown",
   "metadata": {
    "id": "y6S5d24Fycqv"
   },
   "source": [
    "### Make a dataframe for the whole dataset"
   ]
  },
  {
   "cell_type": "code",
   "execution_count": 17,
   "metadata": {
    "colab": {
     "base_uri": "https://localhost:8080/"
    },
    "id": "7NJb0ILeycEY",
    "outputId": "f05a22cf-c28c-4845-9e06-1f34b8691c0d"
   },
   "outputs": [
    {
     "name": "stdout",
     "output_type": "stream",
     "text": [
      "Reading label df for HM_RT_R12_file_6_(2017_08_25-06_44_59)_ASWMUX221102_labels.csv\n",
      "Reading label df for HM_VLF206_SOUNDFOC_20170825_2_labels.csv\n",
      "Reading label df for HM_VHMM003_SOUNDFOC_20170825_2_labels.csv\n",
      "Reading label df for HM_VHMM003_SOUNDFOC_20170825_3_labels.csv\n",
      "Reading label df for HM_HRT_R09_AUDIO_file_6_(2017_08_25-06_44_59)_ASWMUX221110_labels.csv\n",
      "Reading label df for HM_LT_R07_AUDIO_file_6_(2017_08_25-06_44_59)_ASWMUX221092_labels.csv\n",
      "Reading label df for HM_HTB_R14_file_6_(2017_08_25-06_44_59)_ASWMUX221052_labels.csv\n",
      "Reading label df for HM_PET_R11_20170903-20170908_file_4_(2017_09_05-05_44_59)_ASWMUX221163_labels.csv\n",
      "Reading label df for HM_HMB_R11_AUDIO_file_4_(2017_08_23-06_44_59)_ASWMUX221163_labels.csv\n",
      "Reading label df for HM_RT_R12_file_4_(2017_08_23-06_44_59)_ASWMUX221102_labels.csv\n",
      "Reading label df for HM_VLF206_SOUNDFOC_20170824_1_labels.csv\n",
      "Reading label df for HM_PET_R11_20170903-20170908_file_2_(2017_09_03-05_44_59)_ASWMUX221163_labels.csv\n",
      "Reading label df for HM_HRT_R09_AUDIO_file_5_(2017_08_24-06_44_59)_ASWMUX221110_labels.csv\n",
      "Reading label df for HM_LT_R07_AUDIO_file_4_(2017_08_23-06_44_59)_ASWMUX221092_labels.csv\n",
      "Reading label df for HM_HRT_R09_AUDIO_file_4_(2017_08_23-06_44_59)_ASWMUX221110_labels.csv\n",
      "Reading label df for HM_VLF206_SOUNDFOC_20170823_1_labels.csv\n",
      "Reading label df for HM_RT_R12_file_5_(2017_08_24-06_44_59)_ASWMUX221102_labels.csv\n",
      "Reading label df for HM_LT_R09_20170903-20170908_file_2_(2017_09_03-05_44_59)_ASWMUX221110_labels.csv\n",
      "Reading label df for HM_HRT_R07_20170903-20170908_file_2_(2017_09_03-05_44_59)_ASWMUX221092_labels.csv\n",
      "Reading label df for HM_VHMM003_SOUNDFOC_20170824_2_labels.csv\n",
      "Reading label df for HM_HMB_R11_AUDIO_file_6_(2017_08_25-06_44_59)_ASWMUX221163_labels.csv\n",
      "Reading label df for HM_VLF206_SOUNDFOC_20170825_1_labels.csv\n",
      "Reading label df for HM_PET_R11_20170903-20170908_file_3_(2017_09_04-05_44_59)_ASWMUX221163_labels.csv\n",
      "Reading label df for HM_VHMM002_HRT_AUDIO_R09_file_6_(2017_08_07-06_44_59)_ASWMUX221110_labels.csv\n",
      "Reading label df for HM_VCVM001_SOUNDFOC_20190712_2_labels.csv\n",
      "Reading label df for HM_VCVM001_SOUNDFOC_20190712_1_labels.csv\n",
      "Reading label df for HM_VHMF010_SOUNDFOC_20190712_labels.csv\n",
      "Reading label df for HM_VHMM007_LSLT_R17_20190707-20190719_file_6_(2019_07_12-11_44_59)_125944_labels.csv\n",
      "Reading label df for HM_VHMM007_LSLT_R17_20190707-20190719_file_7_(2019_07_13-11_44_59)_135944_labels.csv\n",
      "Reading label df for HM_VHMM008_SHTB_R14_20190707-20190719_file_7_(2019_07_13-11_44_59)_135944_labels.csv\n",
      "Reading label df for HM_VHMM023_MBLS_R02_20190707-20190719_file_6_(2019_07_12-11_44_59)_125944_labels.csv\n",
      "Reading label df for HM_VHMM023_MBLS_R02_20190707-20190719_file_7_(2019_07_13-11_44_59)_135944_labels.csv\n",
      "Reading label df for HM_VHMF015_RTTB_R05_20190707-20190719_file_6_(2019_07_12-11_44_59)_125944_labels.csv\n",
      "Reading label df for HM_VHMF019_MBTB_R25_20190707-20190719_file_6_(2019_07_12-11_44_59)_125944_labels.csv\n",
      "Reading label df for HM_VHMF022_MBRS_R22_20190707-20190719_file_6_(2019_07_12-11_44_59)_125944_labels.csv\n",
      "Reading label df for HM_VHMM021_MBLT_R01_20190707-20190719_file_6_(2019_07_12-11_44_59)_125944_labels.csv\n",
      "Reading label df for HM_VHMF019_MBTB_R25_20190707-20190719_file_7_(2019_07_13-11_44_59)_135944_labels.csv\n",
      "Reading label df for HM_VHMF015_RTTB_R05_20190707-20190719_file_7_(2019_07_13-11_44_59)_135944_labels.csv\n",
      "Reading label df for HM_VHMM014_LSTB_R19_20190707-20190719_file_6_(2019_07_12-11_44_59)_125944_labels.csv\n",
      "Reading label df for HM_VHMM016_LTTB_R29_20190707-20190719_file_7_(2019_07_13-11_44_59)_135944_labels.csv\n",
      "Reading label df for HM_VHMM017_RSTB_R23_20190708-20190720_file_7_(2019_07_13-11_44_59)_135944_labels.csv\n",
      "Reading label df for HM_VHMM017_RSTB_R23_20190708-20190720_file_6_(2019_07_12-11_44_59)_125944_labels.csv\n",
      "Reading label df for HM_VHMM021_MBLT_R01_20190707-20190719_file_7_(2019_07_13-11_44_59)_135944_labels.csv\n",
      "Reading label df for HM_VHMF022_MBRS_R22_20190707-20190719_file_7_(2019_07_13-11_44_59)_135944_labels.csv\n",
      "Reading label df for HM_VHMF010_SOUNDFOC_20190713_labels.csv\n",
      "Reading label df for HM_VHMF001_HTB_R20_20190707-20190719_file_7_(2019_07_13-11_44_59)_135944_labels.csv\n",
      "Reading label df for HM_VCVM001_SOUNDFOC_20190713_1_labels.csv\n",
      "Reading label df for HM_VHMF019_MBTB_R25_20190707-20190719_file_8_(2019_07_14-11_44_59)_145944_labels.csv\n",
      "Reading label df for HM_VHMF001_HTB_R20_20190707-20190719_file_6_(2019_07_12-11_44_59)_125944_labels.csv\n",
      "Reading label df for HM_RT_R10_20170903-20170908_file_2_(2017_09_03-05_44_59)_ASWMUX221102_labels.csv\n",
      "Reading label df for HM_HTB_R14_file_4_(2017_08_23-06_44_59)_ASWMUX221052_labels.csv\n",
      "Reading label df for HM_VHMM002_HRT_AUDIO_R09_file_5_(2017_08_06-06_44_59)_ASWMUX221110_labels.csv\n",
      "Reading label df for HM_HMB_R11_AUDIO_file_5_(2017_08_24-06_44_59)_ASWMUX221163_labels.csv\n",
      "Reading label df for HM_HTB_R14_file_5_(2017_08_24-06_44_59)_ASWMUX221052_labels.csv\n",
      "Reading label df for HM_VCVM001_HMB_AUDIO_R08_ file_2_(2017_08_03-06_44_59)_ASWMUX221153_labels.csv\n",
      "Reading label df for HM_VLF206_SOUNDFOC_20170806_4_labels.csv\n",
      "Reading label df for HM_VLF206_SOUNDFOC_20170806_3_labels.csv\n",
      "Reading label df for HM_VLF206_SOUNDFOC_20170824_2_labels.csv\n",
      "Reading label df for HM_VLF206_SOUNDFOC_20170823_2_labels.csv\n",
      "Reading label df for HM_VLF206_SOUNDFOC_20170806_2_labels.csv\n",
      "Reading label df for HM_LT_R07_AUDIO_file_5_(2017_08_24-06_44_59)_ASWMUX221092_labels.csv\n",
      "Reading label df for HM_VHMF022_MBRS_R22_20190707-20190719_file_9_(2019_07_15-11_44_59)_155944_labels.csv\n",
      "Reading label df for HM_VHMF019_MBTB_R25_20190707-20190719_file_9_(2019_07_15-11_44_59)_155944_labels.csv\n",
      "Reading label df for HM_VHMF015_RTTB_R05_20190707-20190719_file_9_(2019_07_15-11_44_59)_155944_labels.csv\n",
      "Reading label df for HM_VHMM021_MBLT_R01_20190707-20190719_file_8_(2019_07_14-11_44_59)_145944_labels.csv\n",
      "Reading label df for HM_VHMM017_RSTB_R23_20190708-20190720_file_8_(2019_07_14-11_44_59)_145944_labels.csv\n",
      "Reading label df for HM_VHMM014_LSTB_R19_20190707-20190719_file_8_(2019_07_14-11_44_59)_145944_labels.csv\n",
      "Reading label df for HM_VHMF001_HTB_R20_20190707-20190719_file_8_(2019_07_14-11_44_59)_145944_labels.csv\n",
      "Reading label df for HM_VHMM021_MBLT_R01_20190707-20190719_file_9_(2019_07_15-11_44_59)_155944_labels.csv\n",
      "Reading label df for HM_VHMM017_RSTB_R23_20190708-20190720_file_9_(2019_07_15-11_44_59)_155944_labels.csv\n",
      "Reading label df for HM_VHMF022_MBRS_R22_20190707-20190719_file_8_(2019_07_14-11_44_59)_145944_labels.csv\n",
      "Reading label df for HM_VHMF010_SOUNDFOC_20190715_labels.csv\n",
      "Reading label df for HM_VHMM023_MBLS_R02_20190707-20190719_file_9_(2019_07_15-11_44_59)_155944_labels.csv\n",
      "Reading label df for HM_VHMM016_LTTB_R29_20190707-20190719_file_9_(2019_07_15-11_44_59)_155944_labels.csv\n",
      "Reading label df for HM_VHMM008_SHTB_R14_20190707-20190719_file_9_(2019_07_15-11_44_59)_155944_labels.csv\n",
      "Reading label df for HM_VHMM023_MBLS_R02_20190707-20190719_file_8_(2019_07_14-11_44_59)_145944_labels.csv\n",
      "Reading label df for HM_VHMM007_LSLT_R17_20190707-20190719_file_8_(2019_07_14-11_44_59)_145944_labels.csv\n",
      "Reading label df for HM_VHMF015_RTTB_R05_20190707-20190719_file_8_(2019_07_14-11_44_59)_145944_labels.csv\n",
      "Reading label df for HM_VHMF010_SOUNDFOC_20190714_labels.csv\n",
      "Reading label df for HM_VHMM017_RSTB_R23_20190708-20190720_file_10_(2019_07_16-11_44_59)_165944_labels.csv\n",
      "Reading label df for HM_VHMM014_LSTB_R19_20190707-20190719_file_10_(2019_07_16-11_44_59)_165944_labels.csv\n",
      "Reading label df for HM_VHMM007_LSLT_R17_20190707-20190719_file_10_(2019_07_16-11_44_59)_165944_labels.csv\n",
      "Reading label df for HM_VCVM001_SOUNDFOC_20190716_2_labels.csv\n",
      "Reading label df for HM_VCVM001_SOUNDFOC_20190716_1_labels.csv\n",
      "Reading label df for HM_VHMM007_LSLT_R17_20190707-20190719_file_9_(2019_07_15-11_44_59)_155944_labels.csv\n",
      "Reading label df for HM_VHMF022_MBRS_R22_20190707-20190719_file_10_(2019_07_16-11_44_59)_165944_labels.csv\n",
      "Reading label df for HM_VHMF019_MBTB_R25_20190707-20190719_file_10_(2019_07_16-11_44_59)_165944_labels.csv\n",
      "Reading label df for HM_VHMF015_RTTB_R05_20190707-20190719_file_10_(2019_07_16-11_44_59)_165944_labels.csv\n",
      "Reading label df for HM_VCVM001_SOUNDFOC_20190714_1_labels.csv\n",
      "Reading label df for HM_VHMM008_SHTB_R14_20190707-20190719_file_6_(2019_07_12-11_44_59)_125944_labels.csv\n",
      "Reading label df for HM_VHMM021_MBLT_R01_20190707-20190719_file_10_(2019_07_16-11_44_59)_165944_labels.csv\n",
      "Reading label df for HM_VHMM023_MBLS_R02_20190707-20190719_file_10_(2019_07_16-11_44_59)_165944_labels.csv\n",
      "Reading label df for HM_VHMM008_SHTB_R14_20190707-20190719_file_10_(2019_07_16-11_44_59)_165944_labels.csv\n",
      "Reading label df for HM_VHMF001_HTB_R20_20190707-20190719_file_10_(2019_07_16-11_44_59)_165944_labels.csv\n",
      "Reading label df for HM_VCVM001_SOUNDFOC_20190715_1_labels.csv\n",
      "Reading label df for HM_VHMF001_HTB_R20_20190707-20190719_file_9_(2019_07_15-11_44_59)_155944_labels.csv\n",
      "Reading label df for HM_VHMM017_RSTB_R23_20190708-20190720_file_11_(2019_07_17-11_44_59)_175944_labels.csv\n",
      "Reading label df for HM_VHMM008_SHTB_R14_20190707-20190719_file_8_(2019_07_14-11_44_59)_145944_labels.csv\n",
      "Reading label df for HM_VCVM001_SOUNDFOC_HM_20190717_labels.csv\n",
      "Reading label df for HM_VHMF010_SOUNDFOC_HM_20190717_2_labels.csv\n",
      "Reading label df for HM_VHMF010_SOUNDFOC_HM_20190717_1_labels.csv\n",
      "Reading label df for HM_VHMF001_HTB_AUDIO_R07_file_5_(2017_08_06-06_44_59)_ASWMUX221092_labels.csv\n",
      "Reading label df for HM_VHMM003_HLT_AUDIO_R12_file_5_(2017_08_06-06_44_59)_ASWMUX221102_labels.csv\n",
      "Reading label df for HM_HRT_R07_20170903-20170908_file_4_(2017_09_05-05_44_59)_ASWMUX221092_labels.csv\n",
      "Reading label df for HM_VCVM001_AUDIO_file_5_(2017_08_06-06_44_59)_ASWMUX221153_labels.csv\n",
      "Reading label df for HM_RT_R10_20170903-20170908_file_4_(2017_09_05-05_44_59)_ASWMUX221102_labels.csv\n",
      "Reading label df for HM_HTB_R14_20170903-20170908_file_2_(2017_09_03-05_44_59)_ASWMUX221052_labels.csv\n",
      "Reading label df for HM_LT_R09_20170903-20170908_file_4_(2017_09_05-05_44_59)_ASWMUX221110_labels.csv\n"
     ]
    }
   ],
   "source": [
    "df_list=[]\n",
    "\n",
    "for label_loc in labels_loc:\n",
    "    print(\"Reading label df for \"+os.path.basename(label_loc))\n",
    "    df_list.append(pd.read_csv(label_loc))\n",
    "\n",
    "df = pd.concat(df_list)"
   ]
  },
  {
   "cell_type": "code",
   "execution_count": 18,
   "metadata": {
    "colab": {
     "base_uri": "https://localhost:8080/"
    },
    "id": "lMbjY_u3zgJb",
    "outputId": "5d7bc57d-9f93-4578-aae9-48a85a7da8ea"
   },
   "outputs": [
    {
     "data": {
      "text/plain": [
       "(46009, 15)"
      ]
     },
     "execution_count": 18,
     "metadata": {
      "tags": []
     },
     "output_type": "execute_result"
    }
   ],
   "source": [
    "df.shape "
   ]
  },
  {
   "cell_type": "markdown",
   "metadata": {
    "id": "0WMR5FiGjSsF"
   },
   "source": [
    "### Cleaning dataset"
   ]
  },
  {
   "cell_type": "markdown",
   "metadata": {
    "id": "_dw1fHhfP3qW"
   },
   "source": [
    "#### Removing noisy, uncertain calls and categorizing"
   ]
  },
  {
   "cell_type": "code",
   "execution_count": 19,
   "metadata": {
    "colab": {
     "base_uri": "https://localhost:8080/"
    },
    "id": "U2x8oETWQoQQ",
    "outputId": "bf90f7e4-e9b2-4afb-d8cf-17d563d376b0"
   },
   "outputs": [
    {
     "data": {
      "text/plain": [
       "array(['START', 'BEEP 1:00:00', 'SYNCH 1:00:00', ..., 'CCX   ',\n",
       "       'SYNCH 1:48:00?', 'HYB (SOC+CC)'], dtype=object)"
      ]
     },
     "execution_count": 19,
     "metadata": {
      "tags": []
     },
     "output_type": "execute_result"
    }
   ],
   "source": [
    "df['Name'].unique()"
   ]
  },
  {
   "cell_type": "code",
   "execution_count": 20,
   "metadata": {
    "id": "nzsAJJNTQ2-0"
   },
   "outputs": [],
   "source": [
    "lablenames = df['Name']\n",
    "\n",
    "call_types = {\n",
    "    'cc' :[\"cc\",\"Marker\", \"Marque\", \"CC\", \"MARKER\", \"MARQUE\"],\n",
    "    'sn' :[\"sn\",\"subm\", \"short\",\"^s$\", \"s \", \"SN\", \"SUBM\", \"SHORT\", \"S\"], \n",
    "    'mo' :[\"mo\", \"mov\", \"move\", \"MO\",\"MOV\",\"MOVE\"],\n",
    "    'agg':[\"ag\", \"agg\", \"aggress\", \"chat\", \"growl\",\"AG\",\"AGG\",\"AGGRESS\",\"CHAT\",\"GROWL\"],\n",
    "    'ld' :[\"ld\",\"LD\",\"lead\",\"LEAD\"],\n",
    "    'soc':[\"soc\",\"SOCIAL\", \"so \", \"SOC\", \"social\"], \n",
    "    'al' :[\"al\", \"AL\",\"ALARM\", \"alarm\"],\n",
    "    'fu/hyb': [\"fu\", \"FU\", \"Fu\", 'HYB', 'hyb', 'Hyb']\n",
    "    }\n",
    "    \n",
    "# make dictionary labels to calls\n",
    "labels_to_calls = dict((v,k) for k in call_types for v in call_types[k])"
   ]
  },
  {
   "cell_type": "markdown",
   "metadata": {
    "id": "jafEnvG1SDhn"
   },
   "source": [
    "- Remove all that contain # (unsure if it's even a call)"
   ]
  },
  {
   "cell_type": "code",
   "execution_count": 21,
   "metadata": {
    "colab": {
     "base_uri": "https://localhost:8080/"
    },
    "id": "Xo8ASEGRtwQD",
    "outputId": "1a5bc209-fa54-4908-dd87-9698f8c79137"
   },
   "outputs": [
    {
     "name": "stdout",
     "output_type": "stream",
     "text": [
      "286\n"
     ]
    }
   ],
   "source": [
    "print(np.sum(np.asarray([1 if '#' in i else 0 for i in lablenames])))\n",
    "lablenames = [\"other\" if '#' in i else i for i in lablenames]"
   ]
  },
  {
   "cell_type": "markdown",
   "metadata": {
    "id": "UF1zSRvpYYmI"
   },
   "source": [
    "- Remove noisy calls (marked with \"X\" or \"x\")"
   ]
  },
  {
   "cell_type": "code",
   "execution_count": 22,
   "metadata": {
    "colab": {
     "base_uri": "https://localhost:8080/"
    },
    "id": "_UEHUZXSYePf",
    "outputId": "cea70d40-7a5c-4d87-8632-02bafcf9c523"
   },
   "outputs": [
    {
     "name": "stdout",
     "output_type": "stream",
     "text": [
      "3834\n"
     ]
    }
   ],
   "source": [
    "print(np.sum(np.asarray([1 if (('x' in i) or ('X' in i)) else 0 for i in lablenames])))\n",
    "lablenames = [\"other\" if (('x' in i) or ('X' in i)) else i for i in lablenames]"
   ]
  },
  {
   "cell_type": "markdown",
   "metadata": {
    "id": "sqIl-E5dZKQm"
   },
   "source": [
    "\n",
    "*   Added later: differentiate certain and uncertain calls\n",
    "\n"
   ]
  },
  {
   "cell_type": "code",
   "execution_count": 23,
   "metadata": {
    "colab": {
     "base_uri": "https://localhost:8080/"
    },
    "id": "uW5eWD6UWsM_",
    "outputId": "f71ba784-597f-4e72-cfec-82011c3d6bc8"
   },
   "outputs": [
    {
     "data": {
      "text/plain": [
       "765"
      ]
     },
     "execution_count": 23,
     "metadata": {
      "tags": []
     },
     "output_type": "execute_result"
    }
   ],
   "source": [
    "certain_yn = [\"n\" if ('?' in i) else \"y\" for i in lablenames]\n",
    "certain_yn.count('n')"
   ]
  },
  {
   "cell_type": "markdown",
   "metadata": {
    "id": "uRjxdKU4SK20"
   },
   "source": [
    "- Ignore \"?\", \"!\",\"*\" and \"%\" (? expresses uncertainty about label, * expresses uncertainty about nonfocal or focal, don't know what ! means, % means overlapping calls)"
   ]
  },
  {
   "cell_type": "code",
   "execution_count": 24,
   "metadata": {
    "id": "yJMb1tDdzuat"
   },
   "outputs": [],
   "source": [
    "labelsep = re.compile('[\\?\\*\\!%]') # Match ? * ! %\n",
    "lablenames = [labelsep.sub('', i) for i in lablenames]"
   ]
  },
  {
   "cell_type": "markdown",
   "metadata": {
    "id": "sX2vqfTJSh9c"
   },
   "source": [
    "- String split and use first word for categorization based on dictionary"
   ]
  },
  {
   "cell_type": "code",
   "execution_count": 25,
   "metadata": {
    "id": "MY026mmETxL0"
   },
   "outputs": [],
   "source": [
    "firstword = [i.split(' ')[0] for i in lablenames]\n",
    "lables = [labels_to_calls[lable] if lable in labels_to_calls.keys() else \"unknown\" for lable in firstword]"
   ]
  },
  {
   "cell_type": "code",
   "execution_count": 26,
   "metadata": {
    "colab": {
     "base_uri": "https://localhost:8080/"
    },
    "id": "T-Pne1cy_oSs",
    "outputId": "dbfdd46e-2e62-4bff-c07f-4e47a412b684"
   },
   "outputs": [
    {
     "data": {
      "text/plain": [
       "cc         19592\n",
       "unknown    14644\n",
       "soc         3963\n",
       "sn          3818\n",
       "fu/hyb      1193\n",
       "mo           999\n",
       "al           801\n",
       "agg          790\n",
       "ld           209\n",
       "dtype: int64"
      ]
     },
     "execution_count": 26,
     "metadata": {
      "tags": []
     },
     "output_type": "execute_result"
    }
   ],
   "source": [
    "pd.Series(lables).value_counts()"
   ]
  },
  {
   "cell_type": "markdown",
   "metadata": {
    "id": "Ehoz_RQOMIp7"
   },
   "source": [
    "*   Added later: differentiate focal and nonfocal calls"
   ]
  },
  {
   "cell_type": "code",
   "execution_count": null,
   "metadata": {
    "id": "wnna1GOvcMSF"
   },
   "outputs": [],
   "source": [
    "# this is how I did it the first time:\n",
    "#secondword = [i.split(' ')[1] if len(i.split(' '))>1 else 'focal' for i in lablenames]\n",
    "#nonfocal_yn = ['y' if i in ['nf', 'NF', 'NONFOC', 'nonfoc'] else 'n' for i in secondword]"
   ]
  },
  {
   "cell_type": "code",
   "execution_count": 29,
   "metadata": {
    "id": "WT7QBYZuu_JK"
   },
   "outputs": [],
   "source": [
    "# this is how I would do it now, leads to slightly different results:\n",
    "nonfocal_yn = ['y' if any(substring in i for substring in ['nf', 'NF', 'NONFOC', 'nonfoc']) else 'n' for i in lablenames]"
   ]
  },
  {
   "cell_type": "markdown",
   "metadata": {
    "id": "cnIWgDiUWqCl"
   },
   "source": [
    "Write to df"
   ]
  },
  {
   "cell_type": "code",
   "execution_count": 30,
   "metadata": {
    "id": "UDXQB-n_WrW0"
   },
   "outputs": [],
   "source": [
    "df['call_lable'] = lables\n",
    "df['certain_yn'] = certain_yn\n",
    "df['nonfocal_yn'] = nonfocal_yn"
   ]
  },
  {
   "cell_type": "code",
   "execution_count": null,
   "metadata": {
    "id": "swKLVUU4_n2O"
   },
   "outputs": [],
   "source": [
    "#df_fu = df[df['call_lable']=='fu/hyb']\n",
    "#df.to_pickle(PROJECT_PATH+\"df_fu\")"
   ]
  },
  {
   "cell_type": "code",
   "execution_count": 31,
   "metadata": {
    "id": "oUMDf5UCWxEw"
   },
   "outputs": [],
   "source": [
    "df.to_pickle(PROJECT_PATH+\"final_df_all_April_2020\")"
   ]
  },
  {
   "cell_type": "markdown",
   "metadata": {
    "id": "n8ME_yhmBe8L"
   },
   "source": [
    "#### Removing all unknown calls (beep, synch etc..)"
   ]
  },
  {
   "cell_type": "code",
   "execution_count": null,
   "metadata": {
    "id": "bsHKtqaL2hWc"
   },
   "outputs": [],
   "source": [
    "df = pd.read_pickle(PROJECT_PATH+\"final_df_all\")"
   ]
  },
  {
   "cell_type": "code",
   "execution_count": 32,
   "metadata": {
    "colab": {
     "base_uri": "https://localhost:8080/"
    },
    "id": "zJXFOQXwAycG",
    "outputId": "01ce5ec4-4cbb-4930-c0db-95edae53f6e8"
   },
   "outputs": [
    {
     "data": {
      "text/plain": [
       "(31365, 18)"
      ]
     },
     "execution_count": 32,
     "metadata": {
      "tags": []
     },
     "output_type": "execute_result"
    }
   ],
   "source": [
    "df = df.loc[df['call_lable']!=\"unknown\",:]\n",
    "df.shape"
   ]
  },
  {
   "cell_type": "code",
   "execution_count": 33,
   "metadata": {
    "colab": {
     "base_uri": "https://localhost:8080/"
    },
    "id": "Kti3pu3ESJ3F",
    "outputId": "89ffbb36-7436-47f1-f528-c5ce4781437c"
   },
   "outputs": [
    {
     "data": {
      "text/plain": [
       "cc        19592\n",
       "soc        3963\n",
       "sn         3818\n",
       "fu/hyb     1193\n",
       "mo          999\n",
       "al          801\n",
       "agg         790\n",
       "ld          209\n",
       "Name: call_lable, dtype: int64"
      ]
     },
     "execution_count": 33,
     "metadata": {
      "tags": []
     },
     "output_type": "execute_result"
    }
   ],
   "source": [
    "df['call_lable'].value_counts()"
   ]
  },
  {
   "cell_type": "markdown",
   "metadata": {
    "id": "SKkZ6jSFwoft"
   },
   "source": [
    "#### Removing non-focal calls"
   ]
  },
  {
   "cell_type": "markdown",
   "metadata": {
    "id": "o-x1dCqFdCLt"
   },
   "source": [
    "The first time, I had actually NOT removed the non-focal calls at this point. But later it turned out, that we don't use them so I've removed them from the dataset AFTER."
   ]
  },
  {
   "cell_type": "code",
   "execution_count": 34,
   "metadata": {
    "colab": {
     "base_uri": "https://localhost:8080/"
    },
    "id": "PfznUm4SwsRg",
    "outputId": "e400f835-7754-4a71-8ef3-68909cdefe9d"
   },
   "outputs": [
    {
     "data": {
      "text/plain": [
       "(23558, 18)"
      ]
     },
     "execution_count": 34,
     "metadata": {
      "tags": []
     },
     "output_type": "execute_result"
    }
   ],
   "source": [
    "df = df.loc[df['nonfocal_yn']==\"n\"]\n",
    "df.shape"
   ]
  },
  {
   "cell_type": "code",
   "execution_count": 35,
   "metadata": {
    "colab": {
     "base_uri": "https://localhost:8080/"
    },
    "id": "BXgGx_jPSftS",
    "outputId": "f100dbb4-392c-4f51-a937-8cc6275f69d0"
   },
   "outputs": [
    {
     "data": {
      "text/plain": [
       "cc        15057\n",
       "sn         3666\n",
       "soc        1407\n",
       "fu/hyb     1086\n",
       "mo          823\n",
       "al          725\n",
       "agg         603\n",
       "ld          191\n",
       "Name: call_lable, dtype: int64"
      ]
     },
     "execution_count": 35,
     "metadata": {
      "tags": []
     },
     "output_type": "execute_result"
    }
   ],
   "source": [
    "df['call_lable'].value_counts()"
   ]
  },
  {
   "cell_type": "markdown",
   "metadata": {
    "id": "d04-XJEBQivd"
   },
   "source": [
    "#### Removing long and short calls"
   ]
  },
  {
   "cell_type": "code",
   "execution_count": 36,
   "metadata": {
    "colab": {
     "base_uri": "https://localhost:8080/"
    },
    "id": "h6wlKH1bt-7T",
    "outputId": "712c725a-6c11-4454-89b6-42336c98bffa"
   },
   "outputs": [
    {
     "data": {
      "text/plain": [
       "(23558, 18)"
      ]
     },
     "execution_count": 36,
     "metadata": {
      "tags": []
     },
     "output_type": "execute_result"
    }
   ],
   "source": [
    "df.shape"
   ]
  },
  {
   "cell_type": "code",
   "execution_count": 37,
   "metadata": {
    "colab": {
     "base_uri": "https://localhost:8080/"
    },
    "id": "Qb_n-8cPs4Tq",
    "outputId": "abb5ce3c-9c91-46f1-a63a-8ef8c4a2ffe0"
   },
   "outputs": [
    {
     "data": {
      "text/plain": [
       "0.13596345190593453"
      ]
     },
     "execution_count": 37,
     "metadata": {
      "tags": []
     },
     "output_type": "execute_result"
    }
   ],
   "source": [
    "np.mean(df['duration_s'])"
   ]
  },
  {
   "cell_type": "code",
   "execution_count": 38,
   "metadata": {
    "colab": {
     "base_uri": "https://localhost:8080/",
     "height": 279
    },
    "id": "kmf0Wtk9h_GZ",
    "outputId": "3a7bd1db-577c-45dd-c3e8-87dae33575d0"
   },
   "outputs": [
    {
     "data": {
      "image/png": "[encoded data removed]",
      "text/plain": [
       "<Figure size 432x288 with 1 Axes>"
      ]
     },
     "metadata": {
      "needs_background": "light",
      "tags": []
     },
     "output_type": "display_data"
    }
   ],
   "source": [
    "n, bins, pathes = plt.hist(df['duration_s'], bins=100)\n",
    "plt.xlabel(\"Duration in s\")\n",
    "plt.ylabel(\"N. of calls\")\n",
    "plt.savefig(FIGURES+'final/'+'duration_hist_April_2020.png')"
   ]
  },
  {
   "cell_type": "code",
   "execution_count": 39,
   "metadata": {
    "colab": {
     "base_uri": "https://localhost:8080/"
    },
    "id": "zDQ7RaKmumnm",
    "outputId": "3c8644da-05da-4604-c43b-b3ca3ef983b2"
   },
   "outputs": [
    {
     "name": "stdout",
     "output_type": "stream",
     "text": [
      "0.012649630698701078\n",
      "298\n"
     ]
    }
   ],
   "source": [
    "print(df[df['duration_s']>MAX_DURATION].shape[0]/df.shape[0]) # % of calls > 0.5s --> 1.26 %\n",
    "print(df[df['duration_s']>MAX_DURATION].shape[0])"
   ]
  },
  {
   "cell_type": "code",
   "execution_count": 40,
   "metadata": {
    "colab": {
     "base_uri": "https://localhost:8080/"
    },
    "id": "0Tpz8Xj6ub9Y",
    "outputId": "213b409d-26da-4f33-e3a9-e39082eafafc"
   },
   "outputs": [
    {
     "name": "stdout",
     "output_type": "stream",
     "text": [
      "0.0944052975634604\n",
      "2224\n"
     ]
    }
   ],
   "source": [
    "print(df[df['duration_s']<MIN_DURATION].shape[0]/df.shape[0]) # % of calls < 0.5s --> 9.4 %\n",
    "print(df[df['duration_s']<MIN_DURATION].shape[0])"
   ]
  },
  {
   "cell_type": "markdown",
   "metadata": {
    "id": "2UK63GH90Fyq"
   },
   "source": [
    "Look at short calls"
   ]
  },
  {
   "cell_type": "code",
   "execution_count": 41,
   "metadata": {
    "colab": {
     "base_uri": "https://localhost:8080/"
    },
    "id": "ZSepALrmx7QX",
    "outputId": "5c0923db-5c3d-47f5-9814-cc0a48885900"
   },
   "outputs": [
    {
     "data": {
      "text/plain": [
       "sn        1789\n",
       "cc         209\n",
       "agg         67\n",
       "soc         64\n",
       "al          51\n",
       "fu/hyb      42\n",
       "mo           2\n",
       "Name: call_lable, dtype: int64"
      ]
     },
     "execution_count": 41,
     "metadata": {
      "tags": []
     },
     "output_type": "execute_result"
    }
   ],
   "source": [
    "short_calls = df[df['duration_s']<MIN_DURATION]\n",
    "short_calls['call_lable'].value_counts()"
   ]
  },
  {
   "cell_type": "code",
   "execution_count": 42,
   "metadata": {
    "colab": {
     "base_uri": "https://localhost:8080/",
     "height": 79
    },
    "id": "DB6lojxqyVX7",
    "outputId": "95235348-9cf9-44d2-ab5c-9bbc525034d0"
   },
   "outputs": [
    {
     "name": "stdout",
     "output_type": "stream",
     "text": [
      "cc\n"
     ]
    },
    {
     "data": {
      "text/html": [
       "\n",
       "                <audio controls=\"controls\" >\n",
       "                    <source src=\"data:audio/wav;base64,UklGRpQBAABXQVZFZm10IBAAAAABAAEAQB8AAIA+AAACABAAZGF0YXABAABKa0prSmssbSxt8HAObw5v8HDwcA5v0XIsbWhpSmssbQ5vLG2zdEprSmvRctFys3SzdA5vDm8sbWhpaGlKaw5vLG3wcNFys3SVdjt80XJoacJj/1/CY2hpaGlKaw5v0XKzdP9/O3zRcmhpDm9oaUpraGnhYSxtLG3wcCxt0XKVdnd4lXYOb4ZnwmPhYaRlhmdKayxtDm/wcJV2d3izdNFyDm+GZ8JjhmdoaUpraGlKayxts3SVdnd4lXbRckprwmPCY6RlhmdoaSxtLG0sbdFys3R3eJV2Dm8Ob2hpaGmGZ4ZnaGksbQ5v8HCVdpV2lXbRcixthmfCY6RlaGlKa0prLG0Ob9Fys3SVdrN08HBKa4ZnhmeGZ2hpSmtKaw5vDm/RcrN0lXazdCxthmekZaRlhmeGZw5v8HDRcrN0d3h3eHd48HBoaUprSmssbQ5v8HBKa0prLG3wcJV2d3h3eJV2lXbwcA5vSmssbQ5v0XLRcg==\" type=\"audio/wav\" />\n",
       "                    Your browser does not support the audio element.\n",
       "                </audio>\n",
       "              "
      ],
      "text/plain": [
       "<IPython.lib.display.Audio object>"
      ]
     },
     "execution_count": 42,
     "metadata": {
      "tags": []
     },
     "output_type": "execute_result"
    }
   ],
   "source": [
    "calltype = short_calls['call_lable'].unique()[1]\n",
    "print(calltype)\n",
    "example = short_calls.loc[short_calls['call_lable']==calltype,:].sample(n=1)\n",
    "y, sr = librosa.load(example.original_wav.values[0], \n",
    "                     offset=example.start_s.values[0], \n",
    "                     duration=example.duration_s.values[0], sr=None)\n",
    "Audio(y, rate=sr)"
   ]
  },
  {
   "cell_type": "code",
   "execution_count": 44,
   "metadata": {
    "colab": {
     "base_uri": "https://localhost:8080/"
    },
    "id": "Ii0_pjrxCMAa",
    "outputId": "12670527-4982-4f67-9a7e-c26e9ab71814"
   },
   "outputs": [
    {
     "data": {
      "text/plain": [
       "16"
      ]
     },
     "execution_count": 44,
     "metadata": {
      "tags": []
     },
     "output_type": "execute_result"
    }
   ],
   "source": [
    "df[df['duration_s']==0].shape[0] # 16 calls of length=0 -> errors"
   ]
  },
  {
   "cell_type": "code",
   "execution_count": 45,
   "metadata": {
    "colab": {
     "base_uri": "https://localhost:8080/"
    },
    "id": "ViErUjoYruZS",
    "outputId": "7ee2ff03-9bc8-472d-92fa-38df9c8ba6f6"
   },
   "outputs": [
    {
     "data": {
      "text/plain": [
       "(21334, 18)"
      ]
     },
     "execution_count": 45,
     "metadata": {
      "tags": []
     },
     "output_type": "execute_result"
    }
   ],
   "source": [
    "df = df.loc[df['duration_s'] >= MIN_DURATION]\n",
    "df.shape"
   ]
  },
  {
   "cell_type": "code",
   "execution_count": 46,
   "metadata": {
    "colab": {
     "base_uri": "https://localhost:8080/"
    },
    "id": "GCs7-0vDhc0-",
    "outputId": "7a0482c5-b637-4191-fc02-dcdd98fa1c24"
   },
   "outputs": [
    {
     "data": {
      "text/plain": [
       "(21036, 18)"
      ]
     },
     "execution_count": 46,
     "metadata": {
      "tags": []
     },
     "output_type": "execute_result"
    }
   ],
   "source": [
    "df = df.loc[df['duration_s'] <= MAX_DURATION]\n",
    "df.shape"
   ]
  },
  {
   "cell_type": "code",
   "execution_count": 47,
   "metadata": {
    "colab": {
     "base_uri": "https://localhost:8080/"
    },
    "id": "_SI60JMpTVNH",
    "outputId": "07730b43-bedb-4efe-c10d-7deaaa6cecd5"
   },
   "outputs": [
    {
     "data": {
      "text/plain": [
       "cc        14845\n",
       "sn         1877\n",
       "soc        1204\n",
       "fu/hyb     1032\n",
       "mo          819\n",
       "al          674\n",
       "agg         395\n",
       "ld          190\n",
       "Name: call_lable, dtype: int64"
      ]
     },
     "execution_count": 47,
     "metadata": {
      "tags": []
     },
     "output_type": "execute_result"
    }
   ],
   "source": [
    "df['call_lable'].value_counts()"
   ]
  },
  {
   "cell_type": "markdown",
   "metadata": {
    "id": "wIwmYmKmK9js"
   },
   "source": [
    "#### Sorting and saving\n",
    "Add index, sort values and save dataframe:"
   ]
  },
  {
   "cell_type": "code",
   "execution_count": 48,
   "metadata": {
    "id": "t_Xp1C0aUETh"
   },
   "outputs": [],
   "source": [
    "df.index = list(range(0,df.shape[0]))\n",
    "df = df.sort_values(by=['original_wav', 'bout_number'])\n",
    "\n",
    "df.to_pickle(PROJECT_PATH+\"final_df_all_clean_April_2020\") # (21036, 18)"
   ]
  },
  {
   "cell_type": "markdown",
   "metadata": {
    "id": "0wdgNaBlsOIj"
   },
   "source": [
    "### Extracting audio data for calls\n",
    "\n",
    "Extracting audio data for call bouts from long audio files and put them as numpy array into dataframe. \n"
   ]
  },
  {
   "cell_type": "code",
   "execution_count": null,
   "metadata": {
    "id": "xREjx1FgUNu7"
   },
   "outputs": [],
   "source": [
    "spec_df = pd.read_pickle(PROJECT_PATH+\"df_all_clean_April_2020\")"
   ]
  },
  {
   "cell_type": "code",
   "execution_count": 50,
   "metadata": {
    "id": "heDABFVpkH7P"
   },
   "outputs": [],
   "source": [
    "raw_audio_data = spec_df.apply(lambda row: get_audio(row['original_wav'], row['start_s'], row['duration_s']), axis=1)\n",
    "spec_df['raw_audio'] = raw_audio_data"
   ]
  },
  {
   "cell_type": "markdown",
   "metadata": {
    "id": "hiIK8P1K6N-_"
   },
   "source": [
    "Add soundfoc_yn"
   ]
  },
  {
   "cell_type": "code",
   "execution_count": 51,
   "metadata": {
    "id": "F8--E9hN6TNZ"
   },
   "outputs": [],
   "source": [
    "ori_wav = spec_df['original_wav']\n",
    "soundfoc_yn = ['y' if \"SOUNDFOC\" in i else 'n' for i in ori_wav]\n",
    "spec_df['soundfoc_yn'] = soundfoc_yn"
   ]
  },
  {
   "cell_type": "markdown",
   "metadata": {
    "id": "IDtvy_ogNmDA"
   },
   "source": [
    "Save"
   ]
  },
  {
   "cell_type": "code",
   "execution_count": 52,
   "metadata": {
    "id": "vwSh0ogP-qNt"
   },
   "outputs": [],
   "source": [
    "spec_df.to_pickle(DATA+'spec_df_all_April_2020')"
   ]
  }
 ],
 "metadata": {
  "colab": {
   "collapsed_sections": [],
   "name": "01_meerkat_extract_audio_PAPER.ipynb",
   "provenance": [],
   "toc_visible": true
  },
  "kernelspec": {
   "display_name": "Python 3",
   "language": "python",
   "name": "python3"
  },
  "language_info": {
   "codemirror_mode": {
    "name": "ipython",
    "version": 3
   },
   "file_extension": ".py",
   "mimetype": "text/x-python",
   "name": "python",
   "nbconvert_exporter": "python",
   "pygments_lexer": "ipython3",
   "version": "3.7.10"
  }
 },
 "nbformat": 4,
 "nbformat_minor": 4
}
