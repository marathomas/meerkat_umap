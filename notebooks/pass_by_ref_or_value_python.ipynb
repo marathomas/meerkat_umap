{
 "cells": [
  {
   "cell_type": "code",
   "execution_count": 2,
   "id": "c66e6878-161b-413e-ab80-16878854881f",
   "metadata": {},
   "outputs": [],
   "source": [
    "import numpy as np"
   ]
  },
  {
   "cell_type": "code",
   "execution_count": 3,
   "id": "a37aaa1c-134c-4721-a8f2-ac36902a4613",
   "metadata": {},
   "outputs": [
    {
     "name": "stdout",
     "output_type": "stream",
     "text": [
      "[[1 2 3 4]\n",
      " [5 6 7 8]]\n",
      "[[100   2   3   4]\n",
      " [  5   6   7   8]]\n",
      "[[100   2   3   4]\n",
      " [  5   6   7   8]]\n"
     ]
    }
   ],
   "source": [
    "a = np.asarray([[1,2,3,4], [5,6,7,8]])\n",
    "def mod_arr(a):\n",
    "    a[0,0] = 100\n",
    "    return a\n",
    "\n",
    "print(a)\n",
    "\n",
    "print(mod_arr(a))\n",
    "\n",
    "print(a)"
   ]
  },
  {
   "cell_type": "code",
   "execution_count": 4,
   "id": "e4f9e4c4-02e5-43be-aa86-e6f91ee552d6",
   "metadata": {},
   "outputs": [
    {
     "name": "stdout",
     "output_type": "stream",
     "text": [
      "[[1 2 3 4]\n",
      " [5 6 7 8]]\n",
      "[[100   2   3   4]\n",
      " [  5   6   7   8]]\n",
      "[[100   2   3   4]\n",
      " [  5   6   7   8]]\n"
     ]
    }
   ],
   "source": [
    "a = np.asarray([[1,2,3,4], [5,6,7,8]])\n",
    "\n",
    "def mod_arr(a):\n",
    "    x = a\n",
    "    x[0,0] = 100\n",
    "    return x\n",
    "\n",
    "print(a)\n",
    "\n",
    "print(mod_arr(a))\n",
    "\n",
    "print(a)"
   ]
  },
  {
   "cell_type": "code",
   "execution_count": 8,
   "id": "e905373a-50a5-4103-850e-04546129ec2c",
   "metadata": {},
   "outputs": [],
   "source": [
    "import pandas as pd"
   ]
  },
  {
   "cell_type": "code",
   "execution_count": 24,
   "id": "1bf32439-d6d0-4ac7-a938-2e3b0bf0331e",
   "metadata": {},
   "outputs": [
    {
     "data": {
      "text/html": [
       "<div>\n",
       "<style scoped>\n",
       "    .dataframe tbody tr th:only-of-type {\n",
       "        vertical-align: middle;\n",
       "    }\n",
       "\n",
       "    .dataframe tbody tr th {\n",
       "        vertical-align: top;\n",
       "    }\n",
       "\n",
       "    .dataframe thead th {\n",
       "        text-align: right;\n",
       "    }\n",
       "</style>\n",
       "<table border=\"1\" class=\"dataframe\">\n",
       "  <thead>\n",
       "    <tr style=\"text-align: right;\">\n",
       "      <th></th>\n",
       "      <th>banana</th>\n",
       "      <th>bean</th>\n",
       "    </tr>\n",
       "  </thead>\n",
       "  <tbody>\n",
       "    <tr>\n",
       "      <th>0</th>\n",
       "      <td>1</td>\n",
       "      <td>5</td>\n",
       "    </tr>\n",
       "    <tr>\n",
       "      <th>1</th>\n",
       "      <td>2</td>\n",
       "      <td>6</td>\n",
       "    </tr>\n",
       "    <tr>\n",
       "      <th>2</th>\n",
       "      <td>3</td>\n",
       "      <td>7</td>\n",
       "    </tr>\n",
       "    <tr>\n",
       "      <th>3</th>\n",
       "      <td>4</td>\n",
       "      <td>8</td>\n",
       "    </tr>\n",
       "  </tbody>\n",
       "</table>\n",
       "</div>"
      ],
      "text/plain": [
       "   banana  bean\n",
       "0       1     5\n",
       "1       2     6\n",
       "2       3     7\n",
       "3       4     8"
      ]
     },
     "execution_count": 24,
     "metadata": {},
     "output_type": "execute_result"
    }
   ],
   "source": [
    "df=pd.DataFrame({'banana':[1,2,3,4], 'bean':[5,6,7,8]})\n",
    "x = df['banana'] #  this is not assigned by value, but by reference!!!!\n",
    "df"
   ]
  },
  {
   "cell_type": "code",
   "execution_count": 25,
   "id": "75eab88f-7607-4555-a06c-758f1d23be19",
   "metadata": {},
   "outputs": [
    {
     "data": {
      "text/plain": [
       "0    1\n",
       "1    2\n",
       "2    3\n",
       "3    4\n",
       "Name: banana, dtype: int64"
      ]
     },
     "execution_count": 25,
     "metadata": {},
     "output_type": "execute_result"
    }
   ],
   "source": [
    "x"
   ]
  },
  {
   "cell_type": "code",
   "execution_count": 26,
   "id": "d98153c2-8efc-4847-9a48-1324a3d9e7d3",
   "metadata": {},
   "outputs": [
    {
     "data": {
      "text/plain": [
       "0     1\n",
       "1     2\n",
       "2     3\n",
       "3    10\n",
       "Name: banana, dtype: int64"
      ]
     },
     "execution_count": 26,
     "metadata": {},
     "output_type": "execute_result"
    }
   ],
   "source": [
    "x[3] = 10\n",
    "x"
   ]
  },
  {
   "cell_type": "code",
   "execution_count": 27,
   "id": "f06736ce-8e3a-4842-8696-4be0589adb7b",
   "metadata": {},
   "outputs": [
    {
     "data": {
      "text/html": [
       "<div>\n",
       "<style scoped>\n",
       "    .dataframe tbody tr th:only-of-type {\n",
       "        vertical-align: middle;\n",
       "    }\n",
       "\n",
       "    .dataframe tbody tr th {\n",
       "        vertical-align: top;\n",
       "    }\n",
       "\n",
       "    .dataframe thead th {\n",
       "        text-align: right;\n",
       "    }\n",
       "</style>\n",
       "<table border=\"1\" class=\"dataframe\">\n",
       "  <thead>\n",
       "    <tr style=\"text-align: right;\">\n",
       "      <th></th>\n",
       "      <th>banana</th>\n",
       "      <th>bean</th>\n",
       "    </tr>\n",
       "  </thead>\n",
       "  <tbody>\n",
       "    <tr>\n",
       "      <th>0</th>\n",
       "      <td>1</td>\n",
       "      <td>5</td>\n",
       "    </tr>\n",
       "    <tr>\n",
       "      <th>1</th>\n",
       "      <td>2</td>\n",
       "      <td>6</td>\n",
       "    </tr>\n",
       "    <tr>\n",
       "      <th>2</th>\n",
       "      <td>3</td>\n",
       "      <td>7</td>\n",
       "    </tr>\n",
       "    <tr>\n",
       "      <th>3</th>\n",
       "      <td>10</td>\n",
       "      <td>8</td>\n",
       "    </tr>\n",
       "  </tbody>\n",
       "</table>\n",
       "</div>"
      ],
      "text/plain": [
       "   banana  bean\n",
       "0       1     5\n",
       "1       2     6\n",
       "2       3     7\n",
       "3      10     8"
      ]
     },
     "execution_count": 27,
     "metadata": {},
     "output_type": "execute_result"
    }
   ],
   "source": [
    "df"
   ]
  },
  {
   "cell_type": "code",
   "execution_count": null,
   "id": "3645b46c-7c42-4ec1-9243-7d41588bdd5e",
   "metadata": {},
   "outputs": [],
   "source": [
    "# so it changes the dataframe!!!"
   ]
  },
  {
   "cell_type": "code",
   "execution_count": null,
   "id": "647e1a93-40a9-43d8-b00e-30cad6bbf8b1",
   "metadata": {},
   "outputs": [],
   "source": [
    "# This doesn't happen to immuntable types, like strings:"
   ]
  },
  {
   "cell_type": "code",
   "execution_count": 31,
   "id": "d1700bce-b959-4030-8998-09c7a0a3ddce",
   "metadata": {},
   "outputs": [
    {
     "name": "stdout",
     "output_type": "stream",
     "text": [
      "babbelbubbel\n",
      "Zbabbelbubbel\n",
      "babbelbubbel\n"
     ]
    }
   ],
   "source": [
    "a = 'babbelbubbel'\n",
    "\n",
    "def mod_arr(x):\n",
    "    #x = a\n",
    "    x = 'Z'+x\n",
    "    return x\n",
    "\n",
    "print(a)\n",
    "\n",
    "print(mod_arr(a))\n",
    "\n",
    "print(a)"
   ]
  },
  {
   "cell_type": "code",
   "execution_count": null,
   "id": "0eaa037a-bc5a-43a3-a9b3-37e0cf424e69",
   "metadata": {},
   "outputs": [],
   "source": []
  }
 ],
 "metadata": {
  "kernelspec": {
   "display_name": "Python 3",
   "language": "python",
   "name": "python3"
  },
  "language_info": {
   "codemirror_mode": {
    "name": "ipython",
    "version": 3
   },
   "file_extension": ".py",
   "mimetype": "text/x-python",
   "name": "python",
   "nbconvert_exporter": "python",
   "pygments_lexer": "ipython3",
   "version": "3.7.10"
  }
 },
 "nbformat": 4,
 "nbformat_minor": 5
}
