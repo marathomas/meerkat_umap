{
 "cells": [
  {
   "cell_type": "markdown",
   "id": "39a50c94-0959-454f-bfba-d84e27b72e9b",
   "metadata": {
    "id": "wIwmYmKmK9js"
   },
   "source": [
    "# Write some example call wavs for the tool"
   ]
  },
  {
   "cell_type": "code",
   "execution_count": 26,
   "id": "538cabe0-f062-4906-9422-b89b2d8cef56",
   "metadata": {},
   "outputs": [],
   "source": [
    "import os\n",
    "import pandas as pd\n",
    "import sys\n",
    "import re\n",
    "import librosa\n",
    "import numpy as np\n",
    "import pickle\n",
    "from pathlib import Path\n",
    "import soundfile as sf"
   ]
  },
  {
   "cell_type": "code",
   "execution_count": 27,
   "id": "9f15d959-5615-4e38-93c7-1512678a6155",
   "metadata": {},
   "outputs": [
    {
     "data": {
      "text/plain": [
       "(6430, 34)"
      ]
     },
     "execution_count": 27,
     "metadata": {},
     "output_type": "execute_result"
    }
   ],
   "source": [
    "wd = os.getcwd()\n",
    "\n",
    "DATA = os.path.join(os.path.sep, str(Path(wd).parents[0]), \"data\", \"processed\")\n",
    "CALL_WAVS = os.path.join(os.path.sep, str(Path(wd).parents[0]), \"data\", \"raw\", \"call_wavs\")\n",
    "\n",
    "if (not os.path.isdir(CALL_WAVS)):\n",
    "        os.mkdir(CALL_WAVS)\n",
    "        \n",
    "        \n",
    "df = pd.read_pickle(os.path.join(os.path.sep, DATA, \"df_focal_reduced.pkl\"))\n",
    "df.shape"
   ]
  },
  {
   "cell_type": "code",
   "execution_count": 24,
   "id": "fdb51e58-4160-4da0-9bd4-cd0eb3a217a4",
   "metadata": {},
   "outputs": [],
   "source": [
    "def write_audio(callID, y, sr):\n",
    "    sf.write(file=os.path.join(os.path.sep, CALL_WAVS, callID+'.wav'), data=y, samplerate=sr)"
   ]
  },
  {
   "cell_type": "code",
   "execution_count": 25,
   "id": "779a9a04-edea-4e91-8b06-6b8012a34951",
   "metadata": {},
   "outputs": [
    {
     "data": {
      "text/plain": [
       "26       None\n",
       "27       None\n",
       "28       None\n",
       "29       None\n",
       "30       None\n",
       "         ... \n",
       "18941    None\n",
       "13340    None\n",
       "32998    None\n",
       "29707    None\n",
       "32956    None\n",
       "Length: 6430, dtype: object"
      ]
     },
     "execution_count": 25,
     "metadata": {},
     "output_type": "execute_result"
    }
   ],
   "source": [
    "df.apply(lambda row: write_audio(row['callID'],\n",
    "                                 row['raw_audio'],\n",
    "                                 row['samplerate_hz']), \n",
    "         axis=1)"
   ]
  },
  {
   "cell_type": "code",
   "execution_count": 28,
   "id": "60249a70-36b7-4043-bfba-24a6615d8c7f",
   "metadata": {},
   "outputs": [
    {
     "data": {
      "text/plain": [
       "Index(['Name', 'Start', 'Duration', 'Time Format', 'Type', 'Description',\n",
       "       'start_s', 'duration_s', 'stop_s', 'date', 'samplerate_hz', 'indv',\n",
       "       'original_wav', 'bout_number', 'Time.Format', 'call_lable',\n",
       "       'unsure_call', 'noisy', 'certain_yn', 'soundfoc_yn', 'nonfocal_yn',\n",
       "       'callID', 'Sex', 'status', 'raw_audio', 'spectrograms',\n",
       "       'denoised_spectrograms', 'stretched_spectrograms',\n",
       "       'stretched_denoised_spectrograms', 'stretched_mfccs', 'mfccs', 'zmfccs',\n",
       "       'freq_spectrograms', 'ampli_spectrograms'],\n",
       "      dtype='object')"
      ]
     },
     "execution_count": 28,
     "metadata": {},
     "output_type": "execute_result"
    }
   ],
   "source": [
    "df.columns"
   ]
  },
  {
   "cell_type": "code",
   "execution_count": 37,
   "id": "3953da5b-964b-4b64-96fc-1912b678de6e",
   "metadata": {},
   "outputs": [],
   "source": [
    "info_file = pd.DataFrame({'filename': [x+'.wav' for x in df['callID']],\n",
    "                         'label': df.call_lable,\n",
    "                         'indv': df.indv,\n",
    "                         'ori_label': df.Name})"
   ]
  },
  {
   "cell_type": "code",
   "execution_count": 38,
   "id": "732773da-27d0-4940-a433-eb36f1e4fbcb",
   "metadata": {},
   "outputs": [
    {
     "data": {
      "text/html": [
       "<div>\n",
       "<style scoped>\n",
       "    .dataframe tbody tr th:only-of-type {\n",
       "        vertical-align: middle;\n",
       "    }\n",
       "\n",
       "    .dataframe tbody tr th {\n",
       "        vertical-align: top;\n",
       "    }\n",
       "\n",
       "    .dataframe thead th {\n",
       "        text-align: right;\n",
       "    }\n",
       "</style>\n",
       "<table border=\"1\" class=\"dataframe\">\n",
       "  <thead>\n",
       "    <tr style=\"text-align: right;\">\n",
       "      <th></th>\n",
       "      <th>filename</th>\n",
       "      <th>label</th>\n",
       "      <th>indv</th>\n",
       "      <th>ori_label</th>\n",
       "    </tr>\n",
       "  </thead>\n",
       "  <tbody>\n",
       "    <tr>\n",
       "      <th>26</th>\n",
       "      <td>HM_HMB_R11_AUDIO_file_4_(2017_08_23-06_44_59)_...</td>\n",
       "      <td>al</td>\n",
       "      <td>HMB</td>\n",
       "      <td>ALARM</td>\n",
       "    </tr>\n",
       "    <tr>\n",
       "      <th>27</th>\n",
       "      <td>HM_HMB_R11_AUDIO_file_4_(2017_08_23-06_44_59)_...</td>\n",
       "      <td>al</td>\n",
       "      <td>HMB</td>\n",
       "      <td>ALARM</td>\n",
       "    </tr>\n",
       "    <tr>\n",
       "      <th>28</th>\n",
       "      <td>HM_HMB_R11_AUDIO_file_4_(2017_08_23-06_44_59)_...</td>\n",
       "      <td>al</td>\n",
       "      <td>HMB</td>\n",
       "      <td>ALARM</td>\n",
       "    </tr>\n",
       "    <tr>\n",
       "      <th>29</th>\n",
       "      <td>HM_HMB_R11_AUDIO_file_4_(2017_08_23-06_44_59)_...</td>\n",
       "      <td>al</td>\n",
       "      <td>HMB</td>\n",
       "      <td>ALARM</td>\n",
       "    </tr>\n",
       "    <tr>\n",
       "      <th>30</th>\n",
       "      <td>HM_HMB_R11_AUDIO_file_4_(2017_08_23-06_44_59)_...</td>\n",
       "      <td>al</td>\n",
       "      <td>HMB</td>\n",
       "      <td>ALARM</td>\n",
       "    </tr>\n",
       "    <tr>\n",
       "      <th>...</th>\n",
       "      <td>...</td>\n",
       "      <td>...</td>\n",
       "      <td>...</td>\n",
       "      <td>...</td>\n",
       "    </tr>\n",
       "    <tr>\n",
       "      <th>18941</th>\n",
       "      <td>HM_VHMF001_HTB_R20_20190707-20190719_file_7_(2...</td>\n",
       "      <td>cc</td>\n",
       "      <td>VHMF001</td>\n",
       "      <td>cc $</td>\n",
       "    </tr>\n",
       "    <tr>\n",
       "      <th>13340</th>\n",
       "      <td>HM_RT_R12_file_5_(2017_08_24-06_44_59)_ASWMUX2...</td>\n",
       "      <td>cc</td>\n",
       "      <td>RT</td>\n",
       "      <td>CC</td>\n",
       "    </tr>\n",
       "    <tr>\n",
       "      <th>32998</th>\n",
       "      <td>HM_VHMM023_MBLS_R02_20190707-20190719_file_10_...</td>\n",
       "      <td>cc</td>\n",
       "      <td>VHMM023</td>\n",
       "      <td>cc</td>\n",
       "    </tr>\n",
       "    <tr>\n",
       "      <th>29707</th>\n",
       "      <td>HM_VHMM014_LSTB_R19_20190707-20190719_file_8_(...</td>\n",
       "      <td>cc</td>\n",
       "      <td>VHMM014</td>\n",
       "      <td>cc</td>\n",
       "    </tr>\n",
       "    <tr>\n",
       "      <th>32956</th>\n",
       "      <td>HM_VHMM023_MBLS_R02_20190707-20190719_file_10_...</td>\n",
       "      <td>cc</td>\n",
       "      <td>VHMM023</td>\n",
       "      <td>cc</td>\n",
       "    </tr>\n",
       "  </tbody>\n",
       "</table>\n",
       "<p>6430 rows × 4 columns</p>\n",
       "</div>"
      ],
      "text/plain": [
       "                                                filename label     indv  \\\n",
       "26     HM_HMB_R11_AUDIO_file_4_(2017_08_23-06_44_59)_...    al      HMB   \n",
       "27     HM_HMB_R11_AUDIO_file_4_(2017_08_23-06_44_59)_...    al      HMB   \n",
       "28     HM_HMB_R11_AUDIO_file_4_(2017_08_23-06_44_59)_...    al      HMB   \n",
       "29     HM_HMB_R11_AUDIO_file_4_(2017_08_23-06_44_59)_...    al      HMB   \n",
       "30     HM_HMB_R11_AUDIO_file_4_(2017_08_23-06_44_59)_...    al      HMB   \n",
       "...                                                  ...   ...      ...   \n",
       "18941  HM_VHMF001_HTB_R20_20190707-20190719_file_7_(2...    cc  VHMF001   \n",
       "13340  HM_RT_R12_file_5_(2017_08_24-06_44_59)_ASWMUX2...    cc       RT   \n",
       "32998  HM_VHMM023_MBLS_R02_20190707-20190719_file_10_...    cc  VHMM023   \n",
       "29707  HM_VHMM014_LSTB_R19_20190707-20190719_file_8_(...    cc  VHMM014   \n",
       "32956  HM_VHMM023_MBLS_R02_20190707-20190719_file_10_...    cc  VHMM023   \n",
       "\n",
       "      ori_label  \n",
       "26        ALARM  \n",
       "27        ALARM  \n",
       "28        ALARM  \n",
       "29        ALARM  \n",
       "30        ALARM  \n",
       "...         ...  \n",
       "18941      cc $  \n",
       "13340        CC  \n",
       "32998        cc  \n",
       "29707        cc  \n",
       "32956      cc    \n",
       "\n",
       "[6430 rows x 4 columns]"
      ]
     },
     "execution_count": 38,
     "metadata": {},
     "output_type": "execute_result"
    }
   ],
   "source": [
    "info_file"
   ]
  },
  {
   "cell_type": "code",
   "execution_count": 39,
   "id": "0d6229e6-630e-4bb3-91ca-ed31f3eee747",
   "metadata": {},
   "outputs": [],
   "source": [
    "info_file.to_csv(os.path.join(os.path.sep, DATA, 'info_file.csv'), sep=\";\")"
   ]
  },
  {
   "cell_type": "code",
   "execution_count": null,
   "id": "35d3eb5e-59d1-4cae-9558-dc3b84b36a8a",
   "metadata": {},
   "outputs": [],
   "source": []
  }
 ],
 "metadata": {
  "kernelspec": {
   "display_name": "Python 3",
   "language": "python",
   "name": "python3"
  },
  "language_info": {
   "codemirror_mode": {
    "name": "ipython",
    "version": 3
   },
   "file_extension": ".py",
   "mimetype": "text/x-python",
   "name": "python",
   "nbconvert_exporter": "python",
   "pygments_lexer": "ipython3",
   "version": "3.7.10"
  }
 },
 "nbformat": 4,
 "nbformat_minor": 5
}
