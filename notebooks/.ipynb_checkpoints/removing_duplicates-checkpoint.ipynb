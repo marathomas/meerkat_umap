{
 "cells": [
  {
   "cell_type": "code",
   "execution_count": 1,
   "id": "4410f64a-49a3-4352-9e9c-d0091742bb31",
   "metadata": {},
   "outputs": [],
   "source": [
    "import os\n",
    "import pandas as pd\n",
    "import sys\n",
    "from pathlib import Path\n",
    "import shutil\n",
    "import pickle\n",
    "import collections"
   ]
  },
  {
   "cell_type": "code",
   "execution_count": 2,
   "id": "b579a1d2-319b-4253-96c8-1c894b642a7b",
   "metadata": {},
   "outputs": [],
   "source": [
    "wd = os.getcwd()\n",
    "\n",
    "DATA = os.path.join(os.path.sep, str(Path(wd).parents[0]), \"data\", \"processed\")\n",
    "FIGURES = os.path.join(os.path.sep, str(Path(wd).parents[0]), \"reports\", \"figures\")\n",
    "\n",
    "DF_DICT = {}\n",
    "for dftype in ['full', 'reduced', 'balanced']:\n",
    "    DF_DICT[dftype] = os.path.join(os.path.sep, DATA, \"df_focal_\"+dftype+\".pkl\")"
   ]
  },
  {
   "cell_type": "code",
   "execution_count": 8,
   "id": "482c5493-e3be-4ac9-b0fc-05207ba75b7d",
   "metadata": {},
   "outputs": [
    {
     "name": "stdout",
     "output_type": "stream",
     "text": [
      "full\n",
      "6  duplicates found and removed\n",
      "reduced\n",
      "2  duplicates found and removed\n",
      "balanced\n",
      "0  duplicates found and removed\n"
     ]
    }
   ],
   "source": [
    "for dftype in ['full', 'reduced', 'balanced']:\n",
    "    print(dftype)\n",
    "    df = pd.read_pickle(DF_DICT[dftype])\n",
    "\n",
    "    all_ids = list(df.callID.values)\n",
    "    duplics = [item for item, count in collections.Counter(all_ids).items() if count>1]\n",
    "    \n",
    "    #df[df['callID'].isin(duplics)].sort_values(by=['callID'])\n",
    "    \n",
    "    df = df.drop_duplicates(subset='callID', keep=\"last\")\n",
    "    \n",
    "    df.to_pickle(DF_DICT[dftype])\n",
    "    print(len(duplics), \" duplicates found and removed\")"
   ]
  },
  {
   "cell_type": "code",
   "execution_count": null,
   "id": "81c0dae9-132b-46ee-8d63-fc1788dfacd7",
   "metadata": {},
   "outputs": [],
   "source": []
  }
 ],
 "metadata": {
  "kernelspec": {
   "display_name": "Python 3",
   "language": "python",
   "name": "python3"
  },
  "language_info": {
   "codemirror_mode": {
    "name": "ipython",
    "version": 3
   },
   "file_extension": ".py",
   "mimetype": "text/x-python",
   "name": "python",
   "nbconvert_exporter": "python",
   "pygments_lexer": "ipython3",
   "version": "3.7.10"
  }
 },
 "nbformat": 4,
 "nbformat_minor": 5
}
