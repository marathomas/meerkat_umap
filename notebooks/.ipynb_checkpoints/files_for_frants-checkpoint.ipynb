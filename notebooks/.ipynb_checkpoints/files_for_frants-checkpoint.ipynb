{
 "cells": [
  {
   "cell_type": "code",
   "execution_count": 1,
   "id": "c4171b82-1203-47ad-8206-be56a769343f",
   "metadata": {},
   "outputs": [],
   "source": [
    "import os\n",
    "import pandas as pd\n",
    "import sys\n",
    "import numpy as np\n",
    "from pandas.core.common import flatten\n",
    "import pickle\n",
    "from pathlib import Path\n",
    "import librosa\n",
    "import json\n",
    "import soundfile as sf"
   ]
  },
  {
   "cell_type": "code",
   "execution_count": 12,
   "id": "60224c7d-a6cc-48eb-9f8d-fc6fc4caacbc",
   "metadata": {},
   "outputs": [],
   "source": [
    "wd = os.getcwd()\n",
    "DATA = os.path.join(os.path.sep, str(Path(wd).parents[0]), \"data\", \"processed\")\n",
    "FIGURES = os.path.join(os.path.sep, str(Path(wd).parents[0]), \"reports\", \"figures\", \"hybfu\")\n",
    "AUDIO_IN = os.path.join(os.path.sep, str(Path(wd).parents[0]), \"data\", \"raw\", \"in_wavs\")\n",
    "MEERKAT_CHANNEL = json.load(open(os.path.join(os.path.sep, str(Path(wd).parents[0]), \"data\", \"raw\", \"meerkat_channel.json\")))\n",
    "DF = os.path.join(os.path.sep, DATA, \"df_focal_reduced.pkl\")"
   ]
  },
  {
   "cell_type": "code",
   "execution_count": 9,
   "id": "b66e0079-58bb-4ab4-980f-5bce47c3e62f",
   "metadata": {},
   "outputs": [
    {
     "name": "stdout",
     "output_type": "stream",
     "text": [
      "Generated directory at:  /home/mthomas/Documents/MPI_work/projects/meerkat/meerkat_umap_pv/data/frants\n"
     ]
    }
   ],
   "source": [
    "FRANTS = os.path.join(os.path.sep, str(Path(wd).parents[0]), \"data\", \"frants\")\n",
    "\n",
    "if (not os.path.isdir(FRANTS)):\n",
    "    os.mkdir(FRANTS)\n",
    "    print(\"Generated directory at: \",FRANTS)\n",
    "else:\n",
    "    print(\"Directory already present\")"
   ]
  },
  {
   "cell_type": "code",
   "execution_count": 10,
   "id": "5e5692b0-2310-470b-8288-6e7a64d4be86",
   "metadata": {},
   "outputs": [],
   "source": [
    "# Read file"
   ]
  },
  {
   "cell_type": "code",
   "execution_count": 7,
   "id": "21d4e018-3370-462b-a2a9-6c871b81500c",
   "metadata": {},
   "outputs": [
    {
     "data": {
      "text/plain": [
       "(6430, 34)"
      ]
     },
     "execution_count": 7,
     "metadata": {},
     "output_type": "execute_result"
    }
   ],
   "source": [
    "df = pd.read_pickle(DF)\n",
    "df.shape"
   ]
  },
  {
   "cell_type": "code",
   "execution_count": null,
   "id": "62c8c889-c8e9-4f75-ba5e-3131c03a82ac",
   "metadata": {},
   "outputs": [],
   "source": [
    "files = os.listdir(FRANTS)"
   ]
  },
  {
   "cell_type": "code",
   "execution_count": 18,
   "id": "8b73c1dc-410c-48c2-b4b2-b80737a2e826",
   "metadata": {},
   "outputs": [
    {
     "data": {
      "text/plain": [
       "array(['HM_HMB_R11_AUDIO_file_4_(2017_08_23-06_44_59)_ASWMUX221163___1:10:56.215',\n",
       "       'HM_HMB_R11_AUDIO_file_4_(2017_08_23-06_44_59)_ASWMUX221163___1:12:04.643',\n",
       "       'HM_HMB_R11_AUDIO_file_4_(2017_08_23-06_44_59)_ASWMUX221163___1:12:15.132',\n",
       "       'HM_HMB_R11_AUDIO_file_4_(2017_08_23-06_44_59)_ASWMUX221163___1:12:15.427',\n",
       "       'HM_HMB_R11_AUDIO_file_4_(2017_08_23-06_44_59)_ASWMUX221163___1:12:39.271',\n",
       "       'HM_HMB_R11_AUDIO_file_4_(2017_08_23-06_44_59)_ASWMUX221163___1:13:17.280',\n",
       "       'HM_HMB_R11_AUDIO_file_4_(2017_08_23-06_44_59)_ASWMUX221163___1:13:45.675',\n",
       "       'HM_HMB_R11_AUDIO_file_4_(2017_08_23-06_44_59)_ASWMUX221163___1:23:38.212',\n",
       "       'HM_HMB_R11_AUDIO_file_4_(2017_08_23-06_44_59)_ASWMUX221163___1:23:40.769',\n",
       "       'HM_HMB_R11_AUDIO_file_4_(2017_08_23-06_44_59)_ASWMUX221163___1:23:40.997'],\n",
       "      dtype=object)"
      ]
     },
     "execution_count": 18,
     "metadata": {},
     "output_type": "execute_result"
    }
   ],
   "source": [
    "fileIDs = df.callID.values[0:10]\n",
    "fileIDs\n",
    "#files = os.listdir(DATA+'frants/')\n",
    "#fileIDs = df.callID"
   ]
  },
  {
   "cell_type": "code",
   "execution_count": 19,
   "id": "d08925a9-64a1-4a0c-88b4-14f0ac4f5f0a",
   "metadata": {},
   "outputs": [],
   "source": [
    "def get_audio(wav_loc, start_s, duration_s):\n",
    "    if \"SOUNDFOC\" in wav_loc:\n",
    "        data, rate = librosa.load(wav_loc, offset=start_s, duration=duration_s, sr=None, mono=False)\n",
    "        data = np.asfortranarray(data[MEERKAT_CHANNEL[wav_loc],:])\n",
    "    else:\n",
    "        data, rate = librosa.load(wav_loc, offset=start_s, duration=duration_s, sr=None)\n",
    "    if np.issubdtype(type(data[0]), np.integer):\n",
    "        data = int16_to_float32(data)\n",
    "    return data"
   ]
  },
  {
   "cell_type": "code",
   "execution_count": 25,
   "id": "0b8ddf2a-e5a5-459b-8aed-2cb0e29e6d75",
   "metadata": {},
   "outputs": [],
   "source": [
    "import soundfile as sf"
   ]
  },
  {
   "cell_type": "code",
   "execution_count": 28,
   "id": "f07d43eb-c00d-42c9-bed0-879a6f46fbdd",
   "metadata": {},
   "outputs": [],
   "source": [
    "ys=[]\n",
    "for fileID in fileIDs:\n",
    "    filename = fileID+'.wav'\n",
    "    sr = df.loc[df['callID']==fileID,'samplerate_hz'].values[0]\n",
    "    dur = df.loc[df['callID']==fileID,'duration_s'].values[0]\n",
    "    offset = df.loc[df['callID']==fileID,'start_s'].values[0]\n",
    "    wav_loc = df.loc[df['callID']==fileID,'original_wav'].values[0]\n",
    "\n",
    "  # add padding\n",
    "    dur = dur+0.2\n",
    "    offset = offset-0.1\n",
    "\n",
    "    y = get_audio(wav_loc, offset, dur)\n",
    "    #librosa.write_wav(os.path.join(os.path.sep,FRANTS,filename), y, sr, norm=False)\n",
    "    \n",
    "    # Write out audio as 24bit PCM WAV\n",
    "    sf.write(os.path.join(os.path.sep,FRANTS,filename), y, sr, subtype='PCM_24')"
   ]
  },
  {
   "cell_type": "code",
   "execution_count": null,
   "id": "f9081aa1-7494-474d-a230-fa94a9fc90c5",
   "metadata": {},
   "outputs": [],
   "source": [
    "\n",
    "sr = spec_df.loc[spec_df['index_id']==fileID,'samplerate_hz'].values[0]\n",
    "dur = spec_df.loc[spec_df['index_id']==fileID,'duration_s'].values[0]\n",
    "offset = spec_df.loc[spec_df['index_id']==fileID,'start_s'].values[0]\n",
    "wav_loc = spec_df.loc[spec_df['index_id']==fileID,'original_wav'].values[0]\n",
    "\n",
    "# add padding\n",
    "dur = dur+0.2\n",
    "offset = offset-0.1\n",
    "\n",
    "y = get_audio(wav_loc, offset, dur)\n",
    "librosa.output.write_wav(DATA+'frants/padded_'+filename, y, sr, norm=False)\n"
   ]
  },
  {
   "cell_type": "code",
   "execution_count": null,
   "id": "ffb5a505-718f-4e3f-a26e-d7f20671581e",
   "metadata": {},
   "outputs": [],
   "source": []
  },
  {
   "cell_type": "code",
   "execution_count": null,
   "id": "b7807de6-95ce-4517-b869-ffb33eb3b47f",
   "metadata": {},
   "outputs": [],
   "source": []
  }
 ],
 "metadata": {
  "kernelspec": {
   "display_name": "Python 3",
   "language": "python",
   "name": "python3"
  },
  "language_info": {
   "codemirror_mode": {
    "name": "ipython",
    "version": 3
   },
   "file_extension": ".py",
   "mimetype": "text/x-python",
   "name": "python",
   "nbconvert_exporter": "python",
   "pygments_lexer": "ipython3",
   "version": "3.7.10"
  }
 },
 "nbformat": 4,
 "nbformat_minor": 5
}
