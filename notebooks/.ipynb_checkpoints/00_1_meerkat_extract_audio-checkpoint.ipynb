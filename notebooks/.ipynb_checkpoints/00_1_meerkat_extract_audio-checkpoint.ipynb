{
 "cells": [
  {
   "cell_type": "markdown",
   "metadata": {
    "id": "ObimIqrg4wDd"
   },
   "source": [
    "# Introduction\n",
    "\n",
    "Reading in long wav files containing meerkat vocalisations and csv files containing the respective labeling. Wav files contain many vocalizations and periods of silence, and label files (CSV) indicate at what time vocalisations occur (and what type of vocalisation they are). The result is a dataframe with n_rows = number of vocalisations, metadata and the call audio data."
   ]
  },
  {
   "cell_type": "markdown",
   "metadata": {
    "id": "SC7ORuA28opQ"
   },
   "source": [
    "## Prerequisites\n",
    "\n",
    "- Project folder must contain subfolder called \"in_labels\", containing all label tables in csv format \n",
    "- Project folder must contain subfolder called \"in_wavs\", containing all audio files"
   ]
  },
  {
   "cell_type": "markdown",
   "metadata": {
    "id": "TecLeuUBRC57"
   },
   "source": [
    "### Installing and loading libraries"
   ]
  },
  {
   "cell_type": "markdown",
   "metadata": {
    "id": "ExebezW7wqPz"
   },
   "source": [
    "(software installations within Google Colaboratory are not persistent, need to reinstall libraries every time you (re-)connect to an instance)"
   ]
  },
  {
   "cell_type": "code",
   "execution_count": 1,
   "metadata": {
    "colab": {
     "base_uri": "https://localhost:8080/"
    },
    "id": "0F5vdvXWeeZn",
    "outputId": "1e62c21b-44ef-4a95-d911-c359abcf7895"
   },
   "outputs": [],
   "source": [
    "import os\n",
    "import pandas as pd\n",
    "import sys\n",
    "import re\n",
    "import json\n",
    "import librosa\n",
    "import librosa.display\n",
    "from IPython.display import Audio\n",
    "import numpy as np\n",
    "import statistics\n",
    "import matplotlib.pyplot as plt\n",
    "from datetime import time\n",
    "from datetime import datetime\n",
    "import glob\n",
    "from pandas.core.common import flatten\n",
    "import shutil\n",
    "import pickle\n",
    "from pathlib import Path\n",
    "import datetime"
   ]
  },
  {
   "cell_type": "markdown",
   "metadata": {
    "id": "rFQH__8fWc2D"
   },
   "source": [
    "### Setting constants"
   ]
  },
  {
   "cell_type": "markdown",
   "metadata": {
    "id": "kHkKwuIE5KRM"
   },
   "source": [
    "Setting project, input and output folders."
   ]
  },
  {
   "cell_type": "code",
   "execution_count": 2,
   "metadata": {},
   "outputs": [],
   "source": [
    "wd = os.getcwd()\n",
    "\n",
    "DATA = os.path.join(os.path.sep, str(Path(wd).parents[0]), \"data\", \"processed\")\n",
    "LABELS_IN = os.path.join(os.path.sep, str(Path(wd).parents[0]), \"data\", \"raw\", \"in_labels\")\n",
    "AUDIO_IN = os.path.join(os.path.sep, str(Path(wd).parents[0]), \"data\", \"raw\", \"in_wavs\")\n",
    "LABELS_OUT = os.path.join(os.path.sep, str(Path(wd).parents[0]), \"data\", \"raw\", \"labels\")\n",
    "\n",
    "for d in [LABELS_IN, AUDIO_IN, LABELS_OUT]:\n",
    "    if (not os.path.isdir(d)):\n",
    "        os.mkdir(d)\n",
    "        \n",
    "MEERKAT_CHANNEL = json.load(open(os.path.join(os.path.sep, str(Path(wd).parents[0]), \"data\", \"raw\", \"meerkat_channel.json\")))\n",
    "MEERKAT_INFO_PATH = os.path.join(os.path.sep, str(Path(wd).parents[0]), \"data\", \"raw\", \"Meerkat_info.csv\")"
   ]
  },
  {
   "cell_type": "code",
   "execution_count": 4,
   "metadata": {
    "id": "TFBGs1ESQdsl"
   },
   "outputs": [],
   "source": [
    "# Constants for parsing label files:\n",
    "#- column names in labels CSV that indicate start and duration\n",
    "START_COL = 'Start'\n",
    "DUR_COL = 'Duration'\n",
    "GROUP = 'HM'"
   ]
  },
  {
   "cell_type": "markdown",
   "metadata": {
    "id": "K4SE3XuA5pfl"
   },
   "source": [
    "## Functions"
   ]
  },
  {
   "cell_type": "code",
   "execution_count": 3,
   "metadata": {
    "id": "LFgxTaH116Pr"
   },
   "outputs": [],
   "source": [
    "# removes everything up to the first numeric char\n",
    "def rem_nonnumeric(str): \n",
    "    foundDigit=False\n",
    "    pos=0\n",
    "    for char in str:\n",
    "        if(char.isdigit()):\n",
    "            return(str[pos:])\n",
    "        pos=pos+1\n",
    "    return str \n",
    "\n",
    "# Function that gets fileID from csv filename\n",
    "# Input: csv_filename (not path!) (String)\n",
    "# Output: csv_filename up to the last numeric character\n",
    "def fileID_from_csv_filename(csv_in):\n",
    "    csv_in = csv_in[::-1]  # reverse string\n",
    "    csv_out = rem_nonnumeric(csv_in)\n",
    "    csv_out = csv_out[::-1] # reverse to normal again\n",
    "    return (csv_out)\n",
    "  \n",
    "# Function that gets datatime object from timestring\n",
    "# timestring must match one of the given time_patterns\n",
    "# Input: some string containing a time (String)\n",
    "# Output: datetime object\n",
    "# Example usage: dt = get_time(\"01:02:30.555\")\n",
    "def get_time(timestring):\n",
    "    time_patterns = ['%H:%M:%S.%f', '%M:%S.%f']\n",
    "    for pattern in time_patterns:\n",
    "        try:\n",
    "            return datetime.datetime.strptime(timestring, pattern)\n",
    "        except:\n",
    "            pass\n",
    "\n",
    "    print(\"Date is not in expected format\")\n",
    "    \n",
    "    sys.exit(0)\n",
    "\n",
    "# Function that converts time in datatime object to s \n",
    "# Input: datatime (datatime.datatime)\n",
    "# Output: time in ms (float)\n",
    "# Example usage: s = get_s(datatime_obj)\n",
    "def get_s(dt):\n",
    "    return (dt.microsecond/1000000+dt.second + dt.minute*60 + dt.hour*60*60)\n",
    "\n",
    "# Function to get meerkat ID (alphanumeric string) from filename\n",
    "# filename is always HM_meerkatID_*.extension\n",
    "# Input: filename (String)\n",
    "# Output: meerkat ID (String)\n",
    "# Example use: get_meerkatID('HM_VHMM003_HLT_AUDIO_R12_file_5_(2017_08_06-06_44_59)_ASWMUX221102.wav')\n",
    "\n",
    "def get_meerkatID(filename):\n",
    "    meerkatID = filename.replace(GROUP+'_','')\n",
    "    meerkatID = str.split(meerkatID, sep='_')[0]\n",
    "    return meerkatID\n",
    "\n",
    "# Function to get date from filename\n",
    "# date in filename must be in one of the three patterns\n",
    "# Input: filename (String)\n",
    "# Output: datetime object\n",
    "# Example use: get_datetime('HM_VHMF001_HTB_R20_20190707-20190719_file_9_(2019_07_15-11_44_59)_155944')\n",
    "\n",
    "# NEED TO REWRITE\n",
    "\n",
    "def get_datetime(filename):\n",
    "    match = re.search('\\d{4}-\\d{2}-\\d{2}', filename)\n",
    "    if (match):\n",
    "        #date = datetime.strptime(match.group(), '%Y-%m-%d').date()\n",
    "        date = datetime.datetime.strptime(match.group(), '%Y-%m-%d').date()\n",
    "    else:\n",
    "        match = re.search('\\d{4}_\\d{2}_\\d{2}', filename)\n",
    "        if (match):\n",
    "            #date = datetime.strptime(match.group(), '%Y_%m_%d').date() \n",
    "            date = datetime.datetime.strptime(match.group(), '%Y_%m_%d').date() \n",
    "\n",
    "        else:\n",
    "            match = re.search('\\d{4}\\d{2}\\d{2}', filename)\n",
    "            if(match):\n",
    "                #date = datetime.strptime(match.group(), '%Y%m%d').date()\n",
    "                date = datetime.datetime.strptime(match.group(), '%Y%m%d').date()\n",
    "    return date\n",
    "\n",
    "\n",
    "# Function that produces a labeltable from given csv+wav pairing\n",
    "# Input: csv_file location (String), wav_file location (String), fileID (String)\n",
    "# Output: labeltable (pd dataframe)\n",
    "\n",
    "def prep_labels(csv_loc, wav_loc, fileID):\n",
    "\n",
    "  # read in labels\n",
    "    labels = pd.read_csv(csv_loc, sep=\"\\t\")\n",
    "\n",
    "  # find name of column that contains the labels. Should contain 'Name'\n",
    "    name_col = [col for col in labels.columns if 'Name' in col]\n",
    "    if(len(name_col)==1):\n",
    "        name_col = name_col[0]\n",
    "        #call = [\"n\" if any(s in i for s in IRRELEVANT_LABELS) else \"y\" for i in list(labels[name_col])]\n",
    "        #labels['call_yn'] = call\n",
    "    else:\n",
    "        print(\"Cannot find label name column\")\n",
    "  \n",
    "  # Add start stop s\n",
    "    if (labels.shape[0]!=0):\n",
    "        labels['start_s'] = labels.apply(lambda row: get_s(get_time(row['Start'])), axis=1)\n",
    "        labels['duration_s'] = labels.apply(lambda row: get_s(get_time(row['Duration'])), axis=1)\n",
    "        labels['stop_s'] = labels['start_s']+labels['duration_s']\n",
    "\n",
    "        # Add additional data\n",
    "        labels['date']=[get_datetime(fileID).strftime(\"%Y-%m-%d\")]*labels.shape[0]\n",
    "        labels['samplerate_hz'] = [librosa.get_samplerate(wav_loc)]*labels.shape[0]\n",
    "        labels['indv'] = [get_meerkatID(fileID)]*labels.shape[0]\n",
    "        labels[\"original_wav\"] = [wav_loc]*labels.shape[0]\n",
    "        labels[\"bout_number\"] = [i for i in range(labels.shape[0])]\n",
    "\n",
    "    labels = labels.rename(columns={name_col: 'Name'})\n",
    "\n",
    "    return labels\n",
    "\n",
    "# Function that gets audio data (numpy array of amplitude) from wav\n",
    "# If \"SOUNDFOC\" is in filename, assumes that audio is stereo and \n",
    "# looks up the channel with meerkat vocalizations in MEERKAT_CHANNEL dictionary.\n",
    "# Else assumes mono.\n",
    "# Input: Path to wav file (String),\n",
    "#        offset in s (Float),\n",
    "#        duration in s (Float)\n",
    "# Output: Amplitude (numpy array)\n",
    "\n",
    "def get_audio(wav_loc, start_s, duration_s):\n",
    "  # SOUNDFOCs are stereo\n",
    "    if \"SOUNDFOC\" in wav_loc:\n",
    "        data, rate = librosa.load(wav_loc, offset=start_s, duration=duration_s, sr=None, mono=False)\n",
    "        wav_filename = os.path.basename(wav_loc)\n",
    "        if wav_filename in MEERKAT_CHANNEL.keys():\n",
    "            channel = MEERKAT_CHANNEL[wav_filename]\n",
    "        else:\n",
    "            channel = 0\n",
    "        data = np.asfortranarray(data[channel,:])\n",
    "    else:\n",
    "        data, rate = librosa.load(wav_loc, offset=start_s, duration=duration_s, sr=None)\n",
    "\n",
    "    if np.issubdtype(type(data[0]), np.integer):\n",
    "        data = data.astype('float32') # hope this will work\n",
    "        #data = int16_to_float32(data) # this was the original version but must have deleted this function!? \n",
    "    return data"
   ]
  },
  {
   "cell_type": "markdown",
   "metadata": {
    "id": "IjtDjnHLt4ET"
   },
   "source": [
    "## Processing files"
   ]
  },
  {
   "cell_type": "code",
   "execution_count": 4,
   "metadata": {},
   "outputs": [],
   "source": [
    "LABELS_IN = LABELS_IN + \"/\"\n",
    "AUDIO_IN = AUDIO_IN + \"/\"\n",
    "LABELS_OUT = LABELS_OUT + \"/\""
   ]
  },
  {
   "cell_type": "markdown",
   "metadata": {
    "id": "uw0bCcsAOmD9"
   },
   "source": [
    "### Setting variables"
   ]
  },
  {
   "cell_type": "markdown",
   "metadata": {
    "id": "8GcTYb6E_GOg"
   },
   "source": [
    "Getting list of csvs and matching wavs"
   ]
  },
  {
   "cell_type": "code",
   "execution_count": 5,
   "metadata": {
    "id": "jQVZb9G3_BWa"
   },
   "outputs": [],
   "source": [
    "# Getting list of fileIDs, wavs and csvs (fileID, in_wav_loc and in_csv_loc)\n",
    "\n",
    "in_csv_loc = glob.glob(LABELS_IN+'*.csv') + glob.glob(LABELS_IN+'*.CSV')\n",
    "csv_filenames = [os.path.basename(csv) for csv in in_csv_loc]\n",
    "\n",
    "fileIDs = [fileID_from_csv_filename(csv_filename) for csv_filename in csv_filenames]\n",
    "\n",
    "in_wav_loc = [glob.glob(AUDIO_IN+fileID+'*') for fileID in fileIDs] # creates list of lists\n",
    "in_wav_loc = [[\"NA\"] if not x else x for x in in_wav_loc] # Replace empty lists with \"NA\"\n",
    "in_wav_loc = list(flatten(in_wav_loc)) # Flatten list"
   ]
  },
  {
   "cell_type": "markdown",
   "metadata": {
    "id": "u3Kk_BqcsWn2"
   },
   "source": [
    "### Removing bad quality files"
   ]
  },
  {
   "cell_type": "markdown",
   "metadata": {
    "id": "17NrQ_wwuoC6"
   },
   "source": [
    "Removing files with bad quality"
   ]
  },
  {
   "cell_type": "code",
   "execution_count": 39,
   "metadata": {
    "id": "i7u1VkkrymoH"
   },
   "outputs": [],
   "source": [
    "badIDs = ['HM_VHMM007_LT_AUDIO_R11_file_5_(2017_08_06-06_44_59)_ASWMUX221163', \n",
    "           'HM_VHMM006_RT_AUDIO_R14_file_5_(2017_08_06-06_44_59)_ASWMUX221052']"
   ]
  },
  {
   "cell_type": "code",
   "execution_count": 40,
   "metadata": {
    "id": "qgasxnU8tAvk"
   },
   "outputs": [],
   "source": [
    "bad_csvs = [glob.glob(LABELS_IN+fileID+'*') for fileID in badIDs]\n",
    "bad_csvs = list(flatten(bad_csvs))\n",
    "\n",
    "bad_wavs = []\n",
    "for bad_csv in bad_csvs:\n",
    "    bad_wavs.append(in_wav_loc[in_csv_loc.index(bad_csv)])\n",
    "\n",
    "for bad_csv in bad_csvs:\n",
    "    in_csv_loc.remove(bad_csv)\n",
    "for bad_wav in bad_wavs:\n",
    "    in_wav_loc.remove(bad_wav)\n",
    "for badID in badIDs:\n",
    "    fileIDs.remove(badID)"
   ]
  },
  {
   "cell_type": "code",
   "execution_count": 41,
   "metadata": {
    "colab": {
     "base_uri": "https://localhost:8080/"
    },
    "id": "61Z03jBryr4L",
    "outputId": "be56ba83-3e82-4072-a4da-51777cd6ce7e"
   },
   "outputs": [
    {
     "name": "stdout",
     "output_type": "stream",
     "text": [
      "114 files remaining\n"
     ]
    }
   ],
   "source": [
    "print(str(len(fileIDs))+\" files remaining\") # all files"
   ]
  },
  {
   "cell_type": "markdown",
   "metadata": {
    "id": "7oYWlOSQjwtV"
   },
   "source": [
    "### Generating label files"
   ]
  },
  {
   "cell_type": "code",
   "execution_count": 42,
   "metadata": {
    "colab": {
     "base_uri": "https://localhost:8080/"
    },
    "id": "6eYCtEhgz8Yu",
    "outputId": "8c9488be-adfa-4fe0-a265-41d92f8e7bbf"
   },
   "outputs": [
    {
     "name": "stdout",
     "output_type": "stream",
     "text": [
      "Processing HM_VHMM023_MBLS_R02_20190707-20190719_file_8_(2019_07_14-11_44_59)_145944\n",
      "Processing HM_VCVM001_SOUNDFOC_20190712_2\n",
      "Processing HM_VHMM021_MBLT_R01_20190707-20190719_file_6_(2019_07_12-11_44_59)_125944\n",
      "Processing HM_VHMM014_LSTB_R19_20190707-20190719_file_6_(2019_07_12-11_44_59)_125944\n",
      "Processing HM_VHMF015_RTTB_R05_20190707-20190719_file_8_(2019_07_14-11_44_59)_145944\n",
      "Processing HM_VHMM017_RSTB_R23_20190708-20190720_file_9_(2019_07_15-11_44_59)_155944\n",
      "Processing HM_VHMM023_MBLS_R02_20190707-20190719_file_6_(2019_07_12-11_44_59)_125944\n",
      "Processing HM_VHMF001_HTB_R20_20190707-20190719_file_10_(2019_07_16-11_44_59)_165944\n",
      "Processing HM_VHMM023_MBLS_R02_20190707-20190719_file_9_(2019_07_15-11_44_59)_155944\n",
      "Processing HM_VHMM008_SHTB_R14_20190707-20190719_file_9_(2019_07_15-11_44_59)_155944\n",
      "Processing HM_VHMF022_MBRS_R22_20190707-20190719_file_7_(2019_07_13-11_44_59)_135944\n",
      "Processing HM_RT_R12_file_5_(2017_08_24-06_44_59)_ASWMUX221102\n",
      "Processing HM_VHMM017_RSTB_R23_20190708-20190720_file_10_(2019_07_16-11_44_59)_165944\n",
      "Processing HM_VHMM023_MBLS_R02_20190707-20190719_file_10_(2019_07_16-11_44_59)_165944\n",
      "Processing HM_HRT_R07_20170903-20170908_file_2_(2017_09_03-05_44_59)_ASWMUX221092\n",
      "Processing HM_VCVM001_SOUNDFOC_20190716_2\n",
      "No wav for HM_VHMM003_SOUNDFOC_20170905_4\n",
      "Processing HM_HRT_R09_AUDIO_file_5_(2017_08_24-06_44_59)_ASWMUX221110\n",
      "No wav for HM_VLF206_SOUNDFOC_20170903\n",
      "Processing HM_VHMM014_LSTB_R19_20190707-20190719_file_8_(2019_07_14-11_44_59)_145944\n",
      "Processing HM_VLF206_SOUNDFOC_20170806_4\n",
      "Processing HM_VHMF015_RTTB_R05_20190707-20190719_file_9_(2019_07_15-11_44_59)_155944\n",
      "Processing HM_VHMM008_SHTB_R14_20190707-20190719_file_10_(2019_07_16-11_44_59)_165944\n",
      "Processing HM_VHMM021_MBLT_R01_20190707-20190719_file_10_(2019_07_16-11_44_59)_165944\n",
      "Processing HM_VHMF022_MBRS_R22_20190707-20190719_file_10_(2019_07_16-11_44_59)_165944\n",
      "Processing HM_VHMM021_MBLT_R01_20190707-20190719_file_8_(2019_07_14-11_44_59)_145944\n",
      "Processing HM_VHMF001_HTB_R20_20190707-20190719_file_9_(2019_07_15-11_44_59)_155944\n",
      "Processing HM_VCVM001_SOUNDFOC_20190716_1\n",
      "Processing HM_VCVM001_SOUNDFOC_20190712_1\n",
      "Processing HM_VHMM007_LSLT_R17_20190707-20190719_file_7_(2019_07_13-11_44_59)_135944\n",
      "Processing HM_VLF206_SOUNDFOC_20170823_2\n",
      "Processing HM_HTB_R14_file_5_(2017_08_24-06_44_59)_ASWMUX221052\n",
      "Processing HM_VHMM021_MBLT_R01_20190707-20190719_file_7_(2019_07_13-11_44_59)_135944\n",
      "Processing HM_VHMM021_MBLT_R01_20190707-20190719_file_9_(2019_07_15-11_44_59)_155944\n",
      "Processing HM_VHMF022_MBRS_R22_20190707-20190719_file_8_(2019_07_14-11_44_59)_145944\n",
      "Processing HM_VHMM003_SOUNDFOC_20170824_2\n",
      "Processing HM_VHMF010_SOUNDFOC_20190713\n",
      "Processing HM_VLF206_SOUNDFOC_20170825_2\n",
      "Processing HM_VHMF001_HTB_R20_20190707-20190719_file_6_(2019_07_12-11_44_59)_125944\n",
      "Processing HM_VHMM017_RSTB_R23_20190708-20190720_file_6_(2019_07_12-11_44_59)_125944\n",
      "Processing HM_VLF206_SOUNDFOC_20170824_1\n",
      "Processing HM_VHMM003_SOUNDFOC_20170825_2\n",
      "Processing HM_VLF206_SOUNDFOC_20170806_2\n",
      "Processing HM_VHMF015_RTTB_R05_20190707-20190719_file_10_(2019_07_16-11_44_59)_165944\n",
      "Processing HM_VLF206_SOUNDFOC_20170806_3\n",
      "Processing HM_VHMM008_SHTB_R14_20190707-20190719_file_7_(2019_07_13-11_44_59)_135944\n",
      "Processing HM_RT_R12_file_6_(2017_08_25-06_44_59)_ASWMUX221102\n",
      "Processing HM_VHMM007_LSLT_R17_20190707-20190719_file_9_(2019_07_15-11_44_59)_155944\n",
      "Processing HM_HRT_R09_AUDIO_file_4_(2017_08_23-06_44_59)_ASWMUX221110\n",
      "Processing HM_VHMM014_LSTB_R19_20190707-20190719_file_10_(2019_07_16-11_44_59)_165944\n",
      "Processing HM_VHMF010_SOUNDFOC_HM_20190717_2\n",
      "Processing HM_VHMM008_SHTB_R14_20190707-20190719_file_8_(2019_07_14-11_44_59)_145944\n",
      "Processing HM_VCVM001_SOUNDFOC_HM_20190717\n",
      "Processing HM_RT_R12_file_4_(2017_08_23-06_44_59)_ASWMUX221102\n",
      "Processing HM_HMB_R11_AUDIO_file_6_(2017_08_25-06_44_59)_ASWMUX221163\n",
      "Processing HM_VHMM007_LSLT_R17_20190707-20190719_file_6_(2019_07_12-11_44_59)_125944\n",
      "Processing HM_VHMM016_LTTB_R29_20190707-20190719_file_7_(2019_07_13-11_44_59)_135944\n",
      "Processing HM_VHMF001_HTB_R20_20190707-20190719_file_7_(2019_07_13-11_44_59)_135944\n",
      "Processing HM_LT_R07_AUDIO_file_4_(2017_08_23-06_44_59)_ASWMUX221092\n",
      "Processing HM_VHMF015_RTTB_R05_20190707-20190719_file_6_(2019_07_12-11_44_59)_125944\n",
      "Processing HM_VHMF019_MBTB_R25_20190707-20190719_file_9_(2019_07_15-11_44_59)_155944\n",
      "Processing HM_VHMF019_MBTB_R25_20190707-20190719_file_10_(2019_07_16-11_44_59)_165944\n",
      "Processing HM_PET_R11_20170903-20170908_file_4_(2017_09_05-05_44_59)_ASWMUX221163\n",
      "Processing HM_VHMF015_RTTB_R05_20190707-20190719_file_7_(2019_07_13-11_44_59)_135944\n",
      "Processing HM_LT_R07_AUDIO_file_5_(2017_08_24-06_44_59)_ASWMUX221092\n",
      "Processing HM_VHMF022_MBRS_R22_20190707-20190719_file_9_(2019_07_15-11_44_59)_155944\n",
      "Processing HM_PET_R11_20170903-20170908_file_3_(2017_09_04-05_44_59)_ASWMUX221163\n",
      "Processing HM_VHMF010_SOUNDFOC_20190714\n",
      "Processing HM_VHMM002_HRT_AUDIO_R09_file_5_(2017_08_06-06_44_59)_ASWMUX221110\n",
      "Processing HM_HMB_R11_AUDIO_file_4_(2017_08_23-06_44_59)_ASWMUX221163\n",
      "Processing HM_HTB_R14_file_6_(2017_08_25-06_44_59)_ASWMUX221052\n",
      "No wav for HM_VLF206_SOUNDFOC_20170905_2\n",
      "Processing HM_VHMF019_MBTB_R25_20190707-20190719_file_6_(2019_07_12-11_44_59)_125944\n",
      "Processing HM_VHMM002_HRT_AUDIO_R09_file_6_(2017_08_07-06_44_59)_ASWMUX221110\n",
      "Processing HM_VHMM007_LSLT_R17_20190707-20190719_file_8_(2019_07_14-11_44_59)_145944\n",
      "Processing HM_RT_R10_20170903-20170908_file_2_(2017_09_03-05_44_59)_ASWMUX221102\n",
      "Processing HM_VCVM001_SOUNDFOC_20190713_1\n",
      "Processing HM_VHMF010_SOUNDFOC_20190712\n",
      "Processing HM_VLF206_SOUNDFOC_20170823_1\n",
      "Processing HM_PET_R11_20170903-20170908_file_2_(2017_09_03-05_44_59)_ASWMUX221163\n",
      "No wav for HM_VHMM003_SOUNDFOC_20170905_3\n",
      "Processing HM_VLF206_SOUNDFOC_20170825_1\n",
      "Processing HM_VHMM017_RSTB_R23_20190708-20190720_file_7_(2019_07_13-11_44_59)_135944\n",
      "Processing HM_VHMM023_MBLS_R02_20190707-20190719_file_7_(2019_07_13-11_44_59)_135944\n",
      "Processing HM_VHMF022_MBRS_R22_20190707-20190719_file_6_(2019_07_12-11_44_59)_125944\n",
      "Processing HM_HRT_R09_AUDIO_file_6_(2017_08_25-06_44_59)_ASWMUX221110\n",
      "Processing HM_LT_R09_20170903-20170908_file_2_(2017_09_03-05_44_59)_ASWMUX221110\n",
      "Processing HM_VHMM007_LSLT_R17_20190707-20190719_file_10_(2019_07_16-11_44_59)_165944\n",
      "Processing HM_VHMM017_RSTB_R23_20190708-20190720_file_11_(2019_07_17-11_44_59)_175944\n",
      "Processing HM_VHMF019_MBTB_R25_20190707-20190719_file_8_(2019_07_14-11_44_59)_145944\n",
      "Processing HM_VHMM003_SOUNDFOC_20170825_3\n",
      "Processing HM_VCVM001_SOUNDFOC_20190715_1\n",
      "Processing HM_VCVM001_SOUNDFOC_20190714_1\n",
      "Processing HM_VHMM017_RSTB_R23_20190708-20190720_file_8_(2019_07_14-11_44_59)_145944\n",
      "Processing HM_HMB_R11_AUDIO_file_5_(2017_08_24-06_44_59)_ASWMUX221163\n",
      "Processing HM_VCVM001_HMB_AUDIO_R08_ file_2_(2017_08_03-06_44_59)_ASWMUX221153\n",
      "Processing HM_VLF206_SOUNDFOC_20170824_2\n",
      "Processing HM_LT_R07_AUDIO_file_6_(2017_08_25-06_44_59)_ASWMUX221092\n",
      "Processing HM_VHMF010_SOUNDFOC_20190715\n",
      "No wav for HM_VLF206_SOUNDFOC_20170905_1\n",
      "Processing HM_HTB_R14_file_4_(2017_08_23-06_44_59)_ASWMUX221052\n",
      "Processing HM_VHMF019_MBTB_R25_20190707-20190719_file_7_(2019_07_13-11_44_59)_135944\n",
      "Processing HM_VHMF001_HTB_R20_20190707-20190719_file_8_(2019_07_14-11_44_59)_145944\n",
      "Processing HM_VHMF010_SOUNDFOC_HM_20190717_1\n",
      "Processing HM_VHMM016_LTTB_R29_20190707-20190719_file_9_(2019_07_15-11_44_59)_155944\n",
      "Processing HM_VHMM008_SHTB_R14_20190707-20190719_file_6_(2019_07_12-11_44_59)_125944\n",
      "Processing HM_HTB_R14_20170903-20170908_file_2_(2017_09_03-05_44_59)_ASWMUX221052\n",
      "No wav for HM_VHMM003_SOUNDFOC_20170905_2\n",
      "Processing HM_RT_R10_20170903-20170908_file_4_(2017_09_05-05_44_59)_ASWMUX221102\n",
      "Processing HM_VCVM001_AUDIO_file_5_(2017_08_06-06_44_59)_ASWMUX221153\n",
      "Processing HM_VHMF001_HTB_AUDIO_R07_file_5_(2017_08_06-06_44_59)_ASWMUX221092\n",
      "Processing HM_LT_R09_20170903-20170908_file_4_(2017_09_05-05_44_59)_ASWMUX221110\n",
      "Processing HM_HRT_R07_20170903-20170908_file_4_(2017_09_05-05_44_59)_ASWMUX221092\n",
      "Processing HM_VHMM003_HLT_AUDIO_R12_file_5_(2017_08_06-06_44_59)_ASWMUX221102\n"
     ]
    }
   ],
   "source": [
    "for csv, wav, fileID in zip(in_csv_loc, in_wav_loc, fileIDs):\n",
    "    if not wav=='NA':\n",
    "        print(\"Processing \"+fileID)\n",
    "        # Parse labels\n",
    "        labels = prep_labels(csv, wav, fileID)  \n",
    "        # If labels is non-empty...\n",
    "        if (labels.shape[0]!=0):\n",
    "            labels.to_csv(LABELS_OUT+fileID+\"_labels.csv\", index=False)\n",
    "        else:\n",
    "            print(\"No labelled calls for \"+fileID)\n",
    "    else:\n",
    "        print(\"No wav for \"+fileID)"
   ]
  },
  {
   "cell_type": "code",
   "execution_count": 43,
   "metadata": {
    "colab": {
     "base_uri": "https://localhost:8080/"
    },
    "id": "k5Cjg3w1tA_H",
    "outputId": "b2bf515f-d3ba-4f25-8eb5-26596061ae09"
   },
   "outputs": [
    {
     "name": "stdout",
     "output_type": "stream",
     "text": [
      "Generated 108 label files\n"
     ]
    }
   ],
   "source": [
    "print(\"Generated \"+str(len(glob.glob(LABELS_OUT+'*')))+\" label files\") # all"
   ]
  },
  {
   "cell_type": "markdown",
   "metadata": {
    "id": "5rDW_Qsfvnon"
   },
   "source": [
    "### Get updated list of wav and labels file locations"
   ]
  },
  {
   "cell_type": "code",
   "execution_count": 44,
   "metadata": {
    "id": "SC7VfmA2YhvY"
   },
   "outputs": [],
   "source": [
    "# List of all wav filepaths (to full wav files, not just the calls), where I have \n",
    "# a labels file in LABELS_OUT. Therefore, do it kind of backwards.\n",
    "\n",
    "labels_loc = glob.glob(LABELS_OUT+'*.csv')\n",
    "fileIDs = [os.path.basename(item).replace('_labels.csv', '') for item in labels_loc] \n",
    "\n",
    "wavs_loc = [glob.glob(AUDIO_IN+fileID+'*') for fileID in fileIDs] # creates list of lists\n",
    "wavs_loc = [[\"NA\"] if not x else x for x in wavs_loc] # Replace empty lists with \"NA\"\n",
    "wavs_loc = list(flatten(wavs_loc)) # Flatten list\n",
    "\n",
    "# check for NAs, should be none!\n",
    "for ID, wav in zip(fileIDs, wavs_loc):\n",
    "    if wav==\"NA\":\n",
    "        print(\"Error, wav file missing for \"+ID)"
   ]
  },
  {
   "cell_type": "markdown",
   "metadata": {
    "id": "y6S5d24Fycqv"
   },
   "source": [
    "### Make a dataframe for the whole dataset"
   ]
  },
  {
   "cell_type": "code",
   "execution_count": 186,
   "metadata": {
    "colab": {
     "base_uri": "https://localhost:8080/"
    },
    "id": "7NJb0ILeycEY",
    "outputId": "f05a22cf-c28c-4845-9e06-1f34b8691c0d"
   },
   "outputs": [
    {
     "name": "stdout",
     "output_type": "stream",
     "text": [
      "Reading label df for HM_VHMM007_LSLT_R17_20190707-20190719_file_10_(2019_07_16-11_44_59)_165944_labels.csv\n",
      "Reading label df for HM_VHMF015_RTTB_R05_20190707-20190719_file_7_(2019_07_13-11_44_59)_135944_labels.csv\n",
      "Reading label df for HM_VHMM003_SOUNDFOC_20170824_2_labels.csv\n",
      "Reading label df for HM_VHMM017_RSTB_R23_20190708-20190720_file_6_(2019_07_12-11_44_59)_125944_labels.csv\n",
      "Reading label df for HM_VCVM001_SOUNDFOC_20190716_2_labels.csv\n",
      "Reading label df for HM_VHMF010_SOUNDFOC_20190715_labels.csv\n",
      "Reading label df for HM_VHMM003_SOUNDFOC_20170825_3_labels.csv\n",
      "Reading label df for HM_LT_R09_20170903-20170908_file_2_(2017_09_03-05_44_59)_ASWMUX221110_labels.csv\n",
      "Reading label df for HM_VHMM014_LSTB_R19_20190707-20190719_file_8_(2019_07_14-11_44_59)_145944_labels.csv\n",
      "Reading label df for HM_VHMM021_MBLT_R01_20190707-20190719_file_7_(2019_07_13-11_44_59)_135944_labels.csv\n",
      "Reading label df for HM_VHMM008_SHTB_R14_20190707-20190719_file_10_(2019_07_16-11_44_59)_165944_labels.csv\n",
      "Reading label df for HM_VHMM014_LSTB_R19_20190707-20190719_file_10_(2019_07_16-11_44_59)_165944_labels.csv\n",
      "Reading label df for HM_RT_R12_file_6_(2017_08_25-06_44_59)_ASWMUX221102_labels.csv\n",
      "Reading label df for HM_VHMF010_SOUNDFOC_HM_20190717_2_labels.csv\n",
      "Reading label df for HM_VHMM003_HLT_AUDIO_R12_file_5_(2017_08_06-06_44_59)_ASWMUX221102_labels.csv\n",
      "Reading label df for HM_HRT_R07_20170903-20170908_file_2_(2017_09_03-05_44_59)_ASWMUX221092_labels.csv\n",
      "Reading label df for HM_LT_R09_20170903-20170908_file_4_(2017_09_05-05_44_59)_ASWMUX221110_labels.csv\n",
      "Reading label df for HM_VHMF019_MBTB_R25_20190707-20190719_file_9_(2019_07_15-11_44_59)_155944_labels.csv\n",
      "Reading label df for HM_VHMM008_SHTB_R14_20190707-20190719_file_7_(2019_07_13-11_44_59)_135944_labels.csv\n",
      "Reading label df for HM_VHMF015_RTTB_R05_20190707-20190719_file_6_(2019_07_12-11_44_59)_125944_labels.csv\n",
      "Reading label df for HM_VHMM014_LSTB_R19_20190707-20190719_file_6_(2019_07_12-11_44_59)_125944_labels.csv\n",
      "Reading label df for HM_HRT_R09_AUDIO_file_4_(2017_08_23-06_44_59)_ASWMUX221110_labels.csv\n",
      "Reading label df for HM_VLF206_SOUNDFOC_20170806_2_labels.csv\n",
      "Reading label df for HM_VHMF010_SOUNDFOC_20190713_labels.csv\n",
      "Reading label df for HM_VCVM001_SOUNDFOC_20190712_2_labels.csv\n",
      "Reading label df for HM_VHMF010_SOUNDFOC_HM_20190717_1_labels.csv\n",
      "Reading label df for HM_VLF206_SOUNDFOC_20170824_1_labels.csv\n",
      "Reading label df for HM_VHMM017_RSTB_R23_20190708-20190720_file_7_(2019_07_13-11_44_59)_135944_labels.csv\n",
      "Reading label df for HM_RT_R10_20170903-20170908_file_2_(2017_09_03-05_44_59)_ASWMUX221102_labels.csv\n",
      "Reading label df for HM_HTB_R14_file_6_(2017_08_25-06_44_59)_ASWMUX221052_labels.csv\n",
      "Reading label df for HM_VHMF015_RTTB_R05_20190707-20190719_file_9_(2019_07_15-11_44_59)_155944_labels.csv\n",
      "Reading label df for HM_VHMM021_MBLT_R01_20190707-20190719_file_10_(2019_07_16-11_44_59)_165944_labels.csv\n",
      "Reading label df for HM_VHMM007_LSLT_R17_20190707-20190719_file_7_(2019_07_13-11_44_59)_135944_labels.csv\n",
      "Reading label df for HM_VHMM023_MBLS_R02_20190707-20190719_file_7_(2019_07_13-11_44_59)_135944_labels.csv\n",
      "Reading label df for HM_VHMM021_MBLT_R01_20190707-20190719_file_8_(2019_07_14-11_44_59)_145944_labels.csv\n",
      "Reading label df for HM_LT_R07_AUDIO_file_5_(2017_08_24-06_44_59)_ASWMUX221092_labels.csv\n",
      "Reading label df for HM_VHMM017_RSTB_R23_20190708-20190720_file_9_(2019_07_15-11_44_59)_155944_labels.csv\n",
      "Reading label df for HM_HRT_R09_AUDIO_file_6_(2017_08_25-06_44_59)_ASWMUX221110_labels.csv\n",
      "Reading label df for HM_VCVM001_AUDIO_file_5_(2017_08_06-06_44_59)_ASWMUX221153_labels.csv\n",
      "Reading label df for HM_LT_R07_AUDIO_file_6_(2017_08_25-06_44_59)_ASWMUX221092_labels.csv\n",
      "Reading label df for HM_VHMM023_MBLS_R02_20190707-20190719_file_10_(2019_07_16-11_44_59)_165944_labels.csv\n",
      "Reading label df for HM_VCVM001_SOUNDFOC_20190714_1_labels.csv\n",
      "Reading label df for HM_VCVM001_SOUNDFOC_20190715_1_labels.csv\n",
      "Reading label df for HM_VCVM001_SOUNDFOC_20190713_1_labels.csv\n",
      "Reading label df for HM_VHMF001_HTB_R20_20190707-20190719_file_9_(2019_07_15-11_44_59)_155944_labels.csv\n",
      "Reading label df for HM_VHMF010_SOUNDFOC_20190714_labels.csv\n",
      "Reading label df for HM_HTB_R14_20170903-20170908_file_2_(2017_09_03-05_44_59)_ASWMUX221052_labels.csv\n",
      "Reading label df for HM_VHMM023_MBLS_R02_20190707-20190719_file_8_(2019_07_14-11_44_59)_145944_labels.csv\n",
      "Reading label df for HM_PET_R11_20170903-20170908_file_2_(2017_09_03-05_44_59)_ASWMUX221163_labels.csv\n",
      "Reading label df for HM_VHMF015_RTTB_R05_20190707-20190719_file_8_(2019_07_14-11_44_59)_145944_labels.csv\n",
      "Reading label df for HM_VHMM008_SHTB_R14_20190707-20190719_file_6_(2019_07_12-11_44_59)_125944_labels.csv\n",
      "Reading label df for HM_HTB_R14_file_5_(2017_08_24-06_44_59)_ASWMUX221052_labels.csv\n",
      "Reading label df for HM_VHMF019_MBTB_R25_20190707-20190719_file_7_(2019_07_13-11_44_59)_135944_labels.csv\n",
      "Reading label df for HM_VHMM003_SOUNDFOC_20170825_2_labels.csv\n",
      "Reading label df for HM_VHMM008_SHTB_R14_20190707-20190719_file_9_(2019_07_15-11_44_59)_155944_labels.csv\n",
      "Reading label df for HM_VCVM001_SOUNDFOC_HM_20190717_labels.csv\n",
      "Reading label df for HM_HMB_R11_AUDIO_file_4_(2017_08_23-06_44_59)_ASWMUX221163_labels.csv\n",
      "Reading label df for HM_HTB_R14_file_4_(2017_08_23-06_44_59)_ASWMUX221052_labels.csv\n",
      "Reading label df for HM_VLF206_SOUNDFOC_20170825_2_labels.csv\n",
      "Reading label df for HM_VHMM017_RSTB_R23_20190708-20190720_file_11_(2019_07_17-11_44_59)_175944_labels.csv\n",
      "Reading label df for HM_VHMF022_MBRS_R22_20190707-20190719_file_6_(2019_07_12-11_44_59)_125944_labels.csv\n",
      "Reading label df for HM_VHMF022_MBRS_R22_20190707-20190719_file_10_(2019_07_16-11_44_59)_165944_labels.csv\n",
      "Reading label df for HM_VHMF022_MBRS_R22_20190707-20190719_file_9_(2019_07_15-11_44_59)_155944_labels.csv\n",
      "Reading label df for HM_VLF206_SOUNDFOC_20170806_3_labels.csv\n",
      "Reading label df for HM_VHMF001_HTB_R20_20190707-20190719_file_8_(2019_07_14-11_44_59)_145944_labels.csv\n",
      "Reading label df for HM_VHMM007_LSLT_R17_20190707-20190719_file_9_(2019_07_15-11_44_59)_155944_labels.csv\n",
      "Reading label df for HM_VCVM001_SOUNDFOC_20190716_1_labels.csv\n",
      "Reading label df for HM_VCVM001_SOUNDFOC_20190712_1_labels.csv\n",
      "Reading label df for HM_VHMM021_MBLT_R01_20190707-20190719_file_9_(2019_07_15-11_44_59)_155944_labels.csv\n",
      "Reading label df for HM_VHMM017_RSTB_R23_20190708-20190720_file_8_(2019_07_14-11_44_59)_145944_labels.csv\n",
      "Reading label df for HM_VHMM002_HRT_AUDIO_R09_file_6_(2017_08_07-06_44_59)_ASWMUX221110_labels.csv\n",
      "Reading label df for HM_VHMF001_HTB_R20_20190707-20190719_file_7_(2019_07_13-11_44_59)_135944_labels.csv\n",
      "Reading label df for HM_VLF206_SOUNDFOC_20170806_4_labels.csv\n",
      "Reading label df for HM_VLF206_SOUNDFOC_20170824_2_labels.csv\n",
      "Reading label df for HM_HMB_R11_AUDIO_file_6_(2017_08_25-06_44_59)_ASWMUX221163_labels.csv\n",
      "Reading label df for HM_VHMM008_SHTB_R14_20190707-20190719_file_8_(2019_07_14-11_44_59)_145944_labels.csv\n",
      "Reading label df for HM_VHMM016_LTTB_R29_20190707-20190719_file_7_(2019_07_13-11_44_59)_135944_labels.csv\n",
      "Reading label df for HM_VHMF019_MBTB_R25_20190707-20190719_file_8_(2019_07_14-11_44_59)_145944_labels.csv\n",
      "Reading label df for HM_VHMM017_RSTB_R23_20190708-20190720_file_10_(2019_07_16-11_44_59)_165944_labels.csv\n",
      "Reading label df for HM_VCVM001_HMB_AUDIO_R08_ file_2_(2017_08_03-06_44_59)_ASWMUX221153_labels.csv\n",
      "Reading label df for HM_VHMF001_HTB_R20_20190707-20190719_file_10_(2019_07_16-11_44_59)_165944_labels.csv\n",
      "Reading label df for HM_PET_R11_20170903-20170908_file_3_(2017_09_04-05_44_59)_ASWMUX221163_labels.csv\n",
      "Reading label df for HM_VHMM007_LSLT_R17_20190707-20190719_file_6_(2019_07_12-11_44_59)_125944_labels.csv\n",
      "Reading label df for HM_VHMF010_SOUNDFOC_20190712_labels.csv\n",
      "Reading label df for HM_RT_R12_file_5_(2017_08_24-06_44_59)_ASWMUX221102_labels.csv\n",
      "Reading label df for HM_VHMM016_LTTB_R29_20190707-20190719_file_9_(2019_07_15-11_44_59)_155944_labels.csv\n",
      "Reading label df for HM_HMB_R11_AUDIO_file_5_(2017_08_24-06_44_59)_ASWMUX221163_labels.csv\n",
      "Reading label df for HM_HRT_R09_AUDIO_file_5_(2017_08_24-06_44_59)_ASWMUX221110_labels.csv\n",
      "Reading label df for HM_LT_R07_AUDIO_file_4_(2017_08_23-06_44_59)_ASWMUX221092_labels.csv\n",
      "Reading label df for HM_HRT_R07_20170903-20170908_file_4_(2017_09_05-05_44_59)_ASWMUX221092_labels.csv\n",
      "Reading label df for HM_RT_R12_file_4_(2017_08_23-06_44_59)_ASWMUX221102_labels.csv\n",
      "Reading label df for HM_VHMM023_MBLS_R02_20190707-20190719_file_9_(2019_07_15-11_44_59)_155944_labels.csv\n",
      "Reading label df for HM_VHMM007_LSLT_R17_20190707-20190719_file_8_(2019_07_14-11_44_59)_145944_labels.csv\n",
      "Reading label df for HM_VHMM023_MBLS_R02_20190707-20190719_file_6_(2019_07_12-11_44_59)_125944_labels.csv\n",
      "Reading label df for HM_VHMF019_MBTB_R25_20190707-20190719_file_10_(2019_07_16-11_44_59)_165944_labels.csv\n",
      "Reading label df for HM_VHMM021_MBLT_R01_20190707-20190719_file_6_(2019_07_12-11_44_59)_125944_labels.csv\n",
      "Reading label df for HM_VHMF019_MBTB_R25_20190707-20190719_file_6_(2019_07_12-11_44_59)_125944_labels.csv\n",
      "Reading label df for HM_VHMF022_MBRS_R22_20190707-20190719_file_8_(2019_07_14-11_44_59)_145944_labels.csv\n",
      "Reading label df for HM_VLF206_SOUNDFOC_20170823_1_labels.csv\n",
      "Reading label df for HM_VHMF001_HTB_R20_20190707-20190719_file_6_(2019_07_12-11_44_59)_125944_labels.csv\n",
      "Reading label df for HM_RT_R10_20170903-20170908_file_4_(2017_09_05-05_44_59)_ASWMUX221102_labels.csv\n",
      "Reading label df for HM_VHMF015_RTTB_R05_20190707-20190719_file_10_(2019_07_16-11_44_59)_165944_labels.csv\n",
      "Reading label df for HM_VHMM002_HRT_AUDIO_R09_file_5_(2017_08_06-06_44_59)_ASWMUX221110_labels.csv\n",
      "Reading label df for HM_VHMF022_MBRS_R22_20190707-20190719_file_7_(2019_07_13-11_44_59)_135944_labels.csv\n",
      "Reading label df for HM_VLF206_SOUNDFOC_20170825_1_labels.csv\n",
      "Reading label df for HM_VHMF001_HTB_AUDIO_R07_file_5_(2017_08_06-06_44_59)_ASWMUX221092_labels.csv\n",
      "Reading label df for HM_PET_R11_20170903-20170908_file_4_(2017_09_05-05_44_59)_ASWMUX221163_labels.csv\n",
      "Reading label df for HM_VLF206_SOUNDFOC_20170823_2_labels.csv\n"
     ]
    }
   ],
   "source": [
    "df_list=[]\n",
    "\n",
    "for label_loc in labels_loc:\n",
    "    print(\"Reading label df for \"+os.path.basename(label_loc))\n",
    "    df_list.append(pd.read_csv(label_loc))\n",
    "\n",
    "df = pd.concat(df_list)"
   ]
  },
  {
   "cell_type": "code",
   "execution_count": 187,
   "metadata": {
    "colab": {
     "base_uri": "https://localhost:8080/"
    },
    "id": "lMbjY_u3zgJb",
    "outputId": "5d7bc57d-9f93-4578-aae9-48a85a7da8ea"
   },
   "outputs": [
    {
     "data": {
      "text/plain": [
       "(46009, 15)"
      ]
     },
     "execution_count": 187,
     "metadata": {},
     "output_type": "execute_result"
    }
   ],
   "source": [
    "df.shape "
   ]
  },
  {
   "cell_type": "markdown",
   "metadata": {
    "id": "0WMR5FiGjSsF"
   },
   "source": [
    "### Cleaning dataset"
   ]
  },
  {
   "cell_type": "markdown",
   "metadata": {
    "id": "_dw1fHhfP3qW"
   },
   "source": [
    "#### Adding additional columns for noisy, uncertain calls"
   ]
  },
  {
   "cell_type": "code",
   "execution_count": 188,
   "metadata": {},
   "outputs": [],
   "source": [
    "df['call_lable'] = df['Name'].copy()"
   ]
  },
  {
   "cell_type": "code",
   "execution_count": 189,
   "metadata": {
    "colab": {
     "base_uri": "https://localhost:8080/"
    },
    "id": "uW5eWD6UWsM_",
    "outputId": "f71ba784-597f-4e72-cfec-82011c3d6bc8"
   },
   "outputs": [],
   "source": [
    "# Mark all that contain # (unsure if it's even a call)\n",
    "df['unsure_call'] = [1 if '#' in i else 0 for i in df['call_lable']]\n",
    "df['call_lable'] = [x.replace(\"#\", \"\") for x in df['call_lable']]\n",
    "\n",
    "# Mark noisy calls (marked with \"X\" or \"x\")\n",
    "df['noisy'] = [1 if (('x' in i) or ('X' in i)) else 0 for i in df['call_lable']]\n",
    "df['call_lable'] = [x.replace(\"X\", \"\") for x in df['call_lable']]\n",
    "df['call_lable'] = [x.replace(\"x\", \"\") for x in df['call_lable']]\n",
    "\n",
    "# Mark uncertain calls (not sure which type)\n",
    "df['certain_yn'] = [\"n\" if ('?' in i) else \"y\" for i in df['call_lable']]\n",
    "df['call_lable'] = [x.replace(\"?\", \"\") for x in df['call_lable']]\n",
    "\n",
    "# Mark calls from microphone recordings (Soundfoc)\n",
    "df['soundfoc_yn'] = ['y' if \"SOUNDFOC\" in i else 'n' for i in df['original_wav']]\n",
    "\n",
    "# Mark nonfocal calls\n",
    "df['nonfocal_yn'] = ['y' if any(substring in i for substring in ['nf', 'NF', 'NONFOC', 'nonfoc']) else 'n' for i in df['call_lable']]"
   ]
  },
  {
   "cell_type": "markdown",
   "metadata": {
    "id": "uRjxdKU4SK20"
   },
   "source": [
    "#### Categorize labels\n",
    "\n",
    "\n",
    "Ignore \"?\", \"!\",\"*\" and \"%\" (? expresses uncertainty about label, * expresses uncertainty about nonfocal or focal, don't know what ! means, % means overlapping calls)"
   ]
  },
  {
   "cell_type": "code",
   "execution_count": 190,
   "metadata": {
    "id": "yJMb1tDdzuat"
   },
   "outputs": [],
   "source": [
    "lablenames = df['call_lable'].copy()\n",
    "\n",
    "labelsep = re.compile('[\\?\\*\\!%]') # Match ? * ! %\n",
    "lablenames = [labelsep.sub('', i) for i in lablenames]"
   ]
  },
  {
   "cell_type": "markdown",
   "metadata": {
    "id": "sX2vqfTJSh9c"
   },
   "source": [
    "String split and use first word for categorization based on dictionary"
   ]
  },
  {
   "cell_type": "code",
   "execution_count": 191,
   "metadata": {},
   "outputs": [],
   "source": [
    "call_types = {\n",
    "    'cc' :[\"cc\",\"Marker\", \"Marque\", \"CC\", \"MARKER\", \"MARQUE\"],\n",
    "    'sn' :[\"sn\",\"subm\", \"short\",\"^s$\", \"s \", \"SN\", \"SUBM\", \"SHORT\", \"S\"], \n",
    "    'mo' :[\"mo\", \"mov\", \"move\", \"MO\",\"MOV\",\"MOVE\"],\n",
    "    'agg':[\"ag\", \"agg\", \"aggress\", \"chat\", \"growl\",\"AG\",\"AGG\",\"AGGRESS\",\"CHAT\",\"GROWL\"],\n",
    "    'ld' :[\"ld\",\"LD\",\"lead\",\"LEAD\"],\n",
    "    'soc':[\"soc\",\"SOCIAL\", \"so \", \"SOC\", \"social\"], \n",
    "    'al' :[\"al\", \"AL\",\"ALARM\", \"alarm\"],\n",
    "    'fu/hyb': [\"fu\", \"FU\", \"Fu\", 'HYB', 'hyb', 'Hyb']\n",
    "    }\n",
    "    \n",
    "# make dictionary labels to calls\n",
    "labels_to_calls = dict((v,k) for k in call_types for v in call_types[k])"
   ]
  },
  {
   "cell_type": "code",
   "execution_count": 192,
   "metadata": {
    "id": "MY026mmETxL0"
   },
   "outputs": [],
   "source": [
    "firstword = [i.split(' ')[0] for i in lablenames]\n",
    "lables = [labels_to_calls[lable] if lable in labels_to_calls.keys() else \"unknown\" for lable in firstword]"
   ]
  },
  {
   "cell_type": "code",
   "execution_count": 193,
   "metadata": {
    "colab": {
     "base_uri": "https://localhost:8080/"
    },
    "id": "T-Pne1cy_oSs",
    "outputId": "dbfdd46e-2e62-4bff-c07f-4e47a412b684"
   },
   "outputs": [
    {
     "data": {
      "text/plain": [
       "cc         22648\n",
       "unknown    11036\n",
       "soc         4184\n",
       "sn          3960\n",
       "fu/hyb      1251\n",
       "mo          1039\n",
       "al           845\n",
       "agg          818\n",
       "ld           228\n",
       "dtype: int64"
      ]
     },
     "execution_count": 193,
     "metadata": {},
     "output_type": "execute_result"
    }
   ],
   "source": [
    "pd.Series(lables).value_counts()"
   ]
  },
  {
   "cell_type": "code",
   "execution_count": 194,
   "metadata": {
    "id": "UDXQB-n_WrW0"
   },
   "outputs": [],
   "source": [
    "df['call_lable'] = lables"
   ]
  },
  {
   "cell_type": "markdown",
   "metadata": {
    "id": "n8ME_yhmBe8L"
   },
   "source": [
    "#### Removing all unknown calls (beep, synch etc..)"
   ]
  },
  {
   "cell_type": "code",
   "execution_count": 195,
   "metadata": {},
   "outputs": [
    {
     "data": {
      "text/plain": [
       "(34973, 21)"
      ]
     },
     "execution_count": 195,
     "metadata": {},
     "output_type": "execute_result"
    }
   ],
   "source": [
    "df = df.loc[df['call_lable']!=\"unknown\",:]\n",
    "df.shape"
   ]
  },
  {
   "cell_type": "markdown",
   "metadata": {
    "id": "n8ME_yhmBe8L"
   },
   "source": [
    "#### Removing zero-duration-calls"
   ]
  },
  {
   "cell_type": "code",
   "execution_count": 196,
   "metadata": {},
   "outputs": [
    {
     "name": "stdout",
     "output_type": "stream",
     "text": [
      "18\n"
     ]
    },
    {
     "data": {
      "text/plain": [
       "(34955, 21)"
      ]
     },
     "execution_count": 196,
     "metadata": {},
     "output_type": "execute_result"
    }
   ],
   "source": [
    "print(df[df['duration_s']==0].shape[0])\n",
    "df = df.loc[df['duration_s'] > 0]\n",
    "df.shape"
   ]
  },
  {
   "cell_type": "code",
   "execution_count": 197,
   "metadata": {
    "colab": {
     "base_uri": "https://localhost:8080/"
    },
    "id": "Kti3pu3ESJ3F",
    "outputId": "89ffbb36-7436-47f1-f528-c5ce4781437c"
   },
   "outputs": [
    {
     "data": {
      "text/plain": [
       "cc        22634\n",
       "soc        4181\n",
       "sn         3960\n",
       "fu/hyb     1251\n",
       "mo         1039\n",
       "al          845\n",
       "agg         817\n",
       "ld          228\n",
       "Name: call_lable, dtype: int64"
      ]
     },
     "execution_count": 197,
     "metadata": {},
     "output_type": "execute_result"
    }
   ],
   "source": [
    "df['call_lable'].value_counts()"
   ]
  },
  {
   "cell_type": "code",
   "execution_count": 198,
   "metadata": {},
   "outputs": [],
   "source": [
    "df.to_pickle(os.path.join(os.path.sep, DATA, \"meerkat_labelfile.pkl\"))"
   ]
  },
  {
   "cell_type": "markdown",
   "metadata": {
    "id": "SKkZ6jSFwoft"
   },
   "source": [
    "[#### Removing unsure, uncertain, noisy and non-focal calls]"
   ]
  },
  {
   "cell_type": "code",
   "execution_count": 165,
   "metadata": {},
   "outputs": [],
   "source": [
    "#df = pd.read_pickle(os.path.join(os.path.sep, DATA, \"meerkat_labelfile.pkl\"))"
   ]
  },
  {
   "cell_type": "code",
   "execution_count": 166,
   "metadata": {
    "colab": {
     "base_uri": "https://localhost:8080/"
    },
    "id": "PfznUm4SwsRg",
    "outputId": "e400f835-7754-4a71-8ef3-68909cdefe9d"
   },
   "outputs": [],
   "source": [
    "#print(\"Full: \", df.shape)\n",
    "#df = df.loc[df['unsure_call']==0]\n",
    "#print(\"Removed unsure: \", df.shape)\n",
    "#df = df.loc[df['certain_yn']==\"y\"]\n",
    "#print(\"Removed uncertain: \",df.shape)\n",
    "#df = df.loc[df['nonfocal_yn']==\"n\"]\n",
    "#print(\"Removed nonfocal: \",df.shape)\n",
    "#df = df.loc[df['noisy']==0]\n",
    "#print(\"Removed noisy: \",df.shape)"
   ]
  },
  {
   "cell_type": "code",
   "execution_count": 167,
   "metadata": {
    "colab": {
     "base_uri": "https://localhost:8080/"
    },
    "id": "BXgGx_jPSftS",
    "outputId": "f100dbb4-392c-4f51-a937-8cc6275f69d0"
   },
   "outputs": [
    {
     "data": {
      "text/plain": [
       "cc        22648\n",
       "soc        4184\n",
       "sn         3960\n",
       "fu/hyb     1251\n",
       "mo         1039\n",
       "al          845\n",
       "agg         818\n",
       "ld          228\n",
       "Name: call_lable, dtype: int64"
      ]
     },
     "execution_count": 167,
     "metadata": {},
     "output_type": "execute_result"
    }
   ],
   "source": [
    "#df['call_lable'].value_counts()"
   ]
  },
  {
   "cell_type": "markdown",
   "metadata": {
    "id": "wIwmYmKmK9js"
   },
   "source": [
    "## Sorting and saving\n",
    "Add index, sort values, give callID and save dataframe:"
   ]
  },
  {
   "cell_type": "code",
   "execution_count": 199,
   "metadata": {
    "id": "t_Xp1C0aUETh"
   },
   "outputs": [],
   "source": [
    "df = df.sort_values(by=['original_wav', 'bout_number'])\n",
    "df.index = np.arange(0,df.shape[0],1) #reset_index(inplace=True)"
   ]
  },
  {
   "cell_type": "code",
   "execution_count": 200,
   "metadata": {},
   "outputs": [],
   "source": [
    "df['callID'] = [os.path.basename(x)[:-4]+'___'+str(y) for x,y in zip(df['original_wav'], df['Start'])]"
   ]
  },
  {
   "cell_type": "code",
   "execution_count": 201,
   "metadata": {},
   "outputs": [
    {
     "data": {
      "text/html": [
       "<div>\n",
       "<style scoped>\n",
       "    .dataframe tbody tr th:only-of-type {\n",
       "        vertical-align: middle;\n",
       "    }\n",
       "\n",
       "    .dataframe tbody tr th {\n",
       "        vertical-align: top;\n",
       "    }\n",
       "\n",
       "    .dataframe thead th {\n",
       "        text-align: right;\n",
       "    }\n",
       "</style>\n",
       "<table border=\"1\" class=\"dataframe\">\n",
       "  <thead>\n",
       "    <tr style=\"text-align: right;\">\n",
       "      <th></th>\n",
       "      <th>Name</th>\n",
       "      <th>Start</th>\n",
       "      <th>Duration</th>\n",
       "      <th>Time Format</th>\n",
       "      <th>Type</th>\n",
       "      <th>Description</th>\n",
       "      <th>start_s</th>\n",
       "      <th>duration_s</th>\n",
       "      <th>stop_s</th>\n",
       "      <th>date</th>\n",
       "      <th>...</th>\n",
       "      <th>original_wav</th>\n",
       "      <th>bout_number</th>\n",
       "      <th>Time.Format</th>\n",
       "      <th>call_lable</th>\n",
       "      <th>unsure_call</th>\n",
       "      <th>noisy</th>\n",
       "      <th>certain_yn</th>\n",
       "      <th>soundfoc_yn</th>\n",
       "      <th>nonfocal_yn</th>\n",
       "      <th>callID</th>\n",
       "    </tr>\n",
       "  </thead>\n",
       "  <tbody>\n",
       "    <tr>\n",
       "      <th>0</th>\n",
       "      <td>CCX</td>\n",
       "      <td>1:00:06.330</td>\n",
       "      <td>0:00.138</td>\n",
       "      <td>decimal</td>\n",
       "      <td>Cue</td>\n",
       "      <td>NaN</td>\n",
       "      <td>3606.330</td>\n",
       "      <td>0.138</td>\n",
       "      <td>3606.468</td>\n",
       "      <td>2017-08-23</td>\n",
       "      <td>...</td>\n",
       "      <td>/home/mthomas/Documents/MPI_work/projects/meer...</td>\n",
       "      <td>1</td>\n",
       "      <td>NaN</td>\n",
       "      <td>cc</td>\n",
       "      <td>0</td>\n",
       "      <td>1</td>\n",
       "      <td>y</td>\n",
       "      <td>n</td>\n",
       "      <td>n</td>\n",
       "      <td>HM_HMB_R11_AUDIO_file_4_(2017_08_23-06_44_59)_...</td>\n",
       "    </tr>\n",
       "    <tr>\n",
       "      <th>1</th>\n",
       "      <td>CC</td>\n",
       "      <td>1:00:15.043</td>\n",
       "      <td>0:00.083</td>\n",
       "      <td>decimal</td>\n",
       "      <td>Cue</td>\n",
       "      <td>NaN</td>\n",
       "      <td>3615.043</td>\n",
       "      <td>0.083</td>\n",
       "      <td>3615.126</td>\n",
       "      <td>2017-08-23</td>\n",
       "      <td>...</td>\n",
       "      <td>/home/mthomas/Documents/MPI_work/projects/meer...</td>\n",
       "      <td>4</td>\n",
       "      <td>NaN</td>\n",
       "      <td>cc</td>\n",
       "      <td>0</td>\n",
       "      <td>0</td>\n",
       "      <td>y</td>\n",
       "      <td>n</td>\n",
       "      <td>n</td>\n",
       "      <td>HM_HMB_R11_AUDIO_file_4_(2017_08_23-06_44_59)_...</td>\n",
       "    </tr>\n",
       "    <tr>\n",
       "      <th>2</th>\n",
       "      <td>CC</td>\n",
       "      <td>1:00:35.627</td>\n",
       "      <td>0:00.191</td>\n",
       "      <td>decimal</td>\n",
       "      <td>Cue</td>\n",
       "      <td>NaN</td>\n",
       "      <td>3635.627</td>\n",
       "      <td>0.191</td>\n",
       "      <td>3635.818</td>\n",
       "      <td>2017-08-23</td>\n",
       "      <td>...</td>\n",
       "      <td>/home/mthomas/Documents/MPI_work/projects/meer...</td>\n",
       "      <td>5</td>\n",
       "      <td>NaN</td>\n",
       "      <td>cc</td>\n",
       "      <td>0</td>\n",
       "      <td>0</td>\n",
       "      <td>y</td>\n",
       "      <td>n</td>\n",
       "      <td>n</td>\n",
       "      <td>HM_HMB_R11_AUDIO_file_4_(2017_08_23-06_44_59)_...</td>\n",
       "    </tr>\n",
       "    <tr>\n",
       "      <th>3</th>\n",
       "      <td>CCX</td>\n",
       "      <td>1:00:39.664</td>\n",
       "      <td>0:00.136</td>\n",
       "      <td>decimal</td>\n",
       "      <td>Cue</td>\n",
       "      <td>NaN</td>\n",
       "      <td>3639.664</td>\n",
       "      <td>0.136</td>\n",
       "      <td>3639.800</td>\n",
       "      <td>2017-08-23</td>\n",
       "      <td>...</td>\n",
       "      <td>/home/mthomas/Documents/MPI_work/projects/meer...</td>\n",
       "      <td>6</td>\n",
       "      <td>NaN</td>\n",
       "      <td>cc</td>\n",
       "      <td>0</td>\n",
       "      <td>1</td>\n",
       "      <td>y</td>\n",
       "      <td>n</td>\n",
       "      <td>n</td>\n",
       "      <td>HM_HMB_R11_AUDIO_file_4_(2017_08_23-06_44_59)_...</td>\n",
       "    </tr>\n",
       "    <tr>\n",
       "      <th>4</th>\n",
       "      <td>CCX</td>\n",
       "      <td>1:00:47.877</td>\n",
       "      <td>0:00.245</td>\n",
       "      <td>decimal</td>\n",
       "      <td>Cue</td>\n",
       "      <td>NaN</td>\n",
       "      <td>3647.877</td>\n",
       "      <td>0.245</td>\n",
       "      <td>3648.122</td>\n",
       "      <td>2017-08-23</td>\n",
       "      <td>...</td>\n",
       "      <td>/home/mthomas/Documents/MPI_work/projects/meer...</td>\n",
       "      <td>7</td>\n",
       "      <td>NaN</td>\n",
       "      <td>cc</td>\n",
       "      <td>0</td>\n",
       "      <td>1</td>\n",
       "      <td>y</td>\n",
       "      <td>n</td>\n",
       "      <td>n</td>\n",
       "      <td>HM_HMB_R11_AUDIO_file_4_(2017_08_23-06_44_59)_...</td>\n",
       "    </tr>\n",
       "    <tr>\n",
       "      <th>...</th>\n",
       "      <td>...</td>\n",
       "      <td>...</td>\n",
       "      <td>...</td>\n",
       "      <td>...</td>\n",
       "      <td>...</td>\n",
       "      <td>...</td>\n",
       "      <td>...</td>\n",
       "      <td>...</td>\n",
       "      <td>...</td>\n",
       "      <td>...</td>\n",
       "      <td>...</td>\n",
       "      <td>...</td>\n",
       "      <td>...</td>\n",
       "      <td>...</td>\n",
       "      <td>...</td>\n",
       "      <td>...</td>\n",
       "      <td>...</td>\n",
       "      <td>...</td>\n",
       "      <td>...</td>\n",
       "      <td>...</td>\n",
       "      <td>...</td>\n",
       "    </tr>\n",
       "    <tr>\n",
       "      <th>34950</th>\n",
       "      <td>SN</td>\n",
       "      <td>12:51.564</td>\n",
       "      <td>0:00.068</td>\n",
       "      <td>decimal</td>\n",
       "      <td>Cue</td>\n",
       "      <td>NaN</td>\n",
       "      <td>771.564</td>\n",
       "      <td>0.068</td>\n",
       "      <td>771.632</td>\n",
       "      <td>2017-08-25</td>\n",
       "      <td>...</td>\n",
       "      <td>/home/mthomas/Documents/MPI_work/projects/meer...</td>\n",
       "      <td>124</td>\n",
       "      <td>NaN</td>\n",
       "      <td>sn</td>\n",
       "      <td>0</td>\n",
       "      <td>0</td>\n",
       "      <td>y</td>\n",
       "      <td>y</td>\n",
       "      <td>n</td>\n",
       "      <td>HM_VLF206_SOUNDFOC_20170825_2.WAV___12:51.564</td>\n",
       "    </tr>\n",
       "    <tr>\n",
       "      <th>34951</th>\n",
       "      <td>CC</td>\n",
       "      <td>12:52.519</td>\n",
       "      <td>0:00.177</td>\n",
       "      <td>decimal</td>\n",
       "      <td>Cue</td>\n",
       "      <td>NaN</td>\n",
       "      <td>772.519</td>\n",
       "      <td>0.177</td>\n",
       "      <td>772.696</td>\n",
       "      <td>2017-08-25</td>\n",
       "      <td>...</td>\n",
       "      <td>/home/mthomas/Documents/MPI_work/projects/meer...</td>\n",
       "      <td>125</td>\n",
       "      <td>NaN</td>\n",
       "      <td>cc</td>\n",
       "      <td>0</td>\n",
       "      <td>0</td>\n",
       "      <td>y</td>\n",
       "      <td>y</td>\n",
       "      <td>n</td>\n",
       "      <td>HM_VLF206_SOUNDFOC_20170825_2.WAV___12:52.519</td>\n",
       "    </tr>\n",
       "    <tr>\n",
       "      <th>34952</th>\n",
       "      <td>CC NONFOC (PET)?</td>\n",
       "      <td>12:55.351</td>\n",
       "      <td>0:00.242</td>\n",
       "      <td>decimal</td>\n",
       "      <td>Cue</td>\n",
       "      <td>NaN</td>\n",
       "      <td>775.351</td>\n",
       "      <td>0.242</td>\n",
       "      <td>775.593</td>\n",
       "      <td>2017-08-25</td>\n",
       "      <td>...</td>\n",
       "      <td>/home/mthomas/Documents/MPI_work/projects/meer...</td>\n",
       "      <td>126</td>\n",
       "      <td>NaN</td>\n",
       "      <td>cc</td>\n",
       "      <td>0</td>\n",
       "      <td>0</td>\n",
       "      <td>n</td>\n",
       "      <td>y</td>\n",
       "      <td>y</td>\n",
       "      <td>HM_VLF206_SOUNDFOC_20170825_2.WAV___12:55.351</td>\n",
       "    </tr>\n",
       "    <tr>\n",
       "      <th>34953</th>\n",
       "      <td>CC NONFOC (PET)</td>\n",
       "      <td>13:00.884</td>\n",
       "      <td>0:00.315</td>\n",
       "      <td>decimal</td>\n",
       "      <td>Cue</td>\n",
       "      <td>NaN</td>\n",
       "      <td>780.884</td>\n",
       "      <td>0.315</td>\n",
       "      <td>781.199</td>\n",
       "      <td>2017-08-25</td>\n",
       "      <td>...</td>\n",
       "      <td>/home/mthomas/Documents/MPI_work/projects/meer...</td>\n",
       "      <td>127</td>\n",
       "      <td>NaN</td>\n",
       "      <td>cc</td>\n",
       "      <td>0</td>\n",
       "      <td>0</td>\n",
       "      <td>y</td>\n",
       "      <td>y</td>\n",
       "      <td>y</td>\n",
       "      <td>HM_VLF206_SOUNDFOC_20170825_2.WAV___13:00.884</td>\n",
       "    </tr>\n",
       "    <tr>\n",
       "      <th>34954</th>\n",
       "      <td>CC</td>\n",
       "      <td>13:32.832</td>\n",
       "      <td>0:00.167</td>\n",
       "      <td>decimal</td>\n",
       "      <td>Cue</td>\n",
       "      <td>NaN</td>\n",
       "      <td>812.832</td>\n",
       "      <td>0.167</td>\n",
       "      <td>812.999</td>\n",
       "      <td>2017-08-25</td>\n",
       "      <td>...</td>\n",
       "      <td>/home/mthomas/Documents/MPI_work/projects/meer...</td>\n",
       "      <td>129</td>\n",
       "      <td>NaN</td>\n",
       "      <td>cc</td>\n",
       "      <td>0</td>\n",
       "      <td>0</td>\n",
       "      <td>y</td>\n",
       "      <td>y</td>\n",
       "      <td>n</td>\n",
       "      <td>HM_VLF206_SOUNDFOC_20170825_2.WAV___13:32.832</td>\n",
       "    </tr>\n",
       "  </tbody>\n",
       "</table>\n",
       "<p>34955 rows × 22 columns</p>\n",
       "</div>"
      ],
      "text/plain": [
       "                   Name        Start  Duration Time Format Type Description  \\\n",
       "0                   CCX  1:00:06.330  0:00.138     decimal  Cue         NaN   \n",
       "1                    CC  1:00:15.043  0:00.083     decimal  Cue         NaN   \n",
       "2                    CC  1:00:35.627  0:00.191     decimal  Cue         NaN   \n",
       "3                   CCX  1:00:39.664  0:00.136     decimal  Cue         NaN   \n",
       "4                   CCX  1:00:47.877  0:00.245     decimal  Cue         NaN   \n",
       "...                 ...          ...       ...         ...  ...         ...   \n",
       "34950                SN    12:51.564  0:00.068     decimal  Cue         NaN   \n",
       "34951                CC    12:52.519  0:00.177     decimal  Cue         NaN   \n",
       "34952  CC NONFOC (PET)?    12:55.351  0:00.242     decimal  Cue         NaN   \n",
       "34953   CC NONFOC (PET)    13:00.884  0:00.315     decimal  Cue         NaN   \n",
       "34954                CC    13:32.832  0:00.167     decimal  Cue         NaN   \n",
       "\n",
       "        start_s  duration_s    stop_s        date  ...  \\\n",
       "0      3606.330       0.138  3606.468  2017-08-23  ...   \n",
       "1      3615.043       0.083  3615.126  2017-08-23  ...   \n",
       "2      3635.627       0.191  3635.818  2017-08-23  ...   \n",
       "3      3639.664       0.136  3639.800  2017-08-23  ...   \n",
       "4      3647.877       0.245  3648.122  2017-08-23  ...   \n",
       "...         ...         ...       ...         ...  ...   \n",
       "34950   771.564       0.068   771.632  2017-08-25  ...   \n",
       "34951   772.519       0.177   772.696  2017-08-25  ...   \n",
       "34952   775.351       0.242   775.593  2017-08-25  ...   \n",
       "34953   780.884       0.315   781.199  2017-08-25  ...   \n",
       "34954   812.832       0.167   812.999  2017-08-25  ...   \n",
       "\n",
       "                                            original_wav bout_number  \\\n",
       "0      /home/mthomas/Documents/MPI_work/projects/meer...           1   \n",
       "1      /home/mthomas/Documents/MPI_work/projects/meer...           4   \n",
       "2      /home/mthomas/Documents/MPI_work/projects/meer...           5   \n",
       "3      /home/mthomas/Documents/MPI_work/projects/meer...           6   \n",
       "4      /home/mthomas/Documents/MPI_work/projects/meer...           7   \n",
       "...                                                  ...         ...   \n",
       "34950  /home/mthomas/Documents/MPI_work/projects/meer...         124   \n",
       "34951  /home/mthomas/Documents/MPI_work/projects/meer...         125   \n",
       "34952  /home/mthomas/Documents/MPI_work/projects/meer...         126   \n",
       "34953  /home/mthomas/Documents/MPI_work/projects/meer...         127   \n",
       "34954  /home/mthomas/Documents/MPI_work/projects/meer...         129   \n",
       "\n",
       "      Time.Format  call_lable unsure_call noisy  certain_yn  soundfoc_yn  \\\n",
       "0             NaN          cc           0     1           y            n   \n",
       "1             NaN          cc           0     0           y            n   \n",
       "2             NaN          cc           0     0           y            n   \n",
       "3             NaN          cc           0     1           y            n   \n",
       "4             NaN          cc           0     1           y            n   \n",
       "...           ...         ...         ...   ...         ...          ...   \n",
       "34950         NaN          sn           0     0           y            y   \n",
       "34951         NaN          cc           0     0           y            y   \n",
       "34952         NaN          cc           0     0           n            y   \n",
       "34953         NaN          cc           0     0           y            y   \n",
       "34954         NaN          cc           0     0           y            y   \n",
       "\n",
       "      nonfocal_yn                                             callID  \n",
       "0               n  HM_HMB_R11_AUDIO_file_4_(2017_08_23-06_44_59)_...  \n",
       "1               n  HM_HMB_R11_AUDIO_file_4_(2017_08_23-06_44_59)_...  \n",
       "2               n  HM_HMB_R11_AUDIO_file_4_(2017_08_23-06_44_59)_...  \n",
       "3               n  HM_HMB_R11_AUDIO_file_4_(2017_08_23-06_44_59)_...  \n",
       "4               n  HM_HMB_R11_AUDIO_file_4_(2017_08_23-06_44_59)_...  \n",
       "...           ...                                                ...  \n",
       "34950           n      HM_VLF206_SOUNDFOC_20170825_2.WAV___12:51.564  \n",
       "34951           n      HM_VLF206_SOUNDFOC_20170825_2.WAV___12:52.519  \n",
       "34952           y      HM_VLF206_SOUNDFOC_20170825_2.WAV___12:55.351  \n",
       "34953           y      HM_VLF206_SOUNDFOC_20170825_2.WAV___13:00.884  \n",
       "34954           n      HM_VLF206_SOUNDFOC_20170825_2.WAV___13:32.832  \n",
       "\n",
       "[34955 rows x 22 columns]"
      ]
     },
     "execution_count": 201,
     "metadata": {},
     "output_type": "execute_result"
    }
   ],
   "source": [
    "df"
   ]
  },
  {
   "cell_type": "markdown",
   "metadata": {
    "id": "wIwmYmKmK9js"
   },
   "source": [
    "## Adding metdata\n",
    "Adding info on meerkats"
   ]
  },
  {
   "cell_type": "code",
   "execution_count": 204,
   "metadata": {},
   "outputs": [
    {
     "data": {
      "text/plain": [
       "Index(['Name', 'Start', 'Duration', 'Time Format', 'Type', 'Description',\n",
       "       'start_s', 'duration_s', 'stop_s', 'date', 'samplerate_hz', 'indv',\n",
       "       'original_wav', 'bout_number', 'Time.Format', 'call_lable',\n",
       "       'unsure_call', 'noisy', 'certain_yn', 'soundfoc_yn', 'nonfocal_yn',\n",
       "       'callID', 'raw_audio'],\n",
       "      dtype='object')"
      ]
     },
     "execution_count": 204,
     "metadata": {},
     "output_type": "execute_result"
    }
   ],
   "source": [
    "df.columns"
   ]
  },
  {
   "cell_type": "code",
   "execution_count": 208,
   "metadata": {},
   "outputs": [
    {
     "name": "stdout",
     "output_type": "stream",
     "text": [
      "HMB is actually  VCVM001\n",
      "HRT not in dyemarks\n",
      "HTB is actually  VHMF001\n",
      "LT is actually  VHMF031\n",
      "PET not in dyemarks\n",
      "RT is actually  VHMF030\n",
      "VHMM002 not in dyemarks\n",
      "VHMM003 not in dyemarks\n",
      "VLF206 not in dyemarks\n"
     ]
    }
   ],
   "source": [
    "sorted(list(set(df['indv'])))\n",
    "\n",
    "\n",
    "meerkat_info = pd.read_csv(MEERKAT_INFO_PATH, sep=\";\")\n",
    "meerkat_names = meerkat_info['Code']\n",
    "\n",
    "labelsep = re.compile('[\\+\\s]') # Match ? * ! %\n",
    "meerkat_dyemarks = [labelsep.sub('', i) for i in list(meerkat_info['Dye mark'])]\n",
    "meerkat_info['Dye mark'] = meerkat_dyemarks\n",
    "\n",
    "\n",
    "meerkat_dict = meerkat_info.drop(columns=['Code', 'Name']).T\n",
    "meerkat_dict.columns = meerkat_names\n",
    "meerkat_dict = meerkat_dict.to_dict()\n",
    "\n",
    "for ind in sorted(list(set(df['indv']))):\n",
    "    if (not ind in meerkat_dict.keys()):\n",
    "        if ind in meerkat_dyemarks:\n",
    "            ind_row = meerkat_info[meerkat_info['Dye mark']== ind]\n",
    "            ind_code = meerkat_info[meerkat_info['Dye mark'] == ind].Code.values[0]\n",
    "            if(ind_code in meerkat_dict.keys()):\n",
    "                meerkat_dict[ind] = meerkat_dict[ind_code]\n",
    "                print(ind, \"is actually \", ind_code)\n",
    "        else:\n",
    "            print(ind, \"not in dyemarks\")"
   ]
  },
  {
   "cell_type": "code",
   "execution_count": 210,
   "metadata": {},
   "outputs": [],
   "source": [
    "meerkat_dict['PET'] = meerkat_dict['VCVM001']\n",
    "meerkat_dict['VLF206'] = {'DOB': '21.08.2013', \n",
    "                          'Dye mark': 'RCRSTBL', \n",
    "                          'Sex': 'F', \n",
    "                          'Status': 'Adult'\n",
    "                          }\n",
    "meerkat_dict['VHMM002'] = {'DOB': '27.10.16', \n",
    "                          'Dye mark': 'HRT', \n",
    "                          'Sex': 'M', \n",
    "                          'Status': 'Dominant'\n",
    "                          }\n",
    "\n",
    "meerkat_dict['VHMM003'] = {'DOB': '27.10.16', \n",
    "                          'Dye mark': 'HLT', \n",
    "                          'Sex': 'M', \n",
    "                          'Status': 'Adult'\n",
    "                          }\n",
    "for ind in sorted(list(set(df['indv']))):\n",
    "    if (not ind in meerkat_dict.keys()):\n",
    "        meerkat_dict[ind] = {'DOB': 'NA', \n",
    "                             'Dye mark': 'NA', \n",
    "                             'Sex': 'NA', \n",
    "                             'Status':'NA'}"
   ]
  },
  {
   "cell_type": "code",
   "execution_count": 211,
   "metadata": {},
   "outputs": [],
   "source": [
    "sex = [meerkat_dict[ind]['Sex'] for ind in df['indv']]\n",
    "df['Sex'] = sex\n",
    "status = [meerkat_dict[ind]['Status'] for ind in df['indv']]\n",
    "df['status'] = status"
   ]
  },
  {
   "cell_type": "markdown",
   "metadata": {
    "id": "wIwmYmKmK9js"
   },
   "source": [
    "## Extract audio"
   ]
  },
  {
   "cell_type": "code",
   "execution_count": 202,
   "metadata": {},
   "outputs": [],
   "source": [
    "raw_audio_data = df.apply(lambda row: get_audio(row['original_wav'], row['start_s'], row['duration_s']), axis=1)\n",
    "df['raw_audio'] = raw_audio_data"
   ]
  },
  {
   "cell_type": "markdown",
   "metadata": {
    "id": "wIwmYmKmK9js"
   },
   "source": [
    "## Save"
   ]
  },
  {
   "cell_type": "code",
   "execution_count": 9,
   "metadata": {},
   "outputs": [],
   "source": [
    "df.to_pickle(os.path.join(os.path.sep, DATA, \"meerkat_full_audio.pkl\"))"
   ]
  }
 ],
 "metadata": {
  "colab": {
   "collapsed_sections": [],
   "name": "01_meerkat_extract_audio_PAPER.ipynb",
   "provenance": [],
   "toc_visible": true
  },
  "kernelspec": {
   "display_name": "Python 3",
   "language": "python",
   "name": "python3"
  },
  "language_info": {
   "codemirror_mode": {
    "name": "ipython",
    "version": 3
   },
   "file_extension": ".py",
   "mimetype": "text/x-python",
   "name": "python",
   "nbconvert_exporter": "python",
   "pygments_lexer": "ipython3",
   "version": "3.7.10"
  }
 },
 "nbformat": 4,
 "nbformat_minor": 4
}
