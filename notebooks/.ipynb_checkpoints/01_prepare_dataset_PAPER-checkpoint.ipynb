{
 "cells": [
  {
   "cell_type": "markdown",
   "metadata": {
    "id": "ObimIqrg4wDd"
   },
   "source": [
    "# Prepare datasets"
   ]
  },
  {
   "cell_type": "markdown",
   "metadata": {
    "id": "TecLeuUBRC57"
   },
   "source": [
    "### Installing and loading libraries"
   ]
  },
  {
   "cell_type": "code",
   "execution_count": 27,
   "metadata": {
    "colab": {
     "base_uri": "https://localhost:8080/"
    },
    "executionInfo": {
     "elapsed": 12387,
     "status": "ok",
     "timestamp": 1606227412255,
     "user": {
      "displayName": "Mara Thomas",
      "photoUrl": "",
      "userId": "08285540157542181220"
     },
     "user_tz": -60
    },
    "id": "0F5vdvXWeeZn",
    "outputId": "0822902b-a218-4952-ec42-0ad699fc8a2a"
   },
   "outputs": [],
   "source": [
    "import os\n",
    "import pandas as pd\n",
    "import sys\n",
    "import re\n",
    "import json\n",
    "import librosa\n",
    "import librosa.display\n",
    "from IPython.display import Audio\n",
    "import numpy as np\n",
    "from pathlib import Path\n",
    "import matplotlib.pyplot as plt\n",
    "import glob\n",
    "from pandas.core.common import flatten\n",
    "import shutil\n",
    "import pickle\n",
    "import seaborn as sns"
   ]
  },
  {
   "cell_type": "markdown",
   "metadata": {
    "id": "rFQH__8fWc2D"
   },
   "source": [
    "### Setting constants"
   ]
  },
  {
   "cell_type": "markdown",
   "metadata": {
    "id": "kHkKwuIE5KRM"
   },
   "source": [
    "Setting project, input and output folders."
   ]
  },
  {
   "cell_type": "code",
   "execution_count": 28,
   "metadata": {},
   "outputs": [],
   "source": [
    "wd = os.getcwd()\n",
    "DATA = os.path.join(os.path.sep, str(Path(wd).parents[0]), \"data\", \"processed\")\n",
    "FIGURES = os.path.join(os.path.sep, str(Path(wd).parents[0]), \"reports\", \"figures\")\n",
    "DF = os.path.join(os.path.sep, DATA, \"df_focal.pkl\")"
   ]
  },
  {
   "cell_type": "markdown",
   "metadata": {
    "id": "IjtDjnHLt4ET"
   },
   "source": [
    "## Processing files"
   ]
  },
  {
   "cell_type": "markdown",
   "metadata": {
    "id": "8GcTYb6E_GOg"
   },
   "source": [
    "Reading in labelfile"
   ]
  },
  {
   "cell_type": "code",
   "execution_count": 29,
   "metadata": {
    "id": "jQVZb9G3_BWa"
   },
   "outputs": [],
   "source": [
    "df = pd.read_pickle(DF)"
   ]
  },
  {
   "cell_type": "code",
   "execution_count": 30,
   "metadata": {},
   "outputs": [
    {
     "data": {
      "text/html": [
       "<div>\n",
       "<style scoped>\n",
       "    .dataframe tbody tr th:only-of-type {\n",
       "        vertical-align: middle;\n",
       "    }\n",
       "\n",
       "    .dataframe tbody tr th {\n",
       "        vertical-align: top;\n",
       "    }\n",
       "\n",
       "    .dataframe thead th {\n",
       "        text-align: right;\n",
       "    }\n",
       "</style>\n",
       "<table border=\"1\" class=\"dataframe\">\n",
       "  <thead>\n",
       "    <tr style=\"text-align: right;\">\n",
       "      <th></th>\n",
       "      <th>Name</th>\n",
       "      <th>Start</th>\n",
       "      <th>Duration</th>\n",
       "      <th>Time Format</th>\n",
       "      <th>Type</th>\n",
       "      <th>Description</th>\n",
       "      <th>start_s</th>\n",
       "      <th>duration_s</th>\n",
       "      <th>stop_s</th>\n",
       "      <th>date</th>\n",
       "      <th>...</th>\n",
       "      <th>raw_audio</th>\n",
       "      <th>soundfoc_yn</th>\n",
       "      <th>spectrograms</th>\n",
       "      <th>denoised_spectrograms</th>\n",
       "      <th>stretched_spectrograms</th>\n",
       "      <th>stretched_denoised_spectrograms</th>\n",
       "      <th>stretched_mfccs</th>\n",
       "      <th>mfccs</th>\n",
       "      <th>freq_spectrograms</th>\n",
       "      <th>ampli_spectrograms</th>\n",
       "    </tr>\n",
       "  </thead>\n",
       "  <tbody>\n",
       "    <tr>\n",
       "      <th>1546</th>\n",
       "      <td>CC</td>\n",
       "      <td>1:00:15.043</td>\n",
       "      <td>0:00.083</td>\n",
       "      <td>decimal</td>\n",
       "      <td>Cue</td>\n",
       "      <td>NaN</td>\n",
       "      <td>3615.043</td>\n",
       "      <td>0.083</td>\n",
       "      <td>3615.126</td>\n",
       "      <td>2017-08-23</td>\n",
       "      <td>...</td>\n",
       "      <td>[-0.0078125, 0.00390625, -0.009765625, -0.0058...</td>\n",
       "      <td>n</td>\n",
       "      <td>[[-5.00301, -5.2624416, -4.9811325, -4.3282547...</td>\n",
       "      <td>[[17.339697, 18.042007, 19.765783, 22.686983, ...</td>\n",
       "      <td>[[-4.989975, -5.0327682, -5.0756702, -5.118683...</td>\n",
       "      <td>[[17.339697, 17.437056, 17.535625, 17.63539, 1...</td>\n",
       "      <td>[[-147.73102, -148.29254, -148.85129, -149.408...</td>\n",
       "      <td>[[-147.81346, -151.1712, -158.07703, -159.4540...</td>\n",
       "      <td>[[0.0, -0.07071686, -0.7117858, -2.3881054, -4...</td>\n",
       "      <td>[[1.6315932, 1.6183634, 1.5032202, 1.2393861, ...</td>\n",
       "    </tr>\n",
       "    <tr>\n",
       "      <th>1547</th>\n",
       "      <td>CC</td>\n",
       "      <td>1:00:35.627</td>\n",
       "      <td>0:00.191</td>\n",
       "      <td>decimal</td>\n",
       "      <td>Cue</td>\n",
       "      <td>NaN</td>\n",
       "      <td>3635.627</td>\n",
       "      <td>0.191</td>\n",
       "      <td>3635.818</td>\n",
       "      <td>2017-08-23</td>\n",
       "      <td>...</td>\n",
       "      <td>[-0.021484375, -0.01953125, -0.015625, -0.0253...</td>\n",
       "      <td>n</td>\n",
       "      <td>[[-2.0994568, -2.1183338, -2.4481869, -2.52930...</td>\n",
       "      <td>[[26.603214, 23.59336, 22.140139, 22.74288, 25...</td>\n",
       "      <td>[[-2.0606213, -2.0682697, -2.0753784, -2.12830...</td>\n",
       "      <td>[[26.603214, 25.222303, 24.038933, 23.166643, ...</td>\n",
       "      <td>[[-181.93117, -178.50516, -174.7108, -170.6093...</td>\n",
       "      <td>[[-182.17676, -172.59605, -161.6688, -155.9510...</td>\n",
       "      <td>[[-1.0441284, -1.0946293, -1.0754423, -0.78855...</td>\n",
       "      <td>[[2.7437742, 2.7278676, 2.7339003, 2.8257058, ...</td>\n",
       "    </tr>\n",
       "    <tr>\n",
       "      <th>1548</th>\n",
       "      <td>CC</td>\n",
       "      <td>1:01:10.577</td>\n",
       "      <td>0:00.145</td>\n",
       "      <td>decimal</td>\n",
       "      <td>Cue</td>\n",
       "      <td>NaN</td>\n",
       "      <td>3670.577</td>\n",
       "      <td>0.145</td>\n",
       "      <td>3670.722</td>\n",
       "      <td>2017-08-23</td>\n",
       "      <td>...</td>\n",
       "      <td>[-0.0390625, -0.037109375, -0.041015625, -0.03...</td>\n",
       "      <td>n</td>\n",
       "      <td>[[-9.536743e-07, -1.0446749, -4.06676, -8.0304...</td>\n",
       "      <td>[[31.281498, 28.889343, 23.64156, 17.571968, 1...</td>\n",
       "      <td>[[-9.536743e-07, -0.29217148, -0.5929651, -0.9...</td>\n",
       "      <td>[[31.281498, 30.432816, 29.691746, 29.071346, ...</td>\n",
       "      <td>[[-198.96457, -194.08725, -189.65915, -185.614...</td>\n",
       "      <td>[[-198.96457, -183.90721, -165.92061, -154.107...</td>\n",
       "      <td>[[0.0, -0.8166323, -3.2810926, -7.3272495, -11...</td>\n",
       "      <td>[[2.9317853, 2.6687052, 2.0094516, 1.2611586, ...</td>\n",
       "    </tr>\n",
       "    <tr>\n",
       "      <th>1549</th>\n",
       "      <td>CC</td>\n",
       "      <td>1:01:14.981</td>\n",
       "      <td>0:00.170</td>\n",
       "      <td>decimal</td>\n",
       "      <td>Cue</td>\n",
       "      <td>NaN</td>\n",
       "      <td>3674.981</td>\n",
       "      <td>0.170</td>\n",
       "      <td>3675.151</td>\n",
       "      <td>2017-08-23</td>\n",
       "      <td>...</td>\n",
       "      <td>[-0.025390625, 0.00390625, 0.009765625, -0.013...</td>\n",
       "      <td>n</td>\n",
       "      <td>[[-17.018482, -14.399429, -10.718897, -8.12332...</td>\n",
       "      <td>[[2.7982006, 4.153269, 6.9078026, 8.030533, 5....</td>\n",
       "      <td>[[-16.858633, -15.932108, -15.038641, -14.1524...</td>\n",
       "      <td>[[2.7982006, 3.4603024, 3.9248753, 4.193083, 4...</td>\n",
       "      <td>[[-128.16917, -125.23002, -121.88672, -118.335...</td>\n",
       "      <td>[[-129.18015, -119.59427, -107.96855, -99.0367...</td>\n",
       "      <td>[[-11.8560095, -13.717634, -23.905739, -18.192...</td>\n",
       "      <td>[[0.24878144, 0.20078753, 0.06213431, 0.119946...</td>\n",
       "    </tr>\n",
       "    <tr>\n",
       "      <th>1550</th>\n",
       "      <td>CC</td>\n",
       "      <td>1:01:43.132</td>\n",
       "      <td>0:00.199</td>\n",
       "      <td>decimal</td>\n",
       "      <td>Cue</td>\n",
       "      <td>NaN</td>\n",
       "      <td>3703.132</td>\n",
       "      <td>0.199</td>\n",
       "      <td>3703.331</td>\n",
       "      <td>2017-08-23</td>\n",
       "      <td>...</td>\n",
       "      <td>[0.06640625, 0.07421875, 0.072265625, 0.072265...</td>\n",
       "      <td>n</td>\n",
       "      <td>[[-4.10198, -4.2462096, -4.7151604, -5.3705378...</td>\n",
       "      <td>[[38.70414, 37.668568, 34.146526, 32.103294, 3...</td>\n",
       "      <td>[[-3.998633, -4.055801, -4.11328, -4.232083, -...</td>\n",
       "      <td>[[38.704136, 38.6391, 37.898544, 37.50364, 35....</td>\n",
       "      <td>[[-263.85715, -261.5207, -258.90497, -255.7164...</td>\n",
       "      <td>[[-264.51077, -258.2024, -249.58273, -239.6587...</td>\n",
       "      <td>[[-0.09283638, -0.20968056, -0.49557304, -0.80...</td>\n",
       "      <td>[[8.666304, 8.550504, 8.273649, 7.9886556, 7.8...</td>\n",
       "    </tr>\n",
       "    <tr>\n",
       "      <th>...</th>\n",
       "      <td>...</td>\n",
       "      <td>...</td>\n",
       "      <td>...</td>\n",
       "      <td>...</td>\n",
       "      <td>...</td>\n",
       "      <td>...</td>\n",
       "      <td>...</td>\n",
       "      <td>...</td>\n",
       "      <td>...</td>\n",
       "      <td>...</td>\n",
       "      <td>...</td>\n",
       "      <td>...</td>\n",
       "      <td>...</td>\n",
       "      <td>...</td>\n",
       "      <td>...</td>\n",
       "      <td>...</td>\n",
       "      <td>...</td>\n",
       "      <td>...</td>\n",
       "      <td>...</td>\n",
       "      <td>...</td>\n",
       "      <td>...</td>\n",
       "    </tr>\n",
       "    <tr>\n",
       "      <th>217</th>\n",
       "      <td>CC</td>\n",
       "      <td>12:39.297</td>\n",
       "      <td>0:00.174</td>\n",
       "      <td>decimal</td>\n",
       "      <td>Cue</td>\n",
       "      <td>NaN</td>\n",
       "      <td>759.297</td>\n",
       "      <td>0.174</td>\n",
       "      <td>759.471</td>\n",
       "      <td>2017-08-25</td>\n",
       "      <td>...</td>\n",
       "      <td>[-0.0025835037, -0.0027515888, -0.002660036, -...</td>\n",
       "      <td>y</td>\n",
       "      <td>[[-15.186894, -12.7891245, -8.431978, -5.06291...</td>\n",
       "      <td>[[18.807339, 21.828865, 26.193953, 28.312477, ...</td>\n",
       "      <td>[[-15.177301, -14.302322, -13.469145, -12.5605...</td>\n",
       "      <td>[[18.807333, 19.919327, 20.98556, 22.045244, 2...</td>\n",
       "      <td>[[-205.83893, -203.28836, -200.68858, -198.103...</td>\n",
       "      <td>[[-205.8996, -198.49306, -191.77025, -189.3087...</td>\n",
       "      <td>[[-5.7071047, -6.062545, -8.973692, -20.621803...</td>\n",
       "      <td>[[2.3219779, 2.2288768, 1.5941484, 0.41698766,...</td>\n",
       "    </tr>\n",
       "    <tr>\n",
       "      <th>218</th>\n",
       "      <td>CC</td>\n",
       "      <td>12:44.866</td>\n",
       "      <td>0:00.195</td>\n",
       "      <td>decimal</td>\n",
       "      <td>Cue</td>\n",
       "      <td>NaN</td>\n",
       "      <td>764.866</td>\n",
       "      <td>0.195</td>\n",
       "      <td>765.061</td>\n",
       "      <td>2017-08-25</td>\n",
       "      <td>...</td>\n",
       "      <td>[0.0015444756, 0.0011434555, 0.0013077259, 0.0...</td>\n",
       "      <td>y</td>\n",
       "      <td>[[-20.449635, -18.413963, -16.414967, -16.2025...</td>\n",
       "      <td>[[14.732758, 16.696594, 15.870899, 14.369507, ...</td>\n",
       "      <td>[[-20.350979, -19.517017, -18.7346, -17.94783,...</td>\n",
       "      <td>[[14.732758, 15.363293, 16.188786, 17.239986, ...</td>\n",
       "      <td>[[-219.14838, -217.0236, -214.62665, -210.4884...</td>\n",
       "      <td>[[-219.77234, -213.81369, -201.2506, -190.0284...</td>\n",
       "      <td>[[-9.031717, -8.741479, -8.249908, -8.381169, ...</td>\n",
       "      <td>[[1.5706258, 1.6239948, 1.7185539, 1.6927785, ...</td>\n",
       "    </tr>\n",
       "    <tr>\n",
       "      <th>219</th>\n",
       "      <td>SN</td>\n",
       "      <td>12:51.564</td>\n",
       "      <td>0:00.068</td>\n",
       "      <td>decimal</td>\n",
       "      <td>Cue</td>\n",
       "      <td>NaN</td>\n",
       "      <td>771.564</td>\n",
       "      <td>0.068</td>\n",
       "      <td>771.632</td>\n",
       "      <td>2017-08-25</td>\n",
       "      <td>...</td>\n",
       "      <td>[0.0023468733, 0.0020455122, 0.0016012192, 0.0...</td>\n",
       "      <td>y</td>\n",
       "      <td>[[-38.084805, -30.097816, -22.465376, -17.8102...</td>\n",
       "      <td>[[4.691105, 12.5629425, 20.171873, 24.800337, ...</td>\n",
       "      <td>[[-38.03222, -36.853714, -35.597187, -34.37663...</td>\n",
       "      <td>[[4.6911087, 6.0039177, 7.320339, 8.4627495, 9...</td>\n",
       "      <td>[[-274.09872, -271.28076, -269.03833, -267.125...</td>\n",
       "      <td>[[-274.4313, -261.09323, -253.72101, -248.9891...</td>\n",
       "      <td>[[-28.700651, -23.888939, -16.93663, -12.18484...</td>\n",
       "      <td>[[0.37727737, 0.65651757, 1.461712, 2.5261028,...</td>\n",
       "    </tr>\n",
       "    <tr>\n",
       "      <th>220</th>\n",
       "      <td>CC</td>\n",
       "      <td>12:52.519</td>\n",
       "      <td>0:00.177</td>\n",
       "      <td>decimal</td>\n",
       "      <td>Cue</td>\n",
       "      <td>NaN</td>\n",
       "      <td>772.519</td>\n",
       "      <td>0.177</td>\n",
       "      <td>772.696</td>\n",
       "      <td>2017-08-25</td>\n",
       "      <td>...</td>\n",
       "      <td>[-0.0076857805, -0.008834124, -0.007942915, -0...</td>\n",
       "      <td>y</td>\n",
       "      <td>[[-26.343994, -25.165546, -23.856241, -23.8682...</td>\n",
       "      <td>[[8.619919, 6.4989185, 5.5433464, 4.537306, 4....</td>\n",
       "      <td>[[-26.33211, -25.907015, -25.490255, -25.06830...</td>\n",
       "      <td>[[8.619917, 7.4487095, 6.908907, 6.5287323, 6....</td>\n",
       "      <td>[[-223.50264, -215.73709, -208.73167, -202.324...</td>\n",
       "      <td>[[-223.5778, -203.62523, -187.18233, -181.5112...</td>\n",
       "      <td>[[-43.810616, -38.615566, -26.046688, -22.6413...</td>\n",
       "      <td>[[0.114130534, 0.20756514, 0.8822634, 1.305769...</td>\n",
       "    </tr>\n",
       "    <tr>\n",
       "      <th>221</th>\n",
       "      <td>CC</td>\n",
       "      <td>13:32.832</td>\n",
       "      <td>0:00.167</td>\n",
       "      <td>decimal</td>\n",
       "      <td>Cue</td>\n",
       "      <td>NaN</td>\n",
       "      <td>812.832</td>\n",
       "      <td>0.167</td>\n",
       "      <td>812.999</td>\n",
       "      <td>2017-08-25</td>\n",
       "      <td>...</td>\n",
       "      <td>[-0.00050497055, -3.385544e-05, 0.0007289648, ...</td>\n",
       "      <td>y</td>\n",
       "      <td>[[-25.694021, -22.987696, -20.001873, -18.8458...</td>\n",
       "      <td>[[17.462095, 19.55367, 19.672424, 21.518757, 1...</td>\n",
       "      <td>[[-25.6658, -24.697351, -23.794052, -22.953194...</td>\n",
       "      <td>[[17.462095, 18.328619, 19.02953, 19.554985, 1...</td>\n",
       "      <td>[[-260.78067, -259.45786, -257.84012, -255.999...</td>\n",
       "      <td>[[-260.95914, -256.19656, -246.99927, -235.603...</td>\n",
       "      <td>[[-16.428352, -17.57064, -21.345413, -32.03649...</td>\n",
       "      <td>[[3.0601518, 2.6830494, 1.7373607, 0.5073831, ...</td>\n",
       "    </tr>\n",
       "  </tbody>\n",
       "</table>\n",
       "<p>20714 rows × 28 columns</p>\n",
       "</div>"
      ],
      "text/plain": [
       "     Name        Start  Duration Time Format Type Description   start_s  \\\n",
       "1546   CC  1:00:15.043  0:00.083     decimal  Cue         NaN  3615.043   \n",
       "1547   CC  1:00:35.627  0:00.191     decimal  Cue         NaN  3635.627   \n",
       "1548   CC  1:01:10.577  0:00.145     decimal  Cue         NaN  3670.577   \n",
       "1549   CC  1:01:14.981  0:00.170     decimal  Cue         NaN  3674.981   \n",
       "1550   CC  1:01:43.132  0:00.199     decimal  Cue         NaN  3703.132   \n",
       "...   ...          ...       ...         ...  ...         ...       ...   \n",
       "217    CC    12:39.297  0:00.174     decimal  Cue         NaN   759.297   \n",
       "218    CC    12:44.866  0:00.195     decimal  Cue         NaN   764.866   \n",
       "219    SN    12:51.564  0:00.068     decimal  Cue         NaN   771.564   \n",
       "220    CC    12:52.519  0:00.177     decimal  Cue         NaN   772.519   \n",
       "221    CC    13:32.832  0:00.167     decimal  Cue         NaN   812.832   \n",
       "\n",
       "      duration_s    stop_s        date  ...  \\\n",
       "1546       0.083  3615.126  2017-08-23  ...   \n",
       "1547       0.191  3635.818  2017-08-23  ...   \n",
       "1548       0.145  3670.722  2017-08-23  ...   \n",
       "1549       0.170  3675.151  2017-08-23  ...   \n",
       "1550       0.199  3703.331  2017-08-23  ...   \n",
       "...          ...       ...         ...  ...   \n",
       "217        0.174   759.471  2017-08-25  ...   \n",
       "218        0.195   765.061  2017-08-25  ...   \n",
       "219        0.068   771.632  2017-08-25  ...   \n",
       "220        0.177   772.696  2017-08-25  ...   \n",
       "221        0.167   812.999  2017-08-25  ...   \n",
       "\n",
       "                                              raw_audio soundfoc_yn  \\\n",
       "1546  [-0.0078125, 0.00390625, -0.009765625, -0.0058...           n   \n",
       "1547  [-0.021484375, -0.01953125, -0.015625, -0.0253...           n   \n",
       "1548  [-0.0390625, -0.037109375, -0.041015625, -0.03...           n   \n",
       "1549  [-0.025390625, 0.00390625, 0.009765625, -0.013...           n   \n",
       "1550  [0.06640625, 0.07421875, 0.072265625, 0.072265...           n   \n",
       "...                                                 ...         ...   \n",
       "217   [-0.0025835037, -0.0027515888, -0.002660036, -...           y   \n",
       "218   [0.0015444756, 0.0011434555, 0.0013077259, 0.0...           y   \n",
       "219   [0.0023468733, 0.0020455122, 0.0016012192, 0.0...           y   \n",
       "220   [-0.0076857805, -0.008834124, -0.007942915, -0...           y   \n",
       "221   [-0.00050497055, -3.385544e-05, 0.0007289648, ...           y   \n",
       "\n",
       "                                           spectrograms  \\\n",
       "1546  [[-5.00301, -5.2624416, -4.9811325, -4.3282547...   \n",
       "1547  [[-2.0994568, -2.1183338, -2.4481869, -2.52930...   \n",
       "1548  [[-9.536743e-07, -1.0446749, -4.06676, -8.0304...   \n",
       "1549  [[-17.018482, -14.399429, -10.718897, -8.12332...   \n",
       "1550  [[-4.10198, -4.2462096, -4.7151604, -5.3705378...   \n",
       "...                                                 ...   \n",
       "217   [[-15.186894, -12.7891245, -8.431978, -5.06291...   \n",
       "218   [[-20.449635, -18.413963, -16.414967, -16.2025...   \n",
       "219   [[-38.084805, -30.097816, -22.465376, -17.8102...   \n",
       "220   [[-26.343994, -25.165546, -23.856241, -23.8682...   \n",
       "221   [[-25.694021, -22.987696, -20.001873, -18.8458...   \n",
       "\n",
       "                                  denoised_spectrograms  \\\n",
       "1546  [[17.339697, 18.042007, 19.765783, 22.686983, ...   \n",
       "1547  [[26.603214, 23.59336, 22.140139, 22.74288, 25...   \n",
       "1548  [[31.281498, 28.889343, 23.64156, 17.571968, 1...   \n",
       "1549  [[2.7982006, 4.153269, 6.9078026, 8.030533, 5....   \n",
       "1550  [[38.70414, 37.668568, 34.146526, 32.103294, 3...   \n",
       "...                                                 ...   \n",
       "217   [[18.807339, 21.828865, 26.193953, 28.312477, ...   \n",
       "218   [[14.732758, 16.696594, 15.870899, 14.369507, ...   \n",
       "219   [[4.691105, 12.5629425, 20.171873, 24.800337, ...   \n",
       "220   [[8.619919, 6.4989185, 5.5433464, 4.537306, 4....   \n",
       "221   [[17.462095, 19.55367, 19.672424, 21.518757, 1...   \n",
       "\n",
       "                                 stretched_spectrograms  \\\n",
       "1546  [[-4.989975, -5.0327682, -5.0756702, -5.118683...   \n",
       "1547  [[-2.0606213, -2.0682697, -2.0753784, -2.12830...   \n",
       "1548  [[-9.536743e-07, -0.29217148, -0.5929651, -0.9...   \n",
       "1549  [[-16.858633, -15.932108, -15.038641, -14.1524...   \n",
       "1550  [[-3.998633, -4.055801, -4.11328, -4.232083, -...   \n",
       "...                                                 ...   \n",
       "217   [[-15.177301, -14.302322, -13.469145, -12.5605...   \n",
       "218   [[-20.350979, -19.517017, -18.7346, -17.94783,...   \n",
       "219   [[-38.03222, -36.853714, -35.597187, -34.37663...   \n",
       "220   [[-26.33211, -25.907015, -25.490255, -25.06830...   \n",
       "221   [[-25.6658, -24.697351, -23.794052, -22.953194...   \n",
       "\n",
       "                        stretched_denoised_spectrograms  \\\n",
       "1546  [[17.339697, 17.437056, 17.535625, 17.63539, 1...   \n",
       "1547  [[26.603214, 25.222303, 24.038933, 23.166643, ...   \n",
       "1548  [[31.281498, 30.432816, 29.691746, 29.071346, ...   \n",
       "1549  [[2.7982006, 3.4603024, 3.9248753, 4.193083, 4...   \n",
       "1550  [[38.704136, 38.6391, 37.898544, 37.50364, 35....   \n",
       "...                                                 ...   \n",
       "217   [[18.807333, 19.919327, 20.98556, 22.045244, 2...   \n",
       "218   [[14.732758, 15.363293, 16.188786, 17.239986, ...   \n",
       "219   [[4.6911087, 6.0039177, 7.320339, 8.4627495, 9...   \n",
       "220   [[8.619917, 7.4487095, 6.908907, 6.5287323, 6....   \n",
       "221   [[17.462095, 18.328619, 19.02953, 19.554985, 1...   \n",
       "\n",
       "                                        stretched_mfccs  \\\n",
       "1546  [[-147.73102, -148.29254, -148.85129, -149.408...   \n",
       "1547  [[-181.93117, -178.50516, -174.7108, -170.6093...   \n",
       "1548  [[-198.96457, -194.08725, -189.65915, -185.614...   \n",
       "1549  [[-128.16917, -125.23002, -121.88672, -118.335...   \n",
       "1550  [[-263.85715, -261.5207, -258.90497, -255.7164...   \n",
       "...                                                 ...   \n",
       "217   [[-205.83893, -203.28836, -200.68858, -198.103...   \n",
       "218   [[-219.14838, -217.0236, -214.62665, -210.4884...   \n",
       "219   [[-274.09872, -271.28076, -269.03833, -267.125...   \n",
       "220   [[-223.50264, -215.73709, -208.73167, -202.324...   \n",
       "221   [[-260.78067, -259.45786, -257.84012, -255.999...   \n",
       "\n",
       "                                                  mfccs  \\\n",
       "1546  [[-147.81346, -151.1712, -158.07703, -159.4540...   \n",
       "1547  [[-182.17676, -172.59605, -161.6688, -155.9510...   \n",
       "1548  [[-198.96457, -183.90721, -165.92061, -154.107...   \n",
       "1549  [[-129.18015, -119.59427, -107.96855, -99.0367...   \n",
       "1550  [[-264.51077, -258.2024, -249.58273, -239.6587...   \n",
       "...                                                 ...   \n",
       "217   [[-205.8996, -198.49306, -191.77025, -189.3087...   \n",
       "218   [[-219.77234, -213.81369, -201.2506, -190.0284...   \n",
       "219   [[-274.4313, -261.09323, -253.72101, -248.9891...   \n",
       "220   [[-223.5778, -203.62523, -187.18233, -181.5112...   \n",
       "221   [[-260.95914, -256.19656, -246.99927, -235.603...   \n",
       "\n",
       "                                      freq_spectrograms  \\\n",
       "1546  [[0.0, -0.07071686, -0.7117858, -2.3881054, -4...   \n",
       "1547  [[-1.0441284, -1.0946293, -1.0754423, -0.78855...   \n",
       "1548  [[0.0, -0.8166323, -3.2810926, -7.3272495, -11...   \n",
       "1549  [[-11.8560095, -13.717634, -23.905739, -18.192...   \n",
       "1550  [[-0.09283638, -0.20968056, -0.49557304, -0.80...   \n",
       "...                                                 ...   \n",
       "217   [[-5.7071047, -6.062545, -8.973692, -20.621803...   \n",
       "218   [[-9.031717, -8.741479, -8.249908, -8.381169, ...   \n",
       "219   [[-28.700651, -23.888939, -16.93663, -12.18484...   \n",
       "220   [[-43.810616, -38.615566, -26.046688, -22.6413...   \n",
       "221   [[-16.428352, -17.57064, -21.345413, -32.03649...   \n",
       "\n",
       "                                     ampli_spectrograms  \n",
       "1546  [[1.6315932, 1.6183634, 1.5032202, 1.2393861, ...  \n",
       "1547  [[2.7437742, 2.7278676, 2.7339003, 2.8257058, ...  \n",
       "1548  [[2.9317853, 2.6687052, 2.0094516, 1.2611586, ...  \n",
       "1549  [[0.24878144, 0.20078753, 0.06213431, 0.119946...  \n",
       "1550  [[8.666304, 8.550504, 8.273649, 7.9886556, 7.8...  \n",
       "...                                                 ...  \n",
       "217   [[2.3219779, 2.2288768, 1.5941484, 0.41698766,...  \n",
       "218   [[1.5706258, 1.6239948, 1.7185539, 1.6927785, ...  \n",
       "219   [[0.37727737, 0.65651757, 1.461712, 2.5261028,...  \n",
       "220   [[0.114130534, 0.20756514, 0.8822634, 1.305769...  \n",
       "221   [[3.0601518, 2.6830494, 1.7373607, 0.5073831, ...  \n",
       "\n",
       "[20714 rows x 28 columns]"
      ]
     },
     "execution_count": 30,
     "metadata": {},
     "output_type": "execute_result"
    }
   ],
   "source": [
    "df"
   ]
  },
  {
   "cell_type": "markdown",
   "metadata": {
    "id": "0WMR5FiGjSsF"
   },
   "source": [
    "### Remove hybrids and save in separate dataset"
   ]
  },
  {
   "cell_type": "code",
   "execution_count": 31,
   "metadata": {},
   "outputs": [
    {
     "data": {
      "text/plain": [
       "(992, 28)"
      ]
     },
     "execution_count": 31,
     "metadata": {},
     "output_type": "execute_result"
    }
   ],
   "source": [
    "# Make separate hybrids dataset & save\n",
    "df_hybrids = df.loc[df.call_lable == 'fu/hyb',:].copy()\n",
    "df_hybrids.to_pickle(os.path.join(os.path.sep, DATA, \"df_hybrids.pkl\"))\n",
    "df_hybrids.shape"
   ]
  },
  {
   "cell_type": "code",
   "execution_count": 32,
   "metadata": {},
   "outputs": [
    {
     "data": {
      "text/plain": [
       "(19722, 28)"
      ]
     },
     "execution_count": 32,
     "metadata": {},
     "output_type": "execute_result"
    }
   ],
   "source": [
    "# Remove hybrids from main dataset\n",
    "df = df.loc[df.call_lable != 'fu/hyb',:]\n",
    "df.shape"
   ]
  },
  {
   "cell_type": "markdown",
   "metadata": {},
   "source": [
    "### Inspect class frequencies"
   ]
  },
  {
   "cell_type": "code",
   "execution_count": 21,
   "metadata": {},
   "outputs": [
    {
     "name": "stdout",
     "output_type": "stream",
     "text": [
      "Saved as:  /home/mthomas/Documents/MPI_work/projects/meerkat/meerkat_umap/meerkat_umap/reports/figures/labelcounts_full.png\n"
     ]
    },
    {
     "data": {
      "image/png": "[encoded data removed]",
      "text/plain": [
       "<Figure size 432x288 with 1 Axes>"
      ]
     },
     "metadata": {
      "needs_background": "light"
     },
     "output_type": "display_data"
    }
   ],
   "source": [
    "dftype='full'\n",
    "\n",
    "labelcounts = pd.DataFrame(df['call_lable'].value_counts())\n",
    "labelcounts.sort_index(inplace=True)\n",
    "pal = sns.color_palette(\"Set2\", n_colors=len(labelcounts.index))\n",
    "plt.barh(labelcounts.index, labelcounts.call_lable.values, color = pal)\n",
    "\n",
    "for index, value in enumerate(labelcounts.call_lable.values):\n",
    "    plt.text(value, index, str(value))\n",
    "\n",
    "plt.title(dftype.capitalize()+' dataset (N='+str(df.shape[0])+')')\n",
    "plt.ylabel('Labels')\n",
    "plt.xlabel('Frequencies')\n",
    "plt.xlim(0,21500)\n",
    "#plt.show()\n",
    "outpath = os.path.join(os.path.sep, FIGURES, \"labelcounts_\"+dftype+\".png\")\n",
    "plt.savefig(outpath, facecolor='w')\n",
    "print(\"Saved as: \", outpath)"
   ]
  },
  {
   "cell_type": "markdown",
   "metadata": {},
   "source": [
    "Quite heavy overrepresentation of cc calls."
   ]
  },
  {
   "cell_type": "code",
   "execution_count": 33,
   "metadata": {},
   "outputs": [],
   "source": [
    "df.to_pickle(os.path.join(os.path.sep, DATA, \"df_focal_full.pkl\"))"
   ]
  },
  {
   "cell_type": "markdown",
   "metadata": {},
   "source": [
    "#### Create a cc reduced dataset"
   ]
  },
  {
   "cell_type": "code",
   "execution_count": 34,
   "metadata": {},
   "outputs": [],
   "source": [
    "wo_cc_df = df[df.call_lable != 'cc']\n",
    "cc_df = df[df.call_lable == 'cc']\n",
    "cc_subset = cc_df.sample(frac=0.1, replace=False, random_state=1)\n",
    "df = pd.concat((wo_cc_df, cc_subset), ignore_index=False, axis=0)\n",
    "\n",
    "dftype='reduced'"
   ]
  },
  {
   "cell_type": "code",
   "execution_count": 10,
   "metadata": {},
   "outputs": [
    {
     "name": "stdout",
     "output_type": "stream",
     "text": [
      "Saved as:  /home/mthomas/Documents/MPI_work/projects/meerkat/meerkat_umap/meerkat_umap/reports/figures/labelcounts_reduced.png\n"
     ]
    },
    {
     "data": {
      "image/png": "[encoded data removed]",
      "text/plain": [
       "<Figure size 432x288 with 1 Axes>"
      ]
     },
     "metadata": {
      "needs_background": "light"
     },
     "output_type": "display_data"
    }
   ],
   "source": [
    "labelcounts = pd.DataFrame(df['call_lable'].value_counts())\n",
    "labelcounts.sort_index(inplace=True)\n",
    "pal = sns.color_palette(\"Set2\", n_colors=len(labelcounts.index))\n",
    "plt.barh(labelcounts.index, labelcounts.call_lable.values, color = pal)\n",
    "\n",
    "for index, value in enumerate(labelcounts.call_lable.values):\n",
    "    plt.text(value, index, str(value))\n",
    "\n",
    "plt.title(dftype.capitalize()+' dataset (N='+str(df.shape[0])+')')\n",
    "plt.ylabel('Labels')\n",
    "plt.xlabel('Frequencies')\n",
    "plt.xlim(0,21500)\n",
    "#plt.show()\n",
    "outpath = os.path.join(os.path.sep, FIGURES, \"labelcounts_\"+dftype+\".png\")\n",
    "plt.savefig(outpath, facecolor='w')\n",
    "print(\"Saved as: \", outpath)"
   ]
  },
  {
   "cell_type": "code",
   "execution_count": 35,
   "metadata": {},
   "outputs": [],
   "source": [
    "df.to_pickle(os.path.join(os.path.sep, DATA, \"df_focal_reduced.pkl\"))"
   ]
  },
  {
   "cell_type": "markdown",
   "metadata": {},
   "source": [
    "#### Create a completely balanced dataset"
   ]
  },
  {
   "cell_type": "code",
   "execution_count": 36,
   "metadata": {},
   "outputs": [
    {
     "name": "stdout",
     "output_type": "stream",
     "text": [
      "sn : 1855 : 0.08840970350404313\n",
      "cc : 1477 : 0.11103588354773189\n",
      "soc : 1154 : 0.14211438474870017\n",
      "mo : 759 : 0.2160737812911726\n",
      "al : 646 : 0.25386996904024767\n",
      "agg : 375 : 0.43733333333333335\n",
      "ld : 164 : 1.0\n"
     ]
    }
   ],
   "source": [
    "labelcounts = pd.DataFrame(df['call_lable'].value_counts())\n",
    "class_size = np.min(labelcounts.call_lable.values)\n",
    "\n",
    "subsets = []\n",
    "for label, num in zip(labelcounts.index, labelcounts.call_lable.values):\n",
    "    print(label, \":\", num, \":\", class_size/num)\n",
    "    subsets.append(df[df.call_lable == label].sample(frac=(class_size/num), replace=False, random_state=1))\n",
    "\n",
    "df = pd.concat(subsets, axis=0)\n",
    "dftype = 'balanced'"
   ]
  },
  {
   "cell_type": "code",
   "execution_count": 37,
   "metadata": {},
   "outputs": [
    {
     "name": "stdout",
     "output_type": "stream",
     "text": [
      "Saved as:  /home/mthomas/Documents/MPI_work/projects/meerkat/meerkat_umap/meerkat_umap/reports/figures/labelcounts_balanced.png\n"
     ]
    },
    {
     "data": {
      "image/png": "[encoded data removed]",
      "text/plain": [
       "<Figure size 432x288 with 1 Axes>"
      ]
     },
     "metadata": {
      "needs_background": "light"
     },
     "output_type": "display_data"
    }
   ],
   "source": [
    "labelcounts = pd.DataFrame(df['call_lable'].value_counts())\n",
    "labelcounts.sort_index(inplace=True)\n",
    "pal = sns.color_palette(\"Set2\", n_colors=len(labelcounts.index))\n",
    "plt.barh(labelcounts.index, labelcounts.call_lable.values, color = pal)\n",
    "\n",
    "for index, value in enumerate(labelcounts.call_lable.values):\n",
    "    plt.text(value, index, str(value))\n",
    "\n",
    "plt.title(dftype.capitalize()+' dataset (N='+str(df.shape[0])+')')\n",
    "plt.ylabel('Labels')\n",
    "plt.xlabel('Frequencies')\n",
    "plt.xlim(0,21500)\n",
    "#plt.show()\n",
    "outpath = os.path.join(os.path.sep, FIGURES, \"labelcounts_\"+dftype+\".png\")\n",
    "plt.savefig(outpath, facecolor='w')\n",
    "print(\"Saved as: \", outpath)"
   ]
  },
  {
   "cell_type": "code",
   "execution_count": 38,
   "metadata": {},
   "outputs": [],
   "source": [
    "df.to_pickle(os.path.join(os.path.sep, DATA, \"df_focal_balanced.pkl\"))"
   ]
  },
  {
   "cell_type": "code",
   "execution_count": null,
   "metadata": {},
   "outputs": [],
   "source": []
  }
 ],
 "metadata": {
  "colab": {
   "authorship_tag": "ABX9TyM3m5TY5s3swxy7IlwW5eKr",
   "collapsed_sections": [
    "esZjhqJM8d09"
   ],
   "mount_file_id": "1jjQYd-4PmOwBo0wd9ypz2eU6vvFHJ1gV",
   "name": "01_meerkat_audio_to_df.ipynb",
   "provenance": [
    {
     "file_id": "124n_3kPigqSAruudn6PKtKARZqNZOyeu",
     "timestamp": 1591815571002
    }
   ],
   "toc_visible": true
  },
  "kernelspec": {
   "display_name": "Python 3",
   "language": "python",
   "name": "python3"
  },
  "language_info": {
   "codemirror_mode": {
    "name": "ipython",
    "version": 3
   },
   "file_extension": ".py",
   "mimetype": "text/x-python",
   "name": "python",
   "nbconvert_exporter": "python",
   "pygments_lexer": "ipython3",
   "version": "3.7.10"
  },
  "widgets": {
   "application/vnd.jupyter.widget-state+json": {
    "07d8cf04c68c4613b318f999d6ca8553": {
     "model_module": "@jupyter-widgets/base",
     "model_name": "LayoutModel",
     "state": {
      "_model_module": "@jupyter-widgets/base",
      "_model_module_version": "1.2.0",
      "_model_name": "LayoutModel",
      "_view_count": null,
      "_view_module": "@jupyter-widgets/base",
      "_view_module_version": "1.2.0",
      "_view_name": "LayoutView",
      "align_content": null,
      "align_items": null,
      "align_self": null,
      "border": null,
      "bottom": null,
      "display": null,
      "flex": null,
      "flex_flow": null,
      "grid_area": null,
      "grid_auto_columns": null,
      "grid_auto_flow": null,
      "grid_auto_rows": null,
      "grid_column": null,
      "grid_gap": null,
      "grid_row": null,
      "grid_template_areas": null,
      "grid_template_columns": null,
      "grid_template_rows": null,
      "height": null,
      "justify_content": null,
      "justify_items": null,
      "left": null,
      "margin": null,
      "max_height": null,
      "max_width": null,
      "min_height": null,
      "min_width": null,
      "object_fit": null,
      "object_position": null,
      "order": null,
      "overflow": null,
      "overflow_x": null,
      "overflow_y": null,
      "padding": null,
      "right": null,
      "top": null,
      "visibility": null,
      "width": null
     }
    },
    "13c2ac37be5045e19f25a7b4151ee032": {
     "model_module": "@jupyter-widgets/controls",
     "model_name": "ProgressStyleModel",
     "state": {
      "_model_module": "@jupyter-widgets/controls",
      "_model_module_version": "1.5.0",
      "_model_name": "ProgressStyleModel",
      "_view_count": null,
      "_view_module": "@jupyter-widgets/base",
      "_view_module_version": "1.2.0",
      "_view_name": "StyleView",
      "bar_color": null,
      "description_width": "initial"
     }
    },
    "23e14c405bef4ab99e97ea5c68b84fd1": {
     "model_module": "@jupyter-widgets/controls",
     "model_name": "HBoxModel",
     "state": {
      "_dom_classes": [],
      "_model_module": "@jupyter-widgets/controls",
      "_model_module_version": "1.5.0",
      "_model_name": "HBoxModel",
      "_view_count": null,
      "_view_module": "@jupyter-widgets/controls",
      "_view_module_version": "1.5.0",
      "_view_name": "HBoxView",
      "box_style": "",
      "children": [
       "IPY_MODEL_ec8ef59d7f48423588c9d9eea9633b76",
       "IPY_MODEL_b910c1c8e7c94eb498f9879168d7ff23"
      ],
      "layout": "IPY_MODEL_7d8d6be168c84e509a28660682a5686b"
     }
    },
    "489b6def7a764745b61f1ebb9195a60d": {
     "model_module": "@jupyter-widgets/base",
     "model_name": "LayoutModel",
     "state": {
      "_model_module": "@jupyter-widgets/base",
      "_model_module_version": "1.2.0",
      "_model_name": "LayoutModel",
      "_view_count": null,
      "_view_module": "@jupyter-widgets/base",
      "_view_module_version": "1.2.0",
      "_view_name": "LayoutView",
      "align_content": null,
      "align_items": null,
      "align_self": null,
      "border": null,
      "bottom": null,
      "display": null,
      "flex": null,
      "flex_flow": null,
      "grid_area": null,
      "grid_auto_columns": null,
      "grid_auto_flow": null,
      "grid_auto_rows": null,
      "grid_column": null,
      "grid_gap": null,
      "grid_row": null,
      "grid_template_areas": null,
      "grid_template_columns": null,
      "grid_template_rows": null,
      "height": null,
      "justify_content": null,
      "justify_items": null,
      "left": null,
      "margin": null,
      "max_height": null,
      "max_width": null,
      "min_height": null,
      "min_width": null,
      "object_fit": null,
      "object_position": null,
      "order": null,
      "overflow": null,
      "overflow_x": null,
      "overflow_y": null,
      "padding": null,
      "right": null,
      "top": null,
      "visibility": null,
      "width": null
     }
    },
    "7d8d6be168c84e509a28660682a5686b": {
     "model_module": "@jupyter-widgets/base",
     "model_name": "LayoutModel",
     "state": {
      "_model_module": "@jupyter-widgets/base",
      "_model_module_version": "1.2.0",
      "_model_name": "LayoutModel",
      "_view_count": null,
      "_view_module": "@jupyter-widgets/base",
      "_view_module_version": "1.2.0",
      "_view_name": "LayoutView",
      "align_content": null,
      "align_items": null,
      "align_self": null,
      "border": null,
      "bottom": null,
      "display": null,
      "flex": null,
      "flex_flow": null,
      "grid_area": null,
      "grid_auto_columns": null,
      "grid_auto_flow": null,
      "grid_auto_rows": null,
      "grid_column": null,
      "grid_gap": null,
      "grid_row": null,
      "grid_template_areas": null,
      "grid_template_columns": null,
      "grid_template_rows": null,
      "height": null,
      "justify_content": null,
      "justify_items": null,
      "left": null,
      "margin": null,
      "max_height": null,
      "max_width": null,
      "min_height": null,
      "min_width": null,
      "object_fit": null,
      "object_position": null,
      "order": null,
      "overflow": null,
      "overflow_x": null,
      "overflow_y": null,
      "padding": null,
      "right": null,
      "top": null,
      "visibility": null,
      "width": null
     }
    },
    "b910c1c8e7c94eb498f9879168d7ff23": {
     "model_module": "@jupyter-widgets/controls",
     "model_name": "HTMLModel",
     "state": {
      "_dom_classes": [],
      "_model_module": "@jupyter-widgets/controls",
      "_model_module_version": "1.5.0",
      "_model_name": "HTMLModel",
      "_view_count": null,
      "_view_module": "@jupyter-widgets/controls",
      "_view_module_version": "1.5.0",
      "_view_name": "HTMLView",
      "description": "",
      "description_tooltip": null,
      "layout": "IPY_MODEL_489b6def7a764745b61f1ebb9195a60d",
      "placeholder": "​",
      "style": "IPY_MODEL_ba4982e241414610b9662c4a67f2c170",
      "value": " 49/? [00:00&lt;00:00, 999.54it/s]"
     }
    },
    "ba4982e241414610b9662c4a67f2c170": {
     "model_module": "@jupyter-widgets/controls",
     "model_name": "DescriptionStyleModel",
     "state": {
      "_model_module": "@jupyter-widgets/controls",
      "_model_module_version": "1.5.0",
      "_model_name": "DescriptionStyleModel",
      "_view_count": null,
      "_view_module": "@jupyter-widgets/base",
      "_view_module_version": "1.2.0",
      "_view_name": "StyleView",
      "description_width": ""
     }
    },
    "ec8ef59d7f48423588c9d9eea9633b76": {
     "model_module": "@jupyter-widgets/controls",
     "model_name": "FloatProgressModel",
     "state": {
      "_dom_classes": [],
      "_model_module": "@jupyter-widgets/controls",
      "_model_module_version": "1.5.0",
      "_model_name": "FloatProgressModel",
      "_view_count": null,
      "_view_module": "@jupyter-widgets/controls",
      "_view_module_version": "1.5.0",
      "_view_name": "ProgressView",
      "bar_style": "success",
      "description": "",
      "description_tooltip": null,
      "layout": "IPY_MODEL_07d8cf04c68c4613b318f999d6ca8553",
      "max": 1,
      "min": 0,
      "orientation": "horizontal",
      "style": "IPY_MODEL_13c2ac37be5045e19f25a7b4151ee032",
      "value": 1
     }
    }
   }
  }
 },
 "nbformat": 4,
 "nbformat_minor": 4
}
